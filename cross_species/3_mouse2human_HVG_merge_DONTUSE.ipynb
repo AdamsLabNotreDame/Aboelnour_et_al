{
 "cells": [
  {
   "cell_type": "code",
   "execution_count": 1,
   "id": "b4d1ce23",
   "metadata": {},
   "outputs": [],
   "source": [
    "import scanpy as sc\n",
    "import pandas as pd\n",
    "import numpy as np\n",
    "from collections import defaultdict\n",
    "from scipy.io import mmread\n",
    "from scipy.sparse import csr_matrix\n",
    "import pickle as pkl\n",
    "import seaborn as sns\n",
    "\n",
    "from sklearn.metrics.pairwise import euclidean_distances\n",
    "from scipy.stats import mannwhitneyu\n",
    "from statsmodels.stats.multitest import multipletests\n",
    "\n",
    "import gc\n",
    "\n",
    "from matplotlib import rcParams\n",
    "import matplotlib.pyplot as plt\n",
    "import seaborn as sb\n",
    "#import seaborn as sns\n",
    "\n",
    "import scib_metrics as sm\n",
    "import sys\n",
    "import os\n",
    "sys.path.append('/'.join(os.getcwd().split('/')[:-1]+['eval','cleaned','']))\n",
    "#from metrics import ilisi,asw_batch\n",
    "\n",
    "%load_ext autoreload\n",
    "%autoreload 2\n",
    "\n",
    "pd.set_option('display.max_columns', None)\n",
    "\n",
    "# Define the path to the directory you want to change to\n",
    "new_directory = '/scratch365/eaboelno/Integration_NEW'\n",
    "\n",
    "# Use os.chdir() to change the working directory\n",
    "os.chdir(new_directory)"
   ]
  },
  {
   "cell_type": "markdown",
   "id": "5ef8885f",
   "metadata": {},
   "source": [
    "# Testing layers and raw and .X in adata"
   ]
  },
  {
   "cell_type": "code",
   "execution_count": 2,
   "id": "1c9f2a21",
   "metadata": {},
   "outputs": [],
   "source": [
    "adata = sc.read_h5ad('./cVAE_analysis/human_mouse/adata_m2h_simplified_labeled.h5ad')"
   ]
  },
  {
   "cell_type": "code",
   "execution_count": 3,
   "id": "3a9976ec",
   "metadata": {},
   "outputs": [
    {
     "data": {
      "text/plain": [
       "AnnData object with n_obs × n_vars = 21541 × 22564\n",
       "    obs: 'sample_id', 'publication', 'sample_id_anon', 'individual_id_anon', 'replicate', 'treatment', 'condition', 'tissue', 'time', 'batch', 'lesion_type', 'sample_source', 'diagnosis', 'n_genes_by_counts', 'total_counts', 'pct_counts_mt', 'pct_counts_ribo', 's_score', 'g2m_score', 'phase', 'type_fine', 'type_broad', 'cluster_zoom', 'exclude_pseudobulk', 'seq_pool', 'sex', 'age_at_death', 'smoker', 'cause_of_death', 'years_w_ms', 'pmi_minutes', 'age_scale', 'age_cat', 'pmi_cat', 'pmi_cat2', 'cell_cycle_diff', 'cell_type_eval', 'library_type', 'sample_type', 'organism', 'system'\n",
       "    var: 'mouse_gene_id', 'n_cells', 'mouse_gene_name', 'human_gene_name', 'human_gene_id'\n",
       "    layers: 'counts', 'log1p_norm'"
      ]
     },
     "execution_count": 3,
     "metadata": {},
     "output_type": "execute_result"
    }
   ],
   "source": [
    "adata"
   ]
  },
  {
   "cell_type": "code",
   "execution_count": 4,
   "id": "2e87a29a",
   "metadata": {
    "scrolled": true
   },
   "outputs": [
    {
     "name": "stdout",
     "output_type": "stream",
     "text": [
      "  (0, 3)\t0.29292664\n"
     ]
    }
   ],
   "source": [
    "print(adata.X[:5, :5])"
   ]
  },
  {
   "cell_type": "code",
   "execution_count": 5,
   "id": "c6cb23b7",
   "metadata": {},
   "outputs": [
    {
     "name": "stdout",
     "output_type": "stream",
     "text": [
      "  (0, 3)\t0.29292664\n"
     ]
    }
   ],
   "source": [
    "print(adata.raw.X[:5, :5])"
   ]
  },
  {
   "cell_type": "code",
   "execution_count": 6,
   "id": "64a27ae8",
   "metadata": {},
   "outputs": [
    {
     "name": "stdout",
     "output_type": "stream",
     "text": [
      "Type of data in .raw attribute: <class 'anndata._core.raw.Raw'>\n"
     ]
    }
   ],
   "source": [
    "print(\"Type of data in .raw attribute:\", type(adata.raw))"
   ]
  },
  {
   "cell_type": "code",
   "execution_count": 7,
   "id": "befae61b",
   "metadata": {},
   "outputs": [
    {
     "name": "stdout",
     "output_type": "stream",
     "text": [
      "Type of data in .X attribute: <class 'scipy.sparse._csr.csr_matrix'>\n"
     ]
    }
   ],
   "source": [
    "print(\"Type of data in .X attribute:\", type(adata.X))"
   ]
  },
  {
   "cell_type": "code",
   "execution_count": 8,
   "id": "6cfa3859",
   "metadata": {},
   "outputs": [],
   "source": [
    "adata.X = adata.layers['counts']\n",
    "del adata.layers[\"log1p_norm\"]"
   ]
  },
  {
   "cell_type": "code",
   "execution_count": 9,
   "id": "9c8e76b4",
   "metadata": {},
   "outputs": [
    {
     "data": {
      "text/plain": [
       "View of AnnData object with n_obs × n_vars = 21541 × 19107\n",
       "    obs: 'sample_id', 'publication', 'sample_id_anon', 'individual_id_anon', 'replicate', 'treatment', 'condition', 'tissue', 'time', 'batch', 'lesion_type', 'sample_source', 'diagnosis', 'n_genes_by_counts', 'total_counts', 'pct_counts_mt', 'pct_counts_ribo', 's_score', 'g2m_score', 'phase', 'type_fine', 'type_broad', 'cluster_zoom', 'exclude_pseudobulk', 'seq_pool', 'sex', 'age_at_death', 'smoker', 'cause_of_death', 'years_w_ms', 'pmi_minutes', 'age_scale', 'age_cat', 'pmi_cat', 'pmi_cat2', 'cell_cycle_diff', 'cell_type_eval', 'library_type', 'sample_type', 'organism', 'system'\n",
       "    var: 'mouse_gene_id', 'n_cells', 'mouse_gene_name', 'human_gene_name', 'human_gene_id'\n",
       "    layers: 'counts'"
      ]
     },
     "execution_count": 9,
     "metadata": {},
     "output_type": "execute_result"
    }
   ],
   "source": [
    "adata=adata[:,np.array((adata.X>0).sum(axis=0)>20).ravel()]\n",
    "adata"
   ]
  },
  {
   "cell_type": "code",
   "execution_count": 10,
   "id": "ec9fed68",
   "metadata": {},
   "outputs": [
    {
     "name": "stdout",
     "output_type": "stream",
     "text": [
      "  (0, 2)\t1\n",
      "  (1, 4)\t5\n",
      "  (2, 4)\t1\n",
      "  (3, 4)\t3\n",
      "  (4, 4)\t3\n"
     ]
    }
   ],
   "source": [
    "print(adata.X[:5, :5])"
   ]
  },
  {
   "cell_type": "code",
   "execution_count": 11,
   "id": "b81b1358",
   "metadata": {},
   "outputs": [
    {
     "name": "stdout",
     "output_type": "stream",
     "text": [
      "  (0, 3)\t0.29292664\n"
     ]
    }
   ],
   "source": [
    "print(adata.raw.X[:5, :5])"
   ]
  },
  {
   "cell_type": "code",
   "execution_count": 12,
   "id": "d32193a5",
   "metadata": {},
   "outputs": [],
   "source": [
    "del adata.raw"
   ]
  },
  {
   "cell_type": "code",
   "execution_count": 13,
   "id": "ad0e3300",
   "metadata": {},
   "outputs": [
    {
     "ename": "AttributeError",
     "evalue": "'NoneType' object has no attribute 'X'",
     "output_type": "error",
     "traceback": [
      "\u001b[0;31m---------------------------------------------------------------------------\u001b[0m",
      "\u001b[0;31mAttributeError\u001b[0m                            Traceback (most recent call last)",
      "Cell \u001b[0;32mIn[13], line 1\u001b[0m\n\u001b[0;32m----> 1\u001b[0m \u001b[38;5;28mprint\u001b[39m(\u001b[43madata\u001b[49m\u001b[38;5;241;43m.\u001b[39;49m\u001b[43mraw\u001b[49m\u001b[38;5;241;43m.\u001b[39;49m\u001b[43mX\u001b[49m[:\u001b[38;5;241m5\u001b[39m, :\u001b[38;5;241m5\u001b[39m])\n",
      "\u001b[0;31mAttributeError\u001b[0m: 'NoneType' object has no attribute 'X'"
     ]
    }
   ],
   "source": [
    "print(adata.raw.X[:5, :5])"
   ]
  },
  {
   "cell_type": "code",
   "execution_count": 14,
   "id": "593ad7a9",
   "metadata": {},
   "outputs": [],
   "source": [
    "adata.raw = adata"
   ]
  },
  {
   "cell_type": "code",
   "execution_count": 15,
   "id": "991a02f8",
   "metadata": {},
   "outputs": [
    {
     "name": "stdout",
     "output_type": "stream",
     "text": [
      "  (0, 2)\t1\n",
      "  (1, 4)\t5\n",
      "  (2, 4)\t1\n",
      "  (3, 4)\t3\n",
      "  (4, 4)\t3\n"
     ]
    }
   ],
   "source": [
    "print(adata.raw.X[:5, :5])"
   ]
  },
  {
   "cell_type": "code",
   "execution_count": 16,
   "id": "a34cf87b",
   "metadata": {},
   "outputs": [
    {
     "name": "stdout",
     "output_type": "stream",
     "text": [
      "Type of data in .X attribute: <class 'scipy.sparse._csr.csr_matrix'>\n"
     ]
    }
   ],
   "source": [
    "print(\"Type of data in .X attribute:\", type(adata.X))"
   ]
  },
  {
   "cell_type": "code",
   "execution_count": 17,
   "id": "20f8ba09",
   "metadata": {},
   "outputs": [
    {
     "name": "stdout",
     "output_type": "stream",
     "text": [
      "Type of data in .raw attribute: <class 'anndata._core.raw.Raw'>\n"
     ]
    }
   ],
   "source": [
    "print(\"Type of data in .raw attribute:\", type(adata.raw))"
   ]
  },
  {
   "cell_type": "code",
   "execution_count": null,
   "id": "01d14250",
   "metadata": {},
   "outputs": [],
   "source": []
  },
  {
   "cell_type": "markdown",
   "id": "333676e6",
   "metadata": {},
   "source": [
    "# Set up data for integrations- HVG"
   ]
  },
  {
   "cell_type": "code",
   "execution_count": 18,
   "id": "25185f62",
   "metadata": {},
   "outputs": [],
   "source": [
    "sc.pp.normalize_total(adata, target_sum=1e4)\n",
    "adata.layers[\"log1p_norm\"] = sc.pp.log1p(adata.X)"
   ]
  },
  {
   "cell_type": "code",
   "execution_count": 19,
   "id": "d8e7ca84",
   "metadata": {},
   "outputs": [
    {
     "name": "stdout",
     "output_type": "stream",
     "text": [
      "  (0, 2)\t0.29305628\n",
      "  (1, 4)\t1.0415423\n",
      "  (2, 4)\t0.31552207\n",
      "  (3, 4)\t0.7569557\n",
      "  (4, 4)\t0.85382694\n"
     ]
    }
   ],
   "source": [
    "print(adata.X[:5, :5])"
   ]
  },
  {
   "cell_type": "code",
   "execution_count": 20,
   "id": "34279eed",
   "metadata": {},
   "outputs": [
    {
     "data": {
      "image/png": "[encoded data removed]",
      "text/plain": [
       "<Figure size 1200x600 with 2 Axes>"
      ]
     },
     "metadata": {},
     "output_type": "display_data"
    }
   ],
   "source": [
    "# Create subplots\n",
    "fig, axes = plt.subplots(1, 2, figsize=(12, 6))\n",
    "\n",
    "# Plot total counts\n",
    "sns.histplot(adata.layers[\"counts\"].sum(1), bins=100, kde=False, ax=axes[0])\n",
    "axes[0].set_title(\"Raw counts\")\n",
    "\n",
    "# Plot shifted logarithm\n",
    "sns.histplot(adata.layers[\"log1p_norm\"].sum(1), bins=100, kde=False, ax=axes[1])\n",
    "axes[1].set_title(\"Log1p normalized\")\n",
    "\n",
    "plt.tight_layout()\n",
    "plt.show()"
   ]
  },
  {
   "cell_type": "code",
   "execution_count": 24,
   "id": "6b315b6b",
   "metadata": {},
   "outputs": [
    {
     "data": {
      "text/html": [
       "<div>\n",
       "<style scoped>\n",
       "    .dataframe tbody tr th:only-of-type {\n",
       "        vertical-align: middle;\n",
       "    }\n",
       "\n",
       "    .dataframe tbody tr th {\n",
       "        vertical-align: top;\n",
       "    }\n",
       "\n",
       "    .dataframe thead th {\n",
       "        text-align: right;\n",
       "    }\n",
       "</style>\n",
       "<table border=\"1\" class=\"dataframe\">\n",
       "  <thead>\n",
       "    <tr style=\"text-align: right;\">\n",
       "      <th></th>\n",
       "      <th>sample_id</th>\n",
       "      <th>publication</th>\n",
       "      <th>sample_id_anon</th>\n",
       "      <th>individual_id_anon</th>\n",
       "      <th>replicate</th>\n",
       "      <th>treatment</th>\n",
       "      <th>condition</th>\n",
       "      <th>tissue</th>\n",
       "      <th>time</th>\n",
       "      <th>batch</th>\n",
       "      <th>lesion_type</th>\n",
       "      <th>sample_source</th>\n",
       "      <th>diagnosis</th>\n",
       "      <th>n_genes_by_counts</th>\n",
       "      <th>total_counts</th>\n",
       "      <th>pct_counts_mt</th>\n",
       "      <th>pct_counts_ribo</th>\n",
       "      <th>s_score</th>\n",
       "      <th>g2m_score</th>\n",
       "      <th>phase</th>\n",
       "      <th>type_fine</th>\n",
       "      <th>type_broad</th>\n",
       "      <th>cluster_zoom</th>\n",
       "      <th>exclude_pseudobulk</th>\n",
       "      <th>seq_pool</th>\n",
       "      <th>sex</th>\n",
       "      <th>age_at_death</th>\n",
       "      <th>smoker</th>\n",
       "      <th>cause_of_death</th>\n",
       "      <th>years_w_ms</th>\n",
       "      <th>pmi_minutes</th>\n",
       "      <th>age_scale</th>\n",
       "      <th>age_cat</th>\n",
       "      <th>pmi_cat</th>\n",
       "      <th>pmi_cat2</th>\n",
       "      <th>cell_cycle_diff</th>\n",
       "      <th>cell_type_eval</th>\n",
       "      <th>library_type</th>\n",
       "      <th>sample_type</th>\n",
       "      <th>organism</th>\n",
       "      <th>system</th>\n",
       "    </tr>\n",
       "    <tr>\n",
       "      <th>barcode</th>\n",
       "      <th></th>\n",
       "      <th></th>\n",
       "      <th></th>\n",
       "      <th></th>\n",
       "      <th></th>\n",
       "      <th></th>\n",
       "      <th></th>\n",
       "      <th></th>\n",
       "      <th></th>\n",
       "      <th></th>\n",
       "      <th></th>\n",
       "      <th></th>\n",
       "      <th></th>\n",
       "      <th></th>\n",
       "      <th></th>\n",
       "      <th></th>\n",
       "      <th></th>\n",
       "      <th></th>\n",
       "      <th></th>\n",
       "      <th></th>\n",
       "      <th></th>\n",
       "      <th></th>\n",
       "      <th></th>\n",
       "      <th></th>\n",
       "      <th></th>\n",
       "      <th></th>\n",
       "      <th></th>\n",
       "      <th></th>\n",
       "      <th></th>\n",
       "      <th></th>\n",
       "      <th></th>\n",
       "      <th></th>\n",
       "      <th></th>\n",
       "      <th></th>\n",
       "      <th></th>\n",
       "      <th></th>\n",
       "      <th></th>\n",
       "      <th></th>\n",
       "      <th></th>\n",
       "      <th></th>\n",
       "      <th></th>\n",
       "    </tr>\n",
       "  </thead>\n",
       "  <tbody>\n",
       "    <tr>\n",
       "      <th>CATGAGTTCGTACCTC-1</th>\n",
       "      <td>cl2</td>\n",
       "      <td>(this study)</td>\n",
       "      <td>adams_Sample6_2</td>\n",
       "      <td>adams_Sample6</td>\n",
       "      <td>2</td>\n",
       "      <td>LPC</td>\n",
       "      <td>Demyelination</td>\n",
       "      <td>Corpus callosum</td>\n",
       "      <td>7dpl</td>\n",
       "      <td>6</td>\n",
       "      <td>Demyelination</td>\n",
       "      <td>(this study)</td>\n",
       "      <td>Demyelination</td>\n",
       "      <td>5806.0</td>\n",
       "      <td>29394.0</td>\n",
       "      <td>0.023814</td>\n",
       "      <td>0.176907</td>\n",
       "      <td>-0.170144</td>\n",
       "      <td>-0.111493</td>\n",
       "      <td>G1</td>\n",
       "      <td>TBD</td>\n",
       "      <td>excitatory neurons</td>\n",
       "      <td>TBD</td>\n",
       "      <td>False</td>\n",
       "      <td>None</td>\n",
       "      <td>mixed</td>\n",
       "      <td>1</td>\n",
       "      <td>non-smoker</td>\n",
       "      <td>sacrificed</td>\n",
       "      <td>0.0</td>\n",
       "      <td>0.0</td>\n",
       "      <td>0</td>\n",
       "      <td>adult</td>\n",
       "      <td>None</td>\n",
       "      <td>None</td>\n",
       "      <td>-0.058651</td>\n",
       "      <td>excitatory neurons</td>\n",
       "      <td>10X 3p kit v3.1</td>\n",
       "      <td>sn</td>\n",
       "      <td>mouse</td>\n",
       "      <td>0</td>\n",
       "    </tr>\n",
       "    <tr>\n",
       "      <th>CGTAATGCAACGACTT-1</th>\n",
       "      <td>cl2</td>\n",
       "      <td>(this study)</td>\n",
       "      <td>adams_Sample6_2</td>\n",
       "      <td>adams_Sample6</td>\n",
       "      <td>2</td>\n",
       "      <td>LPC</td>\n",
       "      <td>Demyelination</td>\n",
       "      <td>Corpus callosum</td>\n",
       "      <td>7dpl</td>\n",
       "      <td>6</td>\n",
       "      <td>Demyelination</td>\n",
       "      <td>(this study)</td>\n",
       "      <td>Demyelination</td>\n",
       "      <td>5284.0</td>\n",
       "      <td>27289.0</td>\n",
       "      <td>0.003664</td>\n",
       "      <td>0.146579</td>\n",
       "      <td>-0.102384</td>\n",
       "      <td>-0.142398</td>\n",
       "      <td>G1</td>\n",
       "      <td>TBD</td>\n",
       "      <td>excitatory neurons</td>\n",
       "      <td>TBD</td>\n",
       "      <td>False</td>\n",
       "      <td>None</td>\n",
       "      <td>mixed</td>\n",
       "      <td>1</td>\n",
       "      <td>non-smoker</td>\n",
       "      <td>sacrificed</td>\n",
       "      <td>0.0</td>\n",
       "      <td>0.0</td>\n",
       "      <td>0</td>\n",
       "      <td>adult</td>\n",
       "      <td>None</td>\n",
       "      <td>None</td>\n",
       "      <td>0.040014</td>\n",
       "      <td>excitatory neurons</td>\n",
       "      <td>10X 3p kit v3.1</td>\n",
       "      <td>sn</td>\n",
       "      <td>mouse</td>\n",
       "      <td>0</td>\n",
       "    </tr>\n",
       "    <tr>\n",
       "      <th>GTTCATTCACCTAAAC-1</th>\n",
       "      <td>cl2</td>\n",
       "      <td>(this study)</td>\n",
       "      <td>adams_Sample6_2</td>\n",
       "      <td>adams_Sample6</td>\n",
       "      <td>2</td>\n",
       "      <td>LPC</td>\n",
       "      <td>Demyelination</td>\n",
       "      <td>Corpus callosum</td>\n",
       "      <td>7dpl</td>\n",
       "      <td>6</td>\n",
       "      <td>Demyelination</td>\n",
       "      <td>(this study)</td>\n",
       "      <td>Demyelination</td>\n",
       "      <td>4868.0</td>\n",
       "      <td>26969.0</td>\n",
       "      <td>0.018540</td>\n",
       "      <td>0.140903</td>\n",
       "      <td>-0.125123</td>\n",
       "      <td>-0.133218</td>\n",
       "      <td>G1</td>\n",
       "      <td>TBD</td>\n",
       "      <td>excitatory neurons</td>\n",
       "      <td>TBD</td>\n",
       "      <td>False</td>\n",
       "      <td>None</td>\n",
       "      <td>mixed</td>\n",
       "      <td>1</td>\n",
       "      <td>non-smoker</td>\n",
       "      <td>sacrificed</td>\n",
       "      <td>0.0</td>\n",
       "      <td>0.0</td>\n",
       "      <td>0</td>\n",
       "      <td>adult</td>\n",
       "      <td>None</td>\n",
       "      <td>None</td>\n",
       "      <td>0.008095</td>\n",
       "      <td>excitatory neurons</td>\n",
       "      <td>10X 3p kit v3.1</td>\n",
       "      <td>sn</td>\n",
       "      <td>mouse</td>\n",
       "      <td>0</td>\n",
       "    </tr>\n",
       "    <tr>\n",
       "      <th>AGATGAAGTGCCTTCT-1</th>\n",
       "      <td>cl2</td>\n",
       "      <td>(this study)</td>\n",
       "      <td>adams_Sample6_2</td>\n",
       "      <td>adams_Sample6</td>\n",
       "      <td>2</td>\n",
       "      <td>LPC</td>\n",
       "      <td>Demyelination</td>\n",
       "      <td>Corpus callosum</td>\n",
       "      <td>7dpl</td>\n",
       "      <td>6</td>\n",
       "      <td>Demyelination</td>\n",
       "      <td>(this study)</td>\n",
       "      <td>Demyelination</td>\n",
       "      <td>4931.0</td>\n",
       "      <td>26522.0</td>\n",
       "      <td>0.018852</td>\n",
       "      <td>0.030164</td>\n",
       "      <td>-0.116627</td>\n",
       "      <td>-0.108410</td>\n",
       "      <td>G1</td>\n",
       "      <td>TBD</td>\n",
       "      <td>excitatory neurons</td>\n",
       "      <td>TBD</td>\n",
       "      <td>False</td>\n",
       "      <td>None</td>\n",
       "      <td>mixed</td>\n",
       "      <td>1</td>\n",
       "      <td>non-smoker</td>\n",
       "      <td>sacrificed</td>\n",
       "      <td>0.0</td>\n",
       "      <td>0.0</td>\n",
       "      <td>0</td>\n",
       "      <td>adult</td>\n",
       "      <td>None</td>\n",
       "      <td>None</td>\n",
       "      <td>-0.008217</td>\n",
       "      <td>excitatory neurons</td>\n",
       "      <td>10X 3p kit v3.1</td>\n",
       "      <td>sn</td>\n",
       "      <td>mouse</td>\n",
       "      <td>0</td>\n",
       "    </tr>\n",
       "    <tr>\n",
       "      <th>GGGACCTGTACGGTTT-1</th>\n",
       "      <td>cl2</td>\n",
       "      <td>(this study)</td>\n",
       "      <td>adams_Sample6_2</td>\n",
       "      <td>adams_Sample6</td>\n",
       "      <td>2</td>\n",
       "      <td>LPC</td>\n",
       "      <td>Demyelination</td>\n",
       "      <td>Corpus callosum</td>\n",
       "      <td>7dpl</td>\n",
       "      <td>6</td>\n",
       "      <td>Demyelination</td>\n",
       "      <td>(this study)</td>\n",
       "      <td>Demyelination</td>\n",
       "      <td>4381.0</td>\n",
       "      <td>22259.0</td>\n",
       "      <td>0.004493</td>\n",
       "      <td>0.058403</td>\n",
       "      <td>-0.083980</td>\n",
       "      <td>-0.109401</td>\n",
       "      <td>G1</td>\n",
       "      <td>TBD</td>\n",
       "      <td>excitatory neurons</td>\n",
       "      <td>TBD</td>\n",
       "      <td>False</td>\n",
       "      <td>None</td>\n",
       "      <td>mixed</td>\n",
       "      <td>1</td>\n",
       "      <td>non-smoker</td>\n",
       "      <td>sacrificed</td>\n",
       "      <td>0.0</td>\n",
       "      <td>0.0</td>\n",
       "      <td>0</td>\n",
       "      <td>adult</td>\n",
       "      <td>None</td>\n",
       "      <td>None</td>\n",
       "      <td>0.025421</td>\n",
       "      <td>excitatory neurons</td>\n",
       "      <td>10X 3p kit v3.1</td>\n",
       "      <td>sn</td>\n",
       "      <td>mouse</td>\n",
       "      <td>0</td>\n",
       "    </tr>\n",
       "    <tr>\n",
       "      <th>...</th>\n",
       "      <td>...</td>\n",
       "      <td>...</td>\n",
       "      <td>...</td>\n",
       "      <td>...</td>\n",
       "      <td>...</td>\n",
       "      <td>...</td>\n",
       "      <td>...</td>\n",
       "      <td>...</td>\n",
       "      <td>...</td>\n",
       "      <td>...</td>\n",
       "      <td>...</td>\n",
       "      <td>...</td>\n",
       "      <td>...</td>\n",
       "      <td>...</td>\n",
       "      <td>...</td>\n",
       "      <td>...</td>\n",
       "      <td>...</td>\n",
       "      <td>...</td>\n",
       "      <td>...</td>\n",
       "      <td>...</td>\n",
       "      <td>...</td>\n",
       "      <td>...</td>\n",
       "      <td>...</td>\n",
       "      <td>...</td>\n",
       "      <td>...</td>\n",
       "      <td>...</td>\n",
       "      <td>...</td>\n",
       "      <td>...</td>\n",
       "      <td>...</td>\n",
       "      <td>...</td>\n",
       "      <td>...</td>\n",
       "      <td>...</td>\n",
       "      <td>...</td>\n",
       "      <td>...</td>\n",
       "      <td>...</td>\n",
       "      <td>...</td>\n",
       "      <td>...</td>\n",
       "      <td>...</td>\n",
       "      <td>...</td>\n",
       "      <td>...</td>\n",
       "      <td>...</td>\n",
       "    </tr>\n",
       "    <tr>\n",
       "      <th>TACGCTCAGGAACATT-1</th>\n",
       "      <td>cn2</td>\n",
       "      <td>(this study)</td>\n",
       "      <td>adams_Sample8_2</td>\n",
       "      <td>adams_Sample8</td>\n",
       "      <td>2</td>\n",
       "      <td>Normal</td>\n",
       "      <td>Control</td>\n",
       "      <td>Corpus callosum</td>\n",
       "      <td>Baseline</td>\n",
       "      <td>8</td>\n",
       "      <td>Control</td>\n",
       "      <td>(this study)</td>\n",
       "      <td>Control</td>\n",
       "      <td>396.0</td>\n",
       "      <td>500.0</td>\n",
       "      <td>0.000000</td>\n",
       "      <td>0.200000</td>\n",
       "      <td>-0.023631</td>\n",
       "      <td>-0.007056</td>\n",
       "      <td>G1</td>\n",
       "      <td>TBD</td>\n",
       "      <td>oligodendrocytes</td>\n",
       "      <td>TBD</td>\n",
       "      <td>False</td>\n",
       "      <td>None</td>\n",
       "      <td>mixed</td>\n",
       "      <td>1</td>\n",
       "      <td>non-smoker</td>\n",
       "      <td>sacrificed</td>\n",
       "      <td>0.0</td>\n",
       "      <td>0.0</td>\n",
       "      <td>0</td>\n",
       "      <td>adult</td>\n",
       "      <td>None</td>\n",
       "      <td>None</td>\n",
       "      <td>-0.016575</td>\n",
       "      <td>oligodendrocytes</td>\n",
       "      <td>10X 3p kit v3.1</td>\n",
       "      <td>sn</td>\n",
       "      <td>mouse</td>\n",
       "      <td>0</td>\n",
       "    </tr>\n",
       "    <tr>\n",
       "      <th>CGTGAATAGTAAACGT-1</th>\n",
       "      <td>cn2</td>\n",
       "      <td>(this study)</td>\n",
       "      <td>adams_Sample8_2</td>\n",
       "      <td>adams_Sample8</td>\n",
       "      <td>2</td>\n",
       "      <td>Normal</td>\n",
       "      <td>Control</td>\n",
       "      <td>Corpus callosum</td>\n",
       "      <td>Baseline</td>\n",
       "      <td>8</td>\n",
       "      <td>Control</td>\n",
       "      <td>(this study)</td>\n",
       "      <td>Control</td>\n",
       "      <td>379.0</td>\n",
       "      <td>510.0</td>\n",
       "      <td>0.000000</td>\n",
       "      <td>0.196078</td>\n",
       "      <td>-0.032178</td>\n",
       "      <td>-0.058969</td>\n",
       "      <td>G1</td>\n",
       "      <td>TBD</td>\n",
       "      <td>oligodendrocytes</td>\n",
       "      <td>TBD</td>\n",
       "      <td>False</td>\n",
       "      <td>None</td>\n",
       "      <td>mixed</td>\n",
       "      <td>1</td>\n",
       "      <td>non-smoker</td>\n",
       "      <td>sacrificed</td>\n",
       "      <td>0.0</td>\n",
       "      <td>0.0</td>\n",
       "      <td>0</td>\n",
       "      <td>adult</td>\n",
       "      <td>None</td>\n",
       "      <td>None</td>\n",
       "      <td>0.026790</td>\n",
       "      <td>oligodendrocytes</td>\n",
       "      <td>10X 3p kit v3.1</td>\n",
       "      <td>sn</td>\n",
       "      <td>mouse</td>\n",
       "      <td>0</td>\n",
       "    </tr>\n",
       "    <tr>\n",
       "      <th>GCTCAAACAAGATTGA-1</th>\n",
       "      <td>cn2</td>\n",
       "      <td>(this study)</td>\n",
       "      <td>adams_Sample8_2</td>\n",
       "      <td>adams_Sample8</td>\n",
       "      <td>2</td>\n",
       "      <td>Normal</td>\n",
       "      <td>Control</td>\n",
       "      <td>Corpus callosum</td>\n",
       "      <td>Baseline</td>\n",
       "      <td>8</td>\n",
       "      <td>Control</td>\n",
       "      <td>(this study)</td>\n",
       "      <td>Control</td>\n",
       "      <td>405.0</td>\n",
       "      <td>508.0</td>\n",
       "      <td>0.000000</td>\n",
       "      <td>0.000000</td>\n",
       "      <td>-0.023514</td>\n",
       "      <td>0.052045</td>\n",
       "      <td>G2M</td>\n",
       "      <td>TBD</td>\n",
       "      <td>oligodendrocytes</td>\n",
       "      <td>TBD</td>\n",
       "      <td>False</td>\n",
       "      <td>None</td>\n",
       "      <td>mixed</td>\n",
       "      <td>1</td>\n",
       "      <td>non-smoker</td>\n",
       "      <td>sacrificed</td>\n",
       "      <td>0.0</td>\n",
       "      <td>0.0</td>\n",
       "      <td>0</td>\n",
       "      <td>adult</td>\n",
       "      <td>None</td>\n",
       "      <td>None</td>\n",
       "      <td>-0.075559</td>\n",
       "      <td>oligodendrocytes</td>\n",
       "      <td>10X 3p kit v3.1</td>\n",
       "      <td>sn</td>\n",
       "      <td>mouse</td>\n",
       "      <td>0</td>\n",
       "    </tr>\n",
       "    <tr>\n",
       "      <th>AAAGAACTCCCGAGTG-1</th>\n",
       "      <td>cn2</td>\n",
       "      <td>(this study)</td>\n",
       "      <td>adams_Sample8_2</td>\n",
       "      <td>adams_Sample8</td>\n",
       "      <td>2</td>\n",
       "      <td>Normal</td>\n",
       "      <td>Control</td>\n",
       "      <td>Corpus callosum</td>\n",
       "      <td>Baseline</td>\n",
       "      <td>8</td>\n",
       "      <td>Control</td>\n",
       "      <td>(this study)</td>\n",
       "      <td>Control</td>\n",
       "      <td>383.0</td>\n",
       "      <td>503.0</td>\n",
       "      <td>0.000000</td>\n",
       "      <td>0.198807</td>\n",
       "      <td>0.140545</td>\n",
       "      <td>-0.108368</td>\n",
       "      <td>S</td>\n",
       "      <td>TBD</td>\n",
       "      <td>oligodendrocytes</td>\n",
       "      <td>TBD</td>\n",
       "      <td>False</td>\n",
       "      <td>None</td>\n",
       "      <td>mixed</td>\n",
       "      <td>1</td>\n",
       "      <td>non-smoker</td>\n",
       "      <td>sacrificed</td>\n",
       "      <td>0.0</td>\n",
       "      <td>0.0</td>\n",
       "      <td>0</td>\n",
       "      <td>adult</td>\n",
       "      <td>None</td>\n",
       "      <td>None</td>\n",
       "      <td>0.248913</td>\n",
       "      <td>oligodendrocytes</td>\n",
       "      <td>10X 3p kit v3.1</td>\n",
       "      <td>sn</td>\n",
       "      <td>mouse</td>\n",
       "      <td>0</td>\n",
       "    </tr>\n",
       "    <tr>\n",
       "      <th>TAATTCCAGGACTGGT-1</th>\n",
       "      <td>cn2</td>\n",
       "      <td>(this study)</td>\n",
       "      <td>adams_Sample8_2</td>\n",
       "      <td>adams_Sample8</td>\n",
       "      <td>2</td>\n",
       "      <td>Normal</td>\n",
       "      <td>Control</td>\n",
       "      <td>Corpus callosum</td>\n",
       "      <td>Baseline</td>\n",
       "      <td>8</td>\n",
       "      <td>Control</td>\n",
       "      <td>(this study)</td>\n",
       "      <td>Control</td>\n",
       "      <td>391.0</td>\n",
       "      <td>502.0</td>\n",
       "      <td>0.000000</td>\n",
       "      <td>0.000000</td>\n",
       "      <td>-0.024482</td>\n",
       "      <td>-0.081682</td>\n",
       "      <td>G1</td>\n",
       "      <td>TBD</td>\n",
       "      <td>oligodendrocytes</td>\n",
       "      <td>TBD</td>\n",
       "      <td>False</td>\n",
       "      <td>None</td>\n",
       "      <td>mixed</td>\n",
       "      <td>1</td>\n",
       "      <td>non-smoker</td>\n",
       "      <td>sacrificed</td>\n",
       "      <td>0.0</td>\n",
       "      <td>0.0</td>\n",
       "      <td>0</td>\n",
       "      <td>adult</td>\n",
       "      <td>None</td>\n",
       "      <td>None</td>\n",
       "      <td>0.057200</td>\n",
       "      <td>oligodendrocytes</td>\n",
       "      <td>10X 3p kit v3.1</td>\n",
       "      <td>sn</td>\n",
       "      <td>mouse</td>\n",
       "      <td>0</td>\n",
       "    </tr>\n",
       "  </tbody>\n",
       "</table>\n",
       "<p>21541 rows × 41 columns</p>\n",
       "</div>"
      ],
      "text/plain": [
       "                   sample_id   publication   sample_id_anon  \\\n",
       "barcode                                                       \n",
       "CATGAGTTCGTACCTC-1       cl2  (this study)  adams_Sample6_2   \n",
       "CGTAATGCAACGACTT-1       cl2  (this study)  adams_Sample6_2   \n",
       "GTTCATTCACCTAAAC-1       cl2  (this study)  adams_Sample6_2   \n",
       "AGATGAAGTGCCTTCT-1       cl2  (this study)  adams_Sample6_2   \n",
       "GGGACCTGTACGGTTT-1       cl2  (this study)  adams_Sample6_2   \n",
       "...                      ...           ...              ...   \n",
       "TACGCTCAGGAACATT-1       cn2  (this study)  adams_Sample8_2   \n",
       "CGTGAATAGTAAACGT-1       cn2  (this study)  adams_Sample8_2   \n",
       "GCTCAAACAAGATTGA-1       cn2  (this study)  adams_Sample8_2   \n",
       "AAAGAACTCCCGAGTG-1       cn2  (this study)  adams_Sample8_2   \n",
       "TAATTCCAGGACTGGT-1       cn2  (this study)  adams_Sample8_2   \n",
       "\n",
       "                   individual_id_anon replicate treatment      condition  \\\n",
       "barcode                                                                    \n",
       "CATGAGTTCGTACCTC-1      adams_Sample6         2       LPC  Demyelination   \n",
       "CGTAATGCAACGACTT-1      adams_Sample6         2       LPC  Demyelination   \n",
       "GTTCATTCACCTAAAC-1      adams_Sample6         2       LPC  Demyelination   \n",
       "AGATGAAGTGCCTTCT-1      adams_Sample6         2       LPC  Demyelination   \n",
       "GGGACCTGTACGGTTT-1      adams_Sample6         2       LPC  Demyelination   \n",
       "...                               ...       ...       ...            ...   \n",
       "TACGCTCAGGAACATT-1      adams_Sample8         2    Normal        Control   \n",
       "CGTGAATAGTAAACGT-1      adams_Sample8         2    Normal        Control   \n",
       "GCTCAAACAAGATTGA-1      adams_Sample8         2    Normal        Control   \n",
       "AAAGAACTCCCGAGTG-1      adams_Sample8         2    Normal        Control   \n",
       "TAATTCCAGGACTGGT-1      adams_Sample8         2    Normal        Control   \n",
       "\n",
       "                             tissue      time batch    lesion_type  \\\n",
       "barcode                                                              \n",
       "CATGAGTTCGTACCTC-1  Corpus callosum      7dpl     6  Demyelination   \n",
       "CGTAATGCAACGACTT-1  Corpus callosum      7dpl     6  Demyelination   \n",
       "GTTCATTCACCTAAAC-1  Corpus callosum      7dpl     6  Demyelination   \n",
       "AGATGAAGTGCCTTCT-1  Corpus callosum      7dpl     6  Demyelination   \n",
       "GGGACCTGTACGGTTT-1  Corpus callosum      7dpl     6  Demyelination   \n",
       "...                             ...       ...   ...            ...   \n",
       "TACGCTCAGGAACATT-1  Corpus callosum  Baseline     8        Control   \n",
       "CGTGAATAGTAAACGT-1  Corpus callosum  Baseline     8        Control   \n",
       "GCTCAAACAAGATTGA-1  Corpus callosum  Baseline     8        Control   \n",
       "AAAGAACTCCCGAGTG-1  Corpus callosum  Baseline     8        Control   \n",
       "TAATTCCAGGACTGGT-1  Corpus callosum  Baseline     8        Control   \n",
       "\n",
       "                   sample_source      diagnosis  n_genes_by_counts  \\\n",
       "barcode                                                              \n",
       "CATGAGTTCGTACCTC-1  (this study)  Demyelination             5806.0   \n",
       "CGTAATGCAACGACTT-1  (this study)  Demyelination             5284.0   \n",
       "GTTCATTCACCTAAAC-1  (this study)  Demyelination             4868.0   \n",
       "AGATGAAGTGCCTTCT-1  (this study)  Demyelination             4931.0   \n",
       "GGGACCTGTACGGTTT-1  (this study)  Demyelination             4381.0   \n",
       "...                          ...            ...                ...   \n",
       "TACGCTCAGGAACATT-1  (this study)        Control              396.0   \n",
       "CGTGAATAGTAAACGT-1  (this study)        Control              379.0   \n",
       "GCTCAAACAAGATTGA-1  (this study)        Control              405.0   \n",
       "AAAGAACTCCCGAGTG-1  (this study)        Control              383.0   \n",
       "TAATTCCAGGACTGGT-1  (this study)        Control              391.0   \n",
       "\n",
       "                    total_counts  pct_counts_mt  pct_counts_ribo   s_score  \\\n",
       "barcode                                                                      \n",
       "CATGAGTTCGTACCTC-1       29394.0       0.023814         0.176907 -0.170144   \n",
       "CGTAATGCAACGACTT-1       27289.0       0.003664         0.146579 -0.102384   \n",
       "GTTCATTCACCTAAAC-1       26969.0       0.018540         0.140903 -0.125123   \n",
       "AGATGAAGTGCCTTCT-1       26522.0       0.018852         0.030164 -0.116627   \n",
       "GGGACCTGTACGGTTT-1       22259.0       0.004493         0.058403 -0.083980   \n",
       "...                          ...            ...              ...       ...   \n",
       "TACGCTCAGGAACATT-1         500.0       0.000000         0.200000 -0.023631   \n",
       "CGTGAATAGTAAACGT-1         510.0       0.000000         0.196078 -0.032178   \n",
       "GCTCAAACAAGATTGA-1         508.0       0.000000         0.000000 -0.023514   \n",
       "AAAGAACTCCCGAGTG-1         503.0       0.000000         0.198807  0.140545   \n",
       "TAATTCCAGGACTGGT-1         502.0       0.000000         0.000000 -0.024482   \n",
       "\n",
       "                    g2m_score phase type_fine          type_broad  \\\n",
       "barcode                                                             \n",
       "CATGAGTTCGTACCTC-1  -0.111493    G1       TBD  excitatory neurons   \n",
       "CGTAATGCAACGACTT-1  -0.142398    G1       TBD  excitatory neurons   \n",
       "GTTCATTCACCTAAAC-1  -0.133218    G1       TBD  excitatory neurons   \n",
       "AGATGAAGTGCCTTCT-1  -0.108410    G1       TBD  excitatory neurons   \n",
       "GGGACCTGTACGGTTT-1  -0.109401    G1       TBD  excitatory neurons   \n",
       "...                       ...   ...       ...                 ...   \n",
       "TACGCTCAGGAACATT-1  -0.007056    G1       TBD    oligodendrocytes   \n",
       "CGTGAATAGTAAACGT-1  -0.058969    G1       TBD    oligodendrocytes   \n",
       "GCTCAAACAAGATTGA-1   0.052045   G2M       TBD    oligodendrocytes   \n",
       "AAAGAACTCCCGAGTG-1  -0.108368     S       TBD    oligodendrocytes   \n",
       "TAATTCCAGGACTGGT-1  -0.081682    G1       TBD    oligodendrocytes   \n",
       "\n",
       "                   cluster_zoom exclude_pseudobulk seq_pool    sex  \\\n",
       "barcode                                                              \n",
       "CATGAGTTCGTACCTC-1          TBD              False     None  mixed   \n",
       "CGTAATGCAACGACTT-1          TBD              False     None  mixed   \n",
       "GTTCATTCACCTAAAC-1          TBD              False     None  mixed   \n",
       "AGATGAAGTGCCTTCT-1          TBD              False     None  mixed   \n",
       "GGGACCTGTACGGTTT-1          TBD              False     None  mixed   \n",
       "...                         ...                ...      ...    ...   \n",
       "TACGCTCAGGAACATT-1          TBD              False     None  mixed   \n",
       "CGTGAATAGTAAACGT-1          TBD              False     None  mixed   \n",
       "GCTCAAACAAGATTGA-1          TBD              False     None  mixed   \n",
       "AAAGAACTCCCGAGTG-1          TBD              False     None  mixed   \n",
       "TAATTCCAGGACTGGT-1          TBD              False     None  mixed   \n",
       "\n",
       "                   age_at_death      smoker cause_of_death  years_w_ms  \\\n",
       "barcode                                                                  \n",
       "CATGAGTTCGTACCTC-1            1  non-smoker     sacrificed         0.0   \n",
       "CGTAATGCAACGACTT-1            1  non-smoker     sacrificed         0.0   \n",
       "GTTCATTCACCTAAAC-1            1  non-smoker     sacrificed         0.0   \n",
       "AGATGAAGTGCCTTCT-1            1  non-smoker     sacrificed         0.0   \n",
       "GGGACCTGTACGGTTT-1            1  non-smoker     sacrificed         0.0   \n",
       "...                         ...         ...            ...         ...   \n",
       "TACGCTCAGGAACATT-1            1  non-smoker     sacrificed         0.0   \n",
       "CGTGAATAGTAAACGT-1            1  non-smoker     sacrificed         0.0   \n",
       "GCTCAAACAAGATTGA-1            1  non-smoker     sacrificed         0.0   \n",
       "AAAGAACTCCCGAGTG-1            1  non-smoker     sacrificed         0.0   \n",
       "TAATTCCAGGACTGGT-1            1  non-smoker     sacrificed         0.0   \n",
       "\n",
       "                    pmi_minutes age_scale age_cat pmi_cat pmi_cat2  \\\n",
       "barcode                                                              \n",
       "CATGAGTTCGTACCTC-1          0.0         0   adult    None     None   \n",
       "CGTAATGCAACGACTT-1          0.0         0   adult    None     None   \n",
       "GTTCATTCACCTAAAC-1          0.0         0   adult    None     None   \n",
       "AGATGAAGTGCCTTCT-1          0.0         0   adult    None     None   \n",
       "GGGACCTGTACGGTTT-1          0.0         0   adult    None     None   \n",
       "...                         ...       ...     ...     ...      ...   \n",
       "TACGCTCAGGAACATT-1          0.0         0   adult    None     None   \n",
       "CGTGAATAGTAAACGT-1          0.0         0   adult    None     None   \n",
       "GCTCAAACAAGATTGA-1          0.0         0   adult    None     None   \n",
       "AAAGAACTCCCGAGTG-1          0.0         0   adult    None     None   \n",
       "TAATTCCAGGACTGGT-1          0.0         0   adult    None     None   \n",
       "\n",
       "                    cell_cycle_diff      cell_type_eval     library_type  \\\n",
       "barcode                                                                    \n",
       "CATGAGTTCGTACCTC-1        -0.058651  excitatory neurons  10X 3p kit v3.1   \n",
       "CGTAATGCAACGACTT-1         0.040014  excitatory neurons  10X 3p kit v3.1   \n",
       "GTTCATTCACCTAAAC-1         0.008095  excitatory neurons  10X 3p kit v3.1   \n",
       "AGATGAAGTGCCTTCT-1        -0.008217  excitatory neurons  10X 3p kit v3.1   \n",
       "GGGACCTGTACGGTTT-1         0.025421  excitatory neurons  10X 3p kit v3.1   \n",
       "...                             ...                 ...              ...   \n",
       "TACGCTCAGGAACATT-1        -0.016575    oligodendrocytes  10X 3p kit v3.1   \n",
       "CGTGAATAGTAAACGT-1         0.026790    oligodendrocytes  10X 3p kit v3.1   \n",
       "GCTCAAACAAGATTGA-1        -0.075559    oligodendrocytes  10X 3p kit v3.1   \n",
       "AAAGAACTCCCGAGTG-1         0.248913    oligodendrocytes  10X 3p kit v3.1   \n",
       "TAATTCCAGGACTGGT-1         0.057200    oligodendrocytes  10X 3p kit v3.1   \n",
       "\n",
       "                   sample_type organism  system  \n",
       "barcode                                          \n",
       "CATGAGTTCGTACCTC-1          sn    mouse       0  \n",
       "CGTAATGCAACGACTT-1          sn    mouse       0  \n",
       "GTTCATTCACCTAAAC-1          sn    mouse       0  \n",
       "AGATGAAGTGCCTTCT-1          sn    mouse       0  \n",
       "GGGACCTGTACGGTTT-1          sn    mouse       0  \n",
       "...                        ...      ...     ...  \n",
       "TACGCTCAGGAACATT-1          sn    mouse       0  \n",
       "CGTGAATAGTAAACGT-1          sn    mouse       0  \n",
       "GCTCAAACAAGATTGA-1          sn    mouse       0  \n",
       "AAAGAACTCCCGAGTG-1          sn    mouse       0  \n",
       "TAATTCCAGGACTGGT-1          sn    mouse       0  \n",
       "\n",
       "[21541 rows x 41 columns]"
      ]
     },
     "execution_count": 24,
     "metadata": {},
     "output_type": "execute_result"
    }
   ],
   "source": [
    "adata.obs"
   ]
  },
  {
   "cell_type": "code",
   "execution_count": 25,
   "id": "70ab27f1",
   "metadata": {},
   "outputs": [
    {
     "name": "stdout",
     "output_type": "stream",
     "text": [
      "[6, 4, 1, 2, 3, 5, 7, 8]\n",
      "Categories (8, int64): [1, 2, 3, 4, 5, 6, 7, 8]\n"
     ]
    }
   ],
   "source": [
    "unique_batches = adata.obs['batch'].unique()\n",
    "\n",
    "print(unique_batches)"
   ]
  },
  {
   "cell_type": "code",
   "execution_count": 21,
   "id": "bb85ddd2",
   "metadata": {
    "scrolled": true
   },
   "outputs": [
    {
     "name": "stderr",
     "output_type": "stream",
     "text": [
      "/afs/crc.nd.edu/user/e/eaboelno/miniforge3/envs/sysVI/lib/python3.9/site-packages/scanpy/preprocessing/_highly_variable_genes.py:258: FutureWarning: The default of observed=False is deprecated and will be changed to True in a future version of pandas. Pass observed=False to retain current behavior or observed=True to adopt the future default and silence this warning.\n",
      "  disp_grouped = df.groupby(\"mean_bin\")[\"dispersions\"]\n",
      "/afs/crc.nd.edu/user/e/eaboelno/miniforge3/envs/sysVI/lib/python3.9/site-packages/scanpy/preprocessing/_highly_variable_genes.py:258: FutureWarning: The default of observed=False is deprecated and will be changed to True in a future version of pandas. Pass observed=False to retain current behavior or observed=True to adopt the future default and silence this warning.\n",
      "  disp_grouped = df.groupby(\"mean_bin\")[\"dispersions\"]\n",
      "/afs/crc.nd.edu/user/e/eaboelno/miniforge3/envs/sysVI/lib/python3.9/site-packages/scanpy/preprocessing/_highly_variable_genes.py:258: FutureWarning: The default of observed=False is deprecated and will be changed to True in a future version of pandas. Pass observed=False to retain current behavior or observed=True to adopt the future default and silence this warning.\n",
      "  disp_grouped = df.groupby(\"mean_bin\")[\"dispersions\"]\n",
      "/afs/crc.nd.edu/user/e/eaboelno/miniforge3/envs/sysVI/lib/python3.9/site-packages/scanpy/preprocessing/_highly_variable_genes.py:258: FutureWarning: The default of observed=False is deprecated and will be changed to True in a future version of pandas. Pass observed=False to retain current behavior or observed=True to adopt the future default and silence this warning.\n",
      "  disp_grouped = df.groupby(\"mean_bin\")[\"dispersions\"]\n",
      "/afs/crc.nd.edu/user/e/eaboelno/miniforge3/envs/sysVI/lib/python3.9/site-packages/scanpy/preprocessing/_highly_variable_genes.py:258: FutureWarning: The default of observed=False is deprecated and will be changed to True in a future version of pandas. Pass observed=False to retain current behavior or observed=True to adopt the future default and silence this warning.\n",
      "  disp_grouped = df.groupby(\"mean_bin\")[\"dispersions\"]\n",
      "/afs/crc.nd.edu/user/e/eaboelno/miniforge3/envs/sysVI/lib/python3.9/site-packages/scanpy/preprocessing/_highly_variable_genes.py:258: FutureWarning: The default of observed=False is deprecated and will be changed to True in a future version of pandas. Pass observed=False to retain current behavior or observed=True to adopt the future default and silence this warning.\n",
      "  disp_grouped = df.groupby(\"mean_bin\")[\"dispersions\"]\n",
      "/afs/crc.nd.edu/user/e/eaboelno/miniforge3/envs/sysVI/lib/python3.9/site-packages/scanpy/preprocessing/_highly_variable_genes.py:258: FutureWarning: The default of observed=False is deprecated and will be changed to True in a future version of pandas. Pass observed=False to retain current behavior or observed=True to adopt the future default and silence this warning.\n",
      "  disp_grouped = df.groupby(\"mean_bin\")[\"dispersions\"]\n",
      "/afs/crc.nd.edu/user/e/eaboelno/miniforge3/envs/sysVI/lib/python3.9/site-packages/scanpy/preprocessing/_highly_variable_genes.py:258: FutureWarning: The default of observed=False is deprecated and will be changed to True in a future version of pandas. Pass observed=False to retain current behavior or observed=True to adopt the future default and silence this warning.\n",
      "  disp_grouped = df.groupby(\"mean_bin\")[\"dispersions\"]\n",
      "/afs/crc.nd.edu/user/e/eaboelno/miniforge3/envs/sysVI/lib/python3.9/site-packages/scanpy/preprocessing/_highly_variable_genes.py:508: FutureWarning: The provided callable <function nanmean at 0x14e424204ca0> is currently using SeriesGroupBy.mean. In a future version of pandas, the provided callable will be used directly. To keep current behavior pass the string \"mean\" instead.\n",
      "  df = df.groupby(\"gene\").agg(\n",
      "/afs/crc.nd.edu/user/e/eaboelno/miniforge3/envs/sysVI/lib/python3.9/site-packages/scanpy/preprocessing/_highly_variable_genes.py:508: FutureWarning: The provided callable <function nanmean at 0x14e424204ca0> is currently using SeriesGroupBy.mean. In a future version of pandas, the provided callable will be used directly. To keep current behavior pass the string \"mean\" instead.\n",
      "  df = df.groupby(\"gene\").agg(\n",
      "/afs/crc.nd.edu/user/e/eaboelno/miniforge3/envs/sysVI/lib/python3.9/site-packages/scanpy/preprocessing/_highly_variable_genes.py:508: FutureWarning: The provided callable <function nansum at 0x14e424204820> is currently using SeriesGroupBy.sum. In a future version of pandas, the provided callable will be used directly. To keep current behavior pass the string \"sum\" instead.\n",
      "  df = df.groupby(\"gene\").agg(\n"
     ]
    },
    {
     "data": {
      "text/plain": [
       "(21541, 19107)"
      ]
     },
     "execution_count": 21,
     "metadata": {},
     "output_type": "execute_result"
    }
   ],
   "source": [
    "sc.pp.highly_variable_genes(\n",
    "     adata=adata, n_top_genes=10000, flavor='cell_ranger', batch_key='batch')\n",
    "adata.shape"
   ]
  },
  {
   "cell_type": "code",
   "execution_count": 22,
   "id": "b424c16c",
   "metadata": {
    "scrolled": false
   },
   "outputs": [
    {
     "data": {
      "image/png": "[encoded data removed]",
      "text/plain": [
       "<Figure size 1280x480 with 2 Axes>"
      ]
     },
     "metadata": {},
     "output_type": "display_data"
    }
   ],
   "source": [
    "sc.pl.highly_variable_genes(adata)"
   ]
  },
  {
   "cell_type": "code",
   "execution_count": 23,
   "id": "21e46fd5",
   "metadata": {},
   "outputs": [
    {
     "data": {
      "text/plain": [
       "highly_variable_nbatches\n",
       "8    2561\n",
       "6    2281\n",
       "5    2168\n",
       "4    2135\n",
       "0    2102\n",
       "3    2102\n",
       "7    2075\n",
       "2    1932\n",
       "1    1751\n",
       "Name: count, dtype: int64"
      ]
     },
     "execution_count": 23,
     "metadata": {},
     "output_type": "execute_result"
    },
    {
     "data": {
      "image/png": "[encoded data removed]",
      "text/plain": [
       "<Figure size 640x480 with 1 Axes>"
      ]
     },
     "metadata": {},
     "output_type": "display_data"
    }
   ],
   "source": [
    "%matplotlib inline\n",
    "import matplotlib.pyplot as plt\n",
    "n_batches = adata.var[\"highly_variable_nbatches\"].value_counts()\n",
    "ax = n_batches.plot(kind=\"bar\")\n",
    "n_batches"
   ]
  },
  {
   "cell_type": "code",
   "execution_count": 26,
   "id": "e47fd1f3",
   "metadata": {},
   "outputs": [],
   "source": [
    "adata.write_h5ad('./cVAE_analysis/sysVI/adata_hvg_updatedX.h5ad')"
   ]
  },
  {
   "cell_type": "markdown",
   "id": "481ed6f7",
   "metadata": {},
   "source": [
    "# Repeat for pandey and shen"
   ]
  },
  {
   "cell_type": "code",
   "execution_count": 2,
   "id": "362b0713",
   "metadata": {},
   "outputs": [],
   "source": [
    "pdata = sc.read_h5ad('./cVAE_analysis/human_mouse/pdata_m2h_simplified_labeled.h5ad')\n",
    "#sdata = sc.read_h5ad('./cVAE_analysis/human_mouse/sdata_m2h_simplified_labeled.h5ad')"
   ]
  },
  {
   "cell_type": "code",
   "execution_count": 3,
   "id": "af3d49db",
   "metadata": {},
   "outputs": [
    {
     "data": {
      "text/plain": [
       "AnnData object with n_obs × n_vars = 41938 × 23111\n",
       "    obs: 'sample_id', 'publication', 'sample_id_anon', 'individual_id_anon', 'replicate', 'treatment', 'condition', 'tissue', 'time', 'batch', 'lesion_type', 'sample_source', 'diagnosis', 'n_genes_by_counts', 'total_counts', 'pct_counts_mt', 'pct_counts_ribo', 's_score', 'g2m_score', 'phase', 'type_fine', 'type_broad', 'cluster_zoom', 'exclude_pseudobulk', 'seq_pool', 'sex', 'age_at_death', 'smoker', 'cause_of_death', 'years_w_ms', 'pmi_minutes', 'age_scale', 'age_cat', 'pmi_cat', 'pmi_cat2', 'cell_cycle_diff', 'cell_type_eval', 'library_type', 'sample_type', 'organism', 'system'\n",
       "    var: 'mouse_gene_id', 'n_cells', 'mouse_gene_name', 'human_gene_name', 'human_gene_id'\n",
       "    layers: 'counts', 'log1p_norm'"
      ]
     },
     "execution_count": 3,
     "metadata": {},
     "output_type": "execute_result"
    }
   ],
   "source": [
    "pdata"
   ]
  },
  {
   "cell_type": "code",
   "execution_count": 4,
   "id": "ae1cf9a7",
   "metadata": {},
   "outputs": [],
   "source": [
    "pdata.X = pdata.layers['counts']\n",
    "del pdata.layers[\"log1p_norm\"]\n",
    "del pdata.raw"
   ]
  },
  {
   "cell_type": "code",
   "execution_count": 5,
   "id": "57e384d9",
   "metadata": {},
   "outputs": [
    {
     "data": {
      "text/plain": [
       "View of AnnData object with n_obs × n_vars = 41938 × 20384\n",
       "    obs: 'sample_id', 'publication', 'sample_id_anon', 'individual_id_anon', 'replicate', 'treatment', 'condition', 'tissue', 'time', 'batch', 'lesion_type', 'sample_source', 'diagnosis', 'n_genes_by_counts', 'total_counts', 'pct_counts_mt', 'pct_counts_ribo', 's_score', 'g2m_score', 'phase', 'type_fine', 'type_broad', 'cluster_zoom', 'exclude_pseudobulk', 'seq_pool', 'sex', 'age_at_death', 'smoker', 'cause_of_death', 'years_w_ms', 'pmi_minutes', 'age_scale', 'age_cat', 'pmi_cat', 'pmi_cat2', 'cell_cycle_diff', 'cell_type_eval', 'library_type', 'sample_type', 'organism', 'system'\n",
       "    var: 'mouse_gene_id', 'n_cells', 'mouse_gene_name', 'human_gene_name', 'human_gene_id'\n",
       "    layers: 'counts'"
      ]
     },
     "execution_count": 5,
     "metadata": {},
     "output_type": "execute_result"
    }
   ],
   "source": [
    "pdata=pdata[:,np.array((pdata.X>0).sum(axis=0)>20).ravel()]\n",
    "pdata"
   ]
  },
  {
   "cell_type": "code",
   "execution_count": 6,
   "id": "79a76641",
   "metadata": {},
   "outputs": [],
   "source": [
    "pdata.raw = pdata"
   ]
  },
  {
   "cell_type": "code",
   "execution_count": 7,
   "id": "51adb319",
   "metadata": {
    "scrolled": true
   },
   "outputs": [],
   "source": [
    "sc.pp.normalize_total(pdata, target_sum=1e4)\n",
    "pdata.layers[\"log1p_norm\"] = sc.pp.log1p(pdata.X)"
   ]
  },
  {
   "cell_type": "code",
   "execution_count": 8,
   "id": "671c73d0",
   "metadata": {
    "scrolled": true
   },
   "outputs": [
    {
     "name": "stdout",
     "output_type": "stream",
     "text": [
      "  (0, 3)\t0.18772767\n",
      "  (0, 4)\t0.18772767\n",
      "  (0, 6)\t0.34572205\n",
      "  (1, 2)\t0.4824902\n",
      "  (1, 5)\t0.6025685\n",
      "  (1, 6)\t0.8948255\n",
      "  (1, 7)\t0.6025685\n",
      "  (2, 6)\t0.89661384\n",
      "  (2, 7)\t0.34688488\n",
      "  (2, 9)\t0.18840878\n",
      "  (3, 2)\t0.35401866\n",
      "  (3, 6)\t0.49297076\n",
      "  (3, 7)\t0.6149497\n",
      "  (3, 9)\t0.35401866\n",
      "  (4, 2)\t0.6173593\n",
      "  (4, 4)\t0.19351403\n",
      "  (4, 5)\t0.19351403\n",
      "  (4, 6)\t0.49501282\n",
      "  (4, 7)\t0.49501282\n",
      "  (5, 2)\t0.19856383\n",
      "  (5, 6)\t0.8406613\n",
      "  (5, 7)\t0.63052654\n",
      "  (5, 9)\t0.19856383\n",
      "  (6, 2)\t0.2009823\n",
      "  (6, 5)\t0.2009823\n",
      "  (6, 6)\t0.63679504\n",
      "  (6, 7)\t0.511511\n",
      "  (6, 9)\t0.36825204\n",
      "  (7, 2)\t0.36867082\n",
      "  (7, 5)\t0.36867082\n",
      "  (7, 6)\t0.5120553\n",
      "  (7, 7)\t0.8490541\n",
      "  (7, 9)\t0.20122983\n",
      "  (8, 2)\t0.51355153\n",
      "  (8, 6)\t0.36982226\n",
      "  (8, 7)\t0.6391949\n",
      "  (8, 9)\t0.20191066\n",
      "  (9, 2)\t0.5138662\n",
      "  (9, 5)\t0.20205393\n",
      "  (9, 6)\t0.20205393\n",
      "  (9, 7)\t1.0265118\n"
     ]
    }
   ],
   "source": [
    "print(pdata.X[:10, :10])"
   ]
  },
  {
   "cell_type": "code",
   "execution_count": 9,
   "id": "b41643a5",
   "metadata": {
    "scrolled": true
   },
   "outputs": [
    {
     "name": "stdout",
     "output_type": "stream",
     "text": [
      "  (0, 3)\t1\n",
      "  (0, 4)\t1\n",
      "  (0, 6)\t2\n",
      "  (1, 2)\t3\n",
      "  (1, 5)\t4\n",
      "  (1, 6)\t7\n",
      "  (1, 7)\t4\n",
      "  (2, 6)\t7\n",
      "  (2, 7)\t2\n",
      "  (2, 9)\t1\n",
      "  (3, 2)\t2\n",
      "  (3, 6)\t3\n",
      "  (3, 7)\t4\n",
      "  (3, 9)\t2\n",
      "  (4, 2)\t4\n",
      "  (4, 4)\t1\n",
      "  (4, 5)\t1\n",
      "  (4, 6)\t3\n",
      "  (4, 7)\t3\n",
      "  (5, 2)\t1\n",
      "  (5, 6)\t6\n",
      "  (5, 7)\t4\n",
      "  (5, 9)\t1\n",
      "  (6, 2)\t1\n",
      "  (6, 5)\t1\n",
      "  (6, 6)\t4\n",
      "  (6, 7)\t3\n",
      "  (6, 9)\t2\n",
      "  (7, 2)\t2\n",
      "  (7, 5)\t2\n",
      "  (7, 6)\t3\n",
      "  (7, 7)\t6\n",
      "  (7, 9)\t1\n",
      "  (8, 2)\t3\n",
      "  (8, 6)\t2\n",
      "  (8, 7)\t4\n",
      "  (8, 9)\t1\n",
      "  (9, 2)\t3\n",
      "  (9, 5)\t1\n",
      "  (9, 6)\t1\n",
      "  (9, 7)\t8\n"
     ]
    }
   ],
   "source": [
    "print(pdata.raw.X[:10, :10])"
   ]
  },
  {
   "cell_type": "code",
   "execution_count": 10,
   "id": "f72c35d2",
   "metadata": {},
   "outputs": [
    {
     "data": {
      "image/png": "[encoded data removed]",
      "text/plain": [
       "<Figure size 1200x600 with 2 Axes>"
      ]
     },
     "metadata": {},
     "output_type": "display_data"
    }
   ],
   "source": [
    "# Create subplots\n",
    "fig, axes = plt.subplots(1, 2, figsize=(12, 6))\n",
    "\n",
    "# Plot total counts\n",
    "sns.histplot(pdata.layers[\"counts\"].sum(1), bins=100, kde=False, ax=axes[0])\n",
    "axes[0].set_title(\"Raw counts\")\n",
    "\n",
    "# Plot shifted logarithm\n",
    "sns.histplot(pdata.layers[\"log1p_norm\"].sum(1), bins=100, kde=False, ax=axes[1])\n",
    "axes[1].set_title(\"Log1p normalized\")\n",
    "\n",
    "plt.tight_layout()\n",
    "plt.show()"
   ]
  },
  {
   "cell_type": "code",
   "execution_count": 11,
   "id": "85d5a7d2",
   "metadata": {
    "scrolled": true
   },
   "outputs": [
    {
     "name": "stderr",
     "output_type": "stream",
     "text": [
      "/afs/crc.nd.edu/user/e/eaboelno/miniforge3/envs/sysVI/lib/python3.9/site-packages/scanpy/preprocessing/_highly_variable_genes.py:258: FutureWarning: The default of observed=False is deprecated and will be changed to True in a future version of pandas. Pass observed=False to retain current behavior or observed=True to adopt the future default and silence this warning.\n",
      "  disp_grouped = df.groupby(\"mean_bin\")[\"dispersions\"]\n",
      "/afs/crc.nd.edu/user/e/eaboelno/miniforge3/envs/sysVI/lib/python3.9/site-packages/scanpy/preprocessing/_highly_variable_genes.py:258: FutureWarning: The default of observed=False is deprecated and will be changed to True in a future version of pandas. Pass observed=False to retain current behavior or observed=True to adopt the future default and silence this warning.\n",
      "  disp_grouped = df.groupby(\"mean_bin\")[\"dispersions\"]\n",
      "/afs/crc.nd.edu/user/e/eaboelno/miniforge3/envs/sysVI/lib/python3.9/site-packages/scanpy/preprocessing/_highly_variable_genes.py:258: FutureWarning: The default of observed=False is deprecated and will be changed to True in a future version of pandas. Pass observed=False to retain current behavior or observed=True to adopt the future default and silence this warning.\n",
      "  disp_grouped = df.groupby(\"mean_bin\")[\"dispersions\"]\n",
      "/afs/crc.nd.edu/user/e/eaboelno/miniforge3/envs/sysVI/lib/python3.9/site-packages/scanpy/preprocessing/_highly_variable_genes.py:258: FutureWarning: The default of observed=False is deprecated and will be changed to True in a future version of pandas. Pass observed=False to retain current behavior or observed=True to adopt the future default and silence this warning.\n",
      "  disp_grouped = df.groupby(\"mean_bin\")[\"dispersions\"]\n",
      "/afs/crc.nd.edu/user/e/eaboelno/miniforge3/envs/sysVI/lib/python3.9/site-packages/scanpy/preprocessing/_highly_variable_genes.py:258: FutureWarning: The default of observed=False is deprecated and will be changed to True in a future version of pandas. Pass observed=False to retain current behavior or observed=True to adopt the future default and silence this warning.\n",
      "  disp_grouped = df.groupby(\"mean_bin\")[\"dispersions\"]\n",
      "/afs/crc.nd.edu/user/e/eaboelno/miniforge3/envs/sysVI/lib/python3.9/site-packages/scanpy/preprocessing/_highly_variable_genes.py:258: FutureWarning: The default of observed=False is deprecated and will be changed to True in a future version of pandas. Pass observed=False to retain current behavior or observed=True to adopt the future default and silence this warning.\n",
      "  disp_grouped = df.groupby(\"mean_bin\")[\"dispersions\"]\n",
      "/afs/crc.nd.edu/user/e/eaboelno/miniforge3/envs/sysVI/lib/python3.9/site-packages/scanpy/preprocessing/_highly_variable_genes.py:258: FutureWarning: The default of observed=False is deprecated and will be changed to True in a future version of pandas. Pass observed=False to retain current behavior or observed=True to adopt the future default and silence this warning.\n",
      "  disp_grouped = df.groupby(\"mean_bin\")[\"dispersions\"]\n",
      "/afs/crc.nd.edu/user/e/eaboelno/miniforge3/envs/sysVI/lib/python3.9/site-packages/scanpy/preprocessing/_highly_variable_genes.py:258: FutureWarning: The default of observed=False is deprecated and will be changed to True in a future version of pandas. Pass observed=False to retain current behavior or observed=True to adopt the future default and silence this warning.\n",
      "  disp_grouped = df.groupby(\"mean_bin\")[\"dispersions\"]\n",
      "/afs/crc.nd.edu/user/e/eaboelno/miniforge3/envs/sysVI/lib/python3.9/site-packages/scanpy/preprocessing/_highly_variable_genes.py:258: FutureWarning: The default of observed=False is deprecated and will be changed to True in a future version of pandas. Pass observed=False to retain current behavior or observed=True to adopt the future default and silence this warning.\n",
      "  disp_grouped = df.groupby(\"mean_bin\")[\"dispersions\"]\n",
      "/afs/crc.nd.edu/user/e/eaboelno/miniforge3/envs/sysVI/lib/python3.9/site-packages/scanpy/preprocessing/_highly_variable_genes.py:258: FutureWarning: The default of observed=False is deprecated and will be changed to True in a future version of pandas. Pass observed=False to retain current behavior or observed=True to adopt the future default and silence this warning.\n",
      "  disp_grouped = df.groupby(\"mean_bin\")[\"dispersions\"]\n",
      "/afs/crc.nd.edu/user/e/eaboelno/miniforge3/envs/sysVI/lib/python3.9/site-packages/scanpy/preprocessing/_highly_variable_genes.py:258: FutureWarning: The default of observed=False is deprecated and will be changed to True in a future version of pandas. Pass observed=False to retain current behavior or observed=True to adopt the future default and silence this warning.\n",
      "  disp_grouped = df.groupby(\"mean_bin\")[\"dispersions\"]\n",
      "/afs/crc.nd.edu/user/e/eaboelno/miniforge3/envs/sysVI/lib/python3.9/site-packages/scanpy/preprocessing/_highly_variable_genes.py:258: FutureWarning: The default of observed=False is deprecated and will be changed to True in a future version of pandas. Pass observed=False to retain current behavior or observed=True to adopt the future default and silence this warning.\n",
      "  disp_grouped = df.groupby(\"mean_bin\")[\"dispersions\"]\n",
      "/afs/crc.nd.edu/user/e/eaboelno/miniforge3/envs/sysVI/lib/python3.9/site-packages/scanpy/preprocessing/_highly_variable_genes.py:508: FutureWarning: The provided callable <function nanmean at 0x7f8d64304ca0> is currently using SeriesGroupBy.mean. In a future version of pandas, the provided callable will be used directly. To keep current behavior pass the string \"mean\" instead.\n",
      "  df = df.groupby(\"gene\").agg(\n",
      "/afs/crc.nd.edu/user/e/eaboelno/miniforge3/envs/sysVI/lib/python3.9/site-packages/scanpy/preprocessing/_highly_variable_genes.py:508: FutureWarning: The provided callable <function nanmean at 0x7f8d64304ca0> is currently using SeriesGroupBy.mean. In a future version of pandas, the provided callable will be used directly. To keep current behavior pass the string \"mean\" instead.\n",
      "  df = df.groupby(\"gene\").agg(\n",
      "/afs/crc.nd.edu/user/e/eaboelno/miniforge3/envs/sysVI/lib/python3.9/site-packages/scanpy/preprocessing/_highly_variable_genes.py:508: FutureWarning: The provided callable <function nansum at 0x7f8d64304820> is currently using SeriesGroupBy.sum. In a future version of pandas, the provided callable will be used directly. To keep current behavior pass the string \"sum\" instead.\n",
      "  df = df.groupby(\"gene\").agg(\n"
     ]
    }
   ],
   "source": [
    "sc.pp.highly_variable_genes(\n",
    "     adata=pdata, n_top_genes=10000, flavor='cell_ranger', batch_key='batch')"
   ]
  },
  {
   "cell_type": "code",
   "execution_count": 12,
   "id": "e9b1bd16",
   "metadata": {},
   "outputs": [
    {
     "data": {
      "image/png": "[encoded data removed]",
      "text/plain": [
       "<Figure size 1280x480 with 2 Axes>"
      ]
     },
     "metadata": {},
     "output_type": "display_data"
    }
   ],
   "source": [
    "sc.pl.highly_variable_genes(pdata)"
   ]
  },
  {
   "cell_type": "code",
   "execution_count": 13,
   "id": "671e913b",
   "metadata": {},
   "outputs": [],
   "source": [
    "pdata.write_h5ad('./cVAE_analysis/sysVI/pdata_hvg_updatedX.h5ad')"
   ]
  },
  {
   "cell_type": "code",
   "execution_count": 14,
   "id": "d2ae73ff",
   "metadata": {},
   "outputs": [],
   "source": [
    "#pdata = sc.read_h5ad('./cVAE_analysis/human_mouse/pdata_m2h_simplified_labeled.h5ad')\n",
    "sdata = sc.read_h5ad('./cVAE_analysis/human_mouse/sdata_m2h_simplified_labeled.h5ad')"
   ]
  },
  {
   "cell_type": "code",
   "execution_count": 15,
   "id": "a9260651",
   "metadata": {},
   "outputs": [
    {
     "data": {
      "text/plain": [
       "AnnData object with n_obs × n_vars = 48734 × 21096\n",
       "    obs: 'sample_id', 'publication', 'sample_id_anon', 'individual_id_anon', 'replicate', 'treatment', 'condition', 'tissue', 'time', 'batch', 'lesion_type', 'sample_source', 'diagnosis', 'n_genes_by_counts', 'total_counts', 'pct_counts_mt', 'pct_counts_ribo', 's_score', 'g2m_score', 'phase', 'type_fine', 'type_broad', 'cluster_zoom', 'exclude_pseudobulk', 'seq_pool', 'sex', 'age_at_death', 'smoker', 'cause_of_death', 'years_w_ms', 'pmi_minutes', 'age_scale', 'age_cat', 'pmi_cat', 'pmi_cat2', 'cell_cycle_diff', 'cell_type_eval', 'library_type', 'sample_type', 'organism', 'system'\n",
       "    var: 'mouse_gene_id', 'n_cells', 'mouse_gene_name', 'human_gene_name', 'human_gene_id'\n",
       "    layers: 'counts', 'log1p_norm'"
      ]
     },
     "execution_count": 15,
     "metadata": {},
     "output_type": "execute_result"
    }
   ],
   "source": [
    "sdata"
   ]
  },
  {
   "cell_type": "code",
   "execution_count": 16,
   "id": "680e48d8",
   "metadata": {},
   "outputs": [
    {
     "data": {
      "text/plain": [
       "View of AnnData object with n_obs × n_vars = 48734 × 18322\n",
       "    obs: 'sample_id', 'publication', 'sample_id_anon', 'individual_id_anon', 'replicate', 'treatment', 'condition', 'tissue', 'time', 'batch', 'lesion_type', 'sample_source', 'diagnosis', 'n_genes_by_counts', 'total_counts', 'pct_counts_mt', 'pct_counts_ribo', 's_score', 'g2m_score', 'phase', 'type_fine', 'type_broad', 'cluster_zoom', 'exclude_pseudobulk', 'seq_pool', 'sex', 'age_at_death', 'smoker', 'cause_of_death', 'years_w_ms', 'pmi_minutes', 'age_scale', 'age_cat', 'pmi_cat', 'pmi_cat2', 'cell_cycle_diff', 'cell_type_eval', 'library_type', 'sample_type', 'organism', 'system'\n",
       "    var: 'mouse_gene_id', 'n_cells', 'mouse_gene_name', 'human_gene_name', 'human_gene_id'\n",
       "    layers: 'counts'"
      ]
     },
     "execution_count": 16,
     "metadata": {},
     "output_type": "execute_result"
    }
   ],
   "source": [
    "sdata.X = sdata.layers['counts']\n",
    "del sdata.layers[\"log1p_norm\"]\n",
    "del sdata.raw\n",
    "sdata=sdata[:,np.array((sdata.X>0).sum(axis=0)>20).ravel()]\n",
    "sdata"
   ]
  },
  {
   "cell_type": "code",
   "execution_count": 17,
   "id": "dba738e0",
   "metadata": {},
   "outputs": [],
   "source": [
    "sdata.raw = sdata"
   ]
  },
  {
   "cell_type": "code",
   "execution_count": 18,
   "id": "6994b586",
   "metadata": {},
   "outputs": [],
   "source": [
    "sc.pp.normalize_total(sdata, target_sum=1e4)\n",
    "sdata.layers[\"log1p_norm\"] = sc.pp.log1p(sdata.X)"
   ]
  },
  {
   "cell_type": "code",
   "execution_count": 19,
   "id": "ff0795f2",
   "metadata": {},
   "outputs": [
    {
     "name": "stdout",
     "output_type": "stream",
     "text": [
      "  (0, 4)\t0.93436444\n",
      "  (0, 5)\t0.93436444\n",
      "  (0, 6)\t0.93436444\n",
      "  (1, 1)\t1.3971543\n",
      "  (1, 4)\t0.92498815\n",
      "  (2, 1)\t1.0110762\n",
      "  (2, 4)\t1.0110762\n",
      "  (2, 6)\t1.0110762\n",
      "  (3, 6)\t1.0606396\n",
      "  (3, 7)\t1.0606396\n",
      "  (4, 6)\t1.0600227\n",
      "  (6, 1)\t1.0913323\n",
      "  (7, 5)\t1.1027628\n"
     ]
    }
   ],
   "source": [
    "print(sdata.X[:10, :10])"
   ]
  },
  {
   "cell_type": "code",
   "execution_count": 20,
   "id": "a42b7261",
   "metadata": {},
   "outputs": [
    {
     "name": "stdout",
     "output_type": "stream",
     "text": [
      "  (0, 4)\t1\n",
      "  (0, 5)\t1\n",
      "  (0, 6)\t1\n",
      "  (1, 1)\t2\n",
      "  (1, 4)\t1\n",
      "  (2, 1)\t1\n",
      "  (2, 4)\t1\n",
      "  (2, 6)\t1\n",
      "  (3, 6)\t1\n",
      "  (3, 7)\t1\n",
      "  (4, 6)\t1\n",
      "  (6, 1)\t1\n",
      "  (7, 5)\t1\n"
     ]
    }
   ],
   "source": [
    "print(sdata.raw.X[:10, :10])"
   ]
  },
  {
   "cell_type": "code",
   "execution_count": 21,
   "id": "4f6220d5",
   "metadata": {},
   "outputs": [
    {
     "data": {
      "image/png": "[encoded data removed]",
      "text/plain": [
       "<Figure size 1200x600 with 2 Axes>"
      ]
     },
     "metadata": {},
     "output_type": "display_data"
    }
   ],
   "source": [
    "# Create subplots\n",
    "fig, axes = plt.subplots(1, 2, figsize=(12, 6))\n",
    "\n",
    "# Plot total counts\n",
    "sns.histplot(sdata.layers[\"counts\"].sum(1), bins=100, kde=False, ax=axes[0])\n",
    "axes[0].set_title(\"Raw counts\")\n",
    "\n",
    "# Plot shifted logarithm\n",
    "sns.histplot(sdata.layers[\"log1p_norm\"].sum(1), bins=100, kde=False, ax=axes[1])\n",
    "axes[1].set_title(\"Log1p normalized\")\n",
    "\n",
    "plt.tight_layout()\n",
    "plt.show()"
   ]
  },
  {
   "cell_type": "code",
   "execution_count": 22,
   "id": "e57b0561",
   "metadata": {},
   "outputs": [
    {
     "name": "stderr",
     "output_type": "stream",
     "text": [
      "/afs/crc.nd.edu/user/e/eaboelno/miniforge3/envs/sysVI/lib/python3.9/site-packages/scanpy/preprocessing/_highly_variable_genes.py:258: FutureWarning: The default of observed=False is deprecated and will be changed to True in a future version of pandas. Pass observed=False to retain current behavior or observed=True to adopt the future default and silence this warning.\n",
      "  disp_grouped = df.groupby(\"mean_bin\")[\"dispersions\"]\n",
      "/afs/crc.nd.edu/user/e/eaboelno/miniforge3/envs/sysVI/lib/python3.9/site-packages/scanpy/preprocessing/_highly_variable_genes.py:258: FutureWarning: The default of observed=False is deprecated and will be changed to True in a future version of pandas. Pass observed=False to retain current behavior or observed=True to adopt the future default and silence this warning.\n",
      "  disp_grouped = df.groupby(\"mean_bin\")[\"dispersions\"]\n",
      "/afs/crc.nd.edu/user/e/eaboelno/miniforge3/envs/sysVI/lib/python3.9/site-packages/scanpy/preprocessing/_highly_variable_genes.py:258: FutureWarning: The default of observed=False is deprecated and will be changed to True in a future version of pandas. Pass observed=False to retain current behavior or observed=True to adopt the future default and silence this warning.\n",
      "  disp_grouped = df.groupby(\"mean_bin\")[\"dispersions\"]\n",
      "/afs/crc.nd.edu/user/e/eaboelno/miniforge3/envs/sysVI/lib/python3.9/site-packages/scanpy/preprocessing/_highly_variable_genes.py:258: FutureWarning: The default of observed=False is deprecated and will be changed to True in a future version of pandas. Pass observed=False to retain current behavior or observed=True to adopt the future default and silence this warning.\n",
      "  disp_grouped = df.groupby(\"mean_bin\")[\"dispersions\"]\n",
      "/afs/crc.nd.edu/user/e/eaboelno/miniforge3/envs/sysVI/lib/python3.9/site-packages/scanpy/preprocessing/_highly_variable_genes.py:258: FutureWarning: The default of observed=False is deprecated and will be changed to True in a future version of pandas. Pass observed=False to retain current behavior or observed=True to adopt the future default and silence this warning.\n",
      "  disp_grouped = df.groupby(\"mean_bin\")[\"dispersions\"]\n",
      "/afs/crc.nd.edu/user/e/eaboelno/miniforge3/envs/sysVI/lib/python3.9/site-packages/scanpy/preprocessing/_highly_variable_genes.py:258: FutureWarning: The default of observed=False is deprecated and will be changed to True in a future version of pandas. Pass observed=False to retain current behavior or observed=True to adopt the future default and silence this warning.\n",
      "  disp_grouped = df.groupby(\"mean_bin\")[\"dispersions\"]\n",
      "/afs/crc.nd.edu/user/e/eaboelno/miniforge3/envs/sysVI/lib/python3.9/site-packages/scanpy/preprocessing/_highly_variable_genes.py:258: FutureWarning: The default of observed=False is deprecated and will be changed to True in a future version of pandas. Pass observed=False to retain current behavior or observed=True to adopt the future default and silence this warning.\n",
      "  disp_grouped = df.groupby(\"mean_bin\")[\"dispersions\"]\n",
      "/afs/crc.nd.edu/user/e/eaboelno/miniforge3/envs/sysVI/lib/python3.9/site-packages/scanpy/preprocessing/_highly_variable_genes.py:258: FutureWarning: The default of observed=False is deprecated and will be changed to True in a future version of pandas. Pass observed=False to retain current behavior or observed=True to adopt the future default and silence this warning.\n",
      "  disp_grouped = df.groupby(\"mean_bin\")[\"dispersions\"]\n",
      "/afs/crc.nd.edu/user/e/eaboelno/miniforge3/envs/sysVI/lib/python3.9/site-packages/scanpy/preprocessing/_highly_variable_genes.py:258: FutureWarning: The default of observed=False is deprecated and will be changed to True in a future version of pandas. Pass observed=False to retain current behavior or observed=True to adopt the future default and silence this warning.\n",
      "  disp_grouped = df.groupby(\"mean_bin\")[\"dispersions\"]\n",
      "/afs/crc.nd.edu/user/e/eaboelno/miniforge3/envs/sysVI/lib/python3.9/site-packages/scanpy/preprocessing/_highly_variable_genes.py:258: FutureWarning: The default of observed=False is deprecated and will be changed to True in a future version of pandas. Pass observed=False to retain current behavior or observed=True to adopt the future default and silence this warning.\n",
      "  disp_grouped = df.groupby(\"mean_bin\")[\"dispersions\"]\n",
      "/afs/crc.nd.edu/user/e/eaboelno/miniforge3/envs/sysVI/lib/python3.9/site-packages/scanpy/preprocessing/_highly_variable_genes.py:508: FutureWarning: The provided callable <function nanmean at 0x7f8d64304ca0> is currently using SeriesGroupBy.mean. In a future version of pandas, the provided callable will be used directly. To keep current behavior pass the string \"mean\" instead.\n",
      "  df = df.groupby(\"gene\").agg(\n",
      "/afs/crc.nd.edu/user/e/eaboelno/miniforge3/envs/sysVI/lib/python3.9/site-packages/scanpy/preprocessing/_highly_variable_genes.py:508: FutureWarning: The provided callable <function nanmean at 0x7f8d64304ca0> is currently using SeriesGroupBy.mean. In a future version of pandas, the provided callable will be used directly. To keep current behavior pass the string \"mean\" instead.\n",
      "  df = df.groupby(\"gene\").agg(\n",
      "/afs/crc.nd.edu/user/e/eaboelno/miniforge3/envs/sysVI/lib/python3.9/site-packages/scanpy/preprocessing/_highly_variable_genes.py:508: FutureWarning: The provided callable <function nansum at 0x7f8d64304820> is currently using SeriesGroupBy.sum. In a future version of pandas, the provided callable will be used directly. To keep current behavior pass the string \"sum\" instead.\n",
      "  df = df.groupby(\"gene\").agg(\n"
     ]
    }
   ],
   "source": [
    "sc.pp.highly_variable_genes(\n",
    "     adata=sdata, n_top_genes=10000, flavor='cell_ranger', batch_key='batch')"
   ]
  },
  {
   "cell_type": "code",
   "execution_count": 23,
   "id": "bed38b3f",
   "metadata": {},
   "outputs": [
    {
     "data": {
      "image/png": "[encoded data removed]",
      "text/plain": [
       "<Figure size 1280x480 with 2 Axes>"
      ]
     },
     "metadata": {},
     "output_type": "display_data"
    }
   ],
   "source": [
    "sc.pl.highly_variable_genes(sdata)"
   ]
  },
  {
   "cell_type": "code",
   "execution_count": 24,
   "id": "544551d1",
   "metadata": {},
   "outputs": [],
   "source": [
    "sdata.write_h5ad('./cVAE_analysis/sysVI/sdata_hvg_updatedX.h5ad')"
   ]
  },
  {
   "cell_type": "code",
   "execution_count": 25,
   "id": "d20c7650",
   "metadata": {},
   "outputs": [
    {
     "data": {
      "text/plain": [
       "highly_variable_nbatches\n",
       "12    3230\n",
       "0     2029\n",
       "2     1822\n",
       "1     1784\n",
       "3     1754\n",
       "4     1647\n",
       "5     1412\n",
       "11    1322\n",
       "6     1305\n",
       "7     1098\n",
       "10    1011\n",
       "8      996\n",
       "9      974\n",
       "Name: count, dtype: int64"
      ]
     },
     "execution_count": 25,
     "metadata": {},
     "output_type": "execute_result"
    },
    {
     "data": {
      "image/png": "[encoded data removed]",
      "text/plain": [
       "<Figure size 640x480 with 1 Axes>"
      ]
     },
     "metadata": {},
     "output_type": "display_data"
    }
   ],
   "source": [
    "%matplotlib inline\n",
    "import matplotlib.pyplot as plt\n",
    "n_batches = pdata.var[\"highly_variable_nbatches\"].value_counts()\n",
    "ax = n_batches.plot(kind=\"bar\")\n",
    "n_batches"
   ]
  },
  {
   "cell_type": "code",
   "execution_count": 26,
   "id": "770bce16",
   "metadata": {},
   "outputs": [
    {
     "data": {
      "text/plain": [
       "highly_variable_nbatches\n",
       "4     2322\n",
       "5     2321\n",
       "6     2065\n",
       "3     2047\n",
       "7     1862\n",
       "10    1672\n",
       "8     1619\n",
       "9     1562\n",
       "2     1413\n",
       "1      986\n",
       "0      453\n",
       "Name: count, dtype: int64"
      ]
     },
     "execution_count": 26,
     "metadata": {},
     "output_type": "execute_result"
    },
    {
     "data": {
      "image/png": "[encoded data removed]",
      "text/plain": [
       "<Figure size 640x480 with 1 Axes>"
      ]
     },
     "metadata": {},
     "output_type": "display_data"
    }
   ],
   "source": [
    "%matplotlib inline\n",
    "import matplotlib.pyplot as plt\n",
    "n_batches = sdata.var[\"highly_variable_nbatches\"].value_counts()\n",
    "ax = n_batches.plot(kind=\"bar\")\n",
    "n_batches"
   ]
  },
  {
   "cell_type": "markdown",
   "id": "6fdabc3e",
   "metadata": {},
   "source": [
    "# Find HVG on merged mouse data"
   ]
  },
  {
   "cell_type": "code",
   "execution_count": 27,
   "id": "cf9aa78f",
   "metadata": {},
   "outputs": [],
   "source": [
    "adata = sc.read_h5ad('./cVAE_analysis/sysVI/adata_hvg_updatedX.h5ad')\n",
    "pdata = sc.read_h5ad('./cVAE_analysis/sysVI/pdata_hvg_updatedX.h5ad')\n",
    "sdata = sc.read_h5ad('./cVAE_analysis/sysVI/sdata_hvg_updatedX.h5ad')"
   ]
  },
  {
   "cell_type": "code",
   "execution_count": 28,
   "id": "596de5b5",
   "metadata": {},
   "outputs": [
    {
     "data": {
      "text/plain": [
       "AnnData object with n_obs × n_vars = 21541 × 19107\n",
       "    obs: 'sample_id', 'publication', 'sample_id_anon', 'individual_id_anon', 'replicate', 'treatment', 'condition', 'tissue', 'time', 'batch', 'lesion_type', 'sample_source', 'diagnosis', 'n_genes_by_counts', 'total_counts', 'pct_counts_mt', 'pct_counts_ribo', 's_score', 'g2m_score', 'phase', 'type_fine', 'type_broad', 'cluster_zoom', 'exclude_pseudobulk', 'seq_pool', 'sex', 'age_at_death', 'smoker', 'cause_of_death', 'years_w_ms', 'pmi_minutes', 'age_scale', 'age_cat', 'pmi_cat', 'pmi_cat2', 'cell_cycle_diff', 'cell_type_eval', 'library_type', 'sample_type', 'organism', 'system'\n",
       "    var: 'mouse_gene_id', 'n_cells', 'mouse_gene_name', 'human_gene_name', 'human_gene_id', 'highly_variable', 'means', 'dispersions', 'dispersions_norm', 'highly_variable_nbatches', 'highly_variable_intersection'\n",
       "    uns: 'hvg'\n",
       "    layers: 'counts', 'log1p_norm'"
      ]
     },
     "execution_count": 28,
     "metadata": {},
     "output_type": "execute_result"
    }
   ],
   "source": [
    "adata"
   ]
  },
  {
   "cell_type": "code",
   "execution_count": 47,
   "id": "8a19d2ee",
   "metadata": {},
   "outputs": [
    {
     "data": {
      "text/html": [
       "<div>\n",
       "<style scoped>\n",
       "    .dataframe tbody tr th:only-of-type {\n",
       "        vertical-align: middle;\n",
       "    }\n",
       "\n",
       "    .dataframe tbody tr th {\n",
       "        vertical-align: top;\n",
       "    }\n",
       "\n",
       "    .dataframe thead th {\n",
       "        text-align: right;\n",
       "    }\n",
       "</style>\n",
       "<table border=\"1\" class=\"dataframe\">\n",
       "  <thead>\n",
       "    <tr style=\"text-align: right;\">\n",
       "      <th></th>\n",
       "      <th>mouse_gene_id</th>\n",
       "      <th>n_cells</th>\n",
       "      <th>mouse_gene_name</th>\n",
       "      <th>human_gene_name</th>\n",
       "      <th>human_gene_id</th>\n",
       "      <th>highly_variable</th>\n",
       "      <th>means</th>\n",
       "      <th>dispersions</th>\n",
       "      <th>dispersions_norm</th>\n",
       "      <th>highly_variable_nbatches</th>\n",
       "      <th>highly_variable_intersection</th>\n",
       "    </tr>\n",
       "    <tr>\n",
       "      <th>gene_name</th>\n",
       "      <th></th>\n",
       "      <th></th>\n",
       "      <th></th>\n",
       "      <th></th>\n",
       "      <th></th>\n",
       "      <th></th>\n",
       "      <th></th>\n",
       "      <th></th>\n",
       "      <th></th>\n",
       "      <th></th>\n",
       "      <th></th>\n",
       "    </tr>\n",
       "  </thead>\n",
       "  <tbody>\n",
       "    <tr>\n",
       "      <th>0610005C13Rik</th>\n",
       "      <td>ENSMUSG00000109644</td>\n",
       "      <td>156</td>\n",
       "      <td>0610005C13Rik</td>\n",
       "      <td>NaN</td>\n",
       "      <td>NaN</td>\n",
       "      <td>True</td>\n",
       "      <td>0.011130</td>\n",
       "      <td>1.937569</td>\n",
       "      <td>0.321301</td>\n",
       "      <td>6</td>\n",
       "      <td>False</td>\n",
       "    </tr>\n",
       "    <tr>\n",
       "      <th>0610009B22Rik</th>\n",
       "      <td>ENSMUSG00000007777</td>\n",
       "      <td>280</td>\n",
       "      <td>0610009B22Rik</td>\n",
       "      <td>NaN</td>\n",
       "      <td>NaN</td>\n",
       "      <td>False</td>\n",
       "      <td>0.015900</td>\n",
       "      <td>1.365814</td>\n",
       "      <td>-0.620766</td>\n",
       "      <td>1</td>\n",
       "      <td>False</td>\n",
       "    </tr>\n",
       "    <tr>\n",
       "      <th>0610009E02Rik</th>\n",
       "      <td>ENSMUSG00000086714</td>\n",
       "      <td>416</td>\n",
       "      <td>0610009E02Rik</td>\n",
       "      <td>NaN</td>\n",
       "      <td>NaN</td>\n",
       "      <td>False</td>\n",
       "      <td>0.025459</td>\n",
       "      <td>1.725836</td>\n",
       "      <td>-0.403202</td>\n",
       "      <td>2</td>\n",
       "      <td>False</td>\n",
       "    </tr>\n",
       "    <tr>\n",
       "      <th>0610009L18Rik</th>\n",
       "      <td>ENSMUSG00000043644</td>\n",
       "      <td>164</td>\n",
       "      <td>0610009L18Rik</td>\n",
       "      <td>NaN</td>\n",
       "      <td>NaN</td>\n",
       "      <td>True</td>\n",
       "      <td>0.009225</td>\n",
       "      <td>1.798777</td>\n",
       "      <td>-0.017442</td>\n",
       "      <td>6</td>\n",
       "      <td>False</td>\n",
       "    </tr>\n",
       "    <tr>\n",
       "      <th>0610010F05Rik</th>\n",
       "      <td>ENSMUSG00000042208</td>\n",
       "      <td>2648</td>\n",
       "      <td>0610010F05Rik</td>\n",
       "      <td>NaN</td>\n",
       "      <td>ENSG00000162929</td>\n",
       "      <td>False</td>\n",
       "      <td>0.181715</td>\n",
       "      <td>1.649911</td>\n",
       "      <td>-1.199714</td>\n",
       "      <td>0</td>\n",
       "      <td>False</td>\n",
       "    </tr>\n",
       "    <tr>\n",
       "      <th>...</th>\n",
       "      <td>...</td>\n",
       "      <td>...</td>\n",
       "      <td>...</td>\n",
       "      <td>...</td>\n",
       "      <td>...</td>\n",
       "      <td>...</td>\n",
       "      <td>...</td>\n",
       "      <td>...</td>\n",
       "      <td>...</td>\n",
       "      <td>...</td>\n",
       "      <td>...</td>\n",
       "    </tr>\n",
       "    <tr>\n",
       "      <th>mt-Nd3</th>\n",
       "      <td>ENSMUSG00000064360</td>\n",
       "      <td>110</td>\n",
       "      <td>mt-Nd3</td>\n",
       "      <td>MT-ND3</td>\n",
       "      <td>ENSG00000198840</td>\n",
       "      <td>False</td>\n",
       "      <td>0.007755</td>\n",
       "      <td>1.483861</td>\n",
       "      <td>-0.538332</td>\n",
       "      <td>2</td>\n",
       "      <td>False</td>\n",
       "    </tr>\n",
       "    <tr>\n",
       "      <th>mt-Nd4</th>\n",
       "      <td>ENSMUSG00000064363</td>\n",
       "      <td>913</td>\n",
       "      <td>mt-Nd4</td>\n",
       "      <td>MT-ND4</td>\n",
       "      <td>ENSG00000198886</td>\n",
       "      <td>False</td>\n",
       "      <td>0.070941</td>\n",
       "      <td>1.771368</td>\n",
       "      <td>-0.336554</td>\n",
       "      <td>4</td>\n",
       "      <td>False</td>\n",
       "    </tr>\n",
       "    <tr>\n",
       "      <th>mt-Nd4l</th>\n",
       "      <td>ENSMUSG00000065947</td>\n",
       "      <td>154</td>\n",
       "      <td>mt-Nd4l</td>\n",
       "      <td>MT-ND4L</td>\n",
       "      <td>ENSG00000212907</td>\n",
       "      <td>False</td>\n",
       "      <td>0.011444</td>\n",
       "      <td>1.642010</td>\n",
       "      <td>-0.344349</td>\n",
       "      <td>4</td>\n",
       "      <td>False</td>\n",
       "    </tr>\n",
       "    <tr>\n",
       "      <th>mt-Nd5</th>\n",
       "      <td>ENSMUSG00000064367</td>\n",
       "      <td>314</td>\n",
       "      <td>mt-Nd5</td>\n",
       "      <td>MT-ND5</td>\n",
       "      <td>ENSG00000198786</td>\n",
       "      <td>False</td>\n",
       "      <td>0.023322</td>\n",
       "      <td>1.545430</td>\n",
       "      <td>-0.955309</td>\n",
       "      <td>2</td>\n",
       "      <td>False</td>\n",
       "    </tr>\n",
       "    <tr>\n",
       "      <th>mt-Nd6</th>\n",
       "      <td>ENSMUSG00000064368</td>\n",
       "      <td>129</td>\n",
       "      <td>mt-Nd6</td>\n",
       "      <td>MT-ND6</td>\n",
       "      <td>ENSG00000198695</td>\n",
       "      <td>False</td>\n",
       "      <td>0.011582</td>\n",
       "      <td>1.648529</td>\n",
       "      <td>-0.261678</td>\n",
       "      <td>2</td>\n",
       "      <td>False</td>\n",
       "    </tr>\n",
       "  </tbody>\n",
       "</table>\n",
       "<p>19107 rows × 11 columns</p>\n",
       "</div>"
      ],
      "text/plain": [
       "                    mouse_gene_id  n_cells mouse_gene_name human_gene_name  \\\n",
       "gene_name                                                                    \n",
       "0610005C13Rik  ENSMUSG00000109644      156   0610005C13Rik             NaN   \n",
       "0610009B22Rik  ENSMUSG00000007777      280   0610009B22Rik             NaN   \n",
       "0610009E02Rik  ENSMUSG00000086714      416   0610009E02Rik             NaN   \n",
       "0610009L18Rik  ENSMUSG00000043644      164   0610009L18Rik             NaN   \n",
       "0610010F05Rik  ENSMUSG00000042208     2648   0610010F05Rik             NaN   \n",
       "...                           ...      ...             ...             ...   \n",
       "mt-Nd3         ENSMUSG00000064360      110          mt-Nd3          MT-ND3   \n",
       "mt-Nd4         ENSMUSG00000064363      913          mt-Nd4          MT-ND4   \n",
       "mt-Nd4l        ENSMUSG00000065947      154         mt-Nd4l         MT-ND4L   \n",
       "mt-Nd5         ENSMUSG00000064367      314          mt-Nd5          MT-ND5   \n",
       "mt-Nd6         ENSMUSG00000064368      129          mt-Nd6          MT-ND6   \n",
       "\n",
       "                 human_gene_id  highly_variable     means  dispersions  \\\n",
       "gene_name                                                                \n",
       "0610005C13Rik              NaN             True  0.011130     1.937569   \n",
       "0610009B22Rik              NaN            False  0.015900     1.365814   \n",
       "0610009E02Rik              NaN            False  0.025459     1.725836   \n",
       "0610009L18Rik              NaN             True  0.009225     1.798777   \n",
       "0610010F05Rik  ENSG00000162929            False  0.181715     1.649911   \n",
       "...                        ...              ...       ...          ...   \n",
       "mt-Nd3         ENSG00000198840            False  0.007755     1.483861   \n",
       "mt-Nd4         ENSG00000198886            False  0.070941     1.771368   \n",
       "mt-Nd4l        ENSG00000212907            False  0.011444     1.642010   \n",
       "mt-Nd5         ENSG00000198786            False  0.023322     1.545430   \n",
       "mt-Nd6         ENSG00000198695            False  0.011582     1.648529   \n",
       "\n",
       "               dispersions_norm  highly_variable_nbatches  \\\n",
       "gene_name                                                   \n",
       "0610005C13Rik          0.321301                         6   \n",
       "0610009B22Rik         -0.620766                         1   \n",
       "0610009E02Rik         -0.403202                         2   \n",
       "0610009L18Rik         -0.017442                         6   \n",
       "0610010F05Rik         -1.199714                         0   \n",
       "...                         ...                       ...   \n",
       "mt-Nd3                -0.538332                         2   \n",
       "mt-Nd4                -0.336554                         4   \n",
       "mt-Nd4l               -0.344349                         4   \n",
       "mt-Nd5                -0.955309                         2   \n",
       "mt-Nd6                -0.261678                         2   \n",
       "\n",
       "               highly_variable_intersection  \n",
       "gene_name                                    \n",
       "0610005C13Rik                         False  \n",
       "0610009B22Rik                         False  \n",
       "0610009E02Rik                         False  \n",
       "0610009L18Rik                         False  \n",
       "0610010F05Rik                         False  \n",
       "...                                     ...  \n",
       "mt-Nd3                                False  \n",
       "mt-Nd4                                False  \n",
       "mt-Nd4l                               False  \n",
       "mt-Nd5                                False  \n",
       "mt-Nd6                                False  \n",
       "\n",
       "[19107 rows x 11 columns]"
      ]
     },
     "execution_count": 47,
     "metadata": {},
     "output_type": "execute_result"
    }
   ],
   "source": [
    "adata.var"
   ]
  },
  {
   "cell_type": "code",
   "execution_count": 29,
   "id": "e24eba6b",
   "metadata": {},
   "outputs": [
    {
     "data": {
      "text/plain": [
       "AnnData object with n_obs × n_vars = 41938 × 20384\n",
       "    obs: 'sample_id', 'publication', 'sample_id_anon', 'individual_id_anon', 'replicate', 'treatment', 'condition', 'tissue', 'time', 'batch', 'lesion_type', 'sample_source', 'diagnosis', 'n_genes_by_counts', 'total_counts', 'pct_counts_mt', 'pct_counts_ribo', 's_score', 'g2m_score', 'phase', 'type_fine', 'type_broad', 'cluster_zoom', 'exclude_pseudobulk', 'seq_pool', 'sex', 'age_at_death', 'smoker', 'cause_of_death', 'years_w_ms', 'pmi_minutes', 'age_scale', 'age_cat', 'pmi_cat', 'pmi_cat2', 'cell_cycle_diff', 'cell_type_eval', 'library_type', 'sample_type', 'organism', 'system'\n",
       "    var: 'mouse_gene_id', 'n_cells', 'mouse_gene_name', 'human_gene_name', 'human_gene_id', 'highly_variable', 'means', 'dispersions', 'dispersions_norm', 'highly_variable_nbatches', 'highly_variable_intersection'\n",
       "    uns: 'hvg'\n",
       "    layers: 'counts', 'log1p_norm'"
      ]
     },
     "execution_count": 29,
     "metadata": {},
     "output_type": "execute_result"
    }
   ],
   "source": [
    "pdata"
   ]
  },
  {
   "cell_type": "code",
   "execution_count": 30,
   "id": "15b7d48c",
   "metadata": {},
   "outputs": [
    {
     "data": {
      "text/plain": [
       "AnnData object with n_obs × n_vars = 48734 × 18322\n",
       "    obs: 'sample_id', 'publication', 'sample_id_anon', 'individual_id_anon', 'replicate', 'treatment', 'condition', 'tissue', 'time', 'batch', 'lesion_type', 'sample_source', 'diagnosis', 'n_genes_by_counts', 'total_counts', 'pct_counts_mt', 'pct_counts_ribo', 's_score', 'g2m_score', 'phase', 'type_fine', 'type_broad', 'cluster_zoom', 'exclude_pseudobulk', 'seq_pool', 'sex', 'age_at_death', 'smoker', 'cause_of_death', 'years_w_ms', 'pmi_minutes', 'age_scale', 'age_cat', 'pmi_cat', 'pmi_cat2', 'cell_cycle_diff', 'cell_type_eval', 'library_type', 'sample_type', 'organism', 'system'\n",
       "    var: 'mouse_gene_id', 'n_cells', 'mouse_gene_name', 'human_gene_name', 'human_gene_id', 'highly_variable', 'means', 'dispersions', 'dispersions_norm', 'highly_variable_nbatches', 'highly_variable_intersection'\n",
       "    uns: 'hvg'\n",
       "    layers: 'counts', 'log1p_norm'"
      ]
     },
     "execution_count": 30,
     "metadata": {},
     "output_type": "execute_result"
    }
   ],
   "source": [
    "sdata"
   ]
  },
  {
   "cell_type": "code",
   "execution_count": 52,
   "id": "caac4a96",
   "metadata": {},
   "outputs": [
    {
     "name": "stdout",
     "output_type": "stream",
     "text": [
      "[('0610005C13Rik', 'ENSMUSG00000109644'), ('0610009B22Rik', 'ENSMUSG00000007777'), ('0610009E02Rik', 'ENSMUSG00000086714'), ('0610009L18Rik', 'ENSMUSG00000043644'), ('0610010F05Rik', 'ENSMUSG00000042208'), ('0610010K14Rik', 'ENSMUSG00000020831'), ('0610012G03Rik', 'ENSMUSG00000107002'), ('0610030E20Rik', 'ENSMUSG00000058706'), ('0610038B21Rik', 'ENSMUSG00000097882'), ('0610040B10Rik', 'ENSMUSG00000089889')]\n"
     ]
    }
   ],
   "source": [
    "# Create an empty dictionary to store the mapping\n",
    "gene_id_mapping = {}\n",
    "\n",
    "# Iterate through each AnnData object and create the mapping\n",
    "for ad in [adata, pdata, sdata]:\n",
    "    if 'mouse_gene_id' in ad.var.columns:\n",
    "        # Iterate through the genes in this AnnData object\n",
    "        for gene, mouse_gene_id in zip(ad.var.index, ad.var['mouse_gene_id']):\n",
    "            gene_id_mapping[gene] = mouse_gene_id\n",
    "\n",
    "            # Print the combined dictionary\n",
    "print(list(gene_id_mapping.items())[:10])"
   ]
  },
  {
   "cell_type": "code",
   "execution_count": 53,
   "id": "e1d04192",
   "metadata": {},
   "outputs": [
    {
     "data": {
      "text/plain": [
       "21411"
      ]
     },
     "execution_count": 53,
     "metadata": {},
     "output_type": "execute_result"
    }
   ],
   "source": [
    "len(gene_id_mapping)"
   ]
  },
  {
   "cell_type": "code",
   "execution_count": 31,
   "id": "3c78a640",
   "metadata": {},
   "outputs": [
    {
     "data": {
      "text/plain": [
       "AnnData object with n_obs × n_vars = 112213 × 21411\n",
       "    obs: 'sample_id', 'publication', 'sample_id_anon', 'individual_id_anon', 'replicate', 'treatment', 'condition', 'tissue', 'time', 'batch', 'lesion_type', 'sample_source', 'diagnosis', 'n_genes_by_counts', 'total_counts', 'pct_counts_mt', 'pct_counts_ribo', 's_score', 'g2m_score', 'phase', 'type_fine', 'type_broad', 'cluster_zoom', 'exclude_pseudobulk', 'seq_pool', 'sex', 'age_at_death', 'smoker', 'cause_of_death', 'years_w_ms', 'pmi_minutes', 'age_scale', 'age_cat', 'pmi_cat', 'pmi_cat2', 'cell_cycle_diff', 'cell_type_eval', 'library_type', 'sample_type', 'organism', 'system'\n",
       "    layers: 'counts', 'log1p_norm'"
      ]
     },
     "execution_count": 31,
     "metadata": {},
     "output_type": "execute_result"
    }
   ],
   "source": [
    "adata_mm=sc.concat([adata, pdata, sdata],\n",
    "                join='outer',\n",
    "                index_unique='_', keys=['adams','pandey', 'shen'])\n",
    "adata_mm"
   ]
  },
  {
   "cell_type": "code",
   "execution_count": 32,
   "id": "33cb7aa8",
   "metadata": {},
   "outputs": [
    {
     "data": {
      "text/plain": [
       "AnnData object with n_obs × n_vars = 112213 × 21411\n",
       "    obs: 'sample_id', 'publication', 'sample_id_anon', 'individual_id_anon', 'replicate', 'treatment', 'condition', 'tissue', 'time', 'batch', 'lesion_type', 'sample_source', 'diagnosis', 'n_genes_by_counts', 'total_counts', 'pct_counts_mt', 'pct_counts_ribo', 's_score', 'g2m_score', 'phase', 'type_fine', 'type_broad', 'cluster_zoom', 'exclude_pseudobulk', 'seq_pool', 'sex', 'age_at_death', 'smoker', 'cause_of_death', 'years_w_ms', 'pmi_minutes', 'age_scale', 'age_cat', 'pmi_cat', 'pmi_cat2', 'cell_cycle_diff', 'cell_type_eval', 'library_type', 'sample_type', 'organism', 'system'\n",
       "    var: 'n_cells'\n",
       "    layers: 'counts', 'log1p_norm'"
      ]
     },
     "execution_count": 32,
     "metadata": {},
     "output_type": "execute_result"
    }
   ],
   "source": [
    "sc.pp.filter_genes(adata_mm, min_cells=3)\n",
    "adata_mm"
   ]
  },
  {
   "cell_type": "code",
   "execution_count": 33,
   "id": "878c54d3",
   "metadata": {},
   "outputs": [
    {
     "data": {
      "image/png": "[encoded data removed]",
      "text/plain": [
       "<Figure size 1200x600 with 2 Axes>"
      ]
     },
     "metadata": {},
     "output_type": "display_data"
    }
   ],
   "source": [
    "# Create subplots\n",
    "fig, axes = plt.subplots(1, 2, figsize=(12, 6))\n",
    "\n",
    "# Plot total counts\n",
    "sns.histplot(adata_mm.layers[\"counts\"].sum(1), bins=100, kde=False, ax=axes[0])\n",
    "axes[0].set_title(\"Raw counts\")\n",
    "\n",
    "# Plot shifted logarithm\n",
    "sns.histplot(adata_mm.layers[\"log1p_norm\"].sum(1), bins=100, kde=False, ax=axes[1])\n",
    "axes[1].set_title(\"Log1p normalized\")\n",
    "\n",
    "plt.tight_layout()\n",
    "plt.show()"
   ]
  },
  {
   "cell_type": "code",
   "execution_count": 34,
   "id": "e4242e26",
   "metadata": {
    "scrolled": true
   },
   "outputs": [
    {
     "name": "stderr",
     "output_type": "stream",
     "text": [
      "/afs/crc.nd.edu/user/e/eaboelno/miniforge3/envs/sysVI/lib/python3.9/site-packages/scanpy/preprocessing/_highly_variable_genes.py:258: FutureWarning: The default of observed=False is deprecated and will be changed to True in a future version of pandas. Pass observed=False to retain current behavior or observed=True to adopt the future default and silence this warning.\n",
      "  disp_grouped = df.groupby(\"mean_bin\")[\"dispersions\"]\n",
      "/afs/crc.nd.edu/user/e/eaboelno/miniforge3/envs/sysVI/lib/python3.9/site-packages/scanpy/preprocessing/_highly_variable_genes.py:258: FutureWarning: The default of observed=False is deprecated and will be changed to True in a future version of pandas. Pass observed=False to retain current behavior or observed=True to adopt the future default and silence this warning.\n",
      "  disp_grouped = df.groupby(\"mean_bin\")[\"dispersions\"]\n",
      "/afs/crc.nd.edu/user/e/eaboelno/miniforge3/envs/sysVI/lib/python3.9/site-packages/scanpy/preprocessing/_highly_variable_genes.py:258: FutureWarning: The default of observed=False is deprecated and will be changed to True in a future version of pandas. Pass observed=False to retain current behavior or observed=True to adopt the future default and silence this warning.\n",
      "  disp_grouped = df.groupby(\"mean_bin\")[\"dispersions\"]\n",
      "/afs/crc.nd.edu/user/e/eaboelno/miniforge3/envs/sysVI/lib/python3.9/site-packages/scanpy/preprocessing/_highly_variable_genes.py:258: FutureWarning: The default of observed=False is deprecated and will be changed to True in a future version of pandas. Pass observed=False to retain current behavior or observed=True to adopt the future default and silence this warning.\n",
      "  disp_grouped = df.groupby(\"mean_bin\")[\"dispersions\"]\n",
      "/afs/crc.nd.edu/user/e/eaboelno/miniforge3/envs/sysVI/lib/python3.9/site-packages/scanpy/preprocessing/_highly_variable_genes.py:258: FutureWarning: The default of observed=False is deprecated and will be changed to True in a future version of pandas. Pass observed=False to retain current behavior or observed=True to adopt the future default and silence this warning.\n",
      "  disp_grouped = df.groupby(\"mean_bin\")[\"dispersions\"]\n",
      "/afs/crc.nd.edu/user/e/eaboelno/miniforge3/envs/sysVI/lib/python3.9/site-packages/scanpy/preprocessing/_highly_variable_genes.py:258: FutureWarning: The default of observed=False is deprecated and will be changed to True in a future version of pandas. Pass observed=False to retain current behavior or observed=True to adopt the future default and silence this warning.\n",
      "  disp_grouped = df.groupby(\"mean_bin\")[\"dispersions\"]\n",
      "/afs/crc.nd.edu/user/e/eaboelno/miniforge3/envs/sysVI/lib/python3.9/site-packages/scanpy/preprocessing/_highly_variable_genes.py:258: FutureWarning: The default of observed=False is deprecated and will be changed to True in a future version of pandas. Pass observed=False to retain current behavior or observed=True to adopt the future default and silence this warning.\n",
      "  disp_grouped = df.groupby(\"mean_bin\")[\"dispersions\"]\n",
      "/afs/crc.nd.edu/user/e/eaboelno/miniforge3/envs/sysVI/lib/python3.9/site-packages/scanpy/preprocessing/_highly_variable_genes.py:258: FutureWarning: The default of observed=False is deprecated and will be changed to True in a future version of pandas. Pass observed=False to retain current behavior or observed=True to adopt the future default and silence this warning.\n",
      "  disp_grouped = df.groupby(\"mean_bin\")[\"dispersions\"]\n",
      "/afs/crc.nd.edu/user/e/eaboelno/miniforge3/envs/sysVI/lib/python3.9/site-packages/scanpy/preprocessing/_highly_variable_genes.py:258: FutureWarning: The default of observed=False is deprecated and will be changed to True in a future version of pandas. Pass observed=False to retain current behavior or observed=True to adopt the future default and silence this warning.\n",
      "  disp_grouped = df.groupby(\"mean_bin\")[\"dispersions\"]\n",
      "/afs/crc.nd.edu/user/e/eaboelno/miniforge3/envs/sysVI/lib/python3.9/site-packages/scanpy/preprocessing/_highly_variable_genes.py:258: FutureWarning: The default of observed=False is deprecated and will be changed to True in a future version of pandas. Pass observed=False to retain current behavior or observed=True to adopt the future default and silence this warning.\n",
      "  disp_grouped = df.groupby(\"mean_bin\")[\"dispersions\"]\n",
      "/afs/crc.nd.edu/user/e/eaboelno/miniforge3/envs/sysVI/lib/python3.9/site-packages/scanpy/preprocessing/_highly_variable_genes.py:258: FutureWarning: The default of observed=False is deprecated and will be changed to True in a future version of pandas. Pass observed=False to retain current behavior or observed=True to adopt the future default and silence this warning.\n",
      "  disp_grouped = df.groupby(\"mean_bin\")[\"dispersions\"]\n",
      "/afs/crc.nd.edu/user/e/eaboelno/miniforge3/envs/sysVI/lib/python3.9/site-packages/scanpy/preprocessing/_highly_variable_genes.py:258: FutureWarning: The default of observed=False is deprecated and will be changed to True in a future version of pandas. Pass observed=False to retain current behavior or observed=True to adopt the future default and silence this warning.\n",
      "  disp_grouped = df.groupby(\"mean_bin\")[\"dispersions\"]\n",
      "/afs/crc.nd.edu/user/e/eaboelno/miniforge3/envs/sysVI/lib/python3.9/site-packages/scanpy/preprocessing/_highly_variable_genes.py:258: FutureWarning: The default of observed=False is deprecated and will be changed to True in a future version of pandas. Pass observed=False to retain current behavior or observed=True to adopt the future default and silence this warning.\n",
      "  disp_grouped = df.groupby(\"mean_bin\")[\"dispersions\"]\n",
      "/afs/crc.nd.edu/user/e/eaboelno/miniforge3/envs/sysVI/lib/python3.9/site-packages/scanpy/preprocessing/_highly_variable_genes.py:258: FutureWarning: The default of observed=False is deprecated and will be changed to True in a future version of pandas. Pass observed=False to retain current behavior or observed=True to adopt the future default and silence this warning.\n",
      "  disp_grouped = df.groupby(\"mean_bin\")[\"dispersions\"]\n",
      "/afs/crc.nd.edu/user/e/eaboelno/miniforge3/envs/sysVI/lib/python3.9/site-packages/scanpy/preprocessing/_highly_variable_genes.py:258: FutureWarning: The default of observed=False is deprecated and will be changed to True in a future version of pandas. Pass observed=False to retain current behavior or observed=True to adopt the future default and silence this warning.\n",
      "  disp_grouped = df.groupby(\"mean_bin\")[\"dispersions\"]\n",
      "/afs/crc.nd.edu/user/e/eaboelno/miniforge3/envs/sysVI/lib/python3.9/site-packages/scanpy/preprocessing/_highly_variable_genes.py:258: FutureWarning: The default of observed=False is deprecated and will be changed to True in a future version of pandas. Pass observed=False to retain current behavior or observed=True to adopt the future default and silence this warning.\n",
      "  disp_grouped = df.groupby(\"mean_bin\")[\"dispersions\"]\n",
      "/afs/crc.nd.edu/user/e/eaboelno/miniforge3/envs/sysVI/lib/python3.9/site-packages/scanpy/preprocessing/_highly_variable_genes.py:258: FutureWarning: The default of observed=False is deprecated and will be changed to True in a future version of pandas. Pass observed=False to retain current behavior or observed=True to adopt the future default and silence this warning.\n",
      "  disp_grouped = df.groupby(\"mean_bin\")[\"dispersions\"]\n",
      "/afs/crc.nd.edu/user/e/eaboelno/miniforge3/envs/sysVI/lib/python3.9/site-packages/scanpy/preprocessing/_highly_variable_genes.py:258: FutureWarning: The default of observed=False is deprecated and will be changed to True in a future version of pandas. Pass observed=False to retain current behavior or observed=True to adopt the future default and silence this warning.\n",
      "  disp_grouped = df.groupby(\"mean_bin\")[\"dispersions\"]\n",
      "/afs/crc.nd.edu/user/e/eaboelno/miniforge3/envs/sysVI/lib/python3.9/site-packages/scanpy/preprocessing/_highly_variable_genes.py:258: FutureWarning: The default of observed=False is deprecated and will be changed to True in a future version of pandas. Pass observed=False to retain current behavior or observed=True to adopt the future default and silence this warning.\n",
      "  disp_grouped = df.groupby(\"mean_bin\")[\"dispersions\"]\n",
      "/afs/crc.nd.edu/user/e/eaboelno/miniforge3/envs/sysVI/lib/python3.9/site-packages/scanpy/preprocessing/_highly_variable_genes.py:258: FutureWarning: The default of observed=False is deprecated and will be changed to True in a future version of pandas. Pass observed=False to retain current behavior or observed=True to adopt the future default and silence this warning.\n",
      "  disp_grouped = df.groupby(\"mean_bin\")[\"dispersions\"]\n"
     ]
    },
    {
     "name": "stderr",
     "output_type": "stream",
     "text": [
      "/afs/crc.nd.edu/user/e/eaboelno/miniforge3/envs/sysVI/lib/python3.9/site-packages/scanpy/preprocessing/_highly_variable_genes.py:258: FutureWarning: The default of observed=False is deprecated and will be changed to True in a future version of pandas. Pass observed=False to retain current behavior or observed=True to adopt the future default and silence this warning.\n",
      "  disp_grouped = df.groupby(\"mean_bin\")[\"dispersions\"]\n",
      "/afs/crc.nd.edu/user/e/eaboelno/miniforge3/envs/sysVI/lib/python3.9/site-packages/scanpy/preprocessing/_highly_variable_genes.py:258: FutureWarning: The default of observed=False is deprecated and will be changed to True in a future version of pandas. Pass observed=False to retain current behavior or observed=True to adopt the future default and silence this warning.\n",
      "  disp_grouped = df.groupby(\"mean_bin\")[\"dispersions\"]\n",
      "/afs/crc.nd.edu/user/e/eaboelno/miniforge3/envs/sysVI/lib/python3.9/site-packages/scanpy/preprocessing/_highly_variable_genes.py:258: FutureWarning: The default of observed=False is deprecated and will be changed to True in a future version of pandas. Pass observed=False to retain current behavior or observed=True to adopt the future default and silence this warning.\n",
      "  disp_grouped = df.groupby(\"mean_bin\")[\"dispersions\"]\n",
      "/afs/crc.nd.edu/user/e/eaboelno/miniforge3/envs/sysVI/lib/python3.9/site-packages/scanpy/preprocessing/_highly_variable_genes.py:258: FutureWarning: The default of observed=False is deprecated and will be changed to True in a future version of pandas. Pass observed=False to retain current behavior or observed=True to adopt the future default and silence this warning.\n",
      "  disp_grouped = df.groupby(\"mean_bin\")[\"dispersions\"]\n",
      "/afs/crc.nd.edu/user/e/eaboelno/miniforge3/envs/sysVI/lib/python3.9/site-packages/scanpy/preprocessing/_highly_variable_genes.py:258: FutureWarning: The default of observed=False is deprecated and will be changed to True in a future version of pandas. Pass observed=False to retain current behavior or observed=True to adopt the future default and silence this warning.\n",
      "  disp_grouped = df.groupby(\"mean_bin\")[\"dispersions\"]\n",
      "/afs/crc.nd.edu/user/e/eaboelno/miniforge3/envs/sysVI/lib/python3.9/site-packages/scanpy/preprocessing/_highly_variable_genes.py:258: FutureWarning: The default of observed=False is deprecated and will be changed to True in a future version of pandas. Pass observed=False to retain current behavior or observed=True to adopt the future default and silence this warning.\n",
      "  disp_grouped = df.groupby(\"mean_bin\")[\"dispersions\"]\n",
      "/afs/crc.nd.edu/user/e/eaboelno/miniforge3/envs/sysVI/lib/python3.9/site-packages/scanpy/preprocessing/_highly_variable_genes.py:258: FutureWarning: The default of observed=False is deprecated and will be changed to True in a future version of pandas. Pass observed=False to retain current behavior or observed=True to adopt the future default and silence this warning.\n",
      "  disp_grouped = df.groupby(\"mean_bin\")[\"dispersions\"]\n",
      "/afs/crc.nd.edu/user/e/eaboelno/miniforge3/envs/sysVI/lib/python3.9/site-packages/scanpy/preprocessing/_highly_variable_genes.py:258: FutureWarning: The default of observed=False is deprecated and will be changed to True in a future version of pandas. Pass observed=False to retain current behavior or observed=True to adopt the future default and silence this warning.\n",
      "  disp_grouped = df.groupby(\"mean_bin\")[\"dispersions\"]\n",
      "/afs/crc.nd.edu/user/e/eaboelno/miniforge3/envs/sysVI/lib/python3.9/site-packages/scanpy/preprocessing/_highly_variable_genes.py:258: FutureWarning: The default of observed=False is deprecated and will be changed to True in a future version of pandas. Pass observed=False to retain current behavior or observed=True to adopt the future default and silence this warning.\n",
      "  disp_grouped = df.groupby(\"mean_bin\")[\"dispersions\"]\n",
      "/afs/crc.nd.edu/user/e/eaboelno/miniforge3/envs/sysVI/lib/python3.9/site-packages/scanpy/preprocessing/_highly_variable_genes.py:258: FutureWarning: The default of observed=False is deprecated and will be changed to True in a future version of pandas. Pass observed=False to retain current behavior or observed=True to adopt the future default and silence this warning.\n",
      "  disp_grouped = df.groupby(\"mean_bin\")[\"dispersions\"]\n",
      "/afs/crc.nd.edu/user/e/eaboelno/miniforge3/envs/sysVI/lib/python3.9/site-packages/scanpy/preprocessing/_highly_variable_genes.py:508: FutureWarning: The provided callable <function nanmean at 0x7f8d64304ca0> is currently using SeriesGroupBy.mean. In a future version of pandas, the provided callable will be used directly. To keep current behavior pass the string \"mean\" instead.\n",
      "  df = df.groupby(\"gene\").agg(\n",
      "/afs/crc.nd.edu/user/e/eaboelno/miniforge3/envs/sysVI/lib/python3.9/site-packages/scanpy/preprocessing/_highly_variable_genes.py:508: FutureWarning: The provided callable <function nanmean at 0x7f8d64304ca0> is currently using SeriesGroupBy.mean. In a future version of pandas, the provided callable will be used directly. To keep current behavior pass the string \"mean\" instead.\n",
      "  df = df.groupby(\"gene\").agg(\n",
      "/afs/crc.nd.edu/user/e/eaboelno/miniforge3/envs/sysVI/lib/python3.9/site-packages/scanpy/preprocessing/_highly_variable_genes.py:508: FutureWarning: The provided callable <function nansum at 0x7f8d64304820> is currently using SeriesGroupBy.sum. In a future version of pandas, the provided callable will be used directly. To keep current behavior pass the string \"sum\" instead.\n",
      "  df = df.groupby(\"gene\").agg(\n"
     ]
    },
    {
     "data": {
      "image/png": "[encoded data removed]",
      "text/plain": [
       "<Figure size 1280x480 with 2 Axes>"
      ]
     },
     "metadata": {},
     "output_type": "display_data"
    }
   ],
   "source": [
    "sc.pp.highly_variable_genes(\n",
    "     adata=adata_mm, n_top_genes=10000, flavor='cell_ranger', batch_key='batch')\n",
    "sc.pl.highly_variable_genes(adata_mm)"
   ]
  },
  {
   "cell_type": "code",
   "execution_count": 35,
   "id": "9691b1e0",
   "metadata": {},
   "outputs": [
    {
     "name": "stdout",
     "output_type": "stream",
     "text": [
      "  (0, 3)\t0.29305628\n",
      "  (0, 7)\t0.5194106\n",
      "  (0, 9)\t0.5194106\n",
      "  (1, 5)\t1.0415423\n",
      "  (1, 7)\t0.55010414\n",
      "  (1, 9)\t0.3124113\n",
      "  (2, 5)\t0.31552207\n",
      "  (2, 7)\t0.74807316\n",
      "  (2, 9)\t0.31552207\n",
      "  (3, 5)\t0.7569557\n",
      "  (4, 5)\t0.85382694\n",
      "  (5, 5)\t0.41221035\n",
      "  (6, 5)\t1.1173232\n",
      "  (7, 5)\t1.307015\n",
      "  (8, 0)\t0.44250843\n",
      "  (8, 3)\t0.44250843\n",
      "  (8, 5)\t0.74820995\n",
      "  (9, 5)\t0.75678545\n",
      "  (9, 7)\t0.75678545\n"
     ]
    }
   ],
   "source": [
    "print(adata_mm.X[:10, :10])"
   ]
  },
  {
   "cell_type": "code",
   "execution_count": 36,
   "id": "a70a9e7d",
   "metadata": {},
   "outputs": [
    {
     "name": "stdout",
     "output_type": "stream",
     "text": [
      "  (0, 9)\t2\n",
      "  (0, 7)\t2\n",
      "  (0, 3)\t1\n",
      "  (1, 9)\t1\n",
      "  (1, 7)\t2\n",
      "  (1, 5)\t5\n",
      "  (2, 9)\t1\n",
      "  (2, 7)\t3\n",
      "  (2, 5)\t1\n",
      "  (3, 5)\t3\n",
      "  (4, 5)\t3\n",
      "  (5, 5)\t1\n",
      "  (6, 5)\t4\n",
      "  (7, 5)\t5\n",
      "  (8, 5)\t2\n",
      "  (8, 3)\t1\n",
      "  (8, 0)\t1\n",
      "  (9, 7)\t2\n",
      "  (9, 5)\t2\n"
     ]
    }
   ],
   "source": [
    "print(adata_mm.raw.X[:10, :10])"
   ]
  },
  {
   "cell_type": "markdown",
   "id": "16a40827",
   "metadata": {},
   "source": [
    "# Add back var IDs"
   ]
  },
  {
   "cell_type": "code",
   "execution_count": 38,
   "id": "bb00ae50",
   "metadata": {},
   "outputs": [
    {
     "data": {
      "text/html": [
       "<div>\n",
       "<style scoped>\n",
       "    .dataframe tbody tr th:only-of-type {\n",
       "        vertical-align: middle;\n",
       "    }\n",
       "\n",
       "    .dataframe tbody tr th {\n",
       "        vertical-align: top;\n",
       "    }\n",
       "\n",
       "    .dataframe thead th {\n",
       "        text-align: right;\n",
       "    }\n",
       "</style>\n",
       "<table border=\"1\" class=\"dataframe\">\n",
       "  <thead>\n",
       "    <tr style=\"text-align: right;\">\n",
       "      <th></th>\n",
       "      <th>n_cells</th>\n",
       "      <th>highly_variable</th>\n",
       "      <th>means</th>\n",
       "      <th>dispersions</th>\n",
       "      <th>dispersions_norm</th>\n",
       "      <th>highly_variable_nbatches</th>\n",
       "      <th>highly_variable_intersection</th>\n",
       "    </tr>\n",
       "    <tr>\n",
       "      <th>gene_name</th>\n",
       "      <th></th>\n",
       "      <th></th>\n",
       "      <th></th>\n",
       "      <th></th>\n",
       "      <th></th>\n",
       "      <th></th>\n",
       "      <th></th>\n",
       "    </tr>\n",
       "  </thead>\n",
       "  <tbody>\n",
       "    <tr>\n",
       "      <th>0610005C13Rik</th>\n",
       "      <td>370</td>\n",
       "      <td>True</td>\n",
       "      <td>0.004559</td>\n",
       "      <td>1.285572</td>\n",
       "      <td>0.233436</td>\n",
       "      <td>18</td>\n",
       "      <td>False</td>\n",
       "    </tr>\n",
       "    <tr>\n",
       "      <th>0610006L08Rik</th>\n",
       "      <td>21</td>\n",
       "      <td>False</td>\n",
       "      <td>0.000140</td>\n",
       "      <td>0.131026</td>\n",
       "      <td>0.120278</td>\n",
       "      <td>4</td>\n",
       "      <td>False</td>\n",
       "    </tr>\n",
       "    <tr>\n",
       "      <th>0610009B22Rik</th>\n",
       "      <td>20931</td>\n",
       "      <td>False</td>\n",
       "      <td>0.152768</td>\n",
       "      <td>0.997471</td>\n",
       "      <td>-0.753077</td>\n",
       "      <td>3</td>\n",
       "      <td>False</td>\n",
       "    </tr>\n",
       "    <tr>\n",
       "      <th>0610009E02Rik</th>\n",
       "      <td>1313</td>\n",
       "      <td>False</td>\n",
       "      <td>0.012557</td>\n",
       "      <td>1.224625</td>\n",
       "      <td>-0.320406</td>\n",
       "      <td>8</td>\n",
       "      <td>False</td>\n",
       "    </tr>\n",
       "    <tr>\n",
       "      <th>0610009L18Rik</th>\n",
       "      <td>7284</td>\n",
       "      <td>False</td>\n",
       "      <td>0.051010</td>\n",
       "      <td>1.176881</td>\n",
       "      <td>-0.343663</td>\n",
       "      <td>10</td>\n",
       "      <td>False</td>\n",
       "    </tr>\n",
       "    <tr>\n",
       "      <th>...</th>\n",
       "      <td>...</td>\n",
       "      <td>...</td>\n",
       "      <td>...</td>\n",
       "      <td>...</td>\n",
       "      <td>...</td>\n",
       "      <td>...</td>\n",
       "      <td>...</td>\n",
       "    </tr>\n",
       "    <tr>\n",
       "      <th>mt-Nd3</th>\n",
       "      <td>62317</td>\n",
       "      <td>False</td>\n",
       "      <td>0.968709</td>\n",
       "      <td>0.810337</td>\n",
       "      <td>-0.811130</td>\n",
       "      <td>2</td>\n",
       "      <td>False</td>\n",
       "    </tr>\n",
       "    <tr>\n",
       "      <th>mt-Nd4</th>\n",
       "      <td>84501</td>\n",
       "      <td>False</td>\n",
       "      <td>1.967977</td>\n",
       "      <td>0.690763</td>\n",
       "      <td>-1.457355</td>\n",
       "      <td>4</td>\n",
       "      <td>False</td>\n",
       "    </tr>\n",
       "    <tr>\n",
       "      <th>mt-Nd4l</th>\n",
       "      <td>46182</td>\n",
       "      <td>False</td>\n",
       "      <td>0.614403</td>\n",
       "      <td>0.959799</td>\n",
       "      <td>-0.620274</td>\n",
       "      <td>8</td>\n",
       "      <td>False</td>\n",
       "    </tr>\n",
       "    <tr>\n",
       "      <th>mt-Nd5</th>\n",
       "      <td>55974</td>\n",
       "      <td>False</td>\n",
       "      <td>0.641984</td>\n",
       "      <td>0.888475</td>\n",
       "      <td>-0.667347</td>\n",
       "      <td>7</td>\n",
       "      <td>False</td>\n",
       "    </tr>\n",
       "    <tr>\n",
       "      <th>mt-Nd6</th>\n",
       "      <td>13180</td>\n",
       "      <td>False</td>\n",
       "      <td>0.098197</td>\n",
       "      <td>1.094563</td>\n",
       "      <td>-0.598775</td>\n",
       "      <td>4</td>\n",
       "      <td>False</td>\n",
       "    </tr>\n",
       "  </tbody>\n",
       "</table>\n",
       "<p>21411 rows × 7 columns</p>\n",
       "</div>"
      ],
      "text/plain": [
       "               n_cells  highly_variable     means  dispersions  \\\n",
       "gene_name                                                        \n",
       "0610005C13Rik      370             True  0.004559     1.285572   \n",
       "0610006L08Rik       21            False  0.000140     0.131026   \n",
       "0610009B22Rik    20931            False  0.152768     0.997471   \n",
       "0610009E02Rik     1313            False  0.012557     1.224625   \n",
       "0610009L18Rik     7284            False  0.051010     1.176881   \n",
       "...                ...              ...       ...          ...   \n",
       "mt-Nd3           62317            False  0.968709     0.810337   \n",
       "mt-Nd4           84501            False  1.967977     0.690763   \n",
       "mt-Nd4l          46182            False  0.614403     0.959799   \n",
       "mt-Nd5           55974            False  0.641984     0.888475   \n",
       "mt-Nd6           13180            False  0.098197     1.094563   \n",
       "\n",
       "               dispersions_norm  highly_variable_nbatches  \\\n",
       "gene_name                                                   \n",
       "0610005C13Rik          0.233436                        18   \n",
       "0610006L08Rik          0.120278                         4   \n",
       "0610009B22Rik         -0.753077                         3   \n",
       "0610009E02Rik         -0.320406                         8   \n",
       "0610009L18Rik         -0.343663                        10   \n",
       "...                         ...                       ...   \n",
       "mt-Nd3                -0.811130                         2   \n",
       "mt-Nd4                -1.457355                         4   \n",
       "mt-Nd4l               -0.620274                         8   \n",
       "mt-Nd5                -0.667347                         7   \n",
       "mt-Nd6                -0.598775                         4   \n",
       "\n",
       "               highly_variable_intersection  \n",
       "gene_name                                    \n",
       "0610005C13Rik                         False  \n",
       "0610006L08Rik                         False  \n",
       "0610009B22Rik                         False  \n",
       "0610009E02Rik                         False  \n",
       "0610009L18Rik                         False  \n",
       "...                                     ...  \n",
       "mt-Nd3                                False  \n",
       "mt-Nd4                                False  \n",
       "mt-Nd4l                               False  \n",
       "mt-Nd5                                False  \n",
       "mt-Nd6                                False  \n",
       "\n",
       "[21411 rows x 7 columns]"
      ]
     },
     "execution_count": 38,
     "metadata": {},
     "output_type": "execute_result"
    }
   ],
   "source": [
    "adata_mm.var"
   ]
  },
  {
   "cell_type": "code",
   "execution_count": 39,
   "id": "2b2f33e4",
   "metadata": {},
   "outputs": [
    {
     "data": {
      "text/html": [
       "<div>\n",
       "<style scoped>\n",
       "    .dataframe tbody tr th:only-of-type {\n",
       "        vertical-align: middle;\n",
       "    }\n",
       "\n",
       "    .dataframe tbody tr th {\n",
       "        vertical-align: top;\n",
       "    }\n",
       "\n",
       "    .dataframe thead th {\n",
       "        text-align: right;\n",
       "    }\n",
       "</style>\n",
       "<table border=\"1\" class=\"dataframe\">\n",
       "  <thead>\n",
       "    <tr style=\"text-align: right;\">\n",
       "      <th></th>\n",
       "      <th>human_gene_id</th>\n",
       "      <th>human_gene_name</th>\n",
       "      <th>mouse_gene_id</th>\n",
       "      <th>mouse_gene_name</th>\n",
       "    </tr>\n",
       "  </thead>\n",
       "  <tbody>\n",
       "    <tr>\n",
       "      <th>0</th>\n",
       "      <td>ENSG00000210049</td>\n",
       "      <td>MT-TF</td>\n",
       "      <td>NaN</td>\n",
       "      <td>NaN</td>\n",
       "    </tr>\n",
       "    <tr>\n",
       "      <th>1</th>\n",
       "      <td>ENSG00000211459</td>\n",
       "      <td>MT-RNR1</td>\n",
       "      <td>NaN</td>\n",
       "      <td>NaN</td>\n",
       "    </tr>\n",
       "    <tr>\n",
       "      <th>2</th>\n",
       "      <td>ENSG00000210077</td>\n",
       "      <td>MT-TV</td>\n",
       "      <td>NaN</td>\n",
       "      <td>NaN</td>\n",
       "    </tr>\n",
       "    <tr>\n",
       "      <th>3</th>\n",
       "      <td>ENSG00000210082</td>\n",
       "      <td>MT-RNR2</td>\n",
       "      <td>NaN</td>\n",
       "      <td>NaN</td>\n",
       "    </tr>\n",
       "    <tr>\n",
       "      <th>4</th>\n",
       "      <td>ENSG00000209082</td>\n",
       "      <td>MT-TL1</td>\n",
       "      <td>NaN</td>\n",
       "      <td>NaN</td>\n",
       "    </tr>\n",
       "    <tr>\n",
       "      <th>...</th>\n",
       "      <td>...</td>\n",
       "      <td>...</td>\n",
       "      <td>...</td>\n",
       "      <td>...</td>\n",
       "    </tr>\n",
       "    <tr>\n",
       "      <th>77797</th>\n",
       "      <td>ENSG00000288629</td>\n",
       "      <td>NaN</td>\n",
       "      <td>NaN</td>\n",
       "      <td>NaN</td>\n",
       "    </tr>\n",
       "    <tr>\n",
       "      <th>77798</th>\n",
       "      <td>ENSG00000288678</td>\n",
       "      <td>NaN</td>\n",
       "      <td>NaN</td>\n",
       "      <td>NaN</td>\n",
       "    </tr>\n",
       "    <tr>\n",
       "      <th>77799</th>\n",
       "      <td>ENSG00000290825</td>\n",
       "      <td>DDX11L2</td>\n",
       "      <td>NaN</td>\n",
       "      <td>NaN</td>\n",
       "    </tr>\n",
       "    <tr>\n",
       "      <th>77800</th>\n",
       "      <td>ENSG00000227232</td>\n",
       "      <td>WASH7P</td>\n",
       "      <td>NaN</td>\n",
       "      <td>NaN</td>\n",
       "    </tr>\n",
       "    <tr>\n",
       "      <th>77801</th>\n",
       "      <td>ENSG00000290826</td>\n",
       "      <td>NaN</td>\n",
       "      <td>NaN</td>\n",
       "      <td>NaN</td>\n",
       "    </tr>\n",
       "  </tbody>\n",
       "</table>\n",
       "<p>77802 rows × 4 columns</p>\n",
       "</div>"
      ],
      "text/plain": [
       "         human_gene_id human_gene_name mouse_gene_id mouse_gene_name\n",
       "0      ENSG00000210049           MT-TF           NaN             NaN\n",
       "1      ENSG00000211459         MT-RNR1           NaN             NaN\n",
       "2      ENSG00000210077           MT-TV           NaN             NaN\n",
       "3      ENSG00000210082         MT-RNR2           NaN             NaN\n",
       "4      ENSG00000209082          MT-TL1           NaN             NaN\n",
       "...                ...             ...           ...             ...\n",
       "77797  ENSG00000288629             NaN           NaN             NaN\n",
       "77798  ENSG00000288678             NaN           NaN             NaN\n",
       "77799  ENSG00000290825         DDX11L2           NaN             NaN\n",
       "77800  ENSG00000227232          WASH7P           NaN             NaN\n",
       "77801  ENSG00000290826             NaN           NaN             NaN\n",
       "\n",
       "[77802 rows x 4 columns]"
      ]
     },
     "execution_count": 39,
     "metadata": {},
     "output_type": "execute_result"
    }
   ],
   "source": [
    "# Path to the .txt file\n",
    "file_path = '/scratch365/eaboelno/mart_export_GRCh38_p14_Feb2024.txt'\n",
    "\n",
    "# Read the .txt file into a pandas DataFrame\n",
    "ortho = pd.read_csv(file_path, sep=',')\n",
    "\n",
    "ortho = ortho.rename(columns={\n",
    "    'Gene stable ID': 'human_gene_id',\n",
    "    'Gene name': 'human_gene_name',\n",
    "    'Mouse gene stable ID': 'mouse_gene_id',\n",
    "    'Mouse gene name': 'mouse_gene_name'\n",
    "})\n",
    "\n",
    "ortho"
   ]
  },
  {
   "cell_type": "code",
   "execution_count": 40,
   "id": "7f3fb8b6",
   "metadata": {},
   "outputs": [
    {
     "name": "stdout",
     "output_type": "stream",
     "text": [
      "nan: nan\n",
      "mt-Nd1: ENSMUSG00000064341\n",
      "mt-Nd2: ENSMUSG00000064345\n",
      "mt-Co1: ENSMUSG00000064351\n",
      "mt-Co2: ENSMUSG00000064354\n",
      "mt-Atp8: ENSMUSG00000064356\n",
      "mt-Atp6: ENSMUSG00000064357\n",
      "mt-Co3: ENSMUSG00000064358\n",
      "mt-Nd3: ENSMUSG00000064360\n",
      "mt-Nd4l: ENSMUSG00000065947\n"
     ]
    },
    {
     "data": {
      "text/plain": [
       "20443"
      ]
     },
     "execution_count": 40,
     "metadata": {},
     "output_type": "execute_result"
    }
   ],
   "source": [
    "mm_add_geneid=dict(zip(ortho['mouse_gene_name'], ortho['mouse_gene_id']))\n",
    "for key, value in list(mm_add_geneid.items())[:10]:\n",
    "    print(f\"{key}: {value}\")  \n",
    "len(mm_add_geneid)"
   ]
  },
  {
   "cell_type": "code",
   "execution_count": 41,
   "id": "377d566b",
   "metadata": {},
   "outputs": [
    {
     "data": {
      "text/html": [
       "<div>\n",
       "<style scoped>\n",
       "    .dataframe tbody tr th:only-of-type {\n",
       "        vertical-align: middle;\n",
       "    }\n",
       "\n",
       "    .dataframe tbody tr th {\n",
       "        vertical-align: top;\n",
       "    }\n",
       "\n",
       "    .dataframe thead th {\n",
       "        text-align: right;\n",
       "    }\n",
       "</style>\n",
       "<table border=\"1\" class=\"dataframe\">\n",
       "  <thead>\n",
       "    <tr style=\"text-align: right;\">\n",
       "      <th></th>\n",
       "      <th>n_cells</th>\n",
       "      <th>highly_variable</th>\n",
       "      <th>means</th>\n",
       "      <th>dispersions</th>\n",
       "      <th>dispersions_norm</th>\n",
       "      <th>highly_variable_nbatches</th>\n",
       "      <th>highly_variable_intersection</th>\n",
       "      <th>mouse_gene_id</th>\n",
       "    </tr>\n",
       "    <tr>\n",
       "      <th>gene_name</th>\n",
       "      <th></th>\n",
       "      <th></th>\n",
       "      <th></th>\n",
       "      <th></th>\n",
       "      <th></th>\n",
       "      <th></th>\n",
       "      <th></th>\n",
       "      <th></th>\n",
       "    </tr>\n",
       "  </thead>\n",
       "  <tbody>\n",
       "    <tr>\n",
       "      <th>0610005C13Rik</th>\n",
       "      <td>370</td>\n",
       "      <td>True</td>\n",
       "      <td>0.004559</td>\n",
       "      <td>1.285572</td>\n",
       "      <td>0.233436</td>\n",
       "      <td>18</td>\n",
       "      <td>False</td>\n",
       "      <td>NaN</td>\n",
       "    </tr>\n",
       "    <tr>\n",
       "      <th>0610006L08Rik</th>\n",
       "      <td>21</td>\n",
       "      <td>False</td>\n",
       "      <td>0.000140</td>\n",
       "      <td>0.131026</td>\n",
       "      <td>0.120278</td>\n",
       "      <td>4</td>\n",
       "      <td>False</td>\n",
       "      <td>NaN</td>\n",
       "    </tr>\n",
       "    <tr>\n",
       "      <th>0610009B22Rik</th>\n",
       "      <td>20931</td>\n",
       "      <td>False</td>\n",
       "      <td>0.152768</td>\n",
       "      <td>0.997471</td>\n",
       "      <td>-0.753077</td>\n",
       "      <td>3</td>\n",
       "      <td>False</td>\n",
       "      <td>NaN</td>\n",
       "    </tr>\n",
       "    <tr>\n",
       "      <th>0610009E02Rik</th>\n",
       "      <td>1313</td>\n",
       "      <td>False</td>\n",
       "      <td>0.012557</td>\n",
       "      <td>1.224625</td>\n",
       "      <td>-0.320406</td>\n",
       "      <td>8</td>\n",
       "      <td>False</td>\n",
       "      <td>NaN</td>\n",
       "    </tr>\n",
       "    <tr>\n",
       "      <th>0610009L18Rik</th>\n",
       "      <td>7284</td>\n",
       "      <td>False</td>\n",
       "      <td>0.051010</td>\n",
       "      <td>1.176881</td>\n",
       "      <td>-0.343663</td>\n",
       "      <td>10</td>\n",
       "      <td>False</td>\n",
       "      <td>NaN</td>\n",
       "    </tr>\n",
       "    <tr>\n",
       "      <th>...</th>\n",
       "      <td>...</td>\n",
       "      <td>...</td>\n",
       "      <td>...</td>\n",
       "      <td>...</td>\n",
       "      <td>...</td>\n",
       "      <td>...</td>\n",
       "      <td>...</td>\n",
       "      <td>...</td>\n",
       "    </tr>\n",
       "    <tr>\n",
       "      <th>mt-Nd3</th>\n",
       "      <td>62317</td>\n",
       "      <td>False</td>\n",
       "      <td>0.968709</td>\n",
       "      <td>0.810337</td>\n",
       "      <td>-0.811130</td>\n",
       "      <td>2</td>\n",
       "      <td>False</td>\n",
       "      <td>ENSMUSG00000064360</td>\n",
       "    </tr>\n",
       "    <tr>\n",
       "      <th>mt-Nd4</th>\n",
       "      <td>84501</td>\n",
       "      <td>False</td>\n",
       "      <td>1.967977</td>\n",
       "      <td>0.690763</td>\n",
       "      <td>-1.457355</td>\n",
       "      <td>4</td>\n",
       "      <td>False</td>\n",
       "      <td>ENSMUSG00000064363</td>\n",
       "    </tr>\n",
       "    <tr>\n",
       "      <th>mt-Nd4l</th>\n",
       "      <td>46182</td>\n",
       "      <td>False</td>\n",
       "      <td>0.614403</td>\n",
       "      <td>0.959799</td>\n",
       "      <td>-0.620274</td>\n",
       "      <td>8</td>\n",
       "      <td>False</td>\n",
       "      <td>ENSMUSG00000065947</td>\n",
       "    </tr>\n",
       "    <tr>\n",
       "      <th>mt-Nd5</th>\n",
       "      <td>55974</td>\n",
       "      <td>False</td>\n",
       "      <td>0.641984</td>\n",
       "      <td>0.888475</td>\n",
       "      <td>-0.667347</td>\n",
       "      <td>7</td>\n",
       "      <td>False</td>\n",
       "      <td>ENSMUSG00000064367</td>\n",
       "    </tr>\n",
       "    <tr>\n",
       "      <th>mt-Nd6</th>\n",
       "      <td>13180</td>\n",
       "      <td>False</td>\n",
       "      <td>0.098197</td>\n",
       "      <td>1.094563</td>\n",
       "      <td>-0.598775</td>\n",
       "      <td>4</td>\n",
       "      <td>False</td>\n",
       "      <td>ENSMUSG00000064368</td>\n",
       "    </tr>\n",
       "  </tbody>\n",
       "</table>\n",
       "<p>21411 rows × 8 columns</p>\n",
       "</div>"
      ],
      "text/plain": [
       "               n_cells  highly_variable     means  dispersions  \\\n",
       "gene_name                                                        \n",
       "0610005C13Rik      370             True  0.004559     1.285572   \n",
       "0610006L08Rik       21            False  0.000140     0.131026   \n",
       "0610009B22Rik    20931            False  0.152768     0.997471   \n",
       "0610009E02Rik     1313            False  0.012557     1.224625   \n",
       "0610009L18Rik     7284            False  0.051010     1.176881   \n",
       "...                ...              ...       ...          ...   \n",
       "mt-Nd3           62317            False  0.968709     0.810337   \n",
       "mt-Nd4           84501            False  1.967977     0.690763   \n",
       "mt-Nd4l          46182            False  0.614403     0.959799   \n",
       "mt-Nd5           55974            False  0.641984     0.888475   \n",
       "mt-Nd6           13180            False  0.098197     1.094563   \n",
       "\n",
       "               dispersions_norm  highly_variable_nbatches  \\\n",
       "gene_name                                                   \n",
       "0610005C13Rik          0.233436                        18   \n",
       "0610006L08Rik          0.120278                         4   \n",
       "0610009B22Rik         -0.753077                         3   \n",
       "0610009E02Rik         -0.320406                         8   \n",
       "0610009L18Rik         -0.343663                        10   \n",
       "...                         ...                       ...   \n",
       "mt-Nd3                -0.811130                         2   \n",
       "mt-Nd4                -1.457355                         4   \n",
       "mt-Nd4l               -0.620274                         8   \n",
       "mt-Nd5                -0.667347                         7   \n",
       "mt-Nd6                -0.598775                         4   \n",
       "\n",
       "               highly_variable_intersection       mouse_gene_id  \n",
       "gene_name                                                        \n",
       "0610005C13Rik                         False                 NaN  \n",
       "0610006L08Rik                         False                 NaN  \n",
       "0610009B22Rik                         False                 NaN  \n",
       "0610009E02Rik                         False                 NaN  \n",
       "0610009L18Rik                         False                 NaN  \n",
       "...                                     ...                 ...  \n",
       "mt-Nd3                                False  ENSMUSG00000064360  \n",
       "mt-Nd4                                False  ENSMUSG00000064363  \n",
       "mt-Nd4l                               False  ENSMUSG00000065947  \n",
       "mt-Nd5                                False  ENSMUSG00000064367  \n",
       "mt-Nd6                                False  ENSMUSG00000064368  \n",
       "\n",
       "[21411 rows x 8 columns]"
      ]
     },
     "execution_count": 41,
     "metadata": {},
     "output_type": "execute_result"
    }
   ],
   "source": [
    "adata_mm.var['mouse_gene_id'] = adata_mm.var.index.map(mm_add_geneid)\n",
    "adata_mm.var"
   ]
  },
  {
   "cell_type": "code",
   "execution_count": 42,
   "id": "e7ab6ffa",
   "metadata": {},
   "outputs": [
    {
     "name": "stdout",
     "output_type": "stream",
     "text": [
      "Number of NaN values in 'mouse_gene_id': 6315\n"
     ]
    }
   ],
   "source": [
    "# Assuming 'mouse_gene_id' is a column in adata_mm.var\n",
    "nan_count = adata_mm.var['mouse_gene_id'].isna().sum()\n",
    "\n",
    "print(\"Number of NaN values in 'mouse_gene_id':\", nan_count)"
   ]
  },
  {
   "cell_type": "code",
   "execution_count": 54,
   "id": "d83a22c1",
   "metadata": {},
   "outputs": [
    {
     "data": {
      "text/html": [
       "<div>\n",
       "<style scoped>\n",
       "    .dataframe tbody tr th:only-of-type {\n",
       "        vertical-align: middle;\n",
       "    }\n",
       "\n",
       "    .dataframe tbody tr th {\n",
       "        vertical-align: top;\n",
       "    }\n",
       "\n",
       "    .dataframe thead th {\n",
       "        text-align: right;\n",
       "    }\n",
       "</style>\n",
       "<table border=\"1\" class=\"dataframe\">\n",
       "  <thead>\n",
       "    <tr style=\"text-align: right;\">\n",
       "      <th></th>\n",
       "      <th>n_cells</th>\n",
       "      <th>highly_variable</th>\n",
       "      <th>means</th>\n",
       "      <th>dispersions</th>\n",
       "      <th>dispersions_norm</th>\n",
       "      <th>highly_variable_nbatches</th>\n",
       "      <th>highly_variable_intersection</th>\n",
       "      <th>mouse_gene_id</th>\n",
       "    </tr>\n",
       "    <tr>\n",
       "      <th>gene_name</th>\n",
       "      <th></th>\n",
       "      <th></th>\n",
       "      <th></th>\n",
       "      <th></th>\n",
       "      <th></th>\n",
       "      <th></th>\n",
       "      <th></th>\n",
       "      <th></th>\n",
       "    </tr>\n",
       "  </thead>\n",
       "  <tbody>\n",
       "    <tr>\n",
       "      <th>0610005C13Rik</th>\n",
       "      <td>370</td>\n",
       "      <td>True</td>\n",
       "      <td>0.004559</td>\n",
       "      <td>1.285572</td>\n",
       "      <td>0.233436</td>\n",
       "      <td>18</td>\n",
       "      <td>False</td>\n",
       "      <td>ENSMUSG00000109644</td>\n",
       "    </tr>\n",
       "    <tr>\n",
       "      <th>0610006L08Rik</th>\n",
       "      <td>21</td>\n",
       "      <td>False</td>\n",
       "      <td>0.000140</td>\n",
       "      <td>0.131026</td>\n",
       "      <td>0.120278</td>\n",
       "      <td>4</td>\n",
       "      <td>False</td>\n",
       "      <td>ENSMUSG00000108652</td>\n",
       "    </tr>\n",
       "    <tr>\n",
       "      <th>0610009B22Rik</th>\n",
       "      <td>20931</td>\n",
       "      <td>False</td>\n",
       "      <td>0.152768</td>\n",
       "      <td>0.997471</td>\n",
       "      <td>-0.753077</td>\n",
       "      <td>3</td>\n",
       "      <td>False</td>\n",
       "      <td>ENSMUSG00000007777</td>\n",
       "    </tr>\n",
       "    <tr>\n",
       "      <th>0610009E02Rik</th>\n",
       "      <td>1313</td>\n",
       "      <td>False</td>\n",
       "      <td>0.012557</td>\n",
       "      <td>1.224625</td>\n",
       "      <td>-0.320406</td>\n",
       "      <td>8</td>\n",
       "      <td>False</td>\n",
       "      <td>ENSMUSG00000086714</td>\n",
       "    </tr>\n",
       "    <tr>\n",
       "      <th>0610009L18Rik</th>\n",
       "      <td>7284</td>\n",
       "      <td>False</td>\n",
       "      <td>0.051010</td>\n",
       "      <td>1.176881</td>\n",
       "      <td>-0.343663</td>\n",
       "      <td>10</td>\n",
       "      <td>False</td>\n",
       "      <td>ENSMUSG00000043644</td>\n",
       "    </tr>\n",
       "    <tr>\n",
       "      <th>...</th>\n",
       "      <td>...</td>\n",
       "      <td>...</td>\n",
       "      <td>...</td>\n",
       "      <td>...</td>\n",
       "      <td>...</td>\n",
       "      <td>...</td>\n",
       "      <td>...</td>\n",
       "      <td>...</td>\n",
       "    </tr>\n",
       "    <tr>\n",
       "      <th>mt-Nd3</th>\n",
       "      <td>62317</td>\n",
       "      <td>False</td>\n",
       "      <td>0.968709</td>\n",
       "      <td>0.810337</td>\n",
       "      <td>-0.811130</td>\n",
       "      <td>2</td>\n",
       "      <td>False</td>\n",
       "      <td>ENSMUSG00000064360</td>\n",
       "    </tr>\n",
       "    <tr>\n",
       "      <th>mt-Nd4</th>\n",
       "      <td>84501</td>\n",
       "      <td>False</td>\n",
       "      <td>1.967977</td>\n",
       "      <td>0.690763</td>\n",
       "      <td>-1.457355</td>\n",
       "      <td>4</td>\n",
       "      <td>False</td>\n",
       "      <td>ENSMUSG00000064363</td>\n",
       "    </tr>\n",
       "    <tr>\n",
       "      <th>mt-Nd4l</th>\n",
       "      <td>46182</td>\n",
       "      <td>False</td>\n",
       "      <td>0.614403</td>\n",
       "      <td>0.959799</td>\n",
       "      <td>-0.620274</td>\n",
       "      <td>8</td>\n",
       "      <td>False</td>\n",
       "      <td>ENSMUSG00000065947</td>\n",
       "    </tr>\n",
       "    <tr>\n",
       "      <th>mt-Nd5</th>\n",
       "      <td>55974</td>\n",
       "      <td>False</td>\n",
       "      <td>0.641984</td>\n",
       "      <td>0.888475</td>\n",
       "      <td>-0.667347</td>\n",
       "      <td>7</td>\n",
       "      <td>False</td>\n",
       "      <td>ENSMUSG00000064367</td>\n",
       "    </tr>\n",
       "    <tr>\n",
       "      <th>mt-Nd6</th>\n",
       "      <td>13180</td>\n",
       "      <td>False</td>\n",
       "      <td>0.098197</td>\n",
       "      <td>1.094563</td>\n",
       "      <td>-0.598775</td>\n",
       "      <td>4</td>\n",
       "      <td>False</td>\n",
       "      <td>ENSMUSG00000064368</td>\n",
       "    </tr>\n",
       "  </tbody>\n",
       "</table>\n",
       "<p>21411 rows × 8 columns</p>\n",
       "</div>"
      ],
      "text/plain": [
       "               n_cells  highly_variable     means  dispersions  \\\n",
       "gene_name                                                        \n",
       "0610005C13Rik      370             True  0.004559     1.285572   \n",
       "0610006L08Rik       21            False  0.000140     0.131026   \n",
       "0610009B22Rik    20931            False  0.152768     0.997471   \n",
       "0610009E02Rik     1313            False  0.012557     1.224625   \n",
       "0610009L18Rik     7284            False  0.051010     1.176881   \n",
       "...                ...              ...       ...          ...   \n",
       "mt-Nd3           62317            False  0.968709     0.810337   \n",
       "mt-Nd4           84501            False  1.967977     0.690763   \n",
       "mt-Nd4l          46182            False  0.614403     0.959799   \n",
       "mt-Nd5           55974            False  0.641984     0.888475   \n",
       "mt-Nd6           13180            False  0.098197     1.094563   \n",
       "\n",
       "               dispersions_norm  highly_variable_nbatches  \\\n",
       "gene_name                                                   \n",
       "0610005C13Rik          0.233436                        18   \n",
       "0610006L08Rik          0.120278                         4   \n",
       "0610009B22Rik         -0.753077                         3   \n",
       "0610009E02Rik         -0.320406                         8   \n",
       "0610009L18Rik         -0.343663                        10   \n",
       "...                         ...                       ...   \n",
       "mt-Nd3                -0.811130                         2   \n",
       "mt-Nd4                -1.457355                         4   \n",
       "mt-Nd4l               -0.620274                         8   \n",
       "mt-Nd5                -0.667347                         7   \n",
       "mt-Nd6                -0.598775                         4   \n",
       "\n",
       "               highly_variable_intersection       mouse_gene_id  \n",
       "gene_name                                                        \n",
       "0610005C13Rik                         False  ENSMUSG00000109644  \n",
       "0610006L08Rik                         False  ENSMUSG00000108652  \n",
       "0610009B22Rik                         False  ENSMUSG00000007777  \n",
       "0610009E02Rik                         False  ENSMUSG00000086714  \n",
       "0610009L18Rik                         False  ENSMUSG00000043644  \n",
       "...                                     ...                 ...  \n",
       "mt-Nd3                                False  ENSMUSG00000064360  \n",
       "mt-Nd4                                False  ENSMUSG00000064363  \n",
       "mt-Nd4l                               False  ENSMUSG00000065947  \n",
       "mt-Nd5                                False  ENSMUSG00000064367  \n",
       "mt-Nd6                                False  ENSMUSG00000064368  \n",
       "\n",
       "[21411 rows x 8 columns]"
      ]
     },
     "execution_count": 54,
     "metadata": {},
     "output_type": "execute_result"
    }
   ],
   "source": [
    "adata_mm.var['mouse_gene_id'] = adata_mm.var.index.map(gene_id_mapping.get)\n",
    "adata_mm.var"
   ]
  },
  {
   "cell_type": "code",
   "execution_count": 43,
   "id": "f9ad949f",
   "metadata": {},
   "outputs": [],
   "source": [
    "adata_mm.obs['batch'] = adata_mm.obs['batch'].astype(str)"
   ]
  },
  {
   "cell_type": "code",
   "execution_count": 55,
   "id": "89580d23",
   "metadata": {
    "scrolled": true
   },
   "outputs": [],
   "source": [
    "adata_mm.write_h5ad('./cVAE_analysis/sysVI/adata_mm_hvg.h5ad')"
   ]
  },
  {
   "cell_type": "code",
   "execution_count": 56,
   "id": "cd18fb8f",
   "metadata": {},
   "outputs": [],
   "source": [
    "adata_mm_sub = adata_mm[:, adata_mm.var[\"highly_variable\"]].copy()"
   ]
  },
  {
   "cell_type": "code",
   "execution_count": 57,
   "id": "9901af38",
   "metadata": {},
   "outputs": [
    {
     "name": "stdout",
     "output_type": "stream",
     "text": [
      "Number of NaN values in adata_sub 'mouse_gene_id': 0\n"
     ]
    }
   ],
   "source": [
    "# Assuming 'mouse_gene_id' is a column in adata_mm.var\n",
    "nan_count = adata_mm_sub.var['mouse_gene_id'].isna().sum()\n",
    "\n",
    "print(\"Number of NaN values in adata_sub 'mouse_gene_id':\", nan_count)"
   ]
  },
  {
   "cell_type": "code",
   "execution_count": 58,
   "id": "c65d09b8",
   "metadata": {},
   "outputs": [],
   "source": [
    "adata_mm_sub.write_h5ad('./cVAE_analysis/sysVI/adata_mm_hvg_sub.h5ad')"
   ]
  },
  {
   "cell_type": "markdown",
   "id": "c326a2c4",
   "metadata": {},
   "source": [
    "# Explore HVG overlap in single vs merged mm data"
   ]
  },
  {
   "cell_type": "code",
   "execution_count": 59,
   "id": "8032ed41",
   "metadata": {},
   "outputs": [
    {
     "data": {
      "text/plain": [
       "AnnData object with n_obs × n_vars = 21541 × 10000\n",
       "    obs: 'sample_id', 'publication', 'sample_id_anon', 'individual_id_anon', 'replicate', 'treatment', 'condition', 'tissue', 'time', 'batch', 'lesion_type', 'sample_source', 'diagnosis', 'n_genes_by_counts', 'total_counts', 'pct_counts_mt', 'pct_counts_ribo', 's_score', 'g2m_score', 'phase', 'type_fine', 'type_broad', 'cluster_zoom', 'exclude_pseudobulk', 'seq_pool', 'sex', 'age_at_death', 'smoker', 'cause_of_death', 'years_w_ms', 'pmi_minutes', 'age_scale', 'age_cat', 'pmi_cat', 'pmi_cat2', 'cell_cycle_diff', 'cell_type_eval', 'library_type', 'sample_type', 'organism', 'system'\n",
       "    var: 'mouse_gene_id', 'n_cells', 'mouse_gene_name', 'human_gene_name', 'human_gene_id', 'highly_variable', 'means', 'dispersions', 'dispersions_norm', 'highly_variable_nbatches', 'highly_variable_intersection'\n",
       "    uns: 'hvg'\n",
       "    layers: 'counts', 'log1p_norm'"
      ]
     },
     "execution_count": 59,
     "metadata": {},
     "output_type": "execute_result"
    }
   ],
   "source": [
    "adata_sub = adata[:, adata.var[\"highly_variable\"]].copy()\n",
    "adata_sub"
   ]
  },
  {
   "cell_type": "code",
   "execution_count": 60,
   "id": "8489dbfc",
   "metadata": {},
   "outputs": [
    {
     "data": {
      "text/plain": [
       "AnnData object with n_obs × n_vars = 41938 × 10000\n",
       "    obs: 'sample_id', 'publication', 'sample_id_anon', 'individual_id_anon', 'replicate', 'treatment', 'condition', 'tissue', 'time', 'batch', 'lesion_type', 'sample_source', 'diagnosis', 'n_genes_by_counts', 'total_counts', 'pct_counts_mt', 'pct_counts_ribo', 's_score', 'g2m_score', 'phase', 'type_fine', 'type_broad', 'cluster_zoom', 'exclude_pseudobulk', 'seq_pool', 'sex', 'age_at_death', 'smoker', 'cause_of_death', 'years_w_ms', 'pmi_minutes', 'age_scale', 'age_cat', 'pmi_cat', 'pmi_cat2', 'cell_cycle_diff', 'cell_type_eval', 'library_type', 'sample_type', 'organism', 'system'\n",
       "    var: 'mouse_gene_id', 'n_cells', 'mouse_gene_name', 'human_gene_name', 'human_gene_id', 'highly_variable', 'means', 'dispersions', 'dispersions_norm', 'highly_variable_nbatches', 'highly_variable_intersection'\n",
       "    uns: 'hvg'\n",
       "    layers: 'counts', 'log1p_norm'"
      ]
     },
     "execution_count": 60,
     "metadata": {},
     "output_type": "execute_result"
    }
   ],
   "source": [
    "pdata_sub = pdata[:, pdata.var[\"highly_variable\"]].copy()\n",
    "pdata_sub"
   ]
  },
  {
   "cell_type": "code",
   "execution_count": 61,
   "id": "198b4d63",
   "metadata": {},
   "outputs": [
    {
     "data": {
      "text/plain": [
       "AnnData object with n_obs × n_vars = 48734 × 10000\n",
       "    obs: 'sample_id', 'publication', 'sample_id_anon', 'individual_id_anon', 'replicate', 'treatment', 'condition', 'tissue', 'time', 'batch', 'lesion_type', 'sample_source', 'diagnosis', 'n_genes_by_counts', 'total_counts', 'pct_counts_mt', 'pct_counts_ribo', 's_score', 'g2m_score', 'phase', 'type_fine', 'type_broad', 'cluster_zoom', 'exclude_pseudobulk', 'seq_pool', 'sex', 'age_at_death', 'smoker', 'cause_of_death', 'years_w_ms', 'pmi_minutes', 'age_scale', 'age_cat', 'pmi_cat', 'pmi_cat2', 'cell_cycle_diff', 'cell_type_eval', 'library_type', 'sample_type', 'organism', 'system'\n",
       "    var: 'mouse_gene_id', 'n_cells', 'mouse_gene_name', 'human_gene_name', 'human_gene_id', 'highly_variable', 'means', 'dispersions', 'dispersions_norm', 'highly_variable_nbatches', 'highly_variable_intersection'\n",
       "    uns: 'hvg'\n",
       "    layers: 'counts', 'log1p_norm'"
      ]
     },
     "execution_count": 61,
     "metadata": {},
     "output_type": "execute_result"
    }
   ],
   "source": [
    "sdata_sub = sdata[:, sdata.var[\"highly_variable\"]].copy()\n",
    "sdata_sub"
   ]
  },
  {
   "cell_type": "code",
   "execution_count": 62,
   "id": "243b0bc1",
   "metadata": {},
   "outputs": [
    {
     "data": {
      "text/plain": [
       "4223"
      ]
     },
     "execution_count": 62,
     "metadata": {},
     "output_type": "execute_result"
    }
   ],
   "source": [
    "# Shared HVGs\n",
    "shared_hvgs=list(set(adata_sub.var_names) & set(pdata_sub.var_names) & \n",
    "                 set(sdata_sub.var_names))\n",
    "len(shared_hvgs)"
   ]
  },
  {
   "cell_type": "code",
   "execution_count": 64,
   "id": "ff23b9fa",
   "metadata": {
    "scrolled": true
   },
   "outputs": [
    {
     "data": {
      "text/plain": [
       "4223"
      ]
     },
     "execution_count": 64,
     "metadata": {},
     "output_type": "execute_result"
    }
   ],
   "source": [
    "common_hvgs=list(set(shared_hvgs) & set(adata_mm_sub.var_names))\n",
    "len(shared_hvgs)"
   ]
  },
  {
   "cell_type": "code",
   "execution_count": 65,
   "id": "0109160a",
   "metadata": {},
   "outputs": [
    {
     "data": {
      "text/plain": [
       "highly_variable_nbatches\n",
       "10    972\n",
       "6     959\n",
       "12    957\n",
       "8     947\n",
       "11    933\n",
       "13    924\n",
       "7     920\n",
       "9     899\n",
       "14    896\n",
       "5     856\n",
       "15    809\n",
       "16    772\n",
       "17    766\n",
       "4     733\n",
       "20    691\n",
       "22    689\n",
       "3     681\n",
       "19    658\n",
       "18    652\n",
       "21    628\n",
       "27    560\n",
       "23    555\n",
       "24    553\n",
       "26    545\n",
       "2     530\n",
       "25    507\n",
       "28    436\n",
       "29    393\n",
       "1     381\n",
       "30    330\n",
       "0     279\n",
       "Name: count, dtype: int64"
      ]
     },
     "execution_count": 65,
     "metadata": {},
     "output_type": "execute_result"
    },
    {
     "data": {
      "image/png": "[encoded data removed]",
      "text/plain": [
       "<Figure size 640x480 with 1 Axes>"
      ]
     },
     "metadata": {},
     "output_type": "display_data"
    }
   ],
   "source": [
    "n_batches = adata_mm.var[\"highly_variable_nbatches\"].value_counts()\n",
    "ax = n_batches.plot(kind=\"bar\")\n",
    "n_batches"
   ]
  },
  {
   "cell_type": "code",
   "execution_count": 66,
   "id": "40d8e843",
   "metadata": {},
   "outputs": [
    {
     "data": {
      "text/plain": [
       "highly_variable_nbatches\n",
       "8    2561\n",
       "6    2281\n",
       "5    2168\n",
       "4    2135\n",
       "0    2102\n",
       "3    2102\n",
       "7    2075\n",
       "2    1932\n",
       "1    1751\n",
       "Name: count, dtype: int64"
      ]
     },
     "execution_count": 66,
     "metadata": {},
     "output_type": "execute_result"
    },
    {
     "data": {
      "image/png": "[encoded data removed]",
      "text/plain": [
       "<Figure size 640x480 with 1 Axes>"
      ]
     },
     "metadata": {},
     "output_type": "display_data"
    }
   ],
   "source": [
    "n_batches = adata.var[\"highly_variable_nbatches\"].value_counts()\n",
    "ax = n_batches.plot(kind=\"bar\")\n",
    "n_batches"
   ]
  },
  {
   "cell_type": "code",
   "execution_count": 68,
   "id": "ecfb9036",
   "metadata": {},
   "outputs": [
    {
     "data": {
      "text/plain": [
       "highly_variable_nbatches\n",
       "12    3230\n",
       "0     2029\n",
       "2     1822\n",
       "1     1784\n",
       "3     1754\n",
       "4     1647\n",
       "5     1412\n",
       "11    1322\n",
       "6     1305\n",
       "7     1098\n",
       "10    1011\n",
       "8      996\n",
       "9      974\n",
       "Name: count, dtype: int64"
      ]
     },
     "execution_count": 68,
     "metadata": {},
     "output_type": "execute_result"
    },
    {
     "data": {
      "image/png": "[encoded data removed]",
      "text/plain": [
       "<Figure size 640x480 with 1 Axes>"
      ]
     },
     "metadata": {},
     "output_type": "display_data"
    }
   ],
   "source": [
    "n_batches = pdata.var[\"highly_variable_nbatches\"].value_counts()\n",
    "ax = n_batches.plot(kind=\"bar\")\n",
    "n_batches"
   ]
  },
  {
   "cell_type": "code",
   "execution_count": 69,
   "id": "b90b181e",
   "metadata": {
    "scrolled": false
   },
   "outputs": [
    {
     "data": {
      "text/plain": [
       "highly_variable_nbatches\n",
       "4     2322\n",
       "5     2321\n",
       "6     2065\n",
       "3     2047\n",
       "7     1862\n",
       "10    1672\n",
       "8     1619\n",
       "9     1562\n",
       "2     1413\n",
       "1      986\n",
       "0      453\n",
       "Name: count, dtype: int64"
      ]
     },
     "execution_count": 69,
     "metadata": {},
     "output_type": "execute_result"
    },
    {
     "data": {
      "image/png": "[encoded data removed]",
      "text/plain": [
       "<Figure size 640x480 with 1 Axes>"
      ]
     },
     "metadata": {},
     "output_type": "display_data"
    }
   ],
   "source": [
    "n_batches = sdata.var[\"highly_variable_nbatches\"].value_counts()\n",
    "ax = n_batches.plot(kind=\"bar\")\n",
    "n_batches"
   ]
  },
  {
   "cell_type": "code",
   "execution_count": 70,
   "id": "38ea8c27",
   "metadata": {},
   "outputs": [
    {
     "data": {
      "text/plain": [
       "highly_variable_nbatches\n",
       "15    809\n",
       "16    772\n",
       "17    766\n",
       "20    691\n",
       "22    689\n",
       "19    658\n",
       "18    652\n",
       "21    628\n",
       "27    560\n",
       "23    555\n",
       "24    553\n",
       "26    545\n",
       "25    507\n",
       "14    456\n",
       "28    436\n",
       "29    393\n",
       "30    330\n",
       "Name: count, dtype: int64"
      ]
     },
     "execution_count": 70,
     "metadata": {},
     "output_type": "execute_result"
    },
    {
     "data": {
      "image/png": "[encoded data removed]",
      "text/plain": [
       "<Figure size 640x480 with 1 Axes>"
      ]
     },
     "metadata": {},
     "output_type": "display_data"
    }
   ],
   "source": [
    "n_batches = adata_mm_sub.var[\"highly_variable_nbatches\"].value_counts()\n",
    "ax = n_batches.plot(kind=\"bar\")\n",
    "n_batches"
   ]
  },
  {
   "cell_type": "code",
   "execution_count": 67,
   "id": "f8e1afdb",
   "metadata": {},
   "outputs": [
    {
     "data": {
      "text/plain": [
       "highly_variable_nbatches\n",
       "8    2561\n",
       "6    2281\n",
       "5    2168\n",
       "7    2075\n",
       "4     915\n",
       "Name: count, dtype: int64"
      ]
     },
     "execution_count": 67,
     "metadata": {},
     "output_type": "execute_result"
    },
    {
     "data": {
      "image/png": "[encoded data removed]",
      "text/plain": [
       "<Figure size 640x480 with 1 Axes>"
      ]
     },
     "metadata": {},
     "output_type": "display_data"
    }
   ],
   "source": [
    "n_batches = adata_sub.var[\"highly_variable_nbatches\"].value_counts()\n",
    "ax = n_batches.plot(kind=\"bar\")\n",
    "n_batches"
   ]
  },
  {
   "cell_type": "code",
   "execution_count": 71,
   "id": "6b003632",
   "metadata": {},
   "outputs": [
    {
     "data": {
      "text/plain": [
       "highly_variable_nbatches\n",
       "12    3230\n",
       "11    1322\n",
       "6     1305\n",
       "7     1098\n",
       "10    1011\n",
       "8      996\n",
       "9      974\n",
       "5       64\n",
       "Name: count, dtype: int64"
      ]
     },
     "execution_count": 71,
     "metadata": {},
     "output_type": "execute_result"
    },
    {
     "data": {
      "image/png": "[encoded data removed]",
      "text/plain": [
       "<Figure size 640x480 with 1 Axes>"
      ]
     },
     "metadata": {},
     "output_type": "display_data"
    }
   ],
   "source": [
    "n_batches = pdata_sub.var[\"highly_variable_nbatches\"].value_counts()\n",
    "ax = n_batches.plot(kind=\"bar\")\n",
    "n_batches"
   ]
  },
  {
   "cell_type": "code",
   "execution_count": 72,
   "id": "e46682b7",
   "metadata": {},
   "outputs": [
    {
     "data": {
      "text/plain": [
       "highly_variable_nbatches\n",
       "6     2065\n",
       "7     1862\n",
       "10    1672\n",
       "8     1619\n",
       "9     1562\n",
       "5     1220\n",
       "Name: count, dtype: int64"
      ]
     },
     "execution_count": 72,
     "metadata": {},
     "output_type": "execute_result"
    },
    {
     "data": {
      "image/png": "[encoded data removed]",
      "text/plain": [
       "<Figure size 640x480 with 1 Axes>"
      ]
     },
     "metadata": {},
     "output_type": "display_data"
    }
   ],
   "source": [
    "n_batches = sdata_sub.var[\"highly_variable_nbatches\"].value_counts()\n",
    "ax = n_batches.plot(kind=\"bar\")\n",
    "n_batches"
   ]
  },
  {
   "cell_type": "markdown",
   "id": "69d848d7",
   "metadata": {},
   "source": [
    "# Find shared genes and concat"
   ]
  },
  {
   "cell_type": "code",
   "execution_count": 2,
   "id": "c1f9efe7",
   "metadata": {},
   "outputs": [
    {
     "data": {
      "text/plain": [
       "AnnData object with n_obs × n_vars = 112213 × 10000\n",
       "    obs: 'sample_id', 'publication', 'sample_id_anon', 'individual_id_anon', 'replicate', 'treatment', 'condition', 'tissue', 'time', 'batch', 'lesion_type', 'sample_source', 'diagnosis', 'n_genes_by_counts', 'total_counts', 'pct_counts_mt', 'pct_counts_ribo', 's_score', 'g2m_score', 'phase', 'type_fine', 'type_broad', 'cluster_zoom', 'exclude_pseudobulk', 'seq_pool', 'sex', 'age_at_death', 'smoker', 'cause_of_death', 'years_w_ms', 'pmi_minutes', 'age_scale', 'age_cat', 'pmi_cat', 'pmi_cat2', 'cell_cycle_diff', 'cell_type_eval', 'library_type', 'sample_type', 'organism', 'system'\n",
       "    var: 'n_cells', 'highly_variable', 'means', 'dispersions', 'dispersions_norm', 'highly_variable_nbatches', 'highly_variable_intersection', 'mouse_gene_id'\n",
       "    uns: 'hvg'\n",
       "    layers: 'counts', 'log1p_norm'"
      ]
     },
     "execution_count": 2,
     "metadata": {},
     "output_type": "execute_result"
    }
   ],
   "source": [
    "adata_mm = sc.read_h5ad('./cVAE_analysis/sysVI/adata_mm_hvg_sub.h5ad')\n",
    "adata_mm"
   ]
  },
  {
   "cell_type": "code",
   "execution_count": 3,
   "id": "32854fb8",
   "metadata": {},
   "outputs": [
    {
     "data": {
      "text/plain": [
       "AnnData object with n_obs × n_vars = 335694 × 10000\n",
       "    obs: 'sample_id', 'publication', 'sample_id_anon', 'individual_id_anon', 'replicate', 'treatment', 'condition', 'tissue', 'time', 'batch', 'lesion_type', 'sample_source', 'diagnosis', 'n_genes_by_counts', 'total_counts', 'pct_counts_mt', 's_score', 'g2m_score', 'phase', 'cell_cycle_diff', 'type_fine', 'type_broad', 'cluster_zoom', 'exclude_pseudobulk', 'seq_pool', 'sex', 'age_at_death', 'smoker', 'cause_of_death', 'years_w_ms', 'pmi_minutes', 'age_scale', 'age_cat', 'pmi_cat', 'pmi_cat2', 'pct_counts_ribo', 'cell_type_eval', 'library_type', 'sample_type', 'organism', 'system'\n",
       "    var: 'human_gene_id', 'n_cells', 'mouse_gene_id', 'mouse_gene_name', 'human_gene_name', 'highly_variable', 'means', 'dispersions', 'dispersions_norm', 'highly_variable_nbatches', 'highly_variable_intersection'\n",
       "    uns: 'hvg'\n",
       "    layers: 'counts', 'log1p_norm'"
      ]
     },
     "execution_count": 3,
     "metadata": {},
     "output_type": "execute_result"
    }
   ],
   "source": [
    "mdata = sc.read_h5ad(\"./cVAE_analysis/sysVI/mdata_mm_hvg_sub.h5ad\")\n",
    "mdata"
   ]
  },
  {
   "cell_type": "code",
   "execution_count": 7,
   "id": "d9c8cdd2",
   "metadata": {
    "scrolled": true
   },
   "outputs": [
    {
     "name": "stdout",
     "output_type": "stream",
     "text": [
      "  (0, 2)\t0.5194106\n",
      "  (1, 1)\t1.0415423\n",
      "  (1, 2)\t0.3124113\n",
      "  (1, 5)\t0.3124113\n",
      "  (2, 1)\t0.31552207\n",
      "  (2, 2)\t0.31552207\n",
      "  (3, 1)\t0.7569557\n",
      "  (4, 1)\t0.85382694\n",
      "  (4, 5)\t0.3712457\n",
      "  (4, 7)\t0.3712457\n",
      "  (5, 1)\t0.41221035\n",
      "  (5, 4)\t0.703248\n",
      "  (6, 1)\t1.1173232\n",
      "  (6, 9)\t0.41486433\n",
      "  (7, 1)\t1.307015\n",
      "  (8, 0)\t0.44250843\n",
      "  (8, 1)\t0.74820995\n",
      "  (8, 3)\t0.44250843\n",
      "  (8, 4)\t0.44250843\n",
      "  (8, 7)\t0.44250843\n",
      "  (9, 1)\t0.75678545\n",
      "  (9, 4)\t0.44833738\n",
      "  (9, 7)\t0.44833738\n"
     ]
    }
   ],
   "source": [
    "print(adata_mm.X[:10, :10])"
   ]
  },
  {
   "cell_type": "code",
   "execution_count": 8,
   "id": "29f87d91",
   "metadata": {},
   "outputs": [
    {
     "name": "stdout",
     "output_type": "stream",
     "text": [
      "  (3, 0)\t2.1317280276818393\n",
      "  (8, 2)\t0.17572952428757385\n"
     ]
    }
   ],
   "source": [
    "print(mdata.X[:10, :10])"
   ]
  },
  {
   "cell_type": "code",
   "execution_count": 9,
   "id": "ed50fa5d",
   "metadata": {},
   "outputs": [
    {
     "name": "stdout",
     "output_type": "stream",
     "text": [
      "  (0, 9)\t2\n",
      "  (0, 7)\t2\n",
      "  (0, 3)\t1\n",
      "  (1, 9)\t1\n",
      "  (1, 7)\t2\n",
      "  (1, 5)\t5\n",
      "  (2, 9)\t1\n",
      "  (2, 7)\t3\n",
      "  (2, 5)\t1\n",
      "  (3, 5)\t3\n",
      "  (4, 5)\t3\n",
      "  (5, 5)\t1\n",
      "  (6, 5)\t4\n",
      "  (7, 5)\t5\n",
      "  (8, 5)\t2\n",
      "  (8, 3)\t1\n",
      "  (8, 0)\t1\n",
      "  (9, 7)\t2\n",
      "  (9, 5)\t2\n"
     ]
    }
   ],
   "source": [
    "print(adata_mm.raw.X[:10, :10])"
   ]
  },
  {
   "cell_type": "code",
   "execution_count": 10,
   "id": "b41b8168",
   "metadata": {},
   "outputs": [
    {
     "name": "stdout",
     "output_type": "stream",
     "text": [
      "  (2, 7)\t2.0\n",
      "  (7, 7)\t2.0\n",
      "  (8, 7)\t1.0\n"
     ]
    }
   ],
   "source": [
    "print(mdata.raw.X[:10, :10])"
   ]
  },
  {
   "cell_type": "code",
   "execution_count": 11,
   "id": "70e8e951",
   "metadata": {},
   "outputs": [
    {
     "name": "stdout",
     "output_type": "stream",
     "text": [
      "Dimensions of adata_mm.X: (112213, 10000)\n",
      "Dimensions of adata_mm.raw: (112213, 21411)\n"
     ]
    }
   ],
   "source": [
    "# Check the dimensions of mdata.X\n",
    "print(\"Dimensions of adata_mm.X:\", adata_mm.X.shape)\n",
    "\n",
    "# Check the dimensions of mdata.raw\n",
    "print(\"Dimensions of adata_mm.raw:\", adata_mm.raw.X.shape)"
   ]
  },
  {
   "cell_type": "code",
   "execution_count": 12,
   "id": "733bf707",
   "metadata": {},
   "outputs": [
    {
     "name": "stdout",
     "output_type": "stream",
     "text": [
      "Dimensions of mdata.X: (335694, 10000)\n",
      "Dimensions of mdata.raw: (335694, 30936)\n"
     ]
    }
   ],
   "source": [
    "# Check the dimensions of mdata.X\n",
    "print(\"Dimensions of mdata.X:\", mdata.X.shape)\n",
    "\n",
    "# Check the dimensions of mdata.raw\n",
    "print(\"Dimensions of mdata.raw:\", mdata.raw.X.shape)"
   ]
  },
  {
   "cell_type": "markdown",
   "id": "2ac5fba2",
   "metadata": {},
   "source": [
    "# Reset var names for human/mouse merging"
   ]
  },
  {
   "cell_type": "code",
   "execution_count": 62,
   "id": "e0c87ddc",
   "metadata": {},
   "outputs": [
    {
     "name": "stdout",
     "output_type": "stream",
     "text": [
      "Data type of each column in adata_mm.var:\n",
      "n_cells                           int64\n",
      "highly_variable                    bool\n",
      "means                           float64\n",
      "dispersions                     float64\n",
      "dispersions_norm                float32\n",
      "highly_variable_nbatches          int64\n",
      "highly_variable_intersection       bool\n",
      "mouse_gene_id                    object\n",
      "dtype: object\n"
     ]
    }
   ],
   "source": [
    "var_dtype = adata_mm.var.dtypes\n",
    "\n",
    "print(\"Data type of each column in adata_mm.var:\")\n",
    "print(var_dtype)"
   ]
  },
  {
   "cell_type": "code",
   "execution_count": 63,
   "id": "4a693732",
   "metadata": {},
   "outputs": [
    {
     "name": "stdout",
     "output_type": "stream",
     "text": [
      "Data type of each column in adata_mm.var:\n",
      "human_gene_id                     object\n",
      "n_cells                            int64\n",
      "mouse_gene_id                   category\n",
      "mouse_gene_name                 category\n",
      "human_gene_name                   object\n",
      "highly_variable                     bool\n",
      "means                            float64\n",
      "dispersions                      float64\n",
      "dispersions_norm                 float32\n",
      "highly_variable_nbatches           int64\n",
      "highly_variable_intersection        bool\n",
      "dtype: object\n"
     ]
    }
   ],
   "source": [
    "var_dtype = mdata.var.dtypes\n",
    "\n",
    "print(\"Data type of each column in adata_mm.var:\")\n",
    "print(var_dtype)"
   ]
  },
  {
   "cell_type": "code",
   "execution_count": 64,
   "id": "bc539c06",
   "metadata": {
    "scrolled": true
   },
   "outputs": [
    {
     "name": "stdout",
     "output_type": "stream",
     "text": [
      "Content of indices in adata_mm.var:\n",
      "Index(['0610005C13Rik', '0610010F05Rik', '0610030E20Rik', '0610040B10Rik',\n",
      "       '0610040J01Rik', '0610043K17Rik', '1110002J07Rik', '1110002L01Rik',\n",
      "       '1110015O18Rik', '1110017D15Rik',\n",
      "       ...\n",
      "       'Zswim3', 'Zswim4', 'Zswim5', 'Zswim6', 'Zup1', 'Zwint', 'Zyg11b',\n",
      "       'Zyx', 'Zzz3', 'a'],\n",
      "      dtype='object', name='gene_name', length=10000)\n"
     ]
    }
   ],
   "source": [
    "var_indices = adata_mm.var.index\n",
    "\n",
    "print(\"Content of indices in adata_mm.var:\")\n",
    "print(var_indices)"
   ]
  },
  {
   "cell_type": "code",
   "execution_count": 65,
   "id": "cb547065",
   "metadata": {},
   "outputs": [
    {
     "name": "stdout",
     "output_type": "stream",
     "text": [
      "Content of indices in adata_mm.var:\n",
      "Index(['LINC02593', 'SAMD11', 'HES4', 'ISG15', 'LINC01342', 'TNFRSF18',\n",
      "       'TNFRSF4', 'MXRA8', 'ANKRD65', 'TMEM88B',\n",
      "       ...\n",
      "       'MT-CO1', 'MT-ATP8', 'MT-ATP6', 'MT-CO3', 'MT-ND4L', 'MT-ND4', 'MT-ND5',\n",
      "       'MT-ND6', 'MT-CYB', 'AC011841.1'],\n",
      "      dtype='object', length=10000)\n"
     ]
    }
   ],
   "source": [
    "var_indices = mdata.var.index\n",
    "\n",
    "print(\"Content of indices in adata_mm.var:\")\n",
    "print(var_indices)"
   ]
  },
  {
   "cell_type": "code",
   "execution_count": 66,
   "id": "32cb7616",
   "metadata": {},
   "outputs": [
    {
     "data": {
      "text/html": [
       "<div>\n",
       "<style scoped>\n",
       "    .dataframe tbody tr th:only-of-type {\n",
       "        vertical-align: middle;\n",
       "    }\n",
       "\n",
       "    .dataframe tbody tr th {\n",
       "        vertical-align: top;\n",
       "    }\n",
       "\n",
       "    .dataframe thead th {\n",
       "        text-align: right;\n",
       "    }\n",
       "</style>\n",
       "<table border=\"1\" class=\"dataframe\">\n",
       "  <thead>\n",
       "    <tr style=\"text-align: right;\">\n",
       "      <th></th>\n",
       "      <th>human_gene_id</th>\n",
       "      <th>n_cells</th>\n",
       "      <th>mouse_gene_id</th>\n",
       "      <th>mouse_gene_name</th>\n",
       "      <th>human_gene_name</th>\n",
       "      <th>highly_variable</th>\n",
       "      <th>means</th>\n",
       "      <th>dispersions</th>\n",
       "      <th>dispersions_norm</th>\n",
       "      <th>highly_variable_nbatches</th>\n",
       "      <th>highly_variable_intersection</th>\n",
       "    </tr>\n",
       "  </thead>\n",
       "  <tbody>\n",
       "    <tr>\n",
       "      <th>LINC02593</th>\n",
       "      <td>ENSG00000223764</td>\n",
       "      <td>1087</td>\n",
       "      <td>NaN</td>\n",
       "      <td>NaN</td>\n",
       "      <td>LINC02593</td>\n",
       "      <td>True</td>\n",
       "      <td>0.003719</td>\n",
       "      <td>1.102906</td>\n",
       "      <td>0.498355</td>\n",
       "      <td>40</td>\n",
       "      <td>False</td>\n",
       "    </tr>\n",
       "    <tr>\n",
       "      <th>SAMD11</th>\n",
       "      <td>ENSG00000187634</td>\n",
       "      <td>4620</td>\n",
       "      <td>ENSMUSG00000096351</td>\n",
       "      <td>Samd11</td>\n",
       "      <td>SAMD11</td>\n",
       "      <td>True</td>\n",
       "      <td>0.015315</td>\n",
       "      <td>1.314094</td>\n",
       "      <td>0.642744</td>\n",
       "      <td>54</td>\n",
       "      <td>False</td>\n",
       "    </tr>\n",
       "    <tr>\n",
       "      <th>HES4</th>\n",
       "      <td>ENSG00000188290</td>\n",
       "      <td>14105</td>\n",
       "      <td>NaN</td>\n",
       "      <td>NaN</td>\n",
       "      <td>HES4</td>\n",
       "      <td>True</td>\n",
       "      <td>0.033982</td>\n",
       "      <td>1.418913</td>\n",
       "      <td>1.056016</td>\n",
       "      <td>57</td>\n",
       "      <td>False</td>\n",
       "    </tr>\n",
       "    <tr>\n",
       "      <th>ISG15</th>\n",
       "      <td>ENSG00000187608</td>\n",
       "      <td>9071</td>\n",
       "      <td>ENSMUSG00000035692</td>\n",
       "      <td>Isg15</td>\n",
       "      <td>ISG15</td>\n",
       "      <td>True</td>\n",
       "      <td>0.026043</td>\n",
       "      <td>1.342449</td>\n",
       "      <td>0.483112</td>\n",
       "      <td>45</td>\n",
       "      <td>False</td>\n",
       "    </tr>\n",
       "    <tr>\n",
       "      <th>LINC01342</th>\n",
       "      <td>ENSG00000223823</td>\n",
       "      <td>529</td>\n",
       "      <td>NaN</td>\n",
       "      <td>NaN</td>\n",
       "      <td>LINC01342</td>\n",
       "      <td>True</td>\n",
       "      <td>0.001404</td>\n",
       "      <td>0.904957</td>\n",
       "      <td>0.288703</td>\n",
       "      <td>35</td>\n",
       "      <td>False</td>\n",
       "    </tr>\n",
       "    <tr>\n",
       "      <th>...</th>\n",
       "      <td>...</td>\n",
       "      <td>...</td>\n",
       "      <td>...</td>\n",
       "      <td>...</td>\n",
       "      <td>...</td>\n",
       "      <td>...</td>\n",
       "      <td>...</td>\n",
       "      <td>...</td>\n",
       "      <td>...</td>\n",
       "      <td>...</td>\n",
       "      <td>...</td>\n",
       "    </tr>\n",
       "    <tr>\n",
       "      <th>MT-ND4</th>\n",
       "      <td>ENSG00000198886</td>\n",
       "      <td>222026</td>\n",
       "      <td>ENSMUSG00000064363</td>\n",
       "      <td>mt-Nd4</td>\n",
       "      <td>MT-ND4</td>\n",
       "      <td>True</td>\n",
       "      <td>2.227328</td>\n",
       "      <td>0.928413</td>\n",
       "      <td>-0.816503</td>\n",
       "      <td>34</td>\n",
       "      <td>False</td>\n",
       "    </tr>\n",
       "    <tr>\n",
       "      <th>MT-ND5</th>\n",
       "      <td>ENSG00000198786</td>\n",
       "      <td>144526</td>\n",
       "      <td>ENSMUSG00000064367</td>\n",
       "      <td>mt-Nd5</td>\n",
       "      <td>MT-ND5</td>\n",
       "      <td>True</td>\n",
       "      <td>0.960506</td>\n",
       "      <td>1.230078</td>\n",
       "      <td>1.088346</td>\n",
       "      <td>52</td>\n",
       "      <td>False</td>\n",
       "    </tr>\n",
       "    <tr>\n",
       "      <th>MT-ND6</th>\n",
       "      <td>ENSG00000198695</td>\n",
       "      <td>15114</td>\n",
       "      <td>ENSMUSG00000064368</td>\n",
       "      <td>mt-Nd6</td>\n",
       "      <td>MT-ND6</td>\n",
       "      <td>True</td>\n",
       "      <td>0.045268</td>\n",
       "      <td>1.374156</td>\n",
       "      <td>0.709094</td>\n",
       "      <td>54</td>\n",
       "      <td>False</td>\n",
       "    </tr>\n",
       "    <tr>\n",
       "      <th>MT-CYB</th>\n",
       "      <td>ENSG00000198727</td>\n",
       "      <td>197343</td>\n",
       "      <td>ENSMUSG00000064370</td>\n",
       "      <td>mt-Cytb</td>\n",
       "      <td>MT-CYB</td>\n",
       "      <td>True</td>\n",
       "      <td>1.726084</td>\n",
       "      <td>1.057894</td>\n",
       "      <td>-0.004678</td>\n",
       "      <td>43</td>\n",
       "      <td>False</td>\n",
       "    </tr>\n",
       "    <tr>\n",
       "      <th>AC011841.1</th>\n",
       "      <td>ENSG00000273496</td>\n",
       "      <td>279</td>\n",
       "      <td>NaN</td>\n",
       "      <td>NaN</td>\n",
       "      <td>AC011841.1</td>\n",
       "      <td>True</td>\n",
       "      <td>0.001030</td>\n",
       "      <td>0.760676</td>\n",
       "      <td>0.332170</td>\n",
       "      <td>37</td>\n",
       "      <td>False</td>\n",
       "    </tr>\n",
       "  </tbody>\n",
       "</table>\n",
       "<p>10000 rows × 11 columns</p>\n",
       "</div>"
      ],
      "text/plain": [
       "              human_gene_id  n_cells       mouse_gene_id mouse_gene_name  \\\n",
       "LINC02593   ENSG00000223764     1087                 NaN             NaN   \n",
       "SAMD11      ENSG00000187634     4620  ENSMUSG00000096351          Samd11   \n",
       "HES4        ENSG00000188290    14105                 NaN             NaN   \n",
       "ISG15       ENSG00000187608     9071  ENSMUSG00000035692           Isg15   \n",
       "LINC01342   ENSG00000223823      529                 NaN             NaN   \n",
       "...                     ...      ...                 ...             ...   \n",
       "MT-ND4      ENSG00000198886   222026  ENSMUSG00000064363          mt-Nd4   \n",
       "MT-ND5      ENSG00000198786   144526  ENSMUSG00000064367          mt-Nd5   \n",
       "MT-ND6      ENSG00000198695    15114  ENSMUSG00000064368          mt-Nd6   \n",
       "MT-CYB      ENSG00000198727   197343  ENSMUSG00000064370         mt-Cytb   \n",
       "AC011841.1  ENSG00000273496      279                 NaN             NaN   \n",
       "\n",
       "           human_gene_name  highly_variable     means  dispersions  \\\n",
       "LINC02593        LINC02593             True  0.003719     1.102906   \n",
       "SAMD11              SAMD11             True  0.015315     1.314094   \n",
       "HES4                  HES4             True  0.033982     1.418913   \n",
       "ISG15                ISG15             True  0.026043     1.342449   \n",
       "LINC01342        LINC01342             True  0.001404     0.904957   \n",
       "...                    ...              ...       ...          ...   \n",
       "MT-ND4              MT-ND4             True  2.227328     0.928413   \n",
       "MT-ND5              MT-ND5             True  0.960506     1.230078   \n",
       "MT-ND6              MT-ND6             True  0.045268     1.374156   \n",
       "MT-CYB              MT-CYB             True  1.726084     1.057894   \n",
       "AC011841.1      AC011841.1             True  0.001030     0.760676   \n",
       "\n",
       "            dispersions_norm  highly_variable_nbatches  \\\n",
       "LINC02593           0.498355                        40   \n",
       "SAMD11              0.642744                        54   \n",
       "HES4                1.056016                        57   \n",
       "ISG15               0.483112                        45   \n",
       "LINC01342           0.288703                        35   \n",
       "...                      ...                       ...   \n",
       "MT-ND4             -0.816503                        34   \n",
       "MT-ND5              1.088346                        52   \n",
       "MT-ND6              0.709094                        54   \n",
       "MT-CYB             -0.004678                        43   \n",
       "AC011841.1          0.332170                        37   \n",
       "\n",
       "            highly_variable_intersection  \n",
       "LINC02593                          False  \n",
       "SAMD11                             False  \n",
       "HES4                               False  \n",
       "ISG15                              False  \n",
       "LINC01342                          False  \n",
       "...                                  ...  \n",
       "MT-ND4                             False  \n",
       "MT-ND5                             False  \n",
       "MT-ND6                             False  \n",
       "MT-CYB                             False  \n",
       "AC011841.1                         False  \n",
       "\n",
       "[10000 rows x 11 columns]"
      ]
     },
     "execution_count": 66,
     "metadata": {},
     "output_type": "execute_result"
    }
   ],
   "source": [
    "mdata.var"
   ]
  },
  {
   "cell_type": "code",
   "execution_count": 67,
   "id": "226b954b",
   "metadata": {},
   "outputs": [
    {
     "data": {
      "text/html": [
       "<div>\n",
       "<style scoped>\n",
       "    .dataframe tbody tr th:only-of-type {\n",
       "        vertical-align: middle;\n",
       "    }\n",
       "\n",
       "    .dataframe tbody tr th {\n",
       "        vertical-align: top;\n",
       "    }\n",
       "\n",
       "    .dataframe thead th {\n",
       "        text-align: right;\n",
       "    }\n",
       "</style>\n",
       "<table border=\"1\" class=\"dataframe\">\n",
       "  <thead>\n",
       "    <tr style=\"text-align: right;\">\n",
       "      <th></th>\n",
       "      <th>n_cells</th>\n",
       "      <th>highly_variable</th>\n",
       "      <th>means</th>\n",
       "      <th>dispersions</th>\n",
       "      <th>dispersions_norm</th>\n",
       "      <th>highly_variable_nbatches</th>\n",
       "      <th>highly_variable_intersection</th>\n",
       "      <th>mouse_gene_id</th>\n",
       "    </tr>\n",
       "    <tr>\n",
       "      <th>gene_name</th>\n",
       "      <th></th>\n",
       "      <th></th>\n",
       "      <th></th>\n",
       "      <th></th>\n",
       "      <th></th>\n",
       "      <th></th>\n",
       "      <th></th>\n",
       "      <th></th>\n",
       "    </tr>\n",
       "  </thead>\n",
       "  <tbody>\n",
       "    <tr>\n",
       "      <th>0610005C13Rik</th>\n",
       "      <td>370</td>\n",
       "      <td>True</td>\n",
       "      <td>0.004559</td>\n",
       "      <td>1.285572</td>\n",
       "      <td>0.233436</td>\n",
       "      <td>18</td>\n",
       "      <td>False</td>\n",
       "      <td>ENSMUSG00000109644</td>\n",
       "    </tr>\n",
       "    <tr>\n",
       "      <th>0610010F05Rik</th>\n",
       "      <td>15628</td>\n",
       "      <td>True</td>\n",
       "      <td>0.143055</td>\n",
       "      <td>1.152929</td>\n",
       "      <td>-0.171017</td>\n",
       "      <td>17</td>\n",
       "      <td>False</td>\n",
       "      <td>ENSMUSG00000042208</td>\n",
       "    </tr>\n",
       "    <tr>\n",
       "      <th>0610030E20Rik</th>\n",
       "      <td>18064</td>\n",
       "      <td>True</td>\n",
       "      <td>0.141184</td>\n",
       "      <td>1.183683</td>\n",
       "      <td>-0.073914</td>\n",
       "      <td>19</td>\n",
       "      <td>False</td>\n",
       "      <td>ENSMUSG00000058706</td>\n",
       "    </tr>\n",
       "    <tr>\n",
       "      <th>0610040B10Rik</th>\n",
       "      <td>5496</td>\n",
       "      <td>True</td>\n",
       "      <td>0.049141</td>\n",
       "      <td>1.269363</td>\n",
       "      <td>0.008722</td>\n",
       "      <td>15</td>\n",
       "      <td>False</td>\n",
       "      <td>ENSMUSG00000089889</td>\n",
       "    </tr>\n",
       "    <tr>\n",
       "      <th>0610040J01Rik</th>\n",
       "      <td>19880</td>\n",
       "      <td>True</td>\n",
       "      <td>0.180434</td>\n",
       "      <td>1.386197</td>\n",
       "      <td>2.097934</td>\n",
       "      <td>30</td>\n",
       "      <td>True</td>\n",
       "      <td>ENSMUSG00000060512</td>\n",
       "    </tr>\n",
       "    <tr>\n",
       "      <th>...</th>\n",
       "      <td>...</td>\n",
       "      <td>...</td>\n",
       "      <td>...</td>\n",
       "      <td>...</td>\n",
       "      <td>...</td>\n",
       "      <td>...</td>\n",
       "      <td>...</td>\n",
       "      <td>...</td>\n",
       "    </tr>\n",
       "    <tr>\n",
       "      <th>Zwint</th>\n",
       "      <td>28722</td>\n",
       "      <td>True</td>\n",
       "      <td>0.228307</td>\n",
       "      <td>1.080016</td>\n",
       "      <td>-0.391719</td>\n",
       "      <td>16</td>\n",
       "      <td>False</td>\n",
       "      <td>ENSMUSG00000019923</td>\n",
       "    </tr>\n",
       "    <tr>\n",
       "      <th>Zyg11b</th>\n",
       "      <td>22202</td>\n",
       "      <td>True</td>\n",
       "      <td>0.202591</td>\n",
       "      <td>1.180633</td>\n",
       "      <td>0.212724</td>\n",
       "      <td>21</td>\n",
       "      <td>False</td>\n",
       "      <td>ENSMUSG00000034636</td>\n",
       "    </tr>\n",
       "    <tr>\n",
       "      <th>Zyx</th>\n",
       "      <td>27621</td>\n",
       "      <td>True</td>\n",
       "      <td>0.199258</td>\n",
       "      <td>1.185623</td>\n",
       "      <td>0.270827</td>\n",
       "      <td>22</td>\n",
       "      <td>False</td>\n",
       "      <td>ENSMUSG00000029860</td>\n",
       "    </tr>\n",
       "    <tr>\n",
       "      <th>Zzz3</th>\n",
       "      <td>26439</td>\n",
       "      <td>True</td>\n",
       "      <td>0.253864</td>\n",
       "      <td>1.125320</td>\n",
       "      <td>-0.128903</td>\n",
       "      <td>15</td>\n",
       "      <td>False</td>\n",
       "      <td>ENSMUSG00000039068</td>\n",
       "    </tr>\n",
       "    <tr>\n",
       "      <th>a</th>\n",
       "      <td>4574</td>\n",
       "      <td>True</td>\n",
       "      <td>0.044374</td>\n",
       "      <td>1.348366</td>\n",
       "      <td>0.657669</td>\n",
       "      <td>26</td>\n",
       "      <td>False</td>\n",
       "      <td>ENSMUSG00000027596</td>\n",
       "    </tr>\n",
       "  </tbody>\n",
       "</table>\n",
       "<p>10000 rows × 8 columns</p>\n",
       "</div>"
      ],
      "text/plain": [
       "               n_cells  highly_variable     means  dispersions  \\\n",
       "gene_name                                                        \n",
       "0610005C13Rik      370             True  0.004559     1.285572   \n",
       "0610010F05Rik    15628             True  0.143055     1.152929   \n",
       "0610030E20Rik    18064             True  0.141184     1.183683   \n",
       "0610040B10Rik     5496             True  0.049141     1.269363   \n",
       "0610040J01Rik    19880             True  0.180434     1.386197   \n",
       "...                ...              ...       ...          ...   \n",
       "Zwint            28722             True  0.228307     1.080016   \n",
       "Zyg11b           22202             True  0.202591     1.180633   \n",
       "Zyx              27621             True  0.199258     1.185623   \n",
       "Zzz3             26439             True  0.253864     1.125320   \n",
       "a                 4574             True  0.044374     1.348366   \n",
       "\n",
       "               dispersions_norm  highly_variable_nbatches  \\\n",
       "gene_name                                                   \n",
       "0610005C13Rik          0.233436                        18   \n",
       "0610010F05Rik         -0.171017                        17   \n",
       "0610030E20Rik         -0.073914                        19   \n",
       "0610040B10Rik          0.008722                        15   \n",
       "0610040J01Rik          2.097934                        30   \n",
       "...                         ...                       ...   \n",
       "Zwint                 -0.391719                        16   \n",
       "Zyg11b                 0.212724                        21   \n",
       "Zyx                    0.270827                        22   \n",
       "Zzz3                  -0.128903                        15   \n",
       "a                      0.657669                        26   \n",
       "\n",
       "               highly_variable_intersection       mouse_gene_id  \n",
       "gene_name                                                        \n",
       "0610005C13Rik                         False  ENSMUSG00000109644  \n",
       "0610010F05Rik                         False  ENSMUSG00000042208  \n",
       "0610030E20Rik                         False  ENSMUSG00000058706  \n",
       "0610040B10Rik                         False  ENSMUSG00000089889  \n",
       "0610040J01Rik                          True  ENSMUSG00000060512  \n",
       "...                                     ...                 ...  \n",
       "Zwint                                 False  ENSMUSG00000019923  \n",
       "Zyg11b                                False  ENSMUSG00000034636  \n",
       "Zyx                                   False  ENSMUSG00000029860  \n",
       "Zzz3                                  False  ENSMUSG00000039068  \n",
       "a                                     False  ENSMUSG00000027596  \n",
       "\n",
       "[10000 rows x 8 columns]"
      ]
     },
     "execution_count": 67,
     "metadata": {},
     "output_type": "execute_result"
    }
   ],
   "source": [
    "adata_mm.var"
   ]
  },
  {
   "cell_type": "code",
   "execution_count": 4,
   "id": "b891018d",
   "metadata": {},
   "outputs": [
    {
     "data": {
      "text/html": [
       "<div>\n",
       "<style scoped>\n",
       "    .dataframe tbody tr th:only-of-type {\n",
       "        vertical-align: middle;\n",
       "    }\n",
       "\n",
       "    .dataframe tbody tr th {\n",
       "        vertical-align: top;\n",
       "    }\n",
       "\n",
       "    .dataframe thead th {\n",
       "        text-align: right;\n",
       "    }\n",
       "</style>\n",
       "<table border=\"1\" class=\"dataframe\">\n",
       "  <thead>\n",
       "    <tr style=\"text-align: right;\">\n",
       "      <th></th>\n",
       "      <th>n_cells</th>\n",
       "      <th>highly_variable</th>\n",
       "      <th>means</th>\n",
       "      <th>dispersions</th>\n",
       "      <th>dispersions_norm</th>\n",
       "      <th>highly_variable_nbatches</th>\n",
       "      <th>highly_variable_intersection</th>\n",
       "      <th>mouse_gene_id</th>\n",
       "    </tr>\n",
       "    <tr>\n",
       "      <th>gene_name</th>\n",
       "      <th></th>\n",
       "      <th></th>\n",
       "      <th></th>\n",
       "      <th></th>\n",
       "      <th></th>\n",
       "      <th></th>\n",
       "      <th></th>\n",
       "      <th></th>\n",
       "    </tr>\n",
       "  </thead>\n",
       "  <tbody>\n",
       "    <tr>\n",
       "      <th>0610005C13RIK</th>\n",
       "      <td>370</td>\n",
       "      <td>True</td>\n",
       "      <td>0.004559</td>\n",
       "      <td>1.285572</td>\n",
       "      <td>0.233436</td>\n",
       "      <td>18</td>\n",
       "      <td>False</td>\n",
       "      <td>ENSMUSG00000109644</td>\n",
       "    </tr>\n",
       "    <tr>\n",
       "      <th>0610010F05RIK</th>\n",
       "      <td>15628</td>\n",
       "      <td>True</td>\n",
       "      <td>0.143055</td>\n",
       "      <td>1.152929</td>\n",
       "      <td>-0.171017</td>\n",
       "      <td>17</td>\n",
       "      <td>False</td>\n",
       "      <td>ENSMUSG00000042208</td>\n",
       "    </tr>\n",
       "    <tr>\n",
       "      <th>0610030E20RIK</th>\n",
       "      <td>18064</td>\n",
       "      <td>True</td>\n",
       "      <td>0.141184</td>\n",
       "      <td>1.183683</td>\n",
       "      <td>-0.073914</td>\n",
       "      <td>19</td>\n",
       "      <td>False</td>\n",
       "      <td>ENSMUSG00000058706</td>\n",
       "    </tr>\n",
       "    <tr>\n",
       "      <th>0610040B10RIK</th>\n",
       "      <td>5496</td>\n",
       "      <td>True</td>\n",
       "      <td>0.049141</td>\n",
       "      <td>1.269363</td>\n",
       "      <td>0.008722</td>\n",
       "      <td>15</td>\n",
       "      <td>False</td>\n",
       "      <td>ENSMUSG00000089889</td>\n",
       "    </tr>\n",
       "    <tr>\n",
       "      <th>0610040J01RIK</th>\n",
       "      <td>19880</td>\n",
       "      <td>True</td>\n",
       "      <td>0.180434</td>\n",
       "      <td>1.386197</td>\n",
       "      <td>2.097934</td>\n",
       "      <td>30</td>\n",
       "      <td>True</td>\n",
       "      <td>ENSMUSG00000060512</td>\n",
       "    </tr>\n",
       "    <tr>\n",
       "      <th>...</th>\n",
       "      <td>...</td>\n",
       "      <td>...</td>\n",
       "      <td>...</td>\n",
       "      <td>...</td>\n",
       "      <td>...</td>\n",
       "      <td>...</td>\n",
       "      <td>...</td>\n",
       "      <td>...</td>\n",
       "    </tr>\n",
       "    <tr>\n",
       "      <th>ZWINT</th>\n",
       "      <td>28722</td>\n",
       "      <td>True</td>\n",
       "      <td>0.228307</td>\n",
       "      <td>1.080016</td>\n",
       "      <td>-0.391719</td>\n",
       "      <td>16</td>\n",
       "      <td>False</td>\n",
       "      <td>ENSMUSG00000019923</td>\n",
       "    </tr>\n",
       "    <tr>\n",
       "      <th>ZYG11B</th>\n",
       "      <td>22202</td>\n",
       "      <td>True</td>\n",
       "      <td>0.202591</td>\n",
       "      <td>1.180633</td>\n",
       "      <td>0.212724</td>\n",
       "      <td>21</td>\n",
       "      <td>False</td>\n",
       "      <td>ENSMUSG00000034636</td>\n",
       "    </tr>\n",
       "    <tr>\n",
       "      <th>ZYX</th>\n",
       "      <td>27621</td>\n",
       "      <td>True</td>\n",
       "      <td>0.199258</td>\n",
       "      <td>1.185623</td>\n",
       "      <td>0.270827</td>\n",
       "      <td>22</td>\n",
       "      <td>False</td>\n",
       "      <td>ENSMUSG00000029860</td>\n",
       "    </tr>\n",
       "    <tr>\n",
       "      <th>ZZZ3</th>\n",
       "      <td>26439</td>\n",
       "      <td>True</td>\n",
       "      <td>0.253864</td>\n",
       "      <td>1.125320</td>\n",
       "      <td>-0.128903</td>\n",
       "      <td>15</td>\n",
       "      <td>False</td>\n",
       "      <td>ENSMUSG00000039068</td>\n",
       "    </tr>\n",
       "    <tr>\n",
       "      <th>A</th>\n",
       "      <td>4574</td>\n",
       "      <td>True</td>\n",
       "      <td>0.044374</td>\n",
       "      <td>1.348366</td>\n",
       "      <td>0.657669</td>\n",
       "      <td>26</td>\n",
       "      <td>False</td>\n",
       "      <td>ENSMUSG00000027596</td>\n",
       "    </tr>\n",
       "  </tbody>\n",
       "</table>\n",
       "<p>10000 rows × 8 columns</p>\n",
       "</div>"
      ],
      "text/plain": [
       "               n_cells  highly_variable     means  dispersions  \\\n",
       "gene_name                                                        \n",
       "0610005C13RIK      370             True  0.004559     1.285572   \n",
       "0610010F05RIK    15628             True  0.143055     1.152929   \n",
       "0610030E20RIK    18064             True  0.141184     1.183683   \n",
       "0610040B10RIK     5496             True  0.049141     1.269363   \n",
       "0610040J01RIK    19880             True  0.180434     1.386197   \n",
       "...                ...              ...       ...          ...   \n",
       "ZWINT            28722             True  0.228307     1.080016   \n",
       "ZYG11B           22202             True  0.202591     1.180633   \n",
       "ZYX              27621             True  0.199258     1.185623   \n",
       "ZZZ3             26439             True  0.253864     1.125320   \n",
       "A                 4574             True  0.044374     1.348366   \n",
       "\n",
       "               dispersions_norm  highly_variable_nbatches  \\\n",
       "gene_name                                                   \n",
       "0610005C13RIK          0.233436                        18   \n",
       "0610010F05RIK         -0.171017                        17   \n",
       "0610030E20RIK         -0.073914                        19   \n",
       "0610040B10RIK          0.008722                        15   \n",
       "0610040J01RIK          2.097934                        30   \n",
       "...                         ...                       ...   \n",
       "ZWINT                 -0.391719                        16   \n",
       "ZYG11B                 0.212724                        21   \n",
       "ZYX                    0.270827                        22   \n",
       "ZZZ3                  -0.128903                        15   \n",
       "A                      0.657669                        26   \n",
       "\n",
       "               highly_variable_intersection       mouse_gene_id  \n",
       "gene_name                                                        \n",
       "0610005C13RIK                         False  ENSMUSG00000109644  \n",
       "0610010F05RIK                         False  ENSMUSG00000042208  \n",
       "0610030E20RIK                         False  ENSMUSG00000058706  \n",
       "0610040B10RIK                         False  ENSMUSG00000089889  \n",
       "0610040J01RIK                          True  ENSMUSG00000060512  \n",
       "...                                     ...                 ...  \n",
       "ZWINT                                 False  ENSMUSG00000019923  \n",
       "ZYG11B                                False  ENSMUSG00000034636  \n",
       "ZYX                                   False  ENSMUSG00000029860  \n",
       "ZZZ3                                  False  ENSMUSG00000039068  \n",
       "A                                     False  ENSMUSG00000027596  \n",
       "\n",
       "[10000 rows x 8 columns]"
      ]
     },
     "execution_count": 4,
     "metadata": {},
     "output_type": "execute_result"
    }
   ],
   "source": [
    "adata_mm.var_names = adata_mm.var_names.map(lambda x: x.upper())\n",
    "adata_mm.var"
   ]
  },
  {
   "cell_type": "code",
   "execution_count": 5,
   "id": "cbb9a65b",
   "metadata": {},
   "outputs": [
    {
     "name": "stdout",
     "output_type": "stream",
     "text": [
      "Number of intersecting genes: 4598\n"
     ]
    }
   ],
   "source": [
    "# Get gene names from each data frame\n",
    "genes_adata_mm = set(adata_mm.var_names)\n",
    "genes_mdata_h2m = set(mdata.var_names)\n",
    "\n",
    "# Find the intersection of genes among the data frames\n",
    "intersecting_genes = genes_adata_mm.intersection(genes_mdata_h2m)\n",
    "\n",
    "# Print the number of intersecting genes\n",
    "print(\"Number of intersecting genes:\", len(intersecting_genes))"
   ]
  },
  {
   "cell_type": "code",
   "execution_count": 6,
   "id": "499fd0a9",
   "metadata": {},
   "outputs": [
    {
     "data": {
      "text/plain": [
       "4598"
      ]
     },
     "execution_count": 6,
     "metadata": {},
     "output_type": "execute_result"
    }
   ],
   "source": [
    "# Shared HVGs\n",
    "shared_hvgs=list(set(adata_mm.var_names) & set(mdata.var_names))\n",
    "len(shared_hvgs)"
   ]
  },
  {
   "cell_type": "code",
   "execution_count": 7,
   "id": "e6cb2a3f",
   "metadata": {
    "scrolled": true
   },
   "outputs": [
    {
     "data": {
      "text/plain": [
       "AnnData object with n_obs × n_vars = 447907 × 4598\n",
       "    obs: 'sample_id', 'publication', 'sample_id_anon', 'individual_id_anon', 'replicate', 'treatment', 'condition', 'tissue', 'time', 'batch', 'lesion_type', 'sample_source', 'diagnosis', 'n_genes_by_counts', 'total_counts', 'pct_counts_mt', 'pct_counts_ribo', 's_score', 'g2m_score', 'phase', 'type_fine', 'type_broad', 'cluster_zoom', 'exclude_pseudobulk', 'seq_pool', 'sex', 'age_at_death', 'smoker', 'cause_of_death', 'years_w_ms', 'pmi_minutes', 'age_scale', 'age_cat', 'pmi_cat', 'pmi_cat2', 'cell_cycle_diff', 'cell_type_eval', 'library_type', 'sample_type', 'organism', 'system'\n",
       "    layers: 'counts', 'log1p_norm'"
      ]
     },
     "execution_count": 7,
     "metadata": {},
     "output_type": "execute_result"
    }
   ],
   "source": [
    "# Subset to shraed HVGs and concat\n",
    "# Keys adds a category annotation to each observation (row)\n",
    "adata_all=sc.concat([adata_mm[:,shared_hvgs], mdata[:,shared_hvgs]],\n",
    "                join='outer',\n",
    "                index_unique='_', keys=['mouse', 'macnair'])\n",
    "adata_all"
   ]
  },
  {
   "cell_type": "code",
   "execution_count": 8,
   "id": "85dcb154",
   "metadata": {},
   "outputs": [
    {
     "name": "stdout",
     "output_type": "stream",
     "text": [
      "Data type of each column in adata_all.var:\n",
      "Series([], dtype: object)\n"
     ]
    }
   ],
   "source": [
    "var_dtype = adata_all.var.dtypes\n",
    "\n",
    "print(\"Data type of each column in adata_all.var:\")\n",
    "print(var_dtype)"
   ]
  },
  {
   "cell_type": "code",
   "execution_count": 9,
   "id": "e55c085e",
   "metadata": {},
   "outputs": [
    {
     "name": "stdout",
     "output_type": "stream",
     "text": [
      "Content of indices in adata_all.var:\n",
      "Index(['NR4A1', 'ASTN1', 'GFRA1', 'TFRC', 'VTI1A', 'TBC1D30', 'PVALB', 'TENM2',\n",
      "       'NINJ1', 'SERPINE1',\n",
      "       ...\n",
      "       'VASN', 'FILIP1', 'CCDC112', 'MEF2C', 'TRIM25', 'LSM2', 'ATCAY',\n",
      "       'PSMB8', 'DNAJC1', 'ELOVL2'],\n",
      "      dtype='object', length=4598)\n"
     ]
    }
   ],
   "source": [
    "var_indices = adata_all.var.index\n",
    "\n",
    "print(\"Content of indices in adata_all.var:\")\n",
    "print(var_indices)"
   ]
  },
  {
   "cell_type": "code",
   "execution_count": 10,
   "id": "67f1f167",
   "metadata": {},
   "outputs": [
    {
     "name": "stdout",
     "output_type": "stream",
     "text": [
      "  (0, 3)\t1.0\n",
      "  (0, 7)\t2.0\n",
      "  (0, 9)\t2.0\n",
      "  (1, 5)\t5.0\n",
      "  (1, 7)\t2.0\n",
      "  (1, 9)\t1.0\n",
      "  (2, 5)\t1.0\n",
      "  (2, 7)\t3.0\n",
      "  (2, 9)\t1.0\n",
      "  (3, 5)\t3.0\n",
      "  (4, 5)\t3.0\n",
      "  (5, 5)\t1.0\n",
      "  (6, 5)\t4.0\n",
      "  (7, 5)\t5.0\n",
      "  (8, 0)\t1.0\n",
      "  (8, 3)\t1.0\n",
      "  (8, 5)\t2.0\n",
      "  (9, 5)\t2.0\n",
      "  (9, 7)\t2.0\n"
     ]
    }
   ],
   "source": [
    "print(adata_all.raw.X[:10, :10])"
   ]
  },
  {
   "cell_type": "code",
   "execution_count": 11,
   "id": "bf2d2d8a",
   "metadata": {},
   "outputs": [
    {
     "name": "stdout",
     "output_type": "stream",
     "text": [
      "  (0, 1)\t1.3148375749588013\n",
      "  (0, 4)\t0.9942110776901245\n",
      "  (0, 7)\t0.5194106101989746\n",
      "  (1, 0)\t0.9029489755630493\n",
      "  (1, 1)\t1.4587199687957764\n",
      "  (1, 2)\t0.3124113082885742\n",
      "  (1, 3)\t0.3124113082885742\n",
      "  (1, 4)\t1.3695892095565796\n",
      "  (1, 5)\t0.3124113082885742\n",
      "  (1, 7)\t1.271729826927185\n",
      "  (2, 0)\t1.280051350593567\n",
      "  (2, 1)\t0.5550050735473633\n",
      "  (2, 3)\t0.31552207469940186\n",
      "  (2, 4)\t0.9098297953605652\n",
      "  (2, 7)\t0.5550050735473633\n",
      "  (3, 1)\t1.0599734783172607\n",
      "  (3, 2)\t0.5621939897537231\n",
      "  (3, 3)\t0.32009515166282654\n",
      "  (3, 4)\t1.6389670372009277\n",
      "  (3, 7)\t0.5621939897537231\n",
      "  (4, 1)\t1.4223308563232422\n",
      "  (4, 2)\t0.6413687467575073\n",
      "  (4, 4)\t1.703909993171692\n",
      "  (4, 7)\t2.869769334793091\n",
      "  (5, 0)\t0.4122103452682495\n",
      "  (5, 1)\t1.4014075994491577\n",
      "  (5, 3)\t0.4122103452682495\n",
      "  (5, 4)\t0.9283995628356934\n",
      "  (5, 5)\t0.4122103452682495\n",
      "  (5, 7)\t2.544236183166504\n",
      "  (5, 8)\t0.4122103452682495\n",
      "  (6, 1)\t0.9331461787223816\n",
      "  (6, 4)\t0.41486433148384094\n",
      "  (6, 6)\t0.41486433148384094\n",
      "  (6, 7)\t3.0222904682159424\n",
      "  (7, 1)\t1.3070149421691895\n",
      "  (7, 4)\t1.6700067520141602\n",
      "  (7, 7)\t3.5068037509918213\n",
      "  (8, 1)\t1.3305264711380005\n",
      "  (8, 2)\t0.44250842928886414\n",
      "  (8, 4)\t2.0385262966156006\n",
      "  (8, 7)\t3.742157459259033\n",
      "  (9, 1)\t1.342482089996338\n",
      "  (9, 2)\t0.4483373761177063\n",
      "  (9, 3)\t0.7567854523658752\n",
      "  (9, 4)\t1.4802948236465454\n",
      "  (9, 5)\t0.4483373761177063\n",
      "  (9, 7)\t1.895679235458374\n"
     ]
    }
   ],
   "source": [
    "print(adata_all.X[:10, :10])"
   ]
  },
  {
   "cell_type": "code",
   "execution_count": 13,
   "id": "4a4decf4",
   "metadata": {},
   "outputs": [],
   "source": [
    "def add_years(value):\n",
    "    if isinstance(value, int):  # Check if the value is an integer\n",
    "        return str(value) + ' years'  # Convert integer to string and add ' years'\n",
    "    elif isinstance(value, str) and value.isdigit():  # Check if the value is a string containing only digits\n",
    "        return value + ' years'\n",
    "    else:\n",
    "        return value\n",
    "\n",
    "# Apply the function to the \"time\" column in adata_all.obs\n",
    "adata_all.obs['time'] = adata_all.obs['time'].apply(add_years)"
   ]
  },
  {
   "cell_type": "code",
   "execution_count": 17,
   "id": "96cf295b",
   "metadata": {},
   "outputs": [],
   "source": [
    "adata_all.obs['batch'] = adata_all.obs['batch'].astype(str)"
   ]
  },
  {
   "cell_type": "code",
   "execution_count": 19,
   "id": "defbc389",
   "metadata": {},
   "outputs": [],
   "source": [
    "adata_all.obs['exclude_pseudobulk'] = adata_all.obs['exclude_pseudobulk'].astype(str)"
   ]
  },
  {
   "cell_type": "code",
   "execution_count": 21,
   "id": "8627a2a6",
   "metadata": {},
   "outputs": [],
   "source": [
    "adata_all.obs['age_at_death'] = adata_all.obs['age_at_death'].astype(str)"
   ]
  },
  {
   "cell_type": "code",
   "execution_count": 23,
   "id": "7c606d75",
   "metadata": {},
   "outputs": [],
   "source": [
    "adata_all.obs['age_scale'] = adata_all.obs['age_scale'].astype(str)"
   ]
  },
  {
   "cell_type": "code",
   "execution_count": null,
   "id": "69a7c8e6",
   "metadata": {},
   "outputs": [],
   "source": [
    "# Create an empty dictionary to store the mapping\n",
    "gene_id_mapping = {}\n",
    "\n",
    "\n",
    "\n",
    "# Iterate through each AnnData object and create the mapping\n",
    "for ad in [adata, pdata, sdata]:\n",
    "    if 'mouse_gene_id' in ad.var.columns:\n",
    "        # Iterate through the genes in this AnnData object\n",
    "        for gene, mouse_gene_id in zip(ad.var.index, ad.var['mouse_gene_id']):\n",
    "            gene_id_mapping[gene] = mouse_gene_id\n",
    "\n",
    "            # Print the combined dictionary\n",
    "print(list(gene_id_mapping.items())[:10])"
   ]
  },
  {
   "cell_type": "code",
   "execution_count": 26,
   "id": "a64e6580",
   "metadata": {},
   "outputs": [
    {
     "data": {
      "text/html": [
       "<div>\n",
       "<style scoped>\n",
       "    .dataframe tbody tr th:only-of-type {\n",
       "        vertical-align: middle;\n",
       "    }\n",
       "\n",
       "    .dataframe tbody tr th {\n",
       "        vertical-align: top;\n",
       "    }\n",
       "\n",
       "    .dataframe thead th {\n",
       "        text-align: right;\n",
       "    }\n",
       "</style>\n",
       "<table border=\"1\" class=\"dataframe\">\n",
       "  <thead>\n",
       "    <tr style=\"text-align: right;\">\n",
       "      <th></th>\n",
       "      <th>human_gene_id</th>\n",
       "      <th>n_cells</th>\n",
       "      <th>mouse_gene_id</th>\n",
       "      <th>mouse_gene_name</th>\n",
       "      <th>human_gene_name</th>\n",
       "      <th>highly_variable</th>\n",
       "      <th>means</th>\n",
       "      <th>dispersions</th>\n",
       "      <th>dispersions_norm</th>\n",
       "      <th>highly_variable_nbatches</th>\n",
       "      <th>highly_variable_intersection</th>\n",
       "    </tr>\n",
       "  </thead>\n",
       "  <tbody>\n",
       "    <tr>\n",
       "      <th>LINC02593</th>\n",
       "      <td>ENSG00000223764</td>\n",
       "      <td>1087</td>\n",
       "      <td>NaN</td>\n",
       "      <td>NaN</td>\n",
       "      <td>LINC02593</td>\n",
       "      <td>True</td>\n",
       "      <td>0.003719</td>\n",
       "      <td>1.102906</td>\n",
       "      <td>0.498355</td>\n",
       "      <td>40</td>\n",
       "      <td>False</td>\n",
       "    </tr>\n",
       "    <tr>\n",
       "      <th>SAMD11</th>\n",
       "      <td>ENSG00000187634</td>\n",
       "      <td>4620</td>\n",
       "      <td>ENSMUSG00000096351</td>\n",
       "      <td>Samd11</td>\n",
       "      <td>SAMD11</td>\n",
       "      <td>True</td>\n",
       "      <td>0.015315</td>\n",
       "      <td>1.314094</td>\n",
       "      <td>0.642744</td>\n",
       "      <td>54</td>\n",
       "      <td>False</td>\n",
       "    </tr>\n",
       "    <tr>\n",
       "      <th>HES4</th>\n",
       "      <td>ENSG00000188290</td>\n",
       "      <td>14105</td>\n",
       "      <td>NaN</td>\n",
       "      <td>NaN</td>\n",
       "      <td>HES4</td>\n",
       "      <td>True</td>\n",
       "      <td>0.033982</td>\n",
       "      <td>1.418913</td>\n",
       "      <td>1.056016</td>\n",
       "      <td>57</td>\n",
       "      <td>False</td>\n",
       "    </tr>\n",
       "    <tr>\n",
       "      <th>ISG15</th>\n",
       "      <td>ENSG00000187608</td>\n",
       "      <td>9071</td>\n",
       "      <td>ENSMUSG00000035692</td>\n",
       "      <td>Isg15</td>\n",
       "      <td>ISG15</td>\n",
       "      <td>True</td>\n",
       "      <td>0.026043</td>\n",
       "      <td>1.342449</td>\n",
       "      <td>0.483112</td>\n",
       "      <td>45</td>\n",
       "      <td>False</td>\n",
       "    </tr>\n",
       "    <tr>\n",
       "      <th>LINC01342</th>\n",
       "      <td>ENSG00000223823</td>\n",
       "      <td>529</td>\n",
       "      <td>NaN</td>\n",
       "      <td>NaN</td>\n",
       "      <td>LINC01342</td>\n",
       "      <td>True</td>\n",
       "      <td>0.001404</td>\n",
       "      <td>0.904957</td>\n",
       "      <td>0.288703</td>\n",
       "      <td>35</td>\n",
       "      <td>False</td>\n",
       "    </tr>\n",
       "    <tr>\n",
       "      <th>...</th>\n",
       "      <td>...</td>\n",
       "      <td>...</td>\n",
       "      <td>...</td>\n",
       "      <td>...</td>\n",
       "      <td>...</td>\n",
       "      <td>...</td>\n",
       "      <td>...</td>\n",
       "      <td>...</td>\n",
       "      <td>...</td>\n",
       "      <td>...</td>\n",
       "      <td>...</td>\n",
       "    </tr>\n",
       "    <tr>\n",
       "      <th>MT-ND4</th>\n",
       "      <td>ENSG00000198886</td>\n",
       "      <td>222026</td>\n",
       "      <td>ENSMUSG00000064363</td>\n",
       "      <td>mt-Nd4</td>\n",
       "      <td>MT-ND4</td>\n",
       "      <td>True</td>\n",
       "      <td>2.227328</td>\n",
       "      <td>0.928413</td>\n",
       "      <td>-0.816503</td>\n",
       "      <td>34</td>\n",
       "      <td>False</td>\n",
       "    </tr>\n",
       "    <tr>\n",
       "      <th>MT-ND5</th>\n",
       "      <td>ENSG00000198786</td>\n",
       "      <td>144526</td>\n",
       "      <td>ENSMUSG00000064367</td>\n",
       "      <td>mt-Nd5</td>\n",
       "      <td>MT-ND5</td>\n",
       "      <td>True</td>\n",
       "      <td>0.960506</td>\n",
       "      <td>1.230078</td>\n",
       "      <td>1.088346</td>\n",
       "      <td>52</td>\n",
       "      <td>False</td>\n",
       "    </tr>\n",
       "    <tr>\n",
       "      <th>MT-ND6</th>\n",
       "      <td>ENSG00000198695</td>\n",
       "      <td>15114</td>\n",
       "      <td>ENSMUSG00000064368</td>\n",
       "      <td>mt-Nd6</td>\n",
       "      <td>MT-ND6</td>\n",
       "      <td>True</td>\n",
       "      <td>0.045268</td>\n",
       "      <td>1.374156</td>\n",
       "      <td>0.709094</td>\n",
       "      <td>54</td>\n",
       "      <td>False</td>\n",
       "    </tr>\n",
       "    <tr>\n",
       "      <th>MT-CYB</th>\n",
       "      <td>ENSG00000198727</td>\n",
       "      <td>197343</td>\n",
       "      <td>ENSMUSG00000064370</td>\n",
       "      <td>mt-Cytb</td>\n",
       "      <td>MT-CYB</td>\n",
       "      <td>True</td>\n",
       "      <td>1.726084</td>\n",
       "      <td>1.057894</td>\n",
       "      <td>-0.004678</td>\n",
       "      <td>43</td>\n",
       "      <td>False</td>\n",
       "    </tr>\n",
       "    <tr>\n",
       "      <th>AC011841.1</th>\n",
       "      <td>ENSG00000273496</td>\n",
       "      <td>279</td>\n",
       "      <td>NaN</td>\n",
       "      <td>NaN</td>\n",
       "      <td>AC011841.1</td>\n",
       "      <td>True</td>\n",
       "      <td>0.001030</td>\n",
       "      <td>0.760676</td>\n",
       "      <td>0.332170</td>\n",
       "      <td>37</td>\n",
       "      <td>False</td>\n",
       "    </tr>\n",
       "  </tbody>\n",
       "</table>\n",
       "<p>10000 rows × 11 columns</p>\n",
       "</div>"
      ],
      "text/plain": [
       "              human_gene_id  n_cells       mouse_gene_id mouse_gene_name  \\\n",
       "LINC02593   ENSG00000223764     1087                 NaN             NaN   \n",
       "SAMD11      ENSG00000187634     4620  ENSMUSG00000096351          Samd11   \n",
       "HES4        ENSG00000188290    14105                 NaN             NaN   \n",
       "ISG15       ENSG00000187608     9071  ENSMUSG00000035692           Isg15   \n",
       "LINC01342   ENSG00000223823      529                 NaN             NaN   \n",
       "...                     ...      ...                 ...             ...   \n",
       "MT-ND4      ENSG00000198886   222026  ENSMUSG00000064363          mt-Nd4   \n",
       "MT-ND5      ENSG00000198786   144526  ENSMUSG00000064367          mt-Nd5   \n",
       "MT-ND6      ENSG00000198695    15114  ENSMUSG00000064368          mt-Nd6   \n",
       "MT-CYB      ENSG00000198727   197343  ENSMUSG00000064370         mt-Cytb   \n",
       "AC011841.1  ENSG00000273496      279                 NaN             NaN   \n",
       "\n",
       "           human_gene_name  highly_variable     means  dispersions  \\\n",
       "LINC02593        LINC02593             True  0.003719     1.102906   \n",
       "SAMD11              SAMD11             True  0.015315     1.314094   \n",
       "HES4                  HES4             True  0.033982     1.418913   \n",
       "ISG15                ISG15             True  0.026043     1.342449   \n",
       "LINC01342        LINC01342             True  0.001404     0.904957   \n",
       "...                    ...              ...       ...          ...   \n",
       "MT-ND4              MT-ND4             True  2.227328     0.928413   \n",
       "MT-ND5              MT-ND5             True  0.960506     1.230078   \n",
       "MT-ND6              MT-ND6             True  0.045268     1.374156   \n",
       "MT-CYB              MT-CYB             True  1.726084     1.057894   \n",
       "AC011841.1      AC011841.1             True  0.001030     0.760676   \n",
       "\n",
       "            dispersions_norm  highly_variable_nbatches  \\\n",
       "LINC02593           0.498355                        40   \n",
       "SAMD11              0.642744                        54   \n",
       "HES4                1.056016                        57   \n",
       "ISG15               0.483112                        45   \n",
       "LINC01342           0.288703                        35   \n",
       "...                      ...                       ...   \n",
       "MT-ND4             -0.816503                        34   \n",
       "MT-ND5              1.088346                        52   \n",
       "MT-ND6              0.709094                        54   \n",
       "MT-CYB             -0.004678                        43   \n",
       "AC011841.1          0.332170                        37   \n",
       "\n",
       "            highly_variable_intersection  \n",
       "LINC02593                          False  \n",
       "SAMD11                             False  \n",
       "HES4                               False  \n",
       "ISG15                              False  \n",
       "LINC01342                          False  \n",
       "...                                  ...  \n",
       "MT-ND4                             False  \n",
       "MT-ND5                             False  \n",
       "MT-ND6                             False  \n",
       "MT-CYB                             False  \n",
       "AC011841.1                         False  \n",
       "\n",
       "[10000 rows x 11 columns]"
      ]
     },
     "execution_count": 26,
     "metadata": {},
     "output_type": "execute_result"
    }
   ],
   "source": [
    "mdata.var"
   ]
  },
  {
   "cell_type": "code",
   "execution_count": 28,
   "id": "9b993598",
   "metadata": {},
   "outputs": [],
   "source": [
    "mapper_dict = dict(zip(mdata.var.index, mdata.var['human_gene_id']))\n",
    "\n",
    "# 2. Use the mapper to add 'human_gene_id' to adata_all\n",
    "adata_all.var['human_gene_id'] = adata_all.var_names.map(mapper_dict)"
   ]
  },
  {
   "cell_type": "code",
   "execution_count": 31,
   "id": "1f88c789",
   "metadata": {},
   "outputs": [
    {
     "data": {
      "text/html": [
       "<div>\n",
       "<style scoped>\n",
       "    .dataframe tbody tr th:only-of-type {\n",
       "        vertical-align: middle;\n",
       "    }\n",
       "\n",
       "    .dataframe tbody tr th {\n",
       "        vertical-align: top;\n",
       "    }\n",
       "\n",
       "    .dataframe thead th {\n",
       "        text-align: right;\n",
       "    }\n",
       "</style>\n",
       "<table border=\"1\" class=\"dataframe\">\n",
       "  <thead>\n",
       "    <tr style=\"text-align: right;\">\n",
       "      <th></th>\n",
       "      <th>human_gene_id</th>\n",
       "    </tr>\n",
       "  </thead>\n",
       "  <tbody>\n",
       "    <tr>\n",
       "      <th>NR4A1</th>\n",
       "      <td>ENSG00000123358</td>\n",
       "    </tr>\n",
       "    <tr>\n",
       "      <th>ASTN1</th>\n",
       "      <td>ENSG00000152092</td>\n",
       "    </tr>\n",
       "    <tr>\n",
       "      <th>GFRA1</th>\n",
       "      <td>ENSG00000151892</td>\n",
       "    </tr>\n",
       "    <tr>\n",
       "      <th>TFRC</th>\n",
       "      <td>ENSG00000072274</td>\n",
       "    </tr>\n",
       "    <tr>\n",
       "      <th>VTI1A</th>\n",
       "      <td>ENSG00000151532</td>\n",
       "    </tr>\n",
       "    <tr>\n",
       "      <th>...</th>\n",
       "      <td>...</td>\n",
       "    </tr>\n",
       "    <tr>\n",
       "      <th>LSM2</th>\n",
       "      <td>ENSG00000204392</td>\n",
       "    </tr>\n",
       "    <tr>\n",
       "      <th>ATCAY</th>\n",
       "      <td>ENSG00000167654</td>\n",
       "    </tr>\n",
       "    <tr>\n",
       "      <th>PSMB8</th>\n",
       "      <td>ENSG00000204264</td>\n",
       "    </tr>\n",
       "    <tr>\n",
       "      <th>DNAJC1</th>\n",
       "      <td>ENSG00000136770</td>\n",
       "    </tr>\n",
       "    <tr>\n",
       "      <th>ELOVL2</th>\n",
       "      <td>ENSG00000197977</td>\n",
       "    </tr>\n",
       "  </tbody>\n",
       "</table>\n",
       "<p>4598 rows × 1 columns</p>\n",
       "</div>"
      ],
      "text/plain": [
       "          human_gene_id\n",
       "NR4A1   ENSG00000123358\n",
       "ASTN1   ENSG00000152092\n",
       "GFRA1   ENSG00000151892\n",
       "TFRC    ENSG00000072274\n",
       "VTI1A   ENSG00000151532\n",
       "...                 ...\n",
       "LSM2    ENSG00000204392\n",
       "ATCAY   ENSG00000167654\n",
       "PSMB8   ENSG00000204264\n",
       "DNAJC1  ENSG00000136770\n",
       "ELOVL2  ENSG00000197977\n",
       "\n",
       "[4598 rows x 1 columns]"
      ]
     },
     "execution_count": 31,
     "metadata": {},
     "output_type": "execute_result"
    }
   ],
   "source": [
    "adata_all.var"
   ]
  },
  {
   "cell_type": "code",
   "execution_count": 32,
   "id": "197336cc",
   "metadata": {},
   "outputs": [
    {
     "data": {
      "text/html": [
       "<div>\n",
       "<style scoped>\n",
       "    .dataframe tbody tr th:only-of-type {\n",
       "        vertical-align: middle;\n",
       "    }\n",
       "\n",
       "    .dataframe tbody tr th {\n",
       "        vertical-align: top;\n",
       "    }\n",
       "\n",
       "    .dataframe thead th {\n",
       "        text-align: right;\n",
       "    }\n",
       "</style>\n",
       "<table border=\"1\" class=\"dataframe\">\n",
       "  <thead>\n",
       "    <tr style=\"text-align: right;\">\n",
       "      <th></th>\n",
       "      <th>human_gene_id</th>\n",
       "      <th>mouse_gene_id</th>\n",
       "    </tr>\n",
       "  </thead>\n",
       "  <tbody>\n",
       "    <tr>\n",
       "      <th>NR4A1</th>\n",
       "      <td>ENSG00000123358</td>\n",
       "      <td>ENSMUSG00000023034</td>\n",
       "    </tr>\n",
       "    <tr>\n",
       "      <th>ASTN1</th>\n",
       "      <td>ENSG00000152092</td>\n",
       "      <td>ENSMUSG00000026587</td>\n",
       "    </tr>\n",
       "    <tr>\n",
       "      <th>GFRA1</th>\n",
       "      <td>ENSG00000151892</td>\n",
       "      <td>ENSMUSG00000025089</td>\n",
       "    </tr>\n",
       "    <tr>\n",
       "      <th>TFRC</th>\n",
       "      <td>ENSG00000072274</td>\n",
       "      <td>ENSMUSG00000022797</td>\n",
       "    </tr>\n",
       "    <tr>\n",
       "      <th>VTI1A</th>\n",
       "      <td>ENSG00000151532</td>\n",
       "      <td>ENSMUSG00000024983</td>\n",
       "    </tr>\n",
       "    <tr>\n",
       "      <th>...</th>\n",
       "      <td>...</td>\n",
       "      <td>...</td>\n",
       "    </tr>\n",
       "    <tr>\n",
       "      <th>LSM2</th>\n",
       "      <td>ENSG00000204392</td>\n",
       "      <td>ENSMUSG00000007050</td>\n",
       "    </tr>\n",
       "    <tr>\n",
       "      <th>ATCAY</th>\n",
       "      <td>ENSG00000167654</td>\n",
       "      <td>ENSMUSG00000034958</td>\n",
       "    </tr>\n",
       "    <tr>\n",
       "      <th>PSMB8</th>\n",
       "      <td>ENSG00000204264</td>\n",
       "      <td>ENSMUSG00000024338</td>\n",
       "    </tr>\n",
       "    <tr>\n",
       "      <th>DNAJC1</th>\n",
       "      <td>ENSG00000136770</td>\n",
       "      <td>ENSMUSG00000026740</td>\n",
       "    </tr>\n",
       "    <tr>\n",
       "      <th>ELOVL2</th>\n",
       "      <td>ENSG00000197977</td>\n",
       "      <td>ENSMUSG00000021364</td>\n",
       "    </tr>\n",
       "  </tbody>\n",
       "</table>\n",
       "<p>4598 rows × 2 columns</p>\n",
       "</div>"
      ],
      "text/plain": [
       "          human_gene_id       mouse_gene_id\n",
       "NR4A1   ENSG00000123358  ENSMUSG00000023034\n",
       "ASTN1   ENSG00000152092  ENSMUSG00000026587\n",
       "GFRA1   ENSG00000151892  ENSMUSG00000025089\n",
       "TFRC    ENSG00000072274  ENSMUSG00000022797\n",
       "VTI1A   ENSG00000151532  ENSMUSG00000024983\n",
       "...                 ...                 ...\n",
       "LSM2    ENSG00000204392  ENSMUSG00000007050\n",
       "ATCAY   ENSG00000167654  ENSMUSG00000034958\n",
       "PSMB8   ENSG00000204264  ENSMUSG00000024338\n",
       "DNAJC1  ENSG00000136770  ENSMUSG00000026740\n",
       "ELOVL2  ENSG00000197977  ENSMUSG00000021364\n",
       "\n",
       "[4598 rows x 2 columns]"
      ]
     },
     "execution_count": 32,
     "metadata": {},
     "output_type": "execute_result"
    }
   ],
   "source": [
    "mapper_dict = dict(zip(mdata.var.index, mdata.var['mouse_gene_id']))\n",
    "\n",
    "# 2. Use the mapper to add 'human_gene_id' to adata_all\n",
    "adata_all.var['mouse_gene_id'] = adata_all.var_names.map(mapper_dict)\n",
    "adata_all.var"
   ]
  },
  {
   "cell_type": "code",
   "execution_count": 33,
   "id": "97589b04",
   "metadata": {},
   "outputs": [
    {
     "data": {
      "text/html": [
       "<div>\n",
       "<style scoped>\n",
       "    .dataframe tbody tr th:only-of-type {\n",
       "        vertical-align: middle;\n",
       "    }\n",
       "\n",
       "    .dataframe tbody tr th {\n",
       "        vertical-align: top;\n",
       "    }\n",
       "\n",
       "    .dataframe thead th {\n",
       "        text-align: right;\n",
       "    }\n",
       "</style>\n",
       "<table border=\"1\" class=\"dataframe\">\n",
       "  <thead>\n",
       "    <tr style=\"text-align: right;\">\n",
       "      <th></th>\n",
       "      <th>human_gene_id</th>\n",
       "      <th>mouse_gene_id</th>\n",
       "      <th>mouse_gene_name</th>\n",
       "    </tr>\n",
       "  </thead>\n",
       "  <tbody>\n",
       "    <tr>\n",
       "      <th>NR4A1</th>\n",
       "      <td>ENSG00000123358</td>\n",
       "      <td>ENSMUSG00000023034</td>\n",
       "      <td>Nr4a1</td>\n",
       "    </tr>\n",
       "    <tr>\n",
       "      <th>ASTN1</th>\n",
       "      <td>ENSG00000152092</td>\n",
       "      <td>ENSMUSG00000026587</td>\n",
       "      <td>Astn1</td>\n",
       "    </tr>\n",
       "    <tr>\n",
       "      <th>GFRA1</th>\n",
       "      <td>ENSG00000151892</td>\n",
       "      <td>ENSMUSG00000025089</td>\n",
       "      <td>Gfra1</td>\n",
       "    </tr>\n",
       "    <tr>\n",
       "      <th>TFRC</th>\n",
       "      <td>ENSG00000072274</td>\n",
       "      <td>ENSMUSG00000022797</td>\n",
       "      <td>Tfrc</td>\n",
       "    </tr>\n",
       "    <tr>\n",
       "      <th>VTI1A</th>\n",
       "      <td>ENSG00000151532</td>\n",
       "      <td>ENSMUSG00000024983</td>\n",
       "      <td>Vti1a</td>\n",
       "    </tr>\n",
       "    <tr>\n",
       "      <th>...</th>\n",
       "      <td>...</td>\n",
       "      <td>...</td>\n",
       "      <td>...</td>\n",
       "    </tr>\n",
       "    <tr>\n",
       "      <th>LSM2</th>\n",
       "      <td>ENSG00000204392</td>\n",
       "      <td>ENSMUSG00000007050</td>\n",
       "      <td>Lsm2</td>\n",
       "    </tr>\n",
       "    <tr>\n",
       "      <th>ATCAY</th>\n",
       "      <td>ENSG00000167654</td>\n",
       "      <td>ENSMUSG00000034958</td>\n",
       "      <td>Atcay</td>\n",
       "    </tr>\n",
       "    <tr>\n",
       "      <th>PSMB8</th>\n",
       "      <td>ENSG00000204264</td>\n",
       "      <td>ENSMUSG00000024338</td>\n",
       "      <td>Psmb8</td>\n",
       "    </tr>\n",
       "    <tr>\n",
       "      <th>DNAJC1</th>\n",
       "      <td>ENSG00000136770</td>\n",
       "      <td>ENSMUSG00000026740</td>\n",
       "      <td>Dnajc1</td>\n",
       "    </tr>\n",
       "    <tr>\n",
       "      <th>ELOVL2</th>\n",
       "      <td>ENSG00000197977</td>\n",
       "      <td>ENSMUSG00000021364</td>\n",
       "      <td>Elovl2</td>\n",
       "    </tr>\n",
       "  </tbody>\n",
       "</table>\n",
       "<p>4598 rows × 3 columns</p>\n",
       "</div>"
      ],
      "text/plain": [
       "          human_gene_id       mouse_gene_id mouse_gene_name\n",
       "NR4A1   ENSG00000123358  ENSMUSG00000023034           Nr4a1\n",
       "ASTN1   ENSG00000152092  ENSMUSG00000026587           Astn1\n",
       "GFRA1   ENSG00000151892  ENSMUSG00000025089           Gfra1\n",
       "TFRC    ENSG00000072274  ENSMUSG00000022797            Tfrc\n",
       "VTI1A   ENSG00000151532  ENSMUSG00000024983           Vti1a\n",
       "...                 ...                 ...             ...\n",
       "LSM2    ENSG00000204392  ENSMUSG00000007050            Lsm2\n",
       "ATCAY   ENSG00000167654  ENSMUSG00000034958           Atcay\n",
       "PSMB8   ENSG00000204264  ENSMUSG00000024338           Psmb8\n",
       "DNAJC1  ENSG00000136770  ENSMUSG00000026740          Dnajc1\n",
       "ELOVL2  ENSG00000197977  ENSMUSG00000021364          Elovl2\n",
       "\n",
       "[4598 rows x 3 columns]"
      ]
     },
     "execution_count": 33,
     "metadata": {},
     "output_type": "execute_result"
    }
   ],
   "source": [
    "mapper_dict = dict(zip(mdata.var.index, mdata.var['mouse_gene_name']))\n",
    "\n",
    "# 2. Use the mapper to add 'human_gene_id' to adata_all\n",
    "adata_all.var['mouse_gene_name'] = adata_all.var_names.map(mapper_dict)\n",
    "adata_all.var"
   ]
  },
  {
   "cell_type": "code",
   "execution_count": 37,
   "id": "1f5577cb",
   "metadata": {},
   "outputs": [
    {
     "data": {
      "text/html": [
       "<div>\n",
       "<style scoped>\n",
       "    .dataframe tbody tr th:only-of-type {\n",
       "        vertical-align: middle;\n",
       "    }\n",
       "\n",
       "    .dataframe tbody tr th {\n",
       "        vertical-align: top;\n",
       "    }\n",
       "\n",
       "    .dataframe thead th {\n",
       "        text-align: right;\n",
       "    }\n",
       "</style>\n",
       "<table border=\"1\" class=\"dataframe\">\n",
       "  <thead>\n",
       "    <tr style=\"text-align: right;\">\n",
       "      <th></th>\n",
       "      <th>human_gene_id</th>\n",
       "      <th>mouse_gene_id</th>\n",
       "      <th>mouse_gene_name</th>\n",
       "      <th>humaa_gene_name</th>\n",
       "    </tr>\n",
       "  </thead>\n",
       "  <tbody>\n",
       "    <tr>\n",
       "      <th>NR4A1</th>\n",
       "      <td>ENSG00000123358</td>\n",
       "      <td>ENSMUSG00000023034</td>\n",
       "      <td>Nr4a1</td>\n",
       "      <td>NR4A1</td>\n",
       "    </tr>\n",
       "    <tr>\n",
       "      <th>ASTN1</th>\n",
       "      <td>ENSG00000152092</td>\n",
       "      <td>ENSMUSG00000026587</td>\n",
       "      <td>Astn1</td>\n",
       "      <td>ASTN1</td>\n",
       "    </tr>\n",
       "    <tr>\n",
       "      <th>GFRA1</th>\n",
       "      <td>ENSG00000151892</td>\n",
       "      <td>ENSMUSG00000025089</td>\n",
       "      <td>Gfra1</td>\n",
       "      <td>GFRA1</td>\n",
       "    </tr>\n",
       "    <tr>\n",
       "      <th>TFRC</th>\n",
       "      <td>ENSG00000072274</td>\n",
       "      <td>ENSMUSG00000022797</td>\n",
       "      <td>Tfrc</td>\n",
       "      <td>TFRC</td>\n",
       "    </tr>\n",
       "    <tr>\n",
       "      <th>VTI1A</th>\n",
       "      <td>ENSG00000151532</td>\n",
       "      <td>ENSMUSG00000024983</td>\n",
       "      <td>Vti1a</td>\n",
       "      <td>VTI1A</td>\n",
       "    </tr>\n",
       "    <tr>\n",
       "      <th>...</th>\n",
       "      <td>...</td>\n",
       "      <td>...</td>\n",
       "      <td>...</td>\n",
       "      <td>...</td>\n",
       "    </tr>\n",
       "    <tr>\n",
       "      <th>LSM2</th>\n",
       "      <td>ENSG00000204392</td>\n",
       "      <td>ENSMUSG00000007050</td>\n",
       "      <td>Lsm2</td>\n",
       "      <td>LSM2</td>\n",
       "    </tr>\n",
       "    <tr>\n",
       "      <th>ATCAY</th>\n",
       "      <td>ENSG00000167654</td>\n",
       "      <td>ENSMUSG00000034958</td>\n",
       "      <td>Atcay</td>\n",
       "      <td>ATCAY</td>\n",
       "    </tr>\n",
       "    <tr>\n",
       "      <th>PSMB8</th>\n",
       "      <td>ENSG00000204264</td>\n",
       "      <td>ENSMUSG00000024338</td>\n",
       "      <td>Psmb8</td>\n",
       "      <td>PSMB8</td>\n",
       "    </tr>\n",
       "    <tr>\n",
       "      <th>DNAJC1</th>\n",
       "      <td>ENSG00000136770</td>\n",
       "      <td>ENSMUSG00000026740</td>\n",
       "      <td>Dnajc1</td>\n",
       "      <td>DNAJC1</td>\n",
       "    </tr>\n",
       "    <tr>\n",
       "      <th>ELOVL2</th>\n",
       "      <td>ENSG00000197977</td>\n",
       "      <td>ENSMUSG00000021364</td>\n",
       "      <td>Elovl2</td>\n",
       "      <td>ELOVL2</td>\n",
       "    </tr>\n",
       "  </tbody>\n",
       "</table>\n",
       "<p>4598 rows × 4 columns</p>\n",
       "</div>"
      ],
      "text/plain": [
       "          human_gene_id       mouse_gene_id mouse_gene_name humaa_gene_name\n",
       "NR4A1   ENSG00000123358  ENSMUSG00000023034           Nr4a1           NR4A1\n",
       "ASTN1   ENSG00000152092  ENSMUSG00000026587           Astn1           ASTN1\n",
       "GFRA1   ENSG00000151892  ENSMUSG00000025089           Gfra1           GFRA1\n",
       "TFRC    ENSG00000072274  ENSMUSG00000022797            Tfrc            TFRC\n",
       "VTI1A   ENSG00000151532  ENSMUSG00000024983           Vti1a           VTI1A\n",
       "...                 ...                 ...             ...             ...\n",
       "LSM2    ENSG00000204392  ENSMUSG00000007050            Lsm2            LSM2\n",
       "ATCAY   ENSG00000167654  ENSMUSG00000034958           Atcay           ATCAY\n",
       "PSMB8   ENSG00000204264  ENSMUSG00000024338           Psmb8           PSMB8\n",
       "DNAJC1  ENSG00000136770  ENSMUSG00000026740          Dnajc1          DNAJC1\n",
       "ELOVL2  ENSG00000197977  ENSMUSG00000021364          Elovl2          ELOVL2\n",
       "\n",
       "[4598 rows x 4 columns]"
      ]
     },
     "execution_count": 37,
     "metadata": {},
     "output_type": "execute_result"
    }
   ],
   "source": [
    "adata_all.var['humaa_gene_name'] = adata_all.var_names\n",
    "adata_all.var"
   ]
  },
  {
   "cell_type": "code",
   "execution_count": 38,
   "id": "b6404095",
   "metadata": {},
   "outputs": [
    {
     "name": "stdout",
     "output_type": "stream",
     "text": [
      "Data type of each column in adata_all.var:\n",
      "human_gene_id        object\n",
      "mouse_gene_id      category\n",
      "mouse_gene_name    category\n",
      "humaa_gene_name      object\n",
      "dtype: object\n"
     ]
    }
   ],
   "source": [
    "var_dtype = adata_all.var.dtypes\n",
    "\n",
    "print(\"Data type of each column in adata_all.var:\")\n",
    "print(var_dtype)"
   ]
  },
  {
   "cell_type": "code",
   "execution_count": 36,
   "id": "ae73edbf",
   "metadata": {},
   "outputs": [
    {
     "name": "stdout",
     "output_type": "stream",
     "text": [
      "Content of indices in adata_all.var:\n",
      "Index(['NR4A1', 'ASTN1', 'GFRA1', 'TFRC', 'VTI1A', 'TBC1D30', 'PVALB', 'TENM2',\n",
      "       'NINJ1', 'SERPINE1',\n",
      "       ...\n",
      "       'VASN', 'FILIP1', 'CCDC112', 'MEF2C', 'TRIM25', 'LSM2', 'ATCAY',\n",
      "       'PSMB8', 'DNAJC1', 'ELOVL2'],\n",
      "      dtype='object', length=4598)\n"
     ]
    }
   ],
   "source": [
    "var_indices = adata_all.var.index\n",
    "\n",
    "print(\"Content of indices in adata_all.var:\")\n",
    "print(var_indices)"
   ]
  },
  {
   "cell_type": "code",
   "execution_count": 39,
   "id": "f19dcd95",
   "metadata": {},
   "outputs": [],
   "source": [
    "adata_all.var['mouse_gene_id'] = adata_all.var['mouse_gene_id'].astype(str)\n",
    "adata_all.var['mouse_gene_name'] = adata_all.var['mouse_gene_name'].astype(str)"
   ]
  },
  {
   "cell_type": "code",
   "execution_count": 42,
   "id": "91b94bd6",
   "metadata": {},
   "outputs": [
    {
     "name": "stdout",
     "output_type": "stream",
     "text": [
      "Data type of each column in adata_all.var:\n",
      "human_gene_id      object\n",
      "mouse_gene_id      object\n",
      "mouse_gene_name    object\n",
      "humaa_gene_name    object\n",
      "dtype: object\n"
     ]
    }
   ],
   "source": [
    "var_dtype = adata_all.var.dtypes\n",
    "\n",
    "print(\"Data type of each column in adata_all.var:\")\n",
    "print(var_dtype)"
   ]
  },
  {
   "cell_type": "code",
   "execution_count": 43,
   "id": "f98df013",
   "metadata": {},
   "outputs": [],
   "source": [
    "adata_all.write_h5ad('./cVAE_analysis/sysVI/adata_all_mergedHVG_CAPS.h5ad')"
   ]
  }
 ],
 "metadata": {
  "kernelspec": {
   "display_name": "Python 3 (ipykernel)",
   "language": "python",
   "name": "python3"
  },
  "language_info": {
   "codemirror_mode": {
    "name": "ipython",
    "version": 3
   },
   "file_extension": ".py",
   "mimetype": "text/x-python",
   "name": "python",
   "nbconvert_exporter": "python",
   "pygments_lexer": "ipython3",
   "version": "3.11.11"
  }
 },
 "nbformat": 4,
 "nbformat_minor": 5
}

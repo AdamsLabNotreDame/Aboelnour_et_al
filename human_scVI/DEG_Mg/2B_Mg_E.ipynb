{
 "cells": [
  {
   "cell_type": "code",
   "execution_count": 1,
   "id": "a4107cb9",
   "metadata": {},
   "outputs": [],
   "source": [
    "import warnings\n",
    "\n",
    "warnings.filterwarnings(\"ignore\")\n",
    "\n",
    "import matplotlib.pyplot as plt\n",
    "import seaborn as sns\n",
    "import scanpy as sc\n",
    "import pandas as pd\n",
    "import numpy as np\n",
    "import random\n",
    "import sc_toolbox\n",
    "import pertpy \n",
    "\n",
    "import rpy2.rinterface_lib.callbacks\n",
    "import anndata2ri\n",
    "import logging\n",
    "\n",
    "from rpy2.robjects import pandas2ri\n",
    "from rpy2.robjects import r\n",
    "\n",
    "sc.settings.verbosity = 0\n",
    "rpy2.rinterface_lib.callbacks.logger.setLevel(logging.ERROR)\n",
    "\n",
    "pandas2ri.activate()\n",
    "anndata2ri.activate()\n",
    "\n",
    "%load_ext rpy2.ipython"
   ]
  },
  {
   "cell_type": "code",
   "execution_count": 2,
   "id": "cd2ae648",
   "metadata": {},
   "outputs": [
    {
     "data": {
      "text/plain": [
       "Loading required package: limma\n"
      ]
     },
     "metadata": {},
     "output_type": "display_data"
    }
   ],
   "source": [
    "%%R\n",
    "library(edgeR)"
   ]
  },
  {
   "cell_type": "code",
   "execution_count": 3,
   "id": "1c0c911f",
   "metadata": {},
   "outputs": [
    {
     "data": {
      "text/plain": [
       "AnnData object with n_obs × n_vars = 292 × 29040\n",
       "    obs: 'sample', 'sample_lesion', 'diagnosis', 'sample_source', 'cell_type', 'sample_rep', 'replicate_cat', 'stim', 'sex', 'seq_pool', 'age_scale', 'age_cat', 'pmi_cat', 'pmi_cat2', 'batch', 'lib_size', 'log_lib_size'\n",
       "    uns: 'age_cat_colors', 'cell_type_colors', 'diagnosis_colors', 'log1p', 'pca', 'pmi_cat2_colors', 'pmi_cat_colors', 'sample_source_colors', 'seq_pool_colors', 'sex_colors', 'stim_colors'\n",
       "    obsm: 'X_pca'\n",
       "    varm: 'PCs'\n",
       "    layers: 'counts'"
      ]
     },
     "execution_count": 3,
     "metadata": {},
     "output_type": "execute_result"
    }
   ],
   "source": [
    "adata_pb = sc.read('/scratch365/eaboelno/BACKUP_h5ad_IMPORTANT/pb_adata_MG_sep.h5ad')\n",
    "adata_pb"
   ]
  },
  {
   "cell_type": "markdown",
   "id": "2acfc23f",
   "metadata": {},
   "source": [
    "# Identify outliers"
   ]
  },
  {
   "cell_type": "code",
   "execution_count": 4,
   "id": "8662fbe2",
   "metadata": {},
   "outputs": [],
   "source": [
    "adata_pb.obs['cell_stim'] = adata_pb.obs['cell_type'].astype(str) + '_' + adata_pb.obs['stim'].astype(str)"
   ]
  },
  {
   "cell_type": "code",
   "execution_count": 5,
   "id": "bc28c026",
   "metadata": {},
   "outputs": [
    {
     "name": "stdout",
     "output_type": "stream",
     "text": [
      "Median: 12.186070736808462, MAD: 0.8403393485043571\n",
      "Lower threshold: 9.66505269129539\n",
      "Outliers:\n",
      "                                            sample       sample_lesion  \\\n",
      "donor_Ind120-Sample1_0-0-0-0-0-0-0  Ind120-Sample1  Ind120-Sample1_CAL   \n",
      "donor_Ind143-Sample1_0-1-0-0        Ind143-Sample1   Ind143-Sample1_AL   \n",
      "\n",
      "                                   diagnosis sample_source cell_type  \\\n",
      "donor_Ind120-Sample1_0-0-0-0-0-0-0      SPMS  Amsterdam BB      Mg_A   \n",
      "donor_Ind143-Sample1_0-1-0-0            PPMS  Amsterdam BB      Mg_E   \n",
      "\n",
      "                                   sample_rep replicate_cat stim sex seq_pool  \\\n",
      "donor_Ind120-Sample1_0-0-0-0-0-0-0      CAL_5             5  CAL   M   Pool 1   \n",
      "donor_Ind143-Sample1_0-1-0-0            AL_20            20   AL   M   Pool 1   \n",
      "\n",
      "                                   age_scale   age_cat    pmi_cat   pmi_cat2  \\\n",
      "donor_Ind120-Sample1_0-0-0-0-0-0-0  0.713744   over_70  6H_to_12H  up_to_12H   \n",
      "donor_Ind143-Sample1_0-1-0-0       -1.141343  under_50  6H_to_12H  up_to_12H   \n",
      "\n",
      "                                   batch  lib_size  log_lib_size cell_stim  \n",
      "donor_Ind120-Sample1_0-0-0-0-0-0-0     0     13235      9.490620  Mg_A_CAL  \n",
      "donor_Ind143-Sample1_0-1-0-0           0     13332      9.497922   Mg_E_AL  \n"
     ]
    }
   ],
   "source": [
    "# Extract the log_lib_size column\n",
    "log_lib_size = adata_pb.obs['log_lib_size']\n",
    "\n",
    "# Compute the median\n",
    "median = np.median(log_lib_size)\n",
    "\n",
    "# Compute the MAD (Median Absolute Deviation)\n",
    "mad = np.median(np.abs(log_lib_size - median))\n",
    "\n",
    "# Define the upper and lower thresholds\n",
    "upper_threshold = median + 3 * mad\n",
    "lower_threshold = median - 3 * mad\n",
    "\n",
    "# Find outliers\n",
    "outliers = adata_pb.obs[(log_lib_size < lower_threshold)]\n",
    "\n",
    "# Print the results\n",
    "print(f\"Median: {median}, MAD: {mad}\")\n",
    "print(f\"Lower threshold: {lower_threshold}\")\n",
    "print(f\"Outliers:\\n{outliers}\")"
   ]
  },
  {
   "cell_type": "code",
   "execution_count": 6,
   "id": "2435fdb0",
   "metadata": {},
   "outputs": [
    {
     "name": "stdout",
     "output_type": "stream",
     "text": [
      "Maximum log_lib_size: 15.242901515897758\n",
      "Minimum log_lib_size: 9.490620114661201\n"
     ]
    }
   ],
   "source": [
    "# Compute the max and min log_lib_size\n",
    "max_log_lib_size = log_lib_size.max()\n",
    "min_log_lib_size = log_lib_size.min()\n",
    "\n",
    "print(f\"Maximum log_lib_size: {max_log_lib_size}\")\n",
    "print(f\"Minimum log_lib_size: {min_log_lib_size}\")"
   ]
  },
  {
   "cell_type": "code",
   "execution_count": 7,
   "id": "e9d0400f",
   "metadata": {},
   "outputs": [
    {
     "name": "stdout",
     "output_type": "stream",
     "text": [
      "All samples: 292\n"
     ]
    }
   ],
   "source": [
    "print(f\"All samples: {adata_pb.shape[0]}\")"
   ]
  },
  {
   "cell_type": "code",
   "execution_count": 8,
   "id": "fdc01418",
   "metadata": {},
   "outputs": [
    {
     "data": {
      "text/html": [
       "<div>\n",
       "<style scoped>\n",
       "    .dataframe tbody tr th:only-of-type {\n",
       "        vertical-align: middle;\n",
       "    }\n",
       "\n",
       "    .dataframe tbody tr th {\n",
       "        vertical-align: top;\n",
       "    }\n",
       "\n",
       "    .dataframe thead th {\n",
       "        text-align: right;\n",
       "    }\n",
       "</style>\n",
       "<table border=\"1\" class=\"dataframe\">\n",
       "  <thead>\n",
       "    <tr style=\"text-align: right;\">\n",
       "      <th>stim</th>\n",
       "      <th>AL</th>\n",
       "      <th>CAL</th>\n",
       "      <th>CIL</th>\n",
       "      <th>NAWM</th>\n",
       "      <th>RL</th>\n",
       "      <th>WM</th>\n",
       "    </tr>\n",
       "    <tr>\n",
       "      <th>cell_type</th>\n",
       "      <th></th>\n",
       "      <th></th>\n",
       "      <th></th>\n",
       "      <th></th>\n",
       "      <th></th>\n",
       "      <th></th>\n",
       "    </tr>\n",
       "  </thead>\n",
       "  <tbody>\n",
       "    <tr>\n",
       "      <th>Mg_A</th>\n",
       "      <td>13</td>\n",
       "      <td>7</td>\n",
       "      <td>5</td>\n",
       "      <td>8</td>\n",
       "      <td>5</td>\n",
       "      <td>9</td>\n",
       "    </tr>\n",
       "    <tr>\n",
       "      <th>Mg_B</th>\n",
       "      <td>12</td>\n",
       "      <td>7</td>\n",
       "      <td>10</td>\n",
       "      <td>12</td>\n",
       "      <td>9</td>\n",
       "      <td>11</td>\n",
       "    </tr>\n",
       "    <tr>\n",
       "      <th>Mg_C</th>\n",
       "      <td>13</td>\n",
       "      <td>11</td>\n",
       "      <td>8</td>\n",
       "      <td>9</td>\n",
       "      <td>7</td>\n",
       "      <td>6</td>\n",
       "    </tr>\n",
       "    <tr>\n",
       "      <th>Mg_D</th>\n",
       "      <td>11</td>\n",
       "      <td>7</td>\n",
       "      <td>4</td>\n",
       "      <td>7</td>\n",
       "      <td>3</td>\n",
       "      <td>0</td>\n",
       "    </tr>\n",
       "    <tr>\n",
       "      <th>Mg_E</th>\n",
       "      <td>14</td>\n",
       "      <td>13</td>\n",
       "      <td>8</td>\n",
       "      <td>7</td>\n",
       "      <td>4</td>\n",
       "      <td>2</td>\n",
       "    </tr>\n",
       "    <tr>\n",
       "      <th>Mg_F</th>\n",
       "      <td>6</td>\n",
       "      <td>7</td>\n",
       "      <td>5</td>\n",
       "      <td>7</td>\n",
       "      <td>5</td>\n",
       "      <td>4</td>\n",
       "    </tr>\n",
       "    <tr>\n",
       "      <th>Mg_G</th>\n",
       "      <td>5</td>\n",
       "      <td>3</td>\n",
       "      <td>2</td>\n",
       "      <td>2</td>\n",
       "      <td>4</td>\n",
       "      <td>0</td>\n",
       "    </tr>\n",
       "  </tbody>\n",
       "</table>\n",
       "</div>"
      ],
      "text/plain": [
       "stim       AL  CAL  CIL  NAWM  RL  WM\n",
       "cell_type                            \n",
       "Mg_A       13    7    5     8   5   9\n",
       "Mg_B       12    7   10    12   9  11\n",
       "Mg_C       13   11    8     9   7   6\n",
       "Mg_D       11    7    4     7   3   0\n",
       "Mg_E       14   13    8     7   4   2\n",
       "Mg_F        6    7    5     7   5   4\n",
       "Mg_G        5    3    2     2   4   0"
      ]
     },
     "execution_count": 8,
     "metadata": {},
     "output_type": "execute_result"
    }
   ],
   "source": [
    "# Extract the data as a pandas DataFrame\n",
    "df = adata_pb.obs[['cell_type', 'stim']]\n",
    "\n",
    "# Create a summary table\n",
    "summary_table = df.groupby(['cell_type', 'stim']).size().unstack(fill_value=0)\n",
    "summary_table"
   ]
  },
  {
   "cell_type": "code",
   "execution_count": 9,
   "id": "466ac498",
   "metadata": {},
   "outputs": [
    {
     "name": "stdout",
     "output_type": "stream",
     "text": [
      "Remaining samples: 290\n"
     ]
    }
   ],
   "source": [
    "# Define the list of samples to remove\n",
    "samples_to_remove = [\n",
    "    \"donor_Ind120-Sample1_0-0-0-0-0-0-0\",\n",
    "    \"donor_Ind143-Sample1_0-1-0-0\"\n",
    "]\n",
    "\n",
    "# Filter out the samples to remove\n",
    "adata_pb = adata_pb[~adata_pb.obs.index.isin(samples_to_remove)].copy()\n",
    "\n",
    "# Confirm removal\n",
    "print(f\"Remaining samples: {adata_pb.shape[0]}\")"
   ]
  },
  {
   "cell_type": "markdown",
   "id": "275e3a8d",
   "metadata": {},
   "source": [
    "# Subset to relevant comparison "
   ]
  },
  {
   "cell_type": "code",
   "execution_count": 10,
   "id": "9c81bbd6",
   "metadata": {},
   "outputs": [
    {
     "data": {
      "text/html": [
       "<div>\n",
       "<style scoped>\n",
       "    .dataframe tbody tr th:only-of-type {\n",
       "        vertical-align: middle;\n",
       "    }\n",
       "\n",
       "    .dataframe tbody tr th {\n",
       "        vertical-align: top;\n",
       "    }\n",
       "\n",
       "    .dataframe thead th {\n",
       "        text-align: right;\n",
       "    }\n",
       "</style>\n",
       "<table border=\"1\" class=\"dataframe\">\n",
       "  <thead>\n",
       "    <tr style=\"text-align: right;\">\n",
       "      <th>stim</th>\n",
       "      <th>AL</th>\n",
       "      <th>CAL</th>\n",
       "      <th>CIL</th>\n",
       "      <th>NAWM</th>\n",
       "      <th>RL</th>\n",
       "      <th>WM</th>\n",
       "    </tr>\n",
       "    <tr>\n",
       "      <th>cell_type</th>\n",
       "      <th></th>\n",
       "      <th></th>\n",
       "      <th></th>\n",
       "      <th></th>\n",
       "      <th></th>\n",
       "      <th></th>\n",
       "    </tr>\n",
       "  </thead>\n",
       "  <tbody>\n",
       "    <tr>\n",
       "      <th>Mg_A</th>\n",
       "      <td>13</td>\n",
       "      <td>6</td>\n",
       "      <td>5</td>\n",
       "      <td>8</td>\n",
       "      <td>5</td>\n",
       "      <td>9</td>\n",
       "    </tr>\n",
       "    <tr>\n",
       "      <th>Mg_B</th>\n",
       "      <td>12</td>\n",
       "      <td>7</td>\n",
       "      <td>10</td>\n",
       "      <td>12</td>\n",
       "      <td>9</td>\n",
       "      <td>11</td>\n",
       "    </tr>\n",
       "    <tr>\n",
       "      <th>Mg_C</th>\n",
       "      <td>13</td>\n",
       "      <td>11</td>\n",
       "      <td>8</td>\n",
       "      <td>9</td>\n",
       "      <td>7</td>\n",
       "      <td>6</td>\n",
       "    </tr>\n",
       "    <tr>\n",
       "      <th>Mg_D</th>\n",
       "      <td>11</td>\n",
       "      <td>7</td>\n",
       "      <td>4</td>\n",
       "      <td>7</td>\n",
       "      <td>3</td>\n",
       "      <td>0</td>\n",
       "    </tr>\n",
       "    <tr>\n",
       "      <th>Mg_E</th>\n",
       "      <td>13</td>\n",
       "      <td>13</td>\n",
       "      <td>8</td>\n",
       "      <td>7</td>\n",
       "      <td>4</td>\n",
       "      <td>2</td>\n",
       "    </tr>\n",
       "    <tr>\n",
       "      <th>Mg_F</th>\n",
       "      <td>6</td>\n",
       "      <td>7</td>\n",
       "      <td>5</td>\n",
       "      <td>7</td>\n",
       "      <td>5</td>\n",
       "      <td>4</td>\n",
       "    </tr>\n",
       "    <tr>\n",
       "      <th>Mg_G</th>\n",
       "      <td>5</td>\n",
       "      <td>3</td>\n",
       "      <td>2</td>\n",
       "      <td>2</td>\n",
       "      <td>4</td>\n",
       "      <td>0</td>\n",
       "    </tr>\n",
       "  </tbody>\n",
       "</table>\n",
       "</div>"
      ],
      "text/plain": [
       "stim       AL  CAL  CIL  NAWM  RL  WM\n",
       "cell_type                            \n",
       "Mg_A       13    6    5     8   5   9\n",
       "Mg_B       12    7   10    12   9  11\n",
       "Mg_C       13   11    8     9   7   6\n",
       "Mg_D       11    7    4     7   3   0\n",
       "Mg_E       13   13    8     7   4   2\n",
       "Mg_F        6    7    5     7   5   4\n",
       "Mg_G        5    3    2     2   4   0"
      ]
     },
     "execution_count": 10,
     "metadata": {},
     "output_type": "execute_result"
    }
   ],
   "source": [
    "# Extract the data as a pandas DataFrame\n",
    "df = adata_pb.obs[['cell_type', 'stim']]\n",
    "\n",
    "# Create a summary table\n",
    "summary_table = df.groupby(['cell_type', 'stim']).size().unstack(fill_value=0)\n",
    "summary_table"
   ]
  },
  {
   "cell_type": "code",
   "execution_count": 11,
   "id": "9e5a3fe0",
   "metadata": {},
   "outputs": [
    {
     "name": "stdout",
     "output_type": "stream",
     "text": [
      "Dimensions of adata_sub: (93, 29040)\n"
     ]
    }
   ],
   "source": [
    "adata_sub= adata_pb[np.in1d(adata_pb.obs['cell_type'], \n",
    "                           ['Mg_A', 'Mg_E'])].copy()\n",
    "\n",
    "print(\"Dimensions of adata_sub:\", adata_sub.shape)"
   ]
  },
  {
   "cell_type": "code",
   "execution_count": 12,
   "id": "5df79ed2",
   "metadata": {},
   "outputs": [
    {
     "data": {
      "text/html": [
       "<div>\n",
       "<style scoped>\n",
       "    .dataframe tbody tr th:only-of-type {\n",
       "        vertical-align: middle;\n",
       "    }\n",
       "\n",
       "    .dataframe tbody tr th {\n",
       "        vertical-align: top;\n",
       "    }\n",
       "\n",
       "    .dataframe thead th {\n",
       "        text-align: right;\n",
       "    }\n",
       "</style>\n",
       "<table border=\"1\" class=\"dataframe\">\n",
       "  <thead>\n",
       "    <tr style=\"text-align: right;\">\n",
       "      <th></th>\n",
       "      <th>sample</th>\n",
       "      <th>sample_lesion</th>\n",
       "      <th>diagnosis</th>\n",
       "      <th>sample_source</th>\n",
       "      <th>cell_type</th>\n",
       "      <th>sample_rep</th>\n",
       "      <th>replicate_cat</th>\n",
       "      <th>stim</th>\n",
       "      <th>sex</th>\n",
       "      <th>seq_pool</th>\n",
       "      <th>age_scale</th>\n",
       "      <th>age_cat</th>\n",
       "      <th>pmi_cat</th>\n",
       "      <th>pmi_cat2</th>\n",
       "      <th>batch</th>\n",
       "      <th>lib_size</th>\n",
       "      <th>log_lib_size</th>\n",
       "      <th>cell_stim</th>\n",
       "    </tr>\n",
       "  </thead>\n",
       "  <tbody>\n",
       "    <tr>\n",
       "      <th>donor_Ind98-Sample2_0-0-0-0-0-0-0</th>\n",
       "      <td>Ind98-Sample2</td>\n",
       "      <td>Ind98-Sample2_WM</td>\n",
       "      <td>CTR</td>\n",
       "      <td>Edinburgh BB</td>\n",
       "      <td>Mg_A</td>\n",
       "      <td>WM_1</td>\n",
       "      <td>1</td>\n",
       "      <td>WM</td>\n",
       "      <td>M</td>\n",
       "      <td>Pool 6</td>\n",
       "      <td>-1.759706</td>\n",
       "      <td>under_50</td>\n",
       "      <td>over_12H</td>\n",
       "      <td>over_12H</td>\n",
       "      <td>0</td>\n",
       "      <td>268489</td>\n",
       "      <td>12.500565</td>\n",
       "      <td>Mg_A_WM</td>\n",
       "    </tr>\n",
       "    <tr>\n",
       "      <th>donor_Ind102-Sample1_0-0-0-0-0-0-0</th>\n",
       "      <td>Ind102-Sample1</td>\n",
       "      <td>Ind102-Sample1_AL</td>\n",
       "      <td>SPMS</td>\n",
       "      <td>Amsterdam BB</td>\n",
       "      <td>Mg_A</td>\n",
       "      <td>AL_1</td>\n",
       "      <td>1</td>\n",
       "      <td>AL</td>\n",
       "      <td>M</td>\n",
       "      <td>Pool 4</td>\n",
       "      <td>0.301502</td>\n",
       "      <td>inbetween</td>\n",
       "      <td>6H_to_12H</td>\n",
       "      <td>up_to_12H</td>\n",
       "      <td>0</td>\n",
       "      <td>66310</td>\n",
       "      <td>11.102096</td>\n",
       "      <td>Mg_A_AL</td>\n",
       "    </tr>\n",
       "    <tr>\n",
       "      <th>donor_Ind102-Sample4_0-0-0-0-0-0-0</th>\n",
       "      <td>Ind102-Sample4</td>\n",
       "      <td>Ind102-Sample4_CAL</td>\n",
       "      <td>SPMS</td>\n",
       "      <td>Amsterdam BB</td>\n",
       "      <td>Mg_A</td>\n",
       "      <td>CAL_17</td>\n",
       "      <td>17</td>\n",
       "      <td>CAL</td>\n",
       "      <td>M</td>\n",
       "      <td>Pool 1</td>\n",
       "      <td>0.301502</td>\n",
       "      <td>inbetween</td>\n",
       "      <td>6H_to_12H</td>\n",
       "      <td>up_to_12H</td>\n",
       "      <td>0</td>\n",
       "      <td>40936</td>\n",
       "      <td>10.619765</td>\n",
       "      <td>Mg_A_CAL</td>\n",
       "    </tr>\n",
       "    <tr>\n",
       "      <th>donor_Ind103-Sample1_0-0-0-0-0-0-0</th>\n",
       "      <td>Ind103-Sample1</td>\n",
       "      <td>Ind103-Sample1_AL</td>\n",
       "      <td>RRMS</td>\n",
       "      <td>Amsterdam BB</td>\n",
       "      <td>Mg_A</td>\n",
       "      <td>AL_2</td>\n",
       "      <td>2</td>\n",
       "      <td>AL</td>\n",
       "      <td>F</td>\n",
       "      <td>Pool 3</td>\n",
       "      <td>-1.484878</td>\n",
       "      <td>under_50</td>\n",
       "      <td>up_to_6H</td>\n",
       "      <td>up_to_12H</td>\n",
       "      <td>0</td>\n",
       "      <td>143763</td>\n",
       "      <td>11.875921</td>\n",
       "      <td>Mg_A_AL</td>\n",
       "    </tr>\n",
       "    <tr>\n",
       "      <th>donor_Ind104-Sample1_0-0-0-0-0-0-0</th>\n",
       "      <td>Ind104-Sample1</td>\n",
       "      <td>Ind104-Sample1_RL</td>\n",
       "      <td>SPMS</td>\n",
       "      <td>UK MS TB</td>\n",
       "      <td>Mg_A</td>\n",
       "      <td>RL_2</td>\n",
       "      <td>2</td>\n",
       "      <td>RL</td>\n",
       "      <td>F</td>\n",
       "      <td>Pool 5</td>\n",
       "      <td>0.645037</td>\n",
       "      <td>inbetween</td>\n",
       "      <td>over_12H</td>\n",
       "      <td>over_12H</td>\n",
       "      <td>0</td>\n",
       "      <td>35938</td>\n",
       "      <td>10.489551</td>\n",
       "      <td>Mg_A_RL</td>\n",
       "    </tr>\n",
       "    <tr>\n",
       "      <th>...</th>\n",
       "      <td>...</td>\n",
       "      <td>...</td>\n",
       "      <td>...</td>\n",
       "      <td>...</td>\n",
       "      <td>...</td>\n",
       "      <td>...</td>\n",
       "      <td>...</td>\n",
       "      <td>...</td>\n",
       "      <td>...</td>\n",
       "      <td>...</td>\n",
       "      <td>...</td>\n",
       "      <td>...</td>\n",
       "      <td>...</td>\n",
       "      <td>...</td>\n",
       "      <td>...</td>\n",
       "      <td>...</td>\n",
       "      <td>...</td>\n",
       "      <td>...</td>\n",
       "    </tr>\n",
       "    <tr>\n",
       "      <th>donor_Ind136-Sample1_0-1-0-0</th>\n",
       "      <td>Ind136-Sample1</td>\n",
       "      <td>Ind136-Sample1_CAL</td>\n",
       "      <td>PPMS</td>\n",
       "      <td>Amsterdam BB</td>\n",
       "      <td>Mg_E</td>\n",
       "      <td>CAL_14</td>\n",
       "      <td>14</td>\n",
       "      <td>CAL</td>\n",
       "      <td>M</td>\n",
       "      <td>Pool 3</td>\n",
       "      <td>-1.278757</td>\n",
       "      <td>under_50</td>\n",
       "      <td>6H_to_12H</td>\n",
       "      <td>up_to_12H</td>\n",
       "      <td>0</td>\n",
       "      <td>1009382</td>\n",
       "      <td>13.824849</td>\n",
       "      <td>Mg_E_CAL</td>\n",
       "    </tr>\n",
       "    <tr>\n",
       "      <th>donor_Ind137-Sample1_0-1-0-0</th>\n",
       "      <td>Ind137-Sample1</td>\n",
       "      <td>Ind137-Sample1_CAL</td>\n",
       "      <td>SPMS</td>\n",
       "      <td>Amsterdam BB</td>\n",
       "      <td>Mg_E</td>\n",
       "      <td>CAL_15</td>\n",
       "      <td>15</td>\n",
       "      <td>CAL</td>\n",
       "      <td>M</td>\n",
       "      <td>Pool 2</td>\n",
       "      <td>-0.935223</td>\n",
       "      <td>under_50</td>\n",
       "      <td>up_to_6H</td>\n",
       "      <td>up_to_12H</td>\n",
       "      <td>0</td>\n",
       "      <td>57144</td>\n",
       "      <td>10.953330</td>\n",
       "      <td>Mg_E_CAL</td>\n",
       "    </tr>\n",
       "    <tr>\n",
       "      <th>donor_Ind139-Sample1_0-1-0-0</th>\n",
       "      <td>Ind139-Sample1</td>\n",
       "      <td>Ind139-Sample1_WM</td>\n",
       "      <td>CTR</td>\n",
       "      <td>Amsterdam BB</td>\n",
       "      <td>Mg_E</td>\n",
       "      <td>WM_10</td>\n",
       "      <td>10</td>\n",
       "      <td>WM</td>\n",
       "      <td>M</td>\n",
       "      <td>Pool 1</td>\n",
       "      <td>1.469520</td>\n",
       "      <td>over_70</td>\n",
       "      <td>up_to_6H</td>\n",
       "      <td>up_to_12H</td>\n",
       "      <td>0</td>\n",
       "      <td>163544</td>\n",
       "      <td>12.004837</td>\n",
       "      <td>Mg_E_WM</td>\n",
       "    </tr>\n",
       "    <tr>\n",
       "      <th>donor_Ind144-Sample1_0-1-0-0</th>\n",
       "      <td>Ind144-Sample1</td>\n",
       "      <td>Ind144-Sample1_WM</td>\n",
       "      <td>CTR</td>\n",
       "      <td>Amsterdam BB</td>\n",
       "      <td>Mg_E</td>\n",
       "      <td>WM_12</td>\n",
       "      <td>12</td>\n",
       "      <td>WM</td>\n",
       "      <td>M</td>\n",
       "      <td>Pool 1</td>\n",
       "      <td>1.744348</td>\n",
       "      <td>over_70</td>\n",
       "      <td>up_to_6H</td>\n",
       "      <td>up_to_12H</td>\n",
       "      <td>0</td>\n",
       "      <td>155155</td>\n",
       "      <td>11.952180</td>\n",
       "      <td>Mg_E_WM</td>\n",
       "    </tr>\n",
       "    <tr>\n",
       "      <th>donor_Ind146-Sample1_0-1-0-0</th>\n",
       "      <td>Ind146-Sample1</td>\n",
       "      <td>Ind146-Sample1_RL</td>\n",
       "      <td>PPMS</td>\n",
       "      <td>Amsterdam BB</td>\n",
       "      <td>Mg_E</td>\n",
       "      <td>RL_10</td>\n",
       "      <td>10</td>\n",
       "      <td>RL</td>\n",
       "      <td>M</td>\n",
       "      <td>Pool 1</td>\n",
       "      <td>1.538227</td>\n",
       "      <td>over_70</td>\n",
       "      <td>6H_to_12H</td>\n",
       "      <td>up_to_12H</td>\n",
       "      <td>0</td>\n",
       "      <td>49162</td>\n",
       "      <td>10.802876</td>\n",
       "      <td>Mg_E_RL</td>\n",
       "    </tr>\n",
       "  </tbody>\n",
       "</table>\n",
       "<p>93 rows × 18 columns</p>\n",
       "</div>"
      ],
      "text/plain": [
       "                                            sample       sample_lesion  \\\n",
       "donor_Ind98-Sample2_0-0-0-0-0-0-0    Ind98-Sample2    Ind98-Sample2_WM   \n",
       "donor_Ind102-Sample1_0-0-0-0-0-0-0  Ind102-Sample1   Ind102-Sample1_AL   \n",
       "donor_Ind102-Sample4_0-0-0-0-0-0-0  Ind102-Sample4  Ind102-Sample4_CAL   \n",
       "donor_Ind103-Sample1_0-0-0-0-0-0-0  Ind103-Sample1   Ind103-Sample1_AL   \n",
       "donor_Ind104-Sample1_0-0-0-0-0-0-0  Ind104-Sample1   Ind104-Sample1_RL   \n",
       "...                                            ...                 ...   \n",
       "donor_Ind136-Sample1_0-1-0-0        Ind136-Sample1  Ind136-Sample1_CAL   \n",
       "donor_Ind137-Sample1_0-1-0-0        Ind137-Sample1  Ind137-Sample1_CAL   \n",
       "donor_Ind139-Sample1_0-1-0-0        Ind139-Sample1   Ind139-Sample1_WM   \n",
       "donor_Ind144-Sample1_0-1-0-0        Ind144-Sample1   Ind144-Sample1_WM   \n",
       "donor_Ind146-Sample1_0-1-0-0        Ind146-Sample1   Ind146-Sample1_RL   \n",
       "\n",
       "                                   diagnosis sample_source cell_type  \\\n",
       "donor_Ind98-Sample2_0-0-0-0-0-0-0        CTR  Edinburgh BB      Mg_A   \n",
       "donor_Ind102-Sample1_0-0-0-0-0-0-0      SPMS  Amsterdam BB      Mg_A   \n",
       "donor_Ind102-Sample4_0-0-0-0-0-0-0      SPMS  Amsterdam BB      Mg_A   \n",
       "donor_Ind103-Sample1_0-0-0-0-0-0-0      RRMS  Amsterdam BB      Mg_A   \n",
       "donor_Ind104-Sample1_0-0-0-0-0-0-0      SPMS      UK MS TB      Mg_A   \n",
       "...                                      ...           ...       ...   \n",
       "donor_Ind136-Sample1_0-1-0-0            PPMS  Amsterdam BB      Mg_E   \n",
       "donor_Ind137-Sample1_0-1-0-0            SPMS  Amsterdam BB      Mg_E   \n",
       "donor_Ind139-Sample1_0-1-0-0             CTR  Amsterdam BB      Mg_E   \n",
       "donor_Ind144-Sample1_0-1-0-0             CTR  Amsterdam BB      Mg_E   \n",
       "donor_Ind146-Sample1_0-1-0-0            PPMS  Amsterdam BB      Mg_E   \n",
       "\n",
       "                                   sample_rep replicate_cat stim sex seq_pool  \\\n",
       "donor_Ind98-Sample2_0-0-0-0-0-0-0        WM_1             1   WM   M   Pool 6   \n",
       "donor_Ind102-Sample1_0-0-0-0-0-0-0       AL_1             1   AL   M   Pool 4   \n",
       "donor_Ind102-Sample4_0-0-0-0-0-0-0     CAL_17            17  CAL   M   Pool 1   \n",
       "donor_Ind103-Sample1_0-0-0-0-0-0-0       AL_2             2   AL   F   Pool 3   \n",
       "donor_Ind104-Sample1_0-0-0-0-0-0-0       RL_2             2   RL   F   Pool 5   \n",
       "...                                       ...           ...  ...  ..      ...   \n",
       "donor_Ind136-Sample1_0-1-0-0           CAL_14            14  CAL   M   Pool 3   \n",
       "donor_Ind137-Sample1_0-1-0-0           CAL_15            15  CAL   M   Pool 2   \n",
       "donor_Ind139-Sample1_0-1-0-0            WM_10            10   WM   M   Pool 1   \n",
       "donor_Ind144-Sample1_0-1-0-0            WM_12            12   WM   M   Pool 1   \n",
       "donor_Ind146-Sample1_0-1-0-0            RL_10            10   RL   M   Pool 1   \n",
       "\n",
       "                                   age_scale    age_cat    pmi_cat   pmi_cat2  \\\n",
       "donor_Ind98-Sample2_0-0-0-0-0-0-0  -1.759706   under_50   over_12H   over_12H   \n",
       "donor_Ind102-Sample1_0-0-0-0-0-0-0  0.301502  inbetween  6H_to_12H  up_to_12H   \n",
       "donor_Ind102-Sample4_0-0-0-0-0-0-0  0.301502  inbetween  6H_to_12H  up_to_12H   \n",
       "donor_Ind103-Sample1_0-0-0-0-0-0-0 -1.484878   under_50   up_to_6H  up_to_12H   \n",
       "donor_Ind104-Sample1_0-0-0-0-0-0-0  0.645037  inbetween   over_12H   over_12H   \n",
       "...                                      ...        ...        ...        ...   \n",
       "donor_Ind136-Sample1_0-1-0-0       -1.278757   under_50  6H_to_12H  up_to_12H   \n",
       "donor_Ind137-Sample1_0-1-0-0       -0.935223   under_50   up_to_6H  up_to_12H   \n",
       "donor_Ind139-Sample1_0-1-0-0        1.469520    over_70   up_to_6H  up_to_12H   \n",
       "donor_Ind144-Sample1_0-1-0-0        1.744348    over_70   up_to_6H  up_to_12H   \n",
       "donor_Ind146-Sample1_0-1-0-0        1.538227    over_70  6H_to_12H  up_to_12H   \n",
       "\n",
       "                                   batch  lib_size  log_lib_size cell_stim  \n",
       "donor_Ind98-Sample2_0-0-0-0-0-0-0      0    268489     12.500565   Mg_A_WM  \n",
       "donor_Ind102-Sample1_0-0-0-0-0-0-0     0     66310     11.102096   Mg_A_AL  \n",
       "donor_Ind102-Sample4_0-0-0-0-0-0-0     0     40936     10.619765  Mg_A_CAL  \n",
       "donor_Ind103-Sample1_0-0-0-0-0-0-0     0    143763     11.875921   Mg_A_AL  \n",
       "donor_Ind104-Sample1_0-0-0-0-0-0-0     0     35938     10.489551   Mg_A_RL  \n",
       "...                                  ...       ...           ...       ...  \n",
       "donor_Ind136-Sample1_0-1-0-0           0   1009382     13.824849  Mg_E_CAL  \n",
       "donor_Ind137-Sample1_0-1-0-0           0     57144     10.953330  Mg_E_CAL  \n",
       "donor_Ind139-Sample1_0-1-0-0           0    163544     12.004837   Mg_E_WM  \n",
       "donor_Ind144-Sample1_0-1-0-0           0    155155     11.952180   Mg_E_WM  \n",
       "donor_Ind146-Sample1_0-1-0-0           0     49162     10.802876   Mg_E_RL  \n",
       "\n",
       "[93 rows x 18 columns]"
      ]
     },
     "execution_count": 12,
     "metadata": {},
     "output_type": "execute_result"
    }
   ],
   "source": [
    "adata_sub.obs"
   ]
  },
  {
   "cell_type": "code",
   "execution_count": 13,
   "id": "19c4e015",
   "metadata": {},
   "outputs": [
    {
     "name": "stdout",
     "output_type": "stream",
     "text": [
      "WM\n",
      "AL\n",
      "CAL\n",
      "RL\n",
      "CIL\n",
      "NAWM\n"
     ]
    }
   ],
   "source": [
    "# Unique values in the 'condition' column\n",
    "unique_conditions = adata_sub.obs['stim'].unique()\n",
    "for condition in unique_conditions:\n",
    "    print(condition)"
   ]
  },
  {
   "cell_type": "code",
   "execution_count": 14,
   "id": "4a947f7b",
   "metadata": {},
   "outputs": [
    {
     "name": "stdout",
     "output_type": "stream",
     "text": [
      "Dimensions of adata_sub: (37, 29040)\n"
     ]
    }
   ],
   "source": [
    "adata_sub= adata_sub[np.in1d(adata_sub.obs['stim'], \n",
    "                           ['WM',\n",
    "                              'AL'\n",
    "                           ])].copy()\n",
    "\n",
    "print(\"Dimensions of adata_sub:\", adata_sub.shape)"
   ]
  },
  {
   "cell_type": "code",
   "execution_count": 15,
   "id": "004f16ab",
   "metadata": {},
   "outputs": [],
   "source": [
    "# Check if the 'sample_rep' column exists\n",
    "if 'sample_lesion' in adata_sub.obs.columns:\n",
    "    # Set the 'sample_rep' column as the index\n",
    "    adata_sub.obs.set_index('sample_lesion', inplace=True)\n",
    "else:\n",
    "    print(\"The column 'sample' does not exist in adata_sub.obs.\")\n",
    "\n",
    "adata_sub.obs.index.name = None"
   ]
  },
  {
   "cell_type": "code",
   "execution_count": 16,
   "id": "ed421e2a",
   "metadata": {},
   "outputs": [],
   "source": [
    "# Add the index back as a column called 'sample_lesion'\n",
    "adata_sub.obs['sample_lesion'] = adata_sub.obs.index"
   ]
  },
  {
   "cell_type": "code",
   "execution_count": 17,
   "id": "5fc3e34c",
   "metadata": {},
   "outputs": [
    {
     "data": {
      "text/html": [
       "<div>\n",
       "<style scoped>\n",
       "    .dataframe tbody tr th:only-of-type {\n",
       "        vertical-align: middle;\n",
       "    }\n",
       "\n",
       "    .dataframe tbody tr th {\n",
       "        vertical-align: top;\n",
       "    }\n",
       "\n",
       "    .dataframe thead th {\n",
       "        text-align: right;\n",
       "    }\n",
       "</style>\n",
       "<table border=\"1\" class=\"dataframe\">\n",
       "  <thead>\n",
       "    <tr style=\"text-align: right;\">\n",
       "      <th></th>\n",
       "      <th>sample</th>\n",
       "      <th>diagnosis</th>\n",
       "      <th>sample_source</th>\n",
       "      <th>cell_type</th>\n",
       "      <th>sample_rep</th>\n",
       "      <th>replicate_cat</th>\n",
       "      <th>stim</th>\n",
       "      <th>sex</th>\n",
       "      <th>seq_pool</th>\n",
       "      <th>age_scale</th>\n",
       "      <th>age_cat</th>\n",
       "      <th>pmi_cat</th>\n",
       "      <th>pmi_cat2</th>\n",
       "      <th>batch</th>\n",
       "      <th>lib_size</th>\n",
       "      <th>log_lib_size</th>\n",
       "      <th>cell_stim</th>\n",
       "      <th>sample_lesion</th>\n",
       "      <th>indiv_id</th>\n",
       "    </tr>\n",
       "  </thead>\n",
       "  <tbody>\n",
       "    <tr>\n",
       "      <th>Ind98-Sample2_WM</th>\n",
       "      <td>Ind98-Sample2</td>\n",
       "      <td>CTR</td>\n",
       "      <td>Edinburgh BB</td>\n",
       "      <td>Mg_A</td>\n",
       "      <td>WM_1</td>\n",
       "      <td>1</td>\n",
       "      <td>WM</td>\n",
       "      <td>M</td>\n",
       "      <td>Pool 6</td>\n",
       "      <td>-1.759706</td>\n",
       "      <td>under_50</td>\n",
       "      <td>over_12H</td>\n",
       "      <td>over_12H</td>\n",
       "      <td>0</td>\n",
       "      <td>268489</td>\n",
       "      <td>12.500565</td>\n",
       "      <td>Mg_A_WM</td>\n",
       "      <td>Ind98-Sample2_WM</td>\n",
       "      <td>Ind98</td>\n",
       "    </tr>\n",
       "    <tr>\n",
       "      <th>Ind102-Sample1_AL</th>\n",
       "      <td>Ind102-Sample1</td>\n",
       "      <td>SPMS</td>\n",
       "      <td>Amsterdam BB</td>\n",
       "      <td>Mg_A</td>\n",
       "      <td>AL_1</td>\n",
       "      <td>1</td>\n",
       "      <td>AL</td>\n",
       "      <td>M</td>\n",
       "      <td>Pool 4</td>\n",
       "      <td>0.301502</td>\n",
       "      <td>inbetween</td>\n",
       "      <td>6H_to_12H</td>\n",
       "      <td>up_to_12H</td>\n",
       "      <td>0</td>\n",
       "      <td>66310</td>\n",
       "      <td>11.102096</td>\n",
       "      <td>Mg_A_AL</td>\n",
       "      <td>Ind102-Sample1_AL</td>\n",
       "      <td>Ind102</td>\n",
       "    </tr>\n",
       "    <tr>\n",
       "      <th>Ind103-Sample1_AL</th>\n",
       "      <td>Ind103-Sample1</td>\n",
       "      <td>RRMS</td>\n",
       "      <td>Amsterdam BB</td>\n",
       "      <td>Mg_A</td>\n",
       "      <td>AL_2</td>\n",
       "      <td>2</td>\n",
       "      <td>AL</td>\n",
       "      <td>F</td>\n",
       "      <td>Pool 3</td>\n",
       "      <td>-1.484878</td>\n",
       "      <td>under_50</td>\n",
       "      <td>up_to_6H</td>\n",
       "      <td>up_to_12H</td>\n",
       "      <td>0</td>\n",
       "      <td>143763</td>\n",
       "      <td>11.875921</td>\n",
       "      <td>Mg_A_AL</td>\n",
       "      <td>Ind103-Sample1_AL</td>\n",
       "      <td>Ind103</td>\n",
       "    </tr>\n",
       "    <tr>\n",
       "      <th>Ind107-Sample1_WM</th>\n",
       "      <td>Ind107-Sample1</td>\n",
       "      <td>CTR</td>\n",
       "      <td>Edinburgh BB</td>\n",
       "      <td>Mg_A</td>\n",
       "      <td>WM_3</td>\n",
       "      <td>3</td>\n",
       "      <td>WM</td>\n",
       "      <td>M</td>\n",
       "      <td>Pool 3</td>\n",
       "      <td>-0.935223</td>\n",
       "      <td>under_50</td>\n",
       "      <td>over_12H</td>\n",
       "      <td>over_12H</td>\n",
       "      <td>0</td>\n",
       "      <td>706855</td>\n",
       "      <td>13.468581</td>\n",
       "      <td>Mg_A_WM</td>\n",
       "      <td>Ind107-Sample1_WM</td>\n",
       "      <td>Ind107</td>\n",
       "    </tr>\n",
       "    <tr>\n",
       "      <th>Ind113-Sample1_AL</th>\n",
       "      <td>Ind113-Sample1</td>\n",
       "      <td>SPMS</td>\n",
       "      <td>Amsterdam BB</td>\n",
       "      <td>Mg_A</td>\n",
       "      <td>AL_6</td>\n",
       "      <td>6</td>\n",
       "      <td>AL</td>\n",
       "      <td>F</td>\n",
       "      <td>Pool 4</td>\n",
       "      <td>1.125985</td>\n",
       "      <td>over_70</td>\n",
       "      <td>up_to_6H</td>\n",
       "      <td>up_to_12H</td>\n",
       "      <td>0</td>\n",
       "      <td>72946</td>\n",
       "      <td>11.197475</td>\n",
       "      <td>Mg_A_AL</td>\n",
       "      <td>Ind113-Sample1_AL</td>\n",
       "      <td>Ind113</td>\n",
       "    </tr>\n",
       "  </tbody>\n",
       "</table>\n",
       "</div>"
      ],
      "text/plain": [
       "                           sample diagnosis sample_source cell_type  \\\n",
       "Ind98-Sample2_WM    Ind98-Sample2       CTR  Edinburgh BB      Mg_A   \n",
       "Ind102-Sample1_AL  Ind102-Sample1      SPMS  Amsterdam BB      Mg_A   \n",
       "Ind103-Sample1_AL  Ind103-Sample1      RRMS  Amsterdam BB      Mg_A   \n",
       "Ind107-Sample1_WM  Ind107-Sample1       CTR  Edinburgh BB      Mg_A   \n",
       "Ind113-Sample1_AL  Ind113-Sample1      SPMS  Amsterdam BB      Mg_A   \n",
       "\n",
       "                  sample_rep replicate_cat stim sex seq_pool age_scale  \\\n",
       "Ind98-Sample2_WM        WM_1             1   WM   M   Pool 6 -1.759706   \n",
       "Ind102-Sample1_AL       AL_1             1   AL   M   Pool 4  0.301502   \n",
       "Ind103-Sample1_AL       AL_2             2   AL   F   Pool 3 -1.484878   \n",
       "Ind107-Sample1_WM       WM_3             3   WM   M   Pool 3 -0.935223   \n",
       "Ind113-Sample1_AL       AL_6             6   AL   F   Pool 4  1.125985   \n",
       "\n",
       "                     age_cat    pmi_cat   pmi_cat2 batch  lib_size  \\\n",
       "Ind98-Sample2_WM    under_50   over_12H   over_12H     0    268489   \n",
       "Ind102-Sample1_AL  inbetween  6H_to_12H  up_to_12H     0     66310   \n",
       "Ind103-Sample1_AL   under_50   up_to_6H  up_to_12H     0    143763   \n",
       "Ind107-Sample1_WM   under_50   over_12H   over_12H     0    706855   \n",
       "Ind113-Sample1_AL    over_70   up_to_6H  up_to_12H     0     72946   \n",
       "\n",
       "                   log_lib_size cell_stim      sample_lesion indiv_id  \n",
       "Ind98-Sample2_WM      12.500565   Mg_A_WM   Ind98-Sample2_WM    Ind98  \n",
       "Ind102-Sample1_AL     11.102096   Mg_A_AL  Ind102-Sample1_AL   Ind102  \n",
       "Ind103-Sample1_AL     11.875921   Mg_A_AL  Ind103-Sample1_AL   Ind103  \n",
       "Ind107-Sample1_WM     13.468581   Mg_A_WM  Ind107-Sample1_WM   Ind107  \n",
       "Ind113-Sample1_AL     11.197475   Mg_A_AL  Ind113-Sample1_AL   Ind113  "
      ]
     },
     "execution_count": 17,
     "metadata": {},
     "output_type": "execute_result"
    }
   ],
   "source": [
    "adata_sub.obs['indiv_id'] = adata_sub.obs['sample'].str.split('-').str[0]\n",
    "adata_sub.obs[:5]"
   ]
  },
  {
   "cell_type": "code",
   "execution_count": 18,
   "id": "37fde4bd",
   "metadata": {},
   "outputs": [
    {
     "data": {
      "text/html": [
       "<div>\n",
       "<style scoped>\n",
       "    .dataframe tbody tr th:only-of-type {\n",
       "        vertical-align: middle;\n",
       "    }\n",
       "\n",
       "    .dataframe tbody tr th {\n",
       "        vertical-align: top;\n",
       "    }\n",
       "\n",
       "    .dataframe thead th {\n",
       "        text-align: right;\n",
       "    }\n",
       "</style>\n",
       "<table border=\"1\" class=\"dataframe\">\n",
       "  <thead>\n",
       "    <tr style=\"text-align: right;\">\n",
       "      <th>stim</th>\n",
       "      <th>AL</th>\n",
       "      <th>WM</th>\n",
       "    </tr>\n",
       "    <tr>\n",
       "      <th>cell_stim</th>\n",
       "      <th></th>\n",
       "      <th></th>\n",
       "    </tr>\n",
       "  </thead>\n",
       "  <tbody>\n",
       "    <tr>\n",
       "      <th>Mg_A_AL</th>\n",
       "      <td>13</td>\n",
       "      <td>0</td>\n",
       "    </tr>\n",
       "    <tr>\n",
       "      <th>Mg_A_WM</th>\n",
       "      <td>0</td>\n",
       "      <td>9</td>\n",
       "    </tr>\n",
       "    <tr>\n",
       "      <th>Mg_E_AL</th>\n",
       "      <td>13</td>\n",
       "      <td>0</td>\n",
       "    </tr>\n",
       "    <tr>\n",
       "      <th>Mg_E_WM</th>\n",
       "      <td>0</td>\n",
       "      <td>2</td>\n",
       "    </tr>\n",
       "  </tbody>\n",
       "</table>\n",
       "</div>"
      ],
      "text/plain": [
       "stim       AL  WM\n",
       "cell_stim        \n",
       "Mg_A_AL    13   0\n",
       "Mg_A_WM     0   9\n",
       "Mg_E_AL    13   0\n",
       "Mg_E_WM     0   2"
      ]
     },
     "execution_count": 18,
     "metadata": {},
     "output_type": "execute_result"
    }
   ],
   "source": [
    "# Extract the data as a pandas DataFrame\n",
    "df = adata_sub.obs[['cell_stim', 'stim']]\n",
    "\n",
    "# Create a summary table\n",
    "summary_table = df.groupby(['cell_stim', 'stim']).size().unstack(fill_value=0)\n",
    "summary_table"
   ]
  },
  {
   "cell_type": "code",
   "execution_count": 19,
   "id": "03e391cb",
   "metadata": {},
   "outputs": [
    {
     "name": "stdout",
     "output_type": "stream",
     "text": [
      "Dimensions of adata_sub: (22, 29040)\n"
     ]
    }
   ],
   "source": [
    "adata_sub= adata_sub[np.in1d(adata_sub.obs['cell_stim'], \n",
    "                           ['Mg_A_WM',\n",
    "                            'Mg_E_AL'\n",
    "                           ])].copy()\n",
    "\n",
    "print(\"Dimensions of adata_sub:\", adata_sub.shape)"
   ]
  },
  {
   "cell_type": "code",
   "execution_count": 20,
   "id": "cf28cfb2",
   "metadata": {},
   "outputs": [
    {
     "data": {
      "image/png": "[encoded data removed]",
      "text/plain": [
       "<Figure size 727.8x4800 with 11 Axes>"
      ]
     },
     "metadata": {},
     "output_type": "display_data"
    }
   ],
   "source": [
    "sc.pl.pca(adata_sub, color=[\"cell_type\", \"stim\", \"sex\", \"age_cat\", \"indiv_id\",\n",
    "                            \"pmi_cat\", \"seq_pool\", \"sample_source\", \"diagnosis\", \"log_lib_size\"], \n",
    "          ncols=1, size=300)"
   ]
  },
  {
   "cell_type": "code",
   "execution_count": 21,
   "id": "b828083a",
   "metadata": {},
   "outputs": [
    {
     "data": {
      "text/html": [
       "<div>\n",
       "<style scoped>\n",
       "    .dataframe tbody tr th:only-of-type {\n",
       "        vertical-align: middle;\n",
       "    }\n",
       "\n",
       "    .dataframe tbody tr th {\n",
       "        vertical-align: top;\n",
       "    }\n",
       "\n",
       "    .dataframe thead th {\n",
       "        text-align: right;\n",
       "    }\n",
       "</style>\n",
       "<table border=\"1\" class=\"dataframe\">\n",
       "  <thead>\n",
       "    <tr style=\"text-align: right;\">\n",
       "      <th></th>\n",
       "      <th>sample</th>\n",
       "      <th>diagnosis</th>\n",
       "      <th>sample_source</th>\n",
       "      <th>cell_type</th>\n",
       "      <th>sample_rep</th>\n",
       "      <th>replicate_cat</th>\n",
       "      <th>stim</th>\n",
       "      <th>sex</th>\n",
       "      <th>seq_pool</th>\n",
       "      <th>age_scale</th>\n",
       "      <th>age_cat</th>\n",
       "      <th>pmi_cat</th>\n",
       "      <th>pmi_cat2</th>\n",
       "      <th>batch</th>\n",
       "      <th>lib_size</th>\n",
       "      <th>log_lib_size</th>\n",
       "      <th>cell_stim</th>\n",
       "      <th>sample_lesion</th>\n",
       "      <th>indiv_id</th>\n",
       "    </tr>\n",
       "  </thead>\n",
       "  <tbody>\n",
       "    <tr>\n",
       "      <th>Ind98-Sample2_WM</th>\n",
       "      <td>Ind98-Sample2</td>\n",
       "      <td>CTR</td>\n",
       "      <td>Edinburgh BB</td>\n",
       "      <td>Mg_A</td>\n",
       "      <td>WM_1</td>\n",
       "      <td>1</td>\n",
       "      <td>WM</td>\n",
       "      <td>M</td>\n",
       "      <td>Pool_6</td>\n",
       "      <td>-1.759706</td>\n",
       "      <td>under_50</td>\n",
       "      <td>over_12H</td>\n",
       "      <td>over_12H</td>\n",
       "      <td>0</td>\n",
       "      <td>268489</td>\n",
       "      <td>12.500565</td>\n",
       "      <td>Mg_A_WM</td>\n",
       "      <td>Ind98-Sample2_WM</td>\n",
       "      <td>Ind98</td>\n",
       "    </tr>\n",
       "    <tr>\n",
       "      <th>Ind107-Sample1_WM</th>\n",
       "      <td>Ind107-Sample1</td>\n",
       "      <td>CTR</td>\n",
       "      <td>Edinburgh BB</td>\n",
       "      <td>Mg_A</td>\n",
       "      <td>WM_3</td>\n",
       "      <td>3</td>\n",
       "      <td>WM</td>\n",
       "      <td>M</td>\n",
       "      <td>Pool_3</td>\n",
       "      <td>-0.935223</td>\n",
       "      <td>under_50</td>\n",
       "      <td>over_12H</td>\n",
       "      <td>over_12H</td>\n",
       "      <td>0</td>\n",
       "      <td>706855</td>\n",
       "      <td>13.468581</td>\n",
       "      <td>Mg_A_WM</td>\n",
       "      <td>Ind107-Sample1_WM</td>\n",
       "      <td>Ind107</td>\n",
       "    </tr>\n",
       "    <tr>\n",
       "      <th>Ind117-Sample1_WM</th>\n",
       "      <td>Ind117-Sample1</td>\n",
       "      <td>CTR</td>\n",
       "      <td>Edinburgh BB</td>\n",
       "      <td>Mg_A</td>\n",
       "      <td>WM_4</td>\n",
       "      <td>4</td>\n",
       "      <td>WM</td>\n",
       "      <td>F</td>\n",
       "      <td>Pool_4</td>\n",
       "      <td>-0.935223</td>\n",
       "      <td>under_50</td>\n",
       "      <td>over_12H</td>\n",
       "      <td>over_12H</td>\n",
       "      <td>0</td>\n",
       "      <td>1079993</td>\n",
       "      <td>13.892465</td>\n",
       "      <td>Mg_A_WM</td>\n",
       "      <td>Ind117-Sample1_WM</td>\n",
       "      <td>Ind117</td>\n",
       "    </tr>\n",
       "    <tr>\n",
       "      <th>Ind121-Sample1_WM</th>\n",
       "      <td>Ind121-Sample1</td>\n",
       "      <td>CTR</td>\n",
       "      <td>Edinburgh BB</td>\n",
       "      <td>Mg_A</td>\n",
       "      <td>WM_5</td>\n",
       "      <td>5</td>\n",
       "      <td>WM</td>\n",
       "      <td>F</td>\n",
       "      <td>Pool_3</td>\n",
       "      <td>-0.729102</td>\n",
       "      <td>under_50</td>\n",
       "      <td>over_12H</td>\n",
       "      <td>over_12H</td>\n",
       "      <td>0</td>\n",
       "      <td>297926</td>\n",
       "      <td>12.604600</td>\n",
       "      <td>Mg_A_WM</td>\n",
       "      <td>Ind121-Sample1_WM</td>\n",
       "      <td>Ind121</td>\n",
       "    </tr>\n",
       "    <tr>\n",
       "      <th>Ind131-Sample1_WM</th>\n",
       "      <td>Ind131-Sample1</td>\n",
       "      <td>CTR</td>\n",
       "      <td>Amsterdam BB</td>\n",
       "      <td>Mg_A</td>\n",
       "      <td>WM_7</td>\n",
       "      <td>7</td>\n",
       "      <td>WM</td>\n",
       "      <td>M</td>\n",
       "      <td>Pool_5</td>\n",
       "      <td>0.438916</td>\n",
       "      <td>inbetween</td>\n",
       "      <td>6H_to_12H</td>\n",
       "      <td>up_to_12H</td>\n",
       "      <td>0</td>\n",
       "      <td>1178400</td>\n",
       "      <td>13.979668</td>\n",
       "      <td>Mg_A_WM</td>\n",
       "      <td>Ind131-Sample1_WM</td>\n",
       "      <td>Ind131</td>\n",
       "    </tr>\n",
       "  </tbody>\n",
       "</table>\n",
       "</div>"
      ],
      "text/plain": [
       "                           sample diagnosis sample_source cell_type  \\\n",
       "Ind98-Sample2_WM    Ind98-Sample2       CTR  Edinburgh BB      Mg_A   \n",
       "Ind107-Sample1_WM  Ind107-Sample1       CTR  Edinburgh BB      Mg_A   \n",
       "Ind117-Sample1_WM  Ind117-Sample1       CTR  Edinburgh BB      Mg_A   \n",
       "Ind121-Sample1_WM  Ind121-Sample1       CTR  Edinburgh BB      Mg_A   \n",
       "Ind131-Sample1_WM  Ind131-Sample1       CTR  Amsterdam BB      Mg_A   \n",
       "\n",
       "                  sample_rep replicate_cat stim sex seq_pool age_scale  \\\n",
       "Ind98-Sample2_WM        WM_1             1   WM   M   Pool_6 -1.759706   \n",
       "Ind107-Sample1_WM       WM_3             3   WM   M   Pool_3 -0.935223   \n",
       "Ind117-Sample1_WM       WM_4             4   WM   F   Pool_4 -0.935223   \n",
       "Ind121-Sample1_WM       WM_5             5   WM   F   Pool_3 -0.729102   \n",
       "Ind131-Sample1_WM       WM_7             7   WM   M   Pool_5  0.438916   \n",
       "\n",
       "                     age_cat    pmi_cat   pmi_cat2 batch  lib_size  \\\n",
       "Ind98-Sample2_WM    under_50   over_12H   over_12H     0    268489   \n",
       "Ind107-Sample1_WM   under_50   over_12H   over_12H     0    706855   \n",
       "Ind117-Sample1_WM   under_50   over_12H   over_12H     0   1079993   \n",
       "Ind121-Sample1_WM   under_50   over_12H   over_12H     0    297926   \n",
       "Ind131-Sample1_WM  inbetween  6H_to_12H  up_to_12H     0   1178400   \n",
       "\n",
       "                   log_lib_size cell_stim      sample_lesion indiv_id  \n",
       "Ind98-Sample2_WM      12.500565   Mg_A_WM   Ind98-Sample2_WM    Ind98  \n",
       "Ind107-Sample1_WM     13.468581   Mg_A_WM  Ind107-Sample1_WM   Ind107  \n",
       "Ind117-Sample1_WM     13.892465   Mg_A_WM  Ind117-Sample1_WM   Ind117  \n",
       "Ind121-Sample1_WM     12.604600   Mg_A_WM  Ind121-Sample1_WM   Ind121  \n",
       "Ind131-Sample1_WM     13.979668   Mg_A_WM  Ind131-Sample1_WM   Ind131  "
      ]
     },
     "execution_count": 21,
     "metadata": {},
     "output_type": "execute_result"
    }
   ],
   "source": [
    "# Replace space with underscore in the 'seq_pool' column\n",
    "adata_sub.obs['seq_pool'] = adata_sub.obs['seq_pool'].str.replace(' ', '_')\n",
    "adata_sub.obs[:5]"
   ]
  },
  {
   "cell_type": "code",
   "execution_count": 22,
   "id": "8778b747",
   "metadata": {},
   "outputs": [
    {
     "name": "stdout",
     "output_type": "stream",
     "text": [
      "[[ 2  1  0  0  6]\n",
      " [12  0  0  0 40]\n",
      " [ 7  0  0  0 41]\n",
      " [ 2  0  0  0 10]\n",
      " [ 4  0  1  0 23]]\n"
     ]
    }
   ],
   "source": [
    "#Check the counts data\n",
    "print(adata_sub.X[:5, :5])"
   ]
  },
  {
   "cell_type": "code",
   "execution_count": 23,
   "id": "e8ecdf3c",
   "metadata": {},
   "outputs": [
    {
     "data": {
      "text/html": [
       "<div>\n",
       "<style scoped>\n",
       "    .dataframe tbody tr th:only-of-type {\n",
       "        vertical-align: middle;\n",
       "    }\n",
       "\n",
       "    .dataframe tbody tr th {\n",
       "        vertical-align: top;\n",
       "    }\n",
       "\n",
       "    .dataframe thead th {\n",
       "        text-align: right;\n",
       "    }\n",
       "</style>\n",
       "<table border=\"1\" class=\"dataframe\">\n",
       "  <thead>\n",
       "    <tr style=\"text-align: right;\">\n",
       "      <th>stim</th>\n",
       "      <th>AL</th>\n",
       "      <th>WM</th>\n",
       "    </tr>\n",
       "    <tr>\n",
       "      <th>cell_type</th>\n",
       "      <th></th>\n",
       "      <th></th>\n",
       "    </tr>\n",
       "  </thead>\n",
       "  <tbody>\n",
       "    <tr>\n",
       "      <th>Mg_A</th>\n",
       "      <td>0</td>\n",
       "      <td>9</td>\n",
       "    </tr>\n",
       "    <tr>\n",
       "      <th>Mg_E</th>\n",
       "      <td>13</td>\n",
       "      <td>0</td>\n",
       "    </tr>\n",
       "  </tbody>\n",
       "</table>\n",
       "</div>"
      ],
      "text/plain": [
       "stim       AL  WM\n",
       "cell_type        \n",
       "Mg_A        0   9\n",
       "Mg_E       13   0"
      ]
     },
     "execution_count": 23,
     "metadata": {},
     "output_type": "execute_result"
    }
   ],
   "source": [
    "# Extract the data as a pandas DataFrame\n",
    "df = adata_sub.obs[['cell_type', 'stim']]\n",
    "\n",
    "# Create a summary table\n",
    "summary_table = df.groupby(['cell_type', 'stim']).size().unstack(fill_value=0)\n",
    "summary_table"
   ]
  },
  {
   "cell_type": "markdown",
   "id": "bb668794",
   "metadata": {},
   "source": [
    "# Start R code: QC of log transformation"
   ]
  },
  {
   "cell_type": "code",
   "execution_count": 24,
   "id": "8fd129e6",
   "metadata": {},
   "outputs": [],
   "source": [
    "for col in adata_sub.obs.columns:\n",
    "    if pd.api.types.is_categorical_dtype(adata_sub.obs[col]):\n",
    "        adata_sub.obs[col] = adata_sub.obs[col].astype(str)"
   ]
  },
  {
   "cell_type": "code",
   "execution_count": 25,
   "id": "a2639073",
   "metadata": {
    "scrolled": true
   },
   "outputs": [
    {
     "name": "stdout",
     "output_type": "stream",
     "text": [
      "                  Group Reps             Batch Sex   Age_cat   Pmi_cat\n",
      "Ind98-Sample2_WM     WM    1  Ind98-Sample2_WM   M  under_50  over_12H\n",
      "Ind107-Sample1_WM    WM    3 Ind107-Sample1_WM   M  under_50  over_12H\n",
      "Ind117-Sample1_WM    WM    4 Ind117-Sample1_WM   F  under_50  over_12H\n",
      "Ind121-Sample1_WM    WM    5 Ind121-Sample1_WM   F  under_50  over_12H\n",
      "Ind131-Sample1_WM    WM    7 Ind131-Sample1_WM   M inbetween 6H_to_12H\n",
      "Ind133-Sample1_WM    WM    8 Ind133-Sample1_WM   M   over_70 6H_to_12H\n",
      "                   Pmi_cat2 Seq_pool\n",
      "Ind98-Sample2_WM   over_12H   Pool_6\n",
      "Ind107-Sample1_WM  over_12H   Pool_3\n",
      "Ind117-Sample1_WM  over_12H   Pool_4\n",
      "Ind121-Sample1_WM  over_12H   Pool_3\n",
      "Ind131-Sample1_WM up_to_12H   Pool_5\n",
      "Ind133-Sample1_WM up_to_12H   Pool_2\n"
     ]
    }
   ],
   "source": [
    "%%R -i adata_sub\n",
    "\n",
    "# Concatenate label and cell type for group factor\n",
    "group <- colData(adata_sub)$stim #ctrl or stim\n",
    "replicate <- colData(adata_sub)$replicate_cat #replicate number\n",
    "batch <- colData(adata_sub)$sample_lesion #this is each indiv sample\n",
    "\n",
    "# Concatenate label and cell type for group factor\n",
    "sex <- colData(adata_sub)$sex #ctrl or stim\n",
    "age_cat <- colData(adata_sub)$age_cat #replicate number\n",
    "pmi_cat <- colData(adata_sub)$pmi_cat #this is each indiv sample\n",
    "pmi_cat2 <- colData(adata_sub)$pmi_cat2 #replicate number\n",
    "seq_pool <- colData(adata_sub)$seq_pool #this is each indiv sample\n",
    "\n",
    "treatments <- data.frame(\"Group\"=group, \"Reps\"=replicate, \"Batch\"=batch,\n",
    "                        \"Sex\"=sex, \"Age_cat\"=age_cat, \"Pmi_cat\"=pmi_cat, \"Pmi_cat2\"=pmi_cat2,\n",
    "                        \"Seq_pool\"=seq_pool)\n",
    "head(treatments)"
   ]
  },
  {
   "cell_type": "code",
   "execution_count": 26,
   "id": "296903d8",
   "metadata": {},
   "outputs": [
    {
     "name": "stdout",
     "output_type": "stream",
     "text": [
      "                  Group  Donor Sex   Age_cat   Pmi_cat\n",
      "Ind98-Sample2_WM     WM  Ind98   M  under_50  over_12H\n",
      "Ind107-Sample1_WM    WM Ind107   M  under_50  over_12H\n",
      "Ind117-Sample1_WM    WM Ind117   F  under_50  over_12H\n",
      "Ind121-Sample1_WM    WM Ind121   F  under_50  over_12H\n",
      "Ind131-Sample1_WM    WM Ind131   M inbetween 6H_to_12H\n",
      "Ind133-Sample1_WM    WM Ind133   M   over_70 6H_to_12H\n"
     ]
    }
   ],
   "source": [
    "%%R -i adata_sub\n",
    "\n",
    "# Create the treatments dataframe with samples as a column, not as row names\n",
    "treatments <- data.frame(\n",
    "  #Sample = colData(adata_sub)$sample,      # Sample column\n",
    "  Group = colData(adata_sub)$stim,        # Group (e.g., ctrl or stim)\n",
    "  Donor = colData(adata_sub)$indiv_id,    # Donor information\n",
    "  Sex = colData(adata_sub)$sex,           # Sex information\n",
    "  Age_cat = colData(adata_sub)$age_cat,   # Age category\n",
    "  Pmi_cat = colData(adata_sub)$pmi_cat   # Post-mortem interval category\n",
    ")\n",
    "\n",
    "# Check the updated dataframe to confirm\n",
    "head(treatments)"
   ]
  },
  {
   "cell_type": "code",
   "execution_count": 27,
   "id": "8176fc6d",
   "metadata": {},
   "outputs": [
    {
     "name": "stdout",
     "output_type": "stream",
     "text": [
      "[1] \"Dimensions before subsetting:\"\n",
      "[1] 29040    22\n",
      "\n",
      "AL WM \n",
      "13  9 \n"
     ]
    }
   ],
   "source": [
    "%%R\n",
    "\n",
    "#Create a DGElist object using the anndata counts in 'X'\n",
    "x <- DGEList(assay(adata_sub, \"X\"), group=colData(adata_sub)$stim)\n",
    "\n",
    "samplenames <- colnames(x$counts)\n",
    "\n",
    "print(\"Dimensions before subsetting:\")\n",
    "print(dim(x))\n",
    "\n",
    "# Check counts per group before filtering\n",
    "print(table(x$samples$group))"
   ]
  },
  {
   "cell_type": "code",
   "execution_count": 28,
   "id": "155cfda5",
   "metadata": {},
   "outputs": [
    {
     "name": "stdout",
     "output_type": "stream",
     "text": [
      "[1] \"GroupAL\"         \"GroupWM\"         \"SexM\"            \"Age_catover_70\" \n",
      "[5] \"Age_catunder_50\" \"Pmi_catover_12H\" \"Pmi_catup_to_6H\"\n"
     ]
    }
   ],
   "source": [
    "%%R\n",
    "\n",
    "# Adjust for batch-- ie publication in the model matrix\n",
    "design_full <- model.matrix(~0 + Group + Sex + Age_cat + Pmi_cat, data=treatments)\n",
    "rownames(design_full) <- colnames(x)\n",
    "colnames(design_full)"
   ]
  },
  {
   "cell_type": "code",
   "execution_count": 29,
   "id": "a99d4546",
   "metadata": {},
   "outputs": [
    {
     "name": "stdout",
     "output_type": "stream",
     "text": [
      "[1] 8897   22\n"
     ]
    }
   ],
   "source": [
    "%%R\n",
    "\n",
    "# More strict removal of genes, tried group, pub and batch\n",
    "keep.expr <- filterByExpr(x, design_full)\n",
    "x2 <- x[keep.expr,, keep.lib.sizes=FALSE]\n",
    "dim(x2)"
   ]
  },
  {
   "cell_type": "code",
   "execution_count": 30,
   "id": "a53ca1e4",
   "metadata": {},
   "outputs": [
    {
     "name": "stdout",
     "output_type": "stream",
     "text": [
      "[1] 10571    22\n"
     ]
    }
   ],
   "source": [
    "%%R\n",
    "\n",
    "# More strict removal of genes, tried group, pub and batch\n",
    "keep.exprs <- filterByExpr(x, group=batch)\n",
    "b <- x[keep.exprs,, keep.lib.sizes=FALSE]\n",
    "dim(b)"
   ]
  },
  {
   "cell_type": "code",
   "execution_count": 31,
   "id": "ed52de22",
   "metadata": {},
   "outputs": [
    {
     "name": "stdout",
     "output_type": "stream",
     "text": [
      " [1] 1.0012167 0.9770843 1.0311171 1.0277589 0.9697245 1.0105747 0.9874821\n",
      " [8] 1.0382444 0.9885527 0.9018511 1.3762683 0.9471476 0.9351543 1.0497514\n",
      "[15] 1.0498182 1.0177531 1.1072855 0.9087080 0.8051361 0.7783850 1.1538055\n",
      "[22] 1.0825126\n"
     ]
    }
   ],
   "source": [
    "%%R\n",
    "## Calc norm factors before to normalize library sizes, then cpm divides counts by lib sizes\n",
    "#X is before trimming, Y is after trimming, X2 is also trimmed but differently\n",
    "x2 <- calcNormFactors(x2, method = \"TMM\")\n",
    "x2$samples$norm.factors"
   ]
  },
  {
   "cell_type": "code",
   "execution_count": 32,
   "id": "50f77fc0",
   "metadata": {},
   "outputs": [
    {
     "name": "stdout",
     "output_type": "stream",
     "text": [
      " [1] WM WM WM WM WM WM WM WM WM AL AL AL AL AL AL AL AL AL AL AL AL AL\n",
      "Levels: AL WM\n"
     ]
    }
   ],
   "source": [
    "%%R\n",
    "cd <- x2$samples$group\n",
    "print(cd)"
   ]
  },
  {
   "cell_type": "code",
   "execution_count": 33,
   "id": "ee335500",
   "metadata": {},
   "outputs": [
    {
     "data": {
      "image/png": "[encoded data removed]",
      "text/plain": [
       "<IPython.core.display.Image object>"
      ]
     },
     "metadata": {},
     "output_type": "display_data"
    }
   ],
   "source": [
    "%%R\n",
    "# Assuming 'group' is stored in y$samples dataframe\n",
    "group <- x2$samples$group\n",
    "\n",
    "# Generate a numeric vector from group factors (if not already factor, convert it)\n",
    "group_factor <- as.factor(group)\n",
    "group_colors <- as.numeric(group_factor)  # This converts factors to unique integers\n",
    "\n",
    "# Define a set of colors corresponding to the factors\n",
    "# Example: If you have two groups, you could define two colors\n",
    "colors <- c(\"blue\", \"red\")  # Adjust the number and colors based on your actual groups\n",
    "\n",
    "# Use these colors in your plotMDS\n",
    "plotMDS(x2, col = colors[group_colors])\n",
    "\n",
    "# Adding a legend for clarity\n",
    "legend(\"topright\", legend=levels(group_factor), fill=colors, title=\"Group\")"
   ]
  },
  {
   "cell_type": "markdown",
   "id": "c8808abd",
   "metadata": {},
   "source": [
    "# Voom with quality weights- sex, age, pmi, seq_pool"
   ]
  },
  {
   "cell_type": "code",
   "execution_count": 34,
   "id": "c9a32d39",
   "metadata": {},
   "outputs": [
    {
     "name": "stdout",
     "output_type": "stream",
     "text": [
      " Ind98-Sample2_WM Ind107-Sample1_WM Ind117-Sample1_WM Ind121-Sample1_WM \n",
      "          \"Ind98\"          \"Ind107\"          \"Ind117\"          \"Ind121\" \n",
      "Ind131-Sample1_WM Ind133-Sample1_WM Ind139-Sample1_WM Ind140-Sample1_WM \n",
      "         \"Ind131\"          \"Ind133\"          \"Ind139\"          \"Ind140\" \n",
      "Ind145-Sample1_WM Ind102-Sample1_AL Ind103-Sample1_AL Ind106-Sample1_AL \n",
      "         \"Ind145\"          \"Ind102\"          \"Ind103\"          \"Ind106\" \n",
      "Ind114-Sample1_AL Ind114-Sample2_AL Ind115-Sample1_AL Ind115-Sample2_AL \n",
      "         \"Ind114\"          \"Ind114\"          \"Ind115\"          \"Ind115\" \n",
      "Ind122-Sample1_AL Ind127-Sample1_AL Ind127-Sample3_AL Ind127-Sample4_AL \n",
      "         \"Ind122\"          \"Ind127\"          \"Ind127\"          \"Ind127\" \n",
      "Ind130-Sample1_AL Ind130-Sample2_AL \n",
      "         \"Ind130\"          \"Ind130\" \n"
     ]
    }
   ],
   "source": [
    "%%R\n",
    "donor <- colData(adata_sub)$indiv_id #this is each indiv sample\n",
    "donor"
   ]
  },
  {
   "cell_type": "code",
   "execution_count": 35,
   "id": "a3c165e9",
   "metadata": {
    "scrolled": true
   },
   "outputs": [
    {
     "name": "stdout",
     "output_type": "stream",
     "text": [
      "                  GroupAL GroupWM SexM Age_catover_70 Age_catunder_50\n",
      "Ind98-Sample2_WM        0       1    1              0               1\n",
      "Ind107-Sample1_WM       0       1    1              0               1\n",
      "Ind117-Sample1_WM       0       1    0              0               1\n",
      "Ind121-Sample1_WM       0       1    0              0               1\n",
      "Ind131-Sample1_WM       0       1    1              0               0\n",
      "Ind133-Sample1_WM       0       1    1              1               0\n",
      "                  Pmi_catover_12H Pmi_catup_to_6H\n",
      "Ind98-Sample2_WM                1               0\n",
      "Ind107-Sample1_WM               1               0\n",
      "Ind117-Sample1_WM               1               0\n",
      "Ind121-Sample1_WM               1               0\n",
      "Ind131-Sample1_WM               0               0\n",
      "Ind133-Sample1_WM               0               0\n"
     ]
    }
   ],
   "source": [
    "%%R\n",
    "head(design_full)"
   ]
  },
  {
   "cell_type": "code",
   "execution_count": 36,
   "id": "4710a80f",
   "metadata": {
    "scrolled": false
   },
   "outputs": [
    {
     "data": {
      "image/png": "[encoded data removed]",
      "text/plain": [
       "<IPython.core.display.Image object>"
      ]
     },
     "metadata": {},
     "output_type": "display_data"
    }
   ],
   "source": [
    "%%R\n",
    "\n",
    "y_vqw_full <- voomWithQualityWeights(x2$counts, design_full, plot=TRUE)"
   ]
  },
  {
   "cell_type": "code",
   "execution_count": 37,
   "id": "708160dc",
   "metadata": {},
   "outputs": [
    {
     "name": "stdout",
     "output_type": "stream",
     "text": [
      "[1] 0.5026689\n"
     ]
    }
   ],
   "source": [
    "%%R\n",
    "\n",
    "corfit <- duplicateCorrelation(y_vqw_full, design_full, block=donor)\n",
    "corfit$consensus.correlation"
   ]
  },
  {
   "cell_type": "code",
   "execution_count": 38,
   "id": "e00c05d4",
   "metadata": {},
   "outputs": [
    {
     "data": {
      "image/png": "[encoded data removed]",
      "text/plain": [
       "<IPython.core.display.Image object>"
      ]
     },
     "metadata": {},
     "output_type": "display_data"
    }
   ],
   "source": [
    "%%R\n",
    "\n",
    "y2 <- voomWithQualityWeights(x2$counts, design_full, plot=TRUE, block=donor, correlation=corfit$consensus)"
   ]
  },
  {
   "cell_type": "code",
   "execution_count": 39,
   "id": "96231aff",
   "metadata": {},
   "outputs": [
    {
     "name": "stdout",
     "output_type": "stream",
     "text": [
      "[1] 0.5027884\n"
     ]
    }
   ],
   "source": [
    "%%R\n",
    "\n",
    "corfit2 <- duplicateCorrelation(y2, design_full, block=donor)\n",
    "corfit2$consensus.correlation"
   ]
  },
  {
   "cell_type": "code",
   "execution_count": 40,
   "id": "e058d948",
   "metadata": {},
   "outputs": [],
   "source": [
    "%%R\n",
    "\n",
    "fit <- lmFit(y2, design_full, block=donor, correlation=corfit2$consensus)"
   ]
  },
  {
   "cell_type": "code",
   "execution_count": 41,
   "id": "d5af17a7",
   "metadata": {},
   "outputs": [],
   "source": [
    "%%R\n",
    "\n",
    "contr <- makeContrasts(GroupAL - GroupWM, levels = colnames(coef(fit)))"
   ]
  },
  {
   "cell_type": "code",
   "execution_count": 42,
   "id": "83073d74",
   "metadata": {},
   "outputs": [
    {
     "data": {
      "image/png": "[encoded data removed]",
      "text/plain": [
       "<IPython.core.display.Image object>"
      ]
     },
     "metadata": {},
     "output_type": "display_data"
    }
   ],
   "source": [
    "%%R\n",
    "\n",
    "tmp <- contrasts.fit(fit, contr)\n",
    "tmp2 <- eBayes(tmp)\n",
    "tt_full <- topTable(tmp2, sort.by = \"P\", n = Inf)\n",
    "\n",
    "plotSA(tmp2, xlab = \"Average log-expression\", ylab = \"sqrt(sigma)\", zero.weights = FALSE,\n",
    "       pch = 16, cex = 0.3, col = c(\"black\",\"red\"))"
   ]
  },
  {
   "cell_type": "code",
   "execution_count": 43,
   "id": "e166b064",
   "metadata": {},
   "outputs": [
    {
     "name": "stdout",
     "output_type": "stream",
     "text": [
      "               logFC   AveExpr         t      P.Value    adj.P.Val        B\n",
      "ST6GALNAC3 -4.179549  9.301374 -13.87436 2.048924e-12 1.220784e-08 18.55944\n",
      "NAV3       -3.619015  9.693441 -13.67270 2.744259e-12 1.220784e-08 18.26226\n",
      "SERPINB9   -3.667594  6.308777 -12.16044 2.754428e-11 8.168715e-08 15.80128\n",
      "AC008691.1 -6.166237  7.592861 -11.55120 7.420517e-11 1.650508e-07 14.65918\n",
      "ADAM28     -1.993259  9.467792 -11.34430 1.048067e-10 1.864931e-07 14.68781\n",
      "STARD13     3.581816  9.168734  10.70192 3.153193e-10 4.675660e-07 13.57237\n",
      "ABCC4      -2.568924  9.108281 -10.24935 7.044679e-10 6.264428e-07 12.80309\n",
      "SRGAP2B    -2.336140  9.076539 -10.24864 7.053764e-10 6.264428e-07 12.80555\n",
      "PCNX2      -2.173256  8.754440 -10.21381 7.511349e-10 6.264428e-07 12.75091\n",
      "ANKRD44    -1.778083 10.704046 -10.15283 8.388001e-10 6.264428e-07 12.59043\n"
     ]
    }
   ],
   "source": [
    "%%R\n",
    "\n",
    "# Retrieve the top results without sorting by p-value directly\n",
    "tt <- topTable(tmp2, sort.by = \"P\", n = Inf)\n",
    "head(tt, 10)"
   ]
  },
  {
   "cell_type": "code",
   "execution_count": 44,
   "id": "1f303d27",
   "metadata": {},
   "outputs": [
    {
     "name": "stdout",
     "output_type": "stream",
     "text": [
      "[1] 1495\n"
     ]
    }
   ],
   "source": [
    "%%R\n",
    "length(which(tt$adj.P.Val < 0.05))"
   ]
  },
  {
   "cell_type": "code",
   "execution_count": 45,
   "id": "34f85b43",
   "metadata": {},
   "outputs": [
    {
     "name": "stdout",
     "output_type": "stream",
     "text": [
      "[1] 515\n",
      "           logFC  AveExpr        t      P.Value    adj.P.Val          B\n",
      "SLC27A6 9.765810 5.376604 3.048048 5.861505e-03 3.883083e-02 -2.2074703\n",
      "NUPR1   8.166383 5.758525 6.474283 1.569392e-06 1.292859e-04  4.8425868\n",
      "ZNF804A 7.894103 7.096842 8.321426 2.861459e-08 7.273830e-06  8.7780369\n",
      "TNS1    7.893673 3.927510 5.040623 4.664541e-05 1.366005e-03  1.1878413\n",
      "DAPK1   7.594970 4.870512 7.148377 3.454689e-07 4.044259e-05  5.7933896\n",
      "VIM     7.482923 4.059009 4.671184 1.148753e-04 2.505013e-03  0.7117884\n"
     ]
    }
   ],
   "source": [
    "%%R\n",
    "\n",
    "# Calculate the number of genes with adj.P.Val < 0.05 and |logFC| > 1\n",
    "genes_up <- tt[tt$adj.P.Val < 0.05 & tt$logFC > 1, ]\n",
    "num_genes_up <- nrow(genes_up)\n",
    "\n",
    "# Print the number of significant genes\n",
    "print(num_genes_up)\n",
    "\n",
    "genes_up_sorted <- genes_up[order(genes_up$logFC, decreasing = TRUE), ]\n",
    "\n",
    "# View the head of the significant genes data frame\n",
    "head(genes_up_sorted)"
   ]
  },
  {
   "cell_type": "code",
   "execution_count": 46,
   "id": "7b337cd9",
   "metadata": {},
   "outputs": [
    {
     "name": "stdout",
     "output_type": "stream",
     "text": [
      "[1] 748\n",
      "               logFC  AveExpr          t      P.Value    adj.P.Val           B\n",
      "AP003481.1 -7.760100 5.573890  -9.182345 5.164046e-09 2.187834e-06  9.54104852\n",
      "HCG22      -6.171516 3.824270  -5.809815 7.366322e-06 3.901081e-04  3.63098946\n",
      "AC008691.1 -6.166237 7.592861 -11.551201 7.420517e-11 1.650508e-07 14.65917931\n",
      "FOS        -6.106556 5.886254  -5.525769 1.447524e-05 6.407274e-04  3.16307187\n",
      "RGS6       -5.786805 3.281564  -4.060246 5.136396e-04 7.085041e-03 -0.06624777\n",
      "ESRRG      -5.452881 3.539225  -3.376619 2.696165e-03 2.257743e-02 -1.60149133\n"
     ]
    }
   ],
   "source": [
    "%%R\n",
    "\n",
    "# Calculate the number of genes with adj.P.Val < 0.05 and |logFC| > 1\n",
    "genes_down <- tt[tt$adj.P.Val < 0.05 & tt$logFC < -1, ]\n",
    "num_genes_down <- nrow(genes_down)\n",
    "\n",
    "# Print the number of significant genes\n",
    "print(num_genes_down)\n",
    "\n",
    "genes_down_sorted <- genes_down[order(genes_down$logFC, decreasing = FALSE), ]\n",
    "\n",
    "# View the head of the significant genes data frame\n",
    "head(genes_down_sorted)"
   ]
  },
  {
   "cell_type": "markdown",
   "id": "c300d097",
   "metadata": {},
   "source": [
    "## Voom by group"
   ]
  },
  {
   "cell_type": "code",
   "execution_count": 47,
   "id": "ee12fae1",
   "metadata": {},
   "outputs": [
    {
     "name": "stdout",
     "output_type": "stream",
     "text": [
      "Group:\n",
      "1 AL \n",
      "2 WM \n"
     ]
    },
    {
     "data": {
      "image/png": "[encoded data removed]",
      "text/plain": [
       "<IPython.core.display.Image object>"
      ]
     },
     "metadata": {},
     "output_type": "display_data"
    }
   ],
   "source": [
    "%%R\n",
    "source(\"/afs/crc.nd.edu/user/e/eaboelno/sysVI_analysis/MM_sysVI/voomByGroup.R\")\n",
    "y_vbg <- voomByGroup(x2,design = design_full, group = cd, plot = \"combine\")"
   ]
  },
  {
   "cell_type": "code",
   "execution_count": 48,
   "id": "19b457a3",
   "metadata": {},
   "outputs": [],
   "source": [
    "%%R\n",
    "fit <- lmFit(y_vbg, design_full)"
   ]
  },
  {
   "cell_type": "code",
   "execution_count": 49,
   "id": "bfb01cc3",
   "metadata": {},
   "outputs": [],
   "source": [
    "%%R\n",
    "contr <- makeContrasts(GroupAL - GroupWM, levels = colnames(coef(fit)))"
   ]
  },
  {
   "cell_type": "code",
   "execution_count": 50,
   "id": "8582dcf1",
   "metadata": {},
   "outputs": [
    {
     "data": {
      "image/png": "[encoded data removed]",
      "text/plain": [
       "<IPython.core.display.Image object>"
      ]
     },
     "metadata": {},
     "output_type": "display_data"
    }
   ],
   "source": [
    "%%R\n",
    "tmp <- contrasts.fit(fit, contr)\n",
    "tmp2 <- eBayes(tmp)\n",
    "tt_full <- topTable(tmp2, sort.by = \"P\", n = Inf)\n",
    "\n",
    "plotSA(tmp2, xlab = \"Average log-expression\", ylab = \"sqrt(sigma)\", zero.weights = FALSE,\n",
    "       pch = 16, cex = 0.3, col = c(\"black\",\"red\"))"
   ]
  },
  {
   "cell_type": "code",
   "execution_count": 51,
   "id": "c956f5d4",
   "metadata": {},
   "outputs": [
    {
     "name": "stdout",
     "output_type": "stream",
     "text": [
      "[1] 856\n",
      "           logFC  AveExpr         t      P.Value    adj.P.Val          B\n",
      "CSMD1   7.996117 2.852725  4.484138 2.166307e-04 2.705139e-03  0.4812237\n",
      "TNS1    7.570656 3.927511  4.098270 5.385281e-04 5.236377e-03 -0.5666107\n",
      "ZNF804A 7.449564 7.096842 10.557155 1.000569e-09 4.263332e-07 12.0860222\n",
      "VIM     7.440749 4.059010  5.662113 1.413992e-05 4.058158e-04  2.1639022\n",
      "NUPR1   7.100330 5.758526  7.276109 4.291797e-07 3.030485e-05  6.0135799\n",
      "DIRC3   6.943295 6.477729  5.334251 2.987025e-05 6.993570e-04  2.2441368\n"
     ]
    }
   ],
   "source": [
    "%%R\n",
    "# Calculate the number of genes with adj.P.Val < 0.05 and |logFC| > 1\n",
    "genes_up <- tt_full[tt_full$adj.P.Val < 0.05 & tt_full$logFC > 1, ]\n",
    "num_genes_up <- nrow(genes_up)\n",
    "\n",
    "# Print the number of significant genes\n",
    "print(num_genes_up)\n",
    "\n",
    "genes_up_sorted <- genes_up[order(genes_up$logFC, decreasing = TRUE), ]\n",
    "\n",
    "# View the head of the significant genes data frame\n",
    "head(genes_up_sorted)"
   ]
  },
  {
   "cell_type": "code",
   "execution_count": 52,
   "id": "dd47e875",
   "metadata": {},
   "outputs": [
    {
     "name": "stdout",
     "output_type": "stream",
     "text": [
      "[1] 742\n",
      "               logFC  AveExpr         t      P.Value    adj.P.Val           B\n",
      "AP003481.1 -7.784037 5.573891 -6.603239 1.769327e-06 8.328941e-05  3.95447473\n",
      "AC008691.1 -6.128489 7.592862 -9.820923 3.473266e-09 1.030055e-06 11.01644238\n",
      "HCG22      -5.967650 3.824271 -4.264323 3.638272e-04 3.957177e-03  0.04599766\n",
      "RGS1       -5.391409 6.872854 -5.139395 4.681780e-05 9.509999e-04  2.14368702\n",
      "RGS6       -5.311278 3.281565 -4.136086 4.925149e-04 4.890519e-03 -0.03771483\n",
      "PLAT       -5.116879 2.949942 -4.916871 7.852116e-05 1.367421e-03  1.27002439\n"
     ]
    }
   ],
   "source": [
    "%%R\n",
    "# Calculate the number of genes with adj.P.Val < 0.05 and |logFC| > 1\n",
    "genes_down <- tt_full[tt_full$adj.P.Val < 0.05 & tt_full$logFC < -1, ]\n",
    "num_genes_down <- nrow(genes_down)\n",
    "\n",
    "# Print the number of significant genes\n",
    "print(num_genes_down)\n",
    "\n",
    "genes_down_sorted <- genes_down[order(genes_down$logFC, decreasing = FALSE), ]\n",
    "\n",
    "# View the head of the significant genes data frame\n",
    "head(genes_down_sorted)"
   ]
  },
  {
   "cell_type": "markdown",
   "id": "9aa72e4d",
   "metadata": {},
   "source": [
    "### Save output"
   ]
  },
  {
   "cell_type": "code",
   "execution_count": 53,
   "id": "4e3248a8",
   "metadata": {},
   "outputs": [
    {
     "name": "stdout",
     "output_type": "stream",
     "text": [
      "               logFC  AveExpr         t      P.Value    adj.P.Val        B\n",
      "ST6GALNAC3 -4.179549 9.301374 -13.87436 2.048924e-12 1.220784e-08 18.55944\n",
      "NAV3       -3.619015 9.693441 -13.67270 2.744259e-12 1.220784e-08 18.26226\n",
      "SERPINB9   -3.667594 6.308777 -12.16044 2.754428e-11 8.168715e-08 15.80128\n",
      "AC008691.1 -6.166237 7.592861 -11.55120 7.420517e-11 1.650508e-07 14.65918\n",
      "ADAM28     -1.993259 9.467792 -11.34430 1.048067e-10 1.864931e-07 14.68781\n",
      "STARD13     3.581816 9.168734  10.70192 3.153193e-10 4.675660e-07 13.57237\n"
     ]
    }
   ],
   "source": [
    "%%R\n",
    "\n",
    "head(tt)"
   ]
  },
  {
   "cell_type": "code",
   "execution_count": 54,
   "id": "cde226cf",
   "metadata": {},
   "outputs": [],
   "source": [
    "%%R\n",
    "\n",
    "# Add row names as a new column\n",
    "tt$gene <- rownames(tt)\n",
    "\n",
    "# Optionally reorder or select columns\n",
    "tt <- tt[, c(\"gene\", names(tt)[1:6])]\n",
    "\n",
    "# Write to CSV file\n",
    "write.table(tt, file = \"./files/MG_EvA_WM_v_AL_vwqw_blocked.csv\", row.names = FALSE, sep = \",\", quote = FALSE)"
   ]
  },
  {
   "cell_type": "code",
   "execution_count": 55,
   "id": "71986c39",
   "metadata": {},
   "outputs": [
    {
     "name": "stdout",
     "output_type": "stream",
     "text": [
      "            logFC   AveExpr         t      P.Value    adj.P.Val        B\n",
      "ADAM28  -2.013952  9.467793 -15.33288 1.119062e-12 9.520282e-09 19.15301\n",
      "MITF     2.719222  8.405525  14.81370 2.140111e-12 9.520282e-09 18.29728\n",
      "PCNX2   -2.160226  8.754441 -13.46385 1.267472e-11 3.758901e-08 16.76360\n",
      "STARD13  3.651350  9.168735  13.18272 1.869482e-11 3.760167e-08 16.36280\n",
      "NAV3    -3.534516  9.693442 -13.09507 2.113166e-11 3.760167e-08 16.28343\n",
      "DOCK4   -1.759257 12.478511 -12.88870 2.827178e-11 4.192234e-08 16.03731\n"
     ]
    }
   ],
   "source": [
    "%%R\n",
    "\n",
    "head(tt_full)"
   ]
  },
  {
   "cell_type": "code",
   "execution_count": 56,
   "id": "8cf8d382",
   "metadata": {},
   "outputs": [],
   "source": [
    "%%R\n",
    "\n",
    "# Add row names as a new column\n",
    "tt_full$gene <- rownames(tt_full)\n",
    "\n",
    "# Optionally reorder or select columns\n",
    "tt_full <- tt_full[, c(\"gene\", names(tt)[1:6])]\n",
    "\n",
    "# Write to CSV file\n",
    "write.table(tt_full, file = \"./files/MG_EvA_WM_v_AL_bygroup.csv\", row.names = FALSE, sep = \",\", quote = FALSE)"
   ]
  },
  {
   "cell_type": "markdown",
   "id": "c701105e",
   "metadata": {},
   "source": [
    "# Dream analysis"
   ]
  },
  {
   "cell_type": "code",
   "execution_count": 57,
   "id": "6bf779e1",
   "metadata": {},
   "outputs": [
    {
     "data": {
      "text/plain": [
       "Loading required package: ggplot2\n",
       "Loading required package: BiocParallel\n",
       "\n",
       "Attaching package: ‘variancePartition’\n",
       "\n",
       "The following object is masked from ‘package:limma’:\n",
       "\n",
       "    topTable\n",
       "\n"
      ]
     },
     "metadata": {},
     "output_type": "display_data"
    }
   ],
   "source": [
    "%%R\n",
    "\n",
    "library(\"variancePartition\")\n",
    "library(\"BiocParallel\")"
   ]
  },
  {
   "cell_type": "code",
   "execution_count": 58,
   "id": "1f4811ac",
   "metadata": {},
   "outputs": [],
   "source": [
    "%%R\n",
    "\n",
    "options(ports=8889)"
   ]
  },
  {
   "cell_type": "code",
   "execution_count": 59,
   "id": "1efcbf35",
   "metadata": {},
   "outputs": [],
   "source": [
    "%%R\n",
    "\n",
    "param <- SnowParam(4, \"SOCK\", progressbar = TRUE)"
   ]
  },
  {
   "cell_type": "code",
   "execution_count": 60,
   "id": "7c15aaae",
   "metadata": {},
   "outputs": [
    {
     "name": "stdout",
     "output_type": "stream",
     "text": [
      "                  Group  Donor Sex   Age_cat   Pmi_cat\n",
      "Ind98-Sample2_WM     WM  Ind98   M  under_50  over_12H\n",
      "Ind107-Sample1_WM    WM Ind107   M  under_50  over_12H\n",
      "Ind117-Sample1_WM    WM Ind117   F  under_50  over_12H\n",
      "Ind121-Sample1_WM    WM Ind121   F  under_50  over_12H\n",
      "Ind131-Sample1_WM    WM Ind131   M inbetween 6H_to_12H\n",
      "Ind133-Sample1_WM    WM Ind133   M   over_70 6H_to_12H\n"
     ]
    }
   ],
   "source": [
    "%%R\n",
    "head(treatments)"
   ]
  },
  {
   "cell_type": "code",
   "execution_count": 61,
   "id": "538dba82",
   "metadata": {},
   "outputs": [
    {
     "name": "stdout",
     "output_type": "stream",
     "text": [
      "[1] \"AL\" \"WM\"\n"
     ]
    }
   ],
   "source": [
    "%%R\n",
    "\n",
    "# Convert Group column to a factor\n",
    "treatments$Group <- factor(treatments$Group)\n",
    "\n",
    "# Check levels to confirm AL and WM exist\n",
    "levels(treatments$Group)"
   ]
  },
  {
   "cell_type": "code",
   "execution_count": 62,
   "id": "38176a77",
   "metadata": {},
   "outputs": [],
   "source": [
    "%%R\n",
    "\n",
    "form <- ~ Group + (1 | Donor)"
   ]
  },
  {
   "cell_type": "code",
   "execution_count": 64,
   "id": "e6b3f597",
   "metadata": {},
   "outputs": [],
   "source": [
    "%%R\n",
    "\n",
    "vobjDream <- voomWithDreamWeights(x2, form, treatments)"
   ]
  },
  {
   "cell_type": "code",
   "execution_count": 65,
   "id": "692ed774",
   "metadata": {},
   "outputs": [],
   "source": [
    "%%R\n",
    "\n",
    "fitmm <- dream(vobjDream, form, treatments)\n",
    "fitmm <- eBayes(fitmm)"
   ]
  },
  {
   "cell_type": "code",
   "execution_count": 66,
   "id": "09263012",
   "metadata": {},
   "outputs": [
    {
     "data": {
      "image/png": "[encoded data removed]",
      "text/plain": [
       "<IPython.core.display.Image object>"
      ]
     },
     "metadata": {},
     "output_type": "display_data"
    }
   ],
   "source": [
    "%%R\n",
    "\n",
    "plotSA(fitmm, xlab = \"Average log-expression\", ylab = \"sqrt(sigma)\", zero.weights = FALSE,\n",
    "       pch = 16, cex = 0.3, col = c(\"black\",\"red\"))"
   ]
  },
  {
   "cell_type": "code",
   "execution_count": 67,
   "id": "ff71acfa",
   "metadata": {},
   "outputs": [
    {
     "name": "stdout",
     "output_type": "stream",
     "text": [
      "                  (Intercept) GroupWM\n",
      "Ind98-Sample2_WM            1       1\n",
      "Ind107-Sample1_WM           1       1\n",
      "Ind117-Sample1_WM           1       1\n",
      "Ind121-Sample1_WM           1       1\n",
      "Ind131-Sample1_WM           1       1\n"
     ]
    }
   ],
   "source": [
    "%%R\n",
    "\n",
    "head(fitmm$design, 5)"
   ]
  },
  {
   "cell_type": "code",
   "execution_count": 68,
   "id": "4b4f0540",
   "metadata": {},
   "outputs": [
    {
     "data": {
      "text/plain": [
       "Removing intercept from test coefficients\n"
      ]
     },
     "metadata": {},
     "output_type": "display_data"
    }
   ],
   "source": [
    "%%R\n",
    "\n",
    "tt_dream <- topTable(fitmm, sort.by = \"P\", n = Inf)"
   ]
  },
  {
   "cell_type": "code",
   "execution_count": 69,
   "id": "4bd61dc4",
   "metadata": {},
   "outputs": [
    {
     "name": "stdout",
     "output_type": "stream",
     "text": [
      "[1] 1947\n"
     ]
    }
   ],
   "source": [
    "%%R\n",
    "length(which(tt_dream$adj.P.Val < 0.05))"
   ]
  },
  {
   "cell_type": "code",
   "execution_count": 111,
   "id": "004b7a17",
   "metadata": {},
   "outputs": [
    {
     "name": "stdout",
     "output_type": "stream",
     "text": [
      "[1] 1241\n",
      "                 gene     logFC  AveExpr          t      P.Value    adj.P.Val\n",
      "HS3ST2         HS3ST2 -6.976411 3.542495  -3.265752 3.350897e-03 2.096549e-02\n",
      "TRHDE           TRHDE -6.810385 3.891787  -7.823502 5.926735e-08 5.581814e-06\n",
      "AP002991.1 AP002991.1 -6.778642 4.184528 -10.113319 3.026139e-09 6.360449e-07\n",
      "EYA2             EYA2 -6.773520 5.108346 -12.561164 7.125343e-12 7.046165e-09\n",
      "GALNTL6       GALNTL6 -6.520834 3.690007  -4.341844 2.328273e-04 2.909360e-03\n",
      "NUPR1           NUPR1 -6.517721 5.758526 -10.176100 4.626173e-10 1.646362e-07\n",
      "                    B     z.std     gene.1\n",
      "HS3ST2     -2.0972382 -2.933568     HS3ST2\n",
      "TRHDE       5.5431862 -5.420998      TRHDE\n",
      "AP002991.1 10.9220327 -5.930174 AP002991.1\n",
      "EYA2        8.8594225 -6.855118       EYA2\n",
      "GALNTL6     0.4865968 -3.680445    GALNTL6\n",
      "NUPR1       8.1490091 -6.231287      NUPR1\n"
     ]
    }
   ],
   "source": [
    "%%R\n",
    "# Calculate the number of genes with adj.P.Val < 0.05 and |logFC| > 1\n",
    "genes_up <- tt_dream[tt_dream$adj.P.Val < 0.05 & tt_dream$logFC <= 0.7, ]\n",
    "num_genes_up <- nrow(genes_up)\n",
    "\n",
    "# Print the number of significant genes\n",
    "print(num_genes_up)\n",
    "\n",
    "genes_up_sorted <- genes_up[order(genes_up$logFC, decreasing = FALSE), ]\n",
    "\n",
    "# View the head of the significant genes data frame\n",
    "head(genes_up_sorted)"
   ]
  },
  {
   "cell_type": "code",
   "execution_count": 108,
   "id": "feba5e60",
   "metadata": {},
   "outputs": [
    {
     "name": "stdout",
     "output_type": "stream",
     "text": [
      "[1] 1049\n",
      "                 gene      logFC  AveExpr         t     P.Value  adj.P.Val\n",
      "MROH1           MROH1 -0.6948947 6.158129 -3.226236 0.005338688 0.02939252\n",
      "AC087500.1 AC087500.1 -0.6873125 5.302441 -3.122991 0.006453848 0.03373671\n",
      "DCAKD           DCAKD -0.6856735 5.075030 -3.490948 0.005861889 0.03141761\n",
      "SNX30           SNX30 -0.6825149 7.609122 -3.241248 0.005041941 0.02829853\n",
      "TMEM104       TMEM104 -0.6749416 4.883505 -3.003829 0.009602300 0.04541821\n",
      "SZRD1           SZRD1 -0.6748755 4.985610 -3.049227 0.008468706 0.04110533\n",
      "                   B     z.std     gene.1\n",
      "MROH1      -2.661780 -2.785854      MROH1\n",
      "AC087500.1 -2.865656 -2.723785 AC087500.1\n",
      "DCAKD      -2.057764 -2.755409      DCAKD\n",
      "SNX30      -2.632463 -2.804342      SNX30\n",
      "TMEM104    -3.076748 -2.589831    TMEM104\n",
      "SZRD1      -2.984587 -2.632789      SZRD1\n"
     ]
    }
   ],
   "source": [
    "%%R\n",
    "# Calculate the number of genes with adj.P.Val < 0.05 and |logFC| > 1\n",
    "genes_down <- tt_dream[tt_dream$adj.P.Val < 0.05 & tt_dream$logFC >= -0.7, ]\n",
    "num_genes_down <- nrow(genes_down)\n",
    "\n",
    "# Print the number of significant genes\n",
    "print(num_genes_down)\n",
    "\n",
    "genes_down_sorted <- genes_down[order(genes_down$logFC, decreasing = FALSE), ]\n",
    "\n",
    "# View the head of the significant genes data frame\n",
    "head(genes_down_sorted)"
   ]
  },
  {
   "cell_type": "code",
   "execution_count": 72,
   "id": "a243b360",
   "metadata": {},
   "outputs": [],
   "source": [
    "%%R\n",
    "\n",
    "# Add row names as a new column\n",
    "tt_dream$gene <- rownames(tt_dream)"
   ]
  },
  {
   "cell_type": "code",
   "execution_count": 73,
   "id": "2cb59695",
   "metadata": {},
   "outputs": [
    {
     "name": "stdout",
     "output_type": "stream",
     "text": [
      "               logFC  AveExpr         t      P.Value    adj.P.Val        B\n",
      "ST6GALNAC3  3.607608 9.301374  14.95492 1.839725e-13 1.636803e-09 20.84642\n",
      "MITF       -2.584601 8.405525 -14.12286 6.169291e-13 1.640748e-09 19.67965\n",
      "TMEM156     2.251460 7.480863  14.02233 7.168029e-13 1.640748e-09 19.53083\n",
      "ABCC4       2.225773 9.108282  13.78360 1.027183e-12 1.640748e-09 19.19841\n",
      "SERPINB9    3.628969 6.308778  14.09847 1.046810e-12 1.640748e-09 14.11308\n",
      "ARHGAP10   -5.802836 4.580765 -13.73465 1.106495e-12 1.640748e-09 18.29881\n",
      "               z.std       gene\n",
      "ST6GALNAC3  7.359955 ST6GALNAC3\n",
      "MITF       -7.196688       MITF\n",
      "TMEM156     7.176191    TMEM156\n",
      "ABCC4       7.126815      ABCC4\n",
      "SERPINB9    7.124208   SERPINB9\n",
      "ARHGAP10   -7.116566   ARHGAP10\n"
     ]
    }
   ],
   "source": [
    "%%R\n",
    "head(tt_dream)"
   ]
  },
  {
   "cell_type": "code",
   "execution_count": 74,
   "id": "4f513677",
   "metadata": {},
   "outputs": [],
   "source": [
    "%%R\n",
    "\n",
    "# Optionally reorder or select columns\n",
    "tt_dream <- tt_dream[, c(\"gene\", names(tt_dream)[1:8])]\n",
    "\n",
    "# Write to CSV file\n",
    "write.table(tt_dream, file = \"./files/MG_EvA_WM_v_AL_dream.csv\", row.names = FALSE, sep = \",\", quote = FALSE)"
   ]
  },
  {
   "cell_type": "markdown",
   "id": "5c494943",
   "metadata": {},
   "source": [
    "## Dream with added variables"
   ]
  },
  {
   "cell_type": "code",
   "execution_count": 75,
   "id": "397ae294",
   "metadata": {},
   "outputs": [
    {
     "name": "stdout",
     "output_type": "stream",
     "text": [
      "[1] \"Group\"   \"Donor\"   \"Sex\"     \"Age_cat\" \"Pmi_cat\"\n"
     ]
    }
   ],
   "source": [
    "%%R\n",
    "colnames(treatments)"
   ]
  },
  {
   "cell_type": "code",
   "execution_count": 76,
   "id": "07da07af",
   "metadata": {},
   "outputs": [],
   "source": [
    "%%R\n",
    "\n",
    "form <- ~ 0 + Group + Sex + Age_cat + Pmi_cat + (1 | Donor)"
   ]
  },
  {
   "cell_type": "code",
   "execution_count": 77,
   "id": "acefb962",
   "metadata": {},
   "outputs": [
    {
     "data": {
      "image/png": "[encoded data removed]",
      "text/plain": [
       "<IPython.core.display.Image object>"
      ]
     },
     "metadata": {},
     "output_type": "display_data"
    }
   ],
   "source": [
    "%%R\n",
    "\n",
    "L <- makeContrastsDream(form, treatments,\n",
    "  contrasts = c(\n",
    "    compare1 = \"GroupAL - GroupWM\"\n",
    "  )\n",
    ")\n",
    "\n",
    "# Visualize contrast matrix\n",
    "plotContrasts(L)"
   ]
  },
  {
   "cell_type": "code",
   "execution_count": 78,
   "id": "b4b6ed6b",
   "metadata": {},
   "outputs": [],
   "source": [
    "%%R\n",
    "\n",
    "vobjDream2 <- voomWithDreamWeights(x2, form, treatments)"
   ]
  },
  {
   "cell_type": "code",
   "execution_count": 79,
   "id": "372b076d",
   "metadata": {},
   "outputs": [
    {
     "name": "stdout",
     "output_type": "stream",
     "text": [
      "[1] \"compare1\"        \"GroupAL\"         \"GroupWM\"         \"SexM\"           \n",
      "[5] \"Age_catover_70\"  \"Age_catunder_50\" \"Pmi_catover_12H\" \"Pmi_catup_to_6H\"\n"
     ]
    }
   ],
   "source": [
    "%%R\n",
    "\n",
    "# fit dream model with contrasts\n",
    "fit_full <- dream(vobjDream2, form, treatments, L)\n",
    "fit_full <- eBayes(fit_full)\n",
    "\n",
    "# get names of available coefficients and contrasts for testing\n",
    "colnames(fit_full)"
   ]
  },
  {
   "cell_type": "code",
   "execution_count": 80,
   "id": "3774e1cb",
   "metadata": {},
   "outputs": [],
   "source": [
    "%%R\n",
    "\n",
    "tt_dream_full <- topTable(fit_full, coef=\"compare1\", sort.by = \"P\", n = Inf)"
   ]
  },
  {
   "cell_type": "code",
   "execution_count": 81,
   "id": "fe5fa39c",
   "metadata": {},
   "outputs": [
    {
     "name": "stdout",
     "output_type": "stream",
     "text": [
      "[1] 937\n"
     ]
    }
   ],
   "source": [
    "%%R\n",
    "\n",
    "length(which(tt_dream_full$adj.P.Val < 0.05))"
   ]
  },
  {
   "cell_type": "code",
   "execution_count": 82,
   "id": "aa706d10",
   "metadata": {},
   "outputs": [
    {
     "name": "stdout",
     "output_type": "stream",
     "text": [
      "[1] 505\n",
      "           logFC  AveExpr        t      P.Value    adj.P.Val          B\n",
      "CSMD1   8.063715 2.852725 3.775399 1.321258e-03 0.0214168850 -1.0086329\n",
      "ZNF804A 7.661389 7.096842 8.273031 3.604668e-07 0.0002508748  2.0218731\n",
      "VIM     7.380736 4.059010 6.222614 6.681364e-06 0.0008830905  3.5210898\n",
      "TNS1    7.207175 3.927511 6.400557 6.932285e-06 0.0008938629  0.3883503\n",
      "NUPR1   7.199218 5.758526 6.555519 3.190166e-06 0.0006170196  2.6696112\n",
      "EYA2    6.867659 5.108346 7.363363 8.277144e-07 0.0004045802  2.8236151\n",
      "           z.std\n",
      "CSMD1   3.211322\n",
      "ZNF804A 5.088731\n",
      "VIM     4.503595\n",
      "TNS1    4.495757\n",
      "NUPR1   4.658180\n",
      "EYA2    4.928717\n"
     ]
    }
   ],
   "source": [
    "%%R\n",
    "# Calculate the number of genes with adj.P.Val < 0.05 and |logFC| > 1\n",
    "genes_up <- tt_dream_full[tt_dream_full$adj.P.Val < 0.05 & tt_dream_full$logFC > 0.7, ]\n",
    "num_genes_up <- nrow(genes_up)\n",
    "\n",
    "# Print the number of significant genes\n",
    "print(num_genes_up)\n",
    "\n",
    "genes_up_sorted <- genes_up[order(genes_up$logFC, decreasing = TRUE), ]\n",
    "\n",
    "# View the head of the significant genes data frame\n",
    "head(genes_up_sorted)"
   ]
  },
  {
   "cell_type": "code",
   "execution_count": 83,
   "id": "67f87a03",
   "metadata": {},
   "outputs": [
    {
     "name": "stdout",
     "output_type": "stream",
     "text": [
      "[1] 417\n",
      "               logFC  AveExpr         t      P.Value    adj.P.Val          B\n",
      "AP003481.1 -7.684588 5.573891 -7.727392 2.037917e-06 0.0005036484  4.9154615\n",
      "AC008691.1 -5.909673 7.592862 -7.312715 1.902155e-06 0.0005036484  1.0382332\n",
      "HCG22      -5.861610 3.824271 -4.936218 2.107221e-04 0.0073648395 -0.7871417\n",
      "RGS6       -5.350731 3.281565 -3.851053 1.308068e-03 0.0213931598 -1.3438721\n",
      "RGS1       -5.278177 6.872854 -5.336487 4.317957e-05 0.0026599490 -0.2519615\n",
      "RASGEF1C   -4.898453 8.557444 -5.758668 2.032126e-05 0.0016659210  1.9140158\n",
      "               z.std\n",
      "AP003481.1 -4.749628\n",
      "AC008691.1 -4.763551\n",
      "HCG22      -3.705803\n",
      "RGS6       -3.214204\n",
      "RGS1       -4.089773\n",
      "RASGEF1C   -4.261331\n"
     ]
    }
   ],
   "source": [
    "%%R\n",
    "# Calculate the number of genes with adj.P.Val < 0.05 and |logFC| > 1\n",
    "genes_down <- tt_dream_full[tt_dream_full$adj.P.Val < 0.05 & tt_dream_full$logFC < -0.7, ]\n",
    "num_genes_down <- nrow(genes_down)\n",
    "\n",
    "# Print the number of significant genes\n",
    "print(num_genes_down)\n",
    "\n",
    "genes_down_sorted <- genes_down[order(genes_down$logFC, decreasing = FALSE), ]\n",
    "\n",
    "# View the head of the significant genes data frame\n",
    "head(genes_down_sorted)"
   ]
  },
  {
   "cell_type": "markdown",
   "id": "88722054",
   "metadata": {},
   "source": [
    "### Variance partition plots"
   ]
  },
  {
   "cell_type": "code",
   "execution_count": 84,
   "id": "6584edfd",
   "metadata": {},
   "outputs": [
    {
     "data": {
      "image/png": "[encoded data removed]",
      "text/plain": [
       "<IPython.core.display.Image object>"
      ]
     },
     "metadata": {},
     "output_type": "display_data"
    }
   ],
   "source": [
    "%%R\n",
    "\n",
    "form <- ~ (1 | Group) + (1 | Sex) + (1 | Donor)\n",
    "vp <- fitExtractVarPartModel(y2, form, treatments)\n",
    "\n",
    "plotVarPart(sortCols(vp))"
   ]
  },
  {
   "cell_type": "code",
   "execution_count": 85,
   "id": "74fe7560",
   "metadata": {},
   "outputs": [
    {
     "data": {
      "text/plain": [
       "In addition: Warning message:\n",
       "In .fitExtractVarPartModel(exprObj, formula, data, REML = REML,  :\n",
       "  Model failed for 1 responses.\n",
       "  See errors with attr(., 'errors')\n"
      ]
     },
     "metadata": {},
     "output_type": "display_data"
    },
    {
     "data": {
      "image/png": "[encoded data removed]",
      "text/plain": [
       "<IPython.core.display.Image object>"
      ]
     },
     "metadata": {},
     "output_type": "display_data"
    }
   ],
   "source": [
    "%%R\n",
    "\n",
    "form <- ~ (1 | Group) + (1 | Sex) + (1 | Age_cat) + (1 | Pmi_cat) + (1 | Donor)\n",
    "vp <- fitExtractVarPartModel(y2, form, treatments)\n",
    "\n",
    "plotVarPart(sortCols(vp))"
   ]
  },
  {
   "cell_type": "code",
   "execution_count": 87,
   "id": "0e7c385a",
   "metadata": {},
   "outputs": [
    {
     "name": "stdout",
     "output_type": "stream",
     "text": [
      "[1] 8897    1\n"
     ]
    }
   ],
   "source": [
    "%%R\n",
    "dim(tmp2)"
   ]
  },
  {
   "cell_type": "code",
   "execution_count": 88,
   "id": "6312102d",
   "metadata": {},
   "outputs": [
    {
     "name": "stdout",
     "output_type": "stream",
     "text": [
      "[1] 8897    2\n"
     ]
    }
   ],
   "source": [
    "%%R\n",
    "dim(fitmm)"
   ]
  },
  {
   "cell_type": "code",
   "execution_count": 89,
   "id": "105be9f5",
   "metadata": {},
   "outputs": [
    {
     "name": "stdout",
     "output_type": "stream",
     "text": [
      "[1] TRUE\n"
     ]
    }
   ],
   "source": [
    "%%R\n",
    "all(rownames(tmp2) == rownames(fitmm))"
   ]
  },
  {
   "cell_type": "code",
   "execution_count": 90,
   "id": "9b201cbb",
   "metadata": {},
   "outputs": [
    {
     "name": "stdout",
     "output_type": "stream",
     "text": [
      "[1] 8896    6\n"
     ]
    }
   ],
   "source": [
    "%%R\n",
    "dim(vp)"
   ]
  },
  {
   "cell_type": "code",
   "execution_count": 91,
   "id": "866edeab",
   "metadata": {},
   "outputs": [
    {
     "name": "stdout",
     "output_type": "stream",
     "text": [
      "[1] FALSE\n"
     ]
    },
    {
     "data": {
      "text/plain": [
       "In addition: Warning message:\n",
       "In rownames(tmp2) == rownames(vp) :\n",
       "  longer object length is not a multiple of shorter object length\n"
      ]
     },
     "metadata": {},
     "output_type": "display_data"
    }
   ],
   "source": [
    "%%R\n",
    "all(rownames(tmp2) == rownames(vp))"
   ]
  },
  {
   "cell_type": "code",
   "execution_count": 92,
   "id": "0c8e534f",
   "metadata": {},
   "outputs": [
    {
     "name": "stdout",
     "output_type": "stream",
     "text": [
      "[1] \"S100A6\"\n"
     ]
    }
   ],
   "source": [
    "%%R\n",
    "missing_rows <- setdiff(rownames(fitmm), rownames(vp))\n",
    "print(missing_rows)"
   ]
  },
  {
   "cell_type": "code",
   "execution_count": 93,
   "id": "c631f6c2",
   "metadata": {},
   "outputs": [
    {
     "name": "stdout",
     "output_type": "stream",
     "text": [
      "[1] 8896    1\n"
     ]
    }
   ],
   "source": [
    "%%R\n",
    "\n",
    "# Define the rows to remove\n",
    "rows_to_remove <- c(\"S100A6\")\n",
    "\n",
    "# Remove them from tmp2\n",
    "tmp2 <- tmp2[!(rownames(tmp2) %in% rows_to_remove), ]\n",
    "\n",
    "# Remove them from fitmm\n",
    "fitmm <- fitmm[!(rownames(fitmm) %in% rows_to_remove), ]\n",
    "\n",
    "# Check dimensions again to confirm they match\n",
    "dim(tmp2)"
   ]
  },
  {
   "cell_type": "code",
   "execution_count": 94,
   "id": "6b26f620",
   "metadata": {},
   "outputs": [
    {
     "data": {
      "text/plain": [
       "Removing intercept from test coefficients\n"
      ]
     },
     "metadata": {},
     "output_type": "display_data"
    },
    {
     "data": {
      "image/png": "[encoded data removed]",
      "text/plain": [
       "<IPython.core.display.Image object>"
      ]
     },
     "metadata": {},
     "output_type": "display_data"
    }
   ],
   "source": [
    "%%R\n",
    "\n",
    "# Compare p-values and make plot\n",
    "p1 <- topTable(tmp2, coef = \"GroupAL - GroupWM\", number = Inf, sort.by = \"none\")$P.Value\n",
    "p2 <- topTable(fitmm, number = Inf, sort.by = \"none\")$P.Value\n",
    "\n",
    "plotCompareP(p1, p2, vp$Donor, corfit2$consensus)"
   ]
  },
  {
   "cell_type": "markdown",
   "id": "025d3e5e",
   "metadata": {},
   "source": [
    "# Box plots of highly differentially expressed genes"
   ]
  },
  {
   "cell_type": "code",
   "execution_count": 95,
   "id": "4ed4b4bf",
   "metadata": {},
   "outputs": [],
   "source": [
    "%%R\n",
    "#X2 is the norm lib sizes and trimmed\n",
    "cpm <- edgeR::cpm(x2, log=FALSE, prior.counts=3)\n",
    "lcpm <- edgeR::cpm(x2, log=TRUE, prior.count=3)"
   ]
  },
  {
   "cell_type": "code",
   "execution_count": 96,
   "id": "f14d3826",
   "metadata": {
    "scrolled": true
   },
   "outputs": [
    {
     "name": "stdout",
     "output_type": "stream",
     "text": [
      "           Ind98-Sample2_WM Ind107-Sample1_WM Ind117-Sample1_WM\n",
      "AL669831.5        23.066446          59.74511          38.08093\n",
      "C1orf159          30.755262          52.27697          28.79290\n",
      "SDF4              26.910854          26.88530          32.50811\n",
      "UBE2J2            30.755262          50.78334          46.44016\n",
      "ACAP3              7.688815          20.91079          13.93205\n",
      "INTS11            11.533223          31.36618          29.72170\n",
      "           Ind121-Sample1_WM Ind131-Sample1_WM Ind133-Sample1_WM\n",
      "AL669831.5          33.68989         20.742556          12.03434\n",
      "C1orf159            23.58292         11.724054          24.06869\n",
      "SDF4                13.47595         28.859209          30.08586\n",
      "UBE2J2              57.27281         28.859209          18.05152\n",
      "ACAP3                0.00000          9.018503           0.00000\n",
      "INTS11              26.95191         21.644406          30.08586\n",
      "           Ind139-Sample1_WM Ind140-Sample1_WM Ind145-Sample1_WM\n",
      "AL669831.5         55.688583          51.64893          42.16356\n",
      "C1orf159           37.969488          28.49596          27.37893\n",
      "SDF4               12.656496          20.48147          22.45072\n",
      "UBE2J2             27.844291          33.83895          31.75956\n",
      "ACAP3               7.593898          19.59097          15.33220\n",
      "INTS11             22.781693          22.26247          22.99830\n",
      "           Ind102-Sample1_AL Ind103-Sample1_AL Ind106-Sample1_AL\n",
      "AL669831.5          77.01597          82.34389          16.40686\n",
      "C1orf159            28.00581         109.79185          24.61028\n",
      "SDF4                24.50508          54.89593          32.81371\n",
      "UBE2J2              80.51670          27.44796          82.03428\n",
      "ACAP3               45.50944          27.44796          20.50857\n",
      "INTS11              21.00436          54.89593          41.01714\n",
      "           Ind114-Sample1_AL Ind114-Sample2_AL Ind115-Sample1_AL\n",
      "AL669831.5          99.79756         106.89146          26.63868\n",
      "C1orf159            39.69221          45.81063          93.23537\n",
      "SDF4                23.81533          25.45035          13.31934\n",
      "UBE2J2              51.03284          40.72056          26.63868\n",
      "ACAP3               28.35158           0.00000          13.31934\n",
      "INTS11              22.68126          61.08083           0.00000\n",
      "           Ind115-Sample2_AL Ind122-Sample1_AL Ind127-Sample1_AL\n",
      "AL669831.5         122.79194          42.66365          38.66023\n",
      "C1orf159             0.00000          54.66280          48.32529\n",
      "SDF4                12.27919          26.66478          19.33012\n",
      "UBE2J2              49.11678          38.66393          77.32046\n",
      "ACAP3               61.39597           0.00000           0.00000\n",
      "INTS11              12.27919          33.33098          19.33012\n",
      "           Ind127-Sample3_AL Ind127-Sample4_AL Ind130-Sample1_AL\n",
      "AL669831.5          89.50663         101.79458          33.34092\n",
      "C1orf159            22.95042          25.44865          41.67615\n",
      "SDF4                34.42563          22.26757          25.00569\n",
      "UBE2J2              98.68679         124.06215          25.00569\n",
      "ACAP3               68.85125          22.26757           8.33523\n",
      "INTS11              22.95042          15.90540          16.67046\n",
      "           Ind130-Sample2_AL       gene\n",
      "AL669831.5         32.003565 AL669831.5\n",
      "C1orf159           28.955606   C1orf159\n",
      "SDF4               22.859689       SDF4\n",
      "UBE2J2             42.671419     UBE2J2\n",
      "ACAP3               9.143876      ACAP3\n",
      "INTS11             22.859689     INTS11\n"
     ]
    }
   ],
   "source": [
    "%%R\n",
    "library(reshape2)  # For transforming data from wide to long format\n",
    "library(ggplot2)   # For plotting\n",
    "\n",
    "# Step 1: Combine Expression and Treatment Data\n",
    "# Convert the E matrix into a dataframe\n",
    "expr_df <- as.data.frame(cpm)\n",
    "expr_df$gene <- rownames(cpm)  # Add gene names as a column\n",
    "\n",
    "head(expr_df)"
   ]
  },
  {
   "cell_type": "code",
   "execution_count": 97,
   "id": "5c4b762e",
   "metadata": {},
   "outputs": [
    {
     "name": "stdout",
     "output_type": "stream",
     "text": [
      " [1] \"Ind98-Sample2_WM\"  \"Ind107-Sample1_WM\" \"Ind117-Sample1_WM\"\n",
      " [4] \"Ind121-Sample1_WM\" \"Ind131-Sample1_WM\" \"Ind133-Sample1_WM\"\n",
      " [7] \"Ind139-Sample1_WM\" \"Ind140-Sample1_WM\" \"Ind145-Sample1_WM\"\n",
      "[10] \"Ind102-Sample1_AL\" \"Ind103-Sample1_AL\" \"Ind106-Sample1_AL\"\n",
      "[13] \"Ind114-Sample1_AL\" \"Ind114-Sample2_AL\" \"Ind115-Sample1_AL\"\n",
      "[16] \"Ind115-Sample2_AL\" \"Ind122-Sample1_AL\" \"Ind127-Sample1_AL\"\n",
      "[19] \"Ind127-Sample3_AL\" \"Ind127-Sample4_AL\" \"Ind130-Sample1_AL\"\n",
      "[22] \"Ind130-Sample2_AL\" \"gene\"             \n"
     ]
    }
   ],
   "source": [
    "%%R\n",
    "colnames(expr_df)"
   ]
  },
  {
   "cell_type": "code",
   "execution_count": 98,
   "id": "b460e7e8",
   "metadata": {
    "scrolled": true
   },
   "outputs": [
    {
     "name": "stdout",
     "output_type": "stream",
     "text": [
      "           Ind98-Sample2_WM Ind107-Sample1_WM Ind117-Sample1_WM\n",
      "AL669831.5        23.066446          59.74511          38.08093\n",
      "C1orf159          30.755262          52.27697          28.79290\n",
      "SDF4              26.910854          26.88530          32.50811\n",
      "UBE2J2            30.755262          50.78334          46.44016\n",
      "ACAP3              7.688815          20.91079          13.93205\n",
      "INTS11            11.533223          31.36618          29.72170\n",
      "           Ind121-Sample1_WM Ind131-Sample1_WM Ind133-Sample1_WM\n",
      "AL669831.5          33.68989         20.742556          12.03434\n",
      "C1orf159            23.58292         11.724054          24.06869\n",
      "SDF4                13.47595         28.859209          30.08586\n",
      "UBE2J2              57.27281         28.859209          18.05152\n",
      "ACAP3                0.00000          9.018503           0.00000\n",
      "INTS11              26.95191         21.644406          30.08586\n",
      "           Ind139-Sample1_WM Ind140-Sample1_WM Ind145-Sample1_WM\n",
      "AL669831.5         55.688583          51.64893          42.16356\n",
      "C1orf159           37.969488          28.49596          27.37893\n",
      "SDF4               12.656496          20.48147          22.45072\n",
      "UBE2J2             27.844291          33.83895          31.75956\n",
      "ACAP3               7.593898          19.59097          15.33220\n",
      "INTS11             22.781693          22.26247          22.99830\n",
      "           Ind102-Sample1_AL Ind103-Sample1_AL Ind106-Sample1_AL\n",
      "AL669831.5          77.01597          82.34389          16.40686\n",
      "C1orf159            28.00581         109.79185          24.61028\n",
      "SDF4                24.50508          54.89593          32.81371\n",
      "UBE2J2              80.51670          27.44796          82.03428\n",
      "ACAP3               45.50944          27.44796          20.50857\n",
      "INTS11              21.00436          54.89593          41.01714\n",
      "           Ind114-Sample1_AL Ind114-Sample2_AL Ind115-Sample1_AL\n",
      "AL669831.5          99.79756         106.89146          26.63868\n",
      "C1orf159            39.69221          45.81063          93.23537\n",
      "SDF4                23.81533          25.45035          13.31934\n",
      "UBE2J2              51.03284          40.72056          26.63868\n",
      "ACAP3               28.35158           0.00000          13.31934\n",
      "INTS11              22.68126          61.08083           0.00000\n",
      "           Ind115-Sample2_AL Ind122-Sample1_AL Ind127-Sample1_AL\n",
      "AL669831.5         122.79194          42.66365          38.66023\n",
      "C1orf159             0.00000          54.66280          48.32529\n",
      "SDF4                12.27919          26.66478          19.33012\n",
      "UBE2J2              49.11678          38.66393          77.32046\n",
      "ACAP3               61.39597           0.00000           0.00000\n",
      "INTS11              12.27919          33.33098          19.33012\n",
      "           Ind127-Sample3_AL Ind127-Sample4_AL Ind130-Sample1_AL\n",
      "AL669831.5          89.50663         101.79458          33.34092\n",
      "C1orf159            22.95042          25.44865          41.67615\n",
      "SDF4                34.42563          22.26757          25.00569\n",
      "UBE2J2              98.68679         124.06215          25.00569\n",
      "ACAP3               68.85125          22.26757           8.33523\n",
      "INTS11              22.95042          15.90540          16.67046\n",
      "           Ind130-Sample2_AL\n",
      "AL669831.5         32.003565\n",
      "C1orf159           28.955606\n",
      "SDF4               22.859689\n",
      "UBE2J2             42.671419\n",
      "ACAP3               9.143876\n",
      "INTS11             22.859689\n"
     ]
    }
   ],
   "source": [
    "%%R\n",
    "# Drop the \"gene\" column\n",
    "expr_df <- expr_df[, !colnames(expr_df) %in% \"gene\"]\n",
    "\n",
    "# Display the modified dataframe\n",
    "head(expr_df)"
   ]
  },
  {
   "cell_type": "code",
   "execution_count": 99,
   "id": "f72fc021",
   "metadata": {},
   "outputs": [
    {
     "name": "stdout",
     "output_type": "stream",
     "text": [
      "                  GroupAL GroupWM SexM Age_catover_70 Age_catunder_50\n",
      "Ind98-Sample2_WM        0       1    1              0               1\n",
      "Ind107-Sample1_WM       0       1    1              0               1\n",
      "Ind117-Sample1_WM       0       1    0              0               1\n",
      "Ind121-Sample1_WM       0       1    0              0               1\n",
      "Ind131-Sample1_WM       0       1    1              0               0\n",
      "Ind133-Sample1_WM       0       1    1              1               0\n",
      "Ind139-Sample1_WM       0       1    1              1               0\n",
      "Ind140-Sample1_WM       0       1    0              1               0\n",
      "Ind145-Sample1_WM       0       1    0              1               0\n",
      "Ind102-Sample1_AL       1       0    1              0               0\n",
      "Ind103-Sample1_AL       1       0    0              0               1\n",
      "Ind106-Sample1_AL       1       0    1              0               0\n",
      "Ind114-Sample1_AL       1       0    0              0               1\n",
      "Ind114-Sample2_AL       1       0    0              0               1\n",
      "Ind115-Sample1_AL       1       0    1              0               1\n",
      "Ind115-Sample2_AL       1       0    1              0               1\n",
      "Ind122-Sample1_AL       1       0    0              0               1\n",
      "Ind127-Sample1_AL       1       0    0              0               1\n",
      "Ind127-Sample3_AL       1       0    0              0               1\n",
      "Ind127-Sample4_AL       1       0    0              0               1\n",
      "Ind130-Sample1_AL       1       0    0              0               1\n",
      "Ind130-Sample2_AL       1       0    0              0               1\n",
      "                  Pmi_catover_12H Pmi_catup_to_6H            sample\n",
      "Ind98-Sample2_WM                1               0  Ind98-Sample2_WM\n",
      "Ind107-Sample1_WM               1               0 Ind107-Sample1_WM\n",
      "Ind117-Sample1_WM               1               0 Ind117-Sample1_WM\n",
      "Ind121-Sample1_WM               1               0 Ind121-Sample1_WM\n",
      "Ind131-Sample1_WM               0               0 Ind131-Sample1_WM\n",
      "Ind133-Sample1_WM               0               0 Ind133-Sample1_WM\n",
      "Ind139-Sample1_WM               0               1 Ind139-Sample1_WM\n",
      "Ind140-Sample1_WM               0               0 Ind140-Sample1_WM\n",
      "Ind145-Sample1_WM               0               1 Ind145-Sample1_WM\n",
      "Ind102-Sample1_AL               0               0 Ind102-Sample1_AL\n",
      "Ind103-Sample1_AL               0               1 Ind103-Sample1_AL\n",
      "Ind106-Sample1_AL               1               0 Ind106-Sample1_AL\n",
      "Ind114-Sample1_AL               0               0 Ind114-Sample1_AL\n",
      "Ind114-Sample2_AL               0               0 Ind114-Sample2_AL\n",
      "Ind115-Sample1_AL               0               0 Ind115-Sample1_AL\n",
      "Ind115-Sample2_AL               0               0 Ind115-Sample2_AL\n",
      "Ind122-Sample1_AL               0               0 Ind122-Sample1_AL\n",
      "Ind127-Sample1_AL               0               0 Ind127-Sample1_AL\n",
      "Ind127-Sample3_AL               0               0 Ind127-Sample3_AL\n",
      "Ind127-Sample4_AL               0               0 Ind127-Sample4_AL\n",
      "Ind130-Sample1_AL               0               0 Ind130-Sample1_AL\n",
      "Ind130-Sample2_AL               0               0 Ind130-Sample2_AL\n"
     ]
    }
   ],
   "source": [
    "%%R\n",
    "\n",
    "# Convert design matrix to a dataframe and add sample IDs as rownames\n",
    "design_df <- as.data.frame(y_vqw_full$design)\n",
    "design_df$sample <- rownames(design_df)\n",
    "design_df"
   ]
  },
  {
   "cell_type": "code",
   "execution_count": 100,
   "id": "75262711",
   "metadata": {},
   "outputs": [],
   "source": [
    "%%R\n",
    "\n",
    "# Step 1: Rename the columns of expr_df to match the design information\n",
    "colnames(expr_df) <- paste0(\"Sample\", seq_len(ncol(expr_df) - 1))  # Adjust for gene column\n",
    "expr_df$gene <- rownames(expr_df)\n",
    "\n",
    "# Update design_df to have corresponding sample IDs\n",
    "design_df$sample <- paste0(\"Sample\", seq_len(nrow(design_df)))\n",
    "\n",
    "# Step 2: Melt the expression data into a long format\n",
    "expr_long <- melt(expr_df, id.vars = \"gene\", variable.name = \"sample\", value.name = \"expression\")\n",
    "\n",
    "# Step 3: Merge expression data with treatment information\n",
    "expr_treatment <- merge(expr_long, design_df, by = \"sample\")"
   ]
  },
  {
   "cell_type": "code",
   "execution_count": 101,
   "id": "97d9ce12",
   "metadata": {},
   "outputs": [
    {
     "name": "stdout",
     "output_type": "stream",
     "text": [
      "   sample       gene expression GroupAL GroupWM SexM Age_catover_70\n",
      "1 Sample1     ATXN10 326.774655       0       1    1              0\n",
      "2 Sample1 MIRLET7BHG 130.709862       0       1    1              0\n",
      "3 Sample1      PPARA  69.199339       0       1    1              0\n",
      "4 Sample1      TTC38  23.066446       0       1    1              0\n",
      "5 Sample1       TRMU  26.910854       0       1    1              0\n",
      "6 Sample1     CELSR1   3.844408       0       1    1              0\n",
      "  Age_catunder_50 Pmi_catover_12H Pmi_catup_to_6H\n",
      "1               1               1               0\n",
      "2               1               1               0\n",
      "3               1               1               0\n",
      "4               1               1               0\n",
      "5               1               1               0\n",
      "6               1               1               0\n"
     ]
    }
   ],
   "source": [
    "%%R\n",
    "head(expr_treatment)"
   ]
  },
  {
   "cell_type": "code",
   "execution_count": 109,
   "id": "664a2e47",
   "metadata": {},
   "outputs": [
    {
     "name": "stdout",
     "output_type": "stream",
     "text": [
      "     gene     logFC  AveExpr        t    P.Value  adj.P.Val         B    z.std\n",
      "SPP1 SPP1 0.7562094 10.33845 2.437642 0.02602282 0.09194798 -4.222763 2.225871\n",
      "     gene.1\n",
      "SPP1   SPP1\n"
     ]
    }
   ],
   "source": [
    "%%R\n",
    "\n",
    "# Define the gene of interest\n",
    "gene_of_interest <- \"SPP1\"  # Replace with the actual gene name\n",
    "\n",
    "# Subset the dataframe to get the row corresponding to the gene\n",
    "gene_info <- subset(tt_dream, gene == gene_of_interest)\n",
    "\n",
    "# Print the gene information\n",
    "print(gene_info)"
   ]
  },
  {
   "cell_type": "code",
   "execution_count": 103,
   "id": "8bd8c03f",
   "metadata": {},
   "outputs": [
    {
     "name": "stdout",
     "output_type": "stream",
     "text": [
      "        sample gene expression GroupAL GroupWM SexM Age_catover_70\n",
      "3186   Sample1 SPP1  1545.4519       0       1    1              0\n",
      "12083 Sample10 SPP1   871.6808       1       0    1              0\n",
      "20980 Sample11 SPP1  1207.7104       1       0    0              0\n",
      "29878 Sample12 SPP1  1300.2433       1       0    1              0\n",
      "38774 Sample13 SPP1   773.4311       1       0    0              0\n",
      "44511 Sample14 SPP1   381.7552       1       0    0              0\n",
      "      Age_catunder_50 Pmi_catover_12H Pmi_catup_to_6H treatment\n",
      "3186                1               1               0        WM\n",
      "12083               0               0               0        AL\n",
      "20980               1               0               1        AL\n",
      "29878               0               1               0        AL\n",
      "38774               1               0               0        AL\n",
      "44511               1               0               0        AL\n"
     ]
    }
   ],
   "source": [
    "%%R\n",
    "# Subset data for the specified gene\n",
    "gene_data <- subset(expr_treatment, gene == \"SPP1\")\n",
    "gene_data$treatment <- ifelse(gene_data$GroupWM == 1, \"WM\", \"AL\")\n",
    "head(gene_data)"
   ]
  },
  {
   "cell_type": "code",
   "execution_count": 106,
   "id": "794cb956",
   "metadata": {},
   "outputs": [
    {
     "data": {
      "image/png": "[encoded data removed]",
      "text/plain": [
       "<IPython.core.display.Image object>"
      ]
     },
     "metadata": {},
     "output_type": "display_data"
    }
   ],
   "source": [
    "%%R\n",
    "ggplot(gene_data, aes(x = treatment, y = expression, fill = treatment)) +\n",
    "  geom_boxplot(alpha = 0.5, outlier.shape = NA) +  # Boxplots without outliers\n",
    "  geom_jitter(width = 0.2, alpha = 0.7, size = 2, aes(color = treatment)) +  # Individual points\n",
    "  scale_fill_manual(values = c(\"WM\" = \"blue\", \"AL\" = \"red\")) +  # Custom colors for boxes\n",
    "  scale_color_manual(values = c(\"WM\" = \"blue\", \"AL\" = \"red\")) +  # Custom colors for points\n",
    "  labs(\n",
    "    title = \"Expression of XX in AL, Mg AvE\",\n",
    "    x = \"\",\n",
    "    y = \"Counts per million\"\n",
    "  ) +\n",
    "  theme_minimal() +\n",
    "  theme(legend.position = \"none\")"
   ]
  },
  {
   "cell_type": "code",
   "execution_count": 112,
   "id": "e3ae9f80",
   "metadata": {},
   "outputs": [
    {
     "data": {
      "image/png": "[encoded data removed]",
      "text/plain": [
       "<IPython.core.display.Image object>"
      ]
     },
     "metadata": {},
     "output_type": "display_data"
    }
   ],
   "source": [
    "%%R\n",
    "# Subset data for the specified gene\n",
    "gene_data <- subset(expr_treatment, gene == \"NUPR1\")\n",
    "gene_data$treatment <- ifelse(gene_data$GroupWM == 1, \"WM\", \"AL\")\n",
    "\n",
    "ggplot(gene_data, aes(x = treatment, y = expression, fill = treatment)) +\n",
    "  geom_boxplot(alpha = 0.5, outlier.shape = NA) +  # Boxplots without outliers\n",
    "  geom_jitter(width = 0.2, alpha = 0.7, size = 2, aes(color = treatment)) +  # Individual points\n",
    "  scale_fill_manual(values = c(\"WM\" = \"blue\", \"AL\" = \"red\")) +  # Custom colors for boxes\n",
    "  scale_color_manual(values = c(\"WM\" = \"blue\", \"AL\" = \"red\")) +  # Custom colors for points\n",
    "  labs(\n",
    "    title = \"Expression of XX in AL, Mg AvD\",\n",
    "    x = \"\",\n",
    "    y = \"Counts per million\"\n",
    "  ) +\n",
    "  theme_minimal() +\n",
    "  theme(legend.position = \"none\")"
   ]
  },
  {
   "cell_type": "markdown",
   "id": "0c65da9a",
   "metadata": {},
   "source": [
    "# Try to plot some genes to see if you belive results"
   ]
  },
  {
   "cell_type": "code",
   "execution_count": null,
   "id": "343e8120",
   "metadata": {},
   "outputs": [],
   "source": [
    "import scanpy as sc\n",
    "import anndata as ann\n",
    "import numpy as np\n",
    "import scipy as sp\n",
    "import pandas as pd\n",
    "import seaborn as sb\n",
    "import matplotlib.pyplot as plt\n",
    "from matplotlib import rcParams\n",
    "from matplotlib import cm, colors\n",
    "#from gprofiler import gprofiler"
   ]
  },
  {
   "cell_type": "code",
   "execution_count": null,
   "id": "118cb945",
   "metadata": {},
   "outputs": [],
   "source": [
    "from matplotlib import rcParams\n",
    "from matplotlib import cm, colors\n",
    "\n",
    "# Create a custom color map using 'PuRd' color map\n",
    "colors2 = plt.cm.PuRd(np.linspace(0, 1, 128))\n",
    "colors3 = plt.cm.Greys_r(np.linspace(0.7, 0.8, 20))\n",
    "colorsComb = np.vstack([colors3, colors2])\n",
    "mymap = colors.LinearSegmentedColormap.from_list('my_colormap', colorsComb)"
   ]
  },
  {
   "cell_type": "code",
   "execution_count": null,
   "id": "1fe6fadf",
   "metadata": {},
   "outputs": [],
   "source": [
    "#Define a nice colour map for gene expression\n",
    "colors2 = plt.cm.plasma(np.linspace(0, 1, 128))\n",
    "colors3 = plt.cm.Greys_r(np.linspace(0.7,0.8,20))\n",
    "colorsComb = np.vstack([colors3, colors2])\n",
    "mymap2 = colors.LinearSegmentedColormap.from_list('my_colormap', colorsComb)"
   ]
  },
  {
   "cell_type": "code",
   "execution_count": null,
   "id": "00ca3cae",
   "metadata": {},
   "outputs": [],
   "source": [
    "plt.rcParams['figure.figsize']=(5,5) #rescale figures\n",
    "sc.settings.verbosity = 3\n",
    "sc.set_figure_params(scanpy=True, dpi=100, dpi_save=300,transparent=True, fontsize=12) #color_map=mymap2)\n",
    "sc.settings.figdir = '/afs/crc.nd.edu/user/e/eaboelno/sysVI_analysis/Human_scVI_single/figures_MG/'\n",
    "sc.logging.print_header()"
   ]
  },
  {
   "cell_type": "code",
   "execution_count": null,
   "id": "4a25b8af",
   "metadata": {},
   "outputs": [],
   "source": [
    "adata= sc.read_h5ad('/scratch365/eaboelno/BACKUP_h5ad_IMPORTANT/scVI_mdata_MG_working.h5ad')\n",
    "adata"
   ]
  },
  {
   "cell_type": "code",
   "execution_count": null,
   "id": "475fff7b",
   "metadata": {},
   "outputs": [],
   "source": [
    "sc.tl.dendrogram(adata, 'lesion_type')\n",
    "sc.pl.dendrogram(adata, 'lesion_type')"
   ]
  },
  {
   "cell_type": "code",
   "execution_count": null,
   "id": "76a86aa9",
   "metadata": {
    "scrolled": false
   },
   "outputs": [],
   "source": [
    "# Specify the gene name you want to include in the filename\n",
    "gene_name = 'MTRNR2L8'  # You can change this to any gene name you wish to use\n",
    "\n",
    "# Loop through each unique value in 'lesion_status'\n",
    "for lesion_type in set(adata.obs['lesion_type']):\n",
    "    # Subset the data to only include the current lesion type\n",
    "    adata_subset = adata[adata.obs['lesion_type'] == lesion_type]\n",
    "    \n",
    "    # Generate the UMAP plot for the current subset\n",
    "    sc.pl.embedding(\n",
    "        adata_subset, \n",
    "        basis='X_umap', \n",
    "        color=gene_name,  # Use the gene name\n",
    "        layer='log1p_norm',\n",
    "        color_map=mymap, \n",
    "        legend_fontweight='normal', \n",
    "        s=20, \n",
    "        frameon=False,\n",
    "        vmax=4,\n",
    "        title=f\"Lesion Type: {lesion_type}\",\n",
    "        #save=f'_{gene_name}_lesion_status_{lesion_type}.png'  # Save with gene name and lesion type\n",
    "    )\n",
    "    \n",
    "    # Show the plot\n",
    "    plt.show()"
   ]
  },
  {
   "cell_type": "code",
   "execution_count": null,
   "id": "d9f605a8",
   "metadata": {
    "scrolled": false
   },
   "outputs": [],
   "source": [
    "# Specify the gene name you want to include in the filename\n",
    "gene_name = 'PRDM11'  # You can change this to any gene name you wish to use\n",
    "\n",
    "# Loop through each unique value in 'lesion_status'\n",
    "for lesion_type in set(adata.obs['lesion_type']):\n",
    "    # Subset the data to only include the current lesion type\n",
    "    adata_subset = adata[adata.obs['lesion_type'] == lesion_type]\n",
    "    \n",
    "    # Generate the UMAP plot for the current subset\n",
    "    sc.pl.embedding(\n",
    "        adata_subset, \n",
    "        basis='X_umap', \n",
    "        color=gene_name,  # Use the gene name\n",
    "        layer='log1p_norm',\n",
    "        color_map=mymap, \n",
    "        legend_fontweight='normal', \n",
    "        s=20, \n",
    "        frameon=False,\n",
    "        vmax=4,\n",
    "        title=f\"Lesion Type: {lesion_type}\",\n",
    "        #save=f'_{gene_name}_lesion_status_{lesion_type}.png'  # Save with gene name and lesion type\n",
    "    )\n",
    "    \n",
    "    # Show the plot\n",
    "    plt.show()"
   ]
  },
  {
   "cell_type": "markdown",
   "id": "28a5b432",
   "metadata": {},
   "source": [
    "# Do results overlap with LR pairs?"
   ]
  },
  {
   "cell_type": "code",
   "execution_count": 113,
   "id": "acef57a6",
   "metadata": {},
   "outputs": [],
   "source": [
    "import liana as li"
   ]
  },
  {
   "cell_type": "code",
   "execution_count": 114,
   "id": "28e69c9c",
   "metadata": {},
   "outputs": [
    {
     "data": {
      "text/html": [
       "<div>\n",
       "<style scoped>\n",
       "    .dataframe tbody tr th:only-of-type {\n",
       "        vertical-align: middle;\n",
       "    }\n",
       "\n",
       "    .dataframe tbody tr th {\n",
       "        vertical-align: top;\n",
       "    }\n",
       "\n",
       "    .dataframe thead th {\n",
       "        text-align: right;\n",
       "    }\n",
       "</style>\n",
       "<table border=\"1\" class=\"dataframe\">\n",
       "  <thead>\n",
       "    <tr style=\"text-align: right;\">\n",
       "      <th></th>\n",
       "      <th>ligand</th>\n",
       "      <th>receptor</th>\n",
       "    </tr>\n",
       "  </thead>\n",
       "  <tbody>\n",
       "    <tr>\n",
       "      <th>0</th>\n",
       "      <td>LGALS9</td>\n",
       "      <td>PTPRC</td>\n",
       "    </tr>\n",
       "    <tr>\n",
       "      <th>1</th>\n",
       "      <td>LGALS9</td>\n",
       "      <td>MET</td>\n",
       "    </tr>\n",
       "    <tr>\n",
       "      <th>2</th>\n",
       "      <td>LGALS9</td>\n",
       "      <td>CD44</td>\n",
       "    </tr>\n",
       "    <tr>\n",
       "      <th>3</th>\n",
       "      <td>LGALS9</td>\n",
       "      <td>LRP1</td>\n",
       "    </tr>\n",
       "    <tr>\n",
       "      <th>4</th>\n",
       "      <td>LGALS9</td>\n",
       "      <td>CD47</td>\n",
       "    </tr>\n",
       "  </tbody>\n",
       "</table>\n",
       "</div>"
      ],
      "text/plain": [
       "   ligand receptor\n",
       "0  LGALS9    PTPRC\n",
       "1  LGALS9      MET\n",
       "2  LGALS9     CD44\n",
       "3  LGALS9     LRP1\n",
       "4  LGALS9     CD47"
      ]
     },
     "execution_count": 114,
     "metadata": {},
     "output_type": "execute_result"
    }
   ],
   "source": [
    "lr_pairs = li.resource.select_resource('consensus')\n",
    "lr_pairs.head()"
   ]
  },
  {
   "cell_type": "code",
   "execution_count": 115,
   "id": "597b433c",
   "metadata": {},
   "outputs": [],
   "source": [
    "%R -o tt_dream"
   ]
  },
  {
   "cell_type": "code",
   "execution_count": 116,
   "id": "bfa0daa8",
   "metadata": {},
   "outputs": [
    {
     "data": {
      "text/html": [
       "<div>\n",
       "<style scoped>\n",
       "    .dataframe tbody tr th:only-of-type {\n",
       "        vertical-align: middle;\n",
       "    }\n",
       "\n",
       "    .dataframe tbody tr th {\n",
       "        vertical-align: top;\n",
       "    }\n",
       "\n",
       "    .dataframe thead th {\n",
       "        text-align: right;\n",
       "    }\n",
       "</style>\n",
       "<table border=\"1\" class=\"dataframe\">\n",
       "  <thead>\n",
       "    <tr style=\"text-align: right;\">\n",
       "      <th></th>\n",
       "      <th>gene</th>\n",
       "      <th>logFC</th>\n",
       "      <th>AveExpr</th>\n",
       "      <th>t</th>\n",
       "      <th>P.Value</th>\n",
       "      <th>adj.P.Val</th>\n",
       "      <th>B</th>\n",
       "      <th>z.std</th>\n",
       "      <th>gene.1</th>\n",
       "    </tr>\n",
       "  </thead>\n",
       "  <tbody>\n",
       "    <tr>\n",
       "      <th>ST6GALNAC3</th>\n",
       "      <td>ST6GALNAC3</td>\n",
       "      <td>3.607608</td>\n",
       "      <td>9.301374</td>\n",
       "      <td>14.954922</td>\n",
       "      <td>1.839725e-13</td>\n",
       "      <td>1.636803e-09</td>\n",
       "      <td>20.846418</td>\n",
       "      <td>7.359955</td>\n",
       "      <td>ST6GALNAC3</td>\n",
       "    </tr>\n",
       "    <tr>\n",
       "      <th>MITF</th>\n",
       "      <td>MITF</td>\n",
       "      <td>-2.584601</td>\n",
       "      <td>8.405525</td>\n",
       "      <td>-14.122856</td>\n",
       "      <td>6.169291e-13</td>\n",
       "      <td>1.640748e-09</td>\n",
       "      <td>19.679651</td>\n",
       "      <td>-7.196688</td>\n",
       "      <td>MITF</td>\n",
       "    </tr>\n",
       "    <tr>\n",
       "      <th>TMEM156</th>\n",
       "      <td>TMEM156</td>\n",
       "      <td>2.251460</td>\n",
       "      <td>7.480863</td>\n",
       "      <td>14.022326</td>\n",
       "      <td>7.168029e-13</td>\n",
       "      <td>1.640748e-09</td>\n",
       "      <td>19.530829</td>\n",
       "      <td>7.176191</td>\n",
       "      <td>TMEM156</td>\n",
       "    </tr>\n",
       "    <tr>\n",
       "      <th>ABCC4</th>\n",
       "      <td>ABCC4</td>\n",
       "      <td>2.225773</td>\n",
       "      <td>9.108282</td>\n",
       "      <td>13.783596</td>\n",
       "      <td>1.027183e-12</td>\n",
       "      <td>1.640748e-09</td>\n",
       "      <td>19.198405</td>\n",
       "      <td>7.126815</td>\n",
       "      <td>ABCC4</td>\n",
       "    </tr>\n",
       "    <tr>\n",
       "      <th>SERPINB9</th>\n",
       "      <td>SERPINB9</td>\n",
       "      <td>3.628969</td>\n",
       "      <td>6.308778</td>\n",
       "      <td>14.098475</td>\n",
       "      <td>1.046810e-12</td>\n",
       "      <td>1.640748e-09</td>\n",
       "      <td>14.113083</td>\n",
       "      <td>7.124208</td>\n",
       "      <td>SERPINB9</td>\n",
       "    </tr>\n",
       "  </tbody>\n",
       "</table>\n",
       "</div>"
      ],
      "text/plain": [
       "                  gene     logFC   AveExpr          t       P.Value  \\\n",
       "ST6GALNAC3  ST6GALNAC3  3.607608  9.301374  14.954922  1.839725e-13   \n",
       "MITF              MITF -2.584601  8.405525 -14.122856  6.169291e-13   \n",
       "TMEM156        TMEM156  2.251460  7.480863  14.022326  7.168029e-13   \n",
       "ABCC4            ABCC4  2.225773  9.108282  13.783596  1.027183e-12   \n",
       "SERPINB9      SERPINB9  3.628969  6.308778  14.098475  1.046810e-12   \n",
       "\n",
       "               adj.P.Val          B     z.std      gene.1  \n",
       "ST6GALNAC3  1.636803e-09  20.846418  7.359955  ST6GALNAC3  \n",
       "MITF        1.640748e-09  19.679651 -7.196688        MITF  \n",
       "TMEM156     1.640748e-09  19.530829  7.176191     TMEM156  \n",
       "ABCC4       1.640748e-09  19.198405  7.126815       ABCC4  \n",
       "SERPINB9    1.640748e-09  14.113083  7.124208    SERPINB9  "
      ]
     },
     "execution_count": 116,
     "metadata": {},
     "output_type": "execute_result"
    }
   ],
   "source": [
    "# Display the first few rows\n",
    "tt_dream.head()"
   ]
  },
  {
   "cell_type": "code",
   "execution_count": 117,
   "id": "e9c4d522",
   "metadata": {},
   "outputs": [],
   "source": [
    "tt_dream.rename(columns={'adj.P.Val': 'Padj'}, inplace=True)\n",
    "tt_dream.rename(columns={'P.Value': 'Pvalue'}, inplace=True)"
   ]
  },
  {
   "cell_type": "code",
   "execution_count": 118,
   "id": "6584988d",
   "metadata": {},
   "outputs": [
    {
     "data": {
      "text/html": [
       "<div>\n",
       "<style scoped>\n",
       "    .dataframe tbody tr th:only-of-type {\n",
       "        vertical-align: middle;\n",
       "    }\n",
       "\n",
       "    .dataframe tbody tr th {\n",
       "        vertical-align: top;\n",
       "    }\n",
       "\n",
       "    .dataframe thead th {\n",
       "        text-align: right;\n",
       "    }\n",
       "</style>\n",
       "<table border=\"1\" class=\"dataframe\">\n",
       "  <thead>\n",
       "    <tr style=\"text-align: right;\">\n",
       "      <th></th>\n",
       "      <th>gene</th>\n",
       "      <th>logFC</th>\n",
       "      <th>AveExpr</th>\n",
       "      <th>t</th>\n",
       "      <th>Pvalue</th>\n",
       "      <th>Padj</th>\n",
       "      <th>B</th>\n",
       "      <th>z.std</th>\n",
       "      <th>gene.1</th>\n",
       "    </tr>\n",
       "  </thead>\n",
       "  <tbody>\n",
       "    <tr>\n",
       "      <th>0</th>\n",
       "      <td>ST6GALNAC3</td>\n",
       "      <td>3.607608</td>\n",
       "      <td>9.301374</td>\n",
       "      <td>14.954922</td>\n",
       "      <td>1.839725e-13</td>\n",
       "      <td>1.636803e-09</td>\n",
       "      <td>20.846418</td>\n",
       "      <td>7.359955</td>\n",
       "      <td>ST6GALNAC3</td>\n",
       "    </tr>\n",
       "    <tr>\n",
       "      <th>1</th>\n",
       "      <td>MITF</td>\n",
       "      <td>-2.584601</td>\n",
       "      <td>8.405525</td>\n",
       "      <td>-14.122856</td>\n",
       "      <td>6.169291e-13</td>\n",
       "      <td>1.640748e-09</td>\n",
       "      <td>19.679651</td>\n",
       "      <td>-7.196688</td>\n",
       "      <td>MITF</td>\n",
       "    </tr>\n",
       "    <tr>\n",
       "      <th>2</th>\n",
       "      <td>TMEM156</td>\n",
       "      <td>2.251460</td>\n",
       "      <td>7.480863</td>\n",
       "      <td>14.022326</td>\n",
       "      <td>7.168029e-13</td>\n",
       "      <td>1.640748e-09</td>\n",
       "      <td>19.530829</td>\n",
       "      <td>7.176191</td>\n",
       "      <td>TMEM156</td>\n",
       "    </tr>\n",
       "    <tr>\n",
       "      <th>3</th>\n",
       "      <td>ABCC4</td>\n",
       "      <td>2.225773</td>\n",
       "      <td>9.108282</td>\n",
       "      <td>13.783596</td>\n",
       "      <td>1.027183e-12</td>\n",
       "      <td>1.640748e-09</td>\n",
       "      <td>19.198405</td>\n",
       "      <td>7.126815</td>\n",
       "      <td>ABCC4</td>\n",
       "    </tr>\n",
       "    <tr>\n",
       "      <th>4</th>\n",
       "      <td>SERPINB9</td>\n",
       "      <td>3.628969</td>\n",
       "      <td>6.308778</td>\n",
       "      <td>14.098475</td>\n",
       "      <td>1.046810e-12</td>\n",
       "      <td>1.640748e-09</td>\n",
       "      <td>14.113083</td>\n",
       "      <td>7.124208</td>\n",
       "      <td>SERPINB9</td>\n",
       "    </tr>\n",
       "  </tbody>\n",
       "</table>\n",
       "</div>"
      ],
      "text/plain": [
       "         gene     logFC   AveExpr          t        Pvalue          Padj  \\\n",
       "0  ST6GALNAC3  3.607608  9.301374  14.954922  1.839725e-13  1.636803e-09   \n",
       "1        MITF -2.584601  8.405525 -14.122856  6.169291e-13  1.640748e-09   \n",
       "2     TMEM156  2.251460  7.480863  14.022326  7.168029e-13  1.640748e-09   \n",
       "3       ABCC4  2.225773  9.108282  13.783596  1.027183e-12  1.640748e-09   \n",
       "4    SERPINB9  3.628969  6.308778  14.098475  1.046810e-12  1.640748e-09   \n",
       "\n",
       "           B     z.std      gene.1  \n",
       "0  20.846418  7.359955  ST6GALNAC3  \n",
       "1  19.679651 -7.196688        MITF  \n",
       "2  19.530829  7.176191     TMEM156  \n",
       "3  19.198405  7.126815       ABCC4  \n",
       "4  14.113083  7.124208    SERPINB9  "
      ]
     },
     "execution_count": 118,
     "metadata": {},
     "output_type": "execute_result"
    }
   ],
   "source": [
    "# Move row names to a column called 'gene'\n",
    "tt_dream['gene'] = tt_dream.index\n",
    "\n",
    "# Reset the index so the gene names become part of the dataframe\n",
    "tt_dream.reset_index(drop=True, inplace=True)\n",
    "\n",
    "# Display the updated dataframe\n",
    "tt_dream.head()"
   ]
  },
  {
   "cell_type": "code",
   "execution_count": 119,
   "id": "d7bd4c79",
   "metadata": {},
   "outputs": [
    {
     "data": {
      "text/plain": [
       "(1210, 9)"
      ]
     },
     "execution_count": 119,
     "metadata": {},
     "output_type": "execute_result"
    }
   ],
   "source": [
    "sigs = tt_dream[(tt_dream.Padj < 0.05) & (abs(tt_dream.logFC) >= 1)]\n",
    "sigs.shape"
   ]
  },
  {
   "cell_type": "code",
   "execution_count": 120,
   "id": "abda4801",
   "metadata": {},
   "outputs": [
    {
     "data": {
      "text/plain": [
       "(4624, 2)"
      ]
     },
     "execution_count": 120,
     "metadata": {},
     "output_type": "execute_result"
    }
   ],
   "source": [
    "lr_pairs.shape"
   ]
  },
  {
   "cell_type": "code",
   "execution_count": 121,
   "id": "20544b3d",
   "metadata": {},
   "outputs": [
    {
     "data": {
      "text/html": [
       "<div>\n",
       "<style scoped>\n",
       "    .dataframe tbody tr th:only-of-type {\n",
       "        vertical-align: middle;\n",
       "    }\n",
       "\n",
       "    .dataframe tbody tr th {\n",
       "        vertical-align: top;\n",
       "    }\n",
       "\n",
       "    .dataframe thead th {\n",
       "        text-align: right;\n",
       "    }\n",
       "</style>\n",
       "<table border=\"1\" class=\"dataframe\">\n",
       "  <thead>\n",
       "    <tr style=\"text-align: right;\">\n",
       "      <th></th>\n",
       "      <th>gene</th>\n",
       "      <th>logFC</th>\n",
       "      <th>AveExpr</th>\n",
       "      <th>t</th>\n",
       "      <th>Pvalue</th>\n",
       "      <th>Padj</th>\n",
       "      <th>B</th>\n",
       "      <th>z.std</th>\n",
       "      <th>gene.1</th>\n",
       "    </tr>\n",
       "  </thead>\n",
       "  <tbody>\n",
       "    <tr>\n",
       "      <th>0</th>\n",
       "      <td>ST6GALNAC3</td>\n",
       "      <td>3.607608</td>\n",
       "      <td>9.301374</td>\n",
       "      <td>14.954922</td>\n",
       "      <td>1.839725e-13</td>\n",
       "      <td>1.636803e-09</td>\n",
       "      <td>20.846418</td>\n",
       "      <td>7.359955</td>\n",
       "      <td>ST6GALNAC3</td>\n",
       "    </tr>\n",
       "    <tr>\n",
       "      <th>1</th>\n",
       "      <td>MITF</td>\n",
       "      <td>-2.584601</td>\n",
       "      <td>8.405525</td>\n",
       "      <td>-14.122856</td>\n",
       "      <td>6.169291e-13</td>\n",
       "      <td>1.640748e-09</td>\n",
       "      <td>19.679651</td>\n",
       "      <td>-7.196688</td>\n",
       "      <td>MITF</td>\n",
       "    </tr>\n",
       "    <tr>\n",
       "      <th>2</th>\n",
       "      <td>TMEM156</td>\n",
       "      <td>2.251460</td>\n",
       "      <td>7.480863</td>\n",
       "      <td>14.022326</td>\n",
       "      <td>7.168029e-13</td>\n",
       "      <td>1.640748e-09</td>\n",
       "      <td>19.530829</td>\n",
       "      <td>7.176191</td>\n",
       "      <td>TMEM156</td>\n",
       "    </tr>\n",
       "    <tr>\n",
       "      <th>3</th>\n",
       "      <td>ABCC4</td>\n",
       "      <td>2.225773</td>\n",
       "      <td>9.108282</td>\n",
       "      <td>13.783596</td>\n",
       "      <td>1.027183e-12</td>\n",
       "      <td>1.640748e-09</td>\n",
       "      <td>19.198405</td>\n",
       "      <td>7.126815</td>\n",
       "      <td>ABCC4</td>\n",
       "    </tr>\n",
       "    <tr>\n",
       "      <th>4</th>\n",
       "      <td>SERPINB9</td>\n",
       "      <td>3.628969</td>\n",
       "      <td>6.308778</td>\n",
       "      <td>14.098475</td>\n",
       "      <td>1.046810e-12</td>\n",
       "      <td>1.640748e-09</td>\n",
       "      <td>14.113083</td>\n",
       "      <td>7.124208</td>\n",
       "      <td>SERPINB9</td>\n",
       "    </tr>\n",
       "  </tbody>\n",
       "</table>\n",
       "</div>"
      ],
      "text/plain": [
       "         gene     logFC   AveExpr          t        Pvalue          Padj  \\\n",
       "0  ST6GALNAC3  3.607608  9.301374  14.954922  1.839725e-13  1.636803e-09   \n",
       "1        MITF -2.584601  8.405525 -14.122856  6.169291e-13  1.640748e-09   \n",
       "2     TMEM156  2.251460  7.480863  14.022326  7.168029e-13  1.640748e-09   \n",
       "3       ABCC4  2.225773  9.108282  13.783596  1.027183e-12  1.640748e-09   \n",
       "4    SERPINB9  3.628969  6.308778  14.098475  1.046810e-12  1.640748e-09   \n",
       "\n",
       "           B     z.std      gene.1  \n",
       "0  20.846418  7.359955  ST6GALNAC3  \n",
       "1  19.679651 -7.196688        MITF  \n",
       "2  19.530829  7.176191     TMEM156  \n",
       "3  19.198405  7.126815       ABCC4  \n",
       "4  14.113083  7.124208    SERPINB9  "
      ]
     },
     "execution_count": 121,
     "metadata": {},
     "output_type": "execute_result"
    }
   ],
   "source": [
    "sigs.head()"
   ]
  },
  {
   "cell_type": "code",
   "execution_count": 122,
   "id": "fcab0ec8",
   "metadata": {},
   "outputs": [
    {
     "data": {
      "text/html": [
       "<div>\n",
       "<style scoped>\n",
       "    .dataframe tbody tr th:only-of-type {\n",
       "        vertical-align: middle;\n",
       "    }\n",
       "\n",
       "    .dataframe tbody tr th {\n",
       "        vertical-align: top;\n",
       "    }\n",
       "\n",
       "    .dataframe thead th {\n",
       "        text-align: right;\n",
       "    }\n",
       "</style>\n",
       "<table border=\"1\" class=\"dataframe\">\n",
       "  <thead>\n",
       "    <tr style=\"text-align: right;\">\n",
       "      <th></th>\n",
       "      <th>gene</th>\n",
       "      <th>logFC</th>\n",
       "      <th>AveExpr</th>\n",
       "      <th>t</th>\n",
       "      <th>Pvalue</th>\n",
       "      <th>Padj</th>\n",
       "      <th>B</th>\n",
       "      <th>z.std</th>\n",
       "      <th>gene.1</th>\n",
       "    </tr>\n",
       "  </thead>\n",
       "  <tbody>\n",
       "    <tr>\n",
       "      <th>14</th>\n",
       "      <td>HRH1</td>\n",
       "      <td>-3.543006</td>\n",
       "      <td>4.651863</td>\n",
       "      <td>-11.165820</td>\n",
       "      <td>7.544284e-11</td>\n",
       "      <td>4.474766e-08</td>\n",
       "      <td>14.939105</td>\n",
       "      <td>-6.509417</td>\n",
       "      <td>HRH1</td>\n",
       "    </tr>\n",
       "    <tr>\n",
       "      <th>19</th>\n",
       "      <td>PLXNC1</td>\n",
       "      <td>-4.585865</td>\n",
       "      <td>5.536396</td>\n",
       "      <td>-10.606550</td>\n",
       "      <td>2.501961e-10</td>\n",
       "      <td>1.069934e-07</td>\n",
       "      <td>10.145800</td>\n",
       "      <td>-6.326863</td>\n",
       "      <td>PLXNC1</td>\n",
       "    </tr>\n",
       "    <tr>\n",
       "      <th>21</th>\n",
       "      <td>GPNMB</td>\n",
       "      <td>-5.097024</td>\n",
       "      <td>7.143696</td>\n",
       "      <td>-11.251138</td>\n",
       "      <td>2.732018e-10</td>\n",
       "      <td>1.092641e-07</td>\n",
       "      <td>7.960990</td>\n",
       "      <td>-6.313269</td>\n",
       "      <td>GPNMB</td>\n",
       "    </tr>\n",
       "    <tr>\n",
       "      <th>27</th>\n",
       "      <td>ITGAM</td>\n",
       "      <td>1.785053</td>\n",
       "      <td>6.984062</td>\n",
       "      <td>9.951420</td>\n",
       "      <td>7.095998e-10</td>\n",
       "      <td>2.254753e-07</td>\n",
       "      <td>12.759252</td>\n",
       "      <td>6.163933</td>\n",
       "      <td>ITGAM</td>\n",
       "    </tr>\n",
       "    <tr>\n",
       "      <th>38</th>\n",
       "      <td>CADM1</td>\n",
       "      <td>-3.677030</td>\n",
       "      <td>7.134390</td>\n",
       "      <td>-9.280006</td>\n",
       "      <td>2.644861e-09</td>\n",
       "      <td>6.033675e-07</td>\n",
       "      <td>11.484795</td>\n",
       "      <td>-5.952247</td>\n",
       "      <td>CADM1</td>\n",
       "    </tr>\n",
       "    <tr>\n",
       "      <th>...</th>\n",
       "      <td>...</td>\n",
       "      <td>...</td>\n",
       "      <td>...</td>\n",
       "      <td>...</td>\n",
       "      <td>...</td>\n",
       "      <td>...</td>\n",
       "      <td>...</td>\n",
       "      <td>...</td>\n",
       "      <td>...</td>\n",
       "    </tr>\n",
       "    <tr>\n",
       "      <th>1881</th>\n",
       "      <td>TNFSF14</td>\n",
       "      <td>-2.090099</td>\n",
       "      <td>2.539341</td>\n",
       "      <td>-2.889201</td>\n",
       "      <td>9.626131e-03</td>\n",
       "      <td>4.547227e-02</td>\n",
       "      <td>-3.000107</td>\n",
       "      <td>-2.588978</td>\n",
       "      <td>TNFSF14</td>\n",
       "    </tr>\n",
       "    <tr>\n",
       "      <th>1899</th>\n",
       "      <td>ARF6</td>\n",
       "      <td>-1.428229</td>\n",
       "      <td>3.241121</td>\n",
       "      <td>-2.908663</td>\n",
       "      <td>9.865031e-03</td>\n",
       "      <td>4.619431e-02</td>\n",
       "      <td>-3.042255</td>\n",
       "      <td>-2.580525</td>\n",
       "      <td>ARF6</td>\n",
       "    </tr>\n",
       "    <tr>\n",
       "      <th>1908</th>\n",
       "      <td>MERTK</td>\n",
       "      <td>-1.011809</td>\n",
       "      <td>8.708926</td>\n",
       "      <td>-2.886899</td>\n",
       "      <td>1.013408e-02</td>\n",
       "      <td>4.721437e-02</td>\n",
       "      <td>-3.077478</td>\n",
       "      <td>-2.571220</td>\n",
       "      <td>MERTK</td>\n",
       "    </tr>\n",
       "    <tr>\n",
       "      <th>1942</th>\n",
       "      <td>TRAF3</td>\n",
       "      <td>-1.043073</td>\n",
       "      <td>7.691887</td>\n",
       "      <td>-2.828750</td>\n",
       "      <td>1.086491e-02</td>\n",
       "      <td>4.975045e-02</td>\n",
       "      <td>-3.107028</td>\n",
       "      <td>-2.547014</td>\n",
       "      <td>TRAF3</td>\n",
       "    </tr>\n",
       "    <tr>\n",
       "      <th>1943</th>\n",
       "      <td>DPP4</td>\n",
       "      <td>-2.357513</td>\n",
       "      <td>3.386497</td>\n",
       "      <td>-2.832574</td>\n",
       "      <td>1.089411e-02</td>\n",
       "      <td>4.984263e-02</td>\n",
       "      <td>-3.123447</td>\n",
       "      <td>-2.546077</td>\n",
       "      <td>DPP4</td>\n",
       "    </tr>\n",
       "  </tbody>\n",
       "</table>\n",
       "<p>146 rows × 9 columns</p>\n",
       "</div>"
      ],
      "text/plain": [
       "         gene     logFC   AveExpr          t        Pvalue          Padj  \\\n",
       "14       HRH1 -3.543006  4.651863 -11.165820  7.544284e-11  4.474766e-08   \n",
       "19     PLXNC1 -4.585865  5.536396 -10.606550  2.501961e-10  1.069934e-07   \n",
       "21      GPNMB -5.097024  7.143696 -11.251138  2.732018e-10  1.092641e-07   \n",
       "27      ITGAM  1.785053  6.984062   9.951420  7.095998e-10  2.254753e-07   \n",
       "38      CADM1 -3.677030  7.134390  -9.280006  2.644861e-09  6.033675e-07   \n",
       "...       ...       ...       ...        ...           ...           ...   \n",
       "1881  TNFSF14 -2.090099  2.539341  -2.889201  9.626131e-03  4.547227e-02   \n",
       "1899     ARF6 -1.428229  3.241121  -2.908663  9.865031e-03  4.619431e-02   \n",
       "1908    MERTK -1.011809  8.708926  -2.886899  1.013408e-02  4.721437e-02   \n",
       "1942    TRAF3 -1.043073  7.691887  -2.828750  1.086491e-02  4.975045e-02   \n",
       "1943     DPP4 -2.357513  3.386497  -2.832574  1.089411e-02  4.984263e-02   \n",
       "\n",
       "              B     z.std   gene.1  \n",
       "14    14.939105 -6.509417     HRH1  \n",
       "19    10.145800 -6.326863   PLXNC1  \n",
       "21     7.960990 -6.313269    GPNMB  \n",
       "27    12.759252  6.163933    ITGAM  \n",
       "38    11.484795 -5.952247    CADM1  \n",
       "...         ...       ...      ...  \n",
       "1881  -3.000107 -2.588978  TNFSF14  \n",
       "1899  -3.042255 -2.580525     ARF6  \n",
       "1908  -3.077478 -2.571220    MERTK  \n",
       "1942  -3.107028 -2.547014    TRAF3  \n",
       "1943  -3.123447 -2.546077     DPP4  \n",
       "\n",
       "[146 rows x 9 columns]"
      ]
     },
     "execution_count": 122,
     "metadata": {},
     "output_type": "execute_result"
    }
   ],
   "source": [
    "ligands = lr_pairs['ligand'].unique()\n",
    "receptors = lr_pairs['receptor'].unique()\n",
    "\n",
    "# Combining both ligands and receptors and keeping only unique values\n",
    "unique_genes = set(ligands).union(set(receptors))\n",
    "\n",
    "# Checking for overlap with 'sigs' dataframe on the 'gene' column\n",
    "overlap_genes = sigs[sigs['gene'].isin(unique_genes)]\n",
    "overlap_genes"
   ]
  },
  {
   "cell_type": "code",
   "execution_count": 123,
   "id": "9202c175",
   "metadata": {},
   "outputs": [
    {
     "data": {
      "text/html": [
       "<div>\n",
       "<style scoped>\n",
       "    .dataframe tbody tr th:only-of-type {\n",
       "        vertical-align: middle;\n",
       "    }\n",
       "\n",
       "    .dataframe tbody tr th {\n",
       "        vertical-align: top;\n",
       "    }\n",
       "\n",
       "    .dataframe thead th {\n",
       "        text-align: right;\n",
       "    }\n",
       "</style>\n",
       "<table border=\"1\" class=\"dataframe\">\n",
       "  <thead>\n",
       "    <tr style=\"text-align: right;\">\n",
       "      <th></th>\n",
       "      <th>gene</th>\n",
       "      <th>logFC</th>\n",
       "      <th>logFC_direction</th>\n",
       "    </tr>\n",
       "  </thead>\n",
       "  <tbody>\n",
       "    <tr>\n",
       "      <th>14</th>\n",
       "      <td>HRH1</td>\n",
       "      <td>-3.543006</td>\n",
       "      <td>negative</td>\n",
       "    </tr>\n",
       "    <tr>\n",
       "      <th>19</th>\n",
       "      <td>PLXNC1</td>\n",
       "      <td>-4.585865</td>\n",
       "      <td>negative</td>\n",
       "    </tr>\n",
       "    <tr>\n",
       "      <th>21</th>\n",
       "      <td>GPNMB</td>\n",
       "      <td>-5.097024</td>\n",
       "      <td>negative</td>\n",
       "    </tr>\n",
       "    <tr>\n",
       "      <th>27</th>\n",
       "      <td>ITGAM</td>\n",
       "      <td>1.785053</td>\n",
       "      <td>positive</td>\n",
       "    </tr>\n",
       "    <tr>\n",
       "      <th>38</th>\n",
       "      <td>CADM1</td>\n",
       "      <td>-3.677030</td>\n",
       "      <td>negative</td>\n",
       "    </tr>\n",
       "    <tr>\n",
       "      <th>...</th>\n",
       "      <td>...</td>\n",
       "      <td>...</td>\n",
       "      <td>...</td>\n",
       "    </tr>\n",
       "    <tr>\n",
       "      <th>1881</th>\n",
       "      <td>TNFSF14</td>\n",
       "      <td>-2.090099</td>\n",
       "      <td>negative</td>\n",
       "    </tr>\n",
       "    <tr>\n",
       "      <th>1899</th>\n",
       "      <td>ARF6</td>\n",
       "      <td>-1.428229</td>\n",
       "      <td>negative</td>\n",
       "    </tr>\n",
       "    <tr>\n",
       "      <th>1908</th>\n",
       "      <td>MERTK</td>\n",
       "      <td>-1.011809</td>\n",
       "      <td>negative</td>\n",
       "    </tr>\n",
       "    <tr>\n",
       "      <th>1942</th>\n",
       "      <td>TRAF3</td>\n",
       "      <td>-1.043073</td>\n",
       "      <td>negative</td>\n",
       "    </tr>\n",
       "    <tr>\n",
       "      <th>1943</th>\n",
       "      <td>DPP4</td>\n",
       "      <td>-2.357513</td>\n",
       "      <td>negative</td>\n",
       "    </tr>\n",
       "  </tbody>\n",
       "</table>\n",
       "<p>146 rows × 3 columns</p>\n",
       "</div>"
      ],
      "text/plain": [
       "         gene     logFC logFC_direction\n",
       "14       HRH1 -3.543006        negative\n",
       "19     PLXNC1 -4.585865        negative\n",
       "21      GPNMB -5.097024        negative\n",
       "27      ITGAM  1.785053        positive\n",
       "38      CADM1 -3.677030        negative\n",
       "...       ...       ...             ...\n",
       "1881  TNFSF14 -2.090099        negative\n",
       "1899     ARF6 -1.428229        negative\n",
       "1908    MERTK -1.011809        negative\n",
       "1942    TRAF3 -1.043073        negative\n",
       "1943     DPP4 -2.357513        negative\n",
       "\n",
       "[146 rows x 3 columns]"
      ]
     },
     "execution_count": 123,
     "metadata": {},
     "output_type": "execute_result"
    }
   ],
   "source": [
    "# Checking the direction of logFC for the overlapping genes\n",
    "overlap_genes_direction = overlap_genes[['gene', 'logFC']].copy()\n",
    "\n",
    "# Determine the direction of logFC\n",
    "overlap_genes_direction['logFC_direction'] = overlap_genes_direction['logFC'].apply(lambda x: 'positive' if x > 0 else 'negative')\n",
    "\n",
    "# Displaying the results\n",
    "overlap_genes_direction"
   ]
  },
  {
   "cell_type": "code",
   "execution_count": 124,
   "id": "6420343b",
   "metadata": {},
   "outputs": [
    {
     "name": "stdout",
     "output_type": "stream",
     "text": [
      "Total ligand-receptor pairs where both are differentially expressed: 34\n"
     ]
    },
    {
     "data": {
      "text/html": [
       "<div>\n",
       "<style scoped>\n",
       "    .dataframe tbody tr th:only-of-type {\n",
       "        vertical-align: middle;\n",
       "    }\n",
       "\n",
       "    .dataframe tbody tr th {\n",
       "        vertical-align: top;\n",
       "    }\n",
       "\n",
       "    .dataframe thead th {\n",
       "        text-align: right;\n",
       "    }\n",
       "</style>\n",
       "<table border=\"1\" class=\"dataframe\">\n",
       "  <thead>\n",
       "    <tr style=\"text-align: right;\">\n",
       "      <th></th>\n",
       "      <th>ligand</th>\n",
       "      <th>receptor</th>\n",
       "      <th>logFC_ligand</th>\n",
       "      <th>logFC_receptor</th>\n",
       "    </tr>\n",
       "  </thead>\n",
       "  <tbody>\n",
       "    <tr>\n",
       "      <th>23</th>\n",
       "      <td>PLAT</td>\n",
       "      <td>ITGAM</td>\n",
       "      <td>4.121954</td>\n",
       "      <td>1.785053</td>\n",
       "    </tr>\n",
       "    <tr>\n",
       "      <th>6</th>\n",
       "      <td>ADAM28</td>\n",
       "      <td>ITGA4</td>\n",
       "      <td>1.589985</td>\n",
       "      <td>-3.419644</td>\n",
       "    </tr>\n",
       "    <tr>\n",
       "      <th>30</th>\n",
       "      <td>ENTPD1</td>\n",
       "      <td>ADORA1</td>\n",
       "      <td>1.491532</td>\n",
       "      <td>-2.671909</td>\n",
       "    </tr>\n",
       "    <tr>\n",
       "      <th>10</th>\n",
       "      <td>IGF1</td>\n",
       "      <td>IGF2R</td>\n",
       "      <td>1.438307</td>\n",
       "      <td>-1.958725</td>\n",
       "    </tr>\n",
       "    <tr>\n",
       "      <th>4</th>\n",
       "      <td>SELPLG</td>\n",
       "      <td>ITGAM</td>\n",
       "      <td>1.371262</td>\n",
       "      <td>1.785053</td>\n",
       "    </tr>\n",
       "    <tr>\n",
       "      <th>5</th>\n",
       "      <td>SELPLG</td>\n",
       "      <td>SELL</td>\n",
       "      <td>1.371262</td>\n",
       "      <td>1.505404</td>\n",
       "    </tr>\n",
       "    <tr>\n",
       "      <th>3</th>\n",
       "      <td>ST6GAL1</td>\n",
       "      <td>CD22</td>\n",
       "      <td>1.370807</td>\n",
       "      <td>-3.310750</td>\n",
       "    </tr>\n",
       "    <tr>\n",
       "      <th>0</th>\n",
       "      <td>ADAM10</td>\n",
       "      <td>CD44</td>\n",
       "      <td>1.012714</td>\n",
       "      <td>-4.482151</td>\n",
       "    </tr>\n",
       "    <tr>\n",
       "      <th>1</th>\n",
       "      <td>ADAM10</td>\n",
       "      <td>NOTCH2</td>\n",
       "      <td>1.012714</td>\n",
       "      <td>-1.262869</td>\n",
       "    </tr>\n",
       "    <tr>\n",
       "      <th>26</th>\n",
       "      <td>ADAM10</td>\n",
       "      <td>TSPAN5</td>\n",
       "      <td>1.012714</td>\n",
       "      <td>1.572209</td>\n",
       "    </tr>\n",
       "    <tr>\n",
       "      <th>25</th>\n",
       "      <td>ADAM10</td>\n",
       "      <td>GPNMB</td>\n",
       "      <td>1.012714</td>\n",
       "      <td>-5.097024</td>\n",
       "    </tr>\n",
       "    <tr>\n",
       "      <th>27</th>\n",
       "      <td>ADAM10</td>\n",
       "      <td>CADM1</td>\n",
       "      <td>1.012714</td>\n",
       "      <td>-3.677030</td>\n",
       "    </tr>\n",
       "    <tr>\n",
       "      <th>31</th>\n",
       "      <td>PSAP</td>\n",
       "      <td>CELSR1</td>\n",
       "      <td>-1.153901</td>\n",
       "      <td>-2.870160</td>\n",
       "    </tr>\n",
       "    <tr>\n",
       "      <th>29</th>\n",
       "      <td>PKM</td>\n",
       "      <td>CD44</td>\n",
       "      <td>-1.192701</td>\n",
       "      <td>-4.482151</td>\n",
       "    </tr>\n",
       "    <tr>\n",
       "      <th>12</th>\n",
       "      <td>CALCB</td>\n",
       "      <td>VIPR1</td>\n",
       "      <td>-1.379721</td>\n",
       "      <td>1.844850</td>\n",
       "    </tr>\n",
       "    <tr>\n",
       "      <th>11</th>\n",
       "      <td>CALCB</td>\n",
       "      <td>ADRB2</td>\n",
       "      <td>-1.379721</td>\n",
       "      <td>1.389325</td>\n",
       "    </tr>\n",
       "    <tr>\n",
       "      <th>14</th>\n",
       "      <td>HGF</td>\n",
       "      <td>CD44</td>\n",
       "      <td>-1.561413</td>\n",
       "      <td>-4.482151</td>\n",
       "    </tr>\n",
       "    <tr>\n",
       "      <th>13</th>\n",
       "      <td>HGF</td>\n",
       "      <td>NRP1</td>\n",
       "      <td>-1.561413</td>\n",
       "      <td>-1.599469</td>\n",
       "    </tr>\n",
       "    <tr>\n",
       "      <th>15</th>\n",
       "      <td>HGF</td>\n",
       "      <td>SDC2</td>\n",
       "      <td>-1.561413</td>\n",
       "      <td>-3.468615</td>\n",
       "    </tr>\n",
       "    <tr>\n",
       "      <th>18</th>\n",
       "      <td>HGF</td>\n",
       "      <td>ST14</td>\n",
       "      <td>-1.561413</td>\n",
       "      <td>-3.020606</td>\n",
       "    </tr>\n",
       "    <tr>\n",
       "      <th>24</th>\n",
       "      <td>APOE</td>\n",
       "      <td>ABCA1</td>\n",
       "      <td>-1.896274</td>\n",
       "      <td>-3.006473</td>\n",
       "    </tr>\n",
       "    <tr>\n",
       "      <th>8</th>\n",
       "      <td>APOE</td>\n",
       "      <td>SDC2</td>\n",
       "      <td>-1.896274</td>\n",
       "      <td>-3.468615</td>\n",
       "    </tr>\n",
       "    <tr>\n",
       "      <th>9</th>\n",
       "      <td>APOE</td>\n",
       "      <td>SCARB1</td>\n",
       "      <td>-1.896274</td>\n",
       "      <td>-1.294590</td>\n",
       "    </tr>\n",
       "    <tr>\n",
       "      <th>17</th>\n",
       "      <td>APOE</td>\n",
       "      <td>SORL1</td>\n",
       "      <td>-1.896274</td>\n",
       "      <td>1.181869</td>\n",
       "    </tr>\n",
       "    <tr>\n",
       "      <th>2</th>\n",
       "      <td>TNFSF14</td>\n",
       "      <td>TNFRSF14</td>\n",
       "      <td>-2.090099</td>\n",
       "      <td>-3.037222</td>\n",
       "    </tr>\n",
       "    <tr>\n",
       "      <th>7</th>\n",
       "      <td>COL4A2</td>\n",
       "      <td>CD44</td>\n",
       "      <td>-2.453548</td>\n",
       "      <td>-4.482151</td>\n",
       "    </tr>\n",
       "    <tr>\n",
       "      <th>32</th>\n",
       "      <td>RARRES1</td>\n",
       "      <td>NRP2</td>\n",
       "      <td>-2.621872</td>\n",
       "      <td>-1.412833</td>\n",
       "    </tr>\n",
       "    <tr>\n",
       "      <th>33</th>\n",
       "      <td>CSF1</td>\n",
       "      <td>CSF2RA</td>\n",
       "      <td>-2.814963</td>\n",
       "      <td>1.452546</td>\n",
       "    </tr>\n",
       "    <tr>\n",
       "      <th>20</th>\n",
       "      <td>F13A1</td>\n",
       "      <td>ITGA9</td>\n",
       "      <td>-3.602520</td>\n",
       "      <td>1.270253</td>\n",
       "    </tr>\n",
       "    <tr>\n",
       "      <th>19</th>\n",
       "      <td>F13A1</td>\n",
       "      <td>ITGA4</td>\n",
       "      <td>-3.602520</td>\n",
       "      <td>-3.419644</td>\n",
       "    </tr>\n",
       "    <tr>\n",
       "      <th>16</th>\n",
       "      <td>LGALS1</td>\n",
       "      <td>CD69</td>\n",
       "      <td>-3.791554</td>\n",
       "      <td>2.994695</td>\n",
       "    </tr>\n",
       "    <tr>\n",
       "      <th>21</th>\n",
       "      <td>PLTP</td>\n",
       "      <td>ABCA1</td>\n",
       "      <td>-3.926011</td>\n",
       "      <td>-3.006473</td>\n",
       "    </tr>\n",
       "    <tr>\n",
       "      <th>22</th>\n",
       "      <td>VIM</td>\n",
       "      <td>CD44</td>\n",
       "      <td>-4.018400</td>\n",
       "      <td>-4.482151</td>\n",
       "    </tr>\n",
       "    <tr>\n",
       "      <th>28</th>\n",
       "      <td>LPL</td>\n",
       "      <td>CD44</td>\n",
       "      <td>-4.584679</td>\n",
       "      <td>-4.482151</td>\n",
       "    </tr>\n",
       "  </tbody>\n",
       "</table>\n",
       "</div>"
      ],
      "text/plain": [
       "     ligand  receptor  logFC_ligand  logFC_receptor\n",
       "23     PLAT     ITGAM      4.121954        1.785053\n",
       "6    ADAM28     ITGA4      1.589985       -3.419644\n",
       "30   ENTPD1    ADORA1      1.491532       -2.671909\n",
       "10     IGF1     IGF2R      1.438307       -1.958725\n",
       "4    SELPLG     ITGAM      1.371262        1.785053\n",
       "5    SELPLG      SELL      1.371262        1.505404\n",
       "3   ST6GAL1      CD22      1.370807       -3.310750\n",
       "0    ADAM10      CD44      1.012714       -4.482151\n",
       "1    ADAM10    NOTCH2      1.012714       -1.262869\n",
       "26   ADAM10    TSPAN5      1.012714        1.572209\n",
       "25   ADAM10     GPNMB      1.012714       -5.097024\n",
       "27   ADAM10     CADM1      1.012714       -3.677030\n",
       "31     PSAP    CELSR1     -1.153901       -2.870160\n",
       "29      PKM      CD44     -1.192701       -4.482151\n",
       "12    CALCB     VIPR1     -1.379721        1.844850\n",
       "11    CALCB     ADRB2     -1.379721        1.389325\n",
       "14      HGF      CD44     -1.561413       -4.482151\n",
       "13      HGF      NRP1     -1.561413       -1.599469\n",
       "15      HGF      SDC2     -1.561413       -3.468615\n",
       "18      HGF      ST14     -1.561413       -3.020606\n",
       "24     APOE     ABCA1     -1.896274       -3.006473\n",
       "8      APOE      SDC2     -1.896274       -3.468615\n",
       "9      APOE    SCARB1     -1.896274       -1.294590\n",
       "17     APOE     SORL1     -1.896274        1.181869\n",
       "2   TNFSF14  TNFRSF14     -2.090099       -3.037222\n",
       "7    COL4A2      CD44     -2.453548       -4.482151\n",
       "32  RARRES1      NRP2     -2.621872       -1.412833\n",
       "33     CSF1    CSF2RA     -2.814963        1.452546\n",
       "20    F13A1     ITGA9     -3.602520        1.270253\n",
       "19    F13A1     ITGA4     -3.602520       -3.419644\n",
       "16   LGALS1      CD69     -3.791554        2.994695\n",
       "21     PLTP     ABCA1     -3.926011       -3.006473\n",
       "22      VIM      CD44     -4.018400       -4.482151\n",
       "28      LPL      CD44     -4.584679       -4.482151"
      ]
     },
     "execution_count": 124,
     "metadata": {},
     "output_type": "execute_result"
    }
   ],
   "source": [
    "# Step 1: Convert ligands and receptors to a list\n",
    "ligands = lr_pairs['ligand'].tolist()\n",
    "receptors = lr_pairs['receptor'].tolist()\n",
    "\n",
    "# Step 2: Filter DEGs from 'sigs'\n",
    "degs = set(sigs['gene'])  # Create a set for faster lookup\n",
    "\n",
    "# Step 3: Check which ligand-receptor pairs have both ligands and receptors as DEGs\n",
    "matched_pairs = lr_pairs[(lr_pairs['ligand'].isin(degs)) & (lr_pairs['receptor'].isin(degs))]\n",
    "\n",
    "# Step 4: Count the matched pairs\n",
    "num_matched_pairs = matched_pairs.shape[0]\n",
    "\n",
    "# Output the result\n",
    "print(f'Total ligand-receptor pairs where both are differentially expressed: {num_matched_pairs}')\n",
    "\n",
    "# Step 5: Optional - view the matched pairs with direction of change\n",
    "matched_pairs_with_logFC = matched_pairs.merge(sigs[['gene', 'logFC']], left_on='ligand', right_on='gene', how='left')\\\n",
    "                                        .merge(sigs[['gene', 'logFC']], left_on='receptor', right_on='gene', how='left', suffixes=('_ligand', '_receptor'))\n",
    "\n",
    "# Sorting the table by 'logFC_ligand' in descending order\n",
    "sorted_table = matched_pairs_with_logFC.sort_values(by='logFC_ligand', ascending=False)\n",
    "\n",
    "# Displaying the sorted table with the selected columns\n",
    "sorted_table[['ligand', 'receptor', 'logFC_ligand', 'logFC_receptor']]"
   ]
  },
  {
   "cell_type": "code",
   "execution_count": 125,
   "id": "e55bcd09",
   "metadata": {},
   "outputs": [
    {
     "data": {
      "text/plain": [
       "(739, 9)"
      ]
     },
     "execution_count": 125,
     "metadata": {},
     "output_type": "execute_result"
    }
   ],
   "source": [
    "sigs_up = tt_dream[(tt_dream.Padj < 0.05) & (tt_dream.logFC <= -1)]\n",
    "sigs_up.shape"
   ]
  },
  {
   "cell_type": "code",
   "execution_count": 126,
   "id": "5927bc9d",
   "metadata": {},
   "outputs": [
    {
     "name": "stdout",
     "output_type": "stream",
     "text": [
      "Total ligand-receptor pairs where both are differentially expressed: 16\n"
     ]
    },
    {
     "data": {
      "text/html": [
       "<div>\n",
       "<style scoped>\n",
       "    .dataframe tbody tr th:only-of-type {\n",
       "        vertical-align: middle;\n",
       "    }\n",
       "\n",
       "    .dataframe tbody tr th {\n",
       "        vertical-align: top;\n",
       "    }\n",
       "\n",
       "    .dataframe thead th {\n",
       "        text-align: right;\n",
       "    }\n",
       "</style>\n",
       "<table border=\"1\" class=\"dataframe\">\n",
       "  <thead>\n",
       "    <tr style=\"text-align: right;\">\n",
       "      <th></th>\n",
       "      <th>ligand</th>\n",
       "      <th>receptor</th>\n",
       "      <th>logFC_ligand</th>\n",
       "      <th>logFC_receptor</th>\n",
       "    </tr>\n",
       "  </thead>\n",
       "  <tbody>\n",
       "    <tr>\n",
       "      <th>14</th>\n",
       "      <td>PSAP</td>\n",
       "      <td>CELSR1</td>\n",
       "      <td>-1.153901</td>\n",
       "      <td>-2.870160</td>\n",
       "    </tr>\n",
       "    <tr>\n",
       "      <th>13</th>\n",
       "      <td>PKM</td>\n",
       "      <td>CD44</td>\n",
       "      <td>-1.192701</td>\n",
       "      <td>-4.482151</td>\n",
       "    </tr>\n",
       "    <tr>\n",
       "      <th>7</th>\n",
       "      <td>HGF</td>\n",
       "      <td>ST14</td>\n",
       "      <td>-1.561413</td>\n",
       "      <td>-3.020606</td>\n",
       "    </tr>\n",
       "    <tr>\n",
       "      <th>6</th>\n",
       "      <td>HGF</td>\n",
       "      <td>SDC2</td>\n",
       "      <td>-1.561413</td>\n",
       "      <td>-3.468615</td>\n",
       "    </tr>\n",
       "    <tr>\n",
       "      <th>5</th>\n",
       "      <td>HGF</td>\n",
       "      <td>CD44</td>\n",
       "      <td>-1.561413</td>\n",
       "      <td>-4.482151</td>\n",
       "    </tr>\n",
       "    <tr>\n",
       "      <th>4</th>\n",
       "      <td>HGF</td>\n",
       "      <td>NRP1</td>\n",
       "      <td>-1.561413</td>\n",
       "      <td>-1.599469</td>\n",
       "    </tr>\n",
       "    <tr>\n",
       "      <th>2</th>\n",
       "      <td>APOE</td>\n",
       "      <td>SDC2</td>\n",
       "      <td>-1.896274</td>\n",
       "      <td>-3.468615</td>\n",
       "    </tr>\n",
       "    <tr>\n",
       "      <th>3</th>\n",
       "      <td>APOE</td>\n",
       "      <td>SCARB1</td>\n",
       "      <td>-1.896274</td>\n",
       "      <td>-1.294590</td>\n",
       "    </tr>\n",
       "    <tr>\n",
       "      <th>11</th>\n",
       "      <td>APOE</td>\n",
       "      <td>ABCA1</td>\n",
       "      <td>-1.896274</td>\n",
       "      <td>-3.006473</td>\n",
       "    </tr>\n",
       "    <tr>\n",
       "      <th>0</th>\n",
       "      <td>TNFSF14</td>\n",
       "      <td>TNFRSF14</td>\n",
       "      <td>-2.090099</td>\n",
       "      <td>-3.037222</td>\n",
       "    </tr>\n",
       "    <tr>\n",
       "      <th>1</th>\n",
       "      <td>COL4A2</td>\n",
       "      <td>CD44</td>\n",
       "      <td>-2.453548</td>\n",
       "      <td>-4.482151</td>\n",
       "    </tr>\n",
       "    <tr>\n",
       "      <th>15</th>\n",
       "      <td>RARRES1</td>\n",
       "      <td>NRP2</td>\n",
       "      <td>-2.621872</td>\n",
       "      <td>-1.412833</td>\n",
       "    </tr>\n",
       "    <tr>\n",
       "      <th>8</th>\n",
       "      <td>F13A1</td>\n",
       "      <td>ITGA4</td>\n",
       "      <td>-3.602520</td>\n",
       "      <td>-3.419644</td>\n",
       "    </tr>\n",
       "    <tr>\n",
       "      <th>9</th>\n",
       "      <td>PLTP</td>\n",
       "      <td>ABCA1</td>\n",
       "      <td>-3.926011</td>\n",
       "      <td>-3.006473</td>\n",
       "    </tr>\n",
       "    <tr>\n",
       "      <th>10</th>\n",
       "      <td>VIM</td>\n",
       "      <td>CD44</td>\n",
       "      <td>-4.018400</td>\n",
       "      <td>-4.482151</td>\n",
       "    </tr>\n",
       "    <tr>\n",
       "      <th>12</th>\n",
       "      <td>LPL</td>\n",
       "      <td>CD44</td>\n",
       "      <td>-4.584679</td>\n",
       "      <td>-4.482151</td>\n",
       "    </tr>\n",
       "  </tbody>\n",
       "</table>\n",
       "</div>"
      ],
      "text/plain": [
       "     ligand  receptor  logFC_ligand  logFC_receptor\n",
       "14     PSAP    CELSR1     -1.153901       -2.870160\n",
       "13      PKM      CD44     -1.192701       -4.482151\n",
       "7       HGF      ST14     -1.561413       -3.020606\n",
       "6       HGF      SDC2     -1.561413       -3.468615\n",
       "5       HGF      CD44     -1.561413       -4.482151\n",
       "4       HGF      NRP1     -1.561413       -1.599469\n",
       "2      APOE      SDC2     -1.896274       -3.468615\n",
       "3      APOE    SCARB1     -1.896274       -1.294590\n",
       "11     APOE     ABCA1     -1.896274       -3.006473\n",
       "0   TNFSF14  TNFRSF14     -2.090099       -3.037222\n",
       "1    COL4A2      CD44     -2.453548       -4.482151\n",
       "15  RARRES1      NRP2     -2.621872       -1.412833\n",
       "8     F13A1     ITGA4     -3.602520       -3.419644\n",
       "9      PLTP     ABCA1     -3.926011       -3.006473\n",
       "10      VIM      CD44     -4.018400       -4.482151\n",
       "12      LPL      CD44     -4.584679       -4.482151"
      ]
     },
     "execution_count": 126,
     "metadata": {},
     "output_type": "execute_result"
    }
   ],
   "source": [
    "# Step 1: Convert ligands and receptors to a list\n",
    "ligands = lr_pairs['ligand'].tolist()\n",
    "receptors = lr_pairs['receptor'].tolist()\n",
    "\n",
    "# Step 2: Filter DEGs from 'sigs'\n",
    "degs = set(sigs_up['gene'])  # Create a set for faster lookup\n",
    "\n",
    "# Step 3: Check which ligand-receptor pairs have both ligands and receptors as DEGs\n",
    "matched_pairs = lr_pairs[(lr_pairs['ligand'].isin(degs)) & (lr_pairs['receptor'].isin(degs))]\n",
    "\n",
    "# Step 4: Count the matched pairs\n",
    "num_matched_pairs = matched_pairs.shape[0]\n",
    "\n",
    "# Output the result\n",
    "print(f'Total ligand-receptor pairs where both are differentially expressed: {num_matched_pairs}')\n",
    "\n",
    "# Step 5: Optional - view the matched pairs with direction of change\n",
    "matched_pairs_with_logFC = matched_pairs.merge(sigs[['gene', 'logFC']], left_on='ligand', right_on='gene', how='left')\\\n",
    "                                        .merge(sigs[['gene', 'logFC']], left_on='receptor', right_on='gene', how='left', suffixes=('_ligand', '_receptor'))\n",
    "\n",
    "# Sorting the table by 'logFC_ligand' in descending order\n",
    "sorted_table = matched_pairs_with_logFC.sort_values(by='logFC_ligand', ascending=False)\n",
    "\n",
    "# Displaying the sorted table with the selected columns\n",
    "sorted_table[['ligand', 'receptor', 'logFC_ligand', 'logFC_receptor']]"
   ]
  },
  {
   "cell_type": "code",
   "execution_count": null,
   "id": "76840a9d",
   "metadata": {},
   "outputs": [],
   "source": [
    "#sorted_table[['ligand', 'receptor', 'logFC_ligand', 'logFC_receptor']].to_csv('./files/LR_pairs_MG_active_AL_CAL_DESIGN_NEW.csv', sep='\\t', index=False)"
   ]
  }
 ],
 "metadata": {
  "kernelspec": {
   "display_name": "Python 3 (ipykernel)",
   "language": "python",
   "name": "python3"
  },
  "language_info": {
   "codemirror_mode": {
    "name": "ipython",
    "version": 3
   },
   "file_extension": ".py",
   "mimetype": "text/x-python",
   "name": "python",
   "nbconvert_exporter": "python",
   "pygments_lexer": "ipython3",
   "version": "3.11.11"
  }
 },
 "nbformat": 4,
 "nbformat_minor": 5
}

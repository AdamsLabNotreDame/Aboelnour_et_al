{
 "cells": [
  {
   "cell_type": "code",
   "execution_count": 1,
   "id": "a4107cb9",
   "metadata": {},
   "outputs": [],
   "source": [
    "import warnings\n",
    "\n",
    "warnings.filterwarnings(\"ignore\")\n",
    "\n",
    "import matplotlib.pyplot as plt\n",
    "import seaborn as sns\n",
    "import scanpy as sc\n",
    "import pandas as pd\n",
    "import numpy as np\n",
    "import random\n",
    "import sc_toolbox\n",
    "import pertpy \n",
    "\n",
    "import rpy2.rinterface_lib.callbacks\n",
    "import anndata2ri\n",
    "import logging\n",
    "\n",
    "from rpy2.robjects import pandas2ri\n",
    "from rpy2.robjects import r\n",
    "\n",
    "sc.settings.verbosity = 0\n",
    "rpy2.rinterface_lib.callbacks.logger.setLevel(logging.ERROR)\n",
    "\n",
    "pandas2ri.activate()\n",
    "anndata2ri.activate()\n",
    "\n",
    "%load_ext rpy2.ipython"
   ]
  },
  {
   "cell_type": "code",
   "execution_count": 2,
   "id": "cd2ae648",
   "metadata": {},
   "outputs": [
    {
     "data": {
      "text/plain": [
       "Loading required package: ggplot2\n",
       "Loading required package: limma\n",
       "Loading required package: BiocParallel\n",
       "\n",
       "Attaching package: ‘variancePartition’\n",
       "\n",
       "The following object is masked from ‘package:limma’:\n",
       "\n",
       "    topTable\n",
       "\n"
      ]
     },
     "metadata": {},
     "output_type": "display_data"
    }
   ],
   "source": [
    "%%R\n",
    "\n",
    "library(\"variancePartition\")\n",
    "library(\"edgeR\")\n",
    "library(\"BiocParallel\")"
   ]
  },
  {
   "cell_type": "markdown",
   "id": "2acfc23f",
   "metadata": {},
   "source": [
    "# Identify outliers"
   ]
  },
  {
   "cell_type": "code",
   "execution_count": 3,
   "id": "1c0c911f",
   "metadata": {},
   "outputs": [
    {
     "data": {
      "text/plain": [
       "AnnData object with n_obs × n_vars = 561 × 27766\n",
       "    obs: 'sample', 'sample_lesion', 'diagnosis', 'sample_source', 'cell_type', 'sample_rep', 'replicate_cat', 'stim', 'sex', 'seq_pool', 'age_scale', 'age_cat', 'pmi_cat', 'pmi_cat2', 'batch', 'lib_size', 'log_lib_size'\n",
       "    uns: 'age_cat_colors', 'cell_type_colors', 'diagnosis_colors', 'log1p', 'pca', 'pmi_cat2_colors', 'pmi_cat_colors', 'sample_source_colors', 'seq_pool_colors', 'sex_colors', 'stim_colors'\n",
       "    obsm: 'X_pca'\n",
       "    varm: 'PCs'\n",
       "    layers: 'counts'"
      ]
     },
     "execution_count": 3,
     "metadata": {},
     "output_type": "execute_result"
    }
   ],
   "source": [
    "adata_pb = sc.read('./pb_adata_DAO_combined.h5ad')\n",
    "adata_pb"
   ]
  },
  {
   "cell_type": "code",
   "execution_count": 4,
   "id": "c20696b7",
   "metadata": {},
   "outputs": [],
   "source": [
    "adata_pb.obs['cell_stim'] = adata_pb.obs['cell_type'].astype(str) + '_' + adata_pb.obs['stim'].astype(str)"
   ]
  },
  {
   "cell_type": "code",
   "execution_count": 5,
   "id": "bc28c026",
   "metadata": {},
   "outputs": [
    {
     "name": "stdout",
     "output_type": "stream",
     "text": [
      "Median: 13.570506037420834, MAD: 1.1301164955338834\n",
      "Lower threshold: 10.180156550819184\n",
      "Outliers:\n",
      "                                            sample        sample_lesion  \\\n",
      "donor_Ind127-Sample2_0-1-0-0-0-0-0  Ind127-Sample2   Ind127-Sample2_CAL   \n",
      "donor_Ind130-Sample4_0-1-0-0-0-0-0  Ind130-Sample4  Ind130-Sample4_NAWM   \n",
      "donor_Ind122-Sample1_0-1-0-0        Ind122-Sample1    Ind122-Sample1_AL   \n",
      "donor_Ind127-Sample2_0-1-0-0        Ind127-Sample2   Ind127-Sample2_CAL   \n",
      "donor_Ind147-Sample1_0-1-0-0        Ind147-Sample1    Ind147-Sample1_RL   \n",
      "donor_Ind102-Sample1_0-1-0          Ind102-Sample1    Ind102-Sample1_AL   \n",
      "donor_Ind114-Sample1_0-1-0          Ind114-Sample1    Ind114-Sample1_AL   \n",
      "donor_Ind127-Sample1_0-1-0          Ind127-Sample1    Ind127-Sample1_AL   \n",
      "donor_Ind137-Sample1_0-1-0          Ind137-Sample1   Ind137-Sample1_CAL   \n",
      "donor_Ind120-Sample1_0-1            Ind120-Sample1   Ind120-Sample1_CAL   \n",
      "donor_Ind147-Sample1_0-1            Ind147-Sample1    Ind147-Sample1_RL   \n",
      "\n",
      "                                   diagnosis sample_source cell_type  \\\n",
      "donor_Ind127-Sample2_0-1-0-0-0-0-0      PPMS  Amsterdam BB     MOL_A   \n",
      "donor_Ind130-Sample4_0-1-0-0-0-0-0      SPMS  Amsterdam BB     MOL_A   \n",
      "donor_Ind122-Sample1_0-1-0-0            PPMS  Amsterdam BB     MOL_D   \n",
      "donor_Ind127-Sample2_0-1-0-0            PPMS  Amsterdam BB     MOL_D   \n",
      "donor_Ind147-Sample1_0-1-0-0            SPMS  Amsterdam BB     MOL_D   \n",
      "donor_Ind102-Sample1_0-1-0              SPMS  Amsterdam BB     MOL_E   \n",
      "donor_Ind114-Sample1_0-1-0              SPMS  Amsterdam BB     MOL_E   \n",
      "donor_Ind127-Sample1_0-1-0              PPMS  Amsterdam BB     MOL_E   \n",
      "donor_Ind137-Sample1_0-1-0              SPMS  Amsterdam BB     MOL_E   \n",
      "donor_Ind120-Sample1_0-1                SPMS  Amsterdam BB       DAO   \n",
      "donor_Ind147-Sample1_0-1                SPMS  Amsterdam BB       DAO   \n",
      "\n",
      "                                   sample_rep replicate_cat  stim sex  \\\n",
      "donor_Ind127-Sample2_0-1-0-0-0-0-0      CAL_9             9   CAL   F   \n",
      "donor_Ind130-Sample4_0-1-0-0-0-0-0    NAWM_12            12  NAWM   F   \n",
      "donor_Ind122-Sample1_0-1-0-0            AL_11            11    AL   F   \n",
      "donor_Ind127-Sample2_0-1-0-0            CAL_9             9   CAL   F   \n",
      "donor_Ind147-Sample1_0-1-0-0            RL_11            11    RL   F   \n",
      "donor_Ind102-Sample1_0-1-0               AL_1             1    AL   M   \n",
      "donor_Ind114-Sample1_0-1-0               AL_7             7    AL   F   \n",
      "donor_Ind127-Sample1_0-1-0              AL_13            13    AL   F   \n",
      "donor_Ind137-Sample1_0-1-0             CAL_15            15   CAL   M   \n",
      "donor_Ind120-Sample1_0-1                CAL_5             5   CAL   M   \n",
      "donor_Ind147-Sample1_0-1                RL_11            11    RL   F   \n",
      "\n",
      "                                   seq_pool age_scale    age_cat    pmi_cat  \\\n",
      "donor_Ind127-Sample2_0-1-0-0-0-0-0   Pool 3 -1.347464   under_50  6H_to_12H   \n",
      "donor_Ind130-Sample4_0-1-0-0-0-0-0   Pool 4 -1.278757   under_50  6H_to_12H   \n",
      "donor_Ind122-Sample1_0-1-0-0         Pool 3 -0.797809   under_50  6H_to_12H   \n",
      "donor_Ind127-Sample2_0-1-0-0         Pool 3 -1.347464   under_50  6H_to_12H   \n",
      "donor_Ind147-Sample1_0-1-0-0         Pool 1  0.370209  inbetween  6H_to_12H   \n",
      "donor_Ind102-Sample1_0-1-0           Pool 4  0.301502  inbetween  6H_to_12H   \n",
      "donor_Ind114-Sample1_0-1-0           Pool 2 -1.347464   under_50  6H_to_12H   \n",
      "donor_Ind127-Sample1_0-1-0           Pool 3 -1.347464   under_50  6H_to_12H   \n",
      "donor_Ind137-Sample1_0-1-0           Pool 2 -0.935223   under_50   up_to_6H   \n",
      "donor_Ind120-Sample1_0-1             Pool 1  0.713744    over_70  6H_to_12H   \n",
      "donor_Ind147-Sample1_0-1             Pool 1  0.370209  inbetween  6H_to_12H   \n",
      "\n",
      "                                     pmi_cat2 batch  lib_size  log_lib_size  \\\n",
      "donor_Ind127-Sample2_0-1-0-0-0-0-0  up_to_12H     0     22150     10.005593   \n",
      "donor_Ind130-Sample4_0-1-0-0-0-0-0  up_to_12H     0     19212      9.863290   \n",
      "donor_Ind122-Sample1_0-1-0-0        up_to_12H     0     23618     10.069764   \n",
      "donor_Ind127-Sample2_0-1-0-0        up_to_12H     0     20695      9.937647   \n",
      "donor_Ind147-Sample1_0-1-0-0        up_to_12H     0     25100     10.130623   \n",
      "donor_Ind102-Sample1_0-1-0          up_to_12H     0     21630      9.981837   \n",
      "donor_Ind114-Sample1_0-1-0          up_to_12H     0     13152      9.484329   \n",
      "donor_Ind127-Sample1_0-1-0          up_to_12H     0     25630     10.151519   \n",
      "donor_Ind137-Sample1_0-1-0          up_to_12H     0     18989      9.851615   \n",
      "donor_Ind120-Sample1_0-1            up_to_12H     1     13015      9.473858   \n",
      "donor_Ind147-Sample1_0-1            up_to_12H     1     17515      9.770813   \n",
      "\n",
      "                                     cell_stim  \n",
      "donor_Ind127-Sample2_0-1-0-0-0-0-0   MOL_A_CAL  \n",
      "donor_Ind130-Sample4_0-1-0-0-0-0-0  MOL_A_NAWM  \n",
      "donor_Ind122-Sample1_0-1-0-0          MOL_D_AL  \n",
      "donor_Ind127-Sample2_0-1-0-0         MOL_D_CAL  \n",
      "donor_Ind147-Sample1_0-1-0-0          MOL_D_RL  \n",
      "donor_Ind102-Sample1_0-1-0            MOL_E_AL  \n",
      "donor_Ind114-Sample1_0-1-0            MOL_E_AL  \n",
      "donor_Ind127-Sample1_0-1-0            MOL_E_AL  \n",
      "donor_Ind137-Sample1_0-1-0           MOL_E_CAL  \n",
      "donor_Ind120-Sample1_0-1               DAO_CAL  \n",
      "donor_Ind147-Sample1_0-1                DAO_RL  \n"
     ]
    }
   ],
   "source": [
    "# Extract the log_lib_size column\n",
    "log_lib_size = adata_pb.obs['log_lib_size']\n",
    "\n",
    "# Compute the median\n",
    "median = np.median(log_lib_size)\n",
    "\n",
    "# Compute the MAD (Median Absolute Deviation)\n",
    "mad = np.median(np.abs(log_lib_size - median))\n",
    "\n",
    "# Define the upper and lower thresholds\n",
    "upper_threshold = median + 3 * mad\n",
    "lower_threshold = median - 3 * mad\n",
    "\n",
    "# Find outliers\n",
    "outliers = adata_pb.obs[(log_lib_size < lower_threshold)]\n",
    "\n",
    "# Print the results\n",
    "print(f\"Median: {median}, MAD: {mad}\")\n",
    "print(f\"Lower threshold: {lower_threshold}\")\n",
    "print(f\"Outliers:\\n{outliers}\")"
   ]
  },
  {
   "cell_type": "code",
   "execution_count": 6,
   "id": "3b765eb8",
   "metadata": {},
   "outputs": [
    {
     "name": "stdout",
     "output_type": "stream",
     "text": [
      "Maximum log_lib_size: 17.05357717593746\n",
      "Minimum log_lib_size: 9.473857817428666\n"
     ]
    }
   ],
   "source": [
    "# Compute the max and min log_lib_size\n",
    "max_log_lib_size = log_lib_size.max()\n",
    "min_log_lib_size = log_lib_size.min()\n",
    "\n",
    "print(f\"Maximum log_lib_size: {max_log_lib_size}\")\n",
    "print(f\"Minimum log_lib_size: {min_log_lib_size}\")"
   ]
  },
  {
   "cell_type": "code",
   "execution_count": 7,
   "id": "3ee72b79",
   "metadata": {},
   "outputs": [
    {
     "name": "stdout",
     "output_type": "stream",
     "text": [
      "All samples: 561\n"
     ]
    }
   ],
   "source": [
    "print(f\"All samples: {adata_pb.shape[0]}\")"
   ]
  },
  {
   "cell_type": "code",
   "execution_count": 8,
   "id": "dc093866",
   "metadata": {},
   "outputs": [
    {
     "data": {
      "text/html": [
       "<div>\n",
       "<style scoped>\n",
       "    .dataframe tbody tr th:only-of-type {\n",
       "        vertical-align: middle;\n",
       "    }\n",
       "\n",
       "    .dataframe tbody tr th {\n",
       "        vertical-align: top;\n",
       "    }\n",
       "\n",
       "    .dataframe thead th {\n",
       "        text-align: right;\n",
       "    }\n",
       "</style>\n",
       "<table border=\"1\" class=\"dataframe\">\n",
       "  <thead>\n",
       "    <tr style=\"text-align: right;\">\n",
       "      <th>stim</th>\n",
       "      <th>AL</th>\n",
       "      <th>CAL</th>\n",
       "      <th>CIL</th>\n",
       "      <th>NAWM</th>\n",
       "      <th>RL</th>\n",
       "      <th>WM</th>\n",
       "    </tr>\n",
       "    <tr>\n",
       "      <th>cell_type</th>\n",
       "      <th></th>\n",
       "      <th></th>\n",
       "      <th></th>\n",
       "      <th></th>\n",
       "      <th></th>\n",
       "      <th></th>\n",
       "    </tr>\n",
       "  </thead>\n",
       "  <tbody>\n",
       "    <tr>\n",
       "      <th>COPs</th>\n",
       "      <td>1</td>\n",
       "      <td>0</td>\n",
       "      <td>2</td>\n",
       "      <td>1</td>\n",
       "      <td>1</td>\n",
       "      <td>0</td>\n",
       "    </tr>\n",
       "    <tr>\n",
       "      <th>DAO</th>\n",
       "      <td>19</td>\n",
       "      <td>15</td>\n",
       "      <td>12</td>\n",
       "      <td>16</td>\n",
       "      <td>10</td>\n",
       "      <td>8</td>\n",
       "    </tr>\n",
       "    <tr>\n",
       "      <th>MOL_A</th>\n",
       "      <td>19</td>\n",
       "      <td>16</td>\n",
       "      <td>12</td>\n",
       "      <td>17</td>\n",
       "      <td>11</td>\n",
       "      <td>13</td>\n",
       "    </tr>\n",
       "    <tr>\n",
       "      <th>MOL_B</th>\n",
       "      <td>20</td>\n",
       "      <td>16</td>\n",
       "      <td>13</td>\n",
       "      <td>17</td>\n",
       "      <td>11</td>\n",
       "      <td>13</td>\n",
       "    </tr>\n",
       "    <tr>\n",
       "      <th>MOL_C</th>\n",
       "      <td>21</td>\n",
       "      <td>16</td>\n",
       "      <td>13</td>\n",
       "      <td>17</td>\n",
       "      <td>11</td>\n",
       "      <td>13</td>\n",
       "    </tr>\n",
       "    <tr>\n",
       "      <th>MOL_D</th>\n",
       "      <td>18</td>\n",
       "      <td>14</td>\n",
       "      <td>10</td>\n",
       "      <td>14</td>\n",
       "      <td>11</td>\n",
       "      <td>10</td>\n",
       "    </tr>\n",
       "    <tr>\n",
       "      <th>MOL_E</th>\n",
       "      <td>9</td>\n",
       "      <td>7</td>\n",
       "      <td>4</td>\n",
       "      <td>9</td>\n",
       "      <td>6</td>\n",
       "      <td>5</td>\n",
       "    </tr>\n",
       "    <tr>\n",
       "      <th>OPCs</th>\n",
       "      <td>21</td>\n",
       "      <td>17</td>\n",
       "      <td>12</td>\n",
       "      <td>17</td>\n",
       "      <td>10</td>\n",
       "      <td>13</td>\n",
       "    </tr>\n",
       "  </tbody>\n",
       "</table>\n",
       "</div>"
      ],
      "text/plain": [
       "stim       AL  CAL  CIL  NAWM  RL  WM\n",
       "cell_type                            \n",
       "COPs        1    0    2     1   1   0\n",
       "DAO        19   15   12    16  10   8\n",
       "MOL_A      19   16   12    17  11  13\n",
       "MOL_B      20   16   13    17  11  13\n",
       "MOL_C      21   16   13    17  11  13\n",
       "MOL_D      18   14   10    14  11  10\n",
       "MOL_E       9    7    4     9   6   5\n",
       "OPCs       21   17   12    17  10  13"
      ]
     },
     "execution_count": 8,
     "metadata": {},
     "output_type": "execute_result"
    }
   ],
   "source": [
    "# Extract the data as a pandas DataFrame\n",
    "df = adata_pb.obs[['cell_type', 'stim']]\n",
    "\n",
    "# Create a summary table\n",
    "summary_table = df.groupby(['cell_type', 'stim']).size().unstack(fill_value=0)\n",
    "summary_table"
   ]
  },
  {
   "cell_type": "code",
   "execution_count": 9,
   "id": "ca3eea9c",
   "metadata": {},
   "outputs": [
    {
     "name": "stdout",
     "output_type": "stream",
     "text": [
      "Remaining samples: 550\n"
     ]
    }
   ],
   "source": [
    "# Define the list of samples to remove\n",
    "samples_to_remove = [\n",
    "    'donor_Ind127-Sample2_0-1-0-0-0-0-0',\n",
    "    'donor_Ind130-Sample4_0-1-0-0-0-0-0', \n",
    "    'donor_Ind122-Sample1_0-1-0-0',        \n",
    "    'donor_Ind127-Sample2_0-1-0-0',           \n",
    "    'donor_Ind147-Sample1_0-1-0-0',            \n",
    "    'donor_Ind102-Sample1_0-1-0',              \n",
    "    'donor_Ind114-Sample1_0-1-0',              \n",
    "    'donor_Ind127-Sample1_0-1-0',              \n",
    "    'donor_Ind137-Sample1_0-1-0',             \n",
    "    'donor_Ind120-Sample1_0-1',                 \n",
    "    'donor_Ind147-Sample1_0-1'                  \n",
    "]\n",
    "\n",
    "# Filter out the samples to remove\n",
    "adata_pb = adata_pb[~adata_pb.obs.index.isin(samples_to_remove)].copy()\n",
    "\n",
    "# Confirm removal\n",
    "print(f\"Remaining samples: {adata_pb.shape[0]}\")"
   ]
  },
  {
   "cell_type": "code",
   "execution_count": 10,
   "id": "44e6522e",
   "metadata": {},
   "outputs": [
    {
     "data": {
      "text/html": [
       "<div>\n",
       "<style scoped>\n",
       "    .dataframe tbody tr th:only-of-type {\n",
       "        vertical-align: middle;\n",
       "    }\n",
       "\n",
       "    .dataframe tbody tr th {\n",
       "        vertical-align: top;\n",
       "    }\n",
       "\n",
       "    .dataframe thead th {\n",
       "        text-align: right;\n",
       "    }\n",
       "</style>\n",
       "<table border=\"1\" class=\"dataframe\">\n",
       "  <thead>\n",
       "    <tr style=\"text-align: right;\">\n",
       "      <th>stim</th>\n",
       "      <th>AL</th>\n",
       "      <th>CAL</th>\n",
       "      <th>CIL</th>\n",
       "      <th>NAWM</th>\n",
       "      <th>RL</th>\n",
       "      <th>WM</th>\n",
       "    </tr>\n",
       "    <tr>\n",
       "      <th>cell_type</th>\n",
       "      <th></th>\n",
       "      <th></th>\n",
       "      <th></th>\n",
       "      <th></th>\n",
       "      <th></th>\n",
       "      <th></th>\n",
       "    </tr>\n",
       "  </thead>\n",
       "  <tbody>\n",
       "    <tr>\n",
       "      <th>COPs</th>\n",
       "      <td>1</td>\n",
       "      <td>0</td>\n",
       "      <td>2</td>\n",
       "      <td>1</td>\n",
       "      <td>1</td>\n",
       "      <td>0</td>\n",
       "    </tr>\n",
       "    <tr>\n",
       "      <th>DAO</th>\n",
       "      <td>19</td>\n",
       "      <td>14</td>\n",
       "      <td>12</td>\n",
       "      <td>16</td>\n",
       "      <td>9</td>\n",
       "      <td>8</td>\n",
       "    </tr>\n",
       "    <tr>\n",
       "      <th>MOL_A</th>\n",
       "      <td>19</td>\n",
       "      <td>15</td>\n",
       "      <td>12</td>\n",
       "      <td>16</td>\n",
       "      <td>11</td>\n",
       "      <td>13</td>\n",
       "    </tr>\n",
       "    <tr>\n",
       "      <th>MOL_B</th>\n",
       "      <td>20</td>\n",
       "      <td>16</td>\n",
       "      <td>13</td>\n",
       "      <td>17</td>\n",
       "      <td>11</td>\n",
       "      <td>13</td>\n",
       "    </tr>\n",
       "    <tr>\n",
       "      <th>MOL_C</th>\n",
       "      <td>21</td>\n",
       "      <td>16</td>\n",
       "      <td>13</td>\n",
       "      <td>17</td>\n",
       "      <td>11</td>\n",
       "      <td>13</td>\n",
       "    </tr>\n",
       "    <tr>\n",
       "      <th>MOL_D</th>\n",
       "      <td>17</td>\n",
       "      <td>13</td>\n",
       "      <td>10</td>\n",
       "      <td>14</td>\n",
       "      <td>10</td>\n",
       "      <td>10</td>\n",
       "    </tr>\n",
       "    <tr>\n",
       "      <th>MOL_E</th>\n",
       "      <td>6</td>\n",
       "      <td>6</td>\n",
       "      <td>4</td>\n",
       "      <td>9</td>\n",
       "      <td>6</td>\n",
       "      <td>5</td>\n",
       "    </tr>\n",
       "    <tr>\n",
       "      <th>OPCs</th>\n",
       "      <td>21</td>\n",
       "      <td>17</td>\n",
       "      <td>12</td>\n",
       "      <td>17</td>\n",
       "      <td>10</td>\n",
       "      <td>13</td>\n",
       "    </tr>\n",
       "  </tbody>\n",
       "</table>\n",
       "</div>"
      ],
      "text/plain": [
       "stim       AL  CAL  CIL  NAWM  RL  WM\n",
       "cell_type                            \n",
       "COPs        1    0    2     1   1   0\n",
       "DAO        19   14   12    16   9   8\n",
       "MOL_A      19   15   12    16  11  13\n",
       "MOL_B      20   16   13    17  11  13\n",
       "MOL_C      21   16   13    17  11  13\n",
       "MOL_D      17   13   10    14  10  10\n",
       "MOL_E       6    6    4     9   6   5\n",
       "OPCs       21   17   12    17  10  13"
      ]
     },
     "execution_count": 10,
     "metadata": {},
     "output_type": "execute_result"
    }
   ],
   "source": [
    "# Extract the data as a pandas DataFrame\n",
    "df = adata_pb.obs[['cell_type', 'stim']]\n",
    "\n",
    "# Create a summary table\n",
    "summary_table = df.groupby(['cell_type', 'stim']).size().unstack(fill_value=0)\n",
    "summary_table"
   ]
  },
  {
   "cell_type": "markdown",
   "id": "275e3a8d",
   "metadata": {},
   "source": [
    "# Subset to relevant comparison "
   ]
  },
  {
   "cell_type": "code",
   "execution_count": 11,
   "id": "9c81bbd6",
   "metadata": {},
   "outputs": [
    {
     "data": {
      "text/html": [
       "<div>\n",
       "<style scoped>\n",
       "    .dataframe tbody tr th:only-of-type {\n",
       "        vertical-align: middle;\n",
       "    }\n",
       "\n",
       "    .dataframe tbody tr th {\n",
       "        vertical-align: top;\n",
       "    }\n",
       "\n",
       "    .dataframe thead th {\n",
       "        text-align: right;\n",
       "    }\n",
       "</style>\n",
       "<table border=\"1\" class=\"dataframe\">\n",
       "  <thead>\n",
       "    <tr style=\"text-align: right;\">\n",
       "      <th>stim</th>\n",
       "      <th>AL</th>\n",
       "      <th>CAL</th>\n",
       "      <th>CIL</th>\n",
       "      <th>NAWM</th>\n",
       "      <th>RL</th>\n",
       "      <th>WM</th>\n",
       "    </tr>\n",
       "    <tr>\n",
       "      <th>cell_type</th>\n",
       "      <th></th>\n",
       "      <th></th>\n",
       "      <th></th>\n",
       "      <th></th>\n",
       "      <th></th>\n",
       "      <th></th>\n",
       "    </tr>\n",
       "  </thead>\n",
       "  <tbody>\n",
       "    <tr>\n",
       "      <th>COPs</th>\n",
       "      <td>1</td>\n",
       "      <td>0</td>\n",
       "      <td>2</td>\n",
       "      <td>1</td>\n",
       "      <td>1</td>\n",
       "      <td>0</td>\n",
       "    </tr>\n",
       "    <tr>\n",
       "      <th>DAO</th>\n",
       "      <td>19</td>\n",
       "      <td>14</td>\n",
       "      <td>12</td>\n",
       "      <td>16</td>\n",
       "      <td>9</td>\n",
       "      <td>8</td>\n",
       "    </tr>\n",
       "    <tr>\n",
       "      <th>MOL_A</th>\n",
       "      <td>19</td>\n",
       "      <td>15</td>\n",
       "      <td>12</td>\n",
       "      <td>16</td>\n",
       "      <td>11</td>\n",
       "      <td>13</td>\n",
       "    </tr>\n",
       "    <tr>\n",
       "      <th>MOL_B</th>\n",
       "      <td>20</td>\n",
       "      <td>16</td>\n",
       "      <td>13</td>\n",
       "      <td>17</td>\n",
       "      <td>11</td>\n",
       "      <td>13</td>\n",
       "    </tr>\n",
       "    <tr>\n",
       "      <th>MOL_C</th>\n",
       "      <td>21</td>\n",
       "      <td>16</td>\n",
       "      <td>13</td>\n",
       "      <td>17</td>\n",
       "      <td>11</td>\n",
       "      <td>13</td>\n",
       "    </tr>\n",
       "    <tr>\n",
       "      <th>MOL_D</th>\n",
       "      <td>17</td>\n",
       "      <td>13</td>\n",
       "      <td>10</td>\n",
       "      <td>14</td>\n",
       "      <td>10</td>\n",
       "      <td>10</td>\n",
       "    </tr>\n",
       "    <tr>\n",
       "      <th>MOL_E</th>\n",
       "      <td>6</td>\n",
       "      <td>6</td>\n",
       "      <td>4</td>\n",
       "      <td>9</td>\n",
       "      <td>6</td>\n",
       "      <td>5</td>\n",
       "    </tr>\n",
       "    <tr>\n",
       "      <th>OPCs</th>\n",
       "      <td>21</td>\n",
       "      <td>17</td>\n",
       "      <td>12</td>\n",
       "      <td>17</td>\n",
       "      <td>10</td>\n",
       "      <td>13</td>\n",
       "    </tr>\n",
       "  </tbody>\n",
       "</table>\n",
       "</div>"
      ],
      "text/plain": [
       "stim       AL  CAL  CIL  NAWM  RL  WM\n",
       "cell_type                            \n",
       "COPs        1    0    2     1   1   0\n",
       "DAO        19   14   12    16   9   8\n",
       "MOL_A      19   15   12    16  11  13\n",
       "MOL_B      20   16   13    17  11  13\n",
       "MOL_C      21   16   13    17  11  13\n",
       "MOL_D      17   13   10    14  10  10\n",
       "MOL_E       6    6    4     9   6   5\n",
       "OPCs       21   17   12    17  10  13"
      ]
     },
     "execution_count": 11,
     "metadata": {},
     "output_type": "execute_result"
    }
   ],
   "source": [
    "# Extract the data as a pandas DataFrame\n",
    "df = adata_pb.obs[['cell_type', 'stim']]\n",
    "\n",
    "# Create a summary table\n",
    "summary_table = df.groupby(['cell_type', 'stim']).size().unstack(fill_value=0)\n",
    "summary_table"
   ]
  },
  {
   "cell_type": "code",
   "execution_count": 12,
   "id": "9e5a3fe0",
   "metadata": {},
   "outputs": [
    {
     "name": "stdout",
     "output_type": "stream",
     "text": [
      "Dimensions of adata_sub: (169, 27766)\n"
     ]
    }
   ],
   "source": [
    "adata_sub= adata_pb[np.in1d(adata_pb.obs['cell_type'], \n",
    "                           ['DAO', 'MOL_C'])].copy()\n",
    "\n",
    "print(\"Dimensions of adata_sub:\", adata_sub.shape)"
   ]
  },
  {
   "cell_type": "code",
   "execution_count": 13,
   "id": "5df79ed2",
   "metadata": {},
   "outputs": [
    {
     "data": {
      "text/html": [
       "<div>\n",
       "<style scoped>\n",
       "    .dataframe tbody tr th:only-of-type {\n",
       "        vertical-align: middle;\n",
       "    }\n",
       "\n",
       "    .dataframe tbody tr th {\n",
       "        vertical-align: top;\n",
       "    }\n",
       "\n",
       "    .dataframe thead th {\n",
       "        text-align: right;\n",
       "    }\n",
       "</style>\n",
       "<table border=\"1\" class=\"dataframe\">\n",
       "  <thead>\n",
       "    <tr style=\"text-align: right;\">\n",
       "      <th></th>\n",
       "      <th>sample</th>\n",
       "      <th>sample_lesion</th>\n",
       "      <th>diagnosis</th>\n",
       "      <th>sample_source</th>\n",
       "      <th>cell_type</th>\n",
       "      <th>sample_rep</th>\n",
       "      <th>replicate_cat</th>\n",
       "      <th>stim</th>\n",
       "      <th>sex</th>\n",
       "      <th>seq_pool</th>\n",
       "      <th>age_scale</th>\n",
       "      <th>age_cat</th>\n",
       "      <th>pmi_cat</th>\n",
       "      <th>pmi_cat2</th>\n",
       "      <th>batch</th>\n",
       "      <th>lib_size</th>\n",
       "      <th>log_lib_size</th>\n",
       "      <th>cell_stim</th>\n",
       "    </tr>\n",
       "  </thead>\n",
       "  <tbody>\n",
       "    <tr>\n",
       "      <th>donor_Ind86-Sample2_0-1-0-0-0</th>\n",
       "      <td>Ind86-Sample2</td>\n",
       "      <td>Ind86-Sample2_WM</td>\n",
       "      <td>CTR</td>\n",
       "      <td>Edinburgh BB</td>\n",
       "      <td>MOL_C</td>\n",
       "      <td>WM_2</td>\n",
       "      <td>2</td>\n",
       "      <td>WM</td>\n",
       "      <td>M</td>\n",
       "      <td>Pool 2</td>\n",
       "      <td>0.782451</td>\n",
       "      <td>over_70</td>\n",
       "      <td>over_12H</td>\n",
       "      <td>over_12H</td>\n",
       "      <td>0</td>\n",
       "      <td>228293</td>\n",
       "      <td>12.338385</td>\n",
       "      <td>MOL_C_WM</td>\n",
       "    </tr>\n",
       "    <tr>\n",
       "      <th>donor_Ind98-Sample2_0-1-0-0-0</th>\n",
       "      <td>Ind98-Sample2</td>\n",
       "      <td>Ind98-Sample2_WM</td>\n",
       "      <td>CTR</td>\n",
       "      <td>Edinburgh BB</td>\n",
       "      <td>MOL_C</td>\n",
       "      <td>WM_1</td>\n",
       "      <td>1</td>\n",
       "      <td>WM</td>\n",
       "      <td>M</td>\n",
       "      <td>Pool 6</td>\n",
       "      <td>-1.759706</td>\n",
       "      <td>under_50</td>\n",
       "      <td>over_12H</td>\n",
       "      <td>over_12H</td>\n",
       "      <td>0</td>\n",
       "      <td>1320055</td>\n",
       "      <td>14.093184</td>\n",
       "      <td>MOL_C_WM</td>\n",
       "    </tr>\n",
       "    <tr>\n",
       "      <th>donor_Ind101-Sample1_0-1-0-0-0</th>\n",
       "      <td>Ind101-Sample1</td>\n",
       "      <td>Ind101-Sample1_CIL</td>\n",
       "      <td>SPMS</td>\n",
       "      <td>UK MS TB</td>\n",
       "      <td>MOL_C</td>\n",
       "      <td>CIL_1</td>\n",
       "      <td>1</td>\n",
       "      <td>CIL</td>\n",
       "      <td>F</td>\n",
       "      <td>Pool 5</td>\n",
       "      <td>0.645037</td>\n",
       "      <td>inbetween</td>\n",
       "      <td>over_12H</td>\n",
       "      <td>over_12H</td>\n",
       "      <td>0</td>\n",
       "      <td>242916</td>\n",
       "      <td>12.400471</td>\n",
       "      <td>MOL_C_CIL</td>\n",
       "    </tr>\n",
       "    <tr>\n",
       "      <th>donor_Ind101-Sample2_0-1-0-0-0</th>\n",
       "      <td>Ind101-Sample2</td>\n",
       "      <td>Ind101-Sample2_CIL</td>\n",
       "      <td>SPMS</td>\n",
       "      <td>UK MS TB</td>\n",
       "      <td>MOL_C</td>\n",
       "      <td>CIL_2</td>\n",
       "      <td>2</td>\n",
       "      <td>CIL</td>\n",
       "      <td>F</td>\n",
       "      <td>Pool 3</td>\n",
       "      <td>0.645037</td>\n",
       "      <td>inbetween</td>\n",
       "      <td>over_12H</td>\n",
       "      <td>over_12H</td>\n",
       "      <td>0</td>\n",
       "      <td>216898</td>\n",
       "      <td>12.287182</td>\n",
       "      <td>MOL_C_CIL</td>\n",
       "    </tr>\n",
       "    <tr>\n",
       "      <th>donor_Ind101-Sample3_0-1-0-0-0</th>\n",
       "      <td>Ind101-Sample3</td>\n",
       "      <td>Ind101-Sample3_RL</td>\n",
       "      <td>SPMS</td>\n",
       "      <td>UK MS TB</td>\n",
       "      <td>MOL_C</td>\n",
       "      <td>RL_1</td>\n",
       "      <td>1</td>\n",
       "      <td>RL</td>\n",
       "      <td>F</td>\n",
       "      <td>Pool 1</td>\n",
       "      <td>0.645037</td>\n",
       "      <td>inbetween</td>\n",
       "      <td>over_12H</td>\n",
       "      <td>over_12H</td>\n",
       "      <td>0</td>\n",
       "      <td>1664982</td>\n",
       "      <td>14.325325</td>\n",
       "      <td>MOL_C_RL</td>\n",
       "    </tr>\n",
       "  </tbody>\n",
       "</table>\n",
       "</div>"
      ],
      "text/plain": [
       "                                        sample       sample_lesion diagnosis  \\\n",
       "donor_Ind86-Sample2_0-1-0-0-0    Ind86-Sample2    Ind86-Sample2_WM       CTR   \n",
       "donor_Ind98-Sample2_0-1-0-0-0    Ind98-Sample2    Ind98-Sample2_WM       CTR   \n",
       "donor_Ind101-Sample1_0-1-0-0-0  Ind101-Sample1  Ind101-Sample1_CIL      SPMS   \n",
       "donor_Ind101-Sample2_0-1-0-0-0  Ind101-Sample2  Ind101-Sample2_CIL      SPMS   \n",
       "donor_Ind101-Sample3_0-1-0-0-0  Ind101-Sample3   Ind101-Sample3_RL      SPMS   \n",
       "\n",
       "                               sample_source cell_type sample_rep  \\\n",
       "donor_Ind86-Sample2_0-1-0-0-0   Edinburgh BB     MOL_C       WM_2   \n",
       "donor_Ind98-Sample2_0-1-0-0-0   Edinburgh BB     MOL_C       WM_1   \n",
       "donor_Ind101-Sample1_0-1-0-0-0      UK MS TB     MOL_C      CIL_1   \n",
       "donor_Ind101-Sample2_0-1-0-0-0      UK MS TB     MOL_C      CIL_2   \n",
       "donor_Ind101-Sample3_0-1-0-0-0      UK MS TB     MOL_C       RL_1   \n",
       "\n",
       "                               replicate_cat stim sex seq_pool age_scale  \\\n",
       "donor_Ind86-Sample2_0-1-0-0-0              2   WM   M   Pool 2  0.782451   \n",
       "donor_Ind98-Sample2_0-1-0-0-0              1   WM   M   Pool 6 -1.759706   \n",
       "donor_Ind101-Sample1_0-1-0-0-0             1  CIL   F   Pool 5  0.645037   \n",
       "donor_Ind101-Sample2_0-1-0-0-0             2  CIL   F   Pool 3  0.645037   \n",
       "donor_Ind101-Sample3_0-1-0-0-0             1   RL   F   Pool 1  0.645037   \n",
       "\n",
       "                                  age_cat   pmi_cat  pmi_cat2 batch  lib_size  \\\n",
       "donor_Ind86-Sample2_0-1-0-0-0     over_70  over_12H  over_12H     0    228293   \n",
       "donor_Ind98-Sample2_0-1-0-0-0    under_50  over_12H  over_12H     0   1320055   \n",
       "donor_Ind101-Sample1_0-1-0-0-0  inbetween  over_12H  over_12H     0    242916   \n",
       "donor_Ind101-Sample2_0-1-0-0-0  inbetween  over_12H  over_12H     0    216898   \n",
       "donor_Ind101-Sample3_0-1-0-0-0  inbetween  over_12H  over_12H     0   1664982   \n",
       "\n",
       "                                log_lib_size  cell_stim  \n",
       "donor_Ind86-Sample2_0-1-0-0-0      12.338385   MOL_C_WM  \n",
       "donor_Ind98-Sample2_0-1-0-0-0      14.093184   MOL_C_WM  \n",
       "donor_Ind101-Sample1_0-1-0-0-0     12.400471  MOL_C_CIL  \n",
       "donor_Ind101-Sample2_0-1-0-0-0     12.287182  MOL_C_CIL  \n",
       "donor_Ind101-Sample3_0-1-0-0-0     14.325325   MOL_C_RL  "
      ]
     },
     "execution_count": 13,
     "metadata": {},
     "output_type": "execute_result"
    }
   ],
   "source": [
    "adata_sub.obs[:5]"
   ]
  },
  {
   "cell_type": "code",
   "execution_count": 14,
   "id": "19c4e015",
   "metadata": {},
   "outputs": [
    {
     "name": "stdout",
     "output_type": "stream",
     "text": [
      "WM\n",
      "CIL\n",
      "RL\n",
      "NAWM\n",
      "AL\n",
      "CAL\n"
     ]
    }
   ],
   "source": [
    "# Unique values in the 'condition' column\n",
    "unique_conditions = adata_sub.obs['stim'].unique()\n",
    "for condition in unique_conditions:\n",
    "    print(condition)"
   ]
  },
  {
   "cell_type": "code",
   "execution_count": 15,
   "id": "4a947f7b",
   "metadata": {},
   "outputs": [
    {
     "name": "stdout",
     "output_type": "stream",
     "text": [
      "Dimensions of adata_sub: (41, 27766)\n"
     ]
    }
   ],
   "source": [
    "adata_sub= adata_sub[np.in1d(adata_sub.obs['stim'], \n",
    "                           ['WM',\n",
    "                              'RL'\n",
    "                           ])].copy()\n",
    "\n",
    "print(\"Dimensions of adata_sub:\", adata_sub.shape)"
   ]
  },
  {
   "cell_type": "code",
   "execution_count": 16,
   "id": "004f16ab",
   "metadata": {},
   "outputs": [],
   "source": [
    "# Check if the 'sample_rep' column exists\n",
    "if 'sample_lesion' in adata_sub.obs.columns:\n",
    "    # Set the 'sample_rep' column as the index\n",
    "    adata_sub.obs.set_index('sample_lesion', inplace=True)\n",
    "else:\n",
    "    print(\"The column 'sample' does not exist in adata_sub.obs.\")\n",
    "\n",
    "adata_sub.obs.index.name = None"
   ]
  },
  {
   "cell_type": "code",
   "execution_count": 17,
   "id": "d598dabc",
   "metadata": {},
   "outputs": [],
   "source": [
    "# Add the index back as a column called 'sample_lesion'\n",
    "adata_sub.obs['sample_lesion'] = adata_sub.obs.index"
   ]
  },
  {
   "cell_type": "code",
   "execution_count": 18,
   "id": "9f673657",
   "metadata": {},
   "outputs": [
    {
     "data": {
      "text/html": [
       "<div>\n",
       "<style scoped>\n",
       "    .dataframe tbody tr th:only-of-type {\n",
       "        vertical-align: middle;\n",
       "    }\n",
       "\n",
       "    .dataframe tbody tr th {\n",
       "        vertical-align: top;\n",
       "    }\n",
       "\n",
       "    .dataframe thead th {\n",
       "        text-align: right;\n",
       "    }\n",
       "</style>\n",
       "<table border=\"1\" class=\"dataframe\">\n",
       "  <thead>\n",
       "    <tr style=\"text-align: right;\">\n",
       "      <th></th>\n",
       "      <th>sample</th>\n",
       "      <th>diagnosis</th>\n",
       "      <th>sample_source</th>\n",
       "      <th>cell_type</th>\n",
       "      <th>sample_rep</th>\n",
       "      <th>replicate_cat</th>\n",
       "      <th>stim</th>\n",
       "      <th>sex</th>\n",
       "      <th>seq_pool</th>\n",
       "      <th>age_scale</th>\n",
       "      <th>age_cat</th>\n",
       "      <th>pmi_cat</th>\n",
       "      <th>pmi_cat2</th>\n",
       "      <th>batch</th>\n",
       "      <th>lib_size</th>\n",
       "      <th>log_lib_size</th>\n",
       "      <th>cell_stim</th>\n",
       "      <th>sample_lesion</th>\n",
       "      <th>indiv_id</th>\n",
       "    </tr>\n",
       "  </thead>\n",
       "  <tbody>\n",
       "    <tr>\n",
       "      <th>Ind86-Sample2_WM</th>\n",
       "      <td>Ind86-Sample2</td>\n",
       "      <td>CTR</td>\n",
       "      <td>Edinburgh BB</td>\n",
       "      <td>MOL_C</td>\n",
       "      <td>WM_2</td>\n",
       "      <td>2</td>\n",
       "      <td>WM</td>\n",
       "      <td>M</td>\n",
       "      <td>Pool 2</td>\n",
       "      <td>0.782451</td>\n",
       "      <td>over_70</td>\n",
       "      <td>over_12H</td>\n",
       "      <td>over_12H</td>\n",
       "      <td>0</td>\n",
       "      <td>228293</td>\n",
       "      <td>12.338385</td>\n",
       "      <td>MOL_C_WM</td>\n",
       "      <td>Ind86-Sample2_WM</td>\n",
       "      <td>Ind86</td>\n",
       "    </tr>\n",
       "    <tr>\n",
       "      <th>Ind98-Sample2_WM</th>\n",
       "      <td>Ind98-Sample2</td>\n",
       "      <td>CTR</td>\n",
       "      <td>Edinburgh BB</td>\n",
       "      <td>MOL_C</td>\n",
       "      <td>WM_1</td>\n",
       "      <td>1</td>\n",
       "      <td>WM</td>\n",
       "      <td>M</td>\n",
       "      <td>Pool 6</td>\n",
       "      <td>-1.759706</td>\n",
       "      <td>under_50</td>\n",
       "      <td>over_12H</td>\n",
       "      <td>over_12H</td>\n",
       "      <td>0</td>\n",
       "      <td>1320055</td>\n",
       "      <td>14.093184</td>\n",
       "      <td>MOL_C_WM</td>\n",
       "      <td>Ind98-Sample2_WM</td>\n",
       "      <td>Ind98</td>\n",
       "    </tr>\n",
       "    <tr>\n",
       "      <th>Ind101-Sample3_RL</th>\n",
       "      <td>Ind101-Sample3</td>\n",
       "      <td>SPMS</td>\n",
       "      <td>UK MS TB</td>\n",
       "      <td>MOL_C</td>\n",
       "      <td>RL_1</td>\n",
       "      <td>1</td>\n",
       "      <td>RL</td>\n",
       "      <td>F</td>\n",
       "      <td>Pool 1</td>\n",
       "      <td>0.645037</td>\n",
       "      <td>inbetween</td>\n",
       "      <td>over_12H</td>\n",
       "      <td>over_12H</td>\n",
       "      <td>0</td>\n",
       "      <td>1664982</td>\n",
       "      <td>14.325325</td>\n",
       "      <td>MOL_C_RL</td>\n",
       "      <td>Ind101-Sample3_RL</td>\n",
       "      <td>Ind101</td>\n",
       "    </tr>\n",
       "    <tr>\n",
       "      <th>Ind104-Sample1_RL</th>\n",
       "      <td>Ind104-Sample1</td>\n",
       "      <td>SPMS</td>\n",
       "      <td>UK MS TB</td>\n",
       "      <td>MOL_C</td>\n",
       "      <td>RL_2</td>\n",
       "      <td>2</td>\n",
       "      <td>RL</td>\n",
       "      <td>F</td>\n",
       "      <td>Pool 5</td>\n",
       "      <td>0.645037</td>\n",
       "      <td>inbetween</td>\n",
       "      <td>over_12H</td>\n",
       "      <td>over_12H</td>\n",
       "      <td>0</td>\n",
       "      <td>768265</td>\n",
       "      <td>13.551890</td>\n",
       "      <td>MOL_C_RL</td>\n",
       "      <td>Ind104-Sample1_RL</td>\n",
       "      <td>Ind104</td>\n",
       "    </tr>\n",
       "    <tr>\n",
       "      <th>Ind107-Sample1_WM</th>\n",
       "      <td>Ind107-Sample1</td>\n",
       "      <td>CTR</td>\n",
       "      <td>Edinburgh BB</td>\n",
       "      <td>MOL_C</td>\n",
       "      <td>WM_3</td>\n",
       "      <td>3</td>\n",
       "      <td>WM</td>\n",
       "      <td>M</td>\n",
       "      <td>Pool 3</td>\n",
       "      <td>-0.935223</td>\n",
       "      <td>under_50</td>\n",
       "      <td>over_12H</td>\n",
       "      <td>over_12H</td>\n",
       "      <td>0</td>\n",
       "      <td>891756</td>\n",
       "      <td>13.700948</td>\n",
       "      <td>MOL_C_WM</td>\n",
       "      <td>Ind107-Sample1_WM</td>\n",
       "      <td>Ind107</td>\n",
       "    </tr>\n",
       "  </tbody>\n",
       "</table>\n",
       "</div>"
      ],
      "text/plain": [
       "                           sample diagnosis sample_source cell_type  \\\n",
       "Ind86-Sample2_WM    Ind86-Sample2       CTR  Edinburgh BB     MOL_C   \n",
       "Ind98-Sample2_WM    Ind98-Sample2       CTR  Edinburgh BB     MOL_C   \n",
       "Ind101-Sample3_RL  Ind101-Sample3      SPMS      UK MS TB     MOL_C   \n",
       "Ind104-Sample1_RL  Ind104-Sample1      SPMS      UK MS TB     MOL_C   \n",
       "Ind107-Sample1_WM  Ind107-Sample1       CTR  Edinburgh BB     MOL_C   \n",
       "\n",
       "                  sample_rep replicate_cat stim sex seq_pool age_scale  \\\n",
       "Ind86-Sample2_WM        WM_2             2   WM   M   Pool 2  0.782451   \n",
       "Ind98-Sample2_WM        WM_1             1   WM   M   Pool 6 -1.759706   \n",
       "Ind101-Sample3_RL       RL_1             1   RL   F   Pool 1  0.645037   \n",
       "Ind104-Sample1_RL       RL_2             2   RL   F   Pool 5  0.645037   \n",
       "Ind107-Sample1_WM       WM_3             3   WM   M   Pool 3 -0.935223   \n",
       "\n",
       "                     age_cat   pmi_cat  pmi_cat2 batch  lib_size  \\\n",
       "Ind86-Sample2_WM     over_70  over_12H  over_12H     0    228293   \n",
       "Ind98-Sample2_WM    under_50  over_12H  over_12H     0   1320055   \n",
       "Ind101-Sample3_RL  inbetween  over_12H  over_12H     0   1664982   \n",
       "Ind104-Sample1_RL  inbetween  over_12H  over_12H     0    768265   \n",
       "Ind107-Sample1_WM   under_50  over_12H  over_12H     0    891756   \n",
       "\n",
       "                   log_lib_size cell_stim      sample_lesion indiv_id  \n",
       "Ind86-Sample2_WM      12.338385  MOL_C_WM   Ind86-Sample2_WM    Ind86  \n",
       "Ind98-Sample2_WM      14.093184  MOL_C_WM   Ind98-Sample2_WM    Ind98  \n",
       "Ind101-Sample3_RL     14.325325  MOL_C_RL  Ind101-Sample3_RL   Ind101  \n",
       "Ind104-Sample1_RL     13.551890  MOL_C_RL  Ind104-Sample1_RL   Ind104  \n",
       "Ind107-Sample1_WM     13.700948  MOL_C_WM  Ind107-Sample1_WM   Ind107  "
      ]
     },
     "execution_count": 18,
     "metadata": {},
     "output_type": "execute_result"
    }
   ],
   "source": [
    "adata_sub.obs['indiv_id'] = adata_sub.obs['sample'].str.split('-').str[0]\n",
    "adata_sub.obs[:5]"
   ]
  },
  {
   "cell_type": "code",
   "execution_count": 19,
   "id": "5fc3e34c",
   "metadata": {},
   "outputs": [
    {
     "data": {
      "text/html": [
       "<div>\n",
       "<style scoped>\n",
       "    .dataframe tbody tr th:only-of-type {\n",
       "        vertical-align: middle;\n",
       "    }\n",
       "\n",
       "    .dataframe tbody tr th {\n",
       "        vertical-align: top;\n",
       "    }\n",
       "\n",
       "    .dataframe thead th {\n",
       "        text-align: right;\n",
       "    }\n",
       "</style>\n",
       "<table border=\"1\" class=\"dataframe\">\n",
       "  <thead>\n",
       "    <tr style=\"text-align: right;\">\n",
       "      <th>stim</th>\n",
       "      <th>RL</th>\n",
       "      <th>WM</th>\n",
       "    </tr>\n",
       "    <tr>\n",
       "      <th>cell_stim</th>\n",
       "      <th></th>\n",
       "      <th></th>\n",
       "    </tr>\n",
       "  </thead>\n",
       "  <tbody>\n",
       "    <tr>\n",
       "      <th>DAO_RL</th>\n",
       "      <td>9</td>\n",
       "      <td>0</td>\n",
       "    </tr>\n",
       "    <tr>\n",
       "      <th>DAO_WM</th>\n",
       "      <td>0</td>\n",
       "      <td>8</td>\n",
       "    </tr>\n",
       "    <tr>\n",
       "      <th>MOL_C_RL</th>\n",
       "      <td>11</td>\n",
       "      <td>0</td>\n",
       "    </tr>\n",
       "    <tr>\n",
       "      <th>MOL_C_WM</th>\n",
       "      <td>0</td>\n",
       "      <td>13</td>\n",
       "    </tr>\n",
       "  </tbody>\n",
       "</table>\n",
       "</div>"
      ],
      "text/plain": [
       "stim       RL  WM\n",
       "cell_stim        \n",
       "DAO_RL      9   0\n",
       "DAO_WM      0   8\n",
       "MOL_C_RL   11   0\n",
       "MOL_C_WM    0  13"
      ]
     },
     "execution_count": 19,
     "metadata": {},
     "output_type": "execute_result"
    }
   ],
   "source": [
    "# Extract the data as a pandas DataFrame\n",
    "df = adata_sub.obs[['cell_stim', 'stim']]\n",
    "\n",
    "# Create a summary table\n",
    "summary_table = df.groupby(['cell_stim', 'stim']).size().unstack(fill_value=0)\n",
    "summary_table"
   ]
  },
  {
   "cell_type": "code",
   "execution_count": 20,
   "id": "e9cb7cbc",
   "metadata": {},
   "outputs": [
    {
     "name": "stdout",
     "output_type": "stream",
     "text": [
      "Dimensions of adata_sub: (22, 27766)\n"
     ]
    }
   ],
   "source": [
    "adata_sub= adata_sub[np.in1d(adata_sub.obs['cell_stim'], \n",
    "                           ['MOL_C_WM',\n",
    "                              'DAO_RL'\n",
    "                           ])].copy()\n",
    "\n",
    "print(\"Dimensions of adata_sub:\", adata_sub.shape)"
   ]
  },
  {
   "cell_type": "code",
   "execution_count": 21,
   "id": "d7739d18",
   "metadata": {},
   "outputs": [
    {
     "data": {
      "text/plain": [
       "AnnData object with n_obs × n_vars = 22 × 27766\n",
       "    obs: 'sample', 'diagnosis', 'sample_source', 'cell_type', 'sample_rep', 'replicate_cat', 'stim', 'sex', 'seq_pool', 'age_scale', 'age_cat', 'pmi_cat', 'pmi_cat2', 'batch', 'lib_size', 'log_lib_size', 'cell_stim', 'sample_lesion', 'indiv_id'\n",
       "    uns: 'age_cat_colors', 'cell_type_colors', 'diagnosis_colors', 'log1p', 'pca', 'pmi_cat2_colors', 'pmi_cat_colors', 'sample_source_colors', 'seq_pool_colors', 'sex_colors', 'stim_colors'\n",
       "    obsm: 'X_pca'\n",
       "    varm: 'PCs'\n",
       "    layers: 'counts'"
      ]
     },
     "execution_count": 21,
     "metadata": {},
     "output_type": "execute_result"
    }
   ],
   "source": [
    "adata_sub"
   ]
  },
  {
   "cell_type": "code",
   "execution_count": 22,
   "id": "30aa7adc",
   "metadata": {
    "scrolled": false
   },
   "outputs": [
    {
     "data": {
      "image/png": "[encoded data removed]",
      "text/plain": [
       "<Figure size 727.8x4800 with 11 Axes>"
      ]
     },
     "metadata": {},
     "output_type": "display_data"
    }
   ],
   "source": [
    "sc.pl.pca(adata_sub, color=[\"cell_type\", \"stim\", \"sex\", \"age_cat\", \"indiv_id\",\n",
    "                            \"pmi_cat\", \"seq_pool\", \"sample_source\", \"diagnosis\", \"log_lib_size\"], \n",
    "          ncols=1, size=300)"
   ]
  },
  {
   "cell_type": "markdown",
   "id": "410e9eb5",
   "metadata": {},
   "source": [
    "# Rename the MOL clusters for NEW letter based nomenclature"
   ]
  },
  {
   "cell_type": "code",
   "execution_count": 23,
   "id": "b828083a",
   "metadata": {},
   "outputs": [
    {
     "data": {
      "text/html": [
       "<div>\n",
       "<style scoped>\n",
       "    .dataframe tbody tr th:only-of-type {\n",
       "        vertical-align: middle;\n",
       "    }\n",
       "\n",
       "    .dataframe tbody tr th {\n",
       "        vertical-align: top;\n",
       "    }\n",
       "\n",
       "    .dataframe thead th {\n",
       "        text-align: right;\n",
       "    }\n",
       "</style>\n",
       "<table border=\"1\" class=\"dataframe\">\n",
       "  <thead>\n",
       "    <tr style=\"text-align: right;\">\n",
       "      <th></th>\n",
       "      <th>sample</th>\n",
       "      <th>diagnosis</th>\n",
       "      <th>sample_source</th>\n",
       "      <th>cell_type</th>\n",
       "      <th>sample_rep</th>\n",
       "      <th>replicate_cat</th>\n",
       "      <th>stim</th>\n",
       "      <th>sex</th>\n",
       "      <th>seq_pool</th>\n",
       "      <th>age_scale</th>\n",
       "      <th>age_cat</th>\n",
       "      <th>pmi_cat</th>\n",
       "      <th>pmi_cat2</th>\n",
       "      <th>batch</th>\n",
       "      <th>lib_size</th>\n",
       "      <th>log_lib_size</th>\n",
       "      <th>cell_stim</th>\n",
       "      <th>sample_lesion</th>\n",
       "      <th>indiv_id</th>\n",
       "    </tr>\n",
       "  </thead>\n",
       "  <tbody>\n",
       "    <tr>\n",
       "      <th>Ind86-Sample2_WM</th>\n",
       "      <td>Ind86-Sample2</td>\n",
       "      <td>CTR</td>\n",
       "      <td>Edinburgh BB</td>\n",
       "      <td>MOL_C</td>\n",
       "      <td>WM_2</td>\n",
       "      <td>2</td>\n",
       "      <td>WM</td>\n",
       "      <td>M</td>\n",
       "      <td>Pool_2</td>\n",
       "      <td>0.782451</td>\n",
       "      <td>over_70</td>\n",
       "      <td>over_12H</td>\n",
       "      <td>over_12H</td>\n",
       "      <td>0</td>\n",
       "      <td>228293</td>\n",
       "      <td>12.338385</td>\n",
       "      <td>MOL_C_WM</td>\n",
       "      <td>Ind86-Sample2_WM</td>\n",
       "      <td>Ind86</td>\n",
       "    </tr>\n",
       "    <tr>\n",
       "      <th>Ind98-Sample2_WM</th>\n",
       "      <td>Ind98-Sample2</td>\n",
       "      <td>CTR</td>\n",
       "      <td>Edinburgh BB</td>\n",
       "      <td>MOL_C</td>\n",
       "      <td>WM_1</td>\n",
       "      <td>1</td>\n",
       "      <td>WM</td>\n",
       "      <td>M</td>\n",
       "      <td>Pool_6</td>\n",
       "      <td>-1.759706</td>\n",
       "      <td>under_50</td>\n",
       "      <td>over_12H</td>\n",
       "      <td>over_12H</td>\n",
       "      <td>0</td>\n",
       "      <td>1320055</td>\n",
       "      <td>14.093184</td>\n",
       "      <td>MOL_C_WM</td>\n",
       "      <td>Ind98-Sample2_WM</td>\n",
       "      <td>Ind98</td>\n",
       "    </tr>\n",
       "    <tr>\n",
       "      <th>Ind107-Sample1_WM</th>\n",
       "      <td>Ind107-Sample1</td>\n",
       "      <td>CTR</td>\n",
       "      <td>Edinburgh BB</td>\n",
       "      <td>MOL_C</td>\n",
       "      <td>WM_3</td>\n",
       "      <td>3</td>\n",
       "      <td>WM</td>\n",
       "      <td>M</td>\n",
       "      <td>Pool_3</td>\n",
       "      <td>-0.935223</td>\n",
       "      <td>under_50</td>\n",
       "      <td>over_12H</td>\n",
       "      <td>over_12H</td>\n",
       "      <td>0</td>\n",
       "      <td>891756</td>\n",
       "      <td>13.700948</td>\n",
       "      <td>MOL_C_WM</td>\n",
       "      <td>Ind107-Sample1_WM</td>\n",
       "      <td>Ind107</td>\n",
       "    </tr>\n",
       "    <tr>\n",
       "      <th>Ind117-Sample1_WM</th>\n",
       "      <td>Ind117-Sample1</td>\n",
       "      <td>CTR</td>\n",
       "      <td>Edinburgh BB</td>\n",
       "      <td>MOL_C</td>\n",
       "      <td>WM_4</td>\n",
       "      <td>4</td>\n",
       "      <td>WM</td>\n",
       "      <td>F</td>\n",
       "      <td>Pool_4</td>\n",
       "      <td>-0.935223</td>\n",
       "      <td>under_50</td>\n",
       "      <td>over_12H</td>\n",
       "      <td>over_12H</td>\n",
       "      <td>0</td>\n",
       "      <td>1868798</td>\n",
       "      <td>14.440806</td>\n",
       "      <td>MOL_C_WM</td>\n",
       "      <td>Ind117-Sample1_WM</td>\n",
       "      <td>Ind117</td>\n",
       "    </tr>\n",
       "    <tr>\n",
       "      <th>Ind121-Sample1_WM</th>\n",
       "      <td>Ind121-Sample1</td>\n",
       "      <td>CTR</td>\n",
       "      <td>Edinburgh BB</td>\n",
       "      <td>MOL_C</td>\n",
       "      <td>WM_5</td>\n",
       "      <td>5</td>\n",
       "      <td>WM</td>\n",
       "      <td>F</td>\n",
       "      <td>Pool_3</td>\n",
       "      <td>-0.729102</td>\n",
       "      <td>under_50</td>\n",
       "      <td>over_12H</td>\n",
       "      <td>over_12H</td>\n",
       "      <td>0</td>\n",
       "      <td>43506</td>\n",
       "      <td>10.680654</td>\n",
       "      <td>MOL_C_WM</td>\n",
       "      <td>Ind121-Sample1_WM</td>\n",
       "      <td>Ind121</td>\n",
       "    </tr>\n",
       "  </tbody>\n",
       "</table>\n",
       "</div>"
      ],
      "text/plain": [
       "                           sample diagnosis sample_source cell_type  \\\n",
       "Ind86-Sample2_WM    Ind86-Sample2       CTR  Edinburgh BB     MOL_C   \n",
       "Ind98-Sample2_WM    Ind98-Sample2       CTR  Edinburgh BB     MOL_C   \n",
       "Ind107-Sample1_WM  Ind107-Sample1       CTR  Edinburgh BB     MOL_C   \n",
       "Ind117-Sample1_WM  Ind117-Sample1       CTR  Edinburgh BB     MOL_C   \n",
       "Ind121-Sample1_WM  Ind121-Sample1       CTR  Edinburgh BB     MOL_C   \n",
       "\n",
       "                  sample_rep replicate_cat stim sex seq_pool age_scale  \\\n",
       "Ind86-Sample2_WM        WM_2             2   WM   M   Pool_2  0.782451   \n",
       "Ind98-Sample2_WM        WM_1             1   WM   M   Pool_6 -1.759706   \n",
       "Ind107-Sample1_WM       WM_3             3   WM   M   Pool_3 -0.935223   \n",
       "Ind117-Sample1_WM       WM_4             4   WM   F   Pool_4 -0.935223   \n",
       "Ind121-Sample1_WM       WM_5             5   WM   F   Pool_3 -0.729102   \n",
       "\n",
       "                    age_cat   pmi_cat  pmi_cat2 batch  lib_size  log_lib_size  \\\n",
       "Ind86-Sample2_WM    over_70  over_12H  over_12H     0    228293     12.338385   \n",
       "Ind98-Sample2_WM   under_50  over_12H  over_12H     0   1320055     14.093184   \n",
       "Ind107-Sample1_WM  under_50  over_12H  over_12H     0    891756     13.700948   \n",
       "Ind117-Sample1_WM  under_50  over_12H  over_12H     0   1868798     14.440806   \n",
       "Ind121-Sample1_WM  under_50  over_12H  over_12H     0     43506     10.680654   \n",
       "\n",
       "                  cell_stim      sample_lesion indiv_id  \n",
       "Ind86-Sample2_WM   MOL_C_WM   Ind86-Sample2_WM    Ind86  \n",
       "Ind98-Sample2_WM   MOL_C_WM   Ind98-Sample2_WM    Ind98  \n",
       "Ind107-Sample1_WM  MOL_C_WM  Ind107-Sample1_WM   Ind107  \n",
       "Ind117-Sample1_WM  MOL_C_WM  Ind117-Sample1_WM   Ind117  \n",
       "Ind121-Sample1_WM  MOL_C_WM  Ind121-Sample1_WM   Ind121  "
      ]
     },
     "execution_count": 23,
     "metadata": {},
     "output_type": "execute_result"
    }
   ],
   "source": [
    "# Replace space with underscore in the 'seq_pool' column\n",
    "adata_sub.obs['seq_pool'] = adata_sub.obs['seq_pool'].str.replace(' ', '_')\n",
    "adata_sub.obs[:5]"
   ]
  },
  {
   "cell_type": "code",
   "execution_count": 24,
   "id": "c27be2e8",
   "metadata": {},
   "outputs": [
    {
     "name": "stdout",
     "output_type": "stream",
     "text": [
      "[[ 1  0  0  0 15]\n",
      " [11  1  0  0 37]\n",
      " [ 7  0  0  0 25]\n",
      " [13  0  0  0 55]\n",
      " [ 1  0  0  0  0]]\n"
     ]
    }
   ],
   "source": [
    "#Check the counts data\n",
    "print(adata_sub.X[:5, :5])"
   ]
  },
  {
   "cell_type": "markdown",
   "id": "bb668794",
   "metadata": {},
   "source": [
    "# Start R code: QC of log transformation"
   ]
  },
  {
   "cell_type": "code",
   "execution_count": 25,
   "id": "2ac838bf",
   "metadata": {},
   "outputs": [],
   "source": [
    "for col in adata_sub.obs.columns:\n",
    "    if pd.api.types.is_categorical_dtype(adata_sub.obs[col]):\n",
    "        adata_sub.obs[col] = adata_sub.obs[col].astype(str)"
   ]
  },
  {
   "cell_type": "code",
   "execution_count": 26,
   "id": "a2639073",
   "metadata": {
    "scrolled": true
   },
   "outputs": [
    {
     "name": "stdout",
     "output_type": "stream",
     "text": [
      "                  Group Reps             Batch Sex   Age_cat   Pmi_cat\n",
      "Ind86-Sample2_WM     WM    2  Ind86-Sample2_WM   M   over_70  over_12H\n",
      "Ind98-Sample2_WM     WM    1  Ind98-Sample2_WM   M  under_50  over_12H\n",
      "Ind107-Sample1_WM    WM    3 Ind107-Sample1_WM   M  under_50  over_12H\n",
      "Ind117-Sample1_WM    WM    4 Ind117-Sample1_WM   F  under_50  over_12H\n",
      "Ind121-Sample1_WM    WM    5 Ind121-Sample1_WM   F  under_50  over_12H\n",
      "Ind126-Sample1_WM    WM    6 Ind126-Sample1_WM   M inbetween 6H_to_12H\n",
      "                   Pmi_cat2 Seq_pool\n",
      "Ind86-Sample2_WM   over_12H   Pool_2\n",
      "Ind98-Sample2_WM   over_12H   Pool_6\n",
      "Ind107-Sample1_WM  over_12H   Pool_3\n",
      "Ind117-Sample1_WM  over_12H   Pool_4\n",
      "Ind121-Sample1_WM  over_12H   Pool_3\n",
      "Ind126-Sample1_WM up_to_12H   Pool_5\n"
     ]
    }
   ],
   "source": [
    "%%R -i adata_sub\n",
    "\n",
    "# Concatenate label and cell type for group factor\n",
    "group <- colData(adata_sub)$stim #ctrl or stim\n",
    "replicate <- colData(adata_sub)$replicate_cat #replicate number\n",
    "batch <- colData(adata_sub)$sample_lesion #this is each indiv sample\n",
    "\n",
    "# Concatenate label and cell type for group factor\n",
    "sex <- colData(adata_sub)$sex #ctrl or stim\n",
    "age_cat <- colData(adata_sub)$age_cat #replicate number\n",
    "pmi_cat <- colData(adata_sub)$pmi_cat #this is each indiv sample\n",
    "pmi_cat2 <- colData(adata_sub)$pmi_cat2 #replicate number\n",
    "seq_pool <- colData(adata_sub)$seq_pool #this is each indiv sample\n",
    "\n",
    "treatments <- data.frame(\"Group\"=group, \"Reps\"=replicate, \"Batch\"=batch,\n",
    "                        \"Sex\"=sex, \"Age_cat\"=age_cat, \"Pmi_cat\"=pmi_cat, \"Pmi_cat2\"=pmi_cat2,\n",
    "                        \"Seq_pool\"=seq_pool)\n",
    "head(treatments)"
   ]
  },
  {
   "cell_type": "code",
   "execution_count": 27,
   "id": "8e36ee5c",
   "metadata": {
    "scrolled": true
   },
   "outputs": [
    {
     "name": "stdout",
     "output_type": "stream",
     "text": [
      "                  Group  Donor Sex   Age_cat   Pmi_cat\n",
      "Ind86-Sample2_WM     WM  Ind86   M   over_70  over_12H\n",
      "Ind98-Sample2_WM     WM  Ind98   M  under_50  over_12H\n",
      "Ind107-Sample1_WM    WM Ind107   M  under_50  over_12H\n",
      "Ind117-Sample1_WM    WM Ind117   F  under_50  over_12H\n",
      "Ind121-Sample1_WM    WM Ind121   F  under_50  over_12H\n",
      "Ind126-Sample1_WM    WM Ind126   M inbetween 6H_to_12H\n"
     ]
    }
   ],
   "source": [
    "%%R -i adata_sub\n",
    "\n",
    "# Create the treatments dataframe with samples as a column, not as row names\n",
    "treatments <- data.frame(\n",
    "  #Sample = colData(adata_sub)$sample,      # Sample column\n",
    "  Group = colData(adata_sub)$stim,        # Group (e.g., ctrl or stim)\n",
    "  Donor = colData(adata_sub)$indiv_id,    # Donor information\n",
    "  Sex = colData(adata_sub)$sex,           # Sex information\n",
    "  Age_cat = colData(adata_sub)$age_cat,   # Age category\n",
    "  Pmi_cat = colData(adata_sub)$pmi_cat   # Post-mortem interval category\n",
    ")\n",
    "\n",
    "# Check the updated dataframe to confirm\n",
    "head(treatments)"
   ]
  },
  {
   "cell_type": "code",
   "execution_count": 28,
   "id": "8176fc6d",
   "metadata": {},
   "outputs": [
    {
     "name": "stdout",
     "output_type": "stream",
     "text": [
      "[1] \"Dimensions before subsetting:\"\n",
      "[1] 27766    22\n",
      "\n",
      "RL WM \n",
      " 9 13 \n"
     ]
    }
   ],
   "source": [
    "%%R\n",
    "\n",
    "#Create a DGElist object using the anndata counts in 'X'\n",
    "x <- DGEList(assay(adata_sub, \"X\"), group=colData(adata_sub)$stim)\n",
    "\n",
    "samplenames <- colnames(x$counts)\n",
    "\n",
    "print(\"Dimensions before subsetting:\")\n",
    "print(dim(x))\n",
    "\n",
    "# Check counts per group before filtering\n",
    "print(table(x$samples$group))"
   ]
  },
  {
   "cell_type": "code",
   "execution_count": 29,
   "id": "a3c165e9",
   "metadata": {
    "scrolled": true
   },
   "outputs": [
    {
     "name": "stdout",
     "output_type": "stream",
     "text": [
      "[1] \"GroupRL\"         \"GroupWM\"         \"SexM\"            \"Age_catover_70\" \n",
      "[5] \"Age_catunder_50\" \"Pmi_catover_12H\" \"Pmi_catup_to_6H\"\n"
     ]
    }
   ],
   "source": [
    "%%R\n",
    "\n",
    "# Adjust for batch-- ie publication in the model matrix\n",
    "design_full <- model.matrix(~0 + Group + Sex + Age_cat + Pmi_cat, data=treatments)\n",
    "rownames(design_full) <- colnames(x)\n",
    "colnames(design_full)"
   ]
  },
  {
   "cell_type": "code",
   "execution_count": 30,
   "id": "e496129e",
   "metadata": {},
   "outputs": [
    {
     "name": "stdout",
     "output_type": "stream",
     "text": [
      "[1] 12819    22\n"
     ]
    }
   ],
   "source": [
    "%%R\n",
    "\n",
    "# More strict removal of genes, tried group, pub and batch\n",
    "keep.expr <- filterByExpr(x, design_full)\n",
    "x2 <- x[keep.expr,, keep.lib.sizes=FALSE]\n",
    "dim(x2)"
   ]
  },
  {
   "cell_type": "code",
   "execution_count": 31,
   "id": "a53ca1e4",
   "metadata": {},
   "outputs": [
    {
     "name": "stdout",
     "output_type": "stream",
     "text": [
      "[1] 13994    22\n"
     ]
    }
   ],
   "source": [
    "%%R\n",
    "\n",
    "# More strict removal of genes, tried group, pub and batch\n",
    "keep.exprs <- filterByExpr(x, group=batch)\n",
    "b <- x[keep.exprs,, keep.lib.sizes=FALSE]\n",
    "dim(b)"
   ]
  },
  {
   "cell_type": "code",
   "execution_count": 32,
   "id": "ed52de22",
   "metadata": {},
   "outputs": [
    {
     "name": "stdout",
     "output_type": "stream",
     "text": [
      " [1] 1.0217710 1.0115399 0.9674800 0.9703582 1.3146012 0.9894996 0.9886905\n",
      " [8] 1.0181281 0.8181991 0.9233182 0.9646083 0.8604018 0.9254931 1.0443229\n",
      "[15] 1.0301700 0.9249830 1.0827512 1.0364111 1.0676968 0.9835105 1.0281906\n",
      "[22] 1.1249732\n"
     ]
    }
   ],
   "source": [
    "%%R\n",
    "## Calc norm factors before to normalize library sizes, then cpm divides counts by lib sizes\n",
    "#X is before trimming, Y is after trimming, X2 is also trimmed but differently\n",
    "x2 <- calcNormFactors(x2, method = \"TMM\")\n",
    "x2$samples$norm.factors"
   ]
  },
  {
   "cell_type": "code",
   "execution_count": 33,
   "id": "50f77fc0",
   "metadata": {},
   "outputs": [
    {
     "name": "stdout",
     "output_type": "stream",
     "text": [
      " [1] WM WM WM WM WM WM WM WM WM WM WM WM WM RL RL RL RL RL RL RL RL RL\n",
      "Levels: RL WM\n"
     ]
    }
   ],
   "source": [
    "%%R\n",
    "cd <- x2$samples$group\n",
    "print(cd)"
   ]
  },
  {
   "cell_type": "markdown",
   "id": "cacc0dc9",
   "metadata": {},
   "source": [
    "# Check effect of batch correction?"
   ]
  },
  {
   "cell_type": "code",
   "execution_count": null,
   "id": "a2c32932",
   "metadata": {},
   "outputs": [],
   "source": [
    "%%R\n",
    "# Assuming 'group' is stored in y$samples dataframe\n",
    "group <- x2$samples$group\n",
    "\n",
    "# Generate a numeric vector from group factors (if not already factor, convert it)\n",
    "group_factor <- as.factor(group)\n",
    "group_colors <- as.numeric(group_factor)  # This converts factors to unique integers\n",
    "\n",
    "# Define a set of colors corresponding to the factors\n",
    "# Example: If you have two groups, you could define two colors\n",
    "colors <- c(\"blue\", \"red\")  # Adjust the number and colors based on your actual groups\n",
    "\n",
    "# Use these colors in your plotMDS\n",
    "plotMDS(x2, col = colors[group_colors])\n",
    "\n",
    "# Adding a legend for clarity\n",
    "legend(\"topright\", legend=levels(group_factor), fill=colors, title=\"Group\")"
   ]
  },
  {
   "cell_type": "code",
   "execution_count": null,
   "id": "17e49ec6",
   "metadata": {},
   "outputs": [],
   "source": [
    "%%R\n",
    "# Convert to CPM and log2 transformation. \n",
    "logCPM <- edgeR::cpm(x2, log=TRUE, prior.count=3)\n",
    "heatmap(logCPM)"
   ]
  },
  {
   "cell_type": "code",
   "execution_count": null,
   "id": "5039a635",
   "metadata": {},
   "outputs": [],
   "source": [
    "%%R\n",
    "#Batch is set to the publication of origin to remove effects between sample origins\n",
    "logCPM_no_batch <- removeBatchEffect(logCPM, batch=pmi_cat) \n",
    "heatmap(logCPM_no_batch)"
   ]
  },
  {
   "cell_type": "code",
   "execution_count": null,
   "id": "4955fb6a",
   "metadata": {},
   "outputs": [],
   "source": [
    "%%R\n",
    "\n",
    "#Batch is set to the publication of origin to remove effects between sample origins\n",
    "logCPM_no_batch_sex <- removeBatchEffect(logCPM, batch=sex) \n",
    "heatmap(logCPM_no_batch_sex)"
   ]
  },
  {
   "cell_type": "code",
   "execution_count": null,
   "id": "790d799e",
   "metadata": {},
   "outputs": [],
   "source": [
    "%%R\n",
    "\n",
    "#Batch is set to the publication of origin to remove effects between sample origins\n",
    "logCPM_no_batch_age <- removeBatchEffect(logCPM, batch=age_cat) \n",
    "heatmap(logCPM_no_batch_age)"
   ]
  },
  {
   "cell_type": "code",
   "execution_count": null,
   "id": "f627be56",
   "metadata": {},
   "outputs": [],
   "source": [
    "%%R\n",
    "\n",
    "#Batch is set to the publication of origin to remove effects between sample origins\n",
    "logCPM_no_batch_pool <- removeBatchEffect(logCPM, batch=seq_pool) \n",
    "heatmap(logCPM_no_batch_pool)"
   ]
  },
  {
   "cell_type": "code",
   "execution_count": null,
   "id": "15d54b2a",
   "metadata": {},
   "outputs": [],
   "source": [
    "%%R\n",
    "\n",
    "# Convert categorical variables to factors\n",
    "treatments$Batch <- as.factor(treatments$Batch)\n",
    "treatments$Sex <- as.factor(treatments$Sex)\n",
    "treatments$Age_cat <- as.factor(treatments$Age_cat)\n",
    "treatments$Pmi_cat <- as.factor(treatments$Pmi_cat)\n",
    "treatments$Seq_pool <- as.factor(treatments$Seq_pool)\n",
    "treatments$Group <- as.factor(treatments$Group)"
   ]
  },
  {
   "cell_type": "code",
   "execution_count": null,
   "id": "84e31ce9",
   "metadata": {},
   "outputs": [],
   "source": [
    "%%R\n",
    "\n",
    "# Correct for multiple batch effects\n",
    "logCPM_no_batch <- removeBatchEffect(\n",
    "  logCPM, \n",
    "  batch = treatments$Age_cat,   # Primary batch effect\n",
    "  batch2 = treatments$Seq_pool,   # Secondary batch effect\n",
    "  covariates = model.matrix(~ treatments$Pmi_cat + treatments$Sex)[, -1] # Other covariates\n",
    ")\n",
    "\n",
    "# Plot the corrected heatmap\n",
    "heatmap(logCPM_no_batch)"
   ]
  },
  {
   "cell_type": "code",
   "execution_count": null,
   "id": "fb015997",
   "metadata": {},
   "outputs": [],
   "source": [
    "%%R\n",
    "\n",
    "# Correct for multiple batch effects\n",
    "logCPM_no_batch <- removeBatchEffect(\n",
    "  logCPM, \n",
    "  batch = treatments$Seq_pool,   # Primary batch effect\n",
    "  batch2 = treatments$Age_cat,   # Secondary batch effect\n",
    "  covariates = model.matrix(~ treatments$Sex + treatments$Pmi_cat)[, -1] # Other covariates\n",
    ")\n",
    "\n",
    "# Plot the corrected heatmap\n",
    "heatmap(logCPM_no_batch)"
   ]
  },
  {
   "cell_type": "code",
   "execution_count": null,
   "id": "90d1b03d",
   "metadata": {},
   "outputs": [],
   "source": [
    "%%R\n",
    "\n",
    "donor <- colData(adata_sub)$indiv_id #this is each indiv sample\n",
    "\n",
    "#Batch is set to the publication of origin to remove effects between sample origins\n",
    "logCPM_no_batch <- removeBatchEffect(logCPM, batch=donor) "
   ]
  },
  {
   "cell_type": "code",
   "execution_count": null,
   "id": "5f01e4d4",
   "metadata": {},
   "outputs": [],
   "source": [
    "%%R\n",
    "\n",
    "heatmap(logCPM_no_batch)"
   ]
  },
  {
   "cell_type": "markdown",
   "id": "c8808abd",
   "metadata": {},
   "source": [
    "# Voom with quality weights- sex, age, pmi, seq_pool"
   ]
  },
  {
   "cell_type": "code",
   "execution_count": 34,
   "id": "afbc47ee",
   "metadata": {},
   "outputs": [
    {
     "name": "stdout",
     "output_type": "stream",
     "text": [
      "                  Group  Donor Sex   Age_cat   Pmi_cat\n",
      "Ind86-Sample2_WM     WM  Ind86   M   over_70  over_12H\n",
      "Ind98-Sample2_WM     WM  Ind98   M  under_50  over_12H\n",
      "Ind107-Sample1_WM    WM Ind107   M  under_50  over_12H\n",
      "Ind117-Sample1_WM    WM Ind117   F  under_50  over_12H\n",
      "Ind121-Sample1_WM    WM Ind121   F  under_50  over_12H\n",
      "Ind126-Sample1_WM    WM Ind126   M inbetween 6H_to_12H\n"
     ]
    }
   ],
   "source": [
    "%%R\n",
    "head(treatments)"
   ]
  },
  {
   "cell_type": "code",
   "execution_count": 35,
   "id": "2fbf489a",
   "metadata": {},
   "outputs": [
    {
     "name": "stdout",
     "output_type": "stream",
     "text": [
      " Ind86-Sample2_WM  Ind98-Sample2_WM Ind107-Sample1_WM Ind117-Sample1_WM \n",
      "          \"Ind86\"           \"Ind98\"          \"Ind107\"          \"Ind117\" \n",
      "Ind121-Sample1_WM Ind126-Sample1_WM Ind131-Sample1_WM Ind133-Sample1_WM \n",
      "         \"Ind121\"          \"Ind126\"          \"Ind131\"          \"Ind133\" \n",
      "Ind135-Sample1_WM Ind139-Sample1_WM Ind140-Sample1_WM Ind144-Sample1_WM \n",
      "         \"Ind135\"          \"Ind139\"          \"Ind140\"          \"Ind144\" \n",
      "Ind145-Sample1_WM Ind101-Sample3_RL Ind108-Sample3_RL Ind108-Sample4_RL \n",
      "         \"Ind145\"          \"Ind101\"          \"Ind108\"          \"Ind108\" \n",
      "Ind134-Sample3_RL Ind141-Sample1_RL Ind141-Sample2_RL Ind142-Sample1_RL \n",
      "         \"Ind134\"          \"Ind141\"          \"Ind141\"          \"Ind142\" \n",
      "Ind142-Sample2_RL Ind146-Sample1_RL \n",
      "         \"Ind142\"          \"Ind146\" \n"
     ]
    }
   ],
   "source": [
    "%%R\n",
    "donor <- colData(adata_sub)$indiv_id #this is each indiv sample\n",
    "donor"
   ]
  },
  {
   "cell_type": "code",
   "execution_count": 36,
   "id": "7fbe2259",
   "metadata": {},
   "outputs": [
    {
     "name": "stdout",
     "output_type": "stream",
     "text": [
      "                  GroupRL GroupWM SexM Age_catover_70 Age_catunder_50\n",
      "Ind86-Sample2_WM        0       1    1              1               0\n",
      "Ind98-Sample2_WM        0       1    1              0               1\n",
      "Ind107-Sample1_WM       0       1    1              0               1\n",
      "Ind117-Sample1_WM       0       1    0              0               1\n",
      "Ind121-Sample1_WM       0       1    0              0               1\n",
      "Ind126-Sample1_WM       0       1    1              0               0\n",
      "                  Pmi_catover_12H Pmi_catup_to_6H\n",
      "Ind86-Sample2_WM                1               0\n",
      "Ind98-Sample2_WM                1               0\n",
      "Ind107-Sample1_WM               1               0\n",
      "Ind117-Sample1_WM               1               0\n",
      "Ind121-Sample1_WM               1               0\n",
      "Ind126-Sample1_WM               0               0\n"
     ]
    }
   ],
   "source": [
    "%%R\n",
    "head(design_full)"
   ]
  },
  {
   "cell_type": "code",
   "execution_count": 37,
   "id": "d4b848ce",
   "metadata": {},
   "outputs": [
    {
     "data": {
      "image/png": "[encoded data removed]",
      "text/plain": [
       "<IPython.core.display.Image object>"
      ]
     },
     "metadata": {},
     "output_type": "display_data"
    }
   ],
   "source": [
    "%%R\n",
    "\n",
    "y_vqw_full <- voomWithQualityWeights(x2$counts, design_full, plot=TRUE)"
   ]
  },
  {
   "cell_type": "code",
   "execution_count": 38,
   "id": "f33bc830",
   "metadata": {},
   "outputs": [
    {
     "name": "stdout",
     "output_type": "stream",
     "text": [
      "[1] 0.4114535\n"
     ]
    }
   ],
   "source": [
    "%%R\n",
    "\n",
    "corfit <- duplicateCorrelation(y_vqw_full, design_full, block=donor)\n",
    "corfit$consensus.correlation"
   ]
  },
  {
   "cell_type": "code",
   "execution_count": 39,
   "id": "80014d01",
   "metadata": {},
   "outputs": [
    {
     "data": {
      "image/png": "[encoded data removed]",
      "text/plain": [
       "<IPython.core.display.Image object>"
      ]
     },
     "metadata": {},
     "output_type": "display_data"
    }
   ],
   "source": [
    "%%R\n",
    "\n",
    "y2 <- voomWithQualityWeights(x2$counts, design_full, plot=TRUE, block=donor, correlation=corfit$consensus)"
   ]
  },
  {
   "cell_type": "code",
   "execution_count": 40,
   "id": "b7b92018",
   "metadata": {},
   "outputs": [
    {
     "name": "stdout",
     "output_type": "stream",
     "text": [
      "[1] 0.412662\n"
     ]
    }
   ],
   "source": [
    "%%R\n",
    "\n",
    "corfit2 <- duplicateCorrelation(y2, design_full, block=donor)\n",
    "corfit2$consensus.correlation"
   ]
  },
  {
   "cell_type": "code",
   "execution_count": 41,
   "id": "708160dc",
   "metadata": {},
   "outputs": [],
   "source": [
    "%%R\n",
    "\n",
    "fit <- lmFit(y2, design_full, block=donor, correlation=corfit2$consensus)"
   ]
  },
  {
   "cell_type": "code",
   "execution_count": 42,
   "id": "e00c05d4",
   "metadata": {},
   "outputs": [],
   "source": [
    "%%R\n",
    "\n",
    "contr <- makeContrasts(GroupRL - GroupWM, levels = colnames(coef(fit)))"
   ]
  },
  {
   "cell_type": "code",
   "execution_count": 43,
   "id": "96231aff",
   "metadata": {},
   "outputs": [
    {
     "data": {
      "image/png": "[encoded data removed]",
      "text/plain": [
       "<IPython.core.display.Image object>"
      ]
     },
     "metadata": {},
     "output_type": "display_data"
    }
   ],
   "source": [
    "%%R\n",
    "\n",
    "tmp <- contrasts.fit(fit, contr)\n",
    "tmp2 <- eBayes(tmp)\n",
    "tt_full <- topTable(tmp2, sort.by = \"P\", n = Inf)\n",
    "\n",
    "plotSA(tmp2, xlab = \"Average log-expression\", ylab = \"sqrt(sigma)\", zero.weights = FALSE,\n",
    "       pch = 16, cex = 0.3, col = c(\"black\",\"red\"))"
   ]
  },
  {
   "cell_type": "code",
   "execution_count": 44,
   "id": "863d4b64",
   "metadata": {},
   "outputs": [
    {
     "name": "stdout",
     "output_type": "stream",
     "text": [
      "            logFC  AveExpr         t      P.Value    adj.P.Val        B\n",
      "INPP5F   2.727772 5.572005  13.84195 6.171679e-12 7.911475e-08 17.22714\n",
      "SHISA6   4.477838 3.000285  11.84075 1.106858e-10 4.899709e-07 13.88485\n",
      "KCNAB1  -4.078930 6.635182 -11.65359 1.477538e-10 4.899709e-07 14.36206\n",
      "MBOAT1   4.336051 2.461821  11.41350 2.151215e-10 4.899709e-07 13.05334\n",
      "ST8SIA5  3.933221 4.517097  11.38309 2.256980e-10 4.899709e-07 13.65325\n",
      "FCHSD2  -1.877978 8.738575 -11.37298 2.293335e-10 4.899709e-07 13.92418\n",
      "OPALIN  -3.536266 7.688574 -10.86424 5.195445e-10 9.514345e-07 13.14275\n",
      "EFR3B    2.333577 6.045235  10.44232 1.045537e-09 1.591166e-06 12.46501\n",
      "PLPPR1  -2.119945 7.485930 -10.40296 1.117130e-09 1.591166e-06 12.38360\n",
      "LGI4     2.359555 4.378743  10.28496 1.363985e-09 1.717739e-06 12.09640\n"
     ]
    }
   ],
   "source": [
    "%%R\n",
    "\n",
    "# Retrieve the top results without sorting by p-value directly\n",
    "tt <- topTable(tmp2, sort.by = \"P\", n = Inf)\n",
    "head(tt, 10)"
   ]
  },
  {
   "cell_type": "code",
   "execution_count": 45,
   "id": "6b92bf7b",
   "metadata": {},
   "outputs": [
    {
     "name": "stdout",
     "output_type": "stream",
     "text": [
      "[1] 1739\n"
     ]
    }
   ],
   "source": [
    "%%R\n",
    "length(which(tt$adj.P.Val < 0.05))"
   ]
  },
  {
   "cell_type": "code",
   "execution_count": 46,
   "id": "34f85b43",
   "metadata": {},
   "outputs": [
    {
     "name": "stdout",
     "output_type": "stream",
     "text": [
      "[1] 603\n",
      "         logFC   AveExpr        t      P.Value    adj.P.Val        B\n",
      "FOS   8.920771 1.8855648 5.112680 4.783793e-05 2.102348e-03 1.809227\n",
      "EGR1  8.389111 1.4626581 7.370410 3.249537e-07 7.573784e-05 5.601869\n",
      "GBP2  7.757696 0.7114883 5.594478 1.569254e-05 1.075613e-03 2.309895\n",
      "GFAP  7.641508 1.0286919 6.790774 1.101921e-06 1.623624e-04 4.493666\n",
      "ANXA2 7.297844 0.4356949 6.103852 4.958136e-06 4.780030e-04 3.135240\n",
      "DCLK1 6.491777 1.9423491 5.822655 9.331934e-06 7.452493e-04 3.388748\n"
     ]
    }
   ],
   "source": [
    "%%R\n",
    "\n",
    "# Calculate the number of genes with adj.P.Val < 0.05 and |logFC| > 1\n",
    "genes_up <- tt[tt$adj.P.Val < 0.05 & tt$logFC > 1, ]\n",
    "num_genes_up <- nrow(genes_up)\n",
    "\n",
    "# Print the number of significant genes\n",
    "print(num_genes_up)\n",
    "\n",
    "genes_up_sorted <- genes_up[order(genes_up$logFC, decreasing = TRUE), ]\n",
    "\n",
    "# View the head of the significant genes data frame\n",
    "head(genes_up_sorted)"
   ]
  },
  {
   "cell_type": "code",
   "execution_count": 47,
   "id": "f4f6234f",
   "metadata": {},
   "outputs": [
    {
     "name": "stdout",
     "output_type": "stream",
     "text": [
      "               logFC     AveExpr         t      P.Value    adj.P.Val\n",
      "FOS         8.920771  1.88556481  5.112680 4.783793e-05 2.102348e-03\n",
      "EGR1        8.389111  1.46265815  7.370410 3.249537e-07 7.573784e-05\n",
      "GBP2        7.757696  0.71148834  5.594478 1.569254e-05 1.075613e-03\n",
      "GFAP        7.641508  1.02869192  6.790774 1.101921e-06 1.623624e-04\n",
      "ANXA2       7.297844  0.43569494  6.103852 4.958136e-06 4.780030e-04\n",
      "DCLK1       6.491777  1.94234906  5.822655 9.331934e-06 7.452493e-04\n",
      "NPTX2       6.298577  3.27198600  6.873052 9.240357e-07 1.427134e-04\n",
      "JUNB        5.935403  1.92009138  5.282061 3.224987e-05 1.701280e-03\n",
      "ARHGAP24    5.878213  3.50961278  7.405285 3.023686e-07 7.313325e-05\n",
      "VIM         5.476351 -0.22686084  5.023432 5.894042e-05 2.413921e-03\n",
      "CEBPD       5.280511  0.98506641  4.441113 2.329079e-04 5.725384e-03\n",
      "VSIR        5.179069  1.70158709  8.191183 6.227740e-08 2.851193e-05\n",
      "HLA-B       5.133526  2.35136630  8.683909 2.411337e-08 1.545546e-05\n",
      "TUBB2A      5.005986  1.57552877  5.725115 1.164557e-05 8.530547e-04\n",
      "EMP1        4.971388 -0.18306362  4.617827 1.532142e-04 4.461692e-03\n",
      "MPP6        4.934907  1.78438802  7.945691 1.011178e-07 4.181383e-05\n",
      "PRRX1       4.768666  1.47247360  4.786209 1.029307e-04 3.507015e-03\n",
      "SCN9A       4.735544  0.99446287  4.432062 2.379648e-04 5.810420e-03\n",
      "ZFP36       4.684226  2.04487955  3.438485 2.501501e-03 2.538935e-02\n",
      "CDKN1A      4.646116  0.79272744  3.415086 2.642220e-03 2.639954e-02\n",
      "SERPINE1    4.613865 -0.48062931  3.915694 8.113952e-04 1.258417e-02\n",
      "FAM107A     4.601421  0.05815198  6.863850 9.423693e-07 1.438123e-04\n",
      "PROS1       4.593170  2.65219973  6.501614 2.060251e-06 2.589250e-04\n",
      "GPRC5A      4.592354  0.89045350  5.105773 4.861579e-05 2.119748e-03\n",
      "IER5L       4.496213  0.07251419  3.955463 7.383176e-04 1.212632e-02\n",
      "LINC01583   4.486899 -0.09674788  5.303041 3.071804e-05 1.633919e-03\n",
      "SHISA6      4.477838  3.00028457 11.840752 1.106858e-10 4.899709e-07\n",
      "SLC7A11     4.465033  2.43877685  4.670708 1.352002e-04 4.216864e-03\n",
      "TMSB10      4.419460  2.05620130  3.421238 2.604488e-03 2.620438e-02\n",
      "MBOAT1      4.336051  2.46182108 11.413497 2.151215e-10 4.899709e-07\n",
      "LGALS3      4.279153 -0.21554949  4.347381 2.909570e-04 6.554971e-03\n",
      "RBM11       4.238551  2.04843186  7.768674 1.441375e-07 4.967956e-05\n",
      "ITGA8       4.233015  2.14226208  8.231076 5.760400e-08 2.840099e-05\n",
      "SLC7A5      4.189233  1.92136033  4.321812 3.091768e-04 6.868869e-03\n",
      "CHST1       4.131274  2.05144196  4.169836 4.436653e-04 8.630992e-03\n",
      "SOCS3       4.085414  2.01591189  4.357405 2.841124e-04 6.503636e-03\n",
      "TUBB2B      4.080034  2.68117607  4.199177 4.137797e-04 8.326911e-03\n",
      "ARL4C       4.069488 -0.58655500  3.936314 7.726502e-04 1.228989e-02\n",
      "KLF10       4.031503  0.18420749  4.547038 1.811752e-04 5.016167e-03\n",
      "PID1        4.018341  1.12442144  3.974761 7.052554e-04 1.174113e-02\n",
      "C3orf70     4.014784  2.32774288  9.357436 6.932638e-09 6.347821e-06\n",
      "ADGRG1      4.003187  1.94300686  4.539174 1.845830e-04 5.055919e-03\n",
      "SEMA4B      3.995513  5.12567248  7.493844 2.520065e-07 6.460943e-05\n",
      "RGS16       3.976623  0.06283156  4.473555 2.156541e-04 5.506913e-03\n",
      "ID4         3.970255 -0.46273963  3.702240 1.345108e-03 1.703848e-02\n",
      "PRKX        3.938098  5.33704333  6.942558 7.968912e-07 1.315461e-04\n",
      "ST8SIA5     3.933221  4.51709712 11.383089 2.256980e-10 4.899709e-07\n",
      "GRIK3       3.905717  1.99980934  5.957059 6.889614e-06 5.871546e-04\n",
      "ACSBG1      3.874833  2.90491075  5.120753 4.694477e-05 2.091866e-03\n",
      "SLC2A3      3.831538  1.26290989  3.547716 1.936097e-03 2.148816e-02\n",
      "JDP2        3.802240  1.62398194  5.742538 1.119298e-05 8.293805e-04\n",
      "MAFF        3.788633  2.88351922  6.967752 7.553790e-07 1.299360e-04\n",
      "FOXP2       3.782043  0.60032909  3.622986 1.621732e-03 1.939271e-02\n",
      "GADD45B     3.755884  2.32873087  3.255247 3.833333e-03 3.445968e-02\n",
      "HLA-E       3.752328 -0.04771484  3.614815 1.653263e-03 1.955090e-02\n",
      "MT1X        3.750100 -0.04902852  3.258157 3.807565e-03 3.432431e-02\n",
      "CLVS2       3.725292  1.17412077  4.689243 1.294050e-04 4.085819e-03\n",
      "FSTL5       3.720203  2.69796392  5.975969 6.602790e-06 5.735366e-04\n",
      "OSMR-AS1    3.712873  0.92335347  3.984638 6.889084e-04 1.158939e-02\n",
      "ARC         3.708628 -0.55734045  3.184437 4.515385e-03 3.851146e-02\n",
      "LONRF3      3.694876  0.82697627  4.147406 4.679594e-04 8.913479e-03\n",
      "CPXM2       3.688622  1.25265221  4.099250 5.247025e-04 9.541323e-03\n",
      "PKNOX2      3.654420  2.35305882  6.364683 2.781299e-06 3.270960e-04\n",
      "RREB1       3.646660  1.26278439  4.155348 4.592093e-04 8.799020e-03\n",
      "KCND3       3.644765  4.73653003  3.660613 1.484028e-03 1.818715e-02\n",
      "ARHGEF17    3.637200  0.15685430  4.142678 4.732480e-04 8.974210e-03\n",
      "NGEF        3.599326  1.44642031  4.886787 8.122460e-05 2.916577e-03\n",
      "B3GNT7      3.592449  0.66033761  4.169845 4.436559e-04 8.630992e-03\n",
      "GLI3        3.585252  1.13774819  4.420804 2.444090e-04 5.878196e-03\n",
      "SERPINB9    3.581806  2.52714374  4.243571 3.723458e-04 7.735982e-03\n",
      "TNFRSF19    3.567194  1.83202625  5.774643 1.040547e-05 7.829801e-04\n",
      "IL6R        3.566281  2.33788608  4.530195 1.885530e-04 5.088551e-03\n",
      "BIRC3       3.544283  2.31252360  6.194343 4.053234e-06 4.293461e-04\n",
      "NR4A1       3.533747  1.99025608  3.972834 7.084898e-04 1.177968e-02\n",
      "ITGA11      3.517884  1.36113949  3.922810 7.978114e-04 1.253327e-02\n",
      "ABLIM3      3.517704  2.98803525  6.998017 7.084388e-07 1.279081e-04\n",
      "TEAD4       3.499660  0.81799669  3.538800 1.977100e-03 2.179230e-02\n",
      "COL27A1     3.497471  0.65983466  4.049962 5.898962e-04 1.044245e-02\n",
      "GPRIN1      3.476001 -0.55298007  3.820789 1.016138e-03 1.434221e-02\n",
      "KLF6        3.473117  4.74496649  6.069765 5.350535e-06 4.934425e-04\n",
      "LGALS1      3.462800  0.03542577  4.481497 2.116299e-04 5.435877e-03\n",
      "COTL1       3.450932  0.68431304  4.169842 4.436593e-04 8.630992e-03\n",
      "EHD2        3.434651  0.64852576  4.195265 4.176454e-04 8.391531e-03\n",
      "COL18A1     3.428956  5.17832955  5.421108 2.337678e-05 1.343798e-03\n",
      "FAM129B     3.415318  0.85074040  4.465313 2.199117e-04 5.538405e-03\n",
      "PTPRB       3.397027  1.10371736  3.819525 1.019185e-03 1.434221e-02\n",
      "TRIB1       3.333568 -0.86282134  3.114616 5.302666e-03 4.256410e-02\n",
      "CSRNP1      3.319967  2.20606456  4.741938 1.142622e-04 3.727041e-03\n",
      "FOSL2       3.307560 -0.11826987  3.135362 5.055803e-03 4.154509e-02\n",
      "SLCO4A1-AS1 3.250308 -0.46309994  3.017984 6.614649e-03 4.924110e-02\n",
      "CLCF1       3.249007 -0.96142658  3.285401 3.574348e-03 3.286913e-02\n",
      "S100A16     3.230778  0.83887031  4.414201 2.482697e-04 5.926573e-03\n",
      "NR0B1       3.222213 -0.67433878  3.676211 1.430386e-03 1.776756e-02\n",
      "LUCAT1      3.212039  3.30759492  3.590045 1.752584e-03 2.031318e-02\n",
      "ABCA6       3.184780  5.83348894  5.268723 3.326392e-05 1.718371e-03\n",
      "GDPD5       3.174809  1.77449989  4.753556 1.111719e-04 3.672970e-03\n",
      "PTPRM       3.166175  7.81095355  7.411975 2.982243e-07 7.313325e-05\n",
      "NFATC1      3.154331  3.51480289  6.476687 2.175544e-06 2.707601e-04\n",
      "AC002066.1  3.147774  2.63796425  4.970616 6.670800e-05 2.581280e-03\n",
      "CCN3        3.136760 -0.73969289  3.858363 9.295717e-04 1.362717e-02\n",
      "NGFR        3.135339  3.06255133  8.817226 1.875505e-08 1.335672e-05\n",
      "CHRNA4      3.130943  1.47047543  3.900342 8.414926e-04 1.281128e-02\n",
      "TGFBR3      3.121855  1.73263170  4.137913 4.786379e-04 9.021285e-03\n",
      "C2CD2       3.102458  3.54366579  8.447906 3.783633e-08 2.020933e-05\n",
      "CAV1        3.082839  3.75237831  5.435905 2.259234e-05 1.316415e-03\n",
      "AC005609.5  3.081063  2.89991613  4.530537 1.884000e-04 5.088551e-03\n",
      "TMEM178A    3.064983  2.59782892  5.179449 4.093945e-05 1.915339e-03\n",
      "P3H2        3.052786  4.24963303  6.297919 3.222296e-06 3.721317e-04\n",
      "TCAF2       3.040198  2.07145953  3.885364 8.719235e-04 1.308856e-02\n",
      "NDRG4       3.035504  0.78254345  3.390320 2.799607e-03 2.758506e-02\n",
      "GEM         3.033966 -0.67306126  3.243931 3.935163e-03 3.515321e-02\n",
      "HAS1        3.024494  0.08001091  3.905614 8.310343e-04 1.271245e-02\n",
      "AFAP1L1     3.014485  1.74072510  6.073326 5.308087e-06 4.930751e-04\n",
      "MFGE8       3.005314  4.28574470  4.890147 8.058529e-05 2.901749e-03\n",
      "LAMC1       3.004271  0.64089306  3.394540 2.772156e-03 2.735663e-02\n",
      "CAMKK1      2.996391  0.67267214  3.484760 2.244514e-03 2.375013e-02\n",
      "UBASH3B     2.987497  1.89001728  5.326134 2.911723e-05 1.587841e-03\n"
     ]
    },
    {
     "name": "stdout",
     "output_type": "stream",
     "text": [
      "SH2D3C      2.974563  0.26706265  3.572743 1.825429e-03 2.081546e-02\n",
      "ABCA9       2.970212  3.42317463  4.844107 8.980528e-05 3.136823e-03\n",
      "BACE2       2.967819  3.60210882  5.659436 1.352648e-05 9.581820e-04\n",
      "MYRIP       2.955303  6.56086361 10.239369 1.473994e-09 1.717739e-06\n",
      "MARCKS      2.947910  2.70802322  4.022557 6.295778e-04 1.083296e-02\n",
      "AC011944.1  2.930556  1.35865705  5.116289 4.743646e-05 2.098666e-03\n",
      "ARHGAP20    2.914656  1.42994867  3.229316 4.070582e-03 3.596803e-02\n",
      "COL6A1      2.909624  1.66489854  3.368165 2.948156e-03 2.873530e-02\n",
      "ADAMTS12    2.900273  0.17257662  3.893600 8.550582e-04 1.292570e-02\n",
      "RASGRF1     2.874974  5.48649069  9.088345 1.132940e-08 9.076970e-06\n",
      "FOSL1       2.864897 -0.44959715  3.033084 6.390753e-03 4.816171e-02\n",
      "SETBP1      2.860814  4.42544543  7.276128 3.951432e-07 8.733347e-05\n",
      "AC027117.2  2.859919  4.43588312  5.461094 2.131804e-05 1.256444e-03\n",
      "ITGB4       2.846969  3.88874099  3.504880 2.141035e-03 2.294810e-02\n",
      "HAP1        2.828467  0.18576123  3.120859 5.227171e-03 4.223650e-02\n",
      "TNFRSF12A   2.816037  0.08194821  3.567295 1.848975e-03 2.088397e-02\n",
      "CNTNAP3     2.810166  3.89703201  6.104899 4.946560e-06 4.780030e-04\n",
      "ARHGAP39    2.782129  4.01564334  8.310533 4.934556e-08 2.530243e-05\n",
      "HLA-F       2.770003  0.85394213  4.046693 5.944960e-04 1.048259e-02\n",
      "UCHL1       2.764254  2.43887783  3.376003 2.894738e-03 2.830484e-02\n",
      "HCN3        2.761539  0.46033050  4.241255 3.744017e-04 7.753562e-03\n",
      "P3H2-AS1    2.756637  0.65377067  3.681433 1.412859e-03 1.763326e-02\n",
      "INPP5F      2.727772  5.57200546 13.841951 6.171679e-12 7.911475e-08\n",
      "RGS17       2.713325  2.09808462  3.819667 1.018842e-03 1.434221e-02\n",
      "SNX10       2.710114  0.48289912  3.419643 2.614218e-03 2.622681e-02\n",
      "SERTAD1     2.705326  1.80377811  4.440690 2.331422e-04 5.725384e-03\n",
      "BTN3A2      2.703887  2.30224570  5.974164 6.629642e-06 5.735366e-04\n",
      "GPC5        2.698745  6.11172041  6.838997 9.937771e-07 1.498733e-04\n",
      "TBC1D4      2.689696  1.16776513  3.024107 6.522967e-03 4.885310e-02\n",
      "SPATA12     2.685257 -0.06235918  3.198803 4.368096e-03 3.773606e-02\n",
      "VWA5A       2.652992  2.21670992  4.209533 4.037193e-04 8.201709e-03\n",
      "TRPM8       2.652423  0.40813128  3.371389 2.926070e-03 2.856762e-02\n",
      "LINC02197   2.651100  4.35581433  8.892799 1.628134e-08 1.227709e-05\n",
      "SH3RF3      2.635547  2.20699606  4.591375 1.631143e-04 4.615810e-03\n",
      "LNX2        2.623536  2.69093226  5.905847 7.732149e-06 6.436261e-04\n",
      "EPHA7       2.615879  1.65933639  4.755334 1.107064e-04 3.667041e-03\n",
      "KLHL29      2.612554  2.54299035  4.883420 8.187035e-05 2.931553e-03\n",
      "FAP         2.595828  2.45051909  4.159683 4.545018e-04 8.761291e-03\n",
      "HK1         2.587646  1.56909669  3.993589 6.744198e-04 1.138397e-02\n",
      "AFF3        2.583714  4.20344036  5.772989 1.044462e-05 7.829801e-04\n",
      "KANK4       2.579978  1.61242410  5.555838 1.714575e-05 1.126252e-03\n",
      "FAM43A      2.572804  1.40322634  4.130105 4.876033e-04 9.111642e-03\n",
      "AL158198.1  2.566780  1.61922550  4.745515 1.133017e-04 3.724138e-03\n",
      "PTPRU       2.566150  2.93971052  7.089933 5.834543e-07 1.150662e-04\n",
      "ARHGAP31    2.559193  0.86005206  3.333775 3.194133e-03 3.032641e-02\n",
      "DTX3L       2.558843  1.94431303  5.521537 1.855053e-05 1.159996e-03\n",
      "TTC39B      2.552601  1.65984067  4.285464 3.370635e-04 7.274103e-03\n",
      "SCARA3      2.551127  3.22582786  5.514465 1.885445e-05 1.167610e-03\n",
      "LINC01750   2.528269  0.68748779  3.169721 4.671254e-03 3.926610e-02\n",
      "CAV2        2.519567  3.67439054  6.270180 3.426040e-06 3.785536e-04\n",
      "TLE3        2.514948  1.17760346  3.077956 5.767703e-03 4.500072e-02\n",
      "ACTN2       2.487720  5.58620534  6.658524 1.465078e-06 2.041395e-04\n",
      "REEP1       2.459535  3.24603495  3.268273 3.719290e-03 3.381388e-02\n",
      "TAGLN2      2.456116  3.15340329  4.255595 3.618572e-04 7.604339e-03\n",
      "LRCH1       2.448463  0.65940608  3.060630 6.000979e-03 4.623360e-02\n",
      "TRAM2       2.446172  3.26857572  6.940479 8.004211e-07 1.315461e-04\n",
      "PRKX-AS1    2.439805  0.90350869  3.442139 2.480202e-03 2.523310e-02\n",
      "DDX60L      2.426575  2.19108047  5.588180 1.592053e-05 1.075613e-03\n",
      "ARHGAP26    2.416092  3.07814616  4.691520 1.287109e-04 4.084021e-03\n",
      "RRAD        2.406075  0.85570938  4.756344 1.104430e-04 3.667041e-03\n",
      "BCAR3       2.386487  3.86855106  6.288954 3.286750e-06 3.759781e-04\n",
      "AMOTL1      2.361673  1.77544557  3.536490 1.987858e-03 2.185451e-02\n",
      "LGI4        2.359555  4.37874331 10.284964 1.363985e-09 1.717739e-06\n",
      "BTN3A3      2.349093  0.62315398  3.356661 3.028301e-03 2.925678e-02\n",
      "RANBP17     2.345132  5.65451778  6.762967 1.169714e-06 1.684782e-04\n",
      "SMCO4       2.341676  1.67660720  3.936019 7.731902e-04 1.228989e-02\n",
      "EFR3B       2.333577  6.04523531 10.442317 1.045537e-09 1.591166e-06\n",
      "AFAP1       2.314366  3.69356399  4.890792 8.046325e-05 2.901749e-03\n",
      "GALNT15     2.310987  6.50248436  7.209058 4.544526e-07 9.396174e-05\n",
      "NLRC5       2.310547  3.08206895  6.193863 4.057561e-06 4.293461e-04\n",
      "FKBP5       2.294389  7.15892411  4.367298 2.775150e-04 6.421417e-03\n",
      "NAV2        2.289999  8.51533210  6.633782 1.545665e-06 2.130525e-04\n",
      "RNF152      2.284940  4.61529420  7.745133 1.511430e-07 4.967956e-05\n",
      "PPP1R3B     2.272603  1.19463733  3.127973 5.142418e-03 4.198768e-02\n",
      "AC114947.2  2.266541  1.41579650  3.567551 1.847863e-03 2.088397e-02\n",
      "AC011483.1  2.260261  2.32722260  5.168742 4.197364e-05 1.949493e-03\n",
      "PARP9       2.246577  3.82616610  5.793874 9.961073e-06 7.692229e-04\n",
      "LURAP1L     2.237852  5.58434182  3.484375 2.246542e-03 2.375013e-02\n",
      "CIT         2.237617  3.50324237  4.176600 4.365898e-04 8.596997e-03\n",
      "GRM8        2.229924  3.98861422  4.410830 2.502643e-04 5.939521e-03\n",
      "CD59        2.217956  0.98650460  3.644067 1.543098e-03 1.875158e-02\n",
      "GTF2IRD1    2.217533  6.01221568  5.845479 8.861989e-06 7.232259e-04\n",
      "PIEZO1      2.204392  2.35847046  5.774732 1.040336e-05 7.829801e-04\n",
      "MAP2K3      2.204072  3.08546647  4.630498 1.486884e-04 4.401932e-03\n",
      "H1F0        2.202139  3.26296187  4.201506 4.114958e-04 8.313987e-03\n",
      "LINC01010   2.201095  5.50774528  4.747058 1.128898e-04 3.720139e-03\n",
      "GINS2       2.198513  1.12308388  3.516397 2.083928e-03 2.260883e-02\n",
      "ISG20       2.198399  4.24623524  5.403430 2.435048e-05 1.390442e-03\n",
      "BMP2        2.195197  2.87706585  3.642017 1.550576e-03 1.882276e-02\n",
      "DIRAS2      2.183842  1.45445071  3.345618 3.107237e-03 2.974733e-02\n",
      "TNFRSF21    2.183572  2.81624182  5.887272 8.063163e-06 6.625749e-04\n",
      "AC069368.1  2.182479  3.25671590  4.662086 1.379844e-04 4.271001e-03\n",
      "HMGA1       2.179761  3.03280084  4.373562 2.734175e-04 6.347577e-03\n",
      "IRF1        2.160935  2.36755000  4.625138 1.505862e-04 4.417310e-03\n",
      "AL356417.3  2.148236  1.22058419  3.764683 1.160489e-03 1.562347e-02\n",
      "MAMLD1      2.144219  3.35281909  6.952559 7.801376e-07 1.315461e-04\n",
      "RTN2        2.141085  0.87643419  3.279013 3.627750e-03 3.317171e-02\n",
      "LDLR        2.140665  5.71590958  7.132972 5.329730e-07 1.067528e-04\n",
      "GULP1       2.139955  4.45610253  4.924791 7.428397e-05 2.728499e-03\n",
      "TENM4       2.135188  2.49787844  3.894833 8.525596e-04 1.291839e-02\n",
      "PLXND1      2.128713  5.13520994  7.756824 1.476209e-07 4.967956e-05\n",
      "NEDD4       2.115468  4.76419115  5.186885 4.023655e-05 1.903293e-03\n",
      "FMNL3       2.114213  5.70042651  7.721579 1.585049e-07 5.043758e-05\n",
      "SAMD4A      2.104051  5.92025900  4.658875 1.390361e-04 4.271884e-03\n",
      "RARA        2.088497  2.08119635  4.335000 2.996412e-04 6.715210e-03\n",
      "TSPAN9      2.086450  3.43224214  4.410155 2.506655e-04 5.939521e-03\n",
      "IGF2BP2     2.083463  1.42926738  3.180417 4.557453e-03 3.876708e-02\n",
      "NRP2        2.079483  4.58877367  4.769229 1.071362e-04 3.567217e-03\n",
      "DEPDC1B     2.073823  3.25933912  5.078510 5.181367e-05 2.228857e-03\n",
      "RASGEF1C    2.068139  5.16342565  5.667799 1.327070e-05 9.503750e-04\n",
      "ZNF367      2.067954  3.80701356  4.525258 1.907723e-04 5.100547e-03\n",
      "ITPKB-AS1   2.062548  2.47485299  4.363505 2.800260e-04 6.444619e-03\n",
      "DRAM1       2.060510  1.52751906  3.661835 1.479754e-03 1.815212e-02\n",
      "DDIT4       2.059519  4.31654874  4.552225 1.789623e-04 4.986259e-03\n",
      "RGMB        2.044950  2.91005716  4.726270 1.185677e-04 3.840087e-03\n",
      "IRF7        2.043746  1.12620320  3.450223 2.433706e-03 2.507278e-02\n",
      "DOCK7       2.030992  5.17416227  7.566083 2.173745e-07 5.928773e-05\n",
      "ST3GAL1     2.030631  3.60229046  3.595319 1.730956e-03 2.017628e-02\n"
     ]
    },
    {
     "name": "stdout",
     "output_type": "stream",
     "text": [
      "KCNIP3      2.023486  3.83227791  5.263456 3.367324e-05 1.718371e-03\n",
      "BCL6        2.021608  6.05775598  3.280682 3.613721e-03 3.311243e-02\n",
      "MFSD4A      2.015919  3.64627482  6.277584 3.370400e-06 3.785536e-04\n",
      "KLF12       2.007631  2.98707850  3.329210 3.228252e-03 3.058608e-02\n",
      "AZGP1       2.006722  4.39646354  4.124191 4.945044e-04 9.137128e-03\n",
      "SEMA3A      1.997222  2.45051423  4.317723 3.121947e-04 6.906865e-03\n",
      "CASZ1       1.994229  1.46824753  3.083468 5.695347e-03 4.451747e-02\n",
      "USH1C       1.991375  2.09820504  3.573514 1.822121e-03 2.081546e-02\n",
      "SEC24D      1.990460  2.63497754  3.126759 5.156781e-03 4.205131e-02\n",
      "PDP1        1.985501  1.65513038  3.027344 6.474994e-03 4.862504e-02\n",
      "CNBD1       1.985297  2.75821226  3.031859 6.408632e-03 4.821142e-02\n",
      "ZC3HAV1     1.985041  1.64244454  5.169498 4.189970e-05 1.949493e-03\n",
      "IL17RD      1.975284  1.02142757  3.830071 9.940361e-04 1.413368e-02\n",
      "TRIM25      1.973608  1.47965602  3.552133 1.916098e-03 2.134079e-02\n",
      "SP100       1.970588  1.67890241  3.930318 7.837237e-04 1.240315e-02\n",
      "CEBPG       1.963324  2.40562000  3.608761 1.677012e-03 1.975884e-02\n",
      "PIM1        1.960643  1.57154391  3.464030 2.356265e-03 2.451702e-02\n",
      "GLRX        1.960427  3.98304342  5.147761 4.407776e-05 1.996110e-03\n",
      "NOD1        1.952868  1.51832601  3.913532 8.155684e-04 1.259710e-02\n",
      "DCTD        1.945642  2.04327635  3.850769 9.464559e-04 1.378707e-02\n",
      "MFHAS1      1.945032  3.54001273  4.294399 3.299828e-04 7.206218e-03\n",
      "XYLT1       1.938130  6.86140480  5.115920 4.747742e-05 2.098666e-03\n",
      "PRKRA-AS1   1.932171  2.11345080  4.366191 2.782450e-04 6.426708e-03\n",
      "HPSE2       1.928117  1.60093168  3.125421 5.172667e-03 4.212733e-02\n",
      "SORL1       1.923688  6.59103933  6.974073 7.453177e-07 1.299360e-04\n",
      "NCMAP       1.903344  1.57960115  4.410818 2.502712e-04 5.939521e-03\n",
      "AC084032.1  1.898255  5.49951729  4.968410 6.705407e-05 2.581280e-03\n",
      "GALNT18     1.896375  4.48052848  7.989473 9.268959e-08 3.960626e-05\n",
      "PPP1R15A    1.891682  2.56464643  4.177649 4.355030e-04 8.588789e-03\n",
      "CDK2        1.887403  1.07785493  3.010015 6.735857e-03 4.982513e-02\n",
      "PLIN3       1.865725  5.80247108  5.001925 6.198633e-05 2.498751e-03\n",
      "STK10       1.858597  4.17216891  6.914723 8.454959e-07 1.354801e-04\n",
      "DGKH        1.851922  4.70733612  4.996931 6.271607e-05 2.506241e-03\n",
      "AC005821.1  1.845197  2.06002624  3.123451 5.196134e-03 4.218445e-02\n",
      "RHOBTB3     1.844911  7.91306657  8.580257 2.936300e-08 1.710928e-05\n",
      "TAP1        1.839660  2.62077350  4.171531 4.418819e-04 8.630992e-03\n",
      "CDKN2D      1.838133  3.24011134  4.476348 2.142300e-04 5.481466e-03\n",
      "BEND7       1.824759  2.35867709  4.155664 4.588644e-04 8.799020e-03\n",
      "ANKDD1A     1.806994  4.09833874  5.490789 1.990939e-05 1.198209e-03\n",
      "PPM1E       1.806490  3.95422320  4.955993 6.903653e-05 2.625025e-03\n",
      "DPY19L1     1.800061  5.11706871  8.061364 8.039147e-08 3.553580e-05\n",
      "MIDN        1.795756  5.33610784  4.684262 1.309375e-04 4.113941e-03\n",
      "RADIL       1.795195  2.04000162  3.638648 1.562944e-03 1.891915e-02\n",
      "ELF4        1.792196  1.77993888  3.711102 1.317237e-03 1.678495e-02\n",
      "APOL2       1.785177  3.10975599  3.480176 2.268769e-03 2.388745e-02\n",
      "SLC6A6      1.777341  5.30735752  5.955340 6.916323e-06 5.871546e-04\n",
      "ADAMTSL2    1.776341  2.39897004  4.470550 2.171966e-04 5.515171e-03\n",
      "HMSD        1.773472  2.67203679  4.341952 2.947338e-04 6.628409e-03\n",
      "ALDH3A2     1.768985  6.32784760  4.774006 1.059357e-04 3.545665e-03\n",
      "SDK2        1.764403  3.61320111  3.983736 6.903853e-04 1.159902e-02\n",
      "ASB4        1.762767  1.45698048  4.350123 2.890685e-04 6.539451e-03\n",
      "ZYX         1.762151  2.00282867  3.073363 5.828675e-03 4.528351e-02\n",
      "HMGCS1      1.753551  5.90340859  5.074941 5.224773e-05 2.240012e-03\n",
      "EHD4        1.747782  2.92321088  4.913103 7.635215e-05 2.785959e-03\n",
      "H1FX        1.745765  4.74389124  3.949182 7.494085e-04 1.216034e-02\n",
      "SIPA1L2     1.744323  5.10454800  5.797888 9.870798e-06 7.692229e-04\n",
      "SCCPDH      1.741780  5.70075951  7.047708 6.377788e-07 1.198698e-04\n",
      "ITPKB       1.741256  7.65142821 10.048902 2.043328e-09 2.182785e-06\n",
      "ZSWIM4      1.739990  3.12853101  5.263397 3.367783e-05 1.718371e-03\n",
      "GGH         1.738890  1.97217594  3.995537 6.713066e-04 1.135288e-02\n",
      "PSMB9       1.738858  3.72577600  5.313203 3.000282e-05 1.615992e-03\n",
      "TMEM120B    1.738045  3.84593153  5.276755 3.264948e-05 1.710920e-03\n",
      "LHFPL4      1.737213  1.80029870  3.252351 3.859148e-03 3.461891e-02\n",
      "SBF2-AS1    1.735896  3.32316479  6.085582 5.164645e-06 4.868058e-04\n",
      "HLA-C       1.735369  4.17919901  3.468222 2.333233e-03 2.433662e-02\n",
      "MT3         1.731968  3.67921033  3.848320 9.519641e-04 1.383586e-02\n",
      "GSE1        1.731460  2.14568655  3.191837 4.438917e-03 3.808734e-02\n",
      "LIMD1       1.729275  3.65453139  4.619422 1.526369e-04 4.457067e-03\n",
      "AC105094.2  1.728961  2.37871148  3.917155 8.085881e-04 1.258417e-02\n",
      "KHDRBS3     1.727764  5.94810699  3.159012 4.787964e-03 4.003713e-02\n",
      "KCNK12      1.717931  4.00852570  3.838215 9.750387e-04 1.403230e-02\n",
      "ATF3        1.717026  4.63898086  3.777774 1.125089e-03 1.532594e-02\n",
      "MCUB        1.714320  3.77764950  4.414268 2.482301e-04 5.926573e-03\n",
      "HIST1H2BD   1.707335  3.03965087  4.568007 1.723949e-04 4.846338e-03\n",
      "TCF19       1.706669  1.08906842  3.111398 5.341982e-03 4.285286e-02\n",
      "CDK14       1.700343  5.40657414  5.367090 2.648378e-05 1.489016e-03\n",
      "RXRA        1.695886  3.72804848  5.276095 3.269953e-05 1.710920e-03\n",
      "SPATA1      1.694866  3.41560860  5.231542 3.626521e-05 1.794918e-03\n",
      "BTG1        1.691735  4.62460506  5.146349 4.422305e-05 1.996110e-03\n",
      "PDIA5       1.687027  2.96995326  4.517841 1.941561e-04 5.143932e-03\n",
      "BTN3A1      1.679842  2.48774953  4.252798 3.642702e-04 7.622805e-03\n",
      "PKIA        1.678524  2.93049671  3.571143 1.832313e-03 2.082306e-02\n",
      "AL662844.4  1.678103  1.91292799  3.542628 1.959391e-03 2.167164e-02\n",
      "LMNA        1.673980  6.40122705  4.953638 6.941910e-05 2.625025e-03\n",
      "NCK2        1.671791  3.25772862  4.935376 7.245996e-05 2.684993e-03\n",
      "AC022784.1  1.667862  1.77698103  3.593744 1.737389e-03 2.019183e-02\n",
      "ERAP2       1.667752  3.09262891  3.965477 7.209726e-04 1.194156e-02\n",
      "CSF1        1.661498  4.46978423  7.757162 1.475206e-07 4.967956e-05\n",
      "MAP3K14     1.660437  3.78061252  5.183496 4.055539e-05 1.911322e-03\n",
      "AP002762.1  1.658986  1.10455532  3.060595 6.001459e-03 4.623360e-02\n",
      "SLC7A1      1.657965  4.82596094  5.574830 1.641508e-05 1.087886e-03\n",
      "ITPRIP      1.653529  2.55263404  3.470202 2.322432e-03 2.426345e-02\n",
      "LHFPL3      1.652510  6.48723769  5.973425 6.640661e-06 5.735366e-04\n",
      "HLA-A       1.650716  5.16528153  4.048780 5.915553e-04 1.044511e-02\n",
      "PHACTR1     1.636572  7.47238071  7.432098 2.861088e-07 7.191430e-05\n",
      "ARID5A      1.634845  1.66168619  3.150517 4.882545e-03 4.055547e-02\n",
      "KCNN3       1.634773  3.95386377  6.079686 5.233146e-06 4.896620e-04\n",
      "CARD19      1.625723  3.97149952  4.817398 9.563571e-05 3.313389e-03\n",
      "GUCY1B1     1.616438  3.45047790  3.102943 5.446656e-03 4.342083e-02\n",
      "UBALD2      1.612083  4.51238837  4.658083 1.392969e-04 4.271884e-03\n",
      "NFKBIA      1.612055  5.12713316  4.411158 2.500692e-04 5.939521e-03\n",
      "ELOVL2      1.610582  2.66404912  5.389765 2.513135e-05 1.419201e-03\n",
      "NBPF14      1.610521  1.85856371  3.043854 6.235527e-03 4.740997e-02\n",
      "CCDC88B     1.610081  1.48979496  3.313755 3.346439e-03 3.145015e-02\n",
      "CRTAC1      1.606039  2.21112825  3.867230 9.102346e-04 1.344274e-02\n",
      "ABCC1       1.601173  2.62351390  3.943226 7.600789e-04 1.224747e-02\n",
      "MSMO1       1.597359  6.27681750  4.287466 3.354640e-04 7.264043e-03\n",
      "MPZL1       1.596934  2.64134520  3.174144 4.623867e-03 3.906249e-02\n",
      "LRRN1       1.593426  3.70610436  4.529258 1.889720e-04 5.089142e-03\n",
      "IRF9        1.591993  2.39413757  3.908678 8.250152e-04 1.266571e-02\n",
      "ANKRD18A    1.591215  6.21347998  4.524783 1.909870e-04 5.100547e-03\n",
      "PDE9A       1.590169  4.94371222  6.391964 2.619391e-06 3.188131e-04\n",
      "WWC2        1.588719  6.29172884  8.638000 2.630701e-08 1.605855e-05\n",
      "PALM        1.586139  3.12814971  3.299374 3.460201e-03 3.214226e-02\n",
      "C11orf80    1.580256  2.80084178  3.199798 4.358069e-03 3.773606e-02\n",
      "UBTD1       1.576845  4.79985576  5.580224 1.621339e-05 1.082497e-03\n",
      "LIMK1       1.575680  2.40720543  3.443312 2.473400e-03 2.518868e-02\n",
      "ZMIZ1       1.575150  6.35241346  7.197373 4.656906e-07 9.475695e-05\n"
     ]
    },
    {
     "name": "stdout",
     "output_type": "stream",
     "text": [
      "VAT1        1.569858  3.10013699  3.196854 4.387804e-03 3.782051e-02\n",
      "VAV2        1.562018  3.10358815  4.270906 3.489279e-04 7.454845e-03\n",
      "HMGCR       1.561545  5.03056576  5.808352 9.639365e-06 7.580798e-04\n",
      "MYO5B       1.556474  4.49825238  3.717105 1.298684e-03 1.669792e-02\n",
      "PLCB3       1.554762  1.50320258  4.073595 5.576852e-04 1.002660e-02\n",
      "GPIHBP1     1.554434  4.90418591  5.429800 2.291269e-05 1.329040e-03\n",
      "SYNM        1.551447  4.82698808  3.588178 1.760305e-03 2.034748e-02\n",
      "SBK1        1.545553  1.57243250  3.575663 1.812929e-03 2.074995e-02\n",
      "BCL2        1.544994  7.62356536  5.038857 5.684973e-05 2.366093e-03\n",
      "MTHFD1L     1.543059  4.15234596  4.183041 4.299575e-04 8.505595e-03\n",
      "AC097534.1  1.542038  1.23064859  3.017460 6.622563e-03 4.924283e-02\n",
      "MAFK        1.535110  3.52241848  5.352358 2.740191e-05 1.526938e-03\n",
      "RELL1       1.529892  3.07460216  3.274410 3.666713e-03 3.347834e-02\n",
      "PRKCA       1.528602  8.05217405  3.960541 7.294706e-04 1.205036e-02\n",
      "COL4A6      1.516206  1.14004802  3.337382 3.167414e-03 3.016574e-02\n",
      "LINC01137   1.511694  3.31117353  3.431119 2.544987e-03 2.578915e-02\n",
      "STK40       1.507363  5.05944557  4.545498 1.818377e-04 5.023657e-03\n",
      "C17orf97    1.506206  1.51089526  3.134092 5.070587e-03 4.156001e-02\n",
      "SLC1A4      1.497318  3.27470089  4.616106 1.538394e-04 4.461692e-03\n",
      "LRRFIP1     1.489525  2.30967157  3.411694 2.663254e-03 2.652700e-02\n",
      "STAT3       1.488903  7.03805468  4.164890 4.489123e-04 8.701073e-03\n",
      "SLC41A2     1.486994  2.73061637  3.018175 6.611773e-03 4.924110e-02\n",
      "SLC2A9      1.483185  2.49485463  4.035966 6.098399e-04 1.060724e-02\n",
      "ELN         1.474373  4.76121456  4.263767 3.548976e-04 7.507314e-03\n",
      "SEMA5A      1.473804  6.91487711  6.237565 3.682591e-06 4.000605e-04\n",
      "ETS1        1.467868  4.24240331  4.517709 1.942166e-04 5.143932e-03\n",
      "PHYH        1.466636  3.08478774  4.726060 1.186266e-04 3.840087e-03\n",
      "AC105285.1  1.463854  4.25854106  7.620551 1.945361e-07 5.667633e-05\n",
      "SPRY2       1.462803  3.04791693  3.834050 9.847088e-04 1.407790e-02\n",
      "DCC         1.458692  8.18004254  6.005432 6.180028e-06 5.539985e-04\n",
      "KCNMB4      1.453533  8.69366916  3.559669 1.882444e-03 2.114904e-02\n",
      "IFI16       1.449067  5.92454591  4.238342 3.770019e-04 7.779169e-03\n",
      "TNFAIP8     1.448175  1.80447449  3.852073 9.435335e-04 1.377580e-02\n",
      "LGR4        1.443621  5.99174887  6.266364 3.455087e-06 3.785536e-04\n",
      "IFIH1       1.442347  2.54504109  3.186340 4.495600e-03 3.842223e-02\n",
      "FAM201A     1.440752  2.91300655  4.128944 4.889504e-04 9.123515e-03\n",
      "TGIF1       1.437767  2.84826763  3.372604 2.917789e-03 2.850849e-02\n",
      "GNB2        1.435382  4.54945215  3.795428 1.079039e-03 1.495373e-02\n",
      "TPST1       1.427291  6.74042095  4.869880 8.451967e-05 3.005726e-03\n",
      "TNFSF9      1.427188  2.69713637  4.684406 1.308928e-04 4.113941e-03\n",
      "HPCAL1      1.423734  4.52626473  4.915480 7.592694e-05 2.780878e-03\n",
      "ODC1        1.423452  2.58601920  3.252877 3.854442e-03 3.460090e-02\n",
      "PLEKHA6     1.420731  4.49298913  5.064039 5.359689e-05 2.274313e-03\n",
      "KLF11       1.419964  2.29867736  3.301888 3.440048e-03 3.200143e-02\n",
      "ENPP6       1.419185  5.52390126  5.147758 4.407797e-05 1.996110e-03\n",
      "SLC22A23    1.419088  9.02269578  6.389042 2.636258e-06 3.188131e-04\n",
      "TMC8        1.416539  3.76849612  4.229775 3.847568e-04 7.878910e-03\n",
      "SORCS2      1.410212  7.95489545  3.916434 8.099726e-04 1.258417e-02\n",
      "PYGB        1.408132  5.20189752  6.528329 1.943634e-06 2.538087e-04\n",
      "CAMK2D      1.407237  7.87231359  6.127988 4.698218e-06 4.705192e-04\n",
      "AL136366.1  1.405423  2.39275475  4.049467 5.905903e-04 1.044245e-02\n",
      "PNPLA3      1.398978  2.23187572  3.893842 8.545668e-04 1.292570e-02\n",
      "RUNX1T1     1.397809  5.65643045  4.187306 4.256211e-04 8.445877e-03\n",
      "IRS2        1.396558  6.34018872  6.216303 3.860368e-06 4.158492e-04\n",
      "PTPRH       1.396381  2.00987063  3.099188 5.493770e-03 4.350354e-02\n",
      "SRGAP2B     1.394521  3.81640044  3.435933 2.516487e-03 2.552124e-02\n",
      "KLF9        1.392731  6.34371320  3.083652 5.692947e-03 4.451747e-02\n",
      "PDK4        1.385763  6.33821710  4.178663 4.344543e-04 8.581310e-03\n",
      "KCTD9       1.384861  3.87421419  4.360094 2.823037e-04 6.473795e-03\n",
      "RFC2        1.383771  3.42253120  4.950714 6.989709e-05 2.635020e-03\n",
      "SLC22A5     1.382451  3.16546104  3.594863 1.732816e-03 2.017628e-02\n",
      "LINC02649   1.380399  3.18690032  3.084410 5.683070e-03 4.451747e-02\n",
      "LDLRAD3     1.380132  7.06161528  3.777349 1.126221e-03 1.532594e-02\n",
      "DHCR24      1.375408  6.32419814  5.787866 1.009779e-05 7.751110e-04\n",
      "IL17RB      1.366827  2.92664352  3.062838 5.970755e-03 4.610789e-02\n",
      "GPR155      1.360711  5.56050267  4.372929 2.738287e-04 6.347577e-03\n",
      "SESN3       1.358152  3.82891183  3.711348 1.316473e-03 1.678495e-02\n",
      "PXDC1       1.356962  2.65218305  3.212608 4.230961e-03 3.689571e-02\n",
      "CTH         1.349421  2.92250507  3.294744 3.497629e-03 3.240011e-02\n",
      "FRMD8       1.348084  4.89052907  5.350569 2.751562e-05 1.526938e-03\n",
      "ITPRID2     1.347009  6.71963766  7.035406 6.545665e-07 1.198698e-04\n",
      "MAP3K7CL    1.346248  2.59983736  3.802575 1.060933e-03 1.474236e-02\n",
      "TRIM56      1.345689  5.36281884  5.539568 1.779804e-05 1.152288e-03\n",
      "DNAJB5      1.344384  2.15966541  3.618812 1.637764e-03 1.948940e-02\n",
      "CTBS        1.341097  4.28062637  5.307439 3.040636e-05 1.624080e-03\n",
      "TRIP10      1.338516  1.69732538  3.508777 2.121541e-03 2.283462e-02\n",
      "BMP8B       1.337507  3.26820517  3.690539 1.382805e-03 1.734459e-02\n",
      "NBPF10      1.334729  1.93802188  3.911473 8.195631e-04 1.259710e-02\n",
      "TUBA1C      1.334427  2.74688052  3.729092 1.262404e-03 1.648938e-02\n",
      "ITGB5       1.334247  3.08919956  3.316741 3.323278e-03 3.134738e-02\n",
      "ASAP2       1.333600  6.11726531  5.326260 2.910869e-05 1.587841e-03\n",
      "HERC6       1.330673  3.37813817  3.904176 8.338741e-04 1.274068e-02\n",
      "FAM95C      1.327334  6.01873690  3.620258 1.632194e-03 1.946334e-02\n",
      "MKNK2       1.326351  3.90932769  3.523241 2.050704e-03 2.233365e-02\n",
      "FRMD6       1.324860  2.33982150  3.108139 5.382092e-03 4.304337e-02\n",
      "AC026254.2  1.324628  2.40090141  3.741361 1.226308e-03 1.617288e-02\n",
      "SDK1        1.324504  4.65252157  6.737933 1.234411e-06 1.758213e-04\n",
      "DNMBP       1.323905  3.16908398  4.364565 2.793219e-04 6.439977e-03\n",
      "VOPP1       1.311024  3.81340112  4.015367 6.404235e-04 1.094612e-02\n",
      "RPS6KA2     1.308113  7.55432413  5.260384 3.391434e-05 1.718371e-03\n",
      "AL589843.1  1.298751  3.62393346  3.631126 1.590914e-03 1.918525e-02\n",
      "STXBP1      1.297002  4.91142528  4.135140 4.818030e-04 9.042800e-03\n",
      "PLEKHH3     1.295411  2.45691303  3.470876 2.318766e-03 2.424491e-02\n",
      "CDK2AP2     1.293258  3.78649738  4.852504 8.804750e-05 3.092276e-03\n",
      "PSMG4       1.292836  5.47613787  5.189840 3.996057e-05 1.897239e-03\n",
      "AL359644.1  1.291190  2.23575275  3.075789 5.796393e-03 4.506001e-02\n",
      "SPATA9      1.290529  3.19183123  4.464130 2.205296e-04 5.543076e-03\n",
      "MSN         1.288658  4.11910983  4.202213 4.108050e-04 8.313987e-03\n",
      "EPCAM-DT    1.286329  7.15080755  5.573536 1.646383e-05 1.087886e-03\n",
      "FNTB        1.286163  3.96054507  4.493187 2.058433e-04 5.352345e-03\n",
      "CHST3       1.284915  6.42773624  4.858752 8.676205e-05 3.063919e-03\n",
      "KBTBD11     1.283080  4.63014952  6.532820 1.924708e-06 2.538087e-04\n",
      "BMP8A       1.277046  3.31945796  3.196934 4.386993e-03 3.782051e-02\n",
      "ATAD2       1.276791  3.08962767  3.833416 9.861891e-04 1.407790e-02\n",
      "PREP        1.275037  4.37779705  4.554280 1.780932e-04 4.973805e-03\n",
      "AL136115.2  1.264777  1.59823715  3.024677 6.514485e-03 4.885310e-02\n",
      "DIAPH1      1.263714  3.78004669  3.762106 1.167586e-03 1.562347e-02\n",
      "PCDHB15     1.262297  2.86210325  3.473457 2.304784e-03 2.415635e-02\n",
      "CERK        1.260579  3.82513301  3.869797 9.047113e-04 1.342303e-02\n",
      "NUCB1-AS1   1.259389  1.62749620  3.110838 5.348859e-03 4.288119e-02\n",
      "PFKFB3      1.257977  6.69335848  3.847082 9.547621e-04 1.384513e-02\n",
      "HABP4       1.253684  6.13602462  5.971702 6.666429e-06 5.735366e-04\n",
      "HERC5       1.252957  3.64140448  4.125092 4.934468e-04 9.137128e-03\n",
      "SORBS3      1.248778  3.84398335  5.823376 9.316704e-06 7.452493e-04\n",
      "CTTNBP2NL   1.248624  5.20908062  5.008644 6.101805e-05 2.467478e-03\n",
      "FAM20C      1.247982  5.56305527  4.509567 1.980016e-04 5.186910e-03\n",
      "KREMEN1     1.244548  3.95248014  4.125772 4.926501e-04 9.137128e-03\n",
      "KIAA0586    1.244075  6.52736626  7.705357 1.637896e-07 5.043758e-05\n"
     ]
    },
    {
     "name": "stdout",
     "output_type": "stream",
     "text": [
      "AP001347.1  1.243554  4.53349977  4.452463 2.267193e-04 5.643329e-03\n",
      "RAB40C      1.243014  5.50890217  4.461505 2.219073e-04 5.566791e-03\n",
      "SOAT1       1.241988  4.04335590  5.095289 4.982108e-05 2.164937e-03\n",
      "MSI2        1.237251  7.51685547  6.039998 5.719166e-06 5.199574e-04\n",
      "GPR146      1.236865  2.71213258  3.077381 5.775298e-03 4.502599e-02\n",
      "GAS6        1.235880  4.57252716  3.055721 6.068722e-03 4.661171e-02\n",
      "ACOT11      1.233280  3.32888306  4.564621 1.737832e-04 4.874674e-03\n",
      "ASNS        1.232286  4.34745969  3.066377 5.922607e-03 4.582813e-02\n",
      "ADAM19      1.226928  4.70644282  3.612178 1.663566e-03 1.963652e-02\n",
      "TNIP2       1.226794  3.21579860  3.933466 7.778907e-04 1.234131e-02\n",
      "GNG5        1.225612  2.92850779  4.428614 2.399200e-04 5.835928e-03\n",
      "FDFT1       1.224633  7.56338874  5.141357 4.474107e-05 2.012406e-03\n",
      "CARS        1.224629  6.04664727  3.443810 2.470521e-03 2.518868e-02\n",
      "EPHA10      1.212909  2.67633833  3.164025 4.732987e-03 3.968094e-02\n",
      "AC244453.3  1.211557  3.23520525  3.214580 4.211720e-03 3.677796e-02\n",
      "TMEM268     1.210227  2.59275546  3.017477 6.622310e-03 4.924283e-02\n",
      "CEP170B     1.209597  2.56398904  4.627476 1.497555e-04 4.413141e-03\n",
      "AC129492.1  1.206071  5.08484849  3.405128 2.704430e-03 2.685367e-02\n",
      "PCDHB4      1.204581  3.20723760  3.881849 8.792226e-04 1.315141e-02\n",
      "PER2        1.201495  4.22398539  4.660198 1.386018e-04 4.271001e-03\n",
      "SOWAHC      1.199729  2.35084012  3.196625 4.390117e-03 3.782051e-02\n",
      "DOP1B       1.199261  3.99394315  4.495907 2.045196e-04 5.328734e-03\n",
      "BPHL        1.194746  3.12080216  4.026471 6.237524e-04 1.076601e-02\n",
      "MAP4K3-DT   1.194341  4.50368483  3.802845 1.060253e-03 1.474236e-02\n",
      "PIM3        1.189030  5.65270490  3.664786 1.469484e-03 1.808352e-02\n",
      "SPSB1       1.188175  6.30693020  4.633349 1.476890e-04 4.382466e-03\n",
      "BCL9L       1.187813  3.00376584  3.208295 4.273345e-03 3.721468e-02\n",
      "VPS37B      1.184501  5.69911773  4.652078 1.412890e-04 4.291904e-03"
     ]
    },
    {
     "name": "stderr",
     "output_type": "stream",
     "text": [
      "IOPub message rate exceeded.\n",
      "The notebook server will temporarily stop sending output\n",
      "to the client in order to avoid crashing it.\n",
      "To change this limit, set the config variable\n",
      "`--NotebookApp.iopub_msg_rate_limit`.\n",
      "\n",
      "Current values:\n",
      "NotebookApp.iopub_msg_rate_limit=1000.0 (msgs/sec)\n",
      "NotebookApp.rate_limit_window=3.0 (secs)\n",
      "\n"
     ]
    }
   ],
   "source": [
    "%%R\n",
    "genes_up_sorted"
   ]
  },
  {
   "cell_type": "code",
   "execution_count": 48,
   "id": "7b337cd9",
   "metadata": {},
   "outputs": [
    {
     "name": "stdout",
     "output_type": "stream",
     "text": [
      "[1] 254\n",
      "             logFC  AveExpr          t      P.Value    adj.P.Val          B\n",
      "ITM2A    -5.086929 1.592007  -3.381426 2.858336e-03 2.803444e-02 -1.5643870\n",
      "KCNAB1   -4.078930 6.635182 -11.653588 1.477538e-10 4.899709e-07 14.3620608\n",
      "TMEM179  -3.847072 2.264217  -7.243693 4.227592e-07 9.185339e-05  6.1954477\n",
      "PCDH7    -3.668293 3.488270  -3.949209 7.493599e-04 1.216034e-02 -0.4396785\n",
      "NRXN1    -3.654716 2.281597  -3.834163 9.844441e-04 1.407790e-02 -0.6934351\n",
      "MTRNR2L8 -3.605135 4.679580  -4.718452 1.207771e-04 3.886697e-03  1.0516395\n"
     ]
    }
   ],
   "source": [
    "%%R\n",
    "\n",
    "# Calculate the number of genes with adj.P.Val < 0.05 and |logFC| > 1\n",
    "genes_down <- tt[tt$adj.P.Val < 0.05 & tt$logFC < -1, ]\n",
    "num_genes_down <- nrow(genes_down)\n",
    "\n",
    "# Print the number of significant genes\n",
    "print(num_genes_down)\n",
    "\n",
    "genes_down_sorted <- genes_down[order(genes_down$logFC, decreasing = FALSE), ]\n",
    "\n",
    "# View the head of the significant genes data frame\n",
    "head(genes_down_sorted)"
   ]
  },
  {
   "cell_type": "code",
   "execution_count": 49,
   "id": "7612ee92",
   "metadata": {},
   "outputs": [],
   "source": [
    "%%R\n",
    "\n",
    "# Add row names as a new column\n",
    "tt$gene <- rownames(tt)\n",
    "\n",
    "# Optionally reorder or select columns\n",
    "tt <- tt[, c(\"gene\", names(tt)[1:6])]\n",
    "\n",
    "# Write to CSV file\n",
    "write.table(tt, file = \"./files/DAO_WM_v_RL_vwqw_blocked.csv\", row.names = FALSE, sep = \",\", quote = FALSE)"
   ]
  },
  {
   "cell_type": "markdown",
   "id": "7f3a85ab",
   "metadata": {},
   "source": [
    "# Dream analysis"
   ]
  },
  {
   "cell_type": "code",
   "execution_count": 50,
   "id": "fa400584",
   "metadata": {},
   "outputs": [],
   "source": [
    "%%R\n",
    "\n",
    "options(ports=8888)"
   ]
  },
  {
   "cell_type": "code",
   "execution_count": 51,
   "id": "b6bbf528",
   "metadata": {},
   "outputs": [],
   "source": [
    "%%R\n",
    "\n",
    "param <- SnowParam(4, \"SOCK\", progressbar = TRUE)"
   ]
  },
  {
   "cell_type": "code",
   "execution_count": 52,
   "id": "a35b7e21",
   "metadata": {},
   "outputs": [
    {
     "name": "stdout",
     "output_type": "stream",
     "text": [
      "                  Group  Donor Sex   Age_cat   Pmi_cat\n",
      "Ind86-Sample2_WM     WM  Ind86   M   over_70  over_12H\n",
      "Ind98-Sample2_WM     WM  Ind98   M  under_50  over_12H\n",
      "Ind107-Sample1_WM    WM Ind107   M  under_50  over_12H\n",
      "Ind117-Sample1_WM    WM Ind117   F  under_50  over_12H\n",
      "Ind121-Sample1_WM    WM Ind121   F  under_50  over_12H\n",
      "Ind126-Sample1_WM    WM Ind126   M inbetween 6H_to_12H\n"
     ]
    }
   ],
   "source": [
    "%%R\n",
    "head(treatments)"
   ]
  },
  {
   "cell_type": "code",
   "execution_count": 53,
   "id": "c34a1108",
   "metadata": {},
   "outputs": [
    {
     "name": "stdout",
     "output_type": "stream",
     "text": [
      "[1] \"RL\" \"WM\"\n"
     ]
    }
   ],
   "source": [
    "%%R\n",
    "\n",
    "# Convert Group column to a factor\n",
    "treatments$Group <- factor(treatments$Group)\n",
    "\n",
    "# Check levels to confirm AL and WM exist\n",
    "levels(treatments$Group)"
   ]
  },
  {
   "cell_type": "code",
   "execution_count": 54,
   "id": "76c36e55",
   "metadata": {},
   "outputs": [],
   "source": [
    "%%R\n",
    "\n",
    "form <- ~ Group + (1 | Donor)"
   ]
  },
  {
   "cell_type": "code",
   "execution_count": 56,
   "id": "ff762e3c",
   "metadata": {},
   "outputs": [],
   "source": [
    "%%R\n",
    "\n",
    "vobjDream <- voomWithDreamWeights(x2, form, treatments)"
   ]
  },
  {
   "cell_type": "code",
   "execution_count": 57,
   "id": "936e3445",
   "metadata": {},
   "outputs": [],
   "source": [
    "%%R\n",
    "\n",
    "fitmm <- dream(vobjDream, form, treatments)\n",
    "fitmm <- eBayes(fitmm)"
   ]
  },
  {
   "cell_type": "code",
   "execution_count": 58,
   "id": "0986445e",
   "metadata": {},
   "outputs": [
    {
     "data": {
      "image/png": "[encoded data removed]",
      "text/plain": [
       "<IPython.core.display.Image object>"
      ]
     },
     "metadata": {},
     "output_type": "display_data"
    }
   ],
   "source": [
    "%%R\n",
    "\n",
    "plotSA(fitmm, xlab = \"Average log-expression\", ylab = \"sqrt(sigma)\", zero.weights = FALSE,\n",
    "       pch = 16, cex = 0.3, col = c(\"black\",\"red\"))"
   ]
  },
  {
   "cell_type": "code",
   "execution_count": 59,
   "id": "ea73f306",
   "metadata": {},
   "outputs": [
    {
     "name": "stdout",
     "output_type": "stream",
     "text": [
      "                  (Intercept) GroupWM\n",
      "Ind86-Sample2_WM            1       1\n",
      "Ind98-Sample2_WM            1       1\n",
      "Ind107-Sample1_WM           1       1\n",
      "Ind117-Sample1_WM           1       1\n",
      "Ind121-Sample1_WM           1       1\n"
     ]
    }
   ],
   "source": [
    "%%R\n",
    "\n",
    "head(fitmm$design, 5)"
   ]
  },
  {
   "cell_type": "code",
   "execution_count": 60,
   "id": "9d79fa4a",
   "metadata": {},
   "outputs": [
    {
     "data": {
      "text/plain": [
       "Removing intercept from test coefficients\n"
      ]
     },
     "metadata": {},
     "output_type": "display_data"
    }
   ],
   "source": [
    "%%R\n",
    "\n",
    "tt_dream <- topTable(fitmm, sort.by = \"P\", n = Inf)"
   ]
  },
  {
   "cell_type": "code",
   "execution_count": 61,
   "id": "c7e7a500",
   "metadata": {},
   "outputs": [
    {
     "name": "stdout",
     "output_type": "stream",
     "text": [
      "[1] 915\n"
     ]
    }
   ],
   "source": [
    "%%R\n",
    "length(which(tt_dream$adj.P.Val < 0.05))"
   ]
  },
  {
   "cell_type": "code",
   "execution_count": 91,
   "id": "2cc53f59",
   "metadata": {},
   "outputs": [
    {
     "name": "stdout",
     "output_type": "stream",
     "text": [
      "[1] 397\n",
      "           gene    logFC  AveExpr        t      P.Value    adj.P.Val          B\n",
      "ATP8A2   ATP8A2 5.162330 5.141551 5.162748 3.231897e-05 0.0034814868  2.4466579\n",
      "GRM7       GRM7 5.073142 3.199721 5.407198 1.778022e-05 0.0024152693  2.8896429\n",
      "DPP10     DPP10 4.922820 2.622869 3.483125 2.045030e-03 0.0368191520 -2.3038120\n",
      "ARPP21   ARPP21 4.786105 2.906167 4.273950 2.909801e-04 0.0131804735 -0.2130589\n",
      "ST3GAL6 ST3GAL6 4.276368 4.532240 6.670580 1.196769e-06 0.0005479064  4.7247015\n",
      "FAM155A FAM155A 3.991249 1.234964 3.393851 2.602587e-03 0.0420219643 -1.7107085\n",
      "           z.std  gene.1\n",
      "ATP8A2  4.156479  ATP8A2\n",
      "GRM7    4.291085    GRM7\n",
      "DPP10   3.083614   DPP10\n",
      "ARPP21  3.623200  ARPP21\n",
      "ST3GAL6 4.856172 ST3GAL6\n",
      "FAM155A 3.011152 FAM155A\n"
     ]
    }
   ],
   "source": [
    "%%R\n",
    "# Calculate the number of genes with adj.P.Val < 0.05 and |logFC| > 1\n",
    "genes_up <- tt_dream[tt_dream$adj.P.Val < 0.05 & tt_dream$logFC > 0.585, ]\n",
    "num_genes_up <- nrow(genes_up)\n",
    "\n",
    "# Print the number of significant genes\n",
    "print(num_genes_up)\n",
    "\n",
    "genes_up_sorted <- genes_up[order(genes_up$logFC, decreasing = TRUE), ]\n",
    "\n",
    "# View the head of the significant genes data frame\n",
    "head(genes_up_sorted)"
   ]
  },
  {
   "cell_type": "code",
   "execution_count": null,
   "id": "31622d4c",
   "metadata": {
    "scrolled": false
   },
   "outputs": [],
   "source": [
    "%%R\n",
    "head(genes_up_sorted, 20)"
   ]
  },
  {
   "cell_type": "code",
   "execution_count": 92,
   "id": "d9079fea",
   "metadata": {},
   "outputs": [
    {
     "name": "stdout",
     "output_type": "stream",
     "text": [
      "[1] 373\n",
      "             gene     logFC   AveExpr         t      P.Value   adj.P.Val\n",
      "EGR1         EGR1 -5.352240 1.4626585 -4.440076 3.069417e-04 0.013428962\n",
      "GBP2         GBP2 -4.913090 0.7114887 -4.292273 4.135597e-04 0.015909078\n",
      "HLA-B       HLA-B -4.579207 2.3513667 -7.340629 5.336009e-06 0.001554598\n",
      "ARHGAP24 ARHGAP24 -4.503753 3.5096132 -5.803042 4.199181e-05 0.003991732\n",
      "GPRC5A     GPRC5A -4.378517 0.8904539 -4.927913 8.138514e-05 0.005894215\n",
      "ANXA2       ANXA2 -4.370058 0.4356953 -4.713307 1.461686e-04 0.008516978\n",
      "                  B     z.std   gene.1\n",
      "EGR1     -0.8801885 -3.609370     EGR1\n",
      "GBP2     -2.3164972 -3.531276     GBP2\n",
      "HLA-B     1.8666818 -4.551124    HLA-B\n",
      "ARHGAP24  1.6597034 -4.096238 ARHGAP24\n",
      "GPRC5A    0.4993955 -3.940284   GPRC5A\n",
      "ANXA2    -2.5041936 -3.797490    ANXA2\n"
     ]
    }
   ],
   "source": [
    "%%R\n",
    "# Calculate the number of genes with adj.P.Val < 0.05 and |logFC| > 1\n",
    "genes_down <- tt_dream[tt_dream$adj.P.Val < 0.05 & tt_dream$logFC < -0.585, ]\n",
    "num_genes_down <- nrow(genes_down)\n",
    "\n",
    "# Print the number of significant genes\n",
    "print(num_genes_down)\n",
    "\n",
    "genes_down_sorted <- genes_down[order(genes_down$logFC, decreasing = FALSE), ]\n",
    "\n",
    "# View the head of the significant genes data frame\n",
    "head(genes_down_sorted)"
   ]
  },
  {
   "cell_type": "code",
   "execution_count": null,
   "id": "d39994f6",
   "metadata": {},
   "outputs": [],
   "source": [
    "%%R\n",
    "\n",
    "head(genes_down_sorted, 20)"
   ]
  },
  {
   "cell_type": "code",
   "execution_count": 64,
   "id": "b292af4e",
   "metadata": {},
   "outputs": [],
   "source": [
    "%%R\n",
    "\n",
    "# Add row names as a new column\n",
    "tt_dream$gene <- rownames(tt_dream)"
   ]
  },
  {
   "cell_type": "code",
   "execution_count": 65,
   "id": "7b2947ab",
   "metadata": {},
   "outputs": [
    {
     "name": "stdout",
     "output_type": "stream",
     "text": [
      "               logFC  AveExpr         t      P.Value    adj.P.Val         B\n",
      "FCHSD2      2.084488 8.738575 17.784389 7.903566e-15 1.013158e-10 21.739217\n",
      "AC022182.1  2.343489 3.684697 11.832180 3.429527e-11 1.779344e-07 14.493931\n",
      "KCNAB1      3.883984 6.635182 11.715882 4.164156e-11 1.779344e-07 14.120490\n",
      "PLPPR1      2.146968 7.485931 11.462789 3.100570e-10 9.936551e-07  9.244501\n",
      "AL589669.1  1.670073 4.309478  8.827445 8.441358e-09 2.164195e-05 10.111599\n",
      "RGMB       -2.142740 2.910058 -8.479747 1.714989e-08 3.652640e-05  9.613876\n",
      "               z.std       gene\n",
      "FCHSD2      7.769116     FCHSD2\n",
      "AC022182.1  6.626838 AC022182.1\n",
      "KCNAB1      6.598116     KCNAB1\n",
      "PLPPR1      6.293665     PLPPR1\n",
      "AL589669.1  5.759400 AL589669.1\n",
      "RGMB       -5.638539       RGMB\n"
     ]
    }
   ],
   "source": [
    "%%R\n",
    "head(tt_dream)"
   ]
  },
  {
   "cell_type": "code",
   "execution_count": 66,
   "id": "22423024",
   "metadata": {},
   "outputs": [],
   "source": [
    "%%R\n",
    "\n",
    "# Optionally reorder or select columns\n",
    "tt_dream <- tt_dream[, c(\"gene\", names(tt_dream)[1:8])]\n",
    "\n",
    "# Write to CSV file\n",
    "write.table(tt_dream, file = \"./files/DAO_WM_v_RL_dream.csv\", row.names = FALSE, sep = \",\", quote = FALSE)"
   ]
  },
  {
   "cell_type": "markdown",
   "id": "2de01d2f",
   "metadata": {},
   "source": [
    "## Next try with additional variables"
   ]
  },
  {
   "cell_type": "code",
   "execution_count": null,
   "id": "6f9051ef",
   "metadata": {},
   "outputs": [],
   "source": [
    "%%R\n",
    "colnames(treatments)"
   ]
  },
  {
   "cell_type": "code",
   "execution_count": null,
   "id": "1cb6c1ad",
   "metadata": {},
   "outputs": [],
   "source": [
    "%%R\n",
    "\n",
    "form <- ~ 0 + Group + Sex + Age_cat + Pmi_cat + (1 | Donor)"
   ]
  },
  {
   "cell_type": "code",
   "execution_count": null,
   "id": "50f7377c",
   "metadata": {},
   "outputs": [],
   "source": [
    "%%R\n",
    "\n",
    "L <- makeContrastsDream(form, treatments,\n",
    "  contrasts = c(\n",
    "    compare1 = \"GroupRL - GroupWM\"\n",
    "  )\n",
    ")\n",
    "\n",
    "# Visualize contrast matrix\n",
    "plotContrasts(L)"
   ]
  },
  {
   "cell_type": "code",
   "execution_count": null,
   "id": "ba09fc08",
   "metadata": {},
   "outputs": [],
   "source": [
    "%%R\n",
    "\n",
    "vobjDream2 <- voomWithDreamWeights(x2, form, treatments, BPPARAM = param)"
   ]
  },
  {
   "cell_type": "code",
   "execution_count": null,
   "id": "f0d8cecf",
   "metadata": {},
   "outputs": [],
   "source": [
    "%%R\n",
    "\n",
    "# fit dream model with contrasts\n",
    "fit_full <- dream(vobjDream2, form, treatments, L)\n",
    "fit_full <- eBayes(fit_full)\n",
    "\n",
    "# get names of available coefficients and contrasts for testing\n",
    "colnames(fit_full)"
   ]
  },
  {
   "cell_type": "code",
   "execution_count": null,
   "id": "77168760",
   "metadata": {},
   "outputs": [],
   "source": [
    "%%R\n",
    "\n",
    "tt_dream_full <- topTable(fit_full, coef=\"compare1\", sort.by = \"P\", n = Inf)"
   ]
  },
  {
   "cell_type": "code",
   "execution_count": null,
   "id": "424074db",
   "metadata": {},
   "outputs": [],
   "source": [
    "%%R\n",
    "\n",
    "head(tt_dream_full)"
   ]
  },
  {
   "cell_type": "code",
   "execution_count": null,
   "id": "ba4b5074",
   "metadata": {},
   "outputs": [],
   "source": [
    "%%R\n",
    "\n",
    "length(which(tt_dream_full$adj.P.Val < 0.05))"
   ]
  },
  {
   "cell_type": "code",
   "execution_count": null,
   "id": "2e48da37",
   "metadata": {},
   "outputs": [],
   "source": [
    "%%R\n",
    "# Calculate the number of genes with adj.P.Val < 0.05 and |logFC| > 1\n",
    "genes_up <- tt_dream[tt_dream$adj.P.Val < 0.05 & tt_dream$logFC > 0.7, ]\n",
    "num_genes_up <- nrow(genes_up)\n",
    "\n",
    "# Print the number of significant genes\n",
    "print(num_genes_up)\n",
    "\n",
    "genes_up_sorted <- genes_up[order(genes_up$logFC, decreasing = TRUE), ]\n",
    "\n",
    "# View the head of the significant genes data frame\n",
    "head(genes_up_sorted)"
   ]
  },
  {
   "cell_type": "code",
   "execution_count": null,
   "id": "d76a05b0",
   "metadata": {},
   "outputs": [],
   "source": [
    "%%R\n",
    "\n",
    "head(genes_up_sorted, 20)"
   ]
  },
  {
   "cell_type": "code",
   "execution_count": null,
   "id": "869c97f7",
   "metadata": {},
   "outputs": [],
   "source": [
    "%%R\n",
    "# Calculate the number of genes with adj.P.Val < 0.05 and |logFC| > 1\n",
    "genes_down <- tt_dream[tt_dream$adj.P.Val < 0.05 & tt_dream$logFC < -0.7, ]\n",
    "num_genes_down <- nrow(genes_down)\n",
    "\n",
    "# Print the number of significant genes\n",
    "print(num_genes_down)\n",
    "\n",
    "genes_down_sorted <- genes_down[order(genes_down$logFC, decreasing = FALSE), ]\n",
    "\n",
    "# View the head of the significant genes data frame\n",
    "head(genes_down_sorted)"
   ]
  },
  {
   "cell_type": "code",
   "execution_count": null,
   "id": "8d8da9aa",
   "metadata": {},
   "outputs": [],
   "source": [
    "%%R\n",
    "\n",
    "head(genes_down_sorted, 20)"
   ]
  },
  {
   "cell_type": "markdown",
   "id": "fa2ac7ce",
   "metadata": {},
   "source": [
    "## Variance partition plots"
   ]
  },
  {
   "cell_type": "code",
   "execution_count": null,
   "id": "a9be7727",
   "metadata": {},
   "outputs": [],
   "source": [
    "%%R\n",
    "\n",
    "form <- ~ (1 | Group) + (1 | Sex) + (1 | Donor)\n",
    "vp <- fitExtractVarPartModel(y2, form, treatments)\n",
    "\n",
    "plotVarPart(sortCols(vp))"
   ]
  },
  {
   "cell_type": "code",
   "execution_count": null,
   "id": "2fe41b31",
   "metadata": {},
   "outputs": [],
   "source": [
    "%%R\n",
    "\n",
    "form <- ~ (1 | Group) + (1 | Sex) + (1 | Age_cat) + (1 | Pmi_cat) + (1 | Donor)\n",
    "vp <- fitExtractVarPartModel(y2, form, treatments)\n",
    "\n",
    "plotVarPart(sortCols(vp))"
   ]
  },
  {
   "cell_type": "code",
   "execution_count": null,
   "id": "e6cf305b",
   "metadata": {},
   "outputs": [],
   "source": [
    "%%R\n",
    "dim(tmp2)"
   ]
  },
  {
   "cell_type": "code",
   "execution_count": null,
   "id": "d6ef6c11",
   "metadata": {},
   "outputs": [],
   "source": [
    "%%R\n",
    "dim(fitmm)"
   ]
  },
  {
   "cell_type": "code",
   "execution_count": null,
   "id": "b1788700",
   "metadata": {},
   "outputs": [],
   "source": [
    "%%R\n",
    "all(rownames(tmp2) == rownames(fitmm))"
   ]
  },
  {
   "cell_type": "code",
   "execution_count": null,
   "id": "0e1e0528",
   "metadata": {},
   "outputs": [],
   "source": [
    "%%R\n",
    "dim(vp)"
   ]
  },
  {
   "cell_type": "code",
   "execution_count": null,
   "id": "e2320636",
   "metadata": {},
   "outputs": [],
   "source": [
    "%%R\n",
    "all(rownames(tmp2) == rownames(vp))"
   ]
  },
  {
   "cell_type": "code",
   "execution_count": null,
   "id": "ed6eb8a4",
   "metadata": {},
   "outputs": [],
   "source": [
    "%%R\n",
    "\n",
    "# Compare p-values and make plot\n",
    "p1 <- topTable(tmp2, coef = \"GroupRL - GroupWM\", number = Inf, sort.by = \"none\")$P.Value\n",
    "p2 <- topTable(fitmm, number = Inf, sort.by = \"none\")$P.Value\n",
    "\n",
    "plotCompareP(p1, p2, vp$Donor, corfit2$consensus)"
   ]
  },
  {
   "cell_type": "markdown",
   "id": "025d3e5e",
   "metadata": {},
   "source": [
    "# Box plots of highly differentially expressed genes"
   ]
  },
  {
   "cell_type": "code",
   "execution_count": null,
   "id": "1a3f28a6",
   "metadata": {},
   "outputs": [],
   "source": [
    "%%R\n",
    "library(reshape2)  # For transforming data from wide to long format\n",
    "library(ggplot2)   # For plotting\n",
    "library(edgeR)"
   ]
  },
  {
   "cell_type": "code",
   "execution_count": null,
   "id": "1c645155",
   "metadata": {},
   "outputs": [],
   "source": [
    "%%R\n",
    "class(x2)"
   ]
  },
  {
   "cell_type": "code",
   "execution_count": null,
   "id": "4ed4b4bf",
   "metadata": {},
   "outputs": [],
   "source": [
    "%%R\n",
    "#X2 is the norm lib sizes and trimmed\n",
    "cpm <- edgeR::cpm(x2, log=FALSE, prior.counts=3)\n",
    "lcpm <- edgeR::cpm(x2, log=TRUE, prior.count=3)"
   ]
  },
  {
   "cell_type": "code",
   "execution_count": null,
   "id": "cb17c007",
   "metadata": {},
   "outputs": [],
   "source": [
    "%%R\n",
    "class(cpm)"
   ]
  },
  {
   "cell_type": "code",
   "execution_count": null,
   "id": "f14d3826",
   "metadata": {
    "scrolled": true
   },
   "outputs": [],
   "source": [
    "%%R\n",
    "\n",
    "# Step 1: Combine Expression and Treatment Data\n",
    "# Convert the E matrix into a dataframe\n",
    "expr_df <- as.data.frame(cpm)\n",
    "expr_df$gene <- rownames(cpm)  # Add gene names as a column\n",
    "head(expr_df)"
   ]
  },
  {
   "cell_type": "code",
   "execution_count": null,
   "id": "5c4b762e",
   "metadata": {
    "scrolled": true
   },
   "outputs": [],
   "source": [
    "%%R\n",
    "colnames(expr_df)"
   ]
  },
  {
   "cell_type": "code",
   "execution_count": null,
   "id": "b460e7e8",
   "metadata": {
    "scrolled": true
   },
   "outputs": [],
   "source": [
    "%%R\n",
    "# Drop the \"gene\" column\n",
    "expr_df <- expr_df[, !colnames(expr_df) %in% \"gene\"]"
   ]
  },
  {
   "cell_type": "code",
   "execution_count": null,
   "id": "f72fc021",
   "metadata": {},
   "outputs": [],
   "source": [
    "%%R\n",
    "\n",
    "# Convert design matrix to a dataframe and add sample IDs as rownames\n",
    "design_df <- as.data.frame(y2$design)\n",
    "design_df$sample <- rownames(design_df)\n",
    "head(design_df)"
   ]
  },
  {
   "cell_type": "code",
   "execution_count": null,
   "id": "75262711",
   "metadata": {},
   "outputs": [],
   "source": [
    "%%R\n",
    "\n",
    "# Step 1: Rename the columns of expr_df to match the design information\n",
    "colnames(expr_df) <- paste0(\"Sample\", seq_len(ncol(expr_df) - 1))  # Adjust for gene column\n",
    "expr_df$gene <- rownames(expr_df)\n",
    "\n",
    "# Update design_df to have corresponding sample IDs\n",
    "design_df$sample <- paste0(\"Sample\", seq_len(nrow(design_df)))\n",
    "\n",
    "# Step 2: Melt the expression data into a long format\n",
    "expr_long <- melt(expr_df, id.vars = \"gene\", variable.name = \"sample\", value.name = \"expression\")\n",
    "\n",
    "# Step 3: Merge expression data with treatment information\n",
    "expr_treatment <- merge(expr_long, design_df, by = \"sample\")"
   ]
  },
  {
   "cell_type": "code",
   "execution_count": null,
   "id": "97d9ce12",
   "metadata": {},
   "outputs": [],
   "source": [
    "%%R\n",
    "head(expr_treatment)"
   ]
  },
  {
   "cell_type": "code",
   "execution_count": null,
   "id": "8bd8c03f",
   "metadata": {},
   "outputs": [],
   "source": [
    "%%R\n",
    "# Subset data for the specified gene\n",
    "gene_data <- subset(expr_treatment, gene == \"HLA-B\")\n",
    "gene_data$treatment <- ifelse(gene_data$GroupWM == 1, \"WM\", \"AL\")\n",
    "head(gene_data)"
   ]
  },
  {
   "cell_type": "code",
   "execution_count": null,
   "id": "794cb956",
   "metadata": {},
   "outputs": [],
   "source": [
    "%%R\n",
    "ggplot(gene_data, aes(x = treatment, y = expression, fill = treatment)) +\n",
    "  geom_boxplot(alpha = 0.5, outlier.shape = NA) +  # Boxplots without outliers\n",
    "  geom_jitter(width = 0.2, alpha = 0.7, size = 2, aes(color = treatment)) +  # Individual points\n",
    "  scale_fill_manual(values = c(\"WM\" = \"blue\", \"AL\" = \"red\")) +  # Custom colors for boxes\n",
    "  scale_color_manual(values = c(\"WM\" = \"blue\", \"AL\" = \"red\")) +  # Custom colors for points\n",
    "  labs(\n",
    "    title = \"Expression of HLA-B in MOLs\",\n",
    "    x = \"\",\n",
    "    y = \"Counts per million\"\n",
    "  ) +\n",
    "  theme_minimal() +\n",
    "  theme(legend.position = \"none\")"
   ]
  },
  {
   "cell_type": "code",
   "execution_count": null,
   "id": "72e57887",
   "metadata": {},
   "outputs": [],
   "source": [
    "%%R\n",
    "# Subset data for the specified gene\n",
    "gene_data <- subset(expr_treatment, gene == \"GBP2\")\n",
    "gene_data$treatment <- ifelse(gene_data$GroupWM == 1, \"WM\", \"AL\")\n",
    "head(gene_data)"
   ]
  },
  {
   "cell_type": "code",
   "execution_count": null,
   "id": "423cdb3c",
   "metadata": {},
   "outputs": [],
   "source": [
    "%%R\n",
    "ggplot(gene_data, aes(x = treatment, y = expression, fill = treatment)) +\n",
    "  geom_boxplot(alpha = 0.5, outlier.shape = NA) +  # Boxplots without outliers\n",
    "  geom_jitter(width = 0.2, alpha = 0.7, size = 2, aes(color = treatment)) +  # Individual points\n",
    "  scale_fill_manual(values = c(\"WM\" = \"blue\", \"AL\" = \"red\")) +  # Custom colors for boxes\n",
    "  scale_color_manual(values = c(\"WM\" = \"blue\", \"AL\" = \"red\")) +  # Custom colors for points\n",
    "  labs(\n",
    "    title = \"Expression of HSPA6 in OPCs\",\n",
    "    x = \"\",\n",
    "    y = \"Counts per million\"\n",
    "  ) +\n",
    "  theme_minimal() +\n",
    "  theme(legend.position = \"none\")"
   ]
  },
  {
   "cell_type": "markdown",
   "id": "0c65da9a",
   "metadata": {},
   "source": [
    "# Try to plot some genes to see if you belive results"
   ]
  },
  {
   "cell_type": "code",
   "execution_count": null,
   "id": "343e8120",
   "metadata": {},
   "outputs": [],
   "source": [
    "import scanpy as sc\n",
    "import anndata as ann\n",
    "import numpy as np\n",
    "import scipy as sp\n",
    "import pandas as pd\n",
    "import seaborn as sb\n",
    "import matplotlib.pyplot as plt\n",
    "from matplotlib import rcParams\n",
    "from matplotlib import cm, colors\n",
    "#from gprofiler import gprofiler"
   ]
  },
  {
   "cell_type": "code",
   "execution_count": null,
   "id": "118cb945",
   "metadata": {},
   "outputs": [],
   "source": [
    "from matplotlib import rcParams\n",
    "from matplotlib import cm, colors\n",
    "\n",
    "# Create a custom color map using 'PuRd' color map\n",
    "colors2 = plt.cm.PuRd(np.linspace(0, 1, 128))\n",
    "colors3 = plt.cm.Greys_r(np.linspace(0.7, 0.8, 20))\n",
    "colorsComb = np.vstack([colors3, colors2])\n",
    "mymap = colors.LinearSegmentedColormap.from_list('my_colormap', colorsComb)"
   ]
  },
  {
   "cell_type": "code",
   "execution_count": null,
   "id": "1fe6fadf",
   "metadata": {},
   "outputs": [],
   "source": [
    "#Define a nice colour map for gene expression\n",
    "colors2 = plt.cm.plasma(np.linspace(0, 1, 128))\n",
    "colors3 = plt.cm.Greys_r(np.linspace(0.7,0.8,20))\n",
    "colorsComb = np.vstack([colors3, colors2])\n",
    "mymap2 = colors.LinearSegmentedColormap.from_list('my_colormap', colorsComb)"
   ]
  },
  {
   "cell_type": "code",
   "execution_count": null,
   "id": "00ca3cae",
   "metadata": {},
   "outputs": [],
   "source": [
    "plt.rcParams['figure.figsize']=(5,5) #rescale figures\n",
    "sc.settings.verbosity = 3\n",
    "sc.set_figure_params(scanpy=True, dpi=100, dpi_save=300,transparent=True, fontsize=12) #color_map=mymap2)\n",
    "sc.settings.figdir = '/afs/crc.nd.edu/user/e/eaboelno/sysVI_analysis/Human_scVI_single/figures_OL/'\n",
    "sc.logging.print_header()"
   ]
  },
  {
   "cell_type": "code",
   "execution_count": null,
   "id": "4a25b8af",
   "metadata": {},
   "outputs": [],
   "source": [
    "adata= sc.read_h5ad('/scratch365/eaboelno/BACKUP_h5ad_IMPORTANT/scVI_mdata_OL_NEW.h5ad')\n",
    "adata"
   ]
  },
  {
   "cell_type": "code",
   "execution_count": null,
   "id": "475fff7b",
   "metadata": {},
   "outputs": [],
   "source": [
    "sc.tl.dendrogram(adata, 'lesion_type')\n",
    "sc.pl.dendrogram(adata, 'lesion_type')"
   ]
  },
  {
   "cell_type": "code",
   "execution_count": null,
   "id": "a78dc2fc",
   "metadata": {
    "scrolled": true
   },
   "outputs": [],
   "source": [
    "# Specify the gene name you want to include in the filename\n",
    "gene_name = 'HLA-B'  # You can change this to any gene name you wish to use\n",
    "\n",
    "# Loop through each unique value in 'lesion_status'\n",
    "for lesion_type in set(adata.obs['lesion_type']):\n",
    "    # Subset the data to only include the current lesion type\n",
    "    adata_subset = adata[adata.obs['lesion_type'] == lesion_type]\n",
    "    \n",
    "    # Generate the UMAP plot for the current subset\n",
    "    sc.pl.embedding(\n",
    "        adata_subset, \n",
    "        basis='X_umap', \n",
    "        color=gene_name,  # Use the gene name\n",
    "        layer='log1p_norm',\n",
    "        color_map=mymap, \n",
    "        legend_fontweight='normal', \n",
    "        s=20, \n",
    "        frameon=False,\n",
    "        vmax=4,\n",
    "        title=f\"Lesion Type: {lesion_type}\",\n",
    "        #save=f'_{gene_name}_lesion_status_{lesion_type}.png'  # Save with gene name and lesion type\n",
    "    )\n",
    "    \n",
    "    # Show the plot\n",
    "    plt.show()"
   ]
  },
  {
   "cell_type": "code",
   "execution_count": null,
   "id": "d9f605a8",
   "metadata": {
    "scrolled": true
   },
   "outputs": [],
   "source": [
    "# Specify the gene name you want to include in the filename\n",
    "gene_name = 'GBP2'  # You can change this to any gene name you wish to use\n",
    "\n",
    "# Loop through each unique value in 'lesion_status'\n",
    "for lesion_type in set(adata.obs['lesion_type']):\n",
    "    # Subset the data to only include the current lesion type\n",
    "    adata_subset = adata[adata.obs['lesion_type'] == lesion_type]\n",
    "    \n",
    "    # Generate the UMAP plot for the current subset\n",
    "    sc.pl.embedding(\n",
    "        adata_subset, \n",
    "        basis='X_umap', \n",
    "        color=gene_name,  # Use the gene name\n",
    "        layer='log1p_norm',\n",
    "        color_map=mymap, \n",
    "        legend_fontweight='normal', \n",
    "        s=20, \n",
    "        frameon=False,\n",
    "        vmax=4,\n",
    "        title=f\"Lesion Type: {lesion_type}\",\n",
    "        #save=f'_{gene_name}_lesion_status_{lesion_type}.png'  # Save with gene name and lesion type\n",
    "    )\n",
    "    \n",
    "    # Show the plot\n",
    "    plt.show()"
   ]
  },
  {
   "cell_type": "markdown",
   "id": "28a5b432",
   "metadata": {},
   "source": [
    "# Do results overlap with LR pairs?"
   ]
  },
  {
   "cell_type": "code",
   "execution_count": 67,
   "id": "acef57a6",
   "metadata": {},
   "outputs": [],
   "source": [
    "import liana as li"
   ]
  },
  {
   "cell_type": "code",
   "execution_count": 68,
   "id": "28e69c9c",
   "metadata": {},
   "outputs": [
    {
     "data": {
      "text/html": [
       "<div>\n",
       "<style scoped>\n",
       "    .dataframe tbody tr th:only-of-type {\n",
       "        vertical-align: middle;\n",
       "    }\n",
       "\n",
       "    .dataframe tbody tr th {\n",
       "        vertical-align: top;\n",
       "    }\n",
       "\n",
       "    .dataframe thead th {\n",
       "        text-align: right;\n",
       "    }\n",
       "</style>\n",
       "<table border=\"1\" class=\"dataframe\">\n",
       "  <thead>\n",
       "    <tr style=\"text-align: right;\">\n",
       "      <th></th>\n",
       "      <th>ligand</th>\n",
       "      <th>receptor</th>\n",
       "    </tr>\n",
       "  </thead>\n",
       "  <tbody>\n",
       "    <tr>\n",
       "      <th>0</th>\n",
       "      <td>LGALS9</td>\n",
       "      <td>PTPRC</td>\n",
       "    </tr>\n",
       "    <tr>\n",
       "      <th>1</th>\n",
       "      <td>LGALS9</td>\n",
       "      <td>MET</td>\n",
       "    </tr>\n",
       "    <tr>\n",
       "      <th>2</th>\n",
       "      <td>LGALS9</td>\n",
       "      <td>CD44</td>\n",
       "    </tr>\n",
       "    <tr>\n",
       "      <th>3</th>\n",
       "      <td>LGALS9</td>\n",
       "      <td>LRP1</td>\n",
       "    </tr>\n",
       "    <tr>\n",
       "      <th>4</th>\n",
       "      <td>LGALS9</td>\n",
       "      <td>CD47</td>\n",
       "    </tr>\n",
       "  </tbody>\n",
       "</table>\n",
       "</div>"
      ],
      "text/plain": [
       "   ligand receptor\n",
       "0  LGALS9    PTPRC\n",
       "1  LGALS9      MET\n",
       "2  LGALS9     CD44\n",
       "3  LGALS9     LRP1\n",
       "4  LGALS9     CD47"
      ]
     },
     "execution_count": 68,
     "metadata": {},
     "output_type": "execute_result"
    }
   ],
   "source": [
    "lr_pairs = li.resource.select_resource('consensus')\n",
    "lr_pairs.head()"
   ]
  },
  {
   "cell_type": "code",
   "execution_count": 69,
   "id": "597b433c",
   "metadata": {},
   "outputs": [],
   "source": [
    "%R -o tt_dream"
   ]
  },
  {
   "cell_type": "code",
   "execution_count": 70,
   "id": "bfa0daa8",
   "metadata": {},
   "outputs": [
    {
     "data": {
      "text/html": [
       "<div>\n",
       "<style scoped>\n",
       "    .dataframe tbody tr th:only-of-type {\n",
       "        vertical-align: middle;\n",
       "    }\n",
       "\n",
       "    .dataframe tbody tr th {\n",
       "        vertical-align: top;\n",
       "    }\n",
       "\n",
       "    .dataframe thead th {\n",
       "        text-align: right;\n",
       "    }\n",
       "</style>\n",
       "<table border=\"1\" class=\"dataframe\">\n",
       "  <thead>\n",
       "    <tr style=\"text-align: right;\">\n",
       "      <th></th>\n",
       "      <th>gene</th>\n",
       "      <th>logFC</th>\n",
       "      <th>AveExpr</th>\n",
       "      <th>t</th>\n",
       "      <th>P.Value</th>\n",
       "      <th>adj.P.Val</th>\n",
       "      <th>B</th>\n",
       "      <th>z.std</th>\n",
       "      <th>gene.1</th>\n",
       "    </tr>\n",
       "  </thead>\n",
       "  <tbody>\n",
       "    <tr>\n",
       "      <th>FCHSD2</th>\n",
       "      <td>FCHSD2</td>\n",
       "      <td>2.084488</td>\n",
       "      <td>8.738575</td>\n",
       "      <td>17.784389</td>\n",
       "      <td>7.903566e-15</td>\n",
       "      <td>1.013158e-10</td>\n",
       "      <td>21.739217</td>\n",
       "      <td>7.769116</td>\n",
       "      <td>FCHSD2</td>\n",
       "    </tr>\n",
       "    <tr>\n",
       "      <th>AC022182.1</th>\n",
       "      <td>AC022182.1</td>\n",
       "      <td>2.343489</td>\n",
       "      <td>3.684697</td>\n",
       "      <td>11.832180</td>\n",
       "      <td>3.429527e-11</td>\n",
       "      <td>1.779344e-07</td>\n",
       "      <td>14.493931</td>\n",
       "      <td>6.626838</td>\n",
       "      <td>AC022182.1</td>\n",
       "    </tr>\n",
       "    <tr>\n",
       "      <th>KCNAB1</th>\n",
       "      <td>KCNAB1</td>\n",
       "      <td>3.883984</td>\n",
       "      <td>6.635182</td>\n",
       "      <td>11.715882</td>\n",
       "      <td>4.164156e-11</td>\n",
       "      <td>1.779344e-07</td>\n",
       "      <td>14.120490</td>\n",
       "      <td>6.598116</td>\n",
       "      <td>KCNAB1</td>\n",
       "    </tr>\n",
       "    <tr>\n",
       "      <th>PLPPR1</th>\n",
       "      <td>PLPPR1</td>\n",
       "      <td>2.146968</td>\n",
       "      <td>7.485931</td>\n",
       "      <td>11.462789</td>\n",
       "      <td>3.100570e-10</td>\n",
       "      <td>9.936551e-07</td>\n",
       "      <td>9.244501</td>\n",
       "      <td>6.293665</td>\n",
       "      <td>PLPPR1</td>\n",
       "    </tr>\n",
       "    <tr>\n",
       "      <th>AL589669.1</th>\n",
       "      <td>AL589669.1</td>\n",
       "      <td>1.670073</td>\n",
       "      <td>4.309478</td>\n",
       "      <td>8.827445</td>\n",
       "      <td>8.441358e-09</td>\n",
       "      <td>2.164195e-05</td>\n",
       "      <td>10.111599</td>\n",
       "      <td>5.759400</td>\n",
       "      <td>AL589669.1</td>\n",
       "    </tr>\n",
       "  </tbody>\n",
       "</table>\n",
       "</div>"
      ],
      "text/plain": [
       "                  gene     logFC   AveExpr          t       P.Value  \\\n",
       "FCHSD2          FCHSD2  2.084488  8.738575  17.784389  7.903566e-15   \n",
       "AC022182.1  AC022182.1  2.343489  3.684697  11.832180  3.429527e-11   \n",
       "KCNAB1          KCNAB1  3.883984  6.635182  11.715882  4.164156e-11   \n",
       "PLPPR1          PLPPR1  2.146968  7.485931  11.462789  3.100570e-10   \n",
       "AL589669.1  AL589669.1  1.670073  4.309478   8.827445  8.441358e-09   \n",
       "\n",
       "               adj.P.Val          B     z.std      gene.1  \n",
       "FCHSD2      1.013158e-10  21.739217  7.769116      FCHSD2  \n",
       "AC022182.1  1.779344e-07  14.493931  6.626838  AC022182.1  \n",
       "KCNAB1      1.779344e-07  14.120490  6.598116      KCNAB1  \n",
       "PLPPR1      9.936551e-07   9.244501  6.293665      PLPPR1  \n",
       "AL589669.1  2.164195e-05  10.111599  5.759400  AL589669.1  "
      ]
     },
     "execution_count": 70,
     "metadata": {},
     "output_type": "execute_result"
    }
   ],
   "source": [
    "# Display the first few rows\n",
    "tt_dream.head()"
   ]
  },
  {
   "cell_type": "code",
   "execution_count": 71,
   "id": "e9c4d522",
   "metadata": {},
   "outputs": [],
   "source": [
    "tt_dream.rename(columns={'adj.P.Val': 'Padj'}, inplace=True)\n",
    "tt_dream.rename(columns={'P.Value': 'Pvalue'}, inplace=True)"
   ]
  },
  {
   "cell_type": "code",
   "execution_count": 72,
   "id": "6584988d",
   "metadata": {},
   "outputs": [
    {
     "data": {
      "text/html": [
       "<div>\n",
       "<style scoped>\n",
       "    .dataframe tbody tr th:only-of-type {\n",
       "        vertical-align: middle;\n",
       "    }\n",
       "\n",
       "    .dataframe tbody tr th {\n",
       "        vertical-align: top;\n",
       "    }\n",
       "\n",
       "    .dataframe thead th {\n",
       "        text-align: right;\n",
       "    }\n",
       "</style>\n",
       "<table border=\"1\" class=\"dataframe\">\n",
       "  <thead>\n",
       "    <tr style=\"text-align: right;\">\n",
       "      <th></th>\n",
       "      <th>gene</th>\n",
       "      <th>logFC</th>\n",
       "      <th>AveExpr</th>\n",
       "      <th>t</th>\n",
       "      <th>Pvalue</th>\n",
       "      <th>Padj</th>\n",
       "      <th>B</th>\n",
       "      <th>z.std</th>\n",
       "      <th>gene.1</th>\n",
       "    </tr>\n",
       "  </thead>\n",
       "  <tbody>\n",
       "    <tr>\n",
       "      <th>0</th>\n",
       "      <td>FCHSD2</td>\n",
       "      <td>2.084488</td>\n",
       "      <td>8.738575</td>\n",
       "      <td>17.784389</td>\n",
       "      <td>7.903566e-15</td>\n",
       "      <td>1.013158e-10</td>\n",
       "      <td>21.739217</td>\n",
       "      <td>7.769116</td>\n",
       "      <td>FCHSD2</td>\n",
       "    </tr>\n",
       "    <tr>\n",
       "      <th>1</th>\n",
       "      <td>AC022182.1</td>\n",
       "      <td>2.343489</td>\n",
       "      <td>3.684697</td>\n",
       "      <td>11.832180</td>\n",
       "      <td>3.429527e-11</td>\n",
       "      <td>1.779344e-07</td>\n",
       "      <td>14.493931</td>\n",
       "      <td>6.626838</td>\n",
       "      <td>AC022182.1</td>\n",
       "    </tr>\n",
       "    <tr>\n",
       "      <th>2</th>\n",
       "      <td>KCNAB1</td>\n",
       "      <td>3.883984</td>\n",
       "      <td>6.635182</td>\n",
       "      <td>11.715882</td>\n",
       "      <td>4.164156e-11</td>\n",
       "      <td>1.779344e-07</td>\n",
       "      <td>14.120490</td>\n",
       "      <td>6.598116</td>\n",
       "      <td>KCNAB1</td>\n",
       "    </tr>\n",
       "    <tr>\n",
       "      <th>3</th>\n",
       "      <td>PLPPR1</td>\n",
       "      <td>2.146968</td>\n",
       "      <td>7.485931</td>\n",
       "      <td>11.462789</td>\n",
       "      <td>3.100570e-10</td>\n",
       "      <td>9.936551e-07</td>\n",
       "      <td>9.244501</td>\n",
       "      <td>6.293665</td>\n",
       "      <td>PLPPR1</td>\n",
       "    </tr>\n",
       "    <tr>\n",
       "      <th>4</th>\n",
       "      <td>AL589669.1</td>\n",
       "      <td>1.670073</td>\n",
       "      <td>4.309478</td>\n",
       "      <td>8.827445</td>\n",
       "      <td>8.441358e-09</td>\n",
       "      <td>2.164195e-05</td>\n",
       "      <td>10.111599</td>\n",
       "      <td>5.759400</td>\n",
       "      <td>AL589669.1</td>\n",
       "    </tr>\n",
       "  </tbody>\n",
       "</table>\n",
       "</div>"
      ],
      "text/plain": [
       "         gene     logFC   AveExpr          t        Pvalue          Padj  \\\n",
       "0      FCHSD2  2.084488  8.738575  17.784389  7.903566e-15  1.013158e-10   \n",
       "1  AC022182.1  2.343489  3.684697  11.832180  3.429527e-11  1.779344e-07   \n",
       "2      KCNAB1  3.883984  6.635182  11.715882  4.164156e-11  1.779344e-07   \n",
       "3      PLPPR1  2.146968  7.485931  11.462789  3.100570e-10  9.936551e-07   \n",
       "4  AL589669.1  1.670073  4.309478   8.827445  8.441358e-09  2.164195e-05   \n",
       "\n",
       "           B     z.std      gene.1  \n",
       "0  21.739217  7.769116      FCHSD2  \n",
       "1  14.493931  6.626838  AC022182.1  \n",
       "2  14.120490  6.598116      KCNAB1  \n",
       "3   9.244501  6.293665      PLPPR1  \n",
       "4  10.111599  5.759400  AL589669.1  "
      ]
     },
     "execution_count": 72,
     "metadata": {},
     "output_type": "execute_result"
    }
   ],
   "source": [
    "# Move row names to a column called 'gene'\n",
    "tt_dream['gene'] = tt_dream.index\n",
    "\n",
    "# Reset the index so the gene names become part of the dataframe\n",
    "tt_dream.reset_index(drop=True, inplace=True)\n",
    "\n",
    "# Display the updated dataframe\n",
    "tt_dream.head()"
   ]
  },
  {
   "cell_type": "code",
   "execution_count": 73,
   "id": "d7bd4c79",
   "metadata": {},
   "outputs": [
    {
     "data": {
      "text/plain": [
       "(502, 9)"
      ]
     },
     "execution_count": 73,
     "metadata": {},
     "output_type": "execute_result"
    }
   ],
   "source": [
    "sigs = tt_dream[(tt_dream.Padj < 0.05) & (abs(tt_dream.logFC) >= 1)]\n",
    "sigs.shape"
   ]
  },
  {
   "cell_type": "code",
   "execution_count": 74,
   "id": "abda4801",
   "metadata": {},
   "outputs": [
    {
     "data": {
      "text/plain": [
       "(4624, 2)"
      ]
     },
     "execution_count": 74,
     "metadata": {},
     "output_type": "execute_result"
    }
   ],
   "source": [
    "lr_pairs.shape"
   ]
  },
  {
   "cell_type": "code",
   "execution_count": 75,
   "id": "20544b3d",
   "metadata": {},
   "outputs": [
    {
     "data": {
      "text/html": [
       "<div>\n",
       "<style scoped>\n",
       "    .dataframe tbody tr th:only-of-type {\n",
       "        vertical-align: middle;\n",
       "    }\n",
       "\n",
       "    .dataframe tbody tr th {\n",
       "        vertical-align: top;\n",
       "    }\n",
       "\n",
       "    .dataframe thead th {\n",
       "        text-align: right;\n",
       "    }\n",
       "</style>\n",
       "<table border=\"1\" class=\"dataframe\">\n",
       "  <thead>\n",
       "    <tr style=\"text-align: right;\">\n",
       "      <th></th>\n",
       "      <th>gene</th>\n",
       "      <th>logFC</th>\n",
       "      <th>AveExpr</th>\n",
       "      <th>t</th>\n",
       "      <th>Pvalue</th>\n",
       "      <th>Padj</th>\n",
       "      <th>B</th>\n",
       "      <th>z.std</th>\n",
       "      <th>gene.1</th>\n",
       "    </tr>\n",
       "  </thead>\n",
       "  <tbody>\n",
       "    <tr>\n",
       "      <th>0</th>\n",
       "      <td>FCHSD2</td>\n",
       "      <td>2.084488</td>\n",
       "      <td>8.738575</td>\n",
       "      <td>17.784389</td>\n",
       "      <td>7.903566e-15</td>\n",
       "      <td>1.013158e-10</td>\n",
       "      <td>21.739217</td>\n",
       "      <td>7.769116</td>\n",
       "      <td>FCHSD2</td>\n",
       "    </tr>\n",
       "    <tr>\n",
       "      <th>1</th>\n",
       "      <td>AC022182.1</td>\n",
       "      <td>2.343489</td>\n",
       "      <td>3.684697</td>\n",
       "      <td>11.832180</td>\n",
       "      <td>3.429527e-11</td>\n",
       "      <td>1.779344e-07</td>\n",
       "      <td>14.493931</td>\n",
       "      <td>6.626838</td>\n",
       "      <td>AC022182.1</td>\n",
       "    </tr>\n",
       "    <tr>\n",
       "      <th>2</th>\n",
       "      <td>KCNAB1</td>\n",
       "      <td>3.883984</td>\n",
       "      <td>6.635182</td>\n",
       "      <td>11.715882</td>\n",
       "      <td>4.164156e-11</td>\n",
       "      <td>1.779344e-07</td>\n",
       "      <td>14.120490</td>\n",
       "      <td>6.598116</td>\n",
       "      <td>KCNAB1</td>\n",
       "    </tr>\n",
       "    <tr>\n",
       "      <th>3</th>\n",
       "      <td>PLPPR1</td>\n",
       "      <td>2.146968</td>\n",
       "      <td>7.485931</td>\n",
       "      <td>11.462789</td>\n",
       "      <td>3.100570e-10</td>\n",
       "      <td>9.936551e-07</td>\n",
       "      <td>9.244501</td>\n",
       "      <td>6.293665</td>\n",
       "      <td>PLPPR1</td>\n",
       "    </tr>\n",
       "    <tr>\n",
       "      <th>4</th>\n",
       "      <td>AL589669.1</td>\n",
       "      <td>1.670073</td>\n",
       "      <td>4.309478</td>\n",
       "      <td>8.827445</td>\n",
       "      <td>8.441358e-09</td>\n",
       "      <td>2.164195e-05</td>\n",
       "      <td>10.111599</td>\n",
       "      <td>5.759400</td>\n",
       "      <td>AL589669.1</td>\n",
       "    </tr>\n",
       "  </tbody>\n",
       "</table>\n",
       "</div>"
      ],
      "text/plain": [
       "         gene     logFC   AveExpr          t        Pvalue          Padj  \\\n",
       "0      FCHSD2  2.084488  8.738575  17.784389  7.903566e-15  1.013158e-10   \n",
       "1  AC022182.1  2.343489  3.684697  11.832180  3.429527e-11  1.779344e-07   \n",
       "2      KCNAB1  3.883984  6.635182  11.715882  4.164156e-11  1.779344e-07   \n",
       "3      PLPPR1  2.146968  7.485931  11.462789  3.100570e-10  9.936551e-07   \n",
       "4  AL589669.1  1.670073  4.309478   8.827445  8.441358e-09  2.164195e-05   \n",
       "\n",
       "           B     z.std      gene.1  \n",
       "0  21.739217  7.769116      FCHSD2  \n",
       "1  14.493931  6.626838  AC022182.1  \n",
       "2  14.120490  6.598116      KCNAB1  \n",
       "3   9.244501  6.293665      PLPPR1  \n",
       "4  10.111599  5.759400  AL589669.1  "
      ]
     },
     "execution_count": 75,
     "metadata": {},
     "output_type": "execute_result"
    }
   ],
   "source": [
    "sigs.head()"
   ]
  },
  {
   "cell_type": "code",
   "execution_count": 76,
   "id": "fcab0ec8",
   "metadata": {},
   "outputs": [
    {
     "data": {
      "text/html": [
       "<div>\n",
       "<style scoped>\n",
       "    .dataframe tbody tr th:only-of-type {\n",
       "        vertical-align: middle;\n",
       "    }\n",
       "\n",
       "    .dataframe tbody tr th {\n",
       "        vertical-align: top;\n",
       "    }\n",
       "\n",
       "    .dataframe thead th {\n",
       "        text-align: right;\n",
       "    }\n",
       "</style>\n",
       "<table border=\"1\" class=\"dataframe\">\n",
       "  <thead>\n",
       "    <tr style=\"text-align: right;\">\n",
       "      <th></th>\n",
       "      <th>gene</th>\n",
       "      <th>logFC</th>\n",
       "      <th>AveExpr</th>\n",
       "      <th>t</th>\n",
       "      <th>Pvalue</th>\n",
       "      <th>Padj</th>\n",
       "      <th>B</th>\n",
       "      <th>z.std</th>\n",
       "      <th>gene.1</th>\n",
       "    </tr>\n",
       "  </thead>\n",
       "  <tbody>\n",
       "    <tr>\n",
       "      <th>5</th>\n",
       "      <td>RGMB</td>\n",
       "      <td>-2.142740</td>\n",
       "      <td>2.910058</td>\n",
       "      <td>-8.479747</td>\n",
       "      <td>1.714989e-08</td>\n",
       "      <td>0.000037</td>\n",
       "      <td>9.613876</td>\n",
       "      <td>-5.638539</td>\n",
       "      <td>RGMB</td>\n",
       "    </tr>\n",
       "    <tr>\n",
       "      <th>7</th>\n",
       "      <td>HLA-F</td>\n",
       "      <td>-3.527163</td>\n",
       "      <td>0.853943</td>\n",
       "      <td>-8.096172</td>\n",
       "      <td>3.818826e-08</td>\n",
       "      <td>0.000061</td>\n",
       "      <td>8.762609</td>\n",
       "      <td>-5.499032</td>\n",
       "      <td>HLA-F</td>\n",
       "    </tr>\n",
       "    <tr>\n",
       "      <th>18</th>\n",
       "      <td>LRP6</td>\n",
       "      <td>1.248583</td>\n",
       "      <td>7.084961</td>\n",
       "      <td>7.570539</td>\n",
       "      <td>4.889244e-07</td>\n",
       "      <td>0.000330</td>\n",
       "      <td>6.344266</td>\n",
       "      <td>5.030609</td>\n",
       "      <td>LRP6</td>\n",
       "    </tr>\n",
       "    <tr>\n",
       "      <th>19</th>\n",
       "      <td>LGI4</td>\n",
       "      <td>-2.020344</td>\n",
       "      <td>4.378744</td>\n",
       "      <td>-7.522385</td>\n",
       "      <td>5.360579e-07</td>\n",
       "      <td>0.000344</td>\n",
       "      <td>0.412424</td>\n",
       "      <td>-5.012936</td>\n",
       "      <td>LGI4</td>\n",
       "    </tr>\n",
       "    <tr>\n",
       "      <th>22</th>\n",
       "      <td>NGFR</td>\n",
       "      <td>-2.791753</td>\n",
       "      <td>3.062552</td>\n",
       "      <td>-7.458821</td>\n",
       "      <td>8.104265e-07</td>\n",
       "      <td>0.000452</td>\n",
       "      <td>-0.895362</td>\n",
       "      <td>-4.932840</td>\n",
       "      <td>NGFR</td>\n",
       "    </tr>\n",
       "    <tr>\n",
       "      <th>...</th>\n",
       "      <td>...</td>\n",
       "      <td>...</td>\n",
       "      <td>...</td>\n",
       "      <td>...</td>\n",
       "      <td>...</td>\n",
       "      <td>...</td>\n",
       "      <td>...</td>\n",
       "      <td>...</td>\n",
       "      <td>...</td>\n",
       "    </tr>\n",
       "    <tr>\n",
       "      <th>811</th>\n",
       "      <td>PTPRM</td>\n",
       "      <td>-2.337299</td>\n",
       "      <td>7.810954</td>\n",
       "      <td>-3.450397</td>\n",
       "      <td>2.814333e-03</td>\n",
       "      <td>0.044324</td>\n",
       "      <td>-3.438847</td>\n",
       "      <td>-2.987322</td>\n",
       "      <td>PTPRM</td>\n",
       "    </tr>\n",
       "    <tr>\n",
       "      <th>825</th>\n",
       "      <td>CD59</td>\n",
       "      <td>-1.700309</td>\n",
       "      <td>0.986505</td>\n",
       "      <td>-3.512847</td>\n",
       "      <td>2.895149e-03</td>\n",
       "      <td>0.044931</td>\n",
       "      <td>-1.774880</td>\n",
       "      <td>-2.978657</td>\n",
       "      <td>CD59</td>\n",
       "    </tr>\n",
       "    <tr>\n",
       "      <th>867</th>\n",
       "      <td>ETV5</td>\n",
       "      <td>-1.897185</td>\n",
       "      <td>4.525553</td>\n",
       "      <td>-3.404888</td>\n",
       "      <td>3.187393e-03</td>\n",
       "      <td>0.047053</td>\n",
       "      <td>-2.511318</td>\n",
       "      <td>-2.949063</td>\n",
       "      <td>ETV5</td>\n",
       "    </tr>\n",
       "    <tr>\n",
       "      <th>871</th>\n",
       "      <td>IFNA2</td>\n",
       "      <td>2.187552</td>\n",
       "      <td>0.862313</td>\n",
       "      <td>3.298939</td>\n",
       "      <td>3.221053e-03</td>\n",
       "      <td>0.047352</td>\n",
       "      <td>-2.188410</td>\n",
       "      <td>2.945815</td>\n",
       "      <td>IFNA2</td>\n",
       "    </tr>\n",
       "    <tr>\n",
       "      <th>908</th>\n",
       "      <td>THBS4</td>\n",
       "      <td>1.153336</td>\n",
       "      <td>3.694584</td>\n",
       "      <td>3.300055</td>\n",
       "      <td>3.503811e-03</td>\n",
       "      <td>0.049412</td>\n",
       "      <td>-2.269723</td>\n",
       "      <td>2.919689</td>\n",
       "      <td>THBS4</td>\n",
       "    </tr>\n",
       "  </tbody>\n",
       "</table>\n",
       "<p>66 rows × 9 columns</p>\n",
       "</div>"
      ],
      "text/plain": [
       "      gene     logFC   AveExpr         t        Pvalue      Padj         B  \\\n",
       "5     RGMB -2.142740  2.910058 -8.479747  1.714989e-08  0.000037  9.613876   \n",
       "7    HLA-F -3.527163  0.853943 -8.096172  3.818826e-08  0.000061  8.762609   \n",
       "18    LRP6  1.248583  7.084961  7.570539  4.889244e-07  0.000330  6.344266   \n",
       "19    LGI4 -2.020344  4.378744 -7.522385  5.360579e-07  0.000344  0.412424   \n",
       "22    NGFR -2.791753  3.062552 -7.458821  8.104265e-07  0.000452 -0.895362   \n",
       "..     ...       ...       ...       ...           ...       ...       ...   \n",
       "811  PTPRM -2.337299  7.810954 -3.450397  2.814333e-03  0.044324 -3.438847   \n",
       "825   CD59 -1.700309  0.986505 -3.512847  2.895149e-03  0.044931 -1.774880   \n",
       "867   ETV5 -1.897185  4.525553 -3.404888  3.187393e-03  0.047053 -2.511318   \n",
       "871  IFNA2  2.187552  0.862313  3.298939  3.221053e-03  0.047352 -2.188410   \n",
       "908  THBS4  1.153336  3.694584  3.300055  3.503811e-03  0.049412 -2.269723   \n",
       "\n",
       "        z.std gene.1  \n",
       "5   -5.638539   RGMB  \n",
       "7   -5.499032  HLA-F  \n",
       "18   5.030609   LRP6  \n",
       "19  -5.012936   LGI4  \n",
       "22  -4.932840   NGFR  \n",
       "..        ...    ...  \n",
       "811 -2.987322  PTPRM  \n",
       "825 -2.978657   CD59  \n",
       "867 -2.949063   ETV5  \n",
       "871  2.945815  IFNA2  \n",
       "908  2.919689  THBS4  \n",
       "\n",
       "[66 rows x 9 columns]"
      ]
     },
     "execution_count": 76,
     "metadata": {},
     "output_type": "execute_result"
    }
   ],
   "source": [
    "ligands = lr_pairs['ligand'].unique()\n",
    "receptors = lr_pairs['receptor'].unique()\n",
    "\n",
    "# Combining both ligands and receptors and keeping only unique values\n",
    "unique_genes = set(ligands).union(set(receptors))\n",
    "\n",
    "# Checking for overlap with 'sigs' dataframe on the 'gene' column\n",
    "overlap_genes = sigs[sigs['gene'].isin(unique_genes)]\n",
    "overlap_genes"
   ]
  },
  {
   "cell_type": "code",
   "execution_count": 77,
   "id": "9202c175",
   "metadata": {},
   "outputs": [
    {
     "data": {
      "text/html": [
       "<div>\n",
       "<style scoped>\n",
       "    .dataframe tbody tr th:only-of-type {\n",
       "        vertical-align: middle;\n",
       "    }\n",
       "\n",
       "    .dataframe tbody tr th {\n",
       "        vertical-align: top;\n",
       "    }\n",
       "\n",
       "    .dataframe thead th {\n",
       "        text-align: right;\n",
       "    }\n",
       "</style>\n",
       "<table border=\"1\" class=\"dataframe\">\n",
       "  <thead>\n",
       "    <tr style=\"text-align: right;\">\n",
       "      <th></th>\n",
       "      <th>gene</th>\n",
       "      <th>logFC</th>\n",
       "      <th>logFC_direction</th>\n",
       "    </tr>\n",
       "  </thead>\n",
       "  <tbody>\n",
       "    <tr>\n",
       "      <th>5</th>\n",
       "      <td>RGMB</td>\n",
       "      <td>-2.142740</td>\n",
       "      <td>negative</td>\n",
       "    </tr>\n",
       "    <tr>\n",
       "      <th>7</th>\n",
       "      <td>HLA-F</td>\n",
       "      <td>-3.527163</td>\n",
       "      <td>negative</td>\n",
       "    </tr>\n",
       "    <tr>\n",
       "      <th>18</th>\n",
       "      <td>LRP6</td>\n",
       "      <td>1.248583</td>\n",
       "      <td>positive</td>\n",
       "    </tr>\n",
       "    <tr>\n",
       "      <th>19</th>\n",
       "      <td>LGI4</td>\n",
       "      <td>-2.020344</td>\n",
       "      <td>negative</td>\n",
       "    </tr>\n",
       "    <tr>\n",
       "      <th>22</th>\n",
       "      <td>NGFR</td>\n",
       "      <td>-2.791753</td>\n",
       "      <td>negative</td>\n",
       "    </tr>\n",
       "    <tr>\n",
       "      <th>...</th>\n",
       "      <td>...</td>\n",
       "      <td>...</td>\n",
       "      <td>...</td>\n",
       "    </tr>\n",
       "    <tr>\n",
       "      <th>811</th>\n",
       "      <td>PTPRM</td>\n",
       "      <td>-2.337299</td>\n",
       "      <td>negative</td>\n",
       "    </tr>\n",
       "    <tr>\n",
       "      <th>825</th>\n",
       "      <td>CD59</td>\n",
       "      <td>-1.700309</td>\n",
       "      <td>negative</td>\n",
       "    </tr>\n",
       "    <tr>\n",
       "      <th>867</th>\n",
       "      <td>ETV5</td>\n",
       "      <td>-1.897185</td>\n",
       "      <td>negative</td>\n",
       "    </tr>\n",
       "    <tr>\n",
       "      <th>871</th>\n",
       "      <td>IFNA2</td>\n",
       "      <td>2.187552</td>\n",
       "      <td>positive</td>\n",
       "    </tr>\n",
       "    <tr>\n",
       "      <th>908</th>\n",
       "      <td>THBS4</td>\n",
       "      <td>1.153336</td>\n",
       "      <td>positive</td>\n",
       "    </tr>\n",
       "  </tbody>\n",
       "</table>\n",
       "<p>66 rows × 3 columns</p>\n",
       "</div>"
      ],
      "text/plain": [
       "      gene     logFC logFC_direction\n",
       "5     RGMB -2.142740        negative\n",
       "7    HLA-F -3.527163        negative\n",
       "18    LRP6  1.248583        positive\n",
       "19    LGI4 -2.020344        negative\n",
       "22    NGFR -2.791753        negative\n",
       "..     ...       ...             ...\n",
       "811  PTPRM -2.337299        negative\n",
       "825   CD59 -1.700309        negative\n",
       "867   ETV5 -1.897185        negative\n",
       "871  IFNA2  2.187552        positive\n",
       "908  THBS4  1.153336        positive\n",
       "\n",
       "[66 rows x 3 columns]"
      ]
     },
     "execution_count": 77,
     "metadata": {},
     "output_type": "execute_result"
    }
   ],
   "source": [
    "# Checking the direction of logFC for the overlapping genes\n",
    "overlap_genes_direction = overlap_genes[['gene', 'logFC']].copy()\n",
    "\n",
    "# Determine the direction of logFC\n",
    "overlap_genes_direction['logFC_direction'] = overlap_genes_direction['logFC'].apply(lambda x: 'positive' if x > 0 else 'negative')\n",
    "\n",
    "# Displaying the results\n",
    "overlap_genes_direction"
   ]
  },
  {
   "cell_type": "code",
   "execution_count": 78,
   "id": "6420343b",
   "metadata": {},
   "outputs": [
    {
     "name": "stdout",
     "output_type": "stream",
     "text": [
      "Total ligand-receptor pairs where both are differentially expressed: 7\n"
     ]
    },
    {
     "data": {
      "text/html": [
       "<div>\n",
       "<style scoped>\n",
       "    .dataframe tbody tr th:only-of-type {\n",
       "        vertical-align: middle;\n",
       "    }\n",
       "\n",
       "    .dataframe tbody tr th {\n",
       "        vertical-align: top;\n",
       "    }\n",
       "\n",
       "    .dataframe thead th {\n",
       "        text-align: right;\n",
       "    }\n",
       "</style>\n",
       "<table border=\"1\" class=\"dataframe\">\n",
       "  <thead>\n",
       "    <tr style=\"text-align: right;\">\n",
       "      <th></th>\n",
       "      <th>ligand</th>\n",
       "      <th>receptor</th>\n",
       "      <th>logFC_ligand</th>\n",
       "      <th>logFC_receptor</th>\n",
       "    </tr>\n",
       "  </thead>\n",
       "  <tbody>\n",
       "    <tr>\n",
       "      <th>0</th>\n",
       "      <td>CDH1</td>\n",
       "      <td>PTPRM</td>\n",
       "      <td>2.121921</td>\n",
       "      <td>-2.337299</td>\n",
       "    </tr>\n",
       "    <tr>\n",
       "      <th>1</th>\n",
       "      <td>LAMA2</td>\n",
       "      <td>CD44</td>\n",
       "      <td>2.025852</td>\n",
       "      <td>-3.090808</td>\n",
       "    </tr>\n",
       "    <tr>\n",
       "      <th>2</th>\n",
       "      <td>LTBP1</td>\n",
       "      <td>ITGB5</td>\n",
       "      <td>1.257049</td>\n",
       "      <td>-1.050179</td>\n",
       "    </tr>\n",
       "    <tr>\n",
       "      <th>5</th>\n",
       "      <td>FSTL5</td>\n",
       "      <td>IL6R</td>\n",
       "      <td>-2.232427</td>\n",
       "      <td>-2.799701</td>\n",
       "    </tr>\n",
       "    <tr>\n",
       "      <th>6</th>\n",
       "      <td>MFGE8</td>\n",
       "      <td>ITGB5</td>\n",
       "      <td>-2.235172</td>\n",
       "      <td>-1.050179</td>\n",
       "    </tr>\n",
       "    <tr>\n",
       "      <th>4</th>\n",
       "      <td>COL18A1</td>\n",
       "      <td>ITGB5</td>\n",
       "      <td>-2.469786</td>\n",
       "      <td>-1.050179</td>\n",
       "    </tr>\n",
       "    <tr>\n",
       "      <th>3</th>\n",
       "      <td>VIM</td>\n",
       "      <td>CD44</td>\n",
       "      <td>-3.610630</td>\n",
       "      <td>-3.090808</td>\n",
       "    </tr>\n",
       "  </tbody>\n",
       "</table>\n",
       "</div>"
      ],
      "text/plain": [
       "    ligand receptor  logFC_ligand  logFC_receptor\n",
       "0     CDH1    PTPRM      2.121921       -2.337299\n",
       "1    LAMA2     CD44      2.025852       -3.090808\n",
       "2    LTBP1    ITGB5      1.257049       -1.050179\n",
       "5    FSTL5     IL6R     -2.232427       -2.799701\n",
       "6    MFGE8    ITGB5     -2.235172       -1.050179\n",
       "4  COL18A1    ITGB5     -2.469786       -1.050179\n",
       "3      VIM     CD44     -3.610630       -3.090808"
      ]
     },
     "execution_count": 78,
     "metadata": {},
     "output_type": "execute_result"
    }
   ],
   "source": [
    "# Step 1: Convert ligands and receptors to a list\n",
    "ligands = lr_pairs['ligand'].tolist()\n",
    "receptors = lr_pairs['receptor'].tolist()\n",
    "\n",
    "# Step 2: Filter DEGs from 'sigs'\n",
    "degs = set(sigs['gene'])  # Create a set for faster lookup\n",
    "\n",
    "# Step 3: Check which ligand-receptor pairs have both ligands and receptors as DEGs\n",
    "matched_pairs = lr_pairs[(lr_pairs['ligand'].isin(degs)) & (lr_pairs['receptor'].isin(degs))]\n",
    "\n",
    "# Step 4: Count the matched pairs\n",
    "num_matched_pairs = matched_pairs.shape[0]\n",
    "\n",
    "# Output the result\n",
    "print(f'Total ligand-receptor pairs where both are differentially expressed: {num_matched_pairs}')\n",
    "\n",
    "# Step 5: Optional - view the matched pairs with direction of change\n",
    "matched_pairs_with_logFC = matched_pairs.merge(sigs[['gene', 'logFC']], left_on='ligand', right_on='gene', how='left')\\\n",
    "                                        .merge(sigs[['gene', 'logFC']], left_on='receptor', right_on='gene', how='left', suffixes=('_ligand', '_receptor'))\n",
    "\n",
    "# Sorting the table by 'logFC_ligand' in descending order\n",
    "sorted_table = matched_pairs_with_logFC.sort_values(by='logFC_ligand', ascending=False)\n",
    "\n",
    "# Displaying the sorted table with the selected columns\n",
    "sorted_table[['ligand', 'receptor', 'logFC_ligand', 'logFC_receptor']]"
   ]
  },
  {
   "cell_type": "code",
   "execution_count": 79,
   "id": "e55bcd09",
   "metadata": {},
   "outputs": [
    {
     "data": {
      "text/plain": [
       "(225, 9)"
      ]
     },
     "execution_count": 79,
     "metadata": {},
     "output_type": "execute_result"
    }
   ],
   "source": [
    "sigs_up = tt_dream[(tt_dream.Padj < 0.05) & (tt_dream.logFC <= -1)]\n",
    "sigs_up.shape"
   ]
  },
  {
   "cell_type": "code",
   "execution_count": 80,
   "id": "5927bc9d",
   "metadata": {},
   "outputs": [
    {
     "name": "stdout",
     "output_type": "stream",
     "text": [
      "Total ligand-receptor pairs where both are differentially expressed: 4\n"
     ]
    },
    {
     "data": {
      "text/html": [
       "<div>\n",
       "<style scoped>\n",
       "    .dataframe tbody tr th:only-of-type {\n",
       "        vertical-align: middle;\n",
       "    }\n",
       "\n",
       "    .dataframe tbody tr th {\n",
       "        vertical-align: top;\n",
       "    }\n",
       "\n",
       "    .dataframe thead th {\n",
       "        text-align: right;\n",
       "    }\n",
       "</style>\n",
       "<table border=\"1\" class=\"dataframe\">\n",
       "  <thead>\n",
       "    <tr style=\"text-align: right;\">\n",
       "      <th></th>\n",
       "      <th>ligand</th>\n",
       "      <th>receptor</th>\n",
       "      <th>logFC_ligand</th>\n",
       "      <th>logFC_receptor</th>\n",
       "    </tr>\n",
       "  </thead>\n",
       "  <tbody>\n",
       "    <tr>\n",
       "      <th>0</th>\n",
       "      <td>VIM</td>\n",
       "      <td>CD44</td>\n",
       "      <td>-3.610630</td>\n",
       "      <td>-3.090808</td>\n",
       "    </tr>\n",
       "    <tr>\n",
       "      <th>1</th>\n",
       "      <td>COL18A1</td>\n",
       "      <td>ITGB5</td>\n",
       "      <td>-2.469786</td>\n",
       "      <td>-1.050179</td>\n",
       "    </tr>\n",
       "    <tr>\n",
       "      <th>3</th>\n",
       "      <td>MFGE8</td>\n",
       "      <td>ITGB5</td>\n",
       "      <td>-2.235172</td>\n",
       "      <td>-1.050179</td>\n",
       "    </tr>\n",
       "    <tr>\n",
       "      <th>2</th>\n",
       "      <td>FSTL5</td>\n",
       "      <td>IL6R</td>\n",
       "      <td>-2.232427</td>\n",
       "      <td>-2.799701</td>\n",
       "    </tr>\n",
       "  </tbody>\n",
       "</table>\n",
       "</div>"
      ],
      "text/plain": [
       "    ligand receptor  logFC_ligand  logFC_receptor\n",
       "0      VIM     CD44     -3.610630       -3.090808\n",
       "1  COL18A1    ITGB5     -2.469786       -1.050179\n",
       "3    MFGE8    ITGB5     -2.235172       -1.050179\n",
       "2    FSTL5     IL6R     -2.232427       -2.799701"
      ]
     },
     "execution_count": 80,
     "metadata": {},
     "output_type": "execute_result"
    }
   ],
   "source": [
    "# Step 1: Convert ligands and receptors to a list\n",
    "ligands = lr_pairs['ligand'].tolist()\n",
    "receptors = lr_pairs['receptor'].tolist()\n",
    "\n",
    "# Step 2: Filter DEGs from 'sigs'\n",
    "degs = set(sigs_up['gene'])  # Create a set for faster lookup\n",
    "\n",
    "# Step 3: Check which ligand-receptor pairs have both ligands and receptors as DEGs\n",
    "matched_pairs = lr_pairs[(lr_pairs['ligand'].isin(degs)) & (lr_pairs['receptor'].isin(degs))]\n",
    "\n",
    "# Step 4: Count the matched pairs\n",
    "num_matched_pairs = matched_pairs.shape[0]\n",
    "\n",
    "# Output the result\n",
    "print(f'Total ligand-receptor pairs where both are differentially expressed: {num_matched_pairs}')\n",
    "\n",
    "# Step 5: Optional - view the matched pairs with direction of change\n",
    "matched_pairs_with_logFC = matched_pairs.merge(sigs[['gene', 'logFC']], left_on='ligand', right_on='gene', how='left')\\\n",
    "                                        .merge(sigs[['gene', 'logFC']], left_on='receptor', right_on='gene', how='left', suffixes=('_ligand', '_receptor'))\n",
    "\n",
    "# Sorting the table by 'logFC_ligand' in descending order\n",
    "sorted_table = matched_pairs_with_logFC.sort_values(by='logFC_ligand', ascending=True)\n",
    "\n",
    "# Displaying the sorted table with the selected columns\n",
    "sorted_table[['ligand', 'receptor', 'logFC_ligand', 'logFC_receptor']]"
   ]
  },
  {
   "cell_type": "code",
   "execution_count": 81,
   "id": "76840a9d",
   "metadata": {},
   "outputs": [],
   "source": [
    "#sorted_table[['ligand', 'receptor', 'logFC_ligand', 'logFC_receptor']].to_csv('./files/LR_pairs_OPC_up_AL_CAL_updated.csv', sep='\\t', index=False)"
   ]
  },
  {
   "cell_type": "markdown",
   "id": "629d4cb2",
   "metadata": {},
   "source": [
    "# Check overlap voom-wqw and dream"
   ]
  },
  {
   "cell_type": "code",
   "execution_count": 82,
   "id": "13518883",
   "metadata": {},
   "outputs": [
    {
     "data": {
      "text/plain": [
       "(12819, 7)"
      ]
     },
     "execution_count": 82,
     "metadata": {},
     "output_type": "execute_result"
    }
   ],
   "source": [
    "OPC_orig = pd.read_csv('./files/DAO_WM_v_RL_vwqw_blocked.csv', index_col=None)\n",
    "OPC_orig.rename(columns={'adj.P.Val': 'Padj'}, inplace=True)\n",
    "OPC_orig.rename(columns={'P.Value': 'Pvalue'}, inplace=True)\n",
    "OPC_orig.shape"
   ]
  },
  {
   "cell_type": "code",
   "execution_count": 83,
   "id": "af92b952",
   "metadata": {},
   "outputs": [
    {
     "data": {
      "text/plain": [
       "<bound method NDFrame.head of           gene     logFC   AveExpr          t        Pvalue          Padj  \\\n",
       "0       INPP5F  2.727772  5.572005  13.841951  6.171679e-12  7.911475e-08   \n",
       "1       SHISA6  4.477838  3.000285  11.840752  1.106858e-10  4.899709e-07   \n",
       "2       KCNAB1 -4.078930  6.635182 -11.653588  1.477538e-10  4.899709e-07   \n",
       "3       MBOAT1  4.336051  2.461821  11.413497  2.151215e-10  4.899709e-07   \n",
       "4      ST8SIA5  3.933221  4.517097  11.383089  2.256980e-10  4.899709e-07   \n",
       "...        ...       ...       ...        ...           ...           ...   \n",
       "12814   MLLT11 -0.000800  0.211985  -0.001030  9.991879e-01  9.994998e-01   \n",
       "12815    REV3L -0.000105  7.436170  -0.000646  9.994905e-01  9.996295e-01   \n",
       "12816      MPZ  0.000424  1.804018   0.000636  9.994987e-01  9.996295e-01   \n",
       "12817     SDF2  0.000125  4.280966   0.000539  9.995751e-01  9.996295e-01   \n",
       "12818   ZNF490  0.000081  4.534782   0.000470  9.996295e-01  9.996295e-01   \n",
       "\n",
       "               B  \n",
       "0      17.227145  \n",
       "1      13.884851  \n",
       "2      14.362061  \n",
       "3      13.053337  \n",
       "4      13.653254  \n",
       "...          ...  \n",
       "12814  -5.679641  \n",
       "12815  -7.060551  \n",
       "12816  -5.986309  \n",
       "12817  -6.544391  \n",
       "12818  -6.628130  \n",
       "\n",
       "[12819 rows x 7 columns]>"
      ]
     },
     "execution_count": 83,
     "metadata": {},
     "output_type": "execute_result"
    }
   ],
   "source": [
    "OPC_orig.head"
   ]
  },
  {
   "cell_type": "code",
   "execution_count": 84,
   "id": "8f203eb0",
   "metadata": {},
   "outputs": [
    {
     "data": {
      "text/plain": [
       "(12819, 9)"
      ]
     },
     "execution_count": 84,
     "metadata": {},
     "output_type": "execute_result"
    }
   ],
   "source": [
    "OPC_new = pd.read_csv('./files/DAO_WM_v_RL_dream.csv', index_col=None)\n",
    "OPC_new.rename(columns={'adj.P.Val': 'Padj'}, inplace=True)\n",
    "OPC_new.rename(columns={'P.Value': 'Pvalue'}, inplace=True)\n",
    "OPC_new.shape"
   ]
  },
  {
   "cell_type": "code",
   "execution_count": 85,
   "id": "f45b061d",
   "metadata": {},
   "outputs": [
    {
     "data": {
      "text/plain": [
       "<bound method NDFrame.head of              gene     logFC   AveExpr          t        Pvalue          Padj  \\\n",
       "0          FCHSD2  2.084488  8.738575  17.784389  7.903566e-15  1.013158e-10   \n",
       "1      AC022182.1  2.343489  3.684697  11.832180  3.429527e-11  1.779344e-07   \n",
       "2          KCNAB1  3.883984  6.635182  11.715882  4.164156e-11  1.779344e-07   \n",
       "3          PLPPR1  2.146968  7.485931  11.462789  3.100570e-10  9.936551e-07   \n",
       "4      AL589669.1  1.670073  4.309478   8.827445  8.441358e-09  2.164195e-05   \n",
       "...           ...       ...       ...        ...           ...           ...   \n",
       "12814         RRH -0.000402  1.589609  -0.000812  9.993607e-01  9.995001e-01   \n",
       "12815     SP2-AS1  0.000768  3.562583   0.000792  9.993761e-01  9.995001e-01   \n",
       "12816       ARMT1 -0.000230  2.783776  -0.000763  9.994005e-01  9.995001e-01   \n",
       "12817      RNF121  0.000161  4.511354   0.000732  9.994221e-01  9.995001e-01   \n",
       "12818        GATB  0.000084  4.586062   0.000328  9.997414e-01  9.997414e-01   \n",
       "\n",
       "               B     z.std      gene.1  \n",
       "0      21.739217  7.769116      FCHSD2  \n",
       "1      14.493931  6.626838  AC022182.1  \n",
       "2      14.120490  6.598116      KCNAB1  \n",
       "3       9.244501  6.293665      PLPPR1  \n",
       "4      10.111599  5.759400  AL589669.1  \n",
       "...          ...       ...         ...  \n",
       "12814  -5.286170 -0.000801         RRH  \n",
       "12815  -4.727501  0.000782     SP2-AS1  \n",
       "12816  -5.745137 -0.000751       ARMT1  \n",
       "12817  -6.444940  0.000724      RNF121  \n",
       "12818  -5.759400  0.000324        GATB  \n",
       "\n",
       "[12819 rows x 9 columns]>"
      ]
     },
     "execution_count": 85,
     "metadata": {},
     "output_type": "execute_result"
    }
   ],
   "source": [
    "OPC_new.head"
   ]
  },
  {
   "cell_type": "code",
   "execution_count": 86,
   "id": "d2ebe5ff",
   "metadata": {},
   "outputs": [
    {
     "name": "stdout",
     "output_type": "stream",
     "text": [
      "(1665, 7)\n",
      "(804, 7)\n"
     ]
    }
   ],
   "source": [
    "# Load and process OPC_orig for upregulated and downregulated genes\n",
    "OPC_orig_up = OPC_orig[(OPC_orig.logFC >= 0.7)]\n",
    "OPC_orig_down = OPC_orig[(OPC_orig.logFC <= -0.7)]\n",
    "print(OPC_orig_up.shape)\n",
    "print(OPC_orig_down.shape)"
   ]
  },
  {
   "cell_type": "code",
   "execution_count": 87,
   "id": "3cc5e583",
   "metadata": {},
   "outputs": [
    {
     "name": "stdout",
     "output_type": "stream",
     "text": [
      "(329, 9)\n",
      "(368, 9)\n"
     ]
    }
   ],
   "source": [
    "# Load and process OPC_orig for upregulated and downregulated genes\n",
    "OPC_new_down = OPC_new[(OPC_new.Padj < 0.05) & (OPC_new.logFC >= 0.7)]\n",
    "OPC_new_up = OPC_new[(OPC_new.Padj < 0.05) & (OPC_new.logFC <= -0.7)]\n",
    "print(OPC_new_up.shape)\n",
    "print(OPC_new_down.shape)"
   ]
  },
  {
   "cell_type": "code",
   "execution_count": 88,
   "id": "7465acd1",
   "metadata": {},
   "outputs": [
    {
     "data": {
      "image/png": "[encoded data removed]",
      "text/plain": [
       "<Figure size 640x480 with 1 Axes>"
      ]
     },
     "metadata": {},
     "output_type": "display_data"
    },
    {
     "data": {
      "image/png": "[encoded data removed]",
      "text/plain": [
       "<Figure size 640x480 with 1 Axes>"
      ]
     },
     "metadata": {},
     "output_type": "display_data"
    }
   ],
   "source": [
    "import pandas as pd\n",
    "import matplotlib.pyplot as plt\n",
    "from matplotlib_venn import venn2, venn2_circles, venn2_unweighted\n",
    "from matplotlib_venn import venn3, venn3_circles\n",
    "\n",
    "# Assuming you have the original and new upregulated/downregulated dataframes\n",
    "# Extract sets of gene symbols for comparison\n",
    "set_OPC_orig_up = set(OPC_orig_up['gene'])\n",
    "set_OPC_orig_down = set(OPC_orig_down['gene'])\n",
    "set_OPC_new_up = set(OPC_new_up['gene'])\n",
    "set_OPC_new_down = set(OPC_new_down['gene'])\n",
    "\n",
    "# Calculate lengths and overlap for upregulated genes\n",
    "length_orig_up_only = len(set_OPC_orig_up - set_OPC_new_up)\n",
    "length_new_up_only = len(set_OPC_new_up - set_OPC_orig_up)\n",
    "common_up = set_OPC_orig_up & set_OPC_new_up\n",
    "length_common_up = len(common_up)\n",
    "\n",
    "# Plot Venn diagram for upregulated genes\n",
    "venn_up = venn2(subsets=(length_orig_up_only, length_new_up_only, length_common_up),\n",
    "                set_labels=('Upregulated (OPC_orig_up)', 'Upregulated (OPC_new_up)'),\n",
    "                set_colors=('#ffdd75', '#ffd34e'),\n",
    "                alpha=0.8)\n",
    "\n",
    "venn2_circles(subsets=(length_orig_up_only, length_new_up_only, length_common_up), linewidth=1)\n",
    "\n",
    "# Customize font sizes\n",
    "for subset in venn_up.subset_labels:\n",
    "    if subset:\n",
    "        subset.set_fontsize(16)\n",
    "for text in venn_up.set_labels:\n",
    "    text.set_fontsize(14)\n",
    "\n",
    "# Add a title and show the plot\n",
    "plt.title('Overlap Between Upregulated Genes', fontsize=16)\n",
    "plt.show()\n",
    "\n",
    "# Calculate lengths and overlap for downregulated genes\n",
    "length_orig_down_only = len(set_OPC_orig_down - set_OPC_new_down)\n",
    "length_new_down_only = len(set_OPC_new_down - set_OPC_orig_down)\n",
    "common_down = set_OPC_orig_down & set_OPC_new_down\n",
    "length_common_down = len(common_down)\n",
    "\n",
    "# Plot Venn diagram for downregulated genes\n",
    "venn_down = venn2(subsets=(length_orig_down_only, length_new_down_only, length_common_down),\n",
    "                  set_labels=('Downregulated (OPC_orig_down)', 'Downregulated (OPC_new_down)'),\n",
    "                  set_colors=('#75aaff', '#4e8bff'),\n",
    "                  alpha=0.8)\n",
    "\n",
    "venn2_circles(subsets=(length_orig_down_only, length_new_down_only, length_common_down), linewidth=1)\n",
    "\n",
    "# Customize font sizes\n",
    "for subset in venn_down.subset_labels:\n",
    "    if subset:\n",
    "        subset.set_fontsize(16)\n",
    "for text in venn_down.set_labels:\n",
    "    text.set_fontsize(14)\n",
    "\n",
    "# Add a title and show the plot\n",
    "plt.title('Overlap Between Downregulated Genes', fontsize=16)\n",
    "plt.show()"
   ]
  },
  {
   "cell_type": "code",
   "execution_count": 89,
   "id": "fbc27e14",
   "metadata": {
    "scrolled": true
   },
   "outputs": [
    {
     "name": "stdout",
     "output_type": "stream",
     "text": [
      "306\n",
      "{'PIEZO1', 'AC022784.1', 'TUBB2A', 'ACAT2', 'GNB2', 'PHACTR1', 'ARHGDIA', 'GALNT7', 'SORL1', 'FAAP20', 'AL356417.3', 'BTN3A2', 'LRRN1', 'BACE2', 'WWC2', 'PKNOX2', 'DOCK7', 'KCND3', 'ANO10', 'VWA5A', 'GRIK3', 'FAM129B', 'SLC6A6', 'ST8SIA5', 'SLC2A9', 'LGI4', 'FMNL3', 'KCTD9', 'DDX60', 'HAS1', 'TNFRSF19', 'KLF6', 'C2CD2', 'PLXND1', 'DCAF15', 'COQ10B', 'SCCPDH', 'BTN3A3', 'DHCR24', 'ADAM19', 'ITGB5', 'RALB', 'AC092903.2', 'RTN2', 'HLA-F', 'C3orf70', 'RGS16', 'ELOVL2', 'RFC2', 'BTBD6', 'HELB', 'JDP2', 'DCTD', 'R3HCC1', 'ERAP2', 'TRIM25', 'ABCA6', 'CAPNS1', 'KLF10', 'FLOT2', 'PTPRM', 'ANKDD1A', 'GAS2L3', 'DDX60L', 'TMEM150C', 'DDR1', 'OR4N2', 'CD59', 'BTG1', 'GBP2', 'TLE1', 'SCARA3', 'MIDN', 'GALNT15', 'ARHGAP39', 'PTPRU', 'FOXP4', 'NAV2', 'ARHGAP24', 'TMEM109', 'SPATA1', 'SETBP1', 'AC004812.2', 'PPP3CC', 'ELF4', 'TSPAN8', 'SALL1', 'NCMAP', 'WSCD1', 'ABLIM3', 'GGH', 'RGMB', 'SLC22A4', 'TNFAIP8', 'GINS2', 'EHD2', 'PARP14', 'NR4A1', 'ITPR3', 'GPRC5A', 'MAFF', 'CAMK2D', 'SIPA1L2', 'AKIRIN2', 'GUCY1B1', 'AC008537.4', 'GPSM1', 'SHISA6', 'ANXA5', 'AC069368.1', 'SMYD2', 'IMPDH2', 'DGKH', 'SF3A1', 'ACBD4', 'DTX3L', 'H1FX', 'CAV2', 'RBM11', 'EML3', 'SLC41A2', 'GALNT18', 'NGEF', 'GALNT14', 'CDK2', 'MOSPD3', 'PODXL', 'GPIHBP1', 'EPB41', 'GPC5', 'CNTNAP3', 'PHF1', 'PROS1', 'MGAT4B', 'MBOAT1', 'BTN3A1', 'ZNF579', 'EMP1', 'AL359644.1', 'P3H2', 'SC5D', 'CIC', 'SEMA5A', 'ZNF671', 'NFATC1', 'TMEM120A', 'PDHA1', 'UBTD1', 'IDH3A', 'DNMBP', 'AC011944.1', 'HMGCS1', 'CEBPG', 'AL158198.1', 'FAM111A', 'NLRC5', 'SOWAHC', 'SCN9A', 'GLI3', 'IRF1', 'RNF152', 'XYLT1', 'XAB2', 'SERTAD1', 'AC105094.2', 'RELL1', 'TNFSF9', 'CRTAC1', 'VAV2', 'LITAF', 'ST3GAL1', 'PREP', 'MED16', 'CACFD1', 'FAM184A', 'LINC02018', 'PRKRA-AS1', 'BCAR3', 'UBTD2', 'TCF19', 'ETV5', 'RIC8A', 'EGR1', 'AL451062.1', 'VASP', 'DUSP15', 'KANK4', 'TNFRSF21', 'PLIN3', 'TMEM164', 'EIF1AX', 'RASSF8', 'N4BP2', 'DCLK1', 'ODC1', 'FAM43A', 'ZNF367', 'BPHL', 'KIAA0586', 'DOP1B', 'DCC', 'NCK2', 'STK10', 'ARHGAP12', 'AFAP1L1', 'LNX2', 'PEF1', 'MFGE8', 'DPY19L1', 'ANXA2', 'ZC2HC1A', 'PML', 'AC106886.3', 'ACTN2', 'PPP1R2', 'HLA-C', 'CDK2AP2', 'HERC5', 'TLE2', 'AC011483.1', 'MFSD4A', 'HMGA1', 'LHFPL2', 'MAMLD1', 'SLC25A6', 'KBTBD11', 'REL', 'CTTNBP2NL', 'ITPKB-AS1', 'TCAF2', 'C1orf61', 'RGS17', 'NGFR', 'AFF3', 'PSMB9', 'INPP5F', 'AC074051.5', 'MVD', 'LIMD1', 'HMGCR', 'FAM201A', 'ZMIZ1', 'CEP170B', 'RASGRF1', 'ETS1', 'RARA', 'FAM171A1', 'AC027117.2', 'B3GNT7', 'RASGEF1C', 'HLA-B', 'ZC3HAV1', 'CCDC88B', 'ADAP1', 'HCN3', 'NRP2', 'FSTL5', 'ITGA8', 'DNAJB5', 'HERC6', 'LHFPL3', 'HLA-A', 'ITPKB', 'SBK1', 'AC011476.3', 'IL6R', 'CD44', 'MPP6', 'MYRIP', 'H1F0', 'SMPDL3A', 'PLCB3', 'MPND', 'STXBP1', 'ITPRID2', 'ISG20', 'LINC01583', 'AFAP1', 'NOD1', 'FDPS', 'SDK1', 'HIST1H2BE', 'ZSWIM4', 'COL18A1', 'VOPP1', 'PDIA5', 'AC018816.1', 'VIM', 'LIMK1', 'PSMB8', 'SP100', 'RHOBTB3', 'PHGDH', 'CSRNP1', 'ACOT11', 'LUCAT1', 'HMSD', 'CSF1', 'GRAMD1A', 'LIN9', 'SBF2-AS1', 'RRAD', 'ZNF486', 'FNTB', 'AC084032.1', 'TUBB2B'}\n"
     ]
    }
   ],
   "source": [
    "print(length_common_up)\n",
    "print(common_up)"
   ]
  },
  {
   "cell_type": "code",
   "execution_count": 90,
   "id": "30fa41ae",
   "metadata": {},
   "outputs": [
    {
     "name": "stdout",
     "output_type": "stream",
     "text": [
      "299\n",
      "{'LINC00639', 'GRAMD2B', 'RAMP1', 'AC011043.1', 'PLPPR1', 'AC008050.1', 'ATP8A2', 'AC006270.1', 'AC009063.3', 'CLCA4-AS1', 'LRIG3', 'CFAP70', 'CDH23', 'PALM2-AKAP2', 'AC093423.3', 'AC004158.1', 'DPH6-DT', 'PALM2', 'AC069114.1', 'AC007221.1', 'IFNA2', 'C1orf162', 'ARHGAP1', 'LINC02177', 'RGS5', 'FXYD7', 'AL353732.1', 'LINC01099', 'NOS1', 'ITM2A', 'AL109910.1', 'LAMA2', 'LINC00891', 'ZFYVE16', 'ATG4C', 'ADAMTS8', 'SOD3', 'ROR1', 'CHD7', 'HS3ST5', 'SCUBE2', 'AC007376.2', 'PEX11G', 'AL136460.1', 'LINC01170', 'HILPDA', 'SNAP25-AS1', 'APCDD1', 'AC016383.2', 'AL592183.1', 'PTN', 'AC098650.1', 'MT-CO2', 'PURG', 'AL078590.3', 'HID1', 'AC090092.1', 'TMEM232', 'IFNG-AS1', 'TMEM132B', 'AC111152.2', 'INSYN2B', 'AL031121.2', 'GNG8', 'SVEP1', 'MT-ATP6', 'LINC02060', 'PABPC1L', 'CCDC160', 'AC026746.1', 'AC009163.6', 'CADM2', 'FHL1', 'AC093627.3', 'GRIA2', 'PTPDC1', 'PPM1H', 'AL121768.1', 'GRIA3', 'PGBD4', 'ZNF117', 'SEC14L5', 'AC009271.1', 'LCP1', 'UNG', 'AC115622.1', 'CTNND2', 'AP003100.2', 'MIR181A1HG', 'AC010175.1', 'ANK3', 'AC010636.2', 'ADAMTS17', 'TMEM179', 'ZFP57', 'TMEM171', 'THBS4', 'TMEFF2', 'RAB6C', 'AP002956.1', 'ANO4', 'AC066613.2', 'ZNF883', 'LINC01416', 'PLEKHG3', 'LGALSL', 'TDP1', 'NAGPA', 'ERBB4', 'KIF21B', 'AC091946.1', 'KCTD1', 'PLXDC2', 'PDGFD', 'AC103770.1', 'AC233296.1', 'DACT3-AS1', 'TST', 'BCHE', 'TRIP6', 'KCNAB1', 'TDRD6', 'GALNT12', 'POC1B-AS1', 'CARD18', 'ABCG1', 'AQP4-AS1', 'MRPL17', 'AC008728.1', 'LINC01608', 'MMP17', 'AC002072.1', 'AC020909.2', 'SPATA6L', 'CACNA1E', 'LEKR1', 'TFDP1', 'SEMA6D', 'STS', 'ASIC1', 'LRP6', 'AC079950.1', 'AC003102.1', 'LINC01340', 'AC007221.2', 'CCP110', 'AP001605.1', 'TMIGD3', 'AC104417.2', 'FRY', 'AL392023.2', 'GALNT10', 'LINC00970', 'AP000766.1', 'AC245297.2', 'PLCL2', 'MAPT-AS1', 'FMN2', 'CYP46A1', 'NEMP2', 'CPB2', 'CDH1', 'AC025034.1', 'AC022182.1', 'AC091826.2', 'DOCK2', 'OPALIN', 'FSCN1', 'OSBPL1A', 'CACNA1C', 'DAB2IP', 'PGM1', 'DNAH1', 'DISC1', 'ADA', 'EFCAB11', 'SYT16', 'TSNAX-DISC1', 'PDE10A', 'CNTN1', 'LINC00461', 'KLRC4-KLRK1', 'ADGRA3', 'THY1', 'FRMPD1', 'STX16-NPEPL1', 'DOCK3', 'PAK5', 'DPP10', 'PPP2R2B', 'CCDC102B', 'PARVB', 'ZNF365', 'FGF12', 'CPB2-AS1', 'RASAL1', 'MORN2', 'INSM1', 'HHIP', 'CAPN13', 'AC010809.1', 'CORIN', 'NLGN1', 'WLS', 'AC107032.2', 'CNPY4', 'ASAP3', 'ADGRL3', 'LTBP1', 'CU633967.1', 'ARPP21', 'VSTM2B', 'FAM126A', 'CAVIN4', 'DDX4', 'AC093249.2', 'RNF32', 'OLIG1', 'ZNF497', 'AL355076.2', 'AP000755.1', 'TM7SF2', 'ASPDH', 'SLITRK1', 'YIPF7', 'SLC4A8', 'LINC01252', 'PACRG-AS1', 'GRM7', 'AC113383.1', 'AMZ1', 'MAEL', 'SH3TC2-DT', 'FAM135B', 'AL139807.1', 'PXDNL', 'DLG4', 'AL117350.1', 'MIPEP', 'SH3D19', 'TRIM59', 'AC022075.1', 'RCBTB1', 'AC000120.3', 'AC009226.1', 'NAALAD2', 'FMN1', 'AC007614.1', 'AL121656.1', 'AC004918.1', 'PRKCQ', 'TP53TG5', 'C9orf16', 'SOX6', 'AL359233.1', 'CLVS1', 'SIPA1L1', 'UFL1-AS1', 'AC105383.1', 'HFE', 'LINC02073', 'AC078881.1', 'AC090772.3', 'CABYR', 'OST4', 'PAOX', 'CDK6', 'PCDH7', 'LIX1-AS1', 'AL589669.1', 'ENOX2', 'PAG1', 'FCHSD2', 'AL136418.1', 'CFAP54', 'AC004112.1', 'HOMER2', 'MIR2052HG', 'GRIK2', 'CLEC14A', 'LINC01411', 'NAALADL2', 'HECW2', 'SLC25A48', 'AC073878.1', 'AL161804.1', 'AC055855.2', 'AC012593.1', 'LINC01992', 'SV2B', 'TTC8', 'MIR181A2HG', 'ST3GAL6', 'ST3GAL6-AS1', 'LINC01299', 'NECAB1', 'FAM155A', 'AC006299.1', 'PCAT1'}\n"
     ]
    }
   ],
   "source": [
    "print(length_common_down)\n",
    "print(common_down)"
   ]
  },
  {
   "cell_type": "code",
   "execution_count": null,
   "id": "ecbcb434",
   "metadata": {},
   "outputs": [],
   "source": []
  }
 ],
 "metadata": {
  "kernelspec": {
   "display_name": "Python 3 (ipykernel)",
   "language": "python",
   "name": "python3"
  },
  "language_info": {
   "codemirror_mode": {
    "name": "ipython",
    "version": 3
   },
   "file_extension": ".py",
   "mimetype": "text/x-python",
   "name": "python",
   "nbconvert_exporter": "python",
   "pygments_lexer": "ipython3",
   "version": "3.11.11"
  }
 },
 "nbformat": 4,
 "nbformat_minor": 5
}

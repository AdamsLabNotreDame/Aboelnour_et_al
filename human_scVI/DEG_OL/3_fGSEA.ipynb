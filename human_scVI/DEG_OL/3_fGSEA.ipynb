{
 "cells": [
  {
   "cell_type": "code",
   "execution_count": 1,
   "id": "4007584a",
   "metadata": {},
   "outputs": [],
   "source": [
    "import warnings\n",
    "\n",
    "warnings.filterwarnings(\"ignore\")\n",
    "\n",
    "import matplotlib.pyplot as plt\n",
    "import seaborn as sns\n",
    "import scanpy as sc\n",
    "import pandas as pd\n",
    "import numpy as np\n",
    "import random\n",
    "import sc_toolbox\n",
    "import pertpy \n",
    "\n",
    "import rpy2.rinterface_lib.callbacks\n",
    "import anndata2ri\n",
    "import logging\n",
    "\n",
    "from rpy2.robjects import pandas2ri\n",
    "from rpy2.robjects import r\n",
    "\n",
    "sc.settings.verbosity = 0\n",
    "rpy2.rinterface_lib.callbacks.logger.setLevel(logging.ERROR)\n",
    "\n",
    "pandas2ri.activate()\n",
    "anndata2ri.activate()\n",
    "\n",
    "pd.set_option('display.max_columns', None)\n",
    "\n",
    "%load_ext rpy2.ipython"
   ]
  },
  {
   "cell_type": "code",
   "execution_count": 2,
   "id": "1046f1be",
   "metadata": {},
   "outputs": [
    {
     "name": "stdout",
     "output_type": "stream",
     "text": [
      "── Attaching core tidyverse packages ──────────────────────── tidyverse 2.0.0 ──\n",
      "✔ dplyr     1.1.4     ✔ readr     2.1.5\n",
      "✔ forcats   1.0.0     ✔ stringr   1.5.1\n",
      "✔ ggplot2   3.5.1     ✔ tibble    3.2.1\n",
      "✔ lubridate 1.9.4     ✔ tidyr     1.3.1\n",
      "✔ purrr     1.0.2     \n",
      "── Conflicts ────────────────────────────────────────── tidyverse_conflicts() ──\n",
      "✖ dplyr::filter() masks stats::filter()\n",
      "✖ dplyr::lag()    masks stats::lag()\n",
      "ℹ Use the conflicted package (<http://conflicted.r-lib.org/>) to force all conflicts to become errors\n"
     ]
    }
   ],
   "source": [
    "%%R\n",
    "library(GSA)\n",
    "library(msigdbr)\n",
    "library(fgsea)\n",
    "library(tidyverse) # includes ggplot2, for data visualisation. dplyr, for data manipulation.\n",
    "library(RColorBrewer) # for a colourful plot"
   ]
  },
  {
   "cell_type": "code",
   "execution_count": 3,
   "id": "e19bac30",
   "metadata": {},
   "outputs": [],
   "source": [
    "%%R\n",
    "\n",
    "set.seed(42)"
   ]
  },
  {
   "cell_type": "markdown",
   "id": "deecae0a",
   "metadata": {},
   "source": [
    "# Set up gene lists"
   ]
  },
  {
   "cell_type": "code",
   "execution_count": 4,
   "id": "503563f0",
   "metadata": {},
   "outputs": [
    {
     "name": "stdout",
     "output_type": "stream",
     "text": [
      "# A tibble: 20 × 2\n",
      "   species_name                    species_common_name                          \n",
      "   <chr>                           <chr>                                        \n",
      " 1 Anolis carolinensis             Carolina anole, green anole                  \n",
      " 2 Bos taurus                      bovine, cattle, cow, dairy cow, domestic cat…\n",
      " 3 Caenorhabditis elegans          <NA>                                         \n",
      " 4 Canis lupus familiaris          dog, dogs                                    \n",
      " 5 Danio rerio                     leopard danio, zebra danio, zebra fish, zebr…\n",
      " 6 Drosophila melanogaster         fruit fly                                    \n",
      " 7 Equus caballus                  domestic horse, equine, horse                \n",
      " 8 Felis catus                     cat, cats, domestic cat                      \n",
      " 9 Gallus gallus                   bantam, chicken, chickens, Gallus domesticus \n",
      "10 Homo sapiens                    human                                        \n",
      "11 Macaca mulatta                  rhesus macaque, rhesus macaques, Rhesus monk…\n",
      "12 Monodelphis domestica           gray short-tailed opossum                    \n",
      "13 Mus musculus                    house mouse, mouse                           \n",
      "14 Ornithorhynchus anatinus        duck-billed platypus, duckbill platypus, pla…\n",
      "15 Pan troglodytes                 chimpanzee                                   \n",
      "16 Rattus norvegicus               brown rat, Norway rat, rat, rats             \n",
      "17 Saccharomyces cerevisiae        baker's yeast, brewer's yeast, S. cerevisiae \n",
      "18 Schizosaccharomyces pombe 972h- <NA>                                         \n",
      "19 Sus scrofa                      pig, pigs, swine, wild boar                  \n",
      "20 Xenopus tropicalis              tropical clawed frog, western clawed frog    \n"
     ]
    }
   ],
   "source": [
    "%%R\n",
    "msigdbr_species()"
   ]
  },
  {
   "cell_type": "code",
   "execution_count": 5,
   "id": "2bdd5150",
   "metadata": {},
   "outputs": [
    {
     "name": "stdout",
     "output_type": "stream",
     "text": [
      "# A tibble: 6 × 15\n",
      "  gs_cat gs_subcat      gs_name        gene_symbol entrez_gene ensembl_gene   \n",
      "  <chr>  <chr>          <chr>          <chr>             <int> <chr>          \n",
      "1 C3     MIR:MIR_Legacy AAACCAC_MIR140 ABCC4             10257 ENSG00000125257\n",
      "2 C3     MIR:MIR_Legacy AAACCAC_MIR140 ABRAXAS2          23172 ENSG00000165660\n",
      "3 C3     MIR:MIR_Legacy AAACCAC_MIR140 ACTN4                81 ENSG00000130402\n",
      "4 C3     MIR:MIR_Legacy AAACCAC_MIR140 ACTN4                81 ENSG00000282844\n",
      "5 C3     MIR:MIR_Legacy AAACCAC_MIR140 ACVR1                90 ENSG00000115170\n",
      "6 C3     MIR:MIR_Legacy AAACCAC_MIR140 ADAM9              8754 ENSG00000168615\n",
      "# ℹ 9 more variables: human_gene_symbol <chr>, human_entrez_gene <int>,\n",
      "#   human_ensembl_gene <chr>, gs_id <chr>, gs_pmid <chr>, gs_geoid <chr>,\n",
      "#   gs_exact_source <chr>, gs_url <chr>, gs_description <chr>\n"
     ]
    }
   ],
   "source": [
    "%%R\n",
    "\n",
    "all_gene_sets = msigdbr(species = \"human\")\n",
    "head(all_gene_sets)"
   ]
  },
  {
   "cell_type": "code",
   "execution_count": 6,
   "id": "9a67eff4",
   "metadata": {},
   "outputs": [
    {
     "name": "stdout",
     "output_type": "stream",
     "text": [
      "# A tibble: 23 × 3\n",
      "   gs_cat gs_subcat         num_genesets\n",
      "   <chr>  <chr>                    <int>\n",
      " 1 C1     \"\"                         299\n",
      " 2 C2     \"CGP\"                     3384\n",
      " 3 C2     \"CP\"                        29\n",
      " 4 C2     \"CP:BIOCARTA\"              292\n",
      " 5 C2     \"CP:KEGG\"                  186\n",
      " 6 C2     \"CP:PID\"                   196\n",
      " 7 C2     \"CP:REACTOME\"             1615\n",
      " 8 C2     \"CP:WIKIPATHWAYS\"          664\n",
      " 9 C3     \"MIR:MIRDB\"               2377\n",
      "10 C3     \"MIR:MIR_Legacy\"           221\n",
      "11 C3     \"TFT:GTRD\"                 518\n",
      "12 C3     \"TFT:TFT_Legacy\"           610\n",
      "13 C4     \"CGN\"                      427\n",
      "14 C4     \"CM\"                       431\n",
      "15 C5     \"GO:BP\"                   7658\n",
      "16 C5     \"GO:CC\"                   1006\n",
      "17 C5     \"GO:MF\"                   1738\n",
      "18 C5     \"HPO\"                     5071\n",
      "19 C6     \"\"                         189\n",
      "20 C7     \"IMMUNESIGDB\"             4872\n",
      "21 C7     \"VAX\"                      347\n",
      "22 C8     \"\"                         700\n",
      "23 H      \"\"                          50\n"
     ]
    }
   ],
   "source": [
    "%%R\n",
    "\n",
    "# Get the MSigDB collections\n",
    "collections <- msigdbr_collections()\n",
    "\n",
    "# Print all rows of the tibble\n",
    "print(collections, n = Inf)"
   ]
  },
  {
   "cell_type": "code",
   "execution_count": 7,
   "id": "9dcad31f",
   "metadata": {},
   "outputs": [
    {
     "name": "stdout",
     "output_type": "stream",
     "text": [
      "# A tibble: 6 × 15\n",
      "  gs_cat gs_subcat gs_name               gene_symbol entrez_gene ensembl_gene   \n",
      "  <chr>  <chr>     <chr>                 <chr>             <int> <chr>          \n",
      "1 H      \"\"        HALLMARK_ADIPOGENESIS ABCA1                19 ENSG00000165029\n",
      "2 H      \"\"        HALLMARK_ADIPOGENESIS ABCB8             11194 ENSG00000197150\n",
      "3 H      \"\"        HALLMARK_ADIPOGENESIS ACAA2             10449 ENSG00000167315\n",
      "4 H      \"\"        HALLMARK_ADIPOGENESIS ACADL                33 ENSG00000115361\n",
      "5 H      \"\"        HALLMARK_ADIPOGENESIS ACADM                34 ENSG00000117054\n",
      "6 H      \"\"        HALLMARK_ADIPOGENESIS ACADS                35 ENSG00000122971\n",
      "# ℹ 9 more variables: human_gene_symbol <chr>, human_entrez_gene <int>,\n",
      "#   human_ensembl_gene <chr>, gs_id <chr>, gs_pmid <chr>, gs_geoid <chr>,\n",
      "#   gs_exact_source <chr>, gs_url <chr>, gs_description <chr>\n"
     ]
    }
   ],
   "source": [
    "%%R\n",
    "\n",
    "#Retrieve human H (hallmark gene sets) \n",
    "msigdbr_df <- msigdbr(species = \"human\", category = \"H\")\n",
    "\n",
    "\n",
    "head(msigdbr_df)"
   ]
  },
  {
   "cell_type": "code",
   "execution_count": 8,
   "id": "a3f0bd45",
   "metadata": {},
   "outputs": [
    {
     "name": "stdout",
     "output_type": "stream",
     "text": [
      "$HALLMARK_ADIPOGENESIS\n",
      "  [1] \"ABCA1\"    \"ABCB8\"    \"ACAA2\"    \"ACADL\"    \"ACADM\"    \"ACADS\"   \n",
      "  [7] \"ACLY\"     \"ACO2\"     \"ACOX1\"    \"ADCY6\"    \"ADIG\"     \"ADIPOQ\"  \n",
      " [13] \"ADIPOR2\"  \"ADIPOR2\"  \"AGPAT3\"   \"AIFM1\"    \"AK2\"      \"ALDH2\"   \n",
      " [19] \"ALDOA\"    \"ANGPT1\"   \"ANGPTL4\"  \"APLP2\"    \"APOE\"     \"ARAF\"    \n",
      " [25] \"ARL4A\"    \"ATL2\"     \"ATP1B3\"   \"ATP5PO\"   \"BAZ2A\"    \"BCKDHA\"  \n",
      " [31] \"BCL2L13\"  \"BCL6\"     \"C3\"       \"CAT\"      \"CAVIN1\"   \"CAVIN2\"  \n",
      " [37] \"CCNG2\"    \"CD151\"    \"CD302\"    \"CD36\"     \"CDKN2C\"   \"CHCHD10\" \n",
      " [43] \"CHCHD10\"  \"CHCHD10\"  \"CHUK\"     \"CIDEA\"    \"CMBL\"     \"CMPK1\"   \n",
      " [49] \"COL15A1\"  \"COL4A1\"   \"COQ3\"     \"COQ5\"     \"COQ9\"     \"COX6A1\"  \n",
      " [55] \"COX7B\"    \"COX8A\"    \"CPT2\"     \"CRAT\"     \"CS\"       \"CYC1\"    \n",
      " [61] \"CYP4B1\"   \"DBT\"      \"DDT\"      \"DDT\"      \"DECR1\"    \"DGAT1\"   \n",
      " [67] \"DGAT1\"    \"DGAT1\"    \"DHCR7\"    \"DHRS7\"    \"DHRS7B\"   \"DLAT\"    \n",
      " [73] \"DLD\"      \"DNAJB9\"   \"DNAJC15\"  \"DRAM2\"    \"ECH1\"     \"ECH1\"    \n",
      " [79] \"ECHS1\"    \"ELMOD3\"   \"ELOVL6\"   \"ENPP2\"    \"EPHX2\"    \"ESRRA\"   \n",
      " [85] \"ESYT1\"    \"ETFB\"     \"FABP4\"    \"FAH\"      \"FZD4\"     \"G3BP2\"   \n",
      " [91] \"GADD45A\"  \"GBE1\"     \"GHITM\"    \"GPAM\"     \"GPAT4\"    \"GPD2\"    \n",
      " [97] \"GPHN\"     \"GPX3\"     \"GPX4\"     \"GRPEL1\"   \"HADH\"     \"HIBCH\"   \n",
      "[103] \"HSPB8\"    \"IDH1\"     \"IDH3A\"    \"IDH3G\"    \"IFNGR1\"   \"IMMT\"    \n",
      "[109] \"ITGA7\"    \"ITIH5\"    \"ITSN1\"    \"JAGN1\"    \"LAMA4\"    \"LEP\"     \n",
      "[115] \"LIFR\"     \"LIPE\"     \"LPCAT3\"   \"LPL\"      \"LTC4S\"    \"LTC4S\"   \n",
      "[121] \"MAP4K3\"   \"MCCC1\"    \"MDH2\"     \"ME1\"      \"MGLL\"     \"MGST3\"   \n",
      "[127] \"MIGA2\"    \"MRAP\"     \"MRPL15\"   \"MTARC2\"   \"MTCH2\"    \"MTCH2\"   \n",
      "[133] \"MYLK\"     \"NABP1\"    \"NDUFA5\"   \"NDUFAB1\"  \"NDUFB7\"   \"NDUFS3\"  \n",
      "[139] \"NDUFS3\"   \"NKIRAS1\"  \"NMT1\"     \"OMD\"      \"ORM1\"     \"PDCD4\"   \n",
      "[145] \"PEMT\"     \"PEX14\"    \"PFKFB3\"   \"PFKL\"     \"PGM1\"     \"PHLDB1\"  \n",
      "[151] \"PHYH\"     \"PIM3\"     \"PLIN2\"    \"POR\"      \"PPARG\"    \"PPM1B\"   \n",
      "[157] \"PPP1R15B\" \"PRDX3\"    \"PREB\"     \"PTCD3\"    \"PTGER3\"   \"QDPR\"    \n",
      "[163] \"RAB34\"    \"REEP5\"    \"REEP6\"    \"RETN\"     \"RETSAT\"   \"RIOK3\"   \n",
      "[169] \"RMDN3\"    \"RNF11\"    \"RREB1\"    \"RTN3\"     \"SAMM50\"   \"SCARB1\"  \n",
      "[175] \"SCP2\"     \"SDHB\"     \"SDHC\"     \"SLC19A1\"  \"SLC1A5\"   \"SLC25A1\" \n",
      "[181] \"SLC25A10\" \"SLC27A1\"  \"SLC5A6\"   \"SLC66A3\"  \"SNCG\"     \"SOD1\"    \n",
      "[187] \"SORBS1\"   \"SOWAHC\"   \"SPARCL1\"  \"SQOR\"     \"SSPN\"     \"STAT5A\"  \n",
      "[193] \"STOM\"     \"SUCLG1\"   \"SULT1A1\"  \"TALDO1\"   \"TANK\"     \"TKT\"     \n",
      "[199] \"TOB1\"     \"TST\"      \"UBC\"      \"UBQLN1\"   \"UCK1\"     \"UCP2\"    \n",
      "[205] \"UQCR10\"   \"UQCR11\"   \"UQCRC1\"   \"UQCRQ\"    \"VEGFB\"    \"YWHAG\"   \n",
      "\n",
      "$HALLMARK_ALLOGRAFT_REJECTION\n",
      "  [1] \"AARS1\"    \"ABCE1\"    \"ABI1\"     \"ACHE\"     \"ACVR2A\"   \"AKT1\"    \n",
      "  [7] \"APBB1\"    \"B2M\"      \"B2M\"      \"BCAT1\"    \"BCL10\"    \"BCL3\"    \n",
      " [13] \"BRCA1\"    \"C2\"       \"C2\"       \"C2\"       \"C2\"       \"C2\"      \n",
      " [19] \"C2\"       \"C2\"       \"CAPG\"     \"CARTPT\"   \"CCL11\"    \"CCL13\"   \n",
      " [25] \"CCL19\"    \"CCL2\"     \"CCL22\"    \"CCL4\"     \"CCL4\"     \"CCL4\"    \n",
      " [31] \"CCL5\"     \"CCL5\"     \"CCL7\"     \"CCND2\"    \"CCND3\"    \"CCR1\"    \n",
      " [37] \"CCR2\"     \"CCR5\"     \"CD1D\"     \"CD2\"      \"CD247\"    \"CD28\"    \n",
      " [43] \"CD3D\"     \"CD3E\"     \"CD3G\"     \"CD4\"      \"CD40\"     \"CD40LG\"  \n",
      " [49] \"CD47\"     \"CD7\"      \"CD74\"     \"CD79A\"    \"CD80\"     \"CD86\"    \n",
      " [55] \"CD8A\"     \"CD8B\"     \"CD96\"     \"CDKN2A\"   \"CFP\"      \"CRTAM\"   \n",
      " [61] \"CSF1\"     \"CSK\"      \"CTSS\"     \"CXCL13\"   \"CXCL9\"    \"CXCR3\"   \n",
      " [67] \"DARS1\"    \"DEGS1\"    \"DYRK3\"    \"EGFR\"     \"EIF3A\"    \"EIF3D\"   \n",
      " [73] \"EIF3J\"    \"EIF4G3\"   \"EIF5A\"    \"EIF5A\"    \"ELANE\"    \"ELANE\"   \n",
      " [79] \"ELF4\"     \"EREG\"     \"ETS1\"     \"F2\"       \"F2R\"      \"FAS\"     \n",
      " [85] \"FASLG\"    \"FCGR2B\"   \"FGR\"      \"FLNA\"     \"FYB1\"     \"GALNT1\"  \n",
      " [91] \"GBP2\"     \"GCNT1\"    \"GLMN\"     \"GPR65\"    \"GZMA\"     \"GZMB\"    \n",
      " [97] \"HCLS1\"    \"HDAC9\"    \"HIF1A\"    \"HLA-A\"    \"HLA-A\"    \"HLA-A\"   \n",
      "[103] \"HLA-A\"    \"HLA-A\"    \"HLA-A\"    \"HLA-A\"    \"HLA-A\"    \"HLA-DMA\" \n",
      "[109] \"HLA-DMA\"  \"HLA-DMA\"  \"HLA-DMA\"  \"HLA-DMA\"  \"HLA-DMA\"  \"HLA-DMA\" \n",
      "[115] \"HLA-DMA\"  \"HLA-DMB\"  \"HLA-DMB\"  \"HLA-DMB\"  \"HLA-DMB\"  \"HLA-DMB\" \n",
      "[121] \"HLA-DMB\"  \"HLA-DMB\"  \"HLA-DMB\"  \"HLA-DOA\"  \"HLA-DOA\"  \"HLA-DOA\" \n",
      "[127] \"HLA-DOA\"  \"HLA-DOA\"  \"HLA-DOA\"  \"HLA-DOA\"  \"HLA-DOB\"  \"HLA-DOB\" \n",
      "[133] \"HLA-DOB\"  \"HLA-DOB\"  \"HLA-DOB\"  \"HLA-DOB\"  \"HLA-DQA1\" \"HLA-DQA1\"\n",
      "[139] \"HLA-DQA1\" \"HLA-DQA1\" \"HLA-DQA1\" \"HLA-DQA1\" \"HLA-DQA1\" \"HLA-DRA\" \n",
      "[145] \"HLA-DRA\"  \"HLA-DRA\"  \"HLA-DRA\"  \"HLA-DRA\"  \"HLA-DRA\"  \"HLA-DRA\" \n",
      "[151] \"HLA-DRA\"  \"HLA-E\"    \"HLA-E\"    \"HLA-E\"    \"HLA-E\"    \"HLA-E\"   \n",
      "[157] \"HLA-E\"    \"HLA-E\"    \"HLA-G\"    \"HLA-G\"    \"HLA-G\"    \"HLA-G\"   \n",
      "[163] \"HLA-G\"    \"HLA-G\"    \"HLA-G\"    \"HLA-G\"    \"ICAM1\"    \"ICOSLG\"  \n",
      "[169] \"IFNAR2\"   \"IFNG\"     \"IFNGR1\"   \"IFNGR2\"   \"IFNGR2\"   \"IGSF6\"   \n",
      "[175] \"IGSF6\"    \"IKBKB\"    \"IL10\"     \"IL11\"     \"IL12A\"    \"IL12B\"   \n",
      "[181] \"IL12RB1\"  \"IL13\"     \"IL15\"     \"IL16\"     \"IL18\"     \"IL18RAP\" \n",
      "[187] \"IL1B\"     \"IL2\"      \"IL27RA\"   \"IL27RA\"   \"IL2RA\"    \"IL2RB\"   \n",
      "[193] \"IL2RG\"    \"IL4\"      \"IL4R\"     \"IL6\"      \"IL7\"      \"IL9\"     \n",
      "[199] \"INHBA\"    \"INHBB\"    \"IRF4\"     \"IRF7\"     \"IRF7\"     \"IRF8\"    \n",
      "[205] \"ITGAL\"    \"ITGB2\"    \"ITK\"      \"JAK2\"     \"KLRD1\"    \"KRT1\"    \n",
      "[211] \"LCK\"      \"LCP2\"     \"LIF\"      \"LTB\"      \"LTB\"      \"LTB\"     \n",
      "[217] \"LTB\"      \"LTB\"      \"LTB\"      \"LTB\"      \"LTB\"      \"LY75\"    \n",
      "[223] \"LY86\"     \"LYN\"      \"MAP3K7\"   \"MAP4K1\"   \"MAP4K1\"   \"MBL2\"    \n",
      "[229] \"MMP9\"     \"MRPL3\"    \"MTIF2\"    \"NCF4\"     \"NCF4\"     \"NCK1\"    \n",
      "[235] \"NCR1\"     \"NCR1\"     \"NCR1\"     \"NCR1\"     \"NCR1\"     \"NCR1\"    \n",
      "[241] \"NCR1\"     \"NCR1\"     \"NCR1\"     \"NCR1\"     \"NCR1\"     \"NCR1\"    \n",
      "[247] \"NCR1\"     \"NCR1\"     \"NCR1\"     \"NCR1\"     \"NCR1\"     \"NCR1\"    \n",
      "[253] \"NLRP3\"    \"NME1\"     \"NOS2\"     \"NPM1\"     \"PF4\"      \"PRF1\"    \n",
      "[259] \"PRKCB\"    \"PRKCG\"    \"PSMB10\"   \"PTPN6\"    \"PTPRC\"    \"PTPRC\"   \n",
      "[265] \"RARS1\"    \"RIPK2\"    \"RPL39\"    \"RPL3L\"    \"RPL9\"     \"RPS19\"   \n",
      "[271] \"RPS3A\"    \"RPS9\"     \"RPS9\"     \"RPS9\"     \"RPS9\"     \"RPS9\"    \n",
      "[277] \"RPS9\"     \"RPS9\"     \"RPS9\"     \"RPS9\"     \"RPS9\"     \"SIT1\"    \n",
      "[283] \"SOCS1\"    \"SOCS5\"    \"SPI1\"     \"SRGN\"     \"ST8SIA4\"  \"STAB1\"   \n",
      "[289] \"STAT1\"    \"STAT4\"    \"TAP1\"     \"TAP1\"     \"TAP1\"     \"TAP1\"    \n",
      "[295] \"TAP1\"     \"TAP1\"     \"TAP1\"     \"TAP1\"     \"TAP2\"     \"TAP2\"    \n",
      "[301] \"TAP2\"     \"TAP2\"     \"TAP2\"     \"TAP2\"     \"TAP2\"     \"TAP2\"    \n",
      "[307] \"TAPBP\"    \"TAPBP\"    \"TAPBP\"    \"TAPBP\"    \"TAPBP\"    \"TGFB1\"   \n",
      "[313] \"TGFB2\"    \"THY1\"     \"TIMP1\"    \"TLR1\"     \"TLR2\"     \"TLR3\"    \n",
      "[319] \"TLR6\"     \"TNF\"      \"TNF\"      \"TNF\"      \"TNF\"      \"TNF\"     \n",
      "[325] \"TNF\"      \"TNF\"      \"TNF\"      \"TPD52\"    \"TRAF2\"    \"TRAT1\"   \n",
      "[331] \"UBE2D1\"   \"UBE2N\"    \"WARS1\"    \"WAS\"      \"ZAP70\"   \n",
      "\n",
      "$HALLMARK_ANDROGEN_RESPONSE\n",
      "  [1] \"ABCC4\"    \"ABHD2\"    \"ACSL3\"    \"ACTN1\"    \"ADAMTS1\"  \"ADRM1\"   \n",
      "  [7] \"AKAP12\"   \"AKT1\"     \"ALDH1A3\"  \"ANKH\"     \"APPBP2\"   \"ARID5B\"  \n",
      " [13] \"AZGP1\"    \"B2M\"      \"B2M\"      \"B4GALT1\"  \"BMPR1B\"   \"CAMKK2\"  \n",
      " [19] \"CCND1\"    \"CCND3\"    \"CDC14B\"   \"CDK6\"     \"CENPN\"    \"DBI\"     \n",
      " [25] \"DHCR24\"   \"DNAJB9\"   \"ELK4\"     \"ELL2\"     \"ELOVL5\"   \"FADS1\"   \n",
      " [31] \"FKBP5\"    \"GNAI3\"    \"GPD1L\"    \"GSR\"      \"GUCY1A1\"  \"H1-0\"    \n",
      " [37] \"HERC3\"    \"HERC3\"    \"HMGCR\"    \"HMGCS1\"   \"HOMER2\"   \"HPGD\"    \n",
      " [43] \"HSD17B14\" \"IDI1\"     \"INPP4B\"   \"INSIG1\"   \"IQGAP2\"   \"ITGAV\"   \n",
      " [49] \"KLK2\"     \"KLK3\"     \"KRT19\"    \"KRT8\"     \"LIFR\"     \"LMAN1\"   \n",
      " [55] \"MAF\"      \"MAK\"      \"MAP7\"     \"MERTK\"    \"MYL12A\"   \"NCOA4\"   \n",
      " [61] \"NDRG1\"    \"NGLY1\"    \"NKX3-1\"   \"PA2G4\"    \"PDLIM5\"   \"PGM3\"    \n",
      " [67] \"PIAS1\"    \"PLPP1\"    \"PMEPA1\"   \"PTK2B\"    \"PTPN21\"   \"RAB4A\"   \n",
      " [73] \"RPS6KA3\"  \"RRP12\"    \"SAT1\"     \"SCD\"      \"SEC24D\"   \"SELENOP\" \n",
      " [79] \"SGK1\"     \"SLC26A2\"  \"SLC38A2\"  \"SMS\"      \"SORD\"     \"SPCS3\"   \n",
      " [85] \"SPDEF\"    \"SRF\"      \"SRP19\"    \"STEAP4\"   \"STK39\"    \"TMEM50A\" \n",
      " [91] \"TMPRSS2\"  \"TNFAIP8\"  \"TPD52\"    \"TSC22D1\"  \"UAP1\"     \"UBE2I\"   \n",
      " [97] \"UBE2J1\"   \"VAPA\"     \"XRCC5\"    \"XRCC6\"    \"ZBTB10\"   \"ZMIZ1\"   \n",
      "\n",
      "$HALLMARK_ANGIOGENESIS\n",
      " [1] \"APOH\"     \"APP\"      \"CCND2\"    \"COL3A1\"   \"COL5A2\"   \"CXCL6\"   \n",
      " [7] \"FGFR1\"    \"FSTL1\"    \"ITGAV\"    \"JAG1\"     \"JAG2\"     \"KCNJ8\"   \n",
      "[13] \"LPL\"      \"LRPAP1\"   \"LUM\"      \"MSX1\"     \"NRP1\"     \"OLR1\"    \n",
      "[19] \"PDGFA\"    \"PF4\"      \"PGLYRP1\"  \"POSTN\"    \"PRG2\"     \"PTK2\"    \n",
      "[25] \"S100A4\"   \"SERPINA5\" \"SLCO2A1\"  \"SPP1\"     \"STC1\"     \"THBD\"    \n",
      "[31] \"TIMP1\"    \"TNFRSF21\" \"VAV2\"     \"VCAN\"     \"VEGFA\"    \"VTN\"     \n",
      "\n",
      "$HALLMARK_APICAL_JUNCTION\n",
      "  [1] \"ACTA1\"     \"ACTB\"      \"ACTC1\"     \"ACTG1\"     \"ACTG2\"     \"ACTN1\"    \n",
      "  [7] \"ACTN2\"     \"ACTN3\"     \"ACTN4\"     \"ACTN4\"     \"ADAM15\"    \"ADAM23\"   \n",
      " [13] \"ADAM9\"     \"ADAM9\"     \"ADAMTS5\"   \"ADRA1B\"    \"AKT2\"      \"AKT3\"     \n",
      " [19] \"AKT3\"      \"ALOX15B\"   \"AMH\"       \"AMIGO1\"    \"AMIGO2\"    \"ARHGEF6\"  \n",
      " [25] \"ARPC2\"     \"ATP1A3\"    \"B4GALT1\"   \"BAIAP2\"    \"BMP1\"      \"CADM2\"    \n",
      " [31] \"CADM3\"     \"CALB2\"     \"CALB2\"     \"CAP1\"      \"CD209\"     \"CD274\"    \n",
      " [37] \"CD276\"     \"CD34\"      \"CD86\"      \"CD99\"      \"CDH1\"      \"CDH11\"    \n",
      " [43] \"CDH15\"     \"CDH3\"      \"CDH4\"      \"CDH4\"      \"CDH6\"      \"CDH8\"     \n",
      " [49] \"CDK8\"      \"CDSN\"      \"CDSN\"      \"CDSN\"      \"CDSN\"      \"CDSN\"     \n",
      " [55] \"CDSN\"      \"CERCAM\"    \"CLDN11\"    \"CLDN14\"    \"CLDN15\"    \"CLDN18\"   \n",
      " [61] \"CLDN19\"    \"CLDN4\"     \"CLDN5\"     \"CLDN6\"     \"CLDN7\"     \"CLDN7\"    \n",
      " [67] \"CLDN8\"     \"CLDN9\"     \"CNN2\"      \"CNTN1\"     \"COL16A1\"   \"COL17A1\"  \n",
      " [73] \"COL9A1\"    \"CRAT\"      \"CRB3\"      \"CTNNA1\"    \"CTNND1\"    \"CX3CL1\"   \n",
      " [79] \"DHX16\"     \"DHX16\"     \"DHX16\"     \"DHX16\"     \"DHX16\"     \"DHX16\"    \n",
      " [85] \"DHX16\"     \"DHX16\"     \"DLG1\"      \"DMP1\"      \"DSC1\"      \"DSC3\"     \n",
      " [91] \"EGFR\"      \"EPB41L2\"   \"EVL\"       \"EXOC4\"     \"FBN1\"      \"FLNC\"     \n",
      " [97] \"FSCN1\"     \"FYB1\"      \"GAMT\"      \"GNAI1\"     \"GNAI2\"     \"GRB7\"     \n",
      "[103] \"GTF2F1\"    \"HADH\"      \"HRAS\"      \"HRAS\"      \"ICAM1\"     \"ICAM2\"    \n",
      "[109] \"ICAM4\"     \"ICAM5\"     \"IKBKG\"     \"INPPL1\"    \"INSIG1\"    \"IRS1\"     \n",
      "[115] \"ITGA10\"    \"ITGA2\"     \"ITGA3\"     \"ITGA9\"     \"ITGB1\"     \"ITGB4\"    \n",
      "[121] \"JAM3\"      \"JUP\"       \"KCNH2\"     \"KRT31\"     \"KRT31\"     \"LAMA3\"    \n",
      "[127] \"LAMB3\"     \"LAMC2\"     \"LAYN\"      \"LDLRAP1\"   \"LIMA1\"     \"MADCAM1\"  \n",
      "[133] \"MAP3K20\"   \"MAP4K2\"    \"MAPK11\"    \"MAPK13\"    \"MAPK14\"    \"MDK\"      \n",
      "[139] \"MMP2\"      \"MMP9\"      \"MPZL1\"     \"MPZL2\"     \"MSN\"       \"MVD\"      \n",
      "[145] \"MYH10\"     \"MYH9\"      \"MYL12B\"    \"MYL9\"      \"NECTIN1\"   \"NECTIN2\"  \n",
      "[151] \"NECTIN3\"   \"NECTIN4\"   \"NEGR1\"     \"NEXN\"      \"NF1\"       \"NF2\"      \n",
      "[157] \"NFASC\"     \"NLGN2\"     \"NLGN2\"     \"NLGN3\"     \"NRAP\"      \"NRTN\"     \n",
      "[163] \"NRXN2\"     \"PALS1\"     \"PARD6G\"    \"PARVA\"     \"PBX2\"      \"PBX2\"     \n",
      "[169] \"PBX2\"      \"PBX2\"      \"PBX2\"      \"PBX2\"      \"PBX2\"      \"PCDH1\"    \n",
      "[175] \"PDZD3\"     \"PECAM1\"    \"PFN1\"      \"PIK3CB\"    \"PIK3R3\"    \"PKD1\"     \n",
      "[181] \"PLCG1\"     \"PPP2R2C\"   \"PTEN\"      \"PTEN\"      \"PTK2\"      \"PTPRC\"    \n",
      "[187] \"PTPRC\"     \"RAC2\"      \"RASA1\"     \"RHOF\"      \"RRAS\"      \"RSU1\"     \n",
      "[193] \"SDC3\"      \"SGCE\"      \"SHC1\"      \"SHROOM2\"   \"SIRPA\"     \"SKAP2\"    \n",
      "[199] \"SLC30A3\"   \"SLIT2\"     \"SORBS3\"    \"SPEG\"      \"SRC\"       \"STX4\"     \n",
      "[205] \"SYK\"       \"SYMPK\"     \"TAOK2\"     \"TGFBI\"     \"THBS3\"     \"THY1\"     \n",
      "[211] \"TIAL1\"     \"TJP1\"      \"TJP1\"      \"TMEM8B\"    \"TNFRSF11B\" \"TRAF1\"    \n",
      "[217] \"TRO\"       \"TSC1\"      \"TSPAN4\"    \"TUBG1\"     \"VASP\"      \"VAV2\"     \n",
      "[223] \"VCAM1\"     \"VCAN\"      \"VCL\"       \"VWF\"       \"WASL\"      \"WNK4\"     \n",
      "[229] \"YWHAH\"     \"ZYX\"       \"ZYX\"      \n",
      "\n",
      "$HALLMARK_APICAL_SURFACE\n",
      " [1] \"ADAM10\"   \"ADIPOR2\"  \"ADIPOR2\"  \"AFAP1L2\"  \"AKAP7\"    \"APP\"     \n",
      " [7] \"ATP6V0A4\" \"ATP8B1\"   \"B4GALT1\"  \"BRCA1\"    \"CD160\"    \"CROCC\"   \n",
      "[13] \"CRYBG1\"   \"CX3CL1\"   \"DCBLD2\"   \"EFNA5\"    \"EPHB4\"    \"FLOT2\"   \n",
      "[19] \"GAS1\"     \"GATA3\"    \"GHRL\"     \"GSTM3\"    \"HSPB1\"    \"IL2RB\"   \n",
      "[25] \"IL2RG\"    \"LYN\"      \"LYPD3\"    \"MAL\"      \"MDGA1\"    \"NCOA6\"   \n",
      "[31] \"NTNG1\"    \"PCSK9\"    \"PKHD1\"    \"PLAUR\"    \"RHCG\"     \"RTN4RL1\" \n",
      "[37] \"SCUBE1\"   \"SHROOM2\"  \"SLC22A12\" \"SLC2A4\"   \"SLC2A4\"   \"SLC34A3\" \n",
      "[43] \"SRPX\"     \"SULF2\"    \"THY1\"     \"TMEM8B\"  \n",
      "\n"
     ]
    }
   ],
   "source": [
    "%%R\n",
    "\n",
    "pathwaysH = split(x = msigdbr_df$gene_symbol, f = msigdbr_df$gs_name)\n",
    "head(pathwaysH)"
   ]
  },
  {
   "cell_type": "code",
   "execution_count": 9,
   "id": "2beacad4",
   "metadata": {},
   "outputs": [],
   "source": [
    "%%R\n",
    "\n",
    "options(ports=8888)"
   ]
  },
  {
   "cell_type": "markdown",
   "id": "5a1bf955",
   "metadata": {},
   "source": [
    "# AL/CAL_MOL"
   ]
  },
  {
   "cell_type": "code",
   "execution_count": 10,
   "id": "4329972c",
   "metadata": {},
   "outputs": [
    {
     "name": "stdout",
     "output_type": "stream",
     "text": [
      "     gene  gene.1     logFC  AveExpr         t      P.Value    adj.P.Val\n",
      "1  FCHSD2  FCHSD2  1.581572 8.619551  13.88307 1.396070e-15 1.464058e-11\n",
      "2  OPALIN  OPALIN  3.605888 6.701410  12.50188 7.294486e-14 3.824864e-10\n",
      "3  KCNAB1  KCNAB1  3.377023 5.981777  10.71410 1.899705e-12 5.260495e-09\n",
      "4  INPP5F  INPP5F -2.975575 6.433039 -11.69498 2.258445e-12 5.260495e-09\n",
      "5 ST8SIA5 ST8SIA5 -3.377412 5.242225 -10.60200 2.508103e-12 5.260495e-09\n",
      "6   KCNH8   KCNH8  1.035896 9.884221  10.43234 3.830866e-12 6.695715e-09\n",
      "          B\n",
      "1 25.108251\n",
      "2 13.909813\n",
      "3 18.037926\n",
      "4  9.405133\n",
      "5 18.047799\n",
      "6 17.637203\n"
     ]
    }
   ],
   "source": [
    "%%R\n",
    "\n",
    "# Replace the file path with the actual path if the file is not in the current directory\n",
    "df <- read.csv(\"./files/MOL_GvC_WM_v_AL_dream.csv\")\n",
    "head(df)  # Display the first few rows of the data frame to confirm it's loaded correctly"
   ]
  },
  {
   "cell_type": "code",
   "execution_count": 11,
   "id": "c9955439",
   "metadata": {},
   "outputs": [],
   "source": [
    "%%R\n",
    "\n",
    "df <- df %>%\n",
    "  mutate(logFC_rev = logFC * -1)"
   ]
  },
  {
   "cell_type": "code",
   "execution_count": 12,
   "id": "116288a9",
   "metadata": {},
   "outputs": [
    {
     "name": "stdout",
     "output_type": "stream",
     "text": [
      "[1] 1012\n",
      "        gene   gene.1     logFC  AveExpr         t      P.Value    adj.P.Val\n",
      "46      GBP2     GBP2 -6.123773 2.562658 -8.010834 1.288585e-08 2.880693e-06\n",
      "161     EGR1     EGR1 -5.367430 2.613755 -6.039521 1.031502e-06 6.718855e-05\n",
      "72     ANXA2    ANXA2 -5.346736 2.113728 -7.432187 5.560261e-08 8.098675e-06\n",
      "71      EMP1     EMP1 -5.101796 1.473179 -7.168967 5.435671e-08 8.028716e-06\n",
      "104 SERPINE1 SERPINE1 -5.038207 1.175630 -6.639030 2.644556e-07 2.666679e-05\n",
      "83    LGALS3   LGALS3 -4.836364 1.383500 -7.432317 1.213868e-07 1.533715e-05\n",
      "           B logFC_rev\n",
      "46  4.909171  6.123773\n",
      "161 4.278097  5.367430\n",
      "72  1.977122  5.346736\n",
      "71  4.044970  5.101796\n",
      "104 4.811449  5.038207\n",
      "83  6.061271  4.836364\n"
     ]
    }
   ],
   "source": [
    "%%R\n",
    "# Calculate the number of genes with adj.P.Val < 0.05 and |logFC| > 1\n",
    "genes_up <- df[df$adj.P.Val < 0.05 & df$logFC_rev > 0.585, ]\n",
    "num_genes_up <- nrow(genes_up)\n",
    "\n",
    "# Print the number of significant genes\n",
    "print(num_genes_up)\n",
    "\n",
    "genes_up_sorted <- genes_up[order(genes_up$logFC_rev, decreasing = TRUE), ]\n",
    "\n",
    "# View the head of the significant genes data frame\n",
    "head(genes_up_sorted)"
   ]
  },
  {
   "cell_type": "code",
   "execution_count": 13,
   "id": "00838a98",
   "metadata": {},
   "outputs": [
    {
     "name": "stdout",
     "output_type": "stream",
     "text": [
      "[1] 610\n",
      "         gene    gene.1    logFC  AveExpr         t      P.Value    adj.P.Val\n",
      "69   TMEM132B  TMEM132B 4.204333 3.570902  6.995350 4.500053e-08 6.839429e-06\n",
      "139    ATP8A2    ATP8A2 3.931424 4.591422  6.089010 7.265067e-07 5.405702e-05\n",
      "34      PLCL2     PLCL2 3.647650 3.876999  7.801878 5.460501e-09 1.658317e-06\n",
      "2      OPALIN    OPALIN 3.605888 6.701410 12.501880 7.294486e-14 3.824864e-10\n",
      "3      KCNAB1    KCNAB1 3.377023 5.981777 10.714100 1.899705e-12 5.260495e-09\n",
      "66  LINC01299 LINC01299 2.913095 3.593926  7.201779 3.691468e-08 5.865520e-06\n",
      "            B logFC_rev\n",
      "69   7.056825 -4.204333\n",
      "139  5.861247 -3.931424\n",
      "34   6.216093 -3.647650\n",
      "2   13.909813 -3.605888\n",
      "3   18.037926 -3.377023\n",
      "66   5.428372 -2.913095\n"
     ]
    }
   ],
   "source": [
    "%%R\n",
    "# Calculate the number of genes with adj.P.Val < 0.05 and |logFC| > 1\n",
    "genes_down <- df[df$adj.P.Val < 0.05 & df$logFC_rev < -0.585, ]\n",
    "num_genes_down <- nrow(genes_down)\n",
    "\n",
    "# Print the number of significant genes\n",
    "print(num_genes_down)\n",
    "\n",
    "genes_down_sorted <- genes_down[order(genes_down$logFC_rev, decreasing = FALSE), ]\n",
    "\n",
    "# View the head of the significant genes data frame\n",
    "head(genes_down_sorted)"
   ]
  },
  {
   "cell_type": "code",
   "execution_count": 14,
   "id": "abb498b7",
   "metadata": {},
   "outputs": [
    {
     "name": "stdout",
     "output_type": "stream",
     "text": [
      "[1] 10487     9\n"
     ]
    }
   ],
   "source": [
    "%%R\n",
    "\n",
    "dim(df)"
   ]
  },
  {
   "cell_type": "code",
   "execution_count": 15,
   "id": "15c63132",
   "metadata": {},
   "outputs": [
    {
     "name": "stdout",
     "output_type": "stream",
     "text": [
      "[1] \"FCHSD2\"  \"OPALIN\"  \"KCNAB1\"  \"INPP5F\"  \"ST8SIA5\" \"KCNH8\"  \n"
     ]
    }
   ],
   "source": [
    "%%R\n",
    "\n",
    "my_genes <- df$gene\n",
    "head(my_genes)"
   ]
  },
  {
   "cell_type": "code",
   "execution_count": 16,
   "id": "967f948b",
   "metadata": {},
   "outputs": [
    {
     "name": "stdout",
     "output_type": "stream",
     "text": [
      "[1] \"gene\"      \"gene.1\"    \"logFC\"     \"AveExpr\"   \"t\"         \"P.Value\"  \n",
      "[7] \"adj.P.Val\" \"B\"         \"logFC_rev\"\n"
     ]
    }
   ],
   "source": [
    "%%R\n",
    "# Check column names in the dataframe\n",
    "colnames(df)"
   ]
  },
  {
   "cell_type": "code",
   "execution_count": 17,
   "id": "2735024c",
   "metadata": {},
   "outputs": [],
   "source": [
    "%%R\n",
    "\n",
    "# Filter the dataset for significant genes\n",
    "filtered_df <- df[abs(df$logFC_rev) >= 0.585 & df$adj.P.Val < 0.05, ]\n",
    "\n",
    "# Compute ranking score: sign(logFC) * -log10(P.Value)\n",
    "filtered_df$ranking_score <- sign(filtered_df$logFC_rev) * -log10(filtered_df$P.Value)\n",
    "\n",
    "# Assign names to the rankings\n",
    "rankings <- filtered_df$ranking_score\n",
    "names(rankings) <- filtered_df$gene\n",
    "\n",
    "# Sort the rankings in descending order\n",
    "rankings <- sort(rankings, decreasing = TRUE)"
   ]
  },
  {
   "cell_type": "code",
   "execution_count": 18,
   "id": "6678fac6",
   "metadata": {},
   "outputs": [
    {
     "name": "stdout",
     "output_type": "stream",
     "text": [
      "[1] FALSE\n"
     ]
    }
   ],
   "source": [
    "%%R\n",
    "\n",
    "# Ensure the length of the gene column matches the length of rankings\n",
    "length(df$gene) == length(rankings)"
   ]
  },
  {
   "cell_type": "code",
   "execution_count": 19,
   "id": "e9765d95",
   "metadata": {},
   "outputs": [
    {
     "data": {
      "image/png": "[encoded data removed]",
      "text/plain": [
       "<IPython.core.display.Image object>"
      ]
     },
     "metadata": {},
     "output_type": "display_data"
    }
   ],
   "source": [
    "%%R\n",
    "\n",
    "plot(rankings)"
   ]
  },
  {
   "cell_type": "code",
   "execution_count": 20,
   "id": "10df97aa",
   "metadata": {},
   "outputs": [
    {
     "name": "stdout",
     "output_type": "stream",
     "text": [
      "[1] 11.64619\n"
     ]
    }
   ],
   "source": [
    "%%R\n",
    "\n",
    "max(rankings)"
   ]
  },
  {
   "cell_type": "code",
   "execution_count": 21,
   "id": "75b1ee06",
   "metadata": {},
   "outputs": [
    {
     "name": "stdout",
     "output_type": "stream",
     "text": [
      "[1] -14.85509\n"
     ]
    }
   ],
   "source": [
    "%%R\n",
    "\n",
    "min(rankings)"
   ]
  },
  {
   "cell_type": "code",
   "execution_count": 22,
   "id": "e938901a",
   "metadata": {},
   "outputs": [
    {
     "data": {
      "image/png": "[encoded data removed]",
      "text/plain": [
       "<IPython.core.display.Image object>"
      ]
     },
     "metadata": {},
     "output_type": "display_data"
    }
   ],
   "source": [
    "%%R\n",
    "\n",
    "ggplot(data.frame(gene_symbol = names(rankings)[1:50], ranks = rankings[1:50]), aes(gene_symbol, ranks)) + \n",
    "    geom_point() +\n",
    "    theme_classic() + \n",
    "    theme(axis.text.x = element_text(angle = 90, vjust = 0.5, hjust=1))"
   ]
  },
  {
   "cell_type": "markdown",
   "id": "8eba4e68",
   "metadata": {},
   "source": [
    "# Figure out how to set up gene lists"
   ]
  },
  {
   "cell_type": "code",
   "execution_count": 23,
   "id": "7f91e2d0",
   "metadata": {
    "scrolled": true
   },
   "outputs": [],
   "source": [
    "%%R\n",
    "fgsea_res <- fgsea(pathways = pathwaysH, \n",
    "                  stats    = rankings,\n",
    "                  scoreType = 'std',\n",
    "                  minSize  = 15,\n",
    "                  maxSize  = 500)"
   ]
  },
  {
   "cell_type": "code",
   "execution_count": 24,
   "id": "d32a9dc1",
   "metadata": {},
   "outputs": [
    {
     "name": "stdout",
     "output_type": "stream",
     "text": [
      "                                       pathway         pval        padj\n",
      "                                        <char>        <num>       <num>\n",
      " 1:                      HALLMARK_ADIPOGENESIS 1.528998e-01 0.282276599\n",
      " 2:               HALLMARK_ALLOGRAFT_REJECTION 2.854610e-01 0.489361702\n",
      " 3:                   HALLMARK_APICAL_JUNCTION 5.623902e-01 0.700336700\n",
      " 4:                         HALLMARK_APOPTOSIS 4.661112e-03 0.022373336\n",
      " 5:                        HALLMARK_COMPLEMENT 2.133940e-04 0.002560728\n",
      " 6:                       HALLMARK_E2F_TARGETS 8.274648e-01 0.834549878\n",
      " 7: HALLMARK_EPITHELIAL_MESENCHYMAL_TRANSITION 3.261264e-04 0.002609011\n",
      " 8:           HALLMARK_ESTROGEN_RESPONSE_EARLY 6.127946e-01 0.700336700\n",
      " 9:            HALLMARK_ESTROGEN_RESPONSE_LATE 8.345499e-01 0.834549878\n",
      "10:                    HALLMARK_G2M_CHECKPOINT 5.845070e-01 0.700336700\n",
      "11:                   HALLMARK_HEME_METABOLISM 4.753521e-01 0.671085336\n",
      "12:                           HALLMARK_HYPOXIA 4.919956e-02 0.118078954\n",
      "13:               HALLMARK_IL2_STAT5_SIGNALING 1.876658e-02 0.056299729\n",
      "14:             HALLMARK_INFLAMMATORY_RESPONSE 3.719097e-02 0.099175931\n",
      "15:         HALLMARK_INTERFERON_ALPHA_RESPONSE 8.343393e-05 0.002002414\n",
      "16:         HALLMARK_INTERFERON_GAMMA_RESPONSE 6.339059e-03 0.025356235\n",
      "17:                 HALLMARK_KRAS_SIGNALING_UP 4.238179e-01 0.635726795\n",
      "18:                   HALLMARK_MITOTIC_SPINDLE 3.655536e-01 0.584885764\n",
      "19:                        HALLMARK_MYOGENESIS 8.056042e-02 0.175768190\n",
      "20:                       HALLMARK_P53_PATHWAY 7.147708e-01 0.779749961\n",
      "21:           HALLMARK_TNFA_SIGNALING_VIA_NFKB 3.716029e-03 0.022296172\n",
      "22:                    HALLMARK_UV_RESPONSE_DN 1.493849e-01 0.282276599\n",
      "23:                    HALLMARK_UV_RESPONSE_UP 5.360281e-01 0.700336700\n",
      "24:             HALLMARK_XENOBIOTIC_METABOLISM 1.590737e-02 0.054539554\n",
      "                                       pathway         pval        padj\n",
      "       log2err         ES        NES  size\n",
      "         <num>      <num>      <num> <int>\n",
      " 1: 0.14826150  0.3213458  1.2951833    19\n",
      " 2: 0.10434395  0.3194272  1.1801247    15\n",
      " 3: 0.06658921  0.2309633  0.9308966    19\n",
      " 4: 0.40701792  0.4546549  1.8971567    21\n",
      " 5: 0.51884808  0.5544624  2.2347588    19\n",
      " 6: 0.04850598  0.1898599  0.7209300    16\n",
      " 7: 0.49849311  0.4927120  2.2232248    25\n",
      " 8: 0.06037864  0.1996642  0.8837767    24\n",
      " 9: 0.06321912 -0.1443901 -0.6772806    23\n",
      "10: 0.06479434  0.2394433  0.9092066    16\n",
      "11: 0.07511816  0.2603239  0.9884937    16\n",
      "12: 0.32177592  0.3276013  1.6194562    32\n",
      "13: 0.35248786  0.4206159  1.7183099    20\n",
      "14: 0.32177592  0.3950829  1.6140018    20\n",
      "15: 0.53843410  0.5883490  2.2803417    17\n",
      "16: 0.40701792  0.3917489  1.9000711    31\n",
      "17: 0.08085892  0.2626546  1.0443302    18\n",
      "18: 0.08916471  0.2828238  1.0961773    17\n",
      "19: 0.20895503  0.3647159  1.4501318    18\n",
      "20: 0.05356694  0.1851266  0.7948430    22\n",
      "21: 0.43170770  0.3758688  1.9256319    36\n",
      "22: 0.15016980  0.3234160  1.3035272    19\n",
      "23: 0.06895674  0.2448598  0.9490354    17\n",
      "24: 0.35248786  0.4242840  1.7100753    19\n",
      "       log2err         ES        NES  size\n",
      "                                       leadingEdge\n",
      "                                            <list>\n",
      " 1:           DGAT1,ATP1B3,POR,CAVIN1,LPL,APOE,...\n",
      " 2:           GBP2,TIMP1,HLA-E,CSF1,IRF7,TAPBP,...\n",
      " 3:           VASP,ITGA10,ACTN2,MSN,BMP1,ACTN4,...\n",
      " 4:          EMP1,LGALS3,ISG20,IRF1,CD44,TIMP1,...\n",
      " 5:       DGKH,LGALS3,SERPINE1,IRF1,MAFF,ERAP2,...\n",
      " 6:             HMGA1,MCM5,CKS2,ATAD2,RFC2,CIT,...\n",
      " 7:  SERPINE1,LGALS1,COLGALT1,CD44,ITGB5,TIMP1,...\n",
      " 8:      INPP5F,NAV2,CD44,IGF1R,TMEM164,IL17RB,...\n",
      " 9:                      CDH1,SLC16A1,SEMA3B,PDCD4\n",
      "10:         HMGA1,MCM5,FANCC,CKS2,CHMP1A,PRMT5,...\n",
      "11:         MAP2K3,TRAK2,MFHAS1,FBXO34,TMCC2,LPIN2\n",
      "12:      ANXA2,ISG20,SERPINE1,KLF6,SLC6A6,MAFF,...\n",
      "13:           EMP1,KLF6,SCN9A,MAFF,CD44,ADAM19,...\n",
      "14:       SERPINE1,KLF6,IRF1,CCL24,TIMP1,ITGA5,...\n",
      "15:         GBP2,ISG20,PARP14,IRF1,RSAD2,PARP9,...\n",
      "16:        ISG20,NLRC5,HLA-B,PARP14,IRF1,RSAD2,...\n",
      "17:        EMP1,ETV5,SPRY2,PRRX1,PPP1R15A,PLAT,...\n",
      "18:      NCK2,ARHGDIA,MID1,SHROOM1,ACTN4,KIF3C,...\n",
      "19:         NAV2,ITGB5,TEAD4,SGCD,LARGE1,ACTN2,...\n",
      "20:       PPP1R15A,DRAM1,RXRA,VWA5A,CDKN1A,FOS,...\n",
      "21:        SERPINE1,KLF6,MAP2K3,EGR1,IRF1,MAFF,...\n",
      "22:     ANXA2,SERPINE1,PTPRM,IGF1R,LAMC1,ZMIZ1,...\n",
      "23:             DGAT1,IRF1,HLA-F,NPTX2,SPR,FOS,...\n",
      "24: PROS1,SERPINE1,TNFRSF1A,POR,SLC6A6,SERTAD1,...\n",
      "                                       leadingEdge\n"
     ]
    }
   ],
   "source": [
    "%%R\n",
    "fgsea_res"
   ]
  },
  {
   "cell_type": "code",
   "execution_count": 25,
   "id": "64e6be75",
   "metadata": {},
   "outputs": [
    {
     "name": "stdout",
     "output_type": "stream",
     "text": [
      "[1] 24  8\n"
     ]
    }
   ],
   "source": [
    "%%R\n",
    "\n",
    "dim(fgsea_res)"
   ]
  },
  {
   "cell_type": "code",
   "execution_count": 26,
   "id": "3d723170",
   "metadata": {},
   "outputs": [
    {
     "data": {
      "text/plain": [
       "data.table 1.16.4 using 8 threads (see ?getDTthreads).  Latest news: r-datatable.com\n",
       "\n",
       "Attaching package: ‘data.table’\n",
       "\n",
       "The following objects are masked from ‘package:lubridate’:\n",
       "\n",
       "    hour, isoweek, mday, minute, month, quarter, second, wday, week,\n",
       "    yday, year\n",
       "\n",
       "The following objects are masked from ‘package:dplyr’:\n",
       "\n",
       "    between, first, last\n",
       "\n",
       "The following object is masked from ‘package:purrr’:\n",
       "\n",
       "    transpose\n",
       "\n"
      ]
     },
     "metadata": {},
     "output_type": "display_data"
    }
   ],
   "source": [
    "%%R\n",
    "library(data.table)\n",
    "\n",
    "fwrite(fgsea_res, file = \"./files/fgsea_ALvWM_GvC_all.csv\")"
   ]
  },
  {
   "cell_type": "code",
   "execution_count": 27,
   "id": "43c65f67",
   "metadata": {},
   "outputs": [
    {
     "name": "stdout",
     "output_type": "stream",
     "text": [
      "[1] 9 8\n"
     ]
    }
   ],
   "source": [
    "%%R\n",
    "\n",
    "# Filter for significant results with padj < 0.05\n",
    "fgsea_MOL2_significant <- fgsea_res %>% filter(padj < 0.1)\n",
    "dim(fgsea_MOL2_significant)"
   ]
  },
  {
   "cell_type": "code",
   "execution_count": 28,
   "id": "6a44c88c",
   "metadata": {},
   "outputs": [
    {
     "name": "stdout",
     "output_type": "stream",
     "text": [
      "                                      pathway         pval        padj\n",
      "                                       <char>        <num>       <num>\n",
      "1:                         HALLMARK_APOPTOSIS 4.661112e-03 0.022373336\n",
      "2:                        HALLMARK_COMPLEMENT 2.133940e-04 0.002560728\n",
      "3: HALLMARK_EPITHELIAL_MESENCHYMAL_TRANSITION 3.261264e-04 0.002609011\n",
      "4:               HALLMARK_IL2_STAT5_SIGNALING 1.876658e-02 0.056299729\n",
      "5:             HALLMARK_INFLAMMATORY_RESPONSE 3.719097e-02 0.099175931\n",
      "6:         HALLMARK_INTERFERON_ALPHA_RESPONSE 8.343393e-05 0.002002414\n",
      "     log2err        ES      NES  size\n",
      "       <num>     <num>    <num> <int>\n",
      "1: 0.4070179 0.4546549 1.897157    21\n",
      "2: 0.5188481 0.5544624 2.234759    19\n",
      "3: 0.4984931 0.4927120 2.223225    25\n",
      "4: 0.3524879 0.4206159 1.718310    20\n",
      "5: 0.3217759 0.3950829 1.614002    20\n",
      "6: 0.5384341 0.5883490 2.280342    17\n",
      "                                     leadingEdge\n",
      "                                          <list>\n",
      "1:         EMP1,LGALS3,ISG20,IRF1,CD44,TIMP1,...\n",
      "2:      DGKH,LGALS3,SERPINE1,IRF1,MAFF,ERAP2,...\n",
      "3: SERPINE1,LGALS1,COLGALT1,CD44,ITGB5,TIMP1,...\n",
      "4:          EMP1,KLF6,SCN9A,MAFF,CD44,ADAM19,...\n",
      "5:      SERPINE1,KLF6,IRF1,CCL24,TIMP1,ITGA5,...\n",
      "6:        GBP2,ISG20,PARP14,IRF1,RSAD2,PARP9,...\n"
     ]
    }
   ],
   "source": [
    "%%R\n",
    "\n",
    "head(fgsea_MOL2_significant)"
   ]
  },
  {
   "cell_type": "code",
   "execution_count": 29,
   "id": "383fcc58",
   "metadata": {},
   "outputs": [
    {
     "data": {
      "image/png": "[encoded data removed]",
      "text/plain": [
       "<IPython.core.display.Image object>"
      ]
     },
     "metadata": {},
     "output_type": "display_data"
    }
   ],
   "source": [
    "%%R\n",
    "\n",
    "plotGseaTable(pathwaysH[fgsea_MOL2_significant$pathway], \n",
    "              rankings, \n",
    "              fgsea_MOL2_significant, \n",
    "              gseaParam = 0.5)"
   ]
  },
  {
   "cell_type": "code",
   "execution_count": 30,
   "id": "ff97bb56",
   "metadata": {},
   "outputs": [
    {
     "data": {
      "image/png": "[encoded data removed]",
      "text/plain": [
       "<IPython.core.display.Image object>"
      ]
     },
     "metadata": {},
     "output_type": "display_data"
    }
   ],
   "source": [
    "%%R\n",
    "\n",
    "topUp <- fgsea_res %>% \n",
    "    filter(ES > 0) %>% \n",
    "    top_n(10, wt=-padj)\n",
    "topDown <- fgsea_res %>% \n",
    "    filter(ES < 0) %>% \n",
    "    top_n(10, wt=-padj)\n",
    "topPathways <- bind_rows(topUp, topDown) %>% \n",
    "    arrange(-ES)\n",
    "plotGseaTable(pathwaysH[topPathways$pathway], \n",
    "              rankings, \n",
    "              fgsea_res, \n",
    "              gseaParam = 0.5)"
   ]
  },
  {
   "cell_type": "code",
   "execution_count": 31,
   "id": "dbf8df7b",
   "metadata": {},
   "outputs": [],
   "source": [
    "%%R\n",
    "\n",
    "collapsedPathways <- collapsePathways(fgsea_MOL2_significant[order(pval)][padj < 0.1], \n",
    "                                      pathwaysH, rankings)"
   ]
  },
  {
   "cell_type": "code",
   "execution_count": 32,
   "id": "82308e35",
   "metadata": {},
   "outputs": [
    {
     "data": {
      "image/png": "[encoded data removed]",
      "text/plain": [
       "<IPython.core.display.Image object>"
      ]
     },
     "metadata": {},
     "output_type": "display_data"
    }
   ],
   "source": [
    "%%R\n",
    "\n",
    "mainPathways <- fgsea_MOL2_significant[pathway %in% collapsedPathways$mainPathways][\n",
    "                         order(-NES), pathway]\n",
    "plotGseaTable(pathwaysH[mainPathways], rankings, fgsea_MOL2_significant, \n",
    "              gseaParam = 0.5)"
   ]
  },
  {
   "cell_type": "code",
   "execution_count": 33,
   "id": "5a923142",
   "metadata": {},
   "outputs": [],
   "source": [
    "%%R\n",
    "\n",
    "fgseaResTidy <- fgsea_res %>%\n",
    "  as_tibble() %>%\n",
    "  arrange(desc(NES))"
   ]
  },
  {
   "cell_type": "code",
   "execution_count": 34,
   "id": "41d8300d",
   "metadata": {},
   "outputs": [
    {
     "data": {
      "image/png": "[encoded data removed]",
      "text/plain": [
       "<IPython.core.display.Image object>"
      ]
     },
     "metadata": {},
     "output_type": "display_data"
    }
   ],
   "source": [
    "%%R\n",
    "\n",
    "ggplot(fgseaResTidy, aes(reorder(pathway, NES), NES)) +\n",
    "  geom_col(aes(fill=padj<0.1)) +\n",
    "  coord_flip() +\n",
    "  labs(x=\"Pathway\", y=\"Normalized Enrichment Score\",\n",
    "       title=\"Hallmark pathways NES from GSEA\") + \n",
    "  theme_minimal()\n",
    "\n",
    "\n",
    "#https://stephenturner.github.io/deseq-to-fgsea/#using_the_fgsea_package"
   ]
  },
  {
   "cell_type": "code",
   "execution_count": 35,
   "id": "c5430879",
   "metadata": {},
   "outputs": [
    {
     "name": "stdout",
     "output_type": "stream",
     "text": [
      "# A tibble: 6 × 4\n",
      "  pathway                                       padj   NES  size\n",
      "  <chr>                                        <dbl> <dbl> <int>\n",
      "1 HALLMARK_INTERFERON_ALPHA_RESPONSE         0.00200  2.28    17\n",
      "2 HALLMARK_COMPLEMENT                        0.00256  2.23    19\n",
      "3 HALLMARK_EPITHELIAL_MESENCHYMAL_TRANSITION 0.00261  2.22    25\n",
      "4 HALLMARK_TNFA_SIGNALING_VIA_NFKB           0.0223   1.93    36\n",
      "5 HALLMARK_APOPTOSIS                         0.0224   1.90    21\n",
      "6 HALLMARK_INTERFERON_GAMMA_RESPONSE         0.0254   1.90    31\n"
     ]
    }
   ],
   "source": [
    "%%R\n",
    "\n",
    "# Subset significant results\n",
    "fgseaResSignificant <- fgseaResTidy[fgseaResTidy$padj < 0.1, ]\n",
    "\n",
    "# Select columns to display and sort by padj\n",
    "fgseaResSignificant <- fgseaResSignificant[, c(\"pathway\", \"padj\", \"NES\", \"size\")]\n",
    "fgseaResSignificant <- fgseaResSignificant[order(fgseaResSignificant$padj), ]\n",
    "\n",
    "# Print the table\n",
    "head(fgseaResSignificant)"
   ]
  },
  {
   "cell_type": "code",
   "execution_count": 36,
   "id": "b3bdcd43",
   "metadata": {},
   "outputs": [
    {
     "data": {
      "image/png": "[encoded data removed]",
      "text/plain": [
       "<IPython.core.display.Image object>"
      ]
     },
     "metadata": {},
     "output_type": "display_data"
    }
   ],
   "source": [
    "%%R\n",
    "\n",
    "# Create the ggplot with a color scale for padj\n",
    "ggplot(fgseaResSignificant, aes(reorder(pathway, NES), NES)) +\n",
    "  geom_col(aes(fill = padj)) +\n",
    "  coord_flip() +\n",
    "  scale_fill_gradient(low = \"#0000FF\", high = \"#de5d83\", na.value = \"black\", name = \"Adjusted P-value\") +\n",
    "  labs(x = \"Pathway\", y = \"Normalized Enrichment Score\",\n",
    "       title = \"Hallmark pathways NES from GSEA\") +\n",
    "  theme_minimal() +\n",
    "  theme(\n",
    "    axis.text.y = element_text(size = 10),\n",
    "    axis.title = element_text(size = 12),\n",
    "    plot.title = element_text(size = 14, face = \"bold\")\n",
    "  )"
   ]
  },
  {
   "cell_type": "code",
   "execution_count": 37,
   "id": "f7c27634",
   "metadata": {},
   "outputs": [
    {
     "data": {
      "image/png": "[encoded data removed]",
      "text/plain": [
       "<IPython.core.display.Image object>"
      ]
     },
     "metadata": {},
     "output_type": "display_data"
    }
   ],
   "source": [
    "%%R\n",
    "\n",
    "# Calculate hits percentage (if 'numDEInCat' and 'numInCat' equivalent are 'NES' and 'size')\n",
    "fgseaResSignificant <- fgseaResSignificant %>%\n",
    "  mutate(hitsPerc = NES * 100 / size)\n",
    "\n",
    "# Ensure the columns 'padj' and 'NES' are present for the plot\n",
    "fgseaResSignificant <- fgseaResSignificant %>%\n",
    "  rename(term = pathway, over_represented_pvalue = padj, numDEInCat = NES)\n",
    "\n",
    "# Create the plot\n",
    "ggplot(fgseaResSignificant, aes(x = hitsPerc, y = term, colour = over_represented_pvalue, size = numDEInCat)) +\n",
    "  geom_point() +\n",
    "  expand_limits(x = 0) +\n",
    "  labs(x = \"Hits (%)\", y = \"GO term\", colour = \"p value\", size = \"Count\") +\n",
    "  theme_minimal()\n",
    "\n",
    "#https://bioinformatics-core-shared-training.github.io/cruk-summer-school-2018/RNASeq2018/html/06_Gene_set_testing.nb.html"
   ]
  },
  {
   "cell_type": "code",
   "execution_count": 38,
   "id": "2c42cca2",
   "metadata": {},
   "outputs": [
    {
     "name": "stdout",
     "output_type": "stream",
     "text": [
      "# A tibble: 6 × 4\n",
      "  pathway                                       padj   NES  size\n",
      "  <chr>                                        <dbl> <dbl> <int>\n",
      "1 HALLMARK_INTERFERON_ALPHA_RESPONSE         0.00200  2.28    17\n",
      "2 HALLMARK_COMPLEMENT                        0.00256  2.23    19\n",
      "3 HALLMARK_EPITHELIAL_MESENCHYMAL_TRANSITION 0.00261  2.22    25\n",
      "4 HALLMARK_TNFA_SIGNALING_VIA_NFKB           0.0223   1.93    36\n",
      "5 HALLMARK_APOPTOSIS                         0.0224   1.90    21\n",
      "6 HALLMARK_INTERFERON_GAMMA_RESPONSE         0.0254   1.90    31\n"
     ]
    }
   ],
   "source": [
    "%%R\n",
    "\n",
    "# Subset significant results\n",
    "fgseaResSignificant <- fgseaResTidy[fgseaResTidy$padj < 0.1, ]\n",
    "\n",
    "# Select columns to display and sort by padj\n",
    "fgseaResSignificant <- fgseaResSignificant[, c(\"pathway\", \"padj\", \"NES\", \"size\")]\n",
    "fgseaResSignificant <- fgseaResSignificant[order(fgseaResSignificant$padj), ]\n",
    "\n",
    "# Print the table\n",
    "head(fgseaResSignificant)"
   ]
  },
  {
   "cell_type": "code",
   "execution_count": 39,
   "id": "5759d635",
   "metadata": {},
   "outputs": [
    {
     "data": {
      "image/png": "[encoded data removed]",
      "text/plain": [
       "<IPython.core.display.Image object>"
      ]
     },
     "metadata": {},
     "output_type": "display_data"
    }
   ],
   "source": [
    "%%R\n",
    "\n",
    "# Filter fgseaResSignificant to include only the main pathways from collapsedPathways\n",
    "filtered_fgseaResSignificant <- fgseaResSignificant %>%\n",
    "  filter(pathway %in% collapsedPathways$mainPathways)\n",
    "\n",
    "# Create the ggplot with a color scale for padj\n",
    "ggplot(filtered_fgseaResSignificant, aes(reorder(pathway, NES), NES)) +\n",
    "  geom_col(aes(fill = padj)) +\n",
    "  coord_flip() +\n",
    "  scale_fill_gradient(low = \"#0000FF\", high = \"#de5d83\", na.value = \"black\", name = \"Adjusted P-value\") +\n",
    "  labs(x = \"Pathway\", y = \"Normalized Enrichment Score\",\n",
    "       title = \"Hallmark pathways NES from GSEA\") +\n",
    "  theme_minimal() +\n",
    "  theme(\n",
    "    axis.text.y = element_text(size = 10),\n",
    "    axis.title = element_text(size = 12),\n",
    "    plot.title = element_text(size = 14, face = \"bold\")\n",
    "  )"
   ]
  },
  {
   "cell_type": "code",
   "execution_count": 40,
   "id": "c2118317",
   "metadata": {},
   "outputs": [
    {
     "name": "stdout",
     "output_type": "stream",
     "text": [
      "# A tibble: 6 × 4\n",
      "  pathway                              padj   NES  size\n",
      "  <chr>                               <dbl> <dbl> <int>\n",
      "1 INTERFERON_ALPHA_RESPONSE         0.00200  2.28    17\n",
      "2 COMPLEMENT                        0.00256  2.23    19\n",
      "3 EPITHELIAL_MESENCHYMAL_TRANSITION 0.00261  2.22    25\n",
      "4 TNFA_SIGNALING_VIA_NFKB           0.0223   1.93    36\n",
      "5 XENOBIOTIC_METABOLISM             0.0545   1.71    19\n",
      "6 IL2_STAT5_SIGNALING               0.0563   1.72    20\n"
     ]
    }
   ],
   "source": [
    "%%R\n",
    "\n",
    "# Remove \"HALLMARK_\" prefix from the 'pathway' column\n",
    "filtered_fgseaResSignificant$pathway <- gsub(\"^HALLMARK_\", \"\", filtered_fgseaResSignificant$pathway)\n",
    "\n",
    "# View the updated heatmap_df\n",
    "head(filtered_fgseaResSignificant)"
   ]
  },
  {
   "cell_type": "code",
   "execution_count": 41,
   "id": "42a0cedd",
   "metadata": {},
   "outputs": [
    {
     "data": {
      "image/png": "[encoded data removed]",
      "text/plain": [
       "<IPython.core.display.Image object>"
      ]
     },
     "metadata": {},
     "output_type": "display_data"
    }
   ],
   "source": [
    "%%R\n",
    "\n",
    "# Create the ggplot\n",
    "plot <- ggplot(filtered_fgseaResSignificant, aes(reorder(pathway, NES), NES)) +\n",
    "  geom_col(aes(fill = padj)) +\n",
    "  coord_flip() +\n",
    "  scale_fill_gradient(low = \"#0000FF\", high = \"#de5d83\", na.value = \"black\", name = \"Adjusted P-value\") +\n",
    "  labs(x = \"Pathway\", y = \"Normalized Enrichment Score\",\n",
    "       title = \"Hallmark pathways NES from GSEA\") +\n",
    "  theme_minimal() +\n",
    "  theme(\n",
    "    axis.text.y = element_text(size = 10),\n",
    "    axis.title = element_text(size = 12),\n",
    "    plot.title = element_text(size = 14, face = \"bold\")\n",
    "  )\n",
    "\n",
    "# Save the plot as a high-resolution PNG file\n",
    "ggsave(\"./figures/GSEA/MOL_AL_hallmark_pathways_NES_GSEA.png\", plot = plot, dpi = 300, width = 10, height = 8)\n",
    "\n",
    "print(plot)"
   ]
  },
  {
   "cell_type": "code",
   "execution_count": 42,
   "id": "e2822e61",
   "metadata": {},
   "outputs": [
    {
     "data": {
      "image/png": "[encoded data removed]",
      "text/plain": [
       "<IPython.core.display.Image object>"
      ]
     },
     "metadata": {},
     "output_type": "display_data"
    }
   ],
   "source": [
    "%%R\n",
    "\n",
    "# Create the ggplot\n",
    "plot <- ggplot(filtered_fgseaResSignificant, aes(reorder(pathway, NES), NES)) +\n",
    "  geom_col(aes(fill = padj)) +\n",
    "  coord_flip() +\n",
    "  scale_fill_gradient(low = \"#0000FF\", high = \"#de5d83\", na.value = \"black\", name = \"Adjusted P-value\") +\n",
    "  labs(x = \"\", y = \"\",\n",
    "       title = \"\") +\n",
    "  theme_minimal() +\n",
    "  theme(\n",
    "    axis.text.y = element_text(size = 16),\n",
    "    axis.title = element_text(size = 16),\n",
    "    plot.title = element_text(size = 16, face = \"bold\")\n",
    "  )\n",
    "\n",
    "# Save the plot as a high-resolution PNG file\n",
    "ggsave(\"./figures/GSEA/MOL_AL_hallmark_pathways_NES_GSEA2.png\", plot = plot, dpi = 300, width = 10, height = 8)\n",
    "\n",
    "print(plot)"
   ]
  },
  {
   "cell_type": "code",
   "execution_count": 43,
   "id": "efa7faf0",
   "metadata": {},
   "outputs": [
    {
     "name": "stdout",
     "output_type": "stream",
     "text": [
      "[1] \"data.table\" \"data.frame\"\n"
     ]
    }
   ],
   "source": [
    "%%R\n",
    "\n",
    "class(fgsea_MOL2_significant)"
   ]
  },
  {
   "cell_type": "code",
   "execution_count": 44,
   "id": "91ec926b",
   "metadata": {},
   "outputs": [],
   "source": [
    "%%R\n",
    "\n",
    "fgsea_MOL2_significant <- as.data.frame(fgsea_MOL2_significant)"
   ]
  },
  {
   "cell_type": "code",
   "execution_count": 45,
   "id": "2ce67821",
   "metadata": {},
   "outputs": [],
   "source": [
    "%%R\n",
    "library(data.table)\n",
    "fwrite(fgsea_MOL2_significant, file = \"./files/filtered_fgseaResSignificant_AL_MOL_GvC.csv\")"
   ]
  },
  {
   "cell_type": "code",
   "execution_count": 46,
   "id": "b5503ce4",
   "metadata": {},
   "outputs": [
    {
     "name": "stdout",
     "output_type": "stream",
     "text": [
      "[1] \"HALLMARK_APOPTOSIS\"                        \n",
      "[2] \"HALLMARK_COMPLEMENT\"                       \n",
      "[3] \"HALLMARK_EPITHELIAL_MESENCHYMAL_TRANSITION\"\n",
      "[4] \"HALLMARK_IL2_STAT5_SIGNALING\"              \n",
      "[5] \"HALLMARK_INFLAMMATORY_RESPONSE\"            \n",
      "[6] \"HALLMARK_INTERFERON_ALPHA_RESPONSE\"        \n",
      "[7] \"HALLMARK_INTERFERON_GAMMA_RESPONSE\"        \n",
      "[8] \"HALLMARK_TNFA_SIGNALING_VIA_NFKB\"          \n",
      "[9] \"HALLMARK_XENOBIOTIC_METABOLISM\"            \n"
     ]
    }
   ],
   "source": [
    "%%R\n",
    "unique(fgsea_MOL2_significant$pathway)"
   ]
  },
  {
   "cell_type": "code",
   "execution_count": 47,
   "id": "af2845f5",
   "metadata": {},
   "outputs": [
    {
     "name": "stdout",
     "output_type": "stream",
     "text": [
      "NULL\n"
     ]
    }
   ],
   "source": [
    "%%R\n",
    "\n",
    "# Define the pathway of interest\n",
    "pathway_of_interest <- \"HALLMARK_IL6_JAK_STAT3_SIGNALING\"\n",
    "\n",
    "# Subset the data to get the row with the specified pathway\n",
    "selected_row <- fgsea_MOL2_significant[fgsea_MOL2_significant$pathway == pathway_of_interest, ]\n",
    "\n",
    "# Extract the leadingEdge column as a list of gene symbols\n",
    "leading_edge_genes <- unlist(selected_row$leadingEdge)\n",
    "\n",
    "# Print the list of genes\n",
    "print(leading_edge_genes)"
   ]
  },
  {
   "cell_type": "code",
   "execution_count": 48,
   "id": "500678da",
   "metadata": {},
   "outputs": [
    {
     "name": "stdout",
     "output_type": "stream",
     "text": [
      "[1] gene      gene.1    logFC     AveExpr   t         P.Value   adj.P.Val\n",
      "[8] B         logFC_rev\n",
      "<0 rows> (or 0-length row.names)\n",
      "Number of matching genes found in genes_down_sorted: 0 \n"
     ]
    }
   ],
   "source": [
    "%%R\n",
    "# Filter genes_down_sorted for genes in leading_edge_genes\n",
    "matching_genes <- genes_up_sorted[genes_up_sorted$gene %in% leading_edge_genes, ]\n",
    "\n",
    "# Print the filtered data frame\n",
    "print(matching_genes)\n",
    "\n",
    "# Optionally, count the number of matching genes\n",
    "num_matching_genes <- nrow(matching_genes)\n",
    "cat(\"Number of matching genes found in genes_down_sorted:\", num_matching_genes, \"\\n\")"
   ]
  },
  {
   "cell_type": "code",
   "execution_count": 49,
   "id": "ae426f6d",
   "metadata": {},
   "outputs": [
    {
     "name": "stdout",
     "output_type": "stream",
     "text": [
      " [1] \"GBP2\"   \"ISG20\"  \"PARP14\" \"IRF1\"   \"RSAD2\"  \"PARP9\"  \"CSF1\"   \"SP110\" \n",
      " [9] \"UBE2L6\" \"PARP12\" \"IRF7\"   \"TENT5A\" \"PSMB9\" \n"
     ]
    }
   ],
   "source": [
    "%%R\n",
    "\n",
    "# Define the pathway of interest\n",
    "pathway_of_interest <- \"HALLMARK_INTERFERON_ALPHA_RESPONSE\"\n",
    "\n",
    "# Subset the data to get the row with the specified pathway\n",
    "selected_row <- fgsea_MOL2_significant[fgsea_MOL2_significant$pathway == pathway_of_interest, ]\n",
    "\n",
    "# Extract the leadingEdge column as a list of gene symbols\n",
    "leading_edge_genes <- unlist(selected_row$leadingEdge)\n",
    "\n",
    "# Print the list of genes\n",
    "print(leading_edge_genes)"
   ]
  },
  {
   "cell_type": "code",
   "execution_count": 50,
   "id": "f4443a55",
   "metadata": {},
   "outputs": [
    {
     "name": "stdout",
     "output_type": "stream",
     "text": [
      "      gene gene.1      logFC   AveExpr         t      P.Value    adj.P.Val\n",
      "46    GBP2   GBP2 -6.1237731 2.5626584 -8.010834 1.288585e-08 2.880693e-06\n",
      "149 PARP14 PARP14 -3.8068994 1.9331008 -6.257406 8.030583e-07 5.652129e-05\n",
      "302  RSAD2  RSAD2 -3.4134772 0.5939815 -5.377317 1.095682e-05 3.795050e-04\n",
      "570   IRF7   IRF7 -2.2082389 2.1052584 -4.607510 9.653937e-05 1.776155e-03\n",
      "174   IRF1   IRF1 -1.9429213 2.7376744 -6.258329 1.387004e-06 8.319560e-05\n",
      "311  PARP9  PARP9 -1.9259443 4.3895229 -5.369550 1.270342e-05 4.278071e-04\n",
      "90   ISG20  ISG20 -1.8388068 4.6233640 -6.859319 1.764002e-07 2.055454e-05\n",
      "703 TENT5A TENT5A -1.8279889 2.5105731 -4.471162 2.106878e-04 3.142935e-03\n",
      "495 PARP12 PARP12 -1.4516637 3.6630526 -5.026576 5.730826e-05 1.214125e-03\n",
      "429   CSF1   CSF1 -1.3520510 4.8222533 -4.920461 3.846969e-05 9.391518e-04\n",
      "490 UBE2L6 UBE2L6 -1.3080227 2.1602267 -4.599569 5.625754e-05 1.203802e-03\n",
      "780  PSMB9  PSMB9 -1.1397647 3.8271273 -4.210144 3.029515e-04 4.070090e-03\n",
      "464  SP110  SP110 -0.8299207 5.1897467 -4.656579 4.752791e-05 1.074192e-03\n",
      "              B logFC_rev\n",
      "46   4.90917072 6.1237731\n",
      "149  1.47404855 3.8068994\n",
      "302  2.75866976 3.4134772\n",
      "570  0.99783676 2.2082389\n",
      "174  4.35289402 1.9429213\n",
      "311  2.36677652 1.9259443\n",
      "90   4.15142740 1.8388068\n",
      "703  0.78518505 1.8279889\n",
      "495  2.58472850 1.4516637\n",
      "429  0.32411674 1.3520510\n",
      "490  1.58748690 1.3080227\n",
      "780 -0.04305933 1.1397647\n",
      "464  1.74485085 0.8299207\n",
      "Number of matching genes found in genes_down_sorted: 13 \n"
     ]
    }
   ],
   "source": [
    "%%R\n",
    "# Filter genes_down_sorted for genes in leading_edge_genes\n",
    "matching_genes <- genes_up_sorted[genes_up_sorted$gene %in% leading_edge_genes, ]\n",
    "\n",
    "# Print the filtered data frame\n",
    "print(matching_genes)\n",
    "\n",
    "# Optionally, count the number of matching genes\n",
    "num_matching_genes <- nrow(matching_genes)\n",
    "cat(\"Number of matching genes found in genes_down_sorted:\", num_matching_genes, \"\\n\")"
   ]
  },
  {
   "cell_type": "code",
   "execution_count": 51,
   "id": "573c3f8b",
   "metadata": {},
   "outputs": [
    {
     "name": "stdout",
     "output_type": "stream",
     "text": [
      " [1] \"ISG20\"  \"NLRC5\"  \"HLA-B\"  \"PARP14\" \"IRF1\"   \"RSAD2\"  \"CASP7\"  \"SP110\" \n",
      " [9] \"UBE2L6\" \"PARP12\" \"APOL6\"  \"IRF7\"   \"RIPK1\"  \"NOD1\"   \"TAPBP\"  \"PSMB9\" \n",
      "[17] \"LATS2\"  \"IFIH1\"  \"STAT1\"  \"CDKN1A\" \"IFI44\"  \"HERC6\"  \"STAT3\"  \"GCH1\"  \n",
      "[25] \"BTG1\"   \"MT2A\"   \"PML\"    \"TOR1B\"  \"PTPN6\"  \"MTHFD2\"\n"
     ]
    }
   ],
   "source": [
    "%%R\n",
    "\n",
    "# Define the pathway of interest\n",
    "pathway_of_interest <- \"HALLMARK_INTERFERON_GAMMA_RESPONSE\"\n",
    "\n",
    "# Subset the data to get the row with the specified pathway\n",
    "selected_row <- fgsea_MOL2_significant[fgsea_MOL2_significant$pathway == pathway_of_interest, ]\n",
    "\n",
    "# Extract the leadingEdge column as a list of gene symbols\n",
    "leading_edge_genes <- unlist(selected_row$leadingEdge)\n",
    "\n",
    "# Print the list of genes\n",
    "print(leading_edge_genes)"
   ]
  },
  {
   "cell_type": "code",
   "execution_count": 52,
   "id": "fbd6dcd5",
   "metadata": {},
   "outputs": [
    {
     "name": "stdout",
     "output_type": "stream",
     "text": [
      "       gene gene.1      logFC   AveExpr         t      P.Value    adj.P.Val\n",
      "142   HLA-B  HLA-B -4.3372806 2.8502434 -6.785372 7.319631e-07 5.405702e-05\n",
      "149  PARP14 PARP14 -3.8068994 1.9331008 -6.257406 8.030583e-07 5.652129e-05\n",
      "302   RSAD2  RSAD2 -3.4134772 0.5939815 -5.377317 1.095682e-05 3.795050e-04\n",
      "390   CASP7  CASP7 -2.7608417 2.9211651 -5.212668 2.573166e-05 6.919177e-04\n",
      "108   NLRC5  NLRC5 -2.6343112 3.9410402 -7.015664 3.157183e-07 3.065683e-05\n",
      "1230 CDKN1A CDKN1A -2.5003267 1.5953939 -3.542983 1.540516e-03 1.313446e-02\n",
      "570    IRF7   IRF7 -2.2082389 2.1052584 -4.607510 9.653937e-05 1.776155e-03\n",
      "1273  IFI44  IFI44 -2.1982857 1.4547472 -3.495505 1.693270e-03 1.394919e-02\n",
      "566   APOL6  APOL6 -1.9794297 2.3280302 -4.927985 9.299088e-05 1.722960e-03\n",
      "174    IRF1   IRF1 -1.9429213 2.7376744 -6.258329 1.387004e-06 8.319560e-05\n",
      "589    NOD1   NOD1 -1.9077697 2.0973889 -4.495900 1.101592e-04 1.961358e-03\n",
      "90    ISG20  ISG20 -1.8388068 4.6233640 -6.859319 1.764002e-07 2.055454e-05\n",
      "1926  PTPN6  PTPN6 -1.7390786 1.0917807 -2.902050 7.526593e-03 4.098203e-02\n",
      "495  PARP12 PARP12 -1.4516637 3.6630526 -5.026576 5.730826e-05 1.214125e-03\n",
      "1525   GCH1   GCH1 -1.3705642 1.5385722 -3.256173 3.177277e-03 2.184925e-02\n",
      "490  UBE2L6 UBE2L6 -1.3080227 2.1602267 -4.599569 5.625754e-05 1.203802e-03\n",
      "1423  HERC6  HERC6 -1.2355212 3.6809541 -3.365334 2.486537e-03 1.831733e-02\n",
      "1948 MTHFD2 MTHFD2 -1.2308009 1.9035856 -2.877567 7.949124e-03 4.277492e-02\n",
      "1108  IFIH1  IFIH1 -1.1588116 2.8376629 -3.798508 1.043074e-03 9.872491e-03\n",
      "780   PSMB9  PSMB9 -1.1397647 3.8271273 -4.210144 3.029515e-04 4.070090e-03\n",
      "1855   MT2A   MT2A -0.9785649 4.6051706 -3.279279 6.511016e-03 3.680918e-02\n",
      "1517  STAT3  STAT3 -0.9505771 7.2938313 -3.227060 3.125097e-03 2.159398e-02\n",
      "1194  STAT1  STAT1 -0.8897942 4.6515780 -3.694918 1.373981e-03 1.206779e-02\n",
      "464   SP110  SP110 -0.8299207 5.1897467 -4.656579 4.752791e-05 1.074192e-03\n",
      "923   LATS2  LATS2 -0.7907075 4.6724968 -4.114680 5.506367e-04 6.256259e-03\n",
      "1810   BTG1   BTG1 -0.7872228 4.2908064 -2.933191 5.963663e-03 3.455300e-02\n",
      "573   RIPK1  RIPK1 -0.7726092 4.9732652 -4.760229 9.933170e-05 1.815653e-03\n",
      "1922  TOR1B  TOR1B -0.7393653 4.3376761 -2.894202 7.468659e-03 4.075121e-02\n",
      "690   TAPBP  TAPBP -0.6509800 4.4438906 -4.172929 1.962779e-04 2.979752e-03\n",
      "1887    PML    PML -0.6381350 3.3760905 -2.874950 6.918775e-03 3.845108e-02\n",
      "               B logFC_rev\n",
      "142   4.17251247 4.3372806\n",
      "149   1.47404855 3.8068994\n",
      "302   2.75866976 3.4134772\n",
      "390   1.28548026 2.7608417\n",
      "108   5.55315271 2.6343112\n",
      "1230 -1.57489800 2.5003267\n",
      "570   0.99783676 2.2082389\n",
      "1273 -1.70190527 2.1982857\n",
      "566   2.48573803 1.9794297\n",
      "174   4.35289402 1.9429213\n",
      "589   0.34681781 1.9077697\n",
      "90    4.15142740 1.8388068\n",
      "1926 -2.80145030 1.7390786\n",
      "495   2.58472850 1.4516637\n",
      "1525 -2.12128419 1.3705642\n",
      "490   1.58748690 1.3080227\n",
      "1423 -1.90951526 1.2355212\n",
      "1948 -2.83955465 1.2308009\n",
      "1108 -0.77501214 1.1588116\n",
      "780  -0.04305933 1.1397647\n",
      "1855 -1.98720084 0.9785649\n",
      "1517 -2.25258827 0.9505771\n",
      "1194 -1.01689268 0.8897942\n",
      "464   1.74485085 0.8299207\n",
      "923  -0.17605173 0.7907075\n",
      "1810 -2.82537766 0.7872228\n",
      "573   1.79464314 0.7726092\n",
      "1922 -2.79291038 0.7393653\n",
      "690   0.39296206 0.6509800\n",
      "1887 -2.96917480 0.6381350\n",
      "Number of matching genes found in genes_down_sorted: 30 \n"
     ]
    }
   ],
   "source": [
    "%%R\n",
    "# Filter genes_down_sorted for genes in leading_edge_genes\n",
    "matching_genes <- genes_up_sorted[genes_up_sorted$gene %in% leading_edge_genes, ]\n",
    "\n",
    "# Print the filtered data frame\n",
    "print(matching_genes)\n",
    "\n",
    "# Optionally, count the number of matching genes\n",
    "num_matching_genes <- nrow(matching_genes)\n",
    "cat(\"Number of matching genes found in genes_down_sorted:\", num_matching_genes, \"\\n\")"
   ]
  },
  {
   "cell_type": "markdown",
   "id": "99dde6af",
   "metadata": {},
   "source": [
    "# CIL/RL_MOL"
   ]
  },
  {
   "cell_type": "code",
   "execution_count": 53,
   "id": "2daa1b82",
   "metadata": {},
   "outputs": [
    {
     "name": "stdout",
     "output_type": "stream",
     "text": [
      "        gene      logFC  AveExpr         t      P.Value    adj.P.Val         B\n",
      "1     FCHSD2  2.1578351 8.727854 17.221175 1.807438e-14 2.316774e-10 21.643558\n",
      "2     KCNAB1  4.4666887 6.548477 12.991036 5.934711e-12 3.803556e-08 15.739906\n",
      "3 AC022182.1  2.4251410 3.670108 11.280059 9.536502e-11 4.074630e-07 13.871828\n",
      "4     PLPPR1  2.1458934 7.492648 11.587528 2.531274e-10 8.111468e-07  9.989267\n",
      "5      MMP17  3.5191120 2.405612  8.706449 1.340425e-08 3.389688e-05  1.481296\n",
      "6      SF3A1 -0.8336393 4.066929 -8.517618 1.681238e-08 3.389688e-05  9.685838\n",
      "      z.std     gene.1\n",
      "1  7.663634     FCHSD2\n",
      "2  6.881208     KCNAB1\n",
      "3  6.474122 AC022182.1\n",
      "4  6.325064     PLPPR1\n",
      "5  5.680830      MMP17\n",
      "6 -5.641961      SF3A1\n"
     ]
    }
   ],
   "source": [
    "%%R\n",
    "\n",
    "# Replace the file path with the actual path if the file is not in the current directory\n",
    "df <- read.csv(\"./files/MOL_GvC_WM_v_RL_dream.csv\")\n",
    "head(df)  # Display the first few rows of the data frame to confirm it's loaded correctly"
   ]
  },
  {
   "cell_type": "code",
   "execution_count": 54,
   "id": "4779eae4",
   "metadata": {},
   "outputs": [],
   "source": [
    "%%R\n",
    "\n",
    "df <- df %>%\n",
    "  mutate(logFC_rev = logFC * -1)"
   ]
  },
  {
   "cell_type": "code",
   "execution_count": 55,
   "id": "5ca2d205",
   "metadata": {},
   "outputs": [
    {
     "name": "stdout",
     "output_type": "stream",
     "text": [
      "[1] 367\n",
      "        gene     logFC   AveExpr         t      P.Value   adj.P.Val          B\n",
      "277     EGR1 -5.313476 1.4426433 -4.527942 2.724879e-04 0.012609204 -0.7671184\n",
      "368     GBP2 -4.931257 0.7175863 -4.250387 4.642876e-04 0.016171842 -2.0479198\n",
      "56     HLA-B -4.565459 2.3549507 -7.328770 5.157742e-06 0.001180570  2.5091372\n",
      "133 ARHGAP24 -4.458723 3.5360347 -5.889187 3.501024e-05 0.003374145  1.8933829\n",
      "228    ANXA2 -4.406114 0.4269273 -4.748119 1.386904e-04 0.007797075 -1.8869533\n",
      "165   GPRC5A -4.166927 0.7947762 -5.062537 6.465058e-05 0.005022371  0.9011153\n",
      "        z.std   gene.1 logFC_rev\n",
      "277 -3.640142     EGR1  5.313476\n",
      "368 -3.500557     GBP2  4.931257\n",
      "56  -4.558267    HLA-B  4.565459\n",
      "133 -4.138160 ARHGAP24  4.458723\n",
      "228 -3.810492    ANXA2  4.406114\n",
      "165 -3.995160   GPRC5A  4.166927\n"
     ]
    }
   ],
   "source": [
    "%%R\n",
    "# Calculate the number of genes with adj.P.Val < 0.05 and |logFC| > 1\n",
    "genes_up <- df[df$adj.P.Val < 0.05 & df$logFC_rev > 0.585, ]\n",
    "num_genes_up <- nrow(genes_up)\n",
    "\n",
    "# Print the number of significant genes\n",
    "print(num_genes_up)\n",
    "\n",
    "genes_up_sorted <- genes_up[order(genes_up$logFC_rev, decreasing = TRUE), ]\n",
    "\n",
    "# View the head of the significant genes data frame\n",
    "head(genes_up_sorted)"
   ]
  },
  {
   "cell_type": "code",
   "execution_count": 56,
   "id": "ffa77020",
   "metadata": {},
   "outputs": [
    {
     "name": "stdout",
     "output_type": "stream",
     "text": [
      "[1] 365\n",
      "      gene    logFC  AveExpr         t      P.Value    adj.P.Val          B\n",
      "523  DPP10 4.704838 2.609465  3.739296 1.103533e-03 2.704605e-02 -2.2998257\n",
      "150 ATP8A2 4.660569 5.176498  5.013160 4.762359e-05 4.062542e-03  2.0998200\n",
      "158   GRM7 4.553017 3.231313  4.968429 5.314953e-05 4.311839e-03  1.9629857\n",
      "2   KCNAB1 4.466689 6.548477 12.991036 5.934711e-12 3.803556e-08 15.7399058\n",
      "274 ARPP21 4.432575 2.886587  4.334422 2.618493e-04 1.223993e-02 -0.6204954\n",
      "179  PCDH7 3.992072 3.312041  4.818293 7.733640e-05 5.537977e-03 -0.9503429\n",
      "       z.std gene.1 logFC_rev\n",
      "523 3.262708  DPP10 -4.704838\n",
      "150 4.066993 ATP8A2 -4.660569\n",
      "158 4.041327   GRM7 -4.553017\n",
      "2   6.881208 KCNAB1 -4.466689\n",
      "274 3.650383 ARPP21 -4.432575\n",
      "179 3.952508  PCDH7 -3.992072\n"
     ]
    }
   ],
   "source": [
    "%%R\n",
    "# Calculate the number of genes with adj.P.Val < 0.05 and |logFC| > 1\n",
    "genes_down <- df[df$adj.P.Val < 0.05 & df$logFC_rev < -0.585, ]\n",
    "num_genes_down <- nrow(genes_down)\n",
    "\n",
    "# Print the number of significant genes\n",
    "print(num_genes_down)\n",
    "\n",
    "genes_down_sorted <- genes_down[order(genes_down$logFC_rev, decreasing = FALSE), ]\n",
    "\n",
    "# View the head of the significant genes data frame\n",
    "head(genes_down_sorted)"
   ]
  },
  {
   "cell_type": "code",
   "execution_count": 57,
   "id": "3c77713c",
   "metadata": {},
   "outputs": [
    {
     "name": "stdout",
     "output_type": "stream",
     "text": [
      "[1] 12818    10\n"
     ]
    }
   ],
   "source": [
    "%%R\n",
    "\n",
    "dim(df)"
   ]
  },
  {
   "cell_type": "code",
   "execution_count": 58,
   "id": "9753cc81",
   "metadata": {},
   "outputs": [
    {
     "name": "stdout",
     "output_type": "stream",
     "text": [
      "[1] \"FCHSD2\"     \"KCNAB1\"     \"AC022182.1\" \"PLPPR1\"     \"MMP17\"     \n",
      "[6] \"SF3A1\"     \n"
     ]
    }
   ],
   "source": [
    "%%R\n",
    "\n",
    "my_genes <- df$gene\n",
    "head(my_genes)"
   ]
  },
  {
   "cell_type": "code",
   "execution_count": 59,
   "id": "3315491a",
   "metadata": {},
   "outputs": [
    {
     "name": "stdout",
     "output_type": "stream",
     "text": [
      " [1] \"gene\"      \"logFC\"     \"AveExpr\"   \"t\"         \"P.Value\"   \"adj.P.Val\"\n",
      " [7] \"B\"         \"z.std\"     \"gene.1\"    \"logFC_rev\"\n"
     ]
    }
   ],
   "source": [
    "%%R\n",
    "# Check column names in the dataframe\n",
    "colnames(df)"
   ]
  },
  {
   "cell_type": "code",
   "execution_count": 60,
   "id": "905ee517",
   "metadata": {},
   "outputs": [],
   "source": [
    "%%R\n",
    "\n",
    "# Filter the dataset for significant genes\n",
    "filtered_df <- df[abs(df$logFC_rev) >= 0.585 & df$adj.P.Val < 0.05, ]\n",
    "\n",
    "# Compute ranking score: sign(logFC) * -log10(P.Value)\n",
    "filtered_df$ranking_score <- sign(filtered_df$logFC_rev) * -log10(filtered_df$P.Value)\n",
    "\n",
    "# Assign names to the rankings\n",
    "rankings <- filtered_df$ranking_score\n",
    "names(rankings) <- filtered_df$gene\n",
    "\n",
    "# Sort the rankings in descending order\n",
    "rankings <- sort(rankings, decreasing = TRUE)"
   ]
  },
  {
   "cell_type": "code",
   "execution_count": 61,
   "id": "09d0de97",
   "metadata": {},
   "outputs": [
    {
     "name": "stdout",
     "output_type": "stream",
     "text": [
      "[1] FALSE\n"
     ]
    }
   ],
   "source": [
    "%%R\n",
    "\n",
    "# Ensure the length of the gene column matches the length of rankings\n",
    "length(df$gene) == length(rankings)"
   ]
  },
  {
   "cell_type": "code",
   "execution_count": 62,
   "id": "744dcdc5",
   "metadata": {},
   "outputs": [
    {
     "data": {
      "image/png": "[encoded data removed]",
      "text/plain": [
       "<IPython.core.display.Image object>"
      ]
     },
     "metadata": {},
     "output_type": "display_data"
    }
   ],
   "source": [
    "%%R\n",
    "\n",
    "plot(rankings)"
   ]
  },
  {
   "cell_type": "code",
   "execution_count": 63,
   "id": "6517f272",
   "metadata": {},
   "outputs": [
    {
     "name": "stdout",
     "output_type": "stream",
     "text": [
      "[1] 7.774371\n"
     ]
    }
   ],
   "source": [
    "%%R\n",
    "\n",
    "max(rankings)"
   ]
  },
  {
   "cell_type": "code",
   "execution_count": 64,
   "id": "673e5082",
   "metadata": {},
   "outputs": [
    {
     "name": "stdout",
     "output_type": "stream",
     "text": [
      "[1] -13.74294\n"
     ]
    }
   ],
   "source": [
    "%%R\n",
    "\n",
    "min(rankings)"
   ]
  },
  {
   "cell_type": "code",
   "execution_count": 65,
   "id": "8d3bcc4d",
   "metadata": {},
   "outputs": [
    {
     "data": {
      "image/png": "[encoded data removed]",
      "text/plain": [
       "<IPython.core.display.Image object>"
      ]
     },
     "metadata": {},
     "output_type": "display_data"
    }
   ],
   "source": [
    "%%R\n",
    "\n",
    "ggplot(data.frame(gene_symbol = names(rankings)[1:50], ranks = rankings[1:50]), aes(gene_symbol, ranks)) + \n",
    "    geom_point() +\n",
    "    theme_classic() + \n",
    "    theme(axis.text.x = element_text(angle = 90, vjust = 0.5, hjust=1))"
   ]
  },
  {
   "cell_type": "markdown",
   "id": "12776d9c",
   "metadata": {},
   "source": [
    "## set up gene lists"
   ]
  },
  {
   "cell_type": "code",
   "execution_count": 66,
   "id": "d0b15d09",
   "metadata": {
    "scrolled": true
   },
   "outputs": [],
   "source": [
    "%%R\n",
    "fgsea_res <- fgsea(pathways = pathwaysH, \n",
    "                  stats    = rankings,\n",
    "                  scoreType = 'std',\n",
    "                  minSize  = 15,\n",
    "                  maxSize  = 500)"
   ]
  },
  {
   "cell_type": "code",
   "execution_count": 67,
   "id": "32106bf0",
   "metadata": {},
   "outputs": [
    {
     "name": "stdout",
     "output_type": "stream",
     "text": [
      "                              pathway       pval       padj   log2err        ES\n",
      "                               <char>      <num>      <num>     <num>     <num>\n",
      "1:       HALLMARK_IL2_STAT5_SIGNALING 0.11498973 0.11498973 0.1882041 0.3222599\n",
      "2: HALLMARK_INTERFERON_GAMMA_RESPONSE 0.01427437 0.02854874 0.3807304 0.4326900\n",
      "        NES  size                                 leadingEdge\n",
      "      <num> <int>                                      <list>\n",
      "1: 1.396086    17 SMPDL3A,CSF1,TNFRSF21,SCN9A,ADAM19,MAFF,...\n",
      "2: 1.843897    16     HLA-B,TRIM25,IRF1,HLA-A,NLRC5,PSMB9,...\n"
     ]
    }
   ],
   "source": [
    "%%R\n",
    "fgsea_res"
   ]
  },
  {
   "cell_type": "code",
   "execution_count": 68,
   "id": "abf2a2ba",
   "metadata": {},
   "outputs": [
    {
     "name": "stdout",
     "output_type": "stream",
     "text": [
      "[1] 2 8\n"
     ]
    }
   ],
   "source": [
    "%%R\n",
    "\n",
    "dim(fgsea_res)"
   ]
  },
  {
   "cell_type": "code",
   "execution_count": 69,
   "id": "33109bb9",
   "metadata": {},
   "outputs": [],
   "source": [
    "%%R\n",
    "library(data.table)\n",
    "\n",
    "fwrite(fgsea_res, file = \"./files/fgsea_RL_GvC_all.csv\")"
   ]
  },
  {
   "cell_type": "code",
   "execution_count": 70,
   "id": "02655846",
   "metadata": {},
   "outputs": [
    {
     "name": "stdout",
     "output_type": "stream",
     "text": [
      "[1] 1 8\n"
     ]
    }
   ],
   "source": [
    "%%R\n",
    "\n",
    "# Filter for significant results with padj < 0.05\n",
    "fgsea_MOL4_significant <- fgsea_res %>% filter(padj < 0.1)\n",
    "dim(fgsea_MOL4_significant)"
   ]
  },
  {
   "cell_type": "code",
   "execution_count": 71,
   "id": "d6410706",
   "metadata": {},
   "outputs": [
    {
     "name": "stdout",
     "output_type": "stream",
     "text": [
      "                              pathway       pval       padj   log2err      ES\n",
      "                               <char>      <num>      <num>     <num>   <num>\n",
      "1: HALLMARK_INTERFERON_GAMMA_RESPONSE 0.01427437 0.02854874 0.3807304 0.43269\n",
      "        NES  size                             leadingEdge\n",
      "      <num> <int>                                  <list>\n",
      "1: 1.843897    16 HLA-B,TRIM25,IRF1,HLA-A,NLRC5,PSMB9,...\n"
     ]
    }
   ],
   "source": [
    "%%R\n",
    "\n",
    "head(fgsea_MOL4_significant)"
   ]
  },
  {
   "cell_type": "code",
   "execution_count": 72,
   "id": "86f3e038",
   "metadata": {},
   "outputs": [
    {
     "data": {
      "image/png": "[encoded data removed]",
      "text/plain": [
       "<IPython.core.display.Image object>"
      ]
     },
     "metadata": {},
     "output_type": "display_data"
    }
   ],
   "source": [
    "%%R\n",
    "\n",
    "plotGseaTable(pathwaysH[fgsea_MOL4_significant$pathway], \n",
    "              rankings, \n",
    "              fgsea_MOL4_significant, \n",
    "              gseaParam = 0.5)"
   ]
  },
  {
   "cell_type": "code",
   "execution_count": 73,
   "id": "c7797f7a",
   "metadata": {},
   "outputs": [
    {
     "data": {
      "image/png": "[encoded data removed]",
      "text/plain": [
       "<IPython.core.display.Image object>"
      ]
     },
     "metadata": {},
     "output_type": "display_data"
    }
   ],
   "source": [
    "%%R\n",
    "\n",
    "topUp <- fgsea_MOL4_significant %>% \n",
    "    filter(ES > 0) %>% \n",
    "    top_n(10, wt=-padj)\n",
    "\n",
    "topDown <- fgsea_MOL4_significant %>% \n",
    "    filter(ES < 0) %>% \n",
    "    top_n(10, wt=-padj)\n",
    "\n",
    "topPathways <- bind_rows(topUp, topDown) %>% \n",
    "    arrange(-ES)\n",
    "\n",
    "plotGseaTable(pathwaysH[topPathways$pathway], \n",
    "              rankings, \n",
    "              fgsea_MOL4_significant, \n",
    "              gseaParam = 0.5)"
   ]
  },
  {
   "cell_type": "code",
   "execution_count": 74,
   "id": "3bb5ce23",
   "metadata": {},
   "outputs": [],
   "source": [
    "%%R\n",
    "\n",
    "collapsedPathways <- collapsePathways(fgsea_MOL4_significant[order(pval)][padj < 0.1], \n",
    "                                      pathwaysH, rankings)"
   ]
  },
  {
   "cell_type": "code",
   "execution_count": 75,
   "id": "f48bf08b",
   "metadata": {},
   "outputs": [
    {
     "data": {
      "image/png": "[encoded data removed]",
      "text/plain": [
       "<IPython.core.display.Image object>"
      ]
     },
     "metadata": {},
     "output_type": "display_data"
    }
   ],
   "source": [
    "%%R\n",
    "\n",
    "mainPathways <- fgsea_MOL4_significant[pathway %in% collapsedPathways$mainPathways][\n",
    "                         order(-NES), pathway]\n",
    "plotGseaTable(pathwaysH[mainPathways], rankings, fgsea_MOL4_significant, \n",
    "              gseaParam = 0.5)"
   ]
  },
  {
   "cell_type": "code",
   "execution_count": 76,
   "id": "7b772b28",
   "metadata": {},
   "outputs": [],
   "source": [
    "%%R\n",
    "\n",
    "fgseaResTidy <- fgsea_res %>%\n",
    "  as_tibble() %>%\n",
    "  arrange(desc(NES))"
   ]
  },
  {
   "cell_type": "code",
   "execution_count": 77,
   "id": "4ba76d1a",
   "metadata": {},
   "outputs": [
    {
     "name": "stdout",
     "output_type": "stream",
     "text": [
      "# A tibble: 1 × 4\n",
      "  pathway                              padj   NES  size\n",
      "  <chr>                               <dbl> <dbl> <int>\n",
      "1 HALLMARK_INTERFERON_GAMMA_RESPONSE 0.0285  1.84    16\n"
     ]
    }
   ],
   "source": [
    "%%R\n",
    "\n",
    "# Subset significant results\n",
    "fgseaResSignificant <- fgseaResTidy[fgseaResTidy$padj < 0.1, ]\n",
    "\n",
    "# Select columns to display and sort by padj\n",
    "fgseaResSignificant <- fgseaResSignificant[, c(\"pathway\", \"padj\", \"NES\", \"size\")]\n",
    "fgseaResSignificant <- fgseaResSignificant[order(fgseaResSignificant$padj), ]\n",
    "\n",
    "# Print the table\n",
    "head(fgseaResSignificant)"
   ]
  },
  {
   "cell_type": "code",
   "execution_count": 78,
   "id": "bdde09eb",
   "metadata": {},
   "outputs": [
    {
     "data": {
      "image/png": "[encoded data removed]",
      "text/plain": [
       "<IPython.core.display.Image object>"
      ]
     },
     "metadata": {},
     "output_type": "display_data"
    }
   ],
   "source": [
    "%%R\n",
    "\n",
    "# Create the ggplot with a color scale for padj\n",
    "ggplot(fgseaResSignificant, aes(reorder(pathway, NES), NES)) +\n",
    "  geom_col(aes(fill = padj)) +\n",
    "  coord_flip() +\n",
    "  scale_fill_gradient(low = \"blue\", high = \"pink\", na.value = \"black\", name = \"Adjusted P-value\") +\n",
    "  labs(x = \"Pathway\", y = \"Normalized Enrichment Score\",\n",
    "       title = \"Hallmark pathways NES from GSEA\") +\n",
    "  theme_minimal() +\n",
    "  theme(\n",
    "    axis.text.y = element_text(size = 10),\n",
    "    axis.title = element_text(size = 12),\n",
    "    plot.title = element_text(size = 14, face = \"bold\")\n",
    "  )"
   ]
  },
  {
   "cell_type": "code",
   "execution_count": 79,
   "id": "97745267",
   "metadata": {},
   "outputs": [
    {
     "data": {
      "image/png": "[encoded data removed]",
      "text/plain": [
       "<IPython.core.display.Image object>"
      ]
     },
     "metadata": {},
     "output_type": "display_data"
    }
   ],
   "source": [
    "%%R\n",
    "\n",
    "# Calculate hits percentage (if 'numDEInCat' and 'numInCat' equivalent are 'NES' and 'size')\n",
    "fgseaResSignificant <- fgseaResSignificant %>%\n",
    "  mutate(hitsPerc = NES * 100 / size)\n",
    "\n",
    "# Ensure the columns 'padj' and 'NES' are present for the plot\n",
    "fgseaResSignificant <- fgseaResSignificant %>%\n",
    "  rename(term = pathway, over_represented_pvalue = padj, numDEInCat = NES)\n",
    "\n",
    "# Create the plot\n",
    "ggplot(fgseaResSignificant, aes(x = hitsPerc, y = term, colour = over_represented_pvalue, size = numDEInCat)) +\n",
    "  geom_point() +\n",
    "  expand_limits(x = 0) +\n",
    "  labs(x = \"Hits (%)\", y = \"GO term\", colour = \"p value\", size = \"Count\") +\n",
    "  theme_minimal()\n",
    "\n",
    "#https://bioinformatics-core-shared-training.github.io/cruk-summer-school-2018/RNASeq2018/html/06_Gene_set_testing.nb.html"
   ]
  },
  {
   "cell_type": "code",
   "execution_count": 80,
   "id": "30e5cdb8",
   "metadata": {},
   "outputs": [
    {
     "name": "stdout",
     "output_type": "stream",
     "text": [
      "# A tibble: 1 × 4\n",
      "  pathway                              padj   NES  size\n",
      "  <chr>                               <dbl> <dbl> <int>\n",
      "1 HALLMARK_INTERFERON_GAMMA_RESPONSE 0.0285  1.84    16\n"
     ]
    }
   ],
   "source": [
    "%%R\n",
    "\n",
    "# Subset significant results\n",
    "fgseaResSignificant <- fgseaResTidy[fgseaResTidy$padj < 0.1, ]\n",
    "\n",
    "# Select columns to display and sort by padj\n",
    "fgseaResSignificant <- fgseaResSignificant[, c(\"pathway\", \"padj\", \"NES\", \"size\")]\n",
    "fgseaResSignificant <- fgseaResSignificant[order(fgseaResSignificant$padj), ]\n",
    "\n",
    "# Print the table\n",
    "head(fgseaResSignificant)"
   ]
  },
  {
   "cell_type": "code",
   "execution_count": 81,
   "id": "4710a7bf",
   "metadata": {},
   "outputs": [
    {
     "data": {
      "image/png": "[encoded data removed]",
      "text/plain": [
       "<IPython.core.display.Image object>"
      ]
     },
     "metadata": {},
     "output_type": "display_data"
    }
   ],
   "source": [
    "%%R\n",
    "\n",
    "# Filter fgseaResSignificant to include only the main pathways from collapsedPathways\n",
    "filtered_fgseaResSignificant <- fgseaResSignificant %>%\n",
    "  filter(pathway %in% collapsedPathways$mainPathways)\n",
    "\n",
    "# Create the ggplot with a color scale for padj\n",
    "ggplot(filtered_fgseaResSignificant, aes(reorder(pathway, NES), NES)) +\n",
    "  geom_col(aes(fill = padj)) +\n",
    "  coord_flip() +\n",
    "  scale_fill_gradient(low = \"#0000FF\", high = \"#de5d83\", na.value = \"black\", name = \"Adjusted P-value\") +\n",
    "  labs(x = \"Pathway\", y = \"Normalized Enrichment Score\",\n",
    "       title = \"Hallmark pathways NES from GSEA\") +\n",
    "  theme_minimal() +\n",
    "  theme(\n",
    "    axis.text.y = element_text(size = 10),\n",
    "    axis.title = element_text(size = 12),\n",
    "    plot.title = element_text(size = 14, face = \"bold\")\n",
    "  )\n"
   ]
  },
  {
   "cell_type": "code",
   "execution_count": 82,
   "id": "2082a359",
   "metadata": {},
   "outputs": [
    {
     "data": {
      "image/png": "[encoded data removed]",
      "text/plain": [
       "<IPython.core.display.Image object>"
      ]
     },
     "metadata": {},
     "output_type": "display_data"
    }
   ],
   "source": [
    "%%R\n",
    "\n",
    "# Create the ggplot\n",
    "plot <- # Create the ggplot with a color scale for padj\n",
    "ggplot(filtered_fgseaResSignificant, aes(reorder(pathway, NES), NES)) +\n",
    "  geom_col(aes(fill = padj)) +\n",
    "  coord_flip() +\n",
    "  scale_fill_gradient(low = \"#0000FF\", high = \"#de5d83\", na.value = \"black\", name = \"Adjusted P-value\") +\n",
    "  labs(x = \"Pathway\", y = \"Normalized Enrichment Score\",\n",
    "       title = \"Hallmark pathways NES from GSEA\") +\n",
    "  theme_minimal() +\n",
    "  theme(\n",
    "    axis.text.y = element_text(size = 10),\n",
    "    axis.title = element_text(size = 12),\n",
    "    plot.title = element_text(size = 14, face = \"bold\")\n",
    "  )\n",
    "\n",
    "# Save the plot as a high-resolution PNG file\n",
    "ggsave(\"./figures/GSEA/MOL_RL_reduced_hallmark_pathways_NES_GSEA.png\", plot = plot, dpi = 300, width = 10, height = 8)\n",
    "\n",
    "print(plot)"
   ]
  },
  {
   "cell_type": "code",
   "execution_count": 83,
   "id": "727bb2cf",
   "metadata": {},
   "outputs": [
    {
     "name": "stdout",
     "output_type": "stream",
     "text": [
      "# A tibble: 1 × 4\n",
      "  pathway                     padj   NES  size\n",
      "  <chr>                      <dbl> <dbl> <int>\n",
      "1 INTERFERON_GAMMA_RESPONSE 0.0285  1.84    16\n"
     ]
    }
   ],
   "source": [
    "%%R\n",
    "\n",
    "# Remove \"HALLMARK_\" prefix from the 'pathway' column\n",
    "filtered_fgseaResSignificant$pathway <- gsub(\"^HALLMARK_\", \"\", filtered_fgseaResSignificant$pathway)\n",
    "\n",
    "# View the updated heatmap_df\n",
    "head(filtered_fgseaResSignificant)"
   ]
  },
  {
   "cell_type": "code",
   "execution_count": 84,
   "id": "17063a84",
   "metadata": {},
   "outputs": [
    {
     "data": {
      "image/png": "[encoded data removed]",
      "text/plain": [
       "<IPython.core.display.Image object>"
      ]
     },
     "metadata": {},
     "output_type": "display_data"
    }
   ],
   "source": [
    "%%R\n",
    "\n",
    "# Create the ggplot\n",
    "plot <- ggplot(filtered_fgseaResSignificant, aes(reorder(pathway, NES), NES)) +\n",
    "  geom_col(aes(fill = padj)) +\n",
    "  coord_flip() +\n",
    "  scale_fill_gradient(low = \"#0000FF\", high = \"#de5d83\", na.value = \"black\", name = \"Adjusted P-value\") +\n",
    "  labs(x = \"\", y = \"\",\n",
    "       title = \"\") +\n",
    "  theme_minimal() +\n",
    "  theme(\n",
    "    axis.text.y = element_text(size = 16),\n",
    "    axis.title = element_text(size = 16),\n",
    "    plot.title = element_text(size = 16, face = \"bold\")\n",
    "  )\n",
    "\n",
    "# Save the plot as a high-resolution PNG file\n",
    "ggsave(\"./figures/GSEA/MOL_RL_reduced_hallmark_pathways_NES_GSEA2.png\", plot = plot, dpi = 300, width = 10, height = 8)\n",
    "\n",
    "print(plot)"
   ]
  },
  {
   "cell_type": "code",
   "execution_count": 85,
   "id": "79266972",
   "metadata": {},
   "outputs": [
    {
     "name": "stdout",
     "output_type": "stream",
     "text": [
      "[1] \"data.table\" \"data.frame\"\n"
     ]
    }
   ],
   "source": [
    "%%R\n",
    "\n",
    "class(fgsea_MOL4_significant)"
   ]
  },
  {
   "cell_type": "code",
   "execution_count": 86,
   "id": "9706d4c4",
   "metadata": {},
   "outputs": [],
   "source": [
    "%%R\n",
    "\n",
    "fgsea_MOL4_significant <- as.data.frame(fgsea_MOL4_significant)"
   ]
  },
  {
   "cell_type": "code",
   "execution_count": 87,
   "id": "9e2c0ed2",
   "metadata": {},
   "outputs": [],
   "source": [
    "%%R\n",
    "library(data.table)\n",
    "fwrite(fgsea_MOL4_significant, file = \"./files/filtered_fgseaResSignificant_RL_MOL_GvC.csv\")"
   ]
  },
  {
   "cell_type": "code",
   "execution_count": 88,
   "id": "d8576c54",
   "metadata": {},
   "outputs": [
    {
     "name": "stdout",
     "output_type": "stream",
     "text": [
      "[1] \"HALLMARK_INTERFERON_GAMMA_RESPONSE\"\n"
     ]
    }
   ],
   "source": [
    "%%R\n",
    "unique(fgsea_MOL4_significant$pathway)"
   ]
  },
  {
   "cell_type": "code",
   "execution_count": 90,
   "id": "b181524a",
   "metadata": {},
   "outputs": [
    {
     "name": "stdout",
     "output_type": "stream",
     "text": [
      " [1] \"HLA-B\"  \"TRIM25\" \"IRF1\"   \"HLA-A\"  \"NLRC5\"  \"PSMB9\"  \"HERC6\"  \"NOD1\"  \n",
      " [9] \"ISG20\"  \"PML\"    \"IFIH1\" \n"
     ]
    }
   ],
   "source": [
    "%%R\n",
    "\n",
    "# Define the pathway of interest\n",
    "pathway_of_interest <- \"HALLMARK_INTERFERON_GAMMA_RESPONSE\"\n",
    "\n",
    "# Subset the data to get the row with the specified pathway\n",
    "selected_row <- fgsea_MOL4_significant[fgsea_MOL4_significant$pathway == pathway_of_interest, ]\n",
    "\n",
    "# Extract the leadingEdge column as a list of gene symbols\n",
    "leading_edge_genes <- unlist(selected_row$leadingEdge)\n",
    "\n",
    "# Print the list of genes\n",
    "print(leading_edge_genes)"
   ]
  },
  {
   "cell_type": "code",
   "execution_count": 91,
   "id": "250d843e",
   "metadata": {},
   "outputs": [
    {
     "name": "stdout",
     "output_type": "stream",
     "text": [
      "      gene      logFC  AveExpr         t      P.Value   adj.P.Val          B\n",
      "56   HLA-B -4.5654595 2.354951 -7.328770 5.157742e-06 0.001180570  2.5091372\n",
      "285  HLA-A -1.9483925 5.160799 -4.500450 2.912968e-04 0.013101200 -1.5548179\n",
      "458  ISG20 -1.8968175 4.209833 -3.961998 8.032841e-04 0.022481431 -1.6069645\n",
      "324  NLRC5 -1.8411442 3.093646 -4.302752 3.652145e-04 0.014437771 -1.9329525\n",
      "76  TRIM25 -1.8270803 1.473249 -5.563286 1.248337e-05 0.002105418  3.2676113\n",
      "280   IRF1 -1.7746431 2.345040 -4.487822 2.816067e-04 0.012866553 -1.4205324\n",
      "429   NOD1 -1.7528494 1.549460 -4.787213 6.773772e-04 0.020239209  0.6404712\n",
      "355  PSMB9 -1.3629336 3.738769 -4.617123 4.333407e-04 0.015643093 -0.2496337\n",
      "480  IFIH1 -1.2676731 2.573128 -4.594468 9.171567e-04 0.024491907  0.8495818\n",
      "406  HERC6 -1.0841539 3.401247 -4.456486 6.045711e-04 0.019044074 -0.0142576\n",
      "461    PML -0.8259102 3.149903 -5.207736 8.201197e-04 0.022803241  2.3689846\n",
      "        z.std gene.1 logFC_rev\n",
      "56  -4.558267  HLA-B 4.5654595\n",
      "285 -3.622919  HLA-A 1.9483925\n",
      "458 -3.351661  ISG20 1.8968175\n",
      "324 -3.564023  NLRC5 1.8411442\n",
      "76  -4.368970 TRIM25 1.8270803\n",
      "280 -3.631657   IRF1 1.7746431\n",
      "429 -3.398576   NOD1 1.7528494\n",
      "355 -3.518900  PSMB9 1.3629336\n",
      "480 -3.314779  IFIH1 1.2676731\n",
      "406 -3.429555  HERC6 1.0841539\n",
      "461 -3.345914    PML 0.8259102\n",
      "Number of matching genes found in genes_down_sorted: 11 \n"
     ]
    }
   ],
   "source": [
    "%%R\n",
    "# Filter genes_down_sorted for genes in leading_edge_genes\n",
    "matching_genes <- genes_up_sorted[genes_up_sorted$gene %in% leading_edge_genes, ]\n",
    "\n",
    "# Print the filtered data frame\n",
    "print(matching_genes)\n",
    "\n",
    "# Optionally, count the number of matching genes\n",
    "num_matching_genes <- nrow(matching_genes)\n",
    "cat(\"Number of matching genes found in genes_down_sorted:\", num_matching_genes, \"\\n\")"
   ]
  },
  {
   "cell_type": "code",
   "execution_count": 127,
   "id": "c1681dda",
   "metadata": {},
   "outputs": [
    {
     "name": "stdout",
     "output_type": "stream",
     "text": [
      "NULL\n"
     ]
    }
   ],
   "source": [
    "%%R\n",
    "\n",
    "# Define the pathway of interest\n",
    "pathway_of_interest <- \"HALLMARK_INTERFERON_ALPHA_RESPONSE\"\n",
    "\n",
    "# Subset the data to get the row with the specified pathway\n",
    "selected_row <- fgsea_MOL4_significant[fgsea_MOL4_significant$pathway == pathway_of_interest, ]\n",
    "\n",
    "# Extract the leadingEdge column as a list of gene symbols\n",
    "leading_edge_genes <- unlist(selected_row$leadingEdge)\n",
    "\n",
    "# Print the list of genes\n",
    "print(leading_edge_genes)"
   ]
  },
  {
   "cell_type": "code",
   "execution_count": 128,
   "id": "ee898c42",
   "metadata": {},
   "outputs": [
    {
     "name": "stdout",
     "output_type": "stream",
     "text": [
      " [1] gene      logFC     AveExpr   t         P.Value   adj.P.Val B        \n",
      " [8] z.std     gene.1    logFC_rev\n",
      "<0 rows> (or 0-length row.names)\n",
      "Number of matching genes found in genes_down_sorted: 0 \n"
     ]
    }
   ],
   "source": [
    "%%R\n",
    "# Filter genes_down_sorted for genes in leading_edge_genes\n",
    "matching_genes <- genes_up_sorted[genes_up_sorted$gene %in% leading_edge_genes, ]\n",
    "\n",
    "# Print the filtered data frame\n",
    "print(matching_genes)\n",
    "\n",
    "# Optionally, count the number of matching genes\n",
    "num_matching_genes <- nrow(matching_genes)\n",
    "cat(\"Number of matching genes found in genes_down_sorted:\", num_matching_genes, \"\\n\")"
   ]
  },
  {
   "cell_type": "code",
   "execution_count": 129,
   "id": "8b10e876",
   "metadata": {},
   "outputs": [
    {
     "name": "stdout",
     "output_type": "stream",
     "text": [
      "NULL\n"
     ]
    }
   ],
   "source": [
    "%%R\n",
    "\n",
    "# Define the pathway of interest\n",
    "pathway_of_interest <- \"HALLMARK_CHOLESTEROL_HOMEOSTASIS\"\n",
    "\n",
    "# Subset the data to get the row with the specified pathway\n",
    "selected_row <- fgsea_MOL4_significant[fgsea_MOL4_significant$pathway == pathway_of_interest, ]\n",
    "\n",
    "# Extract the leadingEdge column as a list of gene symbols\n",
    "leading_edge_genes <- unlist(selected_row$leadingEdge)\n",
    "\n",
    "# Print the list of genes\n",
    "print(leading_edge_genes)"
   ]
  },
  {
   "cell_type": "code",
   "execution_count": 130,
   "id": "9cbf9b0d",
   "metadata": {},
   "outputs": [
    {
     "name": "stdout",
     "output_type": "stream",
     "text": [
      " [1] gene      logFC     AveExpr   t         P.Value   adj.P.Val B        \n",
      " [8] z.std     gene.1    logFC_rev\n",
      "<0 rows> (or 0-length row.names)\n",
      "Number of matching genes found in genes_down_sorted: 0 \n"
     ]
    }
   ],
   "source": [
    "%%R\n",
    "# Filter genes_down_sorted for genes in leading_edge_genes\n",
    "matching_genes <- genes_up_sorted[genes_up_sorted$gene %in% leading_edge_genes, ]\n",
    "\n",
    "# Print the filtered data frame\n",
    "print(matching_genes)\n",
    "\n",
    "# Optionally, count the number of matching genes\n",
    "num_matching_genes <- nrow(matching_genes)\n",
    "cat(\"Number of matching genes found in genes_down_sorted:\", num_matching_genes, \"\\n\")"
   ]
  },
  {
   "cell_type": "markdown",
   "id": "01c4794d",
   "metadata": {},
   "source": [
    "# CREATE A COMBINED HEATMAP-- NEW NES colored"
   ]
  },
  {
   "cell_type": "code",
   "execution_count": 131,
   "id": "06a4f5fa",
   "metadata": {},
   "outputs": [],
   "source": [
    "%%R\n",
    "\n",
    "# Load the data.table package\n",
    "library(data.table)\n",
    "\n",
    "# Read the files back into R\n",
    "LPC_de <- fread(\"./files/filtered_fgseaResSignificant_AL_MOL_GvC.csv\")\n",
    "LPC_re <- fread(\"./files/filtered_fgseaResSignificant_RL_MOL_GvC.csv\")"
   ]
  },
  {
   "cell_type": "code",
   "execution_count": 132,
   "id": "ed223968",
   "metadata": {},
   "outputs": [
    {
     "name": "stdout",
     "output_type": "stream",
     "text": [
      "[1] 9 8\n",
      "[1] 1 8\n"
     ]
    }
   ],
   "source": [
    "%%R\n",
    "print(dim(LPC_de))\n",
    "print(dim(LPC_re))"
   ]
  },
  {
   "cell_type": "code",
   "execution_count": 133,
   "id": "68dbeb7a",
   "metadata": {},
   "outputs": [
    {
     "name": "stdout",
     "output_type": "stream",
     "text": [
      "$LPC_de\n",
      "[1] \"pathway\"     \"pval\"        \"padj\"        \"log2err\"     \"ES\"         \n",
      "[6] \"NES\"         \"size\"        \"leadingEdge\"\n",
      "\n",
      "$LPC_re\n",
      "[1] \"pathway\"     \"pval\"        \"padj\"        \"log2err\"     \"ES\"         \n",
      "[6] \"NES\"         \"size\"        \"leadingEdge\"\n",
      "\n"
     ]
    }
   ],
   "source": [
    "%%R\n",
    "# For detailed differences in column names (if any)\n",
    "list_columns <- list(\n",
    "  LPC_de = colnames(LPC_de),\n",
    "  LPC_re = colnames(LPC_re)\n",
    ")\n",
    "\n",
    "print(list_columns)"
   ]
  },
  {
   "cell_type": "code",
   "execution_count": 134,
   "id": "44b18236",
   "metadata": {},
   "outputs": [],
   "source": [
    "%%R\n",
    "\n",
    "# Subset the data frames to include only pathway, padj, NES, and size\n",
    "subset_columns <- c(\"pathway\", \"NES\", \"padj\")\n",
    "\n",
    "LPC_de_subset <- LPC_de[, ..subset_columns]\n",
    "LPC_re_subset <- LPC_re[, ..subset_columns]"
   ]
  },
  {
   "cell_type": "code",
   "execution_count": 135,
   "id": "f2f34fc3",
   "metadata": {},
   "outputs": [
    {
     "name": "stdout",
     "output_type": "stream",
     "text": [
      "[1] \"HALLMARK_APOPTOSIS\"                        \n",
      "[2] \"HALLMARK_COMPLEMENT\"                       \n",
      "[3] \"HALLMARK_EPITHELIAL_MESENCHYMAL_TRANSITION\"\n",
      "[4] \"HALLMARK_IL2_STAT5_SIGNALING\"              \n",
      "[5] \"HALLMARK_INFLAMMATORY_RESPONSE\"            \n",
      "[6] \"HALLMARK_INTERFERON_ALPHA_RESPONSE\"        \n",
      "[1] 9\n"
     ]
    }
   ],
   "source": [
    "%%R\n",
    "\n",
    "# Combine the 'pathway' columns from all the data frames\n",
    "all_pathways <- unique(c(LPC_de$pathway, LPC_re$pathway))\n",
    "\n",
    "# Verify the unique pathways\n",
    "print(head(all_pathways))\n",
    "\n",
    "# Check the total number of unique pathways\n",
    "length(all_pathways)"
   ]
  },
  {
   "cell_type": "code",
   "execution_count": 136,
   "id": "85e70565",
   "metadata": {},
   "outputs": [],
   "source": [
    "%%R\n",
    "# Function to ensure each data frame includes all pathways and fills missing ones with NaN\n",
    "fill_missing_pathways <- function(df, all_pathways) {\n",
    "  # Identify pathways that are missing in the current data frame\n",
    "  missing_pathways <- setdiff(all_pathways, df$pathway)\n",
    "  \n",
    "  # Create a data frame with missing pathways, NES and padj set to NaN\n",
    "  missing_data <- data.frame(pathway = missing_pathways, \n",
    "                             NES = rep(NaN, length(missing_pathways)), \n",
    "                             padj = rep(NaN, length(missing_pathways)))\n",
    "  \n",
    "  # Combine the original data frame with the missing pathways\n",
    "  df <- rbind(df[, c(\"pathway\", \"NES\", \"padj\")], missing_data)\n",
    "  \n",
    "  # Sort by pathway to maintain a consistent order\n",
    "  df <- df[order(df$pathway), ]\n",
    "  \n",
    "  return(df)\n",
    "}\n",
    "\n",
    "# List of all unique pathways\n",
    "all_pathways <- unique(c(LPC_de$pathway, LPC_re$pathway))\n",
    "\n",
    "# Apply the function to all data frames\n",
    "LPC_de_filtered <- fill_missing_pathways(LPC_de_subset, all_pathways)\n",
    "LPC_re_filtered <- fill_missing_pathways(LPC_re_subset, all_pathways)"
   ]
  },
  {
   "cell_type": "code",
   "execution_count": 137,
   "id": "bbafe705",
   "metadata": {},
   "outputs": [
    {
     "name": "stdout",
     "output_type": "stream",
     "text": [
      "                                      pathway      NES        padj condition\n",
      "                                       <char>    <num>       <num>    <char>\n",
      "1:                         HALLMARK_APOPTOSIS 1.897157 0.022373336  AL_MOL_G\n",
      "2:                        HALLMARK_COMPLEMENT 2.234759 0.002560728  AL_MOL_G\n",
      "3: HALLMARK_EPITHELIAL_MESENCHYMAL_TRANSITION 2.223225 0.002609011  AL_MOL_G\n",
      "4:               HALLMARK_IL2_STAT5_SIGNALING 1.718310 0.056299729  AL_MOL_G\n",
      "5:             HALLMARK_INFLAMMATORY_RESPONSE 1.614002 0.099175931  AL_MOL_G\n",
      "6:         HALLMARK_INTERFERON_ALPHA_RESPONSE 2.280342 0.002002414  AL_MOL_G\n"
     ]
    }
   ],
   "source": [
    "%%R\n",
    "\n",
    "LPC_de_filtered$condition <- \"AL_MOL_G\"\n",
    "LPC_re_filtered$condition <- \"RL_MOL_G\"\n",
    "\n",
    "# Combine all datasets into a single dataframe\n",
    "combined_df <- rbind(LPC_de_filtered, LPC_re_filtered)\n",
    "\n",
    "# Verify the structure\n",
    "head(combined_df)"
   ]
  },
  {
   "cell_type": "code",
   "execution_count": 138,
   "id": "09f1680a",
   "metadata": {},
   "outputs": [
    {
     "name": "stdout",
     "output_type": "stream",
     "text": [
      "[1] 18  4\n"
     ]
    }
   ],
   "source": [
    "%%R\n",
    "dim(combined_df)"
   ]
  },
  {
   "cell_type": "code",
   "execution_count": 139,
   "id": "4cd01063",
   "metadata": {},
   "outputs": [
    {
     "name": "stdout",
     "output_type": "stream",
     "text": [
      "                             pathway      NES        padj condition\n",
      "                              <char>    <num>       <num>    <char>\n",
      "1:                         APOPTOSIS 1.897157 0.022373336  AL_MOL_G\n",
      "2:                        COMPLEMENT 2.234759 0.002560728  AL_MOL_G\n",
      "3: EPITHELIAL_MESENCHYMAL_TRANSITION 2.223225 0.002609011  AL_MOL_G\n",
      "4:               IL2_STAT5_SIGNALING 1.718310 0.056299729  AL_MOL_G\n",
      "5:             INFLAMMATORY_RESPONSE 1.614002 0.099175931  AL_MOL_G\n",
      "6:         INTERFERON_ALPHA_RESPONSE 2.280342 0.002002414  AL_MOL_G\n"
     ]
    }
   ],
   "source": [
    "%%R\n",
    "\n",
    "# Remove \"HALLMARK_\" prefix from the 'pathway' column\n",
    "combined_df$pathway <- gsub(\"^HALLMARK_\", \"\", combined_df$pathway)\n",
    "\n",
    "# View the updated heatmap_df\n",
    "head(combined_df)"
   ]
  },
  {
   "cell_type": "code",
   "execution_count": 140,
   "id": "7fc97122",
   "metadata": {},
   "outputs": [
    {
     "name": "stdout",
     "output_type": "stream",
     "text": [
      "                             pathway      NES        padj condition\n",
      "                              <char>    <num>       <num>    <char>\n",
      "1:                         APOPTOSIS 1.897157 0.022373336  AL_MOL_G\n",
      "2:                        COMPLEMENT 2.234759 0.002560728  AL_MOL_G\n",
      "3: EPITHELIAL_MESENCHYMAL_TRANSITION 2.223225 0.002609011  AL_MOL_G\n",
      "4:               IL2_STAT5_SIGNALING 1.718310 0.056299729  AL_MOL_G\n",
      "5:             INFLAMMATORY_RESPONSE 1.614002 0.099175931  AL_MOL_G\n",
      "6:         INTERFERON_ALPHA_RESPONSE 2.280342 0.002002414  AL_MOL_G\n"
     ]
    }
   ],
   "source": [
    "%%R\n",
    "head(combined_df)"
   ]
  },
  {
   "cell_type": "code",
   "execution_count": 141,
   "id": "c0520c40",
   "metadata": {},
   "outputs": [
    {
     "name": "stdout",
     "output_type": "stream",
     "text": [
      "                     pathway      NES       padj condition\n",
      "                      <char>    <num>      <num>    <char>\n",
      "1:       IL2_STAT5_SIGNALING      NaN        NaN  RL_MOL_G\n",
      "2:     INFLAMMATORY_RESPONSE      NaN        NaN  RL_MOL_G\n",
      "3: INTERFERON_ALPHA_RESPONSE      NaN        NaN  RL_MOL_G\n",
      "4: INTERFERON_GAMMA_RESPONSE 1.799277 0.03208174  RL_MOL_G\n",
      "5:   TNFA_SIGNALING_VIA_NFKB      NaN        NaN  RL_MOL_G\n",
      "6:     XENOBIOTIC_METABOLISM      NaN        NaN  RL_MOL_G\n"
     ]
    }
   ],
   "source": [
    "%%R\n",
    "tail(combined_df)"
   ]
  },
  {
   "cell_type": "code",
   "execution_count": 142,
   "id": "365e99b3",
   "metadata": {},
   "outputs": [],
   "source": [
    "%%R\n",
    "\n",
    "# Transform padj to -log10 for better visualization\n",
    "combined_df$log_padj <- -log10(combined_df$padj)"
   ]
  },
  {
   "cell_type": "code",
   "execution_count": 143,
   "id": "6e3a1969",
   "metadata": {},
   "outputs": [
    {
     "name": "stdout",
     "output_type": "stream",
     "text": [
      "[1] 18  5\n"
     ]
    }
   ],
   "source": [
    "%%R\n",
    "\n",
    "dim(combined_df)"
   ]
  },
  {
   "cell_type": "code",
   "execution_count": 144,
   "id": "404358ab",
   "metadata": {},
   "outputs": [
    {
     "name": "stdout",
     "output_type": "stream",
     "text": [
      "                              pathway      NES        padj condition log_padj\n",
      "                               <char>    <num>       <num>    <char>    <num>\n",
      " 1:                         APOPTOSIS 1.897157 0.022373336  AL_MOL_G 1.650269\n",
      " 2:                        COMPLEMENT 2.234759 0.002560728  AL_MOL_G 2.591637\n",
      " 3: EPITHELIAL_MESENCHYMAL_TRANSITION 2.223225 0.002609011  AL_MOL_G 2.583524\n",
      " 4:               IL2_STAT5_SIGNALING 1.718310 0.056299729  AL_MOL_G 1.249494\n",
      " 5:             INFLAMMATORY_RESPONSE 1.614002 0.099175931  AL_MOL_G 1.003594\n",
      " 6:         INTERFERON_ALPHA_RESPONSE 2.280342 0.002002414  AL_MOL_G 2.698446\n",
      " 7:         INTERFERON_GAMMA_RESPONSE 1.900071 0.025356235  AL_MOL_G 1.595915\n",
      " 8:           TNFA_SIGNALING_VIA_NFKB 1.925632 0.022296172  AL_MOL_G 1.651770\n",
      " 9:             XENOBIOTIC_METABOLISM 1.710075 0.054539554  AL_MOL_G 1.263288\n",
      "10:                         APOPTOSIS      NaN         NaN  RL_MOL_G      NaN\n",
      "11:                        COMPLEMENT      NaN         NaN  RL_MOL_G      NaN\n",
      "12: EPITHELIAL_MESENCHYMAL_TRANSITION      NaN         NaN  RL_MOL_G      NaN\n",
      "13:               IL2_STAT5_SIGNALING      NaN         NaN  RL_MOL_G      NaN\n",
      "14:             INFLAMMATORY_RESPONSE      NaN         NaN  RL_MOL_G      NaN\n",
      "15:         INTERFERON_ALPHA_RESPONSE      NaN         NaN  RL_MOL_G      NaN\n",
      "16:         INTERFERON_GAMMA_RESPONSE 1.799277 0.032081738  RL_MOL_G 1.493742\n",
      "17:           TNFA_SIGNALING_VIA_NFKB      NaN         NaN  RL_MOL_G      NaN\n",
      "18:             XENOBIOTIC_METABOLISM      NaN         NaN  RL_MOL_G      NaN\n"
     ]
    }
   ],
   "source": [
    "%%R\n",
    "\n",
    "head(combined_df, 20)"
   ]
  },
  {
   "cell_type": "code",
   "execution_count": 145,
   "id": "76270d8d",
   "metadata": {},
   "outputs": [
    {
     "data": {
      "text/plain": [
       "In addition: Warning message:\n",
       "Removed 8 rows containing missing values or values outside the scale range\n",
       "(`geom_point()`). \n"
      ]
     },
     "metadata": {},
     "output_type": "display_data"
    },
    {
     "data": {
      "image/png": "[encoded data removed]",
      "text/plain": [
       "<IPython.core.display.Image object>"
      ]
     },
     "metadata": {},
     "output_type": "display_data"
    }
   ],
   "source": [
    "%%R\n",
    "\n",
    "library(ggplot2)\n",
    "\n",
    "# Set the factor levels for conditions to control the order\n",
    "combined_df$condition <- factor(combined_df$condition, \n",
    "                                 levels = c(\"AL_MOL_G\", \"RL_MOL_G\"))\n",
    "\n",
    "# Create the dotplot with switched axes and assign to heatmap_plot\n",
    "heatmap_plot <- ggplot(combined_df, aes(y = pathway, x = condition, size = log_padj, color = NES)) +\n",
    "  geom_point() +\n",
    "  scale_color_gradient2(low = \"#c32148\", mid = \"white\", high = \"#0000FF\", midpoint = 0) +\n",
    "  theme_minimal() +\n",
    "  theme(axis.text.y = element_text(size = 10), # Adjust pathway text size for readability\n",
    "        axis.text.x = element_text(angle = 45, hjust = 1, size = 10)) + # Adjust condition text\n",
    "  labs(x = \"\", y = \"\", \n",
    "       size = \"-log10(padj)\", color = \"NES\", \n",
    "       title = \"\")\n",
    "\n",
    "# Show the plot\n",
    "print(heatmap_plot)"
   ]
  },
  {
   "cell_type": "code",
   "execution_count": 146,
   "id": "9d63da19",
   "metadata": {},
   "outputs": [
    {
     "name": "stdout",
     "output_type": "stream",
     "text": [
      "                             pathway      NES        padj condition log_padj\n",
      "                              <char>    <num>       <num>    <fctr>    <num>\n",
      "1:                         APOPTOSIS 1.897157 0.022373336  AL_MOL_G 1.650269\n",
      "2:                        COMPLEMENT 2.234759 0.002560728  AL_MOL_G 2.591637\n",
      "3: EPITHELIAL_MESENCHYMAL_TRANSITION 2.223225 0.002609011  AL_MOL_G 2.583524\n",
      "4:               IL2_STAT5_SIGNALING 1.718310 0.056299729  AL_MOL_G 1.249494\n",
      "5:             INFLAMMATORY_RESPONSE 1.614002 0.099175931  AL_MOL_G 1.003594\n",
      "6:         INTERFERON_ALPHA_RESPONSE 2.280342 0.002002414  AL_MOL_G 2.698446\n"
     ]
    }
   ],
   "source": [
    "%%R\n",
    "\n",
    "# Remove rows with missing or NaN values in `log_padj` or `NES`\n",
    "filtered_df <- combined_df[!is.na(combined_df$log_padj) & !is.na(combined_df$NES), ]\n",
    "head(filtered_df)"
   ]
  },
  {
   "cell_type": "code",
   "execution_count": 147,
   "id": "b140e7d0",
   "metadata": {},
   "outputs": [
    {
     "name": "stdout",
     "output_type": "stream",
     "text": [
      "[1] 10  5\n"
     ]
    }
   ],
   "source": [
    "%%R\n",
    "dim(filtered_df)"
   ]
  },
  {
   "cell_type": "code",
   "execution_count": 148,
   "id": "af42a68f",
   "metadata": {},
   "outputs": [
    {
     "data": {
      "image/png": "[encoded data removed]",
      "text/plain": [
       "<IPython.core.display.Image object>"
      ]
     },
     "metadata": {},
     "output_type": "display_data"
    }
   ],
   "source": [
    "%%R\n",
    "\n",
    "# Create the dotplot with adjustments\n",
    "heatmap_plot <- ggplot(filtered_df, aes(y = pathway, x = condition, size = log_padj, fill = NES)) +\n",
    "  geom_point(shape = 21, stroke = 0.2, color = \"black\") + # Add thin black outline to dots\n",
    "  scale_fill_gradient2(low = \"#c32148\", mid = \"white\", high = \"#0000FF\", midpoint = 0) +\n",
    "  scale_size_continuous(range = c(3, 10)) + # Increase size of dots (min=3, max=10)\n",
    "  scale_y_discrete(limits = rev(levels(factor(filtered_df$pathway))),  # Reverse the y-axis order if needed\n",
    "                   labels = function(x) paste0(x, \"\\n\")) + # Add line breaks for extra vertical space\n",
    "  theme_minimal() +\n",
    "  theme(\n",
    "    panel.grid = element_blank(), # Remove grid lines\n",
    "    axis.text.y = element_text(size = 12), # Add vertical spacing for y-axis text\n",
    "    axis.text.x = element_text(angle = 20, hjust = 1, size = 16, vjust = 1), # Adjust x-axis text spacing\n",
    "    axis.ticks = element_line(linewidth = 0.3) # Adjust x-axis ticks with `linewidth`\n",
    "  ) +\n",
    "  labs(\n",
    "    x = \"\", \n",
    "    y = \"\", \n",
    "    size = \"-log10(padj)\", \n",
    "    fill = \"NES\", \n",
    "    title = \"\"\n",
    "  )\n",
    "\n",
    "# Display the plot\n",
    "print(heatmap_plot)"
   ]
  },
  {
   "cell_type": "code",
   "execution_count": 149,
   "id": "4c4efafb",
   "metadata": {},
   "outputs": [
    {
     "name": "stdout",
     "output_type": "stream",
     "text": [
      "[1] \"APOPTOSIS\"                         \"COMPLEMENT\"                       \n",
      "[3] \"EPITHELIAL_MESENCHYMAL_TRANSITION\" \"IL2_STAT5_SIGNALING\"              \n",
      "[5] \"INFLAMMATORY_RESPONSE\"             \"INTERFERON_ALPHA_RESPONSE\"        \n",
      "[7] \"INTERFERON_GAMMA_RESPONSE\"         \"TNFA_SIGNALING_VIA_NFKB\"          \n",
      "[9] \"XENOBIOTIC_METABOLISM\"            \n"
     ]
    }
   ],
   "source": [
    "%%R\n",
    "print(unique(filtered_df$pathway))"
   ]
  },
  {
   "cell_type": "code",
   "execution_count": 151,
   "id": "04b4dadb",
   "metadata": {},
   "outputs": [
    {
     "name": "stdout",
     "output_type": "stream",
     "text": [
      "[1] \"INTERFERON_GAMMA_RESPONSE\"         \"INTERFERON_ALPHA_RESPONSE\"        \n",
      "[3] \"EPITHELIAL_MESENCHYMAL_TRANSITION\" \"COMPLEMENT\"                       \n",
      "[5] \"TNFA_SIGNALING_VIA_NFKB\"           \"APOPTOSIS\"                        \n",
      "[7] \"XENOBIOTIC_METABOLISM\"             \"IL2_STAT5_SIGNALING\"              \n",
      "[9] \"INFLAMMATORY_RESPONSE\"            \n"
     ]
    }
   ],
   "source": [
    "%%R\n",
    "\n",
    "# Define the desired order for the pathways\n",
    "desired_pathway_order <- c(\n",
    "        \"INTERFERON_GAMMA_RESPONSE\",\n",
    "        \"INTERFERON_ALPHA_RESPONSE\",\n",
    "        \"EPITHELIAL_MESENCHYMAL_TRANSITION\",\n",
    "        \"COMPLEMENT\",\n",
    "        \"TNFA_SIGNALING_VIA_NFKB\",\n",
    "        \"APOPTOSIS\",\n",
    "        \"XENOBIOTIC_METABOLISM\",\n",
    "        \"IL2_STAT5_SIGNALING\",\n",
    "        \"INFLAMMATORY_RESPONSE\"\n",
    ")\n",
    "\n",
    "# Reorder the 'pathway' column in filtered_df\n",
    "filtered_df$pathway <- factor(filtered_df$pathway, levels = desired_pathway_order)\n",
    "\n",
    "# Verify the order\n",
    "print(levels(filtered_df$pathway))"
   ]
  },
  {
   "cell_type": "code",
   "execution_count": 152,
   "id": "aa01ab29",
   "metadata": {},
   "outputs": [
    {
     "name": "stdout",
     "output_type": "stream",
     "text": [
      "[1] \"INFLAMMATORY_RESPONSE\"             \"IL2_STAT5_SIGNALING\"              \n",
      "[3] \"XENOBIOTIC_METABOLISM\"             \"APOPTOSIS\"                        \n",
      "[5] \"TNFA_SIGNALING_VIA_NFKB\"           \"COMPLEMENT\"                       \n",
      "[7] \"EPITHELIAL_MESENCHYMAL_TRANSITION\" \"INTERFERON_ALPHA_RESPONSE\"        \n",
      "[9] \"INTERFERON_GAMMA_RESPONSE\"        \n"
     ]
    }
   ],
   "source": [
    "%%R\n",
    "# Reverse the desired pathway order\n",
    "reversed_pathway_order <- rev(desired_pathway_order)\n",
    "\n",
    "# Reorder the 'pathway' column in filtered_df\n",
    "filtered_df$pathway <- factor(filtered_df$pathway, levels = reversed_pathway_order)\n",
    "\n",
    "# Verify the reversed order\n",
    "print(levels(filtered_df$pathway))"
   ]
  },
  {
   "cell_type": "code",
   "execution_count": 153,
   "id": "61813c11",
   "metadata": {},
   "outputs": [
    {
     "name": "stdout",
     "output_type": "stream",
     "text": [
      "          INTERFERON_GAMMA_RESPONSE           INTERFERON_ALPHA_RESPONSE \n",
      "            \"Interferon-γ Response\"             \"Interferon-α Response\" \n",
      "  EPITHELIAL_MESENCHYMAL_TRANSITION                          COMPLEMENT \n",
      "\"Epithelial-Mesenchymal Transition\"                        \"Complement\" \n",
      "            TNFA_SIGNALING_VIA_NFKB                           APOPTOSIS \n",
      "         \"TNFα Signaling via NF-κB\"                         \"Apoptosis\" \n",
      "              XENOBIOTIC_METABOLISM                 IL2_STAT5_SIGNALING \n",
      "            \"Xenobiotic Metabolism\"              \"IL-2/STAT5 Signaling\" \n",
      "              INFLAMMATORY_RESPONSE \n",
      "            \"Inflammatory Response\" \n"
     ]
    }
   ],
   "source": [
    "%%R\n",
    "# Dictionary to format pathway names\n",
    "pathway_name_format <- list(\n",
    "    \"TNFA_SIGNALING_VIA_NFKB\" = \"TNFα Signaling via NF-κB\",\n",
    "    \"INTERFERON_GAMMA_RESPONSE\" = \"Interferon-γ Response\",\n",
    "    \"INTERFERON_ALPHA_RESPONSE\" = \"Interferon-α Response\",\n",
    "    \"APOPTOSIS\" = \"Apoptosis\",\n",
    "    \"IL2_STAT5_SIGNALING\" = \"IL-2/STAT5 Signaling\",\n",
    "    \"INFLAMMATORY_RESPONSE\" = \"Inflammatory Response\",\n",
    "    \"COMPLEMENT\" = \"Complement\",\n",
    "    \"EPITHELIAL_MESENCHYMAL_TRANSITION\" = \"Epithelial-Mesenchymal Transition\",\n",
    "    \"XENOBIOTIC_METABOLISM\" = \"Xenobiotic Metabolism\"\n",
    ")\n",
    "\n",
    "# Example usage: format pathway names in a vector\n",
    "formatted_pathways <- sapply(desired_pathway_order, function(x) pathway_name_format[[x]])\n",
    "\n",
    "# Print formatted names\n",
    "print(formatted_pathways)"
   ]
  },
  {
   "cell_type": "code",
   "execution_count": 154,
   "id": "de6e6c50",
   "metadata": {},
   "outputs": [
    {
     "name": "stdout",
     "output_type": "stream",
     "text": [
      "[1] \"Inflammatory Response\"             \"IL-2/STAT5 Signaling\"             \n",
      "[3] \"Xenobiotic Metabolism\"             \"Apoptosis\"                        \n",
      "[5] \"TNFα Signaling via NF-κB\"          \"Complement\"                       \n",
      "[7] \"Epithelial-Mesenchymal Transition\" \"Interferon-α Response\"            \n",
      "[9] \"Interferon-γ Response\"            \n"
     ]
    }
   ],
   "source": [
    "%%R\n",
    "\n",
    "# Define formatted pathway names dictionary\n",
    "pathway_name_format <- c(\n",
    "    \"TNFA_SIGNALING_VIA_NFKB\" = \"TNFα Signaling via NF-κB\",\n",
    "    \"INTERFERON_GAMMA_RESPONSE\" = \"Interferon-γ Response\",\n",
    "    \"INTERFERON_ALPHA_RESPONSE\" = \"Interferon-α Response\",\n",
    "    \"APOPTOSIS\" = \"Apoptosis\",\n",
    "    \"IL2_STAT5_SIGNALING\" = \"IL-2/STAT5 Signaling\",\n",
    "    \"INFLAMMATORY_RESPONSE\" = \"Inflammatory Response\",\n",
    "    \"COMPLEMENT\" = \"Complement\",\n",
    "    \"EPITHELIAL_MESENCHYMAL_TRANSITION\" = \"Epithelial-Mesenchymal Transition\",\n",
    "    \"XENOBIOTIC_METABOLISM\" = \"Xenobiotic Metabolism\"\n",
    ")\n",
    "\n",
    "\n",
    "# Reverse the desired pathway order\n",
    "reversed_pathway_order <- rev(desired_pathway_order)\n",
    "\n",
    "# Add formatted pathway names to the dataframe\n",
    "filtered_df$formatted_pathway <- pathway_name_format[as.character(filtered_df$pathway)]\n",
    "\n",
    "# Reorder the 'formatted_pathway' column based on reversed pathway order\n",
    "filtered_df$formatted_pathway <- factor(filtered_df$formatted_pathway, levels = pathway_name_format[reversed_pathway_order])\n",
    "\n",
    "# Verify the new order\n",
    "print(levels(filtered_df$formatted_pathway))"
   ]
  },
  {
   "cell_type": "code",
   "execution_count": 155,
   "id": "4709f84b",
   "metadata": {},
   "outputs": [
    {
     "data": {
      "image/png": "[encoded data removed]",
      "text/plain": [
       "<IPython.core.display.Image object>"
      ]
     },
     "metadata": {},
     "output_type": "display_data"
    }
   ],
   "source": [
    "%%R\n",
    "\n",
    "heatmap_plot <- ggplot(filtered_df, aes(y = pathway, x = condition, size = log_padj, fill = NES)) +\n",
    "  geom_point(shape = 21, stroke = 0.2, color = \"black\") +\n",
    "  scale_fill_gradient2(low = \"#c32148\", mid = \"white\", high = \"#0000FF\", midpoint = 0) +\n",
    "  scale_size_continuous(range = c(3, 10)) +\n",
    "  theme_minimal() +\n",
    "  theme(\n",
    "    panel.grid = element_blank(),\n",
    "    axis.text.y = element_text(size = 16, vjust = 0.5),\n",
    "    axis.text.x = element_text(angle = 30, hjust = 1, size = 16, vjust = 1),\n",
    "    axis.ticks = element_line(linewidth = 0.3),\n",
    "    axis.ticks.length = unit(0.2, \"cm\")\n",
    "  ) +\n",
    "  labs(\n",
    "    x = \"\", \n",
    "    y = \"\", \n",
    "    size = \"-log10(padj)\", \n",
    "    fill = \"NES\", \n",
    "    title = \"\"\n",
    "  )\n",
    "\n",
    "print(heatmap_plot)\n",
    "\n",
    "ggsave(\"./figures/GSEA/heatmap_pathway_NES_padj_MOL_only_ordered.png\", plot = heatmap_plot, dpi = 300, width = 7.5, height = 8)"
   ]
  },
  {
   "cell_type": "code",
   "execution_count": 156,
   "id": "5b353b85",
   "metadata": {},
   "outputs": [
    {
     "data": {
      "image/png": "[encoded data removed]",
      "text/plain": [
       "<IPython.core.display.Image object>"
      ]
     },
     "metadata": {},
     "output_type": "display_data"
    }
   ],
   "source": [
    "%%R\n",
    "\n",
    "# Create the heatmap plot\n",
    "heatmap_plot <- ggplot(filtered_df, aes(y = formatted_pathway, x = condition, size = log_padj, fill = NES)) +\n",
    "  geom_point(shape = 21, stroke = 0.2, color = \"black\") +\n",
    "  scale_fill_gradient2(low = \"#c32148\", mid = \"white\", high = \"#0000FF\", midpoint = 0) +\n",
    "  scale_size_continuous(range = c(3, 10)) +\n",
    "  theme_minimal() +\n",
    "  theme(\n",
    "    panel.grid = element_blank(),\n",
    "    axis.text.y = element_text(size = 16, vjust = 0.5),\n",
    "    axis.text.x = element_text(angle = 30, hjust = 1, size = 16, vjust = 1),\n",
    "    axis.ticks = element_line(linewidth = 0.3),\n",
    "    axis.ticks.length = unit(0.2, \"cm\")\n",
    "  ) +\n",
    "  labs(\n",
    "    x = \"\", \n",
    "    y = \"\", \n",
    "    size = \"-log10(padj)\", \n",
    "    fill = \"NES\", \n",
    "    title = \"\"\n",
    "  )\n",
    "\n",
    "# Print the heatmap\n",
    "print(heatmap_plot)\n",
    "\n",
    "# Save the heatmap plot\n",
    "ggsave(\"./figures/GSEA/heatmap_pathway_NES_padj_MOL_only_ordered.png\", plot = heatmap_plot, dpi = 300, width = 7.5, height = 8)"
   ]
  },
  {
   "cell_type": "code",
   "execution_count": null,
   "id": "00b02fa0",
   "metadata": {},
   "outputs": [],
   "source": []
  },
  {
   "cell_type": "code",
   "execution_count": null,
   "id": "50e4d776",
   "metadata": {},
   "outputs": [],
   "source": []
  }
 ],
 "metadata": {
  "kernelspec": {
   "display_name": "Python 3 (ipykernel)",
   "language": "python",
   "name": "python3"
  },
  "language_info": {
   "codemirror_mode": {
    "name": "ipython",
    "version": 3
   },
   "file_extension": ".py",
   "mimetype": "text/x-python",
   "name": "python",
   "nbconvert_exporter": "python",
   "pygments_lexer": "ipython3",
   "version": "3.11.11"
  }
 },
 "nbformat": 4,
 "nbformat_minor": 5
}

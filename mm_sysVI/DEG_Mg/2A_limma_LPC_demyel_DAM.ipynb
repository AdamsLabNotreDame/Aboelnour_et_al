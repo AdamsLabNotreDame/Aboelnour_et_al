{
 "cells": [
  {
   "cell_type": "code",
   "execution_count": 1,
   "id": "a4107cb9",
   "metadata": {},
   "outputs": [],
   "source": [
    "import warnings\n",
    "\n",
    "warnings.filterwarnings(\"ignore\")\n",
    "\n",
    "import matplotlib.pyplot as plt\n",
    "import seaborn as sns\n",
    "import scanpy as sc\n",
    "import pandas as pd\n",
    "import numpy as np\n",
    "import random\n",
    "import sc_toolbox\n",
    "import pertpy \n",
    "\n",
    "import rpy2.rinterface_lib.callbacks\n",
    "import anndata2ri\n",
    "import logging\n",
    "\n",
    "from rpy2.robjects import pandas2ri\n",
    "from rpy2.robjects import r\n",
    "\n",
    "sc.settings.verbosity = 0\n",
    "rpy2.rinterface_lib.callbacks.logger.setLevel(logging.ERROR)\n",
    "\n",
    "pandas2ri.activate()\n",
    "anndata2ri.activate()\n",
    "\n",
    "%load_ext rpy2.ipython"
   ]
  },
  {
   "cell_type": "code",
   "execution_count": 2,
   "id": "cd2ae648",
   "metadata": {},
   "outputs": [
    {
     "data": {
      "text/plain": [
       "Loading required package: limma\n"
      ]
     },
     "metadata": {},
     "output_type": "display_data"
    }
   ],
   "source": [
    "%%R\n",
    "library(edgeR)"
   ]
  },
  {
   "cell_type": "markdown",
   "id": "f783decd",
   "metadata": {},
   "source": [
    "# Running on XX cell types"
   ]
  },
  {
   "cell_type": "code",
   "execution_count": 3,
   "id": "1c0c911f",
   "metadata": {},
   "outputs": [
    {
     "data": {
      "text/plain": [
       "AnnData object with n_obs × n_vars = 49 × 17747\n",
       "    obs: 'publication', 'label', 'cell_type', 'replicate_cat', 'sample', 'sample_rep', 'batch', 'lib_size', 'log_lib_size', 'replicate'\n",
       "    uns: 'cell_type_colors', 'label_colors', 'log1p', 'pca', 'publication_colors', 'replicate_cat_colors', 'sample_colors', 'sample_rep_colors'\n",
       "    obsm: 'X_pca'\n",
       "    varm: 'PCs'\n",
       "    layers: 'counts'"
      ]
     },
     "execution_count": 3,
     "metadata": {},
     "output_type": "execute_result"
    }
   ],
   "source": [
    "adata_pb = sc.read('./pb_adata_LPC_Mg.h5ad')\n",
    "adata_pb"
   ]
  },
  {
   "cell_type": "code",
   "execution_count": 4,
   "id": "9c81bbd6",
   "metadata": {},
   "outputs": [
    {
     "data": {
      "text/html": [
       "<div>\n",
       "<style scoped>\n",
       "    .dataframe tbody tr th:only-of-type {\n",
       "        vertical-align: middle;\n",
       "    }\n",
       "\n",
       "    .dataframe tbody tr th {\n",
       "        vertical-align: top;\n",
       "    }\n",
       "\n",
       "    .dataframe thead th {\n",
       "        text-align: right;\n",
       "    }\n",
       "</style>\n",
       "<table border=\"1\" class=\"dataframe\">\n",
       "  <thead>\n",
       "    <tr style=\"text-align: right;\">\n",
       "      <th>label</th>\n",
       "      <th>ctrl</th>\n",
       "      <th>stim</th>\n",
       "    </tr>\n",
       "    <tr>\n",
       "      <th>cell_type</th>\n",
       "      <th></th>\n",
       "      <th></th>\n",
       "    </tr>\n",
       "  </thead>\n",
       "  <tbody>\n",
       "    <tr>\n",
       "      <th>BAMs</th>\n",
       "      <td>0</td>\n",
       "      <td>9</td>\n",
       "    </tr>\n",
       "    <tr>\n",
       "      <th>Mg_A</th>\n",
       "      <td>4</td>\n",
       "      <td>7</td>\n",
       "    </tr>\n",
       "    <tr>\n",
       "      <th>Mg_B</th>\n",
       "      <td>3</td>\n",
       "      <td>8</td>\n",
       "    </tr>\n",
       "    <tr>\n",
       "      <th>Mg_trt</th>\n",
       "      <td>3</td>\n",
       "      <td>9</td>\n",
       "    </tr>\n",
       "    <tr>\n",
       "      <th>cycl</th>\n",
       "      <td>0</td>\n",
       "      <td>6</td>\n",
       "    </tr>\n",
       "  </tbody>\n",
       "</table>\n",
       "</div>"
      ],
      "text/plain": [
       "label      ctrl  stim\n",
       "cell_type            \n",
       "BAMs          0     9\n",
       "Mg_A          4     7\n",
       "Mg_B          3     8\n",
       "Mg_trt        3     9\n",
       "cycl          0     6"
      ]
     },
     "execution_count": 4,
     "metadata": {},
     "output_type": "execute_result"
    }
   ],
   "source": [
    "# Extract the data as a pandas DataFrame\n",
    "df = adata_pb.obs[['cell_type', 'label']]\n",
    "\n",
    "# Create a summary table\n",
    "summary_table = df.groupby(['cell_type', 'label']).size().unstack(fill_value=0)\n",
    "summary_table"
   ]
  },
  {
   "cell_type": "code",
   "execution_count": 5,
   "id": "9e5a3fe0",
   "metadata": {},
   "outputs": [
    {
     "name": "stdout",
     "output_type": "stream",
     "text": [
      "Dimensions of adata_sub: (23, 17747)\n"
     ]
    }
   ],
   "source": [
    "adata_sub= adata_pb[np.in1d(adata_pb.obs['cell_type'], \n",
    "                           ['Mg_A', 'Mg_trt'])].copy()\n",
    "\n",
    "print(\"Dimensions of adata_sub:\", adata_sub.shape)"
   ]
  },
  {
   "cell_type": "code",
   "execution_count": 6,
   "id": "860aa9d1",
   "metadata": {},
   "outputs": [],
   "source": [
    "pub_map = {\n",
    "    '(this study)': 'Adams',\n",
    "    'Pandey et al. 2022': 'Pandey'\n",
    "}\n",
    "\n",
    "# Update the 'treatment_meta' column based on the mapping\n",
    "adata_sub.obs['batch'] = adata_sub.obs['publication'].map(pub_map)"
   ]
  },
  {
   "cell_type": "code",
   "execution_count": 7,
   "id": "5c9e6461",
   "metadata": {},
   "outputs": [],
   "source": [
    "# Concatenate 'individual_lesion_condition' and 'replicate' to create 'sample'\n",
    "adata_sub.obs['cell_type_sample'] = adata_sub.obs['cell_type'].astype(str) + '_' + adata_sub.obs['sample_rep'].astype(str)"
   ]
  },
  {
   "cell_type": "code",
   "execution_count": 8,
   "id": "5df79ed2",
   "metadata": {},
   "outputs": [
    {
     "data": {
      "text/html": [
       "<div>\n",
       "<style scoped>\n",
       "    .dataframe tbody tr th:only-of-type {\n",
       "        vertical-align: middle;\n",
       "    }\n",
       "\n",
       "    .dataframe tbody tr th {\n",
       "        vertical-align: top;\n",
       "    }\n",
       "\n",
       "    .dataframe thead th {\n",
       "        text-align: right;\n",
       "    }\n",
       "</style>\n",
       "<table border=\"1\" class=\"dataframe\">\n",
       "  <thead>\n",
       "    <tr style=\"text-align: right;\">\n",
       "      <th></th>\n",
       "      <th>publication</th>\n",
       "      <th>label</th>\n",
       "      <th>cell_type</th>\n",
       "      <th>replicate_cat</th>\n",
       "      <th>sample</th>\n",
       "      <th>sample_rep</th>\n",
       "      <th>batch</th>\n",
       "      <th>lib_size</th>\n",
       "      <th>log_lib_size</th>\n",
       "      <th>replicate</th>\n",
       "      <th>cell_type_sample</th>\n",
       "    </tr>\n",
       "  </thead>\n",
       "  <tbody>\n",
       "    <tr>\n",
       "      <th>donor_ctrl_1_0-0-0-0-0</th>\n",
       "      <td>(this study)</td>\n",
       "      <td>ctrl</td>\n",
       "      <td>Mg_A</td>\n",
       "      <td>1</td>\n",
       "      <td>ctrl_1</td>\n",
       "      <td>LPC_Saline_2</td>\n",
       "      <td>Adams</td>\n",
       "      <td>114835</td>\n",
       "      <td>11.651252</td>\n",
       "      <td>1</td>\n",
       "      <td>Mg_A_LPC_Saline_2</td>\n",
       "    </tr>\n",
       "    <tr>\n",
       "      <th>donor_ctrl_2_0-0-0-0-0</th>\n",
       "      <td>(this study)</td>\n",
       "      <td>ctrl</td>\n",
       "      <td>Mg_A</td>\n",
       "      <td>2</td>\n",
       "      <td>ctrl_2</td>\n",
       "      <td>LPC_Saline_1</td>\n",
       "      <td>Adams</td>\n",
       "      <td>269101</td>\n",
       "      <td>12.502842</td>\n",
       "      <td>2</td>\n",
       "      <td>Mg_A_LPC_Saline_1</td>\n",
       "    </tr>\n",
       "    <tr>\n",
       "      <th>donor_ctrl_4_0-0-0-0-0</th>\n",
       "      <td>Pandey et al. 2022</td>\n",
       "      <td>ctrl</td>\n",
       "      <td>Mg_A</td>\n",
       "      <td>4</td>\n",
       "      <td>ctrl_4</td>\n",
       "      <td>LPC_ctrl_2</td>\n",
       "      <td>Pandey</td>\n",
       "      <td>443698</td>\n",
       "      <td>13.002899</td>\n",
       "      <td>4</td>\n",
       "      <td>Mg_A_LPC_ctrl_2</td>\n",
       "    </tr>\n",
       "    <tr>\n",
       "      <th>donor_ctrl_5_0-0-0-0-0</th>\n",
       "      <td>Pandey et al. 2022</td>\n",
       "      <td>ctrl</td>\n",
       "      <td>Mg_A</td>\n",
       "      <td>5</td>\n",
       "      <td>ctrl_5</td>\n",
       "      <td>LPC_ctrl_1</td>\n",
       "      <td>Pandey</td>\n",
       "      <td>1883265</td>\n",
       "      <td>14.448518</td>\n",
       "      <td>5</td>\n",
       "      <td>Mg_A_LPC_ctrl_1</td>\n",
       "    </tr>\n",
       "    <tr>\n",
       "      <th>donor_stim_1_0-0-0-0-0</th>\n",
       "      <td>(this study)</td>\n",
       "      <td>stim</td>\n",
       "      <td>Mg_A</td>\n",
       "      <td>1</td>\n",
       "      <td>stim_1</td>\n",
       "      <td>LPC_7d_2</td>\n",
       "      <td>Adams</td>\n",
       "      <td>366936</td>\n",
       "      <td>12.812943</td>\n",
       "      <td>1</td>\n",
       "      <td>Mg_A_LPC_7d_2</td>\n",
       "    </tr>\n",
       "  </tbody>\n",
       "</table>\n",
       "</div>"
      ],
      "text/plain": [
       "                               publication label cell_type replicate_cat  \\\n",
       "donor_ctrl_1_0-0-0-0-0        (this study)  ctrl      Mg_A             1   \n",
       "donor_ctrl_2_0-0-0-0-0        (this study)  ctrl      Mg_A             2   \n",
       "donor_ctrl_4_0-0-0-0-0  Pandey et al. 2022  ctrl      Mg_A             4   \n",
       "donor_ctrl_5_0-0-0-0-0  Pandey et al. 2022  ctrl      Mg_A             5   \n",
       "donor_stim_1_0-0-0-0-0        (this study)  stim      Mg_A             1   \n",
       "\n",
       "                        sample    sample_rep   batch  lib_size  log_lib_size  \\\n",
       "donor_ctrl_1_0-0-0-0-0  ctrl_1  LPC_Saline_2   Adams    114835     11.651252   \n",
       "donor_ctrl_2_0-0-0-0-0  ctrl_2  LPC_Saline_1   Adams    269101     12.502842   \n",
       "donor_ctrl_4_0-0-0-0-0  ctrl_4    LPC_ctrl_2  Pandey    443698     13.002899   \n",
       "donor_ctrl_5_0-0-0-0-0  ctrl_5    LPC_ctrl_1  Pandey   1883265     14.448518   \n",
       "donor_stim_1_0-0-0-0-0  stim_1      LPC_7d_2   Adams    366936     12.812943   \n",
       "\n",
       "                       replicate   cell_type_sample  \n",
       "donor_ctrl_1_0-0-0-0-0         1  Mg_A_LPC_Saline_2  \n",
       "donor_ctrl_2_0-0-0-0-0         2  Mg_A_LPC_Saline_1  \n",
       "donor_ctrl_4_0-0-0-0-0         4    Mg_A_LPC_ctrl_2  \n",
       "donor_ctrl_5_0-0-0-0-0         5    Mg_A_LPC_ctrl_1  \n",
       "donor_stim_1_0-0-0-0-0         1      Mg_A_LPC_7d_2  "
      ]
     },
     "execution_count": 8,
     "metadata": {},
     "output_type": "execute_result"
    }
   ],
   "source": [
    "adata_sub.obs[:5]"
   ]
  },
  {
   "cell_type": "markdown",
   "id": "e2f53bd1",
   "metadata": {},
   "source": [
    "# Subset for demyelination and remyelination MOL2 data"
   ]
  },
  {
   "cell_type": "code",
   "execution_count": 9,
   "id": "19c4e015",
   "metadata": {},
   "outputs": [
    {
     "name": "stdout",
     "output_type": "stream",
     "text": [
      "Mg_A_LPC_Saline_2\n",
      "Mg_A_LPC_Saline_1\n",
      "Mg_A_LPC_ctrl_2\n",
      "Mg_A_LPC_ctrl_1\n",
      "Mg_A_LPC_7d_2\n",
      "Mg_A_LPC_5d_4\n",
      "Mg_A_LPC_7d_1\n",
      "Mg_A_LPC_5d_1\n",
      "Mg_A_LPC_28d_3\n",
      "Mg_A_LPC_28d_1\n",
      "Mg_A_LPC_28d_2\n",
      "Mg_trt_LPC_Saline_2\n",
      "Mg_trt_LPC_Saline_1\n",
      "Mg_trt_LPC_ctrl_1\n",
      "Mg_trt_LPC_7d_2\n",
      "Mg_trt_LPC_5d_4\n",
      "Mg_trt_LPC_7d_1\n",
      "Mg_trt_LPC_5d_1\n",
      "Mg_trt_LPC_5d_3\n",
      "Mg_trt_LPC_28d_3\n",
      "Mg_trt_LPC_28d_1\n",
      "Mg_trt_LPC_5d_2\n",
      "Mg_trt_LPC_28d_2\n"
     ]
    }
   ],
   "source": [
    "# Unique values in the 'condition' column\n",
    "unique_conditions = adata_sub.obs['cell_type_sample'].unique()\n",
    "for condition in unique_conditions:\n",
    "    print(condition)"
   ]
  },
  {
   "cell_type": "code",
   "execution_count": 10,
   "id": "4a947f7b",
   "metadata": {},
   "outputs": [
    {
     "name": "stdout",
     "output_type": "stream",
     "text": [
      "Dimensions of adata_sub: (10, 17747)\n"
     ]
    }
   ],
   "source": [
    "adata_sub= adata_sub[np.in1d(adata_sub.obs['cell_type_sample'], \n",
    "                           [\n",
    "                            'Mg_A_LPC_Saline_2',\n",
    "                            'Mg_A_LPC_Saline_1',\n",
    "                            'Mg_A_LPC_ctrl_2',\n",
    "                            'Mg_A_LPC_ctrl_1',\n",
    "                            'Mg_trt_LPC_7d_2',\n",
    "                            'Mg_trt_LPC_5d_4',\n",
    "                            'Mg_trt_LPC_7d_1',\n",
    "                            'Mg_trt_LPC_5d_1',\n",
    "                            'Mg_trt_LPC_5d_3',\n",
    "                            'Mg_trt_LPC_5d_2'                 \n",
    "                           ])].copy()\n",
    "\n",
    "print(\"Dimensions of adata_sub:\", adata_sub.shape)"
   ]
  },
  {
   "cell_type": "code",
   "execution_count": 11,
   "id": "004f16ab",
   "metadata": {},
   "outputs": [],
   "source": [
    "# Check if the 'sample_rep' column exists\n",
    "if 'sample_rep' in adata_sub.obs.columns:\n",
    "    # Set the 'sample_rep' column as the index\n",
    "    adata_sub.obs.set_index('sample_rep', inplace=True)\n",
    "else:\n",
    "    print(\"The column 'sample_rep' does not exist in adata_sub.obs.\")\n",
    "\n",
    "adata_sub.obs.index.name = None"
   ]
  },
  {
   "cell_type": "code",
   "execution_count": 12,
   "id": "65c8ca68",
   "metadata": {},
   "outputs": [
    {
     "data": {
      "text/html": [
       "<div>\n",
       "<style scoped>\n",
       "    .dataframe tbody tr th:only-of-type {\n",
       "        vertical-align: middle;\n",
       "    }\n",
       "\n",
       "    .dataframe tbody tr th {\n",
       "        vertical-align: top;\n",
       "    }\n",
       "\n",
       "    .dataframe thead th {\n",
       "        text-align: right;\n",
       "    }\n",
       "</style>\n",
       "<table border=\"1\" class=\"dataframe\">\n",
       "  <thead>\n",
       "    <tr style=\"text-align: right;\">\n",
       "      <th></th>\n",
       "      <th>publication</th>\n",
       "      <th>label</th>\n",
       "      <th>cell_type</th>\n",
       "      <th>replicate_cat</th>\n",
       "      <th>sample</th>\n",
       "      <th>batch</th>\n",
       "      <th>lib_size</th>\n",
       "      <th>log_lib_size</th>\n",
       "      <th>replicate</th>\n",
       "      <th>cell_type_sample</th>\n",
       "    </tr>\n",
       "  </thead>\n",
       "  <tbody>\n",
       "    <tr>\n",
       "      <th>LPC_Saline_2</th>\n",
       "      <td>(this study)</td>\n",
       "      <td>ctrl</td>\n",
       "      <td>Mg_A</td>\n",
       "      <td>1</td>\n",
       "      <td>ctrl_1</td>\n",
       "      <td>Adams</td>\n",
       "      <td>114835</td>\n",
       "      <td>11.651252</td>\n",
       "      <td>1</td>\n",
       "      <td>Mg_A_LPC_Saline_2</td>\n",
       "    </tr>\n",
       "    <tr>\n",
       "      <th>LPC_Saline_1</th>\n",
       "      <td>(this study)</td>\n",
       "      <td>ctrl</td>\n",
       "      <td>Mg_A</td>\n",
       "      <td>2</td>\n",
       "      <td>ctrl_2</td>\n",
       "      <td>Adams</td>\n",
       "      <td>269101</td>\n",
       "      <td>12.502842</td>\n",
       "      <td>2</td>\n",
       "      <td>Mg_A_LPC_Saline_1</td>\n",
       "    </tr>\n",
       "    <tr>\n",
       "      <th>LPC_ctrl_2</th>\n",
       "      <td>Pandey et al. 2022</td>\n",
       "      <td>ctrl</td>\n",
       "      <td>Mg_A</td>\n",
       "      <td>4</td>\n",
       "      <td>ctrl_4</td>\n",
       "      <td>Pandey</td>\n",
       "      <td>443698</td>\n",
       "      <td>13.002899</td>\n",
       "      <td>4</td>\n",
       "      <td>Mg_A_LPC_ctrl_2</td>\n",
       "    </tr>\n",
       "    <tr>\n",
       "      <th>LPC_ctrl_1</th>\n",
       "      <td>Pandey et al. 2022</td>\n",
       "      <td>ctrl</td>\n",
       "      <td>Mg_A</td>\n",
       "      <td>5</td>\n",
       "      <td>ctrl_5</td>\n",
       "      <td>Pandey</td>\n",
       "      <td>1883265</td>\n",
       "      <td>14.448518</td>\n",
       "      <td>5</td>\n",
       "      <td>Mg_A_LPC_ctrl_1</td>\n",
       "    </tr>\n",
       "    <tr>\n",
       "      <th>LPC_7d_2</th>\n",
       "      <td>(this study)</td>\n",
       "      <td>stim</td>\n",
       "      <td>Mg_trt</td>\n",
       "      <td>1</td>\n",
       "      <td>stim_1</td>\n",
       "      <td>Adams</td>\n",
       "      <td>1954137</td>\n",
       "      <td>14.485459</td>\n",
       "      <td>1</td>\n",
       "      <td>Mg_trt_LPC_7d_2</td>\n",
       "    </tr>\n",
       "    <tr>\n",
       "      <th>LPC_5d_4</th>\n",
       "      <td>Pandey et al. 2022</td>\n",
       "      <td>stim</td>\n",
       "      <td>Mg_trt</td>\n",
       "      <td>11</td>\n",
       "      <td>stim_11</td>\n",
       "      <td>Pandey</td>\n",
       "      <td>69556737</td>\n",
       "      <td>18.057653</td>\n",
       "      <td>11</td>\n",
       "      <td>Mg_trt_LPC_5d_4</td>\n",
       "    </tr>\n",
       "    <tr>\n",
       "      <th>LPC_7d_1</th>\n",
       "      <td>(this study)</td>\n",
       "      <td>stim</td>\n",
       "      <td>Mg_trt</td>\n",
       "      <td>2</td>\n",
       "      <td>stim_2</td>\n",
       "      <td>Adams</td>\n",
       "      <td>3254539</td>\n",
       "      <td>14.995561</td>\n",
       "      <td>2</td>\n",
       "      <td>Mg_trt_LPC_7d_1</td>\n",
       "    </tr>\n",
       "    <tr>\n",
       "      <th>LPC_5d_1</th>\n",
       "      <td>Pandey et al. 2022</td>\n",
       "      <td>stim</td>\n",
       "      <td>Mg_trt</td>\n",
       "      <td>3</td>\n",
       "      <td>stim_3</td>\n",
       "      <td>Pandey</td>\n",
       "      <td>32796382</td>\n",
       "      <td>17.305829</td>\n",
       "      <td>3</td>\n",
       "      <td>Mg_trt_LPC_5d_1</td>\n",
       "    </tr>\n",
       "    <tr>\n",
       "      <th>LPC_5d_3</th>\n",
       "      <td>Pandey et al. 2022</td>\n",
       "      <td>stim</td>\n",
       "      <td>Mg_trt</td>\n",
       "      <td>4</td>\n",
       "      <td>stim_4</td>\n",
       "      <td>Pandey</td>\n",
       "      <td>22668898</td>\n",
       "      <td>16.936504</td>\n",
       "      <td>4</td>\n",
       "      <td>Mg_trt_LPC_5d_3</td>\n",
       "    </tr>\n",
       "    <tr>\n",
       "      <th>LPC_5d_2</th>\n",
       "      <td>Pandey et al. 2022</td>\n",
       "      <td>stim</td>\n",
       "      <td>Mg_trt</td>\n",
       "      <td>7</td>\n",
       "      <td>stim_7</td>\n",
       "      <td>Pandey</td>\n",
       "      <td>12597375</td>\n",
       "      <td>16.348999</td>\n",
       "      <td>7</td>\n",
       "      <td>Mg_trt_LPC_5d_2</td>\n",
       "    </tr>\n",
       "  </tbody>\n",
       "</table>\n",
       "</div>"
      ],
      "text/plain": [
       "                     publication label cell_type replicate_cat   sample  \\\n",
       "LPC_Saline_2        (this study)  ctrl      Mg_A             1   ctrl_1   \n",
       "LPC_Saline_1        (this study)  ctrl      Mg_A             2   ctrl_2   \n",
       "LPC_ctrl_2    Pandey et al. 2022  ctrl      Mg_A             4   ctrl_4   \n",
       "LPC_ctrl_1    Pandey et al. 2022  ctrl      Mg_A             5   ctrl_5   \n",
       "LPC_7d_2            (this study)  stim    Mg_trt             1   stim_1   \n",
       "LPC_5d_4      Pandey et al. 2022  stim    Mg_trt            11  stim_11   \n",
       "LPC_7d_1            (this study)  stim    Mg_trt             2   stim_2   \n",
       "LPC_5d_1      Pandey et al. 2022  stim    Mg_trt             3   stim_3   \n",
       "LPC_5d_3      Pandey et al. 2022  stim    Mg_trt             4   stim_4   \n",
       "LPC_5d_2      Pandey et al. 2022  stim    Mg_trt             7   stim_7   \n",
       "\n",
       "               batch  lib_size  log_lib_size replicate   cell_type_sample  \n",
       "LPC_Saline_2   Adams    114835     11.651252         1  Mg_A_LPC_Saline_2  \n",
       "LPC_Saline_1   Adams    269101     12.502842         2  Mg_A_LPC_Saline_1  \n",
       "LPC_ctrl_2    Pandey    443698     13.002899         4    Mg_A_LPC_ctrl_2  \n",
       "LPC_ctrl_1    Pandey   1883265     14.448518         5    Mg_A_LPC_ctrl_1  \n",
       "LPC_7d_2       Adams   1954137     14.485459         1    Mg_trt_LPC_7d_2  \n",
       "LPC_5d_4      Pandey  69556737     18.057653        11    Mg_trt_LPC_5d_4  \n",
       "LPC_7d_1       Adams   3254539     14.995561         2    Mg_trt_LPC_7d_1  \n",
       "LPC_5d_1      Pandey  32796382     17.305829         3    Mg_trt_LPC_5d_1  \n",
       "LPC_5d_3      Pandey  22668898     16.936504         4    Mg_trt_LPC_5d_3  \n",
       "LPC_5d_2      Pandey  12597375     16.348999         7    Mg_trt_LPC_5d_2  "
      ]
     },
     "execution_count": 12,
     "metadata": {},
     "output_type": "execute_result"
    }
   ],
   "source": [
    "adata_sub.obs"
   ]
  },
  {
   "cell_type": "markdown",
   "id": "410e9eb5",
   "metadata": {},
   "source": [
    "# Rename the MOL clusters for NEW letter based nomenclature"
   ]
  },
  {
   "cell_type": "code",
   "execution_count": 13,
   "id": "c27be2e8",
   "metadata": {},
   "outputs": [
    {
     "name": "stdout",
     "output_type": "stream",
     "text": [
      "[[  0   0   2   0  11]\n",
      " [  0   6   2   3  12]\n",
      " [  0  11   2   2  16]\n",
      " [  0  21   3  12  42]\n",
      " [  7   5  14  11 135]]\n"
     ]
    }
   ],
   "source": [
    "#Check the counts data\n",
    "print(adata_sub.X[:5, :5])"
   ]
  },
  {
   "cell_type": "markdown",
   "id": "bb668794",
   "metadata": {},
   "source": [
    "# Start R code: QC of log transformation"
   ]
  },
  {
   "cell_type": "code",
   "execution_count": 14,
   "id": "a2639073",
   "metadata": {},
   "outputs": [
    {
     "name": "stdout",
     "output_type": "stream",
     "text": [
      "             Group Reps  Batch\n",
      "LPC_Saline_2  ctrl    1  Adams\n",
      "LPC_Saline_1  ctrl    2  Adams\n",
      "LPC_ctrl_2    ctrl    4 Pandey\n",
      "LPC_ctrl_1    ctrl    5 Pandey\n",
      "LPC_7d_2      stim    1  Adams\n",
      "LPC_5d_4      stim   11 Pandey\n",
      "LPC_7d_1      stim    2  Adams\n",
      "LPC_5d_1      stim    3 Pandey\n",
      "LPC_5d_3      stim    4 Pandey\n",
      "LPC_5d_2      stim    7 Pandey\n"
     ]
    }
   ],
   "source": [
    "%%R -i adata_sub\n",
    "\n",
    "# Concatenate label and cell type for group factor\n",
    "group <- colData(adata_sub)$label #ctrl or stim\n",
    "replicate <- colData(adata_sub)$replicate #replicate number\n",
    "batch <- colData(adata_sub)$batch\n",
    "\n",
    "treatments <- data.frame(\"Group\"=group, \"Reps\"=replicate, \"Batch\"= batch)\n",
    "print(treatments)"
   ]
  },
  {
   "cell_type": "code",
   "execution_count": 15,
   "id": "8176fc6d",
   "metadata": {},
   "outputs": [
    {
     "name": "stdout",
     "output_type": "stream",
     "text": [
      "[1] \"Dimensions before subsetting:\"\n",
      "[1] 17747    10\n",
      "\n",
      "ctrl stim \n",
      "   4    6 \n"
     ]
    }
   ],
   "source": [
    "%%R\n",
    "\n",
    "#Create a DGElist object using the anndata counts in 'X'\n",
    "x <- DGEList(assay(adata_sub, \"X\"), group=colData(adata_sub)$label)\n",
    "\n",
    "samplenames <- colnames(x$counts)\n",
    "\n",
    "print(\"Dimensions before subsetting:\")\n",
    "print(dim(x))\n",
    "\n",
    "# Check counts per group before filtering\n",
    "print(table(x$samples$group))"
   ]
  },
  {
   "cell_type": "code",
   "execution_count": 17,
   "id": "7646b7f4",
   "metadata": {},
   "outputs": [
    {
     "name": "stdout",
     "output_type": "stream",
     "text": [
      " [1] ctrl ctrl ctrl ctrl stim stim stim stim stim stim\n",
      "Levels: ctrl stim\n",
      "   cdctrl cdstim\n",
      "1       1      0\n",
      "2       1      0\n",
      "3       1      0\n",
      "4       1      0\n",
      "5       0      1\n",
      "6       0      1\n",
      "7       0      1\n",
      "8       0      1\n",
      "9       0      1\n",
      "10      0      1\n",
      "attr(,\"assign\")\n",
      "[1] 1 1\n",
      "attr(,\"contrasts\")\n",
      "attr(,\"contrasts\")$cd\n",
      "[1] \"contr.treatment\"\n",
      "\n"
     ]
    }
   ],
   "source": [
    "%%R\n",
    "\n",
    "cd <- x$samples$group\n",
    "print(cd)\n",
    "\n",
    "# Adjust for batch-- ie publication in the model matrix\n",
    "design <- model.matrix(~0 + cd)\n",
    "print(design)"
   ]
  },
  {
   "cell_type": "code",
   "execution_count": 18,
   "id": "732f53fd",
   "metadata": {},
   "outputs": [
    {
     "name": "stdout",
     "output_type": "stream",
     "text": [
      "[1] 10659    10\n"
     ]
    }
   ],
   "source": [
    "%%R\n",
    "\n",
    "## OLD DON\"T USE THIS\n",
    "\n",
    "keep.exprs <- filterByExpr(x, group=batch)\n",
    "b <- x[keep.exprs,, keep.lib.sizes=FALSE]\n",
    "dim(b)"
   ]
  },
  {
   "cell_type": "code",
   "execution_count": 19,
   "id": "a53ca1e4",
   "metadata": {},
   "outputs": [
    {
     "name": "stdout",
     "output_type": "stream",
     "text": [
      "[1] 10659    10\n"
     ]
    }
   ],
   "source": [
    "%%R\n",
    "# More strict removal of genes, tried group, pub and batch\n",
    "keep.exprs <- filterByExpr(x, group=batch)\n",
    "x2 <- x[keep.exprs,, keep.lib.sizes=FALSE]\n",
    "dim(x2)"
   ]
  },
  {
   "cell_type": "code",
   "execution_count": 20,
   "id": "eff91fce",
   "metadata": {},
   "outputs": [
    {
     "name": "stdout",
     "output_type": "stream",
     "text": [
      "[1] 14.491552  2.573566\n"
     ]
    }
   ],
   "source": [
    "%%R\n",
    "#X is before trimming, Y is after trimming\n",
    "L <- mean(x2$samples$lib.size) * 1e-6\n",
    "M <- median(x2$samples$lib.size) * 1e-6\n",
    "c(L, M)"
   ]
  },
  {
   "cell_type": "code",
   "execution_count": 21,
   "id": "ed52de22",
   "metadata": {},
   "outputs": [
    {
     "name": "stdout",
     "output_type": "stream",
     "text": [
      " [1] 1.6847067 1.4978523 0.9588399 0.9011815 1.2783367 0.7571295 1.2600982\n",
      " [8] 0.7831279 0.7228257 0.6642969\n"
     ]
    }
   ],
   "source": [
    "%%R\n",
    "## Calc norm factors before to normalize library sizes, then cpm divides counts by lib sizes\n",
    "#X is before trimming, Y is after trimming, X2 is also trimmed but differently\n",
    "x2 <- calcNormFactors(x2, method = \"TMM\")\n",
    "x2$samples$norm.factors"
   ]
  },
  {
   "cell_type": "code",
   "execution_count": 22,
   "id": "995a9487",
   "metadata": {},
   "outputs": [],
   "source": [
    "%%R\n",
    "#X2 is the norm lib sizes and trimmed\n",
    "cpm <- edgeR::cpm(x2, log=FALSE, prior.counts=3)\n",
    "lcpm <- edgeR::cpm(x2, log=TRUE, prior.count=3)"
   ]
  },
  {
   "cell_type": "code",
   "execution_count": 23,
   "id": "1c21200d",
   "metadata": {},
   "outputs": [
    {
     "data": {
      "image/png": "[encoded data removed]",
      "text/plain": [
       "<IPython.core.display.Image object>"
      ]
     },
     "metadata": {},
     "output_type": "display_data"
    }
   ],
   "source": [
    "%%R\n",
    "lcpm.cutoff <- log2(10/M + 2/L)\n",
    "library(RColorBrewer)\n",
    "nsamples <- ncol(x2)\n",
    "col <- brewer.pal(nsamples, \"Paired\")\n",
    "\n",
    "par(mfrow=c(1,2))\n",
    "\n",
    "lcpm <- edgeR::cpm(x, log=TRUE)\n",
    "plot(density(lcpm[,1]), col=col[1], lwd=2, ylim=c(0,0.35), las=2, main=\"\", xlab=\"\")\n",
    "title(main=\"A. Raw data\", xlab=\"Log-cpm\")\n",
    "abline(v=lcpm.cutoff, lty=3)\n",
    "for (i in 2:nsamples){\n",
    "  den <- density(lcpm[,i])\n",
    "  lines(den$x, den$y, col=col[i], lwd=2)\n",
    "}\n",
    "legend(\"topright\", samplenames, text.col=col, bty=\"n\")\n",
    "\n",
    "lcpm <- edgeR::cpm(x2, log=TRUE)\n",
    "plot(density(lcpm[,1]), col=col[1], lwd=2, ylim=c(0,0.25), las=2, main=\"\", xlab=\"\")\n",
    "title(main=\"B. Filtered data\", xlab=\"Log-cpm\")\n",
    "abline(v=lcpm.cutoff, lty=3)\n",
    "for (i in 2:nsamples){\n",
    "  den <- density(lcpm[,i])\n",
    "  lines(den$x, den$y, col=col[i], lwd=2)\n",
    "}\n",
    "legend(\"topright\", samplenames, text.col=col, bty=\"n\")"
   ]
  },
  {
   "cell_type": "code",
   "execution_count": 24,
   "id": "0a231181",
   "metadata": {},
   "outputs": [
    {
     "data": {
      "image/png": "[encoded data removed]",
      "text/plain": [
       "<IPython.core.display.Image object>"
      ]
     },
     "metadata": {},
     "output_type": "display_data"
    }
   ],
   "source": [
    "%%R\n",
    "y2 <- x2\n",
    "y2$samples$norm.factors <- 1\n",
    "y2$counts[,1] <- ceiling(y2$counts[,1]*0.05)\n",
    "y2$counts[,2] <- y2$counts[,2]*5\n",
    "\n",
    "par(mfrow=c(1,2))\n",
    "lcpm <- edgeR::cpm(y2, log=TRUE)\n",
    "boxplot(lcpm, las=2, col=col, main=\"\")\n",
    "title(main=\"Unnormalised data\", ylab=\"Log-cpm\")\n",
    "\n",
    "y3 <- calcNormFactors(y2)\n",
    "y3$samples$norm.factors\n",
    "\n",
    "lcpm <- edgeR::cpm(y3, log=TRUE)\n",
    "boxplot(lcpm, las=2, col=col, main=\"\")\n",
    "title(main=\"Normalised data\", ylab=\"Log-cpm\")"
   ]
  },
  {
   "cell_type": "markdown",
   "id": "6ededd16",
   "metadata": {},
   "source": [
    "# Show how log transf + batch removal affects the separation of samples:"
   ]
  },
  {
   "cell_type": "code",
   "execution_count": 25,
   "id": "50f77fc0",
   "metadata": {},
   "outputs": [
    {
     "name": "stdout",
     "output_type": "stream",
     "text": [
      " [1] ctrl ctrl ctrl ctrl stim stim stim stim stim stim\n",
      "Levels: ctrl stim\n"
     ]
    }
   ],
   "source": [
    "%%R\n",
    "cd <- x2$samples$group\n",
    "print(cd)"
   ]
  },
  {
   "cell_type": "code",
   "execution_count": 26,
   "id": "2e68e94f",
   "metadata": {},
   "outputs": [],
   "source": [
    "%%R\n",
    "#Make new count matrix with log counts and DGE data from X2 (trimmed, normfactors)\n",
    "x3 <- x2\n",
    "x3$counts <- lcpm"
   ]
  },
  {
   "cell_type": "code",
   "execution_count": 27,
   "id": "4f317f45",
   "metadata": {},
   "outputs": [
    {
     "data": {
      "image/png": "[encoded data removed]",
      "text/plain": [
       "<IPython.core.display.Image object>"
      ]
     },
     "metadata": {},
     "output_type": "display_data"
    }
   ],
   "source": [
    "%%R\n",
    "# Assuming 'group' is stored in y$samples dataframe\n",
    "group <- x2$samples$group\n",
    "\n",
    "# Generate a numeric vector from group factors (if not already factor, convert it)\n",
    "group_factor <- as.factor(group)\n",
    "group_colors <- as.numeric(group_factor)  # This converts factors to unique integers\n",
    "\n",
    "# Define a set of colors corresponding to the factors\n",
    "# Example: If you have two groups, you could define two colors\n",
    "colors <- c(\"blue\", \"red\")  # Adjust the number and colors based on your actual groups\n",
    "\n",
    "# Use these colors in your plotMDS\n",
    "plotMDS(x2, col = colors[group_colors])\n",
    "\n",
    "# Adding a legend for clarity\n",
    "legend(\"topright\", legend=levels(group_factor), fill=colors, title=\"Group\")"
   ]
  },
  {
   "cell_type": "code",
   "execution_count": 28,
   "id": "95f36cf5",
   "metadata": {},
   "outputs": [
    {
     "data": {
      "image/png": "[encoded data removed]",
      "text/plain": [
       "<IPython.core.display.Image object>"
      ]
     },
     "metadata": {},
     "output_type": "display_data"
    }
   ],
   "source": [
    "%%R\n",
    "# Generate a numeric vector from group factors (if not already factor, convert it)\n",
    "pub_factor <- as.factor(batch)\n",
    "pub_colors <- as.numeric(pub_factor)  # This converts factors to unique integers\n",
    "\n",
    "# Define a set of colors corresponding to the factors\n",
    "# Example: If you have two groups, you could define two colors\n",
    "colors <- c(\"green\", \"purple\")  # Adjust the number and colors based on your actual groups\n",
    "\n",
    "# Use these colors in your plotMDS\n",
    "plotMDS(x2, col = colors[pub_colors])\n",
    "\n",
    "# Adding a legend for clarity\n",
    "legend(\"topright\", legend=levels(pub_factor), fill=colors, title=\"Group\")"
   ]
  },
  {
   "cell_type": "code",
   "execution_count": 29,
   "id": "5700c6ae",
   "metadata": {},
   "outputs": [
    {
     "name": "stdout",
     "output_type": "stream",
     "text": [
      "             group lib.size norm.factors\n",
      "LPC_Saline_2  ctrl   113781    1.6847067\n",
      "LPC_Saline_1  ctrl   266559    1.4978523\n",
      "LPC_ctrl_2    ctrl   440359    0.9588399\n",
      "LPC_ctrl_1    ctrl  1871701    0.9011815\n",
      "LPC_7d_2      stim  1927819    1.2783367\n",
      "LPC_5d_4      stim 69263421    0.7571295\n",
      "LPC_7d_1      stim  3219313    1.2600982\n",
      "LPC_5d_1      stim 32670805    0.7831279\n",
      "LPC_5d_3      stim 22596963    0.7228257\n",
      "LPC_5d_2      stim 12544804    0.6642969\n"
     ]
    }
   ],
   "source": [
    "%%R\n",
    "\n",
    "x3$samples"
   ]
  },
  {
   "cell_type": "code",
   "execution_count": 30,
   "id": "a3c165e9",
   "metadata": {},
   "outputs": [
    {
     "name": "stdout",
     "output_type": "stream",
     "text": [
      "   cdctrl cdstim\n",
      "1       1      0\n",
      "2       1      0\n",
      "3       1      0\n",
      "4       1      0\n",
      "5       0      1\n",
      "6       0      1\n",
      "7       0      1\n",
      "8       0      1\n",
      "9       0      1\n",
      "10      0      1\n",
      "attr(,\"assign\")\n",
      "[1] 1 1\n",
      "attr(,\"contrasts\")\n",
      "attr(,\"contrasts\")$cd\n",
      "[1] \"contr.treatment\"\n",
      "\n"
     ]
    }
   ],
   "source": [
    "%%R\n",
    "# Adjust for batch-- ie publication in the model matrix\n",
    "design <- model.matrix(~0 + cd)\n",
    "design"
   ]
  },
  {
   "cell_type": "code",
   "execution_count": 31,
   "id": "ebd3bc3a",
   "metadata": {},
   "outputs": [
    {
     "name": "stdout",
     "output_type": "stream",
     "text": [
      "        Contrasts\n",
      "Levels   cdstim - cdctrl\n",
      "  cdctrl              -1\n",
      "  cdstim               1\n"
     ]
    }
   ],
   "source": [
    "%%R\n",
    "contr.matrix <- makeContrasts(cdstim - cdctrl, levels = colnames(design))\n",
    "contr.matrix"
   ]
  },
  {
   "cell_type": "code",
   "execution_count": 32,
   "id": "93bc6589",
   "metadata": {},
   "outputs": [],
   "source": [
    "%%R\n",
    "# Convert to CPM and log2 transformation. \n",
    "logCPM <- edgeR::cpm(x2, log=TRUE, prior.count=3)"
   ]
  },
  {
   "cell_type": "code",
   "execution_count": 33,
   "id": "663eb21e",
   "metadata": {},
   "outputs": [],
   "source": [
    "%%R\n",
    "#Batch is set to the publication of origin to remove effects between sample origins\n",
    "logCPM_no_batch <- removeBatchEffect(logCPM, batch=batch) "
   ]
  },
  {
   "cell_type": "code",
   "execution_count": 34,
   "id": "aca27a7e",
   "metadata": {},
   "outputs": [
    {
     "data": {
      "image/png": "[encoded data removed]",
      "text/plain": [
       "<IPython.core.display.Image object>"
      ]
     },
     "metadata": {},
     "output_type": "display_data"
    }
   ],
   "source": [
    "%%R\n",
    "heatmap(logCPM)"
   ]
  },
  {
   "cell_type": "code",
   "execution_count": 35,
   "id": "ba624f0e",
   "metadata": {},
   "outputs": [
    {
     "data": {
      "image/png": "[encoded data removed]",
      "text/plain": [
       "<IPython.core.display.Image object>"
      ]
     },
     "metadata": {},
     "output_type": "display_data"
    }
   ],
   "source": [
    "%%R\n",
    "heatmap(logCPM_no_batch)"
   ]
  },
  {
   "cell_type": "markdown",
   "id": "c8808abd",
   "metadata": {},
   "source": [
    "# Voom with quality weights"
   ]
  },
  {
   "cell_type": "code",
   "execution_count": 36,
   "id": "24264a22",
   "metadata": {},
   "outputs": [
    {
     "name": "stdout",
     "output_type": "stream",
     "text": [
      "   cdctrl cdstim\n",
      "1       1      0\n",
      "2       1      0\n",
      "3       1      0\n",
      "4       1      0\n",
      "5       0      1\n",
      "6       0      1\n",
      "7       0      1\n",
      "8       0      1\n",
      "9       0      1\n",
      "10      0      1\n",
      "attr(,\"assign\")\n",
      "[1] 1 1\n",
      "attr(,\"contrasts\")\n",
      "attr(,\"contrasts\")$cd\n",
      "[1] \"contr.treatment\"\n",
      "\n"
     ]
    }
   ],
   "source": [
    "%%R\n",
    "# Adjust for batch-- ie publication in the model matrix\n",
    "design <- model.matrix(~0 + cd)\n",
    "design"
   ]
  },
  {
   "cell_type": "code",
   "execution_count": 37,
   "id": "35f69092",
   "metadata": {},
   "outputs": [
    {
     "name": "stdout",
     "output_type": "stream",
     "text": [
      "        Contrasts\n",
      "Levels   cdstim - cdctrl\n",
      "  cdctrl              -1\n",
      "  cdstim               1\n"
     ]
    }
   ],
   "source": [
    "%%R\n",
    "contr.matrix <- makeContrasts(cdstim - cdctrl, levels = colnames(design))\n",
    "contr.matrix"
   ]
  },
  {
   "cell_type": "code",
   "execution_count": 38,
   "id": "d210ed2a",
   "metadata": {},
   "outputs": [
    {
     "name": "stdout",
     "output_type": "stream",
     "text": [
      "LPC_Saline_2 LPC_Saline_1   LPC_ctrl_2   LPC_ctrl_1     LPC_7d_2     LPC_5d_4 \n",
      "       Adams        Adams       Pandey       Pandey        Adams       Pandey \n",
      "    LPC_7d_1     LPC_5d_1     LPC_5d_3     LPC_5d_2 \n",
      "       Adams       Pandey       Pandey       Pandey \n",
      "Levels: Adams Pandey\n"
     ]
    }
   ],
   "source": [
    "%%R\n",
    "batch"
   ]
  },
  {
   "cell_type": "code",
   "execution_count": 39,
   "id": "4710a80f",
   "metadata": {},
   "outputs": [
    {
     "data": {
      "image/png": "[encoded data removed]",
      "text/plain": [
       "<IPython.core.display.Image object>"
      ]
     },
     "metadata": {},
     "output_type": "display_data"
    }
   ],
   "source": [
    "%%R\n",
    "y <- voomWithQualityWeights(x2$counts, design,plot=TRUE)"
   ]
  },
  {
   "cell_type": "code",
   "execution_count": 40,
   "id": "a72d89df",
   "metadata": {},
   "outputs": [
    {
     "name": "stdout",
     "output_type": "stream",
     "text": [
      "[1] 0.5105827\n"
     ]
    }
   ],
   "source": [
    "%%R\n",
    "corfit <- duplicateCorrelation(y, design, block=batch)\n",
    "corfit$consensus.correlation"
   ]
  },
  {
   "cell_type": "code",
   "execution_count": 41,
   "id": "79b4a022",
   "metadata": {},
   "outputs": [
    {
     "data": {
      "image/png": "[encoded data removed]",
      "text/plain": [
       "<IPython.core.display.Image object>"
      ]
     },
     "metadata": {},
     "output_type": "display_data"
    }
   ],
   "source": [
    "%%R\n",
    "y2 <- voomWithQualityWeights(x2$counts, design, plot=TRUE, block=batch, correlation=corfit$consensus)"
   ]
  },
  {
   "cell_type": "code",
   "execution_count": 42,
   "id": "0cfa4152",
   "metadata": {},
   "outputs": [
    {
     "name": "stdout",
     "output_type": "stream",
     "text": [
      "[1] 0.5695263\n"
     ]
    }
   ],
   "source": [
    "%%R\n",
    "corfit2 <- duplicateCorrelation(y2,design,block=batch, weights=y2$targets$sample.weights)\n",
    "corfit2$consensus.correlation"
   ]
  },
  {
   "cell_type": "code",
   "execution_count": 43,
   "id": "33cc64bd",
   "metadata": {},
   "outputs": [],
   "source": [
    "%%R\n",
    "fit <- lmFit(y2, design, block=batch, correlation=corfit2$consensus)"
   ]
  },
  {
   "cell_type": "code",
   "execution_count": 44,
   "id": "c8ae878c",
   "metadata": {},
   "outputs": [
    {
     "data": {
      "image/png": "[encoded data removed]",
      "text/plain": [
       "<IPython.core.display.Image object>"
      ]
     },
     "metadata": {},
     "output_type": "display_data"
    }
   ],
   "source": [
    "%%R\n",
    "contr <- makeContrasts(cdstim - cdctrl, levels = colnames(coef(fit)))\n",
    "tmp <- contrasts.fit(fit, contr)\n",
    "tmp2 <- eBayes(tmp)\n",
    "\n",
    "plotSA(tmp2, xlab = \"Average log-expression\", ylab = \"sqrt(sigma)\", zero.weights = FALSE,\n",
    "       pch = 16, cex = 0.3, col = c(\"black\",\"red\"))"
   ]
  },
  {
   "cell_type": "code",
   "execution_count": 45,
   "id": "de7baa2f",
   "metadata": {},
   "outputs": [
    {
     "name": "stdout",
     "output_type": "stream",
     "text": [
      "                  logFC  AveExpr         t      P.Value    adj.P.Val        B\n",
      "Tspan18       -4.766999 2.874435 -23.33149 2.097323e-11 2.235537e-07 16.03800\n",
      "Gm10790       -3.805976 6.793027 -19.63986 1.593161e-10 4.709936e-07 14.72040\n",
      "Cacnb2        -5.049577 6.066487 -19.14628 2.146491e-10 4.709936e-07 14.43728\n",
      "C430049B03Rik -5.118048 3.014768 -18.87276 2.540001e-10 4.709936e-07 13.93965\n",
      "Ifitm10       -3.446056 6.819770 -18.65461 2.909768e-10 4.709936e-07 14.12595\n",
      "Clec4a2       -3.865865 3.014266 -18.62810 2.958524e-10 4.709936e-07 13.85647\n",
      "Sox4          -3.023597 5.605290 -18.51531 3.176037e-10 4.709936e-07 14.01460\n",
      "Slc39a12      -5.486076 0.960915 -18.34630 3.534993e-10 4.709936e-07 13.11541\n",
      "Cdkl4         -4.290580 2.750862 -17.99175 4.438677e-10 5.256873e-07 13.18169\n",
      "Arid3b        -3.395437 5.273744 -17.49010 6.170096e-10 6.576705e-07 13.32368\n"
     ]
    }
   ],
   "source": [
    "%%R\n",
    "# Retrieve the top results without sorting by p-value directly\n",
    "tt <- topTable(tmp2, sort.by = \"P\", n = Inf)\n",
    "head(tt, 10)"
   ]
  },
  {
   "cell_type": "code",
   "execution_count": 46,
   "id": "d4483518",
   "metadata": {},
   "outputs": [
    {
     "name": "stdout",
     "output_type": "stream",
     "text": [
      "[1] 4041\n"
     ]
    }
   ],
   "source": [
    "%%R\n",
    "length(which(tt$adj.P.Val < 0.05))"
   ]
  },
  {
   "cell_type": "code",
   "execution_count": 47,
   "id": "4eb6409b",
   "metadata": {},
   "outputs": [
    {
     "name": "stdout",
     "output_type": "stream",
     "text": [
      "[1] 3832\n"
     ]
    }
   ],
   "source": [
    "%%R\n",
    "# Calculate the number of genes with adj.P.Val < 0.05 and |logFC| > 1\n",
    "significant_genes <- tt[tt$adj.P.Val < 0.05 & abs(tt$logFC) > 0.7, ]\n",
    "num_significant_genes <- nrow(significant_genes)\n",
    "\n",
    "# Print the number of significant genes\n",
    "print(num_significant_genes)"
   ]
  },
  {
   "cell_type": "code",
   "execution_count": 48,
   "id": "520ae60f",
   "metadata": {},
   "outputs": [
    {
     "name": "stdout",
     "output_type": "stream",
     "text": [
      "[1] 3155\n"
     ]
    }
   ],
   "source": [
    "%%R\n",
    "# Calculate the number of genes with adj.P.Val < 0.05 and |logFC| > 1\n",
    "significant_genes <- tt[tt$adj.P.Val < 0.05 & abs(tt$logFC) > 1, ]\n",
    "num_significant_genes <- nrow(significant_genes)\n",
    "\n",
    "# Print the number of significant genes\n",
    "print(num_significant_genes)"
   ]
  },
  {
   "cell_type": "code",
   "execution_count": 49,
   "id": "92cb5ace",
   "metadata": {},
   "outputs": [
    {
     "name": "stdout",
     "output_type": "stream",
     "text": [
      "[1] 914\n",
      "          logFC  AveExpr        t      P.Value    adj.P.Val          B\n",
      "Spp1   8.860651 5.917407 5.449827 1.450914e-04 1.351861e-03  1.2395339\n",
      "Igf1   8.825738 6.014955 8.892892 1.206932e-06 5.229549e-05  5.0755090\n",
      "Lgals3 8.480823 5.526912 6.428476 3.186311e-05 4.577208e-04  2.5060180\n",
      "Fabp5  8.431502 5.247558 4.481680 7.410373e-04 4.349513e-03 -0.2185718\n",
      "Gpnmb  8.328498 5.989371 8.680967 1.556465e-06 6.032859e-05  4.8427407\n",
      "Apoc1  6.895404 4.318951 4.277647 1.061520e-03 5.691519e-03 -0.5473185\n"
     ]
    }
   ],
   "source": [
    "%%R\n",
    "# Calculate the number of genes with adj.P.Val < 0.05 and |logFC| > 1\n",
    "genes_up <- tt[tt$adj.P.Val < 0.05 & tt$logFC > 1, ]\n",
    "num_genes_up <- nrow(genes_up)\n",
    "\n",
    "# Print the number of significant genes\n",
    "print(num_genes_up)\n",
    "\n",
    "genes_up_sorted <- genes_up[order(genes_up$logFC, decreasing = TRUE), ]\n",
    "\n",
    "# View the head of the significant genes data frame\n",
    "head(genes_up_sorted)"
   ]
  },
  {
   "cell_type": "code",
   "execution_count": 50,
   "id": "4e1b3c93",
   "metadata": {},
   "outputs": [
    {
     "name": "stdout",
     "output_type": "stream",
     "text": [
      "[1] \"gene IS in the index of genes_up_sorted\"\n"
     ]
    }
   ],
   "source": [
    "%%R\n",
    "if ('Apoe' %in% rownames(genes_up_sorted)) {\n",
    "    print(\"gene IS in the index of genes_up_sorted\")\n",
    "} else {\n",
    "    print(\"gene is NOT in the index of genes_up_sorted\")\n",
    "}"
   ]
  },
  {
   "cell_type": "code",
   "execution_count": 51,
   "id": "1ad28182",
   "metadata": {},
   "outputs": [
    {
     "name": "stdout",
     "output_type": "stream",
     "text": [
      "[1] 2241\n",
      "                  logFC    AveExpr          t      P.Value    adj.P.Val\n",
      "Gm13269       -8.095767  1.0484632 -12.681419 2.468108e-08 4.445686e-06\n",
      "2310002F09Rik -8.056605  0.2012922 -16.382137 1.318876e-09 9.818433e-07\n",
      "Gm28192       -7.105759 -0.1112534 -15.986296 1.750166e-09 9.818433e-07\n",
      "Chst8         -6.861981  3.7027743  -8.964136 1.109164e-06 4.972603e-05\n",
      "Gm31243       -6.739560  1.8081010 -14.866604 4.039639e-09 1.537804e-06\n",
      "Gm46124       -6.547699 -0.6260688  -6.008069 6.011995e-05 7.096551e-04\n",
      "                      B\n",
      "Gm13269        9.117104\n",
      "2310002F09Rik 11.657241\n",
      "Gm28192       11.003010\n",
      "Chst8          5.746118\n",
      "Gm31243       11.211464\n",
      "Gm46124        2.093258\n"
     ]
    }
   ],
   "source": [
    "%%R\n",
    "# Calculate the number of genes with adj.P.Val < 0.05 and |logFC| > 1\n",
    "genes_down <- tt[tt$adj.P.Val < 0.05 & tt$logFC < -1, ]\n",
    "num_genes_down <- nrow(genes_down)\n",
    "\n",
    "# Print the number of significant genes\n",
    "print(num_genes_down)\n",
    "\n",
    "genes_down_sorted <- genes_down[order(genes_down$logFC, decreasing = FALSE), ]\n",
    "\n",
    "# View the head of the significant genes data frame\n",
    "head(genes_down_sorted)"
   ]
  },
  {
   "cell_type": "markdown",
   "id": "53502379",
   "metadata": {},
   "source": [
    "# Save output- make sure to rename!"
   ]
  },
  {
   "cell_type": "code",
   "execution_count": 52,
   "id": "7612ee92",
   "metadata": {},
   "outputs": [],
   "source": [
    "%%R\n",
    "# Add row names as a new column\n",
    "tt$gene <- rownames(tt)\n",
    "\n",
    "# Optionally reorder or select columns\n",
    "tt <- tt[, c(\"gene\", names(tt)[1:6])]\n",
    "\n",
    "# Write to CSV file\n",
    "write.table(tt, file = \"./files/LPC_demyel_Mg_A_v_trt_voom_wqw_NEW.csv\", row.names = FALSE, sep = \",\", quote = FALSE)"
   ]
  },
  {
   "cell_type": "markdown",
   "id": "28a5b432",
   "metadata": {},
   "source": [
    "# Do results overlap with LR pairs?"
   ]
  },
  {
   "cell_type": "code",
   "execution_count": 53,
   "id": "acef57a6",
   "metadata": {},
   "outputs": [
    {
     "data": {
      "text/html": [
       "<div>\n",
       "<style scoped>\n",
       "    .dataframe tbody tr th:only-of-type {\n",
       "        vertical-align: middle;\n",
       "    }\n",
       "\n",
       "    .dataframe tbody tr th {\n",
       "        vertical-align: top;\n",
       "    }\n",
       "\n",
       "    .dataframe thead th {\n",
       "        text-align: right;\n",
       "    }\n",
       "</style>\n",
       "<table border=\"1\" class=\"dataframe\">\n",
       "  <thead>\n",
       "    <tr style=\"text-align: right;\">\n",
       "      <th></th>\n",
       "      <th>ligand</th>\n",
       "      <th>receptor</th>\n",
       "    </tr>\n",
       "  </thead>\n",
       "  <tbody>\n",
       "    <tr>\n",
       "      <th>31371</th>\n",
       "      <td>Dll1</td>\n",
       "      <td>Notch1</td>\n",
       "    </tr>\n",
       "    <tr>\n",
       "      <th>31372</th>\n",
       "      <td>Dll1</td>\n",
       "      <td>Notch2</td>\n",
       "    </tr>\n",
       "    <tr>\n",
       "      <th>31373</th>\n",
       "      <td>Dll1</td>\n",
       "      <td>Notch4</td>\n",
       "    </tr>\n",
       "    <tr>\n",
       "      <th>31374</th>\n",
       "      <td>Dll1</td>\n",
       "      <td>Notch3</td>\n",
       "    </tr>\n",
       "    <tr>\n",
       "      <th>31375</th>\n",
       "      <td>Nrg2</td>\n",
       "      <td>Erbb2_Erbb3</td>\n",
       "    </tr>\n",
       "  </tbody>\n",
       "</table>\n",
       "</div>"
      ],
      "text/plain": [
       "      ligand     receptor\n",
       "31371   Dll1       Notch1\n",
       "31372   Dll1       Notch2\n",
       "31373   Dll1       Notch4\n",
       "31374   Dll1       Notch3\n",
       "31375   Nrg2  Erbb2_Erbb3"
      ]
     },
     "execution_count": 53,
     "metadata": {},
     "output_type": "execute_result"
    }
   ],
   "source": [
    "import liana as li\n",
    "lr_pairs = li.resource.select_resource('mouseconsensus')\n",
    "lr_pairs.head()"
   ]
  },
  {
   "cell_type": "code",
   "execution_count": 54,
   "id": "e92840ca",
   "metadata": {},
   "outputs": [
    {
     "data": {
      "text/plain": [
       "(10659, 7)"
      ]
     },
     "execution_count": 54,
     "metadata": {},
     "output_type": "execute_result"
    }
   ],
   "source": [
    "DEG_all = pd.read_csv('./files/LPC_demyel_Mg_A_v_trt_voom_wqw_NEW.csv', index_col=None)\n",
    "DEG_all.rename(columns={'adj.P.Val': 'Padj'}, inplace=True)\n",
    "DEG_all.rename(columns={'P.Value': 'Pvalue'}, inplace=True)\n",
    "DEG_all.shape"
   ]
  },
  {
   "cell_type": "code",
   "execution_count": 55,
   "id": "d7bd4c79",
   "metadata": {},
   "outputs": [
    {
     "data": {
      "text/plain": [
       "(3155, 7)"
      ]
     },
     "execution_count": 55,
     "metadata": {},
     "output_type": "execute_result"
    }
   ],
   "source": [
    "sigs = DEG_all[(DEG_all.Padj < 0.05) & (abs(DEG_all.logFC) >= 1)]\n",
    "sigs.shape"
   ]
  },
  {
   "cell_type": "code",
   "execution_count": 56,
   "id": "6420343b",
   "metadata": {},
   "outputs": [
    {
     "name": "stdout",
     "output_type": "stream",
     "text": [
      "Total ligand-receptor pairs where both are differentially expressed: 44\n"
     ]
    },
    {
     "data": {
      "text/html": [
       "<div>\n",
       "<style scoped>\n",
       "    .dataframe tbody tr th:only-of-type {\n",
       "        vertical-align: middle;\n",
       "    }\n",
       "\n",
       "    .dataframe tbody tr th {\n",
       "        vertical-align: top;\n",
       "    }\n",
       "\n",
       "    .dataframe thead th {\n",
       "        text-align: right;\n",
       "    }\n",
       "</style>\n",
       "<table border=\"1\" class=\"dataframe\">\n",
       "  <thead>\n",
       "    <tr style=\"text-align: right;\">\n",
       "      <th></th>\n",
       "      <th>ligand</th>\n",
       "      <th>receptor</th>\n",
       "      <th>logFC_ligand</th>\n",
       "      <th>logFC_receptor</th>\n",
       "    </tr>\n",
       "  </thead>\n",
       "  <tbody>\n",
       "    <tr>\n",
       "      <th>17</th>\n",
       "      <td>Spp1</td>\n",
       "      <td>Cd44</td>\n",
       "      <td>8.860651</td>\n",
       "      <td>2.406726</td>\n",
       "    </tr>\n",
       "    <tr>\n",
       "      <th>39</th>\n",
       "      <td>Spp1</td>\n",
       "      <td>S1pr1</td>\n",
       "      <td>8.860651</td>\n",
       "      <td>1.307827</td>\n",
       "    </tr>\n",
       "    <tr>\n",
       "      <th>18</th>\n",
       "      <td>Spp1</td>\n",
       "      <td>Ptger4</td>\n",
       "      <td>8.860651</td>\n",
       "      <td>2.354261</td>\n",
       "    </tr>\n",
       "    <tr>\n",
       "      <th>16</th>\n",
       "      <td>Igf1</td>\n",
       "      <td>Igf2r</td>\n",
       "      <td>8.825738</td>\n",
       "      <td>4.665008</td>\n",
       "    </tr>\n",
       "    <tr>\n",
       "      <th>20</th>\n",
       "      <td>Lgals3</td>\n",
       "      <td>Lag3</td>\n",
       "      <td>8.480823</td>\n",
       "      <td>-2.975325</td>\n",
       "    </tr>\n",
       "    <tr>\n",
       "      <th>41</th>\n",
       "      <td>Lgals3</td>\n",
       "      <td>Eng</td>\n",
       "      <td>8.480823</td>\n",
       "      <td>-1.992192</td>\n",
       "    </tr>\n",
       "    <tr>\n",
       "      <th>33</th>\n",
       "      <td>Apoe</td>\n",
       "      <td>Abca1</td>\n",
       "      <td>5.774016</td>\n",
       "      <td>1.779553</td>\n",
       "    </tr>\n",
       "    <tr>\n",
       "      <th>15</th>\n",
       "      <td>Apoe</td>\n",
       "      <td>Lrp5</td>\n",
       "      <td>5.774016</td>\n",
       "      <td>-1.337379</td>\n",
       "    </tr>\n",
       "    <tr>\n",
       "      <th>36</th>\n",
       "      <td>Lpl</td>\n",
       "      <td>Cd44</td>\n",
       "      <td>5.725459</td>\n",
       "      <td>2.406726</td>\n",
       "    </tr>\n",
       "    <tr>\n",
       "      <th>3</th>\n",
       "      <td>Anxa2</td>\n",
       "      <td>Tlr2</td>\n",
       "      <td>5.231970</td>\n",
       "      <td>1.404108</td>\n",
       "    </tr>\n",
       "    <tr>\n",
       "      <th>31</th>\n",
       "      <td>Vim</td>\n",
       "      <td>Cd44</td>\n",
       "      <td>4.430038</td>\n",
       "      <td>2.406726</td>\n",
       "    </tr>\n",
       "    <tr>\n",
       "      <th>10</th>\n",
       "      <td>Fn1</td>\n",
       "      <td>Itga9</td>\n",
       "      <td>4.392928</td>\n",
       "      <td>-2.251120</td>\n",
       "    </tr>\n",
       "    <tr>\n",
       "      <th>9</th>\n",
       "      <td>Fn1</td>\n",
       "      <td>Cd44</td>\n",
       "      <td>4.392928</td>\n",
       "      <td>2.406726</td>\n",
       "    </tr>\n",
       "    <tr>\n",
       "      <th>40</th>\n",
       "      <td>Slc6a8</td>\n",
       "      <td>Lifr</td>\n",
       "      <td>3.773451</td>\n",
       "      <td>-5.170092</td>\n",
       "    </tr>\n",
       "    <tr>\n",
       "      <th>13</th>\n",
       "      <td>Il1b</td>\n",
       "      <td>Adrb2</td>\n",
       "      <td>3.308377</td>\n",
       "      <td>-3.744157</td>\n",
       "    </tr>\n",
       "    <tr>\n",
       "      <th>25</th>\n",
       "      <td>Dkk2</td>\n",
       "      <td>Lrp5</td>\n",
       "      <td>3.223077</td>\n",
       "      <td>-1.337379</td>\n",
       "    </tr>\n",
       "    <tr>\n",
       "      <th>11</th>\n",
       "      <td>Lama3</td>\n",
       "      <td>Cd44</td>\n",
       "      <td>3.016781</td>\n",
       "      <td>2.406726</td>\n",
       "    </tr>\n",
       "    <tr>\n",
       "      <th>0</th>\n",
       "      <td>Tnfsf13</td>\n",
       "      <td>Tnfrsf13b</td>\n",
       "      <td>2.805533</td>\n",
       "      <td>-1.142005</td>\n",
       "    </tr>\n",
       "    <tr>\n",
       "      <th>1</th>\n",
       "      <td>Tnfsf13</td>\n",
       "      <td>Tnfrsf17</td>\n",
       "      <td>2.805533</td>\n",
       "      <td>-2.240155</td>\n",
       "    </tr>\n",
       "    <tr>\n",
       "      <th>6</th>\n",
       "      <td>Cd28</td>\n",
       "      <td>Cd80</td>\n",
       "      <td>2.522360</td>\n",
       "      <td>-1.090910</td>\n",
       "    </tr>\n",
       "    <tr>\n",
       "      <th>19</th>\n",
       "      <td>Hgf</td>\n",
       "      <td>Cd44</td>\n",
       "      <td>2.387708</td>\n",
       "      <td>2.406726</td>\n",
       "    </tr>\n",
       "    <tr>\n",
       "      <th>29</th>\n",
       "      <td>Hgf</td>\n",
       "      <td>St14</td>\n",
       "      <td>2.387708</td>\n",
       "      <td>2.106270</td>\n",
       "    </tr>\n",
       "    <tr>\n",
       "      <th>37</th>\n",
       "      <td>Pkm</td>\n",
       "      <td>Cd44</td>\n",
       "      <td>2.251479</td>\n",
       "      <td>2.406726</td>\n",
       "    </tr>\n",
       "    <tr>\n",
       "      <th>23</th>\n",
       "      <td>Gas6</td>\n",
       "      <td>Axl</td>\n",
       "      <td>2.211492</td>\n",
       "      <td>3.123367</td>\n",
       "    </tr>\n",
       "    <tr>\n",
       "      <th>24</th>\n",
       "      <td>Gas6</td>\n",
       "      <td>Mertk</td>\n",
       "      <td>2.211492</td>\n",
       "      <td>-2.304551</td>\n",
       "    </tr>\n",
       "    <tr>\n",
       "      <th>32</th>\n",
       "      <td>Bsg</td>\n",
       "      <td>Slc16a7</td>\n",
       "      <td>1.532122</td>\n",
       "      <td>-1.495502</td>\n",
       "    </tr>\n",
       "    <tr>\n",
       "      <th>4</th>\n",
       "      <td>Cd14</td>\n",
       "      <td>Tlr4</td>\n",
       "      <td>1.445526</td>\n",
       "      <td>-1.115099</td>\n",
       "    </tr>\n",
       "    <tr>\n",
       "      <th>5</th>\n",
       "      <td>Cd14</td>\n",
       "      <td>Tlr6</td>\n",
       "      <td>1.445526</td>\n",
       "      <td>-1.203617</td>\n",
       "    </tr>\n",
       "    <tr>\n",
       "      <th>42</th>\n",
       "      <td>Cxcl10</td>\n",
       "      <td>Tlr4</td>\n",
       "      <td>1.350235</td>\n",
       "      <td>-1.115099</td>\n",
       "    </tr>\n",
       "    <tr>\n",
       "      <th>22</th>\n",
       "      <td>Ybx1</td>\n",
       "      <td>Notch1</td>\n",
       "      <td>1.276461</td>\n",
       "      <td>-1.244967</td>\n",
       "    </tr>\n",
       "    <tr>\n",
       "      <th>2</th>\n",
       "      <td>App</td>\n",
       "      <td>Aplp2</td>\n",
       "      <td>1.241459</td>\n",
       "      <td>1.472708</td>\n",
       "    </tr>\n",
       "    <tr>\n",
       "      <th>34</th>\n",
       "      <td>Timp2</td>\n",
       "      <td>Cd44</td>\n",
       "      <td>1.152346</td>\n",
       "      <td>2.406726</td>\n",
       "    </tr>\n",
       "    <tr>\n",
       "      <th>21</th>\n",
       "      <td>Vegfb</td>\n",
       "      <td>Adrb2</td>\n",
       "      <td>1.097862</td>\n",
       "      <td>-3.744157</td>\n",
       "    </tr>\n",
       "    <tr>\n",
       "      <th>35</th>\n",
       "      <td>Rgmb</td>\n",
       "      <td>Bmpr2</td>\n",
       "      <td>-1.004699</td>\n",
       "      <td>-1.006882</td>\n",
       "    </tr>\n",
       "    <tr>\n",
       "      <th>8</th>\n",
       "      <td>Cd80</td>\n",
       "      <td>Cd28</td>\n",
       "      <td>-1.090910</td>\n",
       "      <td>2.522360</td>\n",
       "    </tr>\n",
       "    <tr>\n",
       "      <th>12</th>\n",
       "      <td>Pdgfb</td>\n",
       "      <td>S1pr1</td>\n",
       "      <td>-1.184905</td>\n",
       "      <td>1.307827</td>\n",
       "    </tr>\n",
       "    <tr>\n",
       "      <th>28</th>\n",
       "      <td>Mfng</td>\n",
       "      <td>Notch1</td>\n",
       "      <td>-1.566709</td>\n",
       "      <td>-1.244967</td>\n",
       "    </tr>\n",
       "    <tr>\n",
       "      <th>7</th>\n",
       "      <td>Kitl</td>\n",
       "      <td>Epor</td>\n",
       "      <td>-2.775445</td>\n",
       "      <td>2.401406</td>\n",
       "    </tr>\n",
       "    <tr>\n",
       "      <th>43</th>\n",
       "      <td>Il6</td>\n",
       "      <td>Fcgr4</td>\n",
       "      <td>-2.796227</td>\n",
       "      <td>2.175496</td>\n",
       "    </tr>\n",
       "    <tr>\n",
       "      <th>30</th>\n",
       "      <td>Col14a1</td>\n",
       "      <td>Cd44</td>\n",
       "      <td>-2.812419</td>\n",
       "      <td>2.406726</td>\n",
       "    </tr>\n",
       "    <tr>\n",
       "      <th>26</th>\n",
       "      <td>Angptl2</td>\n",
       "      <td>Tlr4</td>\n",
       "      <td>-2.913882</td>\n",
       "      <td>-1.115099</td>\n",
       "    </tr>\n",
       "    <tr>\n",
       "      <th>27</th>\n",
       "      <td>Angptl2</td>\n",
       "      <td>Pirb</td>\n",
       "      <td>-2.913882</td>\n",
       "      <td>-2.038551</td>\n",
       "    </tr>\n",
       "    <tr>\n",
       "      <th>14</th>\n",
       "      <td>Epo</td>\n",
       "      <td>Epor</td>\n",
       "      <td>-3.036245</td>\n",
       "      <td>2.401406</td>\n",
       "    </tr>\n",
       "    <tr>\n",
       "      <th>38</th>\n",
       "      <td>Hspa1a</td>\n",
       "      <td>Tlr4</td>\n",
       "      <td>-4.198104</td>\n",
       "      <td>-1.115099</td>\n",
       "    </tr>\n",
       "  </tbody>\n",
       "</table>\n",
       "</div>"
      ],
      "text/plain": [
       "     ligand   receptor  logFC_ligand  logFC_receptor\n",
       "17     Spp1       Cd44      8.860651        2.406726\n",
       "39     Spp1      S1pr1      8.860651        1.307827\n",
       "18     Spp1     Ptger4      8.860651        2.354261\n",
       "16     Igf1      Igf2r      8.825738        4.665008\n",
       "20   Lgals3       Lag3      8.480823       -2.975325\n",
       "41   Lgals3        Eng      8.480823       -1.992192\n",
       "33     Apoe      Abca1      5.774016        1.779553\n",
       "15     Apoe       Lrp5      5.774016       -1.337379\n",
       "36      Lpl       Cd44      5.725459        2.406726\n",
       "3     Anxa2       Tlr2      5.231970        1.404108\n",
       "31      Vim       Cd44      4.430038        2.406726\n",
       "10      Fn1      Itga9      4.392928       -2.251120\n",
       "9       Fn1       Cd44      4.392928        2.406726\n",
       "40   Slc6a8       Lifr      3.773451       -5.170092\n",
       "13     Il1b      Adrb2      3.308377       -3.744157\n",
       "25     Dkk2       Lrp5      3.223077       -1.337379\n",
       "11    Lama3       Cd44      3.016781        2.406726\n",
       "0   Tnfsf13  Tnfrsf13b      2.805533       -1.142005\n",
       "1   Tnfsf13   Tnfrsf17      2.805533       -2.240155\n",
       "6      Cd28       Cd80      2.522360       -1.090910\n",
       "19      Hgf       Cd44      2.387708        2.406726\n",
       "29      Hgf       St14      2.387708        2.106270\n",
       "37      Pkm       Cd44      2.251479        2.406726\n",
       "23     Gas6        Axl      2.211492        3.123367\n",
       "24     Gas6      Mertk      2.211492       -2.304551\n",
       "32      Bsg    Slc16a7      1.532122       -1.495502\n",
       "4      Cd14       Tlr4      1.445526       -1.115099\n",
       "5      Cd14       Tlr6      1.445526       -1.203617\n",
       "42   Cxcl10       Tlr4      1.350235       -1.115099\n",
       "22     Ybx1     Notch1      1.276461       -1.244967\n",
       "2       App      Aplp2      1.241459        1.472708\n",
       "34    Timp2       Cd44      1.152346        2.406726\n",
       "21    Vegfb      Adrb2      1.097862       -3.744157\n",
       "35     Rgmb      Bmpr2     -1.004699       -1.006882\n",
       "8      Cd80       Cd28     -1.090910        2.522360\n",
       "12    Pdgfb      S1pr1     -1.184905        1.307827\n",
       "28     Mfng     Notch1     -1.566709       -1.244967\n",
       "7      Kitl       Epor     -2.775445        2.401406\n",
       "43      Il6      Fcgr4     -2.796227        2.175496\n",
       "30  Col14a1       Cd44     -2.812419        2.406726\n",
       "26  Angptl2       Tlr4     -2.913882       -1.115099\n",
       "27  Angptl2       Pirb     -2.913882       -2.038551\n",
       "14      Epo       Epor     -3.036245        2.401406\n",
       "38   Hspa1a       Tlr4     -4.198104       -1.115099"
      ]
     },
     "execution_count": 56,
     "metadata": {},
     "output_type": "execute_result"
    }
   ],
   "source": [
    "# Step 1: Convert ligands and receptors to a list\n",
    "ligands = lr_pairs['ligand'].tolist()\n",
    "receptors = lr_pairs['receptor'].tolist()\n",
    "\n",
    "# Step 2: Filter DEGs from 'sigs'\n",
    "degs = set(sigs['gene'])  # Create a set for faster lookup\n",
    "\n",
    "# Step 3: Check which ligand-receptor pairs have both ligands and receptors as DEGs\n",
    "matched_pairs = lr_pairs[(lr_pairs['ligand'].isin(degs)) & (lr_pairs['receptor'].isin(degs))]\n",
    "\n",
    "# Step 4: Count the matched pairs\n",
    "num_matched_pairs = matched_pairs.shape[0]\n",
    "\n",
    "# Output the result\n",
    "print(f'Total ligand-receptor pairs where both are differentially expressed: {num_matched_pairs}')\n",
    "\n",
    "# Step 5: Optional - view the matched pairs with direction of change\n",
    "matched_pairs_with_logFC = matched_pairs.merge(sigs[['gene', 'logFC']], left_on='ligand', right_on='gene', how='left')\\\n",
    "                                        .merge(sigs[['gene', 'logFC']], left_on='receptor', right_on='gene', how='left', suffixes=('_ligand', '_receptor'))\n",
    "\n",
    "# Sorting the table by 'logFC_ligand' in descending order\n",
    "sorted_table = matched_pairs_with_logFC.sort_values(by='logFC_ligand', ascending=False)\n",
    "\n",
    "# Displaying the sorted table with the selected columns\n",
    "sorted_table[['ligand', 'receptor', 'logFC_ligand', 'logFC_receptor']]"
   ]
  },
  {
   "cell_type": "code",
   "execution_count": 57,
   "id": "e55bcd09",
   "metadata": {},
   "outputs": [
    {
     "data": {
      "text/plain": [
       "(914, 7)"
      ]
     },
     "execution_count": 57,
     "metadata": {},
     "output_type": "execute_result"
    }
   ],
   "source": [
    "sigs_up = DEG_all[(DEG_all.Padj < 0.05) & (DEG_all.logFC >= 1)]\n",
    "sigs_up.shape"
   ]
  },
  {
   "cell_type": "code",
   "execution_count": 58,
   "id": "5927bc9d",
   "metadata": {},
   "outputs": [
    {
     "name": "stdout",
     "output_type": "stream",
     "text": [
      "Total ligand-receptor pairs where both are differentially expressed: 16\n"
     ]
    },
    {
     "data": {
      "text/html": [
       "<div>\n",
       "<style scoped>\n",
       "    .dataframe tbody tr th:only-of-type {\n",
       "        vertical-align: middle;\n",
       "    }\n",
       "\n",
       "    .dataframe tbody tr th {\n",
       "        vertical-align: top;\n",
       "    }\n",
       "\n",
       "    .dataframe thead th {\n",
       "        text-align: right;\n",
       "    }\n",
       "</style>\n",
       "<table border=\"1\" class=\"dataframe\">\n",
       "  <thead>\n",
       "    <tr style=\"text-align: right;\">\n",
       "      <th></th>\n",
       "      <th>ligand</th>\n",
       "      <th>receptor</th>\n",
       "      <th>logFC_ligand</th>\n",
       "      <th>logFC_receptor</th>\n",
       "    </tr>\n",
       "  </thead>\n",
       "  <tbody>\n",
       "    <tr>\n",
       "      <th>6</th>\n",
       "      <td>Spp1</td>\n",
       "      <td>Ptger4</td>\n",
       "      <td>8.860651</td>\n",
       "      <td>2.354261</td>\n",
       "    </tr>\n",
       "    <tr>\n",
       "      <th>5</th>\n",
       "      <td>Spp1</td>\n",
       "      <td>Cd44</td>\n",
       "      <td>8.860651</td>\n",
       "      <td>2.406726</td>\n",
       "    </tr>\n",
       "    <tr>\n",
       "      <th>15</th>\n",
       "      <td>Spp1</td>\n",
       "      <td>S1pr1</td>\n",
       "      <td>8.860651</td>\n",
       "      <td>1.307827</td>\n",
       "    </tr>\n",
       "    <tr>\n",
       "      <th>4</th>\n",
       "      <td>Igf1</td>\n",
       "      <td>Igf2r</td>\n",
       "      <td>8.825738</td>\n",
       "      <td>4.665008</td>\n",
       "    </tr>\n",
       "    <tr>\n",
       "      <th>11</th>\n",
       "      <td>Apoe</td>\n",
       "      <td>Abca1</td>\n",
       "      <td>5.774016</td>\n",
       "      <td>1.779553</td>\n",
       "    </tr>\n",
       "    <tr>\n",
       "      <th>13</th>\n",
       "      <td>Lpl</td>\n",
       "      <td>Cd44</td>\n",
       "      <td>5.725459</td>\n",
       "      <td>2.406726</td>\n",
       "    </tr>\n",
       "    <tr>\n",
       "      <th>1</th>\n",
       "      <td>Anxa2</td>\n",
       "      <td>Tlr2</td>\n",
       "      <td>5.231970</td>\n",
       "      <td>1.404108</td>\n",
       "    </tr>\n",
       "    <tr>\n",
       "      <th>10</th>\n",
       "      <td>Vim</td>\n",
       "      <td>Cd44</td>\n",
       "      <td>4.430038</td>\n",
       "      <td>2.406726</td>\n",
       "    </tr>\n",
       "    <tr>\n",
       "      <th>2</th>\n",
       "      <td>Fn1</td>\n",
       "      <td>Cd44</td>\n",
       "      <td>4.392928</td>\n",
       "      <td>2.406726</td>\n",
       "    </tr>\n",
       "    <tr>\n",
       "      <th>3</th>\n",
       "      <td>Lama3</td>\n",
       "      <td>Cd44</td>\n",
       "      <td>3.016781</td>\n",
       "      <td>2.406726</td>\n",
       "    </tr>\n",
       "    <tr>\n",
       "      <th>9</th>\n",
       "      <td>Hgf</td>\n",
       "      <td>St14</td>\n",
       "      <td>2.387708</td>\n",
       "      <td>2.106270</td>\n",
       "    </tr>\n",
       "    <tr>\n",
       "      <th>7</th>\n",
       "      <td>Hgf</td>\n",
       "      <td>Cd44</td>\n",
       "      <td>2.387708</td>\n",
       "      <td>2.406726</td>\n",
       "    </tr>\n",
       "    <tr>\n",
       "      <th>14</th>\n",
       "      <td>Pkm</td>\n",
       "      <td>Cd44</td>\n",
       "      <td>2.251479</td>\n",
       "      <td>2.406726</td>\n",
       "    </tr>\n",
       "    <tr>\n",
       "      <th>8</th>\n",
       "      <td>Gas6</td>\n",
       "      <td>Axl</td>\n",
       "      <td>2.211492</td>\n",
       "      <td>3.123367</td>\n",
       "    </tr>\n",
       "    <tr>\n",
       "      <th>0</th>\n",
       "      <td>App</td>\n",
       "      <td>Aplp2</td>\n",
       "      <td>1.241459</td>\n",
       "      <td>1.472708</td>\n",
       "    </tr>\n",
       "    <tr>\n",
       "      <th>12</th>\n",
       "      <td>Timp2</td>\n",
       "      <td>Cd44</td>\n",
       "      <td>1.152346</td>\n",
       "      <td>2.406726</td>\n",
       "    </tr>\n",
       "  </tbody>\n",
       "</table>\n",
       "</div>"
      ],
      "text/plain": [
       "   ligand receptor  logFC_ligand  logFC_receptor\n",
       "6    Spp1   Ptger4      8.860651        2.354261\n",
       "5    Spp1     Cd44      8.860651        2.406726\n",
       "15   Spp1    S1pr1      8.860651        1.307827\n",
       "4    Igf1    Igf2r      8.825738        4.665008\n",
       "11   Apoe    Abca1      5.774016        1.779553\n",
       "13    Lpl     Cd44      5.725459        2.406726\n",
       "1   Anxa2     Tlr2      5.231970        1.404108\n",
       "10    Vim     Cd44      4.430038        2.406726\n",
       "2     Fn1     Cd44      4.392928        2.406726\n",
       "3   Lama3     Cd44      3.016781        2.406726\n",
       "9     Hgf     St14      2.387708        2.106270\n",
       "7     Hgf     Cd44      2.387708        2.406726\n",
       "14    Pkm     Cd44      2.251479        2.406726\n",
       "8    Gas6      Axl      2.211492        3.123367\n",
       "0     App    Aplp2      1.241459        1.472708\n",
       "12  Timp2     Cd44      1.152346        2.406726"
      ]
     },
     "execution_count": 58,
     "metadata": {},
     "output_type": "execute_result"
    }
   ],
   "source": [
    "# Step 1: Convert ligands and receptors to a list\n",
    "ligands = lr_pairs['ligand'].tolist()\n",
    "receptors = lr_pairs['receptor'].tolist()\n",
    "\n",
    "# Step 2: Filter DEGs from 'sigs'\n",
    "degs = set(sigs_up['gene'])  # Create a set for faster lookup\n",
    "\n",
    "# Step 3: Check which ligand-receptor pairs have both ligands and receptors as DEGs\n",
    "matched_pairs = lr_pairs[(lr_pairs['ligand'].isin(degs)) & (lr_pairs['receptor'].isin(degs))]\n",
    "\n",
    "# Step 4: Count the matched pairs\n",
    "num_matched_pairs = matched_pairs.shape[0]\n",
    "\n",
    "# Output the result\n",
    "print(f'Total ligand-receptor pairs where both are differentially expressed: {num_matched_pairs}')\n",
    "\n",
    "# Step 5: Optional - view the matched pairs with direction of change\n",
    "matched_pairs_with_logFC = matched_pairs.merge(sigs[['gene', 'logFC']], left_on='ligand', right_on='gene', how='left')\\\n",
    "                                        .merge(sigs[['gene', 'logFC']], left_on='receptor', right_on='gene', how='left', suffixes=('_ligand', '_receptor'))\n",
    "\n",
    "# Sorting the table by 'logFC_ligand' in descending order\n",
    "sorted_table = matched_pairs_with_logFC.sort_values(by='logFC_ligand', ascending=False)\n",
    "\n",
    "# Displaying the sorted table with the selected columns\n",
    "sorted_table[['ligand', 'receptor', 'logFC_ligand', 'logFC_receptor']]"
   ]
  },
  {
   "cell_type": "code",
   "execution_count": 59,
   "id": "76840a9d",
   "metadata": {},
   "outputs": [],
   "source": [
    "sorted_table[['ligand', 'receptor', 'logFC_ligand', 'logFC_receptor']].to_csv('LR_LPC_de_trt_NEW.csv', sep='\\t', index=False)"
   ]
  },
  {
   "cell_type": "code",
   "execution_count": null,
   "id": "d717a90e",
   "metadata": {},
   "outputs": [],
   "source": []
  }
 ],
 "metadata": {
  "kernelspec": {
   "display_name": "Python 3 (ipykernel)",
   "language": "python",
   "name": "python3"
  },
  "language_info": {
   "codemirror_mode": {
    "name": "ipython",
    "version": 3
   },
   "file_extension": ".py",
   "mimetype": "text/x-python",
   "name": "python",
   "nbconvert_exporter": "python",
   "pygments_lexer": "ipython3",
   "version": "3.11.11"
  }
 },
 "nbformat": 4,
 "nbformat_minor": 5
}

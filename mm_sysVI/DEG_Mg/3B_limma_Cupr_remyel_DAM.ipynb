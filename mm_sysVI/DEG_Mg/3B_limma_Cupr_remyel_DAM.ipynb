{
 "cells": [
  {
   "cell_type": "code",
   "execution_count": 1,
   "id": "a4107cb9",
   "metadata": {},
   "outputs": [],
   "source": [
    "import warnings\n",
    "\n",
    "warnings.filterwarnings(\"ignore\")\n",
    "\n",
    "import matplotlib.pyplot as plt\n",
    "import seaborn as sns\n",
    "import scanpy as sc\n",
    "import pandas as pd\n",
    "import numpy as np\n",
    "import random\n",
    "import sc_toolbox\n",
    "import pertpy \n",
    "\n",
    "import rpy2.rinterface_lib.callbacks\n",
    "import anndata2ri\n",
    "import logging\n",
    "\n",
    "from rpy2.robjects import pandas2ri\n",
    "from rpy2.robjects import r\n",
    "\n",
    "sc.settings.verbosity = 0\n",
    "rpy2.rinterface_lib.callbacks.logger.setLevel(logging.ERROR)\n",
    "\n",
    "pandas2ri.activate()\n",
    "anndata2ri.activate()\n",
    "\n",
    "%load_ext rpy2.ipython"
   ]
  },
  {
   "cell_type": "code",
   "execution_count": 2,
   "id": "cd2ae648",
   "metadata": {},
   "outputs": [
    {
     "data": {
      "text/plain": [
       "Loading required package: limma\n"
      ]
     },
     "metadata": {},
     "output_type": "display_data"
    }
   ],
   "source": [
    "%%R\n",
    "library(edgeR)"
   ]
  },
  {
   "cell_type": "markdown",
   "id": "f783decd",
   "metadata": {},
   "source": [
    "# Running on XX cell types"
   ]
  },
  {
   "cell_type": "code",
   "execution_count": 3,
   "id": "1c0c911f",
   "metadata": {},
   "outputs": [
    {
     "data": {
      "text/plain": [
       "AnnData object with n_obs × n_vars = 44 × 16393\n",
       "    obs: 'publication', 'label', 'cell_type', 'replicate_cat', 'sample', 'sample_rep', 'batch', 'lib_size', 'log_lib_size', 'replicate'\n",
       "    uns: 'cell_type_colors', 'label_colors', 'log1p', 'pca', 'publication_colors', 'replicate_cat_colors', 'sample_colors', 'sample_rep_colors'\n",
       "    obsm: 'X_pca'\n",
       "    varm: 'PCs'\n",
       "    layers: 'counts'"
      ]
     },
     "execution_count": 3,
     "metadata": {},
     "output_type": "execute_result"
    }
   ],
   "source": [
    "adata_pb = sc.read('./pb_adata_Cupr_Mg.h5ad')\n",
    "adata_pb"
   ]
  },
  {
   "cell_type": "code",
   "execution_count": 4,
   "id": "9c81bbd6",
   "metadata": {},
   "outputs": [
    {
     "data": {
      "text/html": [
       "<div>\n",
       "<style scoped>\n",
       "    .dataframe tbody tr th:only-of-type {\n",
       "        vertical-align: middle;\n",
       "    }\n",
       "\n",
       "    .dataframe tbody tr th {\n",
       "        vertical-align: top;\n",
       "    }\n",
       "\n",
       "    .dataframe thead th {\n",
       "        text-align: right;\n",
       "    }\n",
       "</style>\n",
       "<table border=\"1\" class=\"dataframe\">\n",
       "  <thead>\n",
       "    <tr style=\"text-align: right;\">\n",
       "      <th>label</th>\n",
       "      <th>ctrl</th>\n",
       "      <th>stim</th>\n",
       "    </tr>\n",
       "    <tr>\n",
       "      <th>cell_type</th>\n",
       "      <th></th>\n",
       "      <th></th>\n",
       "    </tr>\n",
       "  </thead>\n",
       "  <tbody>\n",
       "    <tr>\n",
       "      <th>BAMs</th>\n",
       "      <td>1</td>\n",
       "      <td>4</td>\n",
       "    </tr>\n",
       "    <tr>\n",
       "      <th>Mg_A</th>\n",
       "      <td>3</td>\n",
       "      <td>8</td>\n",
       "    </tr>\n",
       "    <tr>\n",
       "      <th>Mg_B</th>\n",
       "      <td>4</td>\n",
       "      <td>9</td>\n",
       "    </tr>\n",
       "    <tr>\n",
       "      <th>Mg_trt</th>\n",
       "      <td>2</td>\n",
       "      <td>9</td>\n",
       "    </tr>\n",
       "    <tr>\n",
       "      <th>cycl</th>\n",
       "      <td>0</td>\n",
       "      <td>4</td>\n",
       "    </tr>\n",
       "  </tbody>\n",
       "</table>\n",
       "</div>"
      ],
      "text/plain": [
       "label      ctrl  stim\n",
       "cell_type            \n",
       "BAMs          1     4\n",
       "Mg_A          3     8\n",
       "Mg_B          4     9\n",
       "Mg_trt        2     9\n",
       "cycl          0     4"
      ]
     },
     "execution_count": 4,
     "metadata": {},
     "output_type": "execute_result"
    }
   ],
   "source": [
    "# Extract the data as a pandas DataFrame\n",
    "df = adata_pb.obs[['cell_type', 'label']]\n",
    "\n",
    "# Create a summary table\n",
    "summary_table = df.groupby(['cell_type', 'label']).size().unstack(fill_value=0)\n",
    "summary_table"
   ]
  },
  {
   "cell_type": "code",
   "execution_count": 5,
   "id": "9e5a3fe0",
   "metadata": {},
   "outputs": [
    {
     "name": "stdout",
     "output_type": "stream",
     "text": [
      "Dimensions of adata_sub: (22, 16393)\n"
     ]
    }
   ],
   "source": [
    "adata_sub= adata_pb[np.in1d(adata_pb.obs['cell_type'], \n",
    "                           ['Mg_A', 'Mg_trt'])].copy()\n",
    "\n",
    "print(\"Dimensions of adata_sub:\", adata_sub.shape)"
   ]
  },
  {
   "cell_type": "code",
   "execution_count": 6,
   "id": "860aa9d1",
   "metadata": {},
   "outputs": [],
   "source": [
    "pub_map = {\n",
    "    '(this study)': 'Adams',\n",
    "    'Shen et al. 2021': 'Shen'\n",
    "}\n",
    "\n",
    "# Update the 'treatment_meta' column based on the mapping\n",
    "adata_sub.obs['batch'] = adata_sub.obs['publication'].map(pub_map)"
   ]
  },
  {
   "cell_type": "code",
   "execution_count": 7,
   "id": "5c9e6461",
   "metadata": {},
   "outputs": [],
   "source": [
    "# Concatenate 'individual_lesion_condition' and 'replicate' to create 'sample'\n",
    "adata_sub.obs['cell_type_sample'] = adata_sub.obs['cell_type'].astype(str) + '_' + adata_sub.obs['sample_rep'].astype(str)"
   ]
  },
  {
   "cell_type": "code",
   "execution_count": 8,
   "id": "5df79ed2",
   "metadata": {},
   "outputs": [
    {
     "data": {
      "text/html": [
       "<div>\n",
       "<style scoped>\n",
       "    .dataframe tbody tr th:only-of-type {\n",
       "        vertical-align: middle;\n",
       "    }\n",
       "\n",
       "    .dataframe tbody tr th {\n",
       "        vertical-align: top;\n",
       "    }\n",
       "\n",
       "    .dataframe thead th {\n",
       "        text-align: right;\n",
       "    }\n",
       "</style>\n",
       "<table border=\"1\" class=\"dataframe\">\n",
       "  <thead>\n",
       "    <tr style=\"text-align: right;\">\n",
       "      <th></th>\n",
       "      <th>publication</th>\n",
       "      <th>label</th>\n",
       "      <th>cell_type</th>\n",
       "      <th>replicate_cat</th>\n",
       "      <th>sample</th>\n",
       "      <th>sample_rep</th>\n",
       "      <th>batch</th>\n",
       "      <th>lib_size</th>\n",
       "      <th>log_lib_size</th>\n",
       "      <th>replicate</th>\n",
       "      <th>cell_type_sample</th>\n",
       "    </tr>\n",
       "  </thead>\n",
       "  <tbody>\n",
       "    <tr>\n",
       "      <th>donor_ctrl_3_0-0-0-0-0</th>\n",
       "      <td>Shen et al. 2021</td>\n",
       "      <td>ctrl</td>\n",
       "      <td>Mg_A</td>\n",
       "      <td>3</td>\n",
       "      <td>ctrl_3</td>\n",
       "      <td>Cupr_ctrl_Shen_2</td>\n",
       "      <td>Shen</td>\n",
       "      <td>240640</td>\n",
       "      <td>12.391057</td>\n",
       "      <td>3</td>\n",
       "      <td>Mg_A_Cupr_ctrl_Shen_2</td>\n",
       "    </tr>\n",
       "    <tr>\n",
       "      <th>donor_ctrl_4_0-0-0-0-0</th>\n",
       "      <td>Shen et al. 2021</td>\n",
       "      <td>ctrl</td>\n",
       "      <td>Mg_A</td>\n",
       "      <td>4</td>\n",
       "      <td>ctrl_4</td>\n",
       "      <td>Cupr_ctrl_Shen_1</td>\n",
       "      <td>Shen</td>\n",
       "      <td>3305175</td>\n",
       "      <td>15.011000</td>\n",
       "      <td>4</td>\n",
       "      <td>Mg_A_Cupr_ctrl_Shen_1</td>\n",
       "    </tr>\n",
       "    <tr>\n",
       "      <th>donor_ctrl_5_0-0-0-0-0</th>\n",
       "      <td>Shen et al. 2021</td>\n",
       "      <td>ctrl</td>\n",
       "      <td>Mg_A</td>\n",
       "      <td>5</td>\n",
       "      <td>ctrl_5</td>\n",
       "      <td>Cupr_ctrl_Shen_3</td>\n",
       "      <td>Shen</td>\n",
       "      <td>2702141</td>\n",
       "      <td>14.809555</td>\n",
       "      <td>5</td>\n",
       "      <td>Mg_A_Cupr_ctrl_Shen_3</td>\n",
       "    </tr>\n",
       "    <tr>\n",
       "      <th>donor_stim_2_0-0-0-0-0</th>\n",
       "      <td>(this study)</td>\n",
       "      <td>stim</td>\n",
       "      <td>Mg_A</td>\n",
       "      <td>2</td>\n",
       "      <td>stim_2</td>\n",
       "      <td>Cupr_5w_2</td>\n",
       "      <td>Adams</td>\n",
       "      <td>33969</td>\n",
       "      <td>10.433204</td>\n",
       "      <td>2</td>\n",
       "      <td>Mg_A_Cupr_5w_2</td>\n",
       "    </tr>\n",
       "    <tr>\n",
       "      <th>donor_stim_3_0-0-0-0-0</th>\n",
       "      <td>Shen et al. 2021</td>\n",
       "      <td>stim</td>\n",
       "      <td>Mg_A</td>\n",
       "      <td>3</td>\n",
       "      <td>stim_3</td>\n",
       "      <td>Cupr_4+3w_1</td>\n",
       "      <td>Shen</td>\n",
       "      <td>125431</td>\n",
       "      <td>11.739511</td>\n",
       "      <td>3</td>\n",
       "      <td>Mg_A_Cupr_4+3w_1</td>\n",
       "    </tr>\n",
       "  </tbody>\n",
       "</table>\n",
       "</div>"
      ],
      "text/plain": [
       "                             publication label cell_type replicate_cat  \\\n",
       "donor_ctrl_3_0-0-0-0-0  Shen et al. 2021  ctrl      Mg_A             3   \n",
       "donor_ctrl_4_0-0-0-0-0  Shen et al. 2021  ctrl      Mg_A             4   \n",
       "donor_ctrl_5_0-0-0-0-0  Shen et al. 2021  ctrl      Mg_A             5   \n",
       "donor_stim_2_0-0-0-0-0      (this study)  stim      Mg_A             2   \n",
       "donor_stim_3_0-0-0-0-0  Shen et al. 2021  stim      Mg_A             3   \n",
       "\n",
       "                        sample        sample_rep  batch  lib_size  \\\n",
       "donor_ctrl_3_0-0-0-0-0  ctrl_3  Cupr_ctrl_Shen_2   Shen    240640   \n",
       "donor_ctrl_4_0-0-0-0-0  ctrl_4  Cupr_ctrl_Shen_1   Shen   3305175   \n",
       "donor_ctrl_5_0-0-0-0-0  ctrl_5  Cupr_ctrl_Shen_3   Shen   2702141   \n",
       "donor_stim_2_0-0-0-0-0  stim_2         Cupr_5w_2  Adams     33969   \n",
       "donor_stim_3_0-0-0-0-0  stim_3       Cupr_4+3w_1   Shen    125431   \n",
       "\n",
       "                        log_lib_size replicate       cell_type_sample  \n",
       "donor_ctrl_3_0-0-0-0-0     12.391057         3  Mg_A_Cupr_ctrl_Shen_2  \n",
       "donor_ctrl_4_0-0-0-0-0     15.011000         4  Mg_A_Cupr_ctrl_Shen_1  \n",
       "donor_ctrl_5_0-0-0-0-0     14.809555         5  Mg_A_Cupr_ctrl_Shen_3  \n",
       "donor_stim_2_0-0-0-0-0     10.433204         2         Mg_A_Cupr_5w_2  \n",
       "donor_stim_3_0-0-0-0-0     11.739511         3       Mg_A_Cupr_4+3w_1  "
      ]
     },
     "execution_count": 8,
     "metadata": {},
     "output_type": "execute_result"
    }
   ],
   "source": [
    "adata_sub.obs[:5]"
   ]
  },
  {
   "cell_type": "markdown",
   "id": "e2f53bd1",
   "metadata": {},
   "source": [
    "# Subset for demyelination and remyelination MOL2 data"
   ]
  },
  {
   "cell_type": "code",
   "execution_count": 9,
   "id": "31e9faf2",
   "metadata": {},
   "outputs": [
    {
     "name": "stdout",
     "output_type": "stream",
     "text": [
      "Mg_A_Cupr_ctrl_Shen_2\n",
      "Mg_A_Cupr_ctrl_Shen_1\n",
      "Mg_A_Cupr_ctrl_Shen_3\n",
      "Mg_A_Cupr_5w_2\n",
      "Mg_A_Cupr_4+3w_1\n",
      "Mg_A_Cupr_4w_3\n",
      "Mg_A_Cupr_4w_2\n",
      "Mg_A_Cupr_4+3w_3\n",
      "Mg_A_Cupr_4w_4\n",
      "Mg_A_Cupr_4+3w_2\n",
      "Mg_A_Cupr_4w_1\n",
      "Mg_trt_Cupr_ctrl_Shen_1\n",
      "Mg_trt_Cupr_ctrl_Shen_3\n",
      "Mg_trt_Cupr_5w_1\n",
      "Mg_trt_Cupr_5w_2\n",
      "Mg_trt_Cupr_4+3w_1\n",
      "Mg_trt_Cupr_4w_3\n",
      "Mg_trt_Cupr_4w_2\n",
      "Mg_trt_Cupr_4+3w_3\n",
      "Mg_trt_Cupr_4w_4\n",
      "Mg_trt_Cupr_4+3w_2\n",
      "Mg_trt_Cupr_4w_1\n"
     ]
    }
   ],
   "source": [
    "# Unique values in the 'condition' column\n",
    "unique_conditions = adata_sub.obs['cell_type_sample'].unique()\n",
    "for condition in unique_conditions:\n",
    "    print(condition)"
   ]
  },
  {
   "cell_type": "code",
   "execution_count": 10,
   "id": "4a947f7b",
   "metadata": {},
   "outputs": [
    {
     "name": "stdout",
     "output_type": "stream",
     "text": [
      "Dimensions of adata_sub: (6, 16393)\n"
     ]
    }
   ],
   "source": [
    "adata_sub= adata_sub[np.in1d(adata_sub.obs['cell_type_sample'], \n",
    "                           [\n",
    "                            'Mg_A_Cupr_ctrl_Shen_2',\n",
    "                            'Mg_A_Cupr_ctrl_Shen_1',\n",
    "                            'Mg_A_Cupr_ctrl_Shen_3',\n",
    "                            'Mg_trt_Cupr_4+3w_1',\n",
    "                            'Mg_trt_Cupr_4+3w_2',\n",
    "                            'Mg_trt_Cupr_4+3w_3',\n",
    "                           ])].copy()\n",
    "\n",
    "print(\"Dimensions of adata_sub:\", adata_sub.shape)"
   ]
  },
  {
   "cell_type": "code",
   "execution_count": 11,
   "id": "004f16ab",
   "metadata": {},
   "outputs": [],
   "source": [
    "# Check if the 'sample_rep' column exists\n",
    "if 'sample_rep' in adata_sub.obs.columns:\n",
    "    # Set the 'sample_rep' column as the index\n",
    "    adata_sub.obs.set_index('sample_rep', inplace=True)\n",
    "else:\n",
    "    print(\"The column 'sample_rep' does not exist in adata_sub.obs.\")\n",
    "\n",
    "adata_sub.obs.index.name = None"
   ]
  },
  {
   "cell_type": "code",
   "execution_count": 12,
   "id": "65c8ca68",
   "metadata": {},
   "outputs": [
    {
     "data": {
      "text/html": [
       "<div>\n",
       "<style scoped>\n",
       "    .dataframe tbody tr th:only-of-type {\n",
       "        vertical-align: middle;\n",
       "    }\n",
       "\n",
       "    .dataframe tbody tr th {\n",
       "        vertical-align: top;\n",
       "    }\n",
       "\n",
       "    .dataframe thead th {\n",
       "        text-align: right;\n",
       "    }\n",
       "</style>\n",
       "<table border=\"1\" class=\"dataframe\">\n",
       "  <thead>\n",
       "    <tr style=\"text-align: right;\">\n",
       "      <th></th>\n",
       "      <th>publication</th>\n",
       "      <th>label</th>\n",
       "      <th>cell_type</th>\n",
       "      <th>replicate_cat</th>\n",
       "      <th>sample</th>\n",
       "      <th>batch</th>\n",
       "      <th>lib_size</th>\n",
       "      <th>log_lib_size</th>\n",
       "      <th>replicate</th>\n",
       "      <th>cell_type_sample</th>\n",
       "    </tr>\n",
       "  </thead>\n",
       "  <tbody>\n",
       "    <tr>\n",
       "      <th>Cupr_ctrl_Shen_2</th>\n",
       "      <td>Shen et al. 2021</td>\n",
       "      <td>ctrl</td>\n",
       "      <td>Mg_A</td>\n",
       "      <td>3</td>\n",
       "      <td>ctrl_3</td>\n",
       "      <td>Shen</td>\n",
       "      <td>240640</td>\n",
       "      <td>12.391057</td>\n",
       "      <td>3</td>\n",
       "      <td>Mg_A_Cupr_ctrl_Shen_2</td>\n",
       "    </tr>\n",
       "    <tr>\n",
       "      <th>Cupr_ctrl_Shen_1</th>\n",
       "      <td>Shen et al. 2021</td>\n",
       "      <td>ctrl</td>\n",
       "      <td>Mg_A</td>\n",
       "      <td>4</td>\n",
       "      <td>ctrl_4</td>\n",
       "      <td>Shen</td>\n",
       "      <td>3305175</td>\n",
       "      <td>15.011000</td>\n",
       "      <td>4</td>\n",
       "      <td>Mg_A_Cupr_ctrl_Shen_1</td>\n",
       "    </tr>\n",
       "    <tr>\n",
       "      <th>Cupr_ctrl_Shen_3</th>\n",
       "      <td>Shen et al. 2021</td>\n",
       "      <td>ctrl</td>\n",
       "      <td>Mg_A</td>\n",
       "      <td>5</td>\n",
       "      <td>ctrl_5</td>\n",
       "      <td>Shen</td>\n",
       "      <td>2702141</td>\n",
       "      <td>14.809555</td>\n",
       "      <td>5</td>\n",
       "      <td>Mg_A_Cupr_ctrl_Shen_3</td>\n",
       "    </tr>\n",
       "    <tr>\n",
       "      <th>Cupr_4+3w_1</th>\n",
       "      <td>Shen et al. 2021</td>\n",
       "      <td>stim</td>\n",
       "      <td>Mg_trt</td>\n",
       "      <td>3</td>\n",
       "      <td>stim_3</td>\n",
       "      <td>Shen</td>\n",
       "      <td>1995176</td>\n",
       "      <td>14.506243</td>\n",
       "      <td>3</td>\n",
       "      <td>Mg_trt_Cupr_4+3w_1</td>\n",
       "    </tr>\n",
       "    <tr>\n",
       "      <th>Cupr_4+3w_3</th>\n",
       "      <td>Shen et al. 2021</td>\n",
       "      <td>stim</td>\n",
       "      <td>Mg_trt</td>\n",
       "      <td>6</td>\n",
       "      <td>stim_6</td>\n",
       "      <td>Shen</td>\n",
       "      <td>556954</td>\n",
       "      <td>13.230238</td>\n",
       "      <td>6</td>\n",
       "      <td>Mg_trt_Cupr_4+3w_3</td>\n",
       "    </tr>\n",
       "    <tr>\n",
       "      <th>Cupr_4+3w_2</th>\n",
       "      <td>Shen et al. 2021</td>\n",
       "      <td>stim</td>\n",
       "      <td>Mg_trt</td>\n",
       "      <td>8</td>\n",
       "      <td>stim_8</td>\n",
       "      <td>Shen</td>\n",
       "      <td>33389606</td>\n",
       "      <td>17.323755</td>\n",
       "      <td>8</td>\n",
       "      <td>Mg_trt_Cupr_4+3w_2</td>\n",
       "    </tr>\n",
       "  </tbody>\n",
       "</table>\n",
       "</div>"
      ],
      "text/plain": [
       "                       publication label cell_type replicate_cat  sample  \\\n",
       "Cupr_ctrl_Shen_2  Shen et al. 2021  ctrl      Mg_A             3  ctrl_3   \n",
       "Cupr_ctrl_Shen_1  Shen et al. 2021  ctrl      Mg_A             4  ctrl_4   \n",
       "Cupr_ctrl_Shen_3  Shen et al. 2021  ctrl      Mg_A             5  ctrl_5   \n",
       "Cupr_4+3w_1       Shen et al. 2021  stim    Mg_trt             3  stim_3   \n",
       "Cupr_4+3w_3       Shen et al. 2021  stim    Mg_trt             6  stim_6   \n",
       "Cupr_4+3w_2       Shen et al. 2021  stim    Mg_trt             8  stim_8   \n",
       "\n",
       "                 batch  lib_size  log_lib_size replicate  \\\n",
       "Cupr_ctrl_Shen_2  Shen    240640     12.391057         3   \n",
       "Cupr_ctrl_Shen_1  Shen   3305175     15.011000         4   \n",
       "Cupr_ctrl_Shen_3  Shen   2702141     14.809555         5   \n",
       "Cupr_4+3w_1       Shen   1995176     14.506243         3   \n",
       "Cupr_4+3w_3       Shen    556954     13.230238         6   \n",
       "Cupr_4+3w_2       Shen  33389606     17.323755         8   \n",
       "\n",
       "                       cell_type_sample  \n",
       "Cupr_ctrl_Shen_2  Mg_A_Cupr_ctrl_Shen_2  \n",
       "Cupr_ctrl_Shen_1  Mg_A_Cupr_ctrl_Shen_1  \n",
       "Cupr_ctrl_Shen_3  Mg_A_Cupr_ctrl_Shen_3  \n",
       "Cupr_4+3w_1          Mg_trt_Cupr_4+3w_1  \n",
       "Cupr_4+3w_3          Mg_trt_Cupr_4+3w_3  \n",
       "Cupr_4+3w_2          Mg_trt_Cupr_4+3w_2  "
      ]
     },
     "execution_count": 12,
     "metadata": {},
     "output_type": "execute_result"
    }
   ],
   "source": [
    "adata_sub.obs"
   ]
  },
  {
   "cell_type": "markdown",
   "id": "410e9eb5",
   "metadata": {},
   "source": [
    "# Rename the MOL clusters for NEW letter based nomenclature"
   ]
  },
  {
   "cell_type": "code",
   "execution_count": 13,
   "id": "c27be2e8",
   "metadata": {},
   "outputs": [
    {
     "name": "stdout",
     "output_type": "stream",
     "text": [
      "[[  0   0   0   0   0]\n",
      " [  2 106   4  48  48]\n",
      " [  0  71   3  48  29]\n",
      " [  0   0   1   4   3]\n",
      " [  0   4   0  10   2]]\n"
     ]
    }
   ],
   "source": [
    "#Check the counts data\n",
    "print(adata_sub.X[:5, :5])"
   ]
  },
  {
   "cell_type": "markdown",
   "id": "bb668794",
   "metadata": {},
   "source": [
    "# Start R code: QC of log transformation"
   ]
  },
  {
   "cell_type": "code",
   "execution_count": 14,
   "id": "a2639073",
   "metadata": {},
   "outputs": [
    {
     "name": "stdout",
     "output_type": "stream",
     "text": [
      "                 Group Reps Batch\n",
      "Cupr_ctrl_Shen_2  ctrl    3  Shen\n",
      "Cupr_ctrl_Shen_1  ctrl    4  Shen\n",
      "Cupr_ctrl_Shen_3  ctrl    5  Shen\n",
      "Cupr_4+3w_1       stim    3  Shen\n",
      "Cupr_4+3w_3       stim    6  Shen\n",
      "Cupr_4+3w_2       stim    8  Shen\n"
     ]
    }
   ],
   "source": [
    "%%R -i adata_sub\n",
    "\n",
    "# Concatenate label and cell type for group factor\n",
    "group <- colData(adata_sub)$label #ctrl or stim\n",
    "replicate <- colData(adata_sub)$replicate #replicate number\n",
    "batch <- colData(adata_sub)$batch\n",
    "\n",
    "treatments <- data.frame(\"Group\"=group, \"Reps\"=replicate, \"Batch\"= batch)\n",
    "print(treatments)"
   ]
  },
  {
   "cell_type": "code",
   "execution_count": 15,
   "id": "8176fc6d",
   "metadata": {},
   "outputs": [
    {
     "name": "stdout",
     "output_type": "stream",
     "text": [
      "[1] \"Dimensions before subsetting:\"\n",
      "[1] 16393     6\n",
      "\n",
      "ctrl stim \n",
      "   3    3 \n"
     ]
    }
   ],
   "source": [
    "%%R\n",
    "\n",
    "#Create a DGElist object using the anndata counts in 'X'\n",
    "x <- DGEList(assay(adata_sub, \"X\"), group=colData(adata_sub)$label)\n",
    "\n",
    "samplenames <- colnames(x$counts)\n",
    "\n",
    "print(\"Dimensions before subsetting:\")\n",
    "print(dim(x))\n",
    "\n",
    "# Check counts per group before filtering\n",
    "print(table(x$samples$group))"
   ]
  },
  {
   "cell_type": "code",
   "execution_count": 16,
   "id": "736f9231",
   "metadata": {},
   "outputs": [
    {
     "name": "stdout",
     "output_type": "stream",
     "text": [
      "[1] ctrl ctrl ctrl stim stim stim\n",
      "Levels: ctrl stim\n",
      "  cdctrl cdstim\n",
      "1      1      0\n",
      "2      1      0\n",
      "3      1      0\n",
      "4      0      1\n",
      "5      0      1\n",
      "6      0      1\n",
      "attr(,\"assign\")\n",
      "[1] 1 1\n",
      "attr(,\"contrasts\")\n",
      "attr(,\"contrasts\")$cd\n",
      "[1] \"contr.treatment\"\n",
      "\n"
     ]
    }
   ],
   "source": [
    "%%R\n",
    "\n",
    "cd <- x$samples$group\n",
    "print(cd)\n",
    "\n",
    "# Adjust for batch-- ie publication in the model matrix\n",
    "design <- model.matrix(~0 + cd)\n",
    "print(design)"
   ]
  },
  {
   "cell_type": "code",
   "execution_count": 17,
   "id": "07c61580",
   "metadata": {},
   "outputs": [
    {
     "name": "stdout",
     "output_type": "stream",
     "text": [
      "[1] 9300    6\n"
     ]
    }
   ],
   "source": [
    "%%R\n",
    "\n",
    "# More strict removal of genes, tried group, pub and batch\n",
    "keep.expr <- filterByExpr(x, design)\n",
    "x2 <- x[keep.expr,, keep.lib.sizes=FALSE]\n",
    "dim(x2)"
   ]
  },
  {
   "cell_type": "code",
   "execution_count": 18,
   "id": "cc0ff85d",
   "metadata": {},
   "outputs": [
    {
     "name": "stdout",
     "output_type": "stream",
     "text": [
      "Cupr_ctrl_Shen_2 Cupr_ctrl_Shen_1 Cupr_ctrl_Shen_3      Cupr_4+3w_1 \n",
      "            Shen             Shen             Shen             Shen \n",
      "     Cupr_4+3w_3      Cupr_4+3w_2 \n",
      "            Shen             Shen \n",
      "Levels: Shen\n"
     ]
    }
   ],
   "source": [
    "%%R\n",
    "batch"
   ]
  },
  {
   "cell_type": "code",
   "execution_count": 19,
   "id": "a53ca1e4",
   "metadata": {},
   "outputs": [
    {
     "name": "stdout",
     "output_type": "stream",
     "text": [
      "[1] 4582    6\n"
     ]
    }
   ],
   "source": [
    "%%R\n",
    "\n",
    "## OLD DON\"T USE THIS\n",
    "\n",
    "keep.exprs <- filterByExpr(x, group=batch)\n",
    "b <- x[keep.exprs,, keep.lib.sizes=FALSE]\n",
    "dim(b)"
   ]
  },
  {
   "cell_type": "code",
   "execution_count": 20,
   "id": "eff91fce",
   "metadata": {},
   "outputs": [
    {
     "name": "stdout",
     "output_type": "stream",
     "text": [
      "[1] 6.979996 2.327638\n"
     ]
    }
   ],
   "source": [
    "%%R\n",
    "#X is before trimming, Y is after trimming\n",
    "L <- mean(x2$samples$lib.size) * 1e-6\n",
    "M <- median(x2$samples$lib.size) * 1e-6\n",
    "c(L, M)"
   ]
  },
  {
   "cell_type": "code",
   "execution_count": 21,
   "id": "ed52de22",
   "metadata": {},
   "outputs": [
    {
     "name": "stdout",
     "output_type": "stream",
     "text": [
      "[1] 1.2791949 1.3620806 1.2347002 0.5591936 0.9658162 0.8606812\n"
     ]
    }
   ],
   "source": [
    "%%R\n",
    "## Calc norm factors before to normalize library sizes, then cpm divides counts by lib sizes\n",
    "#X is before trimming, Y is after trimming, X2 is also trimmed but differently\n",
    "x2 <- calcNormFactors(x2, method = \"TMM\")\n",
    "x2$samples$norm.factors"
   ]
  },
  {
   "cell_type": "code",
   "execution_count": 22,
   "id": "995a9487",
   "metadata": {},
   "outputs": [],
   "source": [
    "%%R\n",
    "#X2 is the norm lib sizes and trimmed\n",
    "cpm <- edgeR::cpm(x2, log=FALSE, prior.counts=3)\n",
    "lcpm <- edgeR::cpm(x2, log=TRUE, prior.count=3)"
   ]
  },
  {
   "cell_type": "code",
   "execution_count": 23,
   "id": "1c21200d",
   "metadata": {},
   "outputs": [
    {
     "data": {
      "image/png": "[encoded data removed]",
      "text/plain": [
       "<IPython.core.display.Image object>"
      ]
     },
     "metadata": {},
     "output_type": "display_data"
    }
   ],
   "source": [
    "%%R\n",
    "lcpm.cutoff <- log2(10/M + 2/L)\n",
    "library(RColorBrewer)\n",
    "nsamples <- ncol(x2)\n",
    "col <- brewer.pal(nsamples, \"Paired\")\n",
    "\n",
    "par(mfrow=c(1,2))\n",
    "\n",
    "lcpm <- edgeR::cpm(x, log=TRUE)\n",
    "plot(density(lcpm[,1]), col=col[1], lwd=2, ylim=c(0,0.35), las=2, main=\"\", xlab=\"\")\n",
    "title(main=\"A. Raw data\", xlab=\"Log-cpm\")\n",
    "abline(v=lcpm.cutoff, lty=3)\n",
    "for (i in 2:nsamples){\n",
    "  den <- density(lcpm[,i])\n",
    "  lines(den$x, den$y, col=col[i], lwd=2)\n",
    "}\n",
    "legend(\"topright\", samplenames, text.col=col, bty=\"n\")\n",
    "\n",
    "lcpm <- edgeR::cpm(x2, log=TRUE)\n",
    "plot(density(lcpm[,1]), col=col[1], lwd=2, ylim=c(0,0.25), las=2, main=\"\", xlab=\"\")\n",
    "title(main=\"B. Filtered data\", xlab=\"Log-cpm\")\n",
    "abline(v=lcpm.cutoff, lty=3)\n",
    "for (i in 2:nsamples){\n",
    "  den <- density(lcpm[,i])\n",
    "  lines(den$x, den$y, col=col[i], lwd=2)\n",
    "}\n",
    "legend(\"topright\", samplenames, text.col=col, bty=\"n\")"
   ]
  },
  {
   "cell_type": "code",
   "execution_count": 24,
   "id": "0a231181",
   "metadata": {},
   "outputs": [
    {
     "data": {
      "image/png": "[encoded data removed]",
      "text/plain": [
       "<IPython.core.display.Image object>"
      ]
     },
     "metadata": {},
     "output_type": "display_data"
    }
   ],
   "source": [
    "%%R\n",
    "y2 <- x2\n",
    "y2$samples$norm.factors <- 1\n",
    "y2$counts[,1] <- ceiling(y2$counts[,1]*0.05)\n",
    "y2$counts[,2] <- y2$counts[,2]*5\n",
    "\n",
    "par(mfrow=c(1,2))\n",
    "lcpm <- edgeR::cpm(y2, log=TRUE)\n",
    "boxplot(lcpm, las=2, col=col, main=\"\")\n",
    "title(main=\"Unnormalised data\", ylab=\"Log-cpm\")\n",
    "\n",
    "y3 <- calcNormFactors(y2)\n",
    "y3$samples$norm.factors\n",
    "\n",
    "lcpm <- edgeR::cpm(y3, log=TRUE)\n",
    "boxplot(lcpm, las=2, col=col, main=\"\")\n",
    "title(main=\"Normalised data\", ylab=\"Log-cpm\")"
   ]
  },
  {
   "cell_type": "markdown",
   "id": "6ededd16",
   "metadata": {},
   "source": [
    "# Show how log transf + batch removal affects the separation of samples:"
   ]
  },
  {
   "cell_type": "code",
   "execution_count": 25,
   "id": "50f77fc0",
   "metadata": {},
   "outputs": [
    {
     "name": "stdout",
     "output_type": "stream",
     "text": [
      "[1] ctrl ctrl ctrl stim stim stim\n",
      "Levels: ctrl stim\n"
     ]
    }
   ],
   "source": [
    "%%R\n",
    "cd <- x2$samples$group\n",
    "print(cd)"
   ]
  },
  {
   "cell_type": "code",
   "execution_count": 26,
   "id": "2e68e94f",
   "metadata": {},
   "outputs": [],
   "source": [
    "%%R\n",
    "#Make new count matrix with log counts and DGE data from X2 (trimmed, normfactors)\n",
    "x3 <- x2\n",
    "x3$counts <- lcpm"
   ]
  },
  {
   "cell_type": "code",
   "execution_count": 27,
   "id": "4f317f45",
   "metadata": {},
   "outputs": [
    {
     "data": {
      "image/png": "[encoded data removed]",
      "text/plain": [
       "<IPython.core.display.Image object>"
      ]
     },
     "metadata": {},
     "output_type": "display_data"
    }
   ],
   "source": [
    "%%R\n",
    "# Assuming 'group' is stored in y$samples dataframe\n",
    "group <- x2$samples$group\n",
    "\n",
    "# Generate a numeric vector from group factors (if not already factor, convert it)\n",
    "group_factor <- as.factor(group)\n",
    "group_colors <- as.numeric(group_factor)  # This converts factors to unique integers\n",
    "\n",
    "# Define a set of colors corresponding to the factors\n",
    "# Example: If you have two groups, you could define two colors\n",
    "colors <- c(\"blue\", \"red\")  # Adjust the number and colors based on your actual groups\n",
    "\n",
    "# Use these colors in your plotMDS\n",
    "plotMDS(x2, col = colors[group_colors])\n",
    "\n",
    "# Adding a legend for clarity\n",
    "legend(\"topright\", legend=levels(group_factor), fill=colors, title=\"Group\")"
   ]
  },
  {
   "cell_type": "code",
   "execution_count": 28,
   "id": "a3c165e9",
   "metadata": {},
   "outputs": [
    {
     "name": "stdout",
     "output_type": "stream",
     "text": [
      "  cdctrl cdstim\n",
      "1      1      0\n",
      "2      1      0\n",
      "3      1      0\n",
      "4      0      1\n",
      "5      0      1\n",
      "6      0      1\n",
      "attr(,\"assign\")\n",
      "[1] 1 1\n",
      "attr(,\"contrasts\")\n",
      "attr(,\"contrasts\")$cd\n",
      "[1] \"contr.treatment\"\n",
      "\n"
     ]
    }
   ],
   "source": [
    "%%R\n",
    "# Adjust for batch-- ie publication in the model matrix\n",
    "design <- model.matrix(~0 + cd)\n",
    "design"
   ]
  },
  {
   "cell_type": "code",
   "execution_count": 29,
   "id": "ebd3bc3a",
   "metadata": {},
   "outputs": [
    {
     "name": "stdout",
     "output_type": "stream",
     "text": [
      "        Contrasts\n",
      "Levels   cdstim - cdctrl\n",
      "  cdctrl              -1\n",
      "  cdstim               1\n"
     ]
    }
   ],
   "source": [
    "%%R\n",
    "contr.matrix <- makeContrasts(cdstim - cdctrl, levels = colnames(design))\n",
    "contr.matrix"
   ]
  },
  {
   "cell_type": "code",
   "execution_count": 30,
   "id": "93bc6589",
   "metadata": {},
   "outputs": [],
   "source": [
    "%%R\n",
    "# Convert to CPM and log2 transformation. \n",
    "logCPM <- edgeR::cpm(x2, log=TRUE, prior.count=3)"
   ]
  },
  {
   "cell_type": "code",
   "execution_count": 31,
   "id": "aca27a7e",
   "metadata": {},
   "outputs": [
    {
     "data": {
      "image/png": "[encoded data removed]",
      "text/plain": [
       "<IPython.core.display.Image object>"
      ]
     },
     "metadata": {},
     "output_type": "display_data"
    }
   ],
   "source": [
    "%%R\n",
    "heatmap(logCPM)"
   ]
  },
  {
   "cell_type": "markdown",
   "id": "49ffd9bc",
   "metadata": {},
   "source": [
    "# Lets try with voom:"
   ]
  },
  {
   "cell_type": "code",
   "execution_count": 32,
   "id": "9961211b",
   "metadata": {},
   "outputs": [
    {
     "name": "stdout",
     "output_type": "stream",
     "text": [
      "  cdctrl cdstim\n",
      "1      1      0\n",
      "2      1      0\n",
      "3      1      0\n",
      "4      0      1\n",
      "5      0      1\n",
      "6      0      1\n",
      "attr(,\"assign\")\n",
      "[1] 1 1\n",
      "attr(,\"contrasts\")\n",
      "attr(,\"contrasts\")$cd\n",
      "[1] \"contr.treatment\"\n",
      "\n"
     ]
    }
   ],
   "source": [
    "%%R\n",
    "# Adjust for batch-- ie publication in the model matrix\n",
    "design <- model.matrix(~0 + cd)\n",
    "design"
   ]
  },
  {
   "cell_type": "code",
   "execution_count": 33,
   "id": "e26e5510",
   "metadata": {},
   "outputs": [
    {
     "name": "stdout",
     "output_type": "stream",
     "text": [
      "        Contrasts\n",
      "Levels   cdstim - cdctrl\n",
      "  cdctrl              -1\n",
      "  cdstim               1\n"
     ]
    }
   ],
   "source": [
    "%%R\n",
    "contr.matrix <- makeContrasts(cdstim - cdctrl, levels = colnames(design))\n",
    "contr.matrix"
   ]
  },
  {
   "cell_type": "code",
   "execution_count": 34,
   "id": "37e49e48",
   "metadata": {},
   "outputs": [
    {
     "data": {
      "image/png": "[encoded data removed]",
      "text/plain": [
       "<IPython.core.display.Image object>"
      ]
     },
     "metadata": {},
     "output_type": "display_data"
    }
   ],
   "source": [
    "%%R\n",
    "y <- voom(x2$counts, design, plot=TRUE)"
   ]
  },
  {
   "cell_type": "code",
   "execution_count": 35,
   "id": "332ae228",
   "metadata": {},
   "outputs": [
    {
     "name": "stdout",
     "output_type": "stream",
     "text": [
      "                cdctrl   cdstim\n",
      "0610009B22Rik 4.429066 2.816962\n",
      "0610009L18Rik 3.545329 3.072049\n",
      "0610010F05Rik 3.222927 2.816134\n",
      "0610010K14Rik 7.328325 5.312230\n",
      "0610012G03Rik 5.630254 6.487719\n",
      "0610030E20Rik 5.553830 5.137588\n"
     ]
    }
   ],
   "source": [
    "%%R\n",
    "fit <- lmFit(y, design)\n",
    "head(coef(fit))"
   ]
  },
  {
   "cell_type": "code",
   "execution_count": 36,
   "id": "5f71c8bb",
   "metadata": {},
   "outputs": [
    {
     "data": {
      "image/png": "[encoded data removed]",
      "text/plain": [
       "<IPython.core.display.Image object>"
      ]
     },
     "metadata": {},
     "output_type": "display_data"
    }
   ],
   "source": [
    "%%R\n",
    "contr <- makeContrasts(cdstim - cdctrl, levels = colnames(coef(fit)))\n",
    "tmp <- contrasts.fit(fit, contr)\n",
    "tmp2 <- eBayes(tmp)\n",
    "\n",
    "plotSA(tmp2, xlab = \"Average log-expression\", ylab = \"sqrt(sigma)\", zero.weights = FALSE,\n",
    "       pch = 16, cex = 0.3, col = c(\"black\",\"red\"))"
   ]
  },
  {
   "cell_type": "code",
   "execution_count": 37,
   "id": "42211391",
   "metadata": {},
   "outputs": [
    {
     "name": "stdout",
     "output_type": "stream",
     "text": [
      "            logFC   AveExpr         t      P.Value   adj.P.Val        B\n",
      "Lyz2     5.104794 10.103155  14.77421 7.712228e-07 0.004300177 6.640674\n",
      "Spp1    11.768442  5.822141  14.08596 1.092828e-06 0.004300177 3.582311\n",
      "Cd63     3.023883  9.860817  12.80964 2.180168e-06 0.004300177 5.667068\n",
      "Cd52     3.718690  8.885470  12.74431 2.262442e-06 0.004300177 5.611328\n",
      "Bcl2a1d  4.618455  6.675289  12.49085 2.616475e-06 0.004300177 5.113131\n",
      "Apoe     7.333739 12.793822  12.39004 2.774308e-06 0.004300177 5.424250\n",
      "Capg     3.799097  6.966579  11.93598 3.631956e-06 0.004516648 5.011215\n",
      "Bcl2a1a  3.846157  6.857658  11.75488 4.054460e-06 0.004516648 4.882157\n",
      "Csmd3   -4.672335  7.632420 -11.63263 4.370950e-06 0.004516648 4.955352\n",
      "Gpnmb   10.281300  3.792218  11.21473 5.682686e-06 0.005190884 2.879431\n"
     ]
    }
   ],
   "source": [
    "%%R\n",
    "# Retrieve the top results without sorting by p-value directly\n",
    "tt <- topTable(tmp2, sort.by = \"P\", n = Inf)\n",
    "head(tt, 10)"
   ]
  },
  {
   "cell_type": "code",
   "execution_count": 38,
   "id": "d9e96826",
   "metadata": {},
   "outputs": [
    {
     "name": "stdout",
     "output_type": "stream",
     "text": [
      "[1] 1004\n"
     ]
    }
   ],
   "source": [
    "%%R\n",
    "length(which(tt$adj.P.Val < 0.05))"
   ]
  },
  {
   "cell_type": "code",
   "execution_count": 39,
   "id": "3a7a0bb5",
   "metadata": {},
   "outputs": [
    {
     "name": "stdout",
     "output_type": "stream",
     "text": [
      "[1] 1004\n"
     ]
    }
   ],
   "source": [
    "%%R\n",
    "# Calculate the number of genes with adj.P.Val < 0.05 and |logFC| > 1\n",
    "significant_genes <- tt[tt$adj.P.Val < 0.05 & abs(tt$logFC) > 0.7, ]\n",
    "num_significant_genes <- nrow(significant_genes)\n",
    "\n",
    "# Print the number of significant genes\n",
    "print(num_significant_genes)"
   ]
  },
  {
   "cell_type": "code",
   "execution_count": 40,
   "id": "ae1a71ec",
   "metadata": {},
   "outputs": [
    {
     "name": "stdout",
     "output_type": "stream",
     "text": [
      "[1] 993\n"
     ]
    }
   ],
   "source": [
    "%%R\n",
    "# Calculate the number of genes with adj.P.Val < 0.05 and |logFC| > 1\n",
    "significant_genes <- tt[tt$adj.P.Val < 0.05 & abs(tt$logFC) > 1, ]\n",
    "num_significant_genes <- nrow(significant_genes)\n",
    "\n",
    "# Print the number of significant genes\n",
    "print(num_significant_genes)"
   ]
  },
  {
   "cell_type": "code",
   "execution_count": 41,
   "id": "468b2a5a",
   "metadata": {},
   "outputs": [
    {
     "name": "stdout",
     "output_type": "stream",
     "text": [
      "[1] 260\n",
      "          logFC  AveExpr         t      P.Value   adj.P.Val           B\n",
      "Spp1  11.768442 5.822141 14.085965 1.092828e-06 0.004300177  3.58231082\n",
      "Gpnmb 10.281300 3.792218 11.214727 5.682686e-06 0.005190884  2.87943140\n",
      "Apoc1  9.152331 4.460310  5.598744 6.293035e-04 0.019428058 -0.04860733\n",
      "Igf1   9.050102 4.776384  7.387569 1.040814e-04 0.012769889  1.27874585\n",
      "Apoc4  8.995926 3.162898  7.098018 1.360082e-04 0.013246696  1.05718838\n",
      "Olr1   8.978068 3.204651  8.393430 4.364927e-05 0.011123314  1.78654508\n"
     ]
    }
   ],
   "source": [
    "%%R\n",
    "# Calculate the number of genes with adj.P.Val < 0.05 and |logFC| > 1\n",
    "genes_up <- tt[tt$adj.P.Val < 0.05 & tt$logFC > 1, ]\n",
    "num_genes_up <- nrow(genes_up)\n",
    "\n",
    "# Print the number of significant genes\n",
    "print(num_genes_up)\n",
    "\n",
    "genes_up_sorted <- genes_up[order(genes_up$logFC, decreasing = TRUE), ]\n",
    "\n",
    "# View the head of the significant genes data frame\n",
    "head(genes_up_sorted)"
   ]
  },
  {
   "cell_type": "code",
   "execution_count": 42,
   "id": "f1b8abb6",
   "metadata": {},
   "outputs": [
    {
     "name": "stdout",
     "output_type": "stream",
     "text": [
      "[1] \"Gene is not in the index of genes_up_sorted\"\n"
     ]
    }
   ],
   "source": [
    "%%R\n",
    "if ('Gfap' %in% rownames(genes_up_sorted)) {\n",
    "    print(\"Gene is in the index of genes_up_sorted\")\n",
    "} else {\n",
    "    print(\"Gene is not in the index of genes_up_sorted\")\n",
    "}"
   ]
  },
  {
   "cell_type": "code",
   "execution_count": 43,
   "id": "755c2e81",
   "metadata": {},
   "outputs": [
    {
     "name": "stdout",
     "output_type": "stream",
     "text": [
      "[1] \"Gene is not in the index of genes_up_sorted\"\n"
     ]
    }
   ],
   "source": [
    "%%R\n",
    "if ('Klk8' %in% rownames(genes_up_sorted)) {\n",
    "    print(\"Gene is in the index of genes_up_sorted\")\n",
    "} else {\n",
    "    print(\"Gene is not in the index of genes_up_sorted\")\n",
    "}"
   ]
  },
  {
   "cell_type": "code",
   "execution_count": 44,
   "id": "d7c5c9da",
   "metadata": {},
   "outputs": [
    {
     "name": "stdout",
     "output_type": "stream",
     "text": [
      "[1] 733\n",
      "              logFC   AveExpr         t      P.Value  adj.P.Val           B\n",
      "Gm26802   -6.947601 1.0494472 -6.428406 2.610841e-04 0.01540621  0.54522260\n",
      "Hist1h2ap -6.100327 2.3504104 -7.380486 1.047544e-04 0.01276989  1.44663951\n",
      "Slc5a10   -6.086016 0.7397357 -5.751801 5.315936e-04 0.01892519 -0.02620475\n",
      "Tmem44    -5.874069 1.8323108 -7.846948 6.921182e-05 0.01187099  1.59541305\n",
      "Klrd1     -5.867522 0.6409199 -5.177712 1.017170e-03 0.02322140 -0.52415311\n",
      "Khdrbs3   -5.854737 2.3357645 -6.256176 3.112604e-04 0.01599728  0.61482881\n"
     ]
    }
   ],
   "source": [
    "%%R\n",
    "# Calculate the number of genes with adj.P.Val < 0.05 and |logFC| > 1\n",
    "genes_down <- tt[tt$adj.P.Val < 0.05 & tt$logFC < -1, ]\n",
    "num_genes_down <- nrow(genes_down)\n",
    "\n",
    "# Print the number of significant genes\n",
    "print(num_genes_down)\n",
    "\n",
    "genes_down_sorted <- genes_down[order(genes_down$logFC, decreasing = FALSE), ]\n",
    "\n",
    "# View the head of the significant genes data frame\n",
    "head(genes_down_sorted)"
   ]
  },
  {
   "cell_type": "markdown",
   "id": "1b41e769",
   "metadata": {},
   "source": [
    "# If output --> change name!"
   ]
  },
  {
   "cell_type": "code",
   "execution_count": null,
   "id": "b2c75cb2",
   "metadata": {},
   "outputs": [],
   "source": [
    "%%R\n",
    "# Add row names as a new column\n",
    "tt$gene <- rownames(tt)\n",
    "\n",
    "# Optionally reorder or select columns\n",
    "tt <- tt[, c(\"gene\", names(tt)[1:6])]\n",
    "\n",
    "# Write to CSV file\n",
    "write.table(tt, file = \"./files/Cupr_remyel_Mg_ctrl_v_trt_voom_NEW.csv\", \n",
    "            row.names = FALSE, sep = \",\", quote = FALSE)"
   ]
  },
  {
   "cell_type": "markdown",
   "id": "fce213b9",
   "metadata": {},
   "source": [
    "# Voom wqw"
   ]
  },
  {
   "cell_type": "code",
   "execution_count": 45,
   "id": "a9cf3b6a",
   "metadata": {},
   "outputs": [
    {
     "data": {
      "image/png": "[encoded data removed]",
      "text/plain": [
       "<IPython.core.display.Image object>"
      ]
     },
     "metadata": {},
     "output_type": "display_data"
    }
   ],
   "source": [
    "%%R\n",
    "\n",
    "y_vqw_full <- voomWithQualityWeights(x2$counts, design, plot=TRUE)"
   ]
  },
  {
   "cell_type": "code",
   "execution_count": 52,
   "id": "821039a9",
   "metadata": {},
   "outputs": [],
   "source": [
    "%%R\n",
    "\n",
    "fit <- lmFit(y_vqw_full, design)"
   ]
  },
  {
   "cell_type": "code",
   "execution_count": 53,
   "id": "bc005206",
   "metadata": {},
   "outputs": [
    {
     "data": {
      "image/png": "[encoded data removed]",
      "text/plain": [
       "<IPython.core.display.Image object>"
      ]
     },
     "metadata": {},
     "output_type": "display_data"
    }
   ],
   "source": [
    "%%R\n",
    "\n",
    "tmp <- contrasts.fit(fit, contr)\n",
    "tmp2 <- eBayes(tmp)\n",
    "tt_full <- topTable(tmp2, sort.by = \"P\", n = Inf)\n",
    "\n",
    "plotSA(tmp2, xlab = \"Average log-expression\", ylab = \"sqrt(sigma)\", zero.weights = FALSE,\n",
    "       pch = 16, cex = 0.3, col = c(\"black\",\"red\"))"
   ]
  },
  {
   "cell_type": "code",
   "execution_count": 54,
   "id": "aa5eeae6",
   "metadata": {},
   "outputs": [
    {
     "name": "stdout",
     "output_type": "stream",
     "text": [
      "            logFC   AveExpr        t      P.Value    adj.P.Val         B\n",
      "Spp1    11.853414  5.822141 22.18537 2.349556e-09 2.185087e-05  9.662733\n",
      "Lgals3   8.535586  6.181333 19.85277 6.459612e-09 3.003719e-05  9.871127\n",
      "Lpl      6.462351  6.565490 18.90984 1.004574e-08 3.114180e-05 10.177300\n",
      "Apoe     6.775695 12.793822 17.34368 2.195917e-08 5.105507e-05  9.996144\n",
      "Igf1     9.201708  4.776384 16.56238 3.327074e-08 5.392055e-05  8.263733\n",
      "Bcl2a1d  4.606289  6.675289 16.09655 4.300290e-08 5.392055e-05  9.222453\n",
      "Cst7     7.234787  5.313316 16.04893 4.416303e-08 5.392055e-05  8.499025\n",
      "Gpnmb   10.812187  3.792218 15.96154 4.638327e-08 5.392055e-05  8.023306\n",
      "Lyz2     4.715871 10.103155 15.02622 7.969424e-08 7.837768e-05  8.767956\n",
      "Bcl2a1a  3.863947  6.857658 14.88355 8.679082e-08 7.837768e-05  8.629393\n"
     ]
    }
   ],
   "source": [
    "%%R\n",
    "\n",
    "# Retrieve the top results without sorting by p-value directly\n",
    "tt <- topTable(tmp2, sort.by = \"P\", n = Inf)\n",
    "head(tt, 10)"
   ]
  },
  {
   "cell_type": "code",
   "execution_count": 55,
   "id": "c9321ef3",
   "metadata": {},
   "outputs": [
    {
     "name": "stdout",
     "output_type": "stream",
     "text": [
      "[1] 1515\n"
     ]
    }
   ],
   "source": [
    "%%R\n",
    "length(which(tt$adj.P.Val < 0.05))"
   ]
  },
  {
   "cell_type": "code",
   "execution_count": 56,
   "id": "8572e4ee",
   "metadata": {},
   "outputs": [
    {
     "name": "stdout",
     "output_type": "stream",
     "text": [
      "[1] 430\n",
      "          logFC  AveExpr        t      P.Value    adj.P.Val        B\n",
      "Spp1  11.853414 5.822141 22.18537 2.349556e-09 2.185087e-05 9.662733\n",
      "Gpnmb 10.812187 3.792218 15.96154 4.638327e-08 5.392055e-05 8.023306\n",
      "Olr1   9.644408 3.204651 13.28563 2.384505e-07 1.385994e-04 6.880984\n",
      "Apoc4  9.301375 3.162898 12.69945 3.552944e-07 1.573447e-04 6.570543\n",
      "Cybb   9.274054 4.346384 11.76617 6.946403e-07 2.227640e-04 6.117989\n",
      "Igf1   9.201708 4.776384 16.56238 3.327074e-08 5.392055e-05 8.263733\n"
     ]
    }
   ],
   "source": [
    "%%R\n",
    "\n",
    "# Calculate the number of genes with adj.P.Val < 0.05 and |logFC| > 1\n",
    "genes_up <- tt[tt$adj.P.Val < 0.05 & tt$logFC > 0.7, ]\n",
    "num_genes_up <- nrow(genes_up)\n",
    "\n",
    "# Print the number of significant genes\n",
    "print(num_genes_up)\n",
    "\n",
    "genes_up_sorted <- genes_up[order(genes_up$logFC, decreasing = TRUE), ]\n",
    "\n",
    "# View the head of the significant genes data frame\n",
    "head(genes_up_sorted)"
   ]
  },
  {
   "cell_type": "code",
   "execution_count": 57,
   "id": "76a79686",
   "metadata": {},
   "outputs": [
    {
     "name": "stdout",
     "output_type": "stream",
     "text": [
      "[1] 1085\n",
      "              logFC   AveExpr         t      P.Value   adj.P.Val          B\n",
      "Gm26802   -6.619430 1.0494472 -5.796269 2.319833e-04 0.006368942  0.9069900\n",
      "Gm11523   -5.990735 0.5548992 -3.830537 3.803796e-03 0.032365330 -1.6171306\n",
      "Hist1h2ap -5.820031 2.3504104 -8.087225 1.690476e-05 0.001391277  3.3957142\n",
      "Slc5a10   -5.723653 0.7397357 -5.720277 2.558606e-04 0.006779212  0.8106238\n",
      "Khdrbs3   -5.656683 2.3357645 -6.894133 6.126002e-05 0.002936692  2.2493104\n",
      "Gm31243   -5.653803 2.2730434 -7.805975 2.259194e-05 0.001628721  3.1719124\n"
     ]
    }
   ],
   "source": [
    "%%R\n",
    "\n",
    "# Calculate the number of genes with adj.P.Val < 0.05 and |logFC| > 1\n",
    "genes_down <- tt[tt$adj.P.Val < 0.05 & tt$logFC < -0.7, ]\n",
    "num_genes_down <- nrow(genes_down)\n",
    "\n",
    "# Print the number of significant genes\n",
    "print(num_genes_down)\n",
    "\n",
    "genes_down_sorted <- genes_down[order(genes_down$logFC, decreasing = FALSE), ]\n",
    "\n",
    "# View the head of the significant genes data frame\n",
    "head(genes_down_sorted)"
   ]
  },
  {
   "cell_type": "markdown",
   "id": "7a37c160",
   "metadata": {},
   "source": [
    "## output"
   ]
  },
  {
   "cell_type": "code",
   "execution_count": 58,
   "id": "2e8eff5e",
   "metadata": {},
   "outputs": [],
   "source": [
    "%%R\n",
    "# Add row names as a new column\n",
    "tt$gene <- rownames(tt)\n",
    "\n",
    "# Optionally reorder or select columns\n",
    "tt <- tt[, c(\"gene\", names(tt)[1:6])]\n",
    "\n",
    "# Write to CSV file\n",
    "write.table(tt, file = \"./files/Cupr_remyel_MG_DAM_voom_wqw.csv\", \n",
    "            row.names = FALSE, sep = \",\", quote = FALSE)"
   ]
  },
  {
   "cell_type": "markdown",
   "id": "12cf7f36",
   "metadata": {},
   "source": [
    "# Check LR Pair Overlap"
   ]
  },
  {
   "cell_type": "code",
   "execution_count": 59,
   "id": "5bf5c4f2",
   "metadata": {},
   "outputs": [
    {
     "data": {
      "text/html": [
       "<div>\n",
       "<style scoped>\n",
       "    .dataframe tbody tr th:only-of-type {\n",
       "        vertical-align: middle;\n",
       "    }\n",
       "\n",
       "    .dataframe tbody tr th {\n",
       "        vertical-align: top;\n",
       "    }\n",
       "\n",
       "    .dataframe thead th {\n",
       "        text-align: right;\n",
       "    }\n",
       "</style>\n",
       "<table border=\"1\" class=\"dataframe\">\n",
       "  <thead>\n",
       "    <tr style=\"text-align: right;\">\n",
       "      <th></th>\n",
       "      <th>ligand</th>\n",
       "      <th>receptor</th>\n",
       "    </tr>\n",
       "  </thead>\n",
       "  <tbody>\n",
       "    <tr>\n",
       "      <th>31371</th>\n",
       "      <td>Dll1</td>\n",
       "      <td>Notch1</td>\n",
       "    </tr>\n",
       "    <tr>\n",
       "      <th>31372</th>\n",
       "      <td>Dll1</td>\n",
       "      <td>Notch2</td>\n",
       "    </tr>\n",
       "    <tr>\n",
       "      <th>31373</th>\n",
       "      <td>Dll1</td>\n",
       "      <td>Notch4</td>\n",
       "    </tr>\n",
       "    <tr>\n",
       "      <th>31374</th>\n",
       "      <td>Dll1</td>\n",
       "      <td>Notch3</td>\n",
       "    </tr>\n",
       "    <tr>\n",
       "      <th>31375</th>\n",
       "      <td>Nrg2</td>\n",
       "      <td>Erbb2_Erbb3</td>\n",
       "    </tr>\n",
       "  </tbody>\n",
       "</table>\n",
       "</div>"
      ],
      "text/plain": [
       "      ligand     receptor\n",
       "31371   Dll1       Notch1\n",
       "31372   Dll1       Notch2\n",
       "31373   Dll1       Notch4\n",
       "31374   Dll1       Notch3\n",
       "31375   Nrg2  Erbb2_Erbb3"
      ]
     },
     "execution_count": 59,
     "metadata": {},
     "output_type": "execute_result"
    }
   ],
   "source": [
    "import liana as li\n",
    "lr_pairs = li.resource.select_resource('mouseconsensus')\n",
    "lr_pairs.head()"
   ]
  },
  {
   "cell_type": "code",
   "execution_count": 60,
   "id": "4bd741b5",
   "metadata": {},
   "outputs": [
    {
     "data": {
      "text/plain": [
       "(9300, 7)"
      ]
     },
     "execution_count": 60,
     "metadata": {},
     "output_type": "execute_result"
    }
   ],
   "source": [
    "DEG_all = pd.read_csv('./files/Cupr_remyel_MG_DAM_voom_wqw.csv', index_col=None)\n",
    "DEG_all.rename(columns={'adj.P.Val': 'Padj'}, inplace=True)\n",
    "DEG_all.rename(columns={'P.Value': 'Pvalue'}, inplace=True)\n",
    "DEG_all.shape"
   ]
  },
  {
   "cell_type": "code",
   "execution_count": 61,
   "id": "deead233",
   "metadata": {},
   "outputs": [
    {
     "data": {
      "text/plain": [
       "(1501, 7)"
      ]
     },
     "execution_count": 61,
     "metadata": {},
     "output_type": "execute_result"
    }
   ],
   "source": [
    "sigs = DEG_all[(DEG_all.Padj < 0.05) & (abs(DEG_all.logFC) >= 1)]\n",
    "sigs.shape"
   ]
  },
  {
   "cell_type": "code",
   "execution_count": 62,
   "id": "be26c26a",
   "metadata": {},
   "outputs": [
    {
     "name": "stdout",
     "output_type": "stream",
     "text": [
      "Total ligand-receptor pairs where both are differentially expressed: 49\n"
     ]
    },
    {
     "data": {
      "text/html": [
       "<div>\n",
       "<style scoped>\n",
       "    .dataframe tbody tr th:only-of-type {\n",
       "        vertical-align: middle;\n",
       "    }\n",
       "\n",
       "    .dataframe tbody tr th {\n",
       "        vertical-align: top;\n",
       "    }\n",
       "\n",
       "    .dataframe thead th {\n",
       "        text-align: right;\n",
       "    }\n",
       "</style>\n",
       "<table border=\"1\" class=\"dataframe\">\n",
       "  <thead>\n",
       "    <tr style=\"text-align: right;\">\n",
       "      <th></th>\n",
       "      <th>ligand</th>\n",
       "      <th>receptor</th>\n",
       "      <th>logFC_ligand</th>\n",
       "      <th>logFC_receptor</th>\n",
       "    </tr>\n",
       "  </thead>\n",
       "  <tbody>\n",
       "    <tr>\n",
       "      <th>16</th>\n",
       "      <td>Spp1</td>\n",
       "      <td>Ptger4</td>\n",
       "      <td>11.853414</td>\n",
       "      <td>4.979880</td>\n",
       "    </tr>\n",
       "    <tr>\n",
       "      <th>15</th>\n",
       "      <td>Spp1</td>\n",
       "      <td>Cd44</td>\n",
       "      <td>11.853414</td>\n",
       "      <td>6.243842</td>\n",
       "    </tr>\n",
       "    <tr>\n",
       "      <th>45</th>\n",
       "      <td>Lgals3</td>\n",
       "      <td>Eng</td>\n",
       "      <td>8.535586</td>\n",
       "      <td>-2.169218</td>\n",
       "    </tr>\n",
       "    <tr>\n",
       "      <th>32</th>\n",
       "      <td>Mmp12</td>\n",
       "      <td>Plaur</td>\n",
       "      <td>8.135874</td>\n",
       "      <td>2.569631</td>\n",
       "    </tr>\n",
       "    <tr>\n",
       "      <th>12</th>\n",
       "      <td>Cxcl14</td>\n",
       "      <td>Cxcr4</td>\n",
       "      <td>7.557942</td>\n",
       "      <td>6.910444</td>\n",
       "    </tr>\n",
       "    <tr>\n",
       "      <th>14</th>\n",
       "      <td>Apoe</td>\n",
       "      <td>Lrp5</td>\n",
       "      <td>6.775695</td>\n",
       "      <td>-2.068016</td>\n",
       "    </tr>\n",
       "    <tr>\n",
       "      <th>36</th>\n",
       "      <td>Apoe</td>\n",
       "      <td>Abca1</td>\n",
       "      <td>6.775695</td>\n",
       "      <td>1.905234</td>\n",
       "    </tr>\n",
       "    <tr>\n",
       "      <th>38</th>\n",
       "      <td>Lpl</td>\n",
       "      <td>Cd44</td>\n",
       "      <td>6.462351</td>\n",
       "      <td>6.243842</td>\n",
       "    </tr>\n",
       "    <tr>\n",
       "      <th>33</th>\n",
       "      <td>Ccl5</td>\n",
       "      <td>Sdc4</td>\n",
       "      <td>6.360841</td>\n",
       "      <td>3.407504</td>\n",
       "    </tr>\n",
       "    <tr>\n",
       "      <th>18</th>\n",
       "      <td>Ccl5</td>\n",
       "      <td>Ccrl2</td>\n",
       "      <td>6.360841</td>\n",
       "      <td>1.632204</td>\n",
       "    </tr>\n",
       "    <tr>\n",
       "      <th>19</th>\n",
       "      <td>Ccl5</td>\n",
       "      <td>Ccr5</td>\n",
       "      <td>6.360841</td>\n",
       "      <td>-2.762965</td>\n",
       "    </tr>\n",
       "    <tr>\n",
       "      <th>24</th>\n",
       "      <td>Dkk2</td>\n",
       "      <td>Lrp5</td>\n",
       "      <td>6.230714</td>\n",
       "      <td>-2.068016</td>\n",
       "    </tr>\n",
       "    <tr>\n",
       "      <th>34</th>\n",
       "      <td>Vim</td>\n",
       "      <td>Cd44</td>\n",
       "      <td>5.892361</td>\n",
       "      <td>6.243842</td>\n",
       "    </tr>\n",
       "    <tr>\n",
       "      <th>0</th>\n",
       "      <td>Anxa2</td>\n",
       "      <td>Tlr2</td>\n",
       "      <td>5.754556</td>\n",
       "      <td>2.034209</td>\n",
       "    </tr>\n",
       "    <tr>\n",
       "      <th>13</th>\n",
       "      <td>Il1b</td>\n",
       "      <td>Adrb2</td>\n",
       "      <td>5.492453</td>\n",
       "      <td>-2.587252</td>\n",
       "    </tr>\n",
       "    <tr>\n",
       "      <th>30</th>\n",
       "      <td>C3</td>\n",
       "      <td>Itgax</td>\n",
       "      <td>5.124836</td>\n",
       "      <td>7.274460</td>\n",
       "    </tr>\n",
       "    <tr>\n",
       "      <th>35</th>\n",
       "      <td>C3</td>\n",
       "      <td>Cd81</td>\n",
       "      <td>5.124836</td>\n",
       "      <td>-1.219724</td>\n",
       "    </tr>\n",
       "    <tr>\n",
       "      <th>28</th>\n",
       "      <td>C3</td>\n",
       "      <td>Itgam</td>\n",
       "      <td>5.124836</td>\n",
       "      <td>-1.296119</td>\n",
       "    </tr>\n",
       "    <tr>\n",
       "      <th>29</th>\n",
       "      <td>C3</td>\n",
       "      <td>C5ar2</td>\n",
       "      <td>5.124836</td>\n",
       "      <td>-1.582707</td>\n",
       "    </tr>\n",
       "    <tr>\n",
       "      <th>26</th>\n",
       "      <td>Lgals1</td>\n",
       "      <td>Cd69</td>\n",
       "      <td>4.828838</td>\n",
       "      <td>6.675580</td>\n",
       "    </tr>\n",
       "    <tr>\n",
       "      <th>40</th>\n",
       "      <td>Ptgs2</td>\n",
       "      <td>Alox5</td>\n",
       "      <td>4.749162</td>\n",
       "      <td>-1.978204</td>\n",
       "    </tr>\n",
       "    <tr>\n",
       "      <th>48</th>\n",
       "      <td>Lyz2</td>\n",
       "      <td>Itgal</td>\n",
       "      <td>4.715871</td>\n",
       "      <td>5.485143</td>\n",
       "    </tr>\n",
       "    <tr>\n",
       "      <th>8</th>\n",
       "      <td>Fn1</td>\n",
       "      <td>Plaur</td>\n",
       "      <td>4.337606</td>\n",
       "      <td>2.569631</td>\n",
       "    </tr>\n",
       "    <tr>\n",
       "      <th>7</th>\n",
       "      <td>Fn1</td>\n",
       "      <td>Itga6</td>\n",
       "      <td>4.337606</td>\n",
       "      <td>-1.516318</td>\n",
       "    </tr>\n",
       "    <tr>\n",
       "      <th>6</th>\n",
       "      <td>Fn1</td>\n",
       "      <td>Cd44</td>\n",
       "      <td>4.337606</td>\n",
       "      <td>6.243842</td>\n",
       "    </tr>\n",
       "    <tr>\n",
       "      <th>9</th>\n",
       "      <td>Fn1</td>\n",
       "      <td>Itga9</td>\n",
       "      <td>4.337606</td>\n",
       "      <td>-2.680182</td>\n",
       "    </tr>\n",
       "    <tr>\n",
       "      <th>46</th>\n",
       "      <td>Cxcl10</td>\n",
       "      <td>Tlr4</td>\n",
       "      <td>3.810237</td>\n",
       "      <td>-1.812144</td>\n",
       "    </tr>\n",
       "    <tr>\n",
       "      <th>31</th>\n",
       "      <td>Cxcl10</td>\n",
       "      <td>Sdc4</td>\n",
       "      <td>3.810237</td>\n",
       "      <td>3.407504</td>\n",
       "    </tr>\n",
       "    <tr>\n",
       "      <th>47</th>\n",
       "      <td>Csf1</td>\n",
       "      <td>Csf2ra</td>\n",
       "      <td>2.016280</td>\n",
       "      <td>1.354154</td>\n",
       "    </tr>\n",
       "    <tr>\n",
       "      <th>1</th>\n",
       "      <td>Cd14</td>\n",
       "      <td>Tlr4</td>\n",
       "      <td>1.986538</td>\n",
       "      <td>-1.812144</td>\n",
       "    </tr>\n",
       "    <tr>\n",
       "      <th>2</th>\n",
       "      <td>Cd14</td>\n",
       "      <td>Itga4</td>\n",
       "      <td>1.986538</td>\n",
       "      <td>4.331615</td>\n",
       "    </tr>\n",
       "    <tr>\n",
       "      <th>37</th>\n",
       "      <td>Timp2</td>\n",
       "      <td>Cd44</td>\n",
       "      <td>1.568424</td>\n",
       "      <td>6.243842</td>\n",
       "    </tr>\n",
       "    <tr>\n",
       "      <th>39</th>\n",
       "      <td>Pkm</td>\n",
       "      <td>Cd44</td>\n",
       "      <td>1.450032</td>\n",
       "      <td>6.243842</td>\n",
       "    </tr>\n",
       "    <tr>\n",
       "      <th>17</th>\n",
       "      <td>Ccl4</td>\n",
       "      <td>Ccr5</td>\n",
       "      <td>1.301272</td>\n",
       "      <td>-2.762965</td>\n",
       "    </tr>\n",
       "    <tr>\n",
       "      <th>4</th>\n",
       "      <td>B2m</td>\n",
       "      <td>Klrd1</td>\n",
       "      <td>1.087353</td>\n",
       "      <td>-5.462261</td>\n",
       "    </tr>\n",
       "    <tr>\n",
       "      <th>3</th>\n",
       "      <td>H2-M3</td>\n",
       "      <td>Klrd1</td>\n",
       "      <td>1.048994</td>\n",
       "      <td>-5.462261</td>\n",
       "    </tr>\n",
       "    <tr>\n",
       "      <th>42</th>\n",
       "      <td>Entpd1</td>\n",
       "      <td>Adora3</td>\n",
       "      <td>-1.143359</td>\n",
       "      <td>-1.678566</td>\n",
       "    </tr>\n",
       "    <tr>\n",
       "      <th>41</th>\n",
       "      <td>Spint1</td>\n",
       "      <td>St14</td>\n",
       "      <td>-1.376260</td>\n",
       "      <td>2.494051</td>\n",
       "    </tr>\n",
       "    <tr>\n",
       "      <th>23</th>\n",
       "      <td>Ccl2</td>\n",
       "      <td>Ccr5</td>\n",
       "      <td>-1.961301</td>\n",
       "      <td>-2.762965</td>\n",
       "    </tr>\n",
       "    <tr>\n",
       "      <th>27</th>\n",
       "      <td>Hbegf</td>\n",
       "      <td>Cd9</td>\n",
       "      <td>-1.974744</td>\n",
       "      <td>1.360835</td>\n",
       "    </tr>\n",
       "    <tr>\n",
       "      <th>22</th>\n",
       "      <td>Hbegf</td>\n",
       "      <td>Cd44</td>\n",
       "      <td>-1.974744</td>\n",
       "      <td>6.243842</td>\n",
       "    </tr>\n",
       "    <tr>\n",
       "      <th>44</th>\n",
       "      <td>Sparc</td>\n",
       "      <td>Eng</td>\n",
       "      <td>-2.021186</td>\n",
       "      <td>-2.169218</td>\n",
       "    </tr>\n",
       "    <tr>\n",
       "      <th>11</th>\n",
       "      <td>Lefty1</td>\n",
       "      <td>Acvr2b</td>\n",
       "      <td>-2.235173</td>\n",
       "      <td>-2.566248</td>\n",
       "    </tr>\n",
       "    <tr>\n",
       "      <th>10</th>\n",
       "      <td>Lefty1</td>\n",
       "      <td>Acvr2a</td>\n",
       "      <td>-2.235173</td>\n",
       "      <td>-2.148173</td>\n",
       "    </tr>\n",
       "    <tr>\n",
       "      <th>21</th>\n",
       "      <td>Il16</td>\n",
       "      <td>Ccr5</td>\n",
       "      <td>-2.813188</td>\n",
       "      <td>-2.762965</td>\n",
       "    </tr>\n",
       "    <tr>\n",
       "      <th>43</th>\n",
       "      <td>Il16</td>\n",
       "      <td>Kcnd1</td>\n",
       "      <td>-2.813188</td>\n",
       "      <td>-2.961744</td>\n",
       "    </tr>\n",
       "    <tr>\n",
       "      <th>25</th>\n",
       "      <td>Il16</td>\n",
       "      <td>Cd9</td>\n",
       "      <td>-2.813188</td>\n",
       "      <td>1.360835</td>\n",
       "    </tr>\n",
       "    <tr>\n",
       "      <th>5</th>\n",
       "      <td>Selplg</td>\n",
       "      <td>Itgam</td>\n",
       "      <td>-2.950109</td>\n",
       "      <td>-1.296119</td>\n",
       "    </tr>\n",
       "    <tr>\n",
       "      <th>20</th>\n",
       "      <td>Serpinf1</td>\n",
       "      <td>Plxdc2</td>\n",
       "      <td>-3.589996</td>\n",
       "      <td>-1.275140</td>\n",
       "    </tr>\n",
       "  </tbody>\n",
       "</table>\n",
       "</div>"
      ],
      "text/plain": [
       "      ligand receptor  logFC_ligand  logFC_receptor\n",
       "16      Spp1   Ptger4     11.853414        4.979880\n",
       "15      Spp1     Cd44     11.853414        6.243842\n",
       "45    Lgals3      Eng      8.535586       -2.169218\n",
       "32     Mmp12    Plaur      8.135874        2.569631\n",
       "12    Cxcl14    Cxcr4      7.557942        6.910444\n",
       "14      Apoe     Lrp5      6.775695       -2.068016\n",
       "36      Apoe    Abca1      6.775695        1.905234\n",
       "38       Lpl     Cd44      6.462351        6.243842\n",
       "33      Ccl5     Sdc4      6.360841        3.407504\n",
       "18      Ccl5    Ccrl2      6.360841        1.632204\n",
       "19      Ccl5     Ccr5      6.360841       -2.762965\n",
       "24      Dkk2     Lrp5      6.230714       -2.068016\n",
       "34       Vim     Cd44      5.892361        6.243842\n",
       "0      Anxa2     Tlr2      5.754556        2.034209\n",
       "13      Il1b    Adrb2      5.492453       -2.587252\n",
       "30        C3    Itgax      5.124836        7.274460\n",
       "35        C3     Cd81      5.124836       -1.219724\n",
       "28        C3    Itgam      5.124836       -1.296119\n",
       "29        C3    C5ar2      5.124836       -1.582707\n",
       "26    Lgals1     Cd69      4.828838        6.675580\n",
       "40     Ptgs2    Alox5      4.749162       -1.978204\n",
       "48      Lyz2    Itgal      4.715871        5.485143\n",
       "8        Fn1    Plaur      4.337606        2.569631\n",
       "7        Fn1    Itga6      4.337606       -1.516318\n",
       "6        Fn1     Cd44      4.337606        6.243842\n",
       "9        Fn1    Itga9      4.337606       -2.680182\n",
       "46    Cxcl10     Tlr4      3.810237       -1.812144\n",
       "31    Cxcl10     Sdc4      3.810237        3.407504\n",
       "47      Csf1   Csf2ra      2.016280        1.354154\n",
       "1       Cd14     Tlr4      1.986538       -1.812144\n",
       "2       Cd14    Itga4      1.986538        4.331615\n",
       "37     Timp2     Cd44      1.568424        6.243842\n",
       "39       Pkm     Cd44      1.450032        6.243842\n",
       "17      Ccl4     Ccr5      1.301272       -2.762965\n",
       "4        B2m    Klrd1      1.087353       -5.462261\n",
       "3      H2-M3    Klrd1      1.048994       -5.462261\n",
       "42    Entpd1   Adora3     -1.143359       -1.678566\n",
       "41    Spint1     St14     -1.376260        2.494051\n",
       "23      Ccl2     Ccr5     -1.961301       -2.762965\n",
       "27     Hbegf      Cd9     -1.974744        1.360835\n",
       "22     Hbegf     Cd44     -1.974744        6.243842\n",
       "44     Sparc      Eng     -2.021186       -2.169218\n",
       "11    Lefty1   Acvr2b     -2.235173       -2.566248\n",
       "10    Lefty1   Acvr2a     -2.235173       -2.148173\n",
       "21      Il16     Ccr5     -2.813188       -2.762965\n",
       "43      Il16    Kcnd1     -2.813188       -2.961744\n",
       "25      Il16      Cd9     -2.813188        1.360835\n",
       "5     Selplg    Itgam     -2.950109       -1.296119\n",
       "20  Serpinf1   Plxdc2     -3.589996       -1.275140"
      ]
     },
     "execution_count": 62,
     "metadata": {},
     "output_type": "execute_result"
    }
   ],
   "source": [
    "# Step 1: Convert ligands and receptors to a list\n",
    "ligands = lr_pairs['ligand'].tolist()\n",
    "receptors = lr_pairs['receptor'].tolist()\n",
    "\n",
    "# Step 2: Filter DEGs from 'sigs'\n",
    "degs = set(sigs['gene'])  # Create a set for faster lookup\n",
    "\n",
    "# Step 3: Check which ligand-receptor pairs have both ligands and receptors as DEGs\n",
    "matched_pairs = lr_pairs[(lr_pairs['ligand'].isin(degs)) & (lr_pairs['receptor'].isin(degs))]\n",
    "\n",
    "# Step 4: Count the matched pairs\n",
    "num_matched_pairs = matched_pairs.shape[0]\n",
    "\n",
    "# Output the result\n",
    "print(f'Total ligand-receptor pairs where both are differentially expressed: {num_matched_pairs}')\n",
    "\n",
    "# Step 5: Optional - view the matched pairs with direction of change\n",
    "matched_pairs_with_logFC = matched_pairs.merge(sigs[['gene', 'logFC']], left_on='ligand', right_on='gene', how='left')\\\n",
    "                                        .merge(sigs[['gene', 'logFC']], left_on='receptor', right_on='gene', how='left', suffixes=('_ligand', '_receptor'))\n",
    "\n",
    "# Sorting the table by 'logFC_ligand' in descending order\n",
    "sorted_table = matched_pairs_with_logFC.sort_values(by='logFC_ligand', ascending=False)\n",
    "\n",
    "# Displaying the sorted table with the selected columns\n",
    "sorted_table[['ligand', 'receptor', 'logFC_ligand', 'logFC_receptor']]"
   ]
  },
  {
   "cell_type": "code",
   "execution_count": 63,
   "id": "82a7c323",
   "metadata": {},
   "outputs": [
    {
     "data": {
      "text/plain": [
       "(425, 7)"
      ]
     },
     "execution_count": 63,
     "metadata": {},
     "output_type": "execute_result"
    }
   ],
   "source": [
    "sigs_up = DEG_all[(DEG_all.Padj < 0.05) & (DEG_all.logFC >= 1)]\n",
    "sigs_up.shape"
   ]
  },
  {
   "cell_type": "code",
   "execution_count": 64,
   "id": "aecc346a",
   "metadata": {},
   "outputs": [
    {
     "name": "stdout",
     "output_type": "stream",
     "text": [
      "Total ligand-receptor pairs where both are differentially expressed: 20\n"
     ]
    },
    {
     "data": {
      "text/html": [
       "<div>\n",
       "<style scoped>\n",
       "    .dataframe tbody tr th:only-of-type {\n",
       "        vertical-align: middle;\n",
       "    }\n",
       "\n",
       "    .dataframe tbody tr th {\n",
       "        vertical-align: top;\n",
       "    }\n",
       "\n",
       "    .dataframe thead th {\n",
       "        text-align: right;\n",
       "    }\n",
       "</style>\n",
       "<table border=\"1\" class=\"dataframe\">\n",
       "  <thead>\n",
       "    <tr style=\"text-align: right;\">\n",
       "      <th></th>\n",
       "      <th>ligand</th>\n",
       "      <th>receptor</th>\n",
       "      <th>logFC_ligand</th>\n",
       "      <th>logFC_receptor</th>\n",
       "    </tr>\n",
       "  </thead>\n",
       "  <tbody>\n",
       "    <tr>\n",
       "      <th>6</th>\n",
       "      <td>Spp1</td>\n",
       "      <td>Ptger4</td>\n",
       "      <td>11.853414</td>\n",
       "      <td>4.979880</td>\n",
       "    </tr>\n",
       "    <tr>\n",
       "      <th>5</th>\n",
       "      <td>Spp1</td>\n",
       "      <td>Cd44</td>\n",
       "      <td>11.853414</td>\n",
       "      <td>6.243842</td>\n",
       "    </tr>\n",
       "    <tr>\n",
       "      <th>11</th>\n",
       "      <td>Mmp12</td>\n",
       "      <td>Plaur</td>\n",
       "      <td>8.135874</td>\n",
       "      <td>2.569631</td>\n",
       "    </tr>\n",
       "    <tr>\n",
       "      <th>4</th>\n",
       "      <td>Cxcl14</td>\n",
       "      <td>Cxcr4</td>\n",
       "      <td>7.557942</td>\n",
       "      <td>6.910444</td>\n",
       "    </tr>\n",
       "    <tr>\n",
       "      <th>14</th>\n",
       "      <td>Apoe</td>\n",
       "      <td>Abca1</td>\n",
       "      <td>6.775695</td>\n",
       "      <td>1.905234</td>\n",
       "    </tr>\n",
       "    <tr>\n",
       "      <th>16</th>\n",
       "      <td>Lpl</td>\n",
       "      <td>Cd44</td>\n",
       "      <td>6.462351</td>\n",
       "      <td>6.243842</td>\n",
       "    </tr>\n",
       "    <tr>\n",
       "      <th>7</th>\n",
       "      <td>Ccl5</td>\n",
       "      <td>Ccrl2</td>\n",
       "      <td>6.360841</td>\n",
       "      <td>1.632204</td>\n",
       "    </tr>\n",
       "    <tr>\n",
       "      <th>12</th>\n",
       "      <td>Ccl5</td>\n",
       "      <td>Sdc4</td>\n",
       "      <td>6.360841</td>\n",
       "      <td>3.407504</td>\n",
       "    </tr>\n",
       "    <tr>\n",
       "      <th>13</th>\n",
       "      <td>Vim</td>\n",
       "      <td>Cd44</td>\n",
       "      <td>5.892361</td>\n",
       "      <td>6.243842</td>\n",
       "    </tr>\n",
       "    <tr>\n",
       "      <th>0</th>\n",
       "      <td>Anxa2</td>\n",
       "      <td>Tlr2</td>\n",
       "      <td>5.754556</td>\n",
       "      <td>2.034209</td>\n",
       "    </tr>\n",
       "    <tr>\n",
       "      <th>9</th>\n",
       "      <td>C3</td>\n",
       "      <td>Itgax</td>\n",
       "      <td>5.124836</td>\n",
       "      <td>7.274460</td>\n",
       "    </tr>\n",
       "    <tr>\n",
       "      <th>8</th>\n",
       "      <td>Lgals1</td>\n",
       "      <td>Cd69</td>\n",
       "      <td>4.828838</td>\n",
       "      <td>6.675580</td>\n",
       "    </tr>\n",
       "    <tr>\n",
       "      <th>19</th>\n",
       "      <td>Lyz2</td>\n",
       "      <td>Itgal</td>\n",
       "      <td>4.715871</td>\n",
       "      <td>5.485143</td>\n",
       "    </tr>\n",
       "    <tr>\n",
       "      <th>2</th>\n",
       "      <td>Fn1</td>\n",
       "      <td>Cd44</td>\n",
       "      <td>4.337606</td>\n",
       "      <td>6.243842</td>\n",
       "    </tr>\n",
       "    <tr>\n",
       "      <th>3</th>\n",
       "      <td>Fn1</td>\n",
       "      <td>Plaur</td>\n",
       "      <td>4.337606</td>\n",
       "      <td>2.569631</td>\n",
       "    </tr>\n",
       "    <tr>\n",
       "      <th>10</th>\n",
       "      <td>Cxcl10</td>\n",
       "      <td>Sdc4</td>\n",
       "      <td>3.810237</td>\n",
       "      <td>3.407504</td>\n",
       "    </tr>\n",
       "    <tr>\n",
       "      <th>18</th>\n",
       "      <td>Csf1</td>\n",
       "      <td>Csf2ra</td>\n",
       "      <td>2.016280</td>\n",
       "      <td>1.354154</td>\n",
       "    </tr>\n",
       "    <tr>\n",
       "      <th>1</th>\n",
       "      <td>Cd14</td>\n",
       "      <td>Itga4</td>\n",
       "      <td>1.986538</td>\n",
       "      <td>4.331615</td>\n",
       "    </tr>\n",
       "    <tr>\n",
       "      <th>15</th>\n",
       "      <td>Timp2</td>\n",
       "      <td>Cd44</td>\n",
       "      <td>1.568424</td>\n",
       "      <td>6.243842</td>\n",
       "    </tr>\n",
       "    <tr>\n",
       "      <th>17</th>\n",
       "      <td>Pkm</td>\n",
       "      <td>Cd44</td>\n",
       "      <td>1.450032</td>\n",
       "      <td>6.243842</td>\n",
       "    </tr>\n",
       "  </tbody>\n",
       "</table>\n",
       "</div>"
      ],
      "text/plain": [
       "    ligand receptor  logFC_ligand  logFC_receptor\n",
       "6     Spp1   Ptger4     11.853414        4.979880\n",
       "5     Spp1     Cd44     11.853414        6.243842\n",
       "11   Mmp12    Plaur      8.135874        2.569631\n",
       "4   Cxcl14    Cxcr4      7.557942        6.910444\n",
       "14    Apoe    Abca1      6.775695        1.905234\n",
       "16     Lpl     Cd44      6.462351        6.243842\n",
       "7     Ccl5    Ccrl2      6.360841        1.632204\n",
       "12    Ccl5     Sdc4      6.360841        3.407504\n",
       "13     Vim     Cd44      5.892361        6.243842\n",
       "0    Anxa2     Tlr2      5.754556        2.034209\n",
       "9       C3    Itgax      5.124836        7.274460\n",
       "8   Lgals1     Cd69      4.828838        6.675580\n",
       "19    Lyz2    Itgal      4.715871        5.485143\n",
       "2      Fn1     Cd44      4.337606        6.243842\n",
       "3      Fn1    Plaur      4.337606        2.569631\n",
       "10  Cxcl10     Sdc4      3.810237        3.407504\n",
       "18    Csf1   Csf2ra      2.016280        1.354154\n",
       "1     Cd14    Itga4      1.986538        4.331615\n",
       "15   Timp2     Cd44      1.568424        6.243842\n",
       "17     Pkm     Cd44      1.450032        6.243842"
      ]
     },
     "execution_count": 64,
     "metadata": {},
     "output_type": "execute_result"
    }
   ],
   "source": [
    "# Step 1: Convert ligands and receptors to a list\n",
    "ligands = lr_pairs['ligand'].tolist()\n",
    "receptors = lr_pairs['receptor'].tolist()\n",
    "\n",
    "# Step 2: Filter DEGs from 'sigs'\n",
    "degs = set(sigs_up['gene'])  # Create a set for faster lookup\n",
    "\n",
    "# Step 3: Check which ligand-receptor pairs have both ligands and receptors as DEGs\n",
    "matched_pairs = lr_pairs[(lr_pairs['ligand'].isin(degs)) & (lr_pairs['receptor'].isin(degs))]\n",
    "\n",
    "# Step 4: Count the matched pairs\n",
    "num_matched_pairs = matched_pairs.shape[0]\n",
    "\n",
    "# Output the result\n",
    "print(f'Total ligand-receptor pairs where both are differentially expressed: {num_matched_pairs}')\n",
    "\n",
    "# Step 5: Optional - view the matched pairs with direction of change\n",
    "matched_pairs_with_logFC = matched_pairs.merge(sigs[['gene', 'logFC']], left_on='ligand', right_on='gene', how='left')\\\n",
    "                                        .merge(sigs[['gene', 'logFC']], left_on='receptor', right_on='gene', how='left', suffixes=('_ligand', '_receptor'))\n",
    "\n",
    "# Sorting the table by 'logFC_ligand' in descending order\n",
    "sorted_table = matched_pairs_with_logFC.sort_values(by='logFC_ligand', ascending=False)\n",
    "\n",
    "# Displaying the sorted table with the selected columns\n",
    "sorted_table[['ligand', 'receptor', 'logFC_ligand', 'logFC_receptor']]"
   ]
  },
  {
   "cell_type": "code",
   "execution_count": null,
   "id": "7362c0d6",
   "metadata": {},
   "outputs": [],
   "source": [
    "sorted_table[['ligand', 'receptor', 'logFC_ligand', 'logFC_receptor']].to_csv('LR_Cupr_re_trt.tsv', sep='\\t', index=False)"
   ]
  },
  {
   "cell_type": "code",
   "execution_count": null,
   "id": "91c2f14b",
   "metadata": {},
   "outputs": [],
   "source": []
  }
 ],
 "metadata": {
  "kernelspec": {
   "display_name": "Python 3 (ipykernel)",
   "language": "python",
   "name": "python3"
  },
  "language_info": {
   "codemirror_mode": {
    "name": "ipython",
    "version": 3
   },
   "file_extension": ".py",
   "mimetype": "text/x-python",
   "name": "python",
   "nbconvert_exporter": "python",
   "pygments_lexer": "ipython3",
   "version": "3.11.11"
  }
 },
 "nbformat": 4,
 "nbformat_minor": 5
}

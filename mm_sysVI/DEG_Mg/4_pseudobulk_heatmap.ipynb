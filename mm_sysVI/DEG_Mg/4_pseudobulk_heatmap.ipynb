{
 "cells": [
  {
   "cell_type": "code",
   "execution_count": 1,
   "id": "aa9f41d0",
   "metadata": {},
   "outputs": [],
   "source": [
    "import scanpy as sc\n",
    "import anndata as ann\n",
    "import numpy as np\n",
    "import scipy as sp\n",
    "import pandas as pd\n",
    "import matplotlib.pyplot as plt\n",
    "from matplotlib import rcParams\n",
    "from matplotlib import cm, colors\n",
    "import seaborn as sb\n",
    "\n",
    "import os\n",
    "\n",
    "# Define the path to the directory you want to change to\n",
    "new_directory = '/afs/crc.nd.edu/user/e/eaboelno/sysVI_analysis/MM_sysVI/DEG_analysis/Microglia_sep'\n",
    "\n",
    "# Use os.chdir() to change the working directory\n",
    "os.chdir(new_directory)"
   ]
  },
  {
   "cell_type": "code",
   "execution_count": 2,
   "id": "9fc12c70",
   "metadata": {},
   "outputs": [],
   "source": [
    "save_dir = '/afs/crc.nd.edu/user/e/eaboelno/sysVI_analysis/MM_sysVI/DEG_analysis/Microglia_sep'"
   ]
  },
  {
   "cell_type": "markdown",
   "id": "e0a9d8cf",
   "metadata": {},
   "source": [
    "# Set up DEG lists"
   ]
  },
  {
   "cell_type": "code",
   "execution_count": 3,
   "id": "5faa50ef",
   "metadata": {},
   "outputs": [
    {
     "data": {
      "text/plain": [
       "(9436, 7)"
      ]
     },
     "execution_count": 3,
     "metadata": {},
     "output_type": "execute_result"
    }
   ],
   "source": [
    "LPC_demyel_2 = pd.read_csv('./files/LPC_demyel_Mg_A_v_BAMs_voom_wqw_NEW.csv', index_col=None)\n",
    "LPC_demyel_2.rename(columns={'adj.P.Val': 'Padj'}, inplace=True)\n",
    "LPC_demyel_2.rename(columns={'P.Value': 'Pvalue'}, inplace=True)\n",
    "LPC_demyel_2.shape"
   ]
  },
  {
   "cell_type": "code",
   "execution_count": 4,
   "id": "ea6919f9",
   "metadata": {},
   "outputs": [
    {
     "data": {
      "text/plain": [
       "(10659, 7)"
      ]
     },
     "execution_count": 4,
     "metadata": {},
     "output_type": "execute_result"
    }
   ],
   "source": [
    "LPC_demyel = pd.read_csv('./files/LPC_demyel_Mg_A_v_trt_voom_wqw_NEW.csv', index_col=None)\n",
    "LPC_demyel.rename(columns={'adj.P.Val': 'Padj'}, inplace=True)\n",
    "LPC_demyel.rename(columns={'P.Value': 'Pvalue'}, inplace=True)\n",
    "LPC_demyel.shape"
   ]
  },
  {
   "cell_type": "code",
   "execution_count": 5,
   "id": "fd327a04",
   "metadata": {},
   "outputs": [
    {
     "data": {
      "text/plain": [
       "(10358, 7)"
      ]
     },
     "execution_count": 5,
     "metadata": {},
     "output_type": "execute_result"
    }
   ],
   "source": [
    "LPC_remyel = pd.read_csv('./files/LPC_remyel_MG_DAMs_voom_wqw.csv', index_col=None)\n",
    "LPC_remyel.rename(columns={'adj.P.Val': 'Padj'}, inplace=True)\n",
    "LPC_remyel.rename(columns={'P.Value': 'Pvalue'}, inplace=True)\n",
    "LPC_remyel.shape"
   ]
  },
  {
   "cell_type": "code",
   "execution_count": 6,
   "id": "141bd9c1",
   "metadata": {},
   "outputs": [
    {
     "data": {
      "text/plain": [
       "(10148, 7)"
      ]
     },
     "execution_count": 6,
     "metadata": {},
     "output_type": "execute_result"
    }
   ],
   "source": [
    "Cupr_demyel = pd.read_csv('./files/Cupr_demyel_Mg_A_v_trt_voom_wqw_NEW.csv', index_col=None)\n",
    "Cupr_demyel.rename(columns={'adj.P.Val': 'Padj'}, inplace=True)\n",
    "Cupr_demyel.rename(columns={'P.Value': 'Pvalue'}, inplace=True)\n",
    "Cupr_demyel.shape"
   ]
  },
  {
   "cell_type": "code",
   "execution_count": 7,
   "id": "2ac412d2",
   "metadata": {},
   "outputs": [
    {
     "data": {
      "text/plain": [
       "(9300, 7)"
      ]
     },
     "execution_count": 7,
     "metadata": {},
     "output_type": "execute_result"
    }
   ],
   "source": [
    "Cupr_remyel = pd.read_csv('./files/Cupr_remyel_MG_DAM_voom_wqw.csv', index_col=None)\n",
    "Cupr_remyel.rename(columns={'adj.P.Val': 'Padj'}, inplace=True)\n",
    "Cupr_remyel.rename(columns={'P.Value': 'Pvalue'}, inplace=True)\n",
    "Cupr_remyel.shape"
   ]
  },
  {
   "cell_type": "code",
   "execution_count": 8,
   "id": "d14d428c",
   "metadata": {},
   "outputs": [
    {
     "name": "stdout",
     "output_type": "stream",
     "text": [
      "(1222, 7)\n",
      "(2877, 7)\n"
     ]
    }
   ],
   "source": [
    "# Filter for upregulated genes\n",
    "LPC_demyel_2_up = LPC_demyel_2[(LPC_demyel_2.Padj < 0.05) & (LPC_demyel_2.logFC >= 1)]\n",
    "print(LPC_demyel_2_up.shape)\n",
    "\n",
    "# Filter for downregulated genes\n",
    "LPC_demyel_2_down = LPC_demyel_2[(LPC_demyel_2.Padj < 0.05) & (LPC_demyel_2.logFC <= -1)]\n",
    "print(LPC_demyel_2_down.shape)"
   ]
  },
  {
   "cell_type": "code",
   "execution_count": 9,
   "id": "8133a2fe",
   "metadata": {},
   "outputs": [
    {
     "name": "stdout",
     "output_type": "stream",
     "text": [
      "(914, 7)\n",
      "(2241, 7)\n"
     ]
    }
   ],
   "source": [
    "# Filter for upregulated genes\n",
    "LPC_de_up = LPC_demyel[(LPC_demyel.Padj < 0.05) & (LPC_demyel.logFC >= 1)]\n",
    "print(LPC_de_up.shape)\n",
    "\n",
    "# Filter for downregulated genes\n",
    "LPC_de_down = LPC_demyel[(LPC_demyel.Padj < 0.05) & (LPC_demyel.logFC <= -1)]\n",
    "print(LPC_de_down.shape)"
   ]
  },
  {
   "cell_type": "code",
   "execution_count": 10,
   "id": "48ee1baf",
   "metadata": {},
   "outputs": [
    {
     "name": "stdout",
     "output_type": "stream",
     "text": [
      "(531, 7)\n",
      "(1908, 7)\n"
     ]
    }
   ],
   "source": [
    "# Filter for upregulated genes\n",
    "LPC_re_up = LPC_remyel[(LPC_remyel.Padj < 0.05) & (LPC_remyel.logFC >= 1)]\n",
    "print(LPC_re_up.shape)\n",
    "\n",
    "# Filter for downregulated genes\n",
    "LPC_re_down = LPC_remyel[(LPC_remyel.Padj < 0.05) & (LPC_remyel.logFC <= -1)]\n",
    "print(LPC_re_down.shape)"
   ]
  },
  {
   "cell_type": "code",
   "execution_count": 11,
   "id": "0c69fc6d",
   "metadata": {},
   "outputs": [
    {
     "name": "stdout",
     "output_type": "stream",
     "text": [
      "(738, 7)\n",
      "(2463, 7)\n"
     ]
    }
   ],
   "source": [
    "# Filter for upregulated genes\n",
    "Cupr_de_up = Cupr_demyel[(Cupr_demyel.Padj < 0.05) & (Cupr_demyel.logFC >= 1)]\n",
    "print(Cupr_de_up.shape)\n",
    "\n",
    "# Filter for downregulated genes\n",
    "Cupr_de_down = Cupr_demyel[(Cupr_demyel.Padj < 0.05) & (Cupr_demyel.logFC <= -1)]\n",
    "print(Cupr_de_down.shape)"
   ]
  },
  {
   "cell_type": "code",
   "execution_count": 12,
   "id": "f05e8a60",
   "metadata": {},
   "outputs": [
    {
     "name": "stdout",
     "output_type": "stream",
     "text": [
      "(425, 7)\n",
      "(1076, 7)\n"
     ]
    }
   ],
   "source": [
    "# Filter for upregulated genes\n",
    "Cupr_re_up = Cupr_remyel[(Cupr_remyel.Padj < 0.05) & (Cupr_remyel.logFC >= 1)]\n",
    "print(Cupr_re_up.shape)\n",
    "\n",
    "# Filter for downregulated genes\n",
    "Cupr_re_down = Cupr_remyel[(Cupr_remyel.Padj < 0.05) & (Cupr_remyel.logFC <= -1)]\n",
    "print(Cupr_re_down.shape)"
   ]
  },
  {
   "cell_type": "markdown",
   "id": "512bd217",
   "metadata": {},
   "source": [
    "## 1.5X fold change"
   ]
  },
  {
   "cell_type": "code",
   "execution_count": 13,
   "id": "7aaf4e74",
   "metadata": {},
   "outputs": [
    {
     "name": "stdout",
     "output_type": "stream",
     "text": [
      "(1446, 7)\n",
      "(3677, 7)\n"
     ]
    }
   ],
   "source": [
    "# Filter for upregulated genes\n",
    "LPC_demyel_2_up = LPC_demyel_2[(LPC_demyel_2.Padj < 0.05) & (LPC_demyel_2.logFC >= 0.585)]\n",
    "print(LPC_demyel_2_up.shape)\n",
    "\n",
    "# Filter for downregulated genes\n",
    "LPC_demyel_2_down = LPC_demyel_2[(LPC_demyel_2.Padj < 0.05) & (LPC_demyel_2.logFC <= -0.585)]\n",
    "print(LPC_demyel_2_down.shape)"
   ]
  },
  {
   "cell_type": "code",
   "execution_count": 14,
   "id": "9ec849dd",
   "metadata": {},
   "outputs": [
    {
     "name": "stdout",
     "output_type": "stream",
     "text": [
      "(1083, 7)\n",
      "(2903, 7)\n"
     ]
    }
   ],
   "source": [
    "# Filter for upregulated genes\n",
    "LPC_de_up = LPC_demyel[(LPC_demyel.Padj < 0.05) & (LPC_demyel.logFC >= 0.585)]\n",
    "print(LPC_de_up.shape)\n",
    "\n",
    "# Filter for downregulated genes\n",
    "LPC_de_down = LPC_demyel[(LPC_demyel.Padj < 0.05) & (LPC_demyel.logFC <= -0.585)]\n",
    "print(LPC_de_down.shape)"
   ]
  },
  {
   "cell_type": "code",
   "execution_count": 15,
   "id": "c0fdbea1",
   "metadata": {},
   "outputs": [
    {
     "name": "stdout",
     "output_type": "stream",
     "text": [
      "(728, 7)\n",
      "(2564, 7)\n"
     ]
    }
   ],
   "source": [
    "# Filter for upregulated genes\n",
    "LPC_re_up = LPC_remyel[(LPC_remyel.Padj < 0.05) & (LPC_remyel.logFC >= 0.585)]\n",
    "print(LPC_re_up.shape)\n",
    "\n",
    "# Filter for downregulated genes\n",
    "LPC_re_down = LPC_remyel[(LPC_remyel.Padj < 0.05) & (LPC_remyel.logFC <= -0.585)]\n",
    "print(LPC_re_down.shape)"
   ]
  },
  {
   "cell_type": "code",
   "execution_count": 16,
   "id": "80023afc",
   "metadata": {},
   "outputs": [
    {
     "name": "stdout",
     "output_type": "stream",
     "text": [
      "(1107, 7)\n",
      "(4365, 7)\n"
     ]
    }
   ],
   "source": [
    "# Filter for upregulated genes\n",
    "Cupr_de_up = Cupr_demyel[(Cupr_demyel.Padj < 0.05) & (Cupr_demyel.logFC >= 0.585)]\n",
    "print(Cupr_de_up.shape)\n",
    "\n",
    "# Filter for downregulated genes\n",
    "Cupr_de_down = Cupr_demyel[(Cupr_demyel.Padj < 0.05) & (Cupr_demyel.logFC <= -0.585)]\n",
    "print(Cupr_de_down.shape)"
   ]
  },
  {
   "cell_type": "code",
   "execution_count": 17,
   "id": "894883d9",
   "metadata": {},
   "outputs": [
    {
     "name": "stdout",
     "output_type": "stream",
     "text": [
      "(430, 7)\n",
      "(1085, 7)\n"
     ]
    }
   ],
   "source": [
    "# Filter for upregulated genes\n",
    "Cupr_re_up = Cupr_remyel[(Cupr_remyel.Padj < 0.05) & (Cupr_remyel.logFC >= 0.585)]\n",
    "print(Cupr_re_up.shape)\n",
    "\n",
    "# Filter for downregulated genes\n",
    "Cupr_re_down = Cupr_remyel[(Cupr_remyel.Padj < 0.05) & (Cupr_remyel.logFC <= -0.585)]\n",
    "print(Cupr_re_down.shape)"
   ]
  },
  {
   "cell_type": "code",
   "execution_count": 18,
   "id": "bbba3242",
   "metadata": {},
   "outputs": [],
   "source": [
    "# Create gene lists from the dfs:\n",
    "genes_LPC_de_BAMs_up = LPC_demyel_2_up['gene'].tolist()\n",
    "genes_LPC_de_DAMs_up = LPC_de_up['gene'].tolist()\n",
    "genes_LPC_re_DAMs_up = LPC_re_up['gene'].tolist()\n",
    "genes_Cupr_de_DAMs_up = Cupr_de_up['gene'].tolist()\n",
    "genes_Cupr_re_DAMs_up = Cupr_re_up['gene'].tolist()"
   ]
  },
  {
   "cell_type": "code",
   "execution_count": 19,
   "id": "3b8510b3",
   "metadata": {},
   "outputs": [],
   "source": [
    "# Create gene lists from the dfs:\n",
    "genes_LPC_de_BAMs_down = LPC_demyel_2_down['gene'].tolist()\n",
    "genes_LPC_de_DAMs_down = LPC_de_down['gene'].tolist()\n",
    "genes_LPC_re_DAMs_down = LPC_re_down['gene'].tolist()\n",
    "genes_Cupr_de_DAMs_down = Cupr_de_down['gene'].tolist()\n",
    "genes_Cupr_re_DAMs_down = Cupr_re_down['gene'].tolist()"
   ]
  },
  {
   "cell_type": "markdown",
   "id": "ee332ce6",
   "metadata": {},
   "source": [
    "# SUBSET TO ONLY SHARED GENES TESTED IN ALL CONDITIONS"
   ]
  },
  {
   "cell_type": "code",
   "execution_count": 20,
   "id": "e8593fd3",
   "metadata": {},
   "outputs": [],
   "source": [
    "## IMPORTANT FILTER FOR GENES TESTING IN ALL CONDITIONS\n",
    "\n",
    "genes_all_conditions = set(LPC_demyel_2['gene']) & \\\n",
    "                       set(LPC_demyel['gene']) & \\\n",
    "                       set(LPC_remyel['gene']) & \\\n",
    "                       set(Cupr_demyel['gene']) & \\\n",
    "                       set(Cupr_remyel['gene'])"
   ]
  },
  {
   "cell_type": "code",
   "execution_count": 21,
   "id": "7abb62aa",
   "metadata": {},
   "outputs": [
    {
     "name": "stdout",
     "output_type": "stream",
     "text": [
      "(1222, 7)\n",
      "(960, 7)\n",
      "(682, 7)\n",
      "(852, 7)\n",
      "(360, 7)\n"
     ]
    }
   ],
   "source": [
    "# Function to filter DE DataFrames to include only genes tested in all conditions\n",
    "def filter_genes(df):\n",
    "    return df[df['gene'].isin(genes_all_conditions)]\n",
    "\n",
    "# Apply filtering to each DEG DataFrame\n",
    "LPC_demyel_2_up = filter_genes(LPC_demyel_2_up)\n",
    "LPC_de_up = filter_genes(LPC_de_up)\n",
    "LPC_re_up = filter_genes(LPC_re_up)\n",
    "Cupr_de_up = filter_genes(Cupr_de_up)\n",
    "Cupr_re_up = filter_genes(Cupr_re_up)\n",
    "\n",
    "print(LPC_demyel_2_up.shape)\n",
    "print(LPC_de_up.shape)\n",
    "print(LPC_re_up.shape)\n",
    "print(Cupr_de_up.shape)\n",
    "print(Cupr_re_up.shape)"
   ]
  },
  {
   "cell_type": "code",
   "execution_count": 22,
   "id": "383c120c",
   "metadata": {},
   "outputs": [
    {
     "name": "stdout",
     "output_type": "stream",
     "text": [
      "(3386, 7)\n",
      "(2329, 7)\n",
      "(2130, 7)\n",
      "(3488, 7)\n",
      "(930, 7)\n"
     ]
    }
   ],
   "source": [
    "# Function to filter DE DataFrames to include only genes tested in all conditions\n",
    "def filter_genes(df):\n",
    "    return df[df['gene'].isin(genes_all_conditions)]\n",
    "\n",
    "# Apply filtering to each DEG DataFrame\n",
    "LPC_demyel_2_down = filter_genes(LPC_demyel_2_down)\n",
    "LPC_de_down = filter_genes(LPC_de_down)\n",
    "LPC_re_down = filter_genes(LPC_re_down)\n",
    "Cupr_de_down = filter_genes(Cupr_de_down)\n",
    "Cupr_re_down = filter_genes(Cupr_re_down)\n",
    "\n",
    "print(LPC_demyel_2_down.shape)\n",
    "print(LPC_de_down.shape)\n",
    "print(LPC_re_down.shape)\n",
    "print(Cupr_de_down.shape)\n",
    "print(Cupr_re_down.shape)"
   ]
  },
  {
   "cell_type": "markdown",
   "id": "58353cc0",
   "metadata": {},
   "source": [
    "# Set up gene lists- overlapping only"
   ]
  },
  {
   "cell_type": "code",
   "execution_count": 23,
   "id": "69f63a81",
   "metadata": {},
   "outputs": [],
   "source": [
    "# Create gene lists from the dfs:\n",
    "genes_LPC_de_BAMs_up = LPC_demyel_2_up['gene'].tolist()\n",
    "genes_LPC_de_DAMs_up = LPC_de_up['gene'].tolist()\n",
    "genes_LPC_re_DAMs_up = LPC_re_up['gene'].tolist()\n",
    "genes_Cupr_de_DAMs_up = Cupr_de_up['gene'].tolist()\n",
    "genes_Cupr_re_DAMs_up = Cupr_re_up['gene'].tolist()"
   ]
  },
  {
   "cell_type": "code",
   "execution_count": 24,
   "id": "73282c0a",
   "metadata": {},
   "outputs": [],
   "source": [
    "# Create gene lists from the dfs:\n",
    "genes_LPC_de_BAMs_down = LPC_demyel_2_down['gene'].tolist()\n",
    "genes_LPC_de_DAMs_down = LPC_de_down['gene'].tolist()\n",
    "genes_LPC_re_DAMs_down = LPC_re_down['gene'].tolist()\n",
    "genes_Cupr_de_DAMs_down = Cupr_de_down['gene'].tolist()\n",
    "genes_Cupr_re_DAMs_down = Cupr_re_down['gene'].tolist()"
   ]
  },
  {
   "cell_type": "code",
   "execution_count": 25,
   "id": "a3fac0e1",
   "metadata": {},
   "outputs": [
    {
     "name": "stdout",
     "output_type": "stream",
     "text": [
      "930\n"
     ]
    }
   ],
   "source": [
    "set_LPC_de_BAMs_up = set(genes_LPC_de_BAMs_up)\n",
    "set_LPC_de_DAMs_up = set(genes_LPC_de_DAMs_up)\n",
    "set_LPC_re_DAMs_up = set(genes_LPC_re_DAMs_up)\n",
    "set_Cupr_de_DAMs_up = set(genes_Cupr_de_DAMs_up)\n",
    "set_Cupr_re_DAMs_up = set(genes_Cupr_re_DAMs_up)\n",
    "set_LPC_de_BAMs_down = set(genes_LPC_de_BAMs_down)\n",
    "set_LPC_de_DAMs_down = set(genes_LPC_de_DAMs_down)\n",
    "set_LPC_re_DAMs_down = set(genes_LPC_re_DAMs_down)\n",
    "set_Cupr_de_DAMs_down = set(genes_Cupr_de_DAMs_down)\n",
    "set_Cupr_re_DAMs_down = set(genes_Cupr_re_DAMs_down)\n",
    "\n",
    "print(len(set_Cupr_re_DAMs_down))"
   ]
  },
  {
   "cell_type": "code",
   "execution_count": 26,
   "id": "019cc2d6",
   "metadata": {},
   "outputs": [
    {
     "name": "stdout",
     "output_type": "stream",
     "text": [
      "Number of overlapping upregulated genes: 149\n",
      "Overlapping upregulated genes: {'Apoc2', 'Cd200r4', 'Cpd', 'Fam20c', 'Lmnb1', 'Cd300lf', 'Creg1', 'Dram1', 'Crip1', 'Ms4a7', 'Hspe1', 'Plin2', 'Axl', 'Gm38335', 'Ezr', 'Hcst', 'Rpl10a', 'Anxa5', 'Tpm4', 'Slc2a6', 'Atp1a3', 'Timp2', 'Fabp5', 'Tpd52', 'Txn1', 'Lgals3', 'Gas2l3', 'Lilrb4a', 'Cd68', 'Lipa', 'Gpnmb', 'Fxyd5', 'Arhgap24', 'Cd52', 'Rell1', 'Mamdc2', 'Ctsb', 'Xylt1', 'Gpi1', 'Rai14', 'Sh3pxd2b', 'Fcgr4', 'Cybb', 'Man2a1', 'Sash1', 'Rab7b', 'Fcer1g', 'Lgals3bp', 'Nme2', 'Csf2ra', 'Iqgap1', 'Vat1', 'Ctse', 'Apoe', 'Mfsd12', 'Dab2', 'Lpl', 'Il3ra', 'Apoc4', 'Lyz2', 'Gpr65', 'Ptger4', 'Fmn1', 'Atox1', 'Adam8', 'Apoc1', 'Malt1', 'Rftn1', 'Fn1', 'Amdhd2', 'Tmem106a', 'Bcar3', 'Vim', 'Pim1', 'Tyrobp', 'Trps1', 'Plxnc1', 'Anxa4', 'Pgk1', 'Igf1', 'Ctsd', 'Rtcb', 'Capg', 'Psen2', 'Akr1a1', 'Cyp4f18', 'Aprt', 'Aldoa', 'B2m', 'Wfdc17', 'Tmem205', 'Mif', 'Milr1', 'Sh3bgrl3', 'Gpr137b', 'Bst2', 'Dnase1l1', 'Bhlhe40', 'Gcnt2', 'Cd22', 'Apobec1', 'Ms4a6c', 'Npc2', 'Mmp12', 'Cd72', 'Cd44', 'Abca1', 'Rnf149', 'Ahnak2', 'Cxcl16', 'Got1', 'Emp3', 'Ctsz', 'Myo5a', 'Nceh1', 'Myo1e', 'Lilr4b', 'Coro1c', 'Ifi207', 'Bola2', 'Pkm', 'Fabp3', 'Pianp', 'Gm13391', 'Anxa2', 'Cstb', 'Cd63', 'Cyba', 'Arrdc4', 'Adam33', 'Mcub', 'Svbp', 'Ldha', 'Pld3', 'Gyg', 'Tpi1', 'Ddhd1', 'Ly9', 'Prdx1', 'Mdfic', 'Rbms1', 'Colec12', 'Atp6v0e', 'Tspo', 'Rpl32', 'Uap1l1', 'Spp1', 'Fundc2', 'Rap2b'}\n"
     ]
    }
   ],
   "source": [
    "# Overlap of upregulated genes\n",
    "overlap_up_all = set_LPC_de_BAMs_up & set_LPC_de_DAMs_up & set_LPC_re_DAMs_up & set_Cupr_de_DAMs_up & set_Cupr_re_DAMs_up\n",
    "print(\"Number of overlapping upregulated genes:\", len(overlap_up_all))\n",
    "print(\"Overlapping upregulated genes:\", overlap_up_all)"
   ]
  },
  {
   "cell_type": "code",
   "execution_count": 27,
   "id": "eb9f0e8b",
   "metadata": {},
   "outputs": [
    {
     "name": "stdout",
     "output_type": "stream",
     "text": [
      "Number of overlapping upregulated genes: 638\n",
      "Overlapping upregulated genes: {'Vps18', 'Zfp69', 'P2ry10b', 'Rtn4rl1', 'P2ry12', 'Gabpb2', 'Rbm39', 'Chil1', 'Bcl9l', 'Mef2c', 'Cep63', 'Gm47167', 'Gna15', 'Exog', 'Ino80dos', 'Cbfa2t3', 'Mlxip', 'Top1', 'Txnip', 'Letm2', 'Stard8', 'Ecscr', 'Nlk', 'Ppp1r10', 'Traf3ip3', 'Gm16576', 'Rsrc2', 'Eng', 'Arhgap4', 'P2ry13', 'Gm15614', 'Gm27017', 'Eef2k', 'Ranbp10', 'Pnrc1', 'Ccdc192', 'Prdm11', 'Crybb1', 'Eml6', '3222401L13Rik', 'Csmd3', 'Tanc2', 'Arhgap12', 'Nol4l', 'R74862', '2610020C07Rik', 'Prox2', 'Pdlim4', 'Siglech', 'Fam13b', 'Cdkn2aip', 'Golm1', 'Ube2g1', 'AW146154', 'Nav2', 'Rccd1', 'Ksr1', 'Upk1b', 'Nlrp1b', 'Orai1', 'Fgd2', 'Rab39', 'AU041133', 'Phf7', 'Map4', 'Calm2', 'Zfp335os', 'Terf2', 'Spire1', 'Tspan18', 'Rasgrp3', 'Ccdc93', 'Phf20l1', '1810026B05Rik', 'Prpsap2', 'Osbpl11', 'Hpgds', 'Arhgap27', 'Abhd6', 'Trim8', 'Smg6', 'Gmeb2', 'Etv5', 'Tbxas1', 'Agmo', 'Prpf4b', 'Prkn', 'Phf20', 'Ccr5', 'Hhex', 'Wwc2', 'Cttnbp2nl', 'Abcb4', 'Helz', 'Mfng', 'Ptpro', 'Nop2', 'Lrig2', 'Snhg5', 'Gm31243', 'Mnt', 'Dennd2c', 'Herc2', 'Junos', 'Map2k6', 'Pip4p1', 'Rsrp1', 'Espl1', 'Zbtb11', 'Casp3', 'Yes1', 'Lats2', 'Bin2', 'Chd2', 'Jun', 'Grap', 'Zfp697', 'Il6ra', 'Rrp1b', 'Chd9', 'Brd2', 'Cmtm6', 'Kcnip3', 'Galnt10', 'Slc40a1', 'Hps3', 'Zeb1', 'Foxo1', 'Snhg12', 'Med12l', 'Chst8', 'Pcf11', '4933406I18Rik', 'Smad1', 'Ppp4r1', 'Zhx3', 'Rab31', 'Ssh2', 'Arhgap22', 'Mtmr12', 'Gm39556', 'Adgrg1', 'Twf2', 'Tbc1d16', 'Gm35188', 'Loxl3', 'Zc3h6', 'Tmem170b', 'Rsbn1', 'Gm12905', 'Selplg', 'Gdap2', 'Slc25a37', 'Ivns1abp', 'Asap3', 'Jrkl', 'Klf4', 'Jade1', 'P3h2', 'Tle4', 'Dlc1', 'A830008E24Rik', 'Eif2ak4', 'Gm26631', 'Elf1', 'Avl9', 'Nufip2', 'Dock4', 'Mafb', 'Mllt10', 'Cables1', 'Plxna4', 'Cnot8', '4632427E13Rik', 'Alox5', 'St3gal6', 'Cd27', 'Gmip', 'Arhgap5', 'Dcaf1', 'Elmo1', 'Cx3cr1', 'Rreb1', 'Adap2', 'Cryba4', 'Man1a2', 'Ppm1l', 'Rfx3', 'Zfp36l2', 'I830077J02Rik', 'Nr6a1', 'Mknk1', 'Nuak1', 'Cradd', 'Gpsm1', 'Ggps1', 'Mef2a', 'Arid1a', 'Hps4', 'Cacnb2', 'Csnk1e', 'Slmap', 'Lrrc3', 'Gm20721', 'Pip4k2a', 'Bcl9', 'Nsun6', 'Ctbp2', 'Fam102b', 'Zfp715', 'Cebpd', 'Catsperg1', 'Mtus1', 'Nudt6', 'Nfia', 'Ncf1', 'Klhl3', 'Pi4kb', 'Ing1', 'Zfand5', 'Rab6b', 'Rtn1', 'Zc3h10', 'Prkca', 'Gm12185', 'Tlr4', 'Gm13008', 'Gbp7', 'Gm47664', 'Cep68', 'Rnf185', '1700017B05Rik', 'Gm44686', 'Malat1', 'Inpp5d', 'Tpst2', 'Arid4b', 'Smurf2', 'Gm15503', 'Usp2', 'Mlph', 'Clk1', 'Arid4a', 'Tbc1d9', 'Asb2', 'Gm10501', 'Smad7', 'Map11', 'Cxxc5', 'Atp8a2', 'Slc2a5', 'Trmt10a', 'Tifab', 'Pard3b', 'Cyth4', 'Ifngr1', 'Atxn2', 'Tln2', 'Hpgd', 'Il10ra', 'Celf2', 'Msi2', 'Cryl1', 'Slc24a3', 'Sall1', 'Kcnd1', 'Wsb1', 'Ctsf', 'Zc3h8', 'Uhrf1bp1', 'A930015D03Rik', 'Phf14', 'Nfatc2', 'Nav3', 'Gm40841', 'Sipa1', 'Fhad1', 'Pdlim5', 'Tnfrsf13b', 'Ier5', 'Gm826', 'Gm16337', 'Erf', 'Tob2', 'Fli1', 'Pprc1', 'Garnl3', 'Slx1b', 'Col27a1', '8030442B05Rik', '5430405H02Rik', 'Sipa1l1', 'AW554918', 'Gpr34', 'Snx29', 'Rab3il1', 'Ifitm10', 'E330020D12Rik', 'Myo1b', '1600022D10Rik', 'Vps37b', 'Cdyl', 'Abhd15', 'Tmem173', 'Shld2', 'Prkab1', 'Rnf167', 'Trio', 'Sppl3', 'Hs2st1', 'Nlrp1a', 'Cep95', 'Atg2a', 'Ulk2', 'Mlxipl', 'Gtf2ird2', '4930444A19Rik', 'Gm20470', 'Abca9', 'Jpx', 'Git2', 'Cdh23', 'Zfp710', 'Vamp1', 'Lrp5', 'Dip2b', 'Pik3cd', 'Gm2629', 'Zmynd11', 'Kdm2b', 'Mllt11', 'Acvr2a', 'Zfp810', 'Tmem64', 'Sesn1', 'Slc12a6', 'Zfp90', 'Arhgap39', 'Kmt5b', 'Itga9', 'Epc2', 'Tra2b', 'Tnfrsf23', 'Ahdc1', 'Zfp839', 'Cd37', 'Zfp213', '4931403E22Rik', 'Tmem119', 'Pknox1', 'Lst1', 'Snta1', 'Snrk', 'Btaf1', 'Mir99ahg', 'Sun2', 'Capn3', 'Ggt5', 'Ctc1', 'Fgd3', 'Slc25a45', 'Pkdcc', 'Cass4', 'Bicral', '5330438D12Rik', 'Prkce', 'Entpd1', 'Nrip1', 'Bbs9', 'Kdm5b', 'Trp53bp1', 'Gm44577', 'Ankrd10', 'Wdfy2', 'Slco2b1', 'Dapp1', 'Vcl', 'Golim4', 'Tm6sf1', 'Coro2a', 'Whrn', 'Nr1d2', 'Cask', 'Snn', 'Cog5', 'Fermt3', 'Rilpl1', 'D030028A08Rik', 'Bid', 'Mon2', 'Srsf2', 'Fam72a', 'Vsir', 'Armc3', 'Plcg2', 'Atp6v0a2', 'Pik3cg', 'Klf12', 'Rhobtb1', 'Wdr44', 'Adrb1', 'Gimap1', 'Pwwp2a', 'Tiam1', 'Maco1', 'Zbtb2', 'Chsy1', 'Stat3', 'Khnyn', 'Trim11', 'Gm10790', 'Mfap3', 'Gm41556', '0610040J01Rik', 'Tk2', 'Cyb561a3', 'Sdk1', 'Rsf1', 'Arhgef40', 'Thada', 'Dleu2', 'Gadd45g', 'Jmjd1c', 'Tlr3', 'Tra2a', 'Gm46367', 'Gm17231', 'Rbmx', 'Hjurp', 'Itga6', 'Supt20', 'Cmtm8', 'Ctcf', 'Trim65', 'Fez2', 'Tsacc', 'Stard3', 'Ralgps2', 'Vgll4', 'Ppp1r9a', 'Pecam1', 'Son', 'A530088E08Rik', 'Cds1', 'Srsf11', 'Tent5a', 'Ikzf1', 'Tbc1d5', 'Adgrl2', 'Kcnk12', 'Morn1', 'Tasor', 'Rassf5', 'Gm3739', 'Zfp292', 'Map3k2', 'Zfhx3', 'Kbtbd2', 'Cst3', 'Susd3', 'Sertad1', 'Gm20536', 'Plxdc2', 'Pura', 'Ep300', 'Ap1b1', '2010013B24Rik', 'Tsc22d2', 'Dglucy', 'Sox4', 'Ppcdc', 'Rptor', 'Srgap2', 'Acox3', 'Msl1', 'Map1s', 'Nhs', 'St3gal5', 'Ubn1', 'Ighm', 'Ccnyl1', 'Plekho1', 'Tmem44', 'Tmem100', 'Dock8', 'Acvr2b', 'Mertk', 'Cd164', 'Nup210l', 'Cfap74', 'Gal3st4', 'Phyhd1', 'Chst7', 'Lrba', 'Usp24', 'Serinc3', 'Ipmk', 'Sdccag8', 'Sncaip', 'Gm34589', 'Pld1', 'Itpripl1', 'Smap2', 'Abi3', 'Zc3h4', 'Ddit3', 'Gm37240', 'Cbx4', 'Dedd', 'Arid3b', 'B4galt4', 'Gm3468', 'Dnajb1', 'Csnk1a1', 'Mgme1', 'Ptgs1', 'Flcn', 'Calcrl', 'Gm13479', 'Ift140', 'Zbtb7a', 'Ets1', '2810013P06Rik', 'Nos1ap', 'Gm10138', 'Zfp652', 'Pag1', 'Rhoh', 'Gm41764', 'Taok2', 'Gtf2h2', 'Rps6ka1', 'Nt5dc3', '4921511C10Rik', 'Fyco1', 'Sash3', 'Narf', 'Nr6a1os', 'Apba1', 'Rnf214', 'Zfp654', 'Gtpbp1', 'Iffo1', 'Fhit', 'Ebf3', 'Rnf135', 'Mgll', 'Evi5', 'Tspan14', 'Gm33699', 'Magi1', 'Adrb2', 'Foxn3', 'Akirin2', '4930517O19Rik', 'Trp53cor1', 'Gm36279', 'Gsk3b', 'Lifr', 'Commd8', 'Cd33', 'Ints6l', 'Fus', 'Rapgef5', 'Mgat1', 'Numb', 'Impact', 'Macf1', 'Sema4g', 'Slc16a6', 'Gm43813', 'Rhob', 'C430049B03Rik', 'Cep152', 'Senp2', 'Pspc1', 'Nckap5l', '2610203C22Rik', 'Lyl1', 'Ablim1', 'Siglece', 'Bzw2', 'Usp36', 'Kcnk6', 'Cry1', 'Patl2', 'Zfp217', 'Gcnt1', 'Gm16118', 'Zbtb37', 'Rnf38', 'Gm26542', 'Kmt2c', 'Sap25', 'Dusp7', 'Armh3', 'Mrnip', 'Rlim', 'Ophn1', 'Itgam', 'Epc1', '1700012D14Rik', 'Arhgap45', 'Gm28417', 'Slco4a1', 'Inka1', 'Ogfrl1', 'Tjp1', 'Frmd4a', 'Plcg1', 'B430010I23Rik', 'Med1', 'Scamp2', 'Bank1', 'Pnp', 'Phlpp2', 'Klhdc8b', 'Dusp6', 'Kmt2e', 'Crim1', 'Arap3', 'Sh3pxd2a', 'Tcf7l2', 'Morc2a', 'Lpar6', 'Tut7', 'Gbf1', 'Stambpl1', 'Gm32036', 'Gclc', 'Fer', 'Kif9', 'Gpr183', 'Maf', 'Fam117b', 'Arid3a', 'C5ar2', 'Abl1'}\n"
     ]
    }
   ],
   "source": [
    "# Overlap of upregulated genes\n",
    "overlap_down_all = set_LPC_de_BAMs_down & set_LPC_de_DAMs_down & set_LPC_re_DAMs_down & set_Cupr_de_DAMs_down & set_Cupr_re_DAMs_down\n",
    "print(\"Number of overlapping upregulated genes:\", len(overlap_down_all))\n",
    "print(\"Overlapping upregulated genes:\", overlap_down_all)"
   ]
  },
  {
   "cell_type": "code",
   "execution_count": 28,
   "id": "72bc2405",
   "metadata": {},
   "outputs": [
    {
     "name": "stdout",
     "output_type": "stream",
     "text": [
      "Number of overlapping upregulated genes: 136\n",
      "Overlapping upregulated genes: {'Ndufa3', 'Psmd9', 'Chchd1', 'Eef1a1', 'Acp1', 'Stx12', 'Slc27a1', 'Golga7', 'Mrpl40', 'Idh1', 'Hspb11', 'Erp44', 'Vamp8', 'P3h3', 'Auh', 'Polr2j', 'D8Ertd738e', 'Cdc42se2', 'Erg28', 'Trem2', 'Dpy30', 'Smim20', 'Cnih1', 'Rnf7', 'Rpl21', 'Ei24', 'Med28', 'Sypl', 'Tmem208', 'Clpp', 'Selenoh', 'Mrpl14', 'Pnkd', 'Gltp', 'Rps16', 'Mrpl53', 'Nudc', 'Ctsa', 'Mrpl18', 'Hexa', 'Naca', 'Tmem123', 'Dhrs3', 'Cript', 'Naxe', 'Ppil3', 'Pno1', 'Cacybp', 'H2afv', 'Mrps12', 'Arpc1a', 'Pmvk', 'Grina', 'Anapc11', 'Rps5', 'Fam174a', 'Nudt4', 'BC031181', 'Gcsh', 'Rpl36', 'Tmem14c', 'Bet1', 'Dctn3', 'Cox17', 'Etfrf1', '2210016L21Rik', 'Mpc2', 'Idh3b', 'Dynlrb1', 'Rpl14', 'Chmp2a', 'Cox7c', 'Tomm22', 'Ubxn1', 'Nabp2', 'Sdhd', 'Tmem258', 'Nudt2', 'Tnfsf12', 'Sdcbp', 'Gpx4', 'Arf5', 'Ost4', 'Zfp704', 'Ndufv2', 'Rps7', 'Riok3', 'Trim35', 'Rtraf', 'Cfap36', 'Ftl1', 'C1d', 'Tnfsf13', 'Mapk3', 'Sdhb', 'Adi1', 'Lamp1', 'Chpt1', 'Mrpl36', 'Tmbim1', 'Rpl27a', 'Mrpl15', 'Glo1', 'Tmem189', 'Atp6v1g1', 'Mrpl11', 'Cox14', 'Rpl7a', 'Rpl29', 'Rab9', 'P2rx4', 'Ndufaf8', 'Mrpl28', 'Bcas2', 'Lsm5', 'Emc7', 'Pa2g4', 'Mrpl23', 'Serf2', 'Tecr', 'Ndufb10', 'Psmb9', 'Tmem147', 'Gaa', 'Cmpk1', 'Tmem167', 'Mlf2', 'Orc2', 'Emc8', 'Ndufab1', 'Hsbp1', 'Ebpl', 'Rps27a', 'S100a13', 'Mxi1', 'Rpl6'}\n"
     ]
    }
   ],
   "source": [
    "# Overlap of upregulated genes\n",
    "overlap_up_lpc = set_LPC_de_BAMs_up & set_LPC_de_DAMs_up & set_LPC_re_DAMs_up - set_Cupr_de_DAMs_up - set_Cupr_re_DAMs_up\n",
    "print(\"Number of overlapping upregulated genes:\", len(overlap_up_lpc))\n",
    "print(\"Overlapping upregulated genes:\", overlap_up_lpc)"
   ]
  },
  {
   "cell_type": "code",
   "execution_count": 29,
   "id": "2320ec2a",
   "metadata": {},
   "outputs": [
    {
     "name": "stdout",
     "output_type": "stream",
     "text": [
      "Number of overlapping upregulated genes: 49\n",
      "Overlapping upregulated genes: {'Sulf2', 'Rpl10-ps3', 'Gm41609', 'Bcl2a1b', 'Sdc4', 'Fam49a', 'Ms4a4c', 'Ankrd33b', 'Tnfaip8', 'Gbp5', 'A430093F15Rik', 'Nlrc5', 'Il11ra1', 'Ctnnb1', 'Tnfsf9', 'Gch1', 'Chst11', 'Lcp1', 'Srxn1', 'Gm15832', 'Itga5', 'Tank', 'Gadd45b', 'Fam129a', 'Prkg1', 'Tnfaip2', 'Gsap', 'Wdr89', 'Ifih1', 'Sept11', 'Sowahc', 'Rps27rt', 'Pvr', 'Gm31718', 'Isg15', 'Ptprj', 'Fgf13', 'Foxp4', 'AU020206', 'Ccrl2', 'Jak2', 'March3', 'Mocs1', 'Clic4', 'Hacd2', 'Samd9l', 'Kynu', 'Traf3', 'Stx11'}\n"
     ]
    }
   ],
   "source": [
    "# Overlap of upregulated genes\n",
    "overlap_up_cupr = set_Cupr_de_DAMs_up & set_Cupr_re_DAMs_up - set_LPC_de_BAMs_up - set_LPC_de_DAMs_up - set_LPC_re_DAMs_up\n",
    "print(\"Number of overlapping upregulated genes:\", len(overlap_up_cupr))\n",
    "print(\"Overlapping upregulated genes:\", overlap_up_cupr)"
   ]
  },
  {
   "cell_type": "code",
   "execution_count": 30,
   "id": "d100398e",
   "metadata": {},
   "outputs": [
    {
     "name": "stdout",
     "output_type": "stream",
     "text": [
      "Number of overlapping upregulated genes: 213\n",
      "Overlapping upregulated genes: {'Sec16a', 'Tbc1d31', 'Mbd1', 'Nupr1', 'Ywhag', 'Lats1', 'Nol8', 'Gnb1', 'Baz2b', 'Baz1a', 'Tardbp', 'Cnot1', 'Cstf3', 'Spag9', 'Dhx15', 'Suz12', '1810013L24Rik', 'Mplkip', 'Mapk1ip1l', 'Jup', 'Pdss1', 'Snhg1', 'Trim56', 'Gm11613', 'Mindy3', 'Cpeb4', 'Stk40', 'Mdc1', 'Ddx18', 'Kif3b', 'Ap2b1', 'Sbno1', 'Smc1a', 'Ddx21', 'Kdm5a', 'Smcr8', 'Ubap2l', 'Tnpo2', 'Cpeb2', 'Exoc3', 'Kmt2a', 'Nup153', 'Dock2', 'Wipf1', 'Slc35d2', 'Mib1', 'Sh3kbp1', 'Acsl4', 'Rbm5', 'Skap2', 'Rcc2', 'Vps4b', 'Nuak2', 'Nadk', 'Retreg1', 'Mapk6', 'Brwd3', 'Rasa1', 'Arl5b', 'Ccnh', 'Ier2', 'Fbxo34', 'Map3k8', 'Eml4', 'Ppp1r11', 'Rnf44', 'Ggnbp2', 'Fbxl17', 'Gt(ROSA)26Sor', 'Pcsk7', 'Cul3', 'Kansl1l', 'Arfgef1', 'Morf4l2', 'Ash1l', 'Xrn2', 'Nsrp1', 'Tnrc6a', 'Fubp1', 'Nktr', 'Memo1', 'Zfp622', 'Rap1gds1', 'Msl2', 'Rnf19a', 'Sertad2', 'Ehmt1', 'Mrps6', 'Pgap2', 'Rbbp8', 'Ccdc9', 'Creb1', 'Fam133b', 'Trip12', 'Med12', 'Gm47283', 'Usp16', 'Rbm14', 'Fbxw11', 'Kdm1b', 'Socs7', 'Katna1', 'Abi1', 'Rbm33', 'Aim2', '5430427O19Rik', 'Cluap1', 'Plcl1', 'Arl13b', 'Stk4', 'Rrbp1', 'Eif4enif1', 'Capn11', 'Wdr26', 'Dpp8', 'Camk1d', 'Cacul1', 'Lncpint', 'Setd5', 'Ddx19b', 'Nop14', 'Hnrnpa2b1', 'Rap1b', 'Utp18', 'Nbeal1', 'Ubxn4', 'Ltv1', 'Kcnq1ot1', 'Galnt1', 'Pex3', 'Prrc2c', 'Abcb1b', 'Cwc25', 'Atp6v0a1', 'Rdh5', 'Tcf20', 'Pdgfb', 'Ywhaz', 'Myo9a', 'Slc9a8', 'Mapre1', 'Nmt2', 'Mex3c', 'Atf7', 'Ppp2r3c', 'Ncl', 'Hnrnpm', 'Slc25a33', 'Ago1', 'Usp45', 'March7', 'Psme4', 'Ubp1', 'Luc7l3', 'Atf6', 'Dhx40', 'Rab8b', 'Rtf1', 'Sec24a', 'Nckap1l', 'Arhgef2', 'Pygo2', 'Gm9993', 'Fam214b', 'Ddx17', 'Vps26a', 'Pus10', 'Dnajc1', 'Pou2f1', 'Far1', 'Ogt', 'Eif3j1', 'Srsf6', 'Rap2c', 'Fkrp', 'Luzp1', 'Trmt61b', 'Sf3b1', 'Zfp800', 'Ankrd17', 'Ccdc82', 'Rad54l2', 'Atf4', 'Rad51b', 'Spty2d1', 'Kptn', 'Pak2', 'Prkcb', 'Pygb', 'Tmem245', 'Fbxo11', 'Aak1', 'Hnrnpc', 'Wasf2', 'Slc7a1', 'Rnmt', 'Ppp2r2d', 'Ubap2', 'Phtf1', 'Golph3', 'Tet3', 'Celf1', 'Bdp1', 'Mtrex', 'Itprid2', 'Gmfb', 'Spred2', 'Tor1aip2', 'Zfp994', 'Bzw1', 'Cks2', 'Usp7', 'Tubb4b'}\n"
     ]
    }
   ],
   "source": [
    "# Overlap of upregulated genes\n",
    "overlap_down_lpc = set_LPC_de_BAMs_down & set_LPC_de_DAMs_down & set_LPC_re_DAMs_down - set_Cupr_de_DAMs_down - set_Cupr_re_DAMs_down\n",
    "print(\"Number of overlapping upregulated genes:\", len(overlap_down_lpc))\n",
    "print(\"Overlapping upregulated genes:\", overlap_down_lpc)"
   ]
  },
  {
   "cell_type": "code",
   "execution_count": 31,
   "id": "061d3790",
   "metadata": {},
   "outputs": [
    {
     "name": "stdout",
     "output_type": "stream",
     "text": [
      "Number of overlapping upregulated genes: 54\n",
      "Overlapping upregulated genes: {'N4bp2l1', 'Rmdn1', 'Mtmr10', 'Micu3', 'Zfp282', 'Ube2a', 'St6galnac4', 'Vps33b', 'Slx4ip', 'Zfp668', '2010315B03Rik', '9930021J03Rik', 'Slc37a3', 'Zfp398', 'E130309D02Rik', 'Deaf1', 'Kansl2', 'Dnmbp', 'Zfp746', 'Dusp1', 'Slc44a2', 'Strbp', 'Zfp512b', 'Trmt1l', 'Mtif3', '4930414N06Rik', 'Mbip', 'Tbp', 'Arrdc3', 'Emsy', 'Edem3', 'Zfp606', 'Ppp2cb', 'Cnpy3', 'Cdk5rap1', 'Cln8', 'Sla', 'Tnfaip8l2', '9130230L23Rik', 'Saraf', 'Zfp157', 'Cep192', 'Necap1', 'Usf1', 'Rbfa', 'Mrgbp', 'Adamts6', 'Lgmn', 'Jmy', 'Nelfa', 'Patz1', 'Rgs1', 'Tent4b', 'Amd1'}\n"
     ]
    }
   ],
   "source": [
    "# Overlap of upregulated genes\n",
    "overlap_down_cupr = set_Cupr_de_DAMs_down & set_Cupr_re_DAMs_down - set_LPC_de_BAMs_down - set_LPC_de_DAMs_down - set_LPC_re_DAMs_down\n",
    "print(\"Number of overlapping upregulated genes:\", len(overlap_down_cupr))\n",
    "print(\"Overlapping upregulated genes:\", overlap_down_cupr)"
   ]
  },
  {
   "cell_type": "code",
   "execution_count": 32,
   "id": "edb7e90a",
   "metadata": {},
   "outputs": [
    {
     "name": "stdout",
     "output_type": "stream",
     "text": [
      "Number of overlapping upregulated genes: 101\n",
      "Overlapping upregulated genes: {'Rab32', 'Mcm6', 'Mrpl54', 'Mrpl27', 'Vps29', 'Acaa2', 'Mcee', 'Gng5', 'Ube2l3', 'Tnni2', 'Llph', 'Cops9', 'Adap1', '0610012G03Rik', 'Bri3bp', 'Mrpl51', 'Mrps28', 'Dnajb14', 'Galc', 'Eif3h', 'Hscb', 'Asna1', 'Sntb2', 'Psat1', 'Bak1', 'Esd', 'Tma7', '2310039H08Rik', 'Atp6v1b2', 'Ddx41', 'Cox5a', 'Arl11', 'Pdap1', 'Ola1', 'Fuca1', 'Mrps21', 'Tmem160', 'Slirp', 'Trappc2l', 'Plin3', 'Rps12', 'Fxn', 'Sap30', 'Arhgap19', 'Anp32b', 'Cenpx', 'Trappc6a', 'Mrps14', 'Mrpl21', 'Mrpl33', 'Mpp1', 'Timm8b', 'Hacd4', 'Atpif1', 'Iqsec1', 'Bag1', 'Prdx4', 'Rida', 'Gba', 'Ap2s1', 'Glmp', 'Slc36a4', 'Myl6', 'Abr', 'Xaf1', 'Lyst', 'Lamtor2', 'Htatip2', 'Abcg1', 'Rpl12', 'Ap1s1', 'Gnptab', 'Tecpr1', 'Sp100', 'Lsm4', 'Mvb12a', 'Gusb', 'Nbdy', 'Tmem80', 'Grn', 'Gm17018', 'Micos10', 'Psmg4', 'Fkbp2', 'Osbpl3', 'Slc38a6', 'Ap3s1', 'Sdhc', 'Smn1', 'Rpl36al', 'Pfdn1', 'Ethe1', 'Pgls', 'Gramd1b', 'Mrpl42', 'Ttyh2', 'Ift57', 'Mpc1', 'Serpinb6a', 'Snrnp25', 'Pdcd6'}\n"
     ]
    }
   ],
   "source": [
    "# Overlap of upregulated genes\n",
    "overlap_up_demyel = set_Cupr_de_DAMs_up &  set_LPC_de_BAMs_up & set_LPC_de_DAMs_up - set_LPC_re_DAMs_up - set_Cupr_re_DAMs_up\n",
    "print(\"Number of overlapping upregulated genes:\", len(overlap_up_demyel))\n",
    "print(\"Overlapping upregulated genes:\", overlap_up_demyel)"
   ]
  },
  {
   "cell_type": "code",
   "execution_count": 33,
   "id": "f81e1497",
   "metadata": {},
   "outputs": [
    {
     "name": "stdout",
     "output_type": "stream",
     "text": [
      "Number of overlapping upregulated genes: 360\n",
      "Overlapping upregulated genes: {'Als2', 'Supt6', 'Mis12', 'Gm26826', 'Ubr1', 'Trappc12', 'Tut1', 'Map2k1', 'Bag3', 'Champ1', 'Ccdc130', 'Ppp1r37', 'Ncoa5', 'Phf12', 'Kcnrg', 'Gtf3c2', 'Rai1', 'Tbc1d14', 'Ppp5c', 'Nckipsd', 'Hnrnpl', 'Arsk', 'Zfp597', 'Ap3m2', 'Adap2os', 'Usp35', 'Batf3', 'Pex5', 'Rnf19b', 'Ankrd54', 'Pros1', 'Nfatc2ip', 'Gm28198', 'Ppp6c', 'Xrcc4', 'Phf23', 'Cbfb', 'Mfap1a', 'Tlr6', 'Chuk', 'Traf6', 'Upf1', 'Zeb2os', 'Sugp2', 'Rassf2', 'Dguok', 'Cpsf6', '1600020E01Rik', 'Eefsec', 'Trmo', 'Mtmr1', '1110051M20Rik', 'Zfand3', 'Gm20234', 'Spata1', 'Traf2', 'Ccnl2', 'H2-Q4', 'Map4k2', 'Rnf6', 'Exosc10', 'Atf1', 'Il4ra', 'Per1', 'Ebi3', 'Phf1', 'Wdr37', 'Zxdc', 'Gpr146', 'Plcb3', 'Gtf2i', 'Zyg11b', 'Arrdc1', 'Gm27241', 'Qtrt1', 'Mapk1ip1', 'Cic', 'Adck5', 'Elf4', 'Rnf103', 'Cyp4f13', 'Ppm1d', 'Donson', 'Plk3', 'Tiprl', 'Dnajc18', 'Ythdf2', 'Irgm2', 'Clp1', 'Was', 'Prkch', 'Man1a', 'Grk2', 'Klhl18', 'Gm42659', 'Bcl6', 'Dhx8', 'Cpsf3', 'Gm30541', 'Hic2', 'Zfp397', 'Gm43305', 'Stat5a', 'Fam120b', 'Pex6', 'Mier3', 'Gpr160', 'Dtx2', 'Gm16541', 'Zfp105', 'Myd88', '2610037D02Rik', 'Rbm15', 'Gatad2a', 'Thap3', 'B3gnt2', 'Tor1aip1', 'Matk', '1300002E11Rik', 'BC005561', 'Rogdi', 'Atp6ap2', 'Kctd21', 'Gm13427', 'Rft1', 'Tmc4', 'Elac1', 'Gm20045', 'Hnmt', 'Fam53b', 'Btbd19', 'Irf1', 'Ring1', 'Bcas3', 'Rnf138', 'Pds5a', 'Fcgrt', 'Ddx20', 'Kctd20', 'Pigb', 'Akap8', 'Ccdc134', 'Rgl2', 'Uso1', 'Kmt2d', 'Urgcp', '3110056K07Rik', 'Bco2', 'Pkd1', 'Ndufaf7', 'Uimc1', 'Rnf24', 'Sema4c', 'Gm34455', 'Pias1', 'Gk5', '2700038G22Rik', 'Hspa12a', 'Zfp787', 'Esrra', 'Themis2', 'Myh9', 'Prpf6', 'Mfap1b', 'B4galt1', 'Oard1', 'Clk3', 'Daglb', 'Rela', 'Mus81', 'Fbxo46', 'Lipc', 'Rprd1a', '2310033P09Rik', 'Cars', 'Padi2', 'Fuz', 'Soga1', 'Dgka', 'Maml1', 'Gpatch3', 'Gm26549', 'Xpnpep3', 'Hnrnph3', 'C87436', 'Lmbr1l', 'Agbl3', 'Afap1l1', 'Nsun3', 'Fxr2', 'Atl2', 'Pfkfb4', 'Rbm4', 'Zfp868', 'Afmid', 'Trim26', 'Brat1', 'Ttc39b', 'Gatb', 'Cse1l', 'Zfyve28', 'Eed', 'Gm15478', 'Casc3', 'Hyal1', 'Zbtb1', 'Ube2s', 'Kmt5c', 'Cnbd2', 'Fmo5', 'Micu1', 'Mob3a', 'Zbtb34', 'Rxrb', 'Ipcef1', 'Exoc6', 'Rab10os', 'Cabin1', 'Lag3', '4833418N02Rik', 'Arfgap2', 'A530072M11Rik', 'Pdss2', 'Zfp934', 'Foxk2', 'Cbx7', 'Birc3', 'Gm20274', 'Trmt2a', 'Mynn', 'Lysmd3', 'Ccdc61', 'Pus3', 'Pbx2', 'Wipf2', 'Top3b', 'Sbds', 'Clec4a3', 'Gxylt1', 'Polg', 'Gm16740', 'Prr14l', 'Mtf2', 'Leng8', 'Bclaf1', 'Tfeb', 'Snx11', 'Nup98', 'Mib2', 'Zfp598', '4930599N23Rik', 'Gm10353', 'Ccdc174', 'Stn1', 'A630001G21Rik', 'Ildr1', 'Ing5', 'Ptpn2', 'Zfr2', 'Wiz', 'Ncf2', 'Apbb3', 'Rgl1', 'Cpsf7', 'Cyp27a1', 'Eno3', 'AU019990', 'Cdc42ep4', 'Med7', '4833411C07Rik', 'Ppox', 'Rnf215', 'Gsdmd', 'Esr1', 'Neurl1a', 'Rp2', '6330418K02Rik', 'Igf2bp2', 'Fam217b', 'Ercc2', 'Ccdc88b', 'Leng1', 'Mapkbp1', 'Sult1a1', 'Nfyc', 'Yme1l1', 'P2rx7', 'Gm46430', 'Kdm5c', 'Myo1c', 'Gmeb1', 'Akap8l', 'Ttpal', 'Gm12216', 'Notch2', 'Oprm1', 'Zfp592', 'Rbbp6', 'Gm47754', 'Zfp68', 'Rbbp4', 'Terf1', 'Akt2', 'Slc17a9', 'Azi2', 'Map3k11', 'Toe1', 'Primpol', 'Slc29a1', 'Axin1', 'Zfp770', 'Fmnl1', 'Birc2', 'Bcor', 'Il1rl2', 'E130307A14Rik', '2410002F23Rik', 'Rassf1', 'Safb', 'Ppil4', 'Ptbp3', 'Ccm2', 'Prkcd', 'Poldip3', 'Uck1', 'Gm14634', 'Ddx43', '2700097O09Rik', 'Zfp512', 'Gm27003', 'Sh3bp1', 'Atp6v1g2', 'Ints10', 'Lbr', 'Clec4a2', 'Srbd1', 'Arid1b', 'Taz', 'Hfe', 'Pla2g15', 'Bend6', 'Ndel1', 'Dgkh', 'Sf1', 'Mier2', 'Cd82', 'Srcap', 'Mterf3', 'Kat5', 'Tsen2', 'Rffl', 'Adck1', 'Il17ra', 'Nrf1', 'Tcf3', 'Strip1', 'Arl10', 'Naalad2', 'Picalm', 'Klhl26'}\n"
     ]
    }
   ],
   "source": [
    "# Overlap of upregulated genes\n",
    "overlap_down_demyel = set_Cupr_de_DAMs_down &  set_LPC_de_BAMs_down & set_LPC_de_DAMs_down - set_LPC_re_DAMs_down - set_Cupr_re_DAMs_down\n",
    "print(\"Number of overlapping upregulated genes:\", len(overlap_down_demyel))\n",
    "print(\"Overlapping upregulated genes:\", overlap_down_demyel)"
   ]
  },
  {
   "cell_type": "code",
   "execution_count": 34,
   "id": "e8d6255e",
   "metadata": {},
   "outputs": [
    {
     "name": "stdout",
     "output_type": "stream",
     "text": [
      "Number of overlapping upregulated genes: 149\n",
      "Number of overlapping upregulated genes: 101\n",
      "Number of overlapping upregulated genes: 136\n",
      "Number of overlapping upregulated genes: 49\n",
      "Number of overlapping upregulated genes: 54\n",
      "Number of overlapping upregulated genes: 213\n",
      "Number of overlapping upregulated genes: 360\n",
      "Number of overlapping upregulated genes: 638\n"
     ]
    }
   ],
   "source": [
    "print(\"Number of overlapping upregulated genes:\", len(overlap_up_all))\n",
    "print(\"Number of overlapping upregulated genes:\", len(overlap_up_demyel))\n",
    "print(\"Number of overlapping upregulated genes:\", len(overlap_up_lpc))\n",
    "print(\"Number of overlapping upregulated genes:\", len(overlap_up_cupr))\n",
    "print(\"Number of overlapping upregulated genes:\", len(overlap_down_cupr))\n",
    "print(\"Number of overlapping upregulated genes:\", len(overlap_down_lpc))\n",
    "print(\"Number of overlapping upregulated genes:\", len(overlap_down_demyel))\n",
    "print(\"Number of overlapping upregulated genes:\", len(overlap_down_all))"
   ]
  },
  {
   "cell_type": "code",
   "execution_count": 35,
   "id": "384449ce",
   "metadata": {},
   "outputs": [],
   "source": [
    "# Assuming the gene lists are already defined in Python\n",
    "gene_lists = [\n",
    "    overlap_up_all, overlap_up_demyel, overlap_up_lpc, overlap_up_cupr,\n",
    "    overlap_down_cupr, overlap_down_lpc, overlap_down_demyel, overlap_down_all\n",
    "]\n",
    "\n",
    "# Flatten the lists and remove duplicates\n",
    "all_genes = list(set().union(*gene_lists))\n",
    "\n",
    "# Save to CSV for import into R\n",
    "pd.DataFrame(all_genes, columns=[\"genes\"]).to_csv(\"genes_for_heatmap.csv\", index=False)"
   ]
  },
  {
   "cell_type": "code",
   "execution_count": 36,
   "id": "4b4d81cd",
   "metadata": {},
   "outputs": [
    {
     "name": "stdout",
     "output_type": "stream",
     "text": [
      "      gene category\n",
      "0    Apoc2   Up_all\n",
      "1  Cd200r4   Up_all\n",
      "2      Cpd   Up_all\n",
      "3   Fam20c   Up_all\n",
      "4    Lmnb1   Up_all\n"
     ]
    }
   ],
   "source": [
    "gene_lists = [\n",
    "    ('Up_all', overlap_up_all),\n",
    "    ('Up_demyel', overlap_up_demyel),\n",
    "    ('Up_LPC', overlap_up_lpc),\n",
    "    ('Up_Cupr', overlap_up_cupr),\n",
    "    ('Down_Cupr', overlap_down_cupr),\n",
    "    ('Down_LPC', overlap_down_lpc),\n",
    "    ('Down_demyel', overlap_down_demyel),\n",
    "    ('Down_all', overlap_down_all)\n",
    "]\n",
    "\n",
    "# Flatten the lists and create a new DataFrame\n",
    "all_genes = []\n",
    "for label, gene_list in gene_lists:\n",
    "    all_genes.extend([(gene, label) for gene in gene_list])\n",
    "\n",
    "# Convert to DataFrame\n",
    "df_genes = pd.DataFrame(all_genes, columns=[\"gene\", \"category\"])\n",
    "\n",
    "# Save to CSV\n",
    "df_genes.to_csv(\"genes_for_heatmap_with_labels.csv\", index=False)\n",
    "\n",
    "# Confirming the CSV output\n",
    "print(df_genes.head())"
   ]
  },
  {
   "cell_type": "markdown",
   "id": "ff20ceac",
   "metadata": {},
   "source": [
    "# Complex heatmap"
   ]
  },
  {
   "cell_type": "code",
   "execution_count": 37,
   "id": "c5b471c7",
   "metadata": {},
   "outputs": [],
   "source": [
    "import warnings\n",
    "\n",
    "warnings.filterwarnings(\"ignore\")\n",
    "\n",
    "import matplotlib.pyplot as plt\n",
    "import seaborn as sns\n",
    "import scanpy as sc\n",
    "import pandas as pd\n",
    "import numpy as np\n",
    "import random\n",
    "import sc_toolbox\n",
    "import pertpy \n",
    "\n",
    "import rpy2.rinterface_lib.callbacks\n",
    "import anndata2ri\n",
    "import logging\n",
    "\n",
    "from rpy2.robjects import pandas2ri\n",
    "from rpy2.robjects import r\n",
    "\n",
    "sc.settings.verbosity = 0\n",
    "rpy2.rinterface_lib.callbacks.logger.setLevel(logging.ERROR)\n",
    "\n",
    "pandas2ri.activate()\n",
    "anndata2ri.activate()\n",
    "\n",
    "pd.set_option('display.max_columns', None)\n",
    "\n",
    "%load_ext rpy2.ipython"
   ]
  },
  {
   "cell_type": "code",
   "execution_count": 38,
   "id": "866f850a",
   "metadata": {},
   "outputs": [],
   "source": [
    "from matplotlib import rcParams\n",
    "from matplotlib import cm, colors\n",
    "\n",
    "#Define a nice colour map for gene expression\n",
    "colors2 = plt.cm.plasma(np.linspace(0, 1, 128))\n",
    "colors3 = plt.cm.Greys_r(np.linspace(0.7,0.8,20))\n",
    "colorsComb = np.vstack([colors3, colors2])\n",
    "mymap2 = colors.LinearSegmentedColormap.from_list('my_colormap', colorsComb)"
   ]
  },
  {
   "cell_type": "code",
   "execution_count": 84,
   "id": "476dc3d4",
   "metadata": {},
   "outputs": [
    {
     "data": {
      "text/plain": [
       "========================================\n",
       "circlize version 0.4.16\n",
       "CRAN page: https://cran.r-project.org/package=circlize\n",
       "Github page: https://github.com/jokergoo/circlize\n",
       "Documentation: https://jokergoo.github.io/circlize_book/book/\n",
       "\n",
       "If you use it in published research, please cite:\n",
       "Gu, Z. circlize implements and enhances circular visualization\n",
       "  in R. Bioinformatics 2014.\n",
       "\n",
       "This message can be suppressed by:\n",
       "  suppressPackageStartupMessages(library(circlize))\n",
       "========================================\n",
       "\n"
      ]
     },
     "metadata": {},
     "output_type": "display_data"
    }
   ],
   "source": [
    "%%R\n",
    "library(edgeR)\n",
    "library(ComplexHeatmap)\n",
    "library(data.table)\n",
    "library(ComplexHeatmap)\n",
    "library(circlize)"
   ]
  },
  {
   "cell_type": "code",
   "execution_count": 40,
   "id": "45333b23",
   "metadata": {},
   "outputs": [
    {
     "data": {
      "text/plain": [
       "AnnData object with n_obs × n_vars = 49 × 17747\n",
       "    obs: 'publication', 'label', 'cell_type', 'replicate_cat', 'sample', 'sample_rep', 'batch', 'lib_size', 'log_lib_size', 'replicate'\n",
       "    uns: 'cell_type_colors', 'label_colors', 'log1p', 'pca', 'publication_colors', 'replicate_cat_colors', 'sample_colors', 'sample_rep_colors'\n",
       "    obsm: 'X_pca'\n",
       "    varm: 'PCs'\n",
       "    layers: 'counts'"
      ]
     },
     "execution_count": 40,
     "metadata": {},
     "output_type": "execute_result"
    }
   ],
   "source": [
    "adata_lpc = sc.read('./pb_adata_LPC_Mg.h5ad')\n",
    "adata_lpc"
   ]
  },
  {
   "cell_type": "code",
   "execution_count": 41,
   "id": "8bcdfe83",
   "metadata": {},
   "outputs": [
    {
     "data": {
      "text/plain": [
       "AnnData object with n_obs × n_vars = 44 × 16393\n",
       "    obs: 'publication', 'label', 'cell_type', 'replicate_cat', 'sample', 'sample_rep', 'batch', 'lib_size', 'log_lib_size', 'replicate'\n",
       "    uns: 'cell_type_colors', 'label_colors', 'log1p', 'pca', 'publication_colors', 'replicate_cat_colors', 'sample_colors', 'sample_rep_colors'\n",
       "    obsm: 'X_pca'\n",
       "    varm: 'PCs'\n",
       "    layers: 'counts'"
      ]
     },
     "execution_count": 41,
     "metadata": {},
     "output_type": "execute_result"
    }
   ],
   "source": [
    "adata_cupr = sc.read('./pb_adata_Cupr_Mg.h5ad')\n",
    "adata_cupr"
   ]
  },
  {
   "cell_type": "code",
   "execution_count": 42,
   "id": "bea55140",
   "metadata": {},
   "outputs": [
    {
     "name": "stdout",
     "output_type": "stream",
     "text": [
      "AnnData object with n_obs × n_vars = 93 × 16000\n",
      "    obs: 'publication', 'label', 'cell_type', 'replicate_cat', 'sample', 'sample_rep', 'batch', 'lib_size', 'log_lib_size', 'replicate'\n",
      "    obsm: 'X_pca'\n",
      "    layers: 'counts'\n"
     ]
    }
   ],
   "source": [
    "import anndata as ad\n",
    "\n",
    "# Concatenate along observations (rows)\n",
    "adata_pb = ad.concat([adata_cupr, adata_lpc], axis=0)\n",
    "\n",
    "# Check the result\n",
    "print(adata_pb)"
   ]
  },
  {
   "cell_type": "code",
   "execution_count": 43,
   "id": "2f6397f5",
   "metadata": {},
   "outputs": [
    {
     "data": {
      "text/html": [
       "<div>\n",
       "<style scoped>\n",
       "    .dataframe tbody tr th:only-of-type {\n",
       "        vertical-align: middle;\n",
       "    }\n",
       "\n",
       "    .dataframe tbody tr th {\n",
       "        vertical-align: top;\n",
       "    }\n",
       "\n",
       "    .dataframe thead th {\n",
       "        text-align: right;\n",
       "    }\n",
       "</style>\n",
       "<table border=\"1\" class=\"dataframe\">\n",
       "  <thead>\n",
       "    <tr style=\"text-align: right;\">\n",
       "      <th></th>\n",
       "      <th>publication</th>\n",
       "      <th>label</th>\n",
       "      <th>cell_type</th>\n",
       "      <th>replicate_cat</th>\n",
       "      <th>sample</th>\n",
       "      <th>sample_rep</th>\n",
       "      <th>batch</th>\n",
       "      <th>lib_size</th>\n",
       "      <th>log_lib_size</th>\n",
       "      <th>replicate</th>\n",
       "    </tr>\n",
       "  </thead>\n",
       "  <tbody>\n",
       "    <tr>\n",
       "      <th>donor_ctrl_3_0-0-0-0-0</th>\n",
       "      <td>Shen et al. 2021</td>\n",
       "      <td>ctrl</td>\n",
       "      <td>Mg_A</td>\n",
       "      <td>3</td>\n",
       "      <td>ctrl_3</td>\n",
       "      <td>Cupr_ctrl_Shen_2</td>\n",
       "      <td>0</td>\n",
       "      <td>240640</td>\n",
       "      <td>12.391057</td>\n",
       "      <td>3</td>\n",
       "    </tr>\n",
       "    <tr>\n",
       "      <th>donor_ctrl_4_0-0-0-0-0</th>\n",
       "      <td>Shen et al. 2021</td>\n",
       "      <td>ctrl</td>\n",
       "      <td>Mg_A</td>\n",
       "      <td>4</td>\n",
       "      <td>ctrl_4</td>\n",
       "      <td>Cupr_ctrl_Shen_1</td>\n",
       "      <td>0</td>\n",
       "      <td>3305175</td>\n",
       "      <td>15.011000</td>\n",
       "      <td>4</td>\n",
       "    </tr>\n",
       "    <tr>\n",
       "      <th>donor_ctrl_5_0-0-0-0-0</th>\n",
       "      <td>Shen et al. 2021</td>\n",
       "      <td>ctrl</td>\n",
       "      <td>Mg_A</td>\n",
       "      <td>5</td>\n",
       "      <td>ctrl_5</td>\n",
       "      <td>Cupr_ctrl_Shen_3</td>\n",
       "      <td>0</td>\n",
       "      <td>2702141</td>\n",
       "      <td>14.809555</td>\n",
       "      <td>5</td>\n",
       "    </tr>\n",
       "    <tr>\n",
       "      <th>donor_stim_2_0-0-0-0-0</th>\n",
       "      <td>(this study)</td>\n",
       "      <td>stim</td>\n",
       "      <td>Mg_A</td>\n",
       "      <td>2</td>\n",
       "      <td>stim_2</td>\n",
       "      <td>Cupr_5w_2</td>\n",
       "      <td>0</td>\n",
       "      <td>33969</td>\n",
       "      <td>10.433204</td>\n",
       "      <td>2</td>\n",
       "    </tr>\n",
       "    <tr>\n",
       "      <th>donor_stim_3_0-0-0-0-0</th>\n",
       "      <td>Shen et al. 2021</td>\n",
       "      <td>stim</td>\n",
       "      <td>Mg_A</td>\n",
       "      <td>3</td>\n",
       "      <td>stim_3</td>\n",
       "      <td>Cupr_4+3w_1</td>\n",
       "      <td>0</td>\n",
       "      <td>125431</td>\n",
       "      <td>11.739511</td>\n",
       "      <td>3</td>\n",
       "    </tr>\n",
       "  </tbody>\n",
       "</table>\n",
       "</div>"
      ],
      "text/plain": [
       "                             publication label cell_type replicate_cat  \\\n",
       "donor_ctrl_3_0-0-0-0-0  Shen et al. 2021  ctrl      Mg_A             3   \n",
       "donor_ctrl_4_0-0-0-0-0  Shen et al. 2021  ctrl      Mg_A             4   \n",
       "donor_ctrl_5_0-0-0-0-0  Shen et al. 2021  ctrl      Mg_A             5   \n",
       "donor_stim_2_0-0-0-0-0      (this study)  stim      Mg_A             2   \n",
       "donor_stim_3_0-0-0-0-0  Shen et al. 2021  stim      Mg_A             3   \n",
       "\n",
       "                        sample        sample_rep batch  lib_size  \\\n",
       "donor_ctrl_3_0-0-0-0-0  ctrl_3  Cupr_ctrl_Shen_2     0    240640   \n",
       "donor_ctrl_4_0-0-0-0-0  ctrl_4  Cupr_ctrl_Shen_1     0   3305175   \n",
       "donor_ctrl_5_0-0-0-0-0  ctrl_5  Cupr_ctrl_Shen_3     0   2702141   \n",
       "donor_stim_2_0-0-0-0-0  stim_2         Cupr_5w_2     0     33969   \n",
       "donor_stim_3_0-0-0-0-0  stim_3       Cupr_4+3w_1     0    125431   \n",
       "\n",
       "                        log_lib_size replicate  \n",
       "donor_ctrl_3_0-0-0-0-0     12.391057         3  \n",
       "donor_ctrl_4_0-0-0-0-0     15.011000         4  \n",
       "donor_ctrl_5_0-0-0-0-0     14.809555         5  \n",
       "donor_stim_2_0-0-0-0-0     10.433204         2  \n",
       "donor_stim_3_0-0-0-0-0     11.739511         3  "
      ]
     },
     "execution_count": 43,
     "metadata": {},
     "output_type": "execute_result"
    }
   ],
   "source": [
    "adata_pb.obs[:5]"
   ]
  },
  {
   "cell_type": "code",
   "execution_count": 44,
   "id": "4f66caf2",
   "metadata": {},
   "outputs": [
    {
     "data": {
      "text/html": [
       "<div>\n",
       "<style scoped>\n",
       "    .dataframe tbody tr th:only-of-type {\n",
       "        vertical-align: middle;\n",
       "    }\n",
       "\n",
       "    .dataframe tbody tr th {\n",
       "        vertical-align: top;\n",
       "    }\n",
       "\n",
       "    .dataframe thead th {\n",
       "        text-align: right;\n",
       "    }\n",
       "</style>\n",
       "<table border=\"1\" class=\"dataframe\">\n",
       "  <thead>\n",
       "    <tr style=\"text-align: right;\">\n",
       "      <th>label</th>\n",
       "      <th>ctrl</th>\n",
       "      <th>stim</th>\n",
       "    </tr>\n",
       "    <tr>\n",
       "      <th>cell_type</th>\n",
       "      <th></th>\n",
       "      <th></th>\n",
       "    </tr>\n",
       "  </thead>\n",
       "  <tbody>\n",
       "    <tr>\n",
       "      <th>BAMs</th>\n",
       "      <td>1</td>\n",
       "      <td>13</td>\n",
       "    </tr>\n",
       "    <tr>\n",
       "      <th>Mg_A</th>\n",
       "      <td>7</td>\n",
       "      <td>15</td>\n",
       "    </tr>\n",
       "    <tr>\n",
       "      <th>Mg_B</th>\n",
       "      <td>7</td>\n",
       "      <td>17</td>\n",
       "    </tr>\n",
       "    <tr>\n",
       "      <th>Mg_trt</th>\n",
       "      <td>5</td>\n",
       "      <td>18</td>\n",
       "    </tr>\n",
       "    <tr>\n",
       "      <th>cycl</th>\n",
       "      <td>0</td>\n",
       "      <td>10</td>\n",
       "    </tr>\n",
       "  </tbody>\n",
       "</table>\n",
       "</div>"
      ],
      "text/plain": [
       "label      ctrl  stim\n",
       "cell_type            \n",
       "BAMs          1    13\n",
       "Mg_A          7    15\n",
       "Mg_B          7    17\n",
       "Mg_trt        5    18\n",
       "cycl          0    10"
      ]
     },
     "execution_count": 44,
     "metadata": {},
     "output_type": "execute_result"
    }
   ],
   "source": [
    "# Extract the data as a pandas DataFrame\n",
    "df = adata_pb.obs[['cell_type', 'label']]\n",
    "\n",
    "# Create a summary table\n",
    "summary_table = df.groupby(['cell_type', 'label']).size().unstack(fill_value=0)\n",
    "summary_table"
   ]
  },
  {
   "cell_type": "code",
   "execution_count": 45,
   "id": "50b0945b",
   "metadata": {},
   "outputs": [
    {
     "name": "stdout",
     "output_type": "stream",
     "text": [
      "Dimensions of adata_sub: (59, 16000)\n"
     ]
    }
   ],
   "source": [
    "adata_sub= adata_pb[np.in1d(adata_pb.obs['cell_type'], \n",
    "                           ['Mg_A', 'Mg_trt', 'BAMs'])].copy()\n",
    "\n",
    "print(\"Dimensions of adata_sub:\", adata_sub.shape)"
   ]
  },
  {
   "cell_type": "code",
   "execution_count": 46,
   "id": "68bbcfc7",
   "metadata": {},
   "outputs": [],
   "source": [
    "# Concatenate 'individual_lesion_condition' and 'replicate' to create 'sample'\n",
    "adata_sub.obs['cell_type_sample'] = adata_sub.obs['cell_type'].astype(str) + '_' + adata_sub.obs['sample_rep'].astype(str)"
   ]
  },
  {
   "cell_type": "code",
   "execution_count": 47,
   "id": "415badf1",
   "metadata": {
    "scrolled": true
   },
   "outputs": [
    {
     "name": "stdout",
     "output_type": "stream",
     "text": [
      "Mg_A_Cupr_ctrl_Shen_2\n",
      "Mg_A_Cupr_ctrl_Shen_1\n",
      "Mg_A_Cupr_ctrl_Shen_3\n",
      "Mg_A_Cupr_5w_2\n",
      "Mg_A_Cupr_4+3w_1\n",
      "Mg_A_Cupr_4w_3\n",
      "Mg_A_Cupr_4w_2\n",
      "Mg_A_Cupr_4+3w_3\n",
      "Mg_A_Cupr_4w_4\n",
      "Mg_A_Cupr_4+3w_2\n",
      "Mg_A_Cupr_4w_1\n",
      "Mg_trt_Cupr_ctrl_Shen_1\n",
      "Mg_trt_Cupr_ctrl_Shen_3\n",
      "Mg_trt_Cupr_5w_1\n",
      "Mg_trt_Cupr_5w_2\n",
      "Mg_trt_Cupr_4+3w_1\n",
      "Mg_trt_Cupr_4w_3\n",
      "Mg_trt_Cupr_4w_2\n",
      "Mg_trt_Cupr_4+3w_3\n",
      "Mg_trt_Cupr_4w_4\n",
      "Mg_trt_Cupr_4+3w_2\n",
      "Mg_trt_Cupr_4w_1\n",
      "BAMs_Cupr_ctrl_Shen_1\n",
      "BAMs_Cupr_4w_2\n",
      "BAMs_Cupr_4w_4\n",
      "BAMs_Cupr_4+3w_2\n",
      "BAMs_Cupr_4w_1\n",
      "Mg_A_LPC_Saline_2\n",
      "Mg_A_LPC_Saline_1\n",
      "Mg_A_LPC_ctrl_2\n",
      "Mg_A_LPC_ctrl_1\n",
      "Mg_A_LPC_7d_2\n",
      "Mg_A_LPC_5d_4\n",
      "Mg_A_LPC_7d_1\n",
      "Mg_A_LPC_5d_1\n",
      "Mg_A_LPC_28d_3\n",
      "Mg_A_LPC_28d_1\n",
      "Mg_A_LPC_28d_2\n",
      "Mg_trt_LPC_Saline_2\n",
      "Mg_trt_LPC_Saline_1\n",
      "Mg_trt_LPC_ctrl_1\n",
      "Mg_trt_LPC_7d_2\n",
      "Mg_trt_LPC_5d_4\n",
      "Mg_trt_LPC_7d_1\n",
      "Mg_trt_LPC_5d_1\n",
      "Mg_trt_LPC_5d_3\n",
      "Mg_trt_LPC_28d_3\n",
      "Mg_trt_LPC_28d_1\n",
      "Mg_trt_LPC_5d_2\n",
      "Mg_trt_LPC_28d_2\n",
      "BAMs_LPC_7d_2\n",
      "BAMs_LPC_5d_4\n",
      "BAMs_LPC_7d_1\n",
      "BAMs_LPC_5d_1\n",
      "BAMs_LPC_5d_3\n",
      "BAMs_LPC_28d_3\n",
      "BAMs_LPC_28d_1\n",
      "BAMs_LPC_5d_2\n",
      "BAMs_LPC_28d_2\n"
     ]
    }
   ],
   "source": [
    "# Unique values in the 'condition' column\n",
    "unique_conditions = adata_sub.obs['cell_type_sample'].unique()\n",
    "for condition in unique_conditions:\n",
    "    print(condition)"
   ]
  },
  {
   "cell_type": "code",
   "execution_count": 48,
   "id": "97f1b1e3",
   "metadata": {},
   "outputs": [
    {
     "name": "stdout",
     "output_type": "stream",
     "text": [
      "Dimensions of adata_sub: (31, 16000)\n"
     ]
    }
   ],
   "source": [
    "adata_sub= adata_sub[np.in1d(adata_sub.obs['cell_type_sample'], \n",
    "                           [\n",
    "                            'Mg_A_Cupr_ctrl_Shen_2',\n",
    "                            'Mg_A_Cupr_ctrl_Shen_1',\n",
    "                            'Mg_A_Cupr_ctrl_Shen_3',\n",
    "                            'Mg_trt_Cupr_5w_1',\n",
    "                            'Mg_trt_Cupr_5w_2',\n",
    "                            'Mg_trt_Cupr_4+3w_1',\n",
    "                            'Mg_trt_Cupr_4w_3',\n",
    "                            'Mg_trt_Cupr_4w_2',\n",
    "                            'Mg_trt_Cupr_4+3w_3',\n",
    "                            'Mg_trt_Cupr_4w_4',\n",
    "                            'Mg_trt_Cupr_4+3w_2',\n",
    "                            'Mg_trt_Cupr_4w_1',\n",
    "                            'Mg_A_LPC_Saline_2',\n",
    "                            'Mg_A_LPC_Saline_1',\n",
    "                            'Mg_A_LPC_ctrl_2',\n",
    "                            'Mg_A_LPC_ctrl_1',\n",
    "                            'Mg_trt_LPC_7d_2',\n",
    "                            'Mg_trt_LPC_5d_4',\n",
    "                            'Mg_trt_LPC_7d_1',\n",
    "                            'Mg_trt_LPC_5d_1',\n",
    "                            'Mg_trt_LPC_5d_3',\n",
    "                            'Mg_trt_LPC_28d_3',\n",
    "                            'Mg_trt_LPC_28d_1',\n",
    "                            'Mg_trt_LPC_5d_2',\n",
    "                            'Mg_trt_LPC_28d_2',\n",
    "                            'BAMs_LPC_7d_2',\n",
    "                            'BAMs_LPC_5d_4',\n",
    "                            'BAMs_LPC_7d_1',\n",
    "                            'BAMs_LPC_5d_1',\n",
    "                            'BAMs_LPC_5d_3',\n",
    "                            'BAMs_LPC_5d_2'                \n",
    "                           ])].copy()\n",
    "\n",
    "print(\"Dimensions of adata_sub:\", adata_sub.shape)"
   ]
  },
  {
   "cell_type": "code",
   "execution_count": 49,
   "id": "3f78dbde",
   "metadata": {},
   "outputs": [
    {
     "name": "stdout",
     "output_type": "stream",
     "text": [
      "Mg_A_Cupr_ctrl_Shen_2\n",
      "Mg_A_Cupr_ctrl_Shen_1\n",
      "Mg_A_Cupr_ctrl_Shen_3\n",
      "Mg_trt_Cupr_5w_1\n",
      "Mg_trt_Cupr_5w_2\n",
      "Mg_trt_Cupr_4+3w_1\n",
      "Mg_trt_Cupr_4w_3\n",
      "Mg_trt_Cupr_4w_2\n",
      "Mg_trt_Cupr_4+3w_3\n",
      "Mg_trt_Cupr_4w_4\n",
      "Mg_trt_Cupr_4+3w_2\n",
      "Mg_trt_Cupr_4w_1\n",
      "Mg_A_LPC_Saline_2\n",
      "Mg_A_LPC_Saline_1\n",
      "Mg_A_LPC_ctrl_2\n",
      "Mg_A_LPC_ctrl_1\n",
      "Mg_trt_LPC_7d_2\n",
      "Mg_trt_LPC_5d_4\n",
      "Mg_trt_LPC_7d_1\n",
      "Mg_trt_LPC_5d_1\n",
      "Mg_trt_LPC_5d_3\n",
      "Mg_trt_LPC_28d_3\n",
      "Mg_trt_LPC_28d_1\n",
      "Mg_trt_LPC_5d_2\n",
      "Mg_trt_LPC_28d_2\n",
      "BAMs_LPC_7d_2\n",
      "BAMs_LPC_5d_4\n",
      "BAMs_LPC_7d_1\n",
      "BAMs_LPC_5d_1\n",
      "BAMs_LPC_5d_3\n",
      "BAMs_LPC_5d_2\n"
     ]
    }
   ],
   "source": [
    "# Unique values in the 'condition' column\n",
    "unique_conditions = adata_sub.obs['cell_type_sample'].unique()\n",
    "for condition in unique_conditions:\n",
    "    print(condition)"
   ]
  },
  {
   "cell_type": "code",
   "execution_count": 50,
   "id": "ddff154c",
   "metadata": {},
   "outputs": [
    {
     "data": {
      "text/html": [
       "<div>\n",
       "<style scoped>\n",
       "    .dataframe tbody tr th:only-of-type {\n",
       "        vertical-align: middle;\n",
       "    }\n",
       "\n",
       "    .dataframe tbody tr th {\n",
       "        vertical-align: top;\n",
       "    }\n",
       "\n",
       "    .dataframe thead th {\n",
       "        text-align: right;\n",
       "    }\n",
       "</style>\n",
       "<table border=\"1\" class=\"dataframe\">\n",
       "  <thead>\n",
       "    <tr style=\"text-align: right;\">\n",
       "      <th>label</th>\n",
       "      <th>ctrl</th>\n",
       "      <th>stim</th>\n",
       "    </tr>\n",
       "    <tr>\n",
       "      <th>cell_type_sample</th>\n",
       "      <th></th>\n",
       "      <th></th>\n",
       "    </tr>\n",
       "  </thead>\n",
       "  <tbody>\n",
       "    <tr>\n",
       "      <th>BAMs_LPC_5d_1</th>\n",
       "      <td>0</td>\n",
       "      <td>1</td>\n",
       "    </tr>\n",
       "    <tr>\n",
       "      <th>BAMs_LPC_5d_2</th>\n",
       "      <td>0</td>\n",
       "      <td>1</td>\n",
       "    </tr>\n",
       "    <tr>\n",
       "      <th>BAMs_LPC_5d_3</th>\n",
       "      <td>0</td>\n",
       "      <td>1</td>\n",
       "    </tr>\n",
       "    <tr>\n",
       "      <th>BAMs_LPC_5d_4</th>\n",
       "      <td>0</td>\n",
       "      <td>1</td>\n",
       "    </tr>\n",
       "    <tr>\n",
       "      <th>BAMs_LPC_7d_1</th>\n",
       "      <td>0</td>\n",
       "      <td>1</td>\n",
       "    </tr>\n",
       "    <tr>\n",
       "      <th>BAMs_LPC_7d_2</th>\n",
       "      <td>0</td>\n",
       "      <td>1</td>\n",
       "    </tr>\n",
       "    <tr>\n",
       "      <th>Mg_A_Cupr_ctrl_Shen_1</th>\n",
       "      <td>1</td>\n",
       "      <td>0</td>\n",
       "    </tr>\n",
       "    <tr>\n",
       "      <th>Mg_A_Cupr_ctrl_Shen_2</th>\n",
       "      <td>1</td>\n",
       "      <td>0</td>\n",
       "    </tr>\n",
       "    <tr>\n",
       "      <th>Mg_A_Cupr_ctrl_Shen_3</th>\n",
       "      <td>1</td>\n",
       "      <td>0</td>\n",
       "    </tr>\n",
       "    <tr>\n",
       "      <th>Mg_A_LPC_Saline_1</th>\n",
       "      <td>1</td>\n",
       "      <td>0</td>\n",
       "    </tr>\n",
       "    <tr>\n",
       "      <th>Mg_A_LPC_Saline_2</th>\n",
       "      <td>1</td>\n",
       "      <td>0</td>\n",
       "    </tr>\n",
       "    <tr>\n",
       "      <th>Mg_A_LPC_ctrl_1</th>\n",
       "      <td>1</td>\n",
       "      <td>0</td>\n",
       "    </tr>\n",
       "    <tr>\n",
       "      <th>Mg_A_LPC_ctrl_2</th>\n",
       "      <td>1</td>\n",
       "      <td>0</td>\n",
       "    </tr>\n",
       "    <tr>\n",
       "      <th>Mg_trt_Cupr_4+3w_1</th>\n",
       "      <td>0</td>\n",
       "      <td>1</td>\n",
       "    </tr>\n",
       "    <tr>\n",
       "      <th>Mg_trt_Cupr_4+3w_2</th>\n",
       "      <td>0</td>\n",
       "      <td>1</td>\n",
       "    </tr>\n",
       "    <tr>\n",
       "      <th>Mg_trt_Cupr_4+3w_3</th>\n",
       "      <td>0</td>\n",
       "      <td>1</td>\n",
       "    </tr>\n",
       "    <tr>\n",
       "      <th>Mg_trt_Cupr_4w_1</th>\n",
       "      <td>0</td>\n",
       "      <td>1</td>\n",
       "    </tr>\n",
       "    <tr>\n",
       "      <th>Mg_trt_Cupr_4w_2</th>\n",
       "      <td>0</td>\n",
       "      <td>1</td>\n",
       "    </tr>\n",
       "    <tr>\n",
       "      <th>Mg_trt_Cupr_4w_3</th>\n",
       "      <td>0</td>\n",
       "      <td>1</td>\n",
       "    </tr>\n",
       "    <tr>\n",
       "      <th>Mg_trt_Cupr_4w_4</th>\n",
       "      <td>0</td>\n",
       "      <td>1</td>\n",
       "    </tr>\n",
       "    <tr>\n",
       "      <th>Mg_trt_Cupr_5w_1</th>\n",
       "      <td>0</td>\n",
       "      <td>1</td>\n",
       "    </tr>\n",
       "    <tr>\n",
       "      <th>Mg_trt_Cupr_5w_2</th>\n",
       "      <td>0</td>\n",
       "      <td>1</td>\n",
       "    </tr>\n",
       "    <tr>\n",
       "      <th>Mg_trt_LPC_28d_1</th>\n",
       "      <td>0</td>\n",
       "      <td>1</td>\n",
       "    </tr>\n",
       "    <tr>\n",
       "      <th>Mg_trt_LPC_28d_2</th>\n",
       "      <td>0</td>\n",
       "      <td>1</td>\n",
       "    </tr>\n",
       "    <tr>\n",
       "      <th>Mg_trt_LPC_28d_3</th>\n",
       "      <td>0</td>\n",
       "      <td>1</td>\n",
       "    </tr>\n",
       "    <tr>\n",
       "      <th>Mg_trt_LPC_5d_1</th>\n",
       "      <td>0</td>\n",
       "      <td>1</td>\n",
       "    </tr>\n",
       "    <tr>\n",
       "      <th>Mg_trt_LPC_5d_2</th>\n",
       "      <td>0</td>\n",
       "      <td>1</td>\n",
       "    </tr>\n",
       "    <tr>\n",
       "      <th>Mg_trt_LPC_5d_3</th>\n",
       "      <td>0</td>\n",
       "      <td>1</td>\n",
       "    </tr>\n",
       "    <tr>\n",
       "      <th>Mg_trt_LPC_5d_4</th>\n",
       "      <td>0</td>\n",
       "      <td>1</td>\n",
       "    </tr>\n",
       "    <tr>\n",
       "      <th>Mg_trt_LPC_7d_1</th>\n",
       "      <td>0</td>\n",
       "      <td>1</td>\n",
       "    </tr>\n",
       "    <tr>\n",
       "      <th>Mg_trt_LPC_7d_2</th>\n",
       "      <td>0</td>\n",
       "      <td>1</td>\n",
       "    </tr>\n",
       "  </tbody>\n",
       "</table>\n",
       "</div>"
      ],
      "text/plain": [
       "label                  ctrl  stim\n",
       "cell_type_sample                 \n",
       "BAMs_LPC_5d_1             0     1\n",
       "BAMs_LPC_5d_2             0     1\n",
       "BAMs_LPC_5d_3             0     1\n",
       "BAMs_LPC_5d_4             0     1\n",
       "BAMs_LPC_7d_1             0     1\n",
       "BAMs_LPC_7d_2             0     1\n",
       "Mg_A_Cupr_ctrl_Shen_1     1     0\n",
       "Mg_A_Cupr_ctrl_Shen_2     1     0\n",
       "Mg_A_Cupr_ctrl_Shen_3     1     0\n",
       "Mg_A_LPC_Saline_1         1     0\n",
       "Mg_A_LPC_Saline_2         1     0\n",
       "Mg_A_LPC_ctrl_1           1     0\n",
       "Mg_A_LPC_ctrl_2           1     0\n",
       "Mg_trt_Cupr_4+3w_1        0     1\n",
       "Mg_trt_Cupr_4+3w_2        0     1\n",
       "Mg_trt_Cupr_4+3w_3        0     1\n",
       "Mg_trt_Cupr_4w_1          0     1\n",
       "Mg_trt_Cupr_4w_2          0     1\n",
       "Mg_trt_Cupr_4w_3          0     1\n",
       "Mg_trt_Cupr_4w_4          0     1\n",
       "Mg_trt_Cupr_5w_1          0     1\n",
       "Mg_trt_Cupr_5w_2          0     1\n",
       "Mg_trt_LPC_28d_1          0     1\n",
       "Mg_trt_LPC_28d_2          0     1\n",
       "Mg_trt_LPC_28d_3          0     1\n",
       "Mg_trt_LPC_5d_1           0     1\n",
       "Mg_trt_LPC_5d_2           0     1\n",
       "Mg_trt_LPC_5d_3           0     1\n",
       "Mg_trt_LPC_5d_4           0     1\n",
       "Mg_trt_LPC_7d_1           0     1\n",
       "Mg_trt_LPC_7d_2           0     1"
      ]
     },
     "execution_count": 50,
     "metadata": {},
     "output_type": "execute_result"
    }
   ],
   "source": [
    "# Extract the data as a pandas DataFrame\n",
    "df = adata_sub.obs[['cell_type_sample', 'label']]\n",
    "\n",
    "# Create a summary table\n",
    "summary_table = df.groupby(['cell_type_sample', 'label']).size().unstack(fill_value=0)\n",
    "summary_table"
   ]
  },
  {
   "cell_type": "code",
   "execution_count": 51,
   "id": "19723052",
   "metadata": {},
   "outputs": [],
   "source": [
    "# Check if the 'sample_rep' column exists\n",
    "if 'cell_type_sample' in adata_sub.obs.columns:\n",
    "    # Set the 'sample_rep' column as the index\n",
    "    adata_sub.obs.set_index('cell_type_sample', inplace=True)\n",
    "else:\n",
    "    print(\"The column 'sample_rep' does not exist in adata_sub.obs.\")\n",
    "\n",
    "adata_sub.obs.index.name = None"
   ]
  },
  {
   "cell_type": "code",
   "execution_count": 52,
   "id": "4a9e5dc1",
   "metadata": {},
   "outputs": [
    {
     "name": "stdout",
     "output_type": "stream",
     "text": [
      "The column 'sample_rep' does not exist in adata_sub.obs.\n"
     ]
    }
   ],
   "source": [
    "# Check if the 'sample_rep' column exists\n",
    "if 'cell_type_sample' in adata_sub.obs.columns:\n",
    "    # Set the 'sample_rep' column as the index\n",
    "    adata_sub.obs.set_index('cell_type_sample', inplace=True)\n",
    "else:\n",
    "    print(\"The column 'sample_rep' does not exist in adata_sub.obs.\")\n",
    "\n",
    "adata_sub.obs.index.name = None"
   ]
  },
  {
   "cell_type": "code",
   "execution_count": 53,
   "id": "aa0c23bf",
   "metadata": {},
   "outputs": [
    {
     "name": "stdout",
     "output_type": "stream",
     "text": [
      "Shen et al. 2021\n",
      "(this study)\n",
      "Pandey et al. 2022\n"
     ]
    }
   ],
   "source": [
    "# Unique values in the 'condition' column\n",
    "unique_conditions = adata_sub.obs['publication'].unique()\n",
    "for condition in unique_conditions:\n",
    "    print(condition)"
   ]
  },
  {
   "cell_type": "code",
   "execution_count": 54,
   "id": "70d52c80",
   "metadata": {},
   "outputs": [],
   "source": [
    "#cell_type = {str(i): '' for i in range(18)}\n",
    "pub = {\n",
    "    'Shen et al. 2021': 'Shen',  \n",
    "    '(this study)': 'Adams',    \n",
    "    'Pandey et al. 2022': 'Pandey'\n",
    "}\n",
    "\n",
    "adata_sub.obs['batch'] = adata_sub.obs['publication'].map(pub).astype('category')"
   ]
  },
  {
   "cell_type": "markdown",
   "id": "f3f75d5b",
   "metadata": {},
   "source": [
    "## Switch to R code"
   ]
  },
  {
   "cell_type": "code",
   "execution_count": 56,
   "id": "c2a0dabc",
   "metadata": {},
   "outputs": [
    {
     "name": "stdout",
     "output_type": "stream",
     "text": [
      "[1] \"Dimensions before subsetting:\"\n",
      "[1] 16000    31\n",
      "\n",
      "ctrl stim \n",
      "   7   24 \n"
     ]
    }
   ],
   "source": [
    "%%R -i adata_sub\n",
    "\n",
    "#Create a DGElist object using the anndata counts in 'X'\n",
    "x <- DGEList(assay(adata_sub, \"X\"), group=colData(adata_sub)$label)\n",
    "\n",
    "samplenames <- colnames(x$counts)\n",
    "\n",
    "print(\"Dimensions before subsetting:\")\n",
    "print(dim(x))\n",
    "\n",
    "# Check counts per group before filtering\n",
    "print(table(x$samples$group))"
   ]
  },
  {
   "cell_type": "code",
   "execution_count": 57,
   "id": "0a92c096",
   "metadata": {},
   "outputs": [
    {
     "name": "stdout",
     "output_type": "stream",
     "text": [
      "                      Group Reps  Batch\n",
      "Mg_A_Cupr_ctrl_Shen_2  ctrl    3   Shen\n",
      "Mg_A_Cupr_ctrl_Shen_1  ctrl    4   Shen\n",
      "Mg_A_Cupr_ctrl_Shen_3  ctrl    5   Shen\n",
      "Mg_trt_Cupr_5w_1       stim    1  Adams\n",
      "Mg_trt_Cupr_5w_2       stim    2  Adams\n",
      "Mg_trt_Cupr_4+3w_1     stim    3   Shen\n",
      "Mg_trt_Cupr_4w_3       stim    4   Shen\n",
      "Mg_trt_Cupr_4w_2       stim    5   Shen\n",
      "Mg_trt_Cupr_4+3w_3     stim    6   Shen\n",
      "Mg_trt_Cupr_4w_4       stim    7   Shen\n",
      "Mg_trt_Cupr_4+3w_2     stim    8   Shen\n",
      "Mg_trt_Cupr_4w_1       stim    9   Shen\n",
      "Mg_A_LPC_Saline_2      ctrl    1  Adams\n",
      "Mg_A_LPC_Saline_1      ctrl    2  Adams\n",
      "Mg_A_LPC_ctrl_2        ctrl    4 Pandey\n",
      "Mg_A_LPC_ctrl_1        ctrl    5 Pandey\n",
      "Mg_trt_LPC_7d_2        stim    1  Adams\n",
      "Mg_trt_LPC_5d_4        stim   11 Pandey\n",
      "Mg_trt_LPC_7d_1        stim    2  Adams\n",
      "Mg_trt_LPC_5d_1        stim    3 Pandey\n",
      "Mg_trt_LPC_5d_3        stim    4 Pandey\n",
      "Mg_trt_LPC_28d_3       stim    5 Pandey\n",
      "Mg_trt_LPC_28d_1       stim    6 Pandey\n",
      "Mg_trt_LPC_5d_2        stim    7 Pandey\n",
      "Mg_trt_LPC_28d_2       stim    8 Pandey\n",
      "BAMs_LPC_7d_2          stim    1  Adams\n",
      "BAMs_LPC_5d_4          stim   11 Pandey\n",
      "BAMs_LPC_7d_1          stim    2  Adams\n",
      "BAMs_LPC_5d_1          stim    3 Pandey\n",
      "BAMs_LPC_5d_3          stim    4 Pandey\n",
      "BAMs_LPC_5d_2          stim    7 Pandey\n"
     ]
    }
   ],
   "source": [
    "%%R -i adata_sub\n",
    "\n",
    "# Concatenate label and cell type for group factor\n",
    "group <- colData(adata_sub)$label #ctrl or stim\n",
    "replicate <- colData(adata_sub)$replicate #replicate number\n",
    "batch <- colData(adata_sub)$batch\n",
    "\n",
    "treatments <- data.frame(\"Group\"=group, \"Reps\"=replicate, \"Batch\"= batch)\n",
    "print(treatments)"
   ]
  },
  {
   "cell_type": "code",
   "execution_count": 58,
   "id": "c1215779",
   "metadata": {},
   "outputs": [
    {
     "name": "stdout",
     "output_type": "stream",
     "text": [
      "[1] 11264    31\n"
     ]
    }
   ],
   "source": [
    "%%R\n",
    "\n",
    "# More strict removal of genes, tried group, pub and batch\n",
    "keep.exprs <- filterByExpr(x, group=batch)\n",
    "x2 <- x[keep.exprs,, keep.lib.sizes=FALSE]\n",
    "dim(x2)"
   ]
  },
  {
   "cell_type": "code",
   "execution_count": 59,
   "id": "eb33bad8",
   "metadata": {},
   "outputs": [
    {
     "name": "stdout",
     "output_type": "stream",
     "text": [
      " [1] 1.0714310 1.0821795 0.9728855 1.9591839 1.6723693 0.4569876 0.7695228\n",
      " [8] 0.8033079 0.7828734 0.8071673 0.6996454 0.7465061 2.1555429 1.9065878\n",
      "[15] 1.1082583 1.0035875 1.7966419 0.8744650 1.7687965 0.8894525 0.8445375\n",
      "[22] 0.7548439 0.7906835 0.8048367 0.7700003 1.8953444 0.7286195 1.7438949\n",
      "[29] 0.7941741 0.6075645 0.7075937\n"
     ]
    }
   ],
   "source": [
    "%%R\n",
    "\n",
    "x2 <- calcNormFactors(x2, method = \"TMM\")\n",
    "x2$samples$norm.factors"
   ]
  },
  {
   "cell_type": "code",
   "execution_count": 60,
   "id": "4f832e49",
   "metadata": {},
   "outputs": [],
   "source": [
    "%%R\n",
    "lcpm <- edgeR::cpm(x2, log=TRUE, prior.count=3)"
   ]
  },
  {
   "cell_type": "code",
   "execution_count": 61,
   "id": "97a47d0d",
   "metadata": {},
   "outputs": [],
   "source": [
    "%%R\n",
    "#Batch is set to the publication of origin to remove effects between sample origins\n",
    "logCPM <- removeBatchEffect(lcpm, batch=batch)"
   ]
  },
  {
   "cell_type": "code",
   "execution_count": 62,
   "id": "c63b1650",
   "metadata": {},
   "outputs": [
    {
     "data": {
      "image/png": "[encoded data removed]",
      "text/plain": [
       "<IPython.core.display.Image object>"
      ]
     },
     "metadata": {},
     "output_type": "display_data"
    }
   ],
   "source": [
    "%%R\n",
    "heatmap(lcpm)"
   ]
  },
  {
   "cell_type": "code",
   "execution_count": 63,
   "id": "7cec5498",
   "metadata": {},
   "outputs": [
    {
     "data": {
      "image/png": "[encoded data removed]",
      "text/plain": [
       "<IPython.core.display.Image object>"
      ]
     },
     "metadata": {},
     "output_type": "display_data"
    }
   ],
   "source": [
    "%%R\n",
    "heatmap(logCPM)"
   ]
  },
  {
   "cell_type": "markdown",
   "id": "97c41f97",
   "metadata": {},
   "source": [
    "## Generate heatmap"
   ]
  },
  {
   "cell_type": "code",
   "execution_count": 64,
   "id": "de604c17",
   "metadata": {},
   "outputs": [
    {
     "name": "stdout",
     "output_type": "stream",
     "text": [
      "     gene category\n",
      "1   Apoc2   Up_all\n",
      "2 Cd200r4   Up_all\n",
      "3     Cpd   Up_all\n",
      "4  Fam20c   Up_all\n",
      "5   Lmnb1   Up_all\n",
      "6 Cd300lf   Up_all\n"
     ]
    },
    {
     "data": {
      "text/plain": [
       "data.table 1.16.4 using 8 threads (see ?getDTthreads).  Latest news: r-datatable.com\n",
       "\n",
       "Attaching package: ‘data.table’\n",
       "\n",
       "The following object is masked from ‘package:SummarizedExperiment’:\n",
       "\n",
       "    shift\n",
       "\n",
       "The following object is masked from ‘package:GenomicRanges’:\n",
       "\n",
       "    shift\n",
       "\n",
       "The following object is masked from ‘package:IRanges’:\n",
       "\n",
       "    shift\n",
       "\n",
       "The following objects are masked from ‘package:S4Vectors’:\n",
       "\n",
       "    first, second\n",
       "\n"
      ]
     },
     "metadata": {},
     "output_type": "display_data"
    }
   ],
   "source": [
    "%%R\n",
    "library(data.table)\n",
    "\n",
    "# Load the CSV file generated by Python\n",
    "gene_metadata <- read.csv(\"genes_for_heatmap_with_labels.csv\")\n",
    "\n",
    "head(gene_metadata)"
   ]
  },
  {
   "cell_type": "code",
   "execution_count": 67,
   "id": "3afb1ce6",
   "metadata": {},
   "outputs": [
    {
     "name": "stdout",
     "output_type": "stream",
     "text": [
      "[1] 1700    2\n"
     ]
    }
   ],
   "source": [
    "%%R\n",
    "dim(gene_metadata)"
   ]
  },
  {
   "cell_type": "code",
   "execution_count": 68,
   "id": "14c43a4b",
   "metadata": {},
   "outputs": [
    {
     "name": "stdout",
     "output_type": "stream",
     "text": [
      "[1] 1700   31\n"
     ]
    }
   ],
   "source": [
    "%%R\n",
    "\n",
    "# Subset lcpm to only the selected genes\n",
    "lcpm_subset <- logCPM[rownames(logCPM) %in% gene_metadata$gene, ]\n",
    "\n",
    "# Check the dimensions to confirm\n",
    "dim(lcpm_subset)"
   ]
  },
  {
   "cell_type": "code",
   "execution_count": 69,
   "id": "bed74ca1",
   "metadata": {
    "scrolled": true
   },
   "outputs": [
    {
     "name": "stdout",
     "output_type": "stream",
     "text": [
      "              Mg_A_Cupr_ctrl_Shen_2 Mg_A_Cupr_ctrl_Shen_1 Mg_A_Cupr_ctrl_Shen_3\n",
      "0610012G03Rik              2.062673              4.641263              5.015168\n",
      "0610040J01Rik              7.426454              7.678657              7.491833\n",
      "1110051M20Rik              2.950239              6.052628              5.623496\n",
      "1300002E11Rik              1.768928              3.357438              3.576739\n",
      "1600020E01Rik              3.055975              5.186388              5.117389\n",
      "1600022D10Rik              3.880526              4.029590              4.148975\n",
      "              Mg_trt_Cupr_5w_1 Mg_trt_Cupr_5w_2 Mg_trt_Cupr_4+3w_1\n",
      "0610012G03Rik         5.716902        0.5986823           6.716434\n",
      "0610040J01Rik         6.620934        6.6538190           5.267868\n",
      "1110051M20Rik         4.439476        4.2899986           1.405879\n",
      "1300002E11Rik         2.894311        1.8386930          -1.804577\n",
      "1600020E01Rik         5.217484        4.9172011           4.105831\n",
      "1600022D10Rik         1.564895        1.3813080           3.301621\n",
      "              Mg_trt_Cupr_4w_3 Mg_trt_Cupr_4w_2 Mg_trt_Cupr_4+3w_3\n",
      "0610012G03Rik         6.671182         6.602860           6.350477\n",
      "0610040J01Rik         6.307488         5.891924           5.975449\n",
      "1110051M20Rik         3.512651         4.857385           4.119300\n",
      "1300002E11Rik         2.793128         2.497709           1.091229\n",
      "1600020E01Rik         5.264897         4.254633           5.491678\n",
      "1600022D10Rik         2.020927         2.178815          -1.194802\n",
      "              Mg_trt_Cupr_4w_4 Mg_trt_Cupr_4+3w_2 Mg_trt_Cupr_4w_1\n",
      "0610012G03Rik         6.208958           5.920301         6.735593\n",
      "0610040J01Rik         5.862377           5.842030         5.787899\n",
      "1110051M20Rik         5.162619           5.116032         4.853082\n",
      "1300002E11Rik         3.007221           2.999227         2.470731\n",
      "1600020E01Rik         5.074450           4.466409         4.433076\n",
      "1600022D10Rik         2.285126           2.323717         1.949730\n",
      "              Mg_A_LPC_Saline_2 Mg_A_LPC_Saline_1 Mg_A_LPC_ctrl_2\n",
      "0610012G03Rik          6.459369          6.781754        3.832166\n",
      "0610040J01Rik          6.738467          7.370254        8.346794\n",
      "1110051M20Rik          3.470877          4.248801        5.269409\n",
      "1300002E11Rik          2.915082          3.412590        2.644277\n",
      "1600020E01Rik          3.800276          4.902355        5.360839\n",
      "1600022D10Rik          3.495819          4.429771        3.363918\n",
      "              Mg_A_LPC_ctrl_1 Mg_trt_LPC_7d_2 Mg_trt_LPC_5d_4 Mg_trt_LPC_7d_1\n",
      "0610012G03Rik        4.066750        6.101958        6.172535        6.572173\n",
      "0610040J01Rik        7.836926        6.273828        6.447509        6.509425\n",
      "1110051M20Rik        5.480840        4.656035        4.300657        4.651981\n",
      "1300002E11Rik        3.480709        2.696858        1.781597        1.429303\n",
      "1600020E01Rik        5.261698        4.533641        4.292729        4.347722\n",
      "1600022D10Rik        5.157665        2.408271        1.989534        2.732258\n",
      "              Mg_trt_LPC_5d_1 Mg_trt_LPC_5d_3 Mg_trt_LPC_28d_3 Mg_trt_LPC_28d_1\n",
      "0610012G03Rik        5.959684        6.180601         5.253388         5.610576\n",
      "0610040J01Rik        6.177095        6.623708         6.429236         6.883034\n",
      "1110051M20Rik        4.806335        3.784604         4.340240         2.976225\n",
      "1300002E11Rik        1.769454        1.847184         2.927305         1.909406\n",
      "1600020E01Rik        4.639217        4.063173         5.117207         5.802925\n",
      "1600022D10Rik        3.559862        2.181317         3.189790         2.521917\n",
      "              Mg_trt_LPC_5d_2 Mg_trt_LPC_28d_2 BAMs_LPC_7d_2 BAMs_LPC_5d_4\n",
      "0610012G03Rik        6.772256         4.999828      6.507026     6.1320568\n",
      "0610040J01Rik        6.312519         7.093309      5.635376     5.0958634\n",
      "1110051M20Rik        4.701106         4.966929      4.554942     4.3602089\n",
      "1300002E11Rik        2.355300         2.531207     -0.719717     2.3420070\n",
      "1600020E01Rik        4.410020         5.181294      4.983196     4.2318493\n",
      "1600022D10Rik        2.046240         3.030027      1.771000     0.7596671\n",
      "              BAMs_LPC_7d_1 BAMs_LPC_5d_1 BAMs_LPC_5d_3 BAMs_LPC_5d_2\n",
      "0610012G03Rik      6.802064      5.909582     6.3028661      6.810094\n",
      "0610040J01Rik      5.023481      5.040918     5.3594841      4.945177\n",
      "1110051M20Rik      4.610538      4.678453     2.4909026      4.593394\n",
      "1300002E11Rik      2.939098      1.599490     0.6853815      2.411787\n",
      "1600020E01Rik      4.458707      3.687605     3.8795697      4.457820\n",
      "1600022D10Rik      2.156058      1.905655     1.8324059      0.863495\n"
     ]
    }
   ],
   "source": [
    "%%R\n",
    "head(lcpm_subset)"
   ]
  },
  {
   "cell_type": "code",
   "execution_count": 70,
   "id": "6b62d1fb",
   "metadata": {},
   "outputs": [
    {
     "data": {
      "image/png": "[encoded data removed]",
      "text/plain": [
       "<IPython.core.display.Image object>"
      ]
     },
     "metadata": {},
     "output_type": "display_data"
    }
   ],
   "source": [
    "%%R\n",
    "coolmap(lcpm_subset, margins=c(7,7), lhei=c(1,6), lwid=c(1,3))"
   ]
  },
  {
   "cell_type": "code",
   "execution_count": 71,
   "id": "377be237",
   "metadata": {},
   "outputs": [
    {
     "name": "stdout",
     "output_type": "stream",
     "text": [
      "Min value: -3.907743 \n",
      "Max value: 17.75923 \n"
     ]
    }
   ],
   "source": [
    "%%R\n",
    "\n",
    "# Find minimum and maximum values of lcpm_subset\n",
    "min_value <- min(lcpm_subset)\n",
    "max_value <- max(lcpm_subset)\n",
    "\n",
    "# Print results\n",
    "cat(\"Min value:\", min_value, \"\\n\")\n",
    "cat(\"Max value:\", max_value, \"\\n\")"
   ]
  },
  {
   "cell_type": "code",
   "execution_count": 72,
   "id": "275145fa",
   "metadata": {},
   "outputs": [
    {
     "name": "stdout",
     "output_type": "stream",
     "text": [
      " [1] \"Mg_A_Cupr_ctrl_Shen_2\" \"Mg_A_Cupr_ctrl_Shen_1\" \"Mg_A_Cupr_ctrl_Shen_3\"\n",
      " [4] \"Mg_trt_Cupr_5w_1\"      \"Mg_trt_Cupr_5w_2\"      \"Mg_trt_Cupr_4+3w_1\"   \n",
      " [7] \"Mg_trt_Cupr_4w_3\"      \"Mg_trt_Cupr_4w_2\"      \"Mg_trt_Cupr_4+3w_3\"   \n",
      "[10] \"Mg_trt_Cupr_4w_4\"      \"Mg_trt_Cupr_4+3w_2\"    \"Mg_trt_Cupr_4w_1\"     \n",
      "[13] \"Mg_A_LPC_Saline_2\"     \"Mg_A_LPC_Saline_1\"     \"Mg_A_LPC_ctrl_2\"      \n",
      "[16] \"Mg_A_LPC_ctrl_1\"       \"Mg_trt_LPC_7d_2\"       \"Mg_trt_LPC_5d_4\"      \n",
      "[19] \"Mg_trt_LPC_7d_1\"       \"Mg_trt_LPC_5d_1\"       \"Mg_trt_LPC_5d_3\"      \n",
      "[22] \"Mg_trt_LPC_28d_3\"      \"Mg_trt_LPC_28d_1\"      \"Mg_trt_LPC_5d_2\"      \n",
      "[25] \"Mg_trt_LPC_28d_2\"      \"BAMs_LPC_7d_2\"         \"BAMs_LPC_5d_4\"        \n",
      "[28] \"BAMs_LPC_7d_1\"         \"BAMs_LPC_5d_1\"         \"BAMs_LPC_5d_3\"        \n",
      "[31] \"BAMs_LPC_5d_2\"        \n"
     ]
    }
   ],
   "source": [
    "%%R\n",
    "\n",
    "# Extract column names (sample names)\n",
    "sample_names <- colnames(lcpm_subset)\n",
    "sample_names"
   ]
  },
  {
   "cell_type": "code",
   "execution_count": 73,
   "id": "049ecd80",
   "metadata": {},
   "outputs": [
    {
     "name": "stdout",
     "output_type": "stream",
     "text": [
      "              sample Cell_type Treatment Condition replicate treatment\n",
      "13 Mg_A_LPC_Saline_2      Mg_A       LPC  baseline         2       LPC\n",
      "14 Mg_A_LPC_Saline_1      Mg_A       LPC  baseline         1       LPC\n",
      "15   Mg_A_LPC_ctrl_2      Mg_A       LPC  baseline         2       LPC\n",
      "16   Mg_A_LPC_ctrl_1      Mg_A       LPC  baseline         1       LPC\n",
      "26     BAMs_LPC_7d_2      BAMs       LPC    demyel         2       LPC\n",
      "27     BAMs_LPC_5d_4      BAMs       LPC    demyel         4       LPC\n",
      "   condition cell_type      order_column\n",
      "13  baseline      Mg_A LPC_Mg_A_baseline\n",
      "14  baseline      Mg_A LPC_Mg_A_baseline\n",
      "15  baseline      Mg_A LPC_Mg_A_baseline\n",
      "16  baseline      Mg_A LPC_Mg_A_baseline\n",
      "26    demyel      BAMs   LPC_BAMs_demyel\n",
      "27    demyel      BAMs   LPC_BAMs_demyel\n"
     ]
    }
   ],
   "source": [
    "%%R\n",
    "\n",
    "# Create a data frame with sample names\n",
    "metadata <- data.frame(sample = c(\n",
    "    \"Mg_A_Cupr_ctrl_Shen_2\", \"Mg_A_Cupr_ctrl_Shen_1\", \"Mg_A_Cupr_ctrl_Shen_3\",\n",
    "    \"Mg_trt_Cupr_5w_1\", \"Mg_trt_Cupr_5w_2\", \"Mg_trt_Cupr_4+3w_1\",\n",
    "    \"Mg_trt_Cupr_4w_3\", \"Mg_trt_Cupr_4w_2\", \"Mg_trt_Cupr_4+3w_3\",\n",
    "    \"Mg_trt_Cupr_4w_4\", \"Mg_trt_Cupr_4+3w_2\", \"Mg_trt_Cupr_4w_1\",\n",
    "    \"Mg_A_LPC_Saline_2\", \"Mg_A_LPC_Saline_1\", \"Mg_A_LPC_ctrl_2\",\n",
    "    \"Mg_A_LPC_ctrl_1\", \"Mg_trt_LPC_7d_2\", \"Mg_trt_LPC_5d_4\",\n",
    "    \"Mg_trt_LPC_7d_1\", \"Mg_trt_LPC_5d_1\", \"Mg_trt_LPC_5d_3\",\n",
    "    \"Mg_trt_LPC_28d_3\", \"Mg_trt_LPC_28d_1\", \"Mg_trt_LPC_5d_2\",\n",
    "    \"Mg_trt_LPC_28d_2\", \"BAMs_LPC_7d_2\", \"BAMs_LPC_5d_4\",\n",
    "    \"BAMs_LPC_7d_1\", \"BAMs_LPC_5d_1\", \"BAMs_LPC_5d_3\",\n",
    "    \"BAMs_LPC_5d_2\"\n",
    "))\n",
    "\n",
    "# Extract cell type\n",
    "metadata$Cell_type <- ifelse(grepl(\"Mg_A\", metadata$sample), \"Mg_A\",\n",
    "                      ifelse(grepl(\"BAMs\", metadata$sample), \"BAMs\", \"DAMs\"))\n",
    "\n",
    "# Extract treatment\n",
    "metadata$Treatment <- ifelse(grepl(\"Cupr\", metadata$sample), \"Cuprizone\", \"LPC\")\n",
    "\n",
    "# Extract condition (Baseline, Demyelination, or Remyelination)\n",
    "metadata$Condition <- ifelse(grepl(\"ctrl|Saline\", metadata$sample), \"baseline\",\n",
    "                      ifelse(grepl(\"5d|7d|4w|5w\", metadata$sample), \"demyel\",\n",
    "                      ifelse(grepl(\"28d|4\\\\+3w\", metadata$sample), \"remyel\", NA)))\n",
    "\n",
    "# Extract replicate number (last digit in sample name)\n",
    "metadata$replicate <- as.numeric(sub(\".*_(\\\\d+)$\", \"\\\\1\", metadata$sample))\n",
    "\n",
    "# Check output\n",
    "# Define factor levels for sorting\n",
    "metadata$treatment <- factor(metadata$Treatment, levels = c(\"LPC\", \"Cuprizone\"))\n",
    "metadata$condition <- factor(metadata$Condition, levels = c(\"baseline\", \"demyel\", \"remyel\"))\n",
    "metadata$cell_type <- factor(metadata$Cell_type, levels = c(\"BAMs\", \"DAMs\", \"Mg_A\"))\n",
    "\n",
    "# Define a custom order for treatment\n",
    "ordered_treatment <- c(\"LPC\", \"Cuprizone\")\n",
    "\n",
    "# Define a custom order for cell types within each treatment\n",
    "# For LPC: Mg_A → BAMs → DAMs\n",
    "# For Cuprizone: Mg_A → DAMs\n",
    "ordered_cell_types <- c(\"Mg_A\", \"BAMs\", \"DAMs\")\n",
    "\n",
    "# Define a custom order for conditions\n",
    "ordered_conditions <- c(\"baseline\", \"demyel\", \"remyel\")\n",
    "\n",
    "# Step 2: Create a new column that combines treatment, cell type, and condition\n",
    "metadata$order_column <- paste(metadata$Treatment, metadata$Cell_type, metadata$Condition, sep = \"_\")\n",
    "\n",
    "# Step 3: Define the exact desired order manually\n",
    "custom_order <- c(\n",
    "    \"LPC_Mg_A_baseline\", \"LPC_BAMs_demyel\", \"LPC_Mg_A_demyel\", \"LPC_Mg_A_remyel\",\n",
    "    \"LPC_DAMs_baseline\", \"LPC_DAMs_demyel\", \"LPC_DAMs_remyel\",\n",
    "    \"Cuprizone_Mg_A_baseline\", \"Cuprizone_DAMs_demyel\", \"Cuprizone_DAMs_remyel\"\n",
    ")\n",
    "\n",
    "# Step 4: Convert order_column to a factor with the predefined levels\n",
    "metadata$order_column <- factor(metadata$order_column, levels = custom_order)\n",
    "\n",
    "# Step 5: Reorder metadata based on this new column\n",
    "ordered_cols <- metadata[order(metadata$order_column), ]\n",
    "head(ordered_cols)"
   ]
  },
  {
   "cell_type": "code",
   "execution_count": 74,
   "id": "139af535",
   "metadata": {},
   "outputs": [
    {
     "name": "stdout",
     "output_type": "stream",
     "text": [
      "Min value: -5.019806 \n",
      "Max value: 4.303974 \n"
     ]
    }
   ],
   "source": [
    "%%R\n",
    "mat_scaled = t(apply(lcpm_subset, 1, scale))\n",
    "\n",
    "# Find minimum and maximum values of lcpm_subset\n",
    "min_value <- min(mat_scaled)\n",
    "max_value <- max(mat_scaled)\n",
    "\n",
    "# Print results\n",
    "cat(\"Min value:\", min_value, \"\\n\")\n",
    "cat(\"Max value:\", max_value, \"\\n\")"
   ]
  },
  {
   "cell_type": "code",
   "execution_count": 75,
   "id": "fe061366",
   "metadata": {},
   "outputs": [
    {
     "name": "stdout",
     "output_type": "stream",
     "text": [
      "              Mg_A_Cupr_ctrl_Shen_2 Mg_A_Cupr_ctrl_Shen_1 Mg_A_Cupr_ctrl_Shen_3\n",
      "0610012G03Rik            -2.5597795            -0.7413353            -0.4776538\n",
      "0610040J01Rik             1.2095678             1.4938029             1.2832504\n",
      "1110051M20Rik            -1.4804048             1.7651741             1.3162347\n",
      "1300002E11Rik            -0.3490055             1.0136576             1.2017797\n",
      "1600020E01Rik            -2.5951701             0.8840268             0.7713448\n",
      "1600022D10Rik             1.1175107             1.2375162             1.3336286\n",
      "              Mg_trt_Cupr_5w_1 Mg_trt_Cupr_5w_2 Mg_trt_Cupr_4+3w_1\n",
      "0610012G03Rik       0.01721498      -3.59219865          0.7220938\n",
      "0610040J01Rik       0.30174057       0.33880222         -1.2231748\n",
      "1110051M20Rik       0.07756742      -0.07880939         -3.0960452\n",
      "1300002E11Rik       0.61637610      -0.28915919         -3.4144463\n",
      "1600020E01Rik       0.93480996       0.44441533         -0.8806402\n",
      "1600022D10Rik      -0.74671778      -0.89451691          0.6514554\n",
      "              Mg_trt_Cupr_4w_3 Mg_trt_Cupr_4w_2 Mg_trt_Cupr_4+3w_3\n",
      "0610012G03Rik       0.69018159        0.6420000          0.4640174\n",
      "0610040J01Rik      -0.05151562       -0.5198597         -0.4257258\n",
      "1110051M20Rik      -0.89203490        0.5147649         -0.2573865\n",
      "1300002E11Rik       0.52957870        0.2761612         -0.9303528\n",
      "1600020E01Rik       1.01224154       -0.6376316          1.3825994\n",
      "1600022D10Rik      -0.37958318       -0.2524738         -2.9684467\n",
      "              Mg_trt_Cupr_4w_4 Mg_trt_Cupr_4+3w_2 Mg_trt_Cupr_4w_1\n",
      "0610012G03Rik        0.3642174          0.1606538        0.7356047\n",
      "0610040J01Rik       -0.5531590         -0.5760899       -0.6370962\n",
      "1110051M20Rik        0.8340861          0.7853489        0.5102628\n",
      "1300002E11Rik        0.7132336          0.7063756        0.2530184\n",
      "1600020E01Rik        0.7012199         -0.2917767       -0.3462138\n",
      "1600022D10Rik       -0.1668869         -0.1358184       -0.4369019\n",
      "              Mg_A_LPC_Saline_2 Mg_A_LPC_Saline_1 Mg_A_LPC_ctrl_2\n",
      "0610012G03Rik         0.5408089         0.7681578      -1.3119173\n",
      "0610040J01Rik         0.4342015         1.1462301       2.2467977\n",
      "1110051M20Rik        -0.9357370        -0.1219085       0.9458058\n",
      "1300002E11Rik         0.6341942         1.0609685       0.4018906\n",
      "1600020E01Rik        -1.3796450         0.4201707       1.1689253\n",
      "1600022D10Rik         0.8077971         1.5596874       0.7016084\n",
      "              Mg_A_LPC_ctrl_1 Mg_trt_LPC_7d_2 Mg_trt_LPC_5d_4 Mg_trt_LPC_7d_1\n",
      "0610012G03Rik       -1.146487      0.28875961      0.33853095       0.6203592\n",
      "0610040J01Rik        1.672173     -0.08945114      0.10628910       0.1760691\n",
      "1110051M20Rik        1.166995      0.30412172     -0.06765954       0.2998797\n",
      "1300002E11Rik        1.119403      0.44699643     -0.33813742      -0.6403444\n",
      "1600020E01Rik        1.007017     -0.18198040     -0.57541581      -0.4856060\n",
      "1600022D10Rik        2.145687     -0.06774754     -0.40485646       0.1930828\n",
      "              Mg_trt_LPC_5d_1 Mg_trt_LPC_5d_3 Mg_trt_LPC_28d_3 Mg_trt_LPC_28d_1\n",
      "0610012G03Rik      0.18842680       0.3442195      -0.30965902      -0.05776687\n",
      "0610040J01Rik     -0.19846942       0.3048670       0.08569585       0.59712922\n",
      "1110051M20Rik      0.46135871      -0.6075303      -0.02624906      -1.45322016\n",
      "1300002E11Rik     -0.34855437      -0.2818754       0.64467921      -0.22849962\n",
      "1600020E01Rik     -0.00956293      -0.9503059       0.77104627       1.89089914\n",
      "1600022D10Rik      0.85935552      -0.2504597       0.56142421       0.02374465\n",
      "              Mg_trt_LPC_5d_2 Mg_trt_LPC_28d_2 BAMs_LPC_7d_2 BAMs_LPC_5d_4\n",
      "0610012G03Rik       0.7614597       -0.4884721     0.5744173   0.309985665\n",
      "0610040J01Rik      -0.0458450        0.8341111    -0.8089908  -1.417025708\n",
      "1110051M20Rik       0.3512725        0.6293646     0.1983621  -0.005358545\n",
      "1300002E11Rik       0.1539988        0.3048964    -2.4838268   0.142596013\n",
      "1600020E01Rik      -0.3838667        0.8757077     0.5521918  -0.674839069\n",
      "1600022D10Rik      -0.3592048        0.4328057    -0.5807904  -1.394976780\n",
      "              BAMs_LPC_7d_1 BAMs_LPC_5d_1 BAMs_LPC_5d_3 BAMs_LPC_5d_2\n",
      "0610012G03Rik     0.7824809     0.1530942     0.4304419     0.7881437\n",
      "0610040J01Rik    -1.4986014    -1.4789495    -1.1199231    -1.5868505\n",
      "1110051M20Rik     0.2565240     0.3275735    -1.9609422     0.2385893\n",
      "1300002E11Rik     0.6547952    -0.4943535    -1.2784984     0.2024549\n",
      "1600020E01Rik    -0.3043564    -1.5636500    -1.2501502    -0.3058050\n",
      "1600022D10Rik    -0.2707948    -0.4723843    -0.5313548    -1.3113889\n"
     ]
    }
   ],
   "source": [
    "%%R\n",
    "\n",
    "colnames(mat_scaled) <- colnames(lcpm_subset)\n",
    "head(mat_scaled)"
   ]
  },
  {
   "cell_type": "code",
   "execution_count": 76,
   "id": "0e51196b",
   "metadata": {},
   "outputs": [
    {
     "name": "stdout",
     "output_type": "stream",
     "text": [
      "              Base Mean\n",
      "0610012G03Rik  5.692491\n",
      "0610040J01Rik  6.353198\n",
      "1110051M20Rik  4.365331\n",
      "1300002E11Rik  2.175777\n",
      "1600020E01Rik  4.645073\n",
      "1600022D10Rik  2.492422\n"
     ]
    }
   ],
   "source": [
    "%%R\n",
    "\n",
    "# Compute the base mean expression per gene\n",
    "base_mean <- rowMeans(lcpm_subset)\n",
    "\n",
    "# Convert to a matrix for ComplexHeatmap\n",
    "base_mean_matrix <- matrix(base_mean, ncol = 1)\n",
    "rownames(base_mean_matrix) <- rownames(lcpm_subset)\n",
    "colnames(base_mean_matrix) <- \"Base Mean\"\n",
    "\n",
    "# Check structure\n",
    "head(base_mean_matrix)"
   ]
  },
  {
   "cell_type": "code",
   "execution_count": 77,
   "id": "d8fc63ed",
   "metadata": {},
   "outputs": [
    {
     "name": "stdout",
     "output_type": "stream",
     "text": [
      "[1] 1700    1\n"
     ]
    }
   ],
   "source": [
    "%%R\n",
    "dim(base_mean_matrix)"
   ]
  },
  {
   "cell_type": "code",
   "execution_count": 78,
   "id": "24fd72e3",
   "metadata": {},
   "outputs": [
    {
     "name": "stdout",
     "output_type": "stream",
     "text": [
      " [1] \"Mg_A_LPC_Saline_2\"     \"Mg_A_LPC_Saline_1\"     \"Mg_A_LPC_ctrl_2\"      \n",
      " [4] \"Mg_A_LPC_ctrl_1\"       \"BAMs_LPC_7d_2\"         \"BAMs_LPC_5d_4\"        \n",
      " [7] \"BAMs_LPC_7d_1\"         \"BAMs_LPC_5d_1\"         \"BAMs_LPC_5d_3\"        \n",
      "[10] \"BAMs_LPC_5d_2\"         \"Mg_trt_LPC_7d_2\"       \"Mg_trt_LPC_5d_4\"      \n",
      "[13] \"Mg_trt_LPC_7d_1\"       \"Mg_trt_LPC_5d_1\"       \"Mg_trt_LPC_5d_3\"      \n",
      "[16] \"Mg_trt_LPC_5d_2\"       \"Mg_trt_LPC_28d_3\"      \"Mg_trt_LPC_28d_1\"     \n",
      "[19] \"Mg_trt_LPC_28d_2\"      \"Mg_A_Cupr_ctrl_Shen_2\" \"Mg_A_Cupr_ctrl_Shen_1\"\n",
      "[22] \"Mg_A_Cupr_ctrl_Shen_3\" \"Mg_trt_Cupr_5w_1\"      \"Mg_trt_Cupr_5w_2\"     \n",
      "[25] \"Mg_trt_Cupr_4w_3\"      \"Mg_trt_Cupr_4w_2\"      \"Mg_trt_Cupr_4w_4\"     \n",
      "[28] \"Mg_trt_Cupr_4w_1\"      \"Mg_trt_Cupr_4+3w_1\"    \"Mg_trt_Cupr_4+3w_3\"   \n",
      "[31] \"Mg_trt_Cupr_4+3w_2\"   \n"
     ]
    }
   ],
   "source": [
    "%%R\n",
    "\n",
    "# Step 3: Reorder mat_scaled (columns) based on the ordered metadata\n",
    "mat_scaled_ordered <- mat_scaled[, ordered_cols$sample]\n",
    "colnames(mat_scaled_ordered)"
   ]
  },
  {
   "cell_type": "code",
   "execution_count": 79,
   "id": "e365a205",
   "metadata": {},
   "outputs": [
    {
     "name": "stdout",
     "output_type": "stream",
     "text": [
      "[1] 1700    2\n"
     ]
    }
   ],
   "source": [
    "%%R\n",
    "\n",
    "filtered_metadata <- gene_metadata[gene_metadata$gene %in% rownames(mat_scaled),]\n",
    "\n",
    "# Ensure the categories are ordered correctly in the metadata\n",
    "filtered_metadata$category <- factor(filtered_metadata$category, \n",
    "                                      levels = c(\"Up_all\", \"Up_demyel\", \"Up_LPC\", \"Up_Cupr\", \n",
    "                                                 \"Down_Cupr\", \"Down_LPC\", \"Down_demyel\", \"Down_all\"))\n",
    "\n",
    "dim(filtered_metadata)"
   ]
  },
  {
   "cell_type": "code",
   "execution_count": 80,
   "id": "5157adb9",
   "metadata": {},
   "outputs": [],
   "source": [
    "%%R\n",
    "\n",
    "# Reorder genes based on the category column\n",
    "ordered_genes <- filtered_metadata$gene[order(filtered_metadata$category)]\n",
    "\n",
    "# Reorder mat_scaled and base_mean based on the ordered genes\n",
    "mat_scaled_ordered <- mat_scaled_ordered[ordered_genes, ]\n",
    "base_mean_ordered <- base_mean[ordered_genes]"
   ]
  },
  {
   "cell_type": "code",
   "execution_count": 81,
   "id": "d8ebdd0f",
   "metadata": {},
   "outputs": [
    {
     "name": "stdout",
     "output_type": "stream",
     "text": [
      "[1] \"LPC_Mg_A_baseline\"       \"LPC_BAMs_demyel\"        \n",
      "[3] \"LPC_DAMs_demyel\"         \"LPC_DAMs_remyel\"        \n",
      "[5] \"Cuprizone_Mg_A_baseline\" \"Cuprizone_DAMs_demyel\"  \n",
      "[7] \"Cuprizone_DAMs_remyel\"  \n"
     ]
    }
   ],
   "source": [
    "%%R\n",
    "ordered_cols$col_split <- paste(ordered_cols$Treatment, ordered_cols$Cell_type, ordered_cols$Condition, sep = \"_\")\n",
    "unique(ordered_cols$col_split)"
   ]
  },
  {
   "cell_type": "code",
   "execution_count": 85,
   "id": "e5bb50f3",
   "metadata": {},
   "outputs": [],
   "source": [
    "%%R\n",
    "\n",
    "# Define colors for annotations\n",
    "treatment_colors <- c(\"LPC\" = \"#ffa700\", \"Cuprizone\" = \"#6495ed\")\n",
    "cell_type_colors <- c(\"BAMs\" = \"#ff7f50\", \"DAMs\" = \"#ffdca9\", \"Mg_A\" = \"#e52b50\")\n",
    "condition_colors <- c(\"baseline\" = \"#e52b50\", \"demyel\" = \"#f6ed84\", \"remyel\" = \"#ddcd10\")\n",
    "replicate_colors <- colorRamp2(c(1, 4), c(\"white\", \"gray\"))\n",
    "\n",
    "# Step 5: Define gene type colors\n",
    "gene_type_colors <- c(\n",
    "    \"Up_all\" = \"#e75480\", \n",
    "    \"Up_demyel\" = \"#ed80a2\", \n",
    "    \"Up_LPC\" = \"#ffd380\", \n",
    "    \"Up_Cupr\" = \"#a9c4f5\",\n",
    "    \"Down_Cupr\" = \"#6495ed\", \n",
    "    \"Down_LPC\" = \"#ffa700\", \n",
    "    \"Down_demyel\" = \"#ed9781\", \n",
    "    \"Down_all\" = \"#e77254\"\n",
    ")"
   ]
  },
  {
   "cell_type": "code",
   "execution_count": 86,
   "id": "f05fd1f4",
   "metadata": {},
   "outputs": [],
   "source": [
    "%%R\n",
    "\n",
    "# Step 6: Create the heatmap with annotations\n",
    "ha = HeatmapAnnotation(\n",
    "    Treatment = ordered_cols$Treatment,\n",
    "    Cell_type = ordered_cols$Cell_type,\n",
    "    Condition = ordered_cols$Condition,\n",
    "    col = list(\n",
    "        Treatment = treatment_colors,\n",
    "        Cell_type = cell_type_colors,\n",
    "        Condition = condition_colors\n",
    "    ),\n",
    "    annotation_name_side = \"left\"\n",
    ")\n",
    "\n",
    "gene_annotation_ordered <- filtered_metadata$category[match(rownames(mat_scaled_ordered), filtered_metadata$gene)]\n",
    "\n",
    "# Fix row annotation\n",
    "row_ha = rowAnnotation(\n",
    "    gene_type = anno_simple(as.character(gene_annotation_ordered), \n",
    "                            col = gene_type_colors, \n",
    "                            width = unit(5, \"mm\"))\n",
    ")\n",
    "\n",
    "# Create a heatmap legend for gene type\n",
    "lgd_gene_type <- Legend(\n",
    "    title = \"Gene Type\",\n",
    "    at = names(gene_type_colors),  # Use category names\n",
    "    legend_gp = gpar(fill = gene_type_colors)  # Apply colors\n",
    ")"
   ]
  },
  {
   "cell_type": "code",
   "execution_count": 87,
   "id": "a07e9d17",
   "metadata": {},
   "outputs": [
    {
     "data": {
      "image/png": "[encoded data removed]",
      "text/plain": [
       "<IPython.core.display.Image object>"
      ]
     },
     "metadata": {},
     "output_type": "display_data"
    }
   ],
   "source": [
    "%%R\n",
    "\n",
    "base_mean_colors <- colorRamp2(c(0, 10), c(\"white\", \"#be0032\"))\n",
    "\n",
    "ht_list = row_ha +\n",
    "Heatmap(mat_scaled_ordered, name = \"logCPM (scaled)\",\n",
    "    col = colorRamp2(c(-2, 0, 2), c(\"#0085e6\", \"white\", \"#fa0072\")),\n",
    "    top_annotation = ha,\n",
    "    row_order = filtered_metadata$gene,\n",
    "    column_order = ordered_cols$sample,  # 🔹 Manually ordered!\n",
    "    column_split = factor(ordered_cols$col_split, \n",
    "                          levels = unique(ordered_cols$col_split)),  # 🔹 Keep correct order\n",
    "    show_column_names = FALSE,\n",
    "    show_row_names = TRUE,   \n",
    "    show_column_dend = FALSE,  \n",
    "    show_row_dend = FALSE,     \n",
    "    row_names_gp = gpar(fontsize = 8),\n",
    "    column_title = NULL  # 🔹 Remove split labels\n",
    ") +\n",
    "Heatmap(base_mean_ordered, name = \"Base Mean\",\n",
    "    col = base_mean_colors,\n",
    "    row_order = filtered_metadata$gene,\n",
    "    width = unit(5, \"mm\"),\n",
    "    show_row_names = FALSE,  \n",
    "    row_names_gp = gpar(fontsize = 0)  \n",
    ")\n",
    "\n",
    "# Step 8: Draw the final heatmap\n",
    "draw(ht_list, annotation_legend_list = list(lgd_gene_type))"
   ]
  },
  {
   "cell_type": "code",
   "execution_count": 88,
   "id": "0dd7764e",
   "metadata": {},
   "outputs": [],
   "source": [
    "%%R\n",
    "\n",
    "# Get the number of genes per category\n",
    "gene_counts <- table(filtered_metadata$category)\n",
    "\n",
    "# Compute cumulative positions for row splits\n",
    "split_positions <- cumsum(as.numeric(gene_counts))\n",
    "\n",
    "# Assign a row number-based split\n",
    "gene_row_split <- cut(seq_len(nrow(mat_scaled_ordered)), \n",
    "                      breaks = c(0, split_positions), \n",
    "                      labels = names(gene_counts))"
   ]
  },
  {
   "cell_type": "code",
   "execution_count": 89,
   "id": "a19d04a3",
   "metadata": {},
   "outputs": [],
   "source": [
    "%%R\n",
    "# Capitalize first letter of condition labels\n",
    "ordered_cols$Condition <- factor(\n",
    "    tools::toTitleCase(as.character(ordered_cols$Condition)),  \n",
    "    levels = c(\"Baseline\", \"Demyel\", \"Remyel\")  # Maintain order\n",
    ")"
   ]
  },
  {
   "cell_type": "code",
   "execution_count": 90,
   "id": "90f5dcf1",
   "metadata": {},
   "outputs": [],
   "source": [
    "%%R\n",
    "\n",
    "# Define colors for annotations\n",
    "treatment_colors <- c(\"LPC\" = \"#ffa700\", \"Cuprizone\" = \"#6495ed\")\n",
    "cell_type_colors <- c(\"BAMs\" = \"#ff7f50\", \"DAMs\" = \"#ffdca9\", \"Mg_A\" = \"#e52b50\")\n",
    "condition_colors <- c(\"Baseline\" = \"#e52b50\", \"Demyel\" = \"#f6ed84\", \"Remyel\" = \"#ddcd10\")\n",
    "replicate_colors <- colorRamp2(c(1, 4), c(\"white\", \"gray\"))\n",
    "\n",
    "# Step 5: Define gene type colors\n",
    "gene_type_colors <- c(\n",
    "    \"Up_all\" = \"#a51742\", \n",
    "    \"Up_demyel\" = \"#e75480\", \n",
    "    \"Up_LPC\" = \"#ed80a2\", \n",
    "    \"Up_Cupr\" = \"#f4b4c8\",\n",
    "    \"Down_Cupr\" = \"#cecef4\", \n",
    "    \"Down_LPC\" = \"#8e8ee6\", \n",
    "    \"Down_demyel\" = \"#3e3ed4\", \n",
    "    \"Down_all\" = \"#191970\"\n",
    ")"
   ]
  },
  {
   "cell_type": "code",
   "execution_count": 91,
   "id": "7df5dcd2",
   "metadata": {},
   "outputs": [],
   "source": [
    "%%R\n",
    "\n",
    "# Ensure Treatment is a factor with LPC first\n",
    "ordered_cols$Treatment <- factor(ordered_cols$Treatment, levels = c(\"LPC\", \"Cuprizone\"))\n",
    "\n",
    "# Update the heatmap annotation to respect the new order\n",
    "ha = HeatmapAnnotation(\n",
    "    Treatment = ordered_cols$Treatment,\n",
    "    Cell_type = ordered_cols$Cell_type,\n",
    "    Condition = ordered_cols$Condition,\n",
    "    col = list(\n",
    "        Treatment = treatment_colors,\n",
    "        Cell_type = cell_type_colors,\n",
    "        Condition = condition_colors\n",
    "    ),\n",
    "    show_legend = FALSE,\n",
    "    annotation_name_side = \"right\"\n",
    ")\n",
    "\n",
    "# Create the Treatment legend manually with the correct order\n",
    "lgd_treatment <- Legend(\n",
    "    title = \"Treatment\",\n",
    "    at = c(\"LPC\", \"Cuprizone\"),  # Set order manually\n",
    "    legend_gp = gpar(fill = treatment_colors[c(\"LPC\", \"Cuprizone\")])  # Apply correct colors\n",
    ")\n",
    "\n",
    "# Ensure Cell_type follows the correct order\n",
    "ordered_cols$Cell_type <- factor(ordered_cols$Cell_type, levels = c(\"Mg_A\", \"BAMs\", \"DAMs\"))\n",
    "\n",
    "# Create the Cell Type legend manually\n",
    "lgd_cell_type <- Legend(\n",
    "    title = \"Cell Type\",  # Change label\n",
    "    at = c(\"Mg_A\", \"BAMs\", \"DAMs\"),  # Set order\n",
    "    legend_gp = gpar(fill = cell_type_colors[c(\"Mg_A\", \"BAMs\", \"DAMs\")])  # Apply correct colors\n",
    ")\n",
    "\n",
    "# Capitalize first letter of condition labels\n",
    "ordered_cols$Condition <- factor(ordered_cols$Condition, levels = c(\"Baseline\", \"Demyel\", \"Remyel\"))\n",
    "\n",
    "# Create the Cell Type legend manually\n",
    "lgd_condition <- Legend(\n",
    "    title = \"Condition\",  # Change label\n",
    "    at = c(\"Baseline\", \"Demyel\", \"Remyel\"),  # Set order\n",
    "    legend_gp = gpar(fill = condition_colors[c(\"Baseline\", \"Demyel\", \"Remyel\")])  # Apply correct colors\n",
    ")"
   ]
  },
  {
   "cell_type": "code",
   "execution_count": 100,
   "id": "3c0a27b4",
   "metadata": {},
   "outputs": [],
   "source": [
    "%%R\n",
    "\n",
    "gene_annotation_ordered <- filtered_metadata$category[match(rownames(mat_scaled_ordered), filtered_metadata$gene)]\n",
    "\n",
    "# Fix row annotation\n",
    "row_ha = rowAnnotation(\n",
    "    gene_type = anno_simple(as.character(gene_annotation_ordered), \n",
    "                            col = gene_type_colors, \n",
    "                            width = unit(8, \"mm\"))\n",
    ")\n",
    "\n",
    "# Create a heatmap legend for gene type\n",
    "lgd_gene_type <- Legend(\n",
    "    title = \"Gene Type\",\n",
    "    at = names(gene_type_colors),  # Use category names\n",
    "    legend_gp = gpar(fill = gene_type_colors)  # Apply colors\n",
    ")"
   ]
  },
  {
   "cell_type": "code",
   "execution_count": 101,
   "id": "27bba288",
   "metadata": {},
   "outputs": [
    {
     "data": {
      "image/png": "[encoded data removed]",
      "text/plain": [
       "<IPython.core.display.Image object>"
      ]
     },
     "metadata": {},
     "output_type": "display_data"
    }
   ],
   "source": [
    "%%R\n",
    "\n",
    "base_mean_colors <- colorRamp2(c(0, 10), c(\"#ffffc0\", \"#e25822\"))\n",
    "\n",
    "ht_list = row_ha +\n",
    "Heatmap(mat_scaled_ordered, name = \"logCPM (scaled)\",\n",
    "    col = colorRamp2(c(-2, 0, 2), c(\"#22229a\", \"white\", \"#bb1a3d\")),\n",
    "    top_annotation = ha,\n",
    "    row_order = filtered_metadata$gene,  # 🔹 Maintain order\n",
    "    column_order = ordered_cols$sample,  # 🔹 Maintain order\n",
    "    column_split = factor(ordered_cols$col_split, \n",
    "                          levels = unique(ordered_cols$col_split)),  # 🔹 Keep correct column split\n",
    "    row_split = gene_row_split,  # 🔹 Manually defined row split\n",
    "    cluster_column_slices= FALSE,\n",
    "    cluster_row_slices = FALSE,\n",
    "    show_column_names = FALSE,\n",
    "    show_row_names = TRUE,   \n",
    "    show_column_dend = FALSE,  \n",
    "    show_row_dend = FALSE,     \n",
    "    row_names_gp = gpar(fontsize = 8),\n",
    "    column_title = NULL,  # 🔹 Remove column split labels\n",
    "    row_title = NULL      # 🔹 Remove row split labels\n",
    ") +\n",
    "Heatmap(base_mean_ordered, name = \"Base Mean\",\n",
    "    col = base_mean_colors,\n",
    "    row_order = filtered_metadata$gene,\n",
    "    row_split = gene_row_split,  # 🔹 Ensure matching row split\n",
    "    cluster_row_slices = FALSE,\n",
    "    width = unit(5, \"mm\"),\n",
    "    show_row_names = FALSE,  \n",
    "    row_names_gp = gpar(fontsize = 0),\n",
    "    row_title = NULL  # 🔹 Remove row split labels\n",
    ")\n",
    "\n",
    "# Save as PNG\n",
    "png(\"heatmap_output.png\", width = 12, height = 10, units = \"in\", res = 300)  \n",
    "draw(ht_list, annotation_legend_list = list(lgd_treatment, lgd_cell_type, lgd_condition, lgd_gene_type))  \n",
    "dev.off()  # Close the PNG device\n",
    "\n",
    "# Display again in RStudio\n",
    "draw(ht_list, annotation_legend_list = list(lgd_treatment, lgd_cell_type, lgd_condition, lgd_gene_type))"
   ]
  },
  {
   "cell_type": "code",
   "execution_count": null,
   "id": "426ea634",
   "metadata": {},
   "outputs": [],
   "source": []
  }
 ],
 "metadata": {
  "kernelspec": {
   "display_name": "Python 3 (ipykernel)",
   "language": "python",
   "name": "python3"
  },
  "language_info": {
   "codemirror_mode": {
    "name": "ipython",
    "version": 3
   },
   "file_extension": ".py",
   "mimetype": "text/x-python",
   "name": "python",
   "nbconvert_exporter": "python",
   "pygments_lexer": "ipython3",
   "version": "3.11.11"
  }
 },
 "nbformat": 4,
 "nbformat_minor": 5
}

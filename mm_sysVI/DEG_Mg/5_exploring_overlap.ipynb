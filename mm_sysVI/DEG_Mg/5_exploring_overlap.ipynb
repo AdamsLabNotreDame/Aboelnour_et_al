{
 "cells": [
  {
   "cell_type": "code",
   "execution_count": 1,
   "id": "aa9f41d0",
   "metadata": {},
   "outputs": [],
   "source": [
    "import scanpy as sc\n",
    "import anndata as ann\n",
    "import numpy as np\n",
    "import scipy as sp\n",
    "import pandas as pd\n",
    "import matplotlib.pyplot as plt\n",
    "from matplotlib import rcParams\n",
    "from matplotlib import cm, colors\n",
    "import seaborn as sb\n",
    "\n",
    "import os\n",
    "\n",
    "# Define the path to the directory you want to change to\n",
    "new_directory = '/afs/crc.nd.edu/user/e/eaboelno/sysVI_analysis/MM_sysVI/DEG_analysis/Microglia_sep'\n",
    "\n",
    "# Use os.chdir() to change the working directory\n",
    "os.chdir(new_directory)"
   ]
  },
  {
   "cell_type": "code",
   "execution_count": 2,
   "id": "9fc12c70",
   "metadata": {},
   "outputs": [],
   "source": [
    "save_dir = '/afs/crc.nd.edu/user/e/eaboelno/sysVI_analysis/MM_sysVI/DEG_analysis/Microglia_sep'"
   ]
  },
  {
   "cell_type": "markdown",
   "id": "e0a9d8cf",
   "metadata": {},
   "source": [
    "# Set up DEG lists"
   ]
  },
  {
   "cell_type": "code",
   "execution_count": 3,
   "id": "5faa50ef",
   "metadata": {},
   "outputs": [
    {
     "data": {
      "text/plain": [
       "(9436, 7)"
      ]
     },
     "execution_count": 3,
     "metadata": {},
     "output_type": "execute_result"
    }
   ],
   "source": [
    "LPC_demyel_2 = pd.read_csv('./files/LPC_demyel_Mg_A_v_BAMs_voom_wqw_NEW.csv', index_col=None)\n",
    "LPC_demyel_2.rename(columns={'adj.P.Val': 'Padj'}, inplace=True)\n",
    "LPC_demyel_2.rename(columns={'P.Value': 'Pvalue'}, inplace=True)\n",
    "LPC_demyel_2.shape"
   ]
  },
  {
   "cell_type": "code",
   "execution_count": 4,
   "id": "ea6919f9",
   "metadata": {},
   "outputs": [
    {
     "data": {
      "text/plain": [
       "(10659, 7)"
      ]
     },
     "execution_count": 4,
     "metadata": {},
     "output_type": "execute_result"
    }
   ],
   "source": [
    "LPC_demyel = pd.read_csv('./files/LPC_demyel_Mg_A_v_trt_voom_wqw_NEW.csv', index_col=None)\n",
    "LPC_demyel.rename(columns={'adj.P.Val': 'Padj'}, inplace=True)\n",
    "LPC_demyel.rename(columns={'P.Value': 'Pvalue'}, inplace=True)\n",
    "LPC_demyel.shape"
   ]
  },
  {
   "cell_type": "code",
   "execution_count": 5,
   "id": "fd327a04",
   "metadata": {},
   "outputs": [
    {
     "data": {
      "text/plain": [
       "(10358, 7)"
      ]
     },
     "execution_count": 5,
     "metadata": {},
     "output_type": "execute_result"
    }
   ],
   "source": [
    "LPC_remyel = pd.read_csv('./files/LPC_remyel_MG_DAMs_voom_wqw.csv', index_col=None)\n",
    "LPC_remyel.rename(columns={'adj.P.Val': 'Padj'}, inplace=True)\n",
    "LPC_remyel.rename(columns={'P.Value': 'Pvalue'}, inplace=True)\n",
    "LPC_remyel.shape"
   ]
  },
  {
   "cell_type": "code",
   "execution_count": 6,
   "id": "141bd9c1",
   "metadata": {},
   "outputs": [
    {
     "data": {
      "text/plain": [
       "(10148, 7)"
      ]
     },
     "execution_count": 6,
     "metadata": {},
     "output_type": "execute_result"
    }
   ],
   "source": [
    "Cupr_demyel = pd.read_csv('./files/Cupr_demyel_Mg_A_v_trt_voom_wqw_NEW.csv', index_col=None)\n",
    "Cupr_demyel.rename(columns={'adj.P.Val': 'Padj'}, inplace=True)\n",
    "Cupr_demyel.rename(columns={'P.Value': 'Pvalue'}, inplace=True)\n",
    "Cupr_demyel.shape"
   ]
  },
  {
   "cell_type": "code",
   "execution_count": 7,
   "id": "2ac412d2",
   "metadata": {},
   "outputs": [
    {
     "data": {
      "text/plain": [
       "(9300, 7)"
      ]
     },
     "execution_count": 7,
     "metadata": {},
     "output_type": "execute_result"
    }
   ],
   "source": [
    "Cupr_remyel = pd.read_csv('./files/Cupr_remyel_MG_DAM_voom_wqw.csv', index_col=None)\n",
    "Cupr_remyel.rename(columns={'adj.P.Val': 'Padj'}, inplace=True)\n",
    "Cupr_remyel.rename(columns={'P.Value': 'Pvalue'}, inplace=True)\n",
    "Cupr_remyel.shape"
   ]
  },
  {
   "cell_type": "code",
   "execution_count": 8,
   "id": "d14d428c",
   "metadata": {},
   "outputs": [
    {
     "name": "stdout",
     "output_type": "stream",
     "text": [
      "(1222, 7)\n",
      "(2877, 7)\n"
     ]
    }
   ],
   "source": [
    "# Filter for upregulated genes\n",
    "LPC_demyel_2_up = LPC_demyel_2[(LPC_demyel_2.Padj < 0.05) & (LPC_demyel_2.logFC >= 1)]\n",
    "print(LPC_demyel_2_up.shape)\n",
    "\n",
    "# Filter for downregulated genes\n",
    "LPC_demyel_2_down = LPC_demyel_2[(LPC_demyel_2.Padj < 0.05) & (LPC_demyel_2.logFC <= -1)]\n",
    "print(LPC_demyel_2_down.shape)"
   ]
  },
  {
   "cell_type": "code",
   "execution_count": 9,
   "id": "8133a2fe",
   "metadata": {},
   "outputs": [
    {
     "name": "stdout",
     "output_type": "stream",
     "text": [
      "(914, 7)\n",
      "(2241, 7)\n"
     ]
    }
   ],
   "source": [
    "# Filter for upregulated genes\n",
    "LPC_de_up = LPC_demyel[(LPC_demyel.Padj < 0.05) & (LPC_demyel.logFC >= 1)]\n",
    "print(LPC_de_up.shape)\n",
    "\n",
    "# Filter for downregulated genes\n",
    "LPC_de_down = LPC_demyel[(LPC_demyel.Padj < 0.05) & (LPC_demyel.logFC <= -1)]\n",
    "print(LPC_de_down.shape)"
   ]
  },
  {
   "cell_type": "code",
   "execution_count": 10,
   "id": "48ee1baf",
   "metadata": {},
   "outputs": [
    {
     "name": "stdout",
     "output_type": "stream",
     "text": [
      "(531, 7)\n",
      "(1908, 7)\n"
     ]
    }
   ],
   "source": [
    "# Filter for upregulated genes\n",
    "LPC_re_up = LPC_remyel[(LPC_remyel.Padj < 0.05) & (LPC_remyel.logFC >= 1)]\n",
    "print(LPC_re_up.shape)\n",
    "\n",
    "# Filter for downregulated genes\n",
    "LPC_re_down = LPC_remyel[(LPC_remyel.Padj < 0.05) & (LPC_remyel.logFC <= -1)]\n",
    "print(LPC_re_down.shape)"
   ]
  },
  {
   "cell_type": "code",
   "execution_count": 11,
   "id": "0c69fc6d",
   "metadata": {},
   "outputs": [
    {
     "name": "stdout",
     "output_type": "stream",
     "text": [
      "(738, 7)\n",
      "(2463, 7)\n"
     ]
    }
   ],
   "source": [
    "# Filter for upregulated genes\n",
    "Cupr_de_up = Cupr_demyel[(Cupr_demyel.Padj < 0.05) & (Cupr_demyel.logFC >= 1)]\n",
    "print(Cupr_de_up.shape)\n",
    "\n",
    "# Filter for downregulated genes\n",
    "Cupr_de_down = Cupr_demyel[(Cupr_demyel.Padj < 0.05) & (Cupr_demyel.logFC <= -1)]\n",
    "print(Cupr_de_down.shape)"
   ]
  },
  {
   "cell_type": "code",
   "execution_count": 12,
   "id": "f05e8a60",
   "metadata": {},
   "outputs": [
    {
     "name": "stdout",
     "output_type": "stream",
     "text": [
      "(425, 7)\n",
      "(1076, 7)\n"
     ]
    }
   ],
   "source": [
    "# Filter for upregulated genes\n",
    "Cupr_re_up = Cupr_remyel[(Cupr_remyel.Padj < 0.05) & (Cupr_remyel.logFC >= 1)]\n",
    "print(Cupr_re_up.shape)\n",
    "\n",
    "# Filter for downregulated genes\n",
    "Cupr_re_down = Cupr_remyel[(Cupr_remyel.Padj < 0.05) & (Cupr_remyel.logFC <= -1)]\n",
    "print(Cupr_re_down.shape)"
   ]
  },
  {
   "cell_type": "markdown",
   "id": "512bd217",
   "metadata": {},
   "source": [
    "## 1.5X fold change"
   ]
  },
  {
   "cell_type": "code",
   "execution_count": 13,
   "id": "7aaf4e74",
   "metadata": {},
   "outputs": [
    {
     "name": "stdout",
     "output_type": "stream",
     "text": [
      "(1446, 7)\n",
      "(3677, 7)\n"
     ]
    }
   ],
   "source": [
    "# Filter for upregulated genes\n",
    "LPC_demyel_2_up = LPC_demyel_2[(LPC_demyel_2.Padj < 0.05) & (LPC_demyel_2.logFC >= 0.585)]\n",
    "print(LPC_demyel_2_up.shape)\n",
    "\n",
    "# Filter for downregulated genes\n",
    "LPC_demyel_2_down = LPC_demyel_2[(LPC_demyel_2.Padj < 0.05) & (LPC_demyel_2.logFC <= -0.585)]\n",
    "print(LPC_demyel_2_down.shape)"
   ]
  },
  {
   "cell_type": "code",
   "execution_count": 14,
   "id": "9ec849dd",
   "metadata": {},
   "outputs": [
    {
     "name": "stdout",
     "output_type": "stream",
     "text": [
      "(1083, 7)\n",
      "(2903, 7)\n"
     ]
    }
   ],
   "source": [
    "# Filter for upregulated genes\n",
    "LPC_de_up = LPC_demyel[(LPC_demyel.Padj < 0.05) & (LPC_demyel.logFC >= 0.585)]\n",
    "print(LPC_de_up.shape)\n",
    "\n",
    "# Filter for downregulated genes\n",
    "LPC_de_down = LPC_demyel[(LPC_demyel.Padj < 0.05) & (LPC_demyel.logFC <= -0.585)]\n",
    "print(LPC_de_down.shape)"
   ]
  },
  {
   "cell_type": "code",
   "execution_count": 15,
   "id": "c0fdbea1",
   "metadata": {},
   "outputs": [
    {
     "name": "stdout",
     "output_type": "stream",
     "text": [
      "(728, 7)\n",
      "(2564, 7)\n"
     ]
    }
   ],
   "source": [
    "# Filter for upregulated genes\n",
    "LPC_re_up = LPC_remyel[(LPC_remyel.Padj < 0.05) & (LPC_remyel.logFC >= 0.585)]\n",
    "print(LPC_re_up.shape)\n",
    "\n",
    "# Filter for downregulated genes\n",
    "LPC_re_down = LPC_remyel[(LPC_remyel.Padj < 0.05) & (LPC_remyel.logFC <= -0.585)]\n",
    "print(LPC_re_down.shape)"
   ]
  },
  {
   "cell_type": "code",
   "execution_count": 16,
   "id": "80023afc",
   "metadata": {},
   "outputs": [
    {
     "name": "stdout",
     "output_type": "stream",
     "text": [
      "(1107, 7)\n",
      "(4365, 7)\n"
     ]
    }
   ],
   "source": [
    "# Filter for upregulated genes\n",
    "Cupr_de_up = Cupr_demyel[(Cupr_demyel.Padj < 0.05) & (Cupr_demyel.logFC >= 0.585)]\n",
    "print(Cupr_de_up.shape)\n",
    "\n",
    "# Filter for downregulated genes\n",
    "Cupr_de_down = Cupr_demyel[(Cupr_demyel.Padj < 0.05) & (Cupr_demyel.logFC <= -0.585)]\n",
    "print(Cupr_de_down.shape)"
   ]
  },
  {
   "cell_type": "code",
   "execution_count": 17,
   "id": "894883d9",
   "metadata": {},
   "outputs": [
    {
     "name": "stdout",
     "output_type": "stream",
     "text": [
      "(430, 7)\n",
      "(1085, 7)\n"
     ]
    }
   ],
   "source": [
    "# Filter for upregulated genes\n",
    "Cupr_re_up = Cupr_remyel[(Cupr_remyel.Padj < 0.05) & (Cupr_remyel.logFC >= 0.585)]\n",
    "print(Cupr_re_up.shape)\n",
    "\n",
    "# Filter for downregulated genes\n",
    "Cupr_re_down = Cupr_remyel[(Cupr_remyel.Padj < 0.05) & (Cupr_remyel.logFC <= -0.585)]\n",
    "print(Cupr_re_down.shape)"
   ]
  },
  {
   "cell_type": "code",
   "execution_count": 18,
   "id": "bbba3242",
   "metadata": {},
   "outputs": [],
   "source": [
    "# Create gene lists from the dfs:\n",
    "genes_LPC_de_BAMs_up = LPC_demyel_2_up['gene'].tolist()\n",
    "genes_LPC_de_DAMs_up = LPC_de_up['gene'].tolist()\n",
    "genes_LPC_re_DAMs_up = LPC_re_up['gene'].tolist()\n",
    "genes_Cupr_de_DAMs_up = Cupr_de_up['gene'].tolist()\n",
    "genes_Cupr_re_DAMs_up = Cupr_re_up['gene'].tolist()"
   ]
  },
  {
   "cell_type": "code",
   "execution_count": 19,
   "id": "3b8510b3",
   "metadata": {},
   "outputs": [],
   "source": [
    "# Create gene lists from the dfs:\n",
    "genes_LPC_de_BAMs_down = LPC_demyel_2_down['gene'].tolist()\n",
    "genes_LPC_de_DAMs_down = LPC_de_down['gene'].tolist()\n",
    "genes_LPC_re_DAMs_down = LPC_re_down['gene'].tolist()\n",
    "genes_Cupr_de_DAMs_down = Cupr_de_down['gene'].tolist()\n",
    "genes_Cupr_re_DAMs_down = Cupr_re_down['gene'].tolist()"
   ]
  },
  {
   "cell_type": "markdown",
   "id": "c1aceb3a",
   "metadata": {},
   "source": [
    "# Barchart"
   ]
  },
  {
   "cell_type": "code",
   "execution_count": 24,
   "id": "044907f0",
   "metadata": {},
   "outputs": [
    {
     "data": {
      "image/png": "[encoded data removed]",
      "text/plain": [
       "<Figure size 900x400 with 1 Axes>"
      ]
     },
     "metadata": {},
     "output_type": "display_data"
    }
   ],
   "source": [
    "import matplotlib.pyplot as plt\n",
    "import numpy as np\n",
    "\n",
    "# Data\n",
    "conditions = [\"LPC_demyel_BAM\", \"LPC_demyel_DAM\", \"LPC_remyel_DAM\", \"Cupr_demyel_DAM\", \"Cupr_remyel_DAM\"]\n",
    "up_genes = np.array([1446, 1083, 728, 1107, 430])\n",
    "down_genes = np.array([-3677, -2903, -2564, -4365, -1085])  # Negative for left alignment\n",
    "\n",
    "# Reverse all data\n",
    "conditions = conditions[::-1]\n",
    "up_genes = up_genes[::-1]\n",
    "down_genes = down_genes[::-1]\n",
    "\n",
    "# Bar width (increased) and figure size (shorter height)\n",
    "bar_width = 0.8\n",
    "fig, ax = plt.subplots(figsize=(9, 4))  # Reduce height to save space\n",
    "\n",
    "# Plot downregulated genes (left side, using negative values)\n",
    "bars_down = ax.barh(conditions, down_genes, color='#CD1076', label=\"Downregulated Genes\", height=bar_width)\n",
    "\n",
    "# Plot upregulated genes (right side, starting at 0)\n",
    "bars_up = ax.barh(conditions, up_genes, color='#0000EE', label=\"Upregulated Genes\", height=bar_width)\n",
    "\n",
    "# Add number labels inside the bars, except for Cupr_remyel_E (last condition)\n",
    "for bar, value, condition in zip(bars_down, down_genes, conditions):\n",
    "    if condition == \"Cupr_remyel_E\":\n",
    "        ax.text(bar.get_x() + bar.get_width() - 20,  # Just outside the bar\n",
    "                bar.get_y() + bar.get_height() / 2, \n",
    "                str(abs(value)), \n",
    "                ha='right', va='center', color='black', fontsize=12, fontweight='bold')\n",
    "    else:\n",
    "        ax.text(bar.get_x() + bar.get_width() / 2, \n",
    "                bar.get_y() + bar.get_height() / 2, \n",
    "                str(abs(value)), \n",
    "                ha='center', va='center', color='white', fontsize=12, fontweight='bold')\n",
    "\n",
    "for bar, value, condition in zip(bars_up, up_genes, conditions):\n",
    "    if condition == \"Cupr_remyel_E\":\n",
    "        ax.text(bar.get_x() + bar.get_width() + 20,  # Just outside the bar\n",
    "                bar.get_y() + bar.get_height() / 2, \n",
    "                str(value), \n",
    "                ha='left', va='center', color='black', fontsize=12, fontweight='bold')\n",
    "    else:\n",
    "        ax.text(bar.get_x() + bar.get_width() / 2, \n",
    "                bar.get_y() + bar.get_height() / 2, \n",
    "                str(value), \n",
    "                ha='center', va='center', color='white', fontsize=12, fontweight='bold')\n",
    "\n",
    "# Formatting\n",
    "ax.set_yticks(np.arange(len(conditions)))\n",
    "ax.set_yticklabels(conditions, fontsize=12)\n",
    "ax.set_xlabel(\"Number of Significant Genes\", fontsize=12, fontweight='bold')\n",
    "\n",
    "# Adjust x-axis to show only 500 and 1000\n",
    "ax.set_xticks([-1000, -500, 0, 500, 1000])\n",
    "ax.set_xticklabels([1000, 500, 0, 500, 1000], fontsize=12)\n",
    "\n",
    "ax.axvline(0, color='black', linewidth=1)  # Zero line\n",
    "\n",
    "# Remove right and top spines for a cleaner look\n",
    "ax.spines['right'].set_visible(False)\n",
    "ax.spines['top'].set_visible(False)\n",
    "\n",
    "# Properly reorder the legend\n",
    "handles, labels = ax.get_legend_handles_labels()\n",
    "ax.legend([handles[1], handles[0]], [\"Upreg.\", \"Downreg.\"], loc=\"lower left\", fontsize=12)\n",
    "\n",
    "# Save the plot\n",
    "plt.savefig(\"DEG_bar_chart_MG.png\", dpi=300, bbox_inches='tight')  # Save with high quality\n",
    "\n",
    "# Show plot\n",
    "plt.show()"
   ]
  },
  {
   "cell_type": "markdown",
   "id": "ee332ce6",
   "metadata": {},
   "source": [
    "# SUBSET TO ONLY SHARED GENES TESTED IN ALL CONDITIONS"
   ]
  },
  {
   "cell_type": "code",
   "execution_count": 26,
   "id": "e8593fd3",
   "metadata": {},
   "outputs": [],
   "source": [
    "## IMPORTANT FILTER FOR GENES TESTING IN ALL CONDITIONS\n",
    "\n",
    "genes_all_conditions = set(LPC_demyel_2['gene']) & \\\n",
    "                       set(LPC_demyel['gene']) & \\\n",
    "                       set(LPC_remyel['gene']) & \\\n",
    "                       set(Cupr_demyel['gene']) & \\\n",
    "                       set(Cupr_remyel['gene'])"
   ]
  },
  {
   "cell_type": "code",
   "execution_count": 27,
   "id": "7abb62aa",
   "metadata": {},
   "outputs": [
    {
     "name": "stdout",
     "output_type": "stream",
     "text": [
      "(1222, 7)\n",
      "(960, 7)\n",
      "(682, 7)\n",
      "(852, 7)\n",
      "(360, 7)\n"
     ]
    }
   ],
   "source": [
    "# Function to filter DE DataFrames to include only genes tested in all conditions\n",
    "def filter_genes(df):\n",
    "    return df[df['gene'].isin(genes_all_conditions)]\n",
    "\n",
    "# Apply filtering to each DEG DataFrame\n",
    "LPC_demyel_2_up = filter_genes(LPC_demyel_2_up)\n",
    "LPC_de_up = filter_genes(LPC_de_up)\n",
    "LPC_re_up = filter_genes(LPC_re_up)\n",
    "Cupr_de_up = filter_genes(Cupr_de_up)\n",
    "Cupr_re_up = filter_genes(Cupr_re_up)\n",
    "\n",
    "print(LPC_demyel_2_up.shape)\n",
    "print(LPC_de_up.shape)\n",
    "print(LPC_re_up.shape)\n",
    "print(Cupr_de_up.shape)\n",
    "print(Cupr_re_up.shape)"
   ]
  },
  {
   "cell_type": "code",
   "execution_count": 28,
   "id": "383c120c",
   "metadata": {},
   "outputs": [
    {
     "name": "stdout",
     "output_type": "stream",
     "text": [
      "(3386, 7)\n",
      "(2329, 7)\n",
      "(2130, 7)\n",
      "(3488, 7)\n",
      "(930, 7)\n"
     ]
    }
   ],
   "source": [
    "# Function to filter DE DataFrames to include only genes tested in all conditions\n",
    "def filter_genes(df):\n",
    "    return df[df['gene'].isin(genes_all_conditions)]\n",
    "\n",
    "# Apply filtering to each DEG DataFrame\n",
    "LPC_demyel_2_down = filter_genes(LPC_demyel_2_down)\n",
    "LPC_de_down = filter_genes(LPC_de_down)\n",
    "LPC_re_down = filter_genes(LPC_re_down)\n",
    "Cupr_de_down = filter_genes(Cupr_de_down)\n",
    "Cupr_re_down = filter_genes(Cupr_re_down)\n",
    "\n",
    "print(LPC_demyel_2_down.shape)\n",
    "print(LPC_de_down.shape)\n",
    "print(LPC_re_down.shape)\n",
    "print(Cupr_de_down.shape)\n",
    "print(Cupr_re_down.shape)"
   ]
  },
  {
   "cell_type": "markdown",
   "id": "45624643",
   "metadata": {},
   "source": [
    "# Upset plots"
   ]
  },
  {
   "cell_type": "code",
   "execution_count": 29,
   "id": "5ba6c3e3",
   "metadata": {},
   "outputs": [],
   "source": [
    "from upsetplot import plot\n",
    "from upsetplot import from_contents\n",
    "from upsetplot import UpSet"
   ]
  },
  {
   "cell_type": "code",
   "execution_count": 30,
   "id": "f41f92a2",
   "metadata": {},
   "outputs": [],
   "source": [
    "# Create gene lists from the dfs:\n",
    "genes_LPC_demyel_2_up = LPC_demyel_2_up['gene'].tolist()\n",
    "genes_LPC_de_up = LPC_de_up['gene'].tolist()\n",
    "genes_LPC_re_up = LPC_re_up['gene'].tolist()\n",
    "genes_Cupr_de_up = Cupr_de_up['gene'].tolist()\n",
    "genes_Cupr_re_up = Cupr_re_up['gene'].tolist()\n",
    "\n",
    "# Create DataFrames for each gene list\n",
    "# Define the function to create a DataFrame\n",
    "def create_gene_df(genes_list, column_name):\n",
    "    return pd.DataFrame(genes_list, columns=[column_name])\n",
    "\n",
    "# Create DataFrames for each gene list\n",
    "LPC_demyel_2_up_df = create_gene_df(genes_LPC_demyel_2_up, 'OPC_de_up')\n",
    "LPC_de_up_df = create_gene_df(genes_LPC_de_up, 'LPC_de_up')\n",
    "LPC_re_up_df = create_gene_df(genes_LPC_re_up, 'LPC_re_up')\n",
    "Cupr_de_up_df = create_gene_df(genes_Cupr_de_up, 'Cupr_de_up')\n",
    "Cupr_re_up_df = create_gene_df(genes_Cupr_re_up, 'Cupr_re_up')"
   ]
  },
  {
   "cell_type": "code",
   "execution_count": 31,
   "id": "846027d8",
   "metadata": {},
   "outputs": [],
   "source": [
    "# Create DataFrames for each gene list using the new gene lists\n",
    "LPC_de2_up_df = pd.DataFrame({'LPC_de2_up': True, 'Name': genes_LPC_demyel_2_up})\n",
    "LPC_de_up_df = pd.DataFrame({'LPC_de_up': True, 'Name': genes_LPC_de_up})\n",
    "LPC_re_up_df = pd.DataFrame({'LPC_re_up': True, 'Name': genes_LPC_re_up})\n",
    "Cupr_de_up_df = pd.DataFrame({'Cupr_de_up': True, 'Name': genes_Cupr_de_up})\n",
    "Cupr_re_up_df = pd.DataFrame({'Cupr_re_up': True, 'Name': genes_Cupr_re_up})"
   ]
  },
  {
   "cell_type": "code",
   "execution_count": 32,
   "id": "b63ce106",
   "metadata": {},
   "outputs": [
    {
     "name": "stdout",
     "output_type": "stream",
     "text": [
      "Upregulated genes DataFrame:\n",
      "                                                               Name\n",
      "LPC_de2_up LPC_de_up LPC_re_up Cupr_de_up Cupr_re_up               \n",
      "True       True      False     True       False       0610012G03Rik\n",
      "           False     False     True       False       1110008P14Rik\n",
      "                               False      False       1190007I07Rik\n",
      "False      True      True      True       True        1700003F12Rik\n",
      "           False     False     True       False       1700037H04Rik\n",
      "...                                                             ...\n",
      "           True      False     False      False             Zfyve21\n",
      "           False     False     True       False                Zhx2\n",
      "True       True      False     False      False               Zmat5\n",
      "           False     False     False      False              Znhit1\n",
      "False      True      False     False      False              Znhit3\n",
      "\n",
      "[1766 rows x 1 columns]\n"
     ]
    },
    {
     "name": "stderr",
     "output_type": "stream",
     "text": [
      "/tmp/1596331.1.gpu/ipykernel_1569649/3215787398.py:13: FutureWarning: Downcasting object dtype arrays on .fillna, .ffill, .bfill is deprecated and will change in a future version. Call result.infer_objects(copy=False) instead. To opt-in to the future behavior, set `pd.set_option('future.no_silent_downcasting', True)`\n",
      "  up_df = up_df.fillna(False)\n"
     ]
    }
   ],
   "source": [
    "# Merge all the DataFrames hierarchically\n",
    "up_df = LPC_de2_up_df.merge(\n",
    "    LPC_de_up_df.merge(\n",
    "        LPC_re_up_df.merge(\n",
    "            Cupr_de_up_df.merge(\n",
    "                Cupr_re_up_df, on='Name', how='outer'\n",
    "            ), on='Name', how='outer'\n",
    "        ), on='Name', how='outer'\n",
    "    ), on='Name', how='outer'\n",
    ")\n",
    "\n",
    "# Replace NaN with False\n",
    "up_df = up_df.fillna(False)\n",
    "\n",
    "# Set index for the data frame\n",
    "up_df_plot = up_df.set_index([\n",
    "    'LPC_de2_up', 'LPC_de_up', 'LPC_re_up', 'Cupr_de_up', 'Cupr_re_up'\n",
    "])\n",
    "\n",
    "# Print the merged DataFrame\n",
    "print(\"Upregulated genes DataFrame:\")\n",
    "print(up_df_plot)"
   ]
  },
  {
   "cell_type": "code",
   "execution_count": 33,
   "id": "2cecab08",
   "metadata": {},
   "outputs": [
    {
     "name": "stdout",
     "output_type": "stream",
     "text": [
      "Updated Upregulated genes DataFrame:\n",
      "                                                                                            Name\n",
      "LPC_demyel_BAMs LPC_demyel_DAMs LPC_remyel_DAMs Cupr_demyel_DAMs Cupr_remyel_DAMs               \n",
      "True            True            False           True             False             0610012G03Rik\n",
      "                False           False           True             False             1110008P14Rik\n",
      "                                                False            False             1190007I07Rik\n",
      "False           True            True            True             True              1700003F12Rik\n",
      "                False           False           True             False             1700037H04Rik\n",
      "...                                                                                          ...\n",
      "                True            False           False            False                   Zfyve21\n",
      "                False           False           True             False                      Zhx2\n",
      "True            True            False           False            False                     Zmat5\n",
      "                False           False           False            False                    Znhit1\n",
      "False           True            False           False            False                    Znhit3\n",
      "\n",
      "[1766 rows x 1 columns]\n"
     ]
    }
   ],
   "source": [
    "# Dictionary to map old index names to new index names\n",
    "index_name_map = {\n",
    "    'LPC_de2_up': 'LPC_demyel_BAMs',\n",
    "    'LPC_de_up': 'LPC_demyel_DAMs',\n",
    "    'LPC_re_up': 'LPC_remyel_DAMs',\n",
    "    'Cupr_de_up': 'Cupr_demyel_DAMs',\n",
    "    'Cupr_re_up': 'Cupr_remyel_DAMs'\n",
    "}\n",
    "\n",
    "# Rename the index levels using the dictionary\n",
    "up_df_plot.index = up_df_plot.index.rename(index_name_map)\n",
    "\n",
    "print(\"Updated Upregulated genes DataFrame:\")\n",
    "print(up_df_plot)"
   ]
  },
  {
   "cell_type": "code",
   "execution_count": 34,
   "id": "29c44834",
   "metadata": {},
   "outputs": [
    {
     "name": "stderr",
     "output_type": "stream",
     "text": [
      "/afs/crc.nd.edu/user/e/eaboelno/miniforge3/envs/edgeR/lib/python3.11/site-packages/upsetplot/plotting.py:795: FutureWarning: A value is trying to be set on a copy of a DataFrame or Series through chained assignment using an inplace method.\n",
      "The behavior will change in pandas 3.0. This inplace method will never work because the intermediate object on which we are setting values always behaves as a copy.\n",
      "\n",
      "For example, when doing 'df[col].method(value, inplace=True)', try using 'df.method({col: value}, inplace=True)' or df[col] = df[col].method(value) instead, to perform the operation inplace on the original object.\n",
      "\n",
      "\n",
      "  styles[\"linewidth\"].fillna(1, inplace=True)\n",
      "/afs/crc.nd.edu/user/e/eaboelno/miniforge3/envs/edgeR/lib/python3.11/site-packages/upsetplot/plotting.py:796: FutureWarning: A value is trying to be set on a copy of a DataFrame or Series through chained assignment using an inplace method.\n",
      "The behavior will change in pandas 3.0. This inplace method will never work because the intermediate object on which we are setting values always behaves as a copy.\n",
      "\n",
      "For example, when doing 'df[col].method(value, inplace=True)', try using 'df.method({col: value}, inplace=True)' or df[col] = df[col].method(value) instead, to perform the operation inplace on the original object.\n",
      "\n",
      "\n",
      "  styles[\"facecolor\"].fillna(self._facecolor, inplace=True)\n",
      "/afs/crc.nd.edu/user/e/eaboelno/miniforge3/envs/edgeR/lib/python3.11/site-packages/upsetplot/plotting.py:797: FutureWarning: A value is trying to be set on a copy of a DataFrame or Series through chained assignment using an inplace method.\n",
      "The behavior will change in pandas 3.0. This inplace method will never work because the intermediate object on which we are setting values always behaves as a copy.\n",
      "\n",
      "For example, when doing 'df[col].method(value, inplace=True)', try using 'df.method({col: value}, inplace=True)' or df[col] = df[col].method(value) instead, to perform the operation inplace on the original object.\n",
      "\n",
      "\n",
      "  styles[\"edgecolor\"].fillna(styles[\"facecolor\"], inplace=True)\n",
      "/afs/crc.nd.edu/user/e/eaboelno/miniforge3/envs/edgeR/lib/python3.11/site-packages/upsetplot/plotting.py:798: FutureWarning: A value is trying to be set on a copy of a DataFrame or Series through chained assignment using an inplace method.\n",
      "The behavior will change in pandas 3.0. This inplace method will never work because the intermediate object on which we are setting values always behaves as a copy.\n",
      "\n",
      "For example, when doing 'df[col].method(value, inplace=True)', try using 'df.method({col: value}, inplace=True)' or df[col] = df[col].method(value) instead, to perform the operation inplace on the original object.\n",
      "\n",
      "\n",
      "  styles[\"linestyle\"].fillna(\"solid\", inplace=True)\n"
     ]
    },
    {
     "data": {
      "image/png": "[encoded data removed]",
      "text/plain": [
       "<Figure size 1022.22x488.889 with 4 Axes>"
      ]
     },
     "metadata": {},
     "output_type": "display_data"
    }
   ],
   "source": [
    "# Create UpSet plot\n",
    "#upset = UpSet(up_df_plot, subset_size='count', show_counts=True, facecolor=\"black\", min_degree=2, min_subset_size=15)\n",
    "upset = UpSet(up_df_plot, subset_size='count', show_counts=True, facecolor=\"black\", min_degree=1, min_subset_size=30)\n",
    "\n",
    "# Style the subsets\n",
    "upset.style_categories(\n",
    "    'LPC_demyel_BAMs',\n",
    "    shading_facecolor=\"#fff1c1\",\n",
    ")\n",
    "\n",
    "# Style the subsets\n",
    "upset.style_categories(\n",
    "    'LPC_demyel_DAMs',\n",
    "    shading_facecolor=\"#ffe6c2\",\n",
    ")\n",
    "\n",
    "# Style the subsets\n",
    "upset.style_categories(\n",
    "    'LPC_remyel_DAMs',\n",
    "    shading_facecolor=\"#ffd28e\",\n",
    ")\n",
    "\n",
    "# Style the subsets\n",
    "upset.style_categories(\n",
    "    'Cupr_demyel_DAMs',\n",
    "    shading_facecolor=\"#e4f0fb\",\n",
    ")\n",
    "\n",
    "# Style the subsets\n",
    "upset.style_categories(\n",
    "    'Cupr_remyel_DAMs',\n",
    "    shading_facecolor=\"#bddbf6\",\n",
    ")\n",
    "\n",
    "# Plot the UpSet plot\n",
    "upset.plot()\n",
    "plt.suptitle(\"\")\n",
    "\n",
    "# Save the plot as PDF\n",
    "#plt.savefig('./figures/upset_up_ALL_n30.png', dpi=300, bbox_inches='tight', facecolor='none')\n",
    "\n",
    "plt.show()"
   ]
  },
  {
   "cell_type": "code",
   "execution_count": 35,
   "id": "ee03643b",
   "metadata": {},
   "outputs": [],
   "source": [
    "# Create gene lists from the dfs:\n",
    "genes_LPC_demyel_2_down = LPC_demyel_2_down['gene'].tolist()\n",
    "genes_LPC_de_down = LPC_de_down['gene'].tolist()\n",
    "genes_LPC_re_down = LPC_re_down['gene'].tolist()\n",
    "genes_Cupr_de_down = Cupr_de_down['gene'].tolist()\n",
    "genes_Cupr_re_down = Cupr_re_down['gene'].tolist()\n",
    "\n",
    "# Create DataFrames for each gene list\n",
    "LPC_demyel_2_down_df = create_gene_df(genes_LPC_demyel_2_down, 'LPC_demyel_2_down')\n",
    "LPC_de_down_df = create_gene_df(genes_LPC_de_down, 'LPC_de_down')\n",
    "LPC_re_down_df = create_gene_df(genes_LPC_re_down, 'LPC_re_down')\n",
    "Cupr_de_down_df = create_gene_df(genes_Cupr_de_down, 'Cupr_de_down')\n",
    "Cupr_re_down_df = create_gene_df(genes_Cupr_re_down, 'Cupr_re_down')\n",
    "\n",
    "# Create DataFrames for each gene list using the new gene lists\n",
    "LPC_demyel_2_down_df = pd.DataFrame({'LPC_demyel_2_down': True, 'Name': genes_LPC_demyel_2_down})\n",
    "LPC_de_down_df = pd.DataFrame({'LPC_de_down': True, 'Name': genes_LPC_de_down})\n",
    "LPC_re_down_df = pd.DataFrame({'LPC_re_down': True, 'Name': genes_LPC_re_down})\n",
    "Cupr_de_down_df = pd.DataFrame({'Cupr_de_down': True, 'Name': genes_Cupr_de_down})\n",
    "Cupr_re_down_df = pd.DataFrame({'Cupr_re_down': True, 'Name': genes_Cupr_re_down})"
   ]
  },
  {
   "cell_type": "code",
   "execution_count": 36,
   "id": "df320a17",
   "metadata": {},
   "outputs": [
    {
     "name": "stdout",
     "output_type": "stream",
     "text": [
      "Downregulated genes DataFrame:\n",
      "                                                                              Name\n",
      "LPC_demyel_2_down LPC_de_down LPC_re_down Cupr_de_down Cupr_re_down               \n",
      "False             True        True        False        False         0610010F05Rik\n",
      "                  False       False       True         False         0610010K14Rik\n",
      "True              True        False       False        False         0610030E20Rik\n",
      "                              True        True         True          0610040J01Rik\n",
      "                                                       False         1110002L01Rik\n",
      "...                                                                            ...\n",
      "                              False       False        False                   Zyx\n",
      "False             False       False       True         False                 Zzef1\n",
      "True              True        True        True         False                  Zzz3\n",
      "                                                       False                     a\n",
      "False             False       True        False        False               mt-Atp8\n",
      "\n",
      "[4711 rows x 1 columns]\n"
     ]
    },
    {
     "name": "stderr",
     "output_type": "stream",
     "text": [
      "/tmp/1596331.1.gpu/ipykernel_1569649/665469858.py:13: FutureWarning: Downcasting object dtype arrays on .fillna, .ffill, .bfill is deprecated and will change in a future version. Call result.infer_objects(copy=False) instead. To opt-in to the future behavior, set `pd.set_option('future.no_silent_downcasting', True)`\n",
      "  down_df = down_df.fillna(False)\n"
     ]
    }
   ],
   "source": [
    "# Merge all the DataFrames hierarchically\n",
    "down_df = LPC_demyel_2_down_df.merge(\n",
    "    LPC_de_down_df.merge(\n",
    "        LPC_re_down_df.merge(\n",
    "            Cupr_de_down_df.merge(\n",
    "                Cupr_re_down_df, on='Name', how='outer'\n",
    "            ), on='Name', how='outer'\n",
    "        ), on='Name', how='outer'\n",
    "    ), on='Name', how='outer'\n",
    ")\n",
    "\n",
    "# Replace NaN with False\n",
    "down_df = down_df.fillna(False)\n",
    "\n",
    "# Set index for the data frame\n",
    "down_df_plot = down_df.set_index([\n",
    "    'LPC_demyel_2_down', 'LPC_de_down', 'LPC_re_down', 'Cupr_de_down', 'Cupr_re_down'\n",
    "])\n",
    "\n",
    "# Print the merged DataFrame\n",
    "print(\"Downregulated genes DataFrame:\")\n",
    "print(down_df_plot)"
   ]
  },
  {
   "cell_type": "code",
   "execution_count": 37,
   "id": "4e633c7a",
   "metadata": {},
   "outputs": [
    {
     "name": "stdout",
     "output_type": "stream",
     "text": [
      "Updated Upregulated genes DataFrame:\n",
      "                                                                                            Name\n",
      "LPC_demyel_BAMs LPC_demyel_DAMs LPC_remyel_DAMs Cupr_demyel_DAMs Cupr_remyel_DAMs               \n",
      "False           True            True            False            False             0610010F05Rik\n",
      "                False           False           True             False             0610010K14Rik\n",
      "True            True            False           False            False             0610030E20Rik\n",
      "                                True            True             True              0610040J01Rik\n",
      "                                                                 False             1110002L01Rik\n",
      "...                                                                                          ...\n",
      "                                False           False            False                       Zyx\n",
      "False           False           False           True             False                     Zzef1\n",
      "True            True            True            True             False                      Zzz3\n",
      "                                                                 False                         a\n",
      "False           False           True            False            False                   mt-Atp8\n",
      "\n",
      "[4711 rows x 1 columns]\n"
     ]
    }
   ],
   "source": [
    "# Dictionary to map old index names to new index names\n",
    "index_name_map = {\n",
    "    'LPC_demyel_2_down': 'LPC_demyel_BAMs',\n",
    "    'LPC_de_down': 'LPC_demyel_DAMs',\n",
    "    'LPC_re_down': 'LPC_remyel_DAMs',\n",
    "    'Cupr_de_down': 'Cupr_demyel_DAMs',\n",
    "    'Cupr_re_down': 'Cupr_remyel_DAMs'\n",
    "}\n",
    "\n",
    "# Rename the index levels using the dictionary\n",
    "down_df_plot.index = down_df_plot.index.rename(index_name_map)\n",
    "\n",
    "print(\"Updated Upregulated genes DataFrame:\")\n",
    "print(down_df_plot)"
   ]
  },
  {
   "cell_type": "code",
   "execution_count": 38,
   "id": "61ee6229",
   "metadata": {},
   "outputs": [
    {
     "name": "stderr",
     "output_type": "stream",
     "text": [
      "/afs/crc.nd.edu/user/e/eaboelno/miniforge3/envs/edgeR/lib/python3.11/site-packages/upsetplot/plotting.py:795: FutureWarning: A value is trying to be set on a copy of a DataFrame or Series through chained assignment using an inplace method.\n",
      "The behavior will change in pandas 3.0. This inplace method will never work because the intermediate object on which we are setting values always behaves as a copy.\n",
      "\n",
      "For example, when doing 'df[col].method(value, inplace=True)', try using 'df.method({col: value}, inplace=True)' or df[col] = df[col].method(value) instead, to perform the operation inplace on the original object.\n",
      "\n",
      "\n",
      "  styles[\"linewidth\"].fillna(1, inplace=True)\n",
      "/afs/crc.nd.edu/user/e/eaboelno/miniforge3/envs/edgeR/lib/python3.11/site-packages/upsetplot/plotting.py:796: FutureWarning: A value is trying to be set on a copy of a DataFrame or Series through chained assignment using an inplace method.\n",
      "The behavior will change in pandas 3.0. This inplace method will never work because the intermediate object on which we are setting values always behaves as a copy.\n",
      "\n",
      "For example, when doing 'df[col].method(value, inplace=True)', try using 'df.method({col: value}, inplace=True)' or df[col] = df[col].method(value) instead, to perform the operation inplace on the original object.\n",
      "\n",
      "\n",
      "  styles[\"facecolor\"].fillna(self._facecolor, inplace=True)\n",
      "/afs/crc.nd.edu/user/e/eaboelno/miniforge3/envs/edgeR/lib/python3.11/site-packages/upsetplot/plotting.py:797: FutureWarning: A value is trying to be set on a copy of a DataFrame or Series through chained assignment using an inplace method.\n",
      "The behavior will change in pandas 3.0. This inplace method will never work because the intermediate object on which we are setting values always behaves as a copy.\n",
      "\n",
      "For example, when doing 'df[col].method(value, inplace=True)', try using 'df.method({col: value}, inplace=True)' or df[col] = df[col].method(value) instead, to perform the operation inplace on the original object.\n",
      "\n",
      "\n",
      "  styles[\"edgecolor\"].fillna(styles[\"facecolor\"], inplace=True)\n",
      "/afs/crc.nd.edu/user/e/eaboelno/miniforge3/envs/edgeR/lib/python3.11/site-packages/upsetplot/plotting.py:798: FutureWarning: A value is trying to be set on a copy of a DataFrame or Series through chained assignment using an inplace method.\n",
      "The behavior will change in pandas 3.0. This inplace method will never work because the intermediate object on which we are setting values always behaves as a copy.\n",
      "\n",
      "For example, when doing 'df[col].method(value, inplace=True)', try using 'df.method({col: value}, inplace=True)' or df[col] = df[col].method(value) instead, to perform the operation inplace on the original object.\n",
      "\n",
      "\n",
      "  styles[\"linestyle\"].fillna(\"solid\", inplace=True)\n"
     ]
    },
    {
     "data": {
      "image/png": "[encoded data removed]",
      "text/plain": [
       "<Figure size 977.778x488.889 with 4 Axes>"
      ]
     },
     "metadata": {},
     "output_type": "display_data"
    }
   ],
   "source": [
    "# Create UpSet plot\n",
    "upset = UpSet(down_df_plot, subset_size='count', show_counts=True, facecolor=\"black\",\n",
    "              min_degree=1, min_subset_size=50)\n",
    "\n",
    "# Style the subsets\n",
    "upset.style_categories(\n",
    "    'LPC_demyel_BAMs',\n",
    "    shading_facecolor=\"#fff1c1\",\n",
    ")\n",
    "\n",
    "# Style the subsets\n",
    "upset.style_categories(\n",
    "    'LPC_demyel_DAMs',\n",
    "    shading_facecolor=\"#ffe6c2\",\n",
    ")\n",
    "\n",
    "# Style the subsets\n",
    "upset.style_categories(\n",
    "    'LPC_remyel_DAMs',\n",
    "    shading_facecolor=\"#ffd28e\",\n",
    ")\n",
    "\n",
    "# Style the subsets\n",
    "upset.style_categories(\n",
    "    'Cupr_demyel_DAMs',\n",
    "    shading_facecolor=\"#e4f0fb\",\n",
    ")\n",
    "\n",
    "# Style the subsets\n",
    "upset.style_categories(\n",
    "    'Cupr_remyel_DAMs',\n",
    "    shading_facecolor=\"#bddbf6\",\n",
    ")\n",
    "\n",
    "# Plot the UpSet plot\n",
    "upset.plot()\n",
    "plt.suptitle(\"\")\n",
    "\n",
    "# Save the plot as PDF\n",
    "#plt.savefig('./figures/upset_down_ALL_n50.png', dpi=300, bbox_inches='tight', facecolor='none')\n",
    "\n",
    "plt.show()"
   ]
  },
  {
   "cell_type": "code",
   "execution_count": null,
   "id": "ac700ae0",
   "metadata": {},
   "outputs": [],
   "source": []
  },
  {
   "cell_type": "markdown",
   "id": "58353cc0",
   "metadata": {},
   "source": [
    "# Set up gene lists- overlapping only"
   ]
  },
  {
   "cell_type": "code",
   "execution_count": 23,
   "id": "69f63a81",
   "metadata": {},
   "outputs": [],
   "source": [
    "# Create gene lists from the dfs:\n",
    "genes_LPC_de_BAMs_up = LPC_demyel_2_up['gene'].tolist()\n",
    "genes_LPC_de_DAMs_up = LPC_de_up['gene'].tolist()\n",
    "genes_LPC_re_DAMs_up = LPC_re_up['gene'].tolist()\n",
    "genes_Cupr_de_DAMs_up = Cupr_de_up['gene'].tolist()\n",
    "genes_Cupr_re_DAMs_up = Cupr_re_up['gene'].tolist()"
   ]
  },
  {
   "cell_type": "code",
   "execution_count": 24,
   "id": "73282c0a",
   "metadata": {},
   "outputs": [],
   "source": [
    "# Create gene lists from the dfs:\n",
    "genes_LPC_de_BAMs_down = LPC_demyel_2_down['gene'].tolist()\n",
    "genes_LPC_de_DAMs_down = LPC_de_down['gene'].tolist()\n",
    "genes_LPC_re_DAMs_down = LPC_re_down['gene'].tolist()\n",
    "genes_Cupr_de_DAMs_down = Cupr_de_down['gene'].tolist()\n",
    "genes_Cupr_re_DAMs_down = Cupr_re_down['gene'].tolist()"
   ]
  },
  {
   "cell_type": "code",
   "execution_count": 25,
   "id": "a3fac0e1",
   "metadata": {},
   "outputs": [
    {
     "name": "stdout",
     "output_type": "stream",
     "text": [
      "930\n"
     ]
    }
   ],
   "source": [
    "set_LPC_de_BAMs_up = set(genes_LPC_de_BAMs_up)\n",
    "set_LPC_de_DAMs_up = set(genes_LPC_de_DAMs_up)\n",
    "set_LPC_re_DAMs_up = set(genes_LPC_re_DAMs_up)\n",
    "set_Cupr_de_DAMs_up = set(genes_Cupr_de_DAMs_up)\n",
    "set_Cupr_re_DAMs_up = set(genes_Cupr_re_DAMs_up)\n",
    "set_LPC_de_BAMs_down = set(genes_LPC_de_BAMs_down)\n",
    "set_LPC_de_DAMs_down = set(genes_LPC_de_DAMs_down)\n",
    "set_LPC_re_DAMs_down = set(genes_LPC_re_DAMs_down)\n",
    "set_Cupr_de_DAMs_down = set(genes_Cupr_de_DAMs_down)\n",
    "set_Cupr_re_DAMs_down = set(genes_Cupr_re_DAMs_down)\n",
    "\n",
    "print(len(set_Cupr_re_DAMs_down))"
   ]
  },
  {
   "cell_type": "code",
   "execution_count": 26,
   "id": "019cc2d6",
   "metadata": {},
   "outputs": [
    {
     "name": "stdout",
     "output_type": "stream",
     "text": [
      "Number of overlapping upregulated genes: 149\n",
      "Overlapping upregulated genes: {'Xylt1', 'Lipa', 'Adam33', 'Atp1a3', 'Igf1', 'Fabp3', 'Gpnmb', 'Cpd', 'Nceh1', 'Cd68', 'Bst2', 'Man2a1', 'Arhgap24', 'Lilrb4a', 'Lpl', 'Uap1l1', 'Rpl10a', 'Pkm', 'Gcnt2', 'Lmnb1', 'Gm13391', 'Rab7b', 'Capg', 'Fundc2', 'Cd52', 'Ahnak2', 'Pim1', 'Atox1', 'Akr1a1', 'Apoc2', 'Ms4a7', 'Colec12', 'Fxyd5', 'Trps1', 'Nme2', 'Mamdc2', 'Cstb', 'Fcer1g', 'Abca1', 'Coro1c', 'Mcub', 'Pld3', 'Psen2', 'Lyz2', 'Iqgap1', 'Cd72', 'Tpd52', 'Sash1', 'Myo1e', 'Cd300lf', 'Bcar3', 'Ptger4', 'Amdhd2', 'Got1', 'Ldha', 'Il3ra', 'Pgk1', 'Hspe1', 'Fabp5', 'Cyp4f18', 'Tmem106a', 'Fcgr4', 'Tpi1', 'B2m', 'Ddhd1', 'Rap2b', 'Txn1', 'Gpr137b', 'Rai14', 'Mfsd12', 'Plxnc1', 'Slc2a6', 'Mdfic', 'Plin2', 'Rtcb', 'Cd200r4', 'Apoc4', 'Ms4a6c', 'Anxa2', 'Rftn1', 'Cd44', 'Ctse', 'Dnase1l1', 'Gm38335', 'Anxa5', 'Gpi1', 'Prdx1', 'Gpr65', 'Ctsz', 'Gyg', 'Lgals3bp', 'Rnf149', 'Cd22', 'Bhlhe40', 'Rbms1', 'Ctsb', 'Dab2', 'Vat1', 'Lilr4b', 'Ezr', 'Myo5a', 'Hcst', 'Cyba', 'Apoc1', 'Dram1', 'Tyrobp', 'Lgals3', 'Adam8', 'Ly9', 'Apobec1', 'Mmp12', 'Rell1', 'Arrdc4', 'Ifi207', 'Vim', 'Cxcl16', 'Cybb', 'Npc2', 'Pianp', 'Anxa4', 'Bola2', 'Gas2l3', 'Axl', 'Emp3', 'Timp2', 'Svbp', 'Fn1', 'Tspo', 'Malt1', 'Milr1', 'Sh3pxd2b', 'Csf2ra', 'Sh3bgrl3', 'Fmn1', 'Tpm4', 'Cd63', 'Fam20c', 'Tmem205', 'Mif', 'Ctsd', 'Aldoa', 'Rpl32', 'Spp1', 'Crip1', 'Aprt', 'Atp6v0e', 'Creg1', 'Wfdc17', 'Apoe'}\n"
     ]
    }
   ],
   "source": [
    "# Overlap of upregulated genes\n",
    "overlap_up_all = set_LPC_de_BAMs_up & set_LPC_de_DAMs_up & set_LPC_re_DAMs_up & set_Cupr_de_DAMs_up & set_Cupr_re_DAMs_up\n",
    "print(\"Number of overlapping upregulated genes:\", len(overlap_up_all))\n",
    "print(\"Overlapping upregulated genes:\", overlap_up_all)"
   ]
  },
  {
   "cell_type": "code",
   "execution_count": 34,
   "id": "64812de8",
   "metadata": {},
   "outputs": [
    {
     "name": "stdout",
     "output_type": "stream",
     "text": [
      "        gene      logFC   AveExpr          t        Pvalue          Padj  \\\n",
      "1374    Spp1  13.604488  8.051441   7.091438  1.046171e-05  7.179393e-05   \n",
      "277    Gpnmb  12.431175  8.109652  13.774847  6.810086e-09  2.304065e-07   \n",
      "1941   Fabp5  12.000838  7.068572   5.870494  6.605019e-05  3.209318e-04   \n",
      "1353  Lgals3  11.675251  6.993482   7.131681  9.878422e-06  6.884253e-05   \n",
      "3853  Wfdc17   9.615664  5.152937   3.544077  3.841180e-03  9.404613e-03   \n",
      "\n",
      "             B  \n",
      "1374  3.580868  \n",
      "277   8.633194  \n",
      "1941  1.932867  \n",
      "1353  3.535873  \n",
      "3853 -1.698413  \n",
      "Spp1, Gpnmb, Fabp5, Lgals3, Wfdc17, Ms4a7, Apoc2, Igf1, Vim, Apoe, Anxa2, Ahnak2, Bhlhe40, Sash1, Cyp4f18, Rab7b, Trps1, Cd300lf, Lyz2, Lilr4b, Plxnc1, Apoc1, Fam20c, Tmem205, Mdfic, Cybb, Mamdc2, Crip1, Plin2, Apoc4, Rai14, Il3ra, Fxyd5, Ddhd1, Cd200r4, Gas2l3, Fn1, Ezr, Vat1, Mmp12, Iqgap1, Ifi207, Adam8, Cd44, Xylt1, Adam33, Dram1, Sh3pxd2b, Dnase1l1, Bcar3, Gyg, Anxa5, Ms4a6c, Fabp3, Atp1a3, Txn1, Gm38335, Lilrb4a, Mcub, Gm13391, Axl, Nceh1, Rell1, Colec12, Anxa4, Dab2, Pianp, Rftn1, Ctse, Fundc2, Cd22, Lpl, Rap2b, Tmem106a, Ctsb, Cd63, Myo5a, Cd72, Arhgap24, Mif, Capg, Lipa, Bst2, Gpr137b, Pld3, Aprt, Emp3, Slc2a6, Amdhd2, Ly9, Psen2, Cstb, Apobec1, Man2a1, Bola2, Pim1, Fcgr4, Uap1l1, Milr1, Coro1c, Fmn1, Lgals3bp, Atp6v0e, Mfsd12, Cd68, Prdx1, Got1, Npc2, Rbms1, Gpr65, Cyba, Tspo, Gcnt2, Tpd52, Cpd, Ptger4, Hcst, Tpi1, Lmnb1, Tyrobp, Sh3bgrl3, Myo1e, Creg1, Arrdc4, Pgk1, Rpl32, Akr1a1, Rnf149, Ctsd, Abca1, Hspe1, Pkm, Nme2, Cd52, Tpm4, Aldoa, Cxcl16, Rpl10a, Csf2ra, Rtcb, Ldha, Gpi1, Malt1, Fcer1g, Ctsz, Atox1, Svbp, Timp2, B2m\n"
     ]
    }
   ],
   "source": [
    "subset_df = LPC_demyel_2[LPC_demyel_2['gene'].isin(overlap_up_all)]\n",
    "subset_df = subset_df.sort_values(by='logFC', ascending=False)\n",
    "print(subset_df[:5])\n",
    "sorted_genes = subset_df['gene'].tolist()  # Convert to list\n",
    "print(\", \".join(sorted_genes))  # Print as comma-separated values"
   ]
  },
  {
   "cell_type": "code",
   "execution_count": 35,
   "id": "53db8ce4",
   "metadata": {},
   "outputs": [
    {
     "name": "stdout",
     "output_type": "stream",
     "text": [
      "        gene     logFC   AveExpr         t    Pvalue      Padj         B\n",
      "1143    Spp1  8.860651  5.917407  5.449827  0.000145  0.001352  1.239534\n",
      "245     Igf1  8.825738  6.014955  8.892892  0.000001  0.000052  5.075509\n",
      "741   Lgals3  8.480823  5.526912  6.428476  0.000032  0.000458  2.506018\n",
      "1815   Fabp5  8.431502  5.247558  4.481680  0.000741  0.004350 -0.218572\n",
      "274    Gpnmb  8.328498  5.989371  8.680967  0.000002  0.000060  4.842741\n"
     ]
    }
   ],
   "source": [
    "subset_df1 = LPC_demyel[LPC_demyel['gene'].isin(overlap_up_all)]\n",
    "subset_df1 = subset_df1.sort_values(by='logFC', ascending=False)\n",
    "print(subset_df1[:5])\n",
    "#sorted_genes = subset_df1['gene'].tolist()  # Convert to list\n",
    "#print(\", \".join(sorted_genes))  # Print as comma-separated values"
   ]
  },
  {
   "cell_type": "code",
   "execution_count": 36,
   "id": "9e8876f0",
   "metadata": {},
   "outputs": [
    {
     "name": "stdout",
     "output_type": "stream",
     "text": [
      "       gene      logFC   AveExpr         t    Pvalue      Padj         B\n",
      "281    Spp1  10.524374  5.542753  7.782444  0.000046  0.001688  0.573191\n",
      "227   Fabp5   9.663219  5.073123  8.183888  0.000032  0.001442  0.720761\n",
      "272  Lgals3   9.261200  4.844643  7.847904  0.000044  0.001656  0.598436\n",
      "208   Apoc1   8.439069  4.288798  8.335178  0.000028  0.001376  0.772897\n",
      "290    Igf1   8.091479  4.096482  7.740949  0.000048  0.001718  0.557438\n"
     ]
    }
   ],
   "source": [
    "subset_df2 = LPC_remyel[LPC_remyel['gene'].isin(overlap_up_all)]\n",
    "subset_df2 = subset_df2.sort_values(by='logFC', ascending=False)\n",
    "print(subset_df2[:5])\n",
    "#sorted_genes = subset_df['gene'].tolist()  # Convert to list\n",
    "#print(\", \".join(sorted_genes))  # Print as comma-separated values"
   ]
  },
  {
   "cell_type": "code",
   "execution_count": 37,
   "id": "b4491a02",
   "metadata": {},
   "outputs": [
    {
     "name": "stdout",
     "output_type": "stream",
     "text": [
      "      gene      logFC   AveExpr          t        Pvalue          Padj  \\\n",
      "131   Spp1  12.264981  7.114855  14.360864  8.643897e-09  6.614749e-07   \n",
      "879  Gpnmb  10.467026  4.762201   8.530982  2.303635e-06  2.656511e-05   \n",
      "274  Apoc2   9.888681  3.504383  12.060093  5.914091e-08  2.182407e-06   \n",
      "508  Apoc4   9.518047  3.535830  10.225995  3.489392e-07  6.956848e-06   \n",
      "218  Apoc1   9.080148  4.818993  12.647794  3.515847e-08  1.621905e-06   \n",
      "\n",
      "            B  \n",
      "131  8.493057  \n",
      "879  4.427667  \n",
      "274  6.778746  \n",
      "508  5.731450  \n",
      "218  7.313361  \n"
     ]
    }
   ],
   "source": [
    "subset_df3 = Cupr_demyel[Cupr_demyel['gene'].isin(overlap_up_all)]\n",
    "subset_df3 = subset_df3.sort_values(by='logFC', ascending=False)\n",
    "print(subset_df3[:5])\n",
    "#sorted_genes = subset_df['gene'].tolist()  # Convert to list\n",
    "#print(\", \".join(sorted_genes))  # Print as comma-separated values"
   ]
  },
  {
   "cell_type": "code",
   "execution_count": 38,
   "id": "a0a89725",
   "metadata": {},
   "outputs": [
    {
     "name": "stdout",
     "output_type": "stream",
     "text": [
      "     gene      logFC   AveExpr          t        Pvalue      Padj         B\n",
      "0    Spp1  11.853414  5.822141  22.185374  2.349556e-09  0.000022  9.662733\n",
      "7   Gpnmb  10.812187  3.792218  15.961540  4.638327e-08  0.000054  8.023306\n",
      "20  Apoc4   9.301375  3.162898  12.699452  3.552944e-07  0.000157  6.570543\n",
      "28   Cybb   9.274054  4.346384  11.766171  6.946403e-07  0.000223  6.117989\n",
      "4    Igf1   9.201708  4.776384  16.562377  3.327074e-08  0.000054  8.263733\n"
     ]
    }
   ],
   "source": [
    "subset_df4 = Cupr_remyel[Cupr_remyel['gene'].isin(overlap_up_all)]\n",
    "subset_df4 = subset_df4.sort_values(by='logFC', ascending=False)\n",
    "print(subset_df4[:5])\n",
    "#sorted_genes = subset_df['gene'].tolist()  # Convert to list\n",
    "#print(\", \".join(sorted_genes))  # Print as comma-separated values"
   ]
  },
  {
   "cell_type": "code",
   "execution_count": 41,
   "id": "93bc00ba",
   "metadata": {},
   "outputs": [
    {
     "name": "stdout",
     "output_type": "stream",
     "text": [
      "     gene  logFC_LPC_de_BAM  padj_LPC_de_BAM  logFC_LPC_de_DAM  \\\n",
      "0    Spp1         13.604488     7.179393e-05          8.860651   \n",
      "1   Gpnmb         12.431175     2.304065e-07          8.328498   \n",
      "2   Fabp5         12.000838     3.209318e-04          8.431502   \n",
      "3  Lgals3         11.675251     6.884253e-05          8.480823   \n",
      "4  Wfdc17          9.615664     9.404613e-03          5.887264   \n",
      "\n",
      "   padj_LPC_de_DAM  logFC_LPC_re_DAM  padj_LPC_re_DAM  logFC_Cupr_de_DAM  \\\n",
      "0         0.001352         10.524374         0.001688          12.264981   \n",
      "1         0.000060          7.155594         0.016502          10.467026   \n",
      "2         0.004350          9.663219         0.001442           8.150478   \n",
      "3         0.000458          9.261200         0.001656           7.614927   \n",
      "4         0.039253          6.406593         0.010707           6.942032   \n",
      "\n",
      "   padj_Cupr_de_DAM  logFC_Cupr_re_DAM  padj_Cupr_re_DAM  \n",
      "0      6.614749e-07          11.853414          0.000022  \n",
      "1      2.656511e-05          10.812187          0.000054  \n",
      "2      4.489843e-07           8.548151          0.000078  \n",
      "3      3.735896e-08           8.535586          0.000030  \n",
      "4      6.255984e-05           7.558937          0.000112  \n"
     ]
    }
   ],
   "source": [
    "# List of dataframes and their respective suffixes\n",
    "dfs = [subset_df, subset_df1, subset_df2, subset_df3, subset_df4]\n",
    "suffixes = [\"LPC_de_BAM\", \"LPC_de_DAM\", \"LPC_re_DAM\", \"Cupr_de_DAM\", \"Cupr_re_DAM\"]\n",
    "\n",
    "# Keep only relevant columns and rename them with suffixes\n",
    "dfs = [d[[\"gene\", \"logFC\", \"Padj\"]].rename(columns={\"logFC\": f\"logFC_{sfx}\", \"Padj\": f\"padj_{sfx}\"}) \n",
    "       for d, sfx in zip(dfs, suffixes)]\n",
    "\n",
    "# Merge dataframes on 'gene' (inner join to keep only overlapping genes)\n",
    "merged_df = dfs[0]\n",
    "for d in dfs[1:]:\n",
    "    merged_df = merged_df.merge(d, on=\"gene\", how=\"inner\")\n",
    "\n",
    "# Display the merged dataframe\n",
    "print(merged_df[:5])"
   ]
  },
  {
   "cell_type": "code",
   "execution_count": 42,
   "id": "3aaf083c",
   "metadata": {},
   "outputs": [
    {
     "name": "stdout",
     "output_type": "stream",
     "text": [
      "Merged dataframe saved as 'overlapping_upregulated_genes.csv'\n"
     ]
    }
   ],
   "source": [
    "# Save the merged dataframe to a CSV file\n",
    "merged_df.to_csv(\"overlapping_upregulated_genes.csv\", index=False)\n",
    "\n",
    "print(\"Merged dataframe saved as 'overlapping_upregulated_genes.csv'\")"
   ]
  },
  {
   "cell_type": "code",
   "execution_count": 27,
   "id": "eb9f0e8b",
   "metadata": {},
   "outputs": [
    {
     "name": "stdout",
     "output_type": "stream",
     "text": [
      "Number of overlapping upregulated genes: 638\n",
      "Overlapping upregulated genes: {'Lrba', 'Ablim1', 'Ubn1', '4933406I18Rik', 'Klf4', 'Fer', 'Gcnt1', 'Arid1a', 'Ifitm10', 'Slc16a6', 'Phf7', 'Cyth4', 'Letm2', 'Snx29', 'AW554918', 'Gabpb2', 'Capn3', 'Gmeb2', 'Lyl1', 'Cbfa2t3', 'Lrp5', 'Trim65', 'P2ry13', 'Slc2a5', 'Wwc2', 'Malat1', 'Bicral', 'Csnk1e', 'Tmem100', 'Il6ra', 'Mrnip', 'Dlc1', 'Smurf2', 'Pkdcc', 'Zfand5', 'Pura', 'Maco1', 'Lpar6', 'Herc2', 'Ksr1', 'Pi4kb', 'Gm12905', 'Ccr5', 'Gm15614', 'Mnt', 'Gm20536', 'Prox2', 'Galnt10', 'Gbf1', 'Fyco1', 'Csnk1a1', 'Mlxip', 'Jmjd1c', 'Map1s', 'Gpr183', 'Rfx3', 'Ccdc192', 'Kcnk6', 'Etv5', 'Arhgap5', 'Ranbp10', 'Lifr', 'Nr6a1os', 'Zfp839', 'Cnot8', 'Gtpbp1', 'Ino80dos', 'Pip4p1', '4930444A19Rik', 'Tspan18', 'Mef2c', 'Tanc2', 'Armh3', 'Fam102b', 'Dusp7', 'Rtn1', 'R74862', 'Gm13008', 'Rps6ka1', 'Dennd2c', 'Espl1', 'Arhgap22', 'Gbp7', 'AW146154', 'Eif2ak4', 'Gm15503', 'Exog', 'Cep152', 'Jun', '5430405H02Rik', 'Gm20721', 'Ctc1', 'Traf3ip3', 'Snta1', 'Plcg2', 'C5ar2', 'Tln2', 'Agmo', 'Gdap2', 'Trp53bp1', 'St3gal5', 'Adgrg1', 'Rnf185', 'P2ry10b', 'Rptor', 'Zbtb37', 'Mllt10', 'Vps37b', 'Mtmr12', 'Git2', 'Smap2', 'Ogfrl1', 'Pik3cd', 'Bcl9', 'Supt20', 'Ipmk', 'Zfp715', 'Tiam1', 'Bzw2', 'Usp36', 'Rnf135', 'A830008E24Rik', 'Elf1', 'Eml6', 'Kmt2c', 'Ahdc1', 'Usp24', 'Golm1', 'Cbx4', 'Hpgd', 'Chst8', 'Arhgap12', 'Shld2', 'Plcg1', 'Klf12', 'Tifab', 'Nufip2', 'Arid4b', 'Nav3', 'Pip4k2a', 'Tpst2', 'Lrrc3', 'Hpgds', 'Gpsm1', 'Ift140', 'Hps3', '2810013P06Rik', 'Sipa1', 'Gm46367', '2610020C07Rik', 'Rlim', '4632427E13Rik', 'Cryl1', 'Csmd3', 'Zfp710', 'Gm2629', 'Arhgap45', 'Ecscr', 'Gm32036', 'Acox3', 'D030028A08Rik', 'Itga6', 'Gm39556', 'Gm826', 'Arhgef40', 'Ctcf', 'Abl1', 'Man1a2', 'Hps4', 'Ssh2', 'Eef2k', 'Map11', 'Gm40841', 'Zfp69', 'Rab39', 'Tmem119', 'Apba1', 'Hs2st1', 'Sox4', 'Gm37240', 'Rrp1b', 'Susd3', 'Ighm', 'Tmem170b', 'Kmt5b', 'Med12l', 'Nlk', 'Slco2b1', 'Inpp5d', 'Pnp', 'Acvr2b', 'Zfp90', 'Nr6a1', 'Gm12185', 'Numb', 'Tbc1d16', 'Macf1', 'Sdccag8', 'Pknox1', 'Txnip', 'Tnfrsf13b', 'Lst1', 'Nup210l', 'Gm36279', 'Nlrp1a', 'Pwwp2a', 'Cass4', 'Tk2', 'Tsc22d2', 'Slc25a37', '1700017B05Rik', 'Msi2', 'Iffo1', 'Crybb1', 'Gm10501', 'Slmap', 'Sipa1l1', 'Slc24a3', 'Arhgap39', 'Asap3', 'Nckap5l', 'Lrig2', 'Ulk2', 'Atp8a2', 'Chsy1', 'Mlph', 'Cdkn2aip', 'Gm16118', 'Serinc3', 'Mgll', 'Ap1b1', 'Usp2', 'Ing1', 'Phf20l1', 'Chst7', 'Sun2', 'Smad7', 'Sdk1', 'AU041133', 'Gm44686', 'Ggps1', 'Siglech', 'Rnf214', 'Sh3pxd2a', 'Rsbn1', 'Plekho1', 'Cebpd', 'Arid4a', 'Tlr3', 'Ier5', 'Tspan14', 'Nlrp1b', 'Cdh23', 'Brd2', 'Mtus1', 'B430010I23Rik', 'Kcnip3', 'Map2k6', 'Fgd2', 'Med1', 'Smg6', 'Gm28417', 'Prkab1', 'Sash3', 'Ifngr1', 'Btaf1', 'Gm33699', 'Nsun6', 'Cmtm6', 'Kcnk12', 'Phf20', 'Ppp4r1', 'Zc3h10', 'Twf2', 'Gm20470', 'Ggt5', 'Asb2', 'Ikzf1', 'Fhit', 'Zfp697', 'Ctbp2', 'Slc12a6', 'A530088E08Rik', '5330438D12Rik', 'Rnf167', 'Slc25a45', 'Ankrd10', 'Sall1', 'Rtn4rl1', 'Srsf2', 'Jrkl', 'Rnf38', 'Nhs', 'Flcn', 'Zhx3', 'Dnajb1', 'Pspc1', 'Bbs9', '2010013B24Rik', 'Stat3', 'Evi5', 'Chil1', 'P2ry12', 'Ncf1', 'Pag1', 'Chd9', 'Gm41764', 'Zc3h4', 'Arid3a', '1700012D14Rik', 'Phf14', 'Plxna4', 'Pcf11', 'Pecam1', 'Kmt2e', 'Map4', 'Abhd15', 'Morc2a', 'Pik3cg', 'Vamp1', 'Itga9', 'Gmip', 'Gm3739', 'Rreb1', 'Calm2', 'Cd164', 'Cfap74', 'Kbtbd2', 'Phlpp2', 'Impact', 'Gm31243', 'Sap25', 'Stard3', 'Kdm5b', 'Vcl', '8030442B05Rik', 'Tm6sf1', 'Itgam', 'Khnyn', 'Coro2a', 'Gal3st4', 'Mllt11', 'Cog5', '4930517O19Rik', 'Erf', 'Cradd', 'Nrip1', 'Snn', 'Mertk', 'Gm3468', 'Msl1', 'Ddit3', 'Rbmx', 'Rab31', 'Fli1', 'Prkce', 'Siglece', 'Dleu2', 'Itpripl1', 'Elmo1', 'Lats2', 'Zfp36l2', 'Jade1', 'Jpx', 'Snhg5', 'Zfhx3', 'Dock4', 'Avl9', 'Mgat1', 'Nop2', 'Gsk3b', 'Golim4', '4921511C10Rik', 'Rapgef5', 'Gm41556', 'Sesn1', '1600022D10Rik', 'Cst3', 'Epc1', 'Rassf5', 'Gm10790', 'C430049B03Rik', 'Gm26631', 'Calcrl', 'Nos1ap', 'Tra2a', 'Cdyl', 'Cep68', 'Il10ra', 'Ccnyl1', 'Myo1b', 'Nuak1', 'Cep95', 'Nr1d2', 'Smad1', 'Dglucy', 'Selplg', 'Snrk', 'Stard8', 'Akirin2', 'Nfatc2', 'Bank1', 'Abca9', 'Ppp1r9a', 'Gm44577', 'Gpr34', 'Tsacc', 'Gm17231', 'Grap', 'Mafb', 'Arhgap4', 'Eng', 'Foxn3', 'Patl2', 'Nav2', 'Crim1', 'Atp6v0a2', 'Chd2', 'Tbc1d9', 'Tent5a', 'Adrb1', 'Casp3', 'Rbm39', 'Cd27', 'Atg2a', 'Cep63', 'Wdfy2', 'Catsperg1', 'Rasgrp3', 'Srsf11', 'Gm27017', 'Narf', 'Son', 'Mknk1', 'Snhg12', 'Adap2', 'Slco4a1', 'Sema4g', 'Cacnb2', 'Dusp6', 'Commd8', 'Tob2', 'P3h2', 'Arhgap27', 'Stambpl1', 'Col27a1', 'Cx3cr1', 'Bcl9l', 'Epc2', 'Slc40a1', 'Osbpl11', 'Acvr2a', 'Magi1', 'Kif9', 'Plxdc2', 'E330020D12Rik', '2610203C22Rik', 'Pprc1', 'Pnrc1', 'Dcaf1', 'Tasor', 'Zbtb2', 'Klhl3', 'Ets1', 'Tlr4', 'Ube2g1', 'Cxxc5', 'Ophn1', 'Gm47664', 'Kcnd1', 'Zbtb11', 'Vps18', 'Mon2', 'Fam72a', 'Whrn', 'Rccd1', 'Pdlim5', 'Scamp2', 'Ppcdc', 'Fam117b', 'Bin2', 'Adgrl2', 'Tut7', 'Vgll4', 'Ppp1r10', 'A930015D03Rik', 'Junos', 'Rab6b', 'Gimap1', 'Fgd3', 'Tnfrsf23', 'Zfp654', 'Cask', 'Rhoh', 'Yes1', 'Helz', 'Loxl3', 'B4galt4', 'Zfp213', 'Kdm2b', 'Pld1', 'Gna15', 'Rhobtb1', 'Gtf2ird2', 'Cd37', 'Prkn', 'Sncaip', 'Hjurp', 'Bid', 'Armc3', 'Cyb561a3', 'Ints6l', 'Tcf7l2', 'Adrb2', 'Pard3b', 'Mfng', 'Rab3il1', 'Gm35188', 'Gadd45g', 'Gtf2h2', 'Fus', 'Dock8', 'Rsf1', 'Zfp292', 'Tra2b', 'Tjp1', 'Orai1', 'Cds1', 'Ccdc93', 'Cmtm8', 'Garnl3', 'Nfia', 'Prkca', 'Nudt6', 'Taok2', 'Tmem64', 'Mfap3', 'Mgme1', 'Slx1b', 'Fhad1', 'Foxo1', '1810026B05Rik', 'Dip2b', 'Fermt3', 'Zbtb7a', 'Gclc', 'Zfp335os', 'Nol4l', 'Nt5dc3', 'Maf', 'Inka1', 'Ppm1l', 'Entpd1', 'Prpsap2', '0610040J01Rik', 'Abhd6', 'Klhdc8b', 'Gm16337', 'Sppl3', 'Cd33', 'Rilpl1', 'I830077J02Rik', 'Zeb1', 'Senp2', 'Prdm11', 'Dedd', 'Zmynd11', 'Trp53cor1', 'Trmt10a', 'Zc3h8', 'Celf2', 'Ctsf', 'Upk1b', '4931403E22Rik', 'Ralgps2', 'Gm43813', 'Ptpro', 'Mef2a', 'Wsb1', 'Fez2', 'Rhob', 'St3gal6', 'Terf2', 'Gm16576', 'Srgap2', 'Gm13479', 'Top1', 'Abcb4', 'Ep300', 'Thada', 'Rsrp1', 'Mir99ahg', 'Zfp217', 'Cttnbp2nl', 'Uhrf1bp1', 'Tbc1d5', 'Abi3', 'Zc3h6', 'Zfp652', 'Dapp1', 'Prpf4b', 'Fam13b', 'Trio', 'Morn1', 'Ivns1abp', 'Pdlim4', 'Gm26542', 'Hhex', 'Ptgs1', 'Cryba4', 'Ebf3', 'Tle4', 'Sertad1', 'Alox5', 'Frmd4a', 'Tbxas1', 'Trim8', 'Tmem173', 'Arid3b', 'Phyhd1', 'Trim11', 'Cry1', 'Atxn2', 'Zfp810', 'Tmem44', 'Cables1', 'Clk1', 'Gm10138', 'Vsir', 'Map3k2', 'Gm34589', 'Wdr44', '3222401L13Rik', 'Rsrc2', 'Gm47167', 'Mlxipl', 'Spire1', 'Arap3'}\n"
     ]
    }
   ],
   "source": [
    "# Overlap of upregulated genes\n",
    "overlap_down_all = set_LPC_de_BAMs_down & set_LPC_de_DAMs_down & set_LPC_re_DAMs_down & set_Cupr_de_DAMs_down & set_Cupr_re_DAMs_down\n",
    "print(\"Number of overlapping upregulated genes:\", len(overlap_down_all))\n",
    "print(\"Overlapping upregulated genes:\", overlap_down_all)"
   ]
  },
  {
   "cell_type": "code",
   "execution_count": 43,
   "id": "17665796",
   "metadata": {},
   "outputs": [
    {
     "name": "stdout",
     "output_type": "stream",
     "text": [
      "               gene     logFC   AveExpr         t    Pvalue      Padj  \\\n",
      "3962  1700017B05Rik -0.630600  6.695755 -3.450148  0.004581  0.010907   \n",
      "4708         Hs2st1 -0.678998  6.045915 -2.842523  0.014394  0.028843   \n",
      "3376         Pip4p1 -0.693981  6.725944 -4.027265  0.001568  0.004382   \n",
      "4676        Eif2ak4 -0.700201  5.987429 -2.863911  0.013826  0.027895   \n",
      "3323           Lst1 -0.708063  6.683772 -4.089566  0.001399  0.003972   \n",
      "\n",
      "             B  \n",
      "3962 -2.950093  \n",
      "4708 -3.996357  \n",
      "3376 -1.855618  \n",
      "4676 -3.938653  \n",
      "3323 -1.756366  \n",
      "1700017B05Rik, Hs2st1, Pip4p1, Eif2ak4, Lst1, Ctcf, Gsk3b, Rrp1b, Plekho1, Arid4a, Adgrl2, Impact, Acox3, Evi5, Phf20, Itga9, Calm2, Fam117b, Arhgap45, Arid3a, Tm6sf1, Cog5, Bid, Atg2a, Trim11, Sesn1, Nudt6, Zmynd11, Phf20l1, Apba1, Terf2, Cd37, Armh3, Rsf1, Malat1, Gm37240, Supt20, Arid4b, Coro2a, Tlr4, Nlk, Dedd, Ggps1, Atxn2, Avl9, Cep63, Rsrp1, Ddit3, Smg6, Ankrd10, Cnot8, Cdyl, Snhg12, Abi3, Csnk1a1, Mafb, Ube2g1, AW554918, Ing1, Sppl3, Lats2, Mllt10, Stard3, Zfp654, Med1, Epc1, Slc12a6, Tbc1d5, Wwc2, Ppcdc, Zfp36l2, Phf7, Snrk, Celf2, Msl1, Kmt2c, Itga6, Rreb1, Ap1b1, Flcn, Zfp217, Cyth4, Srsf11, Zfp292, Ppp4r1, Kdm5b, Ipmk, Gabpb2, Zc3h8, Mnt, Vps18, Rnf214, Gtf2h2, Rbm39, 2810013P06Rik, Hps3, Uhrf1bp1, Mfap3, Tspan14, Thada, Vcl, Lyl1, Map3k2, Ssh2, Mgat1, Narf, Fam13b, Cdkn2aip, Kmt2e, Fyco1, Maco1, Mon2, Zfand5, Wdfy2, Zfp839, Gbf1, Pnrc1, 1810026B05Rik, Entpd1, Ifngr1, Top1, Rbmx, Shld2, Snx29, Pip4k2a, Prpf4b, Tbc1d9, Acvr2a, Kbtbd2, Bzw2, Fermt3, Jade1, Dusp6, Ubn1, Brd2, Sash3, Trio, Kmt5b, Zfp810, Ranbp10, Rsbn1, Smurf2, Helz, Mgme1, Macf1, Rassf5, Abl1, Usp36, Git2, Stard8, Arhgap12, Morc2a, Akirin2, Lrig2, Inpp5d, Lpar6, Ep300, Msi2, Slmap, Cask, Golim4, Senp2, Pi4kb, Nol4l, Khnyn, Casp3, Itgam, Gmeb2, Tifab, Rab31, Trp53bp1, Hjurp, Sdccag8, Orai1, Plcg2, Hpgds, Foxn3, Rsrc2, Commd8, Elf1, Cep95, Gcnt1, Exog, Tnfrsf13b, Cmtm8, Cttnbp2nl, Btaf1, Pura, Lrp5, Zbtb7a, Jmjd1c, Twf2, Mknk1, Osbpl11, Foxo1, Zfp715, Cradd, Tbxas1, Gmip, Tmem170b, Csnk1e, Zfp90, Map1s, Pspc1, Ogfrl1, AW146154, Arhgap22, Dglucy, Epc2, Zc3h10, Trim8, 5430405H02Rik, Tut7, Nt5dc3, Snhg5, Stambpl1, Dock8, Wdr44, Chd2, Rnf38, Ctbp2, Sipa1l1, Sap25, A530088E08Rik, AU041133, Vgll4, Tra2a, Rptor, Cry1, Pnp, Rnf185, Tk2, Son, Nr1d2, Gm12185, Gm12905, Slc25a37, Arid1a, Zc3h6, Gtpbp1, Tent5a, Phf14, Ncf1, 5330438D12Rik, Pik3cg, Sertad1, Lrba, P2ry10b, Slc25a45, Tasor, Zbtb37, Klf4, Vsir, Mertk, Smad1, Zfp652, Scamp2, Tsacc, Il10ra, Hhex, Tpst2, Map4, Txnip, Trim65, Cd164, Pdlim5, Map2k6, Dock4, Il6ra, Zbtb11, Gm33699, Clk1, Srsf2, Phlpp2, Fez2, Ccdc93, Pprc1, Rab3il1, Fus, Fli1, D030028A08Rik, 4921511C10Rik, Itpripl1, Adap2, Cd33, Junos, Nlrp1b, Gclc, Loxl3, Tle4, Kdm2b, Man1a2, Vps37b, Mtus1, Tnfrsf23, Tob2, Zfp213, Galnt10, Map11, Gdap2, Gm43813, Taok2, 1700012D14Rik, Arhgap39, Cbx4, Pik3cd, Serinc3, Cbfa2t3, Nop2, Sipa1, Usp24, Cyb561a3, Ikzf1, Herc2, Dip2b, Cryl1, Gna15, Cds1, Stat3, Pwwp2a, Traf3ip3, Rnf167, Atp6v0a2, Ophn1, Prkab1, C5ar2, Nufip2, Nckap5l, 4632427E13Rik, Wsb1, Rlim, Bin2, A930015D03Rik, Dapp1, Bicral, Tsc22d2, Prdm11, 2610020C07Rik, Nrip1, Gm39556, 4930444A19Rik, Arhgap27, Pcf11, Tmem64, Gm36279, Mef2a, Pdlim4, Nr6a1, Tra2b, Zc3h4, Rnf135, Tiam1, Gm26631, Mllt11, Bcl9, Gpr183, Mlxip, Zhx3, Mfng, Chsy1, Sun2, Prkn, Pknox1, B4galt4, Pld1, Cmtm6, Maf, Hps4, Elmo1, Jun, Chd9, Gm44686, Ulk2, Nfatc2, Ier5, Rps6ka1, Nlrp1a, Rasgrp3, E330020D12Rik, Ivns1abp, Arhgap4, Susd3, Zfp335os, Prpsap2, Mrnip, Cep152, Cst3, Dcaf1, Jrkl, Nsun6, Mtmr12, Rilpl1, Gm26542, Slx1b, Gm13008, Smap2, Iffo1, B430010I23Rik, Fam102b, Tlr3, Plcg1, Letm2, Dusp7, Rhoh, Dnajb1, Abcb4, Gtf2ird2, Rfx3, Gm16576, Ptpro, I830077J02Rik, Nup210l, Eml6, Espl1, Dleu2, St3gal5, Numb, Tcf7l2, Ctc1, Dennd2c, Gm47664, Ksr1, Ino80dos, Abhd15, Kcnk6, Mef2c, Ift140, Zbtb2, Tmem173, Cep68, Ahdc1, Fgd3, Erf, Nav2, Eng, Smad7, Vamp1, Kif9, Gm32036, Gm10501, Armc3, Zfp710, Fer, Pag1, Slc16a6, Acvr2b, Arid3b, Gal3st4, Pecam1, Cdh23, Gm28417, Calcrl, Jpx, Gpsm1, Bbs9, Gm10138, Gm15503, Zfp69, Prkce, Ccnyl1, Fam72a, Bcl9l, Gm47167, Catsperg1, Ints6l, Sh3pxd2a, 0610040J01Rik, Ppp1r10, Ralgps2, 4933406I18Rik, Rab39, Selplg, Trmt10a, Spire1, Usp2, Gadd45g, Pkdcc, Arap3, Rhob, Nos1ap, Morn1, Srgap2, 2010013B24Rik, Rccd1, Arhgap5, Gm20721, Ighm, Inka1, Phyhd1, Zfhx3, 1600022D10Rik, Fgd2, Zeb1, Patl2, Mir99ahg, Abca9, Eef2k, Grap, Golm1, Etv5, Snta1, Gm35188, Gbp7, Tbc1d16, Ccr5, Frmd4a, Siglece, Cx3cr1, Klhl3, Nr6a1os, Ppm1l, Crim1, Sox4, Gm20536, Fhad1, Ctsf, Abhd6, Rab6b, Whrn, Cd27, Ggt5, Trp53cor1, Med12l, Gm15614, Nfia, Prox2, Arhgef40, Tmem119, Nuak1, Gm41556, Cxxc5, Ppp1r9a, Fhit, Gm20470, C430049B03Rik, Gm27017, Adrb2, Cass4, Gm13479, Ablim1, Gm17231, 2610203C22Rik, Ifitm10, Tanc2, P2ry13, Slc40a1, Gm16337, Gm46367, Chil1, 4931403E22Rik, Gm41764, Agmo, Klhdc8b, Gm40841, Bank1, Cebpd, Gpr34, Prkca, 3222401L13Rik, Plxdc2, Gm826, Myo1b, Cables1, Ecscr, Gm44577, Lrrc3, Ebf3, Gm16118, Tspan18, Gm2629, Hpgd, Rtn4rl1, Ets1, Pard3b, Garnl3, Gimap1, Kcnd1, Rapgef5, Tjp1, Cryba4, Cfap74, Snn, Kcnk12, Mlph, Ptgs1, Zfp697, Ccdc192, Mgll, Asap3, Plxna4, Sall1, Yes1, Sema4g, Gm31243, Tln2, P3h2, P2ry12, Rtn1, Adrb1, Slco2b1, 8030442B05Rik, Lifr, Sncaip, Tmem44, Slco4a1, Capn3, Upk1b, Slc24a3, Gm3468, St3gal6, R74862, Alox5, Gm34589, A830008E24Rik, Sdk1, 4930517O19Rik, Dlc1, Tmem100, Siglech, Kcnip3, Gm3739, Magi1, Adgrg1, Mlxipl, Cacnb2, Klf12, Nhs, Chst7, Slc2a5, Nav3, Rhobtb1, Col27a1, Atp8a2, Asb2, Csmd3, Crybb1, Chst8, Gm10790\n"
     ]
    }
   ],
   "source": [
    "subset_df = LPC_demyel_2[LPC_demyel_2['gene'].isin(overlap_down_all)]\n",
    "subset_df = subset_df.sort_values(by='logFC', ascending=False)\n",
    "print(subset_df[:5])\n",
    "sorted_genes = subset_df['gene'].tolist()  # Convert to list\n",
    "print(\", \".join(sorted_genes))  # Print as comma-separated values"
   ]
  },
  {
   "cell_type": "code",
   "execution_count": 44,
   "id": "b6e36da9",
   "metadata": {},
   "outputs": [
    {
     "name": "stdout",
     "output_type": "stream",
     "text": [
      "         gene     logFC   AveExpr         t    Pvalue      Padj         B\n",
      "3728    Abhd6 -0.592210  5.941366 -2.892040  0.013463  0.038484 -3.666164\n",
      "2419     Ncf1 -0.605700  8.335838 -3.813976  0.002445  0.010768 -2.283889\n",
      "2689  St3gal5 -0.610839  7.150660 -3.596210  0.003643  0.014436 -2.546290\n",
      "3569   Commd8 -0.612331  6.465784 -2.988782  0.011244  0.033565 -3.621262\n",
      "3066    Foxn3 -0.612687  9.472247 -3.311287  0.006170  0.021445 -3.249338\n"
     ]
    }
   ],
   "source": [
    "subset_df1 = LPC_demyel[LPC_demyel['gene'].isin(overlap_down_all)]\n",
    "subset_df1 = subset_df1.sort_values(by='logFC', ascending=False)\n",
    "print(subset_df1[:5])\n",
    "#sorted_genes = subset_df1['gene'].tolist()  # Convert to list\n",
    "#print(\", \".join(sorted_genes))  # Print as comma-separated values"
   ]
  },
  {
   "cell_type": "code",
   "execution_count": 45,
   "id": "e6f33b70",
   "metadata": {},
   "outputs": [
    {
     "name": "stdout",
     "output_type": "stream",
     "text": [
      "       gene     logFC   AveExpr         t    Pvalue      Padj         B\n",
      "2655  Senp2 -0.604142  7.396122 -3.503282  0.007731  0.030142 -2.952141\n",
      "2888   Top1 -0.633643  8.381297 -3.326327  0.010079  0.036134 -3.278717\n",
      "3295   Gbf1 -0.633751  6.237993 -3.038051  0.015649  0.049177 -3.576554\n",
      "3203   Cd37 -0.653041  8.205433 -3.097669  0.014278  0.046157 -3.635724\n",
      "2796   Ctsf -0.660472  6.745664 -3.383018  0.009254  0.034272 -3.094039\n"
     ]
    }
   ],
   "source": [
    "subset_df2 = LPC_remyel[LPC_remyel['gene'].isin(overlap_down_all)]\n",
    "subset_df2 = subset_df2.sort_values(by='logFC', ascending=False)\n",
    "print(subset_df2[:5])\n",
    "#sorted_genes = subset_df['gene'].tolist()  # Convert to list\n",
    "#print(\", \".join(sorted_genes))  # Print as comma-separated values"
   ]
  },
  {
   "cell_type": "code",
   "execution_count": 46,
   "id": "4c1f03b0",
   "metadata": {},
   "outputs": [
    {
     "name": "stdout",
     "output_type": "stream",
     "text": [
      "        gene     logFC   AveExpr         t    Pvalue      Padj         B\n",
      "3233  Ccdc93 -0.660396  5.465838 -4.822799  0.000448  0.001404 -0.616316\n",
      "2770   Terf2 -0.727831  4.788399 -5.319748  0.000198  0.000727  0.255007\n",
      "5568  Tbxas1 -0.752678  8.660202 -2.978312  0.011806  0.021514 -3.701481\n",
      "2360   Cryl1 -0.783039  6.300754 -5.799954  0.000094  0.000402  1.040134\n",
      "2033    Ctcf -0.810155  5.779854 -6.211127  0.000050  0.000251  1.658720\n"
     ]
    }
   ],
   "source": [
    "subset_df3 = Cupr_demyel[Cupr_demyel['gene'].isin(overlap_down_all)]\n",
    "subset_df3 = subset_df3.sort_values(by='logFC', ascending=False)\n",
    "print(subset_df3[:5])\n",
    "#sorted_genes = subset_df['gene'].tolist()  # Convert to list\n",
    "#print(\", \".join(sorted_genes))  # Print as comma-separated values"
   ]
  },
  {
   "cell_type": "code",
   "execution_count": 47,
   "id": "3e310a4a",
   "metadata": {},
   "outputs": [
    {
     "name": "stdout",
     "output_type": "stream",
     "text": [
      "         gene     logFC   AveExpr         t    Pvalue      Padj         B\n",
      "1200     Top1 -0.896356  7.869744 -3.697650  0.004686  0.036256 -2.469037\n",
      "1181   Zfand5 -1.016683  9.054732 -3.721509  0.004513  0.035508 -2.518528\n",
      "1499  Plekho1 -1.035086  7.790725 -3.361102  0.008022  0.049736 -3.031288\n",
      "1224     Map4 -1.036131  7.309348 -3.671529  0.004883  0.037073 -2.450745\n",
      "1433    Mef2c -1.039379  9.261828 -3.432850  0.007146  0.046343 -2.999335\n"
     ]
    }
   ],
   "source": [
    "subset_df4 = Cupr_remyel[Cupr_remyel['gene'].isin(overlap_down_all)]\n",
    "subset_df4 = subset_df4.sort_values(by='logFC', ascending=False)\n",
    "print(subset_df4[:5])\n",
    "#sorted_genes = subset_df['gene'].tolist()  # Convert to list\n",
    "#print(\", \".join(sorted_genes))  # Print as comma-separated values"
   ]
  },
  {
   "cell_type": "code",
   "execution_count": 48,
   "id": "1dbaa7f5",
   "metadata": {},
   "outputs": [
    {
     "name": "stdout",
     "output_type": "stream",
     "text": [
      "            gene  logFC_LPC_de_BAM  padj_LPC_de_BAM  logFC_LPC_de_DAM  \\\n",
      "0  1700017B05Rik         -0.630600         0.010907         -0.888681   \n",
      "1         Hs2st1         -0.678998         0.028843         -1.024751   \n",
      "2         Pip4p1         -0.693981         0.004382         -0.633411   \n",
      "3        Eif2ak4         -0.700201         0.027895         -0.951258   \n",
      "4           Lst1         -0.708063         0.003972         -1.660129   \n",
      "\n",
      "   padj_LPC_de_DAM  logFC_LPC_re_DAM  padj_LPC_re_DAM  logFC_Cupr_de_DAM  \\\n",
      "0         0.003222         -1.175316         0.012769          -1.613558   \n",
      "1         0.003489         -0.987265         0.034755          -1.036835   \n",
      "2         0.019862         -1.266582         0.004950          -1.227747   \n",
      "3         0.011585         -0.804282         0.034848          -1.126624   \n",
      "4         0.000018         -0.955746         0.013525          -1.723640   \n",
      "\n",
      "   padj_Cupr_de_DAM  logFC_Cupr_re_DAM  padj_Cupr_re_DAM  \n",
      "0          0.000006          -1.692297          0.025863  \n",
      "1          0.000137          -1.737406          0.020108  \n",
      "2          0.000034          -2.543005          0.011762  \n",
      "3          0.000074          -1.428028          0.041412  \n",
      "4          0.000297          -1.224146          0.037697  \n"
     ]
    }
   ],
   "source": [
    "# List of dataframes and their respective suffixes\n",
    "dfs = [subset_df, subset_df1, subset_df2, subset_df3, subset_df4]\n",
    "suffixes = [\"LPC_de_BAM\", \"LPC_de_DAM\", \"LPC_re_DAM\", \"Cupr_de_DAM\", \"Cupr_re_DAM\"]\n",
    "\n",
    "# Keep only relevant columns and rename them with suffixes\n",
    "dfs = [d[[\"gene\", \"logFC\", \"Padj\"]].rename(columns={\"logFC\": f\"logFC_{sfx}\", \"Padj\": f\"padj_{sfx}\"}) \n",
    "       for d, sfx in zip(dfs, suffixes)]\n",
    "\n",
    "# Merge dataframes on 'gene' (inner join to keep only overlapping genes)\n",
    "merged_df = dfs[0]\n",
    "for d in dfs[1:]:\n",
    "    merged_df = merged_df.merge(d, on=\"gene\", how=\"inner\")\n",
    "\n",
    "# Display the merged dataframe\n",
    "print(merged_df[:5])"
   ]
  },
  {
   "cell_type": "code",
   "execution_count": 49,
   "id": "e365af14",
   "metadata": {},
   "outputs": [
    {
     "name": "stdout",
     "output_type": "stream",
     "text": [
      "Merged dataframe saved as 'overlapping_downregulated_genes.csv'\n"
     ]
    }
   ],
   "source": [
    "# Save the merged dataframe to a CSV file\n",
    "merged_df.to_csv(\"overlapping_downregulated_genes.csv\", index=False)\n",
    "\n",
    "print(\"Merged dataframe saved as 'overlapping_downregulated_genes.csv'\")"
   ]
  },
  {
   "cell_type": "code",
   "execution_count": 50,
   "id": "72bc2405",
   "metadata": {},
   "outputs": [
    {
     "name": "stdout",
     "output_type": "stream",
     "text": [
      "Number of overlapping upregulated genes: 136\n",
      "Overlapping upregulated genes: {'Ndufab1', 'Naxe', 'Rpl27a', 'Ei24', 'Rpl36', 'Serf2', 'Cox14', 'Acp1', 'Tmem189', 'Rps27a', 'Sdhb', 'Clpp', 'Psmd9', 'Mrpl28', 'Rpl29', 'Tecr', 'P3h3', 'Sdhd', 'Mrps12', 'Cacybp', 'Emc7', 'Etfrf1', 'Rpl21', 'S100a13', 'Trim35', 'Golga7', 'Cox17', 'Grina', 'Ppil3', 'Idh1', 'Erp44', 'Mrpl36', 'Ndufv2', 'Mapk3', 'Glo1', 'Dpy30', 'Ftl1', 'Tmem123', 'Cfap36', 'Nudt4', 'Mrpl23', 'Dynlrb1', 'Nabp2', 'Psmb9', 'Mrpl11', 'Tnfsf13', 'Pnkd', 'Mlf2', 'Rpl14', 'Lamp1', 'D8Ertd738e', 'Eef1a1', 'BC031181', 'Hexa', 'Hsbp1', '2210016L21Rik', 'Cox7c', 'Trem2', 'Nudt2', 'Fam174a', 'Rps5', 'Tmem258', 'Naca', 'Rps7', 'Rpl7a', 'Gcsh', 'Emc8', 'Rab9', 'Gpx4', 'Pno1', 'Mrpl15', 'Gaa', 'Dctn3', 'Chchd1', 'Erg28', 'Orc2', 'Tomm22', 'Ndufaf8', 'Bcas2', 'Rpl6', 'Tmbim1', 'Mrpl40', 'Rtraf', 'Sdcbp', 'P2rx4', 'Adi1', 'Smim20', 'Mxi1', 'Anapc11', 'Mrpl14', 'Polr2j', 'Stx12', 'Nudc', 'Arf5', 'Tmem14c', 'Ubxn1', 'Cmpk1', 'Ctsa', 'Ebpl', 'Cnih1', 'C1d', 'Rnf7', 'Dhrs3', 'Lsm5', 'Tmem208', 'Slc27a1', 'Pmvk', 'Hspb11', 'Atp6v1g1', 'Vamp8', 'Chmp2a', 'Mrpl53', 'Ndufa3', 'Riok3', 'Cdc42se2', 'Cript', 'Selenoh', 'Ost4', 'Tnfsf12', 'Med28', 'Tmem147', 'H2afv', 'Zfp704', 'Bet1', 'Pa2g4', 'Sypl', 'Rps16', 'Mpc2', 'Chpt1', 'Mrpl18', 'Arpc1a', 'Ndufb10', 'Auh', 'Idh3b', 'Tmem167', 'Gltp'}\n"
     ]
    }
   ],
   "source": [
    "# Overlap of upregulated genes\n",
    "overlap_up_lpc = set_LPC_de_BAMs_up & set_LPC_de_DAMs_up & set_LPC_re_DAMs_up - set_Cupr_de_DAMs_up - set_Cupr_re_DAMs_up\n",
    "print(\"Number of overlapping upregulated genes:\", len(overlap_up_lpc))\n",
    "print(\"Overlapping upregulated genes:\", overlap_up_lpc)"
   ]
  },
  {
   "cell_type": "code",
   "execution_count": 33,
   "id": "4f7560e3",
   "metadata": {},
   "outputs": [
    {
     "name": "stdout",
     "output_type": "stream",
     "text": [
      "         gene     logFC   AveExpr         t    Pvalue      Padj         B\n",
      "2719  Slc27a1  5.120116  3.616122  3.575747  0.003783  0.014825 -1.675526\n",
      "2071     Lsm5  3.878807  3.335262  4.178135  0.001267  0.006518 -0.702378\n",
      "2131     Adi1  3.827398  2.357027  4.104083  0.001447  0.007233 -0.822627\n",
      "1283   Golga7  3.703531  4.007536  5.193505  0.000221  0.001831  0.882714\n",
      "2584    Nudt2  3.684175  2.438912  3.669217  0.003186  0.013137 -1.524384\n",
      "Slc27a1, Lsm5, Adi1, Golga7, Nudt2, Mrpl53, Cfap36, Mrpl40, Cnih1, Erg28, Ndufa3, Dctn3, H2afv, Selenoh, Etfrf1, S100a13, Glo1, Acp1, 2210016L21Rik, Chpt1, Pnkd, Mrpl18, Tnfsf13, Gcsh, Bet1, Tecr, Nudt4, Anapc11, Ebpl, Pno1, Zfp704, Auh, Chchd1, Idh1, Tmem147, Sypl, Rnf7, C1d, Polr2j, Gltp, Tmbim1, Nabp2, Tmem258, Ndufaf8, Mrpl28, Ndufab1, Trim35, Nudc, Sdhd, Dynlrb1, Pmvk, Ppil3, Ndufb10, Mrpl15, Ndufv2, Mrpl36, Emc8, Cox17, Tmem167, Ftl1, Pa2g4, Gpx4, Ei24, Mrps12, Clpp, Hsbp1, Cox14, Serf2, Mrpl14, Rab9, Naxe, Cdc42se2, Cript, Orc2, Mrpl11, Mxi1, Bcas2, D8Ertd738e, Hexa, Mpc2, Arf5, Ost4, Hspb11, Cacybp, Smim20, Chmp2a, Mrpl23, Mapk3, Dpy30, Mlf2, Rtraf, Dhrs3, Gaa, Tmem14c, Atp6v1g1, Rpl29, Psmd9, Fam174a, Cox7c, Ctsa, Med28, Emc7, Lamp1, P3h3, Eef1a1, Cmpk1, Rpl21, Tmem123, Rpl14, Tomm22, BC031181, Ubxn1, Sdhb, Rps16, Rpl27a, Rps27a, Rps5, Tmem208, Sdcbp, Erp44, Tnfsf12, Stx12, Trem2, Grina, Idh3b, Riok3, Rps7, Rpl7a, Vamp8, Rpl36, P2rx4, Rpl6, Arpc1a, Tmem189, Naca, Psmb9\n"
     ]
    }
   ],
   "source": [
    "subset_df = LPC_demyel[LPC_demyel['gene'].isin(overlap_up_lpc)]\n",
    "subset_df = subset_df.sort_values(by='logFC', ascending=False)\n",
    "print(subset_df[:5])\n",
    "sorted_genes = subset_df['gene'].tolist()  # Convert to list\n",
    "print(\", \".join(sorted_genes))  # Print as comma-separated values"
   ]
  },
  {
   "cell_type": "code",
   "execution_count": 29,
   "id": "2320ec2a",
   "metadata": {},
   "outputs": [
    {
     "name": "stdout",
     "output_type": "stream",
     "text": [
      "Number of overlapping upregulated genes: 49\n",
      "Overlapping upregulated genes: {'March3', 'Nlrc5', 'Clic4', 'Srxn1', 'Hacd2', 'Itga5', 'Fgf13', 'Tnfaip8', 'Gbp5', 'Gm41609', 'Ms4a4c', 'Ptprj', 'Sept11', 'Gm31718', 'Prkg1', 'Ankrd33b', 'Tnfsf9', 'Sowahc', 'Wdr89', 'Il11ra1', 'Sulf2', 'AU020206', 'Stx11', 'Lcp1', 'Rps27rt', 'Sdc4', 'Chst11', 'Gm15832', 'A430093F15Rik', 'Bcl2a1b', 'Pvr', 'Samd9l', 'Gch1', 'Gadd45b', 'Isg15', 'Ccrl2', 'Traf3', 'Fam49a', 'Mocs1', 'Gsap', 'Foxp4', 'Rpl10-ps3', 'Jak2', 'Fam129a', 'Ifih1', 'Ctnnb1', 'Tnfaip2', 'Tank', 'Kynu'}\n"
     ]
    }
   ],
   "source": [
    "# Overlap of upregulated genes\n",
    "overlap_up_cupr = set_Cupr_de_DAMs_up & set_Cupr_re_DAMs_up - set_LPC_de_BAMs_up - set_LPC_de_DAMs_up - set_LPC_re_DAMs_up\n",
    "print(\"Number of overlapping upregulated genes:\", len(overlap_up_cupr))\n",
    "print(\"Overlapping upregulated genes:\", overlap_up_cupr)"
   ]
  },
  {
   "cell_type": "code",
   "execution_count": 30,
   "id": "d100398e",
   "metadata": {},
   "outputs": [
    {
     "name": "stdout",
     "output_type": "stream",
     "text": [
      "Number of overlapping upregulated genes: 213\n",
      "Overlapping upregulated genes: {'March7', 'Xrn2', 'Sbno1', 'Baz1a', 'Usp45', 'Kansl1l', 'Nup153', 'Ubp1', 'Tardbp', 'Snhg1', 'Ubxn4', 'Tnpo2', 'Ubap2l', 'Ddx17', 'Fam133b', 'Spag9', 'Baz2b', 'Lncpint', 'Ccnh', 'Eml4', 'Gm47283', 'Vps26a', 'Kptn', 'Katna1', 'Wasf2', 'Srsf6', 'Tnrc6a', 'Ankrd17', 'Exoc3', 'Eif3j1', 'Kdm5a', 'Kdm1b', 'Ddx18', 'Smcr8', 'Mtrex', 'Abi1', 'Map3k8', 'Stk40', 'Cacul1', 'Mapk6', 'Plcl1', 'Zfp994', 'Nktr', 'Pcsk7', 'Lats1', 'Rbm5', 'Gmfb', 'Ywhag', 'Fbxo34', 'Vps4b', 'Nsrp1', 'Arfgef1', 'Nol8', 'Abcb1b', 'Ppp2r3c', 'Mdc1', 'Nmt2', 'Cpeb2', 'Hnrnpa2b1', 'Gnb1', 'Cwc25', 'Stk4', 'Cks2', 'Dpp8', 'Trim56', 'Jup', 'Sec16a', 'Bdp1', 'Dhx15', 'Tor1aip2', 'Dnajc1', 'Pou2f1', 'Fbxw11', 'Acsl4', 'Slc25a33', 'Retreg1', 'Trmt61b', 'Rdh5', 'Slc9a8', 'Kmt2a', 'Pex3', 'Luc7l3', 'Fbxl17', 'Camk1d', 'Cpeb4', 'Cstf3', 'Fubp1', 'Spred2', 'Pak2', 'Ppp2r2d', 'Ogt', 'Mplkip', 'Rap1gds1', 'Ubap2', 'Rtf1', 'Fam214b', 'Rap1b', 'Atp6v0a1', 'Rnf19a', 'Memo1', 'Tbc1d31', 'Capn11', 'Slc35d2', 'Brwd3', 'Eif4enif1', 'Rasa1', 'Nop14', 'Ppp1r11', 'Ddx19b', 'Prkcb', 'Ccdc9', 'Myo9a', 'Psme4', 'Utp18', '5430427O19Rik', 'Smc1a', 'Rcc2', 'Atf6', 'Arl13b', 'Rad51b', 'Morf4l2', 'Zfp800', 'Arl5b', 'Ap2b1', 'Pgap2', 'Pdgfb', 'Med12', 'Ash1l', 'Mex3c', 'Mib1', 'Socs7', 'Pygb', 'Rbbp8', 'Tet3', 'Luzp1', 'Nbeal1', 'Sertad2', 'Wdr26', 'Setd5', 'Ccdc82', 'Nckap1l', '1810013L24Rik', 'Wipf1', 'Tmem245', 'Zfp622', 'Spty2d1', 'Rab8b', 'Ago1', 'Ncl', 'Pygo2', 'Trip12', 'Arhgef2', 'Ltv1', 'Ddx21', 'Dock2', 'Nupr1', 'Galnt1', 'Nadk', 'Rbm14', 'Sf3b1', 'Suz12', 'Celf1', 'Mbd1', 'Rbm33', 'Mapk1ip1l', 'Usp7', 'Aim2', 'Ehmt1', 'Pus10', 'Atf7', 'Tcf20', 'Fbxo11', 'Rrbp1', 'Cluap1', 'Kif3b', 'Dhx40', 'Fkrp', 'Gm11613', 'Ywhaz', 'Rnmt', 'Atf4', 'Rap2c', 'Kcnq1ot1', 'Creb1', 'Bzw1', 'Mindy3', 'Slc7a1', 'Cul3', 'Golph3', 'Usp16', 'Skap2', 'Msl2', 'Hnrnpm', 'Tubb4b', 'Rad54l2', 'Sh3kbp1', 'Ggnbp2', 'Gm9993', 'Prrc2c', 'Aak1', 'Far1', 'Rnf44', 'Mapre1', 'Sec24a', 'Pdss1', 'Mrps6', 'Phtf1', 'Ier2', 'Gt(ROSA)26Sor', 'Nuak2', 'Hnrnpc', 'Itprid2', 'Cnot1'}\n"
     ]
    }
   ],
   "source": [
    "# Overlap of upregulated genes\n",
    "overlap_down_lpc = set_LPC_de_BAMs_down & set_LPC_de_DAMs_down & set_LPC_re_DAMs_down - set_Cupr_de_DAMs_down - set_Cupr_re_DAMs_down\n",
    "print(\"Number of overlapping upregulated genes:\", len(overlap_down_lpc))\n",
    "print(\"Overlapping upregulated genes:\", overlap_down_lpc)"
   ]
  },
  {
   "cell_type": "code",
   "execution_count": 31,
   "id": "061d3790",
   "metadata": {},
   "outputs": [
    {
     "name": "stdout",
     "output_type": "stream",
     "text": [
      "Number of overlapping upregulated genes: 54\n",
      "Overlapping upregulated genes: {'Cdk5rap1', 'Cln8', '9130230L23Rik', 'Ppp2cb', 'E130309D02Rik', 'Tbp', 'Zfp606', 'Tent4b', 'Usf1', 'Amd1', 'Tnfaip8l2', 'Lgmn', 'Arrdc3', 'Saraf', 'Cnpy3', 'Zfp668', 'Micu3', 'Dusp1', 'Zfp398', 'Slc44a2', 'St6galnac4', 'Zfp512b', 'Mbip', 'Mtmr10', 'Vps33b', 'Cep192', '4930414N06Rik', 'Trmt1l', 'Emsy', 'Zfp282', 'Slc37a3', 'Jmy', 'Patz1', 'Mtif3', 'Ube2a', 'Adamts6', 'Necap1', 'Deaf1', 'Edem3', 'Rbfa', 'Mrgbp', 'Rmdn1', 'Slx4ip', 'Zfp746', 'Nelfa', 'Dnmbp', '9930021J03Rik', 'Kansl2', 'Zfp157', 'Rgs1', 'Sla', 'N4bp2l1', '2010315B03Rik', 'Strbp'}\n"
     ]
    }
   ],
   "source": [
    "# Overlap of upregulated genes\n",
    "overlap_down_cupr = set_Cupr_de_DAMs_down & set_Cupr_re_DAMs_down - set_LPC_de_BAMs_down - set_LPC_de_DAMs_down - set_LPC_re_DAMs_down\n",
    "print(\"Number of overlapping upregulated genes:\", len(overlap_down_cupr))\n",
    "print(\"Overlapping upregulated genes:\", overlap_down_cupr)"
   ]
  },
  {
   "cell_type": "code",
   "execution_count": 32,
   "id": "edb7e90a",
   "metadata": {},
   "outputs": [
    {
     "name": "stdout",
     "output_type": "stream",
     "text": [
      "Number of overlapping upregulated genes: 101\n",
      "Overlapping upregulated genes: {'Lsm4', 'Mpp1', 'Abcg1', 'Ap1s1', 'Gm17018', '2310039H08Rik', 'Serpinb6a', 'Rab32', 'Galc', 'Gba', 'Prdx4', 'Sp100', 'Abr', 'Cox5a', 'Tmem160', 'Gramd1b', 'Nbdy', 'Pfdn1', 'Arhgap19', 'Mrpl51', 'Gng5', 'Rida', 'Lamtor2', 'Eif3h', 'Micos10', 'Psmg4', 'Rpl36al', 'Pgls', 'Arl11', 'Mrpl42', 'Gnptab', 'Snrnp25', 'Hscb', 'Tecpr1', 'Trappc2l', 'Mrpl21', 'Tma7', 'Sdhc', 'Bag1', 'Ap2s1', 'Bri3bp', 'Grn', 'Timm8b', 'Mrpl33', 'Rps12', 'Sap30', 'Plin3', 'Trappc6a', 'Ddx41', 'Dnajb14', 'Ola1', 'Hacd4', 'Mrpl54', 'Mvb12a', 'Mrpl27', 'Sntb2', 'Rpl12', 'Mrps28', 'Tnni2', 'Iqsec1', 'Llph', 'Pdap1', 'Htatip2', 'Vps29', 'Pdcd6', '0610012G03Rik', 'Slc38a6', 'Cenpx', 'Ttyh2', 'Mpc1', 'Fuca1', 'Osbpl3', 'Atpif1', 'Gusb', 'Acaa2', 'Ethe1', 'Asna1', 'Slc36a4', 'Tmem80', 'Mrps21', 'Ift57', 'Anp32b', 'Xaf1', 'Ap3s1', 'Glmp', 'Adap1', 'Atp6v1b2', 'Myl6', 'Bak1', 'Fxn', 'Mrps14', 'Slirp', 'Esd', 'Mcee', 'Smn1', 'Psat1', 'Mcm6', 'Ube2l3', 'Fkbp2', 'Lyst', 'Cops9'}\n"
     ]
    }
   ],
   "source": [
    "# Overlap of upregulated genes\n",
    "overlap_up_demyel = set_Cupr_de_DAMs_up &  set_LPC_de_BAMs_up & set_LPC_de_DAMs_up - set_LPC_re_DAMs_up - set_Cupr_re_DAMs_up\n",
    "print(\"Number of overlapping upregulated genes:\", len(overlap_up_demyel))\n",
    "print(\"Overlapping upregulated genes:\", overlap_up_demyel)"
   ]
  },
  {
   "cell_type": "code",
   "execution_count": 33,
   "id": "f81e1497",
   "metadata": {},
   "outputs": [
    {
     "name": "stdout",
     "output_type": "stream",
     "text": [
      "Number of overlapping upregulated genes: 360\n",
      "Overlapping upregulated genes: {'Tcf3', 'Dnajc18', 'Grk2', 'Hfe', 'Gm42659', 'Gm46430', 'Mfap1a', 'Ipcef1', 'Gxylt1', 'Ccdc61', 'Cyp27a1', '4833411C07Rik', 'Rgl1', 'Mus81', 'Usp35', 'Naalad2', 'Bcl6', 'Tbc1d14', 'Nfyc', 'Fcgrt', 'Ddx20', 'Gmeb1', 'Adck1', 'Zfp105', 'Ppox', 'Exoc6', 'Azi2', 'Pus3', 'Themis2', 'Pkd1', 'Arfgap2', 'Traf6', 'Adck5', 'Dgka', 'Supt6', 'Upf1', 'Rprd1a', 'Ube2s', 'Eno3', 'Prr14l', 'Sult1a1', 'Fam53b', 'Mapk1ip1', 'Gatad2a', 'Xpnpep3', 'Notch2', 'Stn1', 'Birc3', 'Brat1', 'Cpsf7', 'Ppp1r37', 'Ap3m2', 'Bend6', 'Wiz', 'Mis12', 'Stat5a', '6330418K02Rik', 'Gm12216', 'Matk', 'Mier3', 'Gm16740', 'Hic2', 'Arid1b', 'Zfp787', 'Ring1', 'Btbd19', 'Cars', 'Xrcc4', 'Cabin1', 'Padi2', 'Mfap1b', 'Man1a', 'Rffl', 'Ttc39b', 'Hnrnpl', 'Tor1aip1', 'Rnf103', 'Hnrnph3', 'Safb', 'Akt2', 'Mtmr1', 'Clec4a2', 'Kcnrg', 'Ptbp3', 'Pex6', 'Tut1', 'Cdc42ep4', 'Agbl3', 'B3gnt2', 'Zfp597', 'Afmid', 'Chuk', 'Eed', 'Poldip3', 'Als2', 'Cpsf3', 'Clec4a3', 'Donson', 'Esrra', 'Rnf138', 'Gm26549', 'Zfp68', 'Prpf6', 'Pfkfb4', 'Myo1c', 'Rgl2', 'Il4ra', 'Qtrt1', 'Map2k1', 'Map4k2', 'Zfp598', 'Rft1', '1600020E01Rik', 'Gm30541', 'Zfp934', 'Nsun3', 'Ddx43', 'Sbds', 'Gm20045', 'Tiprl', 'Fmnl1', 'Rela', 'Kat5', 'Was', 'Atp6ap2', '4833418N02Rik', 'Mtf2', 'Hnmt', 'Zfp770', 'Mynn', 'Rnf19b', 'Sema4c', 'Polg', 'Dtx2', 'Il1rl2', 'Uimc1', 'Ptpn2', 'Clp1', '2310033P09Rik', 'Arl10', 'Batf3', 'Gtf3c2', 'Irf1', 'Ints10', 'Klhl18', 'Gsdmd', 'Picalm', 'Fam217b', 'Cnbd2', 'Bcor', 'Lipc', 'Prkcd', 'Atp6v1g2', 'Ccnl2', 'Yme1l1', 'Mib2', 'Zyg11b', 'Tmc4', 'Dgkh', 'Trmo', 'Casc3', 'Uck1', 'Mob3a', 'Gm28198', 'Strip1', 'Ccdc134', 'Gpr146', 'Gm15478', 'Neurl1a', 'Trim26', 'Rai1', 'Rnf24', 'Pdss2', 'Atl2', 'Kctd21', 'Kctd20', 'Lbr', 'Gm27241', 'Phf1', 'Rbm15', 'Gm14634', 'Zfp592', 'Pla2g15', 'B4galt1', 'Gpatch3', 'C87436', 'Ankrd54', 'Champ1', 'AU019990', 'Igf2bp2', 'Rbbp6', 'Sugp2', 'Mier2', 'Wipf2', 'Gm16541', 'Ndel1', 'Cyp4f13', 'Ppp6c', 'Elac1', '1300002E11Rik', 'Leng1', 'Eefsec', 'Rnf215', 'Oprm1', 'Klhl26', 'Leng8', 'Fxr2', 'Zfand3', '2700038G22Rik', 'Pias1', 'Pigb', 'Med7', 'Fuz', 'Gm10353', 'Il17ra', 'A630001G21Rik', '2610037D02Rik', 'Arrdc1', 'Nckipsd', 'E130307A14Rik', 'Fam120b', 'Afap1l1', 'Akap8', 'Gm20234', 'Hyal1', 'Ndufaf7', 'Soga1', 'Ttpal', 'Mapkbp1', 'Plk3', 'Cbx7', 'Nfatc2ip', 'Rnf6', 'Ccdc174', 'Dhx8', 'Zfp868', 'Rogdi', 'Ildr1', 'Srcap', 'Gpr160', 'Elf4', 'Atf1', 'Phf23', 'Ncf2', 'Rp2', 'Gm43305', 'Terf1', 'Top3b', 'Traf2', 'Ppil4', 'Zfp512', 'Bcas3', 'Bclaf1', 'Gm20274', 'Hspa12a', 'Tfeb', 'Cse1l', 'Spata1', 'Zeb2os', 'Ebi3', 'Axin1', 'Fmo5', 'Cd82', 'Gm34455', 'Rxrb', 'Clk3', 'Sf1', 'Map3k11', 'Pds5a', 'Rassf2', '1110051M20Rik', 'Bag3', 'Cic', 'Irgm2', 'Kmt5c', 'Zbtb1', 'P2rx7', 'Urgcp', 'Trappc12', 'Ccm2', 'Lysmd3', 'Trmt2a', 'Pbx2', 'Slc17a9', 'Dguok', 'Taz', 'Mterf3', 'Ncoa5', 'Gatb', 'Toe1', 'Prkch', 'Pros1', 'Gm13427', 'Zbtb34', 'Bco2', 'Zfr2', 'Ythdf2', '2700097O09Rik', 'Phf12', 'Ppp5c', 'Snx11', 'Plcb3', 'A530072M11Rik', 'Gk5', 'Slc29a1', 'Apbb3', 'Zfyve28', 'Uso1', '4930599N23Rik', 'Oard1', 'Ccdc130', 'Kmt2d', 'Fbxo46', 'Exosc10', 'Ing5', 'Birc2', 'Gm47754', 'Akap8l', 'Nup98', 'Thap3', '3110056K07Rik', 'Adap2os', 'Primpol', 'Gtf2i', 'Arsk', 'Tsen2', 'Zxdc', 'Tlr6', 'Sh3bp1', 'Ccdc88b', 'Srbd1', 'Rbm4', 'Esr1', 'Daglb', 'Ubr1', 'Rab10os', 'Micu1', 'Rbbp4', 'Myh9', 'H2-Q4', 'Ercc2', 'BC005561', 'Gm26826', 'Lmbr1l', 'Maml1', 'Pex5', 'Cbfb', 'Gm27003', 'Zfp397', 'Lag3', 'Rassf1', 'Ppm1d', 'Cpsf6', '2410002F23Rik', 'Kdm5c', 'Myd88', 'Per1', 'Wdr37', 'Nrf1', 'Foxk2'}\n"
     ]
    }
   ],
   "source": [
    "# Overlap of upregulated genes\n",
    "overlap_down_demyel = set_Cupr_de_DAMs_down &  set_LPC_de_BAMs_down & set_LPC_de_DAMs_down - set_LPC_re_DAMs_down - set_Cupr_re_DAMs_down\n",
    "print(\"Number of overlapping upregulated genes:\", len(overlap_down_demyel))\n",
    "print(\"Overlapping upregulated genes:\", overlap_down_demyel)"
   ]
  },
  {
   "cell_type": "code",
   "execution_count": 34,
   "id": "e8d6255e",
   "metadata": {},
   "outputs": [
    {
     "name": "stdout",
     "output_type": "stream",
     "text": [
      "Number of overlapping upregulated genes: 149\n",
      "Number of overlapping upregulated genes: 101\n",
      "Number of overlapping upregulated genes: 136\n",
      "Number of overlapping upregulated genes: 49\n",
      "Number of overlapping upregulated genes: 54\n",
      "Number of overlapping upregulated genes: 213\n",
      "Number of overlapping upregulated genes: 360\n",
      "Number of overlapping upregulated genes: 638\n"
     ]
    }
   ],
   "source": [
    "print(\"Number of overlapping upregulated genes:\", len(overlap_up_all))\n",
    "print(\"Number of overlapping upregulated genes:\", len(overlap_up_demyel))\n",
    "print(\"Number of overlapping upregulated genes:\", len(overlap_up_lpc))\n",
    "print(\"Number of overlapping upregulated genes:\", len(overlap_up_cupr))\n",
    "print(\"Number of overlapping upregulated genes:\", len(overlap_down_cupr))\n",
    "print(\"Number of overlapping upregulated genes:\", len(overlap_down_lpc))\n",
    "print(\"Number of overlapping upregulated genes:\", len(overlap_down_demyel))\n",
    "print(\"Number of overlapping upregulated genes:\", len(overlap_down_all))"
   ]
  },
  {
   "cell_type": "code",
   "execution_count": 35,
   "id": "384449ce",
   "metadata": {},
   "outputs": [],
   "source": [
    "# Assuming the gene lists are already defined in Python\n",
    "gene_lists = [\n",
    "    overlap_up_all, overlap_up_demyel, overlap_up_lpc, overlap_up_cupr,\n",
    "    overlap_down_cupr, overlap_down_lpc, overlap_down_demyel, overlap_down_all\n",
    "]\n",
    "\n",
    "# Flatten the lists and remove duplicates\n",
    "all_genes = list(set().union(*gene_lists))\n",
    "\n",
    "# Save to CSV for import into R\n",
    "pd.DataFrame(all_genes, columns=[\"genes\"]).to_csv(\"genes_for_heatmap.csv\", index=False)"
   ]
  },
  {
   "cell_type": "code",
   "execution_count": 36,
   "id": "4b4d81cd",
   "metadata": {},
   "outputs": [
    {
     "name": "stdout",
     "output_type": "stream",
     "text": [
      "     gene category\n",
      "0    Got1   Up_all\n",
      "1    Nme2   Up_all\n",
      "2   Rell1   Up_all\n",
      "3     Fn1   Up_all\n",
      "4  Arrdc4   Up_all\n"
     ]
    }
   ],
   "source": [
    "gene_lists = [\n",
    "    ('Up_all', overlap_up_all),\n",
    "    ('Up_demyel', overlap_up_demyel),\n",
    "    ('Up_LPC', overlap_up_lpc),\n",
    "    ('Up_Cupr', overlap_up_cupr),\n",
    "    ('Down_Cupr', overlap_down_cupr),\n",
    "    ('Down_LPC', overlap_down_lpc),\n",
    "    ('Down_demyel', overlap_down_demyel),\n",
    "    ('Down_all', overlap_down_all)\n",
    "]\n",
    "\n",
    "# Flatten the lists and create a new DataFrame\n",
    "all_genes = []\n",
    "for label, gene_list in gene_lists:\n",
    "    all_genes.extend([(gene, label) for gene in gene_list])\n",
    "\n",
    "# Convert to DataFrame\n",
    "df_genes = pd.DataFrame(all_genes, columns=[\"gene\", \"category\"])\n",
    "\n",
    "# Save to CSV\n",
    "df_genes.to_csv(\"genes_for_heatmap_with_labels.csv\", index=False)\n",
    "\n",
    "# Confirming the CSV output\n",
    "print(df_genes.head())"
   ]
  },
  {
   "cell_type": "code",
   "execution_count": null,
   "id": "426ea634",
   "metadata": {},
   "outputs": [],
   "source": []
  }
 ],
 "metadata": {
  "kernelspec": {
   "display_name": "Python 3 (ipykernel)",
   "language": "python",
   "name": "python3"
  },
  "language_info": {
   "codemirror_mode": {
    "name": "ipython",
    "version": 3
   },
   "file_extension": ".py",
   "mimetype": "text/x-python",
   "name": "python",
   "nbconvert_exporter": "python",
   "pygments_lexer": "ipython3",
   "version": "3.11.11"
  }
 },
 "nbformat": 4,
 "nbformat_minor": 5
}

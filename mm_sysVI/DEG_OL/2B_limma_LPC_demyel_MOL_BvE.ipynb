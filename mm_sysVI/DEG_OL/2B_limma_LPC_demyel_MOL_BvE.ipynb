{
 "cells": [
  {
   "cell_type": "code",
   "execution_count": 1,
   "id": "a4107cb9",
   "metadata": {},
   "outputs": [],
   "source": [
    "import warnings\n",
    "\n",
    "warnings.filterwarnings(\"ignore\")\n",
    "\n",
    "import matplotlib.pyplot as plt\n",
    "import seaborn as sns\n",
    "import scanpy as sc\n",
    "import pandas as pd\n",
    "import numpy as np\n",
    "import random\n",
    "import sc_toolbox\n",
    "import pertpy \n",
    "\n",
    "import rpy2.rinterface_lib.callbacks\n",
    "import anndata2ri\n",
    "import logging\n",
    "\n",
    "from rpy2.robjects import pandas2ri\n",
    "from rpy2.robjects import r\n",
    "\n",
    "sc.settings.verbosity = 0\n",
    "rpy2.rinterface_lib.callbacks.logger.setLevel(logging.ERROR)\n",
    "\n",
    "pandas2ri.activate()\n",
    "anndata2ri.activate()\n",
    "\n",
    "%load_ext rpy2.ipython"
   ]
  },
  {
   "cell_type": "code",
   "execution_count": 2,
   "id": "cd2ae648",
   "metadata": {},
   "outputs": [
    {
     "data": {
      "text/plain": [
       "Loading required package: limma\n"
      ]
     },
     "metadata": {},
     "output_type": "display_data"
    }
   ],
   "source": [
    "%%R\n",
    "library(edgeR)"
   ]
  },
  {
   "cell_type": "markdown",
   "id": "f783decd",
   "metadata": {},
   "source": [
    "# Running on XX cell types"
   ]
  },
  {
   "cell_type": "code",
   "execution_count": 3,
   "id": "1c0c911f",
   "metadata": {},
   "outputs": [
    {
     "data": {
      "text/plain": [
       "AnnData object with n_obs × n_vars = 127 × 19304\n",
       "    obs: 'publication', 'label', 'cell_type', 'replicate_cat', 'sample', 'sample_rep', 'batch', 'lib_size', 'log_lib_size', 'replicate'\n",
       "    uns: 'cell_type_colors', 'label_colors', 'log1p', 'pca', 'publication_colors', 'replicate_cat_colors', 'sample_colors', 'sample_rep_colors'\n",
       "    obsm: 'X_pca'\n",
       "    varm: 'PCs'\n",
       "    layers: 'counts'"
      ]
     },
     "execution_count": 3,
     "metadata": {},
     "output_type": "execute_result"
    }
   ],
   "source": [
    "adata_pb = sc.read('./pb_adata_LPC_sep.h5ad')\n",
    "adata_pb"
   ]
  },
  {
   "cell_type": "code",
   "execution_count": 4,
   "id": "9c81bbd6",
   "metadata": {},
   "outputs": [
    {
     "data": {
      "text/html": [
       "<div>\n",
       "<style scoped>\n",
       "    .dataframe tbody tr th:only-of-type {\n",
       "        vertical-align: middle;\n",
       "    }\n",
       "\n",
       "    .dataframe tbody tr th {\n",
       "        vertical-align: top;\n",
       "    }\n",
       "\n",
       "    .dataframe thead th {\n",
       "        text-align: right;\n",
       "    }\n",
       "</style>\n",
       "<table border=\"1\" class=\"dataframe\">\n",
       "  <thead>\n",
       "    <tr style=\"text-align: right;\">\n",
       "      <th>label</th>\n",
       "      <th>ctrl</th>\n",
       "      <th>stim</th>\n",
       "    </tr>\n",
       "    <tr>\n",
       "      <th>cell_type</th>\n",
       "      <th></th>\n",
       "      <th></th>\n",
       "    </tr>\n",
       "  </thead>\n",
       "  <tbody>\n",
       "    <tr>\n",
       "      <th>COPs</th>\n",
       "      <td>3</td>\n",
       "      <td>6</td>\n",
       "    </tr>\n",
       "    <tr>\n",
       "      <th>MFOLs</th>\n",
       "      <td>5</td>\n",
       "      <td>5</td>\n",
       "    </tr>\n",
       "    <tr>\n",
       "      <th>MOL_A</th>\n",
       "      <td>3</td>\n",
       "      <td>3</td>\n",
       "    </tr>\n",
       "    <tr>\n",
       "      <th>MOL_B</th>\n",
       "      <td>5</td>\n",
       "      <td>9</td>\n",
       "    </tr>\n",
       "    <tr>\n",
       "      <th>MOL_C</th>\n",
       "      <td>5</td>\n",
       "      <td>8</td>\n",
       "    </tr>\n",
       "    <tr>\n",
       "      <th>MOL_D</th>\n",
       "      <td>5</td>\n",
       "      <td>9</td>\n",
       "    </tr>\n",
       "    <tr>\n",
       "      <th>MOL_E</th>\n",
       "      <td>4</td>\n",
       "      <td>9</td>\n",
       "    </tr>\n",
       "    <tr>\n",
       "      <th>MOL_F</th>\n",
       "      <td>3</td>\n",
       "      <td>9</td>\n",
       "    </tr>\n",
       "    <tr>\n",
       "      <th>MOL_G</th>\n",
       "      <td>3</td>\n",
       "      <td>3</td>\n",
       "    </tr>\n",
       "    <tr>\n",
       "      <th>NFOLs</th>\n",
       "      <td>1</td>\n",
       "      <td>6</td>\n",
       "    </tr>\n",
       "    <tr>\n",
       "      <th>OPCs</th>\n",
       "      <td>5</td>\n",
       "      <td>9</td>\n",
       "    </tr>\n",
       "    <tr>\n",
       "      <th>cycl_OPCs</th>\n",
       "      <td>2</td>\n",
       "      <td>7</td>\n",
       "    </tr>\n",
       "  </tbody>\n",
       "</table>\n",
       "</div>"
      ],
      "text/plain": [
       "label      ctrl  stim\n",
       "cell_type            \n",
       "COPs          3     6\n",
       "MFOLs         5     5\n",
       "MOL_A         3     3\n",
       "MOL_B         5     9\n",
       "MOL_C         5     8\n",
       "MOL_D         5     9\n",
       "MOL_E         4     9\n",
       "MOL_F         3     9\n",
       "MOL_G         3     3\n",
       "NFOLs         1     6\n",
       "OPCs          5     9\n",
       "cycl_OPCs     2     7"
      ]
     },
     "execution_count": 4,
     "metadata": {},
     "output_type": "execute_result"
    }
   ],
   "source": [
    "# Extract the data as a pandas DataFrame\n",
    "df = adata_pb.obs[['cell_type', 'label']]\n",
    "\n",
    "# Create a summary table\n",
    "summary_table = df.groupby(['cell_type', 'label']).size().unstack(fill_value=0)\n",
    "summary_table"
   ]
  },
  {
   "cell_type": "code",
   "execution_count": 5,
   "id": "9e5a3fe0",
   "metadata": {},
   "outputs": [
    {
     "name": "stdout",
     "output_type": "stream",
     "text": [
      "Dimensions of adata_sub: (27, 19304)\n"
     ]
    }
   ],
   "source": [
    "adata_sub= adata_pb[np.in1d(adata_pb.obs['cell_type'], \n",
    "                           ['MOL_B', 'MOL_E'])].copy()\n",
    "\n",
    "print(\"Dimensions of adata_sub:\", adata_sub.shape)"
   ]
  },
  {
   "cell_type": "code",
   "execution_count": 6,
   "id": "860aa9d1",
   "metadata": {},
   "outputs": [],
   "source": [
    "pub_map = {\n",
    "    '(this study)': 'Adams',\n",
    "    'Pandey et al. 2022': 'Pandey'\n",
    "}\n",
    "\n",
    "# Update the 'treatment_meta' column based on the mapping\n",
    "adata_sub.obs['batch'] = adata_sub.obs['publication'].map(pub_map)"
   ]
  },
  {
   "cell_type": "code",
   "execution_count": 7,
   "id": "5c9e6461",
   "metadata": {},
   "outputs": [],
   "source": [
    "# Concatenate 'individual_lesion_condition' and 'replicate' to create 'sample'\n",
    "adata_sub.obs['cell_type_sample'] = adata_sub.obs['cell_type'].astype(str) + '_' + adata_sub.obs['sample_rep'].astype(str)"
   ]
  },
  {
   "cell_type": "code",
   "execution_count": 8,
   "id": "5df79ed2",
   "metadata": {},
   "outputs": [
    {
     "data": {
      "text/html": [
       "<div>\n",
       "<style scoped>\n",
       "    .dataframe tbody tr th:only-of-type {\n",
       "        vertical-align: middle;\n",
       "    }\n",
       "\n",
       "    .dataframe tbody tr th {\n",
       "        vertical-align: top;\n",
       "    }\n",
       "\n",
       "    .dataframe thead th {\n",
       "        text-align: right;\n",
       "    }\n",
       "</style>\n",
       "<table border=\"1\" class=\"dataframe\">\n",
       "  <thead>\n",
       "    <tr style=\"text-align: right;\">\n",
       "      <th></th>\n",
       "      <th>publication</th>\n",
       "      <th>label</th>\n",
       "      <th>cell_type</th>\n",
       "      <th>replicate_cat</th>\n",
       "      <th>sample</th>\n",
       "      <th>sample_rep</th>\n",
       "      <th>batch</th>\n",
       "      <th>lib_size</th>\n",
       "      <th>log_lib_size</th>\n",
       "      <th>replicate</th>\n",
       "      <th>cell_type_sample</th>\n",
       "    </tr>\n",
       "  </thead>\n",
       "  <tbody>\n",
       "    <tr>\n",
       "      <th>donor_ctrl_1_0-1-0-0-0-0-0</th>\n",
       "      <td>(this study)</td>\n",
       "      <td>ctrl</td>\n",
       "      <td>MOL_B</td>\n",
       "      <td>1</td>\n",
       "      <td>ctrl_1</td>\n",
       "      <td>LPC_Saline_2</td>\n",
       "      <td>Adams</td>\n",
       "      <td>795431</td>\n",
       "      <td>13.586639</td>\n",
       "      <td>1</td>\n",
       "      <td>MOL_B_LPC_Saline_2</td>\n",
       "    </tr>\n",
       "    <tr>\n",
       "      <th>donor_ctrl_2_0-1-0-0-0-0-0</th>\n",
       "      <td>(this study)</td>\n",
       "      <td>ctrl</td>\n",
       "      <td>MOL_B</td>\n",
       "      <td>2</td>\n",
       "      <td>ctrl_2</td>\n",
       "      <td>LPC_Saline_1</td>\n",
       "      <td>Adams</td>\n",
       "      <td>1609327</td>\n",
       "      <td>14.291327</td>\n",
       "      <td>2</td>\n",
       "      <td>MOL_B_LPC_Saline_1</td>\n",
       "    </tr>\n",
       "    <tr>\n",
       "      <th>donor_ctrl_3_0-1-0-0-0-0-0</th>\n",
       "      <td>Pandey et al. 2022</td>\n",
       "      <td>ctrl</td>\n",
       "      <td>MOL_B</td>\n",
       "      <td>3</td>\n",
       "      <td>ctrl_3</td>\n",
       "      <td>LPC_ctrl_3</td>\n",
       "      <td>Pandey</td>\n",
       "      <td>1443669</td>\n",
       "      <td>14.182698</td>\n",
       "      <td>3</td>\n",
       "      <td>MOL_B_LPC_ctrl_3</td>\n",
       "    </tr>\n",
       "    <tr>\n",
       "      <th>donor_ctrl_4_0-1-0-0-0-0-0</th>\n",
       "      <td>Pandey et al. 2022</td>\n",
       "      <td>ctrl</td>\n",
       "      <td>MOL_B</td>\n",
       "      <td>4</td>\n",
       "      <td>ctrl_4</td>\n",
       "      <td>LPC_ctrl_2</td>\n",
       "      <td>Pandey</td>\n",
       "      <td>13068125</td>\n",
       "      <td>16.385687</td>\n",
       "      <td>4</td>\n",
       "      <td>MOL_B_LPC_ctrl_2</td>\n",
       "    </tr>\n",
       "    <tr>\n",
       "      <th>donor_ctrl_5_0-1-0-0-0-0-0</th>\n",
       "      <td>Pandey et al. 2022</td>\n",
       "      <td>ctrl</td>\n",
       "      <td>MOL_B</td>\n",
       "      <td>5</td>\n",
       "      <td>ctrl_5</td>\n",
       "      <td>LPC_ctrl_1</td>\n",
       "      <td>Pandey</td>\n",
       "      <td>5994797</td>\n",
       "      <td>15.606402</td>\n",
       "      <td>5</td>\n",
       "      <td>MOL_B_LPC_ctrl_1</td>\n",
       "    </tr>\n",
       "  </tbody>\n",
       "</table>\n",
       "</div>"
      ],
      "text/plain": [
       "                                   publication label cell_type replicate_cat  \\\n",
       "donor_ctrl_1_0-1-0-0-0-0-0        (this study)  ctrl     MOL_B             1   \n",
       "donor_ctrl_2_0-1-0-0-0-0-0        (this study)  ctrl     MOL_B             2   \n",
       "donor_ctrl_3_0-1-0-0-0-0-0  Pandey et al. 2022  ctrl     MOL_B             3   \n",
       "donor_ctrl_4_0-1-0-0-0-0-0  Pandey et al. 2022  ctrl     MOL_B             4   \n",
       "donor_ctrl_5_0-1-0-0-0-0-0  Pandey et al. 2022  ctrl     MOL_B             5   \n",
       "\n",
       "                            sample    sample_rep   batch  lib_size  \\\n",
       "donor_ctrl_1_0-1-0-0-0-0-0  ctrl_1  LPC_Saline_2   Adams    795431   \n",
       "donor_ctrl_2_0-1-0-0-0-0-0  ctrl_2  LPC_Saline_1   Adams   1609327   \n",
       "donor_ctrl_3_0-1-0-0-0-0-0  ctrl_3    LPC_ctrl_3  Pandey   1443669   \n",
       "donor_ctrl_4_0-1-0-0-0-0-0  ctrl_4    LPC_ctrl_2  Pandey  13068125   \n",
       "donor_ctrl_5_0-1-0-0-0-0-0  ctrl_5    LPC_ctrl_1  Pandey   5994797   \n",
       "\n",
       "                            log_lib_size replicate    cell_type_sample  \n",
       "donor_ctrl_1_0-1-0-0-0-0-0     13.586639         1  MOL_B_LPC_Saline_2  \n",
       "donor_ctrl_2_0-1-0-0-0-0-0     14.291327         2  MOL_B_LPC_Saline_1  \n",
       "donor_ctrl_3_0-1-0-0-0-0-0     14.182698         3    MOL_B_LPC_ctrl_3  \n",
       "donor_ctrl_4_0-1-0-0-0-0-0     16.385687         4    MOL_B_LPC_ctrl_2  \n",
       "donor_ctrl_5_0-1-0-0-0-0-0     15.606402         5    MOL_B_LPC_ctrl_1  "
      ]
     },
     "execution_count": 8,
     "metadata": {},
     "output_type": "execute_result"
    }
   ],
   "source": [
    "adata_sub.obs[:5]"
   ]
  },
  {
   "cell_type": "markdown",
   "id": "e2f53bd1",
   "metadata": {},
   "source": [
    "# Subset for demyelination and remyelination MOL2 data"
   ]
  },
  {
   "cell_type": "code",
   "execution_count": 9,
   "id": "19c4e015",
   "metadata": {},
   "outputs": [
    {
     "name": "stdout",
     "output_type": "stream",
     "text": [
      "MOL_B_LPC_Saline_2\n",
      "MOL_B_LPC_Saline_1\n",
      "MOL_B_LPC_ctrl_3\n",
      "MOL_B_LPC_ctrl_2\n",
      "MOL_B_LPC_ctrl_1\n",
      "MOL_B_LPC_7d_2\n",
      "MOL_B_LPC_7d_1\n",
      "MOL_B_LPC_5d_1\n",
      "MOL_B_LPC_5d_3\n",
      "MOL_B_LPC_28d_3\n",
      "MOL_B_LPC_28d_1\n",
      "MOL_B_LPC_5d_2\n",
      "MOL_B_LPC_28d_2\n",
      "MOL_B_LPC_5d_4\n",
      "MOL_E_LPC_Saline_2\n",
      "MOL_E_LPC_Saline_1\n",
      "MOL_E_LPC_ctrl_2\n",
      "MOL_E_LPC_ctrl_1\n",
      "MOL_E_LPC_7d_2\n",
      "MOL_E_LPC_7d_1\n",
      "MOL_E_LPC_5d_1\n",
      "MOL_E_LPC_5d_3\n",
      "MOL_E_LPC_28d_3\n",
      "MOL_E_LPC_28d_1\n",
      "MOL_E_LPC_5d_2\n",
      "MOL_E_LPC_28d_2\n",
      "MOL_E_LPC_5d_4\n"
     ]
    }
   ],
   "source": [
    "# Unique values in the 'condition' column\n",
    "unique_conditions = adata_sub.obs['cell_type_sample'].unique()\n",
    "for condition in unique_conditions:\n",
    "    print(condition)"
   ]
  },
  {
   "cell_type": "code",
   "execution_count": 10,
   "id": "4a947f7b",
   "metadata": {},
   "outputs": [
    {
     "name": "stdout",
     "output_type": "stream",
     "text": [
      "Dimensions of adata_sub: (11, 19304)\n"
     ]
    }
   ],
   "source": [
    "adata_sub= adata_sub[np.in1d(adata_sub.obs['cell_type_sample'], \n",
    "                           [\n",
    "                              'MOL_B_LPC_Saline_2',\n",
    "                                'MOL_B_LPC_Saline_1',\n",
    "                                'MOL_B_LPC_ctrl_3',\n",
    "                                'MOL_B_LPC_ctrl_2',\n",
    "                                'MOL_B_LPC_ctrl_1',\n",
    "                                'MOL_E_LPC_7d_2',\n",
    "                                'MOL_E_LPC_7d_1',\n",
    "                                'MOL_E_LPC_5d_1',\n",
    "                                'MOL_E_LPC_5d_3',\n",
    "                                'MOL_E_LPC_5d_2',\n",
    "                                'MOL_E_LPC_5d_4',\n",
    "                           ])].copy()\n",
    "\n",
    "print(\"Dimensions of adata_sub:\", adata_sub.shape)"
   ]
  },
  {
   "cell_type": "code",
   "execution_count": 11,
   "id": "004f16ab",
   "metadata": {},
   "outputs": [],
   "source": [
    "# Check if the 'sample_rep' column exists\n",
    "if 'sample_rep' in adata_sub.obs.columns:\n",
    "    # Set the 'sample_rep' column as the index\n",
    "    adata_sub.obs.set_index('sample_rep', inplace=True)\n",
    "else:\n",
    "    print(\"The column 'sample_rep' does not exist in adata_sub.obs.\")\n",
    "\n",
    "adata_sub.obs.index.name = None"
   ]
  },
  {
   "cell_type": "code",
   "execution_count": 12,
   "id": "65c8ca68",
   "metadata": {},
   "outputs": [
    {
     "data": {
      "text/html": [
       "<div>\n",
       "<style scoped>\n",
       "    .dataframe tbody tr th:only-of-type {\n",
       "        vertical-align: middle;\n",
       "    }\n",
       "\n",
       "    .dataframe tbody tr th {\n",
       "        vertical-align: top;\n",
       "    }\n",
       "\n",
       "    .dataframe thead th {\n",
       "        text-align: right;\n",
       "    }\n",
       "</style>\n",
       "<table border=\"1\" class=\"dataframe\">\n",
       "  <thead>\n",
       "    <tr style=\"text-align: right;\">\n",
       "      <th></th>\n",
       "      <th>publication</th>\n",
       "      <th>label</th>\n",
       "      <th>cell_type</th>\n",
       "      <th>replicate_cat</th>\n",
       "      <th>sample</th>\n",
       "      <th>batch</th>\n",
       "      <th>lib_size</th>\n",
       "      <th>log_lib_size</th>\n",
       "      <th>replicate</th>\n",
       "      <th>cell_type_sample</th>\n",
       "    </tr>\n",
       "  </thead>\n",
       "  <tbody>\n",
       "    <tr>\n",
       "      <th>LPC_Saline_2</th>\n",
       "      <td>(this study)</td>\n",
       "      <td>ctrl</td>\n",
       "      <td>MOL_B</td>\n",
       "      <td>1</td>\n",
       "      <td>ctrl_1</td>\n",
       "      <td>Adams</td>\n",
       "      <td>795431</td>\n",
       "      <td>13.586639</td>\n",
       "      <td>1</td>\n",
       "      <td>MOL_B_LPC_Saline_2</td>\n",
       "    </tr>\n",
       "    <tr>\n",
       "      <th>LPC_Saline_1</th>\n",
       "      <td>(this study)</td>\n",
       "      <td>ctrl</td>\n",
       "      <td>MOL_B</td>\n",
       "      <td>2</td>\n",
       "      <td>ctrl_2</td>\n",
       "      <td>Adams</td>\n",
       "      <td>1609327</td>\n",
       "      <td>14.291327</td>\n",
       "      <td>2</td>\n",
       "      <td>MOL_B_LPC_Saline_1</td>\n",
       "    </tr>\n",
       "    <tr>\n",
       "      <th>LPC_ctrl_3</th>\n",
       "      <td>Pandey et al. 2022</td>\n",
       "      <td>ctrl</td>\n",
       "      <td>MOL_B</td>\n",
       "      <td>3</td>\n",
       "      <td>ctrl_3</td>\n",
       "      <td>Pandey</td>\n",
       "      <td>1443669</td>\n",
       "      <td>14.182698</td>\n",
       "      <td>3</td>\n",
       "      <td>MOL_B_LPC_ctrl_3</td>\n",
       "    </tr>\n",
       "    <tr>\n",
       "      <th>LPC_ctrl_2</th>\n",
       "      <td>Pandey et al. 2022</td>\n",
       "      <td>ctrl</td>\n",
       "      <td>MOL_B</td>\n",
       "      <td>4</td>\n",
       "      <td>ctrl_4</td>\n",
       "      <td>Pandey</td>\n",
       "      <td>13068125</td>\n",
       "      <td>16.385687</td>\n",
       "      <td>4</td>\n",
       "      <td>MOL_B_LPC_ctrl_2</td>\n",
       "    </tr>\n",
       "    <tr>\n",
       "      <th>LPC_ctrl_1</th>\n",
       "      <td>Pandey et al. 2022</td>\n",
       "      <td>ctrl</td>\n",
       "      <td>MOL_B</td>\n",
       "      <td>5</td>\n",
       "      <td>ctrl_5</td>\n",
       "      <td>Pandey</td>\n",
       "      <td>5994797</td>\n",
       "      <td>15.606402</td>\n",
       "      <td>5</td>\n",
       "      <td>MOL_B_LPC_ctrl_1</td>\n",
       "    </tr>\n",
       "    <tr>\n",
       "      <th>LPC_7d_2</th>\n",
       "      <td>(this study)</td>\n",
       "      <td>stim</td>\n",
       "      <td>MOL_E</td>\n",
       "      <td>1</td>\n",
       "      <td>stim_1</td>\n",
       "      <td>Adams</td>\n",
       "      <td>377751</td>\n",
       "      <td>12.841991</td>\n",
       "      <td>1</td>\n",
       "      <td>MOL_E_LPC_7d_2</td>\n",
       "    </tr>\n",
       "    <tr>\n",
       "      <th>LPC_7d_1</th>\n",
       "      <td>(this study)</td>\n",
       "      <td>stim</td>\n",
       "      <td>MOL_E</td>\n",
       "      <td>2</td>\n",
       "      <td>stim_2</td>\n",
       "      <td>Adams</td>\n",
       "      <td>440038</td>\n",
       "      <td>12.994616</td>\n",
       "      <td>2</td>\n",
       "      <td>MOL_E_LPC_7d_1</td>\n",
       "    </tr>\n",
       "    <tr>\n",
       "      <th>LPC_5d_1</th>\n",
       "      <td>Pandey et al. 2022</td>\n",
       "      <td>stim</td>\n",
       "      <td>MOL_E</td>\n",
       "      <td>3</td>\n",
       "      <td>stim_3</td>\n",
       "      <td>Pandey</td>\n",
       "      <td>1969417</td>\n",
       "      <td>14.493248</td>\n",
       "      <td>3</td>\n",
       "      <td>MOL_E_LPC_5d_1</td>\n",
       "    </tr>\n",
       "    <tr>\n",
       "      <th>LPC_5d_3</th>\n",
       "      <td>Pandey et al. 2022</td>\n",
       "      <td>stim</td>\n",
       "      <td>MOL_E</td>\n",
       "      <td>4</td>\n",
       "      <td>stim_4</td>\n",
       "      <td>Pandey</td>\n",
       "      <td>3989308</td>\n",
       "      <td>15.199128</td>\n",
       "      <td>4</td>\n",
       "      <td>MOL_E_LPC_5d_3</td>\n",
       "    </tr>\n",
       "    <tr>\n",
       "      <th>LPC_5d_2</th>\n",
       "      <td>Pandey et al. 2022</td>\n",
       "      <td>stim</td>\n",
       "      <td>MOL_E</td>\n",
       "      <td>7</td>\n",
       "      <td>stim_7</td>\n",
       "      <td>Pandey</td>\n",
       "      <td>1526888</td>\n",
       "      <td>14.238742</td>\n",
       "      <td>7</td>\n",
       "      <td>MOL_E_LPC_5d_2</td>\n",
       "    </tr>\n",
       "    <tr>\n",
       "      <th>LPC_5d_4</th>\n",
       "      <td>Pandey et al. 2022</td>\n",
       "      <td>stim</td>\n",
       "      <td>MOL_E</td>\n",
       "      <td>9</td>\n",
       "      <td>stim_9</td>\n",
       "      <td>Pandey</td>\n",
       "      <td>672564</td>\n",
       "      <td>13.418853</td>\n",
       "      <td>9</td>\n",
       "      <td>MOL_E_LPC_5d_4</td>\n",
       "    </tr>\n",
       "  </tbody>\n",
       "</table>\n",
       "</div>"
      ],
      "text/plain": [
       "                     publication label cell_type replicate_cat  sample  \\\n",
       "LPC_Saline_2        (this study)  ctrl     MOL_B             1  ctrl_1   \n",
       "LPC_Saline_1        (this study)  ctrl     MOL_B             2  ctrl_2   \n",
       "LPC_ctrl_3    Pandey et al. 2022  ctrl     MOL_B             3  ctrl_3   \n",
       "LPC_ctrl_2    Pandey et al. 2022  ctrl     MOL_B             4  ctrl_4   \n",
       "LPC_ctrl_1    Pandey et al. 2022  ctrl     MOL_B             5  ctrl_5   \n",
       "LPC_7d_2            (this study)  stim     MOL_E             1  stim_1   \n",
       "LPC_7d_1            (this study)  stim     MOL_E             2  stim_2   \n",
       "LPC_5d_1      Pandey et al. 2022  stim     MOL_E             3  stim_3   \n",
       "LPC_5d_3      Pandey et al. 2022  stim     MOL_E             4  stim_4   \n",
       "LPC_5d_2      Pandey et al. 2022  stim     MOL_E             7  stim_7   \n",
       "LPC_5d_4      Pandey et al. 2022  stim     MOL_E             9  stim_9   \n",
       "\n",
       "               batch  lib_size  log_lib_size replicate    cell_type_sample  \n",
       "LPC_Saline_2   Adams    795431     13.586639         1  MOL_B_LPC_Saline_2  \n",
       "LPC_Saline_1   Adams   1609327     14.291327         2  MOL_B_LPC_Saline_1  \n",
       "LPC_ctrl_3    Pandey   1443669     14.182698         3    MOL_B_LPC_ctrl_3  \n",
       "LPC_ctrl_2    Pandey  13068125     16.385687         4    MOL_B_LPC_ctrl_2  \n",
       "LPC_ctrl_1    Pandey   5994797     15.606402         5    MOL_B_LPC_ctrl_1  \n",
       "LPC_7d_2       Adams    377751     12.841991         1      MOL_E_LPC_7d_2  \n",
       "LPC_7d_1       Adams    440038     12.994616         2      MOL_E_LPC_7d_1  \n",
       "LPC_5d_1      Pandey   1969417     14.493248         3      MOL_E_LPC_5d_1  \n",
       "LPC_5d_3      Pandey   3989308     15.199128         4      MOL_E_LPC_5d_3  \n",
       "LPC_5d_2      Pandey   1526888     14.238742         7      MOL_E_LPC_5d_2  \n",
       "LPC_5d_4      Pandey    672564     13.418853         9      MOL_E_LPC_5d_4  "
      ]
     },
     "execution_count": 12,
     "metadata": {},
     "output_type": "execute_result"
    }
   ],
   "source": [
    "adata_sub.obs"
   ]
  },
  {
   "cell_type": "markdown",
   "id": "410e9eb5",
   "metadata": {},
   "source": [
    "# Rename the MOL clusters for NEW letter based nomenclature"
   ]
  },
  {
   "cell_type": "code",
   "execution_count": 13,
   "id": "c27be2e8",
   "metadata": {},
   "outputs": [
    {
     "name": "stdout",
     "output_type": "stream",
     "text": [
      "[[  1   0   2   0   1]\n",
      " [  8   0   0   6   4]\n",
      " [  0   0  57   1  12]\n",
      " [  5   3 743   9 158]\n",
      " [  4   0 206   6  50]]\n"
     ]
    }
   ],
   "source": [
    "#Check the counts data\n",
    "print(adata_sub.X[:5, :5])"
   ]
  },
  {
   "cell_type": "markdown",
   "id": "bb668794",
   "metadata": {},
   "source": [
    "# Start R code: QC of log transformation"
   ]
  },
  {
   "cell_type": "code",
   "execution_count": 14,
   "id": "a2639073",
   "metadata": {},
   "outputs": [
    {
     "name": "stdout",
     "output_type": "stream",
     "text": [
      "             Group Reps  Batch\n",
      "LPC_Saline_2  ctrl    1  Adams\n",
      "LPC_Saline_1  ctrl    2  Adams\n",
      "LPC_ctrl_3    ctrl    3 Pandey\n",
      "LPC_ctrl_2    ctrl    4 Pandey\n",
      "LPC_ctrl_1    ctrl    5 Pandey\n",
      "LPC_7d_2      stim    1  Adams\n",
      "LPC_7d_1      stim    2  Adams\n",
      "LPC_5d_1      stim    3 Pandey\n",
      "LPC_5d_3      stim    4 Pandey\n",
      "LPC_5d_2      stim    7 Pandey\n",
      "LPC_5d_4      stim    9 Pandey\n"
     ]
    }
   ],
   "source": [
    "%%R -i adata_sub\n",
    "\n",
    "# Concatenate label and cell type for group factor\n",
    "group <- colData(adata_sub)$label #ctrl or stim\n",
    "replicate <- colData(adata_sub)$replicate #replicate number\n",
    "batch <- colData(adata_sub)$batch\n",
    "\n",
    "treatments <- data.frame(\"Group\"=group, \"Reps\"=replicate, \"Batch\"= batch)\n",
    "print(treatments)"
   ]
  },
  {
   "cell_type": "code",
   "execution_count": 15,
   "id": "8176fc6d",
   "metadata": {},
   "outputs": [
    {
     "name": "stdout",
     "output_type": "stream",
     "text": [
      "[1] \"Dimensions before subsetting:\"\n",
      "[1] 19304    11\n",
      "\n",
      "ctrl stim \n",
      "   5    6 \n"
     ]
    }
   ],
   "source": [
    "%%R\n",
    "\n",
    "#Create a DGElist object using the anndata counts in 'X'\n",
    "x <- DGEList(assay(adata_sub, \"X\"), group=colData(adata_sub)$label)\n",
    "\n",
    "samplenames <- colnames(x$counts)\n",
    "\n",
    "print(\"Dimensions before subsetting:\")\n",
    "print(dim(x))\n",
    "\n",
    "# Check counts per group before filtering\n",
    "print(table(x$samples$group))"
   ]
  },
  {
   "cell_type": "code",
   "execution_count": 16,
   "id": "b5756f2c",
   "metadata": {},
   "outputs": [
    {
     "name": "stdout",
     "output_type": "stream",
     "text": [
      " [1] ctrl ctrl ctrl ctrl ctrl stim stim stim stim stim stim\n",
      "Levels: ctrl stim\n"
     ]
    }
   ],
   "source": [
    "%%R\n",
    "\n",
    "cd <- x$samples$group\n",
    "print(cd)"
   ]
  },
  {
   "cell_type": "code",
   "execution_count": 17,
   "id": "06f410be",
   "metadata": {},
   "outputs": [
    {
     "name": "stdout",
     "output_type": "stream",
     "text": [
      "   cdctrl cdstim\n",
      "1       1      0\n",
      "2       1      0\n",
      "3       1      0\n",
      "4       1      0\n",
      "5       1      0\n",
      "6       0      1\n",
      "7       0      1\n",
      "8       0      1\n",
      "9       0      1\n",
      "10      0      1\n",
      "11      0      1\n",
      "attr(,\"assign\")\n",
      "[1] 1 1\n",
      "attr(,\"contrasts\")\n",
      "attr(,\"contrasts\")$cd\n",
      "[1] \"contr.treatment\"\n",
      "\n"
     ]
    }
   ],
   "source": [
    "%%R\n",
    "\n",
    "# Adjust for batch-- ie publication in the model matrix\n",
    "design <- model.matrix(~0 + cd)\n",
    "design"
   ]
  },
  {
   "cell_type": "code",
   "execution_count": 18,
   "id": "e09ffcb2",
   "metadata": {},
   "outputs": [
    {
     "name": "stdout",
     "output_type": "stream",
     "text": [
      "[1] 9058   11\n"
     ]
    }
   ],
   "source": [
    "%%R\n",
    "\n",
    "# More strict removal of genes, tried group, pub and batch\n",
    "keep.expr <- filterByExpr(x, design)\n",
    "x2 <- x[keep.expr,, keep.lib.sizes=FALSE]\n",
    "dim(x2)"
   ]
  },
  {
   "cell_type": "code",
   "execution_count": 19,
   "id": "a53ca1e4",
   "metadata": {},
   "outputs": [
    {
     "name": "stdout",
     "output_type": "stream",
     "text": [
      "[1] 9729   11\n"
     ]
    }
   ],
   "source": [
    "%%R\n",
    "\n",
    "## OLD DON\"T USE THIS\n",
    "\n",
    "keep.exprs <- filterByExpr(x, group=batch)\n",
    "b <- x[keep.exprs,, keep.lib.sizes=FALSE]\n",
    "dim(b)"
   ]
  },
  {
   "cell_type": "code",
   "execution_count": 20,
   "id": "eff91fce",
   "metadata": {},
   "outputs": [
    {
     "name": "stdout",
     "output_type": "stream",
     "text": [
      "[1] 2.864163 1.509561\n"
     ]
    }
   ],
   "source": [
    "%%R\n",
    "#X is before trimming, Y is after trimming\n",
    "L <- mean(x2$samples$lib.size) * 1e-6\n",
    "M <- median(x2$samples$lib.size) * 1e-6\n",
    "c(L, M)"
   ]
  },
  {
   "cell_type": "code",
   "execution_count": 21,
   "id": "ed52de22",
   "metadata": {},
   "outputs": [
    {
     "name": "stdout",
     "output_type": "stream",
     "text": [
      " [1] 1.1336899 1.1094697 1.0064049 0.9980820 1.0036342 1.1285329 1.0962585\n",
      " [8] 0.9394770 0.8128918 0.8955474 0.9320542\n"
     ]
    }
   ],
   "source": [
    "%%R\n",
    "## Calc norm factors before to normalize library sizes, then cpm divides counts by lib sizes\n",
    "#X is before trimming, Y is after trimming, X2 is also trimmed but differently\n",
    "x2 <- calcNormFactors(x2, method = \"TMM\")\n",
    "x2$samples$norm.factors"
   ]
  },
  {
   "cell_type": "code",
   "execution_count": 22,
   "id": "995a9487",
   "metadata": {},
   "outputs": [],
   "source": [
    "%%R\n",
    "#X2 is the norm lib sizes and trimmed\n",
    "cpm <- edgeR::cpm(x2, log=FALSE, prior.counts=3)\n",
    "lcpm <- edgeR::cpm(x2, log=TRUE, prior.count=3)"
   ]
  },
  {
   "cell_type": "code",
   "execution_count": 23,
   "id": "1c21200d",
   "metadata": {},
   "outputs": [
    {
     "data": {
      "image/png": "[encoded data removed]",
      "text/plain": [
       "<IPython.core.display.Image object>"
      ]
     },
     "metadata": {},
     "output_type": "display_data"
    }
   ],
   "source": [
    "%%R\n",
    "lcpm.cutoff <- log2(10/M + 2/L)\n",
    "library(RColorBrewer)\n",
    "nsamples <- ncol(x2)\n",
    "col <- brewer.pal(nsamples, \"Paired\")\n",
    "\n",
    "par(mfrow=c(1,2))\n",
    "\n",
    "lcpm <- edgeR::cpm(x, log=TRUE)\n",
    "plot(density(lcpm[,1]), col=col[1], lwd=2, ylim=c(0,0.35), las=2, main=\"\", xlab=\"\")\n",
    "title(main=\"A. Raw data\", xlab=\"Log-cpm\")\n",
    "abline(v=lcpm.cutoff, lty=3)\n",
    "for (i in 2:nsamples){\n",
    "  den <- density(lcpm[,i])\n",
    "  lines(den$x, den$y, col=col[i], lwd=2)\n",
    "}\n",
    "legend(\"topright\", samplenames, text.col=col, bty=\"n\")\n",
    "\n",
    "lcpm <- edgeR::cpm(x2, log=TRUE)\n",
    "plot(density(lcpm[,1]), col=col[1], lwd=2, ylim=c(0,0.25), las=2, main=\"\", xlab=\"\")\n",
    "title(main=\"B. Filtered data\", xlab=\"Log-cpm\")\n",
    "abline(v=lcpm.cutoff, lty=3)\n",
    "for (i in 2:nsamples){\n",
    "  den <- density(lcpm[,i])\n",
    "  lines(den$x, den$y, col=col[i], lwd=2)\n",
    "}\n",
    "legend(\"topright\", samplenames, text.col=col, bty=\"n\")"
   ]
  },
  {
   "cell_type": "code",
   "execution_count": 24,
   "id": "0a231181",
   "metadata": {},
   "outputs": [
    {
     "data": {
      "image/png": "[encoded data removed]",
      "text/plain": [
       "<IPython.core.display.Image object>"
      ]
     },
     "metadata": {},
     "output_type": "display_data"
    }
   ],
   "source": [
    "%%R\n",
    "y2 <- x2\n",
    "y2$samples$norm.factors <- 1\n",
    "y2$counts[,1] <- ceiling(y2$counts[,1]*0.05)\n",
    "y2$counts[,2] <- y2$counts[,2]*5\n",
    "\n",
    "par(mfrow=c(1,2))\n",
    "lcpm <- edgeR::cpm(y2, log=TRUE)\n",
    "boxplot(lcpm, las=2, col=col, main=\"\")\n",
    "title(main=\"Unnormalised data\", ylab=\"Log-cpm\")\n",
    "\n",
    "y3 <- calcNormFactors(y2)\n",
    "y3$samples$norm.factors\n",
    "\n",
    "lcpm <- edgeR::cpm(y3, log=TRUE)\n",
    "boxplot(lcpm, las=2, col=col, main=\"\")\n",
    "title(main=\"Normalised data\", ylab=\"Log-cpm\")"
   ]
  },
  {
   "cell_type": "markdown",
   "id": "6ededd16",
   "metadata": {},
   "source": [
    "# Show how log transf + batch removal affects the separation of samples:"
   ]
  },
  {
   "cell_type": "code",
   "execution_count": 25,
   "id": "50f77fc0",
   "metadata": {},
   "outputs": [
    {
     "name": "stdout",
     "output_type": "stream",
     "text": [
      " [1] ctrl ctrl ctrl ctrl ctrl stim stim stim stim stim stim\n",
      "Levels: ctrl stim\n"
     ]
    }
   ],
   "source": [
    "%%R\n",
    "cd <- x2$samples$group\n",
    "print(cd)"
   ]
  },
  {
   "cell_type": "code",
   "execution_count": 26,
   "id": "2e68e94f",
   "metadata": {},
   "outputs": [],
   "source": [
    "%%R\n",
    "#Make new count matrix with log counts and DGE data from X2 (trimmed, normfactors)\n",
    "x3 <- x2\n",
    "x3$counts <- lcpm"
   ]
  },
  {
   "cell_type": "code",
   "execution_count": 27,
   "id": "4f317f45",
   "metadata": {},
   "outputs": [
    {
     "data": {
      "image/png": "[encoded data removed]",
      "text/plain": [
       "<IPython.core.display.Image object>"
      ]
     },
     "metadata": {},
     "output_type": "display_data"
    }
   ],
   "source": [
    "%%R\n",
    "# Assuming 'group' is stored in y$samples dataframe\n",
    "group <- x2$samples$group\n",
    "\n",
    "# Generate a numeric vector from group factors (if not already factor, convert it)\n",
    "group_factor <- as.factor(group)\n",
    "group_colors <- as.numeric(group_factor)  # This converts factors to unique integers\n",
    "\n",
    "# Define a set of colors corresponding to the factors\n",
    "# Example: If you have two groups, you could define two colors\n",
    "colors <- c(\"blue\", \"red\")  # Adjust the number and colors based on your actual groups\n",
    "\n",
    "# Use these colors in your plotMDS\n",
    "plotMDS(x2, col = colors[group_colors])\n",
    "\n",
    "# Adding a legend for clarity\n",
    "legend(\"topright\", legend=levels(group_factor), fill=colors, title=\"Group\")"
   ]
  },
  {
   "cell_type": "code",
   "execution_count": 28,
   "id": "95f36cf5",
   "metadata": {},
   "outputs": [
    {
     "data": {
      "image/png": "[encoded data removed]",
      "text/plain": [
       "<IPython.core.display.Image object>"
      ]
     },
     "metadata": {},
     "output_type": "display_data"
    }
   ],
   "source": [
    "%%R\n",
    "# Generate a numeric vector from group factors (if not already factor, convert it)\n",
    "pub_factor <- as.factor(batch)\n",
    "pub_colors <- as.numeric(pub_factor)  # This converts factors to unique integers\n",
    "\n",
    "# Define a set of colors corresponding to the factors\n",
    "# Example: If you have two groups, you could define two colors\n",
    "colors <- c(\"green\", \"purple\")  # Adjust the number and colors based on your actual groups\n",
    "\n",
    "# Use these colors in your plotMDS\n",
    "plotMDS(x2, col = colors[pub_colors])\n",
    "\n",
    "# Adding a legend for clarity\n",
    "legend(\"topright\", legend=levels(pub_factor), fill=colors, title=\"Group\")"
   ]
  },
  {
   "cell_type": "code",
   "execution_count": 29,
   "id": "5700c6ae",
   "metadata": {},
   "outputs": [
    {
     "name": "stdout",
     "output_type": "stream",
     "text": [
      "             group lib.size norm.factors\n",
      "LPC_Saline_2  ctrl   773423    1.1336899\n",
      "LPC_Saline_1  ctrl  1563898    1.1094697\n",
      "LPC_ctrl_3    ctrl  1429120    1.0064049\n",
      "LPC_ctrl_2    ctrl 12928507    0.9980820\n",
      "LPC_ctrl_1    ctrl  5932506    1.0036342\n",
      "LPC_7d_2      stim   368127    1.1285329\n",
      "LPC_7d_1      stim   429453    1.0962585\n",
      "LPC_5d_1      stim  1950777    0.9394770\n",
      "LPC_5d_3      stim  3954871    0.8128918\n",
      "LPC_5d_2      stim  1509561    0.8955474\n",
      "LPC_5d_4      stim   665554    0.9320542\n"
     ]
    }
   ],
   "source": [
    "%%R\n",
    "\n",
    "x3$samples"
   ]
  },
  {
   "cell_type": "code",
   "execution_count": 30,
   "id": "a3c165e9",
   "metadata": {},
   "outputs": [
    {
     "name": "stdout",
     "output_type": "stream",
     "text": [
      "   cdctrl cdstim\n",
      "1       1      0\n",
      "2       1      0\n",
      "3       1      0\n",
      "4       1      0\n",
      "5       1      0\n",
      "6       0      1\n",
      "7       0      1\n",
      "8       0      1\n",
      "9       0      1\n",
      "10      0      1\n",
      "11      0      1\n",
      "attr(,\"assign\")\n",
      "[1] 1 1\n",
      "attr(,\"contrasts\")\n",
      "attr(,\"contrasts\")$cd\n",
      "[1] \"contr.treatment\"\n",
      "\n"
     ]
    }
   ],
   "source": [
    "%%R\n",
    "# Adjust for batch-- ie publication in the model matrix\n",
    "design <- model.matrix(~0 + cd)\n",
    "design"
   ]
  },
  {
   "cell_type": "code",
   "execution_count": 31,
   "id": "ebd3bc3a",
   "metadata": {},
   "outputs": [
    {
     "name": "stdout",
     "output_type": "stream",
     "text": [
      "        Contrasts\n",
      "Levels   cdstim - cdctrl\n",
      "  cdctrl              -1\n",
      "  cdstim               1\n"
     ]
    }
   ],
   "source": [
    "%%R\n",
    "contr.matrix <- makeContrasts(cdstim - cdctrl, levels = colnames(design))\n",
    "contr.matrix"
   ]
  },
  {
   "cell_type": "code",
   "execution_count": 32,
   "id": "93bc6589",
   "metadata": {},
   "outputs": [],
   "source": [
    "%%R\n",
    "# Convert to CPM and log2 transformation. \n",
    "logCPM <- edgeR::cpm(x2, log=TRUE, prior.count=3)"
   ]
  },
  {
   "cell_type": "code",
   "execution_count": 33,
   "id": "663eb21e",
   "metadata": {},
   "outputs": [],
   "source": [
    "%%R\n",
    "#Batch is set to the publication of origin to remove effects between sample origins\n",
    "logCPM_no_batch <- removeBatchEffect(logCPM, batch=batch) "
   ]
  },
  {
   "cell_type": "code",
   "execution_count": 34,
   "id": "aca27a7e",
   "metadata": {},
   "outputs": [
    {
     "data": {
      "image/png": "[encoded data removed]",
      "text/plain": [
       "<IPython.core.display.Image object>"
      ]
     },
     "metadata": {},
     "output_type": "display_data"
    }
   ],
   "source": [
    "%%R\n",
    "heatmap(logCPM)"
   ]
  },
  {
   "cell_type": "code",
   "execution_count": 35,
   "id": "ba624f0e",
   "metadata": {},
   "outputs": [
    {
     "data": {
      "image/png": "[encoded data removed]",
      "text/plain": [
       "<IPython.core.display.Image object>"
      ]
     },
     "metadata": {},
     "output_type": "display_data"
    }
   ],
   "source": [
    "%%R\n",
    "heatmap(logCPM_no_batch)"
   ]
  },
  {
   "cell_type": "markdown",
   "id": "c8808abd",
   "metadata": {},
   "source": [
    "# Voom with quality weights"
   ]
  },
  {
   "cell_type": "code",
   "execution_count": 37,
   "id": "35f69092",
   "metadata": {},
   "outputs": [
    {
     "name": "stdout",
     "output_type": "stream",
     "text": [
      "        Contrasts\n",
      "Levels   cdstim - cdctrl\n",
      "  cdctrl              -1\n",
      "  cdstim               1\n"
     ]
    }
   ],
   "source": [
    "%%R\n",
    "contr.matrix <- makeContrasts(cdstim - cdctrl, levels = colnames(design))\n",
    "contr.matrix"
   ]
  },
  {
   "cell_type": "code",
   "execution_count": 38,
   "id": "4710a80f",
   "metadata": {},
   "outputs": [
    {
     "data": {
      "image/png": "[encoded data removed]",
      "text/plain": [
       "<IPython.core.display.Image object>"
      ]
     },
     "metadata": {},
     "output_type": "display_data"
    }
   ],
   "source": [
    "%%R\n",
    "y <- voomWithQualityWeights(x2$counts, design, plot=TRUE)"
   ]
  },
  {
   "cell_type": "code",
   "execution_count": 39,
   "id": "a72d89df",
   "metadata": {},
   "outputs": [
    {
     "name": "stdout",
     "output_type": "stream",
     "text": [
      "[1] 0.5361069\n"
     ]
    }
   ],
   "source": [
    "%%R\n",
    "corfit <- duplicateCorrelation(y, design, block=batch)\n",
    "corfit$consensus.correlation"
   ]
  },
  {
   "cell_type": "code",
   "execution_count": 40,
   "id": "79b4a022",
   "metadata": {},
   "outputs": [
    {
     "data": {
      "image/png": "[encoded data removed]",
      "text/plain": [
       "<IPython.core.display.Image object>"
      ]
     },
     "metadata": {},
     "output_type": "display_data"
    }
   ],
   "source": [
    "%%R\n",
    "y2 <- voomWithQualityWeights(x2$counts, design, plot=TRUE, block=batch, correlation=corfit$consensus)"
   ]
  },
  {
   "cell_type": "code",
   "execution_count": 41,
   "id": "0cfa4152",
   "metadata": {},
   "outputs": [
    {
     "name": "stdout",
     "output_type": "stream",
     "text": [
      "[1] 0.6229707\n"
     ]
    }
   ],
   "source": [
    "%%R\n",
    "corfit2 <- duplicateCorrelation(y2,design, block=batch, weights=y2$targets$sample.weights)\n",
    "corfit2$consensus.correlation"
   ]
  },
  {
   "cell_type": "code",
   "execution_count": 42,
   "id": "33cc64bd",
   "metadata": {},
   "outputs": [],
   "source": [
    "%%R\n",
    "fit <- lmFit(y2, design, block=batch, correlation=corfit2$consensus)"
   ]
  },
  {
   "cell_type": "code",
   "execution_count": 43,
   "id": "c8ae878c",
   "metadata": {},
   "outputs": [
    {
     "data": {
      "image/png": "[encoded data removed]",
      "text/plain": [
       "<IPython.core.display.Image object>"
      ]
     },
     "metadata": {},
     "output_type": "display_data"
    }
   ],
   "source": [
    "%%R\n",
    "contr <- makeContrasts(cdstim - cdctrl, levels = colnames(coef(fit)))\n",
    "tmp <- contrasts.fit(fit, contr)\n",
    "tmp2 <- eBayes(tmp)\n",
    "\n",
    "plotSA(tmp2, xlab = \"Average log-expression\", ylab = \"sqrt(sigma)\", zero.weights = FALSE,\n",
    "       pch = 16, cex = 0.3, col = c(\"black\",\"red\"))"
   ]
  },
  {
   "cell_type": "code",
   "execution_count": 44,
   "id": "de7baa2f",
   "metadata": {},
   "outputs": [
    {
     "name": "stdout",
     "output_type": "stream",
     "text": [
      "           logFC  AveExpr        t      P.Value    adj.P.Val        B\n",
      "C4b     4.702341 7.209963 33.74245 2.257351e-14 2.044709e-10 23.12898\n",
      "Cachd1  4.205148 3.756685 30.59887 8.258574e-14 3.740308e-10 21.33383\n",
      "Masp1   4.030808 5.957225 27.39822 3.560775e-13 1.075117e-09 20.55361\n",
      "Ldlrap1 3.454752 5.218401 26.29356 6.128776e-13 1.387861e-09 20.02693\n",
      "Tspan9  3.138013 5.899677 25.40807 9.625473e-13 1.743751e-09 19.61579\n",
      "Pros1   3.982897 4.189096 22.67608 4.290371e-12 5.565829e-09 18.05726\n",
      "Cntn3   2.938801 6.245241 22.67169 4.301259e-12 5.565829e-09 18.19949\n",
      "Col16a1 3.565284 3.927703 19.55137 2.972148e-11 3.084814e-08 16.13592\n",
      "Lhfpl3  3.878608 5.355775 19.50512 3.065061e-11 3.084814e-08 16.27620\n",
      "Cebpd   3.396479 4.793640 19.13333 3.935500e-11 3.297349e-08 16.02526\n"
     ]
    }
   ],
   "source": [
    "%%R\n",
    "# Retrieve the top results without sorting by p-value directly\n",
    "tt <- topTable(tmp2, sort.by = \"P\", n = Inf)\n",
    "head(tt, 10)"
   ]
  },
  {
   "cell_type": "code",
   "execution_count": 45,
   "id": "d4483518",
   "metadata": {},
   "outputs": [
    {
     "name": "stdout",
     "output_type": "stream",
     "text": [
      "[1] 1278\n"
     ]
    }
   ],
   "source": [
    "%%R\n",
    "length(which(tt$adj.P.Val < 0.05))"
   ]
  },
  {
   "cell_type": "code",
   "execution_count": 48,
   "id": "a2be0250",
   "metadata": {},
   "outputs": [
    {
     "name": "stdout",
     "output_type": "stream",
     "text": [
      "[1] 911\n"
     ]
    }
   ],
   "source": [
    "%%R\n",
    "# Calculate the number of genes with adj.P.Val < 0.05 and |logFC| > 1\n",
    "significant_genes <- tt[tt$adj.P.Val < 0.05 & abs(tt$logFC) > 0.7, ]\n",
    "num_significant_genes <- nrow(significant_genes)\n",
    "\n",
    "# Print the number of significant genes\n",
    "print(num_significant_genes)"
   ]
  },
  {
   "cell_type": "code",
   "execution_count": 46,
   "id": "520ae60f",
   "metadata": {},
   "outputs": [
    {
     "name": "stdout",
     "output_type": "stream",
     "text": [
      "[1] 566\n"
     ]
    }
   ],
   "source": [
    "%%R\n",
    "# Calculate the number of genes with adj.P.Val < 0.05 and |logFC| > 1\n",
    "significant_genes <- tt[tt$adj.P.Val < 0.05 & abs(tt$logFC) > 1, ]\n",
    "num_significant_genes <- nrow(significant_genes)\n",
    "\n",
    "# Print the number of significant genes\n",
    "print(num_significant_genes)"
   ]
  },
  {
   "cell_type": "code",
   "execution_count": 47,
   "id": "92cb5ace",
   "metadata": {},
   "outputs": [
    {
     "name": "stdout",
     "output_type": "stream",
     "text": [
      "[1] 334\n",
      "                  logFC  AveExpr         t      P.Value    adj.P.Val         B\n",
      "Klk6          11.318240 4.362265  7.788638 2.442276e-06 1.286171e-04  5.074306\n",
      "Klk8          10.662749 2.280268  7.548343 3.456891e-06 1.779121e-04  4.732634\n",
      "Bcan           8.911674 1.641114 12.311777 1.076928e-08 1.990778e-06  9.693316\n",
      "Serpina3n      8.764836 5.881914 19.107802 4.004287e-11 3.297349e-08 15.720323\n",
      "2310002F09Rik  8.453252 2.527361 12.088867 1.350407e-08 2.398429e-06  9.462601\n",
      "Steap3         8.167608 2.415217 13.540118 3.284279e-09 8.405410e-07 10.558919\n"
     ]
    }
   ],
   "source": [
    "%%R\n",
    "# Calculate the number of genes with adj.P.Val < 0.05 and |logFC| > 1\n",
    "genes_up <- tt[tt$adj.P.Val < 0.05 & tt$logFC > 1, ]\n",
    "num_genes_up <- nrow(genes_up)\n",
    "\n",
    "# Print the number of significant genes\n",
    "print(num_genes_up)\n",
    "\n",
    "genes_up_sorted <- genes_up[order(genes_up$logFC, decreasing = TRUE), ]\n",
    "\n",
    "# View the head of the significant genes data frame\n",
    "head(genes_up_sorted)"
   ]
  },
  {
   "cell_type": "code",
   "execution_count": 49,
   "id": "4e1b3c93",
   "metadata": {},
   "outputs": [
    {
     "name": "stdout",
     "output_type": "stream",
     "text": [
      "[1] \"C4b is in the index of genes_up_sorted\"\n"
     ]
    }
   ],
   "source": [
    "%%R\n",
    "if ('C4b' %in% rownames(genes_up_sorted)) {\n",
    "    print(\"C4b is in the index of genes_up_sorted\")\n",
    "} else {\n",
    "   print(\"C4b is not in the index of genes_up_sorted\")\n",
    "}"
   ]
  },
  {
   "cell_type": "code",
   "execution_count": 50,
   "id": "b965a4e4",
   "metadata": {},
   "outputs": [
    {
     "name": "stdout",
     "output_type": "stream",
     "text": [
      "[1] \"Serpina3n is in the index of genes_up_sorted\"\n"
     ]
    }
   ],
   "source": [
    "%%R\n",
    "if ('Serpina3n' %in% rownames(genes_up_sorted)) {\n",
    "    print(\"Serpina3n is in the index of genes_up_sorted\")\n",
    "} else {\n",
    "    print(\"Serpina3n is not in the index of genes_up_sorted\")\n",
    "}"
   ]
  },
  {
   "cell_type": "code",
   "execution_count": 51,
   "id": "1ad28182",
   "metadata": {},
   "outputs": [
    {
     "name": "stdout",
     "output_type": "stream",
     "text": [
      "[1] 232\n",
      "           logFC  AveExpr         t      P.Value    adj.P.Val          B\n",
      "Lcp1   -4.856646 1.858818 -7.169795 6.064477e-06 0.0002831548  4.1064042\n",
      "Arl4d  -4.395685 3.479439 -5.469172 9.599636e-05 0.0022182015  1.6274404\n",
      "Ptprj  -4.332866 4.716590 -4.753285 3.456403e-04 0.0059121446  0.4448447\n",
      "Hivep2 -4.105300 5.192170 -5.210117 1.514130e-04 0.0030889621  1.2058310\n",
      "Tgfbr1 -3.998339 2.707848 -3.409395 4.466960e-03 0.0371208465 -1.9387638\n",
      "Irak2  -3.950374 1.197683 -7.076480 6.985530e-06 0.0003154106  4.0241761\n"
     ]
    }
   ],
   "source": [
    "%%R\n",
    "# Calculate the number of genes with adj.P.Val < 0.05 and |logFC| > 1\n",
    "genes_down <- tt[tt$adj.P.Val < 0.05 & tt$logFC < -1, ]\n",
    "num_genes_down <- nrow(genes_down)\n",
    "\n",
    "# Print the number of significant genes\n",
    "print(num_genes_down)\n",
    "\n",
    "genes_down_sorted <- genes_down[order(genes_down$logFC, decreasing = FALSE), ]\n",
    "\n",
    "# View the head of the significant genes data frame\n",
    "head(genes_down_sorted)"
   ]
  },
  {
   "cell_type": "code",
   "execution_count": 52,
   "id": "667ab63a",
   "metadata": {},
   "outputs": [
    {
     "name": "stdout",
     "output_type": "stream",
     "text": [
      "           logFC  AveExpr        t      P.Value    adj.P.Val        B\n",
      "C4b     4.702341 7.209963 33.74245 2.257351e-14 2.044709e-10 23.12898\n",
      "Cachd1  4.205148 3.756685 30.59887 8.258574e-14 3.740308e-10 21.33383\n",
      "Masp1   4.030808 5.957225 27.39822 3.560775e-13 1.075117e-09 20.55361\n",
      "Ldlrap1 3.454752 5.218401 26.29356 6.128776e-13 1.387861e-09 20.02693\n",
      "Tspan9  3.138013 5.899677 25.40807 9.625473e-13 1.743751e-09 19.61579\n",
      "Pros1   3.982897 4.189096 22.67608 4.290371e-12 5.565829e-09 18.05726\n"
     ]
    }
   ],
   "source": [
    "%%R\n",
    "head(tt)"
   ]
  },
  {
   "cell_type": "markdown",
   "id": "53502379",
   "metadata": {},
   "source": [
    "# Save output- make sure to rename!"
   ]
  },
  {
   "cell_type": "code",
   "execution_count": 53,
   "id": "2318f957",
   "metadata": {},
   "outputs": [
    {
     "name": "stdout",
     "output_type": "stream",
     "text": [
      "     logFC  AveExpr        t      P.Value    adj.P.Val        B    gene\n",
      "1 4.702341 7.209963 33.74245 2.257351e-14 2.044709e-10 23.12898     C4b\n",
      "2 4.205148 3.756685 30.59887 8.258574e-14 3.740308e-10 21.33383  Cachd1\n",
      "3 4.030808 5.957225 27.39822 3.560775e-13 1.075117e-09 20.55361   Masp1\n",
      "4 3.454752 5.218401 26.29356 6.128776e-13 1.387861e-09 20.02693 Ldlrap1\n",
      "5 3.138013 5.899677 25.40807 9.625473e-13 1.743751e-09 19.61579  Tspan9\n",
      "6 3.982897 4.189096 22.67608 4.290371e-12 5.565829e-09 18.05726   Pros1\n"
     ]
    }
   ],
   "source": [
    "%%R\n",
    "# Add rownames as a proper column, but ensure we do not have duplicates\n",
    "tt$gene <- rownames(tt)\n",
    "\n",
    "# Remove rownames to avoid duplication when saving\n",
    "rownames(tt) <- NULL\n",
    "\n",
    "# Write to CSV file\n",
    "write.table(tt, file = \"./files/LPC_demyel_MOL_BvE_voom_wqw_REDO.csv\", \n",
    "            row.names = FALSE, sep = \",\", quote = FALSE)\n",
    "\n",
    "# Check the first few rows to confirm the structure\n",
    "head(tt)"
   ]
  },
  {
   "cell_type": "markdown",
   "id": "28a5b432",
   "metadata": {},
   "source": [
    "# Do results overlap with LR pairs?"
   ]
  },
  {
   "cell_type": "code",
   "execution_count": 54,
   "id": "acef57a6",
   "metadata": {},
   "outputs": [],
   "source": [
    "import liana as li"
   ]
  },
  {
   "cell_type": "code",
   "execution_count": 55,
   "id": "28e69c9c",
   "metadata": {},
   "outputs": [
    {
     "data": {
      "text/html": [
       "<div>\n",
       "<style scoped>\n",
       "    .dataframe tbody tr th:only-of-type {\n",
       "        vertical-align: middle;\n",
       "    }\n",
       "\n",
       "    .dataframe tbody tr th {\n",
       "        vertical-align: top;\n",
       "    }\n",
       "\n",
       "    .dataframe thead th {\n",
       "        text-align: right;\n",
       "    }\n",
       "</style>\n",
       "<table border=\"1\" class=\"dataframe\">\n",
       "  <thead>\n",
       "    <tr style=\"text-align: right;\">\n",
       "      <th></th>\n",
       "      <th>ligand</th>\n",
       "      <th>receptor</th>\n",
       "    </tr>\n",
       "  </thead>\n",
       "  <tbody>\n",
       "    <tr>\n",
       "      <th>31371</th>\n",
       "      <td>Dll1</td>\n",
       "      <td>Notch1</td>\n",
       "    </tr>\n",
       "    <tr>\n",
       "      <th>31372</th>\n",
       "      <td>Dll1</td>\n",
       "      <td>Notch2</td>\n",
       "    </tr>\n",
       "    <tr>\n",
       "      <th>31373</th>\n",
       "      <td>Dll1</td>\n",
       "      <td>Notch4</td>\n",
       "    </tr>\n",
       "    <tr>\n",
       "      <th>31374</th>\n",
       "      <td>Dll1</td>\n",
       "      <td>Notch3</td>\n",
       "    </tr>\n",
       "    <tr>\n",
       "      <th>31375</th>\n",
       "      <td>Nrg2</td>\n",
       "      <td>Erbb2_Erbb3</td>\n",
       "    </tr>\n",
       "  </tbody>\n",
       "</table>\n",
       "</div>"
      ],
      "text/plain": [
       "      ligand     receptor\n",
       "31371   Dll1       Notch1\n",
       "31372   Dll1       Notch2\n",
       "31373   Dll1       Notch4\n",
       "31374   Dll1       Notch3\n",
       "31375   Nrg2  Erbb2_Erbb3"
      ]
     },
     "execution_count": 55,
     "metadata": {},
     "output_type": "execute_result"
    }
   ],
   "source": [
    "lr_pairs = li.resource.select_resource('mouseconsensus')\n",
    "lr_pairs.head()"
   ]
  },
  {
   "cell_type": "code",
   "execution_count": 56,
   "id": "e92840ca",
   "metadata": {},
   "outputs": [
    {
     "data": {
      "text/plain": [
       "(9058, 7)"
      ]
     },
     "execution_count": 56,
     "metadata": {},
     "output_type": "execute_result"
    }
   ],
   "source": [
    "DEG_all = pd.read_csv('./files/LPC_demyel_MOL_BvE_voom_wqw_REDO.csv', index_col=None)\n",
    "DEG_all.rename(columns={'adj.P.Val': 'Padj'}, inplace=True)\n",
    "DEG_all.rename(columns={'P.Value': 'Pvalue'}, inplace=True)\n",
    "DEG_all.shape"
   ]
  },
  {
   "cell_type": "code",
   "execution_count": 57,
   "id": "d7bd4c79",
   "metadata": {},
   "outputs": [
    {
     "data": {
      "text/plain": [
       "(566, 7)"
      ]
     },
     "execution_count": 57,
     "metadata": {},
     "output_type": "execute_result"
    }
   ],
   "source": [
    "sigs = DEG_all[(DEG_all.Padj < 0.05) & (abs(DEG_all.logFC) >= 1)]\n",
    "sigs.shape"
   ]
  },
  {
   "cell_type": "code",
   "execution_count": 58,
   "id": "abda4801",
   "metadata": {},
   "outputs": [
    {
     "data": {
      "text/plain": [
       "(3989, 2)"
      ]
     },
     "execution_count": 58,
     "metadata": {},
     "output_type": "execute_result"
    }
   ],
   "source": [
    "lr_pairs.shape"
   ]
  },
  {
   "cell_type": "code",
   "execution_count": 59,
   "id": "20544b3d",
   "metadata": {},
   "outputs": [
    {
     "data": {
      "text/html": [
       "<div>\n",
       "<style scoped>\n",
       "    .dataframe tbody tr th:only-of-type {\n",
       "        vertical-align: middle;\n",
       "    }\n",
       "\n",
       "    .dataframe tbody tr th {\n",
       "        vertical-align: top;\n",
       "    }\n",
       "\n",
       "    .dataframe thead th {\n",
       "        text-align: right;\n",
       "    }\n",
       "</style>\n",
       "<table border=\"1\" class=\"dataframe\">\n",
       "  <thead>\n",
       "    <tr style=\"text-align: right;\">\n",
       "      <th></th>\n",
       "      <th>logFC</th>\n",
       "      <th>AveExpr</th>\n",
       "      <th>t</th>\n",
       "      <th>Pvalue</th>\n",
       "      <th>Padj</th>\n",
       "      <th>B</th>\n",
       "      <th>gene</th>\n",
       "    </tr>\n",
       "  </thead>\n",
       "  <tbody>\n",
       "    <tr>\n",
       "      <th>0</th>\n",
       "      <td>4.702341</td>\n",
       "      <td>7.209963</td>\n",
       "      <td>33.742453</td>\n",
       "      <td>2.257351e-14</td>\n",
       "      <td>2.044709e-10</td>\n",
       "      <td>23.128980</td>\n",
       "      <td>C4b</td>\n",
       "    </tr>\n",
       "    <tr>\n",
       "      <th>1</th>\n",
       "      <td>4.205148</td>\n",
       "      <td>3.756685</td>\n",
       "      <td>30.598865</td>\n",
       "      <td>8.258574e-14</td>\n",
       "      <td>3.740308e-10</td>\n",
       "      <td>21.333826</td>\n",
       "      <td>Cachd1</td>\n",
       "    </tr>\n",
       "    <tr>\n",
       "      <th>2</th>\n",
       "      <td>4.030808</td>\n",
       "      <td>5.957225</td>\n",
       "      <td>27.398217</td>\n",
       "      <td>3.560775e-13</td>\n",
       "      <td>1.075117e-09</td>\n",
       "      <td>20.553614</td>\n",
       "      <td>Masp1</td>\n",
       "    </tr>\n",
       "    <tr>\n",
       "      <th>3</th>\n",
       "      <td>3.454752</td>\n",
       "      <td>5.218401</td>\n",
       "      <td>26.293565</td>\n",
       "      <td>6.128776e-13</td>\n",
       "      <td>1.387861e-09</td>\n",
       "      <td>20.026931</td>\n",
       "      <td>Ldlrap1</td>\n",
       "    </tr>\n",
       "    <tr>\n",
       "      <th>4</th>\n",
       "      <td>3.138013</td>\n",
       "      <td>5.899677</td>\n",
       "      <td>25.408068</td>\n",
       "      <td>9.625473e-13</td>\n",
       "      <td>1.743751e-09</td>\n",
       "      <td>19.615787</td>\n",
       "      <td>Tspan9</td>\n",
       "    </tr>\n",
       "  </tbody>\n",
       "</table>\n",
       "</div>"
      ],
      "text/plain": [
       "      logFC   AveExpr          t        Pvalue          Padj          B  \\\n",
       "0  4.702341  7.209963  33.742453  2.257351e-14  2.044709e-10  23.128980   \n",
       "1  4.205148  3.756685  30.598865  8.258574e-14  3.740308e-10  21.333826   \n",
       "2  4.030808  5.957225  27.398217  3.560775e-13  1.075117e-09  20.553614   \n",
       "3  3.454752  5.218401  26.293565  6.128776e-13  1.387861e-09  20.026931   \n",
       "4  3.138013  5.899677  25.408068  9.625473e-13  1.743751e-09  19.615787   \n",
       "\n",
       "      gene  \n",
       "0      C4b  \n",
       "1   Cachd1  \n",
       "2    Masp1  \n",
       "3  Ldlrap1  \n",
       "4   Tspan9  "
      ]
     },
     "execution_count": 59,
     "metadata": {},
     "output_type": "execute_result"
    }
   ],
   "source": [
    "sigs.head()"
   ]
  },
  {
   "cell_type": "code",
   "execution_count": 60,
   "id": "fcab0ec8",
   "metadata": {},
   "outputs": [
    {
     "data": {
      "text/html": [
       "<div>\n",
       "<style scoped>\n",
       "    .dataframe tbody tr th:only-of-type {\n",
       "        vertical-align: middle;\n",
       "    }\n",
       "\n",
       "    .dataframe tbody tr th {\n",
       "        vertical-align: top;\n",
       "    }\n",
       "\n",
       "    .dataframe thead th {\n",
       "        text-align: right;\n",
       "    }\n",
       "</style>\n",
       "<table border=\"1\" class=\"dataframe\">\n",
       "  <thead>\n",
       "    <tr style=\"text-align: right;\">\n",
       "      <th></th>\n",
       "      <th>logFC</th>\n",
       "      <th>AveExpr</th>\n",
       "      <th>t</th>\n",
       "      <th>Pvalue</th>\n",
       "      <th>Padj</th>\n",
       "      <th>B</th>\n",
       "      <th>gene</th>\n",
       "    </tr>\n",
       "  </thead>\n",
       "  <tbody>\n",
       "    <tr>\n",
       "      <th>0</th>\n",
       "      <td>4.702341</td>\n",
       "      <td>7.209963</td>\n",
       "      <td>33.742453</td>\n",
       "      <td>2.257351e-14</td>\n",
       "      <td>2.044709e-10</td>\n",
       "      <td>23.128980</td>\n",
       "      <td>C4b</td>\n",
       "    </tr>\n",
       "    <tr>\n",
       "      <th>5</th>\n",
       "      <td>3.982897</td>\n",
       "      <td>4.189096</td>\n",
       "      <td>22.676075</td>\n",
       "      <td>4.290371e-12</td>\n",
       "      <td>5.565829e-09</td>\n",
       "      <td>18.057256</td>\n",
       "      <td>Pros1</td>\n",
       "    </tr>\n",
       "    <tr>\n",
       "      <th>6</th>\n",
       "      <td>2.938801</td>\n",
       "      <td>6.245241</td>\n",
       "      <td>22.671690</td>\n",
       "      <td>4.301259e-12</td>\n",
       "      <td>5.565829e-09</td>\n",
       "      <td>18.199485</td>\n",
       "      <td>Cntn3</td>\n",
       "    </tr>\n",
       "    <tr>\n",
       "      <th>7</th>\n",
       "      <td>3.565284</td>\n",
       "      <td>3.927703</td>\n",
       "      <td>19.551373</td>\n",
       "      <td>2.972148e-11</td>\n",
       "      <td>3.084814e-08</td>\n",
       "      <td>16.135917</td>\n",
       "      <td>Col16a1</td>\n",
       "    </tr>\n",
       "    <tr>\n",
       "      <th>11</th>\n",
       "      <td>3.711783</td>\n",
       "      <td>3.716997</td>\n",
       "      <td>18.956607</td>\n",
       "      <td>4.439086e-11</td>\n",
       "      <td>3.350770e-08</td>\n",
       "      <td>15.831551</td>\n",
       "      <td>Nrtn</td>\n",
       "    </tr>\n",
       "    <tr>\n",
       "      <th>...</th>\n",
       "      <td>...</td>\n",
       "      <td>...</td>\n",
       "      <td>...</td>\n",
       "      <td>...</td>\n",
       "      <td>...</td>\n",
       "      <td>...</td>\n",
       "      <td>...</td>\n",
       "    </tr>\n",
       "    <tr>\n",
       "      <th>1007</th>\n",
       "      <td>-1.016486</td>\n",
       "      <td>7.000101</td>\n",
       "      <td>-3.536311</td>\n",
       "      <td>3.488209e-03</td>\n",
       "      <td>3.134543e-02</td>\n",
       "      <td>-2.612287</td>\n",
       "      <td>Lama2</td>\n",
       "    </tr>\n",
       "    <tr>\n",
       "      <th>1089</th>\n",
       "      <td>-3.998339</td>\n",
       "      <td>2.707848</td>\n",
       "      <td>-3.409395</td>\n",
       "      <td>4.466960e-03</td>\n",
       "      <td>3.712085e-02</td>\n",
       "      <td>-1.938764</td>\n",
       "      <td>Tgfbr1</td>\n",
       "    </tr>\n",
       "    <tr>\n",
       "      <th>1129</th>\n",
       "      <td>1.126038</td>\n",
       "      <td>2.928660</td>\n",
       "      <td>3.359985</td>\n",
       "      <td>4.919045e-03</td>\n",
       "      <td>3.940186e-02</td>\n",
       "      <td>-2.479454</td>\n",
       "      <td>Fgf22</td>\n",
       "    </tr>\n",
       "    <tr>\n",
       "      <th>1153</th>\n",
       "      <td>-1.042999</td>\n",
       "      <td>2.984559</td>\n",
       "      <td>-3.323925</td>\n",
       "      <td>5.277758e-03</td>\n",
       "      <td>4.142629e-02</td>\n",
       "      <td>-2.439959</td>\n",
       "      <td>Dag1</td>\n",
       "    </tr>\n",
       "    <tr>\n",
       "      <th>1185</th>\n",
       "      <td>-3.281985</td>\n",
       "      <td>2.251641</td>\n",
       "      <td>-3.283094</td>\n",
       "      <td>5.715742e-03</td>\n",
       "      <td>4.365362e-02</td>\n",
       "      <td>-2.193246</td>\n",
       "      <td>Nrp2</td>\n",
       "    </tr>\n",
       "  </tbody>\n",
       "</table>\n",
       "<p>70 rows × 7 columns</p>\n",
       "</div>"
      ],
      "text/plain": [
       "         logFC   AveExpr          t        Pvalue          Padj          B  \\\n",
       "0     4.702341  7.209963  33.742453  2.257351e-14  2.044709e-10  23.128980   \n",
       "5     3.982897  4.189096  22.676075  4.290371e-12  5.565829e-09  18.057256   \n",
       "6     2.938801  6.245241  22.671690  4.301259e-12  5.565829e-09  18.199485   \n",
       "7     3.565284  3.927703  19.551373  2.972148e-11  3.084814e-08  16.135917   \n",
       "11    3.711783  3.716997  18.956607  4.439086e-11  3.350770e-08  15.831551   \n",
       "...        ...       ...        ...           ...           ...        ...   \n",
       "1007 -1.016486  7.000101  -3.536311  3.488209e-03  3.134543e-02  -2.612287   \n",
       "1089 -3.998339  2.707848  -3.409395  4.466960e-03  3.712085e-02  -1.938764   \n",
       "1129  1.126038  2.928660   3.359985  4.919045e-03  3.940186e-02  -2.479454   \n",
       "1153 -1.042999  2.984559  -3.323925  5.277758e-03  4.142629e-02  -2.439959   \n",
       "1185 -3.281985  2.251641  -3.283094  5.715742e-03  4.365362e-02  -2.193246   \n",
       "\n",
       "         gene  \n",
       "0         C4b  \n",
       "5       Pros1  \n",
       "6       Cntn3  \n",
       "7     Col16a1  \n",
       "11       Nrtn  \n",
       "...       ...  \n",
       "1007    Lama2  \n",
       "1089   Tgfbr1  \n",
       "1129    Fgf22  \n",
       "1153     Dag1  \n",
       "1185     Nrp2  \n",
       "\n",
       "[70 rows x 7 columns]"
      ]
     },
     "execution_count": 60,
     "metadata": {},
     "output_type": "execute_result"
    }
   ],
   "source": [
    "ligands = lr_pairs['ligand'].unique()\n",
    "receptors = lr_pairs['receptor'].unique()\n",
    "\n",
    "# Combining both ligands and receptors and keeping only unique values\n",
    "unique_genes = set(ligands).union(set(receptors))\n",
    "\n",
    "# Checking for overlap with 'sigs' dataframe on the 'gene' column\n",
    "overlap_genes = sigs[sigs['gene'].isin(unique_genes)]\n",
    "overlap_genes"
   ]
  },
  {
   "cell_type": "code",
   "execution_count": 61,
   "id": "9202c175",
   "metadata": {},
   "outputs": [
    {
     "data": {
      "text/html": [
       "<div>\n",
       "<style scoped>\n",
       "    .dataframe tbody tr th:only-of-type {\n",
       "        vertical-align: middle;\n",
       "    }\n",
       "\n",
       "    .dataframe tbody tr th {\n",
       "        vertical-align: top;\n",
       "    }\n",
       "\n",
       "    .dataframe thead th {\n",
       "        text-align: right;\n",
       "    }\n",
       "</style>\n",
       "<table border=\"1\" class=\"dataframe\">\n",
       "  <thead>\n",
       "    <tr style=\"text-align: right;\">\n",
       "      <th></th>\n",
       "      <th>gene</th>\n",
       "      <th>logFC</th>\n",
       "      <th>logFC_direction</th>\n",
       "    </tr>\n",
       "  </thead>\n",
       "  <tbody>\n",
       "    <tr>\n",
       "      <th>0</th>\n",
       "      <td>C4b</td>\n",
       "      <td>4.702341</td>\n",
       "      <td>positive</td>\n",
       "    </tr>\n",
       "    <tr>\n",
       "      <th>5</th>\n",
       "      <td>Pros1</td>\n",
       "      <td>3.982897</td>\n",
       "      <td>positive</td>\n",
       "    </tr>\n",
       "    <tr>\n",
       "      <th>6</th>\n",
       "      <td>Cntn3</td>\n",
       "      <td>2.938801</td>\n",
       "      <td>positive</td>\n",
       "    </tr>\n",
       "    <tr>\n",
       "      <th>7</th>\n",
       "      <td>Col16a1</td>\n",
       "      <td>3.565284</td>\n",
       "      <td>positive</td>\n",
       "    </tr>\n",
       "    <tr>\n",
       "      <th>11</th>\n",
       "      <td>Nrtn</td>\n",
       "      <td>3.711783</td>\n",
       "      <td>positive</td>\n",
       "    </tr>\n",
       "    <tr>\n",
       "      <th>...</th>\n",
       "      <td>...</td>\n",
       "      <td>...</td>\n",
       "      <td>...</td>\n",
       "    </tr>\n",
       "    <tr>\n",
       "      <th>1007</th>\n",
       "      <td>Lama2</td>\n",
       "      <td>-1.016486</td>\n",
       "      <td>negative</td>\n",
       "    </tr>\n",
       "    <tr>\n",
       "      <th>1089</th>\n",
       "      <td>Tgfbr1</td>\n",
       "      <td>-3.998339</td>\n",
       "      <td>negative</td>\n",
       "    </tr>\n",
       "    <tr>\n",
       "      <th>1129</th>\n",
       "      <td>Fgf22</td>\n",
       "      <td>1.126038</td>\n",
       "      <td>positive</td>\n",
       "    </tr>\n",
       "    <tr>\n",
       "      <th>1153</th>\n",
       "      <td>Dag1</td>\n",
       "      <td>-1.042999</td>\n",
       "      <td>negative</td>\n",
       "    </tr>\n",
       "    <tr>\n",
       "      <th>1185</th>\n",
       "      <td>Nrp2</td>\n",
       "      <td>-3.281985</td>\n",
       "      <td>negative</td>\n",
       "    </tr>\n",
       "  </tbody>\n",
       "</table>\n",
       "<p>70 rows × 3 columns</p>\n",
       "</div>"
      ],
      "text/plain": [
       "         gene     logFC logFC_direction\n",
       "0         C4b  4.702341        positive\n",
       "5       Pros1  3.982897        positive\n",
       "6       Cntn3  2.938801        positive\n",
       "7     Col16a1  3.565284        positive\n",
       "11       Nrtn  3.711783        positive\n",
       "...       ...       ...             ...\n",
       "1007    Lama2 -1.016486        negative\n",
       "1089   Tgfbr1 -3.998339        negative\n",
       "1129    Fgf22  1.126038        positive\n",
       "1153     Dag1 -1.042999        negative\n",
       "1185     Nrp2 -3.281985        negative\n",
       "\n",
       "[70 rows x 3 columns]"
      ]
     },
     "execution_count": 61,
     "metadata": {},
     "output_type": "execute_result"
    }
   ],
   "source": [
    "# Checking the direction of logFC for the overlapping genes\n",
    "overlap_genes_direction = overlap_genes[['gene', 'logFC']].copy()\n",
    "\n",
    "# Determine the direction of logFC\n",
    "overlap_genes_direction['logFC_direction'] = overlap_genes_direction['logFC'].apply(lambda x: 'positive' if x > 0 else 'negative')\n",
    "\n",
    "# Displaying the results\n",
    "overlap_genes_direction"
   ]
  },
  {
   "cell_type": "code",
   "execution_count": 62,
   "id": "6420343b",
   "metadata": {},
   "outputs": [
    {
     "name": "stdout",
     "output_type": "stream",
     "text": [
      "Total ligand-receptor pairs where both are differentially expressed: 8\n"
     ]
    },
    {
     "data": {
      "text/html": [
       "<div>\n",
       "<style scoped>\n",
       "    .dataframe tbody tr th:only-of-type {\n",
       "        vertical-align: middle;\n",
       "    }\n",
       "\n",
       "    .dataframe tbody tr th {\n",
       "        vertical-align: top;\n",
       "    }\n",
       "\n",
       "    .dataframe thead th {\n",
       "        text-align: right;\n",
       "    }\n",
       "</style>\n",
       "<table border=\"1\" class=\"dataframe\">\n",
       "  <thead>\n",
       "    <tr style=\"text-align: right;\">\n",
       "      <th></th>\n",
       "      <th>ligand</th>\n",
       "      <th>receptor</th>\n",
       "      <th>logFC_ligand</th>\n",
       "      <th>logFC_receptor</th>\n",
       "    </tr>\n",
       "  </thead>\n",
       "  <tbody>\n",
       "    <tr>\n",
       "      <th>3</th>\n",
       "      <td>Bcan</td>\n",
       "      <td>Nrcam</td>\n",
       "      <td>8.911674</td>\n",
       "      <td>8.142582</td>\n",
       "    </tr>\n",
       "    <tr>\n",
       "      <th>6</th>\n",
       "      <td>Sema4f</td>\n",
       "      <td>Nrp2</td>\n",
       "      <td>6.739026</td>\n",
       "      <td>-3.281985</td>\n",
       "    </tr>\n",
       "    <tr>\n",
       "      <th>7</th>\n",
       "      <td>Sparc</td>\n",
       "      <td>Fgfr1</td>\n",
       "      <td>2.623311</td>\n",
       "      <td>2.941145</td>\n",
       "    </tr>\n",
       "    <tr>\n",
       "      <th>2</th>\n",
       "      <td>Apoe</td>\n",
       "      <td>Scarb1</td>\n",
       "      <td>1.433722</td>\n",
       "      <td>-3.431736</td>\n",
       "    </tr>\n",
       "    <tr>\n",
       "      <th>5</th>\n",
       "      <td>Fgf22</td>\n",
       "      <td>Fgfrl1</td>\n",
       "      <td>1.126038</td>\n",
       "      <td>7.256179</td>\n",
       "    </tr>\n",
       "    <tr>\n",
       "      <th>4</th>\n",
       "      <td>Fgf22</td>\n",
       "      <td>Fgfr1</td>\n",
       "      <td>1.126038</td>\n",
       "      <td>2.941145</td>\n",
       "    </tr>\n",
       "    <tr>\n",
       "      <th>1</th>\n",
       "      <td>Lama2</td>\n",
       "      <td>Dag1</td>\n",
       "      <td>-1.016486</td>\n",
       "      <td>-1.042999</td>\n",
       "    </tr>\n",
       "    <tr>\n",
       "      <th>0</th>\n",
       "      <td>Alcam</td>\n",
       "      <td>Chl1</td>\n",
       "      <td>-1.975366</td>\n",
       "      <td>7.769540</td>\n",
       "    </tr>\n",
       "  </tbody>\n",
       "</table>\n",
       "</div>"
      ],
      "text/plain": [
       "   ligand receptor  logFC_ligand  logFC_receptor\n",
       "3    Bcan    Nrcam      8.911674        8.142582\n",
       "6  Sema4f     Nrp2      6.739026       -3.281985\n",
       "7   Sparc    Fgfr1      2.623311        2.941145\n",
       "2    Apoe   Scarb1      1.433722       -3.431736\n",
       "5   Fgf22   Fgfrl1      1.126038        7.256179\n",
       "4   Fgf22    Fgfr1      1.126038        2.941145\n",
       "1   Lama2     Dag1     -1.016486       -1.042999\n",
       "0   Alcam     Chl1     -1.975366        7.769540"
      ]
     },
     "execution_count": 62,
     "metadata": {},
     "output_type": "execute_result"
    }
   ],
   "source": [
    "# Step 1: Convert ligands and receptors to a list\n",
    "ligands = lr_pairs['ligand'].tolist()\n",
    "receptors = lr_pairs['receptor'].tolist()\n",
    "\n",
    "# Step 2: Filter DEGs from 'sigs'\n",
    "degs = set(sigs['gene'])  # Create a set for faster lookup\n",
    "\n",
    "# Step 3: Check which ligand-receptor pairs have both ligands and receptors as DEGs\n",
    "matched_pairs = lr_pairs[(lr_pairs['ligand'].isin(degs)) & (lr_pairs['receptor'].isin(degs))]\n",
    "\n",
    "# Step 4: Count the matched pairs\n",
    "num_matched_pairs = matched_pairs.shape[0]\n",
    "\n",
    "# Output the result\n",
    "print(f'Total ligand-receptor pairs where both are differentially expressed: {num_matched_pairs}')\n",
    "\n",
    "# Step 5: Optional - view the matched pairs with direction of change\n",
    "matched_pairs_with_logFC = matched_pairs.merge(sigs[['gene', 'logFC']], left_on='ligand', right_on='gene', how='left')\\\n",
    "                                        .merge(sigs[['gene', 'logFC']], left_on='receptor', right_on='gene', how='left', suffixes=('_ligand', '_receptor'))\n",
    "\n",
    "# Sorting the table by 'logFC_ligand' in descending order\n",
    "sorted_table = matched_pairs_with_logFC.sort_values(by='logFC_ligand', ascending=False)\n",
    "\n",
    "# Displaying the sorted table with the selected columns\n",
    "sorted_table[['ligand', 'receptor', 'logFC_ligand', 'logFC_receptor']]"
   ]
  },
  {
   "cell_type": "code",
   "execution_count": 63,
   "id": "e55bcd09",
   "metadata": {},
   "outputs": [
    {
     "data": {
      "text/plain": [
       "(334, 7)"
      ]
     },
     "execution_count": 63,
     "metadata": {},
     "output_type": "execute_result"
    }
   ],
   "source": [
    "sigs_up = DEG_all[(DEG_all.Padj < 0.05) & (DEG_all.logFC >= 1)]\n",
    "sigs_up.shape"
   ]
  },
  {
   "cell_type": "code",
   "execution_count": 64,
   "id": "5927bc9d",
   "metadata": {},
   "outputs": [
    {
     "name": "stdout",
     "output_type": "stream",
     "text": [
      "Total ligand-receptor pairs where both are differentially expressed: 4\n"
     ]
    },
    {
     "data": {
      "text/html": [
       "<div>\n",
       "<style scoped>\n",
       "    .dataframe tbody tr th:only-of-type {\n",
       "        vertical-align: middle;\n",
       "    }\n",
       "\n",
       "    .dataframe tbody tr th {\n",
       "        vertical-align: top;\n",
       "    }\n",
       "\n",
       "    .dataframe thead th {\n",
       "        text-align: right;\n",
       "    }\n",
       "</style>\n",
       "<table border=\"1\" class=\"dataframe\">\n",
       "  <thead>\n",
       "    <tr style=\"text-align: right;\">\n",
       "      <th></th>\n",
       "      <th>ligand</th>\n",
       "      <th>receptor</th>\n",
       "      <th>logFC_ligand</th>\n",
       "      <th>logFC_receptor</th>\n",
       "    </tr>\n",
       "  </thead>\n",
       "  <tbody>\n",
       "    <tr>\n",
       "      <th>0</th>\n",
       "      <td>Bcan</td>\n",
       "      <td>Nrcam</td>\n",
       "      <td>8.911674</td>\n",
       "      <td>8.142582</td>\n",
       "    </tr>\n",
       "    <tr>\n",
       "      <th>3</th>\n",
       "      <td>Sparc</td>\n",
       "      <td>Fgfr1</td>\n",
       "      <td>2.623311</td>\n",
       "      <td>2.941145</td>\n",
       "    </tr>\n",
       "    <tr>\n",
       "      <th>1</th>\n",
       "      <td>Fgf22</td>\n",
       "      <td>Fgfr1</td>\n",
       "      <td>1.126038</td>\n",
       "      <td>2.941145</td>\n",
       "    </tr>\n",
       "    <tr>\n",
       "      <th>2</th>\n",
       "      <td>Fgf22</td>\n",
       "      <td>Fgfrl1</td>\n",
       "      <td>1.126038</td>\n",
       "      <td>7.256179</td>\n",
       "    </tr>\n",
       "  </tbody>\n",
       "</table>\n",
       "</div>"
      ],
      "text/plain": [
       "  ligand receptor  logFC_ligand  logFC_receptor\n",
       "0   Bcan    Nrcam      8.911674        8.142582\n",
       "3  Sparc    Fgfr1      2.623311        2.941145\n",
       "1  Fgf22    Fgfr1      1.126038        2.941145\n",
       "2  Fgf22   Fgfrl1      1.126038        7.256179"
      ]
     },
     "execution_count": 64,
     "metadata": {},
     "output_type": "execute_result"
    }
   ],
   "source": [
    "# Step 1: Convert ligands and receptors to a list\n",
    "ligands = lr_pairs['ligand'].tolist()\n",
    "receptors = lr_pairs['receptor'].tolist()\n",
    "\n",
    "# Step 2: Filter DEGs from 'sigs'\n",
    "degs = set(sigs_up['gene'])  # Create a set for faster lookup\n",
    "\n",
    "# Step 3: Check which ligand-receptor pairs have both ligands and receptors as DEGs\n",
    "matched_pairs = lr_pairs[(lr_pairs['ligand'].isin(degs)) & (lr_pairs['receptor'].isin(degs))]\n",
    "\n",
    "# Step 4: Count the matched pairs\n",
    "num_matched_pairs = matched_pairs.shape[0]\n",
    "\n",
    "# Output the result\n",
    "print(f'Total ligand-receptor pairs where both are differentially expressed: {num_matched_pairs}')\n",
    "\n",
    "# Step 5: Optional - view the matched pairs with direction of change\n",
    "matched_pairs_with_logFC = matched_pairs.merge(sigs[['gene', 'logFC']], left_on='ligand', right_on='gene', how='left')\\\n",
    "                                        .merge(sigs[['gene', 'logFC']], left_on='receptor', right_on='gene', how='left', suffixes=('_ligand', '_receptor'))\n",
    "\n",
    "# Sorting the table by 'logFC_ligand' in descending order\n",
    "sorted_table = matched_pairs_with_logFC.sort_values(by='logFC_ligand', ascending=False)\n",
    "\n",
    "# Displaying the sorted table with the selected columns\n",
    "sorted_table[['ligand', 'receptor', 'logFC_ligand', 'logFC_receptor']]"
   ]
  },
  {
   "cell_type": "code",
   "execution_count": null,
   "id": "76840a9d",
   "metadata": {},
   "outputs": [],
   "source": [
    "sorted_table[['ligand', 'receptor', 'logFC_ligand', 'logFC_receptor']].to_csv('./files/LR_LPC_demyel_MOL_BvE.csv', sep='\\t', index=False)"
   ]
  },
  {
   "cell_type": "code",
   "execution_count": null,
   "id": "d717a90e",
   "metadata": {},
   "outputs": [],
   "source": []
  }
 ],
 "metadata": {
  "kernelspec": {
   "display_name": "Python 3 (ipykernel)",
   "language": "python",
   "name": "python3"
  },
  "language_info": {
   "codemirror_mode": {
    "name": "ipython",
    "version": 3
   },
   "file_extension": ".py",
   "mimetype": "text/x-python",
   "name": "python",
   "nbconvert_exporter": "python",
   "pygments_lexer": "ipython3",
   "version": "3.11.11"
  }
 },
 "nbformat": 4,
 "nbformat_minor": 5
}

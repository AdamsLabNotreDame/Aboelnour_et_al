{
 "cells": [
  {
   "cell_type": "code",
   "execution_count": 1,
   "id": "a4107cb9",
   "metadata": {},
   "outputs": [],
   "source": [
    "import warnings\n",
    "\n",
    "warnings.filterwarnings(\"ignore\")\n",
    "\n",
    "import matplotlib.pyplot as plt\n",
    "import seaborn as sns\n",
    "import scanpy as sc\n",
    "import pandas as pd\n",
    "import numpy as np\n",
    "import random\n",
    "import sc_toolbox\n",
    "import pertpy \n",
    "\n",
    "import rpy2.rinterface_lib.callbacks\n",
    "import anndata2ri\n",
    "import logging\n",
    "\n",
    "from rpy2.robjects import pandas2ri\n",
    "from rpy2.robjects import r\n",
    "\n",
    "sc.settings.verbosity = 0\n",
    "rpy2.rinterface_lib.callbacks.logger.setLevel(logging.ERROR)\n",
    "\n",
    "pandas2ri.activate()\n",
    "anndata2ri.activate()\n",
    "\n",
    "%load_ext rpy2.ipython"
   ]
  },
  {
   "cell_type": "code",
   "execution_count": 2,
   "id": "cd2ae648",
   "metadata": {},
   "outputs": [
    {
     "data": {
      "text/plain": [
       "Loading required package: limma\n"
      ]
     },
     "metadata": {},
     "output_type": "display_data"
    }
   ],
   "source": [
    "%%R\n",
    "library(edgeR)"
   ]
  },
  {
   "cell_type": "markdown",
   "id": "f783decd",
   "metadata": {},
   "source": [
    "# Running on XX cell types"
   ]
  },
  {
   "cell_type": "code",
   "execution_count": 3,
   "id": "1c0c911f",
   "metadata": {},
   "outputs": [
    {
     "data": {
      "text/plain": [
       "AnnData object with n_obs × n_vars = 127 × 19304\n",
       "    obs: 'publication', 'label', 'cell_type', 'replicate_cat', 'sample', 'sample_rep', 'batch', 'lib_size', 'log_lib_size', 'replicate'\n",
       "    uns: 'cell_type_colors', 'label_colors', 'log1p', 'pca', 'publication_colors', 'replicate_cat_colors', 'sample_colors', 'sample_rep_colors'\n",
       "    obsm: 'X_pca'\n",
       "    varm: 'PCs'\n",
       "    layers: 'counts'"
      ]
     },
     "execution_count": 3,
     "metadata": {},
     "output_type": "execute_result"
    }
   ],
   "source": [
    "adata_pb = sc.read('./pb_adata_LPC_sep.h5ad')\n",
    "adata_pb"
   ]
  },
  {
   "cell_type": "code",
   "execution_count": 4,
   "id": "9c81bbd6",
   "metadata": {},
   "outputs": [
    {
     "data": {
      "text/html": [
       "<div>\n",
       "<style scoped>\n",
       "    .dataframe tbody tr th:only-of-type {\n",
       "        vertical-align: middle;\n",
       "    }\n",
       "\n",
       "    .dataframe tbody tr th {\n",
       "        vertical-align: top;\n",
       "    }\n",
       "\n",
       "    .dataframe thead th {\n",
       "        text-align: right;\n",
       "    }\n",
       "</style>\n",
       "<table border=\"1\" class=\"dataframe\">\n",
       "  <thead>\n",
       "    <tr style=\"text-align: right;\">\n",
       "      <th>label</th>\n",
       "      <th>ctrl</th>\n",
       "      <th>stim</th>\n",
       "    </tr>\n",
       "    <tr>\n",
       "      <th>cell_type</th>\n",
       "      <th></th>\n",
       "      <th></th>\n",
       "    </tr>\n",
       "  </thead>\n",
       "  <tbody>\n",
       "    <tr>\n",
       "      <th>COPs</th>\n",
       "      <td>3</td>\n",
       "      <td>6</td>\n",
       "    </tr>\n",
       "    <tr>\n",
       "      <th>MFOLs</th>\n",
       "      <td>5</td>\n",
       "      <td>5</td>\n",
       "    </tr>\n",
       "    <tr>\n",
       "      <th>MOL_A</th>\n",
       "      <td>3</td>\n",
       "      <td>3</td>\n",
       "    </tr>\n",
       "    <tr>\n",
       "      <th>MOL_B</th>\n",
       "      <td>5</td>\n",
       "      <td>9</td>\n",
       "    </tr>\n",
       "    <tr>\n",
       "      <th>MOL_C</th>\n",
       "      <td>5</td>\n",
       "      <td>8</td>\n",
       "    </tr>\n",
       "    <tr>\n",
       "      <th>MOL_D</th>\n",
       "      <td>5</td>\n",
       "      <td>9</td>\n",
       "    </tr>\n",
       "    <tr>\n",
       "      <th>MOL_E</th>\n",
       "      <td>4</td>\n",
       "      <td>9</td>\n",
       "    </tr>\n",
       "    <tr>\n",
       "      <th>MOL_F</th>\n",
       "      <td>3</td>\n",
       "      <td>9</td>\n",
       "    </tr>\n",
       "    <tr>\n",
       "      <th>MOL_G</th>\n",
       "      <td>3</td>\n",
       "      <td>3</td>\n",
       "    </tr>\n",
       "    <tr>\n",
       "      <th>NFOLs</th>\n",
       "      <td>1</td>\n",
       "      <td>6</td>\n",
       "    </tr>\n",
       "    <tr>\n",
       "      <th>OPCs</th>\n",
       "      <td>5</td>\n",
       "      <td>9</td>\n",
       "    </tr>\n",
       "    <tr>\n",
       "      <th>cycl_OPCs</th>\n",
       "      <td>2</td>\n",
       "      <td>7</td>\n",
       "    </tr>\n",
       "  </tbody>\n",
       "</table>\n",
       "</div>"
      ],
      "text/plain": [
       "label      ctrl  stim\n",
       "cell_type            \n",
       "COPs          3     6\n",
       "MFOLs         5     5\n",
       "MOL_A         3     3\n",
       "MOL_B         5     9\n",
       "MOL_C         5     8\n",
       "MOL_D         5     9\n",
       "MOL_E         4     9\n",
       "MOL_F         3     9\n",
       "MOL_G         3     3\n",
       "NFOLs         1     6\n",
       "OPCs          5     9\n",
       "cycl_OPCs     2     7"
      ]
     },
     "execution_count": 4,
     "metadata": {},
     "output_type": "execute_result"
    }
   ],
   "source": [
    "# Extract the data as a pandas DataFrame\n",
    "df = adata_pb.obs[['cell_type', 'label']]\n",
    "\n",
    "# Create a summary table\n",
    "summary_table = df.groupby(['cell_type', 'label']).size().unstack(fill_value=0)\n",
    "summary_table"
   ]
  },
  {
   "cell_type": "code",
   "execution_count": 5,
   "id": "9e5a3fe0",
   "metadata": {},
   "outputs": [
    {
     "name": "stdout",
     "output_type": "stream",
     "text": [
      "Dimensions of adata_sub: (26, 19304)\n"
     ]
    }
   ],
   "source": [
    "adata_sub= adata_pb[np.in1d(adata_pb.obs['cell_type'], \n",
    "                           ['MOL_D', 'MOL_F'])].copy()\n",
    "\n",
    "print(\"Dimensions of adata_sub:\", adata_sub.shape)"
   ]
  },
  {
   "cell_type": "code",
   "execution_count": 6,
   "id": "860aa9d1",
   "metadata": {},
   "outputs": [],
   "source": [
    "pub_map = {\n",
    "    '(this study)': 'Adams',\n",
    "    'Pandey et al. 2022': 'Pandey'\n",
    "}\n",
    "\n",
    "# Update the 'treatment_meta' column based on the mapping\n",
    "adata_sub.obs['batch'] = adata_sub.obs['publication'].map(pub_map)"
   ]
  },
  {
   "cell_type": "code",
   "execution_count": 7,
   "id": "5c9e6461",
   "metadata": {},
   "outputs": [],
   "source": [
    "# Concatenate 'individual_lesion_condition' and 'replicate' to create 'sample'\n",
    "adata_sub.obs['cell_type_sample'] = adata_sub.obs['cell_type'].astype(str) + '_' + adata_sub.obs['sample_rep'].astype(str)"
   ]
  },
  {
   "cell_type": "code",
   "execution_count": 8,
   "id": "5df79ed2",
   "metadata": {},
   "outputs": [
    {
     "data": {
      "text/html": [
       "<div>\n",
       "<style scoped>\n",
       "    .dataframe tbody tr th:only-of-type {\n",
       "        vertical-align: middle;\n",
       "    }\n",
       "\n",
       "    .dataframe tbody tr th {\n",
       "        vertical-align: top;\n",
       "    }\n",
       "\n",
       "    .dataframe thead th {\n",
       "        text-align: right;\n",
       "    }\n",
       "</style>\n",
       "<table border=\"1\" class=\"dataframe\">\n",
       "  <thead>\n",
       "    <tr style=\"text-align: right;\">\n",
       "      <th></th>\n",
       "      <th>publication</th>\n",
       "      <th>label</th>\n",
       "      <th>cell_type</th>\n",
       "      <th>replicate_cat</th>\n",
       "      <th>sample</th>\n",
       "      <th>sample_rep</th>\n",
       "      <th>batch</th>\n",
       "      <th>lib_size</th>\n",
       "      <th>log_lib_size</th>\n",
       "      <th>replicate</th>\n",
       "      <th>cell_type_sample</th>\n",
       "    </tr>\n",
       "  </thead>\n",
       "  <tbody>\n",
       "    <tr>\n",
       "      <th>donor_ctrl_1_0-1-0-0-0</th>\n",
       "      <td>(this study)</td>\n",
       "      <td>ctrl</td>\n",
       "      <td>MOL_D</td>\n",
       "      <td>1</td>\n",
       "      <td>ctrl_1</td>\n",
       "      <td>LPC_Saline_2</td>\n",
       "      <td>Adams</td>\n",
       "      <td>358851</td>\n",
       "      <td>12.790663</td>\n",
       "      <td>1</td>\n",
       "      <td>MOL_D_LPC_Saline_2</td>\n",
       "    </tr>\n",
       "    <tr>\n",
       "      <th>donor_ctrl_2_0-1-0-0-0</th>\n",
       "      <td>(this study)</td>\n",
       "      <td>ctrl</td>\n",
       "      <td>MOL_D</td>\n",
       "      <td>2</td>\n",
       "      <td>ctrl_2</td>\n",
       "      <td>LPC_Saline_1</td>\n",
       "      <td>Adams</td>\n",
       "      <td>709876</td>\n",
       "      <td>13.472846</td>\n",
       "      <td>2</td>\n",
       "      <td>MOL_D_LPC_Saline_1</td>\n",
       "    </tr>\n",
       "    <tr>\n",
       "      <th>donor_ctrl_3_0-1-0-0-0</th>\n",
       "      <td>Pandey et al. 2022</td>\n",
       "      <td>ctrl</td>\n",
       "      <td>MOL_D</td>\n",
       "      <td>3</td>\n",
       "      <td>ctrl_3</td>\n",
       "      <td>LPC_ctrl_3</td>\n",
       "      <td>Pandey</td>\n",
       "      <td>2775671</td>\n",
       "      <td>14.836403</td>\n",
       "      <td>3</td>\n",
       "      <td>MOL_D_LPC_ctrl_3</td>\n",
       "    </tr>\n",
       "    <tr>\n",
       "      <th>donor_ctrl_4_0-1-0-0-0</th>\n",
       "      <td>Pandey et al. 2022</td>\n",
       "      <td>ctrl</td>\n",
       "      <td>MOL_D</td>\n",
       "      <td>4</td>\n",
       "      <td>ctrl_4</td>\n",
       "      <td>LPC_ctrl_2</td>\n",
       "      <td>Pandey</td>\n",
       "      <td>8636551</td>\n",
       "      <td>15.971514</td>\n",
       "      <td>4</td>\n",
       "      <td>MOL_D_LPC_ctrl_2</td>\n",
       "    </tr>\n",
       "    <tr>\n",
       "      <th>donor_ctrl_5_0-1-0-0-0</th>\n",
       "      <td>Pandey et al. 2022</td>\n",
       "      <td>ctrl</td>\n",
       "      <td>MOL_D</td>\n",
       "      <td>5</td>\n",
       "      <td>ctrl_5</td>\n",
       "      <td>LPC_ctrl_1</td>\n",
       "      <td>Pandey</td>\n",
       "      <td>6002958</td>\n",
       "      <td>15.607763</td>\n",
       "      <td>5</td>\n",
       "      <td>MOL_D_LPC_ctrl_1</td>\n",
       "    </tr>\n",
       "  </tbody>\n",
       "</table>\n",
       "</div>"
      ],
      "text/plain": [
       "                               publication label cell_type replicate_cat  \\\n",
       "donor_ctrl_1_0-1-0-0-0        (this study)  ctrl     MOL_D             1   \n",
       "donor_ctrl_2_0-1-0-0-0        (this study)  ctrl     MOL_D             2   \n",
       "donor_ctrl_3_0-1-0-0-0  Pandey et al. 2022  ctrl     MOL_D             3   \n",
       "donor_ctrl_4_0-1-0-0-0  Pandey et al. 2022  ctrl     MOL_D             4   \n",
       "donor_ctrl_5_0-1-0-0-0  Pandey et al. 2022  ctrl     MOL_D             5   \n",
       "\n",
       "                        sample    sample_rep   batch  lib_size  log_lib_size  \\\n",
       "donor_ctrl_1_0-1-0-0-0  ctrl_1  LPC_Saline_2   Adams    358851     12.790663   \n",
       "donor_ctrl_2_0-1-0-0-0  ctrl_2  LPC_Saline_1   Adams    709876     13.472846   \n",
       "donor_ctrl_3_0-1-0-0-0  ctrl_3    LPC_ctrl_3  Pandey   2775671     14.836403   \n",
       "donor_ctrl_4_0-1-0-0-0  ctrl_4    LPC_ctrl_2  Pandey   8636551     15.971514   \n",
       "donor_ctrl_5_0-1-0-0-0  ctrl_5    LPC_ctrl_1  Pandey   6002958     15.607763   \n",
       "\n",
       "                       replicate    cell_type_sample  \n",
       "donor_ctrl_1_0-1-0-0-0         1  MOL_D_LPC_Saline_2  \n",
       "donor_ctrl_2_0-1-0-0-0         2  MOL_D_LPC_Saline_1  \n",
       "donor_ctrl_3_0-1-0-0-0         3    MOL_D_LPC_ctrl_3  \n",
       "donor_ctrl_4_0-1-0-0-0         4    MOL_D_LPC_ctrl_2  \n",
       "donor_ctrl_5_0-1-0-0-0         5    MOL_D_LPC_ctrl_1  "
      ]
     },
     "execution_count": 8,
     "metadata": {},
     "output_type": "execute_result"
    }
   ],
   "source": [
    "adata_sub.obs[:5]"
   ]
  },
  {
   "cell_type": "markdown",
   "id": "e2f53bd1",
   "metadata": {},
   "source": [
    "# Subset for demyelination and remyelination MOL2 data"
   ]
  },
  {
   "cell_type": "code",
   "execution_count": 9,
   "id": "19c4e015",
   "metadata": {},
   "outputs": [
    {
     "name": "stdout",
     "output_type": "stream",
     "text": [
      "MOL_D_LPC_Saline_2\n",
      "MOL_D_LPC_Saline_1\n",
      "MOL_D_LPC_ctrl_3\n",
      "MOL_D_LPC_ctrl_2\n",
      "MOL_D_LPC_ctrl_1\n",
      "MOL_D_LPC_7d_2\n",
      "MOL_D_LPC_7d_1\n",
      "MOL_D_LPC_5d_1\n",
      "MOL_D_LPC_5d_3\n",
      "MOL_D_LPC_28d_3\n",
      "MOL_D_LPC_28d_1\n",
      "MOL_D_LPC_5d_2\n",
      "MOL_D_LPC_28d_2\n",
      "MOL_D_LPC_5d_4\n",
      "MOL_F_LPC_Saline_2\n",
      "MOL_F_LPC_Saline_1\n",
      "MOL_F_LPC_ctrl_2\n",
      "MOL_F_LPC_7d_2\n",
      "MOL_F_LPC_7d_1\n",
      "MOL_F_LPC_5d_1\n",
      "MOL_F_LPC_5d_3\n",
      "MOL_F_LPC_28d_3\n",
      "MOL_F_LPC_28d_1\n",
      "MOL_F_LPC_5d_2\n",
      "MOL_F_LPC_28d_2\n",
      "MOL_F_LPC_5d_4\n"
     ]
    }
   ],
   "source": [
    "# Unique values in the 'condition' column\n",
    "unique_conditions = adata_sub.obs['cell_type_sample'].unique()\n",
    "for condition in unique_conditions:\n",
    "    print(condition)"
   ]
  },
  {
   "cell_type": "code",
   "execution_count": 10,
   "id": "4a947f7b",
   "metadata": {},
   "outputs": [
    {
     "name": "stdout",
     "output_type": "stream",
     "text": [
      "Dimensions of adata_sub: (11, 19304)\n"
     ]
    }
   ],
   "source": [
    "adata_sub= adata_sub[np.in1d(adata_sub.obs['cell_type_sample'], \n",
    "                           [\n",
    "                              'MOL_D_LPC_Saline_2',\n",
    "                                'MOL_D_LPC_Saline_1',\n",
    "                                'MOL_D_LPC_ctrl_3',\n",
    "                                'MOL_D_LPC_ctrl_2',\n",
    "                                'MOL_D_LPC_ctrl_1',\n",
    "                                'MOL_F_LPC_7d_2',\n",
    "                                'MOL_F_LPC_7d_1',\n",
    "                                'MOL_F_LPC_5d_1',\n",
    "                                'MOL_F_LPC_5d_3',\n",
    "                                'MOL_F_LPC_5d_2',\n",
    "                                'MOL_F_LPC_5d_4',\n",
    "                           ])].copy()\n",
    "\n",
    "print(\"Dimensions of adata_sub:\", adata_sub.shape)"
   ]
  },
  {
   "cell_type": "code",
   "execution_count": 11,
   "id": "004f16ab",
   "metadata": {},
   "outputs": [],
   "source": [
    "# Check if the 'sample_rep' column exists\n",
    "if 'sample_rep' in adata_sub.obs.columns:\n",
    "    # Set the 'sample_rep' column as the index\n",
    "    adata_sub.obs.set_index('sample_rep', inplace=True)\n",
    "else:\n",
    "    print(\"The column 'sample_rep' does not exist in adata_sub.obs.\")\n",
    "\n",
    "adata_sub.obs.index.name = None"
   ]
  },
  {
   "cell_type": "code",
   "execution_count": 12,
   "id": "65c8ca68",
   "metadata": {},
   "outputs": [
    {
     "data": {
      "text/html": [
       "<div>\n",
       "<style scoped>\n",
       "    .dataframe tbody tr th:only-of-type {\n",
       "        vertical-align: middle;\n",
       "    }\n",
       "\n",
       "    .dataframe tbody tr th {\n",
       "        vertical-align: top;\n",
       "    }\n",
       "\n",
       "    .dataframe thead th {\n",
       "        text-align: right;\n",
       "    }\n",
       "</style>\n",
       "<table border=\"1\" class=\"dataframe\">\n",
       "  <thead>\n",
       "    <tr style=\"text-align: right;\">\n",
       "      <th></th>\n",
       "      <th>publication</th>\n",
       "      <th>label</th>\n",
       "      <th>cell_type</th>\n",
       "      <th>replicate_cat</th>\n",
       "      <th>sample</th>\n",
       "      <th>batch</th>\n",
       "      <th>lib_size</th>\n",
       "      <th>log_lib_size</th>\n",
       "      <th>replicate</th>\n",
       "      <th>cell_type_sample</th>\n",
       "    </tr>\n",
       "  </thead>\n",
       "  <tbody>\n",
       "    <tr>\n",
       "      <th>LPC_Saline_2</th>\n",
       "      <td>(this study)</td>\n",
       "      <td>ctrl</td>\n",
       "      <td>MOL_D</td>\n",
       "      <td>1</td>\n",
       "      <td>ctrl_1</td>\n",
       "      <td>Adams</td>\n",
       "      <td>358851</td>\n",
       "      <td>12.790663</td>\n",
       "      <td>1</td>\n",
       "      <td>MOL_D_LPC_Saline_2</td>\n",
       "    </tr>\n",
       "    <tr>\n",
       "      <th>LPC_Saline_1</th>\n",
       "      <td>(this study)</td>\n",
       "      <td>ctrl</td>\n",
       "      <td>MOL_D</td>\n",
       "      <td>2</td>\n",
       "      <td>ctrl_2</td>\n",
       "      <td>Adams</td>\n",
       "      <td>709876</td>\n",
       "      <td>13.472846</td>\n",
       "      <td>2</td>\n",
       "      <td>MOL_D_LPC_Saline_1</td>\n",
       "    </tr>\n",
       "    <tr>\n",
       "      <th>LPC_ctrl_3</th>\n",
       "      <td>Pandey et al. 2022</td>\n",
       "      <td>ctrl</td>\n",
       "      <td>MOL_D</td>\n",
       "      <td>3</td>\n",
       "      <td>ctrl_3</td>\n",
       "      <td>Pandey</td>\n",
       "      <td>2775671</td>\n",
       "      <td>14.836403</td>\n",
       "      <td>3</td>\n",
       "      <td>MOL_D_LPC_ctrl_3</td>\n",
       "    </tr>\n",
       "    <tr>\n",
       "      <th>LPC_ctrl_2</th>\n",
       "      <td>Pandey et al. 2022</td>\n",
       "      <td>ctrl</td>\n",
       "      <td>MOL_D</td>\n",
       "      <td>4</td>\n",
       "      <td>ctrl_4</td>\n",
       "      <td>Pandey</td>\n",
       "      <td>8636551</td>\n",
       "      <td>15.971514</td>\n",
       "      <td>4</td>\n",
       "      <td>MOL_D_LPC_ctrl_2</td>\n",
       "    </tr>\n",
       "    <tr>\n",
       "      <th>LPC_ctrl_1</th>\n",
       "      <td>Pandey et al. 2022</td>\n",
       "      <td>ctrl</td>\n",
       "      <td>MOL_D</td>\n",
       "      <td>5</td>\n",
       "      <td>ctrl_5</td>\n",
       "      <td>Pandey</td>\n",
       "      <td>6002958</td>\n",
       "      <td>15.607763</td>\n",
       "      <td>5</td>\n",
       "      <td>MOL_D_LPC_ctrl_1</td>\n",
       "    </tr>\n",
       "    <tr>\n",
       "      <th>LPC_7d_2</th>\n",
       "      <td>(this study)</td>\n",
       "      <td>stim</td>\n",
       "      <td>MOL_F</td>\n",
       "      <td>1</td>\n",
       "      <td>stim_1</td>\n",
       "      <td>Adams</td>\n",
       "      <td>184841</td>\n",
       "      <td>12.127251</td>\n",
       "      <td>1</td>\n",
       "      <td>MOL_F_LPC_7d_2</td>\n",
       "    </tr>\n",
       "    <tr>\n",
       "      <th>LPC_7d_1</th>\n",
       "      <td>(this study)</td>\n",
       "      <td>stim</td>\n",
       "      <td>MOL_F</td>\n",
       "      <td>2</td>\n",
       "      <td>stim_2</td>\n",
       "      <td>Adams</td>\n",
       "      <td>223894</td>\n",
       "      <td>12.318928</td>\n",
       "      <td>2</td>\n",
       "      <td>MOL_F_LPC_7d_1</td>\n",
       "    </tr>\n",
       "    <tr>\n",
       "      <th>LPC_5d_1</th>\n",
       "      <td>Pandey et al. 2022</td>\n",
       "      <td>stim</td>\n",
       "      <td>MOL_F</td>\n",
       "      <td>3</td>\n",
       "      <td>stim_3</td>\n",
       "      <td>Pandey</td>\n",
       "      <td>2119084</td>\n",
       "      <td>14.566494</td>\n",
       "      <td>3</td>\n",
       "      <td>MOL_F_LPC_5d_1</td>\n",
       "    </tr>\n",
       "    <tr>\n",
       "      <th>LPC_5d_3</th>\n",
       "      <td>Pandey et al. 2022</td>\n",
       "      <td>stim</td>\n",
       "      <td>MOL_F</td>\n",
       "      <td>4</td>\n",
       "      <td>stim_4</td>\n",
       "      <td>Pandey</td>\n",
       "      <td>4564697</td>\n",
       "      <td>15.333863</td>\n",
       "      <td>4</td>\n",
       "      <td>MOL_F_LPC_5d_3</td>\n",
       "    </tr>\n",
       "    <tr>\n",
       "      <th>LPC_5d_2</th>\n",
       "      <td>Pandey et al. 2022</td>\n",
       "      <td>stim</td>\n",
       "      <td>MOL_F</td>\n",
       "      <td>7</td>\n",
       "      <td>stim_7</td>\n",
       "      <td>Pandey</td>\n",
       "      <td>2177503</td>\n",
       "      <td>14.593689</td>\n",
       "      <td>7</td>\n",
       "      <td>MOL_F_LPC_5d_2</td>\n",
       "    </tr>\n",
       "    <tr>\n",
       "      <th>LPC_5d_4</th>\n",
       "      <td>Pandey et al. 2022</td>\n",
       "      <td>stim</td>\n",
       "      <td>MOL_F</td>\n",
       "      <td>9</td>\n",
       "      <td>stim_9</td>\n",
       "      <td>Pandey</td>\n",
       "      <td>537869</td>\n",
       "      <td>13.195370</td>\n",
       "      <td>9</td>\n",
       "      <td>MOL_F_LPC_5d_4</td>\n",
       "    </tr>\n",
       "  </tbody>\n",
       "</table>\n",
       "</div>"
      ],
      "text/plain": [
       "                     publication label cell_type replicate_cat  sample  \\\n",
       "LPC_Saline_2        (this study)  ctrl     MOL_D             1  ctrl_1   \n",
       "LPC_Saline_1        (this study)  ctrl     MOL_D             2  ctrl_2   \n",
       "LPC_ctrl_3    Pandey et al. 2022  ctrl     MOL_D             3  ctrl_3   \n",
       "LPC_ctrl_2    Pandey et al. 2022  ctrl     MOL_D             4  ctrl_4   \n",
       "LPC_ctrl_1    Pandey et al. 2022  ctrl     MOL_D             5  ctrl_5   \n",
       "LPC_7d_2            (this study)  stim     MOL_F             1  stim_1   \n",
       "LPC_7d_1            (this study)  stim     MOL_F             2  stim_2   \n",
       "LPC_5d_1      Pandey et al. 2022  stim     MOL_F             3  stim_3   \n",
       "LPC_5d_3      Pandey et al. 2022  stim     MOL_F             4  stim_4   \n",
       "LPC_5d_2      Pandey et al. 2022  stim     MOL_F             7  stim_7   \n",
       "LPC_5d_4      Pandey et al. 2022  stim     MOL_F             9  stim_9   \n",
       "\n",
       "               batch  lib_size  log_lib_size replicate    cell_type_sample  \n",
       "LPC_Saline_2   Adams    358851     12.790663         1  MOL_D_LPC_Saline_2  \n",
       "LPC_Saline_1   Adams    709876     13.472846         2  MOL_D_LPC_Saline_1  \n",
       "LPC_ctrl_3    Pandey   2775671     14.836403         3    MOL_D_LPC_ctrl_3  \n",
       "LPC_ctrl_2    Pandey   8636551     15.971514         4    MOL_D_LPC_ctrl_2  \n",
       "LPC_ctrl_1    Pandey   6002958     15.607763         5    MOL_D_LPC_ctrl_1  \n",
       "LPC_7d_2       Adams    184841     12.127251         1      MOL_F_LPC_7d_2  \n",
       "LPC_7d_1       Adams    223894     12.318928         2      MOL_F_LPC_7d_1  \n",
       "LPC_5d_1      Pandey   2119084     14.566494         3      MOL_F_LPC_5d_1  \n",
       "LPC_5d_3      Pandey   4564697     15.333863         4      MOL_F_LPC_5d_3  \n",
       "LPC_5d_2      Pandey   2177503     14.593689         7      MOL_F_LPC_5d_2  \n",
       "LPC_5d_4      Pandey    537869     13.195370         9      MOL_F_LPC_5d_4  "
      ]
     },
     "execution_count": 12,
     "metadata": {},
     "output_type": "execute_result"
    }
   ],
   "source": [
    "adata_sub.obs"
   ]
  },
  {
   "cell_type": "markdown",
   "id": "410e9eb5",
   "metadata": {},
   "source": [
    "# Rename the MOL clusters for NEW letter based nomenclature"
   ]
  },
  {
   "cell_type": "code",
   "execution_count": 13,
   "id": "c27be2e8",
   "metadata": {},
   "outputs": [
    {
     "name": "stdout",
     "output_type": "stream",
     "text": [
      "[[  0   0   2   0   3]\n",
      " [  3   0   3   2   3]\n",
      " [  3   0 120   2  42]\n",
      " [  2   0 479   7 114]\n",
      " [  2   0 173  10  50]]\n"
     ]
    }
   ],
   "source": [
    "#Check the counts data\n",
    "print(adata_sub.X[:5, :5])"
   ]
  },
  {
   "cell_type": "markdown",
   "id": "bb668794",
   "metadata": {},
   "source": [
    "# Start R code: QC of log transformation"
   ]
  },
  {
   "cell_type": "code",
   "execution_count": 14,
   "id": "a2639073",
   "metadata": {},
   "outputs": [
    {
     "name": "stdout",
     "output_type": "stream",
     "text": [
      "             Group Reps  Batch\n",
      "LPC_Saline_2  ctrl    1  Adams\n",
      "LPC_Saline_1  ctrl    2  Adams\n",
      "LPC_ctrl_3    ctrl    3 Pandey\n",
      "LPC_ctrl_2    ctrl    4 Pandey\n",
      "LPC_ctrl_1    ctrl    5 Pandey\n",
      "LPC_7d_2      stim    1  Adams\n",
      "LPC_7d_1      stim    2  Adams\n",
      "LPC_5d_1      stim    3 Pandey\n",
      "LPC_5d_3      stim    4 Pandey\n",
      "LPC_5d_2      stim    7 Pandey\n",
      "LPC_5d_4      stim    9 Pandey\n"
     ]
    }
   ],
   "source": [
    "%%R -i adata_sub\n",
    "\n",
    "# Concatenate label and cell type for group factor\n",
    "group <- colData(adata_sub)$label #ctrl or stim\n",
    "replicate <- colData(adata_sub)$replicate #replicate number\n",
    "batch <- colData(adata_sub)$batch\n",
    "\n",
    "treatments <- data.frame(\"Group\"=group, \"Reps\"=replicate, \"Batch\"= batch)\n",
    "print(treatments)"
   ]
  },
  {
   "cell_type": "code",
   "execution_count": 15,
   "id": "8176fc6d",
   "metadata": {},
   "outputs": [
    {
     "name": "stdout",
     "output_type": "stream",
     "text": [
      "[1] \"Dimensions before subsetting:\"\n",
      "[1] 19304    11\n",
      "\n",
      "ctrl stim \n",
      "   5    6 \n"
     ]
    }
   ],
   "source": [
    "%%R\n",
    "\n",
    "#Create a DGElist object using the anndata counts in 'X'\n",
    "x <- DGEList(assay(adata_sub, \"X\"), group=colData(adata_sub)$label)\n",
    "\n",
    "samplenames <- colnames(x$counts)\n",
    "\n",
    "print(\"Dimensions before subsetting:\")\n",
    "print(dim(x))\n",
    "\n",
    "# Check counts per group before filtering\n",
    "print(table(x$samples$group))"
   ]
  },
  {
   "cell_type": "code",
   "execution_count": 16,
   "id": "d519b840",
   "metadata": {},
   "outputs": [
    {
     "name": "stdout",
     "output_type": "stream",
     "text": [
      " [1] ctrl ctrl ctrl ctrl ctrl stim stim stim stim stim stim\n",
      "Levels: ctrl stim\n"
     ]
    }
   ],
   "source": [
    "%%R\n",
    "\n",
    "cd <- x$samples$group\n",
    "print(cd)"
   ]
  },
  {
   "cell_type": "code",
   "execution_count": 17,
   "id": "73d95282",
   "metadata": {},
   "outputs": [
    {
     "name": "stdout",
     "output_type": "stream",
     "text": [
      "   cdctrl cdstim\n",
      "1       1      0\n",
      "2       1      0\n",
      "3       1      0\n",
      "4       1      0\n",
      "5       1      0\n",
      "6       0      1\n",
      "7       0      1\n",
      "8       0      1\n",
      "9       0      1\n",
      "10      0      1\n",
      "11      0      1\n",
      "attr(,\"assign\")\n",
      "[1] 1 1\n",
      "attr(,\"contrasts\")\n",
      "attr(,\"contrasts\")$cd\n",
      "[1] \"contr.treatment\"\n",
      "\n"
     ]
    }
   ],
   "source": [
    "%%R\n",
    "\n",
    "# Adjust for batch-- ie publication in the model matrix\n",
    "design <- model.matrix(~0 + cd)\n",
    "design"
   ]
  },
  {
   "cell_type": "code",
   "execution_count": 18,
   "id": "6d6183da",
   "metadata": {},
   "outputs": [
    {
     "name": "stdout",
     "output_type": "stream",
     "text": [
      "[1] 9677   11\n"
     ]
    }
   ],
   "source": [
    "%%R\n",
    "\n",
    "# More strict removal of genes, tried group, pub and batch\n",
    "keep.expr <- filterByExpr(x, design)\n",
    "x2 <- x[keep.expr,, keep.lib.sizes=FALSE]\n",
    "dim(x2)"
   ]
  },
  {
   "cell_type": "code",
   "execution_count": 19,
   "id": "a53ca1e4",
   "metadata": {},
   "outputs": [
    {
     "name": "stdout",
     "output_type": "stream",
     "text": [
      "[1] 10283    11\n"
     ]
    }
   ],
   "source": [
    "%%R\n",
    "\n",
    "## OLD DON\"T USE THIS\n",
    "\n",
    "keep.exprs <- filterByExpr(x, group=batch)\n",
    "b <- x[keep.exprs,, keep.lib.sizes=FALSE]\n",
    "dim(b)"
   ]
  },
  {
   "cell_type": "code",
   "execution_count": 20,
   "id": "eff91fce",
   "metadata": {},
   "outputs": [
    {
     "name": "stdout",
     "output_type": "stream",
     "text": [
      "[1] 2.552464 2.105341\n"
     ]
    }
   ],
   "source": [
    "%%R\n",
    "#X is before trimming, Y is after trimming\n",
    "L <- mean(x2$samples$lib.size) * 1e-6\n",
    "M <- median(x2$samples$lib.size) * 1e-6\n",
    "c(L, M)"
   ]
  },
  {
   "cell_type": "code",
   "execution_count": 21,
   "id": "ed52de22",
   "metadata": {},
   "outputs": [
    {
     "name": "stdout",
     "output_type": "stream",
     "text": [
      " [1] 1.3106180 1.3179254 0.9305017 0.9876606 0.9796875 1.2370719 1.1672143\n",
      " [8] 0.8910602 0.7411050 0.8079643 0.8346341\n"
     ]
    }
   ],
   "source": [
    "%%R\n",
    "## Calc norm factors before to normalize library sizes, then cpm divides counts by lib sizes\n",
    "#X is before trimming, Y is after trimming, X2 is also trimmed but differently\n",
    "x2 <- calcNormFactors(x2, method = \"TMM\")\n",
    "x2$samples$norm.factors"
   ]
  },
  {
   "cell_type": "code",
   "execution_count": 22,
   "id": "995a9487",
   "metadata": {},
   "outputs": [],
   "source": [
    "%%R\n",
    "#X2 is the norm lib sizes and trimmed\n",
    "cpm <- edgeR::cpm(x2, log=FALSE, prior.counts=3)\n",
    "lcpm <- edgeR::cpm(x2, log=TRUE, prior.count=3)"
   ]
  },
  {
   "cell_type": "code",
   "execution_count": 23,
   "id": "1c21200d",
   "metadata": {},
   "outputs": [
    {
     "data": {
      "image/png": "[encoded data removed]",
      "text/plain": [
       "<IPython.core.display.Image object>"
      ]
     },
     "metadata": {},
     "output_type": "display_data"
    }
   ],
   "source": [
    "%%R\n",
    "lcpm.cutoff <- log2(10/M + 2/L)\n",
    "library(RColorBrewer)\n",
    "nsamples <- ncol(x2)\n",
    "col <- brewer.pal(nsamples, \"Paired\")\n",
    "\n",
    "par(mfrow=c(1,2))\n",
    "\n",
    "lcpm <- edgeR::cpm(x, log=TRUE)\n",
    "plot(density(lcpm[,1]), col=col[1], lwd=2, ylim=c(0,0.35), las=2, main=\"\", xlab=\"\")\n",
    "title(main=\"A. Raw data\", xlab=\"Log-cpm\")\n",
    "abline(v=lcpm.cutoff, lty=3)\n",
    "for (i in 2:nsamples){\n",
    "  den <- density(lcpm[,i])\n",
    "  lines(den$x, den$y, col=col[i], lwd=2)\n",
    "}\n",
    "legend(\"topright\", samplenames, text.col=col, bty=\"n\")\n",
    "\n",
    "lcpm <- edgeR::cpm(x2, log=TRUE)\n",
    "plot(density(lcpm[,1]), col=col[1], lwd=2, ylim=c(0,0.25), las=2, main=\"\", xlab=\"\")\n",
    "title(main=\"B. Filtered data\", xlab=\"Log-cpm\")\n",
    "abline(v=lcpm.cutoff, lty=3)\n",
    "for (i in 2:nsamples){\n",
    "  den <- density(lcpm[,i])\n",
    "  lines(den$x, den$y, col=col[i], lwd=2)\n",
    "}\n",
    "legend(\"topright\", samplenames, text.col=col, bty=\"n\")"
   ]
  },
  {
   "cell_type": "code",
   "execution_count": 24,
   "id": "0a231181",
   "metadata": {},
   "outputs": [
    {
     "data": {
      "image/png": "[encoded data removed]",
      "text/plain": [
       "<IPython.core.display.Image object>"
      ]
     },
     "metadata": {},
     "output_type": "display_data"
    }
   ],
   "source": [
    "%%R\n",
    "y2 <- x2\n",
    "y2$samples$norm.factors <- 1\n",
    "y2$counts[,1] <- ceiling(y2$counts[,1]*0.05)\n",
    "y2$counts[,2] <- y2$counts[,2]*5\n",
    "\n",
    "par(mfrow=c(1,2))\n",
    "lcpm <- edgeR::cpm(y2, log=TRUE)\n",
    "boxplot(lcpm, las=2, col=col, main=\"\")\n",
    "title(main=\"Unnormalised data\", ylab=\"Log-cpm\")\n",
    "\n",
    "y3 <- calcNormFactors(y2)\n",
    "y3$samples$norm.factors\n",
    "\n",
    "lcpm <- edgeR::cpm(y3, log=TRUE)\n",
    "boxplot(lcpm, las=2, col=col, main=\"\")\n",
    "title(main=\"Normalised data\", ylab=\"Log-cpm\")"
   ]
  },
  {
   "cell_type": "markdown",
   "id": "6ededd16",
   "metadata": {},
   "source": [
    "# Show how log transf + batch removal affects the separation of samples:"
   ]
  },
  {
   "cell_type": "code",
   "execution_count": 25,
   "id": "2e68e94f",
   "metadata": {},
   "outputs": [],
   "source": [
    "%%R\n",
    "#Make new count matrix with log counts and DGE data from X2 (trimmed, normfactors)\n",
    "x3 <- x2\n",
    "x3$counts <- lcpm"
   ]
  },
  {
   "cell_type": "code",
   "execution_count": 26,
   "id": "4f317f45",
   "metadata": {},
   "outputs": [
    {
     "data": {
      "image/png": "[encoded data removed]",
      "text/plain": [
       "<IPython.core.display.Image object>"
      ]
     },
     "metadata": {},
     "output_type": "display_data"
    }
   ],
   "source": [
    "%%R\n",
    "# Assuming 'group' is stored in y$samples dataframe\n",
    "group <- x2$samples$group\n",
    "\n",
    "# Generate a numeric vector from group factors (if not already factor, convert it)\n",
    "group_factor <- as.factor(group)\n",
    "group_colors <- as.numeric(group_factor)  # This converts factors to unique integers\n",
    "\n",
    "# Define a set of colors corresponding to the factors\n",
    "# Example: If you have two groups, you could define two colors\n",
    "colors <- c(\"blue\", \"red\")  # Adjust the number and colors based on your actual groups\n",
    "\n",
    "# Use these colors in your plotMDS\n",
    "plotMDS(x2, col = colors[group_colors])\n",
    "\n",
    "# Adding a legend for clarity\n",
    "legend(\"topright\", legend=levels(group_factor), fill=colors, title=\"Group\")"
   ]
  },
  {
   "cell_type": "code",
   "execution_count": 27,
   "id": "95f36cf5",
   "metadata": {},
   "outputs": [
    {
     "data": {
      "image/png": "[encoded data removed]",
      "text/plain": [
       "<IPython.core.display.Image object>"
      ]
     },
     "metadata": {},
     "output_type": "display_data"
    }
   ],
   "source": [
    "%%R\n",
    "# Generate a numeric vector from group factors (if not already factor, convert it)\n",
    "pub_factor <- as.factor(batch)\n",
    "pub_colors <- as.numeric(pub_factor)  # This converts factors to unique integers\n",
    "\n",
    "# Define a set of colors corresponding to the factors\n",
    "# Example: If you have two groups, you could define two colors\n",
    "colors <- c(\"green\", \"purple\")  # Adjust the number and colors based on your actual groups\n",
    "\n",
    "# Use these colors in your plotMDS\n",
    "plotMDS(x2, col = colors[pub_colors])\n",
    "\n",
    "# Adding a legend for clarity\n",
    "legend(\"topright\", legend=levels(pub_factor), fill=colors, title=\"Group\")"
   ]
  },
  {
   "cell_type": "code",
   "execution_count": 28,
   "id": "5700c6ae",
   "metadata": {},
   "outputs": [
    {
     "name": "stdout",
     "output_type": "stream",
     "text": [
      "             group lib.size norm.factors\n",
      "LPC_Saline_2  ctrl   351027    1.3106180\n",
      "LPC_Saline_1  ctrl   693727    1.3179254\n",
      "LPC_ctrl_3    ctrl  2757168    0.9305017\n",
      "LPC_ctrl_2    ctrl  8572853    0.9876606\n",
      "LPC_ctrl_1    ctrl  5962866    0.9796875\n",
      "LPC_7d_2      stim   181124    1.2370719\n",
      "LPC_7d_1      stim   219411    1.1672143\n",
      "LPC_5d_1      stim  2105341    0.8910602\n",
      "LPC_5d_3      stim  4539300    0.7411050\n",
      "LPC_5d_2      stim  2159904    0.8079643\n",
      "LPC_5d_4      stim   534379    0.8346341\n"
     ]
    }
   ],
   "source": [
    "%%R\n",
    "\n",
    "x3$samples"
   ]
  },
  {
   "cell_type": "code",
   "execution_count": 29,
   "id": "a3c165e9",
   "metadata": {},
   "outputs": [
    {
     "name": "stdout",
     "output_type": "stream",
     "text": [
      "   cdctrl cdstim\n",
      "1       1      0\n",
      "2       1      0\n",
      "3       1      0\n",
      "4       1      0\n",
      "5       1      0\n",
      "6       0      1\n",
      "7       0      1\n",
      "8       0      1\n",
      "9       0      1\n",
      "10      0      1\n",
      "11      0      1\n",
      "attr(,\"assign\")\n",
      "[1] 1 1\n",
      "attr(,\"contrasts\")\n",
      "attr(,\"contrasts\")$cd\n",
      "[1] \"contr.treatment\"\n",
      "\n"
     ]
    }
   ],
   "source": [
    "%%R\n",
    "# Adjust for batch-- ie publication in the model matrix\n",
    "design <- model.matrix(~0 + cd)\n",
    "design"
   ]
  },
  {
   "cell_type": "code",
   "execution_count": 30,
   "id": "ebd3bc3a",
   "metadata": {},
   "outputs": [
    {
     "name": "stdout",
     "output_type": "stream",
     "text": [
      "        Contrasts\n",
      "Levels   cdstim - cdctrl\n",
      "  cdctrl              -1\n",
      "  cdstim               1\n"
     ]
    }
   ],
   "source": [
    "%%R\n",
    "contr.matrix <- makeContrasts(cdstim - cdctrl, levels = colnames(design))\n",
    "contr.matrix"
   ]
  },
  {
   "cell_type": "code",
   "execution_count": 31,
   "id": "93bc6589",
   "metadata": {},
   "outputs": [],
   "source": [
    "%%R\n",
    "# Convert to CPM and log2 transformation. \n",
    "logCPM <- edgeR::cpm(x2, log=TRUE, prior.count=3)"
   ]
  },
  {
   "cell_type": "code",
   "execution_count": 32,
   "id": "663eb21e",
   "metadata": {},
   "outputs": [],
   "source": [
    "%%R\n",
    "#Batch is set to the publication of origin to remove effects between sample origins\n",
    "logCPM_no_batch <- removeBatchEffect(logCPM, batch=batch) "
   ]
  },
  {
   "cell_type": "code",
   "execution_count": 33,
   "id": "aca27a7e",
   "metadata": {},
   "outputs": [
    {
     "data": {
      "image/png": "[encoded data removed]",
      "text/plain": [
       "<IPython.core.display.Image object>"
      ]
     },
     "metadata": {},
     "output_type": "display_data"
    }
   ],
   "source": [
    "%%R\n",
    "heatmap(logCPM)"
   ]
  },
  {
   "cell_type": "code",
   "execution_count": 34,
   "id": "ba624f0e",
   "metadata": {},
   "outputs": [
    {
     "data": {
      "image/png": "[encoded data removed]",
      "text/plain": [
       "<IPython.core.display.Image object>"
      ]
     },
     "metadata": {},
     "output_type": "display_data"
    }
   ],
   "source": [
    "%%R\n",
    "heatmap(logCPM_no_batch)"
   ]
  },
  {
   "cell_type": "markdown",
   "id": "c8808abd",
   "metadata": {},
   "source": [
    "# Voom with quality weights"
   ]
  },
  {
   "cell_type": "code",
   "execution_count": 35,
   "id": "35f69092",
   "metadata": {},
   "outputs": [
    {
     "name": "stdout",
     "output_type": "stream",
     "text": [
      "        Contrasts\n",
      "Levels   cdstim - cdctrl\n",
      "  cdctrl              -1\n",
      "  cdstim               1\n"
     ]
    }
   ],
   "source": [
    "%%R\n",
    "contr.matrix <- makeContrasts(cdstim - cdctrl, levels = colnames(design))\n",
    "contr.matrix"
   ]
  },
  {
   "cell_type": "code",
   "execution_count": 36,
   "id": "4710a80f",
   "metadata": {},
   "outputs": [
    {
     "data": {
      "image/png": "[encoded data removed]",
      "text/plain": [
       "<IPython.core.display.Image object>"
      ]
     },
     "metadata": {},
     "output_type": "display_data"
    }
   ],
   "source": [
    "%%R\n",
    "y <- voomWithQualityWeights(x2$counts, design, plot=TRUE)"
   ]
  },
  {
   "cell_type": "code",
   "execution_count": 37,
   "id": "a72d89df",
   "metadata": {},
   "outputs": [
    {
     "name": "stdout",
     "output_type": "stream",
     "text": [
      "[1] 0.4776032\n"
     ]
    }
   ],
   "source": [
    "%%R\n",
    "corfit <- duplicateCorrelation(y, design, block=batch)\n",
    "corfit$consensus.correlation"
   ]
  },
  {
   "cell_type": "code",
   "execution_count": 38,
   "id": "79b4a022",
   "metadata": {},
   "outputs": [
    {
     "data": {
      "image/png": "[encoded data removed]",
      "text/plain": [
       "<IPython.core.display.Image object>"
      ]
     },
     "metadata": {},
     "output_type": "display_data"
    }
   ],
   "source": [
    "%%R\n",
    "y2 <- voomWithQualityWeights(x2$counts, design, plot=TRUE, block=batch, correlation=corfit$consensus)"
   ]
  },
  {
   "cell_type": "code",
   "execution_count": 39,
   "id": "0cfa4152",
   "metadata": {},
   "outputs": [
    {
     "name": "stdout",
     "output_type": "stream",
     "text": [
      "[1] 0.6158048\n"
     ]
    }
   ],
   "source": [
    "%%R\n",
    "corfit2 <- duplicateCorrelation(y2,design,block=batch, weights=y2$targets$sample.weights)\n",
    "corfit2$consensus.correlation"
   ]
  },
  {
   "cell_type": "code",
   "execution_count": 40,
   "id": "33cc64bd",
   "metadata": {},
   "outputs": [],
   "source": [
    "%%R\n",
    "fit <- lmFit(y2, design, block=batch, correlation=corfit2$consensus)"
   ]
  },
  {
   "cell_type": "code",
   "execution_count": 41,
   "id": "c8ae878c",
   "metadata": {},
   "outputs": [
    {
     "data": {
      "image/png": "[encoded data removed]",
      "text/plain": [
       "<IPython.core.display.Image object>"
      ]
     },
     "metadata": {},
     "output_type": "display_data"
    }
   ],
   "source": [
    "%%R\n",
    "contr <- makeContrasts(cdstim - cdctrl, levels = colnames(coef(fit)))\n",
    "tmp <- contrasts.fit(fit, contr)\n",
    "tmp2 <- eBayes(tmp)\n",
    "\n",
    "plotSA(tmp2, xlab = \"Average log-expression\", ylab = \"sqrt(sigma)\", zero.weights = FALSE,\n",
    "       pch = 16, cex = 0.3, col = c(\"black\",\"red\"))"
   ]
  },
  {
   "cell_type": "code",
   "execution_count": 42,
   "id": "de7baa2f",
   "metadata": {},
   "outputs": [
    {
     "name": "stdout",
     "output_type": "stream",
     "text": [
      "                 logFC  AveExpr        t      P.Value    adj.P.Val        B\n",
      "Serpina3n     6.533785 6.775086 28.63736 1.130871e-13 1.094344e-09 21.54591\n",
      "Pros1         3.780291 4.164128 24.83927 7.753378e-13 3.162973e-09 19.50304\n",
      "Fam13c        3.733416 6.483897 24.41059 9.805640e-13 3.162973e-09 19.51768\n",
      "Il33          2.665567 8.585220 19.61067 1.848409e-11 4.471764e-08 16.73227\n",
      "Slc9a3r2      5.584361 4.426395 18.22433 4.899760e-11 9.482996e-08 15.72774\n",
      "Gpd1          3.211838 7.230794 17.93574 6.054159e-11 9.764349e-08 15.58027\n",
      "C4b           4.325982 6.921060 17.29050 9.829188e-11 1.358815e-07 15.10511\n",
      "2310002F09Rik 7.304276 3.717309 16.79647 1.440761e-10 1.742780e-07 13.78335\n",
      "Gm45338       3.325553 2.905228 16.31679 2.109432e-10 2.060354e-07 14.21919\n",
      "Cebpd         3.710691 4.581278 16.30525 2.129125e-10 2.060354e-07 14.32758\n"
     ]
    }
   ],
   "source": [
    "%%R\n",
    "# Retrieve the top results without sorting by p-value directly\n",
    "tt <- topTable(tmp2, sort.by = \"P\", n = Inf)\n",
    "head(tt, 10)"
   ]
  },
  {
   "cell_type": "code",
   "execution_count": 43,
   "id": "d4483518",
   "metadata": {},
   "outputs": [
    {
     "name": "stdout",
     "output_type": "stream",
     "text": [
      "[1] 897\n"
     ]
    }
   ],
   "source": [
    "%%R\n",
    "length(which(tt$adj.P.Val < 0.05))"
   ]
  },
  {
   "cell_type": "code",
   "execution_count": 50,
   "id": "d7e97e4a",
   "metadata": {},
   "outputs": [
    {
     "name": "stdout",
     "output_type": "stream",
     "text": [
      "[1] 744\n"
     ]
    }
   ],
   "source": [
    "%%R\n",
    "# Calculate the number of genes with adj.P.Val < 0.05 and |logFC| > 1\n",
    "significant_genes <- tt[tt$adj.P.Val < 0.05 & abs(tt$logFC) > 0.7, ]\n",
    "num_significant_genes <- nrow(significant_genes)\n",
    "\n",
    "# Print the number of significant genes\n",
    "print(num_significant_genes)"
   ]
  },
  {
   "cell_type": "code",
   "execution_count": 44,
   "id": "520ae60f",
   "metadata": {},
   "outputs": [
    {
     "name": "stdout",
     "output_type": "stream",
     "text": [
      "[1] 503\n"
     ]
    }
   ],
   "source": [
    "%%R\n",
    "# Calculate the number of genes with adj.P.Val < 0.05 and |logFC| > 1\n",
    "significant_genes <- tt[tt$adj.P.Val < 0.05 & abs(tt$logFC) > 1, ]\n",
    "num_significant_genes <- nrow(significant_genes)\n",
    "\n",
    "# Print the number of significant genes\n",
    "print(num_significant_genes)"
   ]
  },
  {
   "cell_type": "code",
   "execution_count": 45,
   "id": "92cb5ace",
   "metadata": {},
   "outputs": [
    {
     "name": "stdout",
     "output_type": "stream",
     "text": [
      "[1] 271\n",
      "                  logFC  AveExpr         t      P.Value    adj.P.Val         B\n",
      "Klk8          10.220585 3.055443  8.267315 1.043207e-06 1.134282e-04  5.835454\n",
      "Socs3          7.746544 2.542192  9.251554 2.765975e-07 4.182240e-05  7.048959\n",
      "2310002F09Rik  7.304276 3.717309 16.796468 1.440761e-10 1.742780e-07 13.783350\n",
      "Anxa2          7.164737 2.574647 11.389640 2.154920e-08 5.346964e-06  9.488319\n",
      "Rgs20          7.163956 1.382265 11.006286 3.305641e-08 7.379971e-06  8.907915\n",
      "Steap3         6.699858 1.471702 13.825151 1.827602e-09 8.842852e-07 11.436299\n"
     ]
    }
   ],
   "source": [
    "%%R\n",
    "# Calculate the number of genes with adj.P.Val < 0.05 and |logFC| > 1\n",
    "genes_up <- tt[tt$adj.P.Val < 0.05 & tt$logFC > 1, ]\n",
    "num_genes_up <- nrow(genes_up)\n",
    "\n",
    "# Print the number of significant genes\n",
    "print(num_genes_up)\n",
    "\n",
    "genes_up_sorted <- genes_up[order(genes_up$logFC, decreasing = TRUE), ]\n",
    "\n",
    "# View the head of the significant genes data frame\n",
    "head(genes_up_sorted)"
   ]
  },
  {
   "cell_type": "code",
   "execution_count": 46,
   "id": "4e1b3c93",
   "metadata": {},
   "outputs": [
    {
     "name": "stdout",
     "output_type": "stream",
     "text": [
      "[1] \"C4b is in the index of genes_up_sorted\"\n"
     ]
    }
   ],
   "source": [
    "%%R\n",
    "if ('C4b' %in% rownames(genes_up_sorted)) {\n",
    "    print(\"C4b is in the index of genes_up_sorted\")\n",
    "} else {\n",
    "    print(\"C4b is not in the index of genes_up_sorted\")\n",
    "}"
   ]
  },
  {
   "cell_type": "code",
   "execution_count": 47,
   "id": "b965a4e4",
   "metadata": {},
   "outputs": [
    {
     "name": "stdout",
     "output_type": "stream",
     "text": [
      "[1] \"Serpina3n is in the index of genes_up_sorted\"\n"
     ]
    }
   ],
   "source": [
    "%%R\n",
    "if ('Serpina3n' %in% rownames(genes_up_sorted)) {\n",
    "    print(\"Serpina3n is in the index of genes_up_sorted\")\n",
    "} else {\n",
    "    print(\"Serpina3n is not in the index of genes_up_sorted\")\n",
    "}"
   ]
  },
  {
   "cell_type": "code",
   "execution_count": 48,
   "id": "1ad28182",
   "metadata": {},
   "outputs": [
    {
     "name": "stdout",
     "output_type": "stream",
     "text": [
      "[1] 232\n",
      "                  logFC  AveExpr         t      P.Value   adj.P.Val          B\n",
      "Itgb5         -5.951247 2.778707 -5.310634 1.161670e-04 0.003997259  1.4494286\n",
      "A530053G22Rik -4.830190 3.489707 -4.776175 3.088102e-04 0.008120533  0.5218326\n",
      "Irak2         -3.996585 1.901343 -5.070833 1.793110e-04 0.005439474  1.0012981\n",
      "Gm13052       -3.784197 2.982261 -3.714652 2.368479e-03 0.032055627 -1.3379249\n",
      "Art3          -3.502168 3.104124 -5.611397 6.813822e-05 0.002658764  1.8901109\n",
      "1700063D05Rik -3.416080 4.518616 -6.323959 2.023576e-05 0.001085290  3.0942879\n"
     ]
    }
   ],
   "source": [
    "%%R\n",
    "# Calculate the number of genes with adj.P.Val < 0.05 and |logFC| > 1\n",
    "genes_down <- tt[tt$adj.P.Val < 0.05 & tt$logFC < -1, ]\n",
    "num_genes_down <- nrow(genes_down)\n",
    "\n",
    "# Print the number of significant genes\n",
    "print(num_genes_down)\n",
    "\n",
    "genes_down_sorted <- genes_down[order(genes_down$logFC, decreasing = FALSE), ]\n",
    "\n",
    "# View the head of the significant genes data frame\n",
    "head(genes_down_sorted)"
   ]
  },
  {
   "cell_type": "code",
   "execution_count": 49,
   "id": "667ab63a",
   "metadata": {},
   "outputs": [
    {
     "name": "stdout",
     "output_type": "stream",
     "text": [
      "             logFC  AveExpr        t      P.Value    adj.P.Val        B\n",
      "Serpina3n 6.533785 6.775086 28.63736 1.130871e-13 1.094344e-09 21.54591\n",
      "Pros1     3.780291 4.164128 24.83927 7.753378e-13 3.162973e-09 19.50304\n",
      "Fam13c    3.733416 6.483897 24.41059 9.805640e-13 3.162973e-09 19.51768\n",
      "Il33      2.665567 8.585220 19.61067 1.848409e-11 4.471764e-08 16.73227\n",
      "Slc9a3r2  5.584361 4.426395 18.22433 4.899760e-11 9.482996e-08 15.72774\n",
      "Gpd1      3.211838 7.230794 17.93574 6.054159e-11 9.764349e-08 15.58027\n"
     ]
    }
   ],
   "source": [
    "%%R\n",
    "head(tt)"
   ]
  },
  {
   "cell_type": "markdown",
   "id": "53502379",
   "metadata": {},
   "source": [
    "# Save output- make sure to rename!"
   ]
  },
  {
   "cell_type": "code",
   "execution_count": 51,
   "id": "2318f957",
   "metadata": {},
   "outputs": [
    {
     "name": "stdout",
     "output_type": "stream",
     "text": [
      "     logFC  AveExpr        t      P.Value    adj.P.Val        B      gene\n",
      "1 6.533785 6.775086 28.63736 1.130871e-13 1.094344e-09 21.54591 Serpina3n\n",
      "2 3.780291 4.164128 24.83927 7.753378e-13 3.162973e-09 19.50304     Pros1\n",
      "3 3.733416 6.483897 24.41059 9.805640e-13 3.162973e-09 19.51768    Fam13c\n",
      "4 2.665567 8.585220 19.61067 1.848409e-11 4.471764e-08 16.73227      Il33\n",
      "5 5.584361 4.426395 18.22433 4.899760e-11 9.482996e-08 15.72774  Slc9a3r2\n",
      "6 3.211838 7.230794 17.93574 6.054159e-11 9.764349e-08 15.58027      Gpd1\n"
     ]
    }
   ],
   "source": [
    "%%R\n",
    "# Add rownames as a proper column, but ensure we do not have duplicates\n",
    "tt$gene <- rownames(tt)\n",
    "\n",
    "# Remove rownames to avoid duplication when saving\n",
    "rownames(tt) <- NULL\n",
    "\n",
    "# Write to CSV file\n",
    "write.table(tt, file = \"./files/LPC_demyel_MOL_DvF_voom_wqw_NEW.csv\", \n",
    "            row.names = FALSE, sep = \",\", quote = FALSE)\n",
    "\n",
    "# Check the first few rows to confirm the structure\n",
    "head(tt)"
   ]
  },
  {
   "cell_type": "markdown",
   "id": "28a5b432",
   "metadata": {},
   "source": [
    "# Do results overlap with LR pairs?"
   ]
  },
  {
   "cell_type": "code",
   "execution_count": 52,
   "id": "acef57a6",
   "metadata": {},
   "outputs": [],
   "source": [
    "import liana as li"
   ]
  },
  {
   "cell_type": "code",
   "execution_count": 53,
   "id": "28e69c9c",
   "metadata": {},
   "outputs": [
    {
     "data": {
      "text/html": [
       "<div>\n",
       "<style scoped>\n",
       "    .dataframe tbody tr th:only-of-type {\n",
       "        vertical-align: middle;\n",
       "    }\n",
       "\n",
       "    .dataframe tbody tr th {\n",
       "        vertical-align: top;\n",
       "    }\n",
       "\n",
       "    .dataframe thead th {\n",
       "        text-align: right;\n",
       "    }\n",
       "</style>\n",
       "<table border=\"1\" class=\"dataframe\">\n",
       "  <thead>\n",
       "    <tr style=\"text-align: right;\">\n",
       "      <th></th>\n",
       "      <th>ligand</th>\n",
       "      <th>receptor</th>\n",
       "    </tr>\n",
       "  </thead>\n",
       "  <tbody>\n",
       "    <tr>\n",
       "      <th>31371</th>\n",
       "      <td>Dll1</td>\n",
       "      <td>Notch1</td>\n",
       "    </tr>\n",
       "    <tr>\n",
       "      <th>31372</th>\n",
       "      <td>Dll1</td>\n",
       "      <td>Notch2</td>\n",
       "    </tr>\n",
       "    <tr>\n",
       "      <th>31373</th>\n",
       "      <td>Dll1</td>\n",
       "      <td>Notch4</td>\n",
       "    </tr>\n",
       "    <tr>\n",
       "      <th>31374</th>\n",
       "      <td>Dll1</td>\n",
       "      <td>Notch3</td>\n",
       "    </tr>\n",
       "    <tr>\n",
       "      <th>31375</th>\n",
       "      <td>Nrg2</td>\n",
       "      <td>Erbb2_Erbb3</td>\n",
       "    </tr>\n",
       "  </tbody>\n",
       "</table>\n",
       "</div>"
      ],
      "text/plain": [
       "      ligand     receptor\n",
       "31371   Dll1       Notch1\n",
       "31372   Dll1       Notch2\n",
       "31373   Dll1       Notch4\n",
       "31374   Dll1       Notch3\n",
       "31375   Nrg2  Erbb2_Erbb3"
      ]
     },
     "execution_count": 53,
     "metadata": {},
     "output_type": "execute_result"
    }
   ],
   "source": [
    "lr_pairs = li.resource.select_resource('mouseconsensus')\n",
    "lr_pairs.head()"
   ]
  },
  {
   "cell_type": "code",
   "execution_count": 54,
   "id": "e92840ca",
   "metadata": {},
   "outputs": [
    {
     "data": {
      "text/plain": [
       "(9677, 7)"
      ]
     },
     "execution_count": 54,
     "metadata": {},
     "output_type": "execute_result"
    }
   ],
   "source": [
    "DEG_all = pd.read_csv('./files/LPC_demyel_MOL_DvF_voom_wqw_NEW.csv', index_col=None)\n",
    "DEG_all.rename(columns={'adj.P.Val': 'Padj'}, inplace=True)\n",
    "DEG_all.rename(columns={'P.Value': 'Pvalue'}, inplace=True)\n",
    "DEG_all.shape"
   ]
  },
  {
   "cell_type": "code",
   "execution_count": 55,
   "id": "d7bd4c79",
   "metadata": {},
   "outputs": [
    {
     "data": {
      "text/plain": [
       "(503, 7)"
      ]
     },
     "execution_count": 55,
     "metadata": {},
     "output_type": "execute_result"
    }
   ],
   "source": [
    "sigs = DEG_all[(DEG_all.Padj < 0.05) & (abs(DEG_all.logFC) >= 1)]\n",
    "sigs.shape"
   ]
  },
  {
   "cell_type": "code",
   "execution_count": 56,
   "id": "abda4801",
   "metadata": {},
   "outputs": [
    {
     "data": {
      "text/plain": [
       "(3989, 2)"
      ]
     },
     "execution_count": 56,
     "metadata": {},
     "output_type": "execute_result"
    }
   ],
   "source": [
    "lr_pairs.shape"
   ]
  },
  {
   "cell_type": "code",
   "execution_count": 57,
   "id": "20544b3d",
   "metadata": {},
   "outputs": [
    {
     "data": {
      "text/html": [
       "<div>\n",
       "<style scoped>\n",
       "    .dataframe tbody tr th:only-of-type {\n",
       "        vertical-align: middle;\n",
       "    }\n",
       "\n",
       "    .dataframe tbody tr th {\n",
       "        vertical-align: top;\n",
       "    }\n",
       "\n",
       "    .dataframe thead th {\n",
       "        text-align: right;\n",
       "    }\n",
       "</style>\n",
       "<table border=\"1\" class=\"dataframe\">\n",
       "  <thead>\n",
       "    <tr style=\"text-align: right;\">\n",
       "      <th></th>\n",
       "      <th>logFC</th>\n",
       "      <th>AveExpr</th>\n",
       "      <th>t</th>\n",
       "      <th>Pvalue</th>\n",
       "      <th>Padj</th>\n",
       "      <th>B</th>\n",
       "      <th>gene</th>\n",
       "    </tr>\n",
       "  </thead>\n",
       "  <tbody>\n",
       "    <tr>\n",
       "      <th>0</th>\n",
       "      <td>6.533785</td>\n",
       "      <td>6.775086</td>\n",
       "      <td>28.637363</td>\n",
       "      <td>1.130871e-13</td>\n",
       "      <td>1.094344e-09</td>\n",
       "      <td>21.545910</td>\n",
       "      <td>Serpina3n</td>\n",
       "    </tr>\n",
       "    <tr>\n",
       "      <th>1</th>\n",
       "      <td>3.780291</td>\n",
       "      <td>4.164128</td>\n",
       "      <td>24.839267</td>\n",
       "      <td>7.753378e-13</td>\n",
       "      <td>3.162973e-09</td>\n",
       "      <td>19.503035</td>\n",
       "      <td>Pros1</td>\n",
       "    </tr>\n",
       "    <tr>\n",
       "      <th>2</th>\n",
       "      <td>3.733416</td>\n",
       "      <td>6.483897</td>\n",
       "      <td>24.410593</td>\n",
       "      <td>9.805640e-13</td>\n",
       "      <td>3.162973e-09</td>\n",
       "      <td>19.517683</td>\n",
       "      <td>Fam13c</td>\n",
       "    </tr>\n",
       "    <tr>\n",
       "      <th>3</th>\n",
       "      <td>2.665567</td>\n",
       "      <td>8.585220</td>\n",
       "      <td>19.610675</td>\n",
       "      <td>1.848409e-11</td>\n",
       "      <td>4.471764e-08</td>\n",
       "      <td>16.732271</td>\n",
       "      <td>Il33</td>\n",
       "    </tr>\n",
       "    <tr>\n",
       "      <th>4</th>\n",
       "      <td>5.584361</td>\n",
       "      <td>4.426395</td>\n",
       "      <td>18.224327</td>\n",
       "      <td>4.899760e-11</td>\n",
       "      <td>9.482996e-08</td>\n",
       "      <td>15.727740</td>\n",
       "      <td>Slc9a3r2</td>\n",
       "    </tr>\n",
       "  </tbody>\n",
       "</table>\n",
       "</div>"
      ],
      "text/plain": [
       "      logFC   AveExpr          t        Pvalue          Padj          B  \\\n",
       "0  6.533785  6.775086  28.637363  1.130871e-13  1.094344e-09  21.545910   \n",
       "1  3.780291  4.164128  24.839267  7.753378e-13  3.162973e-09  19.503035   \n",
       "2  3.733416  6.483897  24.410593  9.805640e-13  3.162973e-09  19.517683   \n",
       "3  2.665567  8.585220  19.610675  1.848409e-11  4.471764e-08  16.732271   \n",
       "4  5.584361  4.426395  18.224327  4.899760e-11  9.482996e-08  15.727740   \n",
       "\n",
       "        gene  \n",
       "0  Serpina3n  \n",
       "1      Pros1  \n",
       "2     Fam13c  \n",
       "3       Il33  \n",
       "4   Slc9a3r2  "
      ]
     },
     "execution_count": 57,
     "metadata": {},
     "output_type": "execute_result"
    }
   ],
   "source": [
    "sigs.head()"
   ]
  },
  {
   "cell_type": "code",
   "execution_count": 58,
   "id": "fcab0ec8",
   "metadata": {},
   "outputs": [
    {
     "data": {
      "text/html": [
       "<div>\n",
       "<style scoped>\n",
       "    .dataframe tbody tr th:only-of-type {\n",
       "        vertical-align: middle;\n",
       "    }\n",
       "\n",
       "    .dataframe tbody tr th {\n",
       "        vertical-align: top;\n",
       "    }\n",
       "\n",
       "    .dataframe thead th {\n",
       "        text-align: right;\n",
       "    }\n",
       "</style>\n",
       "<table border=\"1\" class=\"dataframe\">\n",
       "  <thead>\n",
       "    <tr style=\"text-align: right;\">\n",
       "      <th></th>\n",
       "      <th>logFC</th>\n",
       "      <th>AveExpr</th>\n",
       "      <th>t</th>\n",
       "      <th>Pvalue</th>\n",
       "      <th>Padj</th>\n",
       "      <th>B</th>\n",
       "      <th>gene</th>\n",
       "    </tr>\n",
       "  </thead>\n",
       "  <tbody>\n",
       "    <tr>\n",
       "      <th>1</th>\n",
       "      <td>3.780291</td>\n",
       "      <td>4.164128</td>\n",
       "      <td>24.839267</td>\n",
       "      <td>7.753378e-13</td>\n",
       "      <td>3.162973e-09</td>\n",
       "      <td>19.503035</td>\n",
       "      <td>Pros1</td>\n",
       "    </tr>\n",
       "    <tr>\n",
       "      <th>3</th>\n",
       "      <td>2.665567</td>\n",
       "      <td>8.585220</td>\n",
       "      <td>19.610675</td>\n",
       "      <td>1.848409e-11</td>\n",
       "      <td>4.471764e-08</td>\n",
       "      <td>16.732271</td>\n",
       "      <td>Il33</td>\n",
       "    </tr>\n",
       "    <tr>\n",
       "      <th>6</th>\n",
       "      <td>4.325982</td>\n",
       "      <td>6.921060</td>\n",
       "      <td>17.290500</td>\n",
       "      <td>9.829188e-11</td>\n",
       "      <td>1.358815e-07</td>\n",
       "      <td>15.105111</td>\n",
       "      <td>C4b</td>\n",
       "    </tr>\n",
       "    <tr>\n",
       "      <th>18</th>\n",
       "      <td>2.811370</td>\n",
       "      <td>4.877293</td>\n",
       "      <td>14.045220</td>\n",
       "      <td>1.490261e-09</td>\n",
       "      <td>7.590132e-07</td>\n",
       "      <td>12.407283</td>\n",
       "      <td>Col16a1</td>\n",
       "    </tr>\n",
       "    <tr>\n",
       "      <th>31</th>\n",
       "      <td>2.273921</td>\n",
       "      <td>2.853582</td>\n",
       "      <td>12.206260</td>\n",
       "      <td>8.998683e-09</td>\n",
       "      <td>2.721258e-06</td>\n",
       "      <td>10.609784</td>\n",
       "      <td>Sema4g</td>\n",
       "    </tr>\n",
       "    <tr>\n",
       "      <th>...</th>\n",
       "      <td>...</td>\n",
       "      <td>...</td>\n",
       "      <td>...</td>\n",
       "      <td>...</td>\n",
       "      <td>...</td>\n",
       "      <td>...</td>\n",
       "      <td>...</td>\n",
       "    </tr>\n",
       "    <tr>\n",
       "      <th>717</th>\n",
       "      <td>-2.165877</td>\n",
       "      <td>3.005424</td>\n",
       "      <td>-3.708993</td>\n",
       "      <td>2.394938e-03</td>\n",
       "      <td>3.224164e-02</td>\n",
       "      <td>-1.364301</td>\n",
       "      <td>Lrp11</td>\n",
       "    </tr>\n",
       "    <tr>\n",
       "      <th>744</th>\n",
       "      <td>-1.759316</td>\n",
       "      <td>4.840420</td>\n",
       "      <td>-3.661518</td>\n",
       "      <td>2.629070e-03</td>\n",
       "      <td>3.414967e-02</td>\n",
       "      <td>-1.899528</td>\n",
       "      <td>Ldlr</td>\n",
       "    </tr>\n",
       "    <tr>\n",
       "      <th>762</th>\n",
       "      <td>-1.029893</td>\n",
       "      <td>4.726201</td>\n",
       "      <td>-3.623732</td>\n",
       "      <td>2.831895e-03</td>\n",
       "      <td>3.591644e-02</td>\n",
       "      <td>-1.971664</td>\n",
       "      <td>Lgr4</td>\n",
       "    </tr>\n",
       "    <tr>\n",
       "      <th>774</th>\n",
       "      <td>-1.467157</td>\n",
       "      <td>4.399847</td>\n",
       "      <td>-3.584829</td>\n",
       "      <td>3.057268e-03</td>\n",
       "      <td>3.817443e-02</td>\n",
       "      <td>-1.889991</td>\n",
       "      <td>Cd46</td>\n",
       "    </tr>\n",
       "    <tr>\n",
       "      <th>849</th>\n",
       "      <td>-1.661112</td>\n",
       "      <td>2.456368</td>\n",
       "      <td>-3.451725</td>\n",
       "      <td>3.974654e-03</td>\n",
       "      <td>4.522405e-02</td>\n",
       "      <td>-1.913247</td>\n",
       "      <td>Bmp2</td>\n",
       "    </tr>\n",
       "  </tbody>\n",
       "</table>\n",
       "<p>64 rows × 7 columns</p>\n",
       "</div>"
      ],
      "text/plain": [
       "        logFC   AveExpr          t        Pvalue          Padj          B  \\\n",
       "1    3.780291  4.164128  24.839267  7.753378e-13  3.162973e-09  19.503035   \n",
       "3    2.665567  8.585220  19.610675  1.848409e-11  4.471764e-08  16.732271   \n",
       "6    4.325982  6.921060  17.290500  9.829188e-11  1.358815e-07  15.105111   \n",
       "18   2.811370  4.877293  14.045220  1.490261e-09  7.590132e-07  12.407283   \n",
       "31   2.273921  2.853582  12.206260  8.998683e-09  2.721258e-06  10.609784   \n",
       "..        ...       ...        ...           ...           ...        ...   \n",
       "717 -2.165877  3.005424  -3.708993  2.394938e-03  3.224164e-02  -1.364301   \n",
       "744 -1.759316  4.840420  -3.661518  2.629070e-03  3.414967e-02  -1.899528   \n",
       "762 -1.029893  4.726201  -3.623732  2.831895e-03  3.591644e-02  -1.971664   \n",
       "774 -1.467157  4.399847  -3.584829  3.057268e-03  3.817443e-02  -1.889991   \n",
       "849 -1.661112  2.456368  -3.451725  3.974654e-03  4.522405e-02  -1.913247   \n",
       "\n",
       "        gene  \n",
       "1      Pros1  \n",
       "3       Il33  \n",
       "6        C4b  \n",
       "18   Col16a1  \n",
       "31    Sema4g  \n",
       "..       ...  \n",
       "717    Lrp11  \n",
       "744     Ldlr  \n",
       "762     Lgr4  \n",
       "774     Cd46  \n",
       "849     Bmp2  \n",
       "\n",
       "[64 rows x 7 columns]"
      ]
     },
     "execution_count": 58,
     "metadata": {},
     "output_type": "execute_result"
    }
   ],
   "source": [
    "ligands = lr_pairs['ligand'].unique()\n",
    "receptors = lr_pairs['receptor'].unique()\n",
    "\n",
    "# Combining both ligands and receptors and keeping only unique values\n",
    "unique_genes = set(ligands).union(set(receptors))\n",
    "\n",
    "# Checking for overlap with 'sigs' dataframe on the 'gene' column\n",
    "overlap_genes = sigs[sigs['gene'].isin(unique_genes)]\n",
    "overlap_genes"
   ]
  },
  {
   "cell_type": "code",
   "execution_count": 59,
   "id": "9202c175",
   "metadata": {},
   "outputs": [
    {
     "data": {
      "text/html": [
       "<div>\n",
       "<style scoped>\n",
       "    .dataframe tbody tr th:only-of-type {\n",
       "        vertical-align: middle;\n",
       "    }\n",
       "\n",
       "    .dataframe tbody tr th {\n",
       "        vertical-align: top;\n",
       "    }\n",
       "\n",
       "    .dataframe thead th {\n",
       "        text-align: right;\n",
       "    }\n",
       "</style>\n",
       "<table border=\"1\" class=\"dataframe\">\n",
       "  <thead>\n",
       "    <tr style=\"text-align: right;\">\n",
       "      <th></th>\n",
       "      <th>gene</th>\n",
       "      <th>logFC</th>\n",
       "      <th>logFC_direction</th>\n",
       "    </tr>\n",
       "  </thead>\n",
       "  <tbody>\n",
       "    <tr>\n",
       "      <th>1</th>\n",
       "      <td>Pros1</td>\n",
       "      <td>3.780291</td>\n",
       "      <td>positive</td>\n",
       "    </tr>\n",
       "    <tr>\n",
       "      <th>3</th>\n",
       "      <td>Il33</td>\n",
       "      <td>2.665567</td>\n",
       "      <td>positive</td>\n",
       "    </tr>\n",
       "    <tr>\n",
       "      <th>6</th>\n",
       "      <td>C4b</td>\n",
       "      <td>4.325982</td>\n",
       "      <td>positive</td>\n",
       "    </tr>\n",
       "    <tr>\n",
       "      <th>18</th>\n",
       "      <td>Col16a1</td>\n",
       "      <td>2.811370</td>\n",
       "      <td>positive</td>\n",
       "    </tr>\n",
       "    <tr>\n",
       "      <th>31</th>\n",
       "      <td>Sema4g</td>\n",
       "      <td>2.273921</td>\n",
       "      <td>positive</td>\n",
       "    </tr>\n",
       "    <tr>\n",
       "      <th>...</th>\n",
       "      <td>...</td>\n",
       "      <td>...</td>\n",
       "      <td>...</td>\n",
       "    </tr>\n",
       "    <tr>\n",
       "      <th>717</th>\n",
       "      <td>Lrp11</td>\n",
       "      <td>-2.165877</td>\n",
       "      <td>negative</td>\n",
       "    </tr>\n",
       "    <tr>\n",
       "      <th>744</th>\n",
       "      <td>Ldlr</td>\n",
       "      <td>-1.759316</td>\n",
       "      <td>negative</td>\n",
       "    </tr>\n",
       "    <tr>\n",
       "      <th>762</th>\n",
       "      <td>Lgr4</td>\n",
       "      <td>-1.029893</td>\n",
       "      <td>negative</td>\n",
       "    </tr>\n",
       "    <tr>\n",
       "      <th>774</th>\n",
       "      <td>Cd46</td>\n",
       "      <td>-1.467157</td>\n",
       "      <td>negative</td>\n",
       "    </tr>\n",
       "    <tr>\n",
       "      <th>849</th>\n",
       "      <td>Bmp2</td>\n",
       "      <td>-1.661112</td>\n",
       "      <td>negative</td>\n",
       "    </tr>\n",
       "  </tbody>\n",
       "</table>\n",
       "<p>64 rows × 3 columns</p>\n",
       "</div>"
      ],
      "text/plain": [
       "        gene     logFC logFC_direction\n",
       "1      Pros1  3.780291        positive\n",
       "3       Il33  2.665567        positive\n",
       "6        C4b  4.325982        positive\n",
       "18   Col16a1  2.811370        positive\n",
       "31    Sema4g  2.273921        positive\n",
       "..       ...       ...             ...\n",
       "717    Lrp11 -2.165877        negative\n",
       "744     Ldlr -1.759316        negative\n",
       "762     Lgr4 -1.029893        negative\n",
       "774     Cd46 -1.467157        negative\n",
       "849     Bmp2 -1.661112        negative\n",
       "\n",
       "[64 rows x 3 columns]"
      ]
     },
     "execution_count": 59,
     "metadata": {},
     "output_type": "execute_result"
    }
   ],
   "source": [
    "# Checking the direction of logFC for the overlapping genes\n",
    "overlap_genes_direction = overlap_genes[['gene', 'logFC']].copy()\n",
    "\n",
    "# Determine the direction of logFC\n",
    "overlap_genes_direction['logFC_direction'] = overlap_genes_direction['logFC'].apply(lambda x: 'positive' if x > 0 else 'negative')\n",
    "\n",
    "# Displaying the results\n",
    "overlap_genes_direction"
   ]
  },
  {
   "cell_type": "code",
   "execution_count": 60,
   "id": "6420343b",
   "metadata": {},
   "outputs": [
    {
     "name": "stdout",
     "output_type": "stream",
     "text": [
      "Total ligand-receptor pairs where both are differentially expressed: 6\n"
     ]
    },
    {
     "data": {
      "text/html": [
       "<div>\n",
       "<style scoped>\n",
       "    .dataframe tbody tr th:only-of-type {\n",
       "        vertical-align: middle;\n",
       "    }\n",
       "\n",
       "    .dataframe tbody tr th {\n",
       "        vertical-align: top;\n",
       "    }\n",
       "\n",
       "    .dataframe thead th {\n",
       "        text-align: right;\n",
       "    }\n",
       "</style>\n",
       "<table border=\"1\" class=\"dataframe\">\n",
       "  <thead>\n",
       "    <tr style=\"text-align: right;\">\n",
       "      <th></th>\n",
       "      <th>ligand</th>\n",
       "      <th>receptor</th>\n",
       "      <th>logFC_ligand</th>\n",
       "      <th>logFC_receptor</th>\n",
       "    </tr>\n",
       "  </thead>\n",
       "  <tbody>\n",
       "    <tr>\n",
       "      <th>5</th>\n",
       "      <td>C4b</td>\n",
       "      <td>Cd46</td>\n",
       "      <td>4.325982</td>\n",
       "      <td>-1.467157</td>\n",
       "    </tr>\n",
       "    <tr>\n",
       "      <th>1</th>\n",
       "      <td>Apoe</td>\n",
       "      <td>Lrp4</td>\n",
       "      <td>3.786040</td>\n",
       "      <td>1.314653</td>\n",
       "    </tr>\n",
       "    <tr>\n",
       "      <th>2</th>\n",
       "      <td>Apoe</td>\n",
       "      <td>Ldlr</td>\n",
       "      <td>3.786040</td>\n",
       "      <td>-1.759316</td>\n",
       "    </tr>\n",
       "    <tr>\n",
       "      <th>4</th>\n",
       "      <td>Fgfr4</td>\n",
       "      <td>Epha4</td>\n",
       "      <td>1.929906</td>\n",
       "      <td>1.211658</td>\n",
       "    </tr>\n",
       "    <tr>\n",
       "      <th>0</th>\n",
       "      <td>Il1rapl1</td>\n",
       "      <td>Ptprs</td>\n",
       "      <td>-1.019635</td>\n",
       "      <td>1.773109</td>\n",
       "    </tr>\n",
       "    <tr>\n",
       "      <th>3</th>\n",
       "      <td>Bmp2</td>\n",
       "      <td>Gpc1</td>\n",
       "      <td>-1.661112</td>\n",
       "      <td>1.698124</td>\n",
       "    </tr>\n",
       "  </tbody>\n",
       "</table>\n",
       "</div>"
      ],
      "text/plain": [
       "     ligand receptor  logFC_ligand  logFC_receptor\n",
       "5       C4b     Cd46      4.325982       -1.467157\n",
       "1      Apoe     Lrp4      3.786040        1.314653\n",
       "2      Apoe     Ldlr      3.786040       -1.759316\n",
       "4     Fgfr4    Epha4      1.929906        1.211658\n",
       "0  Il1rapl1    Ptprs     -1.019635        1.773109\n",
       "3      Bmp2     Gpc1     -1.661112        1.698124"
      ]
     },
     "execution_count": 60,
     "metadata": {},
     "output_type": "execute_result"
    }
   ],
   "source": [
    "# Step 1: Convert ligands and receptors to a list\n",
    "ligands = lr_pairs['ligand'].tolist()\n",
    "receptors = lr_pairs['receptor'].tolist()\n",
    "\n",
    "# Step 2: Filter DEGs from 'sigs'\n",
    "degs = set(sigs['gene'])  # Create a set for faster lookup\n",
    "\n",
    "# Step 3: Check which ligand-receptor pairs have both ligands and receptors as DEGs\n",
    "matched_pairs = lr_pairs[(lr_pairs['ligand'].isin(degs)) & (lr_pairs['receptor'].isin(degs))]\n",
    "\n",
    "# Step 4: Count the matched pairs\n",
    "num_matched_pairs = matched_pairs.shape[0]\n",
    "\n",
    "# Output the result\n",
    "print(f'Total ligand-receptor pairs where both are differentially expressed: {num_matched_pairs}')\n",
    "\n",
    "# Step 5: Optional - view the matched pairs with direction of change\n",
    "matched_pairs_with_logFC = matched_pairs.merge(sigs[['gene', 'logFC']], left_on='ligand', right_on='gene', how='left')\\\n",
    "                                        .merge(sigs[['gene', 'logFC']], left_on='receptor', right_on='gene', how='left', suffixes=('_ligand', '_receptor'))\n",
    "\n",
    "# Sorting the table by 'logFC_ligand' in descending order\n",
    "sorted_table = matched_pairs_with_logFC.sort_values(by='logFC_ligand', ascending=False)\n",
    "\n",
    "# Displaying the sorted table with the selected columns\n",
    "sorted_table[['ligand', 'receptor', 'logFC_ligand', 'logFC_receptor']]"
   ]
  },
  {
   "cell_type": "code",
   "execution_count": 61,
   "id": "e55bcd09",
   "metadata": {},
   "outputs": [
    {
     "data": {
      "text/plain": [
       "(271, 7)"
      ]
     },
     "execution_count": 61,
     "metadata": {},
     "output_type": "execute_result"
    }
   ],
   "source": [
    "sigs_up = DEG_all[(DEG_all.Padj < 0.05) & (DEG_all.logFC >= 1)]\n",
    "sigs_up.shape"
   ]
  },
  {
   "cell_type": "code",
   "execution_count": 62,
   "id": "5927bc9d",
   "metadata": {},
   "outputs": [
    {
     "name": "stdout",
     "output_type": "stream",
     "text": [
      "Total ligand-receptor pairs where both are differentially expressed: 2\n"
     ]
    },
    {
     "data": {
      "text/html": [
       "<div>\n",
       "<style scoped>\n",
       "    .dataframe tbody tr th:only-of-type {\n",
       "        vertical-align: middle;\n",
       "    }\n",
       "\n",
       "    .dataframe tbody tr th {\n",
       "        vertical-align: top;\n",
       "    }\n",
       "\n",
       "    .dataframe thead th {\n",
       "        text-align: right;\n",
       "    }\n",
       "</style>\n",
       "<table border=\"1\" class=\"dataframe\">\n",
       "  <thead>\n",
       "    <tr style=\"text-align: right;\">\n",
       "      <th></th>\n",
       "      <th>ligand</th>\n",
       "      <th>receptor</th>\n",
       "      <th>logFC_ligand</th>\n",
       "      <th>logFC_receptor</th>\n",
       "    </tr>\n",
       "  </thead>\n",
       "  <tbody>\n",
       "    <tr>\n",
       "      <th>0</th>\n",
       "      <td>Apoe</td>\n",
       "      <td>Lrp4</td>\n",
       "      <td>3.786040</td>\n",
       "      <td>1.314653</td>\n",
       "    </tr>\n",
       "    <tr>\n",
       "      <th>1</th>\n",
       "      <td>Fgfr4</td>\n",
       "      <td>Epha4</td>\n",
       "      <td>1.929906</td>\n",
       "      <td>1.211658</td>\n",
       "    </tr>\n",
       "  </tbody>\n",
       "</table>\n",
       "</div>"
      ],
      "text/plain": [
       "  ligand receptor  logFC_ligand  logFC_receptor\n",
       "0   Apoe     Lrp4      3.786040        1.314653\n",
       "1  Fgfr4    Epha4      1.929906        1.211658"
      ]
     },
     "execution_count": 62,
     "metadata": {},
     "output_type": "execute_result"
    }
   ],
   "source": [
    "# Step 1: Convert ligands and receptors to a list\n",
    "ligands = lr_pairs['ligand'].tolist()\n",
    "receptors = lr_pairs['receptor'].tolist()\n",
    "\n",
    "# Step 2: Filter DEGs from 'sigs'\n",
    "degs = set(sigs_up['gene'])  # Create a set for faster lookup\n",
    "\n",
    "# Step 3: Check which ligand-receptor pairs have both ligands and receptors as DEGs\n",
    "matched_pairs = lr_pairs[(lr_pairs['ligand'].isin(degs)) & (lr_pairs['receptor'].isin(degs))]\n",
    "\n",
    "# Step 4: Count the matched pairs\n",
    "num_matched_pairs = matched_pairs.shape[0]\n",
    "\n",
    "# Output the result\n",
    "print(f'Total ligand-receptor pairs where both are differentially expressed: {num_matched_pairs}')\n",
    "\n",
    "# Step 5: Optional - view the matched pairs with direction of change\n",
    "matched_pairs_with_logFC = matched_pairs.merge(sigs[['gene', 'logFC']], left_on='ligand', right_on='gene', how='left')\\\n",
    "                                        .merge(sigs[['gene', 'logFC']], left_on='receptor', right_on='gene', how='left', suffixes=('_ligand', '_receptor'))\n",
    "\n",
    "# Sorting the table by 'logFC_ligand' in descending order\n",
    "sorted_table = matched_pairs_with_logFC.sort_values(by='logFC_ligand', ascending=False)\n",
    "\n",
    "# Displaying the sorted table with the selected columns\n",
    "sorted_table[['ligand', 'receptor', 'logFC_ligand', 'logFC_receptor']]"
   ]
  },
  {
   "cell_type": "code",
   "execution_count": null,
   "id": "76840a9d",
   "metadata": {},
   "outputs": [],
   "source": [
    "sorted_table[['ligand', 'receptor', 'logFC_ligand', 'logFC_receptor']].to_csv('./files/LR_LPC_demyel_MOL_DvF.csv', sep='\\t', index=False)"
   ]
  },
  {
   "cell_type": "code",
   "execution_count": null,
   "id": "d717a90e",
   "metadata": {},
   "outputs": [],
   "source": []
  }
 ],
 "metadata": {
  "kernelspec": {
   "display_name": "Python 3 (ipykernel)",
   "language": "python",
   "name": "python3"
  },
  "language_info": {
   "codemirror_mode": {
    "name": "ipython",
    "version": 3
   },
   "file_extension": ".py",
   "mimetype": "text/x-python",
   "name": "python",
   "nbconvert_exporter": "python",
   "pygments_lexer": "ipython3",
   "version": "3.11.11"
  }
 },
 "nbformat": 4,
 "nbformat_minor": 5
}

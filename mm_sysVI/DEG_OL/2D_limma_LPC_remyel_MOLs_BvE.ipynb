{
 "cells": [
  {
   "cell_type": "code",
   "execution_count": 1,
   "id": "a4107cb9",
   "metadata": {},
   "outputs": [],
   "source": [
    "import warnings\n",
    "\n",
    "warnings.filterwarnings(\"ignore\")\n",
    "\n",
    "import matplotlib.pyplot as plt\n",
    "import seaborn as sns\n",
    "import scanpy as sc\n",
    "import pandas as pd\n",
    "import numpy as np\n",
    "import random\n",
    "import sc_toolbox\n",
    "import pertpy \n",
    "\n",
    "import rpy2.rinterface_lib.callbacks\n",
    "import anndata2ri\n",
    "import logging\n",
    "\n",
    "from rpy2.robjects import pandas2ri\n",
    "from rpy2.robjects import r\n",
    "\n",
    "sc.settings.verbosity = 0\n",
    "rpy2.rinterface_lib.callbacks.logger.setLevel(logging.ERROR)\n",
    "\n",
    "pandas2ri.activate()\n",
    "anndata2ri.activate()\n",
    "\n",
    "%load_ext rpy2.ipython"
   ]
  },
  {
   "cell_type": "code",
   "execution_count": 2,
   "id": "cd2ae648",
   "metadata": {},
   "outputs": [
    {
     "data": {
      "text/plain": [
       "Loading required package: limma\n"
      ]
     },
     "metadata": {},
     "output_type": "display_data"
    }
   ],
   "source": [
    "%%R\n",
    "library(edgeR)"
   ]
  },
  {
   "cell_type": "markdown",
   "id": "f783decd",
   "metadata": {},
   "source": [
    "# Running on XX cell types"
   ]
  },
  {
   "cell_type": "code",
   "execution_count": 3,
   "id": "1c0c911f",
   "metadata": {},
   "outputs": [
    {
     "data": {
      "text/plain": [
       "AnnData object with n_obs × n_vars = 127 × 19304\n",
       "    obs: 'publication', 'label', 'cell_type', 'replicate_cat', 'sample', 'sample_rep', 'batch', 'lib_size', 'log_lib_size', 'replicate'\n",
       "    uns: 'cell_type_colors', 'label_colors', 'log1p', 'pca', 'publication_colors', 'replicate_cat_colors', 'sample_colors', 'sample_rep_colors'\n",
       "    obsm: 'X_pca'\n",
       "    varm: 'PCs'\n",
       "    layers: 'counts'"
      ]
     },
     "execution_count": 3,
     "metadata": {},
     "output_type": "execute_result"
    }
   ],
   "source": [
    "adata_pb = sc.read('./pb_adata_LPC_sep.h5ad')\n",
    "adata_pb"
   ]
  },
  {
   "cell_type": "code",
   "execution_count": 4,
   "id": "9c81bbd6",
   "metadata": {},
   "outputs": [
    {
     "data": {
      "text/html": [
       "<div>\n",
       "<style scoped>\n",
       "    .dataframe tbody tr th:only-of-type {\n",
       "        vertical-align: middle;\n",
       "    }\n",
       "\n",
       "    .dataframe tbody tr th {\n",
       "        vertical-align: top;\n",
       "    }\n",
       "\n",
       "    .dataframe thead th {\n",
       "        text-align: right;\n",
       "    }\n",
       "</style>\n",
       "<table border=\"1\" class=\"dataframe\">\n",
       "  <thead>\n",
       "    <tr style=\"text-align: right;\">\n",
       "      <th>label</th>\n",
       "      <th>ctrl</th>\n",
       "      <th>stim</th>\n",
       "    </tr>\n",
       "    <tr>\n",
       "      <th>cell_type</th>\n",
       "      <th></th>\n",
       "      <th></th>\n",
       "    </tr>\n",
       "  </thead>\n",
       "  <tbody>\n",
       "    <tr>\n",
       "      <th>COPs</th>\n",
       "      <td>3</td>\n",
       "      <td>6</td>\n",
       "    </tr>\n",
       "    <tr>\n",
       "      <th>MFOLs</th>\n",
       "      <td>5</td>\n",
       "      <td>5</td>\n",
       "    </tr>\n",
       "    <tr>\n",
       "      <th>MOL_A</th>\n",
       "      <td>3</td>\n",
       "      <td>3</td>\n",
       "    </tr>\n",
       "    <tr>\n",
       "      <th>MOL_B</th>\n",
       "      <td>5</td>\n",
       "      <td>9</td>\n",
       "    </tr>\n",
       "    <tr>\n",
       "      <th>MOL_C</th>\n",
       "      <td>5</td>\n",
       "      <td>8</td>\n",
       "    </tr>\n",
       "    <tr>\n",
       "      <th>MOL_D</th>\n",
       "      <td>5</td>\n",
       "      <td>9</td>\n",
       "    </tr>\n",
       "    <tr>\n",
       "      <th>MOL_E</th>\n",
       "      <td>4</td>\n",
       "      <td>9</td>\n",
       "    </tr>\n",
       "    <tr>\n",
       "      <th>MOL_F</th>\n",
       "      <td>3</td>\n",
       "      <td>9</td>\n",
       "    </tr>\n",
       "    <tr>\n",
       "      <th>MOL_G</th>\n",
       "      <td>3</td>\n",
       "      <td>3</td>\n",
       "    </tr>\n",
       "    <tr>\n",
       "      <th>NFOLs</th>\n",
       "      <td>1</td>\n",
       "      <td>6</td>\n",
       "    </tr>\n",
       "    <tr>\n",
       "      <th>OPCs</th>\n",
       "      <td>5</td>\n",
       "      <td>9</td>\n",
       "    </tr>\n",
       "    <tr>\n",
       "      <th>cycl_OPCs</th>\n",
       "      <td>2</td>\n",
       "      <td>7</td>\n",
       "    </tr>\n",
       "  </tbody>\n",
       "</table>\n",
       "</div>"
      ],
      "text/plain": [
       "label      ctrl  stim\n",
       "cell_type            \n",
       "COPs          3     6\n",
       "MFOLs         5     5\n",
       "MOL_A         3     3\n",
       "MOL_B         5     9\n",
       "MOL_C         5     8\n",
       "MOL_D         5     9\n",
       "MOL_E         4     9\n",
       "MOL_F         3     9\n",
       "MOL_G         3     3\n",
       "NFOLs         1     6\n",
       "OPCs          5     9\n",
       "cycl_OPCs     2     7"
      ]
     },
     "execution_count": 4,
     "metadata": {},
     "output_type": "execute_result"
    }
   ],
   "source": [
    "# Extract the data as a pandas DataFrame\n",
    "df = adata_pb.obs[['cell_type', 'label']]\n",
    "\n",
    "# Create a summary table\n",
    "summary_table = df.groupby(['cell_type', 'label']).size().unstack(fill_value=0)\n",
    "summary_table"
   ]
  },
  {
   "cell_type": "code",
   "execution_count": 5,
   "id": "9e5a3fe0",
   "metadata": {},
   "outputs": [
    {
     "name": "stdout",
     "output_type": "stream",
     "text": [
      "Dimensions of adata_sub: (27, 19304)\n"
     ]
    }
   ],
   "source": [
    "adata_sub= adata_pb[np.in1d(adata_pb.obs['cell_type'], \n",
    "                           ['MOL_B', 'MOL_E'])].copy()\n",
    "\n",
    "print(\"Dimensions of adata_sub:\", adata_sub.shape)"
   ]
  },
  {
   "cell_type": "code",
   "execution_count": 6,
   "id": "860aa9d1",
   "metadata": {},
   "outputs": [],
   "source": [
    "pub_map = {\n",
    "    '(this study)': 'Adams',\n",
    "    'Pandey et al. 2022': 'Pandey'\n",
    "}\n",
    "\n",
    "# Update the 'treatment_meta' column based on the mapping\n",
    "adata_sub.obs['batch'] = adata_sub.obs['publication'].map(pub_map)"
   ]
  },
  {
   "cell_type": "code",
   "execution_count": 7,
   "id": "5c9e6461",
   "metadata": {},
   "outputs": [],
   "source": [
    "# Concatenate 'individual_lesion_condition' and 'replicate' to create 'sample'\n",
    "adata_sub.obs['cell_type_sample'] = adata_sub.obs['cell_type'].astype(str) + '_' + adata_sub.obs['sample_rep'].astype(str)"
   ]
  },
  {
   "cell_type": "code",
   "execution_count": 8,
   "id": "5df79ed2",
   "metadata": {},
   "outputs": [
    {
     "data": {
      "text/html": [
       "<div>\n",
       "<style scoped>\n",
       "    .dataframe tbody tr th:only-of-type {\n",
       "        vertical-align: middle;\n",
       "    }\n",
       "\n",
       "    .dataframe tbody tr th {\n",
       "        vertical-align: top;\n",
       "    }\n",
       "\n",
       "    .dataframe thead th {\n",
       "        text-align: right;\n",
       "    }\n",
       "</style>\n",
       "<table border=\"1\" class=\"dataframe\">\n",
       "  <thead>\n",
       "    <tr style=\"text-align: right;\">\n",
       "      <th></th>\n",
       "      <th>publication</th>\n",
       "      <th>label</th>\n",
       "      <th>cell_type</th>\n",
       "      <th>replicate_cat</th>\n",
       "      <th>sample</th>\n",
       "      <th>sample_rep</th>\n",
       "      <th>batch</th>\n",
       "      <th>lib_size</th>\n",
       "      <th>log_lib_size</th>\n",
       "      <th>replicate</th>\n",
       "      <th>cell_type_sample</th>\n",
       "    </tr>\n",
       "  </thead>\n",
       "  <tbody>\n",
       "    <tr>\n",
       "      <th>donor_ctrl_1_0-1-0-0-0-0-0</th>\n",
       "      <td>(this study)</td>\n",
       "      <td>ctrl</td>\n",
       "      <td>MOL_B</td>\n",
       "      <td>1</td>\n",
       "      <td>ctrl_1</td>\n",
       "      <td>LPC_Saline_2</td>\n",
       "      <td>Adams</td>\n",
       "      <td>795431</td>\n",
       "      <td>13.586639</td>\n",
       "      <td>1</td>\n",
       "      <td>MOL_B_LPC_Saline_2</td>\n",
       "    </tr>\n",
       "    <tr>\n",
       "      <th>donor_ctrl_2_0-1-0-0-0-0-0</th>\n",
       "      <td>(this study)</td>\n",
       "      <td>ctrl</td>\n",
       "      <td>MOL_B</td>\n",
       "      <td>2</td>\n",
       "      <td>ctrl_2</td>\n",
       "      <td>LPC_Saline_1</td>\n",
       "      <td>Adams</td>\n",
       "      <td>1609327</td>\n",
       "      <td>14.291327</td>\n",
       "      <td>2</td>\n",
       "      <td>MOL_B_LPC_Saline_1</td>\n",
       "    </tr>\n",
       "    <tr>\n",
       "      <th>donor_ctrl_3_0-1-0-0-0-0-0</th>\n",
       "      <td>Pandey et al. 2022</td>\n",
       "      <td>ctrl</td>\n",
       "      <td>MOL_B</td>\n",
       "      <td>3</td>\n",
       "      <td>ctrl_3</td>\n",
       "      <td>LPC_ctrl_3</td>\n",
       "      <td>Pandey</td>\n",
       "      <td>1443669</td>\n",
       "      <td>14.182698</td>\n",
       "      <td>3</td>\n",
       "      <td>MOL_B_LPC_ctrl_3</td>\n",
       "    </tr>\n",
       "    <tr>\n",
       "      <th>donor_ctrl_4_0-1-0-0-0-0-0</th>\n",
       "      <td>Pandey et al. 2022</td>\n",
       "      <td>ctrl</td>\n",
       "      <td>MOL_B</td>\n",
       "      <td>4</td>\n",
       "      <td>ctrl_4</td>\n",
       "      <td>LPC_ctrl_2</td>\n",
       "      <td>Pandey</td>\n",
       "      <td>13068125</td>\n",
       "      <td>16.385687</td>\n",
       "      <td>4</td>\n",
       "      <td>MOL_B_LPC_ctrl_2</td>\n",
       "    </tr>\n",
       "    <tr>\n",
       "      <th>donor_ctrl_5_0-1-0-0-0-0-0</th>\n",
       "      <td>Pandey et al. 2022</td>\n",
       "      <td>ctrl</td>\n",
       "      <td>MOL_B</td>\n",
       "      <td>5</td>\n",
       "      <td>ctrl_5</td>\n",
       "      <td>LPC_ctrl_1</td>\n",
       "      <td>Pandey</td>\n",
       "      <td>5994797</td>\n",
       "      <td>15.606402</td>\n",
       "      <td>5</td>\n",
       "      <td>MOL_B_LPC_ctrl_1</td>\n",
       "    </tr>\n",
       "  </tbody>\n",
       "</table>\n",
       "</div>"
      ],
      "text/plain": [
       "                                   publication label cell_type replicate_cat  \\\n",
       "donor_ctrl_1_0-1-0-0-0-0-0        (this study)  ctrl     MOL_B             1   \n",
       "donor_ctrl_2_0-1-0-0-0-0-0        (this study)  ctrl     MOL_B             2   \n",
       "donor_ctrl_3_0-1-0-0-0-0-0  Pandey et al. 2022  ctrl     MOL_B             3   \n",
       "donor_ctrl_4_0-1-0-0-0-0-0  Pandey et al. 2022  ctrl     MOL_B             4   \n",
       "donor_ctrl_5_0-1-0-0-0-0-0  Pandey et al. 2022  ctrl     MOL_B             5   \n",
       "\n",
       "                            sample    sample_rep   batch  lib_size  \\\n",
       "donor_ctrl_1_0-1-0-0-0-0-0  ctrl_1  LPC_Saline_2   Adams    795431   \n",
       "donor_ctrl_2_0-1-0-0-0-0-0  ctrl_2  LPC_Saline_1   Adams   1609327   \n",
       "donor_ctrl_3_0-1-0-0-0-0-0  ctrl_3    LPC_ctrl_3  Pandey   1443669   \n",
       "donor_ctrl_4_0-1-0-0-0-0-0  ctrl_4    LPC_ctrl_2  Pandey  13068125   \n",
       "donor_ctrl_5_0-1-0-0-0-0-0  ctrl_5    LPC_ctrl_1  Pandey   5994797   \n",
       "\n",
       "                            log_lib_size replicate    cell_type_sample  \n",
       "donor_ctrl_1_0-1-0-0-0-0-0     13.586639         1  MOL_B_LPC_Saline_2  \n",
       "donor_ctrl_2_0-1-0-0-0-0-0     14.291327         2  MOL_B_LPC_Saline_1  \n",
       "donor_ctrl_3_0-1-0-0-0-0-0     14.182698         3    MOL_B_LPC_ctrl_3  \n",
       "donor_ctrl_4_0-1-0-0-0-0-0     16.385687         4    MOL_B_LPC_ctrl_2  \n",
       "donor_ctrl_5_0-1-0-0-0-0-0     15.606402         5    MOL_B_LPC_ctrl_1  "
      ]
     },
     "execution_count": 8,
     "metadata": {},
     "output_type": "execute_result"
    }
   ],
   "source": [
    "adata_sub.obs[:5]"
   ]
  },
  {
   "cell_type": "markdown",
   "id": "e2f53bd1",
   "metadata": {},
   "source": [
    "# Subset for demyelination and remyelination MOL2 data"
   ]
  },
  {
   "cell_type": "code",
   "execution_count": 9,
   "id": "31e9faf2",
   "metadata": {},
   "outputs": [
    {
     "name": "stdout",
     "output_type": "stream",
     "text": [
      "MOL_B_LPC_Saline_2\n",
      "MOL_B_LPC_Saline_1\n",
      "MOL_B_LPC_ctrl_3\n",
      "MOL_B_LPC_ctrl_2\n",
      "MOL_B_LPC_ctrl_1\n",
      "MOL_B_LPC_7d_2\n",
      "MOL_B_LPC_7d_1\n",
      "MOL_B_LPC_5d_1\n",
      "MOL_B_LPC_5d_3\n",
      "MOL_B_LPC_28d_3\n",
      "MOL_B_LPC_28d_1\n",
      "MOL_B_LPC_5d_2\n",
      "MOL_B_LPC_28d_2\n",
      "MOL_B_LPC_5d_4\n",
      "MOL_E_LPC_Saline_2\n",
      "MOL_E_LPC_Saline_1\n",
      "MOL_E_LPC_ctrl_2\n",
      "MOL_E_LPC_ctrl_1\n",
      "MOL_E_LPC_7d_2\n",
      "MOL_E_LPC_7d_1\n",
      "MOL_E_LPC_5d_1\n",
      "MOL_E_LPC_5d_3\n",
      "MOL_E_LPC_28d_3\n",
      "MOL_E_LPC_28d_1\n",
      "MOL_E_LPC_5d_2\n",
      "MOL_E_LPC_28d_2\n",
      "MOL_E_LPC_5d_4\n"
     ]
    }
   ],
   "source": [
    "# Unique values in the 'condition' column\n",
    "unique_conditions = adata_sub.obs['cell_type_sample'].unique()\n",
    "for condition in unique_conditions:\n",
    "    print(condition)"
   ]
  },
  {
   "cell_type": "code",
   "execution_count": 10,
   "id": "4a947f7b",
   "metadata": {},
   "outputs": [
    {
     "name": "stdout",
     "output_type": "stream",
     "text": [
      "Dimensions of adata_sub: (6, 19304)\n"
     ]
    }
   ],
   "source": [
    "adata_sub= adata_sub[np.in1d(adata_sub.obs['cell_type_sample'], \n",
    "                           ['MOL_B_LPC_ctrl_3',\n",
    "                                'MOL_B_LPC_ctrl_2',\n",
    "                                'MOL_B_LPC_ctrl_1',\n",
    "                                'MOL_E_LPC_28d_3',\n",
    "                                'MOL_E_LPC_28d_2',\n",
    "                                'MOL_E_LPC_28d_1',\n",
    "                           ])].copy()\n",
    "\n",
    "print(\"Dimensions of adata_sub:\", adata_sub.shape)"
   ]
  },
  {
   "cell_type": "code",
   "execution_count": 11,
   "id": "004f16ab",
   "metadata": {},
   "outputs": [],
   "source": [
    "# Check if the 'sample_rep' column exists\n",
    "if 'sample_rep' in adata_sub.obs.columns:\n",
    "    # Set the 'sample_rep' column as the index\n",
    "    adata_sub.obs.set_index('sample_rep', inplace=True)\n",
    "else:\n",
    "    print(\"The column 'sample_rep' does not exist in adata_sub.obs.\")\n",
    "\n",
    "adata_sub.obs.index.name = None"
   ]
  },
  {
   "cell_type": "code",
   "execution_count": 12,
   "id": "65c8ca68",
   "metadata": {},
   "outputs": [
    {
     "data": {
      "text/html": [
       "<div>\n",
       "<style scoped>\n",
       "    .dataframe tbody tr th:only-of-type {\n",
       "        vertical-align: middle;\n",
       "    }\n",
       "\n",
       "    .dataframe tbody tr th {\n",
       "        vertical-align: top;\n",
       "    }\n",
       "\n",
       "    .dataframe thead th {\n",
       "        text-align: right;\n",
       "    }\n",
       "</style>\n",
       "<table border=\"1\" class=\"dataframe\">\n",
       "  <thead>\n",
       "    <tr style=\"text-align: right;\">\n",
       "      <th></th>\n",
       "      <th>publication</th>\n",
       "      <th>label</th>\n",
       "      <th>cell_type</th>\n",
       "      <th>replicate_cat</th>\n",
       "      <th>sample</th>\n",
       "      <th>batch</th>\n",
       "      <th>lib_size</th>\n",
       "      <th>log_lib_size</th>\n",
       "      <th>replicate</th>\n",
       "      <th>cell_type_sample</th>\n",
       "    </tr>\n",
       "  </thead>\n",
       "  <tbody>\n",
       "    <tr>\n",
       "      <th>LPC_ctrl_3</th>\n",
       "      <td>Pandey et al. 2022</td>\n",
       "      <td>ctrl</td>\n",
       "      <td>MOL_B</td>\n",
       "      <td>3</td>\n",
       "      <td>ctrl_3</td>\n",
       "      <td>Pandey</td>\n",
       "      <td>1443669</td>\n",
       "      <td>14.182698</td>\n",
       "      <td>3</td>\n",
       "      <td>MOL_B_LPC_ctrl_3</td>\n",
       "    </tr>\n",
       "    <tr>\n",
       "      <th>LPC_ctrl_2</th>\n",
       "      <td>Pandey et al. 2022</td>\n",
       "      <td>ctrl</td>\n",
       "      <td>MOL_B</td>\n",
       "      <td>4</td>\n",
       "      <td>ctrl_4</td>\n",
       "      <td>Pandey</td>\n",
       "      <td>13068125</td>\n",
       "      <td>16.385687</td>\n",
       "      <td>4</td>\n",
       "      <td>MOL_B_LPC_ctrl_2</td>\n",
       "    </tr>\n",
       "    <tr>\n",
       "      <th>LPC_ctrl_1</th>\n",
       "      <td>Pandey et al. 2022</td>\n",
       "      <td>ctrl</td>\n",
       "      <td>MOL_B</td>\n",
       "      <td>5</td>\n",
       "      <td>ctrl_5</td>\n",
       "      <td>Pandey</td>\n",
       "      <td>5994797</td>\n",
       "      <td>15.606402</td>\n",
       "      <td>5</td>\n",
       "      <td>MOL_B_LPC_ctrl_1</td>\n",
       "    </tr>\n",
       "    <tr>\n",
       "      <th>LPC_28d_3</th>\n",
       "      <td>Pandey et al. 2022</td>\n",
       "      <td>stim</td>\n",
       "      <td>MOL_E</td>\n",
       "      <td>5</td>\n",
       "      <td>stim_5</td>\n",
       "      <td>Pandey</td>\n",
       "      <td>3715858</td>\n",
       "      <td>15.128120</td>\n",
       "      <td>5</td>\n",
       "      <td>MOL_E_LPC_28d_3</td>\n",
       "    </tr>\n",
       "    <tr>\n",
       "      <th>LPC_28d_1</th>\n",
       "      <td>Pandey et al. 2022</td>\n",
       "      <td>stim</td>\n",
       "      <td>MOL_E</td>\n",
       "      <td>6</td>\n",
       "      <td>stim_6</td>\n",
       "      <td>Pandey</td>\n",
       "      <td>6131415</td>\n",
       "      <td>15.628936</td>\n",
       "      <td>6</td>\n",
       "      <td>MOL_E_LPC_28d_1</td>\n",
       "    </tr>\n",
       "    <tr>\n",
       "      <th>LPC_28d_2</th>\n",
       "      <td>Pandey et al. 2022</td>\n",
       "      <td>stim</td>\n",
       "      <td>MOL_E</td>\n",
       "      <td>8</td>\n",
       "      <td>stim_8</td>\n",
       "      <td>Pandey</td>\n",
       "      <td>7497906</td>\n",
       "      <td>15.830134</td>\n",
       "      <td>8</td>\n",
       "      <td>MOL_E_LPC_28d_2</td>\n",
       "    </tr>\n",
       "  </tbody>\n",
       "</table>\n",
       "</div>"
      ],
      "text/plain": [
       "                   publication label cell_type replicate_cat  sample   batch  \\\n",
       "LPC_ctrl_3  Pandey et al. 2022  ctrl     MOL_B             3  ctrl_3  Pandey   \n",
       "LPC_ctrl_2  Pandey et al. 2022  ctrl     MOL_B             4  ctrl_4  Pandey   \n",
       "LPC_ctrl_1  Pandey et al. 2022  ctrl     MOL_B             5  ctrl_5  Pandey   \n",
       "LPC_28d_3   Pandey et al. 2022  stim     MOL_E             5  stim_5  Pandey   \n",
       "LPC_28d_1   Pandey et al. 2022  stim     MOL_E             6  stim_6  Pandey   \n",
       "LPC_28d_2   Pandey et al. 2022  stim     MOL_E             8  stim_8  Pandey   \n",
       "\n",
       "            lib_size  log_lib_size replicate  cell_type_sample  \n",
       "LPC_ctrl_3   1443669     14.182698         3  MOL_B_LPC_ctrl_3  \n",
       "LPC_ctrl_2  13068125     16.385687         4  MOL_B_LPC_ctrl_2  \n",
       "LPC_ctrl_1   5994797     15.606402         5  MOL_B_LPC_ctrl_1  \n",
       "LPC_28d_3    3715858     15.128120         5   MOL_E_LPC_28d_3  \n",
       "LPC_28d_1    6131415     15.628936         6   MOL_E_LPC_28d_1  \n",
       "LPC_28d_2    7497906     15.830134         8   MOL_E_LPC_28d_2  "
      ]
     },
     "execution_count": 12,
     "metadata": {},
     "output_type": "execute_result"
    }
   ],
   "source": [
    "adata_sub.obs"
   ]
  },
  {
   "cell_type": "markdown",
   "id": "410e9eb5",
   "metadata": {},
   "source": [
    "# Rename the MOL clusters for NEW letter based nomenclature"
   ]
  },
  {
   "cell_type": "code",
   "execution_count": 13,
   "id": "c27be2e8",
   "metadata": {},
   "outputs": [
    {
     "name": "stdout",
     "output_type": "stream",
     "text": [
      "[[  0   0  57   1  12]\n",
      " [  5   3 743   9 158]\n",
      " [  4   0 206   6  50]\n",
      " [  3   1 202   6  27]\n",
      " [  5   0 464   8  56]]\n"
     ]
    }
   ],
   "source": [
    "#Check the counts data\n",
    "print(adata_sub.X[:5, :5])"
   ]
  },
  {
   "cell_type": "markdown",
   "id": "bb668794",
   "metadata": {},
   "source": [
    "# Start R code: QC of log transformation"
   ]
  },
  {
   "cell_type": "code",
   "execution_count": 14,
   "id": "a2639073",
   "metadata": {},
   "outputs": [
    {
     "name": "stdout",
     "output_type": "stream",
     "text": [
      "           Group Reps  Batch\n",
      "LPC_ctrl_3  ctrl    3 Pandey\n",
      "LPC_ctrl_2  ctrl    4 Pandey\n",
      "LPC_ctrl_1  ctrl    5 Pandey\n",
      "LPC_28d_3   stim    5 Pandey\n",
      "LPC_28d_1   stim    6 Pandey\n",
      "LPC_28d_2   stim    8 Pandey\n"
     ]
    }
   ],
   "source": [
    "%%R -i adata_sub\n",
    "\n",
    "# Concatenate label and cell type for group factor\n",
    "group <- colData(adata_sub)$label #ctrl or stim\n",
    "replicate <- colData(adata_sub)$replicate #replicate number\n",
    "batch <- colData(adata_sub)$batch\n",
    "\n",
    "treatments <- data.frame(\"Group\"=group, \"Reps\"=replicate, \"Batch\"= batch)\n",
    "print(treatments)"
   ]
  },
  {
   "cell_type": "code",
   "execution_count": 15,
   "id": "8176fc6d",
   "metadata": {},
   "outputs": [
    {
     "name": "stdout",
     "output_type": "stream",
     "text": [
      "[1] \"Dimensions before subsetting:\"\n",
      "[1] 19304     6\n",
      "\n",
      "ctrl stim \n",
      "   3    3 \n"
     ]
    }
   ],
   "source": [
    "%%R\n",
    "\n",
    "#Create a DGElist object using the anndata counts in 'X'\n",
    "x <- DGEList(assay(adata_sub, \"X\"), group=colData(adata_sub)$label)\n",
    "\n",
    "samplenames <- colnames(x$counts)\n",
    "\n",
    "print(\"Dimensions before subsetting:\")\n",
    "print(dim(x))\n",
    "\n",
    "# Check counts per group before filtering\n",
    "print(table(x$samples$group))"
   ]
  },
  {
   "cell_type": "code",
   "execution_count": 16,
   "id": "1609eaec",
   "metadata": {},
   "outputs": [
    {
     "name": "stdout",
     "output_type": "stream",
     "text": [
      "[1] ctrl ctrl ctrl stim stim stim\n",
      "Levels: ctrl stim\n"
     ]
    }
   ],
   "source": [
    "%%R\n",
    "\n",
    "cd <- x$samples$group\n",
    "print(cd)"
   ]
  },
  {
   "cell_type": "code",
   "execution_count": 17,
   "id": "1528a389",
   "metadata": {},
   "outputs": [
    {
     "name": "stdout",
     "output_type": "stream",
     "text": [
      "  cdctrl cdstim\n",
      "1      1      0\n",
      "2      1      0\n",
      "3      1      0\n",
      "4      0      1\n",
      "5      0      1\n",
      "6      0      1\n",
      "attr(,\"assign\")\n",
      "[1] 1 1\n",
      "attr(,\"contrasts\")\n",
      "attr(,\"contrasts\")$cd\n",
      "[1] \"contr.treatment\"\n",
      "\n"
     ]
    }
   ],
   "source": [
    "%%R\n",
    "\n",
    "# Adjust for batch-- ie publication in the model matrix\n",
    "design <- model.matrix(~0 + cd)\n",
    "design"
   ]
  },
  {
   "cell_type": "code",
   "execution_count": 18,
   "id": "a6fdc7cf",
   "metadata": {},
   "outputs": [
    {
     "name": "stdout",
     "output_type": "stream",
     "text": [
      "[1] 11337     6\n"
     ]
    }
   ],
   "source": [
    "%%R\n",
    "\n",
    "# More strict removal of genes, tried group, pub and batch\n",
    "keep.expr <- filterByExpr(x, design)\n",
    "x2 <- x[keep.expr,, keep.lib.sizes=FALSE]\n",
    "dim(x2)"
   ]
  },
  {
   "cell_type": "code",
   "execution_count": 19,
   "id": "a53ca1e4",
   "metadata": {},
   "outputs": [
    {
     "name": "stdout",
     "output_type": "stream",
     "text": [
      "[1] 9969    6\n"
     ]
    }
   ],
   "source": [
    "%%R\n",
    "\n",
    "## OLD DON\"T USE THIS\n",
    "\n",
    "keep.exprs <- filterByExpr(x, group=batch)\n",
    "b <- x[keep.exprs,, keep.lib.sizes=FALSE]\n",
    "dim(b)"
   ]
  },
  {
   "cell_type": "code",
   "execution_count": 20,
   "id": "eff91fce",
   "metadata": {},
   "outputs": [
    {
     "name": "stdout",
     "output_type": "stream",
     "text": [
      "[1] 6.291882 6.044937\n"
     ]
    }
   ],
   "source": [
    "%%R\n",
    "#X is before trimming, Y is after trimming\n",
    "L <- mean(x2$samples$lib.size) * 1e-6\n",
    "M <- median(x2$samples$lib.size) * 1e-6\n",
    "c(L, M)"
   ]
  },
  {
   "cell_type": "code",
   "execution_count": 21,
   "id": "ed52de22",
   "metadata": {},
   "outputs": [
    {
     "name": "stdout",
     "output_type": "stream",
     "text": [
      "[1] 1.0008559 1.0353893 0.9822590 0.9784511 1.0343739 0.9706935\n"
     ]
    }
   ],
   "source": [
    "%%R\n",
    "## Calc norm factors before to normalize library sizes, then cpm divides counts by lib sizes\n",
    "#X is before trimming, Y is after trimming, X2 is also trimmed but differently\n",
    "x2 <- calcNormFactors(x2, method = \"TMM\")\n",
    "x2$samples$norm.factors"
   ]
  },
  {
   "cell_type": "code",
   "execution_count": 22,
   "id": "995a9487",
   "metadata": {},
   "outputs": [],
   "source": [
    "%%R\n",
    "#X2 is the norm lib sizes and trimmed\n",
    "cpm <- edgeR::cpm(x2, log=FALSE, prior.counts=3)\n",
    "lcpm <- edgeR::cpm(x2, log=TRUE, prior.count=3)"
   ]
  },
  {
   "cell_type": "code",
   "execution_count": 23,
   "id": "1c21200d",
   "metadata": {},
   "outputs": [
    {
     "data": {
      "image/png": "[encoded data removed]",
      "text/plain": [
       "<IPython.core.display.Image object>"
      ]
     },
     "metadata": {},
     "output_type": "display_data"
    }
   ],
   "source": [
    "%%R\n",
    "lcpm.cutoff <- log2(10/M + 2/L)\n",
    "library(RColorBrewer)\n",
    "nsamples <- ncol(x2)\n",
    "col <- brewer.pal(nsamples, \"Paired\")\n",
    "\n",
    "par(mfrow=c(1,2))\n",
    "\n",
    "lcpm <- edgeR::cpm(x, log=TRUE)\n",
    "plot(density(lcpm[,1]), col=col[1], lwd=2, ylim=c(0,0.35), las=2, main=\"\", xlab=\"\")\n",
    "title(main=\"A. Raw data\", xlab=\"Log-cpm\")\n",
    "abline(v=lcpm.cutoff, lty=3)\n",
    "for (i in 2:nsamples){\n",
    "  den <- density(lcpm[,i])\n",
    "  lines(den$x, den$y, col=col[i], lwd=2)\n",
    "}\n",
    "legend(\"topright\", samplenames, text.col=col, bty=\"n\")\n",
    "\n",
    "lcpm <- edgeR::cpm(x2, log=TRUE)\n",
    "plot(density(lcpm[,1]), col=col[1], lwd=2, ylim=c(0,0.25), las=2, main=\"\", xlab=\"\")\n",
    "title(main=\"B. Filtered data\", xlab=\"Log-cpm\")\n",
    "abline(v=lcpm.cutoff, lty=3)\n",
    "for (i in 2:nsamples){\n",
    "  den <- density(lcpm[,i])\n",
    "  lines(den$x, den$y, col=col[i], lwd=2)\n",
    "}\n",
    "legend(\"topright\", samplenames, text.col=col, bty=\"n\")"
   ]
  },
  {
   "cell_type": "code",
   "execution_count": 24,
   "id": "0a231181",
   "metadata": {},
   "outputs": [
    {
     "data": {
      "image/png": "[encoded data removed]",
      "text/plain": [
       "<IPython.core.display.Image object>"
      ]
     },
     "metadata": {},
     "output_type": "display_data"
    }
   ],
   "source": [
    "%%R\n",
    "y2 <- x2\n",
    "y2$samples$norm.factors <- 1\n",
    "y2$counts[,1] <- ceiling(y2$counts[,1]*0.05)\n",
    "y2$counts[,2] <- y2$counts[,2]*5\n",
    "\n",
    "par(mfrow=c(1,2))\n",
    "lcpm <- edgeR::cpm(y2, log=TRUE)\n",
    "boxplot(lcpm, las=2, col=col, main=\"\")\n",
    "title(main=\"Unnormalised data\", ylab=\"Log-cpm\")\n",
    "\n",
    "y3 <- calcNormFactors(y2)\n",
    "y3$samples$norm.factors\n",
    "\n",
    "lcpm <- edgeR::cpm(y3, log=TRUE)\n",
    "boxplot(lcpm, las=2, col=col, main=\"\")\n",
    "title(main=\"Normalised data\", ylab=\"Log-cpm\")"
   ]
  },
  {
   "cell_type": "markdown",
   "id": "6ededd16",
   "metadata": {},
   "source": [
    "# Show how log transf + batch removal affects the separation of samples:"
   ]
  },
  {
   "cell_type": "code",
   "execution_count": 25,
   "id": "2e68e94f",
   "metadata": {},
   "outputs": [],
   "source": [
    "%%R\n",
    "#Make new count matrix with log counts and DGE data from X2 (trimmed, normfactors)\n",
    "x3 <- x2\n",
    "x3$counts <- lcpm"
   ]
  },
  {
   "cell_type": "code",
   "execution_count": 26,
   "id": "4f317f45",
   "metadata": {},
   "outputs": [
    {
     "data": {
      "image/png": "[encoded data removed]",
      "text/plain": [
       "<IPython.core.display.Image object>"
      ]
     },
     "metadata": {},
     "output_type": "display_data"
    }
   ],
   "source": [
    "%%R\n",
    "# Assuming 'group' is stored in y$samples dataframe\n",
    "group <- x2$samples$group\n",
    "\n",
    "# Generate a numeric vector from group factors (if not already factor, convert it)\n",
    "group_factor <- as.factor(group)\n",
    "group_colors <- as.numeric(group_factor)  # This converts factors to unique integers\n",
    "\n",
    "# Define a set of colors corresponding to the factors\n",
    "# Example: If you have two groups, you could define two colors\n",
    "colors <- c(\"blue\", \"red\")  # Adjust the number and colors based on your actual groups\n",
    "\n",
    "# Use these colors in your plotMDS\n",
    "plotMDS(x2, col = colors[group_colors])\n",
    "\n",
    "# Adding a legend for clarity\n",
    "legend(\"topright\", legend=levels(group_factor), fill=colors, title=\"Group\")"
   ]
  },
  {
   "cell_type": "code",
   "execution_count": 27,
   "id": "a3c165e9",
   "metadata": {},
   "outputs": [
    {
     "name": "stdout",
     "output_type": "stream",
     "text": [
      "  cdctrl cdstim\n",
      "1      1      0\n",
      "2      1      0\n",
      "3      1      0\n",
      "4      0      1\n",
      "5      0      1\n",
      "6      0      1\n",
      "attr(,\"assign\")\n",
      "[1] 1 1\n",
      "attr(,\"contrasts\")\n",
      "attr(,\"contrasts\")$cd\n",
      "[1] \"contr.treatment\"\n",
      "\n"
     ]
    }
   ],
   "source": [
    "%%R\n",
    "# Adjust for batch-- ie publication in the model matrix\n",
    "design <- model.matrix(~0 + cd)\n",
    "design"
   ]
  },
  {
   "cell_type": "code",
   "execution_count": 28,
   "id": "ebd3bc3a",
   "metadata": {},
   "outputs": [
    {
     "name": "stdout",
     "output_type": "stream",
     "text": [
      "        Contrasts\n",
      "Levels   cdstim - cdctrl\n",
      "  cdctrl              -1\n",
      "  cdstim               1\n"
     ]
    }
   ],
   "source": [
    "%%R\n",
    "contr.matrix <- makeContrasts(cdstim - cdctrl, levels = colnames(design))\n",
    "contr.matrix"
   ]
  },
  {
   "cell_type": "code",
   "execution_count": 29,
   "id": "93bc6589",
   "metadata": {},
   "outputs": [],
   "source": [
    "%%R\n",
    "# Convert to CPM and log2 transformation. \n",
    "logCPM <- edgeR::cpm(x2, log=TRUE, prior.count=3)"
   ]
  },
  {
   "cell_type": "code",
   "execution_count": 30,
   "id": "aca27a7e",
   "metadata": {},
   "outputs": [
    {
     "data": {
      "image/png": "[encoded data removed]",
      "text/plain": [
       "<IPython.core.display.Image object>"
      ]
     },
     "metadata": {},
     "output_type": "display_data"
    }
   ],
   "source": [
    "%%R\n",
    "heatmap(logCPM)"
   ]
  },
  {
   "cell_type": "markdown",
   "id": "49ffd9bc",
   "metadata": {},
   "source": [
    "# Lets try with voom:"
   ]
  },
  {
   "cell_type": "code",
   "execution_count": 31,
   "id": "e26e5510",
   "metadata": {},
   "outputs": [
    {
     "name": "stdout",
     "output_type": "stream",
     "text": [
      "        Contrasts\n",
      "Levels   cdstim - cdctrl\n",
      "  cdctrl              -1\n",
      "  cdstim               1\n"
     ]
    }
   ],
   "source": [
    "%%R\n",
    "contr.matrix <- makeContrasts(cdstim - cdctrl, levels = colnames(design))\n",
    "contr.matrix"
   ]
  },
  {
   "cell_type": "code",
   "execution_count": 33,
   "id": "37e49e48",
   "metadata": {},
   "outputs": [
    {
     "data": {
      "image/png": "[encoded data removed]",
      "text/plain": [
       "<IPython.core.display.Image object>"
      ]
     },
     "metadata": {},
     "output_type": "display_data"
    }
   ],
   "source": [
    "%%R\n",
    "y <- voom(x2$counts, design, plot=TRUE)"
   ]
  },
  {
   "cell_type": "code",
   "execution_count": 34,
   "id": "332ae228",
   "metadata": {},
   "outputs": [
    {
     "name": "stdout",
     "output_type": "stream",
     "text": [
      "                cdctrl   cdstim\n",
      "0610009B22Rik 5.455034 5.936873\n",
      "0610009L18Rik 3.374434 3.171033\n",
      "0610010F05Rik 5.358756 5.257663\n",
      "0610010K14Rik 5.579706 5.915647\n",
      "0610012G03Rik 5.540760 6.021257\n",
      "0610030E20Rik 4.501191 4.299410\n"
     ]
    }
   ],
   "source": [
    "%%R\n",
    "fit <- lmFit(y, design)\n",
    "head(coef(fit))"
   ]
  },
  {
   "cell_type": "code",
   "execution_count": 35,
   "id": "5f71c8bb",
   "metadata": {},
   "outputs": [
    {
     "data": {
      "image/png": "[encoded data removed]",
      "text/plain": [
       "<IPython.core.display.Image object>"
      ]
     },
     "metadata": {},
     "output_type": "display_data"
    }
   ],
   "source": [
    "%%R\n",
    "contr <- makeContrasts(cdstim - cdctrl, levels = colnames(coef(fit)))\n",
    "tmp <- contrasts.fit(fit, contr)\n",
    "tmp2 <- eBayes(tmp)\n",
    "\n",
    "plotSA(tmp2, xlab = \"Average log-expression\", ylab = \"sqrt(sigma)\", zero.weights = FALSE,\n",
    "       pch = 16, cex = 0.3, col = c(\"black\",\"red\"))"
   ]
  },
  {
   "cell_type": "code",
   "execution_count": 36,
   "id": "42211391",
   "metadata": {},
   "outputs": [
    {
     "name": "stdout",
     "output_type": "stream",
     "text": [
      "             logFC  AveExpr        t      P.Value    adj.P.Val        B\n",
      "C4b       6.014434 7.275518 36.49204 6.369009e-14 7.220546e-10 21.42328\n",
      "Serpina3n 7.949283 5.052831 25.42069 5.164239e-12 2.927349e-08 16.08063\n",
      "Anxa2     6.597289 4.230177 20.19270 8.260166e-11 3.121517e-07 14.17203\n",
      "Slc9a3r2  3.787360 6.653274 19.63000 1.158402e-10 3.283201e-07 14.99920\n",
      "Piezo2    6.784123 4.060665 18.52956 2.306305e-10 5.229317e-07 13.25701\n",
      "Cebpd     3.511025 4.929288 18.01514 3.224548e-10 6.092783e-07 13.92309\n",
      "Astn2     3.752409 5.355833 17.45293 4.699402e-10 7.611018e-07 13.60701\n",
      "Aldh1l2   3.726041 3.995650 15.71377 1.624835e-09 2.076235e-06 12.28656\n",
      "B2m       4.490594 6.321066 15.69468 1.648242e-09 2.076235e-06 12.39674\n",
      "Socs3     6.518836 4.385444 15.48615 1.928978e-09 2.186882e-06 11.88705\n"
     ]
    }
   ],
   "source": [
    "%%R\n",
    "# Retrieve the top results without sorting by p-value directly\n",
    "tt <- topTable(tmp2, sort.by = \"P\", n = Inf)\n",
    "head(tt, 10)"
   ]
  },
  {
   "cell_type": "code",
   "execution_count": 37,
   "id": "d9e96826",
   "metadata": {},
   "outputs": [
    {
     "name": "stdout",
     "output_type": "stream",
     "text": [
      "[1] 1482\n"
     ]
    }
   ],
   "source": [
    "%%R\n",
    "length(which(tt$adj.P.Val < 0.05))"
   ]
  },
  {
   "cell_type": "code",
   "execution_count": 38,
   "id": "3a7a0bb5",
   "metadata": {},
   "outputs": [
    {
     "name": "stdout",
     "output_type": "stream",
     "text": [
      "[1] 1222\n"
     ]
    }
   ],
   "source": [
    "%%R\n",
    "# Calculate the number of genes with adj.P.Val < 0.05 and |logFC| > 1\n",
    "significant_genes <- tt[tt$adj.P.Val < 0.05 & abs(tt$logFC) > 0.7, ]\n",
    "num_significant_genes <- nrow(significant_genes)\n",
    "\n",
    "# Print the number of significant genes\n",
    "print(num_significant_genes)"
   ]
  },
  {
   "cell_type": "code",
   "execution_count": 39,
   "id": "b460475e",
   "metadata": {},
   "outputs": [
    {
     "name": "stdout",
     "output_type": "stream",
     "text": [
      "[1] 847\n"
     ]
    }
   ],
   "source": [
    "%%R\n",
    "# Calculate the number of genes with adj.P.Val < 0.05 and |logFC| > 1\n",
    "significant_genes <- tt[tt$adj.P.Val < 0.05 & abs(tt$logFC) > 1, ]\n",
    "num_significant_genes <- nrow(significant_genes)\n",
    "\n",
    "# Print the number of significant genes\n",
    "print(num_significant_genes)"
   ]
  },
  {
   "cell_type": "code",
   "execution_count": 40,
   "id": "468b2a5a",
   "metadata": {},
   "outputs": [
    {
     "name": "stdout",
     "output_type": "stream",
     "text": [
      "[1] 578\n",
      "             logFC  AveExpr         t      P.Value    adj.P.Val        B\n",
      "Tagln2   10.151475 1.804509 13.206133 1.235118e-08 5.353704e-06 8.562907\n",
      "Col6a1    9.753452 1.601484  9.906936 3.193435e-07 3.935214e-05 6.352178\n",
      "Klk6      9.517332 3.195608 10.144690 2.456657e-07 3.438410e-05 6.738236\n",
      "Col6a2    9.399903 1.953946  9.142184 7.689366e-07 7.145438e-05 5.687461\n",
      "Tmem176a  8.847657 1.154524 13.169832 1.275029e-08 5.353704e-06 8.536268\n",
      "Col13a1   8.742247 1.873852 14.594038 3.866374e-09 2.663150e-06 9.244557\n"
     ]
    }
   ],
   "source": [
    "%%R\n",
    "# Calculate the number of genes with adj.P.Val < 0.05 and |logFC| > 1\n",
    "genes_up <- tt[tt$adj.P.Val < 0.05 & tt$logFC > 1, ]\n",
    "num_genes_up <- nrow(genes_up)\n",
    "\n",
    "# Print the number of significant genes\n",
    "print(num_genes_up)\n",
    "\n",
    "genes_up_sorted <- genes_up[order(genes_up$logFC, decreasing = TRUE), ]\n",
    "\n",
    "# View the head of the significant genes data frame\n",
    "head(genes_up_sorted)"
   ]
  },
  {
   "cell_type": "code",
   "execution_count": 41,
   "id": "f1b8abb6",
   "metadata": {},
   "outputs": [
    {
     "name": "stdout",
     "output_type": "stream",
     "text": [
      "[1] \"Gene is not in the index of genes_up_sorted\"\n"
     ]
    }
   ],
   "source": [
    "%%R\n",
    "if ('Gfap' %in% rownames(genes_up_sorted)) {\n",
    "    print(\"Gene is in the index of genes_up_sorted\")\n",
    "} else {\n",
    "    print(\"Gene is not in the index of genes_up_sorted\")\n",
    "}"
   ]
  },
  {
   "cell_type": "code",
   "execution_count": 42,
   "id": "755c2e81",
   "metadata": {},
   "outputs": [
    {
     "name": "stdout",
     "output_type": "stream",
     "text": [
      "[1] \"Gene is in the index of genes_up_sorted\"\n"
     ]
    }
   ],
   "source": [
    "%%R\n",
    "if ('Klk8' %in% rownames(genes_up_sorted)) {\n",
    "    print(\"Gene is in the index of genes_up_sorted\")\n",
    "} else {\n",
    "    print(\"Gene is not in the index of genes_up_sorted\")\n",
    "}"
   ]
  },
  {
   "cell_type": "code",
   "execution_count": 43,
   "id": "d7c5c9da",
   "metadata": {},
   "outputs": [
    {
     "name": "stdout",
     "output_type": "stream",
     "text": [
      "[1] 269\n",
      "                  logFC    AveExpr         t      P.Value    adj.P.Val\n",
      "Gm41609       -4.372407 -0.4184281 -6.709607 1.905722e-05 0.0006947000\n",
      "Rtl5          -3.645288 -0.2743409 -3.932244 1.898499e-03 0.0201360819\n",
      "Gm15594       -3.637314  0.7498018 -3.485351 4.342241e-03 0.0369579458\n",
      "9330199G10Rik -3.110362  2.3464041 -8.127634 2.700454e-06 0.0001765897\n",
      "Plekhh2       -3.102096  3.0415149 -7.498654 6.231941e-06 0.0003086326\n",
      "Agmo          -3.098798  1.8824682 -6.205216 4.064060e-05 0.0012061320\n",
      "                      B\n",
      "Gm41609        2.998888\n",
      "Rtl5          -1.076391\n",
      "Gm15594       -1.875850\n",
      "9330199G10Rik  5.093411\n",
      "Plekhh2        4.266465\n",
      "Agmo           2.491384\n"
     ]
    }
   ],
   "source": [
    "%%R\n",
    "# Calculate the number of genes with adj.P.Val < 0.05 and |logFC| > 1\n",
    "genes_down <- tt[tt$adj.P.Val < 0.05 & tt$logFC < -1, ]\n",
    "num_genes_down <- nrow(genes_down)\n",
    "\n",
    "# Print the number of significant genes\n",
    "print(num_genes_down)\n",
    "\n",
    "genes_down_sorted <- genes_down[order(genes_down$logFC, decreasing = FALSE), ]\n",
    "\n",
    "# View the head of the significant genes data frame\n",
    "head(genes_down_sorted)"
   ]
  },
  {
   "cell_type": "code",
   "execution_count": null,
   "id": "b2c75cb2",
   "metadata": {},
   "outputs": [],
   "source": [
    "%%R\n",
    "# Add row names as a new column\n",
    "tt$gene <- rownames(tt)\n",
    "\n",
    "# Optionally reorder or select columns\n",
    "tt <- tt[, c(\"gene\", names(tt)[1:6])]\n",
    "\n",
    "# Write to CSV file\n",
    "write.table(tt, file = \"./files/LPC_remyel_MOL_BvE_voom_NEW.csv\", \n",
    "            row.names = FALSE, sep = \",\", quote = FALSE)"
   ]
  },
  {
   "cell_type": "markdown",
   "id": "1803c494",
   "metadata": {},
   "source": [
    "# Voom wqw"
   ]
  },
  {
   "cell_type": "code",
   "execution_count": 45,
   "id": "f935d7c2",
   "metadata": {},
   "outputs": [
    {
     "data": {
      "image/png": "[encoded data removed]",
      "text/plain": [
       "<IPython.core.display.Image object>"
      ]
     },
     "metadata": {},
     "output_type": "display_data"
    }
   ],
   "source": [
    "%%R\n",
    "\n",
    "y_vqw_full <- voomWithQualityWeights(x2$counts, design, plot=TRUE)"
   ]
  },
  {
   "cell_type": "code",
   "execution_count": 48,
   "id": "05b0e8dc",
   "metadata": {},
   "outputs": [],
   "source": [
    "%%R\n",
    "\n",
    "fit <- lmFit(y_vqw_full, design)"
   ]
  },
  {
   "cell_type": "code",
   "execution_count": 49,
   "id": "c80185bd",
   "metadata": {},
   "outputs": [
    {
     "data": {
      "image/png": "[encoded data removed]",
      "text/plain": [
       "<IPython.core.display.Image object>"
      ]
     },
     "metadata": {},
     "output_type": "display_data"
    }
   ],
   "source": [
    "%%R\n",
    "\n",
    "tmp <- contrasts.fit(fit, contr)\n",
    "tmp2 <- eBayes(tmp)\n",
    "tt_full <- topTable(tmp2, sort.by = \"P\", n = Inf)\n",
    "\n",
    "plotSA(tmp2, xlab = \"Average log-expression\", ylab = \"sqrt(sigma)\", zero.weights = FALSE,\n",
    "       pch = 16, cex = 0.3, col = c(\"black\",\"red\"))"
   ]
  },
  {
   "cell_type": "code",
   "execution_count": 50,
   "id": "8d05dd73",
   "metadata": {},
   "outputs": [
    {
     "name": "stdout",
     "output_type": "stream",
     "text": [
      "              logFC  AveExpr         t      P.Value    adj.P.Val        B\n",
      "C4b        5.950542 7.275518  37.75992 9.039043e-16 1.024756e-11 25.40311\n",
      "Serpina3n  7.867647 5.052831  24.69132 3.671651e-13 2.081275e-09 18.31709\n",
      "Anxa2      6.543960 4.230177  20.60690 4.599083e-12 1.564695e-08 16.65643\n",
      "Slc9a3r2   3.659691 6.653274  20.33799 5.520668e-12 1.564695e-08 17.89199\n",
      "Cebpd      3.533207 4.929288  17.91646 3.190794e-11 6.688340e-08 16.07010\n",
      "B2m        4.228047 6.321066  17.78193 3.539741e-11 6.688340e-08 16.06318\n",
      "Piezo2     6.832412 4.060665  17.31840 5.089875e-11 8.043045e-08 14.52783\n",
      "Astn2      3.738622 5.355833  17.18156 5.675607e-11 8.043045e-08 15.58681\n",
      "Ankub1    -2.467775 5.818469 -16.08909 1.394641e-10 1.756782e-07 14.72297\n",
      "H2-D1      4.855287 7.556454  15.84857 1.712536e-10 1.941502e-07 14.51861\n"
     ]
    }
   ],
   "source": [
    "%%R\n",
    "\n",
    "# Retrieve the top results without sorting by p-value directly\n",
    "tt <- topTable(tmp2, sort.by = \"P\", n = Inf)\n",
    "head(tt, 10)"
   ]
  },
  {
   "cell_type": "code",
   "execution_count": 51,
   "id": "9dcd9a19",
   "metadata": {},
   "outputs": [
    {
     "name": "stdout",
     "output_type": "stream",
     "text": [
      "[1] 1934\n"
     ]
    }
   ],
   "source": [
    "%%R\n",
    "length(which(tt$adj.P.Val < 0.05))"
   ]
  },
  {
   "cell_type": "code",
   "execution_count": 54,
   "id": "2a21afc4",
   "metadata": {},
   "outputs": [
    {
     "name": "stdout",
     "output_type": "stream",
     "text": [
      "[1] 800\n",
      "            logFC  AveExpr         t      P.Value    adj.P.Val         B\n",
      "Tagln2   9.972248 1.804509 12.748950 3.198728e-09 1.049877e-06  9.540623\n",
      "Klk6     9.696035 3.195608 12.070527 6.583557e-09 1.554954e-06  9.441076\n",
      "Col6a1   9.495725 1.601484  8.442442 6.087417e-07 4.233929e-05  5.821182\n",
      "Col6a2   8.938433 1.953946  7.744866 1.701847e-06 8.613319e-05  5.008482\n",
      "Tmem176a 8.592871 1.154524 12.360231 4.817581e-09 1.253359e-06  9.274928\n",
      "Col13a1  8.494263 1.873852 14.100551 8.329831e-10 4.924026e-07 10.425408\n"
     ]
    }
   ],
   "source": [
    "%%R\n",
    "\n",
    "# Calculate the number of genes with adj.P.Val < 0.05 and |logFC| > 1\n",
    "genes_up <- tt[tt$adj.P.Val < 0.05 & tt$logFC > 0.7, ]\n",
    "num_genes_up <- nrow(genes_up)\n",
    "\n",
    "# Print the number of significant genes\n",
    "print(num_genes_up)\n",
    "\n",
    "genes_up_sorted <- genes_up[order(genes_up$logFC, decreasing = TRUE), ]\n",
    "\n",
    "# View the head of the significant genes data frame\n",
    "head(genes_up_sorted)"
   ]
  },
  {
   "cell_type": "code",
   "execution_count": 55,
   "id": "dfc4fa87",
   "metadata": {},
   "outputs": [
    {
     "name": "stdout",
     "output_type": "stream",
     "text": [
      "[1] 579\n",
      "                  logFC     AveExpr         t      P.Value    adj.P.Val\n",
      "Gm15594       -4.245825  0.74980176 -5.085504 1.538491e-04 2.527808e-03\n",
      "Gm41609       -4.167787 -0.41842810 -6.889891 6.523807e-06 2.357231e-04\n",
      "Nedd9         -3.574302 -0.02265549 -5.349037 9.432839e-05 1.753116e-03\n",
      "Gm12145       -3.500002  0.61601812 -5.647251 5.483550e-05 1.151241e-03\n",
      "9330199G10Rik -3.339013  2.34640406 -8.549078 5.228794e-07 3.778687e-05\n",
      "Nucb2         -3.292017 -0.06686419 -4.838250 2.454233e-04 3.549372e-03\n",
      "                      B\n",
      "Gm15594       1.1556083\n",
      "Gm41609       3.9336767\n",
      "Nedd9         1.5838379\n",
      "Gm12145       2.0953370\n",
      "9330199G10Rik 6.5515617\n",
      "Nucb2         0.7277737\n"
     ]
    }
   ],
   "source": [
    "%%R\n",
    "\n",
    "# Calculate the number of genes with adj.P.Val < 0.05 and |logFC| > 1\n",
    "genes_down <- tt[tt$adj.P.Val < 0.05 & tt$logFC < -0.7, ]\n",
    "num_genes_down <- nrow(genes_down)\n",
    "\n",
    "# Print the number of significant genes\n",
    "print(num_genes_down)\n",
    "\n",
    "genes_down_sorted <- genes_down[order(genes_down$logFC, decreasing = FALSE), ]\n",
    "\n",
    "# View the head of the significant genes data frame\n",
    "head(genes_down_sorted)"
   ]
  },
  {
   "cell_type": "markdown",
   "id": "1b41e769",
   "metadata": {},
   "source": [
    "# If output --> change name!"
   ]
  },
  {
   "cell_type": "code",
   "execution_count": 56,
   "id": "a99b29ef",
   "metadata": {},
   "outputs": [],
   "source": [
    "%%R\n",
    "# Add row names as a new column\n",
    "tt$gene <- rownames(tt)\n",
    "\n",
    "# Optionally reorder or select columns\n",
    "tt <- tt[, c(\"gene\", names(tt)[1:6])]\n",
    "\n",
    "# Write to CSV file\n",
    "write.table(tt, file = \"./files/LPC_remyel_MOL_BvE_voom_wqw.csv\", \n",
    "            row.names = FALSE, sep = \",\", quote = FALSE)"
   ]
  },
  {
   "cell_type": "markdown",
   "id": "12cf7f36",
   "metadata": {},
   "source": [
    "# Check LR Pair Overlap"
   ]
  },
  {
   "cell_type": "code",
   "execution_count": 57,
   "id": "5bf5c4f2",
   "metadata": {},
   "outputs": [
    {
     "data": {
      "text/html": [
       "<div>\n",
       "<style scoped>\n",
       "    .dataframe tbody tr th:only-of-type {\n",
       "        vertical-align: middle;\n",
       "    }\n",
       "\n",
       "    .dataframe tbody tr th {\n",
       "        vertical-align: top;\n",
       "    }\n",
       "\n",
       "    .dataframe thead th {\n",
       "        text-align: right;\n",
       "    }\n",
       "</style>\n",
       "<table border=\"1\" class=\"dataframe\">\n",
       "  <thead>\n",
       "    <tr style=\"text-align: right;\">\n",
       "      <th></th>\n",
       "      <th>ligand</th>\n",
       "      <th>receptor</th>\n",
       "    </tr>\n",
       "  </thead>\n",
       "  <tbody>\n",
       "    <tr>\n",
       "      <th>31371</th>\n",
       "      <td>Dll1</td>\n",
       "      <td>Notch1</td>\n",
       "    </tr>\n",
       "    <tr>\n",
       "      <th>31372</th>\n",
       "      <td>Dll1</td>\n",
       "      <td>Notch2</td>\n",
       "    </tr>\n",
       "    <tr>\n",
       "      <th>31373</th>\n",
       "      <td>Dll1</td>\n",
       "      <td>Notch4</td>\n",
       "    </tr>\n",
       "    <tr>\n",
       "      <th>31374</th>\n",
       "      <td>Dll1</td>\n",
       "      <td>Notch3</td>\n",
       "    </tr>\n",
       "    <tr>\n",
       "      <th>31375</th>\n",
       "      <td>Nrg2</td>\n",
       "      <td>Erbb2_Erbb3</td>\n",
       "    </tr>\n",
       "  </tbody>\n",
       "</table>\n",
       "</div>"
      ],
      "text/plain": [
       "      ligand     receptor\n",
       "31371   Dll1       Notch1\n",
       "31372   Dll1       Notch2\n",
       "31373   Dll1       Notch4\n",
       "31374   Dll1       Notch3\n",
       "31375   Nrg2  Erbb2_Erbb3"
      ]
     },
     "execution_count": 57,
     "metadata": {},
     "output_type": "execute_result"
    }
   ],
   "source": [
    "import liana as li\n",
    "lr_pairs = li.resource.select_resource('mouseconsensus')\n",
    "lr_pairs.head()"
   ]
  },
  {
   "cell_type": "code",
   "execution_count": 58,
   "id": "4bd741b5",
   "metadata": {},
   "outputs": [
    {
     "data": {
      "text/plain": [
       "(11337, 7)"
      ]
     },
     "execution_count": 58,
     "metadata": {},
     "output_type": "execute_result"
    }
   ],
   "source": [
    "DEG_all = pd.read_csv('./files/LPC_remyel_MOL_BvE_voom_wqw.csv', index_col=None)\n",
    "DEG_all.rename(columns={'adj.P.Val': 'Padj'}, inplace=True)\n",
    "DEG_all.rename(columns={'P.Value': 'Pvalue'}, inplace=True)\n",
    "DEG_all.shape"
   ]
  },
  {
   "cell_type": "code",
   "execution_count": 59,
   "id": "deead233",
   "metadata": {},
   "outputs": [
    {
     "data": {
      "text/plain": [
       "(942, 7)"
      ]
     },
     "execution_count": 59,
     "metadata": {},
     "output_type": "execute_result"
    }
   ],
   "source": [
    "sigs = DEG_all[(DEG_all.Padj < 0.05) & (abs(DEG_all.logFC) >= 1)]\n",
    "sigs.shape"
   ]
  },
  {
   "cell_type": "code",
   "execution_count": 60,
   "id": "be26c26a",
   "metadata": {},
   "outputs": [
    {
     "name": "stdout",
     "output_type": "stream",
     "text": [
      "Total ligand-receptor pairs where both are differentially expressed: 32\n"
     ]
    },
    {
     "data": {
      "text/html": [
       "<div>\n",
       "<style scoped>\n",
       "    .dataframe tbody tr th:only-of-type {\n",
       "        vertical-align: middle;\n",
       "    }\n",
       "\n",
       "    .dataframe tbody tr th {\n",
       "        vertical-align: top;\n",
       "    }\n",
       "\n",
       "    .dataframe thead th {\n",
       "        text-align: right;\n",
       "    }\n",
       "</style>\n",
       "<table border=\"1\" class=\"dataframe\">\n",
       "  <thead>\n",
       "    <tr style=\"text-align: right;\">\n",
       "      <th></th>\n",
       "      <th>ligand</th>\n",
       "      <th>receptor</th>\n",
       "      <th>logFC_ligand</th>\n",
       "      <th>logFC_receptor</th>\n",
       "    </tr>\n",
       "  </thead>\n",
       "  <tbody>\n",
       "    <tr>\n",
       "      <th>6</th>\n",
       "      <td>Col6a1</td>\n",
       "      <td>Sdc1</td>\n",
       "      <td>9.495725</td>\n",
       "      <td>2.636467</td>\n",
       "    </tr>\n",
       "    <tr>\n",
       "      <th>5</th>\n",
       "      <td>Col6a1</td>\n",
       "      <td>Cd44</td>\n",
       "      <td>9.495725</td>\n",
       "      <td>2.928055</td>\n",
       "    </tr>\n",
       "    <tr>\n",
       "      <th>7</th>\n",
       "      <td>Col6a2</td>\n",
       "      <td>Cd44</td>\n",
       "      <td>8.938433</td>\n",
       "      <td>2.928055</td>\n",
       "    </tr>\n",
       "    <tr>\n",
       "      <th>8</th>\n",
       "      <td>Col6a2</td>\n",
       "      <td>Sdc1</td>\n",
       "      <td>8.938433</td>\n",
       "      <td>2.636467</td>\n",
       "    </tr>\n",
       "    <tr>\n",
       "      <th>25</th>\n",
       "      <td>Vim</td>\n",
       "      <td>Cd44</td>\n",
       "      <td>7.086521</td>\n",
       "      <td>2.928055</td>\n",
       "    </tr>\n",
       "    <tr>\n",
       "      <th>31</th>\n",
       "      <td>C4b</td>\n",
       "      <td>Cd46</td>\n",
       "      <td>5.950542</td>\n",
       "      <td>-1.011224</td>\n",
       "    </tr>\n",
       "    <tr>\n",
       "      <th>11</th>\n",
       "      <td>Tnxb</td>\n",
       "      <td>Sdc1</td>\n",
       "      <td>5.186609</td>\n",
       "      <td>2.636467</td>\n",
       "    </tr>\n",
       "    <tr>\n",
       "      <th>1</th>\n",
       "      <td>Sema5a</td>\n",
       "      <td>Plxna1</td>\n",
       "      <td>2.515022</td>\n",
       "      <td>2.277082</td>\n",
       "    </tr>\n",
       "    <tr>\n",
       "      <th>30</th>\n",
       "      <td>Sparc</td>\n",
       "      <td>Fgfr1</td>\n",
       "      <td>2.191911</td>\n",
       "      <td>1.646916</td>\n",
       "    </tr>\n",
       "    <tr>\n",
       "      <th>26</th>\n",
       "      <td>Apoa1</td>\n",
       "      <td>Abca1</td>\n",
       "      <td>1.904137</td>\n",
       "      <td>1.635903</td>\n",
       "    </tr>\n",
       "    <tr>\n",
       "      <th>15</th>\n",
       "      <td>Apoa1</td>\n",
       "      <td>Ldlr</td>\n",
       "      <td>1.904137</td>\n",
       "      <td>-1.123526</td>\n",
       "    </tr>\n",
       "    <tr>\n",
       "      <th>16</th>\n",
       "      <td>Apoe</td>\n",
       "      <td>Ldlr</td>\n",
       "      <td>1.546508</td>\n",
       "      <td>-1.123526</td>\n",
       "    </tr>\n",
       "    <tr>\n",
       "      <th>27</th>\n",
       "      <td>Apoe</td>\n",
       "      <td>Abca1</td>\n",
       "      <td>1.546508</td>\n",
       "      <td>1.635903</td>\n",
       "    </tr>\n",
       "    <tr>\n",
       "      <th>18</th>\n",
       "      <td>Apoe</td>\n",
       "      <td>Scarb1</td>\n",
       "      <td>1.546508</td>\n",
       "      <td>-2.187297</td>\n",
       "    </tr>\n",
       "    <tr>\n",
       "      <th>17</th>\n",
       "      <td>Apoe</td>\n",
       "      <td>Sdc2</td>\n",
       "      <td>1.546508</td>\n",
       "      <td>2.208455</td>\n",
       "    </tr>\n",
       "    <tr>\n",
       "      <th>23</th>\n",
       "      <td>Cntn3</td>\n",
       "      <td>Ptprg</td>\n",
       "      <td>1.294957</td>\n",
       "      <td>3.419004</td>\n",
       "    </tr>\n",
       "    <tr>\n",
       "      <th>22</th>\n",
       "      <td>Hbegf</td>\n",
       "      <td>Cd44</td>\n",
       "      <td>1.165011</td>\n",
       "      <td>2.928055</td>\n",
       "    </tr>\n",
       "    <tr>\n",
       "      <th>24</th>\n",
       "      <td>Hbegf</td>\n",
       "      <td>Cd9</td>\n",
       "      <td>1.165011</td>\n",
       "      <td>1.463179</td>\n",
       "    </tr>\n",
       "    <tr>\n",
       "      <th>13</th>\n",
       "      <td>Col9a3</td>\n",
       "      <td>Cd44</td>\n",
       "      <td>1.124098</td>\n",
       "      <td>2.928055</td>\n",
       "    </tr>\n",
       "    <tr>\n",
       "      <th>14</th>\n",
       "      <td>Col9a3</td>\n",
       "      <td>Sdc1</td>\n",
       "      <td>1.124098</td>\n",
       "      <td>2.636467</td>\n",
       "    </tr>\n",
       "    <tr>\n",
       "      <th>19</th>\n",
       "      <td>Trf</td>\n",
       "      <td>Ldlr</td>\n",
       "      <td>1.061467</td>\n",
       "      <td>-1.123526</td>\n",
       "    </tr>\n",
       "    <tr>\n",
       "      <th>0</th>\n",
       "      <td>Cntn1</td>\n",
       "      <td>Nrcam</td>\n",
       "      <td>1.055504</td>\n",
       "      <td>5.994023</td>\n",
       "    </tr>\n",
       "    <tr>\n",
       "      <th>4</th>\n",
       "      <td>Il1rapl1</td>\n",
       "      <td>Ptprs</td>\n",
       "      <td>-1.131196</td>\n",
       "      <td>1.191776</td>\n",
       "    </tr>\n",
       "    <tr>\n",
       "      <th>20</th>\n",
       "      <td>Vegfa</td>\n",
       "      <td>Ephb2</td>\n",
       "      <td>-1.167433</td>\n",
       "      <td>2.080954</td>\n",
       "    </tr>\n",
       "    <tr>\n",
       "      <th>29</th>\n",
       "      <td>Vegfa</td>\n",
       "      <td>Cd44</td>\n",
       "      <td>-1.167433</td>\n",
       "      <td>2.928055</td>\n",
       "    </tr>\n",
       "    <tr>\n",
       "      <th>21</th>\n",
       "      <td>Vegfa</td>\n",
       "      <td>Gpc1</td>\n",
       "      <td>-1.167433</td>\n",
       "      <td>1.007032</td>\n",
       "    </tr>\n",
       "    <tr>\n",
       "      <th>9</th>\n",
       "      <td>Col9a1</td>\n",
       "      <td>Cd44</td>\n",
       "      <td>-1.368575</td>\n",
       "      <td>2.928055</td>\n",
       "    </tr>\n",
       "    <tr>\n",
       "      <th>10</th>\n",
       "      <td>Col9a1</td>\n",
       "      <td>Sdc1</td>\n",
       "      <td>-1.368575</td>\n",
       "      <td>2.636467</td>\n",
       "    </tr>\n",
       "    <tr>\n",
       "      <th>3</th>\n",
       "      <td>Pdgfc</td>\n",
       "      <td>Kdr</td>\n",
       "      <td>-1.564157</td>\n",
       "      <td>-1.422382</td>\n",
       "    </tr>\n",
       "    <tr>\n",
       "      <th>2</th>\n",
       "      <td>Alcam</td>\n",
       "      <td>Chl1</td>\n",
       "      <td>-1.740425</td>\n",
       "      <td>5.747848</td>\n",
       "    </tr>\n",
       "    <tr>\n",
       "      <th>12</th>\n",
       "      <td>Lama2</td>\n",
       "      <td>Cd44</td>\n",
       "      <td>-2.672579</td>\n",
       "      <td>2.928055</td>\n",
       "    </tr>\n",
       "    <tr>\n",
       "      <th>28</th>\n",
       "      <td>Adam2</td>\n",
       "      <td>Cd9</td>\n",
       "      <td>-2.703986</td>\n",
       "      <td>1.463179</td>\n",
       "    </tr>\n",
       "  </tbody>\n",
       "</table>\n",
       "</div>"
      ],
      "text/plain": [
       "      ligand receptor  logFC_ligand  logFC_receptor\n",
       "6     Col6a1     Sdc1      9.495725        2.636467\n",
       "5     Col6a1     Cd44      9.495725        2.928055\n",
       "7     Col6a2     Cd44      8.938433        2.928055\n",
       "8     Col6a2     Sdc1      8.938433        2.636467\n",
       "25       Vim     Cd44      7.086521        2.928055\n",
       "31       C4b     Cd46      5.950542       -1.011224\n",
       "11      Tnxb     Sdc1      5.186609        2.636467\n",
       "1     Sema5a   Plxna1      2.515022        2.277082\n",
       "30     Sparc    Fgfr1      2.191911        1.646916\n",
       "26     Apoa1    Abca1      1.904137        1.635903\n",
       "15     Apoa1     Ldlr      1.904137       -1.123526\n",
       "16      Apoe     Ldlr      1.546508       -1.123526\n",
       "27      Apoe    Abca1      1.546508        1.635903\n",
       "18      Apoe   Scarb1      1.546508       -2.187297\n",
       "17      Apoe     Sdc2      1.546508        2.208455\n",
       "23     Cntn3    Ptprg      1.294957        3.419004\n",
       "22     Hbegf     Cd44      1.165011        2.928055\n",
       "24     Hbegf      Cd9      1.165011        1.463179\n",
       "13    Col9a3     Cd44      1.124098        2.928055\n",
       "14    Col9a3     Sdc1      1.124098        2.636467\n",
       "19       Trf     Ldlr      1.061467       -1.123526\n",
       "0      Cntn1    Nrcam      1.055504        5.994023\n",
       "4   Il1rapl1    Ptprs     -1.131196        1.191776\n",
       "20     Vegfa    Ephb2     -1.167433        2.080954\n",
       "29     Vegfa     Cd44     -1.167433        2.928055\n",
       "21     Vegfa     Gpc1     -1.167433        1.007032\n",
       "9     Col9a1     Cd44     -1.368575        2.928055\n",
       "10    Col9a1     Sdc1     -1.368575        2.636467\n",
       "3      Pdgfc      Kdr     -1.564157       -1.422382\n",
       "2      Alcam     Chl1     -1.740425        5.747848\n",
       "12     Lama2     Cd44     -2.672579        2.928055\n",
       "28     Adam2      Cd9     -2.703986        1.463179"
      ]
     },
     "execution_count": 60,
     "metadata": {},
     "output_type": "execute_result"
    }
   ],
   "source": [
    "# Step 1: Convert ligands and receptors to a list\n",
    "ligands = lr_pairs['ligand'].tolist()\n",
    "receptors = lr_pairs['receptor'].tolist()\n",
    "\n",
    "# Step 2: Filter DEGs from 'sigs'\n",
    "degs = set(sigs['gene'])  # Create a set for faster lookup\n",
    "\n",
    "# Step 3: Check which ligand-receptor pairs have both ligands and receptors as DEGs\n",
    "matched_pairs = lr_pairs[(lr_pairs['ligand'].isin(degs)) & (lr_pairs['receptor'].isin(degs))]\n",
    "\n",
    "# Step 4: Count the matched pairs\n",
    "num_matched_pairs = matched_pairs.shape[0]\n",
    "\n",
    "# Output the result\n",
    "print(f'Total ligand-receptor pairs where both are differentially expressed: {num_matched_pairs}')\n",
    "\n",
    "# Step 5: Optional - view the matched pairs with direction of change\n",
    "matched_pairs_with_logFC = matched_pairs.merge(sigs[['gene', 'logFC']], left_on='ligand', right_on='gene', how='left')\\\n",
    "                                        .merge(sigs[['gene', 'logFC']], left_on='receptor', right_on='gene', how='left', suffixes=('_ligand', '_receptor'))\n",
    "\n",
    "# Sorting the table by 'logFC_ligand' in descending order\n",
    "sorted_table = matched_pairs_with_logFC.sort_values(by='logFC_ligand', ascending=False)\n",
    "\n",
    "# Displaying the sorted table with the selected columns\n",
    "sorted_table[['ligand', 'receptor', 'logFC_ligand', 'logFC_receptor']]"
   ]
  },
  {
   "cell_type": "code",
   "execution_count": 61,
   "id": "82a7c323",
   "metadata": {},
   "outputs": [
    {
     "data": {
      "text/plain": [
       "(624, 7)"
      ]
     },
     "execution_count": 61,
     "metadata": {},
     "output_type": "execute_result"
    }
   ],
   "source": [
    "sigs_up = DEG_all[(DEG_all.Padj < 0.05) & (DEG_all.logFC >= 1)]\n",
    "sigs_up.shape"
   ]
  },
  {
   "cell_type": "code",
   "execution_count": 62,
   "id": "aecc346a",
   "metadata": {},
   "outputs": [
    {
     "name": "stdout",
     "output_type": "stream",
     "text": [
      "Total ligand-receptor pairs where both are differentially expressed: 17\n"
     ]
    },
    {
     "data": {
      "text/html": [
       "<div>\n",
       "<style scoped>\n",
       "    .dataframe tbody tr th:only-of-type {\n",
       "        vertical-align: middle;\n",
       "    }\n",
       "\n",
       "    .dataframe tbody tr th {\n",
       "        vertical-align: top;\n",
       "    }\n",
       "\n",
       "    .dataframe thead th {\n",
       "        text-align: right;\n",
       "    }\n",
       "</style>\n",
       "<table border=\"1\" class=\"dataframe\">\n",
       "  <thead>\n",
       "    <tr style=\"text-align: right;\">\n",
       "      <th></th>\n",
       "      <th>ligand</th>\n",
       "      <th>receptor</th>\n",
       "      <th>logFC_ligand</th>\n",
       "      <th>logFC_receptor</th>\n",
       "    </tr>\n",
       "  </thead>\n",
       "  <tbody>\n",
       "    <tr>\n",
       "      <th>2</th>\n",
       "      <td>Col6a1</td>\n",
       "      <td>Cd44</td>\n",
       "      <td>9.495725</td>\n",
       "      <td>2.928055</td>\n",
       "    </tr>\n",
       "    <tr>\n",
       "      <th>3</th>\n",
       "      <td>Col6a1</td>\n",
       "      <td>Sdc1</td>\n",
       "      <td>9.495725</td>\n",
       "      <td>2.636467</td>\n",
       "    </tr>\n",
       "    <tr>\n",
       "      <th>4</th>\n",
       "      <td>Col6a2</td>\n",
       "      <td>Cd44</td>\n",
       "      <td>8.938433</td>\n",
       "      <td>2.928055</td>\n",
       "    </tr>\n",
       "    <tr>\n",
       "      <th>5</th>\n",
       "      <td>Col6a2</td>\n",
       "      <td>Sdc1</td>\n",
       "      <td>8.938433</td>\n",
       "      <td>2.636467</td>\n",
       "    </tr>\n",
       "    <tr>\n",
       "      <th>13</th>\n",
       "      <td>Vim</td>\n",
       "      <td>Cd44</td>\n",
       "      <td>7.086521</td>\n",
       "      <td>2.928055</td>\n",
       "    </tr>\n",
       "    <tr>\n",
       "      <th>6</th>\n",
       "      <td>Tnxb</td>\n",
       "      <td>Sdc1</td>\n",
       "      <td>5.186609</td>\n",
       "      <td>2.636467</td>\n",
       "    </tr>\n",
       "    <tr>\n",
       "      <th>1</th>\n",
       "      <td>Sema5a</td>\n",
       "      <td>Plxna1</td>\n",
       "      <td>2.515022</td>\n",
       "      <td>2.277082</td>\n",
       "    </tr>\n",
       "    <tr>\n",
       "      <th>16</th>\n",
       "      <td>Sparc</td>\n",
       "      <td>Fgfr1</td>\n",
       "      <td>2.191911</td>\n",
       "      <td>1.646916</td>\n",
       "    </tr>\n",
       "    <tr>\n",
       "      <th>14</th>\n",
       "      <td>Apoa1</td>\n",
       "      <td>Abca1</td>\n",
       "      <td>1.904137</td>\n",
       "      <td>1.635903</td>\n",
       "    </tr>\n",
       "    <tr>\n",
       "      <th>15</th>\n",
       "      <td>Apoe</td>\n",
       "      <td>Abca1</td>\n",
       "      <td>1.546508</td>\n",
       "      <td>1.635903</td>\n",
       "    </tr>\n",
       "    <tr>\n",
       "      <th>9</th>\n",
       "      <td>Apoe</td>\n",
       "      <td>Sdc2</td>\n",
       "      <td>1.546508</td>\n",
       "      <td>2.208455</td>\n",
       "    </tr>\n",
       "    <tr>\n",
       "      <th>11</th>\n",
       "      <td>Cntn3</td>\n",
       "      <td>Ptprg</td>\n",
       "      <td>1.294957</td>\n",
       "      <td>3.419004</td>\n",
       "    </tr>\n",
       "    <tr>\n",
       "      <th>12</th>\n",
       "      <td>Hbegf</td>\n",
       "      <td>Cd9</td>\n",
       "      <td>1.165011</td>\n",
       "      <td>1.463179</td>\n",
       "    </tr>\n",
       "    <tr>\n",
       "      <th>10</th>\n",
       "      <td>Hbegf</td>\n",
       "      <td>Cd44</td>\n",
       "      <td>1.165011</td>\n",
       "      <td>2.928055</td>\n",
       "    </tr>\n",
       "    <tr>\n",
       "      <th>8</th>\n",
       "      <td>Col9a3</td>\n",
       "      <td>Sdc1</td>\n",
       "      <td>1.124098</td>\n",
       "      <td>2.636467</td>\n",
       "    </tr>\n",
       "    <tr>\n",
       "      <th>7</th>\n",
       "      <td>Col9a3</td>\n",
       "      <td>Cd44</td>\n",
       "      <td>1.124098</td>\n",
       "      <td>2.928055</td>\n",
       "    </tr>\n",
       "    <tr>\n",
       "      <th>0</th>\n",
       "      <td>Cntn1</td>\n",
       "      <td>Nrcam</td>\n",
       "      <td>1.055504</td>\n",
       "      <td>5.994023</td>\n",
       "    </tr>\n",
       "  </tbody>\n",
       "</table>\n",
       "</div>"
      ],
      "text/plain": [
       "    ligand receptor  logFC_ligand  logFC_receptor\n",
       "2   Col6a1     Cd44      9.495725        2.928055\n",
       "3   Col6a1     Sdc1      9.495725        2.636467\n",
       "4   Col6a2     Cd44      8.938433        2.928055\n",
       "5   Col6a2     Sdc1      8.938433        2.636467\n",
       "13     Vim     Cd44      7.086521        2.928055\n",
       "6     Tnxb     Sdc1      5.186609        2.636467\n",
       "1   Sema5a   Plxna1      2.515022        2.277082\n",
       "16   Sparc    Fgfr1      2.191911        1.646916\n",
       "14   Apoa1    Abca1      1.904137        1.635903\n",
       "15    Apoe    Abca1      1.546508        1.635903\n",
       "9     Apoe     Sdc2      1.546508        2.208455\n",
       "11   Cntn3    Ptprg      1.294957        3.419004\n",
       "12   Hbegf      Cd9      1.165011        1.463179\n",
       "10   Hbegf     Cd44      1.165011        2.928055\n",
       "8   Col9a3     Sdc1      1.124098        2.636467\n",
       "7   Col9a3     Cd44      1.124098        2.928055\n",
       "0    Cntn1    Nrcam      1.055504        5.994023"
      ]
     },
     "execution_count": 62,
     "metadata": {},
     "output_type": "execute_result"
    }
   ],
   "source": [
    "# Step 1: Convert ligands and receptors to a list\n",
    "ligands = lr_pairs['ligand'].tolist()\n",
    "receptors = lr_pairs['receptor'].tolist()\n",
    "\n",
    "# Step 2: Filter DEGs from 'sigs'\n",
    "degs = set(sigs_up['gene'])  # Create a set for faster lookup\n",
    "\n",
    "# Step 3: Check which ligand-receptor pairs have both ligands and receptors as DEGs\n",
    "matched_pairs = lr_pairs[(lr_pairs['ligand'].isin(degs)) & (lr_pairs['receptor'].isin(degs))]\n",
    "\n",
    "# Step 4: Count the matched pairs\n",
    "num_matched_pairs = matched_pairs.shape[0]\n",
    "\n",
    "# Output the result\n",
    "print(f'Total ligand-receptor pairs where both are differentially expressed: {num_matched_pairs}')\n",
    "\n",
    "# Step 5: Optional - view the matched pairs with direction of change\n",
    "matched_pairs_with_logFC = matched_pairs.merge(sigs[['gene', 'logFC']], left_on='ligand', right_on='gene', how='left')\\\n",
    "                                        .merge(sigs[['gene', 'logFC']], left_on='receptor', right_on='gene', how='left', suffixes=('_ligand', '_receptor'))\n",
    "\n",
    "# Sorting the table by 'logFC_ligand' in descending order\n",
    "sorted_table = matched_pairs_with_logFC.sort_values(by='logFC_ligand', ascending=False)\n",
    "\n",
    "# Displaying the sorted table with the selected columns\n",
    "sorted_table[['ligand', 'receptor', 'logFC_ligand', 'logFC_receptor']]"
   ]
  },
  {
   "cell_type": "code",
   "execution_count": null,
   "id": "7362c0d6",
   "metadata": {},
   "outputs": [],
   "source": [
    "#sorted_table[['ligand', 'receptor', 'logFC_ligand', 'logFC_receptor']].to_csv('./files/LR_LPC_remyel_MOL_BvE.csv', sep='\\t', index=False)"
   ]
  },
  {
   "cell_type": "code",
   "execution_count": null,
   "id": "3eb0e550",
   "metadata": {},
   "outputs": [],
   "source": []
  }
 ],
 "metadata": {
  "kernelspec": {
   "display_name": "Python 3 (ipykernel)",
   "language": "python",
   "name": "python3"
  },
  "language_info": {
   "codemirror_mode": {
    "name": "ipython",
    "version": 3
   },
   "file_extension": ".py",
   "mimetype": "text/x-python",
   "name": "python",
   "nbconvert_exporter": "python",
   "pygments_lexer": "ipython3",
   "version": "3.11.11"
  }
 },
 "nbformat": 4,
 "nbformat_minor": 5
}

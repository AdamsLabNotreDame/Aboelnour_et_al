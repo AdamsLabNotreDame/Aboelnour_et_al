{
 "cells": [
  {
   "cell_type": "code",
   "execution_count": 1,
   "id": "a4107cb9",
   "metadata": {},
   "outputs": [],
   "source": [
    "import warnings\n",
    "\n",
    "warnings.filterwarnings(\"ignore\")\n",
    "\n",
    "import matplotlib.pyplot as plt\n",
    "import seaborn as sns\n",
    "import scanpy as sc\n",
    "import pandas as pd\n",
    "import numpy as np\n",
    "import random\n",
    "import sc_toolbox\n",
    "import pertpy \n",
    "\n",
    "import rpy2.rinterface_lib.callbacks\n",
    "import anndata2ri\n",
    "import logging\n",
    "\n",
    "from rpy2.robjects import pandas2ri\n",
    "from rpy2.robjects import r\n",
    "\n",
    "sc.settings.verbosity = 0\n",
    "rpy2.rinterface_lib.callbacks.logger.setLevel(logging.ERROR)\n",
    "\n",
    "pandas2ri.activate()\n",
    "anndata2ri.activate()\n",
    "\n",
    "%load_ext rpy2.ipython"
   ]
  },
  {
   "cell_type": "code",
   "execution_count": 2,
   "id": "cd2ae648",
   "metadata": {},
   "outputs": [
    {
     "data": {
      "text/plain": [
       "Loading required package: limma\n"
      ]
     },
     "metadata": {},
     "output_type": "display_data"
    }
   ],
   "source": [
    "%%R\n",
    "library(edgeR)"
   ]
  },
  {
   "cell_type": "markdown",
   "id": "f783decd",
   "metadata": {},
   "source": [
    "# Running on XX cell types"
   ]
  },
  {
   "cell_type": "code",
   "execution_count": 3,
   "id": "1c0c911f",
   "metadata": {},
   "outputs": [
    {
     "data": {
      "text/plain": [
       "AnnData object with n_obs × n_vars = 104 × 16589\n",
       "    obs: 'publication', 'label', 'cell_type', 'replicate_cat', 'sample', 'sample_rep', 'batch', 'lib_size', 'log_lib_size', 'replicate'\n",
       "    uns: 'cell_type_colors', 'label_colors', 'log1p', 'pca', 'publication_colors', 'replicate_cat_colors', 'sample_colors', 'sample_rep_colors'\n",
       "    obsm: 'X_pca'\n",
       "    varm: 'PCs'\n",
       "    layers: 'counts'"
      ]
     },
     "execution_count": 3,
     "metadata": {},
     "output_type": "execute_result"
    }
   ],
   "source": [
    "adata_pb = sc.read('./pb_adata_CUPR_sep.h5ad')\n",
    "adata_pb"
   ]
  },
  {
   "cell_type": "code",
   "execution_count": 4,
   "id": "9c81bbd6",
   "metadata": {},
   "outputs": [
    {
     "data": {
      "text/html": [
       "<div>\n",
       "<style scoped>\n",
       "    .dataframe tbody tr th:only-of-type {\n",
       "        vertical-align: middle;\n",
       "    }\n",
       "\n",
       "    .dataframe tbody tr th {\n",
       "        vertical-align: top;\n",
       "    }\n",
       "\n",
       "    .dataframe thead th {\n",
       "        text-align: right;\n",
       "    }\n",
       "</style>\n",
       "<table border=\"1\" class=\"dataframe\">\n",
       "  <thead>\n",
       "    <tr style=\"text-align: right;\">\n",
       "      <th>label</th>\n",
       "      <th>ctrl</th>\n",
       "      <th>stim</th>\n",
       "    </tr>\n",
       "    <tr>\n",
       "      <th>cell_type</th>\n",
       "      <th></th>\n",
       "      <th></th>\n",
       "    </tr>\n",
       "  </thead>\n",
       "  <tbody>\n",
       "    <tr>\n",
       "      <th>COPs</th>\n",
       "      <td>0</td>\n",
       "      <td>2</td>\n",
       "    </tr>\n",
       "    <tr>\n",
       "      <th>MFOLs</th>\n",
       "      <td>4</td>\n",
       "      <td>6</td>\n",
       "    </tr>\n",
       "    <tr>\n",
       "      <th>MOL_A</th>\n",
       "      <td>5</td>\n",
       "      <td>8</td>\n",
       "    </tr>\n",
       "    <tr>\n",
       "      <th>MOL_B</th>\n",
       "      <td>5</td>\n",
       "      <td>8</td>\n",
       "    </tr>\n",
       "    <tr>\n",
       "      <th>MOL_C</th>\n",
       "      <td>5</td>\n",
       "      <td>9</td>\n",
       "    </tr>\n",
       "    <tr>\n",
       "      <th>MOL_D</th>\n",
       "      <td>5</td>\n",
       "      <td>4</td>\n",
       "    </tr>\n",
       "    <tr>\n",
       "      <th>MOL_E</th>\n",
       "      <td>3</td>\n",
       "      <td>7</td>\n",
       "    </tr>\n",
       "    <tr>\n",
       "      <th>MOL_F</th>\n",
       "      <td>3</td>\n",
       "      <td>6</td>\n",
       "    </tr>\n",
       "    <tr>\n",
       "      <th>MOL_G</th>\n",
       "      <td>4</td>\n",
       "      <td>7</td>\n",
       "    </tr>\n",
       "    <tr>\n",
       "      <th>NFOLs</th>\n",
       "      <td>2</td>\n",
       "      <td>3</td>\n",
       "    </tr>\n",
       "    <tr>\n",
       "      <th>OPCs</th>\n",
       "      <td>3</td>\n",
       "      <td>3</td>\n",
       "    </tr>\n",
       "    <tr>\n",
       "      <th>cycl_OPCs</th>\n",
       "      <td>0</td>\n",
       "      <td>2</td>\n",
       "    </tr>\n",
       "  </tbody>\n",
       "</table>\n",
       "</div>"
      ],
      "text/plain": [
       "label      ctrl  stim\n",
       "cell_type            \n",
       "COPs          0     2\n",
       "MFOLs         4     6\n",
       "MOL_A         5     8\n",
       "MOL_B         5     8\n",
       "MOL_C         5     9\n",
       "MOL_D         5     4\n",
       "MOL_E         3     7\n",
       "MOL_F         3     6\n",
       "MOL_G         4     7\n",
       "NFOLs         2     3\n",
       "OPCs          3     3\n",
       "cycl_OPCs     0     2"
      ]
     },
     "execution_count": 4,
     "metadata": {},
     "output_type": "execute_result"
    }
   ],
   "source": [
    "# Extract the data as a pandas DataFrame\n",
    "df = adata_pb.obs[['cell_type', 'label']]\n",
    "\n",
    "# Create a summary table\n",
    "summary_table = df.groupby(['cell_type', 'label']).size().unstack(fill_value=0)\n",
    "summary_table"
   ]
  },
  {
   "cell_type": "code",
   "execution_count": 5,
   "id": "932946eb",
   "metadata": {},
   "outputs": [
    {
     "data": {
      "text/html": [
       "<div>\n",
       "<style scoped>\n",
       "    .dataframe tbody tr th:only-of-type {\n",
       "        vertical-align: middle;\n",
       "    }\n",
       "\n",
       "    .dataframe tbody tr th {\n",
       "        vertical-align: top;\n",
       "    }\n",
       "\n",
       "    .dataframe thead th {\n",
       "        text-align: right;\n",
       "    }\n",
       "</style>\n",
       "<table border=\"1\" class=\"dataframe\">\n",
       "  <thead>\n",
       "    <tr style=\"text-align: right;\">\n",
       "      <th></th>\n",
       "      <th>publication</th>\n",
       "      <th>label</th>\n",
       "      <th>cell_type</th>\n",
       "      <th>replicate_cat</th>\n",
       "      <th>sample</th>\n",
       "      <th>sample_rep</th>\n",
       "      <th>batch</th>\n",
       "      <th>lib_size</th>\n",
       "      <th>log_lib_size</th>\n",
       "      <th>replicate</th>\n",
       "    </tr>\n",
       "  </thead>\n",
       "  <tbody>\n",
       "    <tr>\n",
       "      <th>donor_stim_1_0-0-0-0-0-0-0-0-0-0-0-0</th>\n",
       "      <td>(this study)</td>\n",
       "      <td>stim</td>\n",
       "      <td>cycl_OPCs</td>\n",
       "      <td>1</td>\n",
       "      <td>stim_1</td>\n",
       "      <td>Cupr_5w_1</td>\n",
       "      <td>0</td>\n",
       "      <td>36253</td>\n",
       "      <td>10.498277</td>\n",
       "      <td>1</td>\n",
       "    </tr>\n",
       "    <tr>\n",
       "      <th>donor_stim_2_0-0-0-0-0-0-0-0-0-0-0-0</th>\n",
       "      <td>(this study)</td>\n",
       "      <td>stim</td>\n",
       "      <td>cycl_OPCs</td>\n",
       "      <td>2</td>\n",
       "      <td>stim_2</td>\n",
       "      <td>Cupr_5w_2</td>\n",
       "      <td>0</td>\n",
       "      <td>55755</td>\n",
       "      <td>10.928722</td>\n",
       "      <td>2</td>\n",
       "    </tr>\n",
       "    <tr>\n",
       "      <th>donor_ctrl_1_0-1-0-0-0-0-0-0-0-0-0-0</th>\n",
       "      <td>(this study)</td>\n",
       "      <td>ctrl</td>\n",
       "      <td>OPCs</td>\n",
       "      <td>1</td>\n",
       "      <td>ctrl_1</td>\n",
       "      <td>Cupr_ctrl_Adams_1</td>\n",
       "      <td>0</td>\n",
       "      <td>53408</td>\n",
       "      <td>10.885716</td>\n",
       "      <td>1</td>\n",
       "    </tr>\n",
       "    <tr>\n",
       "      <th>donor_ctrl_2_0-1-0-0-0-0-0-0-0-0-0-0</th>\n",
       "      <td>(this study)</td>\n",
       "      <td>ctrl</td>\n",
       "      <td>OPCs</td>\n",
       "      <td>2</td>\n",
       "      <td>ctrl_2</td>\n",
       "      <td>Cupr_ctrl_Adams_2</td>\n",
       "      <td>0</td>\n",
       "      <td>44455</td>\n",
       "      <td>10.702233</td>\n",
       "      <td>2</td>\n",
       "    </tr>\n",
       "    <tr>\n",
       "      <th>donor_ctrl_5_0-1-0-0-0-0-0-0-0-0-0-0</th>\n",
       "      <td>Shen et al. 2021</td>\n",
       "      <td>ctrl</td>\n",
       "      <td>OPCs</td>\n",
       "      <td>5</td>\n",
       "      <td>ctrl_5</td>\n",
       "      <td>Cupr_ctrl_Shen_3</td>\n",
       "      <td>0</td>\n",
       "      <td>84201</td>\n",
       "      <td>11.340962</td>\n",
       "      <td>5</td>\n",
       "    </tr>\n",
       "  </tbody>\n",
       "</table>\n",
       "</div>"
      ],
      "text/plain": [
       "                                           publication label  cell_type  \\\n",
       "donor_stim_1_0-0-0-0-0-0-0-0-0-0-0-0      (this study)  stim  cycl_OPCs   \n",
       "donor_stim_2_0-0-0-0-0-0-0-0-0-0-0-0      (this study)  stim  cycl_OPCs   \n",
       "donor_ctrl_1_0-1-0-0-0-0-0-0-0-0-0-0      (this study)  ctrl       OPCs   \n",
       "donor_ctrl_2_0-1-0-0-0-0-0-0-0-0-0-0      (this study)  ctrl       OPCs   \n",
       "donor_ctrl_5_0-1-0-0-0-0-0-0-0-0-0-0  Shen et al. 2021  ctrl       OPCs   \n",
       "\n",
       "                                     replicate_cat  sample         sample_rep  \\\n",
       "donor_stim_1_0-0-0-0-0-0-0-0-0-0-0-0             1  stim_1          Cupr_5w_1   \n",
       "donor_stim_2_0-0-0-0-0-0-0-0-0-0-0-0             2  stim_2          Cupr_5w_2   \n",
       "donor_ctrl_1_0-1-0-0-0-0-0-0-0-0-0-0             1  ctrl_1  Cupr_ctrl_Adams_1   \n",
       "donor_ctrl_2_0-1-0-0-0-0-0-0-0-0-0-0             2  ctrl_2  Cupr_ctrl_Adams_2   \n",
       "donor_ctrl_5_0-1-0-0-0-0-0-0-0-0-0-0             5  ctrl_5   Cupr_ctrl_Shen_3   \n",
       "\n",
       "                                     batch  lib_size  log_lib_size replicate  \n",
       "donor_stim_1_0-0-0-0-0-0-0-0-0-0-0-0     0     36253     10.498277         1  \n",
       "donor_stim_2_0-0-0-0-0-0-0-0-0-0-0-0     0     55755     10.928722         2  \n",
       "donor_ctrl_1_0-1-0-0-0-0-0-0-0-0-0-0     0     53408     10.885716         1  \n",
       "donor_ctrl_2_0-1-0-0-0-0-0-0-0-0-0-0     0     44455     10.702233         2  \n",
       "donor_ctrl_5_0-1-0-0-0-0-0-0-0-0-0-0     0     84201     11.340962         5  "
      ]
     },
     "execution_count": 5,
     "metadata": {},
     "output_type": "execute_result"
    }
   ],
   "source": [
    "adata_pb.obs[:5]"
   ]
  },
  {
   "cell_type": "code",
   "execution_count": 6,
   "id": "9e5a3fe0",
   "metadata": {},
   "outputs": [
    {
     "name": "stdout",
     "output_type": "stream",
     "text": [
      "Dimensions of adata_sub: (24, 16589)\n"
     ]
    }
   ],
   "source": [
    "adata_sub= adata_pb[np.in1d(adata_pb.obs['cell_type'], \n",
    "                           ['MOL_A', 'MOL_G'])].copy()\n",
    "\n",
    "print(\"Dimensions of adata_sub:\", adata_sub.shape)"
   ]
  },
  {
   "cell_type": "code",
   "execution_count": 7,
   "id": "860aa9d1",
   "metadata": {},
   "outputs": [],
   "source": [
    "pub_map = {\n",
    "    '(this study)': 'Adams',\n",
    "    'Shen et al. 2021': 'Shen'\n",
    "}\n",
    "\n",
    "# Update the 'treatment_meta' column based on the mapping\n",
    "adata_sub.obs['batch'] = adata_sub.obs['publication'].map(pub_map)"
   ]
  },
  {
   "cell_type": "code",
   "execution_count": 8,
   "id": "5c9e6461",
   "metadata": {},
   "outputs": [],
   "source": [
    "# Concatenate 'individual_lesion_condition' and 'replicate' to create 'sample'\n",
    "adata_sub.obs['cell_type_sample'] = adata_sub.obs['cell_type'].astype(str) + '_' + adata_sub.obs['sample_rep'].astype(str)"
   ]
  },
  {
   "cell_type": "code",
   "execution_count": 9,
   "id": "5df79ed2",
   "metadata": {},
   "outputs": [
    {
     "data": {
      "text/html": [
       "<div>\n",
       "<style scoped>\n",
       "    .dataframe tbody tr th:only-of-type {\n",
       "        vertical-align: middle;\n",
       "    }\n",
       "\n",
       "    .dataframe tbody tr th {\n",
       "        vertical-align: top;\n",
       "    }\n",
       "\n",
       "    .dataframe thead th {\n",
       "        text-align: right;\n",
       "    }\n",
       "</style>\n",
       "<table border=\"1\" class=\"dataframe\">\n",
       "  <thead>\n",
       "    <tr style=\"text-align: right;\">\n",
       "      <th></th>\n",
       "      <th>publication</th>\n",
       "      <th>label</th>\n",
       "      <th>cell_type</th>\n",
       "      <th>replicate_cat</th>\n",
       "      <th>sample</th>\n",
       "      <th>sample_rep</th>\n",
       "      <th>batch</th>\n",
       "      <th>lib_size</th>\n",
       "      <th>log_lib_size</th>\n",
       "      <th>replicate</th>\n",
       "      <th>cell_type_sample</th>\n",
       "    </tr>\n",
       "  </thead>\n",
       "  <tbody>\n",
       "    <tr>\n",
       "      <th>donor_ctrl_1_0-1-0-0-0-0-0-0</th>\n",
       "      <td>(this study)</td>\n",
       "      <td>ctrl</td>\n",
       "      <td>MOL_A</td>\n",
       "      <td>1</td>\n",
       "      <td>ctrl_1</td>\n",
       "      <td>Cupr_ctrl_Adams_1</td>\n",
       "      <td>Adams</td>\n",
       "      <td>161410</td>\n",
       "      <td>11.991703</td>\n",
       "      <td>1</td>\n",
       "      <td>MOL_A_Cupr_ctrl_Adams_1</td>\n",
       "    </tr>\n",
       "    <tr>\n",
       "      <th>donor_ctrl_2_0-1-0-0-0-0-0-0</th>\n",
       "      <td>(this study)</td>\n",
       "      <td>ctrl</td>\n",
       "      <td>MOL_A</td>\n",
       "      <td>2</td>\n",
       "      <td>ctrl_2</td>\n",
       "      <td>Cupr_ctrl_Adams_2</td>\n",
       "      <td>Adams</td>\n",
       "      <td>93222</td>\n",
       "      <td>11.442739</td>\n",
       "      <td>2</td>\n",
       "      <td>MOL_A_Cupr_ctrl_Adams_2</td>\n",
       "    </tr>\n",
       "    <tr>\n",
       "      <th>donor_ctrl_3_0-1-0-0-0-0-0-0</th>\n",
       "      <td>Shen et al. 2021</td>\n",
       "      <td>ctrl</td>\n",
       "      <td>MOL_A</td>\n",
       "      <td>3</td>\n",
       "      <td>ctrl_3</td>\n",
       "      <td>Cupr_ctrl_Shen_2</td>\n",
       "      <td>Shen</td>\n",
       "      <td>200979</td>\n",
       "      <td>12.210956</td>\n",
       "      <td>3</td>\n",
       "      <td>MOL_A_Cupr_ctrl_Shen_2</td>\n",
       "    </tr>\n",
       "    <tr>\n",
       "      <th>donor_ctrl_4_0-1-0-0-0-0-0-0</th>\n",
       "      <td>Shen et al. 2021</td>\n",
       "      <td>ctrl</td>\n",
       "      <td>MOL_A</td>\n",
       "      <td>4</td>\n",
       "      <td>ctrl_4</td>\n",
       "      <td>Cupr_ctrl_Shen_1</td>\n",
       "      <td>Shen</td>\n",
       "      <td>141998</td>\n",
       "      <td>11.863568</td>\n",
       "      <td>4</td>\n",
       "      <td>MOL_A_Cupr_ctrl_Shen_1</td>\n",
       "    </tr>\n",
       "    <tr>\n",
       "      <th>donor_ctrl_5_0-1-0-0-0-0-0-0</th>\n",
       "      <td>Shen et al. 2021</td>\n",
       "      <td>ctrl</td>\n",
       "      <td>MOL_A</td>\n",
       "      <td>5</td>\n",
       "      <td>ctrl_5</td>\n",
       "      <td>Cupr_ctrl_Shen_3</td>\n",
       "      <td>Shen</td>\n",
       "      <td>623894</td>\n",
       "      <td>13.343736</td>\n",
       "      <td>5</td>\n",
       "      <td>MOL_A_Cupr_ctrl_Shen_3</td>\n",
       "    </tr>\n",
       "  </tbody>\n",
       "</table>\n",
       "</div>"
      ],
      "text/plain": [
       "                                   publication label cell_type replicate_cat  \\\n",
       "donor_ctrl_1_0-1-0-0-0-0-0-0      (this study)  ctrl     MOL_A             1   \n",
       "donor_ctrl_2_0-1-0-0-0-0-0-0      (this study)  ctrl     MOL_A             2   \n",
       "donor_ctrl_3_0-1-0-0-0-0-0-0  Shen et al. 2021  ctrl     MOL_A             3   \n",
       "donor_ctrl_4_0-1-0-0-0-0-0-0  Shen et al. 2021  ctrl     MOL_A             4   \n",
       "donor_ctrl_5_0-1-0-0-0-0-0-0  Shen et al. 2021  ctrl     MOL_A             5   \n",
       "\n",
       "                              sample         sample_rep  batch  lib_size  \\\n",
       "donor_ctrl_1_0-1-0-0-0-0-0-0  ctrl_1  Cupr_ctrl_Adams_1  Adams    161410   \n",
       "donor_ctrl_2_0-1-0-0-0-0-0-0  ctrl_2  Cupr_ctrl_Adams_2  Adams     93222   \n",
       "donor_ctrl_3_0-1-0-0-0-0-0-0  ctrl_3   Cupr_ctrl_Shen_2   Shen    200979   \n",
       "donor_ctrl_4_0-1-0-0-0-0-0-0  ctrl_4   Cupr_ctrl_Shen_1   Shen    141998   \n",
       "donor_ctrl_5_0-1-0-0-0-0-0-0  ctrl_5   Cupr_ctrl_Shen_3   Shen    623894   \n",
       "\n",
       "                              log_lib_size replicate         cell_type_sample  \n",
       "donor_ctrl_1_0-1-0-0-0-0-0-0     11.991703         1  MOL_A_Cupr_ctrl_Adams_1  \n",
       "donor_ctrl_2_0-1-0-0-0-0-0-0     11.442739         2  MOL_A_Cupr_ctrl_Adams_2  \n",
       "donor_ctrl_3_0-1-0-0-0-0-0-0     12.210956         3   MOL_A_Cupr_ctrl_Shen_2  \n",
       "donor_ctrl_4_0-1-0-0-0-0-0-0     11.863568         4   MOL_A_Cupr_ctrl_Shen_1  \n",
       "donor_ctrl_5_0-1-0-0-0-0-0-0     13.343736         5   MOL_A_Cupr_ctrl_Shen_3  "
      ]
     },
     "execution_count": 9,
     "metadata": {},
     "output_type": "execute_result"
    }
   ],
   "source": [
    "adata_sub.obs[:5]"
   ]
  },
  {
   "cell_type": "markdown",
   "id": "e2f53bd1",
   "metadata": {},
   "source": [
    "# Subset for demyelination and remyelination MOL2 data"
   ]
  },
  {
   "cell_type": "code",
   "execution_count": 10,
   "id": "3f1744ad",
   "metadata": {},
   "outputs": [
    {
     "name": "stdout",
     "output_type": "stream",
     "text": [
      "MOL_A_Cupr_ctrl_Adams_1\n",
      "MOL_A_Cupr_ctrl_Adams_2\n",
      "MOL_A_Cupr_ctrl_Shen_2\n",
      "MOL_A_Cupr_ctrl_Shen_1\n",
      "MOL_A_Cupr_ctrl_Shen_3\n",
      "MOL_A_Cupr_5w_1\n",
      "MOL_A_Cupr_5w_2\n",
      "MOL_A_Cupr_4+3w_1\n",
      "MOL_A_Cupr_4w_3\n",
      "MOL_A_Cupr_4+3w_3\n",
      "MOL_A_Cupr_4w_4\n",
      "MOL_A_Cupr_4+3w_2\n",
      "MOL_A_Cupr_4w_1\n",
      "MOL_G_Cupr_ctrl_Adams_1\n",
      "MOL_G_Cupr_ctrl_Adams_2\n",
      "MOL_G_Cupr_ctrl_Shen_2\n",
      "MOL_G_Cupr_ctrl_Shen_1\n",
      "MOL_G_Cupr_5w_1\n",
      "MOL_G_Cupr_5w_2\n",
      "MOL_G_Cupr_4+3w_1\n",
      "MOL_G_Cupr_4w_3\n",
      "MOL_G_Cupr_4w_2\n",
      "MOL_G_Cupr_4w_4\n",
      "MOL_G_Cupr_4w_1\n"
     ]
    }
   ],
   "source": [
    "# Unique values in the 'condition' column\n",
    "unique_conditions = adata_sub.obs['cell_type_sample'].unique()\n",
    "for condition in unique_conditions:\n",
    "    print(condition)"
   ]
  },
  {
   "cell_type": "code",
   "execution_count": 11,
   "id": "4a947f7b",
   "metadata": {},
   "outputs": [
    {
     "name": "stdout",
     "output_type": "stream",
     "text": [
      "Dimensions of adata_sub: (11, 16589)\n"
     ]
    }
   ],
   "source": [
    "adata_sub= adata_sub[np.in1d(adata_sub.obs['cell_type_sample'], \n",
    "                           [\n",
    "                            'MOL_A_Cupr_ctrl_Adams_1',\n",
    "                            'MOL_A_Cupr_ctrl_Adams_2',\n",
    "                            'MOL_A_Cupr_ctrl_Shen_2',\n",
    "                            'MOL_A_Cupr_ctrl_Shen_1',\n",
    "                            'MOL_A_Cupr_ctrl_Shen_3',\n",
    "                            'MOL_G_Cupr_5w_1',\n",
    "                            'MOL_G_Cupr_5w_2',\n",
    "                            'MOL_G_Cupr_4w_3',\n",
    "                            'MOL_G_Cupr_4w_2',\n",
    "                            'MOL_G_Cupr_4w_4',\n",
    "                            'MOL_G_Cupr_4w_1',                              \n",
    "                           ])].copy()\n",
    "\n",
    "print(\"Dimensions of adata_sub:\", adata_sub.shape)"
   ]
  },
  {
   "cell_type": "code",
   "execution_count": 12,
   "id": "004f16ab",
   "metadata": {},
   "outputs": [],
   "source": [
    "# Check if the 'sample_rep' column exists\n",
    "if 'sample_rep' in adata_sub.obs.columns:\n",
    "    # Set the 'sample_rep' column as the index\n",
    "    adata_sub.obs.set_index('sample_rep', inplace=True)\n",
    "else:\n",
    "    print(\"The column 'sample_rep' does not exist in adata_sub.obs.\")\n",
    "\n",
    "adata_sub.obs.index.name = None"
   ]
  },
  {
   "cell_type": "code",
   "execution_count": 13,
   "id": "65c8ca68",
   "metadata": {},
   "outputs": [
    {
     "data": {
      "text/html": [
       "<div>\n",
       "<style scoped>\n",
       "    .dataframe tbody tr th:only-of-type {\n",
       "        vertical-align: middle;\n",
       "    }\n",
       "\n",
       "    .dataframe tbody tr th {\n",
       "        vertical-align: top;\n",
       "    }\n",
       "\n",
       "    .dataframe thead th {\n",
       "        text-align: right;\n",
       "    }\n",
       "</style>\n",
       "<table border=\"1\" class=\"dataframe\">\n",
       "  <thead>\n",
       "    <tr style=\"text-align: right;\">\n",
       "      <th></th>\n",
       "      <th>publication</th>\n",
       "      <th>label</th>\n",
       "      <th>cell_type</th>\n",
       "      <th>replicate_cat</th>\n",
       "      <th>sample</th>\n",
       "      <th>batch</th>\n",
       "      <th>lib_size</th>\n",
       "      <th>log_lib_size</th>\n",
       "      <th>replicate</th>\n",
       "      <th>cell_type_sample</th>\n",
       "    </tr>\n",
       "  </thead>\n",
       "  <tbody>\n",
       "    <tr>\n",
       "      <th>Cupr_ctrl_Adams_1</th>\n",
       "      <td>(this study)</td>\n",
       "      <td>ctrl</td>\n",
       "      <td>MOL_A</td>\n",
       "      <td>1</td>\n",
       "      <td>ctrl_1</td>\n",
       "      <td>Adams</td>\n",
       "      <td>161410</td>\n",
       "      <td>11.991703</td>\n",
       "      <td>1</td>\n",
       "      <td>MOL_A_Cupr_ctrl_Adams_1</td>\n",
       "    </tr>\n",
       "    <tr>\n",
       "      <th>Cupr_ctrl_Adams_2</th>\n",
       "      <td>(this study)</td>\n",
       "      <td>ctrl</td>\n",
       "      <td>MOL_A</td>\n",
       "      <td>2</td>\n",
       "      <td>ctrl_2</td>\n",
       "      <td>Adams</td>\n",
       "      <td>93222</td>\n",
       "      <td>11.442739</td>\n",
       "      <td>2</td>\n",
       "      <td>MOL_A_Cupr_ctrl_Adams_2</td>\n",
       "    </tr>\n",
       "    <tr>\n",
       "      <th>Cupr_ctrl_Shen_2</th>\n",
       "      <td>Shen et al. 2021</td>\n",
       "      <td>ctrl</td>\n",
       "      <td>MOL_A</td>\n",
       "      <td>3</td>\n",
       "      <td>ctrl_3</td>\n",
       "      <td>Shen</td>\n",
       "      <td>200979</td>\n",
       "      <td>12.210956</td>\n",
       "      <td>3</td>\n",
       "      <td>MOL_A_Cupr_ctrl_Shen_2</td>\n",
       "    </tr>\n",
       "    <tr>\n",
       "      <th>Cupr_ctrl_Shen_1</th>\n",
       "      <td>Shen et al. 2021</td>\n",
       "      <td>ctrl</td>\n",
       "      <td>MOL_A</td>\n",
       "      <td>4</td>\n",
       "      <td>ctrl_4</td>\n",
       "      <td>Shen</td>\n",
       "      <td>141998</td>\n",
       "      <td>11.863568</td>\n",
       "      <td>4</td>\n",
       "      <td>MOL_A_Cupr_ctrl_Shen_1</td>\n",
       "    </tr>\n",
       "    <tr>\n",
       "      <th>Cupr_ctrl_Shen_3</th>\n",
       "      <td>Shen et al. 2021</td>\n",
       "      <td>ctrl</td>\n",
       "      <td>MOL_A</td>\n",
       "      <td>5</td>\n",
       "      <td>ctrl_5</td>\n",
       "      <td>Shen</td>\n",
       "      <td>623894</td>\n",
       "      <td>13.343736</td>\n",
       "      <td>5</td>\n",
       "      <td>MOL_A_Cupr_ctrl_Shen_3</td>\n",
       "    </tr>\n",
       "    <tr>\n",
       "      <th>Cupr_5w_1</th>\n",
       "      <td>(this study)</td>\n",
       "      <td>stim</td>\n",
       "      <td>MOL_G</td>\n",
       "      <td>1</td>\n",
       "      <td>stim_1</td>\n",
       "      <td>Adams</td>\n",
       "      <td>107326</td>\n",
       "      <td>11.583626</td>\n",
       "      <td>1</td>\n",
       "      <td>MOL_G_Cupr_5w_1</td>\n",
       "    </tr>\n",
       "    <tr>\n",
       "      <th>Cupr_5w_2</th>\n",
       "      <td>(this study)</td>\n",
       "      <td>stim</td>\n",
       "      <td>MOL_G</td>\n",
       "      <td>2</td>\n",
       "      <td>stim_2</td>\n",
       "      <td>Adams</td>\n",
       "      <td>350692</td>\n",
       "      <td>12.767664</td>\n",
       "      <td>2</td>\n",
       "      <td>MOL_G_Cupr_5w_2</td>\n",
       "    </tr>\n",
       "    <tr>\n",
       "      <th>Cupr_4w_3</th>\n",
       "      <td>Shen et al. 2021</td>\n",
       "      <td>stim</td>\n",
       "      <td>MOL_G</td>\n",
       "      <td>4</td>\n",
       "      <td>stim_4</td>\n",
       "      <td>Shen</td>\n",
       "      <td>1535884</td>\n",
       "      <td>14.244617</td>\n",
       "      <td>4</td>\n",
       "      <td>MOL_G_Cupr_4w_3</td>\n",
       "    </tr>\n",
       "    <tr>\n",
       "      <th>Cupr_4w_2</th>\n",
       "      <td>Shen et al. 2021</td>\n",
       "      <td>stim</td>\n",
       "      <td>MOL_G</td>\n",
       "      <td>5</td>\n",
       "      <td>stim_5</td>\n",
       "      <td>Shen</td>\n",
       "      <td>2661468</td>\n",
       "      <td>14.794388</td>\n",
       "      <td>5</td>\n",
       "      <td>MOL_G_Cupr_4w_2</td>\n",
       "    </tr>\n",
       "    <tr>\n",
       "      <th>Cupr_4w_4</th>\n",
       "      <td>Shen et al. 2021</td>\n",
       "      <td>stim</td>\n",
       "      <td>MOL_G</td>\n",
       "      <td>7</td>\n",
       "      <td>stim_7</td>\n",
       "      <td>Shen</td>\n",
       "      <td>2676958</td>\n",
       "      <td>14.800192</td>\n",
       "      <td>7</td>\n",
       "      <td>MOL_G_Cupr_4w_4</td>\n",
       "    </tr>\n",
       "    <tr>\n",
       "      <th>Cupr_4w_1</th>\n",
       "      <td>Shen et al. 2021</td>\n",
       "      <td>stim</td>\n",
       "      <td>MOL_G</td>\n",
       "      <td>9</td>\n",
       "      <td>stim_9</td>\n",
       "      <td>Shen</td>\n",
       "      <td>1398755</td>\n",
       "      <td>14.151093</td>\n",
       "      <td>9</td>\n",
       "      <td>MOL_G_Cupr_4w_1</td>\n",
       "    </tr>\n",
       "  </tbody>\n",
       "</table>\n",
       "</div>"
      ],
      "text/plain": [
       "                        publication label cell_type replicate_cat  sample  \\\n",
       "Cupr_ctrl_Adams_1      (this study)  ctrl     MOL_A             1  ctrl_1   \n",
       "Cupr_ctrl_Adams_2      (this study)  ctrl     MOL_A             2  ctrl_2   \n",
       "Cupr_ctrl_Shen_2   Shen et al. 2021  ctrl     MOL_A             3  ctrl_3   \n",
       "Cupr_ctrl_Shen_1   Shen et al. 2021  ctrl     MOL_A             4  ctrl_4   \n",
       "Cupr_ctrl_Shen_3   Shen et al. 2021  ctrl     MOL_A             5  ctrl_5   \n",
       "Cupr_5w_1              (this study)  stim     MOL_G             1  stim_1   \n",
       "Cupr_5w_2              (this study)  stim     MOL_G             2  stim_2   \n",
       "Cupr_4w_3          Shen et al. 2021  stim     MOL_G             4  stim_4   \n",
       "Cupr_4w_2          Shen et al. 2021  stim     MOL_G             5  stim_5   \n",
       "Cupr_4w_4          Shen et al. 2021  stim     MOL_G             7  stim_7   \n",
       "Cupr_4w_1          Shen et al. 2021  stim     MOL_G             9  stim_9   \n",
       "\n",
       "                   batch  lib_size  log_lib_size replicate  \\\n",
       "Cupr_ctrl_Adams_1  Adams    161410     11.991703         1   \n",
       "Cupr_ctrl_Adams_2  Adams     93222     11.442739         2   \n",
       "Cupr_ctrl_Shen_2    Shen    200979     12.210956         3   \n",
       "Cupr_ctrl_Shen_1    Shen    141998     11.863568         4   \n",
       "Cupr_ctrl_Shen_3    Shen    623894     13.343736         5   \n",
       "Cupr_5w_1          Adams    107326     11.583626         1   \n",
       "Cupr_5w_2          Adams    350692     12.767664         2   \n",
       "Cupr_4w_3           Shen   1535884     14.244617         4   \n",
       "Cupr_4w_2           Shen   2661468     14.794388         5   \n",
       "Cupr_4w_4           Shen   2676958     14.800192         7   \n",
       "Cupr_4w_1           Shen   1398755     14.151093         9   \n",
       "\n",
       "                          cell_type_sample  \n",
       "Cupr_ctrl_Adams_1  MOL_A_Cupr_ctrl_Adams_1  \n",
       "Cupr_ctrl_Adams_2  MOL_A_Cupr_ctrl_Adams_2  \n",
       "Cupr_ctrl_Shen_2    MOL_A_Cupr_ctrl_Shen_2  \n",
       "Cupr_ctrl_Shen_1    MOL_A_Cupr_ctrl_Shen_1  \n",
       "Cupr_ctrl_Shen_3    MOL_A_Cupr_ctrl_Shen_3  \n",
       "Cupr_5w_1                  MOL_G_Cupr_5w_1  \n",
       "Cupr_5w_2                  MOL_G_Cupr_5w_2  \n",
       "Cupr_4w_3                  MOL_G_Cupr_4w_3  \n",
       "Cupr_4w_2                  MOL_G_Cupr_4w_2  \n",
       "Cupr_4w_4                  MOL_G_Cupr_4w_4  \n",
       "Cupr_4w_1                  MOL_G_Cupr_4w_1  "
      ]
     },
     "execution_count": 13,
     "metadata": {},
     "output_type": "execute_result"
    }
   ],
   "source": [
    "adata_sub.obs"
   ]
  },
  {
   "cell_type": "markdown",
   "id": "410e9eb5",
   "metadata": {},
   "source": [
    "# Rename the MOL clusters for NEW letter based nomenclature"
   ]
  },
  {
   "cell_type": "code",
   "execution_count": 14,
   "id": "c27be2e8",
   "metadata": {},
   "outputs": [
    {
     "name": "stdout",
     "output_type": "stream",
     "text": [
      "[[ 0  1  0  0  4]\n",
      " [ 0  0  0  0  4]\n",
      " [ 0  7  0  1  3]\n",
      " [ 0  1  0  2  6]\n",
      " [ 0 31  0  7 12]]\n"
     ]
    }
   ],
   "source": [
    "#Check the counts data\n",
    "print(adata_sub.X[:5, :5])"
   ]
  },
  {
   "cell_type": "markdown",
   "id": "bb668794",
   "metadata": {},
   "source": [
    "# Start R code: QC of log transformation"
   ]
  },
  {
   "cell_type": "code",
   "execution_count": 15,
   "id": "a2639073",
   "metadata": {},
   "outputs": [
    {
     "name": "stdout",
     "output_type": "stream",
     "text": [
      "                  Group Reps Batch\n",
      "Cupr_ctrl_Adams_1  ctrl    1 Adams\n",
      "Cupr_ctrl_Adams_2  ctrl    2 Adams\n",
      "Cupr_ctrl_Shen_2   ctrl    3  Shen\n",
      "Cupr_ctrl_Shen_1   ctrl    4  Shen\n",
      "Cupr_ctrl_Shen_3   ctrl    5  Shen\n",
      "Cupr_5w_1          stim    1 Adams\n",
      "Cupr_5w_2          stim    2 Adams\n",
      "Cupr_4w_3          stim    4  Shen\n",
      "Cupr_4w_2          stim    5  Shen\n",
      "Cupr_4w_4          stim    7  Shen\n",
      "Cupr_4w_1          stim    9  Shen\n"
     ]
    }
   ],
   "source": [
    "%%R -i adata_sub\n",
    "\n",
    "# Concatenate label and cell type for group factor\n",
    "group <- colData(adata_sub)$label #ctrl or stim\n",
    "replicate <- colData(adata_sub)$replicate #replicate number\n",
    "batch <- colData(adata_sub)$batch\n",
    "\n",
    "treatments <- data.frame(\"Group\"=group, \"Reps\"=replicate, \"Batch\"= batch)\n",
    "print(treatments)"
   ]
  },
  {
   "cell_type": "code",
   "execution_count": 16,
   "id": "8176fc6d",
   "metadata": {},
   "outputs": [
    {
     "name": "stdout",
     "output_type": "stream",
     "text": [
      "[1] \"Dimensions before subsetting:\"\n",
      "[1] 16589    11\n",
      "\n",
      "ctrl stim \n",
      "   5    6 \n"
     ]
    }
   ],
   "source": [
    "%%R\n",
    "\n",
    "#Create a DGElist object using the anndata counts in 'X'\n",
    "x <- DGEList(assay(adata_sub, \"X\"), group=colData(adata_sub)$label)\n",
    "\n",
    "samplenames <- colnames(x$counts)\n",
    "\n",
    "print(\"Dimensions before subsetting:\")\n",
    "print(dim(x))\n",
    "\n",
    "# Check counts per group before filtering\n",
    "print(table(x$samples$group))"
   ]
  },
  {
   "cell_type": "code",
   "execution_count": 17,
   "id": "a99fd884",
   "metadata": {},
   "outputs": [
    {
     "name": "stdout",
     "output_type": "stream",
     "text": [
      "[1] \"Expression of Socs3 across the samples:\"\n",
      "Cupr_ctrl_Adams_1 Cupr_ctrl_Adams_2  Cupr_ctrl_Shen_2  Cupr_ctrl_Shen_1 \n",
      "                0                 0                 0                 1 \n",
      " Cupr_ctrl_Shen_3         Cupr_5w_1         Cupr_5w_2         Cupr_4w_3 \n",
      "                5                 1                 1                 3 \n",
      "        Cupr_4w_2         Cupr_4w_4         Cupr_4w_1 \n",
      "              472               216               379 \n"
     ]
    }
   ],
   "source": [
    "%%R\n",
    "\n",
    "# Check if Socs3 is in the rownames of the count matrix\n",
    "gene_name <- \"Socs3\"\n",
    "if(gene_name %in% rownames(x$counts)) {\n",
    "  # Extract expression values for Socs3\n",
    "  socs3_expr <- x$counts[gene_name, ]\n",
    "  \n",
    "  # Print the counts for Socs3 across replicates\n",
    "  print(\"Expression of Socs3 across the samples:\")\n",
    "  print(socs3_expr)\n",
    "} else {\n",
    "  print(\"Gene Socs3 not found in the dataset.\")\n",
    "}"
   ]
  },
  {
   "cell_type": "code",
   "execution_count": 17,
   "id": "cb8c3a65",
   "metadata": {},
   "outputs": [
    {
     "name": "stdout",
     "output_type": "stream",
     "text": [
      " [1] ctrl ctrl ctrl ctrl ctrl stim stim stim stim stim stim\n",
      "Levels: ctrl stim\n"
     ]
    }
   ],
   "source": [
    "%%R\n",
    "\n",
    "cd <- x$samples$group\n",
    "print(cd)"
   ]
  },
  {
   "cell_type": "code",
   "execution_count": 18,
   "id": "292c5bd8",
   "metadata": {},
   "outputs": [
    {
     "name": "stdout",
     "output_type": "stream",
     "text": [
      "   cdctrl cdstim\n",
      "1       1      0\n",
      "2       1      0\n",
      "3       1      0\n",
      "4       1      0\n",
      "5       1      0\n",
      "6       0      1\n",
      "7       0      1\n",
      "8       0      1\n",
      "9       0      1\n",
      "10      0      1\n",
      "11      0      1\n",
      "attr(,\"assign\")\n",
      "[1] 1 1\n",
      "attr(,\"contrasts\")\n",
      "attr(,\"contrasts\")$cd\n",
      "[1] \"contr.treatment\"\n",
      "\n"
     ]
    }
   ],
   "source": [
    "%%R\n",
    "\n",
    "# Adjust for batch-- ie publication in the model matrix\n",
    "design <- model.matrix(~0 + cd)\n",
    "design"
   ]
  },
  {
   "cell_type": "code",
   "execution_count": 19,
   "id": "bd2b3f56",
   "metadata": {},
   "outputs": [
    {
     "name": "stdout",
     "output_type": "stream",
     "text": [
      "[1] 5144   11\n"
     ]
    }
   ],
   "source": [
    "%%R\n",
    "\n",
    "# More strict removal of genes, tried group, pub and batch\n",
    "keep.expr <- filterByExpr(x, design)\n",
    "x2 <- x[keep.expr,, keep.lib.sizes=FALSE]\n",
    "dim(x2)"
   ]
  },
  {
   "cell_type": "code",
   "execution_count": 20,
   "id": "6efb7b9c",
   "metadata": {},
   "outputs": [
    {
     "name": "stdout",
     "output_type": "stream",
     "text": [
      "[1] 6060   11\n"
     ]
    }
   ],
   "source": [
    "%%R\n",
    "\n",
    "## OLD DON\"T USE THIS\n",
    "\n",
    "keep.exprs <- filterByExpr(x, group=batch)\n",
    "b <- x[keep.exprs,, keep.lib.sizes=FALSE]\n",
    "dim(b)"
   ]
  },
  {
   "cell_type": "code",
   "execution_count": 21,
   "id": "eff91fce",
   "metadata": {},
   "outputs": [
    {
     "name": "stdout",
     "output_type": "stream",
     "text": [
      "[1] 0.8287009 0.3065700\n"
     ]
    }
   ],
   "source": [
    "%%R\n",
    "#X is before trimming, Y is after trimming\n",
    "L <- mean(x2$samples$lib.size) * 1e-6\n",
    "M <- median(x2$samples$lib.size) * 1e-6\n",
    "c(L, M)"
   ]
  },
  {
   "cell_type": "code",
   "execution_count": 22,
   "id": "ed52de22",
   "metadata": {},
   "outputs": [
    {
     "name": "stdout",
     "output_type": "stream",
     "text": [
      " [1] 1.2299916 1.3463048 0.8385614 0.9367945 0.8475465 1.2568244 0.9856364\n",
      " [8] 0.7904981 0.9946507 0.9362894 0.9945782\n"
     ]
    }
   ],
   "source": [
    "%%R\n",
    "## Calc norm factors before to normalize library sizes, then cpm divides counts by lib sizes\n",
    "#X is before trimming, Y is after trimming, X2 is also trimmed but differently\n",
    "x2 <- calcNormFactors(x2, method = \"TMM\")\n",
    "x2$samples$norm.factors"
   ]
  },
  {
   "cell_type": "code",
   "execution_count": 23,
   "id": "995a9487",
   "metadata": {},
   "outputs": [],
   "source": [
    "%%R\n",
    "#X2 is the norm lib sizes and trimmed\n",
    "cpm <- edgeR::cpm(x2, log=FALSE, prior.counts=3)\n",
    "lcpm <- edgeR::cpm(x2, log=TRUE, prior.count=3)"
   ]
  },
  {
   "cell_type": "code",
   "execution_count": 24,
   "id": "1c21200d",
   "metadata": {},
   "outputs": [
    {
     "data": {
      "image/png": "[encoded data removed]",
      "text/plain": [
       "<IPython.core.display.Image object>"
      ]
     },
     "metadata": {},
     "output_type": "display_data"
    }
   ],
   "source": [
    "%%R\n",
    "lcpm.cutoff <- log2(10/M + 2/L)\n",
    "library(RColorBrewer)\n",
    "nsamples <- ncol(x2)\n",
    "col <- brewer.pal(nsamples, \"Paired\")\n",
    "\n",
    "par(mfrow=c(1,2))\n",
    "\n",
    "lcpm <- edgeR::cpm(x, log=TRUE)\n",
    "plot(density(lcpm[,1]), col=col[1], lwd=2, ylim=c(0,0.35), las=2, main=\"\", xlab=\"\")\n",
    "title(main=\"A. Raw data\", xlab=\"Log-cpm\")\n",
    "abline(v=lcpm.cutoff, lty=3)\n",
    "for (i in 2:nsamples){\n",
    "  den <- density(lcpm[,i])\n",
    "  lines(den$x, den$y, col=col[i], lwd=2)\n",
    "}\n",
    "legend(\"topright\", samplenames, text.col=col, bty=\"n\")\n",
    "\n",
    "lcpm <- edgeR::cpm(x2, log=TRUE)\n",
    "plot(density(lcpm[,1]), col=col[1], lwd=2, ylim=c(0,0.25), las=2, main=\"\", xlab=\"\")\n",
    "title(main=\"B. Filtered data\", xlab=\"Log-cpm\")\n",
    "abline(v=lcpm.cutoff, lty=3)\n",
    "for (i in 2:nsamples){\n",
    "  den <- density(lcpm[,i])\n",
    "  lines(den$x, den$y, col=col[i], lwd=2)\n",
    "}\n",
    "legend(\"topright\", samplenames, text.col=col, bty=\"n\")"
   ]
  },
  {
   "cell_type": "code",
   "execution_count": 25,
   "id": "0a231181",
   "metadata": {},
   "outputs": [
    {
     "data": {
      "image/png": "[encoded data removed]",
      "text/plain": [
       "<IPython.core.display.Image object>"
      ]
     },
     "metadata": {},
     "output_type": "display_data"
    }
   ],
   "source": [
    "%%R\n",
    "y2 <- x2\n",
    "y2$samples$norm.factors <- 1\n",
    "y2$counts[,1] <- ceiling(y2$counts[,1]*0.05)\n",
    "y2$counts[,2] <- y2$counts[,2]*5\n",
    "\n",
    "par(mfrow=c(1,2))\n",
    "lcpm <- edgeR::cpm(y2, log=TRUE)\n",
    "boxplot(lcpm, las=2, col=col, main=\"\")\n",
    "title(main=\"Unnormalised data\", ylab=\"Log-cpm\")\n",
    "\n",
    "y3 <- calcNormFactors(y2)\n",
    "y3$samples$norm.factors\n",
    "\n",
    "lcpm <- edgeR::cpm(y3, log=TRUE)\n",
    "boxplot(lcpm, las=2, col=col, main=\"\")\n",
    "title(main=\"Normalised data\", ylab=\"Log-cpm\")"
   ]
  },
  {
   "cell_type": "markdown",
   "id": "6ededd16",
   "metadata": {},
   "source": [
    "# Show how log transf + batch removal affects the separation of samples:"
   ]
  },
  {
   "cell_type": "code",
   "execution_count": 26,
   "id": "50f77fc0",
   "metadata": {},
   "outputs": [
    {
     "name": "stdout",
     "output_type": "stream",
     "text": [
      " [1] ctrl ctrl ctrl ctrl ctrl stim stim stim stim stim stim\n",
      "Levels: ctrl stim\n"
     ]
    }
   ],
   "source": [
    "%%R\n",
    "cd <- x2$samples$group\n",
    "print(cd)"
   ]
  },
  {
   "cell_type": "code",
   "execution_count": 27,
   "id": "2e68e94f",
   "metadata": {},
   "outputs": [],
   "source": [
    "%%R\n",
    "#Make new count matrix with log counts and DGE data from X2 (trimmed, normfactors)\n",
    "x3 <- x2\n",
    "x3$counts <- lcpm"
   ]
  },
  {
   "cell_type": "code",
   "execution_count": 28,
   "id": "4f317f45",
   "metadata": {},
   "outputs": [
    {
     "data": {
      "image/png": "[encoded data removed]",
      "text/plain": [
       "<IPython.core.display.Image object>"
      ]
     },
     "metadata": {},
     "output_type": "display_data"
    }
   ],
   "source": [
    "%%R\n",
    "# Assuming 'group' is stored in y$samples dataframe\n",
    "group <- x2$samples$group\n",
    "\n",
    "# Generate a numeric vector from group factors (if not already factor, convert it)\n",
    "group_factor <- as.factor(group)\n",
    "group_colors <- as.numeric(group_factor)  # This converts factors to unique integers\n",
    "\n",
    "# Define a set of colors corresponding to the factors\n",
    "# Example: If you have two groups, you could define two colors\n",
    "colors <- c(\"blue\", \"red\")  # Adjust the number and colors based on your actual groups\n",
    "\n",
    "# Use these colors in your plotMDS\n",
    "plotMDS(x2, col = colors[group_colors])\n",
    "\n",
    "# Adding a legend for clarity\n",
    "legend(\"topright\", legend=levels(group_factor), fill=colors, title=\"Group\")"
   ]
  },
  {
   "cell_type": "code",
   "execution_count": 29,
   "id": "95f36cf5",
   "metadata": {},
   "outputs": [
    {
     "data": {
      "image/png": "[encoded data removed]",
      "text/plain": [
       "<IPython.core.display.Image object>"
      ]
     },
     "metadata": {},
     "output_type": "display_data"
    }
   ],
   "source": [
    "%%R\n",
    "# Generate a numeric vector from group factors (if not already factor, convert it)\n",
    "pub_factor <- as.factor(batch)\n",
    "pub_colors <- as.numeric(pub_factor)  # This converts factors to unique integers\n",
    "\n",
    "# Define a set of colors corresponding to the factors\n",
    "# Example: If you have two groups, you could define two colors\n",
    "colors <- c(\"green\", \"purple\")  # Adjust the number and colors based on your actual groups\n",
    "\n",
    "# Use these colors in your plotMDS\n",
    "plotMDS(x2, col = colors[pub_colors])\n",
    "\n",
    "# Adding a legend for clarity\n",
    "legend(\"topright\", legend=levels(pub_factor), fill=colors, title=\"Group\")"
   ]
  },
  {
   "cell_type": "code",
   "execution_count": 30,
   "id": "5700c6ae",
   "metadata": {},
   "outputs": [
    {
     "name": "stdout",
     "output_type": "stream",
     "text": [
      "                  group lib.size norm.factors\n",
      "Cupr_ctrl_Adams_1  ctrl   140414    1.2299916\n",
      "Cupr_ctrl_Adams_2  ctrl    79981    1.3463048\n",
      "Cupr_ctrl_Shen_2   ctrl   190198    0.8385614\n",
      "Cupr_ctrl_Shen_1   ctrl   129397    0.9367945\n",
      "Cupr_ctrl_Shen_3   ctrl   586626    0.8475465\n",
      "Cupr_5w_1          stim    91930    1.2568244\n",
      "Cupr_5w_2          stim   306570    0.9856364\n",
      "Cupr_4w_3          stim  1444906    0.7904981\n",
      "Cupr_4w_2          stim  2425649    0.9946507\n",
      "Cupr_4w_4          stim  2444723    0.9362894\n",
      "Cupr_4w_1          stim  1275316    0.9945782\n"
     ]
    }
   ],
   "source": [
    "%%R\n",
    "\n",
    "x3$samples"
   ]
  },
  {
   "cell_type": "code",
   "execution_count": 31,
   "id": "a3c165e9",
   "metadata": {},
   "outputs": [
    {
     "name": "stdout",
     "output_type": "stream",
     "text": [
      "   cdctrl cdstim\n",
      "1       1      0\n",
      "2       1      0\n",
      "3       1      0\n",
      "4       1      0\n",
      "5       1      0\n",
      "6       0      1\n",
      "7       0      1\n",
      "8       0      1\n",
      "9       0      1\n",
      "10      0      1\n",
      "11      0      1\n",
      "attr(,\"assign\")\n",
      "[1] 1 1\n",
      "attr(,\"contrasts\")\n",
      "attr(,\"contrasts\")$cd\n",
      "[1] \"contr.treatment\"\n",
      "\n"
     ]
    }
   ],
   "source": [
    "%%R\n",
    "# Adjust for batch-- ie publication in the model matrix\n",
    "design <- model.matrix(~0 + cd)\n",
    "design"
   ]
  },
  {
   "cell_type": "code",
   "execution_count": 32,
   "id": "ebd3bc3a",
   "metadata": {},
   "outputs": [
    {
     "name": "stdout",
     "output_type": "stream",
     "text": [
      "        Contrasts\n",
      "Levels   cdstim - cdctrl\n",
      "  cdctrl              -1\n",
      "  cdstim               1\n"
     ]
    }
   ],
   "source": [
    "%%R\n",
    "contr.matrix <- makeContrasts(cdstim - cdctrl, levels = colnames(design))\n",
    "contr.matrix"
   ]
  },
  {
   "cell_type": "code",
   "execution_count": 33,
   "id": "93bc6589",
   "metadata": {},
   "outputs": [],
   "source": [
    "%%R\n",
    "# Convert to CPM and log2 transformation. \n",
    "logCPM <- edgeR::cpm(x2, log=TRUE, prior.count=3)"
   ]
  },
  {
   "cell_type": "code",
   "execution_count": 34,
   "id": "663eb21e",
   "metadata": {},
   "outputs": [],
   "source": [
    "%%R\n",
    "#Batch is set to the publication of origin to remove effects between sample origins\n",
    "logCPM_no_batch <- removeBatchEffect(logCPM, batch=batch) "
   ]
  },
  {
   "cell_type": "code",
   "execution_count": 35,
   "id": "aca27a7e",
   "metadata": {},
   "outputs": [
    {
     "data": {
      "image/png": "[encoded data removed]",
      "text/plain": [
       "<IPython.core.display.Image object>"
      ]
     },
     "metadata": {},
     "output_type": "display_data"
    }
   ],
   "source": [
    "%%R\n",
    "heatmap(logCPM)"
   ]
  },
  {
   "cell_type": "code",
   "execution_count": 36,
   "id": "ba624f0e",
   "metadata": {},
   "outputs": [
    {
     "data": {
      "image/png": "[encoded data removed]",
      "text/plain": [
       "<IPython.core.display.Image object>"
      ]
     },
     "metadata": {},
     "output_type": "display_data"
    }
   ],
   "source": [
    "%%R\n",
    "heatmap(logCPM_no_batch)"
   ]
  },
  {
   "cell_type": "markdown",
   "id": "c8808abd",
   "metadata": {},
   "source": [
    "# Voom with quality weights"
   ]
  },
  {
   "cell_type": "code",
   "execution_count": 37,
   "id": "4710a80f",
   "metadata": {},
   "outputs": [
    {
     "data": {
      "image/png": "[encoded data removed]",
      "text/plain": [
       "<IPython.core.display.Image object>"
      ]
     },
     "metadata": {},
     "output_type": "display_data"
    }
   ],
   "source": [
    "%%R\n",
    "y <- voomWithQualityWeights(x2$counts, design, plot=TRUE)"
   ]
  },
  {
   "cell_type": "code",
   "execution_count": 38,
   "id": "a72d89df",
   "metadata": {},
   "outputs": [
    {
     "name": "stdout",
     "output_type": "stream",
     "text": [
      "[1] 0.593982\n"
     ]
    }
   ],
   "source": [
    "%%R\n",
    "corfit <- duplicateCorrelation(y, design, block=batch)\n",
    "corfit$consensus.correlation"
   ]
  },
  {
   "cell_type": "code",
   "execution_count": 39,
   "id": "79b4a022",
   "metadata": {},
   "outputs": [
    {
     "data": {
      "image/png": "[encoded data removed]",
      "text/plain": [
       "<IPython.core.display.Image object>"
      ]
     },
     "metadata": {},
     "output_type": "display_data"
    }
   ],
   "source": [
    "%%R\n",
    "y2 <- voomWithQualityWeights(x2$counts, design, plot=TRUE, block=batch, correlation=corfit$consensus)"
   ]
  },
  {
   "cell_type": "code",
   "execution_count": 40,
   "id": "0cfa4152",
   "metadata": {},
   "outputs": [
    {
     "name": "stdout",
     "output_type": "stream",
     "text": [
      "[1] 0.6437415\n"
     ]
    }
   ],
   "source": [
    "%%R\n",
    "corfit2 <- duplicateCorrelation(y2,design,block=batch, weights=y2$targets$sample.weights)\n",
    "corfit2$consensus.correlation"
   ]
  },
  {
   "cell_type": "code",
   "execution_count": 41,
   "id": "33cc64bd",
   "metadata": {},
   "outputs": [],
   "source": [
    "%%R\n",
    "fit <- lmFit(y2, design, block=batch, correlation=corfit2$consensus)"
   ]
  },
  {
   "cell_type": "code",
   "execution_count": 42,
   "id": "c8ae878c",
   "metadata": {},
   "outputs": [
    {
     "data": {
      "image/png": "[encoded data removed]",
      "text/plain": [
       "<IPython.core.display.Image object>"
      ]
     },
     "metadata": {},
     "output_type": "display_data"
    }
   ],
   "source": [
    "%%R\n",
    "contr <- makeContrasts(cdstim - cdctrl, levels = colnames(coef(fit)))\n",
    "tmp <- contrasts.fit(fit, contr)\n",
    "tmp2 <- eBayes(tmp)\n",
    "\n",
    "plotSA(tmp2, xlab = \"Average log-expression\", ylab = \"sqrt(sigma)\", zero.weights = FALSE,\n",
    "       pch = 16, cex = 0.3, col = c(\"black\",\"red\"))"
   ]
  },
  {
   "cell_type": "code",
   "execution_count": 43,
   "id": "de7baa2f",
   "metadata": {},
   "outputs": [
    {
     "name": "stdout",
     "output_type": "stream",
     "text": [
      "           logFC  AveExpr         t      P.Value    adj.P.Val        B\n",
      "Ninj2  -4.607284 6.748263 -26.10690 3.340235e-13 1.718217e-09 20.37725\n",
      "Jph4   -5.682385 3.820698 -23.27667 1.590012e-12 4.089510e-09 18.20506\n",
      "Ptgds  -5.227826 9.807530 -22.13151 3.149304e-12 5.400007e-09 18.46735\n",
      "Sgk2   -7.897536 2.657387 -21.03121 6.272674e-12 8.066659e-09 16.15682\n",
      "Ccp110 -3.185825 6.733613 -19.94428 1.282088e-11 1.319012e-08 16.95061\n",
      "Aspa   -2.423516 8.778888 -18.52569 3.450224e-11 2.379544e-08 16.11846\n",
      "Eml2   -2.883572 6.015184 -18.47499 3.579115e-11 2.379544e-08 16.00131\n",
      "Fa2h   -2.498431 8.359134 -18.42892 3.700690e-11 2.379544e-08 16.04108\n",
      "Kcna1  -2.306344 8.151650 -17.58055 6.943793e-11 3.968763e-08 15.42867\n",
      "Ugt8a  -2.488116 8.611744 -17.25082 8.935406e-11 4.474714e-08 15.18572\n"
     ]
    }
   ],
   "source": [
    "%%R\n",
    "# Retrieve the top results without sorting by p-value directly\n",
    "tt <- topTable(tmp2, sort.by = \"P\", n = Inf)\n",
    "head(tt, 10)"
   ]
  },
  {
   "cell_type": "code",
   "execution_count": 44,
   "id": "d4483518",
   "metadata": {},
   "outputs": [
    {
     "name": "stdout",
     "output_type": "stream",
     "text": [
      "[1] 1485\n"
     ]
    }
   ],
   "source": [
    "%%R\n",
    "length(which(tt$adj.P.Val < 0.05))"
   ]
  },
  {
   "cell_type": "code",
   "execution_count": 45,
   "id": "520ae60f",
   "metadata": {},
   "outputs": [
    {
     "name": "stdout",
     "output_type": "stream",
     "text": [
      "[1] 1016\n"
     ]
    }
   ],
   "source": [
    "%%R\n",
    "# Calculate the number of genes with adj.P.Val < 0.05 and |logFC| > 1\n",
    "significant_genes <- tt[tt$adj.P.Val < 0.05 & abs(tt$logFC) > 1, ]\n",
    "num_significant_genes <- nrow(significant_genes)\n",
    "\n",
    "# Print the number of significant genes\n",
    "print(num_significant_genes)"
   ]
  },
  {
   "cell_type": "code",
   "execution_count": 46,
   "id": "92cb5ace",
   "metadata": {},
   "outputs": [
    {
     "name": "stdout",
     "output_type": "stream",
     "text": [
      "[1] 462\n",
      "          logFC  AveExpr        t      P.Value    adj.P.Val           B\n",
      "Cdkn1a 7.760793 6.789897 7.184025 4.896421e-06 1.123674e-04  4.05369659\n",
      "Syt4   6.488901 5.693444 4.404013 6.112499e-04 4.982994e-03 -0.09463786\n",
      "Nupr1  5.902650 5.055217 7.219935 4.631971e-06 1.083039e-04  4.14594989\n",
      "Tenm3  5.413442 4.725149 6.651018 1.138974e-05 2.197950e-04  3.38038755\n",
      "Epha5  5.356033 5.257956 8.364197 8.598033e-07 2.948552e-05  5.45279277\n",
      "Tenm4  5.197777 6.097571 7.323139 3.952514e-06 9.590439e-05  4.24159748\n"
     ]
    }
   ],
   "source": [
    "%%R\n",
    "# Calculate the number of genes with adj.P.Val < 0.05 and |logFC| > 1\n",
    "genes_up <- tt[tt$adj.P.Val < 0.05 & tt$logFC > 1, ]\n",
    "num_genes_up <- nrow(genes_up)\n",
    "\n",
    "# Print the number of significant genes\n",
    "print(num_genes_up)\n",
    "\n",
    "genes_up_sorted <- genes_up[order(genes_up$logFC, decreasing = TRUE), ]\n",
    "\n",
    "# View the head of the significant genes data frame\n",
    "head(genes_up_sorted)"
   ]
  },
  {
   "cell_type": "code",
   "execution_count": 47,
   "id": "b965a4e4",
   "metadata": {},
   "outputs": [
    {
     "name": "stdout",
     "output_type": "stream",
     "text": [
      "[1] \"Serpina3n is in the index of genes_up_sorted\"\n"
     ]
    }
   ],
   "source": [
    "%%R\n",
    "if ('Serpina3n' %in% rownames(genes_up_sorted)) {\n",
    "    print(\"Serpina3n is in the index of genes_up_sorted\")\n",
    "} else {\n",
    "    print(\"Serpina3n is not in the index of genes_up_sorted\")\n",
    "}"
   ]
  },
  {
   "cell_type": "code",
   "execution_count": 48,
   "id": "1ad28182",
   "metadata": {},
   "outputs": [
    {
     "name": "stdout",
     "output_type": "stream",
     "text": [
      "[1] 554\n",
      "                  logFC  AveExpr          t      P.Value    adj.P.Val         B\n",
      "Sgk2          -7.897536 2.657387 -21.031212 6.272674e-12 8.066659e-09 16.156817\n",
      "Ldlrad4       -7.730829 3.763239 -12.913518 3.986912e-09 5.397020e-07 11.086020\n",
      "Rasgrp3       -7.580945 3.510930 -11.779170 1.293199e-08 1.304356e-06 10.055138\n",
      "Jph4          -5.682385 3.820698 -23.276673 1.590012e-12 4.089510e-09 18.205062\n",
      "5033421B08Rik -5.284706 3.998894  -7.042370 6.105389e-06 1.359572e-04  4.224753\n",
      "Mgat5         -5.278473 4.021399  -6.097662 2.850247e-05 4.581772e-04  2.760473\n"
     ]
    }
   ],
   "source": [
    "%%R\n",
    "# Calculate the number of genes with adj.P.Val < 0.05 and |logFC| > 1\n",
    "genes_down <- tt[tt$adj.P.Val < 0.05 & tt$logFC < -1, ]\n",
    "num_genes_down <- nrow(genes_down)\n",
    "\n",
    "# Print the number of significant genes\n",
    "print(num_genes_down)\n",
    "\n",
    "genes_down_sorted <- genes_down[order(genes_down$logFC, decreasing = FALSE), ]\n",
    "\n",
    "# View the head of the significant genes data frame\n",
    "head(genes_down_sorted)"
   ]
  },
  {
   "cell_type": "markdown",
   "id": "53502379",
   "metadata": {},
   "source": [
    "# Save output- make sure to rename!"
   ]
  },
  {
   "cell_type": "code",
   "execution_count": 49,
   "id": "7612ee92",
   "metadata": {},
   "outputs": [],
   "source": [
    "%%R\n",
    "# Add row names as a new column\n",
    "tt$gene <- rownames(tt)\n",
    "\n",
    "# Optionally reorder or select columns\n",
    "tt <- tt[, c(\"gene\", names(tt)[1:6])]\n",
    "\n",
    "# Write to CSV file\n",
    "write.table(tt, file = \"./files/Cupr_demyel_MOL_AvG_voom_wqw_NEW.csv\", row.names = FALSE, sep = \",\", quote = FALSE)"
   ]
  },
  {
   "cell_type": "markdown",
   "id": "28a5b432",
   "metadata": {},
   "source": [
    "# Do results overlap with LR pairs?"
   ]
  },
  {
   "cell_type": "code",
   "execution_count": 50,
   "id": "acef57a6",
   "metadata": {},
   "outputs": [
    {
     "data": {
      "text/html": [
       "<div>\n",
       "<style scoped>\n",
       "    .dataframe tbody tr th:only-of-type {\n",
       "        vertical-align: middle;\n",
       "    }\n",
       "\n",
       "    .dataframe tbody tr th {\n",
       "        vertical-align: top;\n",
       "    }\n",
       "\n",
       "    .dataframe thead th {\n",
       "        text-align: right;\n",
       "    }\n",
       "</style>\n",
       "<table border=\"1\" class=\"dataframe\">\n",
       "  <thead>\n",
       "    <tr style=\"text-align: right;\">\n",
       "      <th></th>\n",
       "      <th>ligand</th>\n",
       "      <th>receptor</th>\n",
       "    </tr>\n",
       "  </thead>\n",
       "  <tbody>\n",
       "    <tr>\n",
       "      <th>31371</th>\n",
       "      <td>Dll1</td>\n",
       "      <td>Notch1</td>\n",
       "    </tr>\n",
       "    <tr>\n",
       "      <th>31372</th>\n",
       "      <td>Dll1</td>\n",
       "      <td>Notch2</td>\n",
       "    </tr>\n",
       "    <tr>\n",
       "      <th>31373</th>\n",
       "      <td>Dll1</td>\n",
       "      <td>Notch4</td>\n",
       "    </tr>\n",
       "    <tr>\n",
       "      <th>31374</th>\n",
       "      <td>Dll1</td>\n",
       "      <td>Notch3</td>\n",
       "    </tr>\n",
       "    <tr>\n",
       "      <th>31375</th>\n",
       "      <td>Nrg2</td>\n",
       "      <td>Erbb2_Erbb3</td>\n",
       "    </tr>\n",
       "  </tbody>\n",
       "</table>\n",
       "</div>"
      ],
      "text/plain": [
       "      ligand     receptor\n",
       "31371   Dll1       Notch1\n",
       "31372   Dll1       Notch2\n",
       "31373   Dll1       Notch4\n",
       "31374   Dll1       Notch3\n",
       "31375   Nrg2  Erbb2_Erbb3"
      ]
     },
     "execution_count": 50,
     "metadata": {},
     "output_type": "execute_result"
    }
   ],
   "source": [
    "import liana as li\n",
    "lr_pairs = li.resource.select_resource('mouseconsensus')\n",
    "lr_pairs.head()"
   ]
  },
  {
   "cell_type": "code",
   "execution_count": 51,
   "id": "e92840ca",
   "metadata": {},
   "outputs": [
    {
     "data": {
      "text/plain": [
       "(5144, 7)"
      ]
     },
     "execution_count": 51,
     "metadata": {},
     "output_type": "execute_result"
    }
   ],
   "source": [
    "DEG_all = pd.read_csv('./files/Cupr_demyel_MOL_AvG_voom_wqw_NEW.csv', index_col=None)\n",
    "DEG_all.rename(columns={'adj.P.Val': 'Padj'}, inplace=True)\n",
    "DEG_all.rename(columns={'P.Value': 'Pvalue'}, inplace=True)\n",
    "DEG_all.shape"
   ]
  },
  {
   "cell_type": "code",
   "execution_count": 52,
   "id": "d7bd4c79",
   "metadata": {},
   "outputs": [
    {
     "data": {
      "text/plain": [
       "(1016, 7)"
      ]
     },
     "execution_count": 52,
     "metadata": {},
     "output_type": "execute_result"
    }
   ],
   "source": [
    "sigs = DEG_all[(DEG_all.Padj < 0.05) & (abs(DEG_all.logFC) >= 1)]\n",
    "sigs.shape"
   ]
  },
  {
   "cell_type": "code",
   "execution_count": 53,
   "id": "6420343b",
   "metadata": {},
   "outputs": [
    {
     "name": "stdout",
     "output_type": "stream",
     "text": [
      "Total ligand-receptor pairs where both are differentially expressed: 8\n"
     ]
    },
    {
     "data": {
      "text/html": [
       "<div>\n",
       "<style scoped>\n",
       "    .dataframe tbody tr th:only-of-type {\n",
       "        vertical-align: middle;\n",
       "    }\n",
       "\n",
       "    .dataframe tbody tr th {\n",
       "        vertical-align: top;\n",
       "    }\n",
       "\n",
       "    .dataframe thead th {\n",
       "        text-align: right;\n",
       "    }\n",
       "</style>\n",
       "<table border=\"1\" class=\"dataframe\">\n",
       "  <thead>\n",
       "    <tr style=\"text-align: right;\">\n",
       "      <th></th>\n",
       "      <th>ligand</th>\n",
       "      <th>receptor</th>\n",
       "      <th>logFC_ligand</th>\n",
       "      <th>logFC_receptor</th>\n",
       "    </tr>\n",
       "  </thead>\n",
       "  <tbody>\n",
       "    <tr>\n",
       "      <th>7</th>\n",
       "      <td>Vegfa</td>\n",
       "      <td>Cd44</td>\n",
       "      <td>2.759231</td>\n",
       "      <td>2.814452</td>\n",
       "    </tr>\n",
       "    <tr>\n",
       "      <th>6</th>\n",
       "      <td>Hebp1</td>\n",
       "      <td>Grm7</td>\n",
       "      <td>-1.094919</td>\n",
       "      <td>-2.155399</td>\n",
       "    </tr>\n",
       "    <tr>\n",
       "      <th>5</th>\n",
       "      <td>Il18</td>\n",
       "      <td>Il1rapl1</td>\n",
       "      <td>-1.563539</td>\n",
       "      <td>-1.156274</td>\n",
       "    </tr>\n",
       "    <tr>\n",
       "      <th>0</th>\n",
       "      <td>Sema4d</td>\n",
       "      <td>Plxnb3</td>\n",
       "      <td>-1.712876</td>\n",
       "      <td>-2.063524</td>\n",
       "    </tr>\n",
       "    <tr>\n",
       "      <th>3</th>\n",
       "      <td>Fgf1</td>\n",
       "      <td>Cd44</td>\n",
       "      <td>-1.971690</td>\n",
       "      <td>2.814452</td>\n",
       "    </tr>\n",
       "    <tr>\n",
       "      <th>4</th>\n",
       "      <td>Fgf1</td>\n",
       "      <td>Fgfr2</td>\n",
       "      <td>-1.971690</td>\n",
       "      <td>-1.388958</td>\n",
       "    </tr>\n",
       "    <tr>\n",
       "      <th>2</th>\n",
       "      <td>Lama2</td>\n",
       "      <td>Cd44</td>\n",
       "      <td>-2.140248</td>\n",
       "      <td>2.814452</td>\n",
       "    </tr>\n",
       "    <tr>\n",
       "      <th>1</th>\n",
       "      <td>Lama2</td>\n",
       "      <td>Rpsa</td>\n",
       "      <td>-2.140248</td>\n",
       "      <td>1.869287</td>\n",
       "    </tr>\n",
       "  </tbody>\n",
       "</table>\n",
       "</div>"
      ],
      "text/plain": [
       "   ligand  receptor  logFC_ligand  logFC_receptor\n",
       "7   Vegfa      Cd44      2.759231        2.814452\n",
       "6   Hebp1      Grm7     -1.094919       -2.155399\n",
       "5    Il18  Il1rapl1     -1.563539       -1.156274\n",
       "0  Sema4d    Plxnb3     -1.712876       -2.063524\n",
       "3    Fgf1      Cd44     -1.971690        2.814452\n",
       "4    Fgf1     Fgfr2     -1.971690       -1.388958\n",
       "2   Lama2      Cd44     -2.140248        2.814452\n",
       "1   Lama2      Rpsa     -2.140248        1.869287"
      ]
     },
     "execution_count": 53,
     "metadata": {},
     "output_type": "execute_result"
    }
   ],
   "source": [
    "# Step 1: Convert ligands and receptors to a list\n",
    "ligands = lr_pairs['ligand'].tolist()\n",
    "receptors = lr_pairs['receptor'].tolist()\n",
    "\n",
    "# Step 2: Filter DEGs from 'sigs'\n",
    "degs = set(sigs['gene'])  # Create a set for faster lookup\n",
    "\n",
    "# Step 3: Check which ligand-receptor pairs have both ligands and receptors as DEGs\n",
    "matched_pairs = lr_pairs[(lr_pairs['ligand'].isin(degs)) & (lr_pairs['receptor'].isin(degs))]\n",
    "\n",
    "# Step 4: Count the matched pairs\n",
    "num_matched_pairs = matched_pairs.shape[0]\n",
    "\n",
    "# Output the result\n",
    "print(f'Total ligand-receptor pairs where both are differentially expressed: {num_matched_pairs}')\n",
    "\n",
    "# Step 5: Optional - view the matched pairs with direction of change\n",
    "matched_pairs_with_logFC = matched_pairs.merge(sigs[['gene', 'logFC']], left_on='ligand', right_on='gene', how='left')\\\n",
    "                                        .merge(sigs[['gene', 'logFC']], left_on='receptor', right_on='gene', how='left', suffixes=('_ligand', '_receptor'))\n",
    "\n",
    "# Sorting the table by 'logFC_ligand' in descending order\n",
    "sorted_table = matched_pairs_with_logFC.sort_values(by='logFC_ligand', ascending=False)\n",
    "\n",
    "# Displaying the sorted table with the selected columns\n",
    "sorted_table[['ligand', 'receptor', 'logFC_ligand', 'logFC_receptor']]"
   ]
  },
  {
   "cell_type": "code",
   "execution_count": 54,
   "id": "d717a90e",
   "metadata": {},
   "outputs": [
    {
     "data": {
      "text/plain": [
       "(462, 7)"
      ]
     },
     "execution_count": 54,
     "metadata": {},
     "output_type": "execute_result"
    }
   ],
   "source": [
    "sigs_up = DEG_all[(DEG_all.Padj < 0.05) & (DEG_all.logFC >= 1)]\n",
    "sigs_up.shape"
   ]
  },
  {
   "cell_type": "code",
   "execution_count": 55,
   "id": "b7aee053",
   "metadata": {},
   "outputs": [
    {
     "name": "stdout",
     "output_type": "stream",
     "text": [
      "Total ligand-receptor pairs where both are differentially expressed: 1\n"
     ]
    },
    {
     "data": {
      "text/html": [
       "<div>\n",
       "<style scoped>\n",
       "    .dataframe tbody tr th:only-of-type {\n",
       "        vertical-align: middle;\n",
       "    }\n",
       "\n",
       "    .dataframe tbody tr th {\n",
       "        vertical-align: top;\n",
       "    }\n",
       "\n",
       "    .dataframe thead th {\n",
       "        text-align: right;\n",
       "    }\n",
       "</style>\n",
       "<table border=\"1\" class=\"dataframe\">\n",
       "  <thead>\n",
       "    <tr style=\"text-align: right;\">\n",
       "      <th></th>\n",
       "      <th>ligand</th>\n",
       "      <th>receptor</th>\n",
       "      <th>logFC_ligand</th>\n",
       "      <th>logFC_receptor</th>\n",
       "    </tr>\n",
       "  </thead>\n",
       "  <tbody>\n",
       "    <tr>\n",
       "      <th>0</th>\n",
       "      <td>Vegfa</td>\n",
       "      <td>Cd44</td>\n",
       "      <td>2.759231</td>\n",
       "      <td>2.814452</td>\n",
       "    </tr>\n",
       "  </tbody>\n",
       "</table>\n",
       "</div>"
      ],
      "text/plain": [
       "  ligand receptor  logFC_ligand  logFC_receptor\n",
       "0  Vegfa     Cd44      2.759231        2.814452"
      ]
     },
     "execution_count": 55,
     "metadata": {},
     "output_type": "execute_result"
    }
   ],
   "source": [
    "# Step 1: Convert ligands and receptors to a list\n",
    "ligands = lr_pairs['ligand'].tolist()\n",
    "receptors = lr_pairs['receptor'].tolist()\n",
    "\n",
    "# Step 2: Filter DEGs from 'sigs'\n",
    "degs = set(sigs_up['gene'])  # Create a set for faster lookup\n",
    "\n",
    "# Step 3: Check which ligand-receptor pairs have both ligands and receptors as DEGs\n",
    "matched_pairs = lr_pairs[(lr_pairs['ligand'].isin(degs)) & (lr_pairs['receptor'].isin(degs))]\n",
    "\n",
    "# Step 4: Count the matched pairs\n",
    "num_matched_pairs = matched_pairs.shape[0]\n",
    "\n",
    "# Output the result\n",
    "print(f'Total ligand-receptor pairs where both are differentially expressed: {num_matched_pairs}')\n",
    "\n",
    "# Step 5: Optional - view the matched pairs with direction of change\n",
    "matched_pairs_with_logFC = matched_pairs.merge(sigs[['gene', 'logFC']], left_on='ligand', right_on='gene', how='left')\\\n",
    "                                        .merge(sigs[['gene', 'logFC']], left_on='receptor', right_on='gene', how='left', suffixes=('_ligand', '_receptor'))\n",
    "\n",
    "# Sorting the table by 'logFC_ligand' in descending order\n",
    "sorted_table = matched_pairs_with_logFC.sort_values(by='logFC_ligand', ascending=False)\n",
    "\n",
    "# Displaying the sorted table with the selected columns\n",
    "sorted_table[['ligand', 'receptor', 'logFC_ligand', 'logFC_receptor']]"
   ]
  },
  {
   "cell_type": "code",
   "execution_count": 56,
   "id": "9f8b580d",
   "metadata": {},
   "outputs": [
    {
     "data": {
      "text/plain": [
       "(554, 7)"
      ]
     },
     "execution_count": 56,
     "metadata": {},
     "output_type": "execute_result"
    }
   ],
   "source": [
    "sigs_down = DEG_all[(DEG_all.Padj < 0.05) & (DEG_all.logFC <= -1)]\n",
    "sigs_down.shape"
   ]
  },
  {
   "cell_type": "code",
   "execution_count": 57,
   "id": "cf742bdf",
   "metadata": {},
   "outputs": [
    {
     "name": "stdout",
     "output_type": "stream",
     "text": [
      "Total ligand-receptor pairs where both are differentially expressed: 4\n"
     ]
    },
    {
     "data": {
      "text/html": [
       "<div>\n",
       "<style scoped>\n",
       "    .dataframe tbody tr th:only-of-type {\n",
       "        vertical-align: middle;\n",
       "    }\n",
       "\n",
       "    .dataframe tbody tr th {\n",
       "        vertical-align: top;\n",
       "    }\n",
       "\n",
       "    .dataframe thead th {\n",
       "        text-align: right;\n",
       "    }\n",
       "</style>\n",
       "<table border=\"1\" class=\"dataframe\">\n",
       "  <thead>\n",
       "    <tr style=\"text-align: right;\">\n",
       "      <th></th>\n",
       "      <th>ligand</th>\n",
       "      <th>receptor</th>\n",
       "      <th>logFC_ligand</th>\n",
       "      <th>logFC_receptor</th>\n",
       "    </tr>\n",
       "  </thead>\n",
       "  <tbody>\n",
       "    <tr>\n",
       "      <th>3</th>\n",
       "      <td>Hebp1</td>\n",
       "      <td>Grm7</td>\n",
       "      <td>-1.094919</td>\n",
       "      <td>-2.155399</td>\n",
       "    </tr>\n",
       "    <tr>\n",
       "      <th>2</th>\n",
       "      <td>Il18</td>\n",
       "      <td>Il1rapl1</td>\n",
       "      <td>-1.563539</td>\n",
       "      <td>-1.156274</td>\n",
       "    </tr>\n",
       "    <tr>\n",
       "      <th>0</th>\n",
       "      <td>Sema4d</td>\n",
       "      <td>Plxnb3</td>\n",
       "      <td>-1.712876</td>\n",
       "      <td>-2.063524</td>\n",
       "    </tr>\n",
       "    <tr>\n",
       "      <th>1</th>\n",
       "      <td>Fgf1</td>\n",
       "      <td>Fgfr2</td>\n",
       "      <td>-1.971690</td>\n",
       "      <td>-1.388958</td>\n",
       "    </tr>\n",
       "  </tbody>\n",
       "</table>\n",
       "</div>"
      ],
      "text/plain": [
       "   ligand  receptor  logFC_ligand  logFC_receptor\n",
       "3   Hebp1      Grm7     -1.094919       -2.155399\n",
       "2    Il18  Il1rapl1     -1.563539       -1.156274\n",
       "0  Sema4d    Plxnb3     -1.712876       -2.063524\n",
       "1    Fgf1     Fgfr2     -1.971690       -1.388958"
      ]
     },
     "execution_count": 57,
     "metadata": {},
     "output_type": "execute_result"
    }
   ],
   "source": [
    "# Step 1: Convert ligands and receptors to a list\n",
    "ligands = lr_pairs['ligand'].tolist()\n",
    "receptors = lr_pairs['receptor'].tolist()\n",
    "\n",
    "# Step 2: Filter DEGs from 'sigs'\n",
    "degs = set(sigs_down['gene'])  # Create a set for faster lookup\n",
    "\n",
    "# Step 3: Check which ligand-receptor pairs have both ligands and receptors as DEGs\n",
    "matched_pairs = lr_pairs[(lr_pairs['ligand'].isin(degs)) & (lr_pairs['receptor'].isin(degs))]\n",
    "\n",
    "# Step 4: Count the matched pairs\n",
    "num_matched_pairs = matched_pairs.shape[0]\n",
    "\n",
    "# Output the result\n",
    "print(f'Total ligand-receptor pairs where both are differentially expressed: {num_matched_pairs}')\n",
    "\n",
    "# Step 5: Optional - view the matched pairs with direction of change\n",
    "matched_pairs_with_logFC = matched_pairs.merge(sigs[['gene', 'logFC']], left_on='ligand', right_on='gene', how='left')\\\n",
    "                                        .merge(sigs[['gene', 'logFC']], left_on='receptor', right_on='gene', how='left', suffixes=('_ligand', '_receptor'))\n",
    "\n",
    "# Sorting the table by 'logFC_ligand' in descending order\n",
    "sorted_table = matched_pairs_with_logFC.sort_values(by='logFC_ligand', ascending=False)\n",
    "\n",
    "# Displaying the sorted table with the selected columns\n",
    "sorted_table[['ligand', 'receptor', 'logFC_ligand', 'logFC_receptor']]"
   ]
  },
  {
   "cell_type": "code",
   "execution_count": 58,
   "id": "b9bec6a3",
   "metadata": {},
   "outputs": [
    {
     "data": {
      "text/plain": [
       "(462, 7)"
      ]
     },
     "execution_count": 58,
     "metadata": {},
     "output_type": "execute_result"
    }
   ],
   "source": [
    "sigs_up = DEG_all[(DEG_all.Padj < 0.05) & (DEG_all.logFC >= 1)]\n",
    "sigs_up.shape"
   ]
  },
  {
   "cell_type": "code",
   "execution_count": 59,
   "id": "0577d34d",
   "metadata": {},
   "outputs": [
    {
     "name": "stdout",
     "output_type": "stream",
     "text": [
      "Total ligand-receptor pairs where both are differentially expressed: 1\n"
     ]
    },
    {
     "data": {
      "text/html": [
       "<div>\n",
       "<style scoped>\n",
       "    .dataframe tbody tr th:only-of-type {\n",
       "        vertical-align: middle;\n",
       "    }\n",
       "\n",
       "    .dataframe tbody tr th {\n",
       "        vertical-align: top;\n",
       "    }\n",
       "\n",
       "    .dataframe thead th {\n",
       "        text-align: right;\n",
       "    }\n",
       "</style>\n",
       "<table border=\"1\" class=\"dataframe\">\n",
       "  <thead>\n",
       "    <tr style=\"text-align: right;\">\n",
       "      <th></th>\n",
       "      <th>ligand</th>\n",
       "      <th>receptor</th>\n",
       "      <th>logFC_ligand</th>\n",
       "      <th>logFC_receptor</th>\n",
       "    </tr>\n",
       "  </thead>\n",
       "  <tbody>\n",
       "    <tr>\n",
       "      <th>0</th>\n",
       "      <td>Vegfa</td>\n",
       "      <td>Cd44</td>\n",
       "      <td>2.759231</td>\n",
       "      <td>2.814452</td>\n",
       "    </tr>\n",
       "  </tbody>\n",
       "</table>\n",
       "</div>"
      ],
      "text/plain": [
       "  ligand receptor  logFC_ligand  logFC_receptor\n",
       "0  Vegfa     Cd44      2.759231        2.814452"
      ]
     },
     "execution_count": 59,
     "metadata": {},
     "output_type": "execute_result"
    }
   ],
   "source": [
    "# Step 1: Convert ligands and receptors to a list\n",
    "ligands = lr_pairs['ligand'].tolist()\n",
    "receptors = lr_pairs['receptor'].tolist()\n",
    "\n",
    "# Step 2: Filter DEGs from 'sigs'\n",
    "degs = set(sigs_up['gene'])  # Create a set for faster lookup\n",
    "\n",
    "# Step 3: Check which ligand-receptor pairs have both ligands and receptors as DEGs\n",
    "matched_pairs = lr_pairs[(lr_pairs['ligand'].isin(degs)) & (lr_pairs['receptor'].isin(degs))]\n",
    "\n",
    "# Step 4: Count the matched pairs\n",
    "num_matched_pairs = matched_pairs.shape[0]\n",
    "\n",
    "# Output the result\n",
    "print(f'Total ligand-receptor pairs where both are differentially expressed: {num_matched_pairs}')\n",
    "\n",
    "# Step 5: Optional - view the matched pairs with direction of change\n",
    "matched_pairs_with_logFC = matched_pairs.merge(sigs[['gene', 'logFC']], left_on='ligand', right_on='gene', how='left')\\\n",
    "                                        .merge(sigs[['gene', 'logFC']], left_on='receptor', right_on='gene', how='left', suffixes=('_ligand', '_receptor'))\n",
    "\n",
    "# Sorting the table by 'logFC_ligand' in descending order\n",
    "sorted_table = matched_pairs_with_logFC.sort_values(by='logFC_ligand', ascending=False)\n",
    "\n",
    "# Displaying the sorted table with the selected columns\n",
    "sorted_table[['ligand', 'receptor', 'logFC_ligand', 'logFC_receptor']]"
   ]
  },
  {
   "cell_type": "code",
   "execution_count": null,
   "id": "dfeb5ffe",
   "metadata": {},
   "outputs": [],
   "source": [
    "sorted_table[['ligand', 'receptor', 'logFC_ligand', 'logFC_receptor']].to_csv('./files/LR_Cupr_demyel_MOL_AvG.csv', sep='\\t', index=False)"
   ]
  },
  {
   "cell_type": "code",
   "execution_count": null,
   "id": "d71c2966",
   "metadata": {},
   "outputs": [],
   "source": []
  }
 ],
 "metadata": {
  "kernelspec": {
   "display_name": "Python 3 (ipykernel)",
   "language": "python",
   "name": "python3"
  },
  "language_info": {
   "codemirror_mode": {
    "name": "ipython",
    "version": 3
   },
   "file_extension": ".py",
   "mimetype": "text/x-python",
   "name": "python",
   "nbconvert_exporter": "python",
   "pygments_lexer": "ipython3",
   "version": "3.11.11"
  }
 },
 "nbformat": 4,
 "nbformat_minor": 5
}

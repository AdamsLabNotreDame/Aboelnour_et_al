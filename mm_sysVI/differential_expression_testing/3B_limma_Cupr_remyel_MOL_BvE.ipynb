{
 "cells": [
  {
   "cell_type": "code",
   "execution_count": 1,
   "id": "a4107cb9",
   "metadata": {},
   "outputs": [],
   "source": [
    "import warnings\n",
    "\n",
    "warnings.filterwarnings(\"ignore\")\n",
    "\n",
    "import matplotlib.pyplot as plt\n",
    "import seaborn as sns\n",
    "import scanpy as sc\n",
    "import pandas as pd\n",
    "import numpy as np\n",
    "import random\n",
    "import sc_toolbox\n",
    "import pertpy \n",
    "\n",
    "import rpy2.rinterface_lib.callbacks\n",
    "import anndata2ri\n",
    "import logging\n",
    "\n",
    "from rpy2.robjects import pandas2ri\n",
    "from rpy2.robjects import r\n",
    "\n",
    "sc.settings.verbosity = 0\n",
    "rpy2.rinterface_lib.callbacks.logger.setLevel(logging.ERROR)\n",
    "\n",
    "pandas2ri.activate()\n",
    "anndata2ri.activate()\n",
    "\n",
    "%load_ext rpy2.ipython"
   ]
  },
  {
   "cell_type": "code",
   "execution_count": 2,
   "id": "cd2ae648",
   "metadata": {},
   "outputs": [
    {
     "data": {
      "text/plain": [
       "Loading required package: limma\n"
      ]
     },
     "metadata": {},
     "output_type": "display_data"
    }
   ],
   "source": [
    "%%R\n",
    "library(edgeR)"
   ]
  },
  {
   "cell_type": "markdown",
   "id": "f783decd",
   "metadata": {},
   "source": [
    "# Running on XX cell types"
   ]
  },
  {
   "cell_type": "code",
   "execution_count": 3,
   "id": "1c0c911f",
   "metadata": {},
   "outputs": [
    {
     "data": {
      "text/plain": [
       "AnnData object with n_obs × n_vars = 104 × 16589\n",
       "    obs: 'publication', 'label', 'cell_type', 'replicate_cat', 'sample', 'sample_rep', 'batch', 'lib_size', 'log_lib_size', 'replicate'\n",
       "    uns: 'cell_type_colors', 'label_colors', 'log1p', 'pca', 'publication_colors', 'replicate_cat_colors', 'sample_colors', 'sample_rep_colors'\n",
       "    obsm: 'X_pca'\n",
       "    varm: 'PCs'\n",
       "    layers: 'counts'"
      ]
     },
     "execution_count": 3,
     "metadata": {},
     "output_type": "execute_result"
    }
   ],
   "source": [
    "adata_pb = sc.read('./pb_adata_CUPR_sep.h5ad')\n",
    "adata_pb"
   ]
  },
  {
   "cell_type": "code",
   "execution_count": 4,
   "id": "9c81bbd6",
   "metadata": {},
   "outputs": [
    {
     "data": {
      "text/html": [
       "<div>\n",
       "<style scoped>\n",
       "    .dataframe tbody tr th:only-of-type {\n",
       "        vertical-align: middle;\n",
       "    }\n",
       "\n",
       "    .dataframe tbody tr th {\n",
       "        vertical-align: top;\n",
       "    }\n",
       "\n",
       "    .dataframe thead th {\n",
       "        text-align: right;\n",
       "    }\n",
       "</style>\n",
       "<table border=\"1\" class=\"dataframe\">\n",
       "  <thead>\n",
       "    <tr style=\"text-align: right;\">\n",
       "      <th>label</th>\n",
       "      <th>ctrl</th>\n",
       "      <th>stim</th>\n",
       "    </tr>\n",
       "    <tr>\n",
       "      <th>cell_type</th>\n",
       "      <th></th>\n",
       "      <th></th>\n",
       "    </tr>\n",
       "  </thead>\n",
       "  <tbody>\n",
       "    <tr>\n",
       "      <th>COPs</th>\n",
       "      <td>0</td>\n",
       "      <td>2</td>\n",
       "    </tr>\n",
       "    <tr>\n",
       "      <th>MFOLs</th>\n",
       "      <td>4</td>\n",
       "      <td>6</td>\n",
       "    </tr>\n",
       "    <tr>\n",
       "      <th>MOL_A</th>\n",
       "      <td>5</td>\n",
       "      <td>8</td>\n",
       "    </tr>\n",
       "    <tr>\n",
       "      <th>MOL_B</th>\n",
       "      <td>5</td>\n",
       "      <td>8</td>\n",
       "    </tr>\n",
       "    <tr>\n",
       "      <th>MOL_C</th>\n",
       "      <td>5</td>\n",
       "      <td>9</td>\n",
       "    </tr>\n",
       "    <tr>\n",
       "      <th>MOL_D</th>\n",
       "      <td>5</td>\n",
       "      <td>4</td>\n",
       "    </tr>\n",
       "    <tr>\n",
       "      <th>MOL_E</th>\n",
       "      <td>3</td>\n",
       "      <td>7</td>\n",
       "    </tr>\n",
       "    <tr>\n",
       "      <th>MOL_F</th>\n",
       "      <td>3</td>\n",
       "      <td>6</td>\n",
       "    </tr>\n",
       "    <tr>\n",
       "      <th>MOL_G</th>\n",
       "      <td>4</td>\n",
       "      <td>7</td>\n",
       "    </tr>\n",
       "    <tr>\n",
       "      <th>NFOLs</th>\n",
       "      <td>2</td>\n",
       "      <td>3</td>\n",
       "    </tr>\n",
       "    <tr>\n",
       "      <th>OPCs</th>\n",
       "      <td>3</td>\n",
       "      <td>3</td>\n",
       "    </tr>\n",
       "    <tr>\n",
       "      <th>cycl_OPCs</th>\n",
       "      <td>0</td>\n",
       "      <td>2</td>\n",
       "    </tr>\n",
       "  </tbody>\n",
       "</table>\n",
       "</div>"
      ],
      "text/plain": [
       "label      ctrl  stim\n",
       "cell_type            \n",
       "COPs          0     2\n",
       "MFOLs         4     6\n",
       "MOL_A         5     8\n",
       "MOL_B         5     8\n",
       "MOL_C         5     9\n",
       "MOL_D         5     4\n",
       "MOL_E         3     7\n",
       "MOL_F         3     6\n",
       "MOL_G         4     7\n",
       "NFOLs         2     3\n",
       "OPCs          3     3\n",
       "cycl_OPCs     0     2"
      ]
     },
     "execution_count": 4,
     "metadata": {},
     "output_type": "execute_result"
    }
   ],
   "source": [
    "# Extract the data as a pandas DataFrame\n",
    "df = adata_pb.obs[['cell_type', 'label']]\n",
    "\n",
    "# Create a summary table\n",
    "summary_table = df.groupby(['cell_type', 'label']).size().unstack(fill_value=0)\n",
    "summary_table"
   ]
  },
  {
   "cell_type": "code",
   "execution_count": 5,
   "id": "9e5a3fe0",
   "metadata": {},
   "outputs": [
    {
     "name": "stdout",
     "output_type": "stream",
     "text": [
      "Dimensions of adata_sub: (23, 16589)\n"
     ]
    }
   ],
   "source": [
    "adata_sub= adata_pb[np.in1d(adata_pb.obs['cell_type'], \n",
    "                           ['MOL_B', 'MOL_E'])].copy()\n",
    "\n",
    "print(\"Dimensions of adata_sub:\", adata_sub.shape)"
   ]
  },
  {
   "cell_type": "code",
   "execution_count": 6,
   "id": "860aa9d1",
   "metadata": {},
   "outputs": [],
   "source": [
    "pub_map = {\n",
    "    '(this study)': 'Adams',\n",
    "    'Shen et al. 2021': 'Shen'\n",
    "}\n",
    "\n",
    "# Update the 'treatment_meta' column based on the mapping\n",
    "adata_sub.obs['batch'] = adata_sub.obs['publication'].map(pub_map)"
   ]
  },
  {
   "cell_type": "code",
   "execution_count": 7,
   "id": "5c9e6461",
   "metadata": {},
   "outputs": [],
   "source": [
    "# Concatenate 'individual_lesion_condition' and 'replicate' to create 'sample'\n",
    "adata_sub.obs['cell_type_sample'] = adata_sub.obs['cell_type'].astype(str) + '_' + adata_sub.obs['sample_rep'].astype(str)"
   ]
  },
  {
   "cell_type": "code",
   "execution_count": 8,
   "id": "5df79ed2",
   "metadata": {},
   "outputs": [
    {
     "data": {
      "text/html": [
       "<div>\n",
       "<style scoped>\n",
       "    .dataframe tbody tr th:only-of-type {\n",
       "        vertical-align: middle;\n",
       "    }\n",
       "\n",
       "    .dataframe tbody tr th {\n",
       "        vertical-align: top;\n",
       "    }\n",
       "\n",
       "    .dataframe thead th {\n",
       "        text-align: right;\n",
       "    }\n",
       "</style>\n",
       "<table border=\"1\" class=\"dataframe\">\n",
       "  <thead>\n",
       "    <tr style=\"text-align: right;\">\n",
       "      <th></th>\n",
       "      <th>publication</th>\n",
       "      <th>label</th>\n",
       "      <th>cell_type</th>\n",
       "      <th>replicate_cat</th>\n",
       "      <th>sample</th>\n",
       "      <th>sample_rep</th>\n",
       "      <th>batch</th>\n",
       "      <th>lib_size</th>\n",
       "      <th>log_lib_size</th>\n",
       "      <th>replicate</th>\n",
       "      <th>cell_type_sample</th>\n",
       "    </tr>\n",
       "  </thead>\n",
       "  <tbody>\n",
       "    <tr>\n",
       "      <th>donor_ctrl_1_0-1-0-0-0-0-0</th>\n",
       "      <td>(this study)</td>\n",
       "      <td>ctrl</td>\n",
       "      <td>MOL_B</td>\n",
       "      <td>1</td>\n",
       "      <td>ctrl_1</td>\n",
       "      <td>Cupr_ctrl_Adams_1</td>\n",
       "      <td>Adams</td>\n",
       "      <td>294634</td>\n",
       "      <td>12.593489</td>\n",
       "      <td>1</td>\n",
       "      <td>MOL_B_Cupr_ctrl_Adams_1</td>\n",
       "    </tr>\n",
       "    <tr>\n",
       "      <th>donor_ctrl_2_0-1-0-0-0-0-0</th>\n",
       "      <td>(this study)</td>\n",
       "      <td>ctrl</td>\n",
       "      <td>MOL_B</td>\n",
       "      <td>2</td>\n",
       "      <td>ctrl_2</td>\n",
       "      <td>Cupr_ctrl_Adams_2</td>\n",
       "      <td>Adams</td>\n",
       "      <td>102262</td>\n",
       "      <td>11.535293</td>\n",
       "      <td>2</td>\n",
       "      <td>MOL_B_Cupr_ctrl_Adams_2</td>\n",
       "    </tr>\n",
       "    <tr>\n",
       "      <th>donor_ctrl_3_0-1-0-0-0-0-0</th>\n",
       "      <td>Shen et al. 2021</td>\n",
       "      <td>ctrl</td>\n",
       "      <td>MOL_B</td>\n",
       "      <td>3</td>\n",
       "      <td>ctrl_3</td>\n",
       "      <td>Cupr_ctrl_Shen_2</td>\n",
       "      <td>Shen</td>\n",
       "      <td>3475471</td>\n",
       "      <td>15.061241</td>\n",
       "      <td>3</td>\n",
       "      <td>MOL_B_Cupr_ctrl_Shen_2</td>\n",
       "    </tr>\n",
       "    <tr>\n",
       "      <th>donor_ctrl_4_0-1-0-0-0-0-0</th>\n",
       "      <td>Shen et al. 2021</td>\n",
       "      <td>ctrl</td>\n",
       "      <td>MOL_B</td>\n",
       "      <td>4</td>\n",
       "      <td>ctrl_4</td>\n",
       "      <td>Cupr_ctrl_Shen_1</td>\n",
       "      <td>Shen</td>\n",
       "      <td>5487794</td>\n",
       "      <td>15.518037</td>\n",
       "      <td>4</td>\n",
       "      <td>MOL_B_Cupr_ctrl_Shen_1</td>\n",
       "    </tr>\n",
       "    <tr>\n",
       "      <th>donor_ctrl_5_0-1-0-0-0-0-0</th>\n",
       "      <td>Shen et al. 2021</td>\n",
       "      <td>ctrl</td>\n",
       "      <td>MOL_B</td>\n",
       "      <td>5</td>\n",
       "      <td>ctrl_5</td>\n",
       "      <td>Cupr_ctrl_Shen_3</td>\n",
       "      <td>Shen</td>\n",
       "      <td>4794831</td>\n",
       "      <td>15.383049</td>\n",
       "      <td>5</td>\n",
       "      <td>MOL_B_Cupr_ctrl_Shen_3</td>\n",
       "    </tr>\n",
       "  </tbody>\n",
       "</table>\n",
       "</div>"
      ],
      "text/plain": [
       "                                 publication label cell_type replicate_cat  \\\n",
       "donor_ctrl_1_0-1-0-0-0-0-0      (this study)  ctrl     MOL_B             1   \n",
       "donor_ctrl_2_0-1-0-0-0-0-0      (this study)  ctrl     MOL_B             2   \n",
       "donor_ctrl_3_0-1-0-0-0-0-0  Shen et al. 2021  ctrl     MOL_B             3   \n",
       "donor_ctrl_4_0-1-0-0-0-0-0  Shen et al. 2021  ctrl     MOL_B             4   \n",
       "donor_ctrl_5_0-1-0-0-0-0-0  Shen et al. 2021  ctrl     MOL_B             5   \n",
       "\n",
       "                            sample         sample_rep  batch  lib_size  \\\n",
       "donor_ctrl_1_0-1-0-0-0-0-0  ctrl_1  Cupr_ctrl_Adams_1  Adams    294634   \n",
       "donor_ctrl_2_0-1-0-0-0-0-0  ctrl_2  Cupr_ctrl_Adams_2  Adams    102262   \n",
       "donor_ctrl_3_0-1-0-0-0-0-0  ctrl_3   Cupr_ctrl_Shen_2   Shen   3475471   \n",
       "donor_ctrl_4_0-1-0-0-0-0-0  ctrl_4   Cupr_ctrl_Shen_1   Shen   5487794   \n",
       "donor_ctrl_5_0-1-0-0-0-0-0  ctrl_5   Cupr_ctrl_Shen_3   Shen   4794831   \n",
       "\n",
       "                            log_lib_size replicate         cell_type_sample  \n",
       "donor_ctrl_1_0-1-0-0-0-0-0     12.593489         1  MOL_B_Cupr_ctrl_Adams_1  \n",
       "donor_ctrl_2_0-1-0-0-0-0-0     11.535293         2  MOL_B_Cupr_ctrl_Adams_2  \n",
       "donor_ctrl_3_0-1-0-0-0-0-0     15.061241         3   MOL_B_Cupr_ctrl_Shen_2  \n",
       "donor_ctrl_4_0-1-0-0-0-0-0     15.518037         4   MOL_B_Cupr_ctrl_Shen_1  \n",
       "donor_ctrl_5_0-1-0-0-0-0-0     15.383049         5   MOL_B_Cupr_ctrl_Shen_3  "
      ]
     },
     "execution_count": 8,
     "metadata": {},
     "output_type": "execute_result"
    }
   ],
   "source": [
    "adata_sub.obs[:5]"
   ]
  },
  {
   "cell_type": "markdown",
   "id": "e2f53bd1",
   "metadata": {},
   "source": [
    "# Subset for demyelination and remyelination MOL2 data"
   ]
  },
  {
   "cell_type": "code",
   "execution_count": 9,
   "id": "31e9faf2",
   "metadata": {},
   "outputs": [
    {
     "name": "stdout",
     "output_type": "stream",
     "text": [
      "MOL_B_Cupr_ctrl_Adams_1\n",
      "MOL_B_Cupr_ctrl_Adams_2\n",
      "MOL_B_Cupr_ctrl_Shen_2\n",
      "MOL_B_Cupr_ctrl_Shen_1\n",
      "MOL_B_Cupr_ctrl_Shen_3\n",
      "MOL_B_Cupr_5w_2\n",
      "MOL_B_Cupr_4+3w_1\n",
      "MOL_B_Cupr_4w_3\n",
      "MOL_B_Cupr_4w_2\n",
      "MOL_B_Cupr_4+3w_3\n",
      "MOL_B_Cupr_4w_4\n",
      "MOL_B_Cupr_4+3w_2\n",
      "MOL_B_Cupr_4w_1\n",
      "MOL_E_Cupr_ctrl_Adams_1\n",
      "MOL_E_Cupr_ctrl_Shen_2\n",
      "MOL_E_Cupr_ctrl_Shen_1\n",
      "MOL_E_Cupr_5w_2\n",
      "MOL_E_Cupr_4+3w_1\n",
      "MOL_E_Cupr_4w_3\n",
      "MOL_E_Cupr_4w_2\n",
      "MOL_E_Cupr_4+3w_3\n",
      "MOL_E_Cupr_4w_4\n",
      "MOL_E_Cupr_4+3w_2\n"
     ]
    }
   ],
   "source": [
    "# Unique values in the 'condition' column\n",
    "unique_conditions = adata_sub.obs['cell_type_sample'].unique()\n",
    "for condition in unique_conditions:\n",
    "    print(condition)"
   ]
  },
  {
   "cell_type": "code",
   "execution_count": 10,
   "id": "4a947f7b",
   "metadata": {},
   "outputs": [
    {
     "name": "stdout",
     "output_type": "stream",
     "text": [
      "Dimensions of adata_sub: (6, 16589)\n"
     ]
    }
   ],
   "source": [
    "adata_sub= adata_sub[np.in1d(adata_sub.obs['cell_type_sample'], \n",
    "                           [\n",
    "                            'MOL_B_Cupr_ctrl_Shen_2',\n",
    "                            'MOL_B_Cupr_ctrl_Shen_1',\n",
    "                            'MOL_B_Cupr_ctrl_Shen_3',\n",
    "                            'MOL_E_Cupr_4+3w_3',\n",
    "                            'MOL_E_Cupr_4+3w_2',\n",
    "                            'MOL_E_Cupr_4+3w_1'\n",
    "                            #'MOL_trt_Cupr_4+3w_2',\n",
    "                           ])].copy()\n",
    "\n",
    "print(\"Dimensions of adata_sub:\", adata_sub.shape)"
   ]
  },
  {
   "cell_type": "code",
   "execution_count": 11,
   "id": "004f16ab",
   "metadata": {},
   "outputs": [],
   "source": [
    "# Check if the 'sample_rep' column exists\n",
    "if 'sample_rep' in adata_sub.obs.columns:\n",
    "    # Set the 'sample_rep' column as the index\n",
    "    adata_sub.obs.set_index('sample_rep', inplace=True)\n",
    "else:\n",
    "    print(\"The column 'sample_rep' does not exist in adata_sub.obs.\")\n",
    "\n",
    "adata_sub.obs.index.name = None"
   ]
  },
  {
   "cell_type": "code",
   "execution_count": 12,
   "id": "65c8ca68",
   "metadata": {},
   "outputs": [
    {
     "data": {
      "text/html": [
       "<div>\n",
       "<style scoped>\n",
       "    .dataframe tbody tr th:only-of-type {\n",
       "        vertical-align: middle;\n",
       "    }\n",
       "\n",
       "    .dataframe tbody tr th {\n",
       "        vertical-align: top;\n",
       "    }\n",
       "\n",
       "    .dataframe thead th {\n",
       "        text-align: right;\n",
       "    }\n",
       "</style>\n",
       "<table border=\"1\" class=\"dataframe\">\n",
       "  <thead>\n",
       "    <tr style=\"text-align: right;\">\n",
       "      <th></th>\n",
       "      <th>publication</th>\n",
       "      <th>label</th>\n",
       "      <th>cell_type</th>\n",
       "      <th>replicate_cat</th>\n",
       "      <th>sample</th>\n",
       "      <th>batch</th>\n",
       "      <th>lib_size</th>\n",
       "      <th>log_lib_size</th>\n",
       "      <th>replicate</th>\n",
       "      <th>cell_type_sample</th>\n",
       "    </tr>\n",
       "  </thead>\n",
       "  <tbody>\n",
       "    <tr>\n",
       "      <th>Cupr_ctrl_Shen_2</th>\n",
       "      <td>Shen et al. 2021</td>\n",
       "      <td>ctrl</td>\n",
       "      <td>MOL_B</td>\n",
       "      <td>3</td>\n",
       "      <td>ctrl_3</td>\n",
       "      <td>Shen</td>\n",
       "      <td>3475471</td>\n",
       "      <td>15.061241</td>\n",
       "      <td>3</td>\n",
       "      <td>MOL_B_Cupr_ctrl_Shen_2</td>\n",
       "    </tr>\n",
       "    <tr>\n",
       "      <th>Cupr_ctrl_Shen_1</th>\n",
       "      <td>Shen et al. 2021</td>\n",
       "      <td>ctrl</td>\n",
       "      <td>MOL_B</td>\n",
       "      <td>4</td>\n",
       "      <td>ctrl_4</td>\n",
       "      <td>Shen</td>\n",
       "      <td>5487794</td>\n",
       "      <td>15.518037</td>\n",
       "      <td>4</td>\n",
       "      <td>MOL_B_Cupr_ctrl_Shen_1</td>\n",
       "    </tr>\n",
       "    <tr>\n",
       "      <th>Cupr_ctrl_Shen_3</th>\n",
       "      <td>Shen et al. 2021</td>\n",
       "      <td>ctrl</td>\n",
       "      <td>MOL_B</td>\n",
       "      <td>5</td>\n",
       "      <td>ctrl_5</td>\n",
       "      <td>Shen</td>\n",
       "      <td>4794831</td>\n",
       "      <td>15.383049</td>\n",
       "      <td>5</td>\n",
       "      <td>MOL_B_Cupr_ctrl_Shen_3</td>\n",
       "    </tr>\n",
       "    <tr>\n",
       "      <th>Cupr_4+3w_1</th>\n",
       "      <td>Shen et al. 2021</td>\n",
       "      <td>stim</td>\n",
       "      <td>MOL_E</td>\n",
       "      <td>3</td>\n",
       "      <td>stim_3</td>\n",
       "      <td>Shen</td>\n",
       "      <td>38819</td>\n",
       "      <td>10.566665</td>\n",
       "      <td>3</td>\n",
       "      <td>MOL_E_Cupr_4+3w_1</td>\n",
       "    </tr>\n",
       "    <tr>\n",
       "      <th>Cupr_4+3w_3</th>\n",
       "      <td>Shen et al. 2021</td>\n",
       "      <td>stim</td>\n",
       "      <td>MOL_E</td>\n",
       "      <td>6</td>\n",
       "      <td>stim_6</td>\n",
       "      <td>Shen</td>\n",
       "      <td>426541</td>\n",
       "      <td>12.963464</td>\n",
       "      <td>6</td>\n",
       "      <td>MOL_E_Cupr_4+3w_3</td>\n",
       "    </tr>\n",
       "    <tr>\n",
       "      <th>Cupr_4+3w_2</th>\n",
       "      <td>Shen et al. 2021</td>\n",
       "      <td>stim</td>\n",
       "      <td>MOL_E</td>\n",
       "      <td>8</td>\n",
       "      <td>stim_8</td>\n",
       "      <td>Shen</td>\n",
       "      <td>395147</td>\n",
       "      <td>12.887013</td>\n",
       "      <td>8</td>\n",
       "      <td>MOL_E_Cupr_4+3w_2</td>\n",
       "    </tr>\n",
       "  </tbody>\n",
       "</table>\n",
       "</div>"
      ],
      "text/plain": [
       "                       publication label cell_type replicate_cat  sample  \\\n",
       "Cupr_ctrl_Shen_2  Shen et al. 2021  ctrl     MOL_B             3  ctrl_3   \n",
       "Cupr_ctrl_Shen_1  Shen et al. 2021  ctrl     MOL_B             4  ctrl_4   \n",
       "Cupr_ctrl_Shen_3  Shen et al. 2021  ctrl     MOL_B             5  ctrl_5   \n",
       "Cupr_4+3w_1       Shen et al. 2021  stim     MOL_E             3  stim_3   \n",
       "Cupr_4+3w_3       Shen et al. 2021  stim     MOL_E             6  stim_6   \n",
       "Cupr_4+3w_2       Shen et al. 2021  stim     MOL_E             8  stim_8   \n",
       "\n",
       "                 batch  lib_size  log_lib_size replicate  \\\n",
       "Cupr_ctrl_Shen_2  Shen   3475471     15.061241         3   \n",
       "Cupr_ctrl_Shen_1  Shen   5487794     15.518037         4   \n",
       "Cupr_ctrl_Shen_3  Shen   4794831     15.383049         5   \n",
       "Cupr_4+3w_1       Shen     38819     10.566665         3   \n",
       "Cupr_4+3w_3       Shen    426541     12.963464         6   \n",
       "Cupr_4+3w_2       Shen    395147     12.887013         8   \n",
       "\n",
       "                        cell_type_sample  \n",
       "Cupr_ctrl_Shen_2  MOL_B_Cupr_ctrl_Shen_2  \n",
       "Cupr_ctrl_Shen_1  MOL_B_Cupr_ctrl_Shen_1  \n",
       "Cupr_ctrl_Shen_3  MOL_B_Cupr_ctrl_Shen_3  \n",
       "Cupr_4+3w_1            MOL_E_Cupr_4+3w_1  \n",
       "Cupr_4+3w_3            MOL_E_Cupr_4+3w_3  \n",
       "Cupr_4+3w_2            MOL_E_Cupr_4+3w_2  "
      ]
     },
     "execution_count": 12,
     "metadata": {},
     "output_type": "execute_result"
    }
   ],
   "source": [
    "adata_sub.obs"
   ]
  },
  {
   "cell_type": "markdown",
   "id": "410e9eb5",
   "metadata": {},
   "source": [
    "# Rename the MOL clusters for NEW letter based nomenclature"
   ]
  },
  {
   "cell_type": "code",
   "execution_count": 13,
   "id": "c27be2e8",
   "metadata": {},
   "outputs": [
    {
     "name": "stdout",
     "output_type": "stream",
     "text": [
      "[[  1 172   6  65  93]\n",
      " [  0 272   7  85 163]\n",
      " [  2 279   3 124  73]\n",
      " [  0   5   0   0   6]\n",
      " [  0  29   0   1  11]]\n"
     ]
    }
   ],
   "source": [
    "#Check the counts data\n",
    "print(adata_sub.X[:5, :5])"
   ]
  },
  {
   "cell_type": "markdown",
   "id": "bb668794",
   "metadata": {},
   "source": [
    "# Start R code: QC of log transformation"
   ]
  },
  {
   "cell_type": "code",
   "execution_count": 14,
   "id": "a2639073",
   "metadata": {},
   "outputs": [
    {
     "name": "stdout",
     "output_type": "stream",
     "text": [
      "                 Group Reps Batch\n",
      "Cupr_ctrl_Shen_2  ctrl    3  Shen\n",
      "Cupr_ctrl_Shen_1  ctrl    4  Shen\n",
      "Cupr_ctrl_Shen_3  ctrl    5  Shen\n",
      "Cupr_4+3w_1       stim    3  Shen\n",
      "Cupr_4+3w_3       stim    6  Shen\n",
      "Cupr_4+3w_2       stim    8  Shen\n"
     ]
    }
   ],
   "source": [
    "%%R -i adata_sub\n",
    "\n",
    "# Concatenate label and cell type for group factor\n",
    "group <- colData(adata_sub)$label #ctrl or stim\n",
    "replicate <- colData(adata_sub)$replicate #replicate number\n",
    "batch <- colData(adata_sub)$batch\n",
    "\n",
    "treatments <- data.frame(\"Group\"=group, \"Reps\"=replicate, \"Batch\"= batch)\n",
    "print(treatments)"
   ]
  },
  {
   "cell_type": "code",
   "execution_count": 15,
   "id": "8176fc6d",
   "metadata": {},
   "outputs": [
    {
     "name": "stdout",
     "output_type": "stream",
     "text": [
      "[1] \"Dimensions before subsetting:\"\n",
      "[1] 16589     6\n",
      "\n",
      "ctrl stim \n",
      "   3    3 \n"
     ]
    }
   ],
   "source": [
    "%%R\n",
    "\n",
    "#Create a DGElist object using the anndata counts in 'X'\n",
    "x <- DGEList(assay(adata_sub, \"X\"), group=colData(adata_sub)$label)\n",
    "\n",
    "samplenames <- colnames(x$counts)\n",
    "\n",
    "print(\"Dimensions before subsetting:\")\n",
    "print(dim(x))\n",
    "\n",
    "# Check counts per group before filtering\n",
    "print(table(x$samples$group))"
   ]
  },
  {
   "cell_type": "code",
   "execution_count": 16,
   "id": "51d70f20",
   "metadata": {},
   "outputs": [
    {
     "name": "stdout",
     "output_type": "stream",
     "text": [
      "[1] ctrl ctrl ctrl stim stim stim\n",
      "Levels: ctrl stim\n"
     ]
    }
   ],
   "source": [
    "%%R\n",
    "\n",
    "cd <- x$samples$group\n",
    "print(cd)"
   ]
  },
  {
   "cell_type": "code",
   "execution_count": 17,
   "id": "da9c93cd",
   "metadata": {},
   "outputs": [
    {
     "name": "stdout",
     "output_type": "stream",
     "text": [
      "  cdctrl cdstim\n",
      "1      1      0\n",
      "2      1      0\n",
      "3      1      0\n",
      "4      0      1\n",
      "5      0      1\n",
      "6      0      1\n",
      "attr(,\"assign\")\n",
      "[1] 1 1\n",
      "attr(,\"contrasts\")\n",
      "attr(,\"contrasts\")$cd\n",
      "[1] \"contr.treatment\"\n",
      "\n"
     ]
    }
   ],
   "source": [
    "%%R\n",
    "\n",
    "# Adjust for batch-- ie publication in the model matrix\n",
    "design <- model.matrix(~0 + cd)\n",
    "design"
   ]
  },
  {
   "cell_type": "code",
   "execution_count": 18,
   "id": "9cdb62d1",
   "metadata": {},
   "outputs": [
    {
     "name": "stdout",
     "output_type": "stream",
     "text": [
      "[1] 9013    6\n"
     ]
    }
   ],
   "source": [
    "%%R\n",
    "\n",
    "# More strict removal of genes, tried group, pub and batch\n",
    "keep.expr <- filterByExpr(x, design)\n",
    "x2 <- x[keep.expr,, keep.lib.sizes=FALSE]\n",
    "dim(x2)"
   ]
  },
  {
   "cell_type": "code",
   "execution_count": 19,
   "id": "6af80e65",
   "metadata": {},
   "outputs": [
    {
     "name": "stdout",
     "output_type": "stream",
     "text": [
      "[1] 4890    6\n"
     ]
    }
   ],
   "source": [
    "%%R\n",
    "\n",
    "## OLD DON\"T USE THIS\n",
    "\n",
    "keep.exprs <- filterByExpr(x, group=batch)\n",
    "b <- x[keep.exprs,, keep.lib.sizes=FALSE]\n",
    "dim(b)"
   ]
  },
  {
   "cell_type": "code",
   "execution_count": 20,
   "id": "eff91fce",
   "metadata": {},
   "outputs": [
    {
     "name": "stdout",
     "output_type": "stream",
     "text": [
      "[1] 2.413261 1.930503\n"
     ]
    }
   ],
   "source": [
    "%%R\n",
    "#X is before trimming, Y is after trimming\n",
    "L <- mean(x2$samples$lib.size) * 1e-6\n",
    "M <- median(x2$samples$lib.size) * 1e-6\n",
    "c(L, M)"
   ]
  },
  {
   "cell_type": "code",
   "execution_count": 21,
   "id": "ed52de22",
   "metadata": {},
   "outputs": [
    {
     "name": "stdout",
     "output_type": "stream",
     "text": [
      "[1] 0.9923497 0.9661037 0.9244892 1.3410176 0.9355995 0.8992598\n"
     ]
    }
   ],
   "source": [
    "%%R\n",
    "## Calc norm factors before to normalize library sizes, then cpm divides counts by lib sizes\n",
    "#X is before trimming, Y is after trimming, X2 is also trimmed but differently\n",
    "x2 <- calcNormFactors(x2, method = \"TMM\")\n",
    "x2$samples$norm.factors"
   ]
  },
  {
   "cell_type": "code",
   "execution_count": 22,
   "id": "995a9487",
   "metadata": {},
   "outputs": [],
   "source": [
    "%%R\n",
    "#X2 is the norm lib sizes and trimmed\n",
    "cpm <- edgeR::cpm(x2, log=FALSE, prior.counts=3)\n",
    "lcpm <- edgeR::cpm(x2, log=TRUE, prior.count=3)"
   ]
  },
  {
   "cell_type": "code",
   "execution_count": 23,
   "id": "1c21200d",
   "metadata": {},
   "outputs": [
    {
     "data": {
      "image/png": "[encoded data removed]",
      "text/plain": [
       "<IPython.core.display.Image object>"
      ]
     },
     "metadata": {},
     "output_type": "display_data"
    }
   ],
   "source": [
    "%%R\n",
    "lcpm.cutoff <- log2(10/M + 2/L)\n",
    "library(RColorBrewer)\n",
    "nsamples <- ncol(x2)\n",
    "col <- brewer.pal(nsamples, \"Paired\")\n",
    "\n",
    "par(mfrow=c(1,2))\n",
    "\n",
    "lcpm <- edgeR::cpm(x, log=TRUE)\n",
    "plot(density(lcpm[,1]), col=col[1], lwd=2, ylim=c(0,0.35), las=2, main=\"\", xlab=\"\")\n",
    "title(main=\"A. Raw data\", xlab=\"Log-cpm\")\n",
    "abline(v=lcpm.cutoff, lty=3)\n",
    "for (i in 2:nsamples){\n",
    "  den <- density(lcpm[,i])\n",
    "  lines(den$x, den$y, col=col[i], lwd=2)\n",
    "}\n",
    "legend(\"topright\", samplenames, text.col=col, bty=\"n\")\n",
    "\n",
    "lcpm <- edgeR::cpm(x2, log=TRUE)\n",
    "plot(density(lcpm[,1]), col=col[1], lwd=2, ylim=c(0,0.25), las=2, main=\"\", xlab=\"\")\n",
    "title(main=\"B. Filtered data\", xlab=\"Log-cpm\")\n",
    "abline(v=lcpm.cutoff, lty=3)\n",
    "for (i in 2:nsamples){\n",
    "  den <- density(lcpm[,i])\n",
    "  lines(den$x, den$y, col=col[i], lwd=2)\n",
    "}\n",
    "legend(\"topright\", samplenames, text.col=col, bty=\"n\")"
   ]
  },
  {
   "cell_type": "code",
   "execution_count": 24,
   "id": "0a231181",
   "metadata": {},
   "outputs": [
    {
     "data": {
      "image/png": "[encoded data removed]",
      "text/plain": [
       "<IPython.core.display.Image object>"
      ]
     },
     "metadata": {},
     "output_type": "display_data"
    }
   ],
   "source": [
    "%%R\n",
    "y2 <- x2\n",
    "y2$samples$norm.factors <- 1\n",
    "y2$counts[,1] <- ceiling(y2$counts[,1]*0.05)\n",
    "y2$counts[,2] <- y2$counts[,2]*5\n",
    "\n",
    "par(mfrow=c(1,2))\n",
    "lcpm <- edgeR::cpm(y2, log=TRUE)\n",
    "boxplot(lcpm, las=2, col=col, main=\"\")\n",
    "title(main=\"Unnormalised data\", ylab=\"Log-cpm\")\n",
    "\n",
    "y3 <- calcNormFactors(y2)\n",
    "y3$samples$norm.factors\n",
    "\n",
    "lcpm <- edgeR::cpm(y3, log=TRUE)\n",
    "boxplot(lcpm, las=2, col=col, main=\"\")\n",
    "title(main=\"Normalised data\", ylab=\"Log-cpm\")"
   ]
  },
  {
   "cell_type": "markdown",
   "id": "6ededd16",
   "metadata": {},
   "source": [
    "# Show how log transf + batch removal affects the separation of samples:"
   ]
  },
  {
   "cell_type": "code",
   "execution_count": 25,
   "id": "50f77fc0",
   "metadata": {},
   "outputs": [
    {
     "name": "stdout",
     "output_type": "stream",
     "text": [
      "[1] ctrl ctrl ctrl stim stim stim\n",
      "Levels: ctrl stim\n"
     ]
    }
   ],
   "source": [
    "%%R\n",
    "cd <- x2$samples$group\n",
    "print(cd)"
   ]
  },
  {
   "cell_type": "code",
   "execution_count": 26,
   "id": "2e68e94f",
   "metadata": {},
   "outputs": [],
   "source": [
    "%%R\n",
    "#Make new count matrix with log counts and DGE data from X2 (trimmed, normfactors)\n",
    "x3 <- x2\n",
    "x3$counts <- lcpm"
   ]
  },
  {
   "cell_type": "code",
   "execution_count": 27,
   "id": "4f317f45",
   "metadata": {},
   "outputs": [
    {
     "data": {
      "image/png": "[encoded data removed]",
      "text/plain": [
       "<IPython.core.display.Image object>"
      ]
     },
     "metadata": {},
     "output_type": "display_data"
    }
   ],
   "source": [
    "%%R\n",
    "# Assuming 'group' is stored in y$samples dataframe\n",
    "group <- x2$samples$group\n",
    "\n",
    "# Generate a numeric vector from group factors (if not already factor, convert it)\n",
    "group_factor <- as.factor(group)\n",
    "group_colors <- as.numeric(group_factor)  # This converts factors to unique integers\n",
    "\n",
    "# Define a set of colors corresponding to the factors\n",
    "# Example: If you have two groups, you could define two colors\n",
    "colors <- c(\"blue\", \"red\")  # Adjust the number and colors based on your actual groups\n",
    "\n",
    "# Use these colors in your plotMDS\n",
    "plotMDS(x2, col = colors[group_colors])\n",
    "\n",
    "# Adding a legend for clarity\n",
    "legend(\"topright\", legend=levels(group_factor), fill=colors, title=\"Group\")"
   ]
  },
  {
   "cell_type": "code",
   "execution_count": 28,
   "id": "a3c165e9",
   "metadata": {},
   "outputs": [
    {
     "name": "stdout",
     "output_type": "stream",
     "text": [
      "  cdctrl cdstim\n",
      "1      1      0\n",
      "2      1      0\n",
      "3      1      0\n",
      "4      0      1\n",
      "5      0      1\n",
      "6      0      1\n",
      "attr(,\"assign\")\n",
      "[1] 1 1\n",
      "attr(,\"contrasts\")\n",
      "attr(,\"contrasts\")$cd\n",
      "[1] \"contr.treatment\"\n",
      "\n"
     ]
    }
   ],
   "source": [
    "%%R\n",
    "# Adjust for batch-- ie publication in the model matrix\n",
    "design <- model.matrix(~0 + cd)\n",
    "design"
   ]
  },
  {
   "cell_type": "code",
   "execution_count": 29,
   "id": "ebd3bc3a",
   "metadata": {},
   "outputs": [
    {
     "name": "stdout",
     "output_type": "stream",
     "text": [
      "        Contrasts\n",
      "Levels   cdstim - cdctrl\n",
      "  cdctrl              -1\n",
      "  cdstim               1\n"
     ]
    }
   ],
   "source": [
    "%%R\n",
    "contr.matrix <- makeContrasts(cdstim - cdctrl, levels = colnames(design))\n",
    "contr.matrix"
   ]
  },
  {
   "cell_type": "code",
   "execution_count": 30,
   "id": "93bc6589",
   "metadata": {},
   "outputs": [],
   "source": [
    "%%R\n",
    "# Convert to CPM and log2 transformation. \n",
    "logCPM <- edgeR::cpm(x2, log=TRUE, prior.count=3)"
   ]
  },
  {
   "cell_type": "code",
   "execution_count": 31,
   "id": "aca27a7e",
   "metadata": {},
   "outputs": [
    {
     "data": {
      "image/png": "[encoded data removed]",
      "text/plain": [
       "<IPython.core.display.Image object>"
      ]
     },
     "metadata": {},
     "output_type": "display_data"
    }
   ],
   "source": [
    "%%R\n",
    "heatmap(logCPM)"
   ]
  },
  {
   "cell_type": "markdown",
   "id": "49ffd9bc",
   "metadata": {},
   "source": [
    "# Lets try with voom:"
   ]
  },
  {
   "cell_type": "code",
   "execution_count": 32,
   "id": "9961211b",
   "metadata": {},
   "outputs": [
    {
     "name": "stdout",
     "output_type": "stream",
     "text": [
      "  cdctrl cdstim\n",
      "1      1      0\n",
      "2      1      0\n",
      "3      1      0\n",
      "4      0      1\n",
      "5      0      1\n",
      "6      0      1\n",
      "attr(,\"assign\")\n",
      "[1] 1 1\n",
      "attr(,\"contrasts\")\n",
      "attr(,\"contrasts\")$cd\n",
      "[1] \"contr.treatment\"\n",
      "\n"
     ]
    }
   ],
   "source": [
    "%%R\n",
    "# Adjust for batch-- ie publication in the model matrix\n",
    "design <- model.matrix(~0 + cd)\n",
    "design"
   ]
  },
  {
   "cell_type": "code",
   "execution_count": 33,
   "id": "e26e5510",
   "metadata": {},
   "outputs": [
    {
     "name": "stdout",
     "output_type": "stream",
     "text": [
      "        Contrasts\n",
      "Levels   cdstim - cdctrl\n",
      "  cdctrl              -1\n",
      "  cdstim               1\n"
     ]
    }
   ],
   "source": [
    "%%R\n",
    "contr.matrix <- makeContrasts(cdstim - cdctrl, levels = colnames(design))\n",
    "contr.matrix"
   ]
  },
  {
   "cell_type": "code",
   "execution_count": 34,
   "id": "37e49e48",
   "metadata": {},
   "outputs": [
    {
     "data": {
      "image/png": "[encoded data removed]",
      "text/plain": [
       "<IPython.core.display.Image object>"
      ]
     },
     "metadata": {},
     "output_type": "display_data"
    }
   ],
   "source": [
    "%%R\n",
    "y <- voom(x2$counts, design, plot=TRUE, lib.size=colSums(x2$counts)*x2$samples$norm.factors)"
   ]
  },
  {
   "cell_type": "code",
   "execution_count": 35,
   "id": "332ae228",
   "metadata": {},
   "outputs": [
    {
     "name": "stdout",
     "output_type": "stream",
     "text": [
      "                cdctrl   cdstim\n",
      "0610009B22Rik 5.783775 6.052608\n",
      "0610009L18Rik 4.368270 2.394322\n",
      "0610010F05Rik 4.601137 4.845469\n",
      "0610010K14Rik 6.601511 6.532694\n",
      "0610012G03Rik 6.712453 6.695621\n",
      "0610030E20Rik 4.627528 4.182927\n"
     ]
    }
   ],
   "source": [
    "%%R\n",
    "fit <- lmFit(y, design)\n",
    "head(coef(fit))"
   ]
  },
  {
   "cell_type": "code",
   "execution_count": 36,
   "id": "5f71c8bb",
   "metadata": {},
   "outputs": [
    {
     "data": {
      "image/png": "[encoded data removed]",
      "text/plain": [
       "<IPython.core.display.Image object>"
      ]
     },
     "metadata": {},
     "output_type": "display_data"
    }
   ],
   "source": [
    "%%R\n",
    "contr <- makeContrasts(cdstim - cdctrl, levels = colnames(coef(fit)))\n",
    "tmp <- contrasts.fit(fit, contr)\n",
    "tmp2 <- eBayes(tmp)\n",
    "\n",
    "plotSA(tmp2, xlab = \"Average log-expression\", ylab = \"sqrt(sigma)\", zero.weights = FALSE,\n",
    "       pch = 16, cex = 0.3, col = c(\"black\",\"red\"))"
   ]
  },
  {
   "cell_type": "code",
   "execution_count": 37,
   "id": "42211391",
   "metadata": {},
   "outputs": [
    {
     "name": "stdout",
     "output_type": "stream",
     "text": [
      "             logFC  AveExpr         t      P.Value    adj.P.Val         B\n",
      "C4b       6.137261 5.818624 18.285776 2.682680e-09 2.417899e-05 10.579028\n",
      "Piezo2    6.241072 3.705541 14.660212 2.515039e-08 1.133402e-04  7.479602\n",
      "Slc9a3r2  3.683479 6.796896 13.700845 4.953234e-08 1.488117e-04  8.829377\n",
      "Serpina3n 9.137080 3.790188 13.244481 6.942416e-08 1.564300e-04  5.655664\n",
      "Masp1     4.671261 4.733943 11.645497 2.474111e-07 4.459833e-04  6.964332\n",
      "Rab3b     3.655440 4.095090  9.982830 1.101098e-06 1.654033e-03  5.534826\n",
      "Col23a1   5.038178 3.322188  9.726485 1.411673e-06 1.817629e-03  4.908165\n",
      "Srd5a1    2.361319 6.226401  8.957402 3.075691e-06 3.465150e-03  5.051774\n",
      "Tma16     2.343679 6.806274  8.660291 4.214999e-06 3.842006e-03  4.771627\n",
      "Shisa8    2.630342 5.593980  8.649816 4.262738e-06 3.842006e-03  4.701774\n"
     ]
    }
   ],
   "source": [
    "%%R\n",
    "# Retrieve the top results without sorting by p-value directly\n",
    "tt <- topTable(tmp2, sort.by = \"P\", n = Inf)\n",
    "head(tt, 10)"
   ]
  },
  {
   "cell_type": "code",
   "execution_count": 38,
   "id": "d9e96826",
   "metadata": {},
   "outputs": [
    {
     "name": "stdout",
     "output_type": "stream",
     "text": [
      "[1] 29\n"
     ]
    }
   ],
   "source": [
    "%%R\n",
    "length(which(tt$adj.P.Val < 0.05))"
   ]
  },
  {
   "cell_type": "code",
   "execution_count": 39,
   "id": "3a7a0bb5",
   "metadata": {},
   "outputs": [
    {
     "name": "stdout",
     "output_type": "stream",
     "text": [
      "[1] 29\n"
     ]
    }
   ],
   "source": [
    "%%R\n",
    "# Calculate the number of genes with adj.P.Val < 0.05 and |logFC| > 1\n",
    "significant_genes <- tt[tt$adj.P.Val < 0.05 & abs(tt$logFC) > 0.7, ]\n",
    "num_significant_genes <- nrow(significant_genes)\n",
    "\n",
    "# Print the number of significant genes\n",
    "print(num_significant_genes)"
   ]
  },
  {
   "cell_type": "code",
   "execution_count": 40,
   "id": "468b2a5a",
   "metadata": {},
   "outputs": [
    {
     "name": "stdout",
     "output_type": "stream",
     "text": [
      "[1] 25\n",
      "             logFC  AveExpr         t      P.Value    adj.P.Val         B\n",
      "Serpina3n 9.137080 3.790188 13.244481 6.942416e-08 1.564300e-04  5.655664\n",
      "Piezo2    6.241072 3.705541 14.660212 2.515039e-08 1.133402e-04  7.479602\n",
      "C4b       6.137261 5.818624 18.285776 2.682680e-09 2.417899e-05 10.579028\n",
      "Col23a1   5.038178 3.322188  9.726485 1.411673e-06 1.817629e-03  4.908165\n",
      "Masp1     4.671261 4.733943 11.645497 2.474111e-07 4.459833e-04  6.964332\n",
      "Klk6      4.603915 4.742543  8.029653 8.466806e-06 5.843332e-03  4.002461\n"
     ]
    }
   ],
   "source": [
    "%%R\n",
    "# Calculate the number of genes with adj.P.Val < 0.05 and |logFC| > 1\n",
    "genes_up <- tt[tt$adj.P.Val < 0.05 & tt$logFC > 1, ]\n",
    "num_genes_up <- nrow(genes_up)\n",
    "\n",
    "# Print the number of significant genes\n",
    "print(num_genes_up)\n",
    "\n",
    "genes_up_sorted <- genes_up[order(genes_up$logFC, decreasing = TRUE), ]\n",
    "\n",
    "# View the head of the significant genes data frame\n",
    "head(genes_up_sorted)"
   ]
  },
  {
   "cell_type": "code",
   "execution_count": 41,
   "id": "f1b8abb6",
   "metadata": {},
   "outputs": [
    {
     "name": "stdout",
     "output_type": "stream",
     "text": [
      "[1] \"Gene is in the index of genes_up_sorted\"\n"
     ]
    }
   ],
   "source": [
    "%%R\n",
    "if ('Gfap' %in% rownames(genes_up_sorted)) {\n",
    "    print(\"Gene is in the index of genes_up_sorted\")\n",
    "} else {\n",
    "    print(\"Gene is not in the index of genes_up_sorted\")\n",
    "}"
   ]
  },
  {
   "cell_type": "code",
   "execution_count": 42,
   "id": "755c2e81",
   "metadata": {},
   "outputs": [
    {
     "name": "stdout",
     "output_type": "stream",
     "text": [
      "[1] \"Gene is not in the index of genes_up_sorted\"\n"
     ]
    }
   ],
   "source": [
    "%%R\n",
    "if ('Klk8' %in% rownames(genes_up_sorted)) {\n",
    "    print(\"Gene is in the index of genes_up_sorted\")\n",
    "} else {\n",
    "    print(\"Gene is not in the index of genes_up_sorted\")\n",
    "}"
   ]
  },
  {
   "cell_type": "code",
   "execution_count": 43,
   "id": "d7c5c9da",
   "metadata": {},
   "outputs": [
    {
     "name": "stdout",
     "output_type": "stream",
     "text": [
      "[1] 4\n",
      "                  logFC  AveExpr         t      P.Value   adj.P.Val        B\n",
      "Spock3        -4.083412 6.525730 -7.968739 9.076517e-06 0.005843332 3.817484\n",
      "Rbm3          -3.505643 6.029755 -7.693018 1.249632e-05 0.007039334 3.320795\n",
      "9330111N05Rik -2.940850 5.472197 -5.756363 1.525235e-04 0.047403261 1.234116\n",
      "Ndrg2         -2.495739 5.805704 -5.785455 1.463667e-04 0.047403261 1.306164\n"
     ]
    }
   ],
   "source": [
    "%%R\n",
    "# Calculate the number of genes with adj.P.Val < 0.05 and |logFC| > 1\n",
    "genes_down <- tt[tt$adj.P.Val < 0.05 & tt$logFC < -1, ]\n",
    "num_genes_down <- nrow(genes_down)\n",
    "\n",
    "# Print the number of significant genes\n",
    "print(num_genes_down)\n",
    "\n",
    "genes_down_sorted <- genes_down[order(genes_down$logFC, decreasing = FALSE), ]\n",
    "\n",
    "# View the head of the significant genes data frame\n",
    "head(genes_down_sorted)"
   ]
  },
  {
   "cell_type": "markdown",
   "id": "1b41e769",
   "metadata": {},
   "source": [
    "# If output --> change name!"
   ]
  },
  {
   "cell_type": "code",
   "execution_count": null,
   "id": "b2c75cb2",
   "metadata": {},
   "outputs": [],
   "source": [
    "%%R\n",
    "# Add row names as a new column\n",
    "tt$gene <- rownames(tt)\n",
    "\n",
    "# Optionally reorder or select columns\n",
    "tt <- tt[, c(\"gene\", names(tt)[1:6])]\n",
    "\n",
    "# Write to CSV file\n",
    "write.table(tt, file = \"./files/Cupr_remyel_MOL_BvE_voom_NEW.csv\", \n",
    "            row.names = FALSE, sep = \",\", quote = FALSE)"
   ]
  },
  {
   "cell_type": "markdown",
   "id": "6892f822",
   "metadata": {},
   "source": [
    "# Try voom wqw "
   ]
  },
  {
   "cell_type": "code",
   "execution_count": 44,
   "id": "ebc2879a",
   "metadata": {},
   "outputs": [
    {
     "data": {
      "image/png": "[encoded data removed]",
      "text/plain": [
       "<IPython.core.display.Image object>"
      ]
     },
     "metadata": {},
     "output_type": "display_data"
    }
   ],
   "source": [
    "%%R\n",
    "\n",
    "y_vqw_full <- voomWithQualityWeights(x2$counts, design, plot=TRUE)"
   ]
  },
  {
   "cell_type": "code",
   "execution_count": 45,
   "id": "d869fdc8",
   "metadata": {},
   "outputs": [],
   "source": [
    "%%R\n",
    "\n",
    "fit <- lmFit(y_vqw_full, design)"
   ]
  },
  {
   "cell_type": "code",
   "execution_count": 46,
   "id": "6918fbd5",
   "metadata": {},
   "outputs": [
    {
     "data": {
      "image/png": "[encoded data removed]",
      "text/plain": [
       "<IPython.core.display.Image object>"
      ]
     },
     "metadata": {},
     "output_type": "display_data"
    }
   ],
   "source": [
    "%%R\n",
    "\n",
    "tmp <- contrasts.fit(fit, contr)\n",
    "tmp2 <- eBayes(tmp)\n",
    "tt_full <- topTable(tmp2, sort.by = \"P\", n = Inf)\n",
    "\n",
    "plotSA(tmp2, xlab = \"Average log-expression\", ylab = \"sqrt(sigma)\", zero.weights = FALSE,\n",
    "       pch = 16, cex = 0.3, col = c(\"black\",\"red\"))"
   ]
  },
  {
   "cell_type": "code",
   "execution_count": 47,
   "id": "d1b33518",
   "metadata": {},
   "outputs": [
    {
     "name": "stdout",
     "output_type": "stream",
     "text": [
      "             logFC  AveExpr         t      P.Value    adj.P.Val         B\n",
      "C4b       6.151585 5.818622 19.992477 1.829276e-10 1.648726e-06 12.354263\n",
      "Serpina3n 9.161969 3.790186 14.696618 6.051824e-09 2.264151e-05  6.628610\n",
      "Slc9a3r2  3.657372 6.796894 14.412089 7.536286e-09 2.264151e-05 10.233557\n",
      "Piezo2    6.243185 3.705540 13.482177 1.587673e-08 3.577424e-05  7.746953\n",
      "Masp1     4.699260 4.733942 11.773052 7.089986e-08 1.278041e-04  7.671355\n",
      "Col23a1   5.072988 3.322187  9.577084 6.530516e-07 9.809924e-04  5.287208\n",
      "Klk6      4.744174 4.742541  8.993505 1.261952e-06 1.624854e-03  5.528016\n",
      "Rab3b     3.656671 4.095089  8.814232 1.555255e-06 1.752189e-03  5.030166\n",
      "Tma16     2.323287 6.806272  8.463310 2.363577e-06 2.337598e-03  5.205041\n",
      "Marcksl1  1.882014 8.330468  8.386879 2.593584e-06 2.337598e-03  5.170486\n"
     ]
    }
   ],
   "source": [
    "%%R\n",
    "\n",
    "# Retrieve the top results without sorting by p-value directly\n",
    "tt <- topTable(tmp2, sort.by = \"P\", n = Inf)\n",
    "head(tt, 10)"
   ]
  },
  {
   "cell_type": "code",
   "execution_count": 48,
   "id": "bf2f1672",
   "metadata": {},
   "outputs": [
    {
     "name": "stdout",
     "output_type": "stream",
     "text": [
      "[1] 25\n"
     ]
    }
   ],
   "source": [
    "%%R\n",
    "length(which(tt$adj.P.Val < 0.05))"
   ]
  },
  {
   "cell_type": "code",
   "execution_count": 49,
   "id": "174f3381",
   "metadata": {},
   "outputs": [
    {
     "name": "stdout",
     "output_type": "stream",
     "text": [
      "[1] 23\n",
      "             logFC  AveExpr         t      P.Value    adj.P.Val         B\n",
      "Serpina3n 9.161969 3.790186 14.696618 6.051824e-09 2.264151e-05  6.628610\n",
      "Piezo2    6.243185 3.705540 13.482177 1.587673e-08 3.577424e-05  7.746953\n",
      "C4b       6.151585 5.818622 19.992477 1.829276e-10 1.648726e-06 12.354263\n",
      "Col23a1   5.072988 3.322187  9.577084 6.530516e-07 9.809924e-04  5.287208\n",
      "Klk6      4.744174 4.742541  8.993505 1.261952e-06 1.624854e-03  5.528016\n",
      "Masp1     4.699260 4.733942 11.773052 7.089986e-08 1.278041e-04  7.671355\n"
     ]
    }
   ],
   "source": [
    "%%R\n",
    "\n",
    "# Calculate the number of genes with adj.P.Val < 0.05 and |logFC| > 1\n",
    "genes_up <- tt[tt$adj.P.Val < 0.05 & tt$logFC > 0.7, ]\n",
    "num_genes_up <- nrow(genes_up)\n",
    "\n",
    "# Print the number of significant genes\n",
    "print(num_genes_up)\n",
    "\n",
    "genes_up_sorted <- genes_up[order(genes_up$logFC, decreasing = TRUE), ]\n",
    "\n",
    "# View the head of the significant genes data frame\n",
    "head(genes_up_sorted)"
   ]
  },
  {
   "cell_type": "code",
   "execution_count": 50,
   "id": "78b1132a",
   "metadata": {},
   "outputs": [
    {
     "name": "stdout",
     "output_type": "stream",
     "text": [
      "[1] 2\n",
      "           logFC  AveExpr         t      P.Value   adj.P.Val        B\n",
      "Spock3 -4.003635 6.525728 -7.513672 7.845635e-06 0.005892725 3.818885\n",
      "Rbm3   -3.514421 6.029754 -6.237390 4.674263e-05 0.023405073 1.890555\n"
     ]
    }
   ],
   "source": [
    "%%R\n",
    "\n",
    "# Calculate the number of genes with adj.P.Val < 0.05 and |logFC| > 1\n",
    "genes_down <- tt[tt$adj.P.Val < 0.05 & tt$logFC < -0.7, ]\n",
    "num_genes_down <- nrow(genes_down)\n",
    "\n",
    "# Print the number of significant genes\n",
    "print(num_genes_down)\n",
    "\n",
    "genes_down_sorted <- genes_down[order(genes_down$logFC, decreasing = FALSE), ]\n",
    "\n",
    "# View the head of the significant genes data frame\n",
    "head(genes_down_sorted)"
   ]
  },
  {
   "cell_type": "markdown",
   "id": "75c58740",
   "metadata": {},
   "source": [
    "## Save output"
   ]
  },
  {
   "cell_type": "code",
   "execution_count": 51,
   "id": "62d254b3",
   "metadata": {},
   "outputs": [],
   "source": [
    "%%R\n",
    "# Add row names as a new column\n",
    "tt$gene <- rownames(tt)\n",
    "\n",
    "# Optionally reorder or select columns\n",
    "tt <- tt[, c(\"gene\", names(tt)[1:6])]\n",
    "\n",
    "# Write to CSV file\n",
    "write.table(tt, file = \"./files/Cupr_remyel_MOL_BvE_voom_wqw.csv\", \n",
    "            row.names = FALSE, sep = \",\", quote = FALSE)"
   ]
  },
  {
   "cell_type": "markdown",
   "id": "12cf7f36",
   "metadata": {},
   "source": [
    "# Check LR Pair Overlap"
   ]
  },
  {
   "cell_type": "code",
   "execution_count": null,
   "id": "5bf5c4f2",
   "metadata": {},
   "outputs": [],
   "source": [
    "import liana as li\n",
    "lr_pairs = li.resource.select_resource('mouseconsensus')\n",
    "lr_pairs.head()"
   ]
  },
  {
   "cell_type": "code",
   "execution_count": null,
   "id": "4bd741b5",
   "metadata": {},
   "outputs": [],
   "source": [
    "DEG_all = pd.read_csv('./files/Cupr_remyel_MOL_BvE_voom_FINAL.csv', index_col=None)\n",
    "DEG_all.rename(columns={'adj.P.Val': 'Padj'}, inplace=True)\n",
    "DEG_all.rename(columns={'P.Value': 'Pvalue'}, inplace=True)\n",
    "DEG_all.shape"
   ]
  },
  {
   "cell_type": "code",
   "execution_count": null,
   "id": "deead233",
   "metadata": {},
   "outputs": [],
   "source": [
    "sigs = DEG_all[(DEG_all.Padj < 0.05) & (abs(DEG_all.logFC) >= 1)]\n",
    "sigs.shape"
   ]
  },
  {
   "cell_type": "code",
   "execution_count": null,
   "id": "be26c26a",
   "metadata": {},
   "outputs": [],
   "source": [
    "# Step 1: Convert ligands and receptors to a list\n",
    "ligands = lr_pairs['ligand'].tolist()\n",
    "receptors = lr_pairs['receptor'].tolist()\n",
    "\n",
    "# Step 2: Filter DEGs from 'sigs'\n",
    "degs = set(sigs['gene'])  # Create a set for faster lookup\n",
    "\n",
    "# Step 3: Check which ligand-receptor pairs have both ligands and receptors as DEGs\n",
    "matched_pairs = lr_pairs[(lr_pairs['ligand'].isin(degs)) & (lr_pairs['receptor'].isin(degs))]\n",
    "\n",
    "# Step 4: Count the matched pairs\n",
    "num_matched_pairs = matched_pairs.shape[0]\n",
    "\n",
    "# Output the result\n",
    "print(f'Total ligand-receptor pairs where both are differentially expressed: {num_matched_pairs}')\n",
    "\n",
    "# Step 5: Optional - view the matched pairs with direction of change\n",
    "matched_pairs_with_logFC = matched_pairs.merge(sigs[['gene', 'logFC']], left_on='ligand', right_on='gene', how='left')\\\n",
    "                                        .merge(sigs[['gene', 'logFC']], left_on='receptor', right_on='gene', how='left', suffixes=('_ligand', '_receptor'))\n",
    "\n",
    "# Sorting the table by 'logFC_ligand' in descending order\n",
    "sorted_table = matched_pairs_with_logFC.sort_values(by='logFC_ligand', ascending=False)\n",
    "\n",
    "# Displaying the sorted table with the selected columns\n",
    "sorted_table[['ligand', 'receptor', 'logFC_ligand', 'logFC_receptor']]"
   ]
  },
  {
   "cell_type": "code",
   "execution_count": null,
   "id": "82a7c323",
   "metadata": {},
   "outputs": [],
   "source": [
    "sigs_up = DEG_all[(DEG_all.Padj < 0.05) & (DEG_all.logFC >= 1)]\n",
    "sigs_up.shape"
   ]
  },
  {
   "cell_type": "code",
   "execution_count": null,
   "id": "aecc346a",
   "metadata": {},
   "outputs": [],
   "source": [
    "# Step 1: Convert ligands and receptors to a list\n",
    "ligands = lr_pairs['ligand'].tolist()\n",
    "receptors = lr_pairs['receptor'].tolist()\n",
    "\n",
    "# Step 2: Filter DEGs from 'sigs'\n",
    "degs = set(sigs_up['gene'])  # Create a set for faster lookup\n",
    "\n",
    "# Step 3: Check which ligand-receptor pairs have both ligands and receptors as DEGs\n",
    "matched_pairs = lr_pairs[(lr_pairs['ligand'].isin(degs)) & (lr_pairs['receptor'].isin(degs))]\n",
    "\n",
    "# Step 4: Count the matched pairs\n",
    "num_matched_pairs = matched_pairs.shape[0]\n",
    "\n",
    "# Output the result\n",
    "print(f'Total ligand-receptor pairs where both are differentially expressed: {num_matched_pairs}')\n",
    "\n",
    "# Step 5: Optional - view the matched pairs with direction of change\n",
    "matched_pairs_with_logFC = matched_pairs.merge(sigs[['gene', 'logFC']], left_on='ligand', right_on='gene', how='left')\\\n",
    "                                        .merge(sigs[['gene', 'logFC']], left_on='receptor', right_on='gene', how='left', suffixes=('_ligand', '_receptor'))\n",
    "\n",
    "# Sorting the table by 'logFC_ligand' in descending order\n",
    "sorted_table = matched_pairs_with_logFC.sort_values(by='logFC_ligand', ascending=False)\n",
    "\n",
    "# Displaying the sorted table with the selected columns\n",
    "sorted_table[['ligand', 'receptor', 'logFC_ligand', 'logFC_receptor']]"
   ]
  },
  {
   "cell_type": "code",
   "execution_count": null,
   "id": "7362c0d6",
   "metadata": {},
   "outputs": [],
   "source": [
    "sorted_table[['ligand', 'receptor', 'logFC_ligand', 'logFC_receptor']].to_csv('output_table.tsv', sep='\\t', index=False)"
   ]
  },
  {
   "cell_type": "code",
   "execution_count": null,
   "id": "d77203eb",
   "metadata": {},
   "outputs": [],
   "source": []
  }
 ],
 "metadata": {
  "kernelspec": {
   "display_name": "Python 3 (ipykernel)",
   "language": "python",
   "name": "python3"
  },
  "language_info": {
   "codemirror_mode": {
    "name": "ipython",
    "version": 3
   },
   "file_extension": ".py",
   "mimetype": "text/x-python",
   "name": "python",
   "nbconvert_exporter": "python",
   "pygments_lexer": "ipython3",
   "version": "3.11.11"
  }
 },
 "nbformat": 4,
 "nbformat_minor": 5
}
